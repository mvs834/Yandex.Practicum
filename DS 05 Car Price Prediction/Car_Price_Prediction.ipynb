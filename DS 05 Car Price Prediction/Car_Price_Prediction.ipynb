{
  "cells": [
    {
      "attachments": {},
      "cell_type": "markdown",
      "metadata": {
        "id": "YktRFfSleRFH"
      },
      "source": [
        "# Car Price Prediction"
      ]
    },
    {
      "attachments": {},
      "cell_type": "markdown",
      "metadata": {
        "id": "or8y3VS9eRFI"
      },
      "source": [
        "To determine the market value of a car, it is essential to analyze historical data, which should encompass key factors such as technical specifications, available features, and prices of similar vehicles."
      ]
    },
    {
      "attachments": {},
      "cell_type": "markdown",
      "metadata": {
        "id": "Ej9hZH4DeRFL"
      },
      "source": [
        "## Data Preparation"
      ]
    },
    {
      "cell_type": "code",
      "execution_count": 3,
      "metadata": {
        "id": "JlP2Z6kgeRFL"
      },
      "outputs": [],
      "source": [
        "import warnings\n",
        "\n",
        "warnings.filterwarnings(\"ignore\")"
      ]
    },
    {
      "cell_type": "code",
      "execution_count": 5,
      "metadata": {
        "id": "35TdKz4zeRFM"
      },
      "outputs": [],
      "source": [
        "import pandas as pd\n",
        "import numpy as np\n",
        "import math\n",
        "import matplotlib.pyplot as plt\n",
        "import seaborn as sns\n",
        "import time\n",
        "import datetime\n",
        "\n",
        "import sklearn\n",
        "from sklearn.model_selection import GridSearchCV, cross_val_score, train_test_split \n",
        "\n",
        "from sklearn.pipeline import make_pipeline\n",
        "\n",
        "from sklearn.preprocessing import StandardScaler\n",
        "from sklearn.preprocessing import OrdinalEncoder\n",
        "\n",
        "from sklearn.linear_model import LinearRegression\n",
        "from sklearn.tree import DecisionTreeRegressor\n",
        "from sklearn.ensemble import RandomForestRegressor\n",
        "import lightgbm as lgb\n",
        "import xgboost as xgb\n",
        "from catboost import CatBoostRegressor\n",
        "\n",
        "from sklearn.metrics import mean_squared_error"
      ]
    },
    {
      "attachments": {},
      "cell_type": "markdown",
      "metadata": {
        "id": "-XFLr0pbeRFN"
      },
      "source": [
        "### Data Upload and Review"
      ]
    },
    {
      "cell_type": "code",
      "execution_count": 6,
      "metadata": {
        "colab": {
          "base_uri": "https://localhost:8080/",
          "height": 444
        },
        "id": "rHEuCfv8eRFN",
        "outputId": "b7aff0e7-99ae-4bf8-bcb6-b98f02d59dd8"
      },
      "outputs": [
        {
          "data": {
            "text/html": [
              "\n",
              "  <div id=\"df-cd2e7023-4085-4570-9a8c-93600b6541b1\">\n",
              "    <div class=\"colab-df-container\">\n",
              "      <div>\n",
              "<style scoped>\n",
              "    .dataframe tbody tr th:only-of-type {\n",
              "        vertical-align: middle;\n",
              "    }\n",
              "\n",
              "    .dataframe tbody tr th {\n",
              "        vertical-align: top;\n",
              "    }\n",
              "\n",
              "    .dataframe thead th {\n",
              "        text-align: right;\n",
              "    }\n",
              "</style>\n",
              "<table border=\"1\" class=\"dataframe\">\n",
              "  <thead>\n",
              "    <tr style=\"text-align: right;\">\n",
              "      <th></th>\n",
              "      <th>DateCrawled</th>\n",
              "      <th>Price</th>\n",
              "      <th>VehicleType</th>\n",
              "      <th>RegistrationYear</th>\n",
              "      <th>Gearbox</th>\n",
              "      <th>Power</th>\n",
              "      <th>Model</th>\n",
              "      <th>Kilometer</th>\n",
              "      <th>RegistrationMonth</th>\n",
              "      <th>FuelType</th>\n",
              "      <th>Brand</th>\n",
              "      <th>NotRepaired</th>\n",
              "      <th>DateCreated</th>\n",
              "      <th>NumberOfPictures</th>\n",
              "      <th>PostalCode</th>\n",
              "      <th>LastSeen</th>\n",
              "    </tr>\n",
              "  </thead>\n",
              "  <tbody>\n",
              "    <tr>\n",
              "      <th>0</th>\n",
              "      <td>2016-03-24 11:52:17</td>\n",
              "      <td>480</td>\n",
              "      <td>NaN</td>\n",
              "      <td>1993</td>\n",
              "      <td>manual</td>\n",
              "      <td>0</td>\n",
              "      <td>golf</td>\n",
              "      <td>150000</td>\n",
              "      <td>0</td>\n",
              "      <td>petrol</td>\n",
              "      <td>volkswagen</td>\n",
              "      <td>NaN</td>\n",
              "      <td>2016-03-24 00:00:00</td>\n",
              "      <td>0.0</td>\n",
              "      <td>70435.0</td>\n",
              "      <td>2016-04-07 03:16:57</td>\n",
              "    </tr>\n",
              "    <tr>\n",
              "      <th>1</th>\n",
              "      <td>2016-03-24 10:58:45</td>\n",
              "      <td>18300</td>\n",
              "      <td>coupe</td>\n",
              "      <td>2011</td>\n",
              "      <td>manual</td>\n",
              "      <td>190</td>\n",
              "      <td>NaN</td>\n",
              "      <td>125000</td>\n",
              "      <td>5</td>\n",
              "      <td>gasoline</td>\n",
              "      <td>audi</td>\n",
              "      <td>yes</td>\n",
              "      <td>2016-03-24 00:00:00</td>\n",
              "      <td>0.0</td>\n",
              "      <td>66954.0</td>\n",
              "      <td>2016-04-07 01:46:50</td>\n",
              "    </tr>\n",
              "    <tr>\n",
              "      <th>2</th>\n",
              "      <td>2016-03-14 12:52:21</td>\n",
              "      <td>9800</td>\n",
              "      <td>suv</td>\n",
              "      <td>2004</td>\n",
              "      <td>auto</td>\n",
              "      <td>163</td>\n",
              "      <td>grand</td>\n",
              "      <td>125000</td>\n",
              "      <td>8</td>\n",
              "      <td>gasoline</td>\n",
              "      <td>jeep</td>\n",
              "      <td>NaN</td>\n",
              "      <td>2016-03-14 00:00:00</td>\n",
              "      <td>0.0</td>\n",
              "      <td>90480.0</td>\n",
              "      <td>2016-04-05 12:47:46</td>\n",
              "    </tr>\n",
              "    <tr>\n",
              "      <th>3</th>\n",
              "      <td>2016-03-17 16:54:04</td>\n",
              "      <td>1500</td>\n",
              "      <td>small</td>\n",
              "      <td>2001</td>\n",
              "      <td>manual</td>\n",
              "      <td>75</td>\n",
              "      <td>golf</td>\n",
              "      <td>150000</td>\n",
              "      <td>6</td>\n",
              "      <td>petrol</td>\n",
              "      <td>volkswagen</td>\n",
              "      <td>no</td>\n",
              "      <td>2016-03-17 00:00:00</td>\n",
              "      <td>0.0</td>\n",
              "      <td>91074.0</td>\n",
              "      <td>2016-03-17 17:40:17</td>\n",
              "    </tr>\n",
              "    <tr>\n",
              "      <th>4</th>\n",
              "      <td>2016-03-31 17:25:20</td>\n",
              "      <td>3600</td>\n",
              "      <td>small</td>\n",
              "      <td>2008</td>\n",
              "      <td>manual</td>\n",
              "      <td>69</td>\n",
              "      <td>fabia</td>\n",
              "      <td>90000</td>\n",
              "      <td>7</td>\n",
              "      <td>gasoline</td>\n",
              "      <td>skoda</td>\n",
              "      <td>no</td>\n",
              "      <td>2016-03-31 00:00:00</td>\n",
              "      <td>0.0</td>\n",
              "      <td>60437.0</td>\n",
              "      <td>2016-04-06 10:17:21</td>\n",
              "    </tr>\n",
              "  </tbody>\n",
              "</table>\n",
              "</div>\n",
              "      <button class=\"colab-df-convert\" onclick=\"convertToInteractive('df-cd2e7023-4085-4570-9a8c-93600b6541b1')\"\n",
              "              title=\"Convert this dataframe to an interactive table.\"\n",
              "              style=\"display:none;\">\n",
              "        \n",
              "  <svg xmlns=\"http://www.w3.org/2000/svg\" height=\"24px\"viewBox=\"0 0 24 24\"\n",
              "       width=\"24px\">\n",
              "    <path d=\"M0 0h24v24H0V0z\" fill=\"none\"/>\n",
              "    <path d=\"M18.56 5.44l.94 2.06.94-2.06 2.06-.94-2.06-.94-.94-2.06-.94 2.06-2.06.94zm-11 1L8.5 8.5l.94-2.06 2.06-.94-2.06-.94L8.5 2.5l-.94 2.06-2.06.94zm10 10l.94 2.06.94-2.06 2.06-.94-2.06-.94-.94-2.06-.94 2.06-2.06.94z\"/><path d=\"M17.41 7.96l-1.37-1.37c-.4-.4-.92-.59-1.43-.59-.52 0-1.04.2-1.43.59L10.3 9.45l-7.72 7.72c-.78.78-.78 2.05 0 2.83L4 21.41c.39.39.9.59 1.41.59.51 0 1.02-.2 1.41-.59l7.78-7.78 2.81-2.81c.8-.78.8-2.07 0-2.86zM5.41 20L4 18.59l7.72-7.72 1.47 1.35L5.41 20z\"/>\n",
              "  </svg>\n",
              "      </button>\n",
              "      \n",
              "  <style>\n",
              "    .colab-df-container {\n",
              "      display:flex;\n",
              "      flex-wrap:wrap;\n",
              "      gap: 12px;\n",
              "    }\n",
              "\n",
              "    .colab-df-convert {\n",
              "      background-color: #E8F0FE;\n",
              "      border: none;\n",
              "      border-radius: 50%;\n",
              "      cursor: pointer;\n",
              "      display: none;\n",
              "      fill: #1967D2;\n",
              "      height: 32px;\n",
              "      padding: 0 0 0 0;\n",
              "      width: 32px;\n",
              "    }\n",
              "\n",
              "    .colab-df-convert:hover {\n",
              "      background-color: #E2EBFA;\n",
              "      box-shadow: 0px 1px 2px rgba(60, 64, 67, 0.3), 0px 1px 3px 1px rgba(60, 64, 67, 0.15);\n",
              "      fill: #174EA6;\n",
              "    }\n",
              "\n",
              "    [theme=dark] .colab-df-convert {\n",
              "      background-color: #3B4455;\n",
              "      fill: #D2E3FC;\n",
              "    }\n",
              "\n",
              "    [theme=dark] .colab-df-convert:hover {\n",
              "      background-color: #434B5C;\n",
              "      box-shadow: 0px 1px 3px 1px rgba(0, 0, 0, 0.15);\n",
              "      filter: drop-shadow(0px 1px 2px rgba(0, 0, 0, 0.3));\n",
              "      fill: #FFFFFF;\n",
              "    }\n",
              "  </style>\n",
              "\n",
              "      <script>\n",
              "        const buttonEl =\n",
              "          document.querySelector('#df-cd2e7023-4085-4570-9a8c-93600b6541b1 button.colab-df-convert');\n",
              "        buttonEl.style.display =\n",
              "          google.colab.kernel.accessAllowed ? 'block' : 'none';\n",
              "\n",
              "        async function convertToInteractive(key) {\n",
              "          const element = document.querySelector('#df-cd2e7023-4085-4570-9a8c-93600b6541b1');\n",
              "          const dataTable =\n",
              "            await google.colab.kernel.invokeFunction('convertToInteractive',\n",
              "                                                     [key], {});\n",
              "          if (!dataTable) return;\n",
              "\n",
              "          const docLinkHtml = 'Like what you see? Visit the ' +\n",
              "            '<a target=\"_blank\" href=https://colab.research.google.com/notebooks/data_table.ipynb>data table notebook</a>'\n",
              "            + ' to learn more about interactive tables.';\n",
              "          element.innerHTML = '';\n",
              "          dataTable['output_type'] = 'display_data';\n",
              "          await google.colab.output.renderOutput(dataTable, element);\n",
              "          const docLink = document.createElement('div');\n",
              "          docLink.innerHTML = docLinkHtml;\n",
              "          element.appendChild(docLink);\n",
              "        }\n",
              "      </script>\n",
              "    </div>\n",
              "  </div>\n",
              "  "
            ],
            "text/plain": [
              "           DateCrawled  Price VehicleType  RegistrationYear Gearbox  Power  \\\n",
              "0  2016-03-24 11:52:17    480         NaN              1993  manual      0   \n",
              "1  2016-03-24 10:58:45  18300       coupe              2011  manual    190   \n",
              "2  2016-03-14 12:52:21   9800         suv              2004    auto    163   \n",
              "3  2016-03-17 16:54:04   1500       small              2001  manual     75   \n",
              "4  2016-03-31 17:25:20   3600       small              2008  manual     69   \n",
              "\n",
              "   Model  Kilometer  RegistrationMonth  FuelType       Brand NotRepaired  \\\n",
              "0   golf     150000                  0    petrol  volkswagen         NaN   \n",
              "1    NaN     125000                  5  gasoline        audi         yes   \n",
              "2  grand     125000                  8  gasoline        jeep         NaN   \n",
              "3   golf     150000                  6    petrol  volkswagen          no   \n",
              "4  fabia      90000                  7  gasoline       skoda          no   \n",
              "\n",
              "           DateCreated  NumberOfPictures  PostalCode             LastSeen  \n",
              "0  2016-03-24 00:00:00               0.0     70435.0  2016-04-07 03:16:57  \n",
              "1  2016-03-24 00:00:00               0.0     66954.0  2016-04-07 01:46:50  \n",
              "2  2016-03-14 00:00:00               0.0     90480.0  2016-04-05 12:47:46  \n",
              "3  2016-03-17 00:00:00               0.0     91074.0  2016-03-17 17:40:17  \n",
              "4  2016-03-31 00:00:00               0.0     60437.0  2016-04-06 10:17:21  "
            ]
          },
          "execution_count": 6,
          "metadata": {},
          "output_type": "execute_result"
        }
      ],
      "source": [
        "df = pd.read_csv('autos.csv')\n",
        "df.head()"
      ]
    },
    {
      "cell_type": "code",
      "execution_count": 7,
      "metadata": {
        "id": "X9iD2XRyeRFN"
      },
      "outputs": [],
      "source": [
        "df.rename(columns={\"NotRepaired\":\"repaired\"}, inplace=True) "
      ]
    },
    {
      "cell_type": "code",
      "execution_count": 8,
      "metadata": {
        "colab": {
          "base_uri": "https://localhost:8080/"
        },
        "id": "gBNd-ZDZeRFO",
        "outputId": "8d48e309-7fc8-4a50-a87b-b9eea0f527c8"
      },
      "outputs": [
        {
          "data": {
            "text/plain": [
              "Index(['DateCrawled', 'Price', 'VehicleType', 'RegistrationYear', 'Gearbox',\n",
              "       'Power', 'Model', 'Kilometer', 'RegistrationMonth', 'FuelType', 'Brand',\n",
              "       'repaired', 'DateCreated', 'NumberOfPictures', 'PostalCode',\n",
              "       'LastSeen'],\n",
              "      dtype='object')"
            ]
          },
          "execution_count": 8,
          "metadata": {},
          "output_type": "execute_result"
        }
      ],
      "source": [
        "df.columns"
      ]
    },
    {
      "attachments": {},
      "cell_type": "markdown",
      "metadata": {
        "id": "1MoBJSzTeRFO"
      },
      "source": [
        "Based on the provided information, it seems that the column names need to be adjusted to conform to the snake case format. Additionally, there are instances of NaN values present in the dataset. Furthermore, it appears that some date entries include a time component while others do not."
      ]
    },
    {
      "cell_type": "code",
      "execution_count": 9,
      "metadata": {
        "colab": {
          "base_uri": "https://localhost:8080/"
        },
        "id": "6KmyrqRFeRFO",
        "outputId": "aa5da47b-6fd9-4364-d465-0c94a07a651c"
      },
      "outputs": [
        {
          "data": {
            "text/plain": [
              "Index(['datecrawled', 'price', 'vehicletype', 'registrationyear', 'gearbox',\n",
              "       'power', 'model', 'kilometer', 'registrationmonth', 'fueltype', 'brand',\n",
              "       'repaired', 'datecreated', 'numberofpictures', 'postalcode',\n",
              "       'lastseen'],\n",
              "      dtype='object')"
            ]
          },
          "execution_count": 9,
          "metadata": {},
          "output_type": "execute_result"
        }
      ],
      "source": [
        "df.columns = df.columns.str.lower()\n",
        "df.columns"
      ]
    },
    {
      "cell_type": "code",
      "execution_count": 10,
      "metadata": {
        "colab": {
          "base_uri": "https://localhost:8080/"
        },
        "id": "jrhsg1GgeRFO",
        "outputId": "8fdffd70-4ba5-47f2-9bc2-062172d4b2bd"
      },
      "outputs": [
        {
          "data": {
            "text/plain": [
              "Index(['date_crawled', 'price', 'vehicle_type', 'registration_year', 'gearbox',\n",
              "       'power', 'model', 'kilometer', 'registration_month', 'fuel_type',\n",
              "       'brand', 'not_repaired', 'date_created', 'number_of_pictures',\n",
              "       'postal_code', 'last_seen'],\n",
              "      dtype='object')"
            ]
          },
          "execution_count": 10,
          "metadata": {},
          "output_type": "execute_result"
        }
      ],
      "source": [
        "df.columns = ['date_crawled', 'price', 'vehicle_type', 'registration_year', 'gearbox',\n",
        "       'power', 'model', 'kilometer', 'registration_month', 'fuel_type', 'brand',\n",
        "       'not_repaired', 'date_created', 'number_of_pictures', 'postal_code',\n",
        "       'last_seen']\n",
        "df.columns"
      ]
    },
    {
      "cell_type": "code",
      "execution_count": 11,
      "metadata": {
        "colab": {
          "base_uri": "https://localhost:8080/"
        },
        "id": "KKpbb8STeRFP",
        "outputId": "93d14f2a-64d6-4a35-fff4-55b0bd2ec462"
      },
      "outputs": [
        {
          "name": "stdout",
          "output_type": "stream",
          "text": [
            "<class 'pandas.core.frame.DataFrame'>\n",
            "RangeIndex: 217788 entries, 0 to 217787\n",
            "Data columns (total 16 columns):\n",
            " #   Column              Non-Null Count   Dtype  \n",
            "---  ------              --------------   -----  \n",
            " 0   date_crawled        217788 non-null  object \n",
            " 1   price               217788 non-null  int64  \n",
            " 2   vehicle_type        194728 non-null  object \n",
            " 3   registration_year   217788 non-null  int64  \n",
            " 4   gearbox             205604 non-null  object \n",
            " 5   power               217788 non-null  int64  \n",
            " 6   model               205598 non-null  object \n",
            " 7   kilometer           217788 non-null  int64  \n",
            " 8   registration_month  217788 non-null  int64  \n",
            " 9   fuel_type           197517 non-null  object \n",
            " 10  brand               217787 non-null  object \n",
            " 11  not_repaired        173986 non-null  object \n",
            " 12  date_created        217787 non-null  object \n",
            " 13  number_of_pictures  217787 non-null  float64\n",
            " 14  postal_code         217787 non-null  float64\n",
            " 15  last_seen           217787 non-null  object \n",
            "dtypes: float64(2), int64(5), object(9)\n",
            "memory usage: 26.6+ MB\n"
          ]
        }
      ],
      "source": [
        "df.info()"
      ]
    },
    {
      "attachments": {},
      "cell_type": "markdown",
      "metadata": {
        "id": "MUP-wq2GeRFP"
      },
      "source": [
        "The three columns with dates should be translated into the appropriate format."
      ]
    },
    {
      "cell_type": "code",
      "execution_count": 12,
      "metadata": {
        "colab": {
          "base_uri": "https://localhost:8080/"
        },
        "id": "MRsDQxkYeRFP",
        "outputId": "caaf2d4f-5443-4846-b91b-7586dce2b8a9",
        "scrolled": true
      },
      "outputs": [
        {
          "data": {
            "text/plain": [
              "not_repaired          43802\n",
              "vehicle_type          23060\n",
              "fuel_type             20271\n",
              "model                 12190\n",
              "gearbox               12184\n",
              "brand                     1\n",
              "date_created              1\n",
              "number_of_pictures        1\n",
              "postal_code               1\n",
              "last_seen                 1\n",
              "date_crawled              0\n",
              "price                     0\n",
              "registration_year         0\n",
              "power                     0\n",
              "kilometer                 0\n",
              "registration_month        0\n",
              "dtype: int64"
            ]
          },
          "execution_count": 12,
          "metadata": {},
          "output_type": "execute_result"
        }
      ],
      "source": [
        "df.isna().sum().sort_values(ascending = False)"
      ]
    },
    {
      "attachments": {},
      "cell_type": "markdown",
      "metadata": {
        "id": "NClj6OTEeRFP"
      },
      "source": [
        "five columns contain missing values"
      ]
    },
    {
      "cell_type": "code",
      "execution_count": 13,
      "metadata": {
        "colab": {
          "base_uri": "https://localhost:8080/"
        },
        "id": "QoILI1IfeRFP",
        "outputId": "d176443b-091f-41cd-c9b6-73171812a724",
        "scrolled": true
      },
      "outputs": [
        {
          "data": {
            "text/plain": [
              "171088     True\n",
              "0         False\n",
              "145195    False\n",
              "145185    False\n",
              "145186    False\n",
              "          ...  \n",
              "72599     False\n",
              "72600     False\n",
              "72601     False\n",
              "72602     False\n",
              "217787    False\n",
              "Length: 217788, dtype: bool"
            ]
          },
          "execution_count": 13,
          "metadata": {},
          "output_type": "execute_result"
        }
      ],
      "source": [
        "df.duplicated().sort_values(ascending = False)"
      ]
    },
    {
      "attachments": {},
      "cell_type": "markdown",
      "metadata": {
        "id": "URiYcdpjeRFP"
      },
      "source": [
        "Only four lines are obvious duplicates. Let's take a look at them"
      ]
    },
    {
      "cell_type": "code",
      "execution_count": 14,
      "metadata": {
        "colab": {
          "base_uri": "https://localhost:8080/",
          "height": 179
        },
        "id": "7VCc_q92eRFQ",
        "outputId": "ce8eccb3-118c-4076-d76c-1ba3a35ba0f8",
        "scrolled": true
      },
      "outputs": [
        {
          "data": {
            "text/html": [
              "\n",
              "  <div id=\"df-248f0bf7-a783-4f3e-b537-28d8dcad0707\">\n",
              "    <div class=\"colab-df-container\">\n",
              "      <div>\n",
              "<style scoped>\n",
              "    .dataframe tbody tr th:only-of-type {\n",
              "        vertical-align: middle;\n",
              "    }\n",
              "\n",
              "    .dataframe tbody tr th {\n",
              "        vertical-align: top;\n",
              "    }\n",
              "\n",
              "    .dataframe thead th {\n",
              "        text-align: right;\n",
              "    }\n",
              "</style>\n",
              "<table border=\"1\" class=\"dataframe\">\n",
              "  <thead>\n",
              "    <tr style=\"text-align: right;\">\n",
              "      <th></th>\n",
              "      <th>date_crawled</th>\n",
              "      <th>price</th>\n",
              "      <th>vehicle_type</th>\n",
              "      <th>registration_year</th>\n",
              "      <th>gearbox</th>\n",
              "      <th>power</th>\n",
              "      <th>model</th>\n",
              "      <th>kilometer</th>\n",
              "      <th>registration_month</th>\n",
              "      <th>fuel_type</th>\n",
              "      <th>brand</th>\n",
              "      <th>not_repaired</th>\n",
              "      <th>date_created</th>\n",
              "      <th>number_of_pictures</th>\n",
              "      <th>postal_code</th>\n",
              "      <th>last_seen</th>\n",
              "    </tr>\n",
              "  </thead>\n",
              "  <tbody>\n",
              "    <tr>\n",
              "      <th>171088</th>\n",
              "      <td>2016-03-08 18:42:48</td>\n",
              "      <td>1799</td>\n",
              "      <td>coupe</td>\n",
              "      <td>1999</td>\n",
              "      <td>auto</td>\n",
              "      <td>193</td>\n",
              "      <td>clk</td>\n",
              "      <td>20000</td>\n",
              "      <td>7</td>\n",
              "      <td>petrol</td>\n",
              "      <td>mercedes_benz</td>\n",
              "      <td>no</td>\n",
              "      <td>2016-03-08 00:00:00</td>\n",
              "      <td>0.0</td>\n",
              "      <td>89518.0</td>\n",
              "      <td>2016-03-09 09:46:57</td>\n",
              "    </tr>\n",
              "  </tbody>\n",
              "</table>\n",
              "</div>\n",
              "      <button class=\"colab-df-convert\" onclick=\"convertToInteractive('df-248f0bf7-a783-4f3e-b537-28d8dcad0707')\"\n",
              "              title=\"Convert this dataframe to an interactive table.\"\n",
              "              style=\"display:none;\">\n",
              "        \n",
              "  <svg xmlns=\"http://www.w3.org/2000/svg\" height=\"24px\"viewBox=\"0 0 24 24\"\n",
              "       width=\"24px\">\n",
              "    <path d=\"M0 0h24v24H0V0z\" fill=\"none\"/>\n",
              "    <path d=\"M18.56 5.44l.94 2.06.94-2.06 2.06-.94-2.06-.94-.94-2.06-.94 2.06-2.06.94zm-11 1L8.5 8.5l.94-2.06 2.06-.94-2.06-.94L8.5 2.5l-.94 2.06-2.06.94zm10 10l.94 2.06.94-2.06 2.06-.94-2.06-.94-.94-2.06-.94 2.06-2.06.94z\"/><path d=\"M17.41 7.96l-1.37-1.37c-.4-.4-.92-.59-1.43-.59-.52 0-1.04.2-1.43.59L10.3 9.45l-7.72 7.72c-.78.78-.78 2.05 0 2.83L4 21.41c.39.39.9.59 1.41.59.51 0 1.02-.2 1.41-.59l7.78-7.78 2.81-2.81c.8-.78.8-2.07 0-2.86zM5.41 20L4 18.59l7.72-7.72 1.47 1.35L5.41 20z\"/>\n",
              "  </svg>\n",
              "      </button>\n",
              "      \n",
              "  <style>\n",
              "    .colab-df-container {\n",
              "      display:flex;\n",
              "      flex-wrap:wrap;\n",
              "      gap: 12px;\n",
              "    }\n",
              "\n",
              "    .colab-df-convert {\n",
              "      background-color: #E8F0FE;\n",
              "      border: none;\n",
              "      border-radius: 50%;\n",
              "      cursor: pointer;\n",
              "      display: none;\n",
              "      fill: #1967D2;\n",
              "      height: 32px;\n",
              "      padding: 0 0 0 0;\n",
              "      width: 32px;\n",
              "    }\n",
              "\n",
              "    .colab-df-convert:hover {\n",
              "      background-color: #E2EBFA;\n",
              "      box-shadow: 0px 1px 2px rgba(60, 64, 67, 0.3), 0px 1px 3px 1px rgba(60, 64, 67, 0.15);\n",
              "      fill: #174EA6;\n",
              "    }\n",
              "\n",
              "    [theme=dark] .colab-df-convert {\n",
              "      background-color: #3B4455;\n",
              "      fill: #D2E3FC;\n",
              "    }\n",
              "\n",
              "    [theme=dark] .colab-df-convert:hover {\n",
              "      background-color: #434B5C;\n",
              "      box-shadow: 0px 1px 3px 1px rgba(0, 0, 0, 0.15);\n",
              "      filter: drop-shadow(0px 1px 2px rgba(0, 0, 0, 0.3));\n",
              "      fill: #FFFFFF;\n",
              "    }\n",
              "  </style>\n",
              "\n",
              "      <script>\n",
              "        const buttonEl =\n",
              "          document.querySelector('#df-248f0bf7-a783-4f3e-b537-28d8dcad0707 button.colab-df-convert');\n",
              "        buttonEl.style.display =\n",
              "          google.colab.kernel.accessAllowed ? 'block' : 'none';\n",
              "\n",
              "        async function convertToInteractive(key) {\n",
              "          const element = document.querySelector('#df-248f0bf7-a783-4f3e-b537-28d8dcad0707');\n",
              "          const dataTable =\n",
              "            await google.colab.kernel.invokeFunction('convertToInteractive',\n",
              "                                                     [key], {});\n",
              "          if (!dataTable) return;\n",
              "\n",
              "          const docLinkHtml = 'Like what you see? Visit the ' +\n",
              "            '<a target=\"_blank\" href=https://colab.research.google.com/notebooks/data_table.ipynb>data table notebook</a>'\n",
              "            + ' to learn more about interactive tables.';\n",
              "          element.innerHTML = '';\n",
              "          dataTable['output_type'] = 'display_data';\n",
              "          await google.colab.output.renderOutput(dataTable, element);\n",
              "          const docLink = document.createElement('div');\n",
              "          docLink.innerHTML = docLinkHtml;\n",
              "          element.appendChild(docLink);\n",
              "        }\n",
              "      </script>\n",
              "    </div>\n",
              "  </div>\n",
              "  "
            ],
            "text/plain": [
              "               date_crawled  price vehicle_type  registration_year gearbox  \\\n",
              "171088  2016-03-08 18:42:48   1799        coupe               1999    auto   \n",
              "\n",
              "        power model  kilometer  registration_month fuel_type          brand  \\\n",
              "171088    193   clk      20000                   7    petrol  mercedes_benz   \n",
              "\n",
              "       not_repaired         date_created  number_of_pictures  postal_code  \\\n",
              "171088           no  2016-03-08 00:00:00                 0.0      89518.0   \n",
              "\n",
              "                  last_seen  \n",
              "171088  2016-03-09 09:46:57  "
            ]
          },
          "execution_count": 14,
          "metadata": {},
          "output_type": "execute_result"
        }
      ],
      "source": [
        "df[df.duplicated() == True]"
      ]
    },
    {
      "cell_type": "code",
      "execution_count": 15,
      "metadata": {
        "id": "SJFTOsuVeRFQ"
      },
      "outputs": [],
      "source": [
        "df = df.drop_duplicates()"
      ]
    },
    {
      "cell_type": "code",
      "execution_count": 16,
      "metadata": {
        "colab": {
          "base_uri": "https://localhost:8080/",
          "height": 333
        },
        "id": "F4PDp6zveRFQ",
        "outputId": "fe8507a4-1e38-4884-a49f-07241b0b0967"
      },
      "outputs": [
        {
          "data": {
            "text/html": [
              "\n",
              "  <div id=\"df-f655d750-f577-4a6a-a462-f60f5b61c955\">\n",
              "    <div class=\"colab-df-container\">\n",
              "      <div>\n",
              "<style scoped>\n",
              "    .dataframe tbody tr th:only-of-type {\n",
              "        vertical-align: middle;\n",
              "    }\n",
              "\n",
              "    .dataframe tbody tr th {\n",
              "        vertical-align: top;\n",
              "    }\n",
              "\n",
              "    .dataframe thead th {\n",
              "        text-align: right;\n",
              "    }\n",
              "</style>\n",
              "<table border=\"1\" class=\"dataframe\">\n",
              "  <thead>\n",
              "    <tr style=\"text-align: right;\">\n",
              "      <th></th>\n",
              "      <th>price</th>\n",
              "      <th>registration_year</th>\n",
              "      <th>power</th>\n",
              "      <th>kilometer</th>\n",
              "      <th>registration_month</th>\n",
              "      <th>number_of_pictures</th>\n",
              "      <th>postal_code</th>\n",
              "    </tr>\n",
              "  </thead>\n",
              "  <tbody>\n",
              "    <tr>\n",
              "      <th>price</th>\n",
              "      <td>1.000000</td>\n",
              "      <td>0.026145</td>\n",
              "      <td>0.156041</td>\n",
              "      <td>-0.332478</td>\n",
              "      <td>0.110939</td>\n",
              "      <td>NaN</td>\n",
              "      <td>0.076783</td>\n",
              "    </tr>\n",
              "    <tr>\n",
              "      <th>registration_year</th>\n",
              "      <td>0.026145</td>\n",
              "      <td>1.000000</td>\n",
              "      <td>0.000219</td>\n",
              "      <td>-0.051680</td>\n",
              "      <td>-0.011250</td>\n",
              "      <td>NaN</td>\n",
              "      <td>-0.001515</td>\n",
              "    </tr>\n",
              "    <tr>\n",
              "      <th>power</th>\n",
              "      <td>0.156041</td>\n",
              "      <td>0.000219</td>\n",
              "      <td>1.000000</td>\n",
              "      <td>0.019340</td>\n",
              "      <td>0.042686</td>\n",
              "      <td>NaN</td>\n",
              "      <td>0.022758</td>\n",
              "    </tr>\n",
              "    <tr>\n",
              "      <th>kilometer</th>\n",
              "      <td>-0.332478</td>\n",
              "      <td>-0.051680</td>\n",
              "      <td>0.019340</td>\n",
              "      <td>1.000000</td>\n",
              "      <td>0.010774</td>\n",
              "      <td>NaN</td>\n",
              "      <td>-0.008666</td>\n",
              "    </tr>\n",
              "    <tr>\n",
              "      <th>registration_month</th>\n",
              "      <td>0.110939</td>\n",
              "      <td>-0.011250</td>\n",
              "      <td>0.042686</td>\n",
              "      <td>0.010774</td>\n",
              "      <td>1.000000</td>\n",
              "      <td>NaN</td>\n",
              "      <td>0.012678</td>\n",
              "    </tr>\n",
              "    <tr>\n",
              "      <th>number_of_pictures</th>\n",
              "      <td>NaN</td>\n",
              "      <td>NaN</td>\n",
              "      <td>NaN</td>\n",
              "      <td>NaN</td>\n",
              "      <td>NaN</td>\n",
              "      <td>NaN</td>\n",
              "      <td>NaN</td>\n",
              "    </tr>\n",
              "    <tr>\n",
              "      <th>postal_code</th>\n",
              "      <td>0.076783</td>\n",
              "      <td>-0.001515</td>\n",
              "      <td>0.022758</td>\n",
              "      <td>-0.008666</td>\n",
              "      <td>0.012678</td>\n",
              "      <td>NaN</td>\n",
              "      <td>1.000000</td>\n",
              "    </tr>\n",
              "  </tbody>\n",
              "</table>\n",
              "</div>\n",
              "      <button class=\"colab-df-convert\" onclick=\"convertToInteractive('df-f655d750-f577-4a6a-a462-f60f5b61c955')\"\n",
              "              title=\"Convert this dataframe to an interactive table.\"\n",
              "              style=\"display:none;\">\n",
              "        \n",
              "  <svg xmlns=\"http://www.w3.org/2000/svg\" height=\"24px\"viewBox=\"0 0 24 24\"\n",
              "       width=\"24px\">\n",
              "    <path d=\"M0 0h24v24H0V0z\" fill=\"none\"/>\n",
              "    <path d=\"M18.56 5.44l.94 2.06.94-2.06 2.06-.94-2.06-.94-.94-2.06-.94 2.06-2.06.94zm-11 1L8.5 8.5l.94-2.06 2.06-.94-2.06-.94L8.5 2.5l-.94 2.06-2.06.94zm10 10l.94 2.06.94-2.06 2.06-.94-2.06-.94-.94-2.06-.94 2.06-2.06.94z\"/><path d=\"M17.41 7.96l-1.37-1.37c-.4-.4-.92-.59-1.43-.59-.52 0-1.04.2-1.43.59L10.3 9.45l-7.72 7.72c-.78.78-.78 2.05 0 2.83L4 21.41c.39.39.9.59 1.41.59.51 0 1.02-.2 1.41-.59l7.78-7.78 2.81-2.81c.8-.78.8-2.07 0-2.86zM5.41 20L4 18.59l7.72-7.72 1.47 1.35L5.41 20z\"/>\n",
              "  </svg>\n",
              "      </button>\n",
              "      \n",
              "  <style>\n",
              "    .colab-df-container {\n",
              "      display:flex;\n",
              "      flex-wrap:wrap;\n",
              "      gap: 12px;\n",
              "    }\n",
              "\n",
              "    .colab-df-convert {\n",
              "      background-color: #E8F0FE;\n",
              "      border: none;\n",
              "      border-radius: 50%;\n",
              "      cursor: pointer;\n",
              "      display: none;\n",
              "      fill: #1967D2;\n",
              "      height: 32px;\n",
              "      padding: 0 0 0 0;\n",
              "      width: 32px;\n",
              "    }\n",
              "\n",
              "    .colab-df-convert:hover {\n",
              "      background-color: #E2EBFA;\n",
              "      box-shadow: 0px 1px 2px rgba(60, 64, 67, 0.3), 0px 1px 3px 1px rgba(60, 64, 67, 0.15);\n",
              "      fill: #174EA6;\n",
              "    }\n",
              "\n",
              "    [theme=dark] .colab-df-convert {\n",
              "      background-color: #3B4455;\n",
              "      fill: #D2E3FC;\n",
              "    }\n",
              "\n",
              "    [theme=dark] .colab-df-convert:hover {\n",
              "      background-color: #434B5C;\n",
              "      box-shadow: 0px 1px 3px 1px rgba(0, 0, 0, 0.15);\n",
              "      filter: drop-shadow(0px 1px 2px rgba(0, 0, 0, 0.3));\n",
              "      fill: #FFFFFF;\n",
              "    }\n",
              "  </style>\n",
              "\n",
              "      <script>\n",
              "        const buttonEl =\n",
              "          document.querySelector('#df-f655d750-f577-4a6a-a462-f60f5b61c955 button.colab-df-convert');\n",
              "        buttonEl.style.display =\n",
              "          google.colab.kernel.accessAllowed ? 'block' : 'none';\n",
              "\n",
              "        async function convertToInteractive(key) {\n",
              "          const element = document.querySelector('#df-f655d750-f577-4a6a-a462-f60f5b61c955');\n",
              "          const dataTable =\n",
              "            await google.colab.kernel.invokeFunction('convertToInteractive',\n",
              "                                                     [key], {});\n",
              "          if (!dataTable) return;\n",
              "\n",
              "          const docLinkHtml = 'Like what you see? Visit the ' +\n",
              "            '<a target=\"_blank\" href=https://colab.research.google.com/notebooks/data_table.ipynb>data table notebook</a>'\n",
              "            + ' to learn more about interactive tables.';\n",
              "          element.innerHTML = '';\n",
              "          dataTable['output_type'] = 'display_data';\n",
              "          await google.colab.output.renderOutput(dataTable, element);\n",
              "          const docLink = document.createElement('div');\n",
              "          docLink.innerHTML = docLinkHtml;\n",
              "          element.appendChild(docLink);\n",
              "        }\n",
              "      </script>\n",
              "    </div>\n",
              "  </div>\n",
              "  "
            ],
            "text/plain": [
              "                       price  registration_year     power  kilometer  \\\n",
              "price               1.000000           0.026145  0.156041  -0.332478   \n",
              "registration_year   0.026145           1.000000  0.000219  -0.051680   \n",
              "power               0.156041           0.000219  1.000000   0.019340   \n",
              "kilometer          -0.332478          -0.051680  0.019340   1.000000   \n",
              "registration_month  0.110939          -0.011250  0.042686   0.010774   \n",
              "number_of_pictures       NaN                NaN       NaN        NaN   \n",
              "postal_code         0.076783          -0.001515  0.022758  -0.008666   \n",
              "\n",
              "                    registration_month  number_of_pictures  postal_code  \n",
              "price                         0.110939                 NaN     0.076783  \n",
              "registration_year            -0.011250                 NaN    -0.001515  \n",
              "power                         0.042686                 NaN     0.022758  \n",
              "kilometer                     0.010774                 NaN    -0.008666  \n",
              "registration_month            1.000000                 NaN     0.012678  \n",
              "number_of_pictures                 NaN                 NaN          NaN  \n",
              "postal_code                   0.012678                 NaN     1.000000  "
            ]
          },
          "execution_count": 16,
          "metadata": {},
          "output_type": "execute_result"
        }
      ],
      "source": [
        "df.corr()"
      ]
    },
    {
      "cell_type": "code",
      "execution_count": 17,
      "metadata": {
        "colab": {
          "base_uri": "https://localhost:8080/",
          "height": 364
        },
        "id": "um88moh0eRFQ",
        "outputId": "b7fc6b58-ff7c-47f9-cf86-557b1403efdd",
        "scrolled": true
      },
      "outputs": [
        {
          "data": {
            "text/html": [
              "\n",
              "  <div id=\"df-9e2fe998-bff6-42b4-9ef3-88913f51b75b\">\n",
              "    <div class=\"colab-df-container\">\n",
              "      <div>\n",
              "<style scoped>\n",
              "    .dataframe tbody tr th:only-of-type {\n",
              "        vertical-align: middle;\n",
              "    }\n",
              "\n",
              "    .dataframe tbody tr th {\n",
              "        vertical-align: top;\n",
              "    }\n",
              "\n",
              "    .dataframe thead th {\n",
              "        text-align: right;\n",
              "    }\n",
              "</style>\n",
              "<table border=\"1\" class=\"dataframe\">\n",
              "  <thead>\n",
              "    <tr style=\"text-align: right;\">\n",
              "      <th></th>\n",
              "      <th>price</th>\n",
              "      <th>registration_year</th>\n",
              "      <th>power</th>\n",
              "      <th>kilometer</th>\n",
              "      <th>registration_month</th>\n",
              "      <th>number_of_pictures</th>\n",
              "      <th>postal_code</th>\n",
              "    </tr>\n",
              "  </thead>\n",
              "  <tbody>\n",
              "    <tr>\n",
              "      <th>count</th>\n",
              "      <td>217787.000000</td>\n",
              "      <td>217787.000000</td>\n",
              "      <td>217787.000000</td>\n",
              "      <td>217787.000000</td>\n",
              "      <td>217787.000000</td>\n",
              "      <td>217786.0</td>\n",
              "      <td>217786.000000</td>\n",
              "    </tr>\n",
              "    <tr>\n",
              "      <th>mean</th>\n",
              "      <td>4421.583942</td>\n",
              "      <td>2004.214274</td>\n",
              "      <td>110.153310</td>\n",
              "      <td>128159.486103</td>\n",
              "      <td>5.705547</td>\n",
              "      <td>0.0</td>\n",
              "      <td>50508.560757</td>\n",
              "    </tr>\n",
              "    <tr>\n",
              "      <th>std</th>\n",
              "      <td>4522.469737</td>\n",
              "      <td>91.208785</td>\n",
              "      <td>194.496225</td>\n",
              "      <td>37919.752341</td>\n",
              "      <td>3.723357</td>\n",
              "      <td>0.0</td>\n",
              "      <td>25797.612369</td>\n",
              "    </tr>\n",
              "    <tr>\n",
              "      <th>min</th>\n",
              "      <td>0.000000</td>\n",
              "      <td>1000.000000</td>\n",
              "      <td>0.000000</td>\n",
              "      <td>5000.000000</td>\n",
              "      <td>0.000000</td>\n",
              "      <td>0.0</td>\n",
              "      <td>1067.000000</td>\n",
              "    </tr>\n",
              "    <tr>\n",
              "      <th>25%</th>\n",
              "      <td>1050.000000</td>\n",
              "      <td>1999.000000</td>\n",
              "      <td>69.000000</td>\n",
              "      <td>125000.000000</td>\n",
              "      <td>3.000000</td>\n",
              "      <td>0.0</td>\n",
              "      <td>30165.000000</td>\n",
              "    </tr>\n",
              "    <tr>\n",
              "      <th>50%</th>\n",
              "      <td>2700.000000</td>\n",
              "      <td>2003.000000</td>\n",
              "      <td>105.000000</td>\n",
              "      <td>150000.000000</td>\n",
              "      <td>6.000000</td>\n",
              "      <td>0.0</td>\n",
              "      <td>49393.000000</td>\n",
              "    </tr>\n",
              "    <tr>\n",
              "      <th>75%</th>\n",
              "      <td>6400.000000</td>\n",
              "      <td>2008.000000</td>\n",
              "      <td>141.000000</td>\n",
              "      <td>150000.000000</td>\n",
              "      <td>9.000000</td>\n",
              "      <td>0.0</td>\n",
              "      <td>71116.000000</td>\n",
              "    </tr>\n",
              "    <tr>\n",
              "      <th>max</th>\n",
              "      <td>20000.000000</td>\n",
              "      <td>9999.000000</td>\n",
              "      <td>19211.000000</td>\n",
              "      <td>150000.000000</td>\n",
              "      <td>12.000000</td>\n",
              "      <td>0.0</td>\n",
              "      <td>99998.000000</td>\n",
              "    </tr>\n",
              "  </tbody>\n",
              "</table>\n",
              "</div>\n",
              "      <button class=\"colab-df-convert\" onclick=\"convertToInteractive('df-9e2fe998-bff6-42b4-9ef3-88913f51b75b')\"\n",
              "              title=\"Convert this dataframe to an interactive table.\"\n",
              "              style=\"display:none;\">\n",
              "        \n",
              "  <svg xmlns=\"http://www.w3.org/2000/svg\" height=\"24px\"viewBox=\"0 0 24 24\"\n",
              "       width=\"24px\">\n",
              "    <path d=\"M0 0h24v24H0V0z\" fill=\"none\"/>\n",
              "    <path d=\"M18.56 5.44l.94 2.06.94-2.06 2.06-.94-2.06-.94-.94-2.06-.94 2.06-2.06.94zm-11 1L8.5 8.5l.94-2.06 2.06-.94-2.06-.94L8.5 2.5l-.94 2.06-2.06.94zm10 10l.94 2.06.94-2.06 2.06-.94-2.06-.94-.94-2.06-.94 2.06-2.06.94z\"/><path d=\"M17.41 7.96l-1.37-1.37c-.4-.4-.92-.59-1.43-.59-.52 0-1.04.2-1.43.59L10.3 9.45l-7.72 7.72c-.78.78-.78 2.05 0 2.83L4 21.41c.39.39.9.59 1.41.59.51 0 1.02-.2 1.41-.59l7.78-7.78 2.81-2.81c.8-.78.8-2.07 0-2.86zM5.41 20L4 18.59l7.72-7.72 1.47 1.35L5.41 20z\"/>\n",
              "  </svg>\n",
              "      </button>\n",
              "      \n",
              "  <style>\n",
              "    .colab-df-container {\n",
              "      display:flex;\n",
              "      flex-wrap:wrap;\n",
              "      gap: 12px;\n",
              "    }\n",
              "\n",
              "    .colab-df-convert {\n",
              "      background-color: #E8F0FE;\n",
              "      border: none;\n",
              "      border-radius: 50%;\n",
              "      cursor: pointer;\n",
              "      display: none;\n",
              "      fill: #1967D2;\n",
              "      height: 32px;\n",
              "      padding: 0 0 0 0;\n",
              "      width: 32px;\n",
              "    }\n",
              "\n",
              "    .colab-df-convert:hover {\n",
              "      background-color: #E2EBFA;\n",
              "      box-shadow: 0px 1px 2px rgba(60, 64, 67, 0.3), 0px 1px 3px 1px rgba(60, 64, 67, 0.15);\n",
              "      fill: #174EA6;\n",
              "    }\n",
              "\n",
              "    [theme=dark] .colab-df-convert {\n",
              "      background-color: #3B4455;\n",
              "      fill: #D2E3FC;\n",
              "    }\n",
              "\n",
              "    [theme=dark] .colab-df-convert:hover {\n",
              "      background-color: #434B5C;\n",
              "      box-shadow: 0px 1px 3px 1px rgba(0, 0, 0, 0.15);\n",
              "      filter: drop-shadow(0px 1px 2px rgba(0, 0, 0, 0.3));\n",
              "      fill: #FFFFFF;\n",
              "    }\n",
              "  </style>\n",
              "\n",
              "      <script>\n",
              "        const buttonEl =\n",
              "          document.querySelector('#df-9e2fe998-bff6-42b4-9ef3-88913f51b75b button.colab-df-convert');\n",
              "        buttonEl.style.display =\n",
              "          google.colab.kernel.accessAllowed ? 'block' : 'none';\n",
              "\n",
              "        async function convertToInteractive(key) {\n",
              "          const element = document.querySelector('#df-9e2fe998-bff6-42b4-9ef3-88913f51b75b');\n",
              "          const dataTable =\n",
              "            await google.colab.kernel.invokeFunction('convertToInteractive',\n",
              "                                                     [key], {});\n",
              "          if (!dataTable) return;\n",
              "\n",
              "          const docLinkHtml = 'Like what you see? Visit the ' +\n",
              "            '<a target=\"_blank\" href=https://colab.research.google.com/notebooks/data_table.ipynb>data table notebook</a>'\n",
              "            + ' to learn more about interactive tables.';\n",
              "          element.innerHTML = '';\n",
              "          dataTable['output_type'] = 'display_data';\n",
              "          await google.colab.output.renderOutput(dataTable, element);\n",
              "          const docLink = document.createElement('div');\n",
              "          docLink.innerHTML = docLinkHtml;\n",
              "          element.appendChild(docLink);\n",
              "        }\n",
              "      </script>\n",
              "    </div>\n",
              "  </div>\n",
              "  "
            ],
            "text/plain": [
              "               price  registration_year          power      kilometer  \\\n",
              "count  217787.000000      217787.000000  217787.000000  217787.000000   \n",
              "mean     4421.583942        2004.214274     110.153310  128159.486103   \n",
              "std      4522.469737          91.208785     194.496225   37919.752341   \n",
              "min         0.000000        1000.000000       0.000000    5000.000000   \n",
              "25%      1050.000000        1999.000000      69.000000  125000.000000   \n",
              "50%      2700.000000        2003.000000     105.000000  150000.000000   \n",
              "75%      6400.000000        2008.000000     141.000000  150000.000000   \n",
              "max     20000.000000        9999.000000   19211.000000  150000.000000   \n",
              "\n",
              "       registration_month  number_of_pictures    postal_code  \n",
              "count       217787.000000            217786.0  217786.000000  \n",
              "mean             5.705547                 0.0   50508.560757  \n",
              "std              3.723357                 0.0   25797.612369  \n",
              "min              0.000000                 0.0    1067.000000  \n",
              "25%              3.000000                 0.0   30165.000000  \n",
              "50%              6.000000                 0.0   49393.000000  \n",
              "75%              9.000000                 0.0   71116.000000  \n",
              "max             12.000000                 0.0   99998.000000  "
            ]
          },
          "execution_count": 17,
          "metadata": {},
          "output_type": "execute_result"
        }
      ],
      "source": [
        "df.describe()"
      ]
    },
    {
      "attachments": {},
      "cell_type": "markdown",
      "metadata": {
        "id": "699ZT699eRFQ"
      },
      "source": [
        "There are some peculiar values that require attention in the dataset:\n",
        "\n",
        "- Zero price\n",
        "- Year of registration either being 1000 or 9999\n",
        "- Power values of either 0 or 20000\n",
        "- Mileage represented in kilometers, which could be treated as a categorical feature\n",
        "- Month of registration being 0\n",
        "- Number of images being constant at 0 for all data points\n",
        "- Postal code is unlikely to be a significant feature in the learning process.\n",
        "\n",
        "As for the last three columns, they do not provide valuable information for price determination and can be safely removed from the dataset, including date_crawled."
      ]
    },
    {
      "cell_type": "code",
      "execution_count": 18,
      "metadata": {
        "id": "2hNh4lGceRFQ"
      },
      "outputs": [],
      "source": [
        "df = df.drop(['date_crawled', 'registration_month', 'number_of_pictures', 'postal_code'], axis = 1)"
      ]
    },
    {
      "attachments": {},
      "cell_type": "markdown",
      "metadata": {
        "id": "qORxTEbaeRFR"
      },
      "source": [
        "### Data Preprocessing"
      ]
    },
    {
      "attachments": {},
      "cell_type": "markdown",
      "metadata": {
        "id": "uEl_3LODeRFR"
      },
      "source": [
        "#### Target feature - price"
      ]
    },
    {
      "cell_type": "code",
      "execution_count": 19,
      "metadata": {
        "colab": {
          "base_uri": "https://localhost:8080/",
          "height": 279
        },
        "id": "Ixl8Nn-SeRFR",
        "outputId": "a1ca4070-8903-4fd7-a35f-1fa7adccd137",
        "scrolled": true
      },
      "outputs": [
        {
          "data": {
            "image/png": "[encoded data removed]",
            "text/plain": [
              "<Figure size 432x288 with 1 Axes>"
            ]
          },
          "metadata": {
            "needs_background": "light"
          },
          "output_type": "display_data"
        }
      ],
      "source": [
        "sns.histplot(df['price']);"
      ]
    },
    {
      "attachments": {},
      "cell_type": "markdown",
      "metadata": {
        "id": "AITvmbaYeRFR"
      },
      "source": [
        "As expected, the distribution is skewed to the right with a significant number of cheaper cars compared to expensive ones. As this column represents the target variable, it is necessary to remove rows with zero values, as they cannot be utilized for training, validation, or testing purposes."
      ]
    },
    {
      "cell_type": "code",
      "execution_count": 20,
      "metadata": {
        "id": "GCzCc1R5eRFR"
      },
      "outputs": [],
      "source": [
        "df = df.query('price > 0')"
      ]
    },
    {
      "cell_type": "code",
      "execution_count": 21,
      "metadata": {
        "colab": {
          "base_uri": "https://localhost:8080/",
          "height": 280
        },
        "id": "X5UNnAWeeRFR",
        "outputId": "f28a3b7d-a9cc-41bd-b280-69dfc328ed59",
        "scrolled": false
      },
      "outputs": [
        {
          "data": {
            "image/png": "[encoded data removed]",
            "text/plain": [
              "<Figure size 432x288 with 1 Axes>"
            ]
          },
          "metadata": {
            "needs_background": "light"
          },
          "output_type": "display_data"
        }
      ],
      "source": [
        "sns.boxplot(y = 'price', x = 'not_repaired', data= df.query('price < 1000'));"
      ]
    },
    {
      "attachments": {},
      "cell_type": "markdown",
      "metadata": {
        "id": "CMDL54rpeRFR"
      },
      "source": [
        "It appears that the meaning of this column should be perceived in the opposite way, because a non-repaired car, that is, one that has been in an accident, cannot be worth more than a repaired one. I suggest renaming the column to avoid confusion."
      ]
    },
    {
      "cell_type": "code",
      "execution_count": 22,
      "metadata": {
        "colab": {
          "base_uri": "https://localhost:8080/"
        },
        "id": "KGpUSQ5meRFS",
        "outputId": "b5eff699-bbeb-423f-f400-5bf1c4db0948",
        "scrolled": false
      },
      "outputs": [
        {
          "data": {
            "text/plain": [
              "Index(['price', 'vehicle_type', 'registration_year', 'gearbox', 'power',\n",
              "       'model', 'kilometer', 'fuel_type', 'brand', 'not_repaired',\n",
              "       'date_created', 'last_seen'],\n",
              "      dtype='object')"
            ]
          },
          "execution_count": 22,
          "metadata": {},
          "output_type": "execute_result"
        }
      ],
      "source": [
        "df.columns"
      ]
    },
    {
      "cell_type": "code",
      "execution_count": 23,
      "metadata": {
        "id": "EaLYL_voeRFS"
      },
      "outputs": [],
      "source": [
        "df.columns = ['price', 'vehicle_type', 'registration_year', 'gearbox', 'power',\n",
        "       'model', 'kilometer', 'fuel_type', 'brand', 'repaired',\n",
        "       'date_created', 'last_seen']"
      ]
    },
    {
      "cell_type": "code",
      "execution_count": 24,
      "metadata": {
        "colab": {
          "base_uri": "https://localhost:8080/",
          "height": 279
        },
        "id": "erNS7zwreRFT",
        "outputId": "2109ee38-8711-466a-a396-6d097881374d",
        "scrolled": true
      },
      "outputs": [
        {
          "data": {
            "image/png": "[encoded data removed]",
            "text/plain": [
              "<Figure size 432x288 with 1 Axes>"
            ]
          },
          "metadata": {
            "needs_background": "light"
          },
          "output_type": "display_data"
        }
      ],
      "source": [
        "sns.histplot(df.query('price < 500')['price']);"
      ]
    },
    {
      "attachments": {},
      "cell_type": "markdown",
      "metadata": {
        "id": "YCPHr_LHeRFT"
      },
      "source": [
        "From the distribution, it is evident that prices are most frequently listed at increments of 50 euros. To simplify matters, it may be beneficial to round all prices up to the nearest increment of 50 euros. This is especially advisable given the significant number of listings priced at 1 euro."
      ]
    },
    {
      "cell_type": "code",
      "execution_count": 25,
      "metadata": {
        "id": "txGLuStueRFT"
      },
      "outputs": [],
      "source": [
        "df['price'] = round(df['price']/50)*50"
      ]
    },
    {
      "cell_type": "code",
      "execution_count": 26,
      "metadata": {
        "colab": {
          "base_uri": "https://localhost:8080/",
          "height": 279
        },
        "id": "_cqk4iQNeRFT",
        "outputId": "74735011-b855-4020-b322-7eb8227633fa"
      },
      "outputs": [
        {
          "data": {
            "image/png": "[encoded data removed]",
            "text/plain": [
              "<Figure size 432x288 with 1 Axes>"
            ]
          },
          "metadata": {
            "needs_background": "light"
          },
          "output_type": "display_data"
        }
      ],
      "source": [
        "sns.histplot(df.query('price<100')['price']);"
      ]
    },
    {
      "attachments": {},
      "cell_type": "markdown",
      "metadata": {
        "id": "KwKqQXz6eRFT"
      },
      "source": [
        "It is advisable to remove the values that have been rounded to zero as the price was only up to 25 euros, which is insignificant."
      ]
    },
    {
      "cell_type": "code",
      "execution_count": 27,
      "metadata": {
        "id": "zkoi5vaCeRFT"
      },
      "outputs": [],
      "source": [
        "df = df.query('price > 0')"
      ]
    },
    {
      "cell_type": "code",
      "execution_count": 28,
      "metadata": {
        "colab": {
          "base_uri": "https://localhost:8080/",
          "height": 279
        },
        "id": "mcANcb5HeRFT",
        "outputId": "f71e4eb2-203a-4188-c1a1-8e5438133849",
        "scrolled": true
      },
      "outputs": [
        {
          "data": {
            "image/png": "[encoded data removed]",
            "text/plain": [
              "<Figure size 432x288 with 1 Axes>"
            ]
          },
          "metadata": {
            "needs_background": "light"
          },
          "output_type": "display_data"
        }
      ],
      "source": [
        "sns.histplot(df.query('price<200')['price']);"
      ]
    },
    {
      "cell_type": "code",
      "execution_count": 29,
      "metadata": {
        "id": "Y6GcI4ApeRFT"
      },
      "outputs": [],
      "source": [
        "df['price'] = df['price'].astype(int)"
      ]
    },
    {
      "attachments": {},
      "cell_type": "markdown",
      "metadata": {
        "id": "0LnCPij7eRFU"
      },
      "source": [
        "Let's consider this option better."
      ]
    },
    {
      "cell_type": "code",
      "execution_count": 30,
      "metadata": {
        "colab": {
          "base_uri": "https://localhost:8080/"
        },
        "id": "-PDVN0_WeRFU",
        "outputId": "2d3e9e61-7431-43de-f514-fa4ec0af23eb",
        "scrolled": true
      },
      "outputs": [
        {
          "data": {
            "text/plain": [
              "count    210164.000000\n",
              "mean       4583.017786\n",
              "std        4523.430280\n",
              "min          50.000000\n",
              "25%        1200.000000\n",
              "50%        2900.000000\n",
              "75%        6500.000000\n",
              "max       20000.000000\n",
              "Name: price, dtype: float64"
            ]
          },
          "execution_count": 30,
          "metadata": {},
          "output_type": "execute_result"
        }
      ],
      "source": [
        "# код ревьюера\n",
        "df['price'].describe()"
      ]
    },
    {
      "attachments": {},
      "cell_type": "markdown",
      "metadata": {
        "id": "SPFnua8WeRFX"
      },
      "source": [
        "#### Registration Year"
      ]
    },
    {
      "cell_type": "code",
      "execution_count": 31,
      "metadata": {
        "colab": {
          "base_uri": "https://localhost:8080/"
        },
        "id": "munqOua4eRFX",
        "outputId": "57dfc3e1-ed7f-4aad-a449-7e34c537c4ca",
        "scrolled": true
      },
      "outputs": [
        {
          "data": {
            "text/plain": [
              "32"
            ]
          },
          "execution_count": 31,
          "metadata": {},
          "output_type": "execute_result"
        }
      ],
      "source": [
        "# The advent of the first automobile took place in 1885, marking a significant milestone in the history of transportation.\n",
        "df[df['registration_year'] < 1885]['registration_year'].count()"
      ]
    },
    {
      "cell_type": "code",
      "execution_count": 32,
      "metadata": {
        "colab": {
          "base_uri": "https://localhost:8080/"
        },
        "id": "yFAkZ3sceRFX",
        "outputId": "cdc6b334-6cd9-46ca-d617-b0e0f804f957"
      },
      "outputs": [
        {
          "data": {
            "text/plain": [
              "48"
            ]
          },
          "execution_count": 32,
          "metadata": {},
          "output_type": "execute_result"
        }
      ],
      "source": [
        "df[df['registration_year'] > 2022]['registration_year'].count()"
      ]
    },
    {
      "attachments": {},
      "cell_type": "markdown",
      "metadata": {
        "id": "lrKtsXPPeRFY"
      },
      "source": [
        "These lines with these values can be safely removed as there are only a few of them and they may negatively impact the model."
      ]
    },
    {
      "cell_type": "code",
      "execution_count": 33,
      "metadata": {
        "id": "xapGQ4qeeRFY"
      },
      "outputs": [],
      "source": [
        "df = df.query('1885 < registration_year < 2022')"
      ]
    },
    {
      "cell_type": "code",
      "execution_count": 34,
      "metadata": {
        "colab": {
          "base_uri": "https://localhost:8080/",
          "height": 280
        },
        "id": "fi1kA2lBeRFY",
        "outputId": "3f44467a-ec14-4b8f-dc8b-f8cee15d4752",
        "scrolled": false
      },
      "outputs": [
        {
          "data": {
            "image/png": "[encoded data removed]",
            "text/plain": [
              "<Figure size 432x288 with 1 Axes>"
            ]
          },
          "metadata": {
            "needs_background": "light"
          },
          "output_type": "display_data"
        }
      ],
      "source": [
        "sns.histplot(df['registration_year']);"
      ]
    },
    {
      "attachments": {},
      "cell_type": "markdown",
      "metadata": {
        "id": "p0jdtrxaeRFY"
      },
      "source": [
        "What kind of car is it with a registration year before 1960?"
      ]
    },
    {
      "cell_type": "code",
      "execution_count": 35,
      "metadata": {
        "colab": {
          "base_uri": "https://localhost:8080/",
          "height": 835
        },
        "id": "sfmzW76VeRFZ",
        "outputId": "b9a3734d-81d8-440a-881f-68c91158662a"
      },
      "outputs": [
        {
          "data": {
            "text/html": [
              "\n",
              "  <div id=\"df-6dfce40a-263e-47a1-ba42-96fdd84732ff\">\n",
              "    <div class=\"colab-df-container\">\n",
              "      <div>\n",
              "<style scoped>\n",
              "    .dataframe tbody tr th:only-of-type {\n",
              "        vertical-align: middle;\n",
              "    }\n",
              "\n",
              "    .dataframe tbody tr th {\n",
              "        vertical-align: top;\n",
              "    }\n",
              "\n",
              "    .dataframe thead th {\n",
              "        text-align: right;\n",
              "    }\n",
              "</style>\n",
              "<table border=\"1\" class=\"dataframe\">\n",
              "  <thead>\n",
              "    <tr style=\"text-align: right;\">\n",
              "      <th></th>\n",
              "      <th>price</th>\n",
              "      <th>vehicle_type</th>\n",
              "      <th>registration_year</th>\n",
              "      <th>gearbox</th>\n",
              "      <th>power</th>\n",
              "      <th>model</th>\n",
              "      <th>kilometer</th>\n",
              "      <th>fuel_type</th>\n",
              "      <th>brand</th>\n",
              "      <th>repaired</th>\n",
              "      <th>date_created</th>\n",
              "      <th>last_seen</th>\n",
              "    </tr>\n",
              "  </thead>\n",
              "  <tbody>\n",
              "    <tr>\n",
              "      <th>15</th>\n",
              "      <td>450</td>\n",
              "      <td>small</td>\n",
              "      <td>1910</td>\n",
              "      <td>NaN</td>\n",
              "      <td>0</td>\n",
              "      <td>ka</td>\n",
              "      <td>5000</td>\n",
              "      <td>petrol</td>\n",
              "      <td>ford</td>\n",
              "      <td>NaN</td>\n",
              "      <td>2016-03-11 00:00:00</td>\n",
              "      <td>2016-03-19 08:46:47</td>\n",
              "    </tr>\n",
              "    <tr>\n",
              "      <th>1928</th>\n",
              "      <td>7000</td>\n",
              "      <td>suv</td>\n",
              "      <td>1945</td>\n",
              "      <td>manual</td>\n",
              "      <td>48</td>\n",
              "      <td>other</td>\n",
              "      <td>150000</td>\n",
              "      <td>petrol</td>\n",
              "      <td>volkswagen</td>\n",
              "      <td>no</td>\n",
              "      <td>2016-03-25 00:00:00</td>\n",
              "      <td>2016-03-25 15:58:21</td>\n",
              "    </tr>\n",
              "    <tr>\n",
              "      <th>2273</th>\n",
              "      <td>1800</td>\n",
              "      <td>convertible</td>\n",
              "      <td>1925</td>\n",
              "      <td>NaN</td>\n",
              "      <td>0</td>\n",
              "      <td>NaN</td>\n",
              "      <td>5000</td>\n",
              "      <td>NaN</td>\n",
              "      <td>sonstige_autos</td>\n",
              "      <td>no</td>\n",
              "      <td>2016-03-15 00:00:00</td>\n",
              "      <td>2016-04-07 05:15:34</td>\n",
              "    </tr>\n",
              "    <tr>\n",
              "      <th>3333</th>\n",
              "      <td>10500</td>\n",
              "      <td>sedan</td>\n",
              "      <td>1955</td>\n",
              "      <td>manual</td>\n",
              "      <td>30</td>\n",
              "      <td>other</td>\n",
              "      <td>60000</td>\n",
              "      <td>petrol</td>\n",
              "      <td>ford</td>\n",
              "      <td>NaN</td>\n",
              "      <td>2016-03-15 00:00:00</td>\n",
              "      <td>2016-04-07 08:16:11</td>\n",
              "    </tr>\n",
              "    <tr>\n",
              "      <th>6977</th>\n",
              "      <td>150</td>\n",
              "      <td>NaN</td>\n",
              "      <td>1910</td>\n",
              "      <td>NaN</td>\n",
              "      <td>0</td>\n",
              "      <td>NaN</td>\n",
              "      <td>5000</td>\n",
              "      <td>NaN</td>\n",
              "      <td>opel</td>\n",
              "      <td>NaN</td>\n",
              "      <td>2016-03-24 00:00:00</td>\n",
              "      <td>2016-04-06 20:46:08</td>\n",
              "    </tr>\n",
              "    <tr>\n",
              "      <th>...</th>\n",
              "      <td>...</td>\n",
              "      <td>...</td>\n",
              "      <td>...</td>\n",
              "      <td>...</td>\n",
              "      <td>...</td>\n",
              "      <td>...</td>\n",
              "      <td>...</td>\n",
              "      <td>...</td>\n",
              "      <td>...</td>\n",
              "      <td>...</td>\n",
              "      <td>...</td>\n",
              "      <td>...</td>\n",
              "    </tr>\n",
              "    <tr>\n",
              "      <th>209144</th>\n",
              "      <td>350</td>\n",
              "      <td>suv</td>\n",
              "      <td>1956</td>\n",
              "      <td>NaN</td>\n",
              "      <td>0</td>\n",
              "      <td>NaN</td>\n",
              "      <td>5000</td>\n",
              "      <td>petrol</td>\n",
              "      <td>sonstige_autos</td>\n",
              "      <td>NaN</td>\n",
              "      <td>2016-03-11 00:00:00</td>\n",
              "      <td>2016-03-11 08:52:23</td>\n",
              "    </tr>\n",
              "    <tr>\n",
              "      <th>211397</th>\n",
              "      <td>6500</td>\n",
              "      <td>sedan</td>\n",
              "      <td>1959</td>\n",
              "      <td>manual</td>\n",
              "      <td>101</td>\n",
              "      <td>other</td>\n",
              "      <td>125000</td>\n",
              "      <td>petrol</td>\n",
              "      <td>bmw</td>\n",
              "      <td>yes</td>\n",
              "      <td>2016-03-05 00:00:00</td>\n",
              "      <td>2016-04-07 14:58:39</td>\n",
              "    </tr>\n",
              "    <tr>\n",
              "      <th>212091</th>\n",
              "      <td>200</td>\n",
              "      <td>NaN</td>\n",
              "      <td>1910</td>\n",
              "      <td>NaN</td>\n",
              "      <td>0</td>\n",
              "      <td>NaN</td>\n",
              "      <td>5000</td>\n",
              "      <td>NaN</td>\n",
              "      <td>trabant</td>\n",
              "      <td>NaN</td>\n",
              "      <td>2016-04-02 00:00:00</td>\n",
              "      <td>2016-04-06 22:44:37</td>\n",
              "    </tr>\n",
              "    <tr>\n",
              "      <th>216233</th>\n",
              "      <td>6500</td>\n",
              "      <td>other</td>\n",
              "      <td>1950</td>\n",
              "      <td>manual</td>\n",
              "      <td>0</td>\n",
              "      <td>NaN</td>\n",
              "      <td>5000</td>\n",
              "      <td>other</td>\n",
              "      <td>sonstige_autos</td>\n",
              "      <td>no</td>\n",
              "      <td>2016-03-24 00:00:00</td>\n",
              "      <td>2016-04-06 03:44:53</td>\n",
              "    </tr>\n",
              "    <tr>\n",
              "      <th>216298</th>\n",
              "      <td>1300</td>\n",
              "      <td>other</td>\n",
              "      <td>1956</td>\n",
              "      <td>manual</td>\n",
              "      <td>34</td>\n",
              "      <td>NaN</td>\n",
              "      <td>10000</td>\n",
              "      <td>gasoline</td>\n",
              "      <td>sonstige_autos</td>\n",
              "      <td>NaN</td>\n",
              "      <td>2016-03-06 00:00:00</td>\n",
              "      <td>2016-03-13 02:16:32</td>\n",
              "    </tr>\n",
              "  </tbody>\n",
              "</table>\n",
              "<p>159 rows × 12 columns</p>\n",
              "</div>\n",
              "      <button class=\"colab-df-convert\" onclick=\"convertToInteractive('df-6dfce40a-263e-47a1-ba42-96fdd84732ff')\"\n",
              "              title=\"Convert this dataframe to an interactive table.\"\n",
              "              style=\"display:none;\">\n",
              "        \n",
              "  <svg xmlns=\"http://www.w3.org/2000/svg\" height=\"24px\"viewBox=\"0 0 24 24\"\n",
              "       width=\"24px\">\n",
              "    <path d=\"M0 0h24v24H0V0z\" fill=\"none\"/>\n",
              "    <path d=\"M18.56 5.44l.94 2.06.94-2.06 2.06-.94-2.06-.94-.94-2.06-.94 2.06-2.06.94zm-11 1L8.5 8.5l.94-2.06 2.06-.94-2.06-.94L8.5 2.5l-.94 2.06-2.06.94zm10 10l.94 2.06.94-2.06 2.06-.94-2.06-.94-.94-2.06-.94 2.06-2.06.94z\"/><path d=\"M17.41 7.96l-1.37-1.37c-.4-.4-.92-.59-1.43-.59-.52 0-1.04.2-1.43.59L10.3 9.45l-7.72 7.72c-.78.78-.78 2.05 0 2.83L4 21.41c.39.39.9.59 1.41.59.51 0 1.02-.2 1.41-.59l7.78-7.78 2.81-2.81c.8-.78.8-2.07 0-2.86zM5.41 20L4 18.59l7.72-7.72 1.47 1.35L5.41 20z\"/>\n",
              "  </svg>\n",
              "      </button>\n",
              "      \n",
              "  <style>\n",
              "    .colab-df-container {\n",
              "      display:flex;\n",
              "      flex-wrap:wrap;\n",
              "      gap: 12px;\n",
              "    }\n",
              "\n",
              "    .colab-df-convert {\n",
              "      background-color: #E8F0FE;\n",
              "      border: none;\n",
              "      border-radius: 50%;\n",
              "      cursor: pointer;\n",
              "      display: none;\n",
              "      fill: #1967D2;\n",
              "      height: 32px;\n",
              "      padding: 0 0 0 0;\n",
              "      width: 32px;\n",
              "    }\n",
              "\n",
              "    .colab-df-convert:hover {\n",
              "      background-color: #E2EBFA;\n",
              "      box-shadow: 0px 1px 2px rgba(60, 64, 67, 0.3), 0px 1px 3px 1px rgba(60, 64, 67, 0.15);\n",
              "      fill: #174EA6;\n",
              "    }\n",
              "\n",
              "    [theme=dark] .colab-df-convert {\n",
              "      background-color: #3B4455;\n",
              "      fill: #D2E3FC;\n",
              "    }\n",
              "\n",
              "    [theme=dark] .colab-df-convert:hover {\n",
              "      background-color: #434B5C;\n",
              "      box-shadow: 0px 1px 3px 1px rgba(0, 0, 0, 0.15);\n",
              "      filter: drop-shadow(0px 1px 2px rgba(0, 0, 0, 0.3));\n",
              "      fill: #FFFFFF;\n",
              "    }\n",
              "  </style>\n",
              "\n",
              "      <script>\n",
              "        const buttonEl =\n",
              "          document.querySelector('#df-6dfce40a-263e-47a1-ba42-96fdd84732ff button.colab-df-convert');\n",
              "        buttonEl.style.display =\n",
              "          google.colab.kernel.accessAllowed ? 'block' : 'none';\n",
              "\n",
              "        async function convertToInteractive(key) {\n",
              "          const element = document.querySelector('#df-6dfce40a-263e-47a1-ba42-96fdd84732ff');\n",
              "          const dataTable =\n",
              "            await google.colab.kernel.invokeFunction('convertToInteractive',\n",
              "                                                     [key], {});\n",
              "          if (!dataTable) return;\n",
              "\n",
              "          const docLinkHtml = 'Like what you see? Visit the ' +\n",
              "            '<a target=\"_blank\" href=https://colab.research.google.com/notebooks/data_table.ipynb>data table notebook</a>'\n",
              "            + ' to learn more about interactive tables.';\n",
              "          element.innerHTML = '';\n",
              "          dataTable['output_type'] = 'display_data';\n",
              "          await google.colab.output.renderOutput(dataTable, element);\n",
              "          const docLink = document.createElement('div');\n",
              "          docLink.innerHTML = docLinkHtml;\n",
              "          element.appendChild(docLink);\n",
              "        }\n",
              "      </script>\n",
              "    </div>\n",
              "  </div>\n",
              "  "
            ],
            "text/plain": [
              "        price vehicle_type  registration_year gearbox  power  model  \\\n",
              "15        450        small               1910     NaN      0     ka   \n",
              "1928     7000          suv               1945  manual     48  other   \n",
              "2273     1800  convertible               1925     NaN      0    NaN   \n",
              "3333    10500        sedan               1955  manual     30  other   \n",
              "6977      150          NaN               1910     NaN      0    NaN   \n",
              "...       ...          ...                ...     ...    ...    ...   \n",
              "209144    350          suv               1956     NaN      0    NaN   \n",
              "211397   6500        sedan               1959  manual    101  other   \n",
              "212091    200          NaN               1910     NaN      0    NaN   \n",
              "216233   6500        other               1950  manual      0    NaN   \n",
              "216298   1300        other               1956  manual     34    NaN   \n",
              "\n",
              "        kilometer fuel_type           brand repaired         date_created  \\\n",
              "15           5000    petrol            ford      NaN  2016-03-11 00:00:00   \n",
              "1928       150000    petrol      volkswagen       no  2016-03-25 00:00:00   \n",
              "2273         5000       NaN  sonstige_autos       no  2016-03-15 00:00:00   \n",
              "3333        60000    petrol            ford      NaN  2016-03-15 00:00:00   \n",
              "6977         5000       NaN            opel      NaN  2016-03-24 00:00:00   \n",
              "...           ...       ...             ...      ...                  ...   \n",
              "209144       5000    petrol  sonstige_autos      NaN  2016-03-11 00:00:00   \n",
              "211397     125000    petrol             bmw      yes  2016-03-05 00:00:00   \n",
              "212091       5000       NaN         trabant      NaN  2016-04-02 00:00:00   \n",
              "216233       5000     other  sonstige_autos       no  2016-03-24 00:00:00   \n",
              "216298      10000  gasoline  sonstige_autos      NaN  2016-03-06 00:00:00   \n",
              "\n",
              "                  last_seen  \n",
              "15      2016-03-19 08:46:47  \n",
              "1928    2016-03-25 15:58:21  \n",
              "2273    2016-04-07 05:15:34  \n",
              "3333    2016-04-07 08:16:11  \n",
              "6977    2016-04-06 20:46:08  \n",
              "...                     ...  \n",
              "209144  2016-03-11 08:52:23  \n",
              "211397  2016-04-07 14:58:39  \n",
              "212091  2016-04-06 22:44:37  \n",
              "216233  2016-04-06 03:44:53  \n",
              "216298  2016-03-13 02:16:32  \n",
              "\n",
              "[159 rows x 12 columns]"
            ]
          },
          "execution_count": 35,
          "metadata": {},
          "output_type": "execute_result"
        }
      ],
      "source": [
        "df.query('registration_year < 1960')"
      ]
    },
    {
      "attachments": {},
      "cell_type": "markdown",
      "metadata": {
        "id": "gNRFhiFQeRFZ"
      },
      "source": [
        "The Volkswagen Passat was first produced in 1973, my dear. However, it says 1953 here, which is clearly a mistake"
      ]
    },
    {
      "cell_type": "code",
      "execution_count": 36,
      "metadata": {
        "colab": {
          "base_uri": "https://localhost:8080/",
          "height": 335
        },
        "id": "GBHl9kA-eRFZ",
        "outputId": "6b8b93e3-f8fa-4470-956b-d2012628ca8b"
      },
      "outputs": [
        {
          "data": {
            "image/png": "[encoded data removed]",
            "text/plain": [
              "<Figure size 1080x360 with 1 Axes>"
            ]
          },
          "metadata": {
            "needs_background": "light"
          },
          "output_type": "display_data"
        }
      ],
      "source": [
        "plt.figure(figsize=(15, 5))\n",
        "sns.boxplot(df['registration_year']);"
      ]
    },
    {
      "attachments": {},
      "cell_type": "markdown",
      "metadata": {
        "id": "6wVLhkqmeRFa"
      },
      "source": [
        "It appears that it would be better to eliminate the values prior to 1985 as they are outliers."
      ]
    },
    {
      "cell_type": "code",
      "execution_count": 37,
      "metadata": {
        "id": "cYjewwNQeRFa"
      },
      "outputs": [],
      "source": [
        "df = df.query('registration_year > 1985')"
      ]
    },
    {
      "cell_type": "code",
      "execution_count": 38,
      "metadata": {
        "colab": {
          "base_uri": "https://localhost:8080/",
          "height": 319
        },
        "id": "tQZtlrGSeRFa",
        "outputId": "8b9849c7-fadc-49a8-ea1b-260610546b1e"
      },
      "outputs": [
        {
          "data": {
            "image/png": "[encoded data removed]",
            "text/plain": [
              "<Figure size 1080x360 with 1 Axes>"
            ]
          },
          "metadata": {
            "needs_background": "light"
          },
          "output_type": "display_data"
        }
      ],
      "source": [
        "plt.figure(figsize=(15, 5))\n",
        "sns.histplot(df['registration_year']);"
      ]
    },
    {
      "attachments": {},
      "cell_type": "markdown",
      "metadata": {
        "id": "ZGQc-XYheRFa"
      },
      "source": [
        "the distribution has three vertices - ~1998, 2005 and 2017. Perhaps the values after 2015 will interfere, because they form a separate peak on the edge, and it's worth getting rid of them"
      ]
    },
    {
      "cell_type": "code",
      "execution_count": 39,
      "metadata": {
        "id": "oq8T756XeRFa"
      },
      "outputs": [],
      "source": [
        "df = df.query('registration_year < 2016')"
      ]
    },
    {
      "attachments": {},
      "cell_type": "markdown",
      "metadata": {
        "id": "KrDQNZG6eRFa"
      },
      "source": [
        "#### Power"
      ]
    },
    {
      "cell_type": "code",
      "execution_count": 40,
      "metadata": {
        "colab": {
          "base_uri": "https://localhost:8080/"
        },
        "id": "Hlwcfn0BeRFa",
        "outputId": "eaf29a33-f641-4cc2-d2fa-d43baafb43fe",
        "scrolled": true
      },
      "outputs": [
        {
          "data": {
            "text/plain": [
              "0     17402\n",
              "45     1624\n",
              "41      272\n",
              "44      173\n",
              "40      145\n",
              "26       85\n",
              "39       63\n",
              "5        62\n",
              "43       60\n",
              "48       38\n",
              "42       30\n",
              "46       26\n",
              "33       24\n",
              "11       21\n",
              "37       20\n",
              "34       19\n",
              "4        17\n",
              "47       16\n",
              "27       15\n",
              "1        11\n",
              "15       10\n",
              "24        9\n",
              "14        9\n",
              "6         8\n",
              "49        8\n",
              "25        7\n",
              "7         7\n",
              "12        7\n",
              "20        7\n",
              "2         6\n",
              "29        4\n",
              "23        4\n",
              "19        4\n",
              "8         4\n",
              "18        4\n",
              "38        4\n",
              "30        4\n",
              "16        3\n",
              "35        3\n",
              "17        2\n",
              "10        2\n",
              "3         2\n",
              "32        2\n",
              "31        2\n",
              "9         1\n",
              "22        1\n",
              "21        1\n",
              "36        1\n",
              "Name: power, dtype: int64"
            ]
          },
          "execution_count": 40,
          "metadata": {},
          "output_type": "execute_result"
        }
      ],
      "source": [
        "df[df['power'] < 50]['power'].value_counts()"
      ]
    },
    {
      "cell_type": "code",
      "execution_count": 41,
      "metadata": {
        "colab": {
          "base_uri": "https://localhost:8080/",
          "height": 1000
        },
        "id": "skhqrEIEeRFb",
        "outputId": "61e775de-fa1b-4b43-bd5b-20f2ef93b41f",
        "scrolled": true
      },
      "outputs": [
        {
          "data": {
            "text/html": [
              "\n",
              "  <div id=\"df-2318f7fd-69cc-431d-9ba9-4d357b70c805\">\n",
              "    <div class=\"colab-df-container\">\n",
              "      <div>\n",
              "<style scoped>\n",
              "    .dataframe tbody tr th:only-of-type {\n",
              "        vertical-align: middle;\n",
              "    }\n",
              "\n",
              "    .dataframe tbody tr th {\n",
              "        vertical-align: top;\n",
              "    }\n",
              "\n",
              "    .dataframe thead tr th {\n",
              "        text-align: left;\n",
              "    }\n",
              "\n",
              "    .dataframe thead tr:last-of-type th {\n",
              "        text-align: right;\n",
              "    }\n",
              "</style>\n",
              "<table border=\"1\" class=\"dataframe\">\n",
              "  <thead>\n",
              "    <tr>\n",
              "      <th></th>\n",
              "      <th></th>\n",
              "      <th></th>\n",
              "      <th>min</th>\n",
              "      <th>max</th>\n",
              "      <th>mean</th>\n",
              "      <th>count</th>\n",
              "    </tr>\n",
              "    <tr>\n",
              "      <th></th>\n",
              "      <th></th>\n",
              "      <th></th>\n",
              "      <th>power</th>\n",
              "      <th>power</th>\n",
              "      <th>power</th>\n",
              "      <th>power</th>\n",
              "    </tr>\n",
              "    <tr>\n",
              "      <th>brand</th>\n",
              "      <th>model</th>\n",
              "      <th>vehicle_type</th>\n",
              "      <th></th>\n",
              "      <th></th>\n",
              "      <th></th>\n",
              "      <th></th>\n",
              "    </tr>\n",
              "  </thead>\n",
              "  <tbody>\n",
              "    <tr>\n",
              "      <th rowspan=\"2\" valign=\"top\">alfa_romeo</th>\n",
              "      <th>147</th>\n",
              "      <th>small</th>\n",
              "      <td>15020</td>\n",
              "      <td>15020</td>\n",
              "      <td>15020.000000</td>\n",
              "      <td>1</td>\n",
              "    </tr>\n",
              "    <tr>\n",
              "      <th>other</th>\n",
              "      <th>coupe</th>\n",
              "      <td>15033</td>\n",
              "      <td>15033</td>\n",
              "      <td>15033.000000</td>\n",
              "      <td>1</td>\n",
              "    </tr>\n",
              "    <tr>\n",
              "      <th rowspan=\"6\" valign=\"top\">audi</th>\n",
              "      <th rowspan=\"2\" valign=\"top\">80</th>\n",
              "      <th>sedan</th>\n",
              "      <td>11635</td>\n",
              "      <td>11635</td>\n",
              "      <td>11635.000000</td>\n",
              "      <td>1</td>\n",
              "    </tr>\n",
              "    <tr>\n",
              "      <th>wagon</th>\n",
              "      <td>17410</td>\n",
              "      <td>17410</td>\n",
              "      <td>17410.000000</td>\n",
              "      <td>1</td>\n",
              "    </tr>\n",
              "    <tr>\n",
              "      <th>a3</th>\n",
              "      <th>sedan</th>\n",
              "      <td>17011</td>\n",
              "      <td>17011</td>\n",
              "      <td>17011.000000</td>\n",
              "      <td>1</td>\n",
              "    </tr>\n",
              "    <tr>\n",
              "      <th rowspan=\"2\" valign=\"top\">a4</th>\n",
              "      <th>convertible</th>\n",
              "      <td>16312</td>\n",
              "      <td>16312</td>\n",
              "      <td>16312.000000</td>\n",
              "      <td>1</td>\n",
              "    </tr>\n",
              "    <tr>\n",
              "      <th>wagon</th>\n",
              "      <td>1896</td>\n",
              "      <td>11011</td>\n",
              "      <td>6453.500000</td>\n",
              "      <td>2</td>\n",
              "    </tr>\n",
              "    <tr>\n",
              "      <th>a6</th>\n",
              "      <th>wagon</th>\n",
              "      <td>2331</td>\n",
              "      <td>2331</td>\n",
              "      <td>2331.000000</td>\n",
              "      <td>1</td>\n",
              "    </tr>\n",
              "    <tr>\n",
              "      <th rowspan=\"5\" valign=\"top\">bmw</th>\n",
              "      <th>1er</th>\n",
              "      <th>sedan</th>\n",
              "      <td>19211</td>\n",
              "      <td>19211</td>\n",
              "      <td>19211.000000</td>\n",
              "      <td>1</td>\n",
              "    </tr>\n",
              "    <tr>\n",
              "      <th rowspan=\"3\" valign=\"top\">3er</th>\n",
              "      <th>convertible</th>\n",
              "      <td>2016</td>\n",
              "      <td>2016</td>\n",
              "      <td>2016.000000</td>\n",
              "      <td>1</td>\n",
              "    </tr>\n",
              "    <tr>\n",
              "      <th>sedan</th>\n",
              "      <td>1895</td>\n",
              "      <td>1993</td>\n",
              "      <td>1944.000000</td>\n",
              "      <td>2</td>\n",
              "    </tr>\n",
              "    <tr>\n",
              "      <th>wagon</th>\n",
              "      <td>17019</td>\n",
              "      <td>17019</td>\n",
              "      <td>17019.000000</td>\n",
              "      <td>1</td>\n",
              "    </tr>\n",
              "    <tr>\n",
              "      <th>5er</th>\n",
              "      <th>wagon</th>\n",
              "      <td>2729</td>\n",
              "      <td>19208</td>\n",
              "      <td>13212.333333</td>\n",
              "      <td>3</td>\n",
              "    </tr>\n",
              "    <tr>\n",
              "      <th>chevrolet</th>\n",
              "      <th>spark</th>\n",
              "      <th>small</th>\n",
              "      <td>8259</td>\n",
              "      <td>8259</td>\n",
              "      <td>8259.000000</td>\n",
              "      <td>1</td>\n",
              "    </tr>\n",
              "    <tr>\n",
              "      <th rowspan=\"3\" valign=\"top\">citroen</th>\n",
              "      <th>berlingo</th>\n",
              "      <th>wagon</th>\n",
              "      <td>1780</td>\n",
              "      <td>1780</td>\n",
              "      <td>1780.000000</td>\n",
              "      <td>1</td>\n",
              "    </tr>\n",
              "    <tr>\n",
              "      <th>c5</th>\n",
              "      <th>wagon</th>\n",
              "      <td>1900</td>\n",
              "      <td>1900</td>\n",
              "      <td>1900.000000</td>\n",
              "      <td>1</td>\n",
              "    </tr>\n",
              "    <tr>\n",
              "      <th>other</th>\n",
              "      <th>wagon</th>\n",
              "      <td>2000</td>\n",
              "      <td>2000</td>\n",
              "      <td>2000.000000</td>\n",
              "      <td>1</td>\n",
              "    </tr>\n",
              "    <tr>\n",
              "      <th rowspan=\"3\" valign=\"top\">fiat</th>\n",
              "      <th>seicento</th>\n",
              "      <th>small</th>\n",
              "      <td>5411</td>\n",
              "      <td>5411</td>\n",
              "      <td>5411.000000</td>\n",
              "      <td>1</td>\n",
              "    </tr>\n",
              "    <tr>\n",
              "      <th rowspan=\"2\" valign=\"top\">stilo</th>\n",
              "      <th>coupe</th>\n",
              "      <td>1900</td>\n",
              "      <td>1900</td>\n",
              "      <td>1900.000000</td>\n",
              "      <td>1</td>\n",
              "    </tr>\n",
              "    <tr>\n",
              "      <th>wagon</th>\n",
              "      <td>1920</td>\n",
              "      <td>1920</td>\n",
              "      <td>1920.000000</td>\n",
              "      <td>1</td>\n",
              "    </tr>\n",
              "    <tr>\n",
              "      <th rowspan=\"2\" valign=\"top\">ford</th>\n",
              "      <th>fiesta</th>\n",
              "      <th>small</th>\n",
              "      <td>15001</td>\n",
              "      <td>15001</td>\n",
              "      <td>15001.000000</td>\n",
              "      <td>1</td>\n",
              "    </tr>\n",
              "    <tr>\n",
              "      <th>focus</th>\n",
              "      <th>wagon</th>\n",
              "      <td>1753</td>\n",
              "      <td>11530</td>\n",
              "      <td>5012.000000</td>\n",
              "      <td>3</td>\n",
              "    </tr>\n",
              "    <tr>\n",
              "      <th>kia</th>\n",
              "      <th>ceed</th>\n",
              "      <th>wagon</th>\n",
              "      <td>11509</td>\n",
              "      <td>11509</td>\n",
              "      <td>11509.000000</td>\n",
              "      <td>1</td>\n",
              "    </tr>\n",
              "    <tr>\n",
              "      <th rowspan=\"6\" valign=\"top\">mercedes_benz</th>\n",
              "      <th rowspan=\"2\" valign=\"top\">c_klasse</th>\n",
              "      <th>sedan</th>\n",
              "      <td>2799</td>\n",
              "      <td>2799</td>\n",
              "      <td>2799.000000</td>\n",
              "      <td>1</td>\n",
              "    </tr>\n",
              "    <tr>\n",
              "      <th>wagon</th>\n",
              "      <td>1796</td>\n",
              "      <td>1796</td>\n",
              "      <td>1796.000000</td>\n",
              "      <td>1</td>\n",
              "    </tr>\n",
              "    <tr>\n",
              "      <th rowspan=\"2\" valign=\"top\">e_klasse</th>\n",
              "      <th>sedan</th>\n",
              "      <td>1771</td>\n",
              "      <td>3454</td>\n",
              "      <td>2612.500000</td>\n",
              "      <td>2</td>\n",
              "    </tr>\n",
              "    <tr>\n",
              "      <th>wagon</th>\n",
              "      <td>3199</td>\n",
              "      <td>3199</td>\n",
              "      <td>3199.000000</td>\n",
              "      <td>1</td>\n",
              "    </tr>\n",
              "    <tr>\n",
              "      <th>s_klasse</th>\n",
              "      <th>coupe</th>\n",
              "      <td>2789</td>\n",
              "      <td>2789</td>\n",
              "      <td>2789.000000</td>\n",
              "      <td>1</td>\n",
              "    </tr>\n",
              "    <tr>\n",
              "      <th>sprinter</th>\n",
              "      <th>wagon</th>\n",
              "      <td>2005</td>\n",
              "      <td>2005</td>\n",
              "      <td>2005.000000</td>\n",
              "      <td>1</td>\n",
              "    </tr>\n",
              "    <tr>\n",
              "      <th>mini</th>\n",
              "      <th>cooper</th>\n",
              "      <th>small</th>\n",
              "      <td>6018</td>\n",
              "      <td>6018</td>\n",
              "      <td>6018.000000</td>\n",
              "      <td>1</td>\n",
              "    </tr>\n",
              "    <tr>\n",
              "      <th rowspan=\"10\" valign=\"top\">opel</th>\n",
              "      <th rowspan=\"2\" valign=\"top\">agila</th>\n",
              "      <th>sedan</th>\n",
              "      <td>6010</td>\n",
              "      <td>6010</td>\n",
              "      <td>6010.000000</td>\n",
              "      <td>1</td>\n",
              "    </tr>\n",
              "    <tr>\n",
              "      <th>small</th>\n",
              "      <td>5867</td>\n",
              "      <td>5867</td>\n",
              "      <td>5867.000000</td>\n",
              "      <td>1</td>\n",
              "    </tr>\n",
              "    <tr>\n",
              "      <th rowspan=\"2\" valign=\"top\">astra</th>\n",
              "      <th>sedan</th>\n",
              "      <td>12510</td>\n",
              "      <td>12510</td>\n",
              "      <td>12510.000000</td>\n",
              "      <td>1</td>\n",
              "    </tr>\n",
              "    <tr>\n",
              "      <th>small</th>\n",
              "      <td>7508</td>\n",
              "      <td>7508</td>\n",
              "      <td>7508.000000</td>\n",
              "      <td>1</td>\n",
              "    </tr>\n",
              "    <tr>\n",
              "      <th rowspan=\"2\" valign=\"top\">corsa</th>\n",
              "      <th>sedan</th>\n",
              "      <td>6512</td>\n",
              "      <td>6512</td>\n",
              "      <td>6512.000000</td>\n",
              "      <td>1</td>\n",
              "    </tr>\n",
              "    <tr>\n",
              "      <th>small</th>\n",
              "      <td>5809</td>\n",
              "      <td>5809</td>\n",
              "      <td>5809.000000</td>\n",
              "      <td>1</td>\n",
              "    </tr>\n",
              "    <tr>\n",
              "      <th>omega</th>\n",
              "      <th>sedan</th>\n",
              "      <td>17932</td>\n",
              "      <td>17932</td>\n",
              "      <td>17932.000000</td>\n",
              "      <td>1</td>\n",
              "    </tr>\n",
              "    <tr>\n",
              "      <th rowspan=\"3\" valign=\"top\">vectra</th>\n",
              "      <th>sedan</th>\n",
              "      <td>1800</td>\n",
              "      <td>1800</td>\n",
              "      <td>1800.000000</td>\n",
              "      <td>1</td>\n",
              "    </tr>\n",
              "    <tr>\n",
              "      <th>small</th>\n",
              "      <td>1800</td>\n",
              "      <td>1800</td>\n",
              "      <td>1800.000000</td>\n",
              "      <td>1</td>\n",
              "    </tr>\n",
              "    <tr>\n",
              "      <th>wagon</th>\n",
              "      <td>2172</td>\n",
              "      <td>2172</td>\n",
              "      <td>2172.000000</td>\n",
              "      <td>1</td>\n",
              "    </tr>\n",
              "    <tr>\n",
              "      <th rowspan=\"3\" valign=\"top\">renault</th>\n",
              "      <th>laguna</th>\n",
              "      <th>sedan</th>\n",
              "      <td>1998</td>\n",
              "      <td>1998</td>\n",
              "      <td>1998.000000</td>\n",
              "      <td>1</td>\n",
              "    </tr>\n",
              "    <tr>\n",
              "      <th>megane</th>\n",
              "      <th>convertible</th>\n",
              "      <td>10710</td>\n",
              "      <td>10710</td>\n",
              "      <td>10710.000000</td>\n",
              "      <td>1</td>\n",
              "    </tr>\n",
              "    <tr>\n",
              "      <th>twingo</th>\n",
              "      <th>small</th>\n",
              "      <td>5815</td>\n",
              "      <td>5815</td>\n",
              "      <td>5815.000000</td>\n",
              "      <td>1</td>\n",
              "    </tr>\n",
              "    <tr>\n",
              "      <th>seat</th>\n",
              "      <th>ibiza</th>\n",
              "      <th>small</th>\n",
              "      <td>4400</td>\n",
              "      <td>4400</td>\n",
              "      <td>4400.000000</td>\n",
              "      <td>1</td>\n",
              "    </tr>\n",
              "    <tr>\n",
              "      <th rowspan=\"2\" valign=\"top\">smart</th>\n",
              "      <th rowspan=\"2\" valign=\"top\">fortwo</th>\n",
              "      <th>convertible</th>\n",
              "      <td>10218</td>\n",
              "      <td>10218</td>\n",
              "      <td>10218.000000</td>\n",
              "      <td>1</td>\n",
              "    </tr>\n",
              "    <tr>\n",
              "      <th>small</th>\n",
              "      <td>6226</td>\n",
              "      <td>6226</td>\n",
              "      <td>6226.000000</td>\n",
              "      <td>1</td>\n",
              "    </tr>\n",
              "    <tr>\n",
              "      <th>suzuki</th>\n",
              "      <th>other</th>\n",
              "      <th>small</th>\n",
              "      <td>8404</td>\n",
              "      <td>8404</td>\n",
              "      <td>8404.000000</td>\n",
              "      <td>1</td>\n",
              "    </tr>\n",
              "    <tr>\n",
              "      <th>toyota</th>\n",
              "      <th>aygo</th>\n",
              "      <th>small</th>\n",
              "      <td>6920</td>\n",
              "      <td>6920</td>\n",
              "      <td>6920.000000</td>\n",
              "      <td>1</td>\n",
              "    </tr>\n",
              "    <tr>\n",
              "      <th rowspan=\"9\" valign=\"top\">volkswagen</th>\n",
              "      <th>caddy</th>\n",
              "      <th>bus</th>\n",
              "      <td>10520</td>\n",
              "      <td>10520</td>\n",
              "      <td>10520.000000</td>\n",
              "      <td>1</td>\n",
              "    </tr>\n",
              "    <tr>\n",
              "      <th rowspan=\"3\" valign=\"top\">golf</th>\n",
              "      <th>convertible</th>\n",
              "      <td>7512</td>\n",
              "      <td>7512</td>\n",
              "      <td>7512.000000</td>\n",
              "      <td>1</td>\n",
              "    </tr>\n",
              "    <tr>\n",
              "      <th>sedan</th>\n",
              "      <td>1781</td>\n",
              "      <td>7544</td>\n",
              "      <td>3702.000000</td>\n",
              "      <td>3</td>\n",
              "    </tr>\n",
              "    <tr>\n",
              "      <th>wagon</th>\n",
              "      <td>1999</td>\n",
              "      <td>1999</td>\n",
              "      <td>1999.000000</td>\n",
              "      <td>1</td>\n",
              "    </tr>\n",
              "    <tr>\n",
              "      <th>lupo</th>\n",
              "      <th>small</th>\n",
              "      <td>7515</td>\n",
              "      <td>7515</td>\n",
              "      <td>7515.000000</td>\n",
              "      <td>1</td>\n",
              "    </tr>\n",
              "    <tr>\n",
              "      <th>other</th>\n",
              "      <th>other</th>\n",
              "      <td>3500</td>\n",
              "      <td>3500</td>\n",
              "      <td>3500.000000</td>\n",
              "      <td>1</td>\n",
              "    </tr>\n",
              "    <tr>\n",
              "      <th>passat</th>\n",
              "      <th>sedan</th>\n",
              "      <td>1968</td>\n",
              "      <td>6006</td>\n",
              "      <td>3987.000000</td>\n",
              "      <td>2</td>\n",
              "    </tr>\n",
              "    <tr>\n",
              "      <th>polo</th>\n",
              "      <th>small</th>\n",
              "      <td>3750</td>\n",
              "      <td>12012</td>\n",
              "      <td>6416.400000</td>\n",
              "      <td>5</td>\n",
              "    </tr>\n",
              "    <tr>\n",
              "      <th>transporter</th>\n",
              "      <th>bus</th>\n",
              "      <td>2461</td>\n",
              "      <td>10522</td>\n",
              "      <td>7835.000000</td>\n",
              "      <td>3</td>\n",
              "    </tr>\n",
              "  </tbody>\n",
              "</table>\n",
              "</div>\n",
              "      <button class=\"colab-df-convert\" onclick=\"convertToInteractive('df-2318f7fd-69cc-431d-9ba9-4d357b70c805')\"\n",
              "              title=\"Convert this dataframe to an interactive table.\"\n",
              "              style=\"display:none;\">\n",
              "        \n",
              "  <svg xmlns=\"http://www.w3.org/2000/svg\" height=\"24px\"viewBox=\"0 0 24 24\"\n",
              "       width=\"24px\">\n",
              "    <path d=\"M0 0h24v24H0V0z\" fill=\"none\"/>\n",
              "    <path d=\"M18.56 5.44l.94 2.06.94-2.06 2.06-.94-2.06-.94-.94-2.06-.94 2.06-2.06.94zm-11 1L8.5 8.5l.94-2.06 2.06-.94-2.06-.94L8.5 2.5l-.94 2.06-2.06.94zm10 10l.94 2.06.94-2.06 2.06-.94-2.06-.94-.94-2.06-.94 2.06-2.06.94z\"/><path d=\"M17.41 7.96l-1.37-1.37c-.4-.4-.92-.59-1.43-.59-.52 0-1.04.2-1.43.59L10.3 9.45l-7.72 7.72c-.78.78-.78 2.05 0 2.83L4 21.41c.39.39.9.59 1.41.59.51 0 1.02-.2 1.41-.59l7.78-7.78 2.81-2.81c.8-.78.8-2.07 0-2.86zM5.41 20L4 18.59l7.72-7.72 1.47 1.35L5.41 20z\"/>\n",
              "  </svg>\n",
              "      </button>\n",
              "      \n",
              "  <style>\n",
              "    .colab-df-container {\n",
              "      display:flex;\n",
              "      flex-wrap:wrap;\n",
              "      gap: 12px;\n",
              "    }\n",
              "\n",
              "    .colab-df-convert {\n",
              "      background-color: #E8F0FE;\n",
              "      border: none;\n",
              "      border-radius: 50%;\n",
              "      cursor: pointer;\n",
              "      display: none;\n",
              "      fill: #1967D2;\n",
              "      height: 32px;\n",
              "      padding: 0 0 0 0;\n",
              "      width: 32px;\n",
              "    }\n",
              "\n",
              "    .colab-df-convert:hover {\n",
              "      background-color: #E2EBFA;\n",
              "      box-shadow: 0px 1px 2px rgba(60, 64, 67, 0.3), 0px 1px 3px 1px rgba(60, 64, 67, 0.15);\n",
              "      fill: #174EA6;\n",
              "    }\n",
              "\n",
              "    [theme=dark] .colab-df-convert {\n",
              "      background-color: #3B4455;\n",
              "      fill: #D2E3FC;\n",
              "    }\n",
              "\n",
              "    [theme=dark] .colab-df-convert:hover {\n",
              "      background-color: #434B5C;\n",
              "      box-shadow: 0px 1px 3px 1px rgba(0, 0, 0, 0.15);\n",
              "      filter: drop-shadow(0px 1px 2px rgba(0, 0, 0, 0.3));\n",
              "      fill: #FFFFFF;\n",
              "    }\n",
              "  </style>\n",
              "\n",
              "      <script>\n",
              "        const buttonEl =\n",
              "          document.querySelector('#df-2318f7fd-69cc-431d-9ba9-4d357b70c805 button.colab-df-convert');\n",
              "        buttonEl.style.display =\n",
              "          google.colab.kernel.accessAllowed ? 'block' : 'none';\n",
              "\n",
              "        async function convertToInteractive(key) {\n",
              "          const element = document.querySelector('#df-2318f7fd-69cc-431d-9ba9-4d357b70c805');\n",
              "          const dataTable =\n",
              "            await google.colab.kernel.invokeFunction('convertToInteractive',\n",
              "                                                     [key], {});\n",
              "          if (!dataTable) return;\n",
              "\n",
              "          const docLinkHtml = 'Like what you see? Visit the ' +\n",
              "            '<a target=\"_blank\" href=https://colab.research.google.com/notebooks/data_table.ipynb>data table notebook</a>'\n",
              "            + ' to learn more about interactive tables.';\n",
              "          element.innerHTML = '';\n",
              "          dataTable['output_type'] = 'display_data';\n",
              "          await google.colab.output.renderOutput(dataTable, element);\n",
              "          const docLink = document.createElement('div');\n",
              "          docLink.innerHTML = docLinkHtml;\n",
              "          element.appendChild(docLink);\n",
              "        }\n",
              "      </script>\n",
              "    </div>\n",
              "  </div>\n",
              "  "
            ],
            "text/plain": [
              "                                          min    max          mean count\n",
              "                                        power  power         power power\n",
              "brand         model       vehicle_type                                  \n",
              "alfa_romeo    147         small         15020  15020  15020.000000     1\n",
              "              other       coupe         15033  15033  15033.000000     1\n",
              "audi          80          sedan         11635  11635  11635.000000     1\n",
              "                          wagon         17410  17410  17410.000000     1\n",
              "              a3          sedan         17011  17011  17011.000000     1\n",
              "              a4          convertible   16312  16312  16312.000000     1\n",
              "                          wagon          1896  11011   6453.500000     2\n",
              "              a6          wagon          2331   2331   2331.000000     1\n",
              "bmw           1er         sedan         19211  19211  19211.000000     1\n",
              "              3er         convertible    2016   2016   2016.000000     1\n",
              "                          sedan          1895   1993   1944.000000     2\n",
              "                          wagon         17019  17019  17019.000000     1\n",
              "              5er         wagon          2729  19208  13212.333333     3\n",
              "chevrolet     spark       small          8259   8259   8259.000000     1\n",
              "citroen       berlingo    wagon          1780   1780   1780.000000     1\n",
              "              c5          wagon          1900   1900   1900.000000     1\n",
              "              other       wagon          2000   2000   2000.000000     1\n",
              "fiat          seicento    small          5411   5411   5411.000000     1\n",
              "              stilo       coupe          1900   1900   1900.000000     1\n",
              "                          wagon          1920   1920   1920.000000     1\n",
              "ford          fiesta      small         15001  15001  15001.000000     1\n",
              "              focus       wagon          1753  11530   5012.000000     3\n",
              "kia           ceed        wagon         11509  11509  11509.000000     1\n",
              "mercedes_benz c_klasse    sedan          2799   2799   2799.000000     1\n",
              "                          wagon          1796   1796   1796.000000     1\n",
              "              e_klasse    sedan          1771   3454   2612.500000     2\n",
              "                          wagon          3199   3199   3199.000000     1\n",
              "              s_klasse    coupe          2789   2789   2789.000000     1\n",
              "              sprinter    wagon          2005   2005   2005.000000     1\n",
              "mini          cooper      small          6018   6018   6018.000000     1\n",
              "opel          agila       sedan          6010   6010   6010.000000     1\n",
              "                          small          5867   5867   5867.000000     1\n",
              "              astra       sedan         12510  12510  12510.000000     1\n",
              "                          small          7508   7508   7508.000000     1\n",
              "              corsa       sedan          6512   6512   6512.000000     1\n",
              "                          small          5809   5809   5809.000000     1\n",
              "              omega       sedan         17932  17932  17932.000000     1\n",
              "              vectra      sedan          1800   1800   1800.000000     1\n",
              "                          small          1800   1800   1800.000000     1\n",
              "                          wagon          2172   2172   2172.000000     1\n",
              "renault       laguna      sedan          1998   1998   1998.000000     1\n",
              "              megane      convertible   10710  10710  10710.000000     1\n",
              "              twingo      small          5815   5815   5815.000000     1\n",
              "seat          ibiza       small          4400   4400   4400.000000     1\n",
              "smart         fortwo      convertible   10218  10218  10218.000000     1\n",
              "                          small          6226   6226   6226.000000     1\n",
              "suzuki        other       small          8404   8404   8404.000000     1\n",
              "toyota        aygo        small          6920   6920   6920.000000     1\n",
              "volkswagen    caddy       bus           10520  10520  10520.000000     1\n",
              "              golf        convertible    7512   7512   7512.000000     1\n",
              "                          sedan          1781   7544   3702.000000     3\n",
              "                          wagon          1999   1999   1999.000000     1\n",
              "              lupo        small          7515   7515   7515.000000     1\n",
              "              other       other          3500   3500   3500.000000     1\n",
              "              passat      sedan          1968   6006   3987.000000     2\n",
              "              polo        small          3750  12012   6416.400000     5\n",
              "              transporter bus            2461  10522   7835.000000     3"
            ]
          },
          "execution_count": 41,
          "metadata": {},
          "output_type": "execute_result"
        }
      ],
      "source": [
        "# the maximum power is 4000 hp for a truck and 1750 for a passenger car\n",
        "df.query('power > 1750').pivot_table(index = ['brand','model','vehicle_type'], values = 'power', aggfunc = ['min','max','mean','count'])"
      ]
    },
    {
      "cell_type": "code",
      "execution_count": 42,
      "metadata": {
        "colab": {
          "base_uri": "https://localhost:8080/"
        },
        "id": "YCgEWarheRFb",
        "outputId": "eb0dc618-2469-4490-cfa9-704695ded004"
      },
      "outputs": [
        {
          "data": {
            "text/plain": [
              "80"
            ]
          },
          "execution_count": 42,
          "metadata": {},
          "output_type": "execute_result"
        }
      ],
      "source": [
        "df.query('power > 1750')['power'].count()"
      ]
    },
    {
      "attachments": {},
      "cell_type": "markdown",
      "metadata": {
        "id": "d7bQUcPaeRFb"
      },
      "source": [
        "there are not many lines, you can delete them without problems"
      ]
    },
    {
      "cell_type": "code",
      "execution_count": 43,
      "metadata": {
        "id": "y_OErMJreRFb"
      },
      "outputs": [],
      "source": [
        "df = df.query('0 < power < 1750')"
      ]
    },
    {
      "cell_type": "code",
      "execution_count": 44,
      "metadata": {
        "colab": {
          "base_uri": "https://localhost:8080/",
          "height": 318
        },
        "id": "MOXtdmYBeRFb",
        "outputId": "a7555912-1c64-4e49-f31c-8169c1f73b1b",
        "scrolled": false
      },
      "outputs": [
        {
          "data": {
            "image/png": "[encoded data removed]",
            "text/plain": [
              "<Figure size 1080x360 with 1 Axes>"
            ]
          },
          "metadata": {
            "needs_background": "light"
          },
          "output_type": "display_data"
        }
      ],
      "source": [
        "plt.figure(figsize=(15, 5))\n",
        "sns.histplot(df['power']);"
      ]
    },
    {
      "cell_type": "code",
      "execution_count": 45,
      "metadata": {
        "colab": {
          "base_uri": "https://localhost:8080/",
          "height": 334
        },
        "id": "hoK3jo9PeRFb",
        "outputId": "5afa8615-b78f-445e-b5af-0133e9d1fd91",
        "scrolled": true
      },
      "outputs": [
        {
          "data": {
            "image/png": "[encoded data removed]",
            "text/plain": [
              "<Figure size 1080x360 with 1 Axes>"
            ]
          },
          "metadata": {
            "needs_background": "light"
          },
          "output_type": "display_data"
        }
      ],
      "source": [
        "plt.figure(figsize=(15, 5))\n",
        "sns.boxplot(df['power']);"
      ]
    },
    {
      "attachments": {},
      "cell_type": "markdown",
      "metadata": {
        "id": "RhfxYK1EeRFc"
      },
      "source": [
        "all that is more than 250 hp - emissions, you will have to get rid of them"
      ]
    },
    {
      "cell_type": "code",
      "execution_count": 46,
      "metadata": {
        "colab": {
          "base_uri": "https://localhost:8080/"
        },
        "id": "pLEg_gWZeRFc",
        "outputId": "7c7b93cc-926c-4e5b-8bb1-cf4e263b262f"
      },
      "outputs": [
        {
          "data": {
            "text/plain": [
              "4155"
            ]
          },
          "execution_count": 46,
          "metadata": {},
          "output_type": "execute_result"
        }
      ],
      "source": [
        "df.query('power > 250')['power'].count()"
      ]
    },
    {
      "cell_type": "code",
      "execution_count": 47,
      "metadata": {
        "id": "ggelbougeRFc"
      },
      "outputs": [],
      "source": [
        "df = df.query('0 < power < 250')"
      ]
    },
    {
      "cell_type": "code",
      "execution_count": 48,
      "metadata": {
        "colab": {
          "base_uri": "https://localhost:8080/",
          "height": 320
        },
        "id": "SlznKdSYeRFc",
        "outputId": "a102e6fd-5aad-4a97-948b-664f0c5b0c80"
      },
      "outputs": [
        {
          "data": {
            "image/png": "[encoded data removed]",
            "text/plain": [
              "<Figure size 1080x360 with 1 Axes>"
            ]
          },
          "metadata": {
            "needs_background": "light"
          },
          "output_type": "display_data"
        }
      ],
      "source": [
        "plt.figure(figsize=(15, 5))\n",
        "sns.histplot(df['power']);"
      ]
    },
    {
      "attachments": {},
      "cell_type": "markdown",
      "metadata": {
        "id": "OLjnG5iQeRFc"
      },
      "source": [
        "lines with values less than 50 hp can also be cut off"
      ]
    },
    {
      "cell_type": "code",
      "execution_count": 49,
      "metadata": {
        "id": "d0GgRzaneRFc"
      },
      "outputs": [],
      "source": [
        "df = df.query('50 < power < 250')"
      ]
    },
    {
      "attachments": {},
      "cell_type": "markdown",
      "metadata": {
        "id": "-vjO__bAeRFc"
      },
      "source": [
        "#### Mileage"
      ]
    },
    {
      "cell_type": "code",
      "execution_count": 50,
      "metadata": {
        "colab": {
          "base_uri": "https://localhost:8080/",
          "height": 279
        },
        "id": "OGv8H3i0eRFd",
        "outputId": "210c9253-8891-478b-a487-d59bc8ef2df6",
        "scrolled": true
      },
      "outputs": [
        {
          "data": {
            "image/png": "[encoded data removed]",
            "text/plain": [
              "<Figure size 432x288 with 1 Axes>"
            ]
          },
          "metadata": {
            "needs_background": "light"
          },
          "output_type": "display_data"
        }
      ],
      "source": [
        "sns.histplot(df['kilometer']);"
      ]
    },
    {
      "cell_type": "code",
      "execution_count": 51,
      "metadata": {
        "colab": {
          "base_uri": "https://localhost:8080/"
        },
        "id": "llMn9OsBeRFd",
        "outputId": "c1bdf5ba-25ff-4b1c-dd25-1cf3c4f1bd9d"
      },
      "outputs": [
        {
          "data": {
            "text/plain": [
              "150000    109786\n",
              "125000     17821\n",
              "100000      7084\n",
              "90000       5702\n",
              "80000       5105\n",
              "70000       4492\n",
              "60000       3937\n",
              "50000       3242\n",
              "40000       2588\n",
              "30000       2256\n",
              "20000       1824\n",
              "5000        1256\n",
              "10000        504\n",
              "Name: kilometer, dtype: int64"
            ]
          },
          "execution_count": 51,
          "metadata": {},
          "output_type": "execute_result"
        }
      ],
      "source": [
        "df['kilometer'].value_counts()"
      ]
    },
    {
      "attachments": {},
      "cell_type": "markdown",
      "metadata": {
        "id": "I3ZxS2NneRFd"
      },
      "source": [
        "the number of categories is small, so it can be converted into a categorical attribute"
      ]
    },
    {
      "cell_type": "code",
      "execution_count": 52,
      "metadata": {
        "id": "wCtCX2YteRFd"
      },
      "outputs": [],
      "source": [
        "df['kilometer'] = df['kilometer'].astype(str)"
      ]
    },
    {
      "cell_type": "code",
      "execution_count": 53,
      "metadata": {
        "colab": {
          "base_uri": "https://localhost:8080/",
          "height": 444
        },
        "id": "nI6kfKvmeRFd",
        "outputId": "dc05df96-517b-45a7-cacb-424846d5c1f9",
        "scrolled": true
      },
      "outputs": [
        {
          "data": {
            "text/html": [
              "\n",
              "  <div id=\"df-560975f6-e7b2-4139-a61b-2c51934c8f56\">\n",
              "    <div class=\"colab-df-container\">\n",
              "      <div>\n",
              "<style scoped>\n",
              "    .dataframe tbody tr th:only-of-type {\n",
              "        vertical-align: middle;\n",
              "    }\n",
              "\n",
              "    .dataframe tbody tr th {\n",
              "        vertical-align: top;\n",
              "    }\n",
              "\n",
              "    .dataframe thead th {\n",
              "        text-align: right;\n",
              "    }\n",
              "</style>\n",
              "<table border=\"1\" class=\"dataframe\">\n",
              "  <thead>\n",
              "    <tr style=\"text-align: right;\">\n",
              "      <th></th>\n",
              "      <th>price</th>\n",
              "      <th>vehicle_type</th>\n",
              "      <th>registration_year</th>\n",
              "      <th>gearbox</th>\n",
              "      <th>power</th>\n",
              "      <th>model</th>\n",
              "      <th>kilometer</th>\n",
              "      <th>fuel_type</th>\n",
              "      <th>brand</th>\n",
              "      <th>repaired</th>\n",
              "      <th>date_created</th>\n",
              "      <th>last_seen</th>\n",
              "    </tr>\n",
              "  </thead>\n",
              "  <tbody>\n",
              "    <tr>\n",
              "      <th>1</th>\n",
              "      <td>18300</td>\n",
              "      <td>coupe</td>\n",
              "      <td>2011</td>\n",
              "      <td>manual</td>\n",
              "      <td>190</td>\n",
              "      <td>NaN</td>\n",
              "      <td>125000</td>\n",
              "      <td>gasoline</td>\n",
              "      <td>audi</td>\n",
              "      <td>yes</td>\n",
              "      <td>2016-03-24 00:00:00</td>\n",
              "      <td>2016-04-07 01:46:50</td>\n",
              "    </tr>\n",
              "    <tr>\n",
              "      <th>2</th>\n",
              "      <td>9800</td>\n",
              "      <td>suv</td>\n",
              "      <td>2004</td>\n",
              "      <td>auto</td>\n",
              "      <td>163</td>\n",
              "      <td>grand</td>\n",
              "      <td>125000</td>\n",
              "      <td>gasoline</td>\n",
              "      <td>jeep</td>\n",
              "      <td>NaN</td>\n",
              "      <td>2016-03-14 00:00:00</td>\n",
              "      <td>2016-04-05 12:47:46</td>\n",
              "    </tr>\n",
              "    <tr>\n",
              "      <th>3</th>\n",
              "      <td>1500</td>\n",
              "      <td>small</td>\n",
              "      <td>2001</td>\n",
              "      <td>manual</td>\n",
              "      <td>75</td>\n",
              "      <td>golf</td>\n",
              "      <td>150000</td>\n",
              "      <td>petrol</td>\n",
              "      <td>volkswagen</td>\n",
              "      <td>no</td>\n",
              "      <td>2016-03-17 00:00:00</td>\n",
              "      <td>2016-03-17 17:40:17</td>\n",
              "    </tr>\n",
              "    <tr>\n",
              "      <th>4</th>\n",
              "      <td>3600</td>\n",
              "      <td>small</td>\n",
              "      <td>2008</td>\n",
              "      <td>manual</td>\n",
              "      <td>69</td>\n",
              "      <td>fabia</td>\n",
              "      <td>90000</td>\n",
              "      <td>gasoline</td>\n",
              "      <td>skoda</td>\n",
              "      <td>no</td>\n",
              "      <td>2016-03-31 00:00:00</td>\n",
              "      <td>2016-04-06 10:17:21</td>\n",
              "    </tr>\n",
              "    <tr>\n",
              "      <th>5</th>\n",
              "      <td>650</td>\n",
              "      <td>sedan</td>\n",
              "      <td>1995</td>\n",
              "      <td>manual</td>\n",
              "      <td>102</td>\n",
              "      <td>3er</td>\n",
              "      <td>150000</td>\n",
              "      <td>petrol</td>\n",
              "      <td>bmw</td>\n",
              "      <td>yes</td>\n",
              "      <td>2016-04-04 00:00:00</td>\n",
              "      <td>2016-04-06 19:17:07</td>\n",
              "    </tr>\n",
              "  </tbody>\n",
              "</table>\n",
              "</div>\n",
              "      <button class=\"colab-df-convert\" onclick=\"convertToInteractive('df-560975f6-e7b2-4139-a61b-2c51934c8f56')\"\n",
              "              title=\"Convert this dataframe to an interactive table.\"\n",
              "              style=\"display:none;\">\n",
              "        \n",
              "  <svg xmlns=\"http://www.w3.org/2000/svg\" height=\"24px\"viewBox=\"0 0 24 24\"\n",
              "       width=\"24px\">\n",
              "    <path d=\"M0 0h24v24H0V0z\" fill=\"none\"/>\n",
              "    <path d=\"M18.56 5.44l.94 2.06.94-2.06 2.06-.94-2.06-.94-.94-2.06-.94 2.06-2.06.94zm-11 1L8.5 8.5l.94-2.06 2.06-.94-2.06-.94L8.5 2.5l-.94 2.06-2.06.94zm10 10l.94 2.06.94-2.06 2.06-.94-2.06-.94-.94-2.06-.94 2.06-2.06.94z\"/><path d=\"M17.41 7.96l-1.37-1.37c-.4-.4-.92-.59-1.43-.59-.52 0-1.04.2-1.43.59L10.3 9.45l-7.72 7.72c-.78.78-.78 2.05 0 2.83L4 21.41c.39.39.9.59 1.41.59.51 0 1.02-.2 1.41-.59l7.78-7.78 2.81-2.81c.8-.78.8-2.07 0-2.86zM5.41 20L4 18.59l7.72-7.72 1.47 1.35L5.41 20z\"/>\n",
              "  </svg>\n",
              "      </button>\n",
              "      \n",
              "  <style>\n",
              "    .colab-df-container {\n",
              "      display:flex;\n",
              "      flex-wrap:wrap;\n",
              "      gap: 12px;\n",
              "    }\n",
              "\n",
              "    .colab-df-convert {\n",
              "      background-color: #E8F0FE;\n",
              "      border: none;\n",
              "      border-radius: 50%;\n",
              "      cursor: pointer;\n",
              "      display: none;\n",
              "      fill: #1967D2;\n",
              "      height: 32px;\n",
              "      padding: 0 0 0 0;\n",
              "      width: 32px;\n",
              "    }\n",
              "\n",
              "    .colab-df-convert:hover {\n",
              "      background-color: #E2EBFA;\n",
              "      box-shadow: 0px 1px 2px rgba(60, 64, 67, 0.3), 0px 1px 3px 1px rgba(60, 64, 67, 0.15);\n",
              "      fill: #174EA6;\n",
              "    }\n",
              "\n",
              "    [theme=dark] .colab-df-convert {\n",
              "      background-color: #3B4455;\n",
              "      fill: #D2E3FC;\n",
              "    }\n",
              "\n",
              "    [theme=dark] .colab-df-convert:hover {\n",
              "      background-color: #434B5C;\n",
              "      box-shadow: 0px 1px 3px 1px rgba(0, 0, 0, 0.15);\n",
              "      filter: drop-shadow(0px 1px 2px rgba(0, 0, 0, 0.3));\n",
              "      fill: #FFFFFF;\n",
              "    }\n",
              "  </style>\n",
              "\n",
              "      <script>\n",
              "        const buttonEl =\n",
              "          document.querySelector('#df-560975f6-e7b2-4139-a61b-2c51934c8f56 button.colab-df-convert');\n",
              "        buttonEl.style.display =\n",
              "          google.colab.kernel.accessAllowed ? 'block' : 'none';\n",
              "\n",
              "        async function convertToInteractive(key) {\n",
              "          const element = document.querySelector('#df-560975f6-e7b2-4139-a61b-2c51934c8f56');\n",
              "          const dataTable =\n",
              "            await google.colab.kernel.invokeFunction('convertToInteractive',\n",
              "                                                     [key], {});\n",
              "          if (!dataTable) return;\n",
              "\n",
              "          const docLinkHtml = 'Like what you see? Visit the ' +\n",
              "            '<a target=\"_blank\" href=https://colab.research.google.com/notebooks/data_table.ipynb>data table notebook</a>'\n",
              "            + ' to learn more about interactive tables.';\n",
              "          element.innerHTML = '';\n",
              "          dataTable['output_type'] = 'display_data';\n",
              "          await google.colab.output.renderOutput(dataTable, element);\n",
              "          const docLink = document.createElement('div');\n",
              "          docLink.innerHTML = docLinkHtml;\n",
              "          element.appendChild(docLink);\n",
              "        }\n",
              "      </script>\n",
              "    </div>\n",
              "  </div>\n",
              "  "
            ],
            "text/plain": [
              "   price vehicle_type  registration_year gearbox  power  model kilometer  \\\n",
              "1  18300        coupe               2011  manual    190    NaN    125000   \n",
              "2   9800          suv               2004    auto    163  grand    125000   \n",
              "3   1500        small               2001  manual     75   golf    150000   \n",
              "4   3600        small               2008  manual     69  fabia     90000   \n",
              "5    650        sedan               1995  manual    102    3er    150000   \n",
              "\n",
              "  fuel_type       brand repaired         date_created            last_seen  \n",
              "1  gasoline        audi      yes  2016-03-24 00:00:00  2016-04-07 01:46:50  \n",
              "2  gasoline        jeep      NaN  2016-03-14 00:00:00  2016-04-05 12:47:46  \n",
              "3    petrol  volkswagen       no  2016-03-17 00:00:00  2016-03-17 17:40:17  \n",
              "4  gasoline       skoda       no  2016-03-31 00:00:00  2016-04-06 10:17:21  \n",
              "5    petrol         bmw      yes  2016-04-04 00:00:00  2016-04-06 19:17:07  "
            ]
          },
          "execution_count": 53,
          "metadata": {},
          "output_type": "execute_result"
        }
      ],
      "source": [
        "df.head()"
      ]
    },
    {
      "attachments": {},
      "cell_type": "markdown",
      "metadata": {
        "id": "js6FEA16eRFe"
      },
      "source": [
        "#### Gearbox"
      ]
    },
    {
      "cell_type": "code",
      "execution_count": 54,
      "metadata": {
        "colab": {
          "base_uri": "https://localhost:8080/"
        },
        "id": "eZgGtEzWeRFe",
        "outputId": "4dc9b9ca-5390-421c-8b05-0ed87afeebf1"
      },
      "outputs": [
        {
          "data": {
            "text/plain": [
              "manual    131841\n",
              "auto       31213\n",
              "Name: gearbox, dtype: int64"
            ]
          },
          "execution_count": 54,
          "metadata": {},
          "output_type": "execute_result"
        }
      ],
      "source": [
        "df['gearbox'].value_counts()"
      ]
    },
    {
      "cell_type": "code",
      "execution_count": 55,
      "metadata": {
        "colab": {
          "base_uri": "https://localhost:8080/",
          "height": 486
        },
        "id": "YB_LrAc9eRFe",
        "outputId": "cc87e818-a142-417f-a6ff-5e313a3de3a1",
        "scrolled": true
      },
      "outputs": [
        {
          "data": {
            "text/html": [
              "\n",
              "  <div id=\"df-ba25559b-eb3b-4af8-b56f-28a16d521e88\">\n",
              "    <div class=\"colab-df-container\">\n",
              "      <div>\n",
              "<style scoped>\n",
              "    .dataframe tbody tr th:only-of-type {\n",
              "        vertical-align: middle;\n",
              "    }\n",
              "\n",
              "    .dataframe tbody tr th {\n",
              "        vertical-align: top;\n",
              "    }\n",
              "\n",
              "    .dataframe thead tr th {\n",
              "        text-align: left;\n",
              "    }\n",
              "\n",
              "    .dataframe thead tr:last-of-type th {\n",
              "        text-align: right;\n",
              "    }\n",
              "</style>\n",
              "<table border=\"1\" class=\"dataframe\">\n",
              "  <thead>\n",
              "    <tr>\n",
              "      <th></th>\n",
              "      <th></th>\n",
              "      <th></th>\n",
              "      <th></th>\n",
              "      <th></th>\n",
              "      <th>count</th>\n",
              "      <th>nan_count</th>\n",
              "    </tr>\n",
              "    <tr>\n",
              "      <th></th>\n",
              "      <th></th>\n",
              "      <th></th>\n",
              "      <th></th>\n",
              "      <th></th>\n",
              "      <th>gearbox</th>\n",
              "      <th>gearbox</th>\n",
              "    </tr>\n",
              "    <tr>\n",
              "      <th>brand</th>\n",
              "      <th>model</th>\n",
              "      <th>registration_year</th>\n",
              "      <th>vehicle_type</th>\n",
              "      <th>power</th>\n",
              "      <th></th>\n",
              "      <th></th>\n",
              "    </tr>\n",
              "  </thead>\n",
              "  <tbody>\n",
              "    <tr>\n",
              "      <th rowspan=\"5\" valign=\"top\">volkswagen</th>\n",
              "      <th rowspan=\"2\" valign=\"top\">golf</th>\n",
              "      <th>1999</th>\n",
              "      <th>sedan</th>\n",
              "      <th>75</th>\n",
              "      <td>311</td>\n",
              "      <td>2</td>\n",
              "    </tr>\n",
              "    <tr>\n",
              "      <th>1998</th>\n",
              "      <th>sedan</th>\n",
              "      <th>75</th>\n",
              "      <td>260</td>\n",
              "      <td>4</td>\n",
              "    </tr>\n",
              "    <tr>\n",
              "      <th>passat</th>\n",
              "      <th>2006</th>\n",
              "      <th>wagon</th>\n",
              "      <th>140</th>\n",
              "      <td>235</td>\n",
              "      <td>2</td>\n",
              "    </tr>\n",
              "    <tr>\n",
              "      <th>polo</th>\n",
              "      <th>1997</th>\n",
              "      <th>small</th>\n",
              "      <th>60</th>\n",
              "      <td>213</td>\n",
              "      <td>4</td>\n",
              "    </tr>\n",
              "    <tr>\n",
              "      <th>golf</th>\n",
              "      <th>1998</th>\n",
              "      <th>sedan</th>\n",
              "      <th>101</th>\n",
              "      <td>209</td>\n",
              "      <td>1</td>\n",
              "    </tr>\n",
              "    <tr>\n",
              "      <th>...</th>\n",
              "      <th>...</th>\n",
              "      <th>...</th>\n",
              "      <th>...</th>\n",
              "      <th>...</th>\n",
              "      <td>...</td>\n",
              "      <td>...</td>\n",
              "    </tr>\n",
              "    <tr>\n",
              "      <th>smart</th>\n",
              "      <th>roadster</th>\n",
              "      <th>2004</th>\n",
              "      <th>convertible</th>\n",
              "      <th>101</th>\n",
              "      <td>0</td>\n",
              "      <td>1</td>\n",
              "    </tr>\n",
              "    <tr>\n",
              "      <th>audi</th>\n",
              "      <th>a6</th>\n",
              "      <th>1998</th>\n",
              "      <th>sedan</th>\n",
              "      <th>121</th>\n",
              "      <td>0</td>\n",
              "      <td>1</td>\n",
              "    </tr>\n",
              "    <tr>\n",
              "      <th>ford</th>\n",
              "      <th>escort</th>\n",
              "      <th>1989</th>\n",
              "      <th>convertible</th>\n",
              "      <th>150</th>\n",
              "      <td>0</td>\n",
              "      <td>1</td>\n",
              "    </tr>\n",
              "    <tr>\n",
              "      <th>citroen</th>\n",
              "      <th>other</th>\n",
              "      <th>2000</th>\n",
              "      <th>bus</th>\n",
              "      <th>130</th>\n",
              "      <td>0</td>\n",
              "      <td>1</td>\n",
              "    </tr>\n",
              "    <tr>\n",
              "      <th>seat</th>\n",
              "      <th>leon</th>\n",
              "      <th>2008</th>\n",
              "      <th>sedan</th>\n",
              "      <th>86</th>\n",
              "      <td>0</td>\n",
              "      <td>1</td>\n",
              "    </tr>\n",
              "  </tbody>\n",
              "</table>\n",
              "<p>1436 rows × 2 columns</p>\n",
              "</div>\n",
              "      <button class=\"colab-df-convert\" onclick=\"convertToInteractive('df-ba25559b-eb3b-4af8-b56f-28a16d521e88')\"\n",
              "              title=\"Convert this dataframe to an interactive table.\"\n",
              "              style=\"display:none;\">\n",
              "        \n",
              "  <svg xmlns=\"http://www.w3.org/2000/svg\" height=\"24px\"viewBox=\"0 0 24 24\"\n",
              "       width=\"24px\">\n",
              "    <path d=\"M0 0h24v24H0V0z\" fill=\"none\"/>\n",
              "    <path d=\"M18.56 5.44l.94 2.06.94-2.06 2.06-.94-2.06-.94-.94-2.06-.94 2.06-2.06.94zm-11 1L8.5 8.5l.94-2.06 2.06-.94-2.06-.94L8.5 2.5l-.94 2.06-2.06.94zm10 10l.94 2.06.94-2.06 2.06-.94-2.06-.94-.94-2.06-.94 2.06-2.06.94z\"/><path d=\"M17.41 7.96l-1.37-1.37c-.4-.4-.92-.59-1.43-.59-.52 0-1.04.2-1.43.59L10.3 9.45l-7.72 7.72c-.78.78-.78 2.05 0 2.83L4 21.41c.39.39.9.59 1.41.59.51 0 1.02-.2 1.41-.59l7.78-7.78 2.81-2.81c.8-.78.8-2.07 0-2.86zM5.41 20L4 18.59l7.72-7.72 1.47 1.35L5.41 20z\"/>\n",
              "  </svg>\n",
              "      </button>\n",
              "      \n",
              "  <style>\n",
              "    .colab-df-container {\n",
              "      display:flex;\n",
              "      flex-wrap:wrap;\n",
              "      gap: 12px;\n",
              "    }\n",
              "\n",
              "    .colab-df-convert {\n",
              "      background-color: #E8F0FE;\n",
              "      border: none;\n",
              "      border-radius: 50%;\n",
              "      cursor: pointer;\n",
              "      display: none;\n",
              "      fill: #1967D2;\n",
              "      height: 32px;\n",
              "      padding: 0 0 0 0;\n",
              "      width: 32px;\n",
              "    }\n",
              "\n",
              "    .colab-df-convert:hover {\n",
              "      background-color: #E2EBFA;\n",
              "      box-shadow: 0px 1px 2px rgba(60, 64, 67, 0.3), 0px 1px 3px 1px rgba(60, 64, 67, 0.15);\n",
              "      fill: #174EA6;\n",
              "    }\n",
              "\n",
              "    [theme=dark] .colab-df-convert {\n",
              "      background-color: #3B4455;\n",
              "      fill: #D2E3FC;\n",
              "    }\n",
              "\n",
              "    [theme=dark] .colab-df-convert:hover {\n",
              "      background-color: #434B5C;\n",
              "      box-shadow: 0px 1px 3px 1px rgba(0, 0, 0, 0.15);\n",
              "      filter: drop-shadow(0px 1px 2px rgba(0, 0, 0, 0.3));\n",
              "      fill: #FFFFFF;\n",
              "    }\n",
              "  </style>\n",
              "\n",
              "      <script>\n",
              "        const buttonEl =\n",
              "          document.querySelector('#df-ba25559b-eb3b-4af8-b56f-28a16d521e88 button.colab-df-convert');\n",
              "        buttonEl.style.display =\n",
              "          google.colab.kernel.accessAllowed ? 'block' : 'none';\n",
              "\n",
              "        async function convertToInteractive(key) {\n",
              "          const element = document.querySelector('#df-ba25559b-eb3b-4af8-b56f-28a16d521e88');\n",
              "          const dataTable =\n",
              "            await google.colab.kernel.invokeFunction('convertToInteractive',\n",
              "                                                     [key], {});\n",
              "          if (!dataTable) return;\n",
              "\n",
              "          const docLinkHtml = 'Like what you see? Visit the ' +\n",
              "            '<a target=\"_blank\" href=https://colab.research.google.com/notebooks/data_table.ipynb>data table notebook</a>'\n",
              "            + ' to learn more about interactive tables.';\n",
              "          element.innerHTML = '';\n",
              "          dataTable['output_type'] = 'display_data';\n",
              "          await google.colab.output.renderOutput(dataTable, element);\n",
              "          const docLink = document.createElement('div');\n",
              "          docLink.innerHTML = docLinkHtml;\n",
              "          element.appendChild(docLink);\n",
              "        }\n",
              "      </script>\n",
              "    </div>\n",
              "  </div>\n",
              "  "
            ],
            "text/plain": [
              "                                                           count nan_count\n",
              "                                                         gearbox   gearbox\n",
              "brand      model    registration_year vehicle_type power                  \n",
              "volkswagen golf     1999              sedan        75        311         2\n",
              "                    1998              sedan        75        260         4\n",
              "           passat   2006              wagon        140       235         2\n",
              "           polo     1997              small        60        213         4\n",
              "           golf     1998              sedan        101       209         1\n",
              "...                                                          ...       ...\n",
              "smart      roadster 2004              convertible  101         0         1\n",
              "audi       a6       1998              sedan        121         0         1\n",
              "ford       escort   1989              convertible  150         0         1\n",
              "citroen    other    2000              bus          130         0         1\n",
              "seat       leon     2008              sedan        86          0         1\n",
              "\n",
              "[1436 rows x 2 columns]"
            ]
          },
          "execution_count": 55,
          "metadata": {},
          "output_type": "execute_result"
        }
      ],
      "source": [
        "gearbox_table = df.pivot_table(index = ['brand', 'model', 'registration_year', 'vehicle_type', 'power'], values = 'gearbox', aggfunc = ['count', lambda x : x.isna().sum()]).sort_values(by = ('count', 'gearbox'), ascending = False)\n",
        "\n",
        "gearbox_table.columns.set_levels(['count','nan_count'],level=0,inplace=True)\n",
        "gearbox_table[gearbox_table[('nan_count','gearbox')] > 0].sort_values(by = ('count', 'gearbox'), ascending = False)"
      ]
    },
    {
      "cell_type": "code",
      "execution_count": 56,
      "metadata": {
        "colab": {
          "base_uri": "https://localhost:8080/",
          "height": 206
        },
        "id": "KABCLOCheRFe",
        "outputId": "99513d27-0182-4a28-c784-2062939ec5aa"
      },
      "outputs": [
        {
          "data": {
            "text/html": [
              "\n",
              "  <div id=\"df-85b9aeab-9ed1-4466-b025-2466a390d075\">\n",
              "    <div class=\"colab-df-container\">\n",
              "      <div>\n",
              "<style scoped>\n",
              "    .dataframe tbody tr th:only-of-type {\n",
              "        vertical-align: middle;\n",
              "    }\n",
              "\n",
              "    .dataframe tbody tr th {\n",
              "        vertical-align: top;\n",
              "    }\n",
              "\n",
              "    .dataframe thead th {\n",
              "        text-align: right;\n",
              "    }\n",
              "</style>\n",
              "<table border=\"1\" class=\"dataframe\">\n",
              "  <thead>\n",
              "    <tr style=\"text-align: right;\">\n",
              "      <th></th>\n",
              "      <th>vehicle_type</th>\n",
              "      <th>registration_year</th>\n",
              "      <th>gearbox</th>\n",
              "      <th>power</th>\n",
              "      <th>fuel_type</th>\n",
              "      <th>price</th>\n",
              "    </tr>\n",
              "  </thead>\n",
              "  <tbody>\n",
              "    <tr>\n",
              "      <th>203026</th>\n",
              "      <td>sedan</td>\n",
              "      <td>1999</td>\n",
              "      <td>auto</td>\n",
              "      <td>75</td>\n",
              "      <td>petrol</td>\n",
              "      <td>800</td>\n",
              "    </tr>\n",
              "    <tr>\n",
              "      <th>778</th>\n",
              "      <td>sedan</td>\n",
              "      <td>1999</td>\n",
              "      <td>manual</td>\n",
              "      <td>75</td>\n",
              "      <td>petrol</td>\n",
              "      <td>1000</td>\n",
              "    </tr>\n",
              "    <tr>\n",
              "      <th>141351</th>\n",
              "      <td>small</td>\n",
              "      <td>1999</td>\n",
              "      <td>manual</td>\n",
              "      <td>75</td>\n",
              "      <td>petrol</td>\n",
              "      <td>1000</td>\n",
              "    </tr>\n",
              "    <tr>\n",
              "      <th>140695</th>\n",
              "      <td>wagon</td>\n",
              "      <td>1999</td>\n",
              "      <td>manual</td>\n",
              "      <td>75</td>\n",
              "      <td>petrol</td>\n",
              "      <td>1000</td>\n",
              "    </tr>\n",
              "    <tr>\n",
              "      <th>140018</th>\n",
              "      <td>sedan</td>\n",
              "      <td>1999</td>\n",
              "      <td>manual</td>\n",
              "      <td>75</td>\n",
              "      <td>petrol</td>\n",
              "      <td>1600</td>\n",
              "    </tr>\n",
              "  </tbody>\n",
              "</table>\n",
              "</div>\n",
              "      <button class=\"colab-df-convert\" onclick=\"convertToInteractive('df-85b9aeab-9ed1-4466-b025-2466a390d075')\"\n",
              "              title=\"Convert this dataframe to an interactive table.\"\n",
              "              style=\"display:none;\">\n",
              "        \n",
              "  <svg xmlns=\"http://www.w3.org/2000/svg\" height=\"24px\"viewBox=\"0 0 24 24\"\n",
              "       width=\"24px\">\n",
              "    <path d=\"M0 0h24v24H0V0z\" fill=\"none\"/>\n",
              "    <path d=\"M18.56 5.44l.94 2.06.94-2.06 2.06-.94-2.06-.94-.94-2.06-.94 2.06-2.06.94zm-11 1L8.5 8.5l.94-2.06 2.06-.94-2.06-.94L8.5 2.5l-.94 2.06-2.06.94zm10 10l.94 2.06.94-2.06 2.06-.94-2.06-.94-.94-2.06-.94 2.06-2.06.94z\"/><path d=\"M17.41 7.96l-1.37-1.37c-.4-.4-.92-.59-1.43-.59-.52 0-1.04.2-1.43.59L10.3 9.45l-7.72 7.72c-.78.78-.78 2.05 0 2.83L4 21.41c.39.39.9.59 1.41.59.51 0 1.02-.2 1.41-.59l7.78-7.78 2.81-2.81c.8-.78.8-2.07 0-2.86zM5.41 20L4 18.59l7.72-7.72 1.47 1.35L5.41 20z\"/>\n",
              "  </svg>\n",
              "      </button>\n",
              "      \n",
              "  <style>\n",
              "    .colab-df-container {\n",
              "      display:flex;\n",
              "      flex-wrap:wrap;\n",
              "      gap: 12px;\n",
              "    }\n",
              "\n",
              "    .colab-df-convert {\n",
              "      background-color: #E8F0FE;\n",
              "      border: none;\n",
              "      border-radius: 50%;\n",
              "      cursor: pointer;\n",
              "      display: none;\n",
              "      fill: #1967D2;\n",
              "      height: 32px;\n",
              "      padding: 0 0 0 0;\n",
              "      width: 32px;\n",
              "    }\n",
              "\n",
              "    .colab-df-convert:hover {\n",
              "      background-color: #E2EBFA;\n",
              "      box-shadow: 0px 1px 2px rgba(60, 64, 67, 0.3), 0px 1px 3px 1px rgba(60, 64, 67, 0.15);\n",
              "      fill: #174EA6;\n",
              "    }\n",
              "\n",
              "    [theme=dark] .colab-df-convert {\n",
              "      background-color: #3B4455;\n",
              "      fill: #D2E3FC;\n",
              "    }\n",
              "\n",
              "    [theme=dark] .colab-df-convert:hover {\n",
              "      background-color: #434B5C;\n",
              "      box-shadow: 0px 1px 3px 1px rgba(0, 0, 0, 0.15);\n",
              "      filter: drop-shadow(0px 1px 2px rgba(0, 0, 0, 0.3));\n",
              "      fill: #FFFFFF;\n",
              "    }\n",
              "  </style>\n",
              "\n",
              "      <script>\n",
              "        const buttonEl =\n",
              "          document.querySelector('#df-85b9aeab-9ed1-4466-b025-2466a390d075 button.colab-df-convert');\n",
              "        buttonEl.style.display =\n",
              "          google.colab.kernel.accessAllowed ? 'block' : 'none';\n",
              "\n",
              "        async function convertToInteractive(key) {\n",
              "          const element = document.querySelector('#df-85b9aeab-9ed1-4466-b025-2466a390d075');\n",
              "          const dataTable =\n",
              "            await google.colab.kernel.invokeFunction('convertToInteractive',\n",
              "                                                     [key], {});\n",
              "          if (!dataTable) return;\n",
              "\n",
              "          const docLinkHtml = 'Like what you see? Visit the ' +\n",
              "            '<a target=\"_blank\" href=https://colab.research.google.com/notebooks/data_table.ipynb>data table notebook</a>'\n",
              "            + ' to learn more about interactive tables.';\n",
              "          element.innerHTML = '';\n",
              "          dataTable['output_type'] = 'display_data';\n",
              "          await google.colab.output.renderOutput(dataTable, element);\n",
              "          const docLink = document.createElement('div');\n",
              "          docLink.innerHTML = docLinkHtml;\n",
              "          element.appendChild(docLink);\n",
              "        }\n",
              "      </script>\n",
              "    </div>\n",
              "  </div>\n",
              "  "
            ],
            "text/plain": [
              "       vehicle_type  registration_year gearbox  power fuel_type  price\n",
              "203026        sedan               1999    auto     75    petrol    800\n",
              "778           sedan               1999  manual     75    petrol   1000\n",
              "141351        small               1999  manual     75    petrol   1000\n",
              "140695        wagon               1999  manual     75    petrol   1000\n",
              "140018        sedan               1999  manual     75    petrol   1600"
            ]
          },
          "execution_count": 56,
          "metadata": {},
          "output_type": "execute_result"
        }
      ],
      "source": [
        "# for example, take the volkswagen golf from the first line\n",
        "df.query('model == \"golf\" and registration_year == 1999 and power == 75')[['vehicle_type', 'registration_year', 'gearbox', 'power', 'fuel_type', 'price']].sort_values(by = 'gearbox').head()"
      ]
    },
    {
      "attachments": {},
      "cell_type": "markdown",
      "metadata": {
        "id": "uPJh1NEseRFe"
      },
      "source": [
        "We see that it will not be possible to fill in the transmission gaps based on other signs - different types of gearboxes have the same other signs. Probably, lines with omissions will have to be deleted"
      ]
    },
    {
      "cell_type": "code",
      "execution_count": 57,
      "metadata": {
        "id": "89Fl9y5OeRFe"
      },
      "outputs": [],
      "source": [
        "df = df[df['gearbox'].isna() == False]"
      ]
    },
    {
      "cell_type": "code",
      "execution_count": 58,
      "metadata": {
        "colab": {
          "base_uri": "https://localhost:8080/"
        },
        "id": "Awuqc2RzeRFe",
        "outputId": "54fc8b28-c814-46fb-fa33-007a96e302ea",
        "scrolled": true
      },
      "outputs": [
        {
          "data": {
            "text/plain": [
              "repaired             21212\n",
              "fuel_type             6609\n",
              "model                 5063\n",
              "vehicle_type          2195\n",
              "brand                    1\n",
              "date_created             1\n",
              "last_seen                1\n",
              "price                    0\n",
              "registration_year        0\n",
              "gearbox                  0\n",
              "power                    0\n",
              "kilometer                0\n",
              "dtype: int64"
            ]
          },
          "execution_count": 58,
          "metadata": {},
          "output_type": "execute_result"
        }
      ],
      "source": [
        "df.isna().sum().sort_values(ascending = False)"
      ]
    },
    {
      "attachments": {},
      "cell_type": "markdown",
      "metadata": {
        "id": "cgkinDC3eRFe"
      },
      "source": [
        "#### Vehicle Type"
      ]
    },
    {
      "cell_type": "code",
      "execution_count": 59,
      "metadata": {
        "colab": {
          "base_uri": "https://localhost:8080/"
        },
        "id": "yscZZMDyeRFf",
        "outputId": "43387939-5e2d-4e4a-df16-46029e7d54cb",
        "scrolled": true
      },
      "outputs": [
        {
          "data": {
            "text/plain": [
              "repaired             21212\n",
              "fuel_type             6609\n",
              "model                 5063\n",
              "vehicle_type          2195\n",
              "brand                    1\n",
              "date_created             1\n",
              "last_seen                1\n",
              "price                    0\n",
              "registration_year        0\n",
              "gearbox                  0\n",
              "power                    0\n",
              "kilometer                0\n",
              "dtype: int64"
            ]
          },
          "execution_count": 59,
          "metadata": {},
          "output_type": "execute_result"
        }
      ],
      "source": [
        "df.isna().sum().sort_values(ascending = False)"
      ]
    },
    {
      "cell_type": "code",
      "execution_count": 60,
      "metadata": {
        "colab": {
          "base_uri": "https://localhost:8080/",
          "height": 444
        },
        "id": "i-FFeXPDeRFf",
        "outputId": "de7facbb-7c37-47b9-9801-388cb62cb7a8"
      },
      "outputs": [
        {
          "data": {
            "text/html": [
              "\n",
              "  <div id=\"df-aee9bed2-5495-4a18-9777-2b9c173320ab\">\n",
              "    <div class=\"colab-df-container\">\n",
              "      <div>\n",
              "<style scoped>\n",
              "    .dataframe tbody tr th:only-of-type {\n",
              "        vertical-align: middle;\n",
              "    }\n",
              "\n",
              "    .dataframe tbody tr th {\n",
              "        vertical-align: top;\n",
              "    }\n",
              "\n",
              "    .dataframe thead th {\n",
              "        text-align: right;\n",
              "    }\n",
              "</style>\n",
              "<table border=\"1\" class=\"dataframe\">\n",
              "  <thead>\n",
              "    <tr style=\"text-align: right;\">\n",
              "      <th></th>\n",
              "      <th>price</th>\n",
              "      <th>vehicle_type</th>\n",
              "      <th>registration_year</th>\n",
              "      <th>gearbox</th>\n",
              "      <th>power</th>\n",
              "      <th>model</th>\n",
              "      <th>kilometer</th>\n",
              "      <th>fuel_type</th>\n",
              "      <th>brand</th>\n",
              "      <th>repaired</th>\n",
              "      <th>date_created</th>\n",
              "      <th>last_seen</th>\n",
              "    </tr>\n",
              "  </thead>\n",
              "  <tbody>\n",
              "    <tr>\n",
              "      <th>1</th>\n",
              "      <td>18300</td>\n",
              "      <td>coupe</td>\n",
              "      <td>2011</td>\n",
              "      <td>manual</td>\n",
              "      <td>190</td>\n",
              "      <td>NaN</td>\n",
              "      <td>125000</td>\n",
              "      <td>gasoline</td>\n",
              "      <td>audi</td>\n",
              "      <td>yes</td>\n",
              "      <td>2016-03-24 00:00:00</td>\n",
              "      <td>2016-04-07 01:46:50</td>\n",
              "    </tr>\n",
              "    <tr>\n",
              "      <th>2</th>\n",
              "      <td>9800</td>\n",
              "      <td>suv</td>\n",
              "      <td>2004</td>\n",
              "      <td>auto</td>\n",
              "      <td>163</td>\n",
              "      <td>grand</td>\n",
              "      <td>125000</td>\n",
              "      <td>gasoline</td>\n",
              "      <td>jeep</td>\n",
              "      <td>NaN</td>\n",
              "      <td>2016-03-14 00:00:00</td>\n",
              "      <td>2016-04-05 12:47:46</td>\n",
              "    </tr>\n",
              "    <tr>\n",
              "      <th>3</th>\n",
              "      <td>1500</td>\n",
              "      <td>small</td>\n",
              "      <td>2001</td>\n",
              "      <td>manual</td>\n",
              "      <td>75</td>\n",
              "      <td>golf</td>\n",
              "      <td>150000</td>\n",
              "      <td>petrol</td>\n",
              "      <td>volkswagen</td>\n",
              "      <td>no</td>\n",
              "      <td>2016-03-17 00:00:00</td>\n",
              "      <td>2016-03-17 17:40:17</td>\n",
              "    </tr>\n",
              "    <tr>\n",
              "      <th>4</th>\n",
              "      <td>3600</td>\n",
              "      <td>small</td>\n",
              "      <td>2008</td>\n",
              "      <td>manual</td>\n",
              "      <td>69</td>\n",
              "      <td>fabia</td>\n",
              "      <td>90000</td>\n",
              "      <td>gasoline</td>\n",
              "      <td>skoda</td>\n",
              "      <td>no</td>\n",
              "      <td>2016-03-31 00:00:00</td>\n",
              "      <td>2016-04-06 10:17:21</td>\n",
              "    </tr>\n",
              "    <tr>\n",
              "      <th>5</th>\n",
              "      <td>650</td>\n",
              "      <td>sedan</td>\n",
              "      <td>1995</td>\n",
              "      <td>manual</td>\n",
              "      <td>102</td>\n",
              "      <td>3er</td>\n",
              "      <td>150000</td>\n",
              "      <td>petrol</td>\n",
              "      <td>bmw</td>\n",
              "      <td>yes</td>\n",
              "      <td>2016-04-04 00:00:00</td>\n",
              "      <td>2016-04-06 19:17:07</td>\n",
              "    </tr>\n",
              "  </tbody>\n",
              "</table>\n",
              "</div>\n",
              "      <button class=\"colab-df-convert\" onclick=\"convertToInteractive('df-aee9bed2-5495-4a18-9777-2b9c173320ab')\"\n",
              "              title=\"Convert this dataframe to an interactive table.\"\n",
              "              style=\"display:none;\">\n",
              "        \n",
              "  <svg xmlns=\"http://www.w3.org/2000/svg\" height=\"24px\"viewBox=\"0 0 24 24\"\n",
              "       width=\"24px\">\n",
              "    <path d=\"M0 0h24v24H0V0z\" fill=\"none\"/>\n",
              "    <path d=\"M18.56 5.44l.94 2.06.94-2.06 2.06-.94-2.06-.94-.94-2.06-.94 2.06-2.06.94zm-11 1L8.5 8.5l.94-2.06 2.06-.94-2.06-.94L8.5 2.5l-.94 2.06-2.06.94zm10 10l.94 2.06.94-2.06 2.06-.94-2.06-.94-.94-2.06-.94 2.06-2.06.94z\"/><path d=\"M17.41 7.96l-1.37-1.37c-.4-.4-.92-.59-1.43-.59-.52 0-1.04.2-1.43.59L10.3 9.45l-7.72 7.72c-.78.78-.78 2.05 0 2.83L4 21.41c.39.39.9.59 1.41.59.51 0 1.02-.2 1.41-.59l7.78-7.78 2.81-2.81c.8-.78.8-2.07 0-2.86zM5.41 20L4 18.59l7.72-7.72 1.47 1.35L5.41 20z\"/>\n",
              "  </svg>\n",
              "      </button>\n",
              "      \n",
              "  <style>\n",
              "    .colab-df-container {\n",
              "      display:flex;\n",
              "      flex-wrap:wrap;\n",
              "      gap: 12px;\n",
              "    }\n",
              "\n",
              "    .colab-df-convert {\n",
              "      background-color: #E8F0FE;\n",
              "      border: none;\n",
              "      border-radius: 50%;\n",
              "      cursor: pointer;\n",
              "      display: none;\n",
              "      fill: #1967D2;\n",
              "      height: 32px;\n",
              "      padding: 0 0 0 0;\n",
              "      width: 32px;\n",
              "    }\n",
              "\n",
              "    .colab-df-convert:hover {\n",
              "      background-color: #E2EBFA;\n",
              "      box-shadow: 0px 1px 2px rgba(60, 64, 67, 0.3), 0px 1px 3px 1px rgba(60, 64, 67, 0.15);\n",
              "      fill: #174EA6;\n",
              "    }\n",
              "\n",
              "    [theme=dark] .colab-df-convert {\n",
              "      background-color: #3B4455;\n",
              "      fill: #D2E3FC;\n",
              "    }\n",
              "\n",
              "    [theme=dark] .colab-df-convert:hover {\n",
              "      background-color: #434B5C;\n",
              "      box-shadow: 0px 1px 3px 1px rgba(0, 0, 0, 0.15);\n",
              "      filter: drop-shadow(0px 1px 2px rgba(0, 0, 0, 0.3));\n",
              "      fill: #FFFFFF;\n",
              "    }\n",
              "  </style>\n",
              "\n",
              "      <script>\n",
              "        const buttonEl =\n",
              "          document.querySelector('#df-aee9bed2-5495-4a18-9777-2b9c173320ab button.colab-df-convert');\n",
              "        buttonEl.style.display =\n",
              "          google.colab.kernel.accessAllowed ? 'block' : 'none';\n",
              "\n",
              "        async function convertToInteractive(key) {\n",
              "          const element = document.querySelector('#df-aee9bed2-5495-4a18-9777-2b9c173320ab');\n",
              "          const dataTable =\n",
              "            await google.colab.kernel.invokeFunction('convertToInteractive',\n",
              "                                                     [key], {});\n",
              "          if (!dataTable) return;\n",
              "\n",
              "          const docLinkHtml = 'Like what you see? Visit the ' +\n",
              "            '<a target=\"_blank\" href=https://colab.research.google.com/notebooks/data_table.ipynb>data table notebook</a>'\n",
              "            + ' to learn more about interactive tables.';\n",
              "          element.innerHTML = '';\n",
              "          dataTable['output_type'] = 'display_data';\n",
              "          await google.colab.output.renderOutput(dataTable, element);\n",
              "          const docLink = document.createElement('div');\n",
              "          docLink.innerHTML = docLinkHtml;\n",
              "          element.appendChild(docLink);\n",
              "        }\n",
              "      </script>\n",
              "    </div>\n",
              "  </div>\n",
              "  "
            ],
            "text/plain": [
              "   price vehicle_type  registration_year gearbox  power  model kilometer  \\\n",
              "1  18300        coupe               2011  manual    190    NaN    125000   \n",
              "2   9800          suv               2004    auto    163  grand    125000   \n",
              "3   1500        small               2001  manual     75   golf    150000   \n",
              "4   3600        small               2008  manual     69  fabia     90000   \n",
              "5    650        sedan               1995  manual    102    3er    150000   \n",
              "\n",
              "  fuel_type       brand repaired         date_created            last_seen  \n",
              "1  gasoline        audi      yes  2016-03-24 00:00:00  2016-04-07 01:46:50  \n",
              "2  gasoline        jeep      NaN  2016-03-14 00:00:00  2016-04-05 12:47:46  \n",
              "3    petrol  volkswagen       no  2016-03-17 00:00:00  2016-03-17 17:40:17  \n",
              "4  gasoline       skoda       no  2016-03-31 00:00:00  2016-04-06 10:17:21  \n",
              "5    petrol         bmw      yes  2016-04-04 00:00:00  2016-04-06 19:17:07  "
            ]
          },
          "execution_count": 60,
          "metadata": {},
          "output_type": "execute_result"
        }
      ],
      "source": [
        "df.head()"
      ]
    },
    {
      "cell_type": "code",
      "execution_count": 61,
      "metadata": {
        "colab": {
          "base_uri": "https://localhost:8080/"
        },
        "id": "GbNfMjpdeRFf",
        "outputId": "c118bdcd-b3c0-4b1e-fbab-9ce5b48c5c2e"
      },
      "outputs": [
        {
          "data": {
            "text/plain": [
              "sedan          47306\n",
              "small          37430\n",
              "wagon          35064\n",
              "bus            15773\n",
              "convertible    10624\n",
              "coupe           7440\n",
              "suv             5913\n",
              "other           1309\n",
              "Name: vehicle_type, dtype: int64"
            ]
          },
          "execution_count": 61,
          "metadata": {},
          "output_type": "execute_result"
        }
      ],
      "source": [
        "df['vehicle_type'].value_counts()"
      ]
    },
    {
      "cell_type": "code",
      "execution_count": 62,
      "metadata": {
        "colab": {
          "base_uri": "https://localhost:8080/",
          "height": 486
        },
        "id": "Bxn2IN3-eRFf",
        "outputId": "e0f5bae6-ef52-4ef9-8e7e-9c8172260e8a",
        "scrolled": false
      },
      "outputs": [
        {
          "data": {
            "text/html": [
              "\n",
              "  <div id=\"df-eb77e5e8-0213-40d6-9718-1db74cf3cd6b\">\n",
              "    <div class=\"colab-df-container\">\n",
              "      <div>\n",
              "<style scoped>\n",
              "    .dataframe tbody tr th:only-of-type {\n",
              "        vertical-align: middle;\n",
              "    }\n",
              "\n",
              "    .dataframe tbody tr th {\n",
              "        vertical-align: top;\n",
              "    }\n",
              "\n",
              "    .dataframe thead tr th {\n",
              "        text-align: left;\n",
              "    }\n",
              "\n",
              "    .dataframe thead tr:last-of-type th {\n",
              "        text-align: right;\n",
              "    }\n",
              "</style>\n",
              "<table border=\"1\" class=\"dataframe\">\n",
              "  <thead>\n",
              "    <tr>\n",
              "      <th></th>\n",
              "      <th></th>\n",
              "      <th></th>\n",
              "      <th></th>\n",
              "      <th></th>\n",
              "      <th>count</th>\n",
              "      <th>nan_count</th>\n",
              "    </tr>\n",
              "    <tr>\n",
              "      <th></th>\n",
              "      <th></th>\n",
              "      <th></th>\n",
              "      <th></th>\n",
              "      <th></th>\n",
              "      <th>vehicle_type</th>\n",
              "      <th>vehicle_type</th>\n",
              "    </tr>\n",
              "    <tr>\n",
              "      <th>brand</th>\n",
              "      <th>model</th>\n",
              "      <th>registration_year</th>\n",
              "      <th>gearbox</th>\n",
              "      <th>power</th>\n",
              "      <th></th>\n",
              "      <th></th>\n",
              "    </tr>\n",
              "  </thead>\n",
              "  <tbody>\n",
              "    <tr>\n",
              "      <th rowspan=\"4\" valign=\"top\">volkswagen</th>\n",
              "      <th rowspan=\"4\" valign=\"top\">golf</th>\n",
              "      <th>1999</th>\n",
              "      <th>manual</th>\n",
              "      <th>75</th>\n",
              "      <td>472</td>\n",
              "      <td>2</td>\n",
              "    </tr>\n",
              "    <tr>\n",
              "      <th>2000</th>\n",
              "      <th>manual</th>\n",
              "      <th>75</th>\n",
              "      <td>256</td>\n",
              "      <td>45</td>\n",
              "    </tr>\n",
              "    <tr>\n",
              "      <th>1995</th>\n",
              "      <th>manual</th>\n",
              "      <th>75</th>\n",
              "      <td>233</td>\n",
              "      <td>28</td>\n",
              "    </tr>\n",
              "    <tr>\n",
              "      <th>2010</th>\n",
              "      <th>manual</th>\n",
              "      <th>105</th>\n",
              "      <td>197</td>\n",
              "      <td>3</td>\n",
              "    </tr>\n",
              "    <tr>\n",
              "      <th>opel</th>\n",
              "      <th>astra</th>\n",
              "      <th>1998</th>\n",
              "      <th>manual</th>\n",
              "      <th>75</th>\n",
              "      <td>191</td>\n",
              "      <td>1</td>\n",
              "    </tr>\n",
              "    <tr>\n",
              "      <th>...</th>\n",
              "      <th>...</th>\n",
              "      <th>...</th>\n",
              "      <th>...</th>\n",
              "      <th>...</th>\n",
              "      <td>...</td>\n",
              "      <td>...</td>\n",
              "    </tr>\n",
              "    <tr>\n",
              "      <th>mazda</th>\n",
              "      <th>mx_reihe</th>\n",
              "      <th>1995</th>\n",
              "      <th>manual</th>\n",
              "      <th>133</th>\n",
              "      <td>0</td>\n",
              "      <td>1</td>\n",
              "    </tr>\n",
              "    <tr>\n",
              "      <th>ford</th>\n",
              "      <th>mondeo</th>\n",
              "      <th>2005</th>\n",
              "      <th>manual</th>\n",
              "      <th>108</th>\n",
              "      <td>0</td>\n",
              "      <td>1</td>\n",
              "    </tr>\n",
              "    <tr>\n",
              "      <th>mercedes_benz</th>\n",
              "      <th>e_klasse</th>\n",
              "      <th>1990</th>\n",
              "      <th>auto</th>\n",
              "      <th>140</th>\n",
              "      <td>0</td>\n",
              "      <td>1</td>\n",
              "    </tr>\n",
              "    <tr>\n",
              "      <th>mazda</th>\n",
              "      <th>mx_reihe</th>\n",
              "      <th>2000</th>\n",
              "      <th>auto</th>\n",
              "      <th>107</th>\n",
              "      <td>0</td>\n",
              "      <td>1</td>\n",
              "    </tr>\n",
              "    <tr>\n",
              "      <th>volkswagen</th>\n",
              "      <th>golf</th>\n",
              "      <th>1990</th>\n",
              "      <th>manual</th>\n",
              "      <th>210</th>\n",
              "      <td>0</td>\n",
              "      <td>1</td>\n",
              "    </tr>\n",
              "  </tbody>\n",
              "</table>\n",
              "<p>1231 rows × 2 columns</p>\n",
              "</div>\n",
              "      <button class=\"colab-df-convert\" onclick=\"convertToInteractive('df-eb77e5e8-0213-40d6-9718-1db74cf3cd6b')\"\n",
              "              title=\"Convert this dataframe to an interactive table.\"\n",
              "              style=\"display:none;\">\n",
              "        \n",
              "  <svg xmlns=\"http://www.w3.org/2000/svg\" height=\"24px\"viewBox=\"0 0 24 24\"\n",
              "       width=\"24px\">\n",
              "    <path d=\"M0 0h24v24H0V0z\" fill=\"none\"/>\n",
              "    <path d=\"M18.56 5.44l.94 2.06.94-2.06 2.06-.94-2.06-.94-.94-2.06-.94 2.06-2.06.94zm-11 1L8.5 8.5l.94-2.06 2.06-.94-2.06-.94L8.5 2.5l-.94 2.06-2.06.94zm10 10l.94 2.06.94-2.06 2.06-.94-2.06-.94-.94-2.06-.94 2.06-2.06.94z\"/><path d=\"M17.41 7.96l-1.37-1.37c-.4-.4-.92-.59-1.43-.59-.52 0-1.04.2-1.43.59L10.3 9.45l-7.72 7.72c-.78.78-.78 2.05 0 2.83L4 21.41c.39.39.9.59 1.41.59.51 0 1.02-.2 1.41-.59l7.78-7.78 2.81-2.81c.8-.78.8-2.07 0-2.86zM5.41 20L4 18.59l7.72-7.72 1.47 1.35L5.41 20z\"/>\n",
              "  </svg>\n",
              "      </button>\n",
              "      \n",
              "  <style>\n",
              "    .colab-df-container {\n",
              "      display:flex;\n",
              "      flex-wrap:wrap;\n",
              "      gap: 12px;\n",
              "    }\n",
              "\n",
              "    .colab-df-convert {\n",
              "      background-color: #E8F0FE;\n",
              "      border: none;\n",
              "      border-radius: 50%;\n",
              "      cursor: pointer;\n",
              "      display: none;\n",
              "      fill: #1967D2;\n",
              "      height: 32px;\n",
              "      padding: 0 0 0 0;\n",
              "      width: 32px;\n",
              "    }\n",
              "\n",
              "    .colab-df-convert:hover {\n",
              "      background-color: #E2EBFA;\n",
              "      box-shadow: 0px 1px 2px rgba(60, 64, 67, 0.3), 0px 1px 3px 1px rgba(60, 64, 67, 0.15);\n",
              "      fill: #174EA6;\n",
              "    }\n",
              "\n",
              "    [theme=dark] .colab-df-convert {\n",
              "      background-color: #3B4455;\n",
              "      fill: #D2E3FC;\n",
              "    }\n",
              "\n",
              "    [theme=dark] .colab-df-convert:hover {\n",
              "      background-color: #434B5C;\n",
              "      box-shadow: 0px 1px 3px 1px rgba(0, 0, 0, 0.15);\n",
              "      filter: drop-shadow(0px 1px 2px rgba(0, 0, 0, 0.3));\n",
              "      fill: #FFFFFF;\n",
              "    }\n",
              "  </style>\n",
              "\n",
              "      <script>\n",
              "        const buttonEl =\n",
              "          document.querySelector('#df-eb77e5e8-0213-40d6-9718-1db74cf3cd6b button.colab-df-convert');\n",
              "        buttonEl.style.display =\n",
              "          google.colab.kernel.accessAllowed ? 'block' : 'none';\n",
              "\n",
              "        async function convertToInteractive(key) {\n",
              "          const element = document.querySelector('#df-eb77e5e8-0213-40d6-9718-1db74cf3cd6b');\n",
              "          const dataTable =\n",
              "            await google.colab.kernel.invokeFunction('convertToInteractive',\n",
              "                                                     [key], {});\n",
              "          if (!dataTable) return;\n",
              "\n",
              "          const docLinkHtml = 'Like what you see? Visit the ' +\n",
              "            '<a target=\"_blank\" href=https://colab.research.google.com/notebooks/data_table.ipynb>data table notebook</a>'\n",
              "            + ' to learn more about interactive tables.';\n",
              "          element.innerHTML = '';\n",
              "          dataTable['output_type'] = 'display_data';\n",
              "          await google.colab.output.renderOutput(dataTable, element);\n",
              "          const docLink = document.createElement('div');\n",
              "          docLink.innerHTML = docLinkHtml;\n",
              "          element.appendChild(docLink);\n",
              "        }\n",
              "      </script>\n",
              "    </div>\n",
              "  </div>\n",
              "  "
            ],
            "text/plain": [
              "                                                              count  \\\n",
              "                                                       vehicle_type   \n",
              "brand         model    registration_year gearbox power                \n",
              "volkswagen    golf     1999              manual  75             472   \n",
              "                       2000              manual  75             256   \n",
              "                       1995              manual  75             233   \n",
              "                       2010              manual  105            197   \n",
              "opel          astra    1998              manual  75             191   \n",
              "...                                                             ...   \n",
              "mazda         mx_reihe 1995              manual  133              0   \n",
              "ford          mondeo   2005              manual  108              0   \n",
              "mercedes_benz e_klasse 1990              auto    140              0   \n",
              "mazda         mx_reihe 2000              auto    107              0   \n",
              "volkswagen    golf     1990              manual  210              0   \n",
              "\n",
              "                                                          nan_count  \n",
              "                                                       vehicle_type  \n",
              "brand         model    registration_year gearbox power               \n",
              "volkswagen    golf     1999              manual  75               2  \n",
              "                       2000              manual  75              45  \n",
              "                       1995              manual  75              28  \n",
              "                       2010              manual  105              3  \n",
              "opel          astra    1998              manual  75               1  \n",
              "...                                                             ...  \n",
              "mazda         mx_reihe 1995              manual  133              1  \n",
              "ford          mondeo   2005              manual  108              1  \n",
              "mercedes_benz e_klasse 1990              auto    140              1  \n",
              "mazda         mx_reihe 2000              auto    107              1  \n",
              "volkswagen    golf     1990              manual  210              1  \n",
              "\n",
              "[1231 rows x 2 columns]"
            ]
          },
          "execution_count": 62,
          "metadata": {},
          "output_type": "execute_result"
        }
      ],
      "source": [
        "vehicle_type_table = df.pivot_table(index = ['brand', 'model', 'registration_year', 'gearbox', 'power'], values = 'vehicle_type', aggfunc = ['count', lambda x : x.isna().sum()]).sort_values(by = ('count', 'vehicle_type'), ascending = False)\n",
        "\n",
        "vehicle_type_table.columns.set_levels(['count','nan_count'],level=0,inplace=True)\n",
        "vehicle_type_table[vehicle_type_table[('nan_count','vehicle_type')] > 0].sort_values(by = ('count', 'vehicle_type'), ascending = False)"
      ]
    },
    {
      "cell_type": "code",
      "execution_count": 63,
      "metadata": {
        "colab": {
          "base_uri": "https://localhost:8080/",
          "height": 1000
        },
        "id": "o_5pgXlgeRFf",
        "outputId": "754f9775-11a8-40c5-8d9a-6db829c71058",
        "scrolled": true
      },
      "outputs": [
        {
          "data": {
            "text/html": [
              "\n",
              "  <div id=\"df-f032cde8-9d4d-4207-85a4-d7db4807de05\">\n",
              "    <div class=\"colab-df-container\">\n",
              "      <div>\n",
              "<style scoped>\n",
              "    .dataframe tbody tr th:only-of-type {\n",
              "        vertical-align: middle;\n",
              "    }\n",
              "\n",
              "    .dataframe tbody tr th {\n",
              "        vertical-align: top;\n",
              "    }\n",
              "\n",
              "    .dataframe thead th {\n",
              "        text-align: right;\n",
              "    }\n",
              "</style>\n",
              "<table border=\"1\" class=\"dataframe\">\n",
              "  <thead>\n",
              "    <tr style=\"text-align: right;\">\n",
              "      <th></th>\n",
              "      <th>vehicle_type</th>\n",
              "      <th>registration_year</th>\n",
              "      <th>gearbox</th>\n",
              "      <th>power</th>\n",
              "      <th>fuel_type</th>\n",
              "      <th>price</th>\n",
              "    </tr>\n",
              "  </thead>\n",
              "  <tbody>\n",
              "    <tr>\n",
              "      <th>104753</th>\n",
              "      <td>convertible</td>\n",
              "      <td>1999</td>\n",
              "      <td>manual</td>\n",
              "      <td>75</td>\n",
              "      <td>petrol</td>\n",
              "      <td>750</td>\n",
              "    </tr>\n",
              "    <tr>\n",
              "      <th>104907</th>\n",
              "      <td>convertible</td>\n",
              "      <td>1999</td>\n",
              "      <td>manual</td>\n",
              "      <td>75</td>\n",
              "      <td>petrol</td>\n",
              "      <td>3250</td>\n",
              "    </tr>\n",
              "    <tr>\n",
              "      <th>76368</th>\n",
              "      <td>convertible</td>\n",
              "      <td>1999</td>\n",
              "      <td>manual</td>\n",
              "      <td>75</td>\n",
              "      <td>petrol</td>\n",
              "      <td>1200</td>\n",
              "    </tr>\n",
              "    <tr>\n",
              "      <th>110626</th>\n",
              "      <td>convertible</td>\n",
              "      <td>1999</td>\n",
              "      <td>manual</td>\n",
              "      <td>75</td>\n",
              "      <td>petrol</td>\n",
              "      <td>1150</td>\n",
              "    </tr>\n",
              "    <tr>\n",
              "      <th>127343</th>\n",
              "      <td>convertible</td>\n",
              "      <td>1999</td>\n",
              "      <td>manual</td>\n",
              "      <td>75</td>\n",
              "      <td>petrol</td>\n",
              "      <td>1950</td>\n",
              "    </tr>\n",
              "    <tr>\n",
              "      <th>144922</th>\n",
              "      <td>convertible</td>\n",
              "      <td>1999</td>\n",
              "      <td>manual</td>\n",
              "      <td>75</td>\n",
              "      <td>petrol</td>\n",
              "      <td>3000</td>\n",
              "    </tr>\n",
              "    <tr>\n",
              "      <th>34132</th>\n",
              "      <td>convertible</td>\n",
              "      <td>1999</td>\n",
              "      <td>manual</td>\n",
              "      <td>75</td>\n",
              "      <td>petrol</td>\n",
              "      <td>1950</td>\n",
              "    </tr>\n",
              "    <tr>\n",
              "      <th>184692</th>\n",
              "      <td>convertible</td>\n",
              "      <td>1999</td>\n",
              "      <td>manual</td>\n",
              "      <td>75</td>\n",
              "      <td>petrol</td>\n",
              "      <td>500</td>\n",
              "    </tr>\n",
              "    <tr>\n",
              "      <th>208458</th>\n",
              "      <td>convertible</td>\n",
              "      <td>1999</td>\n",
              "      <td>manual</td>\n",
              "      <td>75</td>\n",
              "      <td>petrol</td>\n",
              "      <td>1450</td>\n",
              "    </tr>\n",
              "    <tr>\n",
              "      <th>211058</th>\n",
              "      <td>convertible</td>\n",
              "      <td>1999</td>\n",
              "      <td>manual</td>\n",
              "      <td>75</td>\n",
              "      <td>petrol</td>\n",
              "      <td>2000</td>\n",
              "    </tr>\n",
              "    <tr>\n",
              "      <th>7616</th>\n",
              "      <td>convertible</td>\n",
              "      <td>1999</td>\n",
              "      <td>manual</td>\n",
              "      <td>75</td>\n",
              "      <td>petrol</td>\n",
              "      <td>3600</td>\n",
              "    </tr>\n",
              "    <tr>\n",
              "      <th>90758</th>\n",
              "      <td>convertible</td>\n",
              "      <td>1999</td>\n",
              "      <td>manual</td>\n",
              "      <td>75</td>\n",
              "      <td>petrol</td>\n",
              "      <td>3500</td>\n",
              "    </tr>\n",
              "    <tr>\n",
              "      <th>5793</th>\n",
              "      <td>convertible</td>\n",
              "      <td>1999</td>\n",
              "      <td>manual</td>\n",
              "      <td>75</td>\n",
              "      <td>petrol</td>\n",
              "      <td>1950</td>\n",
              "    </tr>\n",
              "    <tr>\n",
              "      <th>216397</th>\n",
              "      <td>convertible</td>\n",
              "      <td>1999</td>\n",
              "      <td>manual</td>\n",
              "      <td>75</td>\n",
              "      <td>petrol</td>\n",
              "      <td>2950</td>\n",
              "    </tr>\n",
              "    <tr>\n",
              "      <th>122089</th>\n",
              "      <td>coupe</td>\n",
              "      <td>1999</td>\n",
              "      <td>manual</td>\n",
              "      <td>75</td>\n",
              "      <td>petrol</td>\n",
              "      <td>1300</td>\n",
              "    </tr>\n",
              "    <tr>\n",
              "      <th>35641</th>\n",
              "      <td>coupe</td>\n",
              "      <td>1999</td>\n",
              "      <td>manual</td>\n",
              "      <td>75</td>\n",
              "      <td>petrol</td>\n",
              "      <td>1600</td>\n",
              "    </tr>\n",
              "    <tr>\n",
              "      <th>138993</th>\n",
              "      <td>coupe</td>\n",
              "      <td>1999</td>\n",
              "      <td>manual</td>\n",
              "      <td>75</td>\n",
              "      <td>petrol</td>\n",
              "      <td>1500</td>\n",
              "    </tr>\n",
              "    <tr>\n",
              "      <th>176164</th>\n",
              "      <td>coupe</td>\n",
              "      <td>1999</td>\n",
              "      <td>manual</td>\n",
              "      <td>75</td>\n",
              "      <td>petrol</td>\n",
              "      <td>1400</td>\n",
              "    </tr>\n",
              "    <tr>\n",
              "      <th>160600</th>\n",
              "      <td>coupe</td>\n",
              "      <td>1999</td>\n",
              "      <td>manual</td>\n",
              "      <td>75</td>\n",
              "      <td>petrol</td>\n",
              "      <td>700</td>\n",
              "    </tr>\n",
              "    <tr>\n",
              "      <th>85359</th>\n",
              "      <td>coupe</td>\n",
              "      <td>1999</td>\n",
              "      <td>manual</td>\n",
              "      <td>75</td>\n",
              "      <td>petrol</td>\n",
              "      <td>1100</td>\n",
              "    </tr>\n",
              "    <tr>\n",
              "      <th>12809</th>\n",
              "      <td>other</td>\n",
              "      <td>1999</td>\n",
              "      <td>manual</td>\n",
              "      <td>75</td>\n",
              "      <td>petrol</td>\n",
              "      <td>1100</td>\n",
              "    </tr>\n",
              "    <tr>\n",
              "      <th>49726</th>\n",
              "      <td>other</td>\n",
              "      <td>1999</td>\n",
              "      <td>manual</td>\n",
              "      <td>75</td>\n",
              "      <td>petrol</td>\n",
              "      <td>850</td>\n",
              "    </tr>\n",
              "    <tr>\n",
              "      <th>126652</th>\n",
              "      <td>sedan</td>\n",
              "      <td>1999</td>\n",
              "      <td>manual</td>\n",
              "      <td>75</td>\n",
              "      <td>petrol</td>\n",
              "      <td>1900</td>\n",
              "    </tr>\n",
              "    <tr>\n",
              "      <th>122129</th>\n",
              "      <td>sedan</td>\n",
              "      <td>1999</td>\n",
              "      <td>manual</td>\n",
              "      <td>75</td>\n",
              "      <td>petrol</td>\n",
              "      <td>1400</td>\n",
              "    </tr>\n",
              "    <tr>\n",
              "      <th>130417</th>\n",
              "      <td>sedan</td>\n",
              "      <td>1999</td>\n",
              "      <td>manual</td>\n",
              "      <td>75</td>\n",
              "      <td>petrol</td>\n",
              "      <td>1900</td>\n",
              "    </tr>\n",
              "    <tr>\n",
              "      <th>129953</th>\n",
              "      <td>sedan</td>\n",
              "      <td>1999</td>\n",
              "      <td>manual</td>\n",
              "      <td>75</td>\n",
              "      <td>petrol</td>\n",
              "      <td>1550</td>\n",
              "    </tr>\n",
              "    <tr>\n",
              "      <th>124007</th>\n",
              "      <td>sedan</td>\n",
              "      <td>1999</td>\n",
              "      <td>manual</td>\n",
              "      <td>75</td>\n",
              "      <td>petrol</td>\n",
              "      <td>1000</td>\n",
              "    </tr>\n",
              "    <tr>\n",
              "      <th>128496</th>\n",
              "      <td>sedan</td>\n",
              "      <td>1999</td>\n",
              "      <td>manual</td>\n",
              "      <td>75</td>\n",
              "      <td>petrol</td>\n",
              "      <td>1300</td>\n",
              "    </tr>\n",
              "    <tr>\n",
              "      <th>128228</th>\n",
              "      <td>sedan</td>\n",
              "      <td>1999</td>\n",
              "      <td>manual</td>\n",
              "      <td>75</td>\n",
              "      <td>NaN</td>\n",
              "      <td>1000</td>\n",
              "    </tr>\n",
              "    <tr>\n",
              "      <th>124302</th>\n",
              "      <td>sedan</td>\n",
              "      <td>1999</td>\n",
              "      <td>manual</td>\n",
              "      <td>75</td>\n",
              "      <td>petrol</td>\n",
              "      <td>1950</td>\n",
              "    </tr>\n",
              "    <tr>\n",
              "      <th>127926</th>\n",
              "      <td>sedan</td>\n",
              "      <td>1999</td>\n",
              "      <td>manual</td>\n",
              "      <td>75</td>\n",
              "      <td>petrol</td>\n",
              "      <td>1500</td>\n",
              "    </tr>\n",
              "    <tr>\n",
              "      <th>125247</th>\n",
              "      <td>sedan</td>\n",
              "      <td>1999</td>\n",
              "      <td>manual</td>\n",
              "      <td>75</td>\n",
              "      <td>petrol</td>\n",
              "      <td>650</td>\n",
              "    </tr>\n",
              "    <tr>\n",
              "      <th>215697</th>\n",
              "      <td>sedan</td>\n",
              "      <td>1999</td>\n",
              "      <td>manual</td>\n",
              "      <td>75</td>\n",
              "      <td>petrol</td>\n",
              "      <td>1850</td>\n",
              "    </tr>\n",
              "    <tr>\n",
              "      <th>131094</th>\n",
              "      <td>sedan</td>\n",
              "      <td>1999</td>\n",
              "      <td>manual</td>\n",
              "      <td>75</td>\n",
              "      <td>petrol</td>\n",
              "      <td>1500</td>\n",
              "    </tr>\n",
              "    <tr>\n",
              "      <th>125719</th>\n",
              "      <td>sedan</td>\n",
              "      <td>1999</td>\n",
              "      <td>manual</td>\n",
              "      <td>75</td>\n",
              "      <td>petrol</td>\n",
              "      <td>2000</td>\n",
              "    </tr>\n",
              "    <tr>\n",
              "      <th>127294</th>\n",
              "      <td>sedan</td>\n",
              "      <td>1999</td>\n",
              "      <td>manual</td>\n",
              "      <td>75</td>\n",
              "      <td>petrol</td>\n",
              "      <td>2300</td>\n",
              "    </tr>\n",
              "    <tr>\n",
              "      <th>126831</th>\n",
              "      <td>sedan</td>\n",
              "      <td>1999</td>\n",
              "      <td>manual</td>\n",
              "      <td>75</td>\n",
              "      <td>petrol</td>\n",
              "      <td>1800</td>\n",
              "    </tr>\n",
              "    <tr>\n",
              "      <th>126436</th>\n",
              "      <td>sedan</td>\n",
              "      <td>1999</td>\n",
              "      <td>manual</td>\n",
              "      <td>75</td>\n",
              "      <td>petrol</td>\n",
              "      <td>1200</td>\n",
              "    </tr>\n",
              "    <tr>\n",
              "      <th>131139</th>\n",
              "      <td>sedan</td>\n",
              "      <td>1999</td>\n",
              "      <td>manual</td>\n",
              "      <td>75</td>\n",
              "      <td>petrol</td>\n",
              "      <td>1450</td>\n",
              "    </tr>\n",
              "    <tr>\n",
              "      <th>132097</th>\n",
              "      <td>sedan</td>\n",
              "      <td>1999</td>\n",
              "      <td>manual</td>\n",
              "      <td>75</td>\n",
              "      <td>petrol</td>\n",
              "      <td>1600</td>\n",
              "    </tr>\n",
              "    <tr>\n",
              "      <th>131845</th>\n",
              "      <td>sedan</td>\n",
              "      <td>1999</td>\n",
              "      <td>manual</td>\n",
              "      <td>75</td>\n",
              "      <td>petrol</td>\n",
              "      <td>1400</td>\n",
              "    </tr>\n",
              "    <tr>\n",
              "      <th>151414</th>\n",
              "      <td>sedan</td>\n",
              "      <td>1999</td>\n",
              "      <td>manual</td>\n",
              "      <td>75</td>\n",
              "      <td>petrol</td>\n",
              "      <td>1950</td>\n",
              "    </tr>\n",
              "    <tr>\n",
              "      <th>149040</th>\n",
              "      <td>sedan</td>\n",
              "      <td>1999</td>\n",
              "      <td>manual</td>\n",
              "      <td>75</td>\n",
              "      <td>petrol</td>\n",
              "      <td>1550</td>\n",
              "    </tr>\n",
              "    <tr>\n",
              "      <th>148082</th>\n",
              "      <td>sedan</td>\n",
              "      <td>1999</td>\n",
              "      <td>manual</td>\n",
              "      <td>75</td>\n",
              "      <td>petrol</td>\n",
              "      <td>900</td>\n",
              "    </tr>\n",
              "    <tr>\n",
              "      <th>146683</th>\n",
              "      <td>sedan</td>\n",
              "      <td>1999</td>\n",
              "      <td>manual</td>\n",
              "      <td>75</td>\n",
              "      <td>petrol</td>\n",
              "      <td>2400</td>\n",
              "    </tr>\n",
              "    <tr>\n",
              "      <th>215659</th>\n",
              "      <td>sedan</td>\n",
              "      <td>1999</td>\n",
              "      <td>manual</td>\n",
              "      <td>75</td>\n",
              "      <td>petrol</td>\n",
              "      <td>550</td>\n",
              "    </tr>\n",
              "    <tr>\n",
              "      <th>142974</th>\n",
              "      <td>sedan</td>\n",
              "      <td>1999</td>\n",
              "      <td>manual</td>\n",
              "      <td>75</td>\n",
              "      <td>petrol</td>\n",
              "      <td>1600</td>\n",
              "    </tr>\n",
              "    <tr>\n",
              "      <th>142880</th>\n",
              "      <td>sedan</td>\n",
              "      <td>1999</td>\n",
              "      <td>manual</td>\n",
              "      <td>75</td>\n",
              "      <td>petrol</td>\n",
              "      <td>1650</td>\n",
              "    </tr>\n",
              "    <tr>\n",
              "      <th>142665</th>\n",
              "      <td>sedan</td>\n",
              "      <td>1999</td>\n",
              "      <td>manual</td>\n",
              "      <td>75</td>\n",
              "      <td>petrol</td>\n",
              "      <td>1100</td>\n",
              "    </tr>\n",
              "    <tr>\n",
              "      <th>131218</th>\n",
              "      <td>sedan</td>\n",
              "      <td>1999</td>\n",
              "      <td>manual</td>\n",
              "      <td>75</td>\n",
              "      <td>petrol</td>\n",
              "      <td>1350</td>\n",
              "    </tr>\n",
              "    <tr>\n",
              "      <th>141889</th>\n",
              "      <td>sedan</td>\n",
              "      <td>1999</td>\n",
              "      <td>manual</td>\n",
              "      <td>75</td>\n",
              "      <td>petrol</td>\n",
              "      <td>900</td>\n",
              "    </tr>\n",
              "    <tr>\n",
              "      <th>139470</th>\n",
              "      <td>sedan</td>\n",
              "      <td>1999</td>\n",
              "      <td>manual</td>\n",
              "      <td>75</td>\n",
              "      <td>petrol</td>\n",
              "      <td>2000</td>\n",
              "    </tr>\n",
              "    <tr>\n",
              "      <th>139055</th>\n",
              "      <td>sedan</td>\n",
              "      <td>1999</td>\n",
              "      <td>manual</td>\n",
              "      <td>75</td>\n",
              "      <td>petrol</td>\n",
              "      <td>1800</td>\n",
              "    </tr>\n",
              "    <tr>\n",
              "      <th>137989</th>\n",
              "      <td>sedan</td>\n",
              "      <td>1999</td>\n",
              "      <td>manual</td>\n",
              "      <td>75</td>\n",
              "      <td>petrol</td>\n",
              "      <td>1500</td>\n",
              "    </tr>\n",
              "    <tr>\n",
              "      <th>136912</th>\n",
              "      <td>sedan</td>\n",
              "      <td>1999</td>\n",
              "      <td>manual</td>\n",
              "      <td>75</td>\n",
              "      <td>petrol</td>\n",
              "      <td>950</td>\n",
              "    </tr>\n",
              "    <tr>\n",
              "      <th>132936</th>\n",
              "      <td>sedan</td>\n",
              "      <td>1999</td>\n",
              "      <td>manual</td>\n",
              "      <td>75</td>\n",
              "      <td>petrol</td>\n",
              "      <td>1150</td>\n",
              "    </tr>\n",
              "    <tr>\n",
              "      <th>132725</th>\n",
              "      <td>sedan</td>\n",
              "      <td>1999</td>\n",
              "      <td>manual</td>\n",
              "      <td>75</td>\n",
              "      <td>petrol</td>\n",
              "      <td>1300</td>\n",
              "    </tr>\n",
              "    <tr>\n",
              "      <th>132641</th>\n",
              "      <td>sedan</td>\n",
              "      <td>1999</td>\n",
              "      <td>manual</td>\n",
              "      <td>75</td>\n",
              "      <td>petrol</td>\n",
              "      <td>2700</td>\n",
              "    </tr>\n",
              "    <tr>\n",
              "      <th>132111</th>\n",
              "      <td>sedan</td>\n",
              "      <td>1999</td>\n",
              "      <td>manual</td>\n",
              "      <td>75</td>\n",
              "      <td>petrol</td>\n",
              "      <td>2500</td>\n",
              "    </tr>\n",
              "    <tr>\n",
              "      <th>140018</th>\n",
              "      <td>sedan</td>\n",
              "      <td>1999</td>\n",
              "      <td>manual</td>\n",
              "      <td>75</td>\n",
              "      <td>petrol</td>\n",
              "      <td>1600</td>\n",
              "    </tr>\n",
              "  </tbody>\n",
              "</table>\n",
              "</div>\n",
              "      <button class=\"colab-df-convert\" onclick=\"convertToInteractive('df-f032cde8-9d4d-4207-85a4-d7db4807de05')\"\n",
              "              title=\"Convert this dataframe to an interactive table.\"\n",
              "              style=\"display:none;\">\n",
              "        \n",
              "  <svg xmlns=\"http://www.w3.org/2000/svg\" height=\"24px\"viewBox=\"0 0 24 24\"\n",
              "       width=\"24px\">\n",
              "    <path d=\"M0 0h24v24H0V0z\" fill=\"none\"/>\n",
              "    <path d=\"M18.56 5.44l.94 2.06.94-2.06 2.06-.94-2.06-.94-.94-2.06-.94 2.06-2.06.94zm-11 1L8.5 8.5l.94-2.06 2.06-.94-2.06-.94L8.5 2.5l-.94 2.06-2.06.94zm10 10l.94 2.06.94-2.06 2.06-.94-2.06-.94-.94-2.06-.94 2.06-2.06.94z\"/><path d=\"M17.41 7.96l-1.37-1.37c-.4-.4-.92-.59-1.43-.59-.52 0-1.04.2-1.43.59L10.3 9.45l-7.72 7.72c-.78.78-.78 2.05 0 2.83L4 21.41c.39.39.9.59 1.41.59.51 0 1.02-.2 1.41-.59l7.78-7.78 2.81-2.81c.8-.78.8-2.07 0-2.86zM5.41 20L4 18.59l7.72-7.72 1.47 1.35L5.41 20z\"/>\n",
              "  </svg>\n",
              "      </button>\n",
              "      \n",
              "  <style>\n",
              "    .colab-df-container {\n",
              "      display:flex;\n",
              "      flex-wrap:wrap;\n",
              "      gap: 12px;\n",
              "    }\n",
              "\n",
              "    .colab-df-convert {\n",
              "      background-color: #E8F0FE;\n",
              "      border: none;\n",
              "      border-radius: 50%;\n",
              "      cursor: pointer;\n",
              "      display: none;\n",
              "      fill: #1967D2;\n",
              "      height: 32px;\n",
              "      padding: 0 0 0 0;\n",
              "      width: 32px;\n",
              "    }\n",
              "\n",
              "    .colab-df-convert:hover {\n",
              "      background-color: #E2EBFA;\n",
              "      box-shadow: 0px 1px 2px rgba(60, 64, 67, 0.3), 0px 1px 3px 1px rgba(60, 64, 67, 0.15);\n",
              "      fill: #174EA6;\n",
              "    }\n",
              "\n",
              "    [theme=dark] .colab-df-convert {\n",
              "      background-color: #3B4455;\n",
              "      fill: #D2E3FC;\n",
              "    }\n",
              "\n",
              "    [theme=dark] .colab-df-convert:hover {\n",
              "      background-color: #434B5C;\n",
              "      box-shadow: 0px 1px 3px 1px rgba(0, 0, 0, 0.15);\n",
              "      filter: drop-shadow(0px 1px 2px rgba(0, 0, 0, 0.3));\n",
              "      fill: #FFFFFF;\n",
              "    }\n",
              "  </style>\n",
              "\n",
              "      <script>\n",
              "        const buttonEl =\n",
              "          document.querySelector('#df-f032cde8-9d4d-4207-85a4-d7db4807de05 button.colab-df-convert');\n",
              "        buttonEl.style.display =\n",
              "          google.colab.kernel.accessAllowed ? 'block' : 'none';\n",
              "\n",
              "        async function convertToInteractive(key) {\n",
              "          const element = document.querySelector('#df-f032cde8-9d4d-4207-85a4-d7db4807de05');\n",
              "          const dataTable =\n",
              "            await google.colab.kernel.invokeFunction('convertToInteractive',\n",
              "                                                     [key], {});\n",
              "          if (!dataTable) return;\n",
              "\n",
              "          const docLinkHtml = 'Like what you see? Visit the ' +\n",
              "            '<a target=\"_blank\" href=https://colab.research.google.com/notebooks/data_table.ipynb>data table notebook</a>'\n",
              "            + ' to learn more about interactive tables.';\n",
              "          element.innerHTML = '';\n",
              "          dataTable['output_type'] = 'display_data';\n",
              "          await google.colab.output.renderOutput(dataTable, element);\n",
              "          const docLink = document.createElement('div');\n",
              "          docLink.innerHTML = docLinkHtml;\n",
              "          element.appendChild(docLink);\n",
              "        }\n",
              "      </script>\n",
              "    </div>\n",
              "  </div>\n",
              "  "
            ],
            "text/plain": [
              "       vehicle_type  registration_year gearbox  power fuel_type  price\n",
              "104753  convertible               1999  manual     75    petrol    750\n",
              "104907  convertible               1999  manual     75    petrol   3250\n",
              "76368   convertible               1999  manual     75    petrol   1200\n",
              "110626  convertible               1999  manual     75    petrol   1150\n",
              "127343  convertible               1999  manual     75    petrol   1950\n",
              "144922  convertible               1999  manual     75    petrol   3000\n",
              "34132   convertible               1999  manual     75    petrol   1950\n",
              "184692  convertible               1999  manual     75    petrol    500\n",
              "208458  convertible               1999  manual     75    petrol   1450\n",
              "211058  convertible               1999  manual     75    petrol   2000\n",
              "7616    convertible               1999  manual     75    petrol   3600\n",
              "90758   convertible               1999  manual     75    petrol   3500\n",
              "5793    convertible               1999  manual     75    petrol   1950\n",
              "216397  convertible               1999  manual     75    petrol   2950\n",
              "122089        coupe               1999  manual     75    petrol   1300\n",
              "35641         coupe               1999  manual     75    petrol   1600\n",
              "138993        coupe               1999  manual     75    petrol   1500\n",
              "176164        coupe               1999  manual     75    petrol   1400\n",
              "160600        coupe               1999  manual     75    petrol    700\n",
              "85359         coupe               1999  manual     75    petrol   1100\n",
              "12809         other               1999  manual     75    petrol   1100\n",
              "49726         other               1999  manual     75    petrol    850\n",
              "126652        sedan               1999  manual     75    petrol   1900\n",
              "122129        sedan               1999  manual     75    petrol   1400\n",
              "130417        sedan               1999  manual     75    petrol   1900\n",
              "129953        sedan               1999  manual     75    petrol   1550\n",
              "124007        sedan               1999  manual     75    petrol   1000\n",
              "128496        sedan               1999  manual     75    petrol   1300\n",
              "128228        sedan               1999  manual     75       NaN   1000\n",
              "124302        sedan               1999  manual     75    petrol   1950\n",
              "127926        sedan               1999  manual     75    petrol   1500\n",
              "125247        sedan               1999  manual     75    petrol    650\n",
              "215697        sedan               1999  manual     75    petrol   1850\n",
              "131094        sedan               1999  manual     75    petrol   1500\n",
              "125719        sedan               1999  manual     75    petrol   2000\n",
              "127294        sedan               1999  manual     75    petrol   2300\n",
              "126831        sedan               1999  manual     75    petrol   1800\n",
              "126436        sedan               1999  manual     75    petrol   1200\n",
              "131139        sedan               1999  manual     75    petrol   1450\n",
              "132097        sedan               1999  manual     75    petrol   1600\n",
              "131845        sedan               1999  manual     75    petrol   1400\n",
              "151414        sedan               1999  manual     75    petrol   1950\n",
              "149040        sedan               1999  manual     75    petrol   1550\n",
              "148082        sedan               1999  manual     75    petrol    900\n",
              "146683        sedan               1999  manual     75    petrol   2400\n",
              "215659        sedan               1999  manual     75    petrol    550\n",
              "142974        sedan               1999  manual     75    petrol   1600\n",
              "142880        sedan               1999  manual     75    petrol   1650\n",
              "142665        sedan               1999  manual     75    petrol   1100\n",
              "131218        sedan               1999  manual     75    petrol   1350\n",
              "141889        sedan               1999  manual     75    petrol    900\n",
              "139470        sedan               1999  manual     75    petrol   2000\n",
              "139055        sedan               1999  manual     75    petrol   1800\n",
              "137989        sedan               1999  manual     75    petrol   1500\n",
              "136912        sedan               1999  manual     75    petrol    950\n",
              "132936        sedan               1999  manual     75    petrol   1150\n",
              "132725        sedan               1999  manual     75    petrol   1300\n",
              "132641        sedan               1999  manual     75    petrol   2700\n",
              "132111        sedan               1999  manual     75    petrol   2500\n",
              "140018        sedan               1999  manual     75    petrol   1600"
            ]
          },
          "execution_count": 63,
          "metadata": {},
          "output_type": "execute_result"
        }
      ],
      "source": [
        "# for example, take the volkswagen golf from the first line\n",
        "df.query('model == \"golf\" and registration_year == 1999 and power == 75')[['vehicle_type', 'registration_year', 'gearbox', 'power', 'fuel_type', 'price']].sort_values(by = 'vehicle_type').head(60)"
      ]
    },
    {
      "attachments": {},
      "cell_type": "markdown",
      "metadata": {
        "id": "_gTauS64eRFf"
      },
      "source": [
        "We see that it will not be possible to fill in the body type gaps based on other features - different body types have the same other features. Probably, lines with omissions will have to be deleted"
      ]
    },
    {
      "cell_type": "code",
      "execution_count": 64,
      "metadata": {
        "id": "bZ3DxeaYeRFf"
      },
      "outputs": [],
      "source": [
        "df = df[df['vehicle_type'].isna() == False]"
      ]
    },
    {
      "cell_type": "code",
      "execution_count": 113,
      "metadata": {
        "colab": {
          "base_uri": "https://localhost:8080/",
          "height": 279
        },
        "id": "WcQoSIXDt3e-",
        "outputId": "5e7ce7fe-968d-4dbb-f9de-67102ff748a7"
      },
      "outputs": [
        {
          "data": {
            "image/png": "[encoded data removed]",
            "text/plain": [
              "<Figure size 432x288 with 1 Axes>"
            ]
          },
          "metadata": {
            "needs_background": "light"
          },
          "output_type": "display_data"
        }
      ],
      "source": [
        "sns.histplot(df.query('model == \"golf\" and registration_year == 1999 and power == 75')['price']);"
      ]
    },
    {
      "cell_type": "code",
      "execution_count": 66,
      "metadata": {
        "colab": {
          "base_uri": "https://localhost:8080/",
          "height": 312
        },
        "id": "yfxiG6DYeRFg",
        "outputId": "ee294487-af22-4af8-bc21-a7a6a0edcf11",
        "scrolled": true
      },
      "outputs": [
        {
          "data": {
            "text/html": [
              "\n",
              "  <div id=\"df-1a522295-be8b-4a03-b6a7-00a8a376cfbd\">\n",
              "    <div class=\"colab-df-container\">\n",
              "      <div>\n",
              "<style scoped>\n",
              "    .dataframe tbody tr th:only-of-type {\n",
              "        vertical-align: middle;\n",
              "    }\n",
              "\n",
              "    .dataframe tbody tr th {\n",
              "        vertical-align: top;\n",
              "    }\n",
              "\n",
              "    .dataframe thead th {\n",
              "        text-align: right;\n",
              "    }\n",
              "</style>\n",
              "<table border=\"1\" class=\"dataframe\">\n",
              "  <thead>\n",
              "    <tr style=\"text-align: right;\">\n",
              "      <th></th>\n",
              "      <th>price</th>\n",
              "      <th>vehicle_type</th>\n",
              "      <th>registration_year</th>\n",
              "      <th>gearbox</th>\n",
              "      <th>power</th>\n",
              "      <th>model</th>\n",
              "      <th>kilometer</th>\n",
              "      <th>fuel_type</th>\n",
              "      <th>brand</th>\n",
              "      <th>repaired</th>\n",
              "      <th>date_created</th>\n",
              "      <th>last_seen</th>\n",
              "    </tr>\n",
              "  </thead>\n",
              "  <tbody>\n",
              "    <tr>\n",
              "      <th>10962</th>\n",
              "      <td>15000</td>\n",
              "      <td>sedan</td>\n",
              "      <td>1999</td>\n",
              "      <td>manual</td>\n",
              "      <td>75</td>\n",
              "      <td>golf</td>\n",
              "      <td>150000</td>\n",
              "      <td>petrol</td>\n",
              "      <td>volkswagen</td>\n",
              "      <td>no</td>\n",
              "      <td>2016-03-13 00:00:00</td>\n",
              "      <td>2016-04-06 17:47:01</td>\n",
              "    </tr>\n",
              "    <tr>\n",
              "      <th>91523</th>\n",
              "      <td>3700</td>\n",
              "      <td>small</td>\n",
              "      <td>1999</td>\n",
              "      <td>manual</td>\n",
              "      <td>75</td>\n",
              "      <td>golf</td>\n",
              "      <td>80000</td>\n",
              "      <td>petrol</td>\n",
              "      <td>volkswagen</td>\n",
              "      <td>no</td>\n",
              "      <td>2016-03-07 00:00:00</td>\n",
              "      <td>2016-03-08 18:31:36</td>\n",
              "    </tr>\n",
              "    <tr>\n",
              "      <th>27104</th>\n",
              "      <td>3700</td>\n",
              "      <td>small</td>\n",
              "      <td>1999</td>\n",
              "      <td>manual</td>\n",
              "      <td>75</td>\n",
              "      <td>golf</td>\n",
              "      <td>80000</td>\n",
              "      <td>petrol</td>\n",
              "      <td>volkswagen</td>\n",
              "      <td>no</td>\n",
              "      <td>2016-03-07 00:00:00</td>\n",
              "      <td>2016-03-08 23:29:59</td>\n",
              "    </tr>\n",
              "  </tbody>\n",
              "</table>\n",
              "</div>\n",
              "      <button class=\"colab-df-convert\" onclick=\"convertToInteractive('df-1a522295-be8b-4a03-b6a7-00a8a376cfbd')\"\n",
              "              title=\"Convert this dataframe to an interactive table.\"\n",
              "              style=\"display:none;\">\n",
              "        \n",
              "  <svg xmlns=\"http://www.w3.org/2000/svg\" height=\"24px\"viewBox=\"0 0 24 24\"\n",
              "       width=\"24px\">\n",
              "    <path d=\"M0 0h24v24H0V0z\" fill=\"none\"/>\n",
              "    <path d=\"M18.56 5.44l.94 2.06.94-2.06 2.06-.94-2.06-.94-.94-2.06-.94 2.06-2.06.94zm-11 1L8.5 8.5l.94-2.06 2.06-.94-2.06-.94L8.5 2.5l-.94 2.06-2.06.94zm10 10l.94 2.06.94-2.06 2.06-.94-2.06-.94-.94-2.06-.94 2.06-2.06.94z\"/><path d=\"M17.41 7.96l-1.37-1.37c-.4-.4-.92-.59-1.43-.59-.52 0-1.04.2-1.43.59L10.3 9.45l-7.72 7.72c-.78.78-.78 2.05 0 2.83L4 21.41c.39.39.9.59 1.41.59.51 0 1.02-.2 1.41-.59l7.78-7.78 2.81-2.81c.8-.78.8-2.07 0-2.86zM5.41 20L4 18.59l7.72-7.72 1.47 1.35L5.41 20z\"/>\n",
              "  </svg>\n",
              "      </button>\n",
              "      \n",
              "  <style>\n",
              "    .colab-df-container {\n",
              "      display:flex;\n",
              "      flex-wrap:wrap;\n",
              "      gap: 12px;\n",
              "    }\n",
              "\n",
              "    .colab-df-convert {\n",
              "      background-color: #E8F0FE;\n",
              "      border: none;\n",
              "      border-radius: 50%;\n",
              "      cursor: pointer;\n",
              "      display: none;\n",
              "      fill: #1967D2;\n",
              "      height: 32px;\n",
              "      padding: 0 0 0 0;\n",
              "      width: 32px;\n",
              "    }\n",
              "\n",
              "    .colab-df-convert:hover {\n",
              "      background-color: #E2EBFA;\n",
              "      box-shadow: 0px 1px 2px rgba(60, 64, 67, 0.3), 0px 1px 3px 1px rgba(60, 64, 67, 0.15);\n",
              "      fill: #174EA6;\n",
              "    }\n",
              "\n",
              "    [theme=dark] .colab-df-convert {\n",
              "      background-color: #3B4455;\n",
              "      fill: #D2E3FC;\n",
              "    }\n",
              "\n",
              "    [theme=dark] .colab-df-convert:hover {\n",
              "      background-color: #434B5C;\n",
              "      box-shadow: 0px 1px 3px 1px rgba(0, 0, 0, 0.15);\n",
              "      filter: drop-shadow(0px 1px 2px rgba(0, 0, 0, 0.3));\n",
              "      fill: #FFFFFF;\n",
              "    }\n",
              "  </style>\n",
              "\n",
              "      <script>\n",
              "        const buttonEl =\n",
              "          document.querySelector('#df-1a522295-be8b-4a03-b6a7-00a8a376cfbd button.colab-df-convert');\n",
              "        buttonEl.style.display =\n",
              "          google.colab.kernel.accessAllowed ? 'block' : 'none';\n",
              "\n",
              "        async function convertToInteractive(key) {\n",
              "          const element = document.querySelector('#df-1a522295-be8b-4a03-b6a7-00a8a376cfbd');\n",
              "          const dataTable =\n",
              "            await google.colab.kernel.invokeFunction('convertToInteractive',\n",
              "                                                     [key], {});\n",
              "          if (!dataTable) return;\n",
              "\n",
              "          const docLinkHtml = 'Like what you see? Visit the ' +\n",
              "            '<a target=\"_blank\" href=https://colab.research.google.com/notebooks/data_table.ipynb>data table notebook</a>'\n",
              "            + ' to learn more about interactive tables.';\n",
              "          element.innerHTML = '';\n",
              "          dataTable['output_type'] = 'display_data';\n",
              "          await google.colab.output.renderOutput(dataTable, element);\n",
              "          const docLink = document.createElement('div');\n",
              "          docLink.innerHTML = docLinkHtml;\n",
              "          element.appendChild(docLink);\n",
              "        }\n",
              "      </script>\n",
              "    </div>\n",
              "  </div>\n",
              "  "
            ],
            "text/plain": [
              "       price vehicle_type  registration_year gearbox  power model kilometer  \\\n",
              "10962  15000        sedan               1999  manual     75  golf    150000   \n",
              "91523   3700        small               1999  manual     75  golf     80000   \n",
              "27104   3700        small               1999  manual     75  golf     80000   \n",
              "\n",
              "      fuel_type       brand repaired         date_created            last_seen  \n",
              "10962    petrol  volkswagen       no  2016-03-13 00:00:00  2016-04-06 17:47:01  \n",
              "91523    petrol  volkswagen       no  2016-03-07 00:00:00  2016-03-08 18:31:36  \n",
              "27104    petrol  volkswagen       no  2016-03-07 00:00:00  2016-03-08 23:29:59  "
            ]
          },
          "execution_count": 66,
          "metadata": {},
          "output_type": "execute_result"
        }
      ],
      "source": [
        "df.query('model == \"golf\" and registration_year == 1999 and power == 75').sort_values(by='price', ascending = False).head(3)"
      ]
    },
    {
      "attachments": {},
      "cell_type": "markdown",
      "metadata": {
        "id": "BG_7c33veRFg"
      },
      "source": [
        "Apparently, the Queen of England rode it"
      ]
    },
    {
      "cell_type": "code",
      "execution_count": 114,
      "metadata": {
        "colab": {
          "base_uri": "https://localhost:8080/",
          "height": 296
        },
        "id": "AqH0y4BxuCdE",
        "outputId": "99d8e1e0-d4aa-4741-809e-c0d72f66d69f"
      },
      "outputs": [
        {
          "data": {
            "text/plain": [
              "<matplotlib.axes._subplots.AxesSubplot at 0x7f4d9782d310>"
            ]
          },
          "execution_count": 114,
          "metadata": {},
          "output_type": "execute_result"
        },
        {
          "data": {
            "image/png": "[encoded data removed]",
            "text/plain": [
              "<Figure size 432x288 with 1 Axes>"
            ]
          },
          "metadata": {
            "needs_background": "light"
          },
          "output_type": "display_data"
        }
      ],
      "source": [
        "sns.histplot(df.query('model == \"golf\"')['price'])"
      ]
    },
    {
      "cell_type": "code",
      "execution_count": 68,
      "metadata": {
        "colab": {
          "base_uri": "https://localhost:8080/"
        },
        "id": "BqvyZNVeeRFg",
        "outputId": "c530fb72-8f54-43a9-bdde-33b438fdea41"
      },
      "outputs": [
        {
          "data": {
            "text/plain": [
              "repaired             20062\n",
              "fuel_type             5713\n",
              "model                 4742\n",
              "brand                    1\n",
              "date_created             1\n",
              "last_seen                1\n",
              "price                    0\n",
              "vehicle_type             0\n",
              "registration_year        0\n",
              "gearbox                  0\n",
              "power                    0\n",
              "kilometer                0\n",
              "dtype: int64"
            ]
          },
          "execution_count": 68,
          "metadata": {},
          "output_type": "execute_result"
        }
      ],
      "source": [
        "df.isna().sum().sort_values(ascending = False)"
      ]
    },
    {
      "attachments": {},
      "cell_type": "markdown",
      "metadata": {
        "id": "Kz-4zZ4leRFg"
      },
      "source": [
        "#### Model"
      ]
    },
    {
      "cell_type": "code",
      "execution_count": 69,
      "metadata": {
        "colab": {
          "base_uri": "https://localhost:8080/",
          "height": 486
        },
        "id": "zrGQ6DK8eRFg",
        "outputId": "aa25c813-1362-4fe3-d341-0c4cfa1bad48"
      },
      "outputs": [
        {
          "data": {
            "text/html": [
              "\n",
              "  <div id=\"df-02023950-538a-4fd4-88b8-1ad45edc7b1f\">\n",
              "    <div class=\"colab-df-container\">\n",
              "      <div>\n",
              "<style scoped>\n",
              "    .dataframe tbody tr th:only-of-type {\n",
              "        vertical-align: middle;\n",
              "    }\n",
              "\n",
              "    .dataframe tbody tr th {\n",
              "        vertical-align: top;\n",
              "    }\n",
              "\n",
              "    .dataframe thead tr th {\n",
              "        text-align: left;\n",
              "    }\n",
              "\n",
              "    .dataframe thead tr:last-of-type th {\n",
              "        text-align: right;\n",
              "    }\n",
              "</style>\n",
              "<table border=\"1\" class=\"dataframe\">\n",
              "  <thead>\n",
              "    <tr>\n",
              "      <th></th>\n",
              "      <th></th>\n",
              "      <th></th>\n",
              "      <th></th>\n",
              "      <th></th>\n",
              "      <th>count</th>\n",
              "      <th>nan_count</th>\n",
              "    </tr>\n",
              "    <tr>\n",
              "      <th></th>\n",
              "      <th></th>\n",
              "      <th></th>\n",
              "      <th></th>\n",
              "      <th></th>\n",
              "      <th>model</th>\n",
              "      <th>model</th>\n",
              "    </tr>\n",
              "    <tr>\n",
              "      <th>brand</th>\n",
              "      <th>registration_year</th>\n",
              "      <th>vehicle_type</th>\n",
              "      <th>power</th>\n",
              "      <th>gearbox</th>\n",
              "      <th></th>\n",
              "      <th></th>\n",
              "    </tr>\n",
              "  </thead>\n",
              "  <tbody>\n",
              "    <tr>\n",
              "      <th rowspan=\"3\" valign=\"top\">volkswagen</th>\n",
              "      <th>1999</th>\n",
              "      <th>sedan</th>\n",
              "      <th>75</th>\n",
              "      <th>manual</th>\n",
              "      <td>318</td>\n",
              "      <td>10</td>\n",
              "    </tr>\n",
              "    <tr>\n",
              "      <th>1998</th>\n",
              "      <th>sedan</th>\n",
              "      <th>75</th>\n",
              "      <th>manual</th>\n",
              "      <td>261</td>\n",
              "      <td>5</td>\n",
              "    </tr>\n",
              "    <tr>\n",
              "      <th>1997</th>\n",
              "      <th>small</th>\n",
              "      <th>60</th>\n",
              "      <th>manual</th>\n",
              "      <td>260</td>\n",
              "      <td>13</td>\n",
              "    </tr>\n",
              "    <tr>\n",
              "      <th>opel</th>\n",
              "      <th>2001</th>\n",
              "      <th>small</th>\n",
              "      <th>58</th>\n",
              "      <th>manual</th>\n",
              "      <td>231</td>\n",
              "      <td>6</td>\n",
              "    </tr>\n",
              "    <tr>\n",
              "      <th>renault</th>\n",
              "      <th>1999</th>\n",
              "      <th>small</th>\n",
              "      <th>58</th>\n",
              "      <th>manual</th>\n",
              "      <td>229</td>\n",
              "      <td>9</td>\n",
              "    </tr>\n",
              "    <tr>\n",
              "      <th>...</th>\n",
              "      <th>...</th>\n",
              "      <th>...</th>\n",
              "      <th>...</th>\n",
              "      <th>...</th>\n",
              "      <td>...</td>\n",
              "      <td>...</td>\n",
              "    </tr>\n",
              "    <tr>\n",
              "      <th>mitsubishi</th>\n",
              "      <th>2002</th>\n",
              "      <th>sedan</th>\n",
              "      <th>125</th>\n",
              "      <th>manual</th>\n",
              "      <td>0</td>\n",
              "      <td>1</td>\n",
              "    </tr>\n",
              "    <tr>\n",
              "      <th>toyota</th>\n",
              "      <th>2009</th>\n",
              "      <th>sedan</th>\n",
              "      <th>91</th>\n",
              "      <th>manual</th>\n",
              "      <td>0</td>\n",
              "      <td>1</td>\n",
              "    </tr>\n",
              "    <tr>\n",
              "      <th>chrysler</th>\n",
              "      <th>2002</th>\n",
              "      <th>convertible</th>\n",
              "      <th>141</th>\n",
              "      <th>manual</th>\n",
              "      <td>0</td>\n",
              "      <td>1</td>\n",
              "    </tr>\n",
              "    <tr>\n",
              "      <th>honda</th>\n",
              "      <th>1996</th>\n",
              "      <th>convertible</th>\n",
              "      <th>160</th>\n",
              "      <th>manual</th>\n",
              "      <td>0</td>\n",
              "      <td>1</td>\n",
              "    </tr>\n",
              "    <tr>\n",
              "      <th>chevrolet</th>\n",
              "      <th>1998</th>\n",
              "      <th>bus</th>\n",
              "      <th>186</th>\n",
              "      <th>auto</th>\n",
              "      <td>0</td>\n",
              "      <td>1</td>\n",
              "    </tr>\n",
              "  </tbody>\n",
              "</table>\n",
              "<p>3422 rows × 2 columns</p>\n",
              "</div>\n",
              "      <button class=\"colab-df-convert\" onclick=\"convertToInteractive('df-02023950-538a-4fd4-88b8-1ad45edc7b1f')\"\n",
              "              title=\"Convert this dataframe to an interactive table.\"\n",
              "              style=\"display:none;\">\n",
              "        \n",
              "  <svg xmlns=\"http://www.w3.org/2000/svg\" height=\"24px\"viewBox=\"0 0 24 24\"\n",
              "       width=\"24px\">\n",
              "    <path d=\"M0 0h24v24H0V0z\" fill=\"none\"/>\n",
              "    <path d=\"M18.56 5.44l.94 2.06.94-2.06 2.06-.94-2.06-.94-.94-2.06-.94 2.06-2.06.94zm-11 1L8.5 8.5l.94-2.06 2.06-.94-2.06-.94L8.5 2.5l-.94 2.06-2.06.94zm10 10l.94 2.06.94-2.06 2.06-.94-2.06-.94-.94-2.06-.94 2.06-2.06.94z\"/><path d=\"M17.41 7.96l-1.37-1.37c-.4-.4-.92-.59-1.43-.59-.52 0-1.04.2-1.43.59L10.3 9.45l-7.72 7.72c-.78.78-.78 2.05 0 2.83L4 21.41c.39.39.9.59 1.41.59.51 0 1.02-.2 1.41-.59l7.78-7.78 2.81-2.81c.8-.78.8-2.07 0-2.86zM5.41 20L4 18.59l7.72-7.72 1.47 1.35L5.41 20z\"/>\n",
              "  </svg>\n",
              "      </button>\n",
              "      \n",
              "  <style>\n",
              "    .colab-df-container {\n",
              "      display:flex;\n",
              "      flex-wrap:wrap;\n",
              "      gap: 12px;\n",
              "    }\n",
              "\n",
              "    .colab-df-convert {\n",
              "      background-color: #E8F0FE;\n",
              "      border: none;\n",
              "      border-radius: 50%;\n",
              "      cursor: pointer;\n",
              "      display: none;\n",
              "      fill: #1967D2;\n",
              "      height: 32px;\n",
              "      padding: 0 0 0 0;\n",
              "      width: 32px;\n",
              "    }\n",
              "\n",
              "    .colab-df-convert:hover {\n",
              "      background-color: #E2EBFA;\n",
              "      box-shadow: 0px 1px 2px rgba(60, 64, 67, 0.3), 0px 1px 3px 1px rgba(60, 64, 67, 0.15);\n",
              "      fill: #174EA6;\n",
              "    }\n",
              "\n",
              "    [theme=dark] .colab-df-convert {\n",
              "      background-color: #3B4455;\n",
              "      fill: #D2E3FC;\n",
              "    }\n",
              "\n",
              "    [theme=dark] .colab-df-convert:hover {\n",
              "      background-color: #434B5C;\n",
              "      box-shadow: 0px 1px 3px 1px rgba(0, 0, 0, 0.15);\n",
              "      filter: drop-shadow(0px 1px 2px rgba(0, 0, 0, 0.3));\n",
              "      fill: #FFFFFF;\n",
              "    }\n",
              "  </style>\n",
              "\n",
              "      <script>\n",
              "        const buttonEl =\n",
              "          document.querySelector('#df-02023950-538a-4fd4-88b8-1ad45edc7b1f button.colab-df-convert');\n",
              "        buttonEl.style.display =\n",
              "          google.colab.kernel.accessAllowed ? 'block' : 'none';\n",
              "\n",
              "        async function convertToInteractive(key) {\n",
              "          const element = document.querySelector('#df-02023950-538a-4fd4-88b8-1ad45edc7b1f');\n",
              "          const dataTable =\n",
              "            await google.colab.kernel.invokeFunction('convertToInteractive',\n",
              "                                                     [key], {});\n",
              "          if (!dataTable) return;\n",
              "\n",
              "          const docLinkHtml = 'Like what you see? Visit the ' +\n",
              "            '<a target=\"_blank\" href=https://colab.research.google.com/notebooks/data_table.ipynb>data table notebook</a>'\n",
              "            + ' to learn more about interactive tables.';\n",
              "          element.innerHTML = '';\n",
              "          dataTable['output_type'] = 'display_data';\n",
              "          await google.colab.output.renderOutput(dataTable, element);\n",
              "          const docLink = document.createElement('div');\n",
              "          docLink.innerHTML = docLinkHtml;\n",
              "          element.appendChild(docLink);\n",
              "        }\n",
              "      </script>\n",
              "    </div>\n",
              "  </div>\n",
              "  "
            ],
            "text/plain": [
              "                                                        count nan_count\n",
              "                                                        model     model\n",
              "brand      registration_year vehicle_type power gearbox                \n",
              "volkswagen 1999              sedan        75    manual    318        10\n",
              "           1998              sedan        75    manual    261         5\n",
              "           1997              small        60    manual    260        13\n",
              "opel       2001              small        58    manual    231         6\n",
              "renault    1999              small        58    manual    229         9\n",
              "...                                                       ...       ...\n",
              "mitsubishi 2002              sedan        125   manual      0         1\n",
              "toyota     2009              sedan        91    manual      0         1\n",
              "chrysler   2002              convertible  141   manual      0         1\n",
              "honda      1996              convertible  160   manual      0         1\n",
              "chevrolet  1998              bus          186   auto        0         1\n",
              "\n",
              "[3422 rows x 2 columns]"
            ]
          },
          "execution_count": 69,
          "metadata": {},
          "output_type": "execute_result"
        }
      ],
      "source": [
        "model_table = df.pivot_table(index = ['brand', 'registration_year', 'vehicle_type', 'power', 'gearbox'], values = 'model', aggfunc = ['count', lambda x : x.isna().sum()]).sort_values(by = ('count', 'model'), ascending = False)\n",
        "\n",
        "model_table.columns.set_levels(['count','nan_count'],level=0,inplace=True)\n",
        "model_table[model_table[('nan_count','model')] > 0].sort_values(by = ('count', 'model'), ascending = False)"
      ]
    },
    {
      "cell_type": "code",
      "execution_count": 70,
      "metadata": {
        "colab": {
          "base_uri": "https://localhost:8080/",
          "height": 206
        },
        "id": "yl0mCNMueRFg",
        "outputId": "78656524-8ea1-42ba-8c0d-73712053b9c9",
        "scrolled": true
      },
      "outputs": [
        {
          "data": {
            "text/html": [
              "\n",
              "  <div id=\"df-b3557c99-3c00-4249-9f63-656da00fbaa5\">\n",
              "    <div class=\"colab-df-container\">\n",
              "      <div>\n",
              "<style scoped>\n",
              "    .dataframe tbody tr th:only-of-type {\n",
              "        vertical-align: middle;\n",
              "    }\n",
              "\n",
              "    .dataframe tbody tr th {\n",
              "        vertical-align: top;\n",
              "    }\n",
              "\n",
              "    .dataframe thead th {\n",
              "        text-align: right;\n",
              "    }\n",
              "</style>\n",
              "<table border=\"1\" class=\"dataframe\">\n",
              "  <thead>\n",
              "    <tr style=\"text-align: right;\">\n",
              "      <th></th>\n",
              "      <th>vehicle_type</th>\n",
              "      <th>registration_year</th>\n",
              "      <th>gearbox</th>\n",
              "      <th>power</th>\n",
              "      <th>fuel_type</th>\n",
              "      <th>price</th>\n",
              "      <th>model</th>\n",
              "    </tr>\n",
              "  </thead>\n",
              "  <tbody>\n",
              "    <tr>\n",
              "      <th>58965</th>\n",
              "      <td>sedan</td>\n",
              "      <td>1999</td>\n",
              "      <td>manual</td>\n",
              "      <td>75</td>\n",
              "      <td>petrol</td>\n",
              "      <td>2000</td>\n",
              "      <td>bora</td>\n",
              "    </tr>\n",
              "    <tr>\n",
              "      <th>778</th>\n",
              "      <td>sedan</td>\n",
              "      <td>1999</td>\n",
              "      <td>manual</td>\n",
              "      <td>75</td>\n",
              "      <td>petrol</td>\n",
              "      <td>1000</td>\n",
              "      <td>golf</td>\n",
              "    </tr>\n",
              "    <tr>\n",
              "      <th>148082</th>\n",
              "      <td>sedan</td>\n",
              "      <td>1999</td>\n",
              "      <td>manual</td>\n",
              "      <td>75</td>\n",
              "      <td>petrol</td>\n",
              "      <td>900</td>\n",
              "      <td>golf</td>\n",
              "    </tr>\n",
              "    <tr>\n",
              "      <th>146683</th>\n",
              "      <td>sedan</td>\n",
              "      <td>1999</td>\n",
              "      <td>manual</td>\n",
              "      <td>75</td>\n",
              "      <td>petrol</td>\n",
              "      <td>2400</td>\n",
              "      <td>golf</td>\n",
              "    </tr>\n",
              "    <tr>\n",
              "      <th>142974</th>\n",
              "      <td>sedan</td>\n",
              "      <td>1999</td>\n",
              "      <td>manual</td>\n",
              "      <td>75</td>\n",
              "      <td>petrol</td>\n",
              "      <td>1600</td>\n",
              "      <td>golf</td>\n",
              "    </tr>\n",
              "  </tbody>\n",
              "</table>\n",
              "</div>\n",
              "      <button class=\"colab-df-convert\" onclick=\"convertToInteractive('df-b3557c99-3c00-4249-9f63-656da00fbaa5')\"\n",
              "              title=\"Convert this dataframe to an interactive table.\"\n",
              "              style=\"display:none;\">\n",
              "        \n",
              "  <svg xmlns=\"http://www.w3.org/2000/svg\" height=\"24px\"viewBox=\"0 0 24 24\"\n",
              "       width=\"24px\">\n",
              "    <path d=\"M0 0h24v24H0V0z\" fill=\"none\"/>\n",
              "    <path d=\"M18.56 5.44l.94 2.06.94-2.06 2.06-.94-2.06-.94-.94-2.06-.94 2.06-2.06.94zm-11 1L8.5 8.5l.94-2.06 2.06-.94-2.06-.94L8.5 2.5l-.94 2.06-2.06.94zm10 10l.94 2.06.94-2.06 2.06-.94-2.06-.94-.94-2.06-.94 2.06-2.06.94z\"/><path d=\"M17.41 7.96l-1.37-1.37c-.4-.4-.92-.59-1.43-.59-.52 0-1.04.2-1.43.59L10.3 9.45l-7.72 7.72c-.78.78-.78 2.05 0 2.83L4 21.41c.39.39.9.59 1.41.59.51 0 1.02-.2 1.41-.59l7.78-7.78 2.81-2.81c.8-.78.8-2.07 0-2.86zM5.41 20L4 18.59l7.72-7.72 1.47 1.35L5.41 20z\"/>\n",
              "  </svg>\n",
              "      </button>\n",
              "      \n",
              "  <style>\n",
              "    .colab-df-container {\n",
              "      display:flex;\n",
              "      flex-wrap:wrap;\n",
              "      gap: 12px;\n",
              "    }\n",
              "\n",
              "    .colab-df-convert {\n",
              "      background-color: #E8F0FE;\n",
              "      border: none;\n",
              "      border-radius: 50%;\n",
              "      cursor: pointer;\n",
              "      display: none;\n",
              "      fill: #1967D2;\n",
              "      height: 32px;\n",
              "      padding: 0 0 0 0;\n",
              "      width: 32px;\n",
              "    }\n",
              "\n",
              "    .colab-df-convert:hover {\n",
              "      background-color: #E2EBFA;\n",
              "      box-shadow: 0px 1px 2px rgba(60, 64, 67, 0.3), 0px 1px 3px 1px rgba(60, 64, 67, 0.15);\n",
              "      fill: #174EA6;\n",
              "    }\n",
              "\n",
              "    [theme=dark] .colab-df-convert {\n",
              "      background-color: #3B4455;\n",
              "      fill: #D2E3FC;\n",
              "    }\n",
              "\n",
              "    [theme=dark] .colab-df-convert:hover {\n",
              "      background-color: #434B5C;\n",
              "      box-shadow: 0px 1px 3px 1px rgba(0, 0, 0, 0.15);\n",
              "      filter: drop-shadow(0px 1px 2px rgba(0, 0, 0, 0.3));\n",
              "      fill: #FFFFFF;\n",
              "    }\n",
              "  </style>\n",
              "\n",
              "      <script>\n",
              "        const buttonEl =\n",
              "          document.querySelector('#df-b3557c99-3c00-4249-9f63-656da00fbaa5 button.colab-df-convert');\n",
              "        buttonEl.style.display =\n",
              "          google.colab.kernel.accessAllowed ? 'block' : 'none';\n",
              "\n",
              "        async function convertToInteractive(key) {\n",
              "          const element = document.querySelector('#df-b3557c99-3c00-4249-9f63-656da00fbaa5');\n",
              "          const dataTable =\n",
              "            await google.colab.kernel.invokeFunction('convertToInteractive',\n",
              "                                                     [key], {});\n",
              "          if (!dataTable) return;\n",
              "\n",
              "          const docLinkHtml = 'Like what you see? Visit the ' +\n",
              "            '<a target=\"_blank\" href=https://colab.research.google.com/notebooks/data_table.ipynb>data table notebook</a>'\n",
              "            + ' to learn more about interactive tables.';\n",
              "          element.innerHTML = '';\n",
              "          dataTable['output_type'] = 'display_data';\n",
              "          await google.colab.output.renderOutput(dataTable, element);\n",
              "          const docLink = document.createElement('div');\n",
              "          docLink.innerHTML = docLinkHtml;\n",
              "          element.appendChild(docLink);\n",
              "        }\n",
              "      </script>\n",
              "    </div>\n",
              "  </div>\n",
              "  "
            ],
            "text/plain": [
              "       vehicle_type  registration_year gearbox  power fuel_type  price model\n",
              "58965         sedan               1999  manual     75    petrol   2000  bora\n",
              "778           sedan               1999  manual     75    petrol   1000  golf\n",
              "148082        sedan               1999  manual     75    petrol    900  golf\n",
              "146683        sedan               1999  manual     75    petrol   2400  golf\n",
              "142974        sedan               1999  manual     75    petrol   1600  golf"
            ]
          },
          "execution_count": 70,
          "metadata": {},
          "output_type": "execute_result"
        }
      ],
      "source": [
        "# for example, let's take volkswagen from the first line\n",
        "df.query('brand ==\"volkswagen\" and registration_year == 1999 and vehicle_type ==\"sedan\" and power == 75')[['vehicle_type', 'registration_year', 'gearbox', 'power', 'fuel_type', 'price', 'model']].sort_values(by = 'model').head()"
      ]
    },
    {
      "cell_type": "code",
      "execution_count": 71,
      "metadata": {
        "colab": {
          "base_uri": "https://localhost:8080/"
        },
        "id": "6K9oDcH3eRFg",
        "outputId": "9a6e6ebf-fac2-41de-c65e-accd807e4e69"
      },
      "outputs": [
        {
          "data": {
            "text/plain": [
              "golf    310\n",
              "polo      6\n",
              "lupo      1\n",
              "bora      1\n",
              "Name: model, dtype: int64"
            ]
          },
          "execution_count": 71,
          "metadata": {},
          "output_type": "execute_result"
        }
      ],
      "source": [
        "# for example, let's take volkswagen from the first line\n",
        "df.query('brand ==\"volkswagen\" and registration_year == 1999 and vehicle_type ==\"sedan\" and power == 75 and gearbox == \"manual\"')['model'].value_counts()"
      ]
    },
    {
      "attachments": {},
      "cell_type": "markdown",
      "metadata": {
        "id": "QeM21LXAeRFh"
      },
      "source": [
        "We see that it will not be possible to fill in the model gaps based on other features - different models have the same other features. You can either fill in the most frequently encountered, or delete. Probably, lines with omissions will have to be deleted"
      ]
    },
    {
      "cell_type": "code",
      "execution_count": 72,
      "metadata": {
        "id": "Uub_K57DeRFh"
      },
      "outputs": [],
      "source": [
        "df = df[df['model'].isna() == False]"
      ]
    },
    {
      "cell_type": "code",
      "execution_count": 73,
      "metadata": {
        "colab": {
          "base_uri": "https://localhost:8080/"
        },
        "id": "gY26ifCheRFh",
        "outputId": "1dcb4ce5-1e57-4d38-b22d-04c682e8ad38"
      },
      "outputs": [
        {
          "data": {
            "text/plain": [
              "repaired             18648\n",
              "fuel_type             4821\n",
              "brand                    1\n",
              "date_created             1\n",
              "last_seen                1\n",
              "price                    0\n",
              "vehicle_type             0\n",
              "registration_year        0\n",
              "gearbox                  0\n",
              "power                    0\n",
              "model                    0\n",
              "kilometer                0\n",
              "dtype: int64"
            ]
          },
          "execution_count": 73,
          "metadata": {},
          "output_type": "execute_result"
        }
      ],
      "source": [
        "df.isna().sum().sort_values(ascending = False)"
      ]
    },
    {
      "attachments": {},
      "cell_type": "markdown",
      "metadata": {
        "id": "Mh0eQmmLeRFh"
      },
      "source": [
        "#### Fuel Type"
      ]
    },
    {
      "cell_type": "code",
      "execution_count": 74,
      "metadata": {
        "colab": {
          "base_uri": "https://localhost:8080/"
        },
        "id": "QMrhf7AgeRFh",
        "outputId": "5d20e5d6-a5f7-4ea3-9f62-874efbe03960"
      },
      "outputs": [
        {
          "data": {
            "text/plain": [
              "petrol      98248\n",
              "gasoline    50345\n",
              "lpg          2272\n",
              "cng           285\n",
              "hybrid        107\n",
              "other          25\n",
              "electric       13\n",
              "petr            1\n",
              "Name: fuel_type, dtype: int64"
            ]
          },
          "execution_count": 74,
          "metadata": {},
          "output_type": "execute_result"
        }
      ],
      "source": [
        "df['fuel_type'].value_counts()"
      ]
    },
    {
      "cell_type": "code",
      "execution_count": 75,
      "metadata": {
        "colab": {
          "base_uri": "https://localhost:8080/",
          "height": 486
        },
        "id": "Z8mWLfLveRFh",
        "outputId": "fac8d782-d0d5-47df-e6e5-d1a24d393df4"
      },
      "outputs": [
        {
          "data": {
            "text/html": [
              "\n",
              "  <div id=\"df-539acc75-2ee8-41a8-a615-df71f17ffcce\">\n",
              "    <div class=\"colab-df-container\">\n",
              "      <div>\n",
              "<style scoped>\n",
              "    .dataframe tbody tr th:only-of-type {\n",
              "        vertical-align: middle;\n",
              "    }\n",
              "\n",
              "    .dataframe tbody tr th {\n",
              "        vertical-align: top;\n",
              "    }\n",
              "\n",
              "    .dataframe thead tr th {\n",
              "        text-align: left;\n",
              "    }\n",
              "\n",
              "    .dataframe thead tr:last-of-type th {\n",
              "        text-align: right;\n",
              "    }\n",
              "</style>\n",
              "<table border=\"1\" class=\"dataframe\">\n",
              "  <thead>\n",
              "    <tr>\n",
              "      <th></th>\n",
              "      <th></th>\n",
              "      <th></th>\n",
              "      <th></th>\n",
              "      <th></th>\n",
              "      <th>count</th>\n",
              "      <th>nan_count</th>\n",
              "    </tr>\n",
              "    <tr>\n",
              "      <th></th>\n",
              "      <th></th>\n",
              "      <th></th>\n",
              "      <th></th>\n",
              "      <th></th>\n",
              "      <th>fuel_type</th>\n",
              "      <th>fuel_type</th>\n",
              "    </tr>\n",
              "    <tr>\n",
              "      <th>brand</th>\n",
              "      <th>registration_year</th>\n",
              "      <th>vehicle_type</th>\n",
              "      <th>power</th>\n",
              "      <th>gearbox</th>\n",
              "      <th></th>\n",
              "      <th></th>\n",
              "    </tr>\n",
              "  </thead>\n",
              "  <tbody>\n",
              "    <tr>\n",
              "      <th rowspan=\"3\" valign=\"top\">volkswagen</th>\n",
              "      <th>1999</th>\n",
              "      <th>sedan</th>\n",
              "      <th>75</th>\n",
              "      <th>manual</th>\n",
              "      <td>306</td>\n",
              "      <td>12</td>\n",
              "    </tr>\n",
              "    <tr>\n",
              "      <th>1998</th>\n",
              "      <th>sedan</th>\n",
              "      <th>75</th>\n",
              "      <th>manual</th>\n",
              "      <td>253</td>\n",
              "      <td>8</td>\n",
              "    </tr>\n",
              "    <tr>\n",
              "      <th>1997</th>\n",
              "      <th>small</th>\n",
              "      <th>60</th>\n",
              "      <th>manual</th>\n",
              "      <td>241</td>\n",
              "      <td>19</td>\n",
              "    </tr>\n",
              "    <tr>\n",
              "      <th>opel</th>\n",
              "      <th>2001</th>\n",
              "      <th>small</th>\n",
              "      <th>58</th>\n",
              "      <th>manual</th>\n",
              "      <td>228</td>\n",
              "      <td>3</td>\n",
              "    </tr>\n",
              "    <tr>\n",
              "      <th>volkswagen</th>\n",
              "      <th>1998</th>\n",
              "      <th>sedan</th>\n",
              "      <th>101</th>\n",
              "      <th>manual</th>\n",
              "      <td>221</td>\n",
              "      <td>6</td>\n",
              "    </tr>\n",
              "    <tr>\n",
              "      <th>...</th>\n",
              "      <th>...</th>\n",
              "      <th>...</th>\n",
              "      <th>...</th>\n",
              "      <th>...</th>\n",
              "      <td>...</td>\n",
              "      <td>...</td>\n",
              "    </tr>\n",
              "    <tr>\n",
              "      <th>opel</th>\n",
              "      <th>1994</th>\n",
              "      <th>convertible</th>\n",
              "      <th>70</th>\n",
              "      <th>manual</th>\n",
              "      <td>0</td>\n",
              "      <td>1</td>\n",
              "    </tr>\n",
              "    <tr>\n",
              "      <th>ford</th>\n",
              "      <th>2006</th>\n",
              "      <th>bus</th>\n",
              "      <th>98</th>\n",
              "      <th>manual</th>\n",
              "      <td>0</td>\n",
              "      <td>1</td>\n",
              "    </tr>\n",
              "    <tr>\n",
              "      <th>suzuki</th>\n",
              "      <th>1996</th>\n",
              "      <th>other</th>\n",
              "      <th>56</th>\n",
              "      <th>manual</th>\n",
              "      <td>0</td>\n",
              "      <td>1</td>\n",
              "    </tr>\n",
              "    <tr>\n",
              "      <th>jaguar</th>\n",
              "      <th>2002</th>\n",
              "      <th>sedan</th>\n",
              "      <th>196</th>\n",
              "      <th>auto</th>\n",
              "      <td>0</td>\n",
              "      <td>1</td>\n",
              "    </tr>\n",
              "    <tr>\n",
              "      <th>volkswagen</th>\n",
              "      <th>2010</th>\n",
              "      <th>sedan</th>\n",
              "      <th>90</th>\n",
              "      <th>auto</th>\n",
              "      <td>0</td>\n",
              "      <td>1</td>\n",
              "    </tr>\n",
              "  </tbody>\n",
              "</table>\n",
              "<p>3359 rows × 2 columns</p>\n",
              "</div>\n",
              "      <button class=\"colab-df-convert\" onclick=\"convertToInteractive('df-539acc75-2ee8-41a8-a615-df71f17ffcce')\"\n",
              "              title=\"Convert this dataframe to an interactive table.\"\n",
              "              style=\"display:none;\">\n",
              "        \n",
              "  <svg xmlns=\"http://www.w3.org/2000/svg\" height=\"24px\"viewBox=\"0 0 24 24\"\n",
              "       width=\"24px\">\n",
              "    <path d=\"M0 0h24v24H0V0z\" fill=\"none\"/>\n",
              "    <path d=\"M18.56 5.44l.94 2.06.94-2.06 2.06-.94-2.06-.94-.94-2.06-.94 2.06-2.06.94zm-11 1L8.5 8.5l.94-2.06 2.06-.94-2.06-.94L8.5 2.5l-.94 2.06-2.06.94zm10 10l.94 2.06.94-2.06 2.06-.94-2.06-.94-.94-2.06-.94 2.06-2.06.94z\"/><path d=\"M17.41 7.96l-1.37-1.37c-.4-.4-.92-.59-1.43-.59-.52 0-1.04.2-1.43.59L10.3 9.45l-7.72 7.72c-.78.78-.78 2.05 0 2.83L4 21.41c.39.39.9.59 1.41.59.51 0 1.02-.2 1.41-.59l7.78-7.78 2.81-2.81c.8-.78.8-2.07 0-2.86zM5.41 20L4 18.59l7.72-7.72 1.47 1.35L5.41 20z\"/>\n",
              "  </svg>\n",
              "      </button>\n",
              "      \n",
              "  <style>\n",
              "    .colab-df-container {\n",
              "      display:flex;\n",
              "      flex-wrap:wrap;\n",
              "      gap: 12px;\n",
              "    }\n",
              "\n",
              "    .colab-df-convert {\n",
              "      background-color: #E8F0FE;\n",
              "      border: none;\n",
              "      border-radius: 50%;\n",
              "      cursor: pointer;\n",
              "      display: none;\n",
              "      fill: #1967D2;\n",
              "      height: 32px;\n",
              "      padding: 0 0 0 0;\n",
              "      width: 32px;\n",
              "    }\n",
              "\n",
              "    .colab-df-convert:hover {\n",
              "      background-color: #E2EBFA;\n",
              "      box-shadow: 0px 1px 2px rgba(60, 64, 67, 0.3), 0px 1px 3px 1px rgba(60, 64, 67, 0.15);\n",
              "      fill: #174EA6;\n",
              "    }\n",
              "\n",
              "    [theme=dark] .colab-df-convert {\n",
              "      background-color: #3B4455;\n",
              "      fill: #D2E3FC;\n",
              "    }\n",
              "\n",
              "    [theme=dark] .colab-df-convert:hover {\n",
              "      background-color: #434B5C;\n",
              "      box-shadow: 0px 1px 3px 1px rgba(0, 0, 0, 0.15);\n",
              "      filter: drop-shadow(0px 1px 2px rgba(0, 0, 0, 0.3));\n",
              "      fill: #FFFFFF;\n",
              "    }\n",
              "  </style>\n",
              "\n",
              "      <script>\n",
              "        const buttonEl =\n",
              "          document.querySelector('#df-539acc75-2ee8-41a8-a615-df71f17ffcce button.colab-df-convert');\n",
              "        buttonEl.style.display =\n",
              "          google.colab.kernel.accessAllowed ? 'block' : 'none';\n",
              "\n",
              "        async function convertToInteractive(key) {\n",
              "          const element = document.querySelector('#df-539acc75-2ee8-41a8-a615-df71f17ffcce');\n",
              "          const dataTable =\n",
              "            await google.colab.kernel.invokeFunction('convertToInteractive',\n",
              "                                                     [key], {});\n",
              "          if (!dataTable) return;\n",
              "\n",
              "          const docLinkHtml = 'Like what you see? Visit the ' +\n",
              "            '<a target=\"_blank\" href=https://colab.research.google.com/notebooks/data_table.ipynb>data table notebook</a>'\n",
              "            + ' to learn more about interactive tables.';\n",
              "          element.innerHTML = '';\n",
              "          dataTable['output_type'] = 'display_data';\n",
              "          await google.colab.output.renderOutput(dataTable, element);\n",
              "          const docLink = document.createElement('div');\n",
              "          docLink.innerHTML = docLinkHtml;\n",
              "          element.appendChild(docLink);\n",
              "        }\n",
              "      </script>\n",
              "    </div>\n",
              "  </div>\n",
              "  "
            ],
            "text/plain": [
              "                                                            count nan_count\n",
              "                                                        fuel_type fuel_type\n",
              "brand      registration_year vehicle_type power gearbox                    \n",
              "volkswagen 1999              sedan        75    manual        306        12\n",
              "           1998              sedan        75    manual        253         8\n",
              "           1997              small        60    manual        241        19\n",
              "opel       2001              small        58    manual        228         3\n",
              "volkswagen 1998              sedan        101   manual        221         6\n",
              "...                                                           ...       ...\n",
              "opel       1994              convertible  70    manual          0         1\n",
              "ford       2006              bus          98    manual          0         1\n",
              "suzuki     1996              other        56    manual          0         1\n",
              "jaguar     2002              sedan        196   auto            0         1\n",
              "volkswagen 2010              sedan        90    auto            0         1\n",
              "\n",
              "[3359 rows x 2 columns]"
            ]
          },
          "execution_count": 75,
          "metadata": {},
          "output_type": "execute_result"
        }
      ],
      "source": [
        "fuel_table = df.pivot_table(index = ['brand', 'registration_year', 'vehicle_type', 'power', 'gearbox'], values = 'fuel_type', aggfunc = ['count', lambda x : x.isna().sum()]).sort_values(by = ('count', 'fuel_type'), ascending = False)\n",
        "\n",
        "fuel_table.columns.set_levels(['count','nan_count'],level=0,inplace=True)\n",
        "fuel_table[fuel_table[('nan_count','fuel_type')] > 0].sort_values(by = ('count', 'fuel_type'), ascending = False)"
      ]
    },
    {
      "cell_type": "code",
      "execution_count": 76,
      "metadata": {
        "colab": {
          "base_uri": "https://localhost:8080/"
        },
        "id": "AfjMlDP9eRFh",
        "outputId": "78875352-a6b6-4730-aa5f-1a55ee717c93"
      },
      "outputs": [
        {
          "data": {
            "text/plain": [
              "petrol    304\n",
              "lpg         2\n",
              "Name: fuel_type, dtype: int64"
            ]
          },
          "execution_count": 76,
          "metadata": {},
          "output_type": "execute_result"
        }
      ],
      "source": [
        "# for example, let's take volkswagen from the first line\n",
        "df.query('brand ==\"volkswagen\" and registration_year == 1999 and vehicle_type ==\"sedan\" and power == 75 and gearbox ==\"manual\"')['fuel_type'].value_counts()"
      ]
    },
    {
      "attachments": {},
      "cell_type": "markdown",
      "metadata": {
        "id": "lA73sJ9feRFh"
      },
      "source": [
        "We see that it will not be possible to fill in the gaps of the engine type based on other signs - different engines have the same other signs. You can either fill in the most frequently encountered, or delete. Probably, lines with omissions will have to be deleted"
      ]
    },
    {
      "cell_type": "code",
      "execution_count": 77,
      "metadata": {
        "id": "Fzq4Q6HVeRFh"
      },
      "outputs": [],
      "source": [
        "df = df[df['fuel_type'].isna() == False]"
      ]
    },
    {
      "cell_type": "code",
      "execution_count": 78,
      "metadata": {
        "colab": {
          "base_uri": "https://localhost:8080/"
        },
        "id": "zouTGWyVeRFi",
        "outputId": "94bdae2f-dee6-4d9d-9db6-4da72eef6dc8",
        "scrolled": true
      },
      "outputs": [
        {
          "data": {
            "text/plain": [
              "repaired             16994\n",
              "brand                    1\n",
              "date_created             1\n",
              "last_seen                1\n",
              "price                    0\n",
              "vehicle_type             0\n",
              "registration_year        0\n",
              "gearbox                  0\n",
              "power                    0\n",
              "model                    0\n",
              "kilometer                0\n",
              "fuel_type                0\n",
              "dtype: int64"
            ]
          },
          "execution_count": 78,
          "metadata": {},
          "output_type": "execute_result"
        }
      ],
      "source": [
        "df.isna().sum().sort_values(ascending = False)"
      ]
    },
    {
      "attachments": {},
      "cell_type": "markdown",
      "metadata": {
        "id": "jgM9qoRDeRFi"
      },
      "source": [
        "#### Repaired"
      ]
    },
    {
      "cell_type": "code",
      "execution_count": 79,
      "metadata": {
        "colab": {
          "base_uri": "https://localhost:8080/",
          "height": 486
        },
        "id": "bOdUouJPeRFi",
        "outputId": "4a8f3898-6c41-41e1-c119-7cd1e5c9d4a4",
        "scrolled": true
      },
      "outputs": [
        {
          "data": {
            "text/html": [
              "\n",
              "  <div id=\"df-91f28688-1472-4c5e-88f7-bac62a02848e\">\n",
              "    <div class=\"colab-df-container\">\n",
              "      <div>\n",
              "<style scoped>\n",
              "    .dataframe tbody tr th:only-of-type {\n",
              "        vertical-align: middle;\n",
              "    }\n",
              "\n",
              "    .dataframe tbody tr th {\n",
              "        vertical-align: top;\n",
              "    }\n",
              "\n",
              "    .dataframe thead tr th {\n",
              "        text-align: left;\n",
              "    }\n",
              "\n",
              "    .dataframe thead tr:last-of-type th {\n",
              "        text-align: right;\n",
              "    }\n",
              "</style>\n",
              "<table border=\"1\" class=\"dataframe\">\n",
              "  <thead>\n",
              "    <tr>\n",
              "      <th></th>\n",
              "      <th></th>\n",
              "      <th></th>\n",
              "      <th></th>\n",
              "      <th></th>\n",
              "      <th></th>\n",
              "      <th>count</th>\n",
              "      <th>nan_count</th>\n",
              "    </tr>\n",
              "    <tr>\n",
              "      <th></th>\n",
              "      <th></th>\n",
              "      <th></th>\n",
              "      <th></th>\n",
              "      <th></th>\n",
              "      <th></th>\n",
              "      <th>repaired</th>\n",
              "      <th>repaired</th>\n",
              "    </tr>\n",
              "    <tr>\n",
              "      <th>brand</th>\n",
              "      <th>registration_year</th>\n",
              "      <th>vehicle_type</th>\n",
              "      <th>power</th>\n",
              "      <th>gearbox</th>\n",
              "      <th>price</th>\n",
              "      <th></th>\n",
              "      <th></th>\n",
              "    </tr>\n",
              "  </thead>\n",
              "  <tbody>\n",
              "    <tr>\n",
              "      <th>opel</th>\n",
              "      <th>2000</th>\n",
              "      <th>small</th>\n",
              "      <th>54</th>\n",
              "      <th>manual</th>\n",
              "      <th>1000</th>\n",
              "      <td>22</td>\n",
              "      <td>2</td>\n",
              "    </tr>\n",
              "    <tr>\n",
              "      <th rowspan=\"4\" valign=\"top\">volkswagen</th>\n",
              "      <th>1998</th>\n",
              "      <th>sedan</th>\n",
              "      <th>75</th>\n",
              "      <th>manual</th>\n",
              "      <th>1400</th>\n",
              "      <td>21</td>\n",
              "      <td>2</td>\n",
              "    </tr>\n",
              "    <tr>\n",
              "      <th>1999</th>\n",
              "      <th>small</th>\n",
              "      <th>75</th>\n",
              "      <th>manual</th>\n",
              "      <th>1000</th>\n",
              "      <td>19</td>\n",
              "      <td>1</td>\n",
              "    </tr>\n",
              "    <tr>\n",
              "      <th>1998</th>\n",
              "      <th>sedan</th>\n",
              "      <th>101</th>\n",
              "      <th>manual</th>\n",
              "      <th>1000</th>\n",
              "      <td>19</td>\n",
              "      <td>1</td>\n",
              "    </tr>\n",
              "    <tr>\n",
              "      <th>1999</th>\n",
              "      <th>sedan</th>\n",
              "      <th>75</th>\n",
              "      <th>manual</th>\n",
              "      <th>1200</th>\n",
              "      <td>18</td>\n",
              "      <td>1</td>\n",
              "    </tr>\n",
              "    <tr>\n",
              "      <th>...</th>\n",
              "      <th>...</th>\n",
              "      <th>...</th>\n",
              "      <th>...</th>\n",
              "      <th>...</th>\n",
              "      <th>...</th>\n",
              "      <td>...</td>\n",
              "      <td>...</td>\n",
              "    </tr>\n",
              "    <tr>\n",
              "      <th rowspan=\"2\" valign=\"top\">audi</th>\n",
              "      <th>1994</th>\n",
              "      <th>wagon</th>\n",
              "      <th>116</th>\n",
              "      <th>manual</th>\n",
              "      <th>450</th>\n",
              "      <td>0</td>\n",
              "      <td>1</td>\n",
              "    </tr>\n",
              "    <tr>\n",
              "      <th>2003</th>\n",
              "      <th>coupe</th>\n",
              "      <th>150</th>\n",
              "      <th>manual</th>\n",
              "      <th>5500</th>\n",
              "      <td>0</td>\n",
              "      <td>1</td>\n",
              "    </tr>\n",
              "    <tr>\n",
              "      <th>volkswagen</th>\n",
              "      <th>2010</th>\n",
              "      <th>sedan</th>\n",
              "      <th>105</th>\n",
              "      <th>manual</th>\n",
              "      <th>11100</th>\n",
              "      <td>0</td>\n",
              "      <td>2</td>\n",
              "    </tr>\n",
              "    <tr>\n",
              "      <th>audi</th>\n",
              "      <th>2003</th>\n",
              "      <th>coupe</th>\n",
              "      <th>140</th>\n",
              "      <th>manual</th>\n",
              "      <th>6100</th>\n",
              "      <td>0</td>\n",
              "      <td>1</td>\n",
              "    </tr>\n",
              "    <tr>\n",
              "      <th>skoda</th>\n",
              "      <th>2011</th>\n",
              "      <th>sedan</th>\n",
              "      <th>60</th>\n",
              "      <th>manual</th>\n",
              "      <th>6500</th>\n",
              "      <td>0</td>\n",
              "      <td>1</td>\n",
              "    </tr>\n",
              "  </tbody>\n",
              "</table>\n",
              "<p>15305 rows × 2 columns</p>\n",
              "</div>\n",
              "      <button class=\"colab-df-convert\" onclick=\"convertToInteractive('df-91f28688-1472-4c5e-88f7-bac62a02848e')\"\n",
              "              title=\"Convert this dataframe to an interactive table.\"\n",
              "              style=\"display:none;\">\n",
              "        \n",
              "  <svg xmlns=\"http://www.w3.org/2000/svg\" height=\"24px\"viewBox=\"0 0 24 24\"\n",
              "       width=\"24px\">\n",
              "    <path d=\"M0 0h24v24H0V0z\" fill=\"none\"/>\n",
              "    <path d=\"M18.56 5.44l.94 2.06.94-2.06 2.06-.94-2.06-.94-.94-2.06-.94 2.06-2.06.94zm-11 1L8.5 8.5l.94-2.06 2.06-.94-2.06-.94L8.5 2.5l-.94 2.06-2.06.94zm10 10l.94 2.06.94-2.06 2.06-.94-2.06-.94-.94-2.06-.94 2.06-2.06.94z\"/><path d=\"M17.41 7.96l-1.37-1.37c-.4-.4-.92-.59-1.43-.59-.52 0-1.04.2-1.43.59L10.3 9.45l-7.72 7.72c-.78.78-.78 2.05 0 2.83L4 21.41c.39.39.9.59 1.41.59.51 0 1.02-.2 1.41-.59l7.78-7.78 2.81-2.81c.8-.78.8-2.07 0-2.86zM5.41 20L4 18.59l7.72-7.72 1.47 1.35L5.41 20z\"/>\n",
              "  </svg>\n",
              "      </button>\n",
              "      \n",
              "  <style>\n",
              "    .colab-df-container {\n",
              "      display:flex;\n",
              "      flex-wrap:wrap;\n",
              "      gap: 12px;\n",
              "    }\n",
              "\n",
              "    .colab-df-convert {\n",
              "      background-color: #E8F0FE;\n",
              "      border: none;\n",
              "      border-radius: 50%;\n",
              "      cursor: pointer;\n",
              "      display: none;\n",
              "      fill: #1967D2;\n",
              "      height: 32px;\n",
              "      padding: 0 0 0 0;\n",
              "      width: 32px;\n",
              "    }\n",
              "\n",
              "    .colab-df-convert:hover {\n",
              "      background-color: #E2EBFA;\n",
              "      box-shadow: 0px 1px 2px rgba(60, 64, 67, 0.3), 0px 1px 3px 1px rgba(60, 64, 67, 0.15);\n",
              "      fill: #174EA6;\n",
              "    }\n",
              "\n",
              "    [theme=dark] .colab-df-convert {\n",
              "      background-color: #3B4455;\n",
              "      fill: #D2E3FC;\n",
              "    }\n",
              "\n",
              "    [theme=dark] .colab-df-convert:hover {\n",
              "      background-color: #434B5C;\n",
              "      box-shadow: 0px 1px 3px 1px rgba(0, 0, 0, 0.15);\n",
              "      filter: drop-shadow(0px 1px 2px rgba(0, 0, 0, 0.3));\n",
              "      fill: #FFFFFF;\n",
              "    }\n",
              "  </style>\n",
              "\n",
              "      <script>\n",
              "        const buttonEl =\n",
              "          document.querySelector('#df-91f28688-1472-4c5e-88f7-bac62a02848e button.colab-df-convert');\n",
              "        buttonEl.style.display =\n",
              "          google.colab.kernel.accessAllowed ? 'block' : 'none';\n",
              "\n",
              "        async function convertToInteractive(key) {\n",
              "          const element = document.querySelector('#df-91f28688-1472-4c5e-88f7-bac62a02848e');\n",
              "          const dataTable =\n",
              "            await google.colab.kernel.invokeFunction('convertToInteractive',\n",
              "                                                     [key], {});\n",
              "          if (!dataTable) return;\n",
              "\n",
              "          const docLinkHtml = 'Like what you see? Visit the ' +\n",
              "            '<a target=\"_blank\" href=https://colab.research.google.com/notebooks/data_table.ipynb>data table notebook</a>'\n",
              "            + ' to learn more about interactive tables.';\n",
              "          element.innerHTML = '';\n",
              "          dataTable['output_type'] = 'display_data';\n",
              "          await google.colab.output.renderOutput(dataTable, element);\n",
              "          const docLink = document.createElement('div');\n",
              "          docLink.innerHTML = docLinkHtml;\n",
              "          element.appendChild(docLink);\n",
              "        }\n",
              "      </script>\n",
              "    </div>\n",
              "  </div>\n",
              "  "
            ],
            "text/plain": [
              "                                                                 count  \\\n",
              "                                                              repaired   \n",
              "brand      registration_year vehicle_type power gearbox price            \n",
              "opel       2000              small        54    manual  1000        22   \n",
              "volkswagen 1998              sedan        75    manual  1400        21   \n",
              "           1999              small        75    manual  1000        19   \n",
              "           1998              sedan        101   manual  1000        19   \n",
              "           1999              sedan        75    manual  1200        18   \n",
              "...                                                                ...   \n",
              "audi       1994              wagon        116   manual  450          0   \n",
              "           2003              coupe        150   manual  5500         0   \n",
              "volkswagen 2010              sedan        105   manual  11100        0   \n",
              "audi       2003              coupe        140   manual  6100         0   \n",
              "skoda      2011              sedan        60    manual  6500         0   \n",
              "\n",
              "                                                              nan_count  \n",
              "                                                               repaired  \n",
              "brand      registration_year vehicle_type power gearbox price            \n",
              "opel       2000              small        54    manual  1000          2  \n",
              "volkswagen 1998              sedan        75    manual  1400          2  \n",
              "           1999              small        75    manual  1000          1  \n",
              "           1998              sedan        101   manual  1000          1  \n",
              "           1999              sedan        75    manual  1200          1  \n",
              "...                                                                 ...  \n",
              "audi       1994              wagon        116   manual  450           1  \n",
              "           2003              coupe        150   manual  5500          1  \n",
              "volkswagen 2010              sedan        105   manual  11100         2  \n",
              "audi       2003              coupe        140   manual  6100          1  \n",
              "skoda      2011              sedan        60    manual  6500          1  \n",
              "\n",
              "[15305 rows x 2 columns]"
            ]
          },
          "execution_count": 79,
          "metadata": {},
          "output_type": "execute_result"
        }
      ],
      "source": [
        "not_repaired_table = df.pivot_table(index = ['brand', 'registration_year', 'vehicle_type', 'power', 'gearbox', 'price'], values = 'repaired', aggfunc = ['count', lambda x : x.isna().sum()]).sort_values(by = ('count', 'repaired'), ascending = False)\n",
        "\n",
        "not_repaired_table.columns.set_levels(['count','nan_count'],level=0,inplace=True)\n",
        "not_repaired_table[not_repaired_table[('nan_count','repaired')] > 0].sort_values(by = ('count', 'repaired'), ascending = False)"
      ]
    },
    {
      "cell_type": "code",
      "execution_count": 80,
      "metadata": {
        "colab": {
          "base_uri": "https://localhost:8080/"
        },
        "id": "--YmHZjGeRFi",
        "outputId": "8de2d3dc-b378-4399-dae1-d02c08f62df9"
      },
      "outputs": [
        {
          "data": {
            "text/plain": [
              "no     229\n",
              "yes     33\n",
              "Name: repaired, dtype: int64"
            ]
          },
          "execution_count": 80,
          "metadata": {},
          "output_type": "execute_result"
        }
      ],
      "source": [
        "# for example, let's take volkswagen from the first line\n",
        "df.query('brand ==\"volkswagen\" and registration_year == 1999 and vehicle_type ==\"sedan\" and power == 75 and gearbox ==\"manual\"')['repaired'].value_counts()"
      ]
    },
    {
      "cell_type": "code",
      "execution_count": 81,
      "metadata": {
        "colab": {
          "base_uri": "https://localhost:8080/",
          "height": 323
        },
        "id": "G6USUw8aeRFi",
        "outputId": "0b799e0d-4bbe-4589-fd14-df4fcca28452",
        "scrolled": true
      },
      "outputs": [
        {
          "data": {
            "image/png": "[encoded data removed]",
            "text/plain": [
              "<Figure size 1080x360 with 1 Axes>"
            ]
          },
          "metadata": {
            "needs_background": "light"
          },
          "output_type": "display_data"
        }
      ],
      "source": [
        "plt.figure(figsize=(15, 5))\n",
        "sns.boxplot(x='price', y ='repaired', data = df.query('brand ==\"volkswagen\" and registration_year == 1999 and vehicle_type ==\"sedan\" and power == 75 and gearbox ==\"manual\"'));"
      ]
    },
    {
      "attachments": {},
      "cell_type": "markdown",
      "metadata": {
        "id": "yS1BTg1keRFi"
      },
      "source": [
        "As it was shown earlier, and following the reality, cars that have been repaired will cost less than their unrepaired counterparts. The exception is if the car is sold broken. But we do not have such a sign, so we will delete the values with omissions in the repaired column."
      ]
    },
    {
      "cell_type": "code",
      "execution_count": 82,
      "metadata": {
        "id": "OaZYLDjweRFs"
      },
      "outputs": [],
      "source": [
        "df = df[df['repaired'].isna() == False]"
      ]
    },
    {
      "attachments": {},
      "cell_type": "markdown",
      "metadata": {
        "id": "HGr1afOUeRFs"
      },
      "source": [
        "## Model Training"
      ]
    },
    {
      "attachments": {},
      "cell_type": "markdown",
      "metadata": {
        "id": "TaZf0VYveRFs"
      },
      "source": [
        "### Creating new features\n",
        "\n",
        "the duration of the ad placement may indicate how fair (corresponds to the market, in particular, the price is not overstated or undervalued), so you can create a new feature"
      ]
    },
    {
      "cell_type": "code",
      "execution_count": 83,
      "metadata": {
        "id": "5mpoBZ9beRFt"
      },
      "outputs": [],
      "source": [
        "df['last_seen'] = pd.to_datetime(df['last_seen'])\n",
        "df['date_created'] = pd.to_datetime(df['date_created'])"
      ]
    },
    {
      "cell_type": "code",
      "execution_count": 84,
      "metadata": {
        "colab": {
          "base_uri": "https://localhost:8080/"
        },
        "id": "YZ_J6IR3eRFt",
        "outputId": "d072a6a2-8019-4599-a6fd-c1cc98bca72d",
        "scrolled": true
      },
      "outputs": [
        {
          "data": {
            "text/plain": [
              "3          0\n",
              "4          6\n",
              "5          2\n",
              "6          4\n",
              "10        11\n",
              "          ..\n",
              "217779     3\n",
              "217780     8\n",
              "217783     3\n",
              "217785     1\n",
              "217786     0\n",
              "Name: duration, Length: 134302, dtype: int64"
            ]
          },
          "execution_count": 84,
          "metadata": {},
          "output_type": "execute_result"
        }
      ],
      "source": [
        "df['duration'] = (df['last_seen'] - df['date_created']).dt.days\n",
        "df['duration']"
      ]
    },
    {
      "cell_type": "code",
      "execution_count": 85,
      "metadata": {
        "id": "svl4TL1neRFt"
      },
      "outputs": [],
      "source": [
        "df = df.drop(['last_seen', 'date_created'], axis = 1)"
      ]
    },
    {
      "attachments": {},
      "cell_type": "markdown",
      "metadata": {
        "id": "_Tbn5uQgeRFu"
      },
      "source": [
        "### Data Preparation"
      ]
    },
    {
      "cell_type": "code",
      "execution_count": 86,
      "metadata": {
        "id": "Ki2J47mzeRFu"
      },
      "outputs": [],
      "source": [
        "encoder = OrdinalEncoder()\n",
        "df_ord = pd.DataFrame(encoder.fit_transform(df),\n",
        "                            columns=df.columns)"
      ]
    },
    {
      "cell_type": "code",
      "execution_count": 87,
      "metadata": {
        "colab": {
          "base_uri": "https://localhost:8080/"
        },
        "id": "Pl77Q6bVeRFu",
        "outputId": "e3f8fa82-9cb4-4c4a-c9e1-3381e64fbee9",
        "scrolled": true
      },
      "outputs": [
        {
          "name": "stdout",
          "output_type": "stream",
          "text": [
            "features_train_ord (107441, 10)\n",
            "features_valid_ord (13431, 10)\n",
            "features_test_ord (13430, 10)\n",
            "target_train_ord (107441,)\n",
            "target_valid_ord (13431,)\n",
            "target_test_ord (13430,)\n"
          ]
        }
      ],
      "source": [
        "features_ord = df_ord.drop(['price'], axis=1)\n",
        "target_ord = df_ord['price']\n",
        "\n",
        "features_train_ord, features_valid_and_test_ord, target_train_ord, target_valid_and_test_ord = train_test_split(\n",
        "    features_ord, target_ord, test_size = 0.2, random_state = 12345)\n",
        "\n",
        "features_test_ord, features_valid_ord, target_test_ord, target_valid_ord = train_test_split(\n",
        "    features_valid_and_test_ord, target_valid_and_test_ord, test_size = 0.5, random_state = 12345)\n",
        "\n",
        "print('features_train_ord', features_train_ord.shape)\n",
        "print('features_valid_ord', features_valid_ord.shape)\n",
        "print('features_test_ord', features_test_ord.shape)\n",
        "\n",
        "print('target_train_ord', target_train_ord.shape)\n",
        "print('target_valid_ord', target_valid_ord.shape)\n",
        "print('target_test_ord', target_test_ord.shape)"
      ]
    },
    {
      "cell_type": "code",
      "execution_count": 88,
      "metadata": {
        "id": "f7HdPh7eeRFu"
      },
      "outputs": [],
      "source": [
        "numeric = ['registration_year', 'power', 'duration']"
      ]
    },
    {
      "cell_type": "code",
      "execution_count": 89,
      "metadata": {
        "id": "UHAPs84seRFv",
        "scrolled": true
      },
      "outputs": [],
      "source": [
        "scaler = StandardScaler()\n",
        "\n",
        "scaler.fit(features_train_ord[numeric])\n",
        "features_train_ord[numeric] = scaler.transform(features_train_ord[numeric])\n",
        "features_valid_ord[numeric] = scaler.transform(features_valid_ord[numeric])\n",
        "features_test_ord[numeric] = scaler.transform(features_test_ord[numeric])"
      ]
    },
    {
      "attachments": {},
      "cell_type": "markdown",
      "metadata": {
        "id": "7TIHL0EDeRFv"
      },
      "source": [
        "### Linear Regression"
      ]
    },
    {
      "cell_type": "code",
      "execution_count": 90,
      "metadata": {
        "colab": {
          "base_uri": "https://localhost:8080/"
        },
        "id": "L27jSPBpeRFw",
        "outputId": "a93c370a-157d-4c95-bdf4-8903ed521bab",
        "scrolled": true
      },
      "outputs": [
        {
          "name": "stdout",
          "output_type": "stream",
          "text": [
            "53.836644882185325\n",
            "CPU times: user 256 ms, sys: 201 ms, total: 456 ms\n",
            "Wall time: 271 ms\n"
          ]
        }
      ],
      "source": [
        "%%time\n",
        "\n",
        "lr_model = LinearRegression()\n",
        "\n",
        "print(-cross_val_score(lr_model, features_train_ord, target_train_ord, scoring = 'neg_root_mean_squared_error', cv = 5).mean())"
      ]
    },
    {
      "cell_type": "code",
      "execution_count": 91,
      "metadata": {
        "colab": {
          "base_uri": "https://localhost:8080/"
        },
        "id": "2k5joLVeeRFw",
        "outputId": "89d735ee-3892-4427-b404-c83e109cde2f"
      },
      "outputs": [
        {
          "name": "stdout",
          "output_type": "stream",
          "text": [
            "RMSE модели линейной регрессии на тестовой выборке 52.533033129788\n"
          ]
        }
      ],
      "source": [
        "lr_model.fit(features_train_ord, target_train_ord)\n",
        "lr_predictions = lr_model.predict(features_valid_ord)\n",
        "print('RMSE модели линейной регрессии на тестовой выборке', mean_squared_error(target_valid_ord, lr_predictions)**0.5)"
      ]
    },
    {
      "attachments": {},
      "cell_type": "markdown",
      "metadata": {
        "id": "QL88zXqXeRFw"
      },
      "source": [
        "### Decision Tree"
      ]
    },
    {
      "cell_type": "code",
      "execution_count": 92,
      "metadata": {
        "colab": {
          "base_uri": "https://localhost:8080/"
        },
        "id": "qNgtc8YjeRFw",
        "outputId": "9407c99a-77f6-49df-ed8e-dd09a5e53d0c"
      },
      "outputs": [
        {
          "name": "stdout",
          "output_type": "stream",
          "text": [
            "40.7815403617858\n",
            "CPU times: user 2.38 s, sys: 109 ms, total: 2.49 s\n",
            "Wall time: 2.44 s\n"
          ]
        }
      ],
      "source": [
        "%%time\n",
        "\n",
        "dt_model = DecisionTreeRegressor()\n",
        "\n",
        "print(-cross_val_score(dt_model, features_train_ord, target_train_ord, scoring = 'neg_root_mean_squared_error', cv = 5).mean())"
      ]
    },
    {
      "cell_type": "code",
      "execution_count": 93,
      "metadata": {
        "colab": {
          "base_uri": "https://localhost:8080/"
        },
        "id": "OXE1StXxeRFw",
        "outputId": "4af29a11-0051-4db3-b740-d232397043fe"
      },
      "outputs": [
        {
          "name": "stdout",
          "output_type": "stream",
          "text": [
            "RMSE модели дерева решений на тестовой выборке 39.085486951509374\n"
          ]
        }
      ],
      "source": [
        "dt_model.fit(features_train_ord, target_train_ord)\n",
        "dt_predictions = dt_model.predict(features_valid_ord)\n",
        "print('RMSE модели дерева решений на тестовой выборке', mean_squared_error(target_valid_ord, dt_predictions)**0.5)"
      ]
    },
    {
      "attachments": {},
      "cell_type": "markdown",
      "metadata": {
        "id": "NIAyivcveRFx"
      },
      "source": [
        "### Random Forest"
      ]
    },
    {
      "cell_type": "code",
      "execution_count": 94,
      "metadata": {
        "colab": {
          "base_uri": "https://localhost:8080/"
        },
        "id": "ZYcJ-l3DeRFx",
        "outputId": "30116d0d-b0f6-4066-8f4a-419845aa1cfe"
      },
      "outputs": [
        {
          "name": "stdout",
          "output_type": "stream",
          "text": [
            "30.888307342559205\n",
            "CPU times: user 2min 25s, sys: 1.55 s, total: 2min 26s\n",
            "Wall time: 2min 27s\n"
          ]
        }
      ],
      "source": [
        "%%time\n",
        "\n",
        "rf_model = RandomForestRegressor()\n",
        "\n",
        "print(-cross_val_score(rf_model, features_train_ord, target_train_ord, scoring = 'neg_root_mean_squared_error', cv = 5).mean())"
      ]
    },
    {
      "cell_type": "code",
      "execution_count": 95,
      "metadata": {
        "colab": {
          "base_uri": "https://localhost:8080/"
        },
        "id": "ikTzDsUueRFx",
        "outputId": "97d20972-40d2-4c76-bd1a-e6e668d293b2"
      },
      "outputs": [
        {
          "name": "stdout",
          "output_type": "stream",
          "text": [
            "RMSE модели случайного леса на тестовой выборке 29.6975335859733\n"
          ]
        }
      ],
      "source": [
        "rf_model.fit(features_train_ord, target_train_ord)\n",
        "rf_predictions = rf_model.predict(features_valid_ord)\n",
        "print('RMSE модели случайного леса на тестовой выборке', mean_squared_error(target_valid_ord, rf_predictions)**0.5)"
      ]
    },
    {
      "attachments": {},
      "cell_type": "markdown",
      "metadata": {
        "id": "3Rttdu51eRFy"
      },
      "source": [
        "### LGBM"
      ]
    },
    {
      "attachments": {},
      "cell_type": "markdown",
      "metadata": {
        "id": "ide0nhkYeRFy"
      },
      "source": [
        "#### Training with random hyperparameters"
      ]
    },
    {
      "cell_type": "code",
      "execution_count": 96,
      "metadata": {
        "colab": {
          "base_uri": "https://localhost:8080/"
        },
        "id": "s3aXqDroeRFy",
        "outputId": "d642561b-bd0b-4710-f201-0390235056c9",
        "scrolled": true
      },
      "outputs": [
        {
          "name": "stdout",
          "output_type": "stream",
          "text": [
            "[1]\tvalid_0's l2: 7739.4\tvalid_0's l1: 70.4865\n",
            "Training until validation scores don't improve for 5 rounds.\n",
            "[2]\tvalid_0's l2: 7160.97\tvalid_0's l1: 67.6748\n",
            "[3]\tvalid_0's l2: 6753.44\tvalid_0's l1: 65.6055\n",
            "[4]\tvalid_0's l2: 6267.81\tvalid_0's l1: 63.0637\n",
            "[5]\tvalid_0's l2: 5826.62\tvalid_0's l1: 60.6488\n",
            "[6]\tvalid_0's l2: 5430.22\tvalid_0's l1: 58.4002\n",
            "[7]\tvalid_0's l2: 5068.79\tvalid_0's l1: 56.2738\n",
            "[8]\tvalid_0's l2: 4759.92\tvalid_0's l1: 54.3854\n",
            "[9]\tvalid_0's l2: 4460.93\tvalid_0's l1: 52.5271\n",
            "[10]\tvalid_0's l2: 4188.9\tvalid_0's l1: 50.7684\n",
            "[11]\tvalid_0's l2: 3940.43\tvalid_0's l1: 49.1112\n",
            "[12]\tvalid_0's l2: 3716.31\tvalid_0's l1: 47.5547\n",
            "[13]\tvalid_0's l2: 3513.01\tvalid_0's l1: 46.1164\n",
            "[14]\tvalid_0's l2: 3329.53\tvalid_0's l1: 44.7551\n",
            "[15]\tvalid_0's l2: 3159.45\tvalid_0's l1: 43.4739\n",
            "[16]\tvalid_0's l2: 3006.23\tvalid_0's l1: 42.2894\n",
            "[17]\tvalid_0's l2: 2867.34\tvalid_0's l1: 41.1739\n",
            "[18]\tvalid_0's l2: 2753.02\tvalid_0's l1: 40.2435\n",
            "[19]\tvalid_0's l2: 2634.4\tvalid_0's l1: 39.2604\n",
            "[20]\tvalid_0's l2: 2527.77\tvalid_0's l1: 38.3358\n",
            "Did not meet early stopping. Best iteration is:\n",
            "[20]\tvalid_0's l2: 2527.77\tvalid_0's l1: 38.3358\n",
            "The RMSE of prediction is: 50.27689700339832\n",
            "CPU times: user 851 ms, sys: 9.89 ms, total: 861 ms\n",
            "Wall time: 467 ms\n"
          ]
        }
      ],
      "source": [
        "%%time\n",
        "\n",
        "lgb_train = lgb.Dataset(features_train_ord, target_train_ord)\n",
        "lgb_eval = lgb.Dataset(features_valid_ord, target_valid_ord, reference=lgb_train)\n",
        "\n",
        "params = {\n",
        "    'boosting_type': 'gbdt', # gradient-based decision tree\n",
        "    'objective': 'regression',\n",
        "    'metric': {'l2', 'l1'}, #loss squared, absolute loss\n",
        "    'num_leaves': 31,\n",
        "    'learning_rate': 0.05,\n",
        "    'feature_fraction': 0.9, # LightGBM will randomly select a subset of features on each iteration (tree) if feature_fraction is smaller than 1.0\n",
        "    'bagging_fraction': 0.8, # like feature_fraction, but this will randomly select part of data without resampling\n",
        "    'bagging_freq': 5, # 0 means disable bagging; k means perform bagging at every k iteration\n",
        "    'verbose': 0\n",
        "}\n",
        "\n",
        "gbm = lgb.train(params,\n",
        "                lgb_train,\n",
        "                num_boost_round=20,\n",
        "                valid_sets=lgb_eval,\n",
        "                callbacks=[lgb.early_stopping(stopping_rounds=5)])\n",
        "\n",
        "y_pred = gbm.predict(features_valid_ord, num_iteration=gbm.best_iteration)\n",
        "\n",
        "rmse_test = mean_squared_error(target_valid_ord, y_pred) ** 0.5\n",
        "print(f'The RMSE of prediction is: {rmse_test}')"
      ]
    },
    {
      "attachments": {},
      "cell_type": "markdown",
      "metadata": {
        "id": "wh2UXGOceRFy"
      },
      "source": [
        "RMSE metric is better than logistic regression, but worse than \"wooden\" sklearn regressors"
      ]
    },
    {
      "cell_type": "code",
      "execution_count": 97,
      "metadata": {
        "colab": {
          "base_uri": "https://localhost:8080/",
          "height": 295
        },
        "id": "3NrcarlteRFz",
        "outputId": "6ddecba7-1c43-45dc-8f0a-824a34c2bef4"
      },
      "outputs": [
        {
          "data": {
            "image/png": "[encoded data removed]",
            "text/plain": [
              "<Figure size 432x288 with 1 Axes>"
            ]
          },
          "metadata": {
            "needs_background": "light"
          },
          "output_type": "display_data"
        }
      ],
      "source": [
        "lgb.plot_importance(gbm, height=.5);"
      ]
    },
    {
      "attachments": {},
      "cell_type": "markdown",
      "metadata": {
        "id": "i4gjF4lWeRFz"
      },
      "source": [
        "the rating of the signs looks realistic - the price is really influenced by the engine power and the year of manufacture to a large extent. You can also notice that the repaired attribute has little effect, so you can still predict its missing values by machine learning in the case of high metric values."
      ]
    },
    {
      "attachments": {},
      "cell_type": "markdown",
      "metadata": {
        "id": "B_JMFkC6eRFz"
      },
      "source": [
        "#### Hyperparameters Tuning"
      ]
    },
    {
      "cell_type": "code",
      "execution_count": 98,
      "metadata": {
        "id": "FABSvDr2eRFz"
      },
      "outputs": [],
      "source": [
        "def algorithm_pipeline(X_train_data, X_test_data, y_train_data, y_test_data, \n",
        "                       model, param_grid, cv=10, scoring_fit='neg_mean_squared_error',\n",
        "                       do_probabilities = False):\n",
        "    gs = GridSearchCV(\n",
        "        estimator=model,\n",
        "        param_grid=param_grid, \n",
        "        cv=cv, \n",
        "        n_jobs=-1, \n",
        "        scoring=scoring_fit,\n",
        "        verbose=2\n",
        "    )\n",
        "    fitted_model = gs.fit(X_train_data, y_train_data)\n",
        "    \n",
        "    if do_probabilities:\n",
        "        pred = fitted_model.predict_proba(X_test_data)\n",
        "    else:\n",
        "        pred = fitted_model.predict(X_test_data)\n",
        "    \n",
        "    return fitted_model, pred"
      ]
    },
    {
      "cell_type": "code",
      "execution_count": 99,
      "metadata": {
        "colab": {
          "base_uri": "https://localhost:8080/"
        },
        "id": "uBJuQqabeRFz",
        "outputId": "73455d19-4cef-41b8-e122-c6ba842e988e",
        "scrolled": true
      },
      "outputs": [
        {
          "name": "stdout",
          "output_type": "stream",
          "text": [
            "Fitting 5 folds for each of 4 candidates, totalling 20 fits\n",
            "31.72162933232868\n",
            "{'max_depth': 10, 'num_leaves': 20}\n",
            "CPU times: user 11.9 s, sys: 198 ms, total: 12.1 s\n",
            "Wall time: 27.6 s\n"
          ]
        }
      ],
      "source": [
        "%%time\n",
        "\n",
        "lgb_train = lgb.Dataset(features_train_ord, target_train_ord)\n",
        "lgb_eval = lgb.Dataset(features_valid_ord, target_valid_ord, reference=lgb_train)\n",
        "\n",
        "param_grid = {\n",
        "    \"max_depth\": [5, 10],\n",
        "    \"num_leaves\": [10, 20]  \n",
        "}\n",
        "\n",
        "gbm_cv = lgb.LGBMRegressor()\n",
        "\n",
        "gbm_cv, pred = algorithm_pipeline(features_train_ord, features_valid_ord, target_train_ord, target_valid_ord, gbm_cv, \n",
        "                                 param_grid, cv=5)\n",
        "\n",
        "print(np.sqrt(-gbm_cv.best_score_))\n",
        "print(gbm_cv.best_params_)"
      ]
    },
    {
      "cell_type": "code",
      "execution_count": 100,
      "metadata": {
        "colab": {
          "base_uri": "https://localhost:8080/"
        },
        "id": "6_1UoU4deRFz",
        "outputId": "8ba030ef-f29b-4d6d-c544-52cbc180a46c",
        "scrolled": true
      },
      "outputs": [
        {
          "name": "stdout",
          "output_type": "stream",
          "text": [
            "Fitting 5 folds for each of 4 candidates, totalling 20 fits\n",
            "30.942242956710178\n",
            "{'max_depth': 10, 'n_estimators': 100}\n",
            "CPU times: user 2.15 s, sys: 88.4 ms, total: 2.24 s\n",
            "Wall time: 16.4 s\n"
          ]
        }
      ],
      "source": [
        "%%time\n",
        "\n",
        "lgb_train = lgb.Dataset(features_train_ord, target_train_ord)\n",
        "lgb_eval = lgb.Dataset(features_valid_ord, target_valid_ord, reference=lgb_train)\n",
        "\n",
        "param_grid = {\n",
        "    'n_estimators': [50, 100],\n",
        "    'max_depth': [5, 10],\n",
        "}\n",
        "\n",
        "gbm_cv2 = lgb.LGBMRegressor()\n",
        "\n",
        "gbm_cv2, pred = algorithm_pipeline(features_train_ord, features_valid_ord, target_train_ord, target_valid_ord, gbm_cv2, \n",
        "                                 param_grid, cv=5)\n",
        "\n",
        "print(np.sqrt(-gbm_cv2.best_score_))\n",
        "print(gbm_cv2.best_params_)"
      ]
    },
    {
      "cell_type": "code",
      "execution_count": 101,
      "metadata": {
        "colab": {
          "base_uri": "https://localhost:8080/"
        },
        "id": "rxZrTSU_eRF0",
        "outputId": "0a98b36c-5a6a-4e1e-f932-61aece83cad9",
        "scrolled": true
      },
      "outputs": [
        {
          "name": "stdout",
          "output_type": "stream",
          "text": [
            "Fitting 5 folds for each of 4 candidates, totalling 20 fits\n",
            "[13:46:39] WARNING: /workspace/src/objective/regression_obj.cu:152: reg:linear is now deprecated in favor of reg:squarederror.\n",
            "28.976381139659697\n",
            "{'max_depth': 10, 'n_estimators': 100}\n",
            "CPU times: user 21.3 s, sys: 228 ms, total: 21.5 s\n",
            "Wall time: 2min 49s\n"
          ]
        }
      ],
      "source": [
        "%%time\n",
        "\n",
        "xgb_model = xgb.XGBRegressor()\n",
        "\n",
        "param_grid = {\n",
        "    'n_estimators': [50, 100],\n",
        "    'max_depth': [5, 10],\n",
        "}\n",
        "\n",
        "xgb_model, pred = algorithm_pipeline(features_train_ord, features_valid_ord, target_train_ord, target_valid_ord, xgb_model, \n",
        "                                 param_grid, cv=5)\n",
        "\n",
        "print(np.sqrt(-xgb_model.best_score_))\n",
        "print(xgb_model.best_params_)"
      ]
    },
    {
      "attachments": {},
      "cell_type": "markdown",
      "metadata": {
        "id": "Nmg9QGcbeRF0"
      },
      "source": [
        "Best result!"
      ]
    },
    {
      "cell_type": "code",
      "execution_count": 102,
      "metadata": {
        "colab": {
          "base_uri": "https://localhost:8080/"
        },
        "id": "Zci4glnLeRF0",
        "outputId": "e52d102c-1789-4390-9c69-dae1ee65dfcc",
        "scrolled": false
      },
      "outputs": [
        {
          "name": "stdout",
          "output_type": "stream",
          "text": [
            "Fitting 5 folds for each of 4 candidates, totalling 20 fits\n",
            "Learning rate set to 0.5\n",
            "0:\tlearn: 60.8129422\ttotal: 119ms\tremaining: 11.8s\n",
            "1:\tlearn: 46.1419995\ttotal: 182ms\tremaining: 8.9s\n",
            "2:\tlearn: 40.4610525\ttotal: 223ms\tremaining: 7.21s\n",
            "3:\tlearn: 37.0227581\ttotal: 262ms\tremaining: 6.29s\n",
            "4:\tlearn: 35.6811608\ttotal: 298ms\tremaining: 5.67s\n",
            "5:\tlearn: 34.6136323\ttotal: 346ms\tremaining: 5.43s\n",
            "6:\tlearn: 34.0125163\ttotal: 383ms\tremaining: 5.08s\n",
            "7:\tlearn: 33.4606034\ttotal: 419ms\tremaining: 4.82s\n",
            "8:\tlearn: 33.0265054\ttotal: 459ms\tremaining: 4.64s\n",
            "9:\tlearn: 32.5523517\ttotal: 498ms\tremaining: 4.49s\n",
            "10:\tlearn: 32.1583232\ttotal: 536ms\tremaining: 4.33s\n",
            "11:\tlearn: 31.8045724\ttotal: 579ms\tremaining: 4.24s\n",
            "12:\tlearn: 31.5454320\ttotal: 616ms\tremaining: 4.12s\n",
            "13:\tlearn: 31.4055356\ttotal: 656ms\tremaining: 4.03s\n",
            "14:\tlearn: 31.2090010\ttotal: 705ms\tremaining: 4s\n",
            "15:\tlearn: 30.9723581\ttotal: 743ms\tremaining: 3.9s\n",
            "16:\tlearn: 30.7141149\ttotal: 787ms\tremaining: 3.84s\n",
            "17:\tlearn: 30.6201610\ttotal: 823ms\tremaining: 3.75s\n",
            "18:\tlearn: 30.5036694\ttotal: 863ms\tremaining: 3.68s\n",
            "19:\tlearn: 30.3156045\ttotal: 899ms\tremaining: 3.59s\n",
            "20:\tlearn: 30.1555629\ttotal: 940ms\tremaining: 3.54s\n",
            "21:\tlearn: 30.0144756\ttotal: 983ms\tremaining: 3.48s\n",
            "22:\tlearn: 29.8748745\ttotal: 1.03s\tremaining: 3.45s\n",
            "23:\tlearn: 29.6955539\ttotal: 1.15s\tremaining: 3.64s\n",
            "24:\tlearn: 29.5610511\ttotal: 1.24s\tremaining: 3.73s\n",
            "25:\tlearn: 29.4572036\ttotal: 1.33s\tremaining: 3.78s\n",
            "26:\tlearn: 29.3307241\ttotal: 1.42s\tremaining: 3.83s\n",
            "27:\tlearn: 29.2148807\ttotal: 1.49s\tremaining: 3.84s\n",
            "28:\tlearn: 29.0691392\ttotal: 1.56s\tremaining: 3.82s\n",
            "29:\tlearn: 28.8878860\ttotal: 1.64s\tremaining: 3.82s\n",
            "30:\tlearn: 28.8060153\ttotal: 1.73s\tremaining: 3.85s\n",
            "31:\tlearn: 28.7167519\ttotal: 1.83s\tremaining: 3.89s\n",
            "32:\tlearn: 28.6069638\ttotal: 1.92s\tremaining: 3.9s\n",
            "33:\tlearn: 28.5229451\ttotal: 2.01s\tremaining: 3.91s\n",
            "34:\tlearn: 28.4373264\ttotal: 2.09s\tremaining: 3.88s\n",
            "35:\tlearn: 28.2972914\ttotal: 2.19s\tremaining: 3.9s\n",
            "36:\tlearn: 28.2073224\ttotal: 2.29s\tremaining: 3.9s\n",
            "37:\tlearn: 28.1188965\ttotal: 2.37s\tremaining: 3.87s\n",
            "38:\tlearn: 28.0381909\ttotal: 2.46s\tremaining: 3.85s\n",
            "39:\tlearn: 27.9520128\ttotal: 2.56s\tremaining: 3.84s\n",
            "40:\tlearn: 27.8737271\ttotal: 2.65s\tremaining: 3.81s\n",
            "41:\tlearn: 27.8264942\ttotal: 2.74s\tremaining: 3.78s\n",
            "42:\tlearn: 27.7781039\ttotal: 2.84s\tremaining: 3.77s\n",
            "43:\tlearn: 27.7067083\ttotal: 2.94s\tremaining: 3.74s\n",
            "44:\tlearn: 27.6380998\ttotal: 3.03s\tremaining: 3.7s\n",
            "45:\tlearn: 27.5956863\ttotal: 3.12s\tremaining: 3.67s\n",
            "46:\tlearn: 27.5180979\ttotal: 3.21s\tremaining: 3.63s\n",
            "47:\tlearn: 27.4736302\ttotal: 3.3s\tremaining: 3.58s\n",
            "48:\tlearn: 27.4352458\ttotal: 3.39s\tremaining: 3.53s\n",
            "49:\tlearn: 27.3955061\ttotal: 3.48s\tremaining: 3.48s\n",
            "50:\tlearn: 27.2686460\ttotal: 3.58s\tremaining: 3.44s\n",
            "51:\tlearn: 27.1730575\ttotal: 3.65s\tremaining: 3.37s\n",
            "52:\tlearn: 27.1225579\ttotal: 3.75s\tremaining: 3.33s\n",
            "53:\tlearn: 27.0608392\ttotal: 3.83s\tremaining: 3.27s\n",
            "54:\tlearn: 27.0143934\ttotal: 3.9s\tremaining: 3.19s\n",
            "55:\tlearn: 26.9755899\ttotal: 3.98s\tremaining: 3.13s\n",
            "56:\tlearn: 26.9152649\ttotal: 4.05s\tremaining: 3.06s\n",
            "57:\tlearn: 26.8562654\ttotal: 4.13s\tremaining: 2.99s\n",
            "58:\tlearn: 26.8241036\ttotal: 4.23s\tremaining: 2.94s\n",
            "59:\tlearn: 26.7826803\ttotal: 4.32s\tremaining: 2.88s\n",
            "60:\tlearn: 26.7320946\ttotal: 4.39s\tremaining: 2.81s\n",
            "61:\tlearn: 26.6411826\ttotal: 4.44s\tremaining: 2.72s\n",
            "62:\tlearn: 26.5865273\ttotal: 4.49s\tremaining: 2.64s\n",
            "63:\tlearn: 26.5151132\ttotal: 4.53s\tremaining: 2.55s\n",
            "64:\tlearn: 26.4591357\ttotal: 4.57s\tremaining: 2.46s\n",
            "65:\tlearn: 26.4000500\ttotal: 4.61s\tremaining: 2.37s\n",
            "66:\tlearn: 26.3656241\ttotal: 4.65s\tremaining: 2.29s\n",
            "67:\tlearn: 26.3143505\ttotal: 4.69s\tremaining: 2.21s\n",
            "68:\tlearn: 26.2706748\ttotal: 4.72s\tremaining: 2.12s\n",
            "69:\tlearn: 26.2321063\ttotal: 4.76s\tremaining: 2.04s\n",
            "70:\tlearn: 26.1963732\ttotal: 4.8s\tremaining: 1.96s\n",
            "71:\tlearn: 26.1502680\ttotal: 4.83s\tremaining: 1.88s\n",
            "72:\tlearn: 26.1128620\ttotal: 4.88s\tremaining: 1.8s\n",
            "73:\tlearn: 26.0837588\ttotal: 4.92s\tremaining: 1.73s\n",
            "74:\tlearn: 26.0405611\ttotal: 4.96s\tremaining: 1.65s\n",
            "75:\tlearn: 26.0151397\ttotal: 4.99s\tremaining: 1.58s\n",
            "76:\tlearn: 25.9776685\ttotal: 5.03s\tremaining: 1.5s\n",
            "77:\tlearn: 25.9338408\ttotal: 5.06s\tremaining: 1.43s\n",
            "78:\tlearn: 25.8939307\ttotal: 5.11s\tremaining: 1.36s\n",
            "79:\tlearn: 25.8397948\ttotal: 5.14s\tremaining: 1.28s\n",
            "80:\tlearn: 25.8085223\ttotal: 5.18s\tremaining: 1.22s\n",
            "81:\tlearn: 25.7923233\ttotal: 5.22s\tremaining: 1.15s\n",
            "82:\tlearn: 25.7613361\ttotal: 5.26s\tremaining: 1.08s\n",
            "83:\tlearn: 25.6890877\ttotal: 5.29s\tremaining: 1.01s\n",
            "84:\tlearn: 25.6616885\ttotal: 5.33s\tremaining: 941ms\n",
            "85:\tlearn: 25.6334527\ttotal: 5.37s\tremaining: 874ms\n",
            "86:\tlearn: 25.5942147\ttotal: 5.41s\tremaining: 808ms\n",
            "87:\tlearn: 25.5664830\ttotal: 5.44s\tremaining: 742ms\n",
            "88:\tlearn: 25.5197695\ttotal: 5.5s\tremaining: 679ms\n",
            "89:\tlearn: 25.4978146\ttotal: 5.54s\tremaining: 615ms\n",
            "90:\tlearn: 25.4538004\ttotal: 5.58s\tremaining: 552ms\n",
            "91:\tlearn: 25.3929879\ttotal: 5.61s\tremaining: 488ms\n",
            "92:\tlearn: 25.3452424\ttotal: 5.65s\tremaining: 425ms\n",
            "93:\tlearn: 25.3121525\ttotal: 5.69s\tremaining: 363ms\n",
            "94:\tlearn: 25.2622540\ttotal: 5.73s\tremaining: 301ms\n",
            "95:\tlearn: 25.2373492\ttotal: 5.77s\tremaining: 240ms\n",
            "96:\tlearn: 25.2104513\ttotal: 5.8s\tremaining: 179ms\n",
            "97:\tlearn: 25.1828078\ttotal: 5.85s\tremaining: 119ms\n",
            "98:\tlearn: 25.1503330\ttotal: 5.88s\tremaining: 59.4ms\n",
            "99:\tlearn: 25.1260771\ttotal: 5.92s\tremaining: 0us\n",
            "29.455884122151712\n",
            "{'max_depth': 10, 'n_estimators': 100}\n",
            "CPU times: user 7.38 s, sys: 968 ms, total: 8.35 s\n",
            "Wall time: 48.3 s\n"
          ]
        }
      ],
      "source": [
        "%%time\n",
        "\n",
        "CBM = CatBoostRegressor()\n",
        "\n",
        "param_grid = {\n",
        "    'n_estimators': [50, 100],\n",
        "    'max_depth': [5, 10],\n",
        "}\n",
        "\n",
        "CBM, pred = algorithm_pipeline(features_train_ord, features_valid_ord, target_train_ord, target_valid_ord, CBM, \n",
        "                                 param_grid, cv=5)\n",
        "\n",
        "print(np.sqrt(-CBM.best_score_))\n",
        "print(CBM.best_params_)"
      ]
    },
    {
      "attachments": {},
      "cell_type": "markdown",
      "metadata": {
        "id": "7lqKAmLzeRF0"
      },
      "source": [
        "Conclusion: all models except XGB have the best parameters 'max_depth': 10, 'n_estimators': 100, whereas XGB 'max_depth': 10, 'n_estimators': 50. It is also the longest in the work. Let's check the time of separate training of models and summarize the results in a table"
      ]
    },
    {
      "attachments": {},
      "cell_type": "markdown",
      "metadata": {
        "id": "49n78jFzeRF0"
      },
      "source": [
        "### Measurement of model training time"
      ]
    },
    {
      "cell_type": "code",
      "execution_count": 103,
      "metadata": {
        "id": "nzU2hDgEeRF0"
      },
      "outputs": [],
      "source": [
        "model_performance = []"
      ]
    },
    {
      "cell_type": "code",
      "execution_count": 104,
      "metadata": {
        "id": "3NUpD610eRF1"
      },
      "outputs": [],
      "source": [
        "def model_assessment(model, params, features_train, target_train, features_test, target_test):\n",
        "    st = datetime.datetime.now()\n",
        "    model.fit(features_train, target_train)\n",
        "    mt = datetime.datetime.now()\n",
        "    y_pred = model.predict(features_test)\n",
        "    et = datetime.datetime.now()\n",
        "    \n",
        "    learning_time = mt-st\n",
        "    prediction_time = et-mt\n",
        "    rmse = mean_squared_error(target_test_ord, y_pred) ** 0.5\n",
        "    return rmse, learning_time, prediction_time"
      ]
    },
    {
      "cell_type": "code",
      "execution_count": 105,
      "metadata": {
        "id": "Ky0CbvbXeRF1"
      },
      "outputs": [],
      "source": [
        "LR_model = LinearRegression()\n",
        "\n",
        "param_grid = {\n",
        "    'n_estimators': 100,\n",
        "    'max_depth': 10,\n",
        "}\n",
        "\n",
        "rmse, learning_time, prediction_time = model_assessment(LR_model, param_grid, features_train_ord, target_train_ord, features_test_ord, target_test_ord)\n",
        "\n",
        "model_performance.append(['LR_model', rmse, learning_time, prediction_time] )"
      ]
    },
    {
      "cell_type": "code",
      "execution_count": 106,
      "metadata": {
        "id": "M7mQd1bTeRF1"
      },
      "outputs": [],
      "source": [
        "DT_model = DecisionTreeRegressor()\n",
        "\n",
        "param_grid = {\n",
        "    'n_estimators': 100,\n",
        "    'max_depth': 10,\n",
        "}\n",
        "\n",
        "rmse, learning_time, prediction_time = model_assessment(DT_model, param_grid, features_train_ord, target_train_ord, features_test_ord, target_test_ord)\n",
        "\n",
        "model_performance.append(['Decision_Tree', rmse, learning_time, prediction_time] )"
      ]
    },
    {
      "cell_type": "code",
      "execution_count": 107,
      "metadata": {
        "id": "n21QQUB4eRF1"
      },
      "outputs": [],
      "source": [
        "RF_model = RandomForestRegressor()\n",
        "\n",
        "param_grid = {\n",
        "    'n_estimators': 100,\n",
        "    'max_depth': 10,\n",
        "}\n",
        "\n",
        "rmse, learning_time, prediction_time = model_assessment(RF_model, param_grid, features_train_ord, target_train_ord, features_test_ord, target_test_ord)\n",
        "\n",
        "model_performance.append(['Random_Forest', rmse, learning_time, prediction_time] )"
      ]
    },
    {
      "cell_type": "code",
      "execution_count": 108,
      "metadata": {
        "id": "ede85WMIeRF1"
      },
      "outputs": [],
      "source": [
        "lgb_model = lgb.LGBMRegressor()\n",
        "\n",
        "param_grid = {\n",
        "    'n_estimators': 100,\n",
        "    'max_depth': 10,\n",
        "}\n",
        "\n",
        "rmse, learning_time, prediction_time = model_assessment(lgb_model, param_grid, features_train_ord, target_train_ord, features_test_ord, target_test_ord)\n",
        "\n",
        "model_performance.append(['LGB', rmse, learning_time, prediction_time] )"
      ]
    },
    {
      "cell_type": "code",
      "execution_count": 109,
      "metadata": {
        "colab": {
          "base_uri": "https://localhost:8080/"
        },
        "id": "to8NQp8YeRF1",
        "outputId": "565d5f6f-37ae-4093-f361-3054b3e537db"
      },
      "outputs": [
        {
          "name": "stdout",
          "output_type": "stream",
          "text": [
            "[13:48:27] WARNING: /workspace/src/objective/regression_obj.cu:152: reg:linear is now deprecated in favor of reg:squarederror.\n"
          ]
        }
      ],
      "source": [
        "xgb_model = xgb.XGBRegressor()\n",
        "\n",
        "param_grid = {\n",
        "    'n_estimators': 50,\n",
        "    'max_depth': 10,\n",
        "}\n",
        "\n",
        "rmse, learning_time, prediction_time = model_assessment(xgb_model, param_grid, features_train_ord, target_train_ord, features_test_ord, target_test_ord)\n",
        "\n",
        "model_performance.append(['XGB', rmse, learning_time, prediction_time] )"
      ]
    },
    {
      "cell_type": "code",
      "execution_count": 110,
      "metadata": {
        "colab": {
          "base_uri": "https://localhost:8080/"
        },
        "id": "O8CnTQiEeRF1",
        "outputId": "01b84618-f5ed-41e4-cd5c-862057d6db31",
        "scrolled": false
      },
      "outputs": [
        {
          "name": "stdout",
          "output_type": "stream",
          "text": [
            "Learning rate set to 0.085724\n",
            "0:\tlearn: 86.7005680\ttotal: 16.9ms\tremaining: 16.8s\n",
            "1:\tlearn: 81.6560468\ttotal: 34ms\tremaining: 17s\n",
            "2:\tlearn: 77.1588610\ttotal: 50.1ms\tremaining: 16.7s\n",
            "3:\tlearn: 73.1256438\ttotal: 66.3ms\tremaining: 16.5s\n",
            "4:\tlearn: 69.5153773\ttotal: 82.8ms\tremaining: 16.5s\n",
            "5:\tlearn: 66.3968074\ttotal: 99ms\tremaining: 16.4s\n",
            "6:\tlearn: 63.4544199\ttotal: 115ms\tremaining: 16.3s\n",
            "7:\tlearn: 60.7825691\ttotal: 131ms\tremaining: 16.2s\n",
            "8:\tlearn: 58.4515678\ttotal: 148ms\tremaining: 16.3s\n",
            "9:\tlearn: 56.3852884\ttotal: 164ms\tremaining: 16.2s\n",
            "10:\tlearn: 54.5263075\ttotal: 179ms\tremaining: 16.1s\n",
            "11:\tlearn: 52.8776686\ttotal: 199ms\tremaining: 16.4s\n",
            "12:\tlearn: 51.3444088\ttotal: 220ms\tremaining: 16.7s\n",
            "13:\tlearn: 50.0458861\ttotal: 237ms\tremaining: 16.7s\n",
            "14:\tlearn: 48.8653419\ttotal: 255ms\tremaining: 16.8s\n",
            "15:\tlearn: 47.7802920\ttotal: 270ms\tremaining: 16.6s\n",
            "16:\tlearn: 46.8263900\ttotal: 286ms\tremaining: 16.5s\n",
            "17:\tlearn: 45.9352815\ttotal: 302ms\tremaining: 16.5s\n",
            "18:\tlearn: 45.1374174\ttotal: 317ms\tremaining: 16.4s\n",
            "19:\tlearn: 44.4386230\ttotal: 332ms\tremaining: 16.3s\n",
            "20:\tlearn: 43.8083829\ttotal: 348ms\tremaining: 16.2s\n",
            "21:\tlearn: 43.2649793\ttotal: 362ms\tremaining: 16.1s\n",
            "22:\tlearn: 42.5996568\ttotal: 379ms\tremaining: 16.1s\n",
            "23:\tlearn: 42.1565644\ttotal: 398ms\tremaining: 16.2s\n",
            "24:\tlearn: 41.7069812\ttotal: 414ms\tremaining: 16.1s\n",
            "25:\tlearn: 41.2431760\ttotal: 429ms\tremaining: 16.1s\n",
            "26:\tlearn: 40.8729650\ttotal: 445ms\tremaining: 16s\n",
            "27:\tlearn: 40.5394499\ttotal: 460ms\tremaining: 16s\n",
            "28:\tlearn: 40.1795585\ttotal: 475ms\tremaining: 15.9s\n",
            "29:\tlearn: 39.7910957\ttotal: 491ms\tremaining: 15.9s\n",
            "30:\tlearn: 39.4967421\ttotal: 506ms\tremaining: 15.8s\n",
            "31:\tlearn: 39.1788668\ttotal: 522ms\tremaining: 15.8s\n",
            "32:\tlearn: 38.9673015\ttotal: 536ms\tremaining: 15.7s\n",
            "33:\tlearn: 38.6707764\ttotal: 551ms\tremaining: 15.7s\n",
            "34:\tlearn: 38.4258709\ttotal: 567ms\tremaining: 15.6s\n",
            "35:\tlearn: 38.2458271\ttotal: 585ms\tremaining: 15.7s\n",
            "36:\tlearn: 38.0901644\ttotal: 608ms\tremaining: 15.8s\n",
            "37:\tlearn: 37.8990880\ttotal: 625ms\tremaining: 15.8s\n",
            "38:\tlearn: 37.6720246\ttotal: 641ms\tremaining: 15.8s\n",
            "39:\tlearn: 37.4968355\ttotal: 677ms\tremaining: 16.3s\n",
            "40:\tlearn: 37.3433424\ttotal: 692ms\tremaining: 16.2s\n",
            "41:\tlearn: 37.1978732\ttotal: 707ms\tremaining: 16.1s\n",
            "42:\tlearn: 37.0081837\ttotal: 723ms\tremaining: 16.1s\n",
            "43:\tlearn: 36.8918405\ttotal: 739ms\tremaining: 16.1s\n",
            "44:\tlearn: 36.7590011\ttotal: 756ms\tremaining: 16s\n",
            "45:\tlearn: 36.6095551\ttotal: 771ms\tremaining: 16s\n",
            "46:\tlearn: 36.4969291\ttotal: 785ms\tremaining: 15.9s\n",
            "47:\tlearn: 36.3923441\ttotal: 801ms\tremaining: 15.9s\n",
            "48:\tlearn: 36.2212509\ttotal: 820ms\tremaining: 15.9s\n",
            "49:\tlearn: 36.1178999\ttotal: 834ms\tremaining: 15.9s\n",
            "50:\tlearn: 35.9986409\ttotal: 849ms\tremaining: 15.8s\n",
            "51:\tlearn: 35.8889034\ttotal: 863ms\tremaining: 15.7s\n",
            "52:\tlearn: 35.8075031\ttotal: 879ms\tremaining: 15.7s\n",
            "53:\tlearn: 35.6825692\ttotal: 894ms\tremaining: 15.7s\n",
            "54:\tlearn: 35.5962681\ttotal: 915ms\tremaining: 15.7s\n",
            "55:\tlearn: 35.5308786\ttotal: 929ms\tremaining: 15.7s\n",
            "56:\tlearn: 35.4401255\ttotal: 943ms\tremaining: 15.6s\n",
            "57:\tlearn: 35.3778895\ttotal: 958ms\tremaining: 15.6s\n",
            "58:\tlearn: 35.3061940\ttotal: 974ms\tremaining: 15.5s\n",
            "59:\tlearn: 35.2537813\ttotal: 989ms\tremaining: 15.5s\n",
            "60:\tlearn: 35.1948055\ttotal: 1s\tremaining: 15.4s\n",
            "61:\tlearn: 35.1017105\ttotal: 1.02s\tremaining: 15.4s\n",
            "62:\tlearn: 35.0550824\ttotal: 1.04s\tremaining: 15.5s\n",
            "63:\tlearn: 34.9448198\ttotal: 1.06s\tremaining: 15.5s\n",
            "64:\tlearn: 34.8882924\ttotal: 1.07s\tremaining: 15.5s\n",
            "65:\tlearn: 34.8015736\ttotal: 1.09s\tremaining: 15.4s\n",
            "66:\tlearn: 34.7575668\ttotal: 1.1s\tremaining: 15.4s\n",
            "67:\tlearn: 34.6958354\ttotal: 1.12s\tremaining: 15.3s\n",
            "68:\tlearn: 34.6077616\ttotal: 1.14s\tremaining: 15.4s\n",
            "69:\tlearn: 34.5550549\ttotal: 1.18s\tremaining: 15.7s\n",
            "70:\tlearn: 34.4968961\ttotal: 1.19s\tremaining: 15.6s\n",
            "71:\tlearn: 34.4609172\ttotal: 1.21s\tremaining: 15.6s\n",
            "72:\tlearn: 34.4129542\ttotal: 1.22s\tremaining: 15.5s\n",
            "73:\tlearn: 34.3353480\ttotal: 1.24s\tremaining: 15.5s\n",
            "74:\tlearn: 34.2927026\ttotal: 1.26s\tremaining: 15.5s\n",
            "75:\tlearn: 34.2084156\ttotal: 1.27s\tremaining: 15.5s\n",
            "76:\tlearn: 34.1639137\ttotal: 1.29s\tremaining: 15.4s\n",
            "77:\tlearn: 34.1138962\ttotal: 1.3s\tremaining: 15.4s\n",
            "78:\tlearn: 34.0578410\ttotal: 1.32s\tremaining: 15.4s\n",
            "79:\tlearn: 34.0217533\ttotal: 1.33s\tremaining: 15.3s\n",
            "80:\tlearn: 33.9619605\ttotal: 1.35s\tremaining: 15.3s\n",
            "81:\tlearn: 33.8933793\ttotal: 1.36s\tremaining: 15.3s\n",
            "82:\tlearn: 33.8276935\ttotal: 1.38s\tremaining: 15.2s\n",
            "83:\tlearn: 33.7771244\ttotal: 1.39s\tremaining: 15.2s\n",
            "84:\tlearn: 33.7427960\ttotal: 1.41s\tremaining: 15.2s\n",
            "85:\tlearn: 33.6985821\ttotal: 1.42s\tremaining: 15.1s\n",
            "86:\tlearn: 33.6644916\ttotal: 1.44s\tremaining: 15.1s\n",
            "87:\tlearn: 33.6064268\ttotal: 1.47s\tremaining: 15.2s\n",
            "88:\tlearn: 33.5756532\ttotal: 1.49s\tremaining: 15.2s\n",
            "89:\tlearn: 33.5337879\ttotal: 1.5s\tremaining: 15.2s\n",
            "90:\tlearn: 33.4912228\ttotal: 1.52s\tremaining: 15.2s\n",
            "91:\tlearn: 33.4484387\ttotal: 1.53s\tremaining: 15.1s\n",
            "92:\tlearn: 33.4106962\ttotal: 1.55s\tremaining: 15.1s\n",
            "93:\tlearn: 33.3811416\ttotal: 1.57s\tremaining: 15.1s\n",
            "94:\tlearn: 33.3364667\ttotal: 1.58s\tremaining: 15.1s\n",
            "95:\tlearn: 33.3055196\ttotal: 1.59s\tremaining: 15s\n",
            "96:\tlearn: 33.2761969\ttotal: 1.61s\tremaining: 15s\n",
            "97:\tlearn: 33.2535677\ttotal: 1.63s\tremaining: 15s\n",
            "98:\tlearn: 33.2120548\ttotal: 1.64s\tremaining: 14.9s\n",
            "99:\tlearn: 33.1676857\ttotal: 1.67s\tremaining: 15.1s\n",
            "100:\tlearn: 33.1444506\ttotal: 1.69s\tremaining: 15s\n",
            "101:\tlearn: 33.1234188\ttotal: 1.7s\tremaining: 15s\n",
            "102:\tlearn: 33.1028794\ttotal: 1.72s\tremaining: 15s\n",
            "103:\tlearn: 33.0717169\ttotal: 1.73s\tremaining: 14.9s\n",
            "104:\tlearn: 33.0288841\ttotal: 1.75s\tremaining: 14.9s\n",
            "105:\tlearn: 32.9922320\ttotal: 1.77s\tremaining: 14.9s\n",
            "106:\tlearn: 32.9652550\ttotal: 1.78s\tremaining: 14.9s\n",
            "107:\tlearn: 32.9337874\ttotal: 1.8s\tremaining: 14.8s\n",
            "108:\tlearn: 32.9055241\ttotal: 1.81s\tremaining: 14.8s\n",
            "109:\tlearn: 32.8669707\ttotal: 1.83s\tremaining: 14.8s\n",
            "110:\tlearn: 32.8377663\ttotal: 1.84s\tremaining: 14.8s\n",
            "111:\tlearn: 32.8040674\ttotal: 1.86s\tremaining: 14.7s\n",
            "112:\tlearn: 32.7797944\ttotal: 1.88s\tremaining: 14.7s\n",
            "113:\tlearn: 32.7489199\ttotal: 1.9s\tremaining: 14.8s\n",
            "114:\tlearn: 32.7271434\ttotal: 1.92s\tremaining: 14.7s\n",
            "115:\tlearn: 32.6910293\ttotal: 1.94s\tremaining: 14.7s\n",
            "116:\tlearn: 32.6660684\ttotal: 1.95s\tremaining: 14.7s\n",
            "117:\tlearn: 32.6397976\ttotal: 1.97s\tremaining: 14.7s\n",
            "118:\tlearn: 32.6139177\ttotal: 1.98s\tremaining: 14.7s\n",
            "119:\tlearn: 32.5909941\ttotal: 1.99s\tremaining: 14.6s\n",
            "120:\tlearn: 32.5586273\ttotal: 2.01s\tremaining: 14.6s\n",
            "121:\tlearn: 32.5296801\ttotal: 2.02s\tremaining: 14.6s\n",
            "122:\tlearn: 32.4927113\ttotal: 2.04s\tremaining: 14.6s\n",
            "123:\tlearn: 32.4742083\ttotal: 2.06s\tremaining: 14.5s\n",
            "124:\tlearn: 32.4456937\ttotal: 2.07s\tremaining: 14.5s\n",
            "125:\tlearn: 32.4301736\ttotal: 2.09s\tremaining: 14.5s\n",
            "126:\tlearn: 32.4098222\ttotal: 2.11s\tremaining: 14.5s\n",
            "127:\tlearn: 32.3776133\ttotal: 2.12s\tremaining: 14.5s\n",
            "128:\tlearn: 32.3633632\ttotal: 2.13s\tremaining: 14.4s\n",
            "129:\tlearn: 32.3348912\ttotal: 2.15s\tremaining: 14.4s\n",
            "130:\tlearn: 32.3196273\ttotal: 2.17s\tremaining: 14.4s\n",
            "131:\tlearn: 32.3030331\ttotal: 2.19s\tremaining: 14.4s\n",
            "132:\tlearn: 32.2825992\ttotal: 2.2s\tremaining: 14.4s\n",
            "133:\tlearn: 32.2525556\ttotal: 2.22s\tremaining: 14.4s\n",
            "134:\tlearn: 32.2255743\ttotal: 2.24s\tremaining: 14.3s\n",
            "135:\tlearn: 32.1848699\ttotal: 2.25s\tremaining: 14.3s\n",
            "136:\tlearn: 32.1556984\ttotal: 2.27s\tremaining: 14.3s\n",
            "137:\tlearn: 32.1325358\ttotal: 2.28s\tremaining: 14.3s\n",
            "138:\tlearn: 32.1103315\ttotal: 2.3s\tremaining: 14.3s\n",
            "139:\tlearn: 32.0878218\ttotal: 2.32s\tremaining: 14.2s\n",
            "140:\tlearn: 32.0731538\ttotal: 2.33s\tremaining: 14.2s\n",
            "141:\tlearn: 32.0521261\ttotal: 2.35s\tremaining: 14.2s\n",
            "142:\tlearn: 32.0300438\ttotal: 2.36s\tremaining: 14.1s\n",
            "143:\tlearn: 32.0137955\ttotal: 2.38s\tremaining: 14.1s\n",
            "144:\tlearn: 31.9943981\ttotal: 2.39s\tremaining: 14.1s\n",
            "145:\tlearn: 31.9667348\ttotal: 2.4s\tremaining: 14.1s\n",
            "146:\tlearn: 31.9398028\ttotal: 2.42s\tremaining: 14.1s\n",
            "147:\tlearn: 31.9223766\ttotal: 2.44s\tremaining: 14s\n",
            "148:\tlearn: 31.8989895\ttotal: 2.45s\tremaining: 14s\n",
            "149:\tlearn: 31.8782725\ttotal: 2.47s\tremaining: 14s\n",
            "150:\tlearn: 31.8565394\ttotal: 2.48s\tremaining: 14s\n",
            "151:\tlearn: 31.8441761\ttotal: 2.5s\tremaining: 14s\n",
            "152:\tlearn: 31.8280021\ttotal: 2.53s\tremaining: 14s\n",
            "153:\tlearn: 31.8105653\ttotal: 2.54s\tremaining: 14s\n",
            "154:\tlearn: 31.7986108\ttotal: 2.55s\tremaining: 13.9s\n",
            "155:\tlearn: 31.7741699\ttotal: 2.57s\tremaining: 13.9s\n",
            "156:\tlearn: 31.7550181\ttotal: 2.59s\tremaining: 13.9s\n",
            "157:\tlearn: 31.7310448\ttotal: 2.6s\tremaining: 13.9s\n",
            "158:\tlearn: 31.7158299\ttotal: 2.62s\tremaining: 13.8s\n",
            "159:\tlearn: 31.6996918\ttotal: 2.63s\tremaining: 13.8s\n",
            "160:\tlearn: 31.6868192\ttotal: 2.65s\tremaining: 13.8s\n",
            "161:\tlearn: 31.6669258\ttotal: 2.67s\tremaining: 13.8s\n",
            "162:\tlearn: 31.6510639\ttotal: 2.69s\tremaining: 13.8s\n",
            "163:\tlearn: 31.6407124\ttotal: 2.7s\tremaining: 13.8s\n",
            "164:\tlearn: 31.6140101\ttotal: 2.72s\tremaining: 13.8s\n",
            "165:\tlearn: 31.5913134\ttotal: 2.74s\tremaining: 13.8s\n",
            "166:\tlearn: 31.5748644\ttotal: 2.75s\tremaining: 13.7s\n",
            "167:\tlearn: 31.5522434\ttotal: 2.77s\tremaining: 13.7s\n",
            "168:\tlearn: 31.5367871\ttotal: 2.78s\tremaining: 13.7s\n",
            "169:\tlearn: 31.5276390\ttotal: 2.8s\tremaining: 13.7s\n",
            "170:\tlearn: 31.5045936\ttotal: 2.81s\tremaining: 13.6s\n",
            "171:\tlearn: 31.4930802\ttotal: 2.83s\tremaining: 13.6s\n",
            "172:\tlearn: 31.4787166\ttotal: 2.84s\tremaining: 13.6s\n",
            "173:\tlearn: 31.4646639\ttotal: 2.86s\tremaining: 13.6s\n",
            "174:\tlearn: 31.4541005\ttotal: 2.87s\tremaining: 13.5s\n",
            "175:\tlearn: 31.4362898\ttotal: 2.89s\tremaining: 13.5s\n",
            "176:\tlearn: 31.4155269\ttotal: 2.9s\tremaining: 13.5s\n",
            "177:\tlearn: 31.4001329\ttotal: 2.92s\tremaining: 13.5s\n",
            "178:\tlearn: 31.3912981\ttotal: 2.95s\tremaining: 13.5s\n",
            "179:\tlearn: 31.3799096\ttotal: 2.96s\tremaining: 13.5s\n",
            "180:\tlearn: 31.3653668\ttotal: 2.98s\tremaining: 13.5s\n",
            "181:\tlearn: 31.3523536\ttotal: 2.99s\tremaining: 13.5s\n",
            "182:\tlearn: 31.3397580\ttotal: 3.01s\tremaining: 13.4s\n",
            "183:\tlearn: 31.3225440\ttotal: 3.02s\tremaining: 13.4s\n",
            "184:\tlearn: 31.3138056\ttotal: 3.04s\tremaining: 13.4s\n",
            "185:\tlearn: 31.2881927\ttotal: 3.05s\tremaining: 13.4s\n",
            "186:\tlearn: 31.2791016\ttotal: 3.07s\tremaining: 13.3s\n",
            "187:\tlearn: 31.2662879\ttotal: 3.08s\tremaining: 13.3s\n",
            "188:\tlearn: 31.2501723\ttotal: 3.1s\tremaining: 13.3s\n",
            "189:\tlearn: 31.2257901\ttotal: 3.12s\tremaining: 13.3s\n",
            "190:\tlearn: 31.2126400\ttotal: 3.13s\tremaining: 13.3s\n",
            "191:\tlearn: 31.2006884\ttotal: 3.15s\tremaining: 13.2s\n",
            "192:\tlearn: 31.1902103\ttotal: 3.17s\tremaining: 13.2s\n",
            "193:\tlearn: 31.1727114\ttotal: 3.18s\tremaining: 13.2s\n",
            "194:\tlearn: 31.1590248\ttotal: 3.2s\tremaining: 13.2s\n",
            "195:\tlearn: 31.1388773\ttotal: 3.21s\tremaining: 13.2s\n",
            "196:\tlearn: 31.1270685\ttotal: 3.23s\tremaining: 13.2s\n",
            "197:\tlearn: 31.1116955\ttotal: 3.24s\tremaining: 13.1s\n",
            "198:\tlearn: 31.1025475\ttotal: 3.26s\tremaining: 13.1s\n",
            "199:\tlearn: 31.0897817\ttotal: 3.28s\tremaining: 13.1s\n",
            "200:\tlearn: 31.0801707\ttotal: 3.29s\tremaining: 13.1s\n",
            "201:\tlearn: 31.0593728\ttotal: 3.31s\tremaining: 13.1s\n",
            "202:\tlearn: 31.0358850\ttotal: 3.33s\tremaining: 13.1s\n",
            "203:\tlearn: 31.0265835\ttotal: 3.34s\tremaining: 13s\n",
            "204:\tlearn: 31.0148694\ttotal: 3.37s\tremaining: 13.1s\n",
            "205:\tlearn: 31.0030893\ttotal: 3.38s\tremaining: 13s\n",
            "206:\tlearn: 30.9942902\ttotal: 3.4s\tremaining: 13s\n",
            "207:\tlearn: 30.9743815\ttotal: 3.41s\tremaining: 13s\n",
            "208:\tlearn: 30.9623706\ttotal: 3.43s\tremaining: 13s\n",
            "209:\tlearn: 30.9514505\ttotal: 3.44s\tremaining: 12.9s\n",
            "210:\tlearn: 30.9386296\ttotal: 3.46s\tremaining: 12.9s\n",
            "211:\tlearn: 30.9301003\ttotal: 3.47s\tremaining: 12.9s\n",
            "212:\tlearn: 30.9136947\ttotal: 3.49s\tremaining: 12.9s\n",
            "213:\tlearn: 30.9054951\ttotal: 3.5s\tremaining: 12.9s\n",
            "214:\tlearn: 30.8924338\ttotal: 3.52s\tremaining: 12.8s\n",
            "215:\tlearn: 30.8774589\ttotal: 3.53s\tremaining: 12.8s\n",
            "216:\tlearn: 30.8648491\ttotal: 3.55s\tremaining: 12.8s\n",
            "217:\tlearn: 30.8494291\ttotal: 3.57s\tremaining: 12.8s\n",
            "218:\tlearn: 30.8365604\ttotal: 3.59s\tremaining: 12.8s\n",
            "219:\tlearn: 30.8256755\ttotal: 3.6s\tremaining: 12.8s\n",
            "220:\tlearn: 30.8119681\ttotal: 3.62s\tremaining: 12.8s\n",
            "221:\tlearn: 30.8019452\ttotal: 3.63s\tremaining: 12.7s\n",
            "222:\tlearn: 30.7926277\ttotal: 3.65s\tremaining: 12.7s\n",
            "223:\tlearn: 30.7833084\ttotal: 3.67s\tremaining: 12.7s\n",
            "224:\tlearn: 30.7651538\ttotal: 3.69s\tremaining: 12.7s\n",
            "225:\tlearn: 30.7541477\ttotal: 3.71s\tremaining: 12.7s\n",
            "226:\tlearn: 30.7367488\ttotal: 3.73s\tremaining: 12.7s\n",
            "227:\tlearn: 30.7211659\ttotal: 3.74s\tremaining: 12.7s\n",
            "228:\tlearn: 30.7136320\ttotal: 3.75s\tremaining: 12.6s\n",
            "229:\tlearn: 30.7005395\ttotal: 3.77s\tremaining: 12.6s\n",
            "230:\tlearn: 30.6912358\ttotal: 3.79s\tremaining: 12.6s\n",
            "231:\tlearn: 30.6771325\ttotal: 3.81s\tremaining: 12.6s\n",
            "232:\tlearn: 30.6594621\ttotal: 3.82s\tremaining: 12.6s\n",
            "233:\tlearn: 30.6458150\ttotal: 3.84s\tremaining: 12.6s\n",
            "234:\tlearn: 30.6363998\ttotal: 3.85s\tremaining: 12.5s\n",
            "235:\tlearn: 30.6291889\ttotal: 3.87s\tremaining: 12.5s\n",
            "236:\tlearn: 30.6167511\ttotal: 3.88s\tremaining: 12.5s\n",
            "237:\tlearn: 30.6025922\ttotal: 3.9s\tremaining: 12.5s\n",
            "238:\tlearn: 30.5921266\ttotal: 3.92s\tremaining: 12.5s\n",
            "239:\tlearn: 30.5809151\ttotal: 3.94s\tremaining: 12.5s\n",
            "240:\tlearn: 30.5666800\ttotal: 3.95s\tremaining: 12.4s\n",
            "241:\tlearn: 30.5577234\ttotal: 3.96s\tremaining: 12.4s\n",
            "242:\tlearn: 30.5525152\ttotal: 3.98s\tremaining: 12.4s\n",
            "243:\tlearn: 30.5431522\ttotal: 4s\tremaining: 12.4s\n",
            "244:\tlearn: 30.5295057\ttotal: 4.01s\tremaining: 12.4s\n",
            "245:\tlearn: 30.5177435\ttotal: 4.03s\tremaining: 12.4s\n",
            "246:\tlearn: 30.5068604\ttotal: 4.05s\tremaining: 12.3s\n",
            "247:\tlearn: 30.4995902\ttotal: 4.06s\tremaining: 12.3s\n",
            "248:\tlearn: 30.4859203\ttotal: 4.08s\tremaining: 12.3s\n",
            "249:\tlearn: 30.4785626\ttotal: 4.09s\tremaining: 12.3s\n",
            "250:\tlearn: 30.4664116\ttotal: 4.11s\tremaining: 12.3s\n",
            "251:\tlearn: 30.4568284\ttotal: 4.12s\tremaining: 12.2s\n",
            "252:\tlearn: 30.4515040\ttotal: 4.14s\tremaining: 12.2s\n",
            "253:\tlearn: 30.4381210\ttotal: 4.16s\tremaining: 12.2s\n",
            "254:\tlearn: 30.4267161\ttotal: 4.17s\tremaining: 12.2s\n",
            "255:\tlearn: 30.4113510\ttotal: 4.2s\tremaining: 12.2s\n",
            "256:\tlearn: 30.4001876\ttotal: 4.21s\tremaining: 12.2s\n",
            "257:\tlearn: 30.3894754\ttotal: 4.23s\tremaining: 12.2s\n",
            "258:\tlearn: 30.3856290\ttotal: 4.25s\tremaining: 12.2s\n",
            "259:\tlearn: 30.3765041\ttotal: 4.27s\tremaining: 12.1s\n",
            "260:\tlearn: 30.3694807\ttotal: 4.28s\tremaining: 12.1s\n",
            "261:\tlearn: 30.3602159\ttotal: 4.3s\tremaining: 12.1s\n",
            "262:\tlearn: 30.3456682\ttotal: 4.31s\tremaining: 12.1s\n",
            "263:\tlearn: 30.3325885\ttotal: 4.33s\tremaining: 12.1s\n",
            "264:\tlearn: 30.3218879\ttotal: 4.34s\tremaining: 12s\n",
            "265:\tlearn: 30.3176710\ttotal: 4.36s\tremaining: 12s\n",
            "266:\tlearn: 30.3112154\ttotal: 4.37s\tremaining: 12s\n",
            "267:\tlearn: 30.3050111\ttotal: 4.39s\tremaining: 12s\n",
            "268:\tlearn: 30.2964107\ttotal: 4.41s\tremaining: 12s\n",
            "269:\tlearn: 30.2869540\ttotal: 4.42s\tremaining: 12s\n",
            "270:\tlearn: 30.2744039\ttotal: 4.44s\tremaining: 11.9s\n",
            "271:\tlearn: 30.2632447\ttotal: 4.45s\tremaining: 11.9s\n",
            "272:\tlearn: 30.2573225\ttotal: 4.47s\tremaining: 11.9s\n",
            "273:\tlearn: 30.2486992\ttotal: 4.48s\tremaining: 11.9s\n",
            "274:\tlearn: 30.2333583\ttotal: 4.5s\tremaining: 11.9s\n",
            "275:\tlearn: 30.2181034\ttotal: 4.52s\tremaining: 11.8s\n",
            "276:\tlearn: 30.2103105\ttotal: 4.53s\tremaining: 11.8s\n",
            "277:\tlearn: 30.2010707\ttotal: 4.55s\tremaining: 11.8s\n",
            "278:\tlearn: 30.1884674\ttotal: 4.56s\tremaining: 11.8s\n",
            "279:\tlearn: 30.1773744\ttotal: 4.59s\tremaining: 11.8s\n",
            "280:\tlearn: 30.1680693\ttotal: 4.61s\tremaining: 11.8s\n",
            "281:\tlearn: 30.1587712\ttotal: 4.62s\tremaining: 11.8s\n",
            "282:\tlearn: 30.1492025\ttotal: 4.64s\tremaining: 11.8s\n",
            "283:\tlearn: 30.1404018\ttotal: 4.66s\tremaining: 11.8s\n",
            "284:\tlearn: 30.1314060\ttotal: 4.68s\tremaining: 11.8s\n",
            "285:\tlearn: 30.1237620\ttotal: 4.7s\tremaining: 11.7s\n",
            "286:\tlearn: 30.1162784\ttotal: 4.71s\tremaining: 11.7s\n",
            "287:\tlearn: 30.1083326\ttotal: 4.73s\tremaining: 11.7s\n",
            "288:\tlearn: 30.0988497\ttotal: 4.75s\tremaining: 11.7s\n",
            "289:\tlearn: 30.0928324\ttotal: 4.76s\tremaining: 11.7s\n",
            "290:\tlearn: 30.0826670\ttotal: 4.78s\tremaining: 11.6s\n",
            "291:\tlearn: 30.0765200\ttotal: 4.79s\tremaining: 11.6s\n",
            "292:\tlearn: 30.0717431\ttotal: 4.8s\tremaining: 11.6s\n",
            "293:\tlearn: 30.0592555\ttotal: 4.83s\tremaining: 11.6s\n",
            "294:\tlearn: 30.0532679\ttotal: 4.84s\tremaining: 11.6s\n",
            "295:\tlearn: 30.0462448\ttotal: 4.86s\tremaining: 11.6s\n",
            "296:\tlearn: 30.0400896\ttotal: 4.87s\tremaining: 11.5s\n",
            "297:\tlearn: 30.0334833\ttotal: 4.89s\tremaining: 11.5s\n",
            "298:\tlearn: 30.0270657\ttotal: 4.9s\tremaining: 11.5s\n",
            "299:\tlearn: 30.0203803\ttotal: 4.92s\tremaining: 11.5s\n",
            "300:\tlearn: 30.0136974\ttotal: 4.93s\tremaining: 11.5s\n",
            "301:\tlearn: 30.0052783\ttotal: 4.95s\tremaining: 11.4s\n",
            "302:\tlearn: 30.0021073\ttotal: 4.96s\tremaining: 11.4s\n",
            "303:\tlearn: 29.9965397\ttotal: 4.98s\tremaining: 11.4s\n",
            "304:\tlearn: 29.9927290\ttotal: 4.99s\tremaining: 11.4s\n",
            "305:\tlearn: 29.9875859\ttotal: 5.01s\tremaining: 11.4s\n",
            "306:\tlearn: 29.9812262\ttotal: 5.02s\tremaining: 11.3s\n",
            "307:\tlearn: 29.9741341\ttotal: 5.04s\tremaining: 11.3s\n",
            "308:\tlearn: 29.9655755\ttotal: 5.05s\tremaining: 11.3s\n",
            "309:\tlearn: 29.9593416\ttotal: 5.07s\tremaining: 11.3s\n",
            "310:\tlearn: 29.9540487\ttotal: 5.08s\tremaining: 11.3s\n",
            "311:\tlearn: 29.9488373\ttotal: 5.1s\tremaining: 11.2s\n",
            "312:\tlearn: 29.9413893\ttotal: 5.12s\tremaining: 11.2s\n",
            "313:\tlearn: 29.9380384\ttotal: 5.13s\tremaining: 11.2s\n",
            "314:\tlearn: 29.9347827\ttotal: 5.15s\tremaining: 11.2s\n",
            "315:\tlearn: 29.9211722\ttotal: 5.16s\tremaining: 11.2s\n",
            "316:\tlearn: 29.9070870\ttotal: 5.18s\tremaining: 11.2s\n",
            "317:\tlearn: 29.8996124\ttotal: 5.19s\tremaining: 11.1s\n",
            "318:\tlearn: 29.8890878\ttotal: 5.21s\tremaining: 11.1s\n",
            "319:\tlearn: 29.8829472\ttotal: 5.23s\tremaining: 11.1s\n",
            "320:\tlearn: 29.8737971\ttotal: 5.25s\tremaining: 11.1s\n",
            "321:\tlearn: 29.8593052\ttotal: 5.26s\tremaining: 11.1s\n",
            "322:\tlearn: 29.8547193\ttotal: 5.28s\tremaining: 11.1s\n",
            "323:\tlearn: 29.8496616\ttotal: 5.3s\tremaining: 11.1s\n",
            "324:\tlearn: 29.8426556\ttotal: 5.32s\tremaining: 11s\n",
            "325:\tlearn: 29.8376197\ttotal: 5.33s\tremaining: 11s\n",
            "326:\tlearn: 29.8304671\ttotal: 5.34s\tremaining: 11s\n",
            "327:\tlearn: 29.8241070\ttotal: 5.36s\tremaining: 11s\n",
            "328:\tlearn: 29.8190799\ttotal: 5.37s\tremaining: 11s\n",
            "329:\tlearn: 29.8128908\ttotal: 5.39s\tremaining: 10.9s\n",
            "330:\tlearn: 29.8075834\ttotal: 5.4s\tremaining: 10.9s\n",
            "331:\tlearn: 29.7999968\ttotal: 5.42s\tremaining: 10.9s\n",
            "332:\tlearn: 29.7948275\ttotal: 5.43s\tremaining: 10.9s\n",
            "333:\tlearn: 29.7893491\ttotal: 5.45s\tremaining: 10.9s\n",
            "334:\tlearn: 29.7813593\ttotal: 5.47s\tremaining: 10.9s\n",
            "335:\tlearn: 29.7697919\ttotal: 5.48s\tremaining: 10.8s\n",
            "336:\tlearn: 29.7635734\ttotal: 5.5s\tremaining: 10.8s\n",
            "337:\tlearn: 29.7572233\ttotal: 5.51s\tremaining: 10.8s\n",
            "338:\tlearn: 29.7481680\ttotal: 5.53s\tremaining: 10.8s\n",
            "339:\tlearn: 29.7420657\ttotal: 5.54s\tremaining: 10.8s\n",
            "340:\tlearn: 29.7364469\ttotal: 5.56s\tremaining: 10.7s\n",
            "341:\tlearn: 29.7305740\ttotal: 5.57s\tremaining: 10.7s\n",
            "342:\tlearn: 29.7222091\ttotal: 5.59s\tremaining: 10.7s\n",
            "343:\tlearn: 29.7163190\ttotal: 5.61s\tremaining: 10.7s\n",
            "344:\tlearn: 29.7052504\ttotal: 5.63s\tremaining: 10.7s\n",
            "345:\tlearn: 29.7000987\ttotal: 5.64s\tremaining: 10.7s\n",
            "346:\tlearn: 29.6920601\ttotal: 5.67s\tremaining: 10.7s\n",
            "347:\tlearn: 29.6827650\ttotal: 5.69s\tremaining: 10.7s\n",
            "348:\tlearn: 29.6768799\ttotal: 5.71s\tremaining: 10.6s\n",
            "349:\tlearn: 29.6704079\ttotal: 5.72s\tremaining: 10.6s\n",
            "350:\tlearn: 29.6639659\ttotal: 5.73s\tremaining: 10.6s\n",
            "351:\tlearn: 29.6564716\ttotal: 5.75s\tremaining: 10.6s\n",
            "352:\tlearn: 29.6538657\ttotal: 5.76s\tremaining: 10.6s\n",
            "353:\tlearn: 29.6428970\ttotal: 5.78s\tremaining: 10.6s\n",
            "354:\tlearn: 29.6367572\ttotal: 5.8s\tremaining: 10.5s\n",
            "355:\tlearn: 29.6339400\ttotal: 5.81s\tremaining: 10.5s\n",
            "356:\tlearn: 29.6274759\ttotal: 5.83s\tremaining: 10.5s\n",
            "357:\tlearn: 29.6228420\ttotal: 5.84s\tremaining: 10.5s\n",
            "358:\tlearn: 29.6153551\ttotal: 5.86s\tremaining: 10.5s\n",
            "359:\tlearn: 29.6096414\ttotal: 5.88s\tremaining: 10.4s\n",
            "360:\tlearn: 29.6054343\ttotal: 5.89s\tremaining: 10.4s\n",
            "361:\tlearn: 29.6024487\ttotal: 5.91s\tremaining: 10.4s\n",
            "362:\tlearn: 29.5964374\ttotal: 5.92s\tremaining: 10.4s\n",
            "363:\tlearn: 29.5913554\ttotal: 5.93s\tremaining: 10.4s\n",
            "364:\tlearn: 29.5829332\ttotal: 5.95s\tremaining: 10.4s\n",
            "365:\tlearn: 29.5779201\ttotal: 5.97s\tremaining: 10.3s\n",
            "366:\tlearn: 29.5743770\ttotal: 5.99s\tremaining: 10.3s\n",
            "367:\tlearn: 29.5698406\ttotal: 6s\tremaining: 10.3s\n",
            "368:\tlearn: 29.5666202\ttotal: 6.01s\tremaining: 10.3s\n",
            "369:\tlearn: 29.5580561\ttotal: 6.03s\tremaining: 10.3s\n",
            "370:\tlearn: 29.5542752\ttotal: 6.04s\tremaining: 10.2s\n",
            "371:\tlearn: 29.5489565\ttotal: 6.06s\tremaining: 10.2s\n",
            "372:\tlearn: 29.5429836\ttotal: 6.07s\tremaining: 10.2s\n",
            "373:\tlearn: 29.5338369\ttotal: 6.09s\tremaining: 10.2s\n",
            "374:\tlearn: 29.5263436\ttotal: 6.11s\tremaining: 10.2s\n",
            "375:\tlearn: 29.5194011\ttotal: 6.13s\tremaining: 10.2s\n",
            "376:\tlearn: 29.5141206\ttotal: 6.14s\tremaining: 10.1s\n",
            "377:\tlearn: 29.5074358\ttotal: 6.16s\tremaining: 10.1s\n",
            "378:\tlearn: 29.5032841\ttotal: 6.17s\tremaining: 10.1s\n",
            "379:\tlearn: 29.4958459\ttotal: 6.19s\tremaining: 10.1s\n",
            "380:\tlearn: 29.4906628\ttotal: 6.2s\tremaining: 10.1s\n",
            "381:\tlearn: 29.4849033\ttotal: 6.22s\tremaining: 10.1s\n",
            "382:\tlearn: 29.4777368\ttotal: 6.23s\tremaining: 10s\n",
            "383:\tlearn: 29.4736374\ttotal: 6.25s\tremaining: 10s\n",
            "384:\tlearn: 29.4682398\ttotal: 6.26s\tremaining: 10s\n",
            "385:\tlearn: 29.4592102\ttotal: 6.29s\tremaining: 10s\n",
            "386:\tlearn: 29.4544990\ttotal: 6.31s\tremaining: 9.99s\n",
            "387:\tlearn: 29.4486015\ttotal: 6.32s\tremaining: 9.97s\n",
            "388:\tlearn: 29.4404925\ttotal: 6.34s\tremaining: 9.95s\n",
            "389:\tlearn: 29.4346512\ttotal: 6.35s\tremaining: 9.94s\n",
            "390:\tlearn: 29.4303414\ttotal: 6.37s\tremaining: 9.92s\n",
            "391:\tlearn: 29.4242196\ttotal: 6.38s\tremaining: 9.9s\n",
            "392:\tlearn: 29.4157158\ttotal: 6.4s\tremaining: 9.88s\n",
            "393:\tlearn: 29.4103173\ttotal: 6.41s\tremaining: 9.86s\n",
            "394:\tlearn: 29.4024302\ttotal: 6.43s\tremaining: 9.85s\n",
            "395:\tlearn: 29.3992204\ttotal: 6.44s\tremaining: 9.83s\n",
            "396:\tlearn: 29.3953179\ttotal: 6.46s\tremaining: 9.81s\n",
            "397:\tlearn: 29.3868311\ttotal: 6.47s\tremaining: 9.79s\n",
            "398:\tlearn: 29.3809843\ttotal: 6.49s\tremaining: 9.78s\n",
            "399:\tlearn: 29.3779500\ttotal: 6.51s\tremaining: 9.76s\n",
            "400:\tlearn: 29.3739199\ttotal: 6.52s\tremaining: 9.74s\n",
            "401:\tlearn: 29.3670992\ttotal: 6.54s\tremaining: 9.72s\n",
            "402:\tlearn: 29.3604654\ttotal: 6.55s\tremaining: 9.71s\n",
            "403:\tlearn: 29.3555805\ttotal: 6.57s\tremaining: 9.69s\n",
            "404:\tlearn: 29.3491061\ttotal: 6.58s\tremaining: 9.67s\n",
            "405:\tlearn: 29.3462958\ttotal: 6.6s\tremaining: 9.65s\n",
            "406:\tlearn: 29.3400413\ttotal: 6.61s\tremaining: 9.64s\n",
            "407:\tlearn: 29.3355151\ttotal: 6.63s\tremaining: 9.62s\n",
            "408:\tlearn: 29.3292219\ttotal: 6.65s\tremaining: 9.61s\n",
            "409:\tlearn: 29.3238006\ttotal: 6.68s\tremaining: 9.61s\n",
            "410:\tlearn: 29.3150370\ttotal: 6.7s\tremaining: 9.61s\n",
            "411:\tlearn: 29.3129754\ttotal: 6.72s\tremaining: 9.59s\n",
            "412:\tlearn: 29.3087838\ttotal: 6.73s\tremaining: 9.57s\n",
            "413:\tlearn: 29.3020089\ttotal: 6.75s\tremaining: 9.55s\n",
            "414:\tlearn: 29.2941433\ttotal: 6.77s\tremaining: 9.54s\n",
            "415:\tlearn: 29.2889972\ttotal: 6.78s\tremaining: 9.52s\n",
            "416:\tlearn: 29.2848123\ttotal: 6.79s\tremaining: 9.5s\n",
            "417:\tlearn: 29.2800268\ttotal: 6.81s\tremaining: 9.48s\n",
            "418:\tlearn: 29.2753199\ttotal: 6.82s\tremaining: 9.46s\n",
            "419:\tlearn: 29.2682715\ttotal: 6.84s\tremaining: 9.45s\n",
            "420:\tlearn: 29.2617557\ttotal: 6.85s\tremaining: 9.43s\n",
            "421:\tlearn: 29.2593007\ttotal: 6.87s\tremaining: 9.41s\n",
            "422:\tlearn: 29.2499336\ttotal: 6.88s\tremaining: 9.39s\n",
            "423:\tlearn: 29.2475811\ttotal: 6.9s\tremaining: 9.37s\n",
            "424:\tlearn: 29.2448075\ttotal: 6.92s\tremaining: 9.36s\n",
            "425:\tlearn: 29.2415453\ttotal: 6.94s\tremaining: 9.35s\n",
            "426:\tlearn: 29.2345558\ttotal: 6.95s\tremaining: 9.33s\n",
            "427:\tlearn: 29.2313678\ttotal: 6.97s\tremaining: 9.31s\n",
            "428:\tlearn: 29.2258586\ttotal: 6.98s\tremaining: 9.29s\n",
            "429:\tlearn: 29.2197462\ttotal: 7s\tremaining: 9.28s\n",
            "430:\tlearn: 29.2160076\ttotal: 7.01s\tremaining: 9.26s\n",
            "431:\tlearn: 29.2108159\ttotal: 7.03s\tremaining: 9.24s\n",
            "432:\tlearn: 29.2079181\ttotal: 7.04s\tremaining: 9.22s\n",
            "433:\tlearn: 29.1999440\ttotal: 7.06s\tremaining: 9.21s\n",
            "434:\tlearn: 29.1966884\ttotal: 7.07s\tremaining: 9.19s\n",
            "435:\tlearn: 29.1925346\ttotal: 7.09s\tremaining: 9.17s\n",
            "436:\tlearn: 29.1875211\ttotal: 7.1s\tremaining: 9.15s\n",
            "437:\tlearn: 29.1851759\ttotal: 7.12s\tremaining: 9.14s\n",
            "438:\tlearn: 29.1783165\ttotal: 7.14s\tremaining: 9.12s\n",
            "439:\tlearn: 29.1738746\ttotal: 7.15s\tremaining: 9.1s\n",
            "440:\tlearn: 29.1683781\ttotal: 7.17s\tremaining: 9.09s\n",
            "441:\tlearn: 29.1639089\ttotal: 7.18s\tremaining: 9.07s\n",
            "442:\tlearn: 29.1602138\ttotal: 7.2s\tremaining: 9.05s\n",
            "443:\tlearn: 29.1545972\ttotal: 7.21s\tremaining: 9.03s\n",
            "444:\tlearn: 29.1491490\ttotal: 7.23s\tremaining: 9.02s\n",
            "445:\tlearn: 29.1444186\ttotal: 7.24s\tremaining: 9s\n",
            "446:\tlearn: 29.1408118\ttotal: 7.26s\tremaining: 8.98s\n",
            "447:\tlearn: 29.1380308\ttotal: 7.27s\tremaining: 8.96s\n",
            "448:\tlearn: 29.1311643\ttotal: 7.28s\tremaining: 8.94s\n",
            "449:\tlearn: 29.1267540\ttotal: 7.3s\tremaining: 8.92s\n",
            "450:\tlearn: 29.1184777\ttotal: 7.32s\tremaining: 8.91s\n",
            "451:\tlearn: 29.1133973\ttotal: 7.34s\tremaining: 8.9s\n",
            "452:\tlearn: 29.1073275\ttotal: 7.36s\tremaining: 8.88s\n",
            "453:\tlearn: 29.1028529\ttotal: 7.37s\tremaining: 8.87s\n",
            "454:\tlearn: 29.0963117\ttotal: 7.39s\tremaining: 8.85s\n",
            "455:\tlearn: 29.0911145\ttotal: 7.4s\tremaining: 8.83s\n",
            "456:\tlearn: 29.0873626\ttotal: 7.42s\tremaining: 8.81s\n",
            "457:\tlearn: 29.0822608\ttotal: 7.43s\tremaining: 8.79s\n",
            "458:\tlearn: 29.0784023\ttotal: 7.45s\tremaining: 8.78s\n",
            "459:\tlearn: 29.0740614\ttotal: 7.46s\tremaining: 8.76s\n",
            "460:\tlearn: 29.0713428\ttotal: 7.47s\tremaining: 8.74s\n",
            "461:\tlearn: 29.0636735\ttotal: 7.49s\tremaining: 8.72s\n",
            "462:\tlearn: 29.0579031\ttotal: 7.5s\tremaining: 8.7s\n",
            "463:\tlearn: 29.0541633\ttotal: 7.52s\tremaining: 8.69s\n",
            "464:\tlearn: 29.0511740\ttotal: 7.53s\tremaining: 8.67s\n",
            "465:\tlearn: 29.0474820\ttotal: 7.55s\tremaining: 8.66s\n",
            "466:\tlearn: 29.0430219\ttotal: 7.57s\tremaining: 8.64s\n",
            "467:\tlearn: 29.0383236\ttotal: 7.58s\tremaining: 8.62s\n",
            "468:\tlearn: 29.0321840\ttotal: 7.6s\tremaining: 8.6s\n",
            "469:\tlearn: 29.0273462\ttotal: 7.62s\tremaining: 8.59s\n",
            "470:\tlearn: 29.0193490\ttotal: 7.64s\tremaining: 8.58s\n",
            "471:\tlearn: 29.0149642\ttotal: 7.65s\tremaining: 8.56s\n",
            "472:\tlearn: 29.0105672\ttotal: 7.68s\tremaining: 8.56s\n",
            "473:\tlearn: 29.0018046\ttotal: 7.7s\tremaining: 8.54s\n",
            "474:\tlearn: 28.9967903\ttotal: 7.71s\tremaining: 8.52s\n",
            "475:\tlearn: 28.9876101\ttotal: 7.73s\tremaining: 8.51s\n",
            "476:\tlearn: 28.9789533\ttotal: 7.74s\tremaining: 8.49s\n",
            "477:\tlearn: 28.9743401\ttotal: 7.77s\tremaining: 8.48s\n",
            "478:\tlearn: 28.9703551\ttotal: 7.78s\tremaining: 8.47s\n",
            "479:\tlearn: 28.9651142\ttotal: 7.8s\tremaining: 8.45s\n",
            "480:\tlearn: 28.9608993\ttotal: 7.81s\tremaining: 8.43s\n",
            "481:\tlearn: 28.9557762\ttotal: 7.83s\tremaining: 8.42s\n",
            "482:\tlearn: 28.9522410\ttotal: 7.84s\tremaining: 8.4s\n",
            "483:\tlearn: 28.9455893\ttotal: 7.86s\tremaining: 8.38s\n",
            "484:\tlearn: 28.9395419\ttotal: 7.88s\tremaining: 8.36s\n",
            "485:\tlearn: 28.9363506\ttotal: 7.89s\tremaining: 8.35s\n",
            "486:\tlearn: 28.9316946\ttotal: 7.91s\tremaining: 8.33s\n",
            "487:\tlearn: 28.9270506\ttotal: 7.92s\tremaining: 8.31s\n",
            "488:\tlearn: 28.9220161\ttotal: 7.94s\tremaining: 8.29s\n",
            "489:\tlearn: 28.9181132\ttotal: 7.95s\tremaining: 8.27s\n",
            "490:\tlearn: 28.9135848\ttotal: 7.96s\tremaining: 8.26s\n",
            "491:\tlearn: 28.9099289\ttotal: 7.99s\tremaining: 8.25s\n",
            "492:\tlearn: 28.9053509\ttotal: 8.01s\tremaining: 8.23s\n",
            "493:\tlearn: 28.8995972\ttotal: 8.02s\tremaining: 8.22s\n",
            "494:\tlearn: 28.8934343\ttotal: 8.04s\tremaining: 8.2s\n",
            "495:\tlearn: 28.8898309\ttotal: 8.05s\tremaining: 8.18s\n",
            "496:\tlearn: 28.8857908\ttotal: 8.07s\tremaining: 8.17s\n",
            "497:\tlearn: 28.8818094\ttotal: 8.09s\tremaining: 8.15s\n",
            "498:\tlearn: 28.8735527\ttotal: 8.1s\tremaining: 8.13s\n",
            "499:\tlearn: 28.8699063\ttotal: 8.12s\tremaining: 8.12s\n",
            "500:\tlearn: 28.8666629\ttotal: 8.13s\tremaining: 8.1s\n",
            "501:\tlearn: 28.8584753\ttotal: 8.15s\tremaining: 8.08s\n",
            "502:\tlearn: 28.8515273\ttotal: 8.16s\tremaining: 8.06s\n",
            "503:\tlearn: 28.8475545\ttotal: 8.18s\tremaining: 8.05s\n",
            "504:\tlearn: 28.8422148\ttotal: 8.2s\tremaining: 8.03s\n",
            "505:\tlearn: 28.8386466\ttotal: 8.21s\tremaining: 8.02s\n",
            "506:\tlearn: 28.8311283\ttotal: 8.23s\tremaining: 8s\n",
            "507:\tlearn: 28.8273559\ttotal: 8.24s\tremaining: 7.98s\n",
            "508:\tlearn: 28.8248756\ttotal: 8.26s\tremaining: 7.97s\n",
            "509:\tlearn: 28.8206016\ttotal: 8.27s\tremaining: 7.95s\n",
            "510:\tlearn: 28.8097255\ttotal: 8.29s\tremaining: 7.94s\n",
            "511:\tlearn: 28.8066510\ttotal: 8.31s\tremaining: 7.92s\n",
            "512:\tlearn: 28.8006771\ttotal: 8.33s\tremaining: 7.9s\n",
            "513:\tlearn: 28.7979795\ttotal: 8.34s\tremaining: 7.89s\n",
            "514:\tlearn: 28.7941914\ttotal: 8.36s\tremaining: 7.87s\n",
            "515:\tlearn: 28.7879073\ttotal: 8.37s\tremaining: 7.85s\n",
            "516:\tlearn: 28.7811135\ttotal: 8.39s\tremaining: 7.83s\n",
            "517:\tlearn: 28.7729414\ttotal: 8.41s\tremaining: 7.82s\n",
            "518:\tlearn: 28.7679908\ttotal: 8.42s\tremaining: 7.81s\n",
            "519:\tlearn: 28.7613880\ttotal: 8.44s\tremaining: 7.79s\n",
            "520:\tlearn: 28.7576835\ttotal: 8.45s\tremaining: 7.77s\n",
            "521:\tlearn: 28.7541912\ttotal: 8.47s\tremaining: 7.75s\n",
            "522:\tlearn: 28.7509141\ttotal: 8.48s\tremaining: 7.74s\n",
            "523:\tlearn: 28.7472297\ttotal: 8.5s\tremaining: 7.72s\n",
            "524:\tlearn: 28.7420580\ttotal: 8.51s\tremaining: 7.7s\n",
            "525:\tlearn: 28.7360652\ttotal: 8.53s\tremaining: 7.68s\n",
            "526:\tlearn: 28.7300612\ttotal: 8.54s\tremaining: 7.67s\n",
            "527:\tlearn: 28.7276810\ttotal: 8.56s\tremaining: 7.65s\n",
            "528:\tlearn: 28.7254001\ttotal: 8.57s\tremaining: 7.63s\n",
            "529:\tlearn: 28.7206519\ttotal: 8.59s\tremaining: 7.62s\n",
            "530:\tlearn: 28.7175745\ttotal: 8.6s\tremaining: 7.6s\n",
            "531:\tlearn: 28.7107798\ttotal: 8.63s\tremaining: 7.59s\n",
            "532:\tlearn: 28.7023071\ttotal: 8.65s\tremaining: 7.58s\n",
            "533:\tlearn: 28.6987569\ttotal: 8.66s\tremaining: 7.56s\n",
            "534:\tlearn: 28.6941358\ttotal: 8.69s\tremaining: 7.55s\n",
            "535:\tlearn: 28.6905539\ttotal: 8.71s\tremaining: 7.54s\n",
            "536:\tlearn: 28.6866460\ttotal: 8.72s\tremaining: 7.52s\n",
            "537:\tlearn: 28.6830432\ttotal: 8.74s\tremaining: 7.5s\n",
            "538:\tlearn: 28.6797514\ttotal: 8.75s\tremaining: 7.49s\n",
            "539:\tlearn: 28.6731631\ttotal: 8.77s\tremaining: 7.47s\n",
            "540:\tlearn: 28.6681763\ttotal: 8.78s\tremaining: 7.45s\n",
            "541:\tlearn: 28.6655548\ttotal: 8.8s\tremaining: 7.43s\n",
            "542:\tlearn: 28.6585099\ttotal: 8.81s\tremaining: 7.42s\n",
            "543:\tlearn: 28.6548598\ttotal: 8.83s\tremaining: 7.4s\n",
            "544:\tlearn: 28.6495215\ttotal: 8.85s\tremaining: 7.39s\n",
            "545:\tlearn: 28.6474777\ttotal: 8.86s\tremaining: 7.37s\n",
            "546:\tlearn: 28.6397335\ttotal: 8.88s\tremaining: 7.35s\n",
            "547:\tlearn: 28.6342150\ttotal: 8.89s\tremaining: 7.33s\n",
            "548:\tlearn: 28.6293513\ttotal: 8.91s\tremaining: 7.32s\n",
            "549:\tlearn: 28.6244619\ttotal: 8.93s\tremaining: 7.31s\n",
            "550:\tlearn: 28.6214394\ttotal: 8.94s\tremaining: 7.29s\n",
            "551:\tlearn: 28.6184819\ttotal: 8.96s\tremaining: 7.27s\n",
            "552:\tlearn: 28.6127952\ttotal: 8.97s\tremaining: 7.25s\n",
            "553:\tlearn: 28.6101685\ttotal: 8.99s\tremaining: 7.24s\n",
            "554:\tlearn: 28.6059155\ttotal: 9.01s\tremaining: 7.22s\n",
            "555:\tlearn: 28.6031117\ttotal: 9.02s\tremaining: 7.2s\n",
            "556:\tlearn: 28.6012807\ttotal: 9.04s\tremaining: 7.19s\n",
            "557:\tlearn: 28.5970604\ttotal: 9.05s\tremaining: 7.17s\n",
            "558:\tlearn: 28.5943049\ttotal: 9.07s\tremaining: 7.16s\n",
            "559:\tlearn: 28.5904125\ttotal: 9.09s\tremaining: 7.14s\n",
            "560:\tlearn: 28.5874163\ttotal: 9.1s\tremaining: 7.12s\n",
            "561:\tlearn: 28.5771110\ttotal: 9.12s\tremaining: 7.1s\n",
            "562:\tlearn: 28.5740044\ttotal: 9.13s\tremaining: 7.09s\n",
            "563:\tlearn: 28.5716262\ttotal: 9.14s\tremaining: 7.07s\n",
            "564:\tlearn: 28.5681637\ttotal: 9.16s\tremaining: 7.05s\n",
            "565:\tlearn: 28.5641534\ttotal: 9.17s\tremaining: 7.03s\n",
            "566:\tlearn: 28.5594342\ttotal: 9.19s\tremaining: 7.02s\n",
            "567:\tlearn: 28.5539198\ttotal: 9.2s\tremaining: 7s\n",
            "568:\tlearn: 28.5472837\ttotal: 9.22s\tremaining: 6.98s\n",
            "569:\tlearn: 28.5438349\ttotal: 9.25s\tremaining: 6.97s\n",
            "570:\tlearn: 28.5410349\ttotal: 9.26s\tremaining: 6.96s\n",
            "571:\tlearn: 28.5373902\ttotal: 9.28s\tremaining: 6.94s\n",
            "572:\tlearn: 28.5334081\ttotal: 9.29s\tremaining: 6.92s\n",
            "573:\tlearn: 28.5309486\ttotal: 9.31s\tremaining: 6.91s\n",
            "574:\tlearn: 28.5270700\ttotal: 9.32s\tremaining: 6.89s\n",
            "575:\tlearn: 28.5223383\ttotal: 9.34s\tremaining: 6.87s\n",
            "576:\tlearn: 28.5206234\ttotal: 9.35s\tremaining: 6.86s\n",
            "577:\tlearn: 28.5185423\ttotal: 9.37s\tremaining: 6.84s\n",
            "578:\tlearn: 28.5155408\ttotal: 9.38s\tremaining: 6.82s\n",
            "579:\tlearn: 28.5130287\ttotal: 9.39s\tremaining: 6.8s\n",
            "580:\tlearn: 28.5059179\ttotal: 9.41s\tremaining: 6.79s\n",
            "581:\tlearn: 28.5028321\ttotal: 9.43s\tremaining: 6.77s\n",
            "582:\tlearn: 28.4967717\ttotal: 9.44s\tremaining: 6.75s\n",
            "583:\tlearn: 28.4911000\ttotal: 9.46s\tremaining: 6.74s\n",
            "584:\tlearn: 28.4873108\ttotal: 9.48s\tremaining: 6.72s\n",
            "585:\tlearn: 28.4825681\ttotal: 9.49s\tremaining: 6.71s\n",
            "586:\tlearn: 28.4782730\ttotal: 9.51s\tremaining: 6.69s\n",
            "587:\tlearn: 28.4726482\ttotal: 9.52s\tremaining: 6.67s\n",
            "588:\tlearn: 28.4692446\ttotal: 9.54s\tremaining: 6.66s\n",
            "589:\tlearn: 28.4658872\ttotal: 9.55s\tremaining: 6.64s\n",
            "590:\tlearn: 28.4613339\ttotal: 9.57s\tremaining: 6.62s\n",
            "591:\tlearn: 28.4590719\ttotal: 9.59s\tremaining: 6.61s\n",
            "592:\tlearn: 28.4549691\ttotal: 9.6s\tremaining: 6.59s\n",
            "593:\tlearn: 28.4514246\ttotal: 9.62s\tremaining: 6.58s\n",
            "594:\tlearn: 28.4437839\ttotal: 9.64s\tremaining: 6.56s\n",
            "595:\tlearn: 28.4417737\ttotal: 9.65s\tremaining: 6.54s\n",
            "596:\tlearn: 28.4401448\ttotal: 9.68s\tremaining: 6.53s\n",
            "597:\tlearn: 28.4350605\ttotal: 9.7s\tremaining: 6.52s\n",
            "598:\tlearn: 28.4301961\ttotal: 9.71s\tremaining: 6.5s\n",
            "599:\tlearn: 28.4255095\ttotal: 9.73s\tremaining: 6.49s\n",
            "600:\tlearn: 28.4220508\ttotal: 9.74s\tremaining: 6.47s\n",
            "601:\tlearn: 28.4199363\ttotal: 9.76s\tremaining: 6.45s\n",
            "602:\tlearn: 28.4165965\ttotal: 9.77s\tremaining: 6.43s\n",
            "603:\tlearn: 28.4118222\ttotal: 9.79s\tremaining: 6.42s\n",
            "604:\tlearn: 28.4083858\ttotal: 9.81s\tremaining: 6.4s\n",
            "605:\tlearn: 28.4023834\ttotal: 9.82s\tremaining: 6.39s\n",
            "606:\tlearn: 28.3970376\ttotal: 9.84s\tremaining: 6.37s\n",
            "607:\tlearn: 28.3940313\ttotal: 9.85s\tremaining: 6.35s\n",
            "608:\tlearn: 28.3921219\ttotal: 9.87s\tremaining: 6.33s\n",
            "609:\tlearn: 28.3859555\ttotal: 9.89s\tremaining: 6.32s\n",
            "610:\tlearn: 28.3826184\ttotal: 9.91s\tremaining: 6.31s\n",
            "611:\tlearn: 28.3784388\ttotal: 9.93s\tremaining: 6.29s\n",
            "612:\tlearn: 28.3732249\ttotal: 9.94s\tremaining: 6.28s\n",
            "613:\tlearn: 28.3701380\ttotal: 9.96s\tremaining: 6.26s\n",
            "614:\tlearn: 28.3661985\ttotal: 9.97s\tremaining: 6.24s\n",
            "615:\tlearn: 28.3608474\ttotal: 9.99s\tremaining: 6.23s\n",
            "616:\tlearn: 28.3575288\ttotal: 10s\tremaining: 6.21s\n",
            "617:\tlearn: 28.3547782\ttotal: 10s\tremaining: 6.19s\n",
            "618:\tlearn: 28.3516362\ttotal: 10s\tremaining: 6.18s\n",
            "619:\tlearn: 28.3471295\ttotal: 10.1s\tremaining: 6.16s\n",
            "620:\tlearn: 28.3452185\ttotal: 10.1s\tremaining: 6.14s\n",
            "621:\tlearn: 28.3426183\ttotal: 10.1s\tremaining: 6.13s\n",
            "622:\tlearn: 28.3402220\ttotal: 10.1s\tremaining: 6.11s\n",
            "623:\tlearn: 28.3357007\ttotal: 10.1s\tremaining: 6.1s\n",
            "624:\tlearn: 28.3324688\ttotal: 10.1s\tremaining: 6.08s\n",
            "625:\tlearn: 28.3299076\ttotal: 10.1s\tremaining: 6.06s\n",
            "626:\tlearn: 28.3256934\ttotal: 10.2s\tremaining: 6.04s\n",
            "627:\tlearn: 28.3237438\ttotal: 10.2s\tremaining: 6.03s\n",
            "628:\tlearn: 28.3197193\ttotal: 10.2s\tremaining: 6.01s\n",
            "629:\tlearn: 28.3154774\ttotal: 10.2s\tremaining: 6s\n",
            "630:\tlearn: 28.3118672\ttotal: 10.2s\tremaining: 5.98s\n",
            "631:\tlearn: 28.3096334\ttotal: 10.2s\tremaining: 5.96s\n",
            "632:\tlearn: 28.3055525\ttotal: 10.3s\tremaining: 5.95s\n",
            "633:\tlearn: 28.3018242\ttotal: 10.3s\tremaining: 5.93s\n",
            "634:\tlearn: 28.2983873\ttotal: 10.3s\tremaining: 5.91s\n",
            "635:\tlearn: 28.2945461\ttotal: 10.3s\tremaining: 5.9s\n",
            "636:\tlearn: 28.2914886\ttotal: 10.3s\tremaining: 5.88s\n",
            "637:\tlearn: 28.2890715\ttotal: 10.3s\tremaining: 5.87s\n",
            "638:\tlearn: 28.2846630\ttotal: 10.4s\tremaining: 5.85s\n",
            "639:\tlearn: 28.2802796\ttotal: 10.4s\tremaining: 5.83s\n",
            "640:\tlearn: 28.2773925\ttotal: 10.4s\tremaining: 5.82s\n",
            "641:\tlearn: 28.2721786\ttotal: 10.4s\tremaining: 5.8s\n",
            "642:\tlearn: 28.2693926\ttotal: 10.4s\tremaining: 5.78s\n",
            "643:\tlearn: 28.2659866\ttotal: 10.4s\tremaining: 5.77s\n",
            "644:\tlearn: 28.2628489\ttotal: 10.4s\tremaining: 5.75s\n",
            "645:\tlearn: 28.2572535\ttotal: 10.5s\tremaining: 5.73s\n",
            "646:\tlearn: 28.2538447\ttotal: 10.5s\tremaining: 5.72s\n",
            "647:\tlearn: 28.2525459\ttotal: 10.5s\tremaining: 5.7s\n",
            "648:\tlearn: 28.2495670\ttotal: 10.5s\tremaining: 5.68s\n",
            "649:\tlearn: 28.2473189\ttotal: 10.5s\tremaining: 5.67s\n",
            "650:\tlearn: 28.2445683\ttotal: 10.5s\tremaining: 5.65s\n",
            "651:\tlearn: 28.2420098\ttotal: 10.6s\tremaining: 5.64s\n",
            "652:\tlearn: 28.2396636\ttotal: 10.6s\tremaining: 5.62s\n",
            "653:\tlearn: 28.2367938\ttotal: 10.6s\tremaining: 5.6s\n",
            "654:\tlearn: 28.2339869\ttotal: 10.6s\tremaining: 5.58s\n",
            "655:\tlearn: 28.2307128\ttotal: 10.6s\tremaining: 5.57s\n",
            "656:\tlearn: 28.2265984\ttotal: 10.6s\tremaining: 5.55s\n",
            "657:\tlearn: 28.2238577\ttotal: 10.6s\tremaining: 5.53s\n",
            "658:\tlearn: 28.2193561\ttotal: 10.7s\tremaining: 5.52s\n",
            "659:\tlearn: 28.2156137\ttotal: 10.7s\tremaining: 5.51s\n",
            "660:\tlearn: 28.2113792\ttotal: 10.7s\tremaining: 5.49s\n",
            "661:\tlearn: 28.2048913\ttotal: 10.7s\tremaining: 5.48s\n",
            "662:\tlearn: 28.1997692\ttotal: 10.7s\tremaining: 5.46s\n",
            "663:\tlearn: 28.1955178\ttotal: 10.8s\tremaining: 5.44s\n",
            "664:\tlearn: 28.1919538\ttotal: 10.8s\tremaining: 5.43s\n",
            "665:\tlearn: 28.1893974\ttotal: 10.8s\tremaining: 5.41s\n",
            "666:\tlearn: 28.1876062\ttotal: 10.8s\tremaining: 5.39s\n",
            "667:\tlearn: 28.1839571\ttotal: 10.8s\tremaining: 5.38s\n",
            "668:\tlearn: 28.1813890\ttotal: 10.8s\tremaining: 5.36s\n",
            "669:\tlearn: 28.1753883\ttotal: 10.8s\tremaining: 5.34s\n",
            "670:\tlearn: 28.1737049\ttotal: 10.9s\tremaining: 5.33s\n",
            "671:\tlearn: 28.1712015\ttotal: 10.9s\tremaining: 5.31s\n",
            "672:\tlearn: 28.1682723\ttotal: 10.9s\tremaining: 5.3s\n",
            "673:\tlearn: 28.1657632\ttotal: 10.9s\tremaining: 5.28s\n",
            "674:\tlearn: 28.1614406\ttotal: 10.9s\tremaining: 5.27s\n",
            "675:\tlearn: 28.1566389\ttotal: 11s\tremaining: 5.25s\n",
            "676:\tlearn: 28.1527382\ttotal: 11s\tremaining: 5.23s\n",
            "677:\tlearn: 28.1486865\ttotal: 11s\tremaining: 5.22s\n",
            "678:\tlearn: 28.1413379\ttotal: 11s\tremaining: 5.2s\n",
            "679:\tlearn: 28.1393957\ttotal: 11s\tremaining: 5.18s\n",
            "680:\tlearn: 28.1377340\ttotal: 11s\tremaining: 5.17s\n",
            "681:\tlearn: 28.1335514\ttotal: 11s\tremaining: 5.15s\n",
            "682:\tlearn: 28.1275537\ttotal: 11.1s\tremaining: 5.13s\n",
            "683:\tlearn: 28.1239777\ttotal: 11.1s\tremaining: 5.12s\n",
            "684:\tlearn: 28.1213313\ttotal: 11.1s\tremaining: 5.1s\n",
            "685:\tlearn: 28.1178284\ttotal: 11.1s\tremaining: 5.08s\n",
            "686:\tlearn: 28.1145889\ttotal: 11.1s\tremaining: 5.07s\n",
            "687:\tlearn: 28.1107164\ttotal: 11.1s\tremaining: 5.05s\n",
            "688:\tlearn: 28.1089917\ttotal: 11.2s\tremaining: 5.04s\n",
            "689:\tlearn: 28.1073404\ttotal: 11.2s\tremaining: 5.02s\n",
            "690:\tlearn: 28.1031363\ttotal: 11.2s\tremaining: 5s\n",
            "691:\tlearn: 28.1017534\ttotal: 11.2s\tremaining: 4.99s\n",
            "692:\tlearn: 28.0979647\ttotal: 11.2s\tremaining: 4.97s\n",
            "693:\tlearn: 28.0972945\ttotal: 11.2s\tremaining: 4.95s\n",
            "694:\tlearn: 28.0942073\ttotal: 11.3s\tremaining: 4.94s\n",
            "695:\tlearn: 28.0899104\ttotal: 11.3s\tremaining: 4.92s\n",
            "696:\tlearn: 28.0868634\ttotal: 11.3s\tremaining: 4.91s\n",
            "697:\tlearn: 28.0838450\ttotal: 11.3s\tremaining: 4.89s\n",
            "698:\tlearn: 28.0832358\ttotal: 11.3s\tremaining: 4.87s\n",
            "699:\tlearn: 28.0795420\ttotal: 11.3s\tremaining: 4.86s\n",
            "700:\tlearn: 28.0765208\ttotal: 11.4s\tremaining: 4.85s\n",
            "701:\tlearn: 28.0734738\ttotal: 11.4s\tremaining: 4.83s\n",
            "702:\tlearn: 28.0688762\ttotal: 11.4s\tremaining: 4.82s\n",
            "703:\tlearn: 28.0680507\ttotal: 11.4s\tremaining: 4.8s\n",
            "704:\tlearn: 28.0670599\ttotal: 11.4s\tremaining: 4.78s\n",
            "705:\tlearn: 28.0624511\ttotal: 11.4s\tremaining: 4.77s\n",
            "706:\tlearn: 28.0603915\ttotal: 11.5s\tremaining: 4.75s\n",
            "707:\tlearn: 28.0554928\ttotal: 11.5s\tremaining: 4.73s\n",
            "708:\tlearn: 28.0536162\ttotal: 11.5s\tremaining: 4.72s\n",
            "709:\tlearn: 28.0473248\ttotal: 11.5s\tremaining: 4.7s\n",
            "710:\tlearn: 28.0453921\ttotal: 11.5s\tremaining: 4.68s\n",
            "711:\tlearn: 28.0418896\ttotal: 11.6s\tremaining: 4.67s\n",
            "712:\tlearn: 28.0371554\ttotal: 11.6s\tremaining: 4.66s\n",
            "713:\tlearn: 28.0340134\ttotal: 11.6s\tremaining: 4.64s\n",
            "714:\tlearn: 28.0307824\ttotal: 11.6s\tremaining: 4.63s\n",
            "715:\tlearn: 28.0276575\ttotal: 11.6s\tremaining: 4.61s\n",
            "716:\tlearn: 28.0252925\ttotal: 11.6s\tremaining: 4.59s\n",
            "717:\tlearn: 28.0233976\ttotal: 11.6s\tremaining: 4.58s\n",
            "718:\tlearn: 28.0193683\ttotal: 11.7s\tremaining: 4.56s\n",
            "719:\tlearn: 28.0176212\ttotal: 11.7s\tremaining: 4.55s\n",
            "720:\tlearn: 28.0118492\ttotal: 11.7s\tremaining: 4.53s\n",
            "721:\tlearn: 28.0081881\ttotal: 11.7s\tremaining: 4.51s\n",
            "722:\tlearn: 28.0049466\ttotal: 11.7s\tremaining: 4.5s\n",
            "723:\tlearn: 28.0037040\ttotal: 11.8s\tremaining: 4.48s\n",
            "724:\tlearn: 28.0015375\ttotal: 11.8s\tremaining: 4.47s\n",
            "725:\tlearn: 28.0002687\ttotal: 11.8s\tremaining: 4.45s\n",
            "726:\tlearn: 27.9979066\ttotal: 11.8s\tremaining: 4.43s\n",
            "727:\tlearn: 27.9935032\ttotal: 11.8s\tremaining: 4.42s\n",
            "728:\tlearn: 27.9899739\ttotal: 11.8s\tremaining: 4.4s\n",
            "729:\tlearn: 27.9870473\ttotal: 11.9s\tremaining: 4.39s\n",
            "730:\tlearn: 27.9837295\ttotal: 11.9s\tremaining: 4.37s\n",
            "731:\tlearn: 27.9793996\ttotal: 11.9s\tremaining: 4.35s\n",
            "732:\tlearn: 27.9751937\ttotal: 11.9s\tremaining: 4.34s\n",
            "733:\tlearn: 27.9720054\ttotal: 11.9s\tremaining: 4.32s\n",
            "734:\tlearn: 27.9688874\ttotal: 11.9s\tremaining: 4.3s\n",
            "735:\tlearn: 27.9663357\ttotal: 12s\tremaining: 4.29s\n",
            "736:\tlearn: 27.9635927\ttotal: 12s\tremaining: 4.27s\n",
            "737:\tlearn: 27.9617177\ttotal: 12s\tremaining: 4.25s\n",
            "738:\tlearn: 27.9585428\ttotal: 12s\tremaining: 4.24s\n",
            "739:\tlearn: 27.9562676\ttotal: 12s\tremaining: 4.22s\n",
            "740:\tlearn: 27.9537093\ttotal: 12s\tremaining: 4.21s\n",
            "741:\tlearn: 27.9524331\ttotal: 12s\tremaining: 4.19s\n",
            "742:\tlearn: 27.9474724\ttotal: 12.1s\tremaining: 4.17s\n",
            "743:\tlearn: 27.9446154\ttotal: 12.1s\tremaining: 4.16s\n",
            "744:\tlearn: 27.9402540\ttotal: 12.1s\tremaining: 4.14s\n",
            "745:\tlearn: 27.9383256\ttotal: 12.1s\tremaining: 4.12s\n",
            "746:\tlearn: 27.9347914\ttotal: 12.1s\tremaining: 4.11s\n",
            "747:\tlearn: 27.9324273\ttotal: 12.1s\tremaining: 4.09s\n",
            "748:\tlearn: 27.9293736\ttotal: 12.2s\tremaining: 4.07s\n",
            "749:\tlearn: 27.9274849\ttotal: 12.2s\tremaining: 4.06s\n",
            "750:\tlearn: 27.9235393\ttotal: 12.2s\tremaining: 4.04s\n",
            "751:\tlearn: 27.9197217\ttotal: 12.2s\tremaining: 4.03s\n",
            "752:\tlearn: 27.9166847\ttotal: 12.2s\tremaining: 4.01s\n",
            "753:\tlearn: 27.9148507\ttotal: 12.2s\tremaining: 4s\n",
            "754:\tlearn: 27.9099217\ttotal: 12.3s\tremaining: 3.98s\n",
            "755:\tlearn: 27.9073217\ttotal: 12.3s\tremaining: 3.96s\n",
            "756:\tlearn: 27.9044354\ttotal: 12.3s\tremaining: 3.94s\n",
            "757:\tlearn: 27.8992093\ttotal: 12.3s\tremaining: 3.93s\n",
            "758:\tlearn: 27.8966349\ttotal: 12.3s\tremaining: 3.91s\n",
            "759:\tlearn: 27.8928675\ttotal: 12.3s\tremaining: 3.9s\n",
            "760:\tlearn: 27.8912301\ttotal: 12.4s\tremaining: 3.88s\n",
            "761:\tlearn: 27.8893066\ttotal: 12.4s\tremaining: 3.86s\n",
            "762:\tlearn: 27.8862590\ttotal: 12.4s\tremaining: 3.85s\n",
            "763:\tlearn: 27.8833921\ttotal: 12.4s\tremaining: 3.83s\n",
            "764:\tlearn: 27.8810788\ttotal: 12.4s\tremaining: 3.81s\n",
            "765:\tlearn: 27.8788328\ttotal: 12.4s\tremaining: 3.8s\n",
            "766:\tlearn: 27.8760199\ttotal: 12.4s\tremaining: 3.78s\n",
            "767:\tlearn: 27.8726694\ttotal: 12.5s\tremaining: 3.77s\n",
            "768:\tlearn: 27.8688677\ttotal: 12.5s\tremaining: 3.75s\n",
            "769:\tlearn: 27.8664460\ttotal: 12.5s\tremaining: 3.74s\n",
            "770:\tlearn: 27.8650220\ttotal: 12.5s\tremaining: 3.72s\n",
            "771:\tlearn: 27.8639727\ttotal: 12.6s\tremaining: 3.71s\n",
            "772:\tlearn: 27.8593374\ttotal: 12.6s\tremaining: 3.69s\n",
            "773:\tlearn: 27.8546448\ttotal: 12.6s\tremaining: 3.67s\n",
            "774:\tlearn: 27.8506243\ttotal: 12.6s\tremaining: 3.66s\n",
            "775:\tlearn: 27.8490382\ttotal: 12.6s\tremaining: 3.64s\n",
            "776:\tlearn: 27.8467115\ttotal: 12.6s\tremaining: 3.63s\n",
            "777:\tlearn: 27.8432376\ttotal: 12.7s\tremaining: 3.61s\n",
            "778:\tlearn: 27.8391700\ttotal: 12.7s\tremaining: 3.59s\n",
            "779:\tlearn: 27.8360192\ttotal: 12.7s\tremaining: 3.58s\n",
            "780:\tlearn: 27.8339239\ttotal: 12.7s\tremaining: 3.56s\n",
            "781:\tlearn: 27.8331998\ttotal: 12.7s\tremaining: 3.55s\n",
            "782:\tlearn: 27.8294904\ttotal: 12.7s\tremaining: 3.53s\n",
            "783:\tlearn: 27.8267107\ttotal: 12.8s\tremaining: 3.51s\n",
            "784:\tlearn: 27.8220818\ttotal: 12.8s\tremaining: 3.5s\n",
            "785:\tlearn: 27.8189953\ttotal: 12.8s\tremaining: 3.48s\n",
            "786:\tlearn: 27.8161707\ttotal: 12.8s\tremaining: 3.46s\n",
            "787:\tlearn: 27.8140375\ttotal: 12.8s\tremaining: 3.45s\n",
            "788:\tlearn: 27.8111397\ttotal: 12.8s\tremaining: 3.43s\n",
            "789:\tlearn: 27.8096202\ttotal: 12.8s\tremaining: 3.41s\n",
            "790:\tlearn: 27.8080754\ttotal: 12.9s\tremaining: 3.4s\n",
            "791:\tlearn: 27.8040026\ttotal: 12.9s\tremaining: 3.38s\n",
            "792:\tlearn: 27.8026240\ttotal: 12.9s\tremaining: 3.36s\n",
            "793:\tlearn: 27.7975658\ttotal: 12.9s\tremaining: 3.35s\n",
            "794:\tlearn: 27.7955288\ttotal: 12.9s\tremaining: 3.33s\n",
            "795:\tlearn: 27.7931091\ttotal: 12.9s\tremaining: 3.31s\n",
            "796:\tlearn: 27.7838926\ttotal: 13s\tremaining: 3.3s\n",
            "797:\tlearn: 27.7815093\ttotal: 13s\tremaining: 3.28s\n",
            "798:\tlearn: 27.7798441\ttotal: 13s\tremaining: 3.27s\n",
            "799:\tlearn: 27.7750019\ttotal: 13s\tremaining: 3.25s\n",
            "800:\tlearn: 27.7727237\ttotal: 13s\tremaining: 3.23s\n",
            "801:\tlearn: 27.7709601\ttotal: 13s\tremaining: 3.22s\n",
            "802:\tlearn: 27.7688633\ttotal: 13s\tremaining: 3.2s\n",
            "803:\tlearn: 27.7662190\ttotal: 13.1s\tremaining: 3.18s\n",
            "804:\tlearn: 27.7634226\ttotal: 13.1s\tremaining: 3.17s\n",
            "805:\tlearn: 27.7615725\ttotal: 13.1s\tremaining: 3.15s\n",
            "806:\tlearn: 27.7582547\ttotal: 13.1s\tremaining: 3.13s\n",
            "807:\tlearn: 27.7559274\ttotal: 13.1s\tremaining: 3.12s\n",
            "808:\tlearn: 27.7541939\ttotal: 13.1s\tremaining: 3.1s\n",
            "809:\tlearn: 27.7513398\ttotal: 13.2s\tremaining: 3.08s\n",
            "810:\tlearn: 27.7498603\ttotal: 13.2s\tremaining: 3.07s\n",
            "811:\tlearn: 27.7466956\ttotal: 13.2s\tremaining: 3.06s\n",
            "812:\tlearn: 27.7447642\ttotal: 13.2s\tremaining: 3.04s\n",
            "813:\tlearn: 27.7426427\ttotal: 13.2s\tremaining: 3.02s\n",
            "814:\tlearn: 27.7401257\ttotal: 13.2s\tremaining: 3.01s\n",
            "815:\tlearn: 27.7366455\ttotal: 13.3s\tremaining: 2.99s\n",
            "816:\tlearn: 27.7330657\ttotal: 13.3s\tremaining: 2.97s\n",
            "817:\tlearn: 27.7296281\ttotal: 13.3s\tremaining: 2.96s\n",
            "818:\tlearn: 27.7261256\ttotal: 13.3s\tremaining: 2.94s\n",
            "819:\tlearn: 27.7242791\ttotal: 13.3s\tremaining: 2.92s\n",
            "820:\tlearn: 27.7211460\ttotal: 13.3s\tremaining: 2.91s\n",
            "821:\tlearn: 27.7178110\ttotal: 13.4s\tremaining: 2.89s\n",
            "822:\tlearn: 27.7157590\ttotal: 13.4s\tremaining: 2.88s\n",
            "823:\tlearn: 27.7134129\ttotal: 13.4s\tremaining: 2.86s\n",
            "824:\tlearn: 27.7116778\ttotal: 13.4s\tremaining: 2.84s\n",
            "825:\tlearn: 27.7089437\ttotal: 13.4s\tremaining: 2.83s\n",
            "826:\tlearn: 27.7058737\ttotal: 13.4s\tremaining: 2.81s\n",
            "827:\tlearn: 27.7043585\ttotal: 13.4s\tremaining: 2.79s\n",
            "828:\tlearn: 27.7020639\ttotal: 13.5s\tremaining: 2.78s\n",
            "829:\tlearn: 27.6999089\ttotal: 13.5s\tremaining: 2.76s\n",
            "830:\tlearn: 27.6982957\ttotal: 13.5s\tremaining: 2.74s\n",
            "831:\tlearn: 27.6948048\ttotal: 13.5s\tremaining: 2.73s\n",
            "832:\tlearn: 27.6916731\ttotal: 13.5s\tremaining: 2.71s\n",
            "833:\tlearn: 27.6898484\ttotal: 13.5s\tremaining: 2.69s\n",
            "834:\tlearn: 27.6863380\ttotal: 13.6s\tremaining: 2.68s\n",
            "835:\tlearn: 27.6834245\ttotal: 13.6s\tremaining: 2.66s\n",
            "836:\tlearn: 27.6814980\ttotal: 13.6s\tremaining: 2.65s\n",
            "837:\tlearn: 27.6784914\ttotal: 13.6s\tremaining: 2.63s\n",
            "838:\tlearn: 27.6765153\ttotal: 13.6s\tremaining: 2.61s\n",
            "839:\tlearn: 27.6749082\ttotal: 13.6s\tremaining: 2.6s\n",
            "840:\tlearn: 27.6725993\ttotal: 13.7s\tremaining: 2.58s\n",
            "841:\tlearn: 27.6698608\ttotal: 13.7s\tremaining: 2.56s\n",
            "842:\tlearn: 27.6674828\ttotal: 13.7s\tremaining: 2.55s\n",
            "843:\tlearn: 27.6644604\ttotal: 13.7s\tremaining: 2.54s\n",
            "844:\tlearn: 27.6612472\ttotal: 13.7s\tremaining: 2.52s\n",
            "845:\tlearn: 27.6580300\ttotal: 13.7s\tremaining: 2.5s\n",
            "846:\tlearn: 27.6545216\ttotal: 13.8s\tremaining: 2.49s\n",
            "847:\tlearn: 27.6518163\ttotal: 13.8s\tremaining: 2.47s\n",
            "848:\tlearn: 27.6493529\ttotal: 13.8s\tremaining: 2.45s\n",
            "849:\tlearn: 27.6469544\ttotal: 13.8s\tremaining: 2.44s\n",
            "850:\tlearn: 27.6452346\ttotal: 13.8s\tremaining: 2.42s\n",
            "851:\tlearn: 27.6422778\ttotal: 13.8s\tremaining: 2.4s\n",
            "852:\tlearn: 27.6409996\ttotal: 13.9s\tremaining: 2.39s\n",
            "853:\tlearn: 27.6392477\ttotal: 13.9s\tremaining: 2.37s\n",
            "854:\tlearn: 27.6359035\ttotal: 13.9s\tremaining: 2.36s\n",
            "855:\tlearn: 27.6329137\ttotal: 13.9s\tremaining: 2.34s\n",
            "856:\tlearn: 27.6301374\ttotal: 13.9s\tremaining: 2.33s\n",
            "857:\tlearn: 27.6286816\ttotal: 13.9s\tremaining: 2.31s\n",
            "858:\tlearn: 27.6248523\ttotal: 14s\tremaining: 2.29s\n",
            "859:\tlearn: 27.6226649\ttotal: 14s\tremaining: 2.28s\n",
            "860:\tlearn: 27.6203776\ttotal: 14s\tremaining: 2.26s\n",
            "861:\tlearn: 27.6187139\ttotal: 14s\tremaining: 2.24s\n",
            "862:\tlearn: 27.6167775\ttotal: 14s\tremaining: 2.23s\n",
            "863:\tlearn: 27.6131614\ttotal: 14s\tremaining: 2.21s\n",
            "864:\tlearn: 27.6111523\ttotal: 14.1s\tremaining: 2.19s\n",
            "865:\tlearn: 27.6096873\ttotal: 14.1s\tremaining: 2.18s\n",
            "866:\tlearn: 27.6074675\ttotal: 14.1s\tremaining: 2.16s\n",
            "867:\tlearn: 27.6036611\ttotal: 14.1s\tremaining: 2.14s\n",
            "868:\tlearn: 27.6006875\ttotal: 14.1s\tremaining: 2.13s\n",
            "869:\tlearn: 27.5997932\ttotal: 14.1s\tremaining: 2.11s\n",
            "870:\tlearn: 27.5947828\ttotal: 14.1s\tremaining: 2.1s\n",
            "871:\tlearn: 27.5924506\ttotal: 14.2s\tremaining: 2.08s\n",
            "872:\tlearn: 27.5895305\ttotal: 14.2s\tremaining: 2.06s\n",
            "873:\tlearn: 27.5875344\ttotal: 14.2s\tremaining: 2.05s\n",
            "874:\tlearn: 27.5862203\ttotal: 14.2s\tremaining: 2.03s\n",
            "875:\tlearn: 27.5832459\ttotal: 14.2s\tremaining: 2.01s\n",
            "876:\tlearn: 27.5812807\ttotal: 14.2s\tremaining: 2s\n",
            "877:\tlearn: 27.5801600\ttotal: 14.3s\tremaining: 1.98s\n",
            "878:\tlearn: 27.5775542\ttotal: 14.3s\tremaining: 1.96s\n",
            "879:\tlearn: 27.5751711\ttotal: 14.3s\tremaining: 1.95s\n",
            "880:\tlearn: 27.5711036\ttotal: 14.3s\tremaining: 1.93s\n",
            "881:\tlearn: 27.5691780\ttotal: 14.3s\tremaining: 1.92s\n",
            "882:\tlearn: 27.5662749\ttotal: 14.3s\tremaining: 1.9s\n",
            "883:\tlearn: 27.5640254\ttotal: 14.4s\tremaining: 1.88s\n",
            "884:\tlearn: 27.5601750\ttotal: 14.4s\tremaining: 1.87s\n",
            "885:\tlearn: 27.5581393\ttotal: 14.4s\tremaining: 1.85s\n",
            "886:\tlearn: 27.5555587\ttotal: 14.4s\tremaining: 1.83s\n",
            "887:\tlearn: 27.5545832\ttotal: 14.4s\tremaining: 1.82s\n",
            "888:\tlearn: 27.5525768\ttotal: 14.4s\tremaining: 1.8s\n",
            "889:\tlearn: 27.5512367\ttotal: 14.4s\tremaining: 1.78s\n",
            "890:\tlearn: 27.5477721\ttotal: 14.5s\tremaining: 1.77s\n",
            "891:\tlearn: 27.5440636\ttotal: 14.5s\tremaining: 1.75s\n",
            "892:\tlearn: 27.5419504\ttotal: 14.5s\tremaining: 1.74s\n",
            "893:\tlearn: 27.5398622\ttotal: 14.5s\tremaining: 1.72s\n",
            "894:\tlearn: 27.5378190\ttotal: 14.5s\tremaining: 1.7s\n",
            "895:\tlearn: 27.5361109\ttotal: 14.5s\tremaining: 1.69s\n",
            "896:\tlearn: 27.5325897\ttotal: 14.6s\tremaining: 1.67s\n",
            "897:\tlearn: 27.5317021\ttotal: 14.6s\tremaining: 1.66s\n",
            "898:\tlearn: 27.5289569\ttotal: 14.6s\tremaining: 1.64s\n",
            "899:\tlearn: 27.5265909\ttotal: 14.6s\tremaining: 1.62s\n",
            "900:\tlearn: 27.5214358\ttotal: 14.6s\tremaining: 1.61s\n",
            "901:\tlearn: 27.5199461\ttotal: 14.6s\tremaining: 1.59s\n",
            "902:\tlearn: 27.5183581\ttotal: 14.7s\tremaining: 1.57s\n",
            "903:\tlearn: 27.5147571\ttotal: 14.7s\tremaining: 1.56s\n",
            "904:\tlearn: 27.5129638\ttotal: 14.7s\tremaining: 1.54s\n",
            "905:\tlearn: 27.5111793\ttotal: 14.7s\tremaining: 1.53s\n",
            "906:\tlearn: 27.5090843\ttotal: 14.7s\tremaining: 1.51s\n",
            "907:\tlearn: 27.5073673\ttotal: 14.8s\tremaining: 1.5s\n",
            "908:\tlearn: 27.5046490\ttotal: 14.8s\tremaining: 1.48s\n",
            "909:\tlearn: 27.5027826\ttotal: 14.8s\tremaining: 1.46s\n",
            "910:\tlearn: 27.5011625\ttotal: 14.8s\tremaining: 1.45s\n",
            "911:\tlearn: 27.4991791\ttotal: 14.8s\tremaining: 1.43s\n",
            "912:\tlearn: 27.4981117\ttotal: 14.8s\tremaining: 1.41s\n",
            "913:\tlearn: 27.4950676\ttotal: 14.8s\tremaining: 1.4s\n",
            "914:\tlearn: 27.4919539\ttotal: 14.9s\tremaining: 1.38s\n",
            "915:\tlearn: 27.4899729\ttotal: 14.9s\tremaining: 1.36s\n",
            "916:\tlearn: 27.4889161\ttotal: 14.9s\tremaining: 1.35s\n",
            "917:\tlearn: 27.4865716\ttotal: 14.9s\tremaining: 1.33s\n",
            "918:\tlearn: 27.4843334\ttotal: 14.9s\tremaining: 1.32s\n",
            "919:\tlearn: 27.4828048\ttotal: 15s\tremaining: 1.3s\n",
            "920:\tlearn: 27.4804486\ttotal: 15s\tremaining: 1.28s\n",
            "921:\tlearn: 27.4780759\ttotal: 15s\tremaining: 1.27s\n",
            "922:\tlearn: 27.4758396\ttotal: 15s\tremaining: 1.25s\n",
            "923:\tlearn: 27.4737707\ttotal: 15s\tremaining: 1.24s\n",
            "924:\tlearn: 27.4686445\ttotal: 15s\tremaining: 1.22s\n",
            "925:\tlearn: 27.4673239\ttotal: 15.1s\tremaining: 1.2s\n",
            "926:\tlearn: 27.4659011\ttotal: 15.1s\tremaining: 1.19s\n",
            "927:\tlearn: 27.4628942\ttotal: 15.1s\tremaining: 1.17s\n",
            "928:\tlearn: 27.4601868\ttotal: 15.1s\tremaining: 1.15s\n",
            "929:\tlearn: 27.4571656\ttotal: 15.1s\tremaining: 1.14s\n",
            "930:\tlearn: 27.4492319\ttotal: 15.1s\tremaining: 1.12s\n",
            "931:\tlearn: 27.4481442\ttotal: 15.1s\tremaining: 1.1s\n",
            "932:\tlearn: 27.4452324\ttotal: 15.2s\tremaining: 1.09s\n",
            "933:\tlearn: 27.4428742\ttotal: 15.2s\tremaining: 1.07s\n",
            "934:\tlearn: 27.4413458\ttotal: 15.2s\tremaining: 1.06s\n",
            "935:\tlearn: 27.4388865\ttotal: 15.2s\tremaining: 1.04s\n",
            "936:\tlearn: 27.4369047\ttotal: 15.2s\tremaining: 1.02s\n",
            "937:\tlearn: 27.4361027\ttotal: 15.2s\tremaining: 1.01s\n",
            "938:\tlearn: 27.4323043\ttotal: 15.3s\tremaining: 992ms\n",
            "939:\tlearn: 27.4308964\ttotal: 15.3s\tremaining: 975ms\n",
            "940:\tlearn: 27.4293359\ttotal: 15.3s\tremaining: 959ms\n",
            "941:\tlearn: 27.4270532\ttotal: 15.3s\tremaining: 943ms\n",
            "942:\tlearn: 27.4251903\ttotal: 15.3s\tremaining: 927ms\n",
            "943:\tlearn: 27.4234483\ttotal: 15.3s\tremaining: 910ms\n",
            "944:\tlearn: 27.4223372\ttotal: 15.4s\tremaining: 894ms\n",
            "945:\tlearn: 27.4191579\ttotal: 15.4s\tremaining: 878ms\n",
            "946:\tlearn: 27.4159955\ttotal: 15.4s\tremaining: 861ms\n",
            "947:\tlearn: 27.4144383\ttotal: 15.4s\tremaining: 845ms\n",
            "948:\tlearn: 27.4108713\ttotal: 15.4s\tremaining: 829ms\n",
            "949:\tlearn: 27.4065951\ttotal: 15.4s\tremaining: 813ms\n",
            "950:\tlearn: 27.4008828\ttotal: 15.5s\tremaining: 796ms\n",
            "951:\tlearn: 27.3990731\ttotal: 15.5s\tremaining: 780ms\n",
            "952:\tlearn: 27.3971123\ttotal: 15.5s\tremaining: 764ms\n",
            "953:\tlearn: 27.3963455\ttotal: 15.5s\tremaining: 748ms\n",
            "954:\tlearn: 27.3947237\ttotal: 15.5s\tremaining: 731ms\n",
            "955:\tlearn: 27.3929980\ttotal: 15.5s\tremaining: 715ms\n",
            "956:\tlearn: 27.3910119\ttotal: 15.6s\tremaining: 699ms\n",
            "957:\tlearn: 27.3895600\ttotal: 15.6s\tremaining: 683ms\n",
            "958:\tlearn: 27.3880683\ttotal: 15.6s\tremaining: 667ms\n",
            "959:\tlearn: 27.3847392\ttotal: 15.6s\tremaining: 650ms\n",
            "960:\tlearn: 27.3829888\ttotal: 15.6s\tremaining: 634ms\n",
            "961:\tlearn: 27.3801407\ttotal: 15.6s\tremaining: 618ms\n",
            "962:\tlearn: 27.3799744\ttotal: 15.7s\tremaining: 602ms\n",
            "963:\tlearn: 27.3792763\ttotal: 15.7s\tremaining: 585ms\n",
            "964:\tlearn: 27.3780988\ttotal: 15.7s\tremaining: 569ms\n",
            "965:\tlearn: 27.3764187\ttotal: 15.7s\tremaining: 553ms\n",
            "966:\tlearn: 27.3748035\ttotal: 15.7s\tremaining: 537ms\n",
            "967:\tlearn: 27.3738587\ttotal: 15.7s\tremaining: 520ms\n",
            "968:\tlearn: 27.3724422\ttotal: 15.8s\tremaining: 504ms\n",
            "969:\tlearn: 27.3696648\ttotal: 15.8s\tremaining: 488ms\n",
            "970:\tlearn: 27.3679704\ttotal: 15.8s\tremaining: 471ms\n",
            "971:\tlearn: 27.3660144\ttotal: 15.8s\tremaining: 455ms\n",
            "972:\tlearn: 27.3630164\ttotal: 15.8s\tremaining: 439ms\n",
            "973:\tlearn: 27.3586942\ttotal: 15.8s\tremaining: 423ms\n",
            "974:\tlearn: 27.3568532\ttotal: 15.8s\tremaining: 406ms\n",
            "975:\tlearn: 27.3537754\ttotal: 15.9s\tremaining: 390ms\n",
            "976:\tlearn: 27.3517787\ttotal: 15.9s\tremaining: 374ms\n",
            "977:\tlearn: 27.3504291\ttotal: 15.9s\tremaining: 358ms\n",
            "978:\tlearn: 27.3480921\ttotal: 15.9s\tremaining: 341ms\n",
            "979:\tlearn: 27.3466222\ttotal: 15.9s\tremaining: 325ms\n",
            "980:\tlearn: 27.3445504\ttotal: 16s\tremaining: 309ms\n",
            "981:\tlearn: 27.3429208\ttotal: 16s\tremaining: 293ms\n",
            "982:\tlearn: 27.3396959\ttotal: 16s\tremaining: 276ms\n",
            "983:\tlearn: 27.3373975\ttotal: 16s\tremaining: 260ms\n",
            "984:\tlearn: 27.3352352\ttotal: 16s\tremaining: 244ms\n",
            "985:\tlearn: 27.3333215\ttotal: 16s\tremaining: 228ms\n",
            "986:\tlearn: 27.3322132\ttotal: 16s\tremaining: 211ms\n",
            "987:\tlearn: 27.3307261\ttotal: 16.1s\tremaining: 195ms\n",
            "988:\tlearn: 27.3286234\ttotal: 16.1s\tremaining: 179ms\n",
            "989:\tlearn: 27.3270653\ttotal: 16.1s\tremaining: 162ms\n",
            "990:\tlearn: 27.3234724\ttotal: 16.1s\tremaining: 146ms\n",
            "991:\tlearn: 27.3209054\ttotal: 16.1s\tremaining: 130ms\n",
            "992:\tlearn: 27.3194789\ttotal: 16.1s\tremaining: 114ms\n",
            "993:\tlearn: 27.3168803\ttotal: 16.2s\tremaining: 97.5ms\n",
            "994:\tlearn: 27.3151191\ttotal: 16.2s\tremaining: 81.3ms\n",
            "995:\tlearn: 27.3118788\ttotal: 16.2s\tremaining: 65ms\n",
            "996:\tlearn: 27.3075522\ttotal: 16.2s\tremaining: 48.8ms\n",
            "997:\tlearn: 27.3055523\ttotal: 16.2s\tremaining: 32.5ms\n",
            "998:\tlearn: 27.3029925\ttotal: 16.2s\tremaining: 16.3ms\n",
            "999:\tlearn: 27.3007160\ttotal: 16.3s\tremaining: 0us\n"
          ]
        }
      ],
      "source": [
        "CBM = CatBoostRegressor()\n",
        "\n",
        "param_grid = {\n",
        "    'n_estimators': 100,\n",
        "    'max_depth': 10,\n",
        "}\n",
        "\n",
        "rmse, learning_time, prediction_time = model_assessment(CBM, param_grid, features_train_ord, target_train_ord, features_test_ord, target_test_ord)\n",
        "\n",
        "model_performance.append(['CBM', rmse, learning_time, prediction_time] )"
      ]
    },
    {
      "attachments": {},
      "cell_type": "markdown",
      "metadata": {
        "id": "OlSEhlEVeRF2"
      },
      "source": [
        "## Model Analysis"
      ]
    },
    {
      "cell_type": "code",
      "execution_count": 111,
      "metadata": {
        "id": "ZT2-TvPJeRF2"
      },
      "outputs": [],
      "source": [
        "model_performance = pd.DataFrame(model_performance, columns = ['Модель', 'RMSE',  'Время обучения', 'Время предсказания'])"
      ]
    },
    {
      "cell_type": "code",
      "execution_count": 112,
      "metadata": {
        "colab": {
          "base_uri": "https://localhost:8080/",
          "height": 237
        },
        "id": "hGHMG_CFeRF2",
        "outputId": "97b855eb-e5da-4d76-ef4a-79c7f94937fb",
        "scrolled": false
      },
      "outputs": [
        {
          "data": {
            "text/html": [
              "\n",
              "  <div id=\"df-b73b63bc-9063-408f-9028-893686a61bef\">\n",
              "    <div class=\"colab-df-container\">\n",
              "      <div>\n",
              "<style scoped>\n",
              "    .dataframe tbody tr th:only-of-type {\n",
              "        vertical-align: middle;\n",
              "    }\n",
              "\n",
              "    .dataframe tbody tr th {\n",
              "        vertical-align: top;\n",
              "    }\n",
              "\n",
              "    .dataframe thead th {\n",
              "        text-align: right;\n",
              "    }\n",
              "</style>\n",
              "<table border=\"1\" class=\"dataframe\">\n",
              "  <thead>\n",
              "    <tr style=\"text-align: right;\">\n",
              "      <th></th>\n",
              "      <th>Модель</th>\n",
              "      <th>RMSE</th>\n",
              "      <th>Время обучения</th>\n",
              "      <th>Время предсказания</th>\n",
              "    </tr>\n",
              "  </thead>\n",
              "  <tbody>\n",
              "    <tr>\n",
              "      <th>0</th>\n",
              "      <td>LR_model</td>\n",
              "      <td>53.929759</td>\n",
              "      <td>0 days 00:00:00.043562</td>\n",
              "      <td>0 days 00:00:00.006687</td>\n",
              "    </tr>\n",
              "    <tr>\n",
              "      <th>1</th>\n",
              "      <td>Decision_Tree</td>\n",
              "      <td>39.967560</td>\n",
              "      <td>0 days 00:00:00.654680</td>\n",
              "      <td>0 days 00:00:00.010381</td>\n",
              "    </tr>\n",
              "    <tr>\n",
              "      <th>2</th>\n",
              "      <td>Random_Forest</td>\n",
              "      <td>31.011185</td>\n",
              "      <td>0 days 00:00:36.645017</td>\n",
              "      <td>0 days 00:00:00.770645</td>\n",
              "    </tr>\n",
              "    <tr>\n",
              "      <th>3</th>\n",
              "      <td>LGB</td>\n",
              "      <td>30.605402</td>\n",
              "      <td>0 days 00:00:01.146951</td>\n",
              "      <td>0 days 00:00:00.107144</td>\n",
              "    </tr>\n",
              "    <tr>\n",
              "      <th>4</th>\n",
              "      <td>XGB</td>\n",
              "      <td>34.948807</td>\n",
              "      <td>0 days 00:00:05.242646</td>\n",
              "      <td>0 days 00:00:00.047156</td>\n",
              "    </tr>\n",
              "    <tr>\n",
              "      <th>5</th>\n",
              "      <td>CBM</td>\n",
              "      <td>29.143125</td>\n",
              "      <td>0 days 00:00:16.700487</td>\n",
              "      <td>0 days 00:00:00.019618</td>\n",
              "    </tr>\n",
              "  </tbody>\n",
              "</table>\n",
              "</div>\n",
              "      <button class=\"colab-df-convert\" onclick=\"convertToInteractive('df-b73b63bc-9063-408f-9028-893686a61bef')\"\n",
              "              title=\"Convert this dataframe to an interactive table.\"\n",
              "              style=\"display:none;\">\n",
              "        \n",
              "  <svg xmlns=\"http://www.w3.org/2000/svg\" height=\"24px\"viewBox=\"0 0 24 24\"\n",
              "       width=\"24px\">\n",
              "    <path d=\"M0 0h24v24H0V0z\" fill=\"none\"/>\n",
              "    <path d=\"M18.56 5.44l.94 2.06.94-2.06 2.06-.94-2.06-.94-.94-2.06-.94 2.06-2.06.94zm-11 1L8.5 8.5l.94-2.06 2.06-.94-2.06-.94L8.5 2.5l-.94 2.06-2.06.94zm10 10l.94 2.06.94-2.06 2.06-.94-2.06-.94-.94-2.06-.94 2.06-2.06.94z\"/><path d=\"M17.41 7.96l-1.37-1.37c-.4-.4-.92-.59-1.43-.59-.52 0-1.04.2-1.43.59L10.3 9.45l-7.72 7.72c-.78.78-.78 2.05 0 2.83L4 21.41c.39.39.9.59 1.41.59.51 0 1.02-.2 1.41-.59l7.78-7.78 2.81-2.81c.8-.78.8-2.07 0-2.86zM5.41 20L4 18.59l7.72-7.72 1.47 1.35L5.41 20z\"/>\n",
              "  </svg>\n",
              "      </button>\n",
              "      \n",
              "  <style>\n",
              "    .colab-df-container {\n",
              "      display:flex;\n",
              "      flex-wrap:wrap;\n",
              "      gap: 12px;\n",
              "    }\n",
              "\n",
              "    .colab-df-convert {\n",
              "      background-color: #E8F0FE;\n",
              "      border: none;\n",
              "      border-radius: 50%;\n",
              "      cursor: pointer;\n",
              "      display: none;\n",
              "      fill: #1967D2;\n",
              "      height: 32px;\n",
              "      padding: 0 0 0 0;\n",
              "      width: 32px;\n",
              "    }\n",
              "\n",
              "    .colab-df-convert:hover {\n",
              "      background-color: #E2EBFA;\n",
              "      box-shadow: 0px 1px 2px rgba(60, 64, 67, 0.3), 0px 1px 3px 1px rgba(60, 64, 67, 0.15);\n",
              "      fill: #174EA6;\n",
              "    }\n",
              "\n",
              "    [theme=dark] .colab-df-convert {\n",
              "      background-color: #3B4455;\n",
              "      fill: #D2E3FC;\n",
              "    }\n",
              "\n",
              "    [theme=dark] .colab-df-convert:hover {\n",
              "      background-color: #434B5C;\n",
              "      box-shadow: 0px 1px 3px 1px rgba(0, 0, 0, 0.15);\n",
              "      filter: drop-shadow(0px 1px 2px rgba(0, 0, 0, 0.3));\n",
              "      fill: #FFFFFF;\n",
              "    }\n",
              "  </style>\n",
              "\n",
              "      <script>\n",
              "        const buttonEl =\n",
              "          document.querySelector('#df-b73b63bc-9063-408f-9028-893686a61bef button.colab-df-convert');\n",
              "        buttonEl.style.display =\n",
              "          google.colab.kernel.accessAllowed ? 'block' : 'none';\n",
              "\n",
              "        async function convertToInteractive(key) {\n",
              "          const element = document.querySelector('#df-b73b63bc-9063-408f-9028-893686a61bef');\n",
              "          const dataTable =\n",
              "            await google.colab.kernel.invokeFunction('convertToInteractive',\n",
              "                                                     [key], {});\n",
              "          if (!dataTable) return;\n",
              "\n",
              "          const docLinkHtml = 'Like what you see? Visit the ' +\n",
              "            '<a target=\"_blank\" href=https://colab.research.google.com/notebooks/data_table.ipynb>data table notebook</a>'\n",
              "            + ' to learn more about interactive tables.';\n",
              "          element.innerHTML = '';\n",
              "          dataTable['output_type'] = 'display_data';\n",
              "          await google.colab.output.renderOutput(dataTable, element);\n",
              "          const docLink = document.createElement('div');\n",
              "          docLink.innerHTML = docLinkHtml;\n",
              "          element.appendChild(docLink);\n",
              "        }\n",
              "      </script>\n",
              "    </div>\n",
              "  </div>\n",
              "  "
            ],
            "text/plain": [
              "          Модель       RMSE         Время обучения     Время предсказания\n",
              "0       LR_model  53.929759 0 days 00:00:00.043562 0 days 00:00:00.006687\n",
              "1  Decision_Tree  39.967560 0 days 00:00:00.654680 0 days 00:00:00.010381\n",
              "2  Random_Forest  31.011185 0 days 00:00:36.645017 0 days 00:00:00.770645\n",
              "3            LGB  30.605402 0 days 00:00:01.146951 0 days 00:00:00.107144\n",
              "4            XGB  34.948807 0 days 00:00:05.242646 0 days 00:00:00.047156\n",
              "5            CBM  29.143125 0 days 00:00:16.700487 0 days 00:00:00.019618"
            ]
          },
          "execution_count": 112,
          "metadata": {},
          "output_type": "execute_result"
        }
      ],
      "source": [
        "model_performance"
      ]
    },
    {
      "attachments": {},
      "cell_type": "markdown",
      "metadata": {
        "id": "DSWBoOLxeRF2"
      },
      "source": [
        "Conclusion\n",
        "\n",
        "The CatBoost model showed the best result of the MSE metric. XGB is not far behind it. Random Forest from the sklearn library proved to be better than gradient boosting LightGBM. The decision tree and linear regression showed the worst results.\n",
        "\n",
        "Linear regression and decision tree models showed the fastest learning. Of the models based on the gradient boosting algorithm, CatBoost turned out to be the fastest in training. The account for the minutes of training went to the random forest models, SGB, and the LightGBM model trained for the longest time.\n",
        "\n",
        "According to the prediction time, the rating of the fastest models is the same, but the outsiders have changed places a little. Gradient boosting models were ahead of the random forest model.\n",
        "\n",
        "Of course, the most optimal model without any doubts and omissions is CatBoost - the best result in the shortest time!"
      ]
    }
  ],
  "metadata": {
    "ExecuteTimeLog": [
      {
        "duration": 420,
        "start_time": "2022-05-08T11:09:30.055Z"
      },
      {
        "duration": 1063,
        "start_time": "2022-05-08T11:09:49.343Z"
      },
      {
        "duration": 122,
        "start_time": "2022-05-08T11:12:24.354Z"
      },
      {
        "duration": 66,
        "start_time": "2022-05-08T11:14:41.390Z"
      },
      {
        "duration": 211,
        "start_time": "2022-05-08T11:14:46.053Z"
      },
      {
        "duration": 117,
        "start_time": "2022-05-08T11:15:43.157Z"
      },
      {
        "duration": 119,
        "start_time": "2022-05-08T11:15:50.802Z"
      },
      {
        "duration": 120,
        "start_time": "2022-05-08T11:15:55.539Z"
      },
      {
        "duration": 116,
        "start_time": "2022-05-08T11:15:59.362Z"
      },
      {
        "duration": 116,
        "start_time": "2022-05-08T11:16:07.261Z"
      },
      {
        "duration": 9,
        "start_time": "2022-05-08T11:16:40.907Z"
      },
      {
        "duration": 461,
        "start_time": "2022-05-08T11:16:45.367Z"
      },
      {
        "duration": 457,
        "start_time": "2022-05-08T11:16:58.314Z"
      },
      {
        "duration": 451,
        "start_time": "2022-05-08T11:17:07.395Z"
      },
      {
        "duration": 483,
        "start_time": "2022-05-08T11:17:11.939Z"
      },
      {
        "duration": 492,
        "start_time": "2022-05-08T11:17:26.804Z"
      },
      {
        "duration": 461,
        "start_time": "2022-05-08T11:18:48.484Z"
      },
      {
        "duration": 517,
        "start_time": "2022-05-08T11:18:54.131Z"
      },
      {
        "duration": 109,
        "start_time": "2022-05-08T11:20:26.521Z"
      },
      {
        "duration": 877,
        "start_time": "2022-05-08T12:38:13.883Z"
      },
      {
        "duration": 1173,
        "start_time": "2022-05-08T12:39:35.814Z"
      },
      {
        "duration": 820,
        "start_time": "2022-05-08T12:39:36.990Z"
      },
      {
        "duration": 134,
        "start_time": "2022-05-08T12:39:37.812Z"
      },
      {
        "duration": 136,
        "start_time": "2022-05-08T12:39:37.948Z"
      },
      {
        "duration": 500,
        "start_time": "2022-05-08T12:39:38.087Z"
      },
      {
        "duration": 497,
        "start_time": "2022-05-08T12:39:38.589Z"
      },
      {
        "duration": 101,
        "start_time": "2022-05-08T12:39:39.087Z"
      },
      {
        "duration": 0,
        "start_time": "2022-05-08T12:42:57.914Z"
      },
      {
        "duration": 3,
        "start_time": "2022-05-08T12:43:10.374Z"
      },
      {
        "duration": 747,
        "start_time": "2022-05-08T12:43:10.379Z"
      },
      {
        "duration": 124,
        "start_time": "2022-05-08T12:43:11.128Z"
      },
      {
        "duration": 123,
        "start_time": "2022-05-08T12:43:11.254Z"
      },
      {
        "duration": 418,
        "start_time": "2022-05-08T12:43:11.379Z"
      },
      {
        "duration": 420,
        "start_time": "2022-05-08T12:43:11.799Z"
      },
      {
        "duration": 92,
        "start_time": "2022-05-08T12:43:12.221Z"
      },
      {
        "duration": 413,
        "start_time": "2022-05-08T12:43:15.626Z"
      },
      {
        "duration": 0,
        "start_time": "2022-05-08T12:44:30.826Z"
      },
      {
        "duration": 3,
        "start_time": "2022-05-08T12:44:34.491Z"
      },
      {
        "duration": 1250,
        "start_time": "2022-05-08T12:44:46.970Z"
      },
      {
        "duration": 841,
        "start_time": "2022-05-08T12:44:48.222Z"
      },
      {
        "duration": 138,
        "start_time": "2022-05-08T12:44:49.065Z"
      },
      {
        "duration": 129,
        "start_time": "2022-05-08T12:44:49.205Z"
      },
      {
        "duration": 530,
        "start_time": "2022-05-08T12:44:49.336Z"
      },
      {
        "duration": 520,
        "start_time": "2022-05-08T12:44:49.868Z"
      },
      {
        "duration": 106,
        "start_time": "2022-05-08T12:44:50.390Z"
      },
      {
        "duration": 471,
        "start_time": "2022-05-08T12:44:53.466Z"
      },
      {
        "duration": 121,
        "start_time": "2022-05-08T12:46:26.858Z"
      },
      {
        "duration": 5,
        "start_time": "2022-05-08T12:46:30.296Z"
      },
      {
        "duration": 8,
        "start_time": "2022-05-08T12:47:36.422Z"
      },
      {
        "duration": 3,
        "start_time": "2022-05-08T12:47:58.967Z"
      },
      {
        "duration": 5,
        "start_time": "2022-05-08T12:48:04.995Z"
      },
      {
        "duration": 5,
        "start_time": "2022-05-08T12:49:36.209Z"
      },
      {
        "duration": 31,
        "start_time": "2022-05-08T12:50:39.700Z"
      },
      {
        "duration": 49739,
        "start_time": "2022-05-08T12:54:27.439Z"
      },
      {
        "duration": 9,
        "start_time": "2022-05-08T12:58:18.753Z"
      },
      {
        "duration": 34,
        "start_time": "2022-05-08T12:58:23.724Z"
      },
      {
        "duration": 9,
        "start_time": "2022-05-08T12:58:48.204Z"
      },
      {
        "duration": 13,
        "start_time": "2022-05-08T12:59:32.120Z"
      },
      {
        "duration": 24,
        "start_time": "2022-05-08T12:59:41.463Z"
      },
      {
        "duration": 23,
        "start_time": "2022-05-08T13:00:15.974Z"
      },
      {
        "duration": 10,
        "start_time": "2022-05-08T13:00:20.725Z"
      },
      {
        "duration": 507,
        "start_time": "2022-05-08T13:01:39.244Z"
      },
      {
        "duration": 8,
        "start_time": "2022-05-08T13:01:55.428Z"
      },
      {
        "duration": 7,
        "start_time": "2022-05-08T13:03:11.328Z"
      },
      {
        "duration": 64,
        "start_time": "2022-05-08T13:04:45.919Z"
      },
      {
        "duration": 51,
        "start_time": "2022-05-08T13:04:58.392Z"
      },
      {
        "duration": 7,
        "start_time": "2022-05-08T13:05:16.393Z"
      },
      {
        "duration": 9,
        "start_time": "2022-05-08T13:05:20.527Z"
      },
      {
        "duration": 6,
        "start_time": "2022-05-08T13:06:03.446Z"
      },
      {
        "duration": 5,
        "start_time": "2022-05-08T13:06:10.502Z"
      },
      {
        "duration": 3,
        "start_time": "2022-05-08T13:06:17.277Z"
      },
      {
        "duration": 750,
        "start_time": "2022-05-08T13:06:17.283Z"
      },
      {
        "duration": 4,
        "start_time": "2022-05-08T13:06:18.035Z"
      },
      {
        "duration": 19,
        "start_time": "2022-05-08T13:06:18.041Z"
      },
      {
        "duration": 130,
        "start_time": "2022-05-08T13:06:18.062Z"
      },
      {
        "duration": 120,
        "start_time": "2022-05-08T13:06:18.194Z"
      },
      {
        "duration": 416,
        "start_time": "2022-05-08T13:06:18.316Z"
      },
      {
        "duration": 410,
        "start_time": "2022-05-08T13:06:18.733Z"
      },
      {
        "duration": 90,
        "start_time": "2022-05-08T13:06:19.145Z"
      },
      {
        "duration": 429,
        "start_time": "2022-05-08T13:06:19.237Z"
      },
      {
        "duration": 6,
        "start_time": "2022-05-08T13:06:19.672Z"
      },
      {
        "duration": 6,
        "start_time": "2022-05-08T13:06:21.807Z"
      },
      {
        "duration": 39,
        "start_time": "2022-05-08T13:06:24.668Z"
      },
      {
        "duration": 1939,
        "start_time": "2022-05-08T13:09:40.694Z"
      },
      {
        "duration": 21,
        "start_time": "2022-05-08T13:10:40.446Z"
      },
      {
        "duration": 22,
        "start_time": "2022-05-08T13:10:46.984Z"
      },
      {
        "duration": 23,
        "start_time": "2022-05-08T13:11:13.851Z"
      },
      {
        "duration": 32,
        "start_time": "2022-05-08T13:11:47.054Z"
      },
      {
        "duration": 31,
        "start_time": "2022-05-08T13:11:55.795Z"
      },
      {
        "duration": 23,
        "start_time": "2022-05-08T13:12:01.573Z"
      },
      {
        "duration": 26,
        "start_time": "2022-05-08T13:12:20.506Z"
      },
      {
        "duration": 25,
        "start_time": "2022-05-08T13:12:25.424Z"
      },
      {
        "duration": 20,
        "start_time": "2022-05-08T13:12:38.096Z"
      },
      {
        "duration": 141,
        "start_time": "2022-05-08T13:12:43.042Z"
      },
      {
        "duration": 171,
        "start_time": "2022-05-08T13:12:54.762Z"
      },
      {
        "duration": 138,
        "start_time": "2022-05-08T13:13:29.846Z"
      },
      {
        "duration": 100,
        "start_time": "2022-05-08T13:13:50.507Z"
      },
      {
        "duration": 23,
        "start_time": "2022-05-08T13:14:01.618Z"
      },
      {
        "duration": 47,
        "start_time": "2022-05-08T13:15:00.304Z"
      },
      {
        "duration": 27,
        "start_time": "2022-05-08T13:15:43.116Z"
      },
      {
        "duration": 119,
        "start_time": "2022-05-08T13:15:53.809Z"
      },
      {
        "duration": 155,
        "start_time": "2022-05-08T13:16:03.038Z"
      },
      {
        "duration": 119,
        "start_time": "2022-05-08T13:16:06.456Z"
      },
      {
        "duration": 144,
        "start_time": "2022-05-08T13:16:11.405Z"
      },
      {
        "duration": 15,
        "start_time": "2022-05-08T13:16:18.457Z"
      },
      {
        "duration": 28,
        "start_time": "2022-05-08T13:16:21.719Z"
      },
      {
        "duration": 20,
        "start_time": "2022-05-08T13:17:15.170Z"
      },
      {
        "duration": 30,
        "start_time": "2022-05-08T13:17:19.215Z"
      },
      {
        "duration": 196,
        "start_time": "2022-05-08T13:18:01.925Z"
      },
      {
        "duration": 146,
        "start_time": "2022-05-08T13:18:16.901Z"
      },
      {
        "duration": 334,
        "start_time": "2022-05-08T13:18:23.011Z"
      },
      {
        "duration": 12341,
        "start_time": "2022-05-08T13:18:42.881Z"
      },
      {
        "duration": 10,
        "start_time": "2022-05-08T13:19:42.957Z"
      },
      {
        "duration": 28,
        "start_time": "2022-05-08T13:19:46.955Z"
      },
      {
        "duration": 53,
        "start_time": "2022-05-08T13:20:29.792Z"
      },
      {
        "duration": 11,
        "start_time": "2022-05-08T13:20:35.846Z"
      },
      {
        "duration": 9,
        "start_time": "2022-05-08T13:20:40.345Z"
      },
      {
        "duration": 11,
        "start_time": "2022-05-08T13:22:07.365Z"
      },
      {
        "duration": 23,
        "start_time": "2022-05-08T13:22:17.351Z"
      },
      {
        "duration": 24,
        "start_time": "2022-05-08T13:24:18.238Z"
      },
      {
        "duration": 37,
        "start_time": "2022-05-08T13:25:20.923Z"
      },
      {
        "duration": 42,
        "start_time": "2022-05-08T13:25:34.327Z"
      },
      {
        "duration": 46,
        "start_time": "2022-05-08T13:25:54.706Z"
      },
      {
        "duration": 12,
        "start_time": "2022-05-08T13:26:57.653Z"
      },
      {
        "duration": 9,
        "start_time": "2022-05-08T13:27:11.907Z"
      },
      {
        "duration": 47,
        "start_time": "2022-05-08T13:28:42.809Z"
      },
      {
        "duration": 1158,
        "start_time": "2022-05-08T13:28:44.425Z"
      },
      {
        "duration": 10,
        "start_time": "2022-05-08T13:29:15.463Z"
      },
      {
        "duration": 25,
        "start_time": "2022-05-08T13:29:33.812Z"
      },
      {
        "duration": 1612,
        "start_time": "2022-05-08T13:30:35.318Z"
      },
      {
        "duration": 15,
        "start_time": "2022-05-08T13:31:32.878Z"
      },
      {
        "duration": 44,
        "start_time": "2022-05-08T13:31:44.656Z"
      },
      {
        "duration": 370,
        "start_time": "2022-05-08T13:32:00.797Z"
      },
      {
        "duration": 47,
        "start_time": "2022-05-08T13:32:26.117Z"
      },
      {
        "duration": 369,
        "start_time": "2022-05-08T13:32:27.378Z"
      },
      {
        "duration": 31,
        "start_time": "2022-05-08T13:37:30.739Z"
      },
      {
        "duration": 43,
        "start_time": "2022-05-08T13:37:41.780Z"
      },
      {
        "duration": 29,
        "start_time": "2022-05-08T13:37:43.001Z"
      },
      {
        "duration": 32,
        "start_time": "2022-05-08T13:37:54.841Z"
      },
      {
        "duration": 593,
        "start_time": "2022-05-08T13:38:44.601Z"
      },
      {
        "duration": 126,
        "start_time": "2022-05-08T13:38:53.790Z"
      },
      {
        "duration": 208,
        "start_time": "2022-05-08T13:39:05.166Z"
      },
      {
        "duration": 33,
        "start_time": "2022-05-08T13:39:56.272Z"
      },
      {
        "duration": 236,
        "start_time": "2022-05-08T13:40:09.995Z"
      },
      {
        "duration": 26,
        "start_time": "2022-05-08T13:48:55.486Z"
      },
      {
        "duration": 144,
        "start_time": "2022-05-08T13:49:08.674Z"
      },
      {
        "duration": 138,
        "start_time": "2022-05-08T13:49:29.549Z"
      },
      {
        "duration": 234,
        "start_time": "2022-05-08T13:49:58.084Z"
      },
      {
        "duration": 136,
        "start_time": "2022-05-08T13:50:19.768Z"
      },
      {
        "duration": 3125,
        "start_time": "2022-05-08T14:41:50.899Z"
      },
      {
        "duration": 3034,
        "start_time": "2022-05-08T14:42:00.931Z"
      },
      {
        "duration": 510,
        "start_time": "2022-05-08T14:42:06.945Z"
      },
      {
        "duration": 215,
        "start_time": "2022-05-08T14:42:17.836Z"
      },
      {
        "duration": 162,
        "start_time": "2022-05-08T14:42:39.899Z"
      },
      {
        "duration": 162,
        "start_time": "2022-05-08T14:43:13.031Z"
      },
      {
        "duration": 189,
        "start_time": "2022-05-08T14:43:21.021Z"
      },
      {
        "duration": 179,
        "start_time": "2022-05-08T14:43:27.301Z"
      },
      {
        "duration": 189,
        "start_time": "2022-05-08T14:43:34.954Z"
      },
      {
        "duration": 185,
        "start_time": "2022-05-08T14:43:38.012Z"
      },
      {
        "duration": 206,
        "start_time": "2022-05-08T14:43:42.651Z"
      },
      {
        "duration": 186,
        "start_time": "2022-05-08T14:43:48.936Z"
      },
      {
        "duration": 195,
        "start_time": "2022-05-08T14:44:06.279Z"
      },
      {
        "duration": 149,
        "start_time": "2022-05-08T14:47:20.671Z"
      },
      {
        "duration": 179,
        "start_time": "2022-05-08T14:47:25.271Z"
      },
      {
        "duration": 9,
        "start_time": "2022-05-08T14:53:28.447Z"
      },
      {
        "duration": 159,
        "start_time": "2022-05-08T14:53:34.875Z"
      },
      {
        "duration": 620,
        "start_time": "2022-05-08T14:53:48.770Z"
      },
      {
        "duration": 438,
        "start_time": "2022-05-08T14:54:02.882Z"
      },
      {
        "duration": 141,
        "start_time": "2022-05-08T14:54:07.917Z"
      },
      {
        "duration": 3,
        "start_time": "2022-05-08T14:55:31.010Z"
      },
      {
        "duration": 11,
        "start_time": "2022-05-08T14:55:45.222Z"
      },
      {
        "duration": 49,
        "start_time": "2022-05-08T14:58:18.872Z"
      },
      {
        "duration": 128,
        "start_time": "2022-05-08T14:58:24.773Z"
      },
      {
        "duration": 137,
        "start_time": "2022-05-08T14:58:30.121Z"
      },
      {
        "duration": 3,
        "start_time": "2022-05-08T14:59:39.490Z"
      },
      {
        "duration": 758,
        "start_time": "2022-05-08T14:59:39.501Z"
      },
      {
        "duration": 12,
        "start_time": "2022-05-08T14:59:40.262Z"
      },
      {
        "duration": 6,
        "start_time": "2022-05-08T14:59:40.276Z"
      },
      {
        "duration": 140,
        "start_time": "2022-05-08T14:59:40.284Z"
      },
      {
        "duration": 127,
        "start_time": "2022-05-08T14:59:40.425Z"
      },
      {
        "duration": 436,
        "start_time": "2022-05-08T14:59:40.554Z"
      },
      {
        "duration": 423,
        "start_time": "2022-05-08T14:59:40.992Z"
      },
      {
        "duration": 92,
        "start_time": "2022-05-08T14:59:41.417Z"
      },
      {
        "duration": 440,
        "start_time": "2022-05-08T14:59:41.511Z"
      },
      {
        "duration": 43,
        "start_time": "2022-05-08T14:59:41.954Z"
      },
      {
        "duration": 156,
        "start_time": "2022-05-08T14:59:41.999Z"
      },
      {
        "duration": 185,
        "start_time": "2022-05-08T14:59:42.156Z"
      },
      {
        "duration": 10,
        "start_time": "2022-05-08T14:59:42.343Z"
      },
      {
        "duration": 170,
        "start_time": "2022-05-08T14:59:42.354Z"
      },
      {
        "duration": 92,
        "start_time": "2022-05-08T14:59:42.525Z"
      },
      {
        "duration": 156,
        "start_time": "2022-05-08T14:59:42.619Z"
      },
      {
        "duration": 5,
        "start_time": "2022-05-08T14:59:42.777Z"
      },
      {
        "duration": 8,
        "start_time": "2022-05-08T14:59:42.784Z"
      },
      {
        "duration": 49,
        "start_time": "2022-05-08T14:59:42.794Z"
      },
      {
        "duration": 990,
        "start_time": "2022-05-08T14:59:42.845Z"
      },
      {
        "duration": 20,
        "start_time": "2022-05-08T14:59:43.837Z"
      },
      {
        "duration": 59,
        "start_time": "2022-05-08T14:59:43.859Z"
      },
      {
        "duration": 9,
        "start_time": "2022-05-08T14:59:43.920Z"
      },
      {
        "duration": 69,
        "start_time": "2022-05-08T14:59:43.930Z"
      },
      {
        "duration": 1389,
        "start_time": "2022-05-08T14:59:44.001Z"
      },
      {
        "duration": 126,
        "start_time": "2022-05-08T14:59:45.391Z"
      },
      {
        "duration": 15,
        "start_time": "2022-05-08T14:59:45.519Z"
      },
      {
        "duration": 62,
        "start_time": "2022-05-08T14:59:45.537Z"
      },
      {
        "duration": 369,
        "start_time": "2022-05-08T14:59:45.601Z"
      },
      {
        "duration": 46,
        "start_time": "2022-05-08T14:59:45.972Z"
      },
      {
        "duration": 26,
        "start_time": "2022-05-08T15:00:42.901Z"
      },
      {
        "duration": 104,
        "start_time": "2022-05-08T15:04:16.948Z"
      },
      {
        "duration": 94,
        "start_time": "2022-05-08T15:04:22.663Z"
      },
      {
        "duration": 13,
        "start_time": "2022-05-08T15:04:46.541Z"
      },
      {
        "duration": 104,
        "start_time": "2022-05-08T15:06:19.187Z"
      },
      {
        "duration": 114,
        "start_time": "2022-05-08T15:06:33.813Z"
      },
      {
        "duration": 44,
        "start_time": "2022-05-08T15:07:58.902Z"
      },
      {
        "duration": 379,
        "start_time": "2022-05-08T15:08:11.856Z"
      },
      {
        "duration": 390,
        "start_time": "2022-05-08T15:08:33.075Z"
      },
      {
        "duration": 401,
        "start_time": "2022-05-08T15:08:43.692Z"
      },
      {
        "duration": 385,
        "start_time": "2022-05-08T15:08:50.541Z"
      },
      {
        "duration": 3,
        "start_time": "2022-05-08T15:08:58.481Z"
      },
      {
        "duration": 733,
        "start_time": "2022-05-08T15:08:58.488Z"
      },
      {
        "duration": 5,
        "start_time": "2022-05-08T15:08:59.223Z"
      },
      {
        "duration": 8,
        "start_time": "2022-05-08T15:08:59.229Z"
      },
      {
        "duration": 137,
        "start_time": "2022-05-08T15:08:59.238Z"
      },
      {
        "duration": 127,
        "start_time": "2022-05-08T15:08:59.377Z"
      },
      {
        "duration": 426,
        "start_time": "2022-05-08T15:08:59.505Z"
      },
      {
        "duration": 424,
        "start_time": "2022-05-08T15:08:59.933Z"
      },
      {
        "duration": 90,
        "start_time": "2022-05-08T15:09:00.358Z"
      },
      {
        "duration": 445,
        "start_time": "2022-05-08T15:09:00.449Z"
      },
      {
        "duration": 39,
        "start_time": "2022-05-08T15:09:00.897Z"
      },
      {
        "duration": 171,
        "start_time": "2022-05-08T15:09:00.938Z"
      },
      {
        "duration": 190,
        "start_time": "2022-05-08T15:09:01.110Z"
      },
      {
        "duration": 14,
        "start_time": "2022-05-08T15:09:01.301Z"
      },
      {
        "duration": 177,
        "start_time": "2022-05-08T15:09:01.317Z"
      },
      {
        "duration": 56,
        "start_time": "2022-05-08T15:09:01.496Z"
      },
      {
        "duration": 183,
        "start_time": "2022-05-08T15:09:01.554Z"
      },
      {
        "duration": 6,
        "start_time": "2022-05-08T15:09:01.739Z"
      },
      {
        "duration": 13,
        "start_time": "2022-05-08T15:09:01.747Z"
      },
      {
        "duration": 60,
        "start_time": "2022-05-08T15:09:01.762Z"
      },
      {
        "duration": 756,
        "start_time": "2022-05-08T15:09:01.824Z"
      },
      {
        "duration": 28,
        "start_time": "2022-05-08T15:09:02.582Z"
      },
      {
        "duration": 364,
        "start_time": "2022-05-08T15:09:02.612Z"
      },
      {
        "duration": 51,
        "start_time": "2022-05-08T15:09:02.978Z"
      },
      {
        "duration": 408,
        "start_time": "2022-05-08T15:09:05.658Z"
      },
      {
        "duration": 63,
        "start_time": "2022-05-08T15:13:02.108Z"
      },
      {
        "duration": 1676,
        "start_time": "2022-05-08T15:15:24.950Z"
      },
      {
        "duration": 490,
        "start_time": "2022-05-08T15:15:42.354Z"
      },
      {
        "duration": 464,
        "start_time": "2022-05-08T15:15:47.826Z"
      },
      {
        "duration": 9,
        "start_time": "2022-05-08T15:16:30.133Z"
      },
      {
        "duration": 8,
        "start_time": "2022-05-08T15:19:50.522Z"
      },
      {
        "duration": 27,
        "start_time": "2022-05-08T15:20:02.850Z"
      },
      {
        "duration": 7,
        "start_time": "2022-05-08T15:23:23.201Z"
      },
      {
        "duration": 7,
        "start_time": "2022-05-08T15:23:50.144Z"
      },
      {
        "duration": 23,
        "start_time": "2022-05-08T15:23:58.790Z"
      },
      {
        "duration": 3,
        "start_time": "2022-05-08T15:25:49.633Z"
      },
      {
        "duration": 750,
        "start_time": "2022-05-08T15:25:49.639Z"
      },
      {
        "duration": 4,
        "start_time": "2022-05-08T15:25:50.391Z"
      },
      {
        "duration": 8,
        "start_time": "2022-05-08T15:25:50.397Z"
      },
      {
        "duration": 133,
        "start_time": "2022-05-08T15:25:50.406Z"
      },
      {
        "duration": 124,
        "start_time": "2022-05-08T15:25:50.541Z"
      },
      {
        "duration": 421,
        "start_time": "2022-05-08T15:25:50.673Z"
      },
      {
        "duration": 426,
        "start_time": "2022-05-08T15:25:51.096Z"
      },
      {
        "duration": 90,
        "start_time": "2022-05-08T15:25:51.524Z"
      },
      {
        "duration": 415,
        "start_time": "2022-05-08T15:25:51.616Z"
      },
      {
        "duration": 47,
        "start_time": "2022-05-08T15:25:52.034Z"
      },
      {
        "duration": 340,
        "start_time": "2022-05-08T15:25:52.083Z"
      },
      {
        "duration": 180,
        "start_time": "2022-05-08T15:25:52.425Z"
      },
      {
        "duration": 12,
        "start_time": "2022-05-08T15:25:52.607Z"
      },
      {
        "duration": 155,
        "start_time": "2022-05-08T15:25:52.621Z"
      },
      {
        "duration": 53,
        "start_time": "2022-05-08T15:25:52.778Z"
      },
      {
        "duration": 158,
        "start_time": "2022-05-08T15:25:52.832Z"
      },
      {
        "duration": 6,
        "start_time": "2022-05-08T15:25:52.991Z"
      },
      {
        "duration": 8,
        "start_time": "2022-05-08T15:25:52.999Z"
      },
      {
        "duration": 66,
        "start_time": "2022-05-08T15:25:53.009Z"
      },
      {
        "duration": 691,
        "start_time": "2022-05-08T15:25:53.077Z"
      },
      {
        "duration": 25,
        "start_time": "2022-05-08T15:25:53.772Z"
      },
      {
        "duration": 126,
        "start_time": "2022-05-08T15:25:53.799Z"
      },
      {
        "duration": 57,
        "start_time": "2022-05-08T15:25:53.927Z"
      },
      {
        "duration": 392,
        "start_time": "2022-05-08T15:25:53.986Z"
      },
      {
        "duration": 54,
        "start_time": "2022-05-08T15:25:54.379Z"
      },
      {
        "duration": 18,
        "start_time": "2022-05-08T15:25:54.435Z"
      },
      {
        "duration": 60,
        "start_time": "2022-05-08T15:25:54.455Z"
      },
      {
        "duration": 8,
        "start_time": "2022-05-08T15:25:54.518Z"
      },
      {
        "duration": 64,
        "start_time": "2022-05-08T15:25:54.528Z"
      },
      {
        "duration": 1329,
        "start_time": "2022-05-08T15:25:54.594Z"
      },
      {
        "duration": 118,
        "start_time": "2022-05-08T15:25:55.924Z"
      },
      {
        "duration": 15,
        "start_time": "2022-05-08T15:25:56.044Z"
      },
      {
        "duration": 42,
        "start_time": "2022-05-08T15:25:56.073Z"
      },
      {
        "duration": 577,
        "start_time": "2022-05-08T15:25:56.117Z"
      },
      {
        "duration": 43,
        "start_time": "2022-05-08T15:25:56.696Z"
      },
      {
        "duration": 442,
        "start_time": "2022-05-08T15:25:56.740Z"
      },
      {
        "duration": 6,
        "start_time": "2022-05-08T15:25:57.184Z"
      },
      {
        "duration": 131,
        "start_time": "2022-05-08T15:26:02.037Z"
      },
      {
        "duration": 23,
        "start_time": "2022-05-08T15:26:04.000Z"
      },
      {
        "duration": 108,
        "start_time": "2022-05-08T15:26:09.479Z"
      },
      {
        "duration": 10,
        "start_time": "2022-05-08T15:27:54.862Z"
      },
      {
        "duration": 7,
        "start_time": "2022-05-08T15:27:59.798Z"
      },
      {
        "duration": 9,
        "start_time": "2022-05-08T15:28:21.990Z"
      },
      {
        "duration": 297,
        "start_time": "2022-05-08T15:28:26.683Z"
      },
      {
        "duration": 282,
        "start_time": "2022-05-08T15:28:31.279Z"
      },
      {
        "duration": 86,
        "start_time": "2022-05-08T15:33:39.394Z"
      },
      {
        "duration": 3,
        "start_time": "2022-05-08T15:36:44.900Z"
      },
      {
        "duration": 814,
        "start_time": "2022-05-08T15:36:44.907Z"
      },
      {
        "duration": 6,
        "start_time": "2022-05-08T15:36:45.723Z"
      },
      {
        "duration": 8,
        "start_time": "2022-05-08T15:36:45.731Z"
      },
      {
        "duration": 138,
        "start_time": "2022-05-08T15:36:45.741Z"
      },
      {
        "duration": 125,
        "start_time": "2022-05-08T15:36:45.881Z"
      },
      {
        "duration": 422,
        "start_time": "2022-05-08T15:36:46.008Z"
      },
      {
        "duration": 415,
        "start_time": "2022-05-08T15:36:46.432Z"
      },
      {
        "duration": 88,
        "start_time": "2022-05-08T15:36:46.848Z"
      },
      {
        "duration": 39,
        "start_time": "2022-05-08T15:36:46.938Z"
      },
      {
        "duration": 426,
        "start_time": "2022-05-08T15:36:46.979Z"
      },
      {
        "duration": 51,
        "start_time": "2022-05-08T15:36:47.406Z"
      },
      {
        "duration": 170,
        "start_time": "2022-05-08T15:36:47.459Z"
      },
      {
        "duration": 185,
        "start_time": "2022-05-08T15:36:47.631Z"
      },
      {
        "duration": 9,
        "start_time": "2022-05-08T15:36:47.818Z"
      },
      {
        "duration": 159,
        "start_time": "2022-05-08T15:36:47.829Z"
      },
      {
        "duration": 44,
        "start_time": "2022-05-08T15:36:47.990Z"
      },
      {
        "duration": 172,
        "start_time": "2022-05-08T15:36:48.035Z"
      },
      {
        "duration": 7,
        "start_time": "2022-05-08T15:36:48.208Z"
      },
      {
        "duration": 11,
        "start_time": "2022-05-08T15:36:48.217Z"
      },
      {
        "duration": 67,
        "start_time": "2022-05-08T15:36:48.230Z"
      },
      {
        "duration": 953,
        "start_time": "2022-05-08T15:36:48.299Z"
      },
      {
        "duration": 32,
        "start_time": "2022-05-08T15:36:49.254Z"
      },
      {
        "duration": 131,
        "start_time": "2022-05-08T15:36:49.288Z"
      },
      {
        "duration": 57,
        "start_time": "2022-05-08T15:36:49.421Z"
      },
      {
        "duration": 410,
        "start_time": "2022-05-08T15:36:49.480Z"
      },
      {
        "duration": 42,
        "start_time": "2022-05-08T15:36:49.892Z"
      },
      {
        "duration": 17,
        "start_time": "2022-05-08T15:36:49.935Z"
      },
      {
        "duration": 45,
        "start_time": "2022-05-08T15:36:49.972Z"
      },
      {
        "duration": 8,
        "start_time": "2022-05-08T15:36:50.019Z"
      },
      {
        "duration": 67,
        "start_time": "2022-05-08T15:36:50.029Z"
      },
      {
        "duration": 1343,
        "start_time": "2022-05-08T15:36:50.098Z"
      },
      {
        "duration": 117,
        "start_time": "2022-05-08T15:36:51.443Z"
      },
      {
        "duration": 20,
        "start_time": "2022-05-08T15:36:51.561Z"
      },
      {
        "duration": 40,
        "start_time": "2022-05-08T15:36:51.583Z"
      },
      {
        "duration": 377,
        "start_time": "2022-05-08T15:36:51.625Z"
      },
      {
        "duration": 42,
        "start_time": "2022-05-08T15:36:52.003Z"
      },
      {
        "duration": 448,
        "start_time": "2022-05-08T15:36:52.046Z"
      },
      {
        "duration": 7,
        "start_time": "2022-05-08T15:36:52.496Z"
      },
      {
        "duration": 140,
        "start_time": "2022-05-08T15:36:52.505Z"
      },
      {
        "duration": 3,
        "start_time": "2022-05-08T15:50:50.829Z"
      },
      {
        "duration": 743,
        "start_time": "2022-05-08T15:50:50.835Z"
      },
      {
        "duration": 5,
        "start_time": "2022-05-08T15:50:51.580Z"
      },
      {
        "duration": 7,
        "start_time": "2022-05-08T15:50:51.587Z"
      },
      {
        "duration": 141,
        "start_time": "2022-05-08T15:50:51.596Z"
      },
      {
        "duration": 126,
        "start_time": "2022-05-08T15:50:51.739Z"
      },
      {
        "duration": 412,
        "start_time": "2022-05-08T15:50:51.867Z"
      },
      {
        "duration": 396,
        "start_time": "2022-05-08T15:50:52.281Z"
      },
      {
        "duration": 81,
        "start_time": "2022-05-08T15:50:52.679Z"
      },
      {
        "duration": 26,
        "start_time": "2022-05-08T15:50:52.761Z"
      },
      {
        "duration": 649,
        "start_time": "2022-05-08T15:50:52.790Z"
      },
      {
        "duration": 42,
        "start_time": "2022-05-08T15:50:53.441Z"
      },
      {
        "duration": 136,
        "start_time": "2022-05-08T15:50:53.485Z"
      },
      {
        "duration": 179,
        "start_time": "2022-05-08T15:50:53.623Z"
      },
      {
        "duration": 9,
        "start_time": "2022-05-08T15:50:53.803Z"
      },
      {
        "duration": 153,
        "start_time": "2022-05-08T15:50:53.814Z"
      },
      {
        "duration": 32,
        "start_time": "2022-05-08T15:50:53.969Z"
      },
      {
        "duration": 158,
        "start_time": "2022-05-08T15:50:54.003Z"
      },
      {
        "duration": 12,
        "start_time": "2022-05-08T15:50:54.162Z"
      },
      {
        "duration": 6,
        "start_time": "2022-05-08T15:50:54.175Z"
      },
      {
        "duration": 29,
        "start_time": "2022-05-08T15:50:54.182Z"
      },
      {
        "duration": 697,
        "start_time": "2022-05-08T15:50:54.212Z"
      },
      {
        "duration": 21,
        "start_time": "2022-05-08T15:50:54.910Z"
      },
      {
        "duration": 134,
        "start_time": "2022-05-08T15:50:54.932Z"
      },
      {
        "duration": 32,
        "start_time": "2022-05-08T15:50:55.067Z"
      },
      {
        "duration": 393,
        "start_time": "2022-05-08T15:50:55.101Z"
      },
      {
        "duration": 26,
        "start_time": "2022-05-08T15:50:55.496Z"
      },
      {
        "duration": 12,
        "start_time": "2022-05-08T15:50:55.524Z"
      },
      {
        "duration": 63,
        "start_time": "2022-05-08T15:50:55.540Z"
      },
      {
        "duration": 8,
        "start_time": "2022-05-08T15:50:55.604Z"
      },
      {
        "duration": 23,
        "start_time": "2022-05-08T15:50:55.614Z"
      },
      {
        "duration": 1387,
        "start_time": "2022-05-08T15:50:55.639Z"
      },
      {
        "duration": 126,
        "start_time": "2022-05-08T15:50:57.028Z"
      },
      {
        "duration": 19,
        "start_time": "2022-05-08T15:50:57.156Z"
      },
      {
        "duration": 23,
        "start_time": "2022-05-08T15:50:57.177Z"
      },
      {
        "duration": 586,
        "start_time": "2022-05-08T15:50:57.202Z"
      },
      {
        "duration": 23,
        "start_time": "2022-05-08T15:50:57.790Z"
      },
      {
        "duration": 438,
        "start_time": "2022-05-08T15:50:57.815Z"
      },
      {
        "duration": 6,
        "start_time": "2022-05-08T15:50:58.255Z"
      },
      {
        "duration": 142,
        "start_time": "2022-05-08T15:50:58.263Z"
      },
      {
        "duration": 13,
        "start_time": "2022-05-08T15:53:29.973Z"
      },
      {
        "duration": 4,
        "start_time": "2022-05-08T15:55:57.998Z"
      },
      {
        "duration": 726,
        "start_time": "2022-05-08T15:55:58.004Z"
      },
      {
        "duration": 5,
        "start_time": "2022-05-08T15:55:58.732Z"
      },
      {
        "duration": 6,
        "start_time": "2022-05-08T15:55:58.739Z"
      },
      {
        "duration": 136,
        "start_time": "2022-05-08T15:55:58.747Z"
      },
      {
        "duration": 120,
        "start_time": "2022-05-08T15:55:58.885Z"
      },
      {
        "duration": 418,
        "start_time": "2022-05-08T15:55:59.007Z"
      },
      {
        "duration": 414,
        "start_time": "2022-05-08T15:55:59.427Z"
      },
      {
        "duration": 92,
        "start_time": "2022-05-08T15:55:59.843Z"
      },
      {
        "duration": 23,
        "start_time": "2022-05-08T15:55:59.937Z"
      },
      {
        "duration": 451,
        "start_time": "2022-05-08T15:55:59.975Z"
      },
      {
        "duration": 47,
        "start_time": "2022-05-08T15:56:00.428Z"
      },
      {
        "duration": 155,
        "start_time": "2022-05-08T15:56:00.477Z"
      },
      {
        "duration": 184,
        "start_time": "2022-05-08T15:56:00.634Z"
      },
      {
        "duration": 8,
        "start_time": "2022-05-08T15:56:00.820Z"
      },
      {
        "duration": 158,
        "start_time": "2022-05-08T15:56:00.830Z"
      },
      {
        "duration": 39,
        "start_time": "2022-05-08T15:56:00.990Z"
      },
      {
        "duration": 178,
        "start_time": "2022-05-08T15:56:01.031Z"
      },
      {
        "duration": 7,
        "start_time": "2022-05-08T15:56:01.211Z"
      },
      {
        "duration": 11,
        "start_time": "2022-05-08T15:56:01.221Z"
      },
      {
        "duration": 57,
        "start_time": "2022-05-08T15:56:01.234Z"
      },
      {
        "duration": 959,
        "start_time": "2022-05-08T15:56:01.293Z"
      },
      {
        "duration": 32,
        "start_time": "2022-05-08T15:56:02.254Z"
      },
      {
        "duration": 136,
        "start_time": "2022-05-08T15:56:02.288Z"
      },
      {
        "duration": 52,
        "start_time": "2022-05-08T15:56:02.426Z"
      },
      {
        "duration": 410,
        "start_time": "2022-05-08T15:56:02.480Z"
      },
      {
        "duration": 34,
        "start_time": "2022-05-08T15:56:02.892Z"
      },
      {
        "duration": 14,
        "start_time": "2022-05-08T15:56:02.928Z"
      },
      {
        "duration": 63,
        "start_time": "2022-05-08T15:56:02.946Z"
      },
      {
        "duration": 8,
        "start_time": "2022-05-08T15:56:03.010Z"
      },
      {
        "duration": 36,
        "start_time": "2022-05-08T15:56:03.020Z"
      },
      {
        "duration": 1339,
        "start_time": "2022-05-08T15:56:03.073Z"
      },
      {
        "duration": 129,
        "start_time": "2022-05-08T15:56:04.414Z"
      },
      {
        "duration": 14,
        "start_time": "2022-05-08T15:56:04.544Z"
      },
      {
        "duration": 35,
        "start_time": "2022-05-08T15:56:04.572Z"
      },
      {
        "duration": 377,
        "start_time": "2022-05-08T15:56:04.609Z"
      },
      {
        "duration": 33,
        "start_time": "2022-05-08T15:56:04.988Z"
      },
      {
        "duration": 423,
        "start_time": "2022-05-08T15:56:05.023Z"
      },
      {
        "duration": 6,
        "start_time": "2022-05-08T15:56:05.448Z"
      },
      {
        "duration": 143,
        "start_time": "2022-05-08T15:56:05.456Z"
      },
      {
        "duration": 12,
        "start_time": "2022-05-08T15:56:05.601Z"
      },
      {
        "duration": 49,
        "start_time": "2022-05-08T15:56:29.302Z"
      },
      {
        "duration": 1668,
        "start_time": "2022-05-08T15:56:54.787Z"
      },
      {
        "duration": 66,
        "start_time": "2022-05-08T15:57:04.613Z"
      },
      {
        "duration": 41,
        "start_time": "2022-05-08T15:57:13.729Z"
      },
      {
        "duration": 42,
        "start_time": "2022-05-08T15:57:43.931Z"
      },
      {
        "duration": 56,
        "start_time": "2022-05-08T16:01:48.678Z"
      },
      {
        "duration": 48,
        "start_time": "2022-05-08T16:02:00.401Z"
      },
      {
        "duration": 8,
        "start_time": "2022-05-08T16:02:36.541Z"
      },
      {
        "duration": 6,
        "start_time": "2022-05-08T16:02:43.142Z"
      },
      {
        "duration": 10,
        "start_time": "2022-05-08T16:03:02.151Z"
      },
      {
        "duration": 7,
        "start_time": "2022-05-08T16:03:08.015Z"
      },
      {
        "duration": 11,
        "start_time": "2022-05-08T16:03:37.792Z"
      },
      {
        "duration": 6,
        "start_time": "2022-05-08T16:03:39.331Z"
      },
      {
        "duration": 14,
        "start_time": "2022-05-08T16:03:47.327Z"
      },
      {
        "duration": 28,
        "start_time": "2022-05-08T16:04:32.227Z"
      },
      {
        "duration": 12,
        "start_time": "2022-05-08T16:04:55.858Z"
      },
      {
        "duration": 77,
        "start_time": "2022-05-08T16:05:03.960Z"
      },
      {
        "duration": 11,
        "start_time": "2022-05-08T16:05:54.306Z"
      },
      {
        "duration": 5,
        "start_time": "2022-05-08T16:06:06.885Z"
      },
      {
        "duration": 74,
        "start_time": "2022-05-08T16:06:14.719Z"
      },
      {
        "duration": 13,
        "start_time": "2022-05-08T16:06:22.644Z"
      },
      {
        "duration": 27,
        "start_time": "2022-05-08T16:07:18.088Z"
      },
      {
        "duration": 15,
        "start_time": "2022-05-08T16:09:03.226Z"
      },
      {
        "duration": 38,
        "start_time": "2022-05-08T16:09:21.665Z"
      },
      {
        "duration": 10,
        "start_time": "2022-05-08T16:13:35.146Z"
      },
      {
        "duration": 139,
        "start_time": "2022-05-08T16:13:39.924Z"
      },
      {
        "duration": 126,
        "start_time": "2022-05-08T16:14:11.487Z"
      },
      {
        "duration": 114,
        "start_time": "2022-05-08T16:15:09.415Z"
      },
      {
        "duration": 127,
        "start_time": "2022-05-08T16:15:43.753Z"
      },
      {
        "duration": 4186,
        "start_time": "2022-05-08T16:26:53.940Z"
      },
      {
        "duration": 4008,
        "start_time": "2022-05-08T16:27:10.219Z"
      },
      {
        "duration": 3974,
        "start_time": "2022-05-08T16:28:22.840Z"
      },
      {
        "duration": 4175,
        "start_time": "2022-05-08T16:29:16.846Z"
      },
      {
        "duration": 3895,
        "start_time": "2022-05-08T16:30:45.485Z"
      },
      {
        "duration": 46,
        "start_time": "2022-05-08T16:36:22.248Z"
      },
      {
        "duration": 46,
        "start_time": "2022-05-08T16:37:03.535Z"
      },
      {
        "duration": 32,
        "start_time": "2022-05-08T16:37:47.251Z"
      },
      {
        "duration": 21,
        "start_time": "2022-05-08T16:38:47.053Z"
      },
      {
        "duration": 31,
        "start_time": "2022-05-08T16:40:14.846Z"
      },
      {
        "duration": 38,
        "start_time": "2022-05-08T16:40:29.888Z"
      },
      {
        "duration": 30,
        "start_time": "2022-05-08T16:40:41.089Z"
      },
      {
        "duration": 26,
        "start_time": "2022-05-08T16:46:25.981Z"
      },
      {
        "duration": 19,
        "start_time": "2022-05-08T16:47:07.802Z"
      },
      {
        "duration": 25,
        "start_time": "2022-05-08T16:47:20.563Z"
      },
      {
        "duration": 26,
        "start_time": "2022-05-08T16:48:12.620Z"
      },
      {
        "duration": 28,
        "start_time": "2022-05-08T16:48:28.542Z"
      },
      {
        "duration": 69,
        "start_time": "2022-05-08T16:49:44.470Z"
      },
      {
        "duration": 57,
        "start_time": "2022-05-08T18:55:17.055Z"
      },
      {
        "duration": 1477,
        "start_time": "2022-05-08T18:55:21.307Z"
      },
      {
        "duration": 4268,
        "start_time": "2022-05-08T18:55:22.786Z"
      },
      {
        "duration": 5,
        "start_time": "2022-05-08T18:55:27.056Z"
      },
      {
        "duration": 9,
        "start_time": "2022-05-08T18:55:27.063Z"
      },
      {
        "duration": 160,
        "start_time": "2022-05-08T18:55:27.073Z"
      },
      {
        "duration": 139,
        "start_time": "2022-05-08T18:55:27.235Z"
      },
      {
        "duration": 562,
        "start_time": "2022-05-08T18:55:27.375Z"
      },
      {
        "duration": 548,
        "start_time": "2022-05-08T18:55:27.939Z"
      },
      {
        "duration": 116,
        "start_time": "2022-05-08T18:55:28.489Z"
      },
      {
        "duration": 40,
        "start_time": "2022-05-08T18:55:28.608Z"
      },
      {
        "duration": 527,
        "start_time": "2022-05-08T18:55:28.650Z"
      },
      {
        "duration": 62,
        "start_time": "2022-05-08T18:55:29.180Z"
      },
      {
        "duration": 165,
        "start_time": "2022-05-08T18:55:29.245Z"
      },
      {
        "duration": 203,
        "start_time": "2022-05-08T18:55:29.413Z"
      },
      {
        "duration": 15,
        "start_time": "2022-05-08T18:55:29.619Z"
      },
      {
        "duration": 170,
        "start_time": "2022-05-08T18:55:29.636Z"
      },
      {
        "duration": 63,
        "start_time": "2022-05-08T18:55:29.809Z"
      },
      {
        "duration": 181,
        "start_time": "2022-05-08T18:55:29.874Z"
      },
      {
        "duration": 6,
        "start_time": "2022-05-08T18:55:30.058Z"
      },
      {
        "duration": 21,
        "start_time": "2022-05-08T18:55:30.066Z"
      },
      {
        "duration": 7,
        "start_time": "2022-05-08T18:55:30.090Z"
      },
      {
        "duration": 78,
        "start_time": "2022-05-08T18:55:30.099Z"
      },
      {
        "duration": 941,
        "start_time": "2022-05-08T18:55:30.179Z"
      },
      {
        "duration": 29,
        "start_time": "2022-05-08T18:55:31.122Z"
      },
      {
        "duration": 147,
        "start_time": "2022-05-08T18:55:31.154Z"
      },
      {
        "duration": 46,
        "start_time": "2022-05-08T18:55:31.303Z"
      },
      {
        "duration": 463,
        "start_time": "2022-05-08T18:55:31.351Z"
      },
      {
        "duration": 49,
        "start_time": "2022-05-08T18:55:31.819Z"
      },
      {
        "duration": 17,
        "start_time": "2022-05-08T18:55:31.870Z"
      },
      {
        "duration": 72,
        "start_time": "2022-05-08T18:55:31.889Z"
      },
      {
        "duration": 9,
        "start_time": "2022-05-08T18:55:31.963Z"
      },
      {
        "duration": 36,
        "start_time": "2022-05-08T18:55:31.974Z"
      },
      {
        "duration": 1439,
        "start_time": "2022-05-08T18:55:32.012Z"
      },
      {
        "duration": 149,
        "start_time": "2022-05-08T18:55:33.453Z"
      },
      {
        "duration": 30,
        "start_time": "2022-05-08T18:55:33.604Z"
      },
      {
        "duration": 34,
        "start_time": "2022-05-08T18:55:33.637Z"
      },
      {
        "duration": 430,
        "start_time": "2022-05-08T18:55:33.673Z"
      },
      {
        "duration": 43,
        "start_time": "2022-05-08T18:55:34.105Z"
      },
      {
        "duration": 498,
        "start_time": "2022-05-08T18:55:34.150Z"
      },
      {
        "duration": 9,
        "start_time": "2022-05-08T18:55:34.650Z"
      },
      {
        "duration": 176,
        "start_time": "2022-05-08T18:55:34.661Z"
      },
      {
        "duration": 13,
        "start_time": "2022-05-08T18:55:34.839Z"
      },
      {
        "duration": 123,
        "start_time": "2022-05-08T18:55:34.854Z"
      },
      {
        "duration": 14,
        "start_time": "2022-05-08T18:55:34.979Z"
      },
      {
        "duration": 46,
        "start_time": "2022-05-08T18:55:34.995Z"
      },
      {
        "duration": 91,
        "start_time": "2022-05-08T18:55:35.044Z"
      },
      {
        "duration": 4664,
        "start_time": "2022-05-08T18:55:35.136Z"
      },
      {
        "duration": 36,
        "start_time": "2022-05-08T18:55:39.802Z"
      },
      {
        "duration": 30,
        "start_time": "2022-05-08T18:55:39.839Z"
      },
      {
        "duration": 200,
        "start_time": "2022-05-08T18:55:49.568Z"
      },
      {
        "duration": 9,
        "start_time": "2022-05-08T18:55:58.119Z"
      },
      {
        "duration": 196,
        "start_time": "2022-05-08T18:56:37.819Z"
      },
      {
        "duration": 9,
        "start_time": "2022-05-08T18:56:40.004Z"
      },
      {
        "duration": 207,
        "start_time": "2022-05-08T18:56:59.863Z"
      },
      {
        "duration": 13,
        "start_time": "2022-05-08T18:57:01.345Z"
      },
      {
        "duration": 32,
        "start_time": "2022-05-08T18:57:32.112Z"
      },
      {
        "duration": 30,
        "start_time": "2022-05-08T18:57:43.911Z"
      },
      {
        "duration": 235,
        "start_time": "2022-05-08T18:57:51.606Z"
      },
      {
        "duration": 257,
        "start_time": "2022-05-08T18:57:54.679Z"
      },
      {
        "duration": 18,
        "start_time": "2022-05-08T18:57:56.145Z"
      },
      {
        "duration": 257,
        "start_time": "2022-05-08T18:58:56.728Z"
      },
      {
        "duration": 17,
        "start_time": "2022-05-08T18:58:59.200Z"
      },
      {
        "duration": 286,
        "start_time": "2022-05-08T19:04:19.327Z"
      },
      {
        "duration": 85,
        "start_time": "2022-05-08T19:14:20.058Z"
      },
      {
        "duration": 26,
        "start_time": "2022-05-08T19:14:29.815Z"
      },
      {
        "duration": 25,
        "start_time": "2022-05-08T19:15:34.398Z"
      },
      {
        "duration": 28,
        "start_time": "2022-05-08T19:16:59.953Z"
      },
      {
        "duration": 27,
        "start_time": "2022-05-08T19:22:23.829Z"
      },
      {
        "duration": 28,
        "start_time": "2022-05-08T19:23:18.272Z"
      },
      {
        "duration": 26,
        "start_time": "2022-05-08T19:23:26.234Z"
      },
      {
        "duration": 30,
        "start_time": "2022-05-08T19:23:30.807Z"
      },
      {
        "duration": 27,
        "start_time": "2022-05-08T19:25:10.838Z"
      },
      {
        "duration": 160,
        "start_time": "2022-05-08T19:26:32.705Z"
      },
      {
        "duration": 202,
        "start_time": "2022-05-08T19:26:39.397Z"
      },
      {
        "duration": 3,
        "start_time": "2022-05-08T19:27:10.837Z"
      },
      {
        "duration": 856,
        "start_time": "2022-05-08T19:27:10.842Z"
      },
      {
        "duration": 5,
        "start_time": "2022-05-08T19:27:11.700Z"
      },
      {
        "duration": 12,
        "start_time": "2022-05-08T19:27:11.706Z"
      },
      {
        "duration": 147,
        "start_time": "2022-05-08T19:27:11.720Z"
      },
      {
        "duration": 137,
        "start_time": "2022-05-08T19:27:11.869Z"
      },
      {
        "duration": 467,
        "start_time": "2022-05-08T19:27:12.008Z"
      },
      {
        "duration": 438,
        "start_time": "2022-05-08T19:27:12.476Z"
      },
      {
        "duration": 467,
        "start_time": "2022-05-08T19:27:12.916Z"
      },
      {
        "duration": 106,
        "start_time": "2022-05-08T19:27:13.385Z"
      },
      {
        "duration": 41,
        "start_time": "2022-05-08T19:27:13.494Z"
      },
      {
        "duration": 477,
        "start_time": "2022-05-08T19:27:13.537Z"
      },
      {
        "duration": 42,
        "start_time": "2022-05-08T19:27:14.016Z"
      },
      {
        "duration": 167,
        "start_time": "2022-05-08T19:27:14.059Z"
      },
      {
        "duration": 198,
        "start_time": "2022-05-08T19:27:14.232Z"
      },
      {
        "duration": 10,
        "start_time": "2022-05-08T19:27:14.431Z"
      },
      {
        "duration": 176,
        "start_time": "2022-05-08T19:27:14.443Z"
      },
      {
        "duration": 37,
        "start_time": "2022-05-08T19:27:14.620Z"
      },
      {
        "duration": 176,
        "start_time": "2022-05-08T19:27:14.659Z"
      },
      {
        "duration": 5,
        "start_time": "2022-05-08T19:27:14.837Z"
      },
      {
        "duration": 13,
        "start_time": "2022-05-08T19:27:14.844Z"
      },
      {
        "duration": 6,
        "start_time": "2022-05-08T19:27:14.858Z"
      },
      {
        "duration": 68,
        "start_time": "2022-05-08T19:27:14.866Z"
      },
      {
        "duration": 907,
        "start_time": "2022-05-08T19:27:14.936Z"
      },
      {
        "duration": 24,
        "start_time": "2022-05-08T19:27:15.845Z"
      },
      {
        "duration": 150,
        "start_time": "2022-05-08T19:27:15.871Z"
      },
      {
        "duration": 45,
        "start_time": "2022-05-08T19:27:16.023Z"
      },
      {
        "duration": 472,
        "start_time": "2022-05-08T19:27:16.070Z"
      },
      {
        "duration": 39,
        "start_time": "2022-05-08T19:27:16.547Z"
      },
      {
        "duration": 17,
        "start_time": "2022-05-08T19:27:16.587Z"
      },
      {
        "duration": 71,
        "start_time": "2022-05-08T19:27:16.606Z"
      },
      {
        "duration": 8,
        "start_time": "2022-05-08T19:27:16.679Z"
      },
      {
        "duration": 56,
        "start_time": "2022-05-08T19:27:16.689Z"
      },
      {
        "duration": 1458,
        "start_time": "2022-05-08T19:27:16.748Z"
      },
      {
        "duration": 146,
        "start_time": "2022-05-08T19:27:18.207Z"
      },
      {
        "duration": 15,
        "start_time": "2022-05-08T19:27:18.354Z"
      },
      {
        "duration": 32,
        "start_time": "2022-05-08T19:27:18.370Z"
      },
      {
        "duration": 449,
        "start_time": "2022-05-08T19:27:18.404Z"
      },
      {
        "duration": 33,
        "start_time": "2022-05-08T19:27:18.854Z"
      },
      {
        "duration": 501,
        "start_time": "2022-05-08T19:27:18.889Z"
      },
      {
        "duration": 7,
        "start_time": "2022-05-08T19:27:19.392Z"
      },
      {
        "duration": 179,
        "start_time": "2022-05-08T19:27:19.401Z"
      },
      {
        "duration": 13,
        "start_time": "2022-05-08T19:27:19.582Z"
      },
      {
        "duration": 113,
        "start_time": "2022-05-08T19:27:19.596Z"
      },
      {
        "duration": 25,
        "start_time": "2022-05-08T19:27:19.710Z"
      },
      {
        "duration": 30,
        "start_time": "2022-05-08T19:27:19.736Z"
      },
      {
        "duration": 77,
        "start_time": "2022-05-08T19:27:19.768Z"
      },
      {
        "duration": 4594,
        "start_time": "2022-05-08T19:27:19.847Z"
      },
      {
        "duration": 28,
        "start_time": "2022-05-08T19:27:24.443Z"
      },
      {
        "duration": 225,
        "start_time": "2022-05-08T19:27:24.473Z"
      },
      {
        "duration": 44,
        "start_time": "2022-05-08T19:27:24.699Z"
      },
      {
        "duration": 277,
        "start_time": "2022-05-08T19:27:24.744Z"
      },
      {
        "duration": 41,
        "start_time": "2022-05-08T19:27:25.023Z"
      },
      {
        "duration": 0,
        "start_time": "2022-05-08T19:27:25.066Z"
      },
      {
        "duration": 0,
        "start_time": "2022-05-08T19:27:25.067Z"
      },
      {
        "duration": 0,
        "start_time": "2022-05-08T19:27:25.068Z"
      },
      {
        "duration": 202,
        "start_time": "2022-05-08T19:30:48.816Z"
      },
      {
        "duration": 32,
        "start_time": "2022-05-08T19:32:01.389Z"
      },
      {
        "duration": 29,
        "start_time": "2022-05-08T19:32:18.951Z"
      },
      {
        "duration": 25,
        "start_time": "2022-05-08T19:32:46.259Z"
      },
      {
        "duration": 24,
        "start_time": "2022-05-08T19:32:53.468Z"
      },
      {
        "duration": 36,
        "start_time": "2022-05-08T19:34:33.298Z"
      },
      {
        "duration": 218,
        "start_time": "2022-05-08T19:34:35.006Z"
      },
      {
        "duration": 23,
        "start_time": "2022-05-08T19:34:38.917Z"
      },
      {
        "duration": 20,
        "start_time": "2022-05-08T19:35:13.335Z"
      },
      {
        "duration": 21,
        "start_time": "2022-05-08T19:35:46.146Z"
      },
      {
        "duration": 100,
        "start_time": "2022-05-08T20:51:43.115Z"
      },
      {
        "duration": 29,
        "start_time": "2022-05-08T20:54:54.680Z"
      },
      {
        "duration": 32,
        "start_time": "2022-05-08T20:56:13.029Z"
      },
      {
        "duration": 5384,
        "start_time": "2022-05-08T20:56:48.789Z"
      },
      {
        "duration": 30,
        "start_time": "2022-05-08T20:58:35.438Z"
      },
      {
        "duration": 21,
        "start_time": "2022-05-08T20:59:15.498Z"
      },
      {
        "duration": 35,
        "start_time": "2022-05-08T21:01:33.485Z"
      },
      {
        "duration": 99,
        "start_time": "2022-05-08T21:01:45.940Z"
      },
      {
        "duration": 33,
        "start_time": "2022-05-08T21:04:40.767Z"
      },
      {
        "duration": 5248,
        "start_time": "2022-05-08T21:04:57.357Z"
      },
      {
        "duration": 85,
        "start_time": "2022-05-08T21:07:05.995Z"
      },
      {
        "duration": 92,
        "start_time": "2022-05-08T21:07:11.951Z"
      },
      {
        "duration": 86,
        "start_time": "2022-05-08T21:07:36.754Z"
      },
      {
        "duration": 32,
        "start_time": "2022-05-08T21:07:49.170Z"
      },
      {
        "duration": 31,
        "start_time": "2022-05-08T21:08:07.067Z"
      },
      {
        "duration": 44,
        "start_time": "2022-05-08T21:11:37.548Z"
      },
      {
        "duration": 98,
        "start_time": "2022-05-08T21:11:50.312Z"
      },
      {
        "duration": 28,
        "start_time": "2022-05-08T21:12:50.035Z"
      },
      {
        "duration": 4852,
        "start_time": "2022-05-08T21:14:06.873Z"
      },
      {
        "duration": 32,
        "start_time": "2022-05-08T21:16:15.270Z"
      },
      {
        "duration": 46,
        "start_time": "2022-05-08T21:17:46.749Z"
      },
      {
        "duration": 44,
        "start_time": "2022-05-08T21:17:50.602Z"
      },
      {
        "duration": 32,
        "start_time": "2022-05-08T21:18:01.441Z"
      },
      {
        "duration": 92,
        "start_time": "2022-05-08T21:20:46.764Z"
      },
      {
        "duration": 34,
        "start_time": "2022-05-08T21:21:16.872Z"
      },
      {
        "duration": 94,
        "start_time": "2022-05-08T21:21:18.125Z"
      },
      {
        "duration": 66,
        "start_time": "2022-05-09T07:46:59.537Z"
      },
      {
        "duration": 1296,
        "start_time": "2022-05-09T07:47:29.281Z"
      },
      {
        "duration": 794,
        "start_time": "2022-05-09T07:47:30.580Z"
      },
      {
        "duration": 5,
        "start_time": "2022-05-09T07:47:31.375Z"
      },
      {
        "duration": 15,
        "start_time": "2022-05-09T07:47:31.382Z"
      },
      {
        "duration": 135,
        "start_time": "2022-05-09T07:47:31.399Z"
      },
      {
        "duration": 118,
        "start_time": "2022-05-09T07:47:31.536Z"
      },
      {
        "duration": 483,
        "start_time": "2022-05-09T07:47:31.656Z"
      },
      {
        "duration": 474,
        "start_time": "2022-05-09T07:47:32.142Z"
      },
      {
        "duration": 499,
        "start_time": "2022-05-09T07:47:32.619Z"
      },
      {
        "duration": 82,
        "start_time": "2022-05-09T07:47:33.121Z"
      },
      {
        "duration": 109,
        "start_time": "2022-05-09T07:47:33.205Z"
      },
      {
        "duration": 44,
        "start_time": "2022-05-09T07:47:33.316Z"
      },
      {
        "duration": 417,
        "start_time": "2022-05-09T07:47:33.373Z"
      },
      {
        "duration": 46,
        "start_time": "2022-05-09T07:47:33.793Z"
      },
      {
        "duration": 160,
        "start_time": "2022-05-09T07:47:33.841Z"
      },
      {
        "duration": 179,
        "start_time": "2022-05-09T07:47:34.003Z"
      },
      {
        "duration": 8,
        "start_time": "2022-05-09T07:47:34.184Z"
      },
      {
        "duration": 157,
        "start_time": "2022-05-09T07:47:34.194Z"
      },
      {
        "duration": 54,
        "start_time": "2022-05-09T07:47:34.353Z"
      },
      {
        "duration": 152,
        "start_time": "2022-05-09T07:47:34.409Z"
      },
      {
        "duration": 10,
        "start_time": "2022-05-09T07:47:34.563Z"
      },
      {
        "duration": 16,
        "start_time": "2022-05-09T07:47:34.575Z"
      },
      {
        "duration": 6,
        "start_time": "2022-05-09T07:47:34.593Z"
      },
      {
        "duration": 43,
        "start_time": "2022-05-09T07:47:34.601Z"
      },
      {
        "duration": 781,
        "start_time": "2022-05-09T07:47:34.646Z"
      },
      {
        "duration": 22,
        "start_time": "2022-05-09T07:47:35.430Z"
      },
      {
        "duration": 136,
        "start_time": "2022-05-09T07:47:35.454Z"
      },
      {
        "duration": 36,
        "start_time": "2022-05-09T07:47:35.595Z"
      },
      {
        "duration": 402,
        "start_time": "2022-05-09T07:47:35.632Z"
      },
      {
        "duration": 50,
        "start_time": "2022-05-09T07:47:36.036Z"
      },
      {
        "duration": 17,
        "start_time": "2022-05-09T07:47:36.088Z"
      },
      {
        "duration": 46,
        "start_time": "2022-05-09T07:47:36.107Z"
      },
      {
        "duration": 10,
        "start_time": "2022-05-09T07:47:36.172Z"
      },
      {
        "duration": 33,
        "start_time": "2022-05-09T07:47:36.184Z"
      },
      {
        "duration": 1220,
        "start_time": "2022-05-09T07:47:36.219Z"
      },
      {
        "duration": 130,
        "start_time": "2022-05-09T07:47:37.441Z"
      },
      {
        "duration": 13,
        "start_time": "2022-05-09T07:47:37.573Z"
      },
      {
        "duration": 31,
        "start_time": "2022-05-09T07:47:37.588Z"
      },
      {
        "duration": 403,
        "start_time": "2022-05-09T07:47:37.621Z"
      },
      {
        "duration": 32,
        "start_time": "2022-05-09T07:47:38.025Z"
      },
      {
        "duration": 540,
        "start_time": "2022-05-09T07:47:38.059Z"
      },
      {
        "duration": 6,
        "start_time": "2022-05-09T07:47:38.601Z"
      },
      {
        "duration": 172,
        "start_time": "2022-05-09T07:47:38.609Z"
      },
      {
        "duration": 12,
        "start_time": "2022-05-09T07:47:38.782Z"
      },
      {
        "duration": 103,
        "start_time": "2022-05-09T07:47:38.795Z"
      },
      {
        "duration": 11,
        "start_time": "2022-05-09T07:47:38.899Z"
      },
      {
        "duration": 28,
        "start_time": "2022-05-09T07:47:38.911Z"
      },
      {
        "duration": 4134,
        "start_time": "2022-05-09T07:47:38.940Z"
      },
      {
        "duration": 25,
        "start_time": "2022-05-09T07:47:43.076Z"
      },
      {
        "duration": 41,
        "start_time": "2022-05-09T07:47:43.103Z"
      },
      {
        "duration": 200,
        "start_time": "2022-05-09T07:47:43.145Z"
      },
      {
        "duration": 35,
        "start_time": "2022-05-09T07:47:43.346Z"
      },
      {
        "duration": 173,
        "start_time": "2022-05-09T07:47:43.383Z"
      },
      {
        "duration": 92,
        "start_time": "2022-05-09T07:47:43.558Z"
      },
      {
        "duration": 33,
        "start_time": "2022-05-09T07:47:43.652Z"
      },
      {
        "duration": 4544,
        "start_time": "2022-05-09T07:47:43.687Z"
      },
      {
        "duration": 22,
        "start_time": "2022-05-09T07:47:48.233Z"
      },
      {
        "duration": 53,
        "start_time": "2022-05-09T07:47:48.256Z"
      },
      {
        "duration": 94,
        "start_time": "2022-05-09T07:47:48.311Z"
      },
      {
        "duration": 4382,
        "start_time": "2022-05-09T07:47:48.406Z"
      },
      {
        "duration": 23,
        "start_time": "2022-05-09T07:47:52.790Z"
      },
      {
        "duration": 27,
        "start_time": "2022-05-09T07:47:52.815Z"
      },
      {
        "duration": 63,
        "start_time": "2022-05-09T07:47:52.844Z"
      },
      {
        "duration": 92,
        "start_time": "2022-05-09T07:47:52.909Z"
      },
      {
        "duration": 28,
        "start_time": "2022-05-09T07:47:53.003Z"
      },
      {
        "duration": 4262,
        "start_time": "2022-05-09T07:47:53.032Z"
      },
      {
        "duration": 27,
        "start_time": "2022-05-09T07:47:57.296Z"
      },
      {
        "duration": 58,
        "start_time": "2022-05-09T07:47:57.324Z"
      },
      {
        "duration": 92,
        "start_time": "2022-05-09T07:47:57.383Z"
      },
      {
        "duration": 17542,
        "start_time": "2022-05-09T07:48:02.175Z"
      },
      {
        "duration": 26,
        "start_time": "2022-05-09T07:49:29.262Z"
      },
      {
        "duration": 133,
        "start_time": "2022-05-09T07:53:02.517Z"
      },
      {
        "duration": 135,
        "start_time": "2022-05-09T07:53:19.123Z"
      },
      {
        "duration": 139,
        "start_time": "2022-05-09T08:03:00.119Z"
      },
      {
        "duration": 26,
        "start_time": "2022-05-09T08:07:29.486Z"
      },
      {
        "duration": 65,
        "start_time": "2022-05-09T08:07:41.074Z"
      },
      {
        "duration": 10,
        "start_time": "2022-05-09T08:08:03.310Z"
      },
      {
        "duration": 9,
        "start_time": "2022-05-09T08:08:57.749Z"
      },
      {
        "duration": 10,
        "start_time": "2022-05-09T08:09:57.054Z"
      },
      {
        "duration": 4,
        "start_time": "2022-05-09T08:10:05.729Z"
      },
      {
        "duration": 793,
        "start_time": "2022-05-09T08:10:05.734Z"
      },
      {
        "duration": 5,
        "start_time": "2022-05-09T08:10:06.529Z"
      },
      {
        "duration": 10,
        "start_time": "2022-05-09T08:10:06.535Z"
      },
      {
        "duration": 141,
        "start_time": "2022-05-09T08:10:06.547Z"
      },
      {
        "duration": 129,
        "start_time": "2022-05-09T08:10:06.689Z"
      },
      {
        "duration": 448,
        "start_time": "2022-05-09T08:10:06.820Z"
      },
      {
        "duration": 419,
        "start_time": "2022-05-09T08:10:07.270Z"
      },
      {
        "duration": 446,
        "start_time": "2022-05-09T08:10:07.691Z"
      },
      {
        "duration": 79,
        "start_time": "2022-05-09T08:10:08.138Z"
      },
      {
        "duration": 100,
        "start_time": "2022-05-09T08:10:08.220Z"
      },
      {
        "duration": 34,
        "start_time": "2022-05-09T08:10:08.321Z"
      },
      {
        "duration": 418,
        "start_time": "2022-05-09T08:10:08.357Z"
      },
      {
        "duration": 38,
        "start_time": "2022-05-09T08:10:08.777Z"
      },
      {
        "duration": 157,
        "start_time": "2022-05-09T08:10:08.816Z"
      },
      {
        "duration": 4,
        "start_time": "2022-05-09T08:10:11.684Z"
      },
      {
        "duration": 3,
        "start_time": "2022-05-09T08:19:06.592Z"
      },
      {
        "duration": 791,
        "start_time": "2022-05-09T08:19:06.598Z"
      },
      {
        "duration": 5,
        "start_time": "2022-05-09T08:19:07.391Z"
      },
      {
        "duration": 7,
        "start_time": "2022-05-09T08:19:07.398Z"
      },
      {
        "duration": 136,
        "start_time": "2022-05-09T08:19:07.407Z"
      },
      {
        "duration": 131,
        "start_time": "2022-05-09T08:19:07.545Z"
      },
      {
        "duration": 411,
        "start_time": "2022-05-09T08:19:07.678Z"
      },
      {
        "duration": 412,
        "start_time": "2022-05-09T08:19:08.091Z"
      },
      {
        "duration": 416,
        "start_time": "2022-05-09T08:19:08.505Z"
      },
      {
        "duration": 74,
        "start_time": "2022-05-09T08:19:08.924Z"
      },
      {
        "duration": 95,
        "start_time": "2022-05-09T08:19:09.000Z"
      },
      {
        "duration": 32,
        "start_time": "2022-05-09T08:19:09.097Z"
      },
      {
        "duration": 422,
        "start_time": "2022-05-09T08:19:09.131Z"
      },
      {
        "duration": 45,
        "start_time": "2022-05-09T08:19:09.555Z"
      },
      {
        "duration": 249,
        "start_time": "2022-05-09T08:19:09.602Z"
      },
      {
        "duration": 3,
        "start_time": "2022-05-09T08:19:09.854Z"
      },
      {
        "duration": 176,
        "start_time": "2022-05-09T08:19:09.859Z"
      },
      {
        "duration": 9,
        "start_time": "2022-05-09T08:19:10.037Z"
      },
      {
        "duration": 157,
        "start_time": "2022-05-09T08:19:10.048Z"
      },
      {
        "duration": 37,
        "start_time": "2022-05-09T08:19:10.207Z"
      },
      {
        "duration": 156,
        "start_time": "2022-05-09T08:19:10.246Z"
      },
      {
        "duration": 5,
        "start_time": "2022-05-09T08:19:10.404Z"
      },
      {
        "duration": 12,
        "start_time": "2022-05-09T08:19:10.411Z"
      },
      {
        "duration": 7,
        "start_time": "2022-05-09T08:19:10.424Z"
      },
      {
        "duration": 64,
        "start_time": "2022-05-09T08:19:10.433Z"
      },
      {
        "duration": 682,
        "start_time": "2022-05-09T08:19:10.499Z"
      },
      {
        "duration": 22,
        "start_time": "2022-05-09T08:19:11.183Z"
      },
      {
        "duration": 132,
        "start_time": "2022-05-09T08:19:11.211Z"
      },
      {
        "duration": 50,
        "start_time": "2022-05-09T08:19:11.345Z"
      },
      {
        "duration": 508,
        "start_time": "2022-05-09T08:19:11.397Z"
      },
      {
        "duration": 36,
        "start_time": "2022-05-09T08:19:11.907Z"
      },
      {
        "duration": 34,
        "start_time": "2022-05-09T08:19:11.945Z"
      },
      {
        "duration": 46,
        "start_time": "2022-05-09T08:19:11.982Z"
      },
      {
        "duration": 9,
        "start_time": "2022-05-09T08:19:12.030Z"
      },
      {
        "duration": 59,
        "start_time": "2022-05-09T08:19:12.041Z"
      },
      {
        "duration": 1222,
        "start_time": "2022-05-09T08:19:12.102Z"
      },
      {
        "duration": 127,
        "start_time": "2022-05-09T08:19:13.325Z"
      },
      {
        "duration": 21,
        "start_time": "2022-05-09T08:19:13.454Z"
      },
      {
        "duration": 32,
        "start_time": "2022-05-09T08:19:13.477Z"
      },
      {
        "duration": 376,
        "start_time": "2022-05-09T08:19:13.510Z"
      },
      {
        "duration": 30,
        "start_time": "2022-05-09T08:19:13.887Z"
      },
      {
        "duration": 439,
        "start_time": "2022-05-09T08:19:13.919Z"
      },
      {
        "duration": 15,
        "start_time": "2022-05-09T08:19:14.359Z"
      },
      {
        "duration": 139,
        "start_time": "2022-05-09T08:19:14.375Z"
      },
      {
        "duration": 12,
        "start_time": "2022-05-09T08:19:14.515Z"
      },
      {
        "duration": 26,
        "start_time": "2022-05-09T08:19:14.529Z"
      },
      {
        "duration": 4523,
        "start_time": "2022-05-09T08:19:14.572Z"
      },
      {
        "duration": 20,
        "start_time": "2022-05-09T08:19:19.097Z"
      },
      {
        "duration": 55,
        "start_time": "2022-05-09T08:19:19.118Z"
      },
      {
        "duration": 98,
        "start_time": "2022-05-09T08:19:19.175Z"
      },
      {
        "duration": 88,
        "start_time": "2022-05-09T08:19:19.275Z"
      },
      {
        "duration": 16,
        "start_time": "2022-05-09T08:19:19.365Z"
      },
      {
        "duration": 32,
        "start_time": "2022-05-09T08:19:19.383Z"
      },
      {
        "duration": 3871,
        "start_time": "2022-05-09T08:19:19.417Z"
      },
      {
        "duration": 24,
        "start_time": "2022-05-09T08:19:23.290Z"
      },
      {
        "duration": 35,
        "start_time": "2022-05-09T08:19:23.316Z"
      },
      {
        "duration": 197,
        "start_time": "2022-05-09T08:19:23.353Z"
      },
      {
        "duration": 31,
        "start_time": "2022-05-09T08:19:23.551Z"
      },
      {
        "duration": 209,
        "start_time": "2022-05-09T08:19:23.584Z"
      },
      {
        "duration": 91,
        "start_time": "2022-05-09T08:19:23.795Z"
      },
      {
        "duration": 4610,
        "start_time": "2022-05-09T08:19:23.888Z"
      },
      {
        "duration": 26,
        "start_time": "2022-05-09T08:19:28.499Z"
      },
      {
        "duration": 47,
        "start_time": "2022-05-09T08:19:28.527Z"
      },
      {
        "duration": 41,
        "start_time": "2022-05-09T08:19:28.576Z"
      },
      {
        "duration": 97,
        "start_time": "2022-05-09T08:19:28.618Z"
      },
      {
        "duration": 43,
        "start_time": "2022-05-09T08:19:28.717Z"
      },
      {
        "duration": 4120,
        "start_time": "2022-05-09T08:19:28.762Z"
      },
      {
        "duration": 28,
        "start_time": "2022-05-09T08:19:32.884Z"
      },
      {
        "duration": 39,
        "start_time": "2022-05-09T08:19:32.914Z"
      },
      {
        "duration": 83,
        "start_time": "2022-05-09T08:19:32.972Z"
      },
      {
        "duration": 26,
        "start_time": "2022-05-09T08:19:33.057Z"
      },
      {
        "duration": 0,
        "start_time": "2022-05-09T08:19:33.085Z"
      },
      {
        "duration": 0,
        "start_time": "2022-05-09T08:19:33.086Z"
      },
      {
        "duration": 3,
        "start_time": "2022-05-09T08:20:45.678Z"
      },
      {
        "duration": 795,
        "start_time": "2022-05-09T08:20:45.683Z"
      },
      {
        "duration": 4,
        "start_time": "2022-05-09T08:20:46.479Z"
      },
      {
        "duration": 7,
        "start_time": "2022-05-09T08:20:46.485Z"
      },
      {
        "duration": 134,
        "start_time": "2022-05-09T08:20:46.493Z"
      },
      {
        "duration": 122,
        "start_time": "2022-05-09T08:20:46.628Z"
      },
      {
        "duration": 420,
        "start_time": "2022-05-09T08:20:46.752Z"
      },
      {
        "duration": 407,
        "start_time": "2022-05-09T08:20:47.174Z"
      },
      {
        "duration": 434,
        "start_time": "2022-05-09T08:20:47.584Z"
      },
      {
        "duration": 74,
        "start_time": "2022-05-09T08:20:48.020Z"
      },
      {
        "duration": 93,
        "start_time": "2022-05-09T08:20:48.096Z"
      },
      {
        "duration": 32,
        "start_time": "2022-05-09T08:20:48.190Z"
      },
      {
        "duration": 593,
        "start_time": "2022-05-09T08:20:48.224Z"
      },
      {
        "duration": 39,
        "start_time": "2022-05-09T08:20:48.819Z"
      },
      {
        "duration": 152,
        "start_time": "2022-05-09T08:20:48.859Z"
      },
      {
        "duration": 10,
        "start_time": "2022-05-09T08:20:49.012Z"
      },
      {
        "duration": 13,
        "start_time": "2022-05-09T08:20:49.024Z"
      },
      {
        "duration": 0,
        "start_time": "2022-05-09T08:20:49.040Z"
      },
      {
        "duration": 0,
        "start_time": "2022-05-09T08:20:49.041Z"
      },
      {
        "duration": 0,
        "start_time": "2022-05-09T08:20:49.042Z"
      },
      {
        "duration": 0,
        "start_time": "2022-05-09T08:20:49.043Z"
      },
      {
        "duration": 0,
        "start_time": "2022-05-09T08:20:49.044Z"
      },
      {
        "duration": 0,
        "start_time": "2022-05-09T08:20:49.045Z"
      },
      {
        "duration": 0,
        "start_time": "2022-05-09T08:20:49.046Z"
      },
      {
        "duration": 0,
        "start_time": "2022-05-09T08:20:49.046Z"
      },
      {
        "duration": 0,
        "start_time": "2022-05-09T08:20:49.047Z"
      },
      {
        "duration": 0,
        "start_time": "2022-05-09T08:20:49.048Z"
      },
      {
        "duration": 0,
        "start_time": "2022-05-09T08:20:49.048Z"
      },
      {
        "duration": 0,
        "start_time": "2022-05-09T08:20:49.049Z"
      },
      {
        "duration": 0,
        "start_time": "2022-05-09T08:20:49.073Z"
      },
      {
        "duration": 0,
        "start_time": "2022-05-09T08:20:49.074Z"
      },
      {
        "duration": 0,
        "start_time": "2022-05-09T08:20:49.075Z"
      },
      {
        "duration": 0,
        "start_time": "2022-05-09T08:20:49.076Z"
      },
      {
        "duration": 0,
        "start_time": "2022-05-09T08:20:49.077Z"
      },
      {
        "duration": 0,
        "start_time": "2022-05-09T08:20:49.078Z"
      },
      {
        "duration": 0,
        "start_time": "2022-05-09T08:20:49.079Z"
      },
      {
        "duration": 0,
        "start_time": "2022-05-09T08:20:49.080Z"
      },
      {
        "duration": 0,
        "start_time": "2022-05-09T08:20:49.080Z"
      },
      {
        "duration": 0,
        "start_time": "2022-05-09T08:20:49.081Z"
      },
      {
        "duration": 0,
        "start_time": "2022-05-09T08:20:49.082Z"
      },
      {
        "duration": 0,
        "start_time": "2022-05-09T08:20:49.083Z"
      },
      {
        "duration": 0,
        "start_time": "2022-05-09T08:20:49.084Z"
      },
      {
        "duration": 0,
        "start_time": "2022-05-09T08:20:49.085Z"
      },
      {
        "duration": 0,
        "start_time": "2022-05-09T08:20:49.086Z"
      },
      {
        "duration": 0,
        "start_time": "2022-05-09T08:20:49.087Z"
      },
      {
        "duration": 0,
        "start_time": "2022-05-09T08:20:49.088Z"
      },
      {
        "duration": 0,
        "start_time": "2022-05-09T08:20:49.089Z"
      },
      {
        "duration": 0,
        "start_time": "2022-05-09T08:20:49.090Z"
      },
      {
        "duration": 0,
        "start_time": "2022-05-09T08:20:49.091Z"
      },
      {
        "duration": 0,
        "start_time": "2022-05-09T08:20:49.092Z"
      },
      {
        "duration": 0,
        "start_time": "2022-05-09T08:20:49.093Z"
      },
      {
        "duration": 0,
        "start_time": "2022-05-09T08:20:49.094Z"
      },
      {
        "duration": 0,
        "start_time": "2022-05-09T08:20:49.094Z"
      },
      {
        "duration": 0,
        "start_time": "2022-05-09T08:20:49.095Z"
      },
      {
        "duration": 0,
        "start_time": "2022-05-09T08:20:49.096Z"
      },
      {
        "duration": 1,
        "start_time": "2022-05-09T08:20:49.097Z"
      },
      {
        "duration": 0,
        "start_time": "2022-05-09T08:20:49.099Z"
      },
      {
        "duration": 0,
        "start_time": "2022-05-09T08:20:49.099Z"
      },
      {
        "duration": 0,
        "start_time": "2022-05-09T08:20:49.100Z"
      },
      {
        "duration": 0,
        "start_time": "2022-05-09T08:20:49.101Z"
      },
      {
        "duration": 0,
        "start_time": "2022-05-09T08:20:49.102Z"
      },
      {
        "duration": 0,
        "start_time": "2022-05-09T08:20:49.103Z"
      },
      {
        "duration": 0,
        "start_time": "2022-05-09T08:20:49.104Z"
      },
      {
        "duration": 0,
        "start_time": "2022-05-09T08:20:49.105Z"
      },
      {
        "duration": 0,
        "start_time": "2022-05-09T08:20:49.106Z"
      },
      {
        "duration": 0,
        "start_time": "2022-05-09T08:20:49.107Z"
      },
      {
        "duration": 0,
        "start_time": "2022-05-09T08:20:49.108Z"
      },
      {
        "duration": 0,
        "start_time": "2022-05-09T08:20:49.173Z"
      },
      {
        "duration": 0,
        "start_time": "2022-05-09T08:20:49.175Z"
      },
      {
        "duration": 0,
        "start_time": "2022-05-09T08:20:49.176Z"
      },
      {
        "duration": 0,
        "start_time": "2022-05-09T08:20:49.177Z"
      },
      {
        "duration": 0,
        "start_time": "2022-05-09T08:20:49.178Z"
      },
      {
        "duration": 0,
        "start_time": "2022-05-09T08:20:49.179Z"
      },
      {
        "duration": 4,
        "start_time": "2022-05-09T08:22:16.567Z"
      },
      {
        "duration": 697,
        "start_time": "2022-05-09T08:22:16.572Z"
      },
      {
        "duration": 4,
        "start_time": "2022-05-09T08:22:17.271Z"
      },
      {
        "duration": 7,
        "start_time": "2022-05-09T08:22:17.277Z"
      },
      {
        "duration": 136,
        "start_time": "2022-05-09T08:22:17.286Z"
      },
      {
        "duration": 124,
        "start_time": "2022-05-09T08:22:17.424Z"
      },
      {
        "duration": 429,
        "start_time": "2022-05-09T08:22:17.549Z"
      },
      {
        "duration": 422,
        "start_time": "2022-05-09T08:22:17.980Z"
      },
      {
        "duration": 438,
        "start_time": "2022-05-09T08:22:18.403Z"
      },
      {
        "duration": 80,
        "start_time": "2022-05-09T08:22:18.842Z"
      },
      {
        "duration": 97,
        "start_time": "2022-05-09T08:22:18.924Z"
      },
      {
        "duration": 33,
        "start_time": "2022-05-09T08:22:19.022Z"
      },
      {
        "duration": 429,
        "start_time": "2022-05-09T08:22:19.057Z"
      },
      {
        "duration": 37,
        "start_time": "2022-05-09T08:22:19.488Z"
      },
      {
        "duration": 156,
        "start_time": "2022-05-09T08:22:19.527Z"
      },
      {
        "duration": 5,
        "start_time": "2022-05-09T08:22:19.684Z"
      },
      {
        "duration": 5,
        "start_time": "2022-05-09T08:22:22.022Z"
      },
      {
        "duration": 3,
        "start_time": "2022-05-09T08:24:37.500Z"
      },
      {
        "duration": 752,
        "start_time": "2022-05-09T08:24:37.505Z"
      },
      {
        "duration": 4,
        "start_time": "2022-05-09T08:24:38.259Z"
      },
      {
        "duration": 5,
        "start_time": "2022-05-09T08:24:38.272Z"
      },
      {
        "duration": 130,
        "start_time": "2022-05-09T08:24:38.279Z"
      },
      {
        "duration": 121,
        "start_time": "2022-05-09T08:24:38.411Z"
      },
      {
        "duration": 401,
        "start_time": "2022-05-09T08:24:38.534Z"
      },
      {
        "duration": 412,
        "start_time": "2022-05-09T08:24:38.937Z"
      },
      {
        "duration": 440,
        "start_time": "2022-05-09T08:24:39.350Z"
      },
      {
        "duration": 66,
        "start_time": "2022-05-09T08:24:39.791Z"
      },
      {
        "duration": 99,
        "start_time": "2022-05-09T08:24:39.859Z"
      },
      {
        "duration": 46,
        "start_time": "2022-05-09T08:24:39.960Z"
      },
      {
        "duration": 442,
        "start_time": "2022-05-09T08:24:40.008Z"
      },
      {
        "duration": 43,
        "start_time": "2022-05-09T08:24:40.452Z"
      },
      {
        "duration": 150,
        "start_time": "2022-05-09T08:24:40.497Z"
      },
      {
        "duration": 4,
        "start_time": "2022-05-09T08:24:40.649Z"
      },
      {
        "duration": 9,
        "start_time": "2022-05-09T08:24:40.655Z"
      },
      {
        "duration": 2105,
        "start_time": "2022-05-09T08:24:40.674Z"
      },
      {
        "duration": 0,
        "start_time": "2022-05-09T08:24:42.782Z"
      },
      {
        "duration": 0,
        "start_time": "2022-05-09T08:24:42.783Z"
      },
      {
        "duration": 0,
        "start_time": "2022-05-09T08:24:42.783Z"
      },
      {
        "duration": 0,
        "start_time": "2022-05-09T08:24:42.784Z"
      },
      {
        "duration": 0,
        "start_time": "2022-05-09T08:24:42.785Z"
      },
      {
        "duration": 0,
        "start_time": "2022-05-09T08:24:42.786Z"
      },
      {
        "duration": 0,
        "start_time": "2022-05-09T08:24:42.788Z"
      },
      {
        "duration": 0,
        "start_time": "2022-05-09T08:24:42.789Z"
      },
      {
        "duration": 0,
        "start_time": "2022-05-09T08:24:42.790Z"
      },
      {
        "duration": 0,
        "start_time": "2022-05-09T08:24:42.791Z"
      },
      {
        "duration": 0,
        "start_time": "2022-05-09T08:24:42.792Z"
      },
      {
        "duration": 0,
        "start_time": "2022-05-09T08:24:42.793Z"
      },
      {
        "duration": 0,
        "start_time": "2022-05-09T08:24:42.794Z"
      },
      {
        "duration": 0,
        "start_time": "2022-05-09T08:24:42.795Z"
      },
      {
        "duration": 0,
        "start_time": "2022-05-09T08:24:42.795Z"
      },
      {
        "duration": 0,
        "start_time": "2022-05-09T08:24:42.796Z"
      },
      {
        "duration": 0,
        "start_time": "2022-05-09T08:24:42.798Z"
      },
      {
        "duration": 0,
        "start_time": "2022-05-09T08:24:42.799Z"
      },
      {
        "duration": 0,
        "start_time": "2022-05-09T08:24:42.800Z"
      },
      {
        "duration": 0,
        "start_time": "2022-05-09T08:24:42.801Z"
      },
      {
        "duration": 0,
        "start_time": "2022-05-09T08:24:42.802Z"
      },
      {
        "duration": 0,
        "start_time": "2022-05-09T08:24:42.803Z"
      },
      {
        "duration": 0,
        "start_time": "2022-05-09T08:24:42.804Z"
      },
      {
        "duration": 0,
        "start_time": "2022-05-09T08:24:42.805Z"
      },
      {
        "duration": 0,
        "start_time": "2022-05-09T08:24:42.806Z"
      },
      {
        "duration": 0,
        "start_time": "2022-05-09T08:24:42.808Z"
      },
      {
        "duration": 0,
        "start_time": "2022-05-09T08:24:42.809Z"
      },
      {
        "duration": 0,
        "start_time": "2022-05-09T08:24:42.810Z"
      },
      {
        "duration": 0,
        "start_time": "2022-05-09T08:24:42.811Z"
      },
      {
        "duration": 0,
        "start_time": "2022-05-09T08:24:42.812Z"
      },
      {
        "duration": 0,
        "start_time": "2022-05-09T08:24:42.813Z"
      },
      {
        "duration": 0,
        "start_time": "2022-05-09T08:24:42.814Z"
      },
      {
        "duration": 0,
        "start_time": "2022-05-09T08:24:42.815Z"
      },
      {
        "duration": 0,
        "start_time": "2022-05-09T08:24:42.816Z"
      },
      {
        "duration": 0,
        "start_time": "2022-05-09T08:24:42.817Z"
      },
      {
        "duration": 0,
        "start_time": "2022-05-09T08:24:42.818Z"
      },
      {
        "duration": 0,
        "start_time": "2022-05-09T08:24:42.874Z"
      },
      {
        "duration": 0,
        "start_time": "2022-05-09T08:24:42.875Z"
      },
      {
        "duration": 0,
        "start_time": "2022-05-09T08:24:42.876Z"
      },
      {
        "duration": 0,
        "start_time": "2022-05-09T08:24:42.877Z"
      },
      {
        "duration": 0,
        "start_time": "2022-05-09T08:24:42.878Z"
      },
      {
        "duration": 0,
        "start_time": "2022-05-09T08:24:42.879Z"
      },
      {
        "duration": 0,
        "start_time": "2022-05-09T08:24:42.880Z"
      },
      {
        "duration": 0,
        "start_time": "2022-05-09T08:24:42.881Z"
      },
      {
        "duration": 0,
        "start_time": "2022-05-09T08:24:42.882Z"
      },
      {
        "duration": 0,
        "start_time": "2022-05-09T08:24:42.883Z"
      },
      {
        "duration": 0,
        "start_time": "2022-05-09T08:24:42.884Z"
      },
      {
        "duration": 0,
        "start_time": "2022-05-09T08:24:42.885Z"
      },
      {
        "duration": 0,
        "start_time": "2022-05-09T08:24:42.886Z"
      },
      {
        "duration": 0,
        "start_time": "2022-05-09T08:24:42.887Z"
      },
      {
        "duration": 0,
        "start_time": "2022-05-09T08:24:42.888Z"
      },
      {
        "duration": 0,
        "start_time": "2022-05-09T08:24:42.889Z"
      },
      {
        "duration": 0,
        "start_time": "2022-05-09T08:24:42.890Z"
      },
      {
        "duration": 0,
        "start_time": "2022-05-09T08:24:42.891Z"
      },
      {
        "duration": 0,
        "start_time": "2022-05-09T08:24:42.892Z"
      },
      {
        "duration": 0,
        "start_time": "2022-05-09T08:24:42.893Z"
      },
      {
        "duration": 0,
        "start_time": "2022-05-09T08:24:42.894Z"
      },
      {
        "duration": 3,
        "start_time": "2022-05-09T08:25:40.425Z"
      },
      {
        "duration": 752,
        "start_time": "2022-05-09T08:25:40.430Z"
      },
      {
        "duration": 5,
        "start_time": "2022-05-09T08:25:41.184Z"
      },
      {
        "duration": 8,
        "start_time": "2022-05-09T08:25:41.191Z"
      },
      {
        "duration": 130,
        "start_time": "2022-05-09T08:25:41.200Z"
      },
      {
        "duration": 122,
        "start_time": "2022-05-09T08:25:41.332Z"
      },
      {
        "duration": 418,
        "start_time": "2022-05-09T08:25:41.456Z"
      },
      {
        "duration": 406,
        "start_time": "2022-05-09T08:25:41.875Z"
      },
      {
        "duration": 425,
        "start_time": "2022-05-09T08:25:42.284Z"
      },
      {
        "duration": 71,
        "start_time": "2022-05-09T08:25:42.711Z"
      },
      {
        "duration": 94,
        "start_time": "2022-05-09T08:25:42.784Z"
      },
      {
        "duration": 32,
        "start_time": "2022-05-09T08:25:42.880Z"
      },
      {
        "duration": 524,
        "start_time": "2022-05-09T08:25:42.914Z"
      },
      {
        "duration": 47,
        "start_time": "2022-05-09T08:25:43.440Z"
      },
      {
        "duration": 142,
        "start_time": "2022-05-09T08:25:43.489Z"
      },
      {
        "duration": 3,
        "start_time": "2022-05-09T08:25:43.633Z"
      },
      {
        "duration": 8,
        "start_time": "2022-05-09T08:25:43.638Z"
      },
      {
        "duration": 4,
        "start_time": "2022-05-09T08:25:43.648Z"
      },
      {
        "duration": 181,
        "start_time": "2022-05-09T08:25:43.654Z"
      },
      {
        "duration": 8,
        "start_time": "2022-05-09T08:25:43.836Z"
      },
      {
        "duration": 147,
        "start_time": "2022-05-09T08:25:43.845Z"
      },
      {
        "duration": 35,
        "start_time": "2022-05-09T08:25:43.993Z"
      },
      {
        "duration": 153,
        "start_time": "2022-05-09T08:25:44.030Z"
      },
      {
        "duration": 4,
        "start_time": "2022-05-09T08:25:44.187Z"
      },
      {
        "duration": 13,
        "start_time": "2022-05-09T08:25:44.193Z"
      },
      {
        "duration": 5,
        "start_time": "2022-05-09T08:25:44.208Z"
      },
      {
        "duration": 40,
        "start_time": "2022-05-09T08:25:44.214Z"
      },
      {
        "duration": 673,
        "start_time": "2022-05-09T08:25:44.274Z"
      },
      {
        "duration": 31,
        "start_time": "2022-05-09T08:25:44.949Z"
      },
      {
        "duration": 257,
        "start_time": "2022-05-09T08:25:44.983Z"
      },
      {
        "duration": 51,
        "start_time": "2022-05-09T08:25:45.242Z"
      },
      {
        "duration": 408,
        "start_time": "2022-05-09T08:25:45.294Z"
      },
      {
        "duration": 35,
        "start_time": "2022-05-09T08:25:45.704Z"
      },
      {
        "duration": 18,
        "start_time": "2022-05-09T08:25:45.741Z"
      },
      {
        "duration": 44,
        "start_time": "2022-05-09T08:25:45.772Z"
      },
      {
        "duration": 8,
        "start_time": "2022-05-09T08:25:45.817Z"
      },
      {
        "duration": 56,
        "start_time": "2022-05-09T08:25:45.826Z"
      },
      {
        "duration": 1206,
        "start_time": "2022-05-09T08:25:45.884Z"
      },
      {
        "duration": 129,
        "start_time": "2022-05-09T08:25:47.093Z"
      },
      {
        "duration": 13,
        "start_time": "2022-05-09T08:25:47.224Z"
      },
      {
        "duration": 54,
        "start_time": "2022-05-09T08:25:47.239Z"
      },
      {
        "duration": 358,
        "start_time": "2022-05-09T08:25:47.295Z"
      },
      {
        "duration": 45,
        "start_time": "2022-05-09T08:25:47.655Z"
      },
      {
        "duration": 426,
        "start_time": "2022-05-09T08:25:47.702Z"
      },
      {
        "duration": 8,
        "start_time": "2022-05-09T08:25:48.130Z"
      },
      {
        "duration": 150,
        "start_time": "2022-05-09T08:25:48.139Z"
      },
      {
        "duration": 12,
        "start_time": "2022-05-09T08:25:48.291Z"
      },
      {
        "duration": 27,
        "start_time": "2022-05-09T08:25:48.305Z"
      },
      {
        "duration": 4733,
        "start_time": "2022-05-09T08:25:48.334Z"
      },
      {
        "duration": 21,
        "start_time": "2022-05-09T08:25:53.073Z"
      },
      {
        "duration": 44,
        "start_time": "2022-05-09T08:25:53.095Z"
      },
      {
        "duration": 100,
        "start_time": "2022-05-09T08:25:53.140Z"
      },
      {
        "duration": 94,
        "start_time": "2022-05-09T08:25:53.242Z"
      },
      {
        "duration": 11,
        "start_time": "2022-05-09T08:25:53.338Z"
      },
      {
        "duration": 44,
        "start_time": "2022-05-09T08:25:53.351Z"
      },
      {
        "duration": 3949,
        "start_time": "2022-05-09T08:25:53.397Z"
      },
      {
        "duration": 37,
        "start_time": "2022-05-09T08:25:57.347Z"
      },
      {
        "duration": 34,
        "start_time": "2022-05-09T08:25:57.385Z"
      },
      {
        "duration": 188,
        "start_time": "2022-05-09T08:25:57.421Z"
      },
      {
        "duration": 22,
        "start_time": "2022-05-09T08:25:57.611Z"
      },
      {
        "duration": 195,
        "start_time": "2022-05-09T08:25:57.635Z"
      },
      {
        "duration": 89,
        "start_time": "2022-05-09T08:25:57.832Z"
      },
      {
        "duration": 4499,
        "start_time": "2022-05-09T08:25:57.923Z"
      },
      {
        "duration": 25,
        "start_time": "2022-05-09T08:26:02.423Z"
      },
      {
        "duration": 41,
        "start_time": "2022-05-09T08:26:02.450Z"
      },
      {
        "duration": 43,
        "start_time": "2022-05-09T08:26:02.492Z"
      },
      {
        "duration": 95,
        "start_time": "2022-05-09T08:26:02.537Z"
      },
      {
        "duration": 42,
        "start_time": "2022-05-09T08:26:02.634Z"
      },
      {
        "duration": 4280,
        "start_time": "2022-05-09T08:26:02.681Z"
      },
      {
        "duration": 31,
        "start_time": "2022-05-09T08:26:06.963Z"
      },
      {
        "duration": 40,
        "start_time": "2022-05-09T08:26:06.996Z"
      },
      {
        "duration": 99,
        "start_time": "2022-05-09T08:26:07.038Z"
      },
      {
        "duration": 17311,
        "start_time": "2022-05-09T08:26:07.139Z"
      },
      {
        "duration": 35,
        "start_time": "2022-05-09T08:26:24.452Z"
      },
      {
        "duration": 147,
        "start_time": "2022-05-09T08:26:24.489Z"
      },
      {
        "duration": 56,
        "start_time": "2022-05-09T09:02:53.198Z"
      },
      {
        "duration": 28,
        "start_time": "2022-05-09T09:03:41.513Z"
      },
      {
        "duration": 20,
        "start_time": "2022-05-09T09:04:48.101Z"
      },
      {
        "duration": 5,
        "start_time": "2022-05-09T09:19:24.271Z"
      },
      {
        "duration": 63388,
        "start_time": "2022-05-09T10:00:10.192Z"
      },
      {
        "duration": 111,
        "start_time": "2022-05-09T10:04:13.838Z"
      },
      {
        "duration": 48,
        "start_time": "2022-05-09T10:12:04.845Z"
      },
      {
        "duration": 1439,
        "start_time": "2022-05-09T10:12:19.010Z"
      },
      {
        "duration": 762,
        "start_time": "2022-05-09T10:12:20.451Z"
      },
      {
        "duration": 4,
        "start_time": "2022-05-09T10:12:21.215Z"
      },
      {
        "duration": 6,
        "start_time": "2022-05-09T10:12:21.221Z"
      },
      {
        "duration": 144,
        "start_time": "2022-05-09T10:12:21.229Z"
      },
      {
        "duration": 127,
        "start_time": "2022-05-09T10:12:21.375Z"
      },
      {
        "duration": 474,
        "start_time": "2022-05-09T10:12:21.504Z"
      },
      {
        "duration": 446,
        "start_time": "2022-05-09T10:12:21.979Z"
      },
      {
        "duration": 472,
        "start_time": "2022-05-09T10:12:22.427Z"
      },
      {
        "duration": 81,
        "start_time": "2022-05-09T10:12:22.902Z"
      },
      {
        "duration": 98,
        "start_time": "2022-05-09T10:12:22.985Z"
      },
      {
        "duration": 42,
        "start_time": "2022-05-09T10:12:23.085Z"
      },
      {
        "duration": 434,
        "start_time": "2022-05-09T10:12:23.128Z"
      },
      {
        "duration": 47,
        "start_time": "2022-05-09T10:12:23.563Z"
      },
      {
        "duration": 154,
        "start_time": "2022-05-09T10:12:23.612Z"
      },
      {
        "duration": 4,
        "start_time": "2022-05-09T10:12:23.772Z"
      },
      {
        "duration": 13,
        "start_time": "2022-05-09T10:12:23.778Z"
      },
      {
        "duration": 14,
        "start_time": "2022-05-09T10:12:23.792Z"
      },
      {
        "duration": 262,
        "start_time": "2022-05-09T10:12:23.807Z"
      },
      {
        "duration": 8,
        "start_time": "2022-05-09T10:12:24.070Z"
      },
      {
        "duration": 148,
        "start_time": "2022-05-09T10:12:24.080Z"
      },
      {
        "duration": 52,
        "start_time": "2022-05-09T10:12:24.230Z"
      },
      {
        "duration": 148,
        "start_time": "2022-05-09T10:12:24.284Z"
      },
      {
        "duration": 6,
        "start_time": "2022-05-09T10:12:24.433Z"
      },
      {
        "duration": 13,
        "start_time": "2022-05-09T10:12:24.440Z"
      },
      {
        "duration": 24,
        "start_time": "2022-05-09T10:12:24.454Z"
      },
      {
        "duration": 38,
        "start_time": "2022-05-09T10:12:24.479Z"
      },
      {
        "duration": 710,
        "start_time": "2022-05-09T10:12:24.521Z"
      },
      {
        "duration": 21,
        "start_time": "2022-05-09T10:12:25.232Z"
      },
      {
        "duration": 128,
        "start_time": "2022-05-09T10:12:25.254Z"
      },
      {
        "duration": 37,
        "start_time": "2022-05-09T10:12:25.383Z"
      },
      {
        "duration": 530,
        "start_time": "2022-05-09T10:12:25.422Z"
      },
      {
        "duration": 50,
        "start_time": "2022-05-09T10:12:25.953Z"
      },
      {
        "duration": 16,
        "start_time": "2022-05-09T10:12:26.005Z"
      },
      {
        "duration": 63,
        "start_time": "2022-05-09T10:12:26.023Z"
      },
      {
        "duration": 8,
        "start_time": "2022-05-09T10:12:26.088Z"
      },
      {
        "duration": 36,
        "start_time": "2022-05-09T10:12:26.098Z"
      },
      {
        "duration": 1130,
        "start_time": "2022-05-09T10:12:26.135Z"
      },
      {
        "duration": 253,
        "start_time": "2022-05-09T10:12:27.266Z"
      },
      {
        "duration": 14,
        "start_time": "2022-05-09T10:12:27.521Z"
      },
      {
        "duration": 56,
        "start_time": "2022-05-09T10:12:27.537Z"
      },
      {
        "duration": 360,
        "start_time": "2022-05-09T10:12:27.595Z"
      },
      {
        "duration": 41,
        "start_time": "2022-05-09T10:12:27.957Z"
      },
      {
        "duration": 421,
        "start_time": "2022-05-09T10:12:28.000Z"
      },
      {
        "duration": 8,
        "start_time": "2022-05-09T10:12:28.423Z"
      },
      {
        "duration": 157,
        "start_time": "2022-05-09T10:12:28.433Z"
      },
      {
        "duration": 13,
        "start_time": "2022-05-09T10:12:28.592Z"
      },
      {
        "duration": 27,
        "start_time": "2022-05-09T10:12:28.606Z"
      },
      {
        "duration": 4589,
        "start_time": "2022-05-09T10:12:28.635Z"
      },
      {
        "duration": 23,
        "start_time": "2022-05-09T10:12:33.226Z"
      },
      {
        "duration": 60,
        "start_time": "2022-05-09T10:12:33.251Z"
      },
      {
        "duration": 103,
        "start_time": "2022-05-09T10:12:33.313Z"
      },
      {
        "duration": 98,
        "start_time": "2022-05-09T10:12:33.418Z"
      },
      {
        "duration": 12,
        "start_time": "2022-05-09T10:12:33.517Z"
      },
      {
        "duration": 43,
        "start_time": "2022-05-09T10:12:33.531Z"
      },
      {
        "duration": 3874,
        "start_time": "2022-05-09T10:12:33.576Z"
      },
      {
        "duration": 34,
        "start_time": "2022-05-09T10:12:37.452Z"
      },
      {
        "duration": 33,
        "start_time": "2022-05-09T10:12:37.488Z"
      },
      {
        "duration": 202,
        "start_time": "2022-05-09T10:12:37.522Z"
      },
      {
        "duration": 22,
        "start_time": "2022-05-09T10:12:37.726Z"
      },
      {
        "duration": 216,
        "start_time": "2022-05-09T10:12:37.750Z"
      },
      {
        "duration": 114,
        "start_time": "2022-05-09T10:12:37.968Z"
      },
      {
        "duration": 4343,
        "start_time": "2022-05-09T10:12:38.083Z"
      },
      {
        "duration": 26,
        "start_time": "2022-05-09T10:12:42.428Z"
      },
      {
        "duration": 42,
        "start_time": "2022-05-09T10:12:42.455Z"
      },
      {
        "duration": 39,
        "start_time": "2022-05-09T10:12:42.499Z"
      },
      {
        "duration": 102,
        "start_time": "2022-05-09T10:12:42.540Z"
      },
      {
        "duration": 34,
        "start_time": "2022-05-09T10:12:42.643Z"
      },
      {
        "duration": 4181,
        "start_time": "2022-05-09T10:12:42.679Z"
      },
      {
        "duration": 33,
        "start_time": "2022-05-09T10:12:46.862Z"
      },
      {
        "duration": 41,
        "start_time": "2022-05-09T10:12:46.897Z"
      },
      {
        "duration": 99,
        "start_time": "2022-05-09T10:12:46.940Z"
      },
      {
        "duration": 17603,
        "start_time": "2022-05-09T10:12:47.041Z"
      },
      {
        "duration": 39,
        "start_time": "2022-05-09T10:13:04.646Z"
      },
      {
        "duration": 149,
        "start_time": "2022-05-09T10:13:04.686Z"
      },
      {
        "duration": 4,
        "start_time": "2022-05-09T10:13:04.837Z"
      },
      {
        "duration": 4,
        "start_time": "2022-05-09T10:13:04.843Z"
      },
      {
        "duration": 48,
        "start_time": "2022-05-09T10:17:51.778Z"
      },
      {
        "duration": 1418,
        "start_time": "2022-05-09T10:17:56.042Z"
      },
      {
        "duration": 780,
        "start_time": "2022-05-09T10:17:57.462Z"
      },
      {
        "duration": 5,
        "start_time": "2022-05-09T10:17:58.244Z"
      },
      {
        "duration": 16,
        "start_time": "2022-05-09T10:17:58.251Z"
      },
      {
        "duration": 129,
        "start_time": "2022-05-09T10:17:58.269Z"
      },
      {
        "duration": 122,
        "start_time": "2022-05-09T10:17:58.400Z"
      },
      {
        "duration": 493,
        "start_time": "2022-05-09T10:17:58.524Z"
      },
      {
        "duration": 478,
        "start_time": "2022-05-09T10:17:59.019Z"
      },
      {
        "duration": 508,
        "start_time": "2022-05-09T10:17:59.498Z"
      },
      {
        "duration": 88,
        "start_time": "2022-05-09T10:18:00.010Z"
      },
      {
        "duration": 105,
        "start_time": "2022-05-09T10:18:00.101Z"
      },
      {
        "duration": 45,
        "start_time": "2022-05-09T10:18:00.208Z"
      },
      {
        "duration": 442,
        "start_time": "2022-05-09T10:18:00.255Z"
      },
      {
        "duration": 47,
        "start_time": "2022-05-09T10:18:00.698Z"
      },
      {
        "duration": 151,
        "start_time": "2022-05-09T10:18:00.747Z"
      },
      {
        "duration": 3,
        "start_time": "2022-05-09T10:18:00.900Z"
      },
      {
        "duration": 9,
        "start_time": "2022-05-09T10:18:00.905Z"
      },
      {
        "duration": 9,
        "start_time": "2022-05-09T10:18:00.916Z"
      },
      {
        "duration": 271,
        "start_time": "2022-05-09T10:18:00.926Z"
      },
      {
        "duration": 9,
        "start_time": "2022-05-09T10:18:01.198Z"
      },
      {
        "duration": 158,
        "start_time": "2022-05-09T10:18:01.208Z"
      },
      {
        "duration": 48,
        "start_time": "2022-05-09T10:18:01.368Z"
      },
      {
        "duration": 155,
        "start_time": "2022-05-09T10:18:01.418Z"
      },
      {
        "duration": 4,
        "start_time": "2022-05-09T10:18:01.575Z"
      },
      {
        "duration": 16,
        "start_time": "2022-05-09T10:18:01.581Z"
      },
      {
        "duration": 6,
        "start_time": "2022-05-09T10:18:01.599Z"
      },
      {
        "duration": 67,
        "start_time": "2022-05-09T10:18:01.606Z"
      },
      {
        "duration": 720,
        "start_time": "2022-05-09T10:18:01.678Z"
      },
      {
        "duration": 22,
        "start_time": "2022-05-09T10:18:02.400Z"
      },
      {
        "duration": 133,
        "start_time": "2022-05-09T10:18:02.424Z"
      },
      {
        "duration": 43,
        "start_time": "2022-05-09T10:18:02.559Z"
      },
      {
        "duration": 529,
        "start_time": "2022-05-09T10:18:02.605Z"
      },
      {
        "duration": 38,
        "start_time": "2022-05-09T10:18:03.136Z"
      },
      {
        "duration": 16,
        "start_time": "2022-05-09T10:18:03.176Z"
      },
      {
        "duration": 43,
        "start_time": "2022-05-09T10:18:03.193Z"
      },
      {
        "duration": 8,
        "start_time": "2022-05-09T10:18:03.238Z"
      },
      {
        "duration": 61,
        "start_time": "2022-05-09T10:18:03.247Z"
      },
      {
        "duration": 1143,
        "start_time": "2022-05-09T10:18:03.310Z"
      },
      {
        "duration": 268,
        "start_time": "2022-05-09T10:18:04.455Z"
      },
      {
        "duration": 13,
        "start_time": "2022-05-09T10:18:04.725Z"
      },
      {
        "duration": 53,
        "start_time": "2022-05-09T10:18:04.739Z"
      },
      {
        "duration": 363,
        "start_time": "2022-05-09T10:18:04.793Z"
      },
      {
        "duration": 49,
        "start_time": "2022-05-09T10:18:05.157Z"
      },
      {
        "duration": 411,
        "start_time": "2022-05-09T10:18:05.208Z"
      },
      {
        "duration": 7,
        "start_time": "2022-05-09T10:18:05.621Z"
      },
      {
        "duration": 151,
        "start_time": "2022-05-09T10:18:05.629Z"
      },
      {
        "duration": 12,
        "start_time": "2022-05-09T10:18:05.782Z"
      },
      {
        "duration": 38,
        "start_time": "2022-05-09T10:18:05.796Z"
      },
      {
        "duration": 4845,
        "start_time": "2022-05-09T10:18:05.836Z"
      },
      {
        "duration": 21,
        "start_time": "2022-05-09T10:18:10.683Z"
      },
      {
        "duration": 44,
        "start_time": "2022-05-09T10:18:10.705Z"
      },
      {
        "duration": 105,
        "start_time": "2022-05-09T10:18:10.750Z"
      },
      {
        "duration": 102,
        "start_time": "2022-05-09T10:18:10.857Z"
      },
      {
        "duration": 21,
        "start_time": "2022-05-09T10:18:10.961Z"
      },
      {
        "duration": 34,
        "start_time": "2022-05-09T10:18:10.984Z"
      },
      {
        "duration": 3887,
        "start_time": "2022-05-09T10:18:11.020Z"
      },
      {
        "duration": 26,
        "start_time": "2022-05-09T10:18:14.909Z"
      },
      {
        "duration": 55,
        "start_time": "2022-05-09T10:18:14.936Z"
      },
      {
        "duration": 198,
        "start_time": "2022-05-09T10:18:14.993Z"
      },
      {
        "duration": 24,
        "start_time": "2022-05-09T10:18:15.192Z"
      },
      {
        "duration": 206,
        "start_time": "2022-05-09T10:18:15.218Z"
      },
      {
        "duration": 92,
        "start_time": "2022-05-09T10:18:15.425Z"
      },
      {
        "duration": 4659,
        "start_time": "2022-05-09T10:18:15.519Z"
      },
      {
        "duration": 28,
        "start_time": "2022-05-09T10:18:20.179Z"
      },
      {
        "duration": 28,
        "start_time": "2022-05-09T10:18:20.208Z"
      },
      {
        "duration": 61,
        "start_time": "2022-05-09T10:18:20.238Z"
      },
      {
        "duration": 88,
        "start_time": "2022-05-09T10:18:20.300Z"
      },
      {
        "duration": 24,
        "start_time": "2022-05-09T10:18:20.390Z"
      },
      {
        "duration": 4247,
        "start_time": "2022-05-09T10:18:20.416Z"
      },
      {
        "duration": 35,
        "start_time": "2022-05-09T10:18:24.665Z"
      },
      {
        "duration": 40,
        "start_time": "2022-05-09T10:18:24.702Z"
      },
      {
        "duration": 98,
        "start_time": "2022-05-09T10:18:24.743Z"
      },
      {
        "duration": 17831,
        "start_time": "2022-05-09T10:18:24.843Z"
      },
      {
        "duration": 29,
        "start_time": "2022-05-09T10:18:42.676Z"
      },
      {
        "duration": 155,
        "start_time": "2022-05-09T10:18:42.707Z"
      },
      {
        "duration": 10,
        "start_time": "2022-05-09T10:18:42.864Z"
      },
      {
        "duration": 6,
        "start_time": "2022-05-09T10:18:42.875Z"
      },
      {
        "duration": 49,
        "start_time": "2022-05-09T10:18:48.702Z"
      },
      {
        "duration": 427,
        "start_time": "2022-05-09T10:23:35.256Z"
      },
      {
        "duration": 24,
        "start_time": "2022-05-09T10:23:46.380Z"
      },
      {
        "duration": 285,
        "start_time": "2022-05-09T11:25:41.637Z"
      },
      {
        "duration": 113,
        "start_time": "2022-05-09T11:27:39.935Z"
      },
      {
        "duration": 51,
        "start_time": "2022-05-09T11:28:34.469Z"
      },
      {
        "duration": 18,
        "start_time": "2022-05-09T11:29:38.541Z"
      },
      {
        "duration": 66,
        "start_time": "2022-05-09T11:30:04.317Z"
      },
      {
        "duration": 43,
        "start_time": "2022-05-09T11:30:32.507Z"
      },
      {
        "duration": 7,
        "start_time": "2022-05-09T11:30:47.099Z"
      },
      {
        "duration": 175,
        "start_time": "2022-05-09T11:31:01.409Z"
      },
      {
        "duration": 325,
        "start_time": "2022-05-09T11:31:49.208Z"
      },
      {
        "duration": 111,
        "start_time": "2022-05-09T11:32:46.097Z"
      },
      {
        "duration": 5,
        "start_time": "2022-05-09T11:33:22.364Z"
      },
      {
        "duration": 1276,
        "start_time": "2022-05-09T11:39:12.991Z"
      },
      {
        "duration": 53,
        "start_time": "2022-05-09T11:39:56.999Z"
      },
      {
        "duration": 315,
        "start_time": "2022-05-09T11:40:40.670Z"
      },
      {
        "duration": 26,
        "start_time": "2022-05-09T11:40:42.390Z"
      },
      {
        "duration": 117,
        "start_time": "2022-05-09T11:40:52.304Z"
      },
      {
        "duration": 717,
        "start_time": "2022-05-09T11:40:55.999Z"
      },
      {
        "duration": 833,
        "start_time": "2022-05-09T11:41:23.061Z"
      },
      {
        "duration": 283,
        "start_time": "2022-05-09T11:41:38.966Z"
      },
      {
        "duration": 111,
        "start_time": "2022-05-09T11:41:43.934Z"
      },
      {
        "duration": 7903,
        "start_time": "2022-05-09T11:41:47.551Z"
      },
      {
        "duration": 54960,
        "start_time": "2022-05-09T11:42:39.873Z"
      },
      {
        "duration": 46221,
        "start_time": "2022-05-09T11:45:05.167Z"
      },
      {
        "duration": 303,
        "start_time": "2022-05-09T11:46:57.344Z"
      },
      {
        "duration": 110,
        "start_time": "2022-05-09T11:46:59.375Z"
      },
      {
        "duration": 4,
        "start_time": "2022-05-09T11:47:02.321Z"
      },
      {
        "duration": 4,
        "start_time": "2022-05-09T11:48:28.802Z"
      },
      {
        "duration": 4,
        "start_time": "2022-05-09T11:48:36.710Z"
      },
      {
        "duration": 919,
        "start_time": "2022-05-09T11:49:32.933Z"
      },
      {
        "duration": 7907,
        "start_time": "2022-05-09T11:49:44.438Z"
      },
      {
        "duration": 54557,
        "start_time": "2022-05-09T11:50:00.586Z"
      },
      {
        "duration": 57101,
        "start_time": "2022-05-09T11:51:45.714Z"
      },
      {
        "duration": 4,
        "start_time": "2022-05-09T11:55:29.740Z"
      },
      {
        "duration": 868,
        "start_time": "2022-05-09T11:55:29.746Z"
      },
      {
        "duration": 5,
        "start_time": "2022-05-09T11:55:30.615Z"
      },
      {
        "duration": 21,
        "start_time": "2022-05-09T11:55:30.621Z"
      },
      {
        "duration": 156,
        "start_time": "2022-05-09T11:55:30.644Z"
      },
      {
        "duration": 144,
        "start_time": "2022-05-09T11:55:30.801Z"
      },
      {
        "duration": 478,
        "start_time": "2022-05-09T11:55:30.947Z"
      },
      {
        "duration": 471,
        "start_time": "2022-05-09T11:55:31.427Z"
      },
      {
        "duration": 499,
        "start_time": "2022-05-09T11:55:31.899Z"
      },
      {
        "duration": 78,
        "start_time": "2022-05-09T11:55:32.400Z"
      },
      {
        "duration": 98,
        "start_time": "2022-05-09T11:55:32.481Z"
      },
      {
        "duration": 40,
        "start_time": "2022-05-09T11:55:32.582Z"
      },
      {
        "duration": 465,
        "start_time": "2022-05-09T11:55:32.624Z"
      },
      {
        "duration": 38,
        "start_time": "2022-05-09T11:55:33.094Z"
      },
      {
        "duration": 179,
        "start_time": "2022-05-09T11:55:33.133Z"
      },
      {
        "duration": 4,
        "start_time": "2022-05-09T11:55:33.314Z"
      },
      {
        "duration": 10,
        "start_time": "2022-05-09T11:55:33.320Z"
      },
      {
        "duration": 10,
        "start_time": "2022-05-09T11:55:33.332Z"
      },
      {
        "duration": 189,
        "start_time": "2022-05-09T11:55:33.343Z"
      },
      {
        "duration": 9,
        "start_time": "2022-05-09T11:55:33.534Z"
      },
      {
        "duration": 163,
        "start_time": "2022-05-09T11:55:33.545Z"
      },
      {
        "duration": 37,
        "start_time": "2022-05-09T11:55:33.710Z"
      },
      {
        "duration": 172,
        "start_time": "2022-05-09T11:55:33.749Z"
      },
      {
        "duration": 6,
        "start_time": "2022-05-09T11:55:33.923Z"
      },
      {
        "duration": 13,
        "start_time": "2022-05-09T11:55:33.930Z"
      },
      {
        "duration": 38,
        "start_time": "2022-05-09T11:55:33.945Z"
      },
      {
        "duration": 41,
        "start_time": "2022-05-09T11:55:33.985Z"
      },
      {
        "duration": 869,
        "start_time": "2022-05-09T11:55:34.028Z"
      },
      {
        "duration": 23,
        "start_time": "2022-05-09T11:55:34.898Z"
      },
      {
        "duration": 138,
        "start_time": "2022-05-09T11:55:34.922Z"
      },
      {
        "duration": 41,
        "start_time": "2022-05-09T11:55:35.062Z"
      },
      {
        "duration": 443,
        "start_time": "2022-05-09T11:55:35.105Z"
      },
      {
        "duration": 51,
        "start_time": "2022-05-09T11:55:35.549Z"
      },
      {
        "duration": 16,
        "start_time": "2022-05-09T11:55:35.602Z"
      },
      {
        "duration": 69,
        "start_time": "2022-05-09T11:55:35.620Z"
      },
      {
        "duration": 12,
        "start_time": "2022-05-09T11:55:35.690Z"
      },
      {
        "duration": 37,
        "start_time": "2022-05-09T11:55:35.704Z"
      },
      {
        "duration": 1374,
        "start_time": "2022-05-09T11:55:35.743Z"
      },
      {
        "duration": 136,
        "start_time": "2022-05-09T11:55:37.119Z"
      },
      {
        "duration": 30,
        "start_time": "2022-05-09T11:55:37.257Z"
      },
      {
        "duration": 34,
        "start_time": "2022-05-09T11:55:37.296Z"
      },
      {
        "duration": 403,
        "start_time": "2022-05-09T11:55:37.332Z"
      },
      {
        "duration": 49,
        "start_time": "2022-05-09T11:55:37.737Z"
      },
      {
        "duration": 458,
        "start_time": "2022-05-09T11:55:37.788Z"
      },
      {
        "duration": 7,
        "start_time": "2022-05-09T11:55:38.247Z"
      },
      {
        "duration": 180,
        "start_time": "2022-05-09T11:55:38.256Z"
      },
      {
        "duration": 12,
        "start_time": "2022-05-09T11:55:38.438Z"
      },
      {
        "duration": 47,
        "start_time": "2022-05-09T11:55:38.451Z"
      },
      {
        "duration": 4942,
        "start_time": "2022-05-09T11:55:38.500Z"
      },
      {
        "duration": 19,
        "start_time": "2022-05-09T11:55:43.443Z"
      },
      {
        "duration": 53,
        "start_time": "2022-05-09T11:55:43.473Z"
      },
      {
        "duration": 111,
        "start_time": "2022-05-09T11:55:43.527Z"
      },
      {
        "duration": 112,
        "start_time": "2022-05-09T11:55:43.640Z"
      },
      {
        "duration": 25,
        "start_time": "2022-05-09T11:55:43.754Z"
      },
      {
        "duration": 51,
        "start_time": "2022-05-09T11:55:43.781Z"
      },
      {
        "duration": 4149,
        "start_time": "2022-05-09T11:55:43.834Z"
      },
      {
        "duration": 30,
        "start_time": "2022-05-09T11:55:47.985Z"
      },
      {
        "duration": 35,
        "start_time": "2022-05-09T11:55:48.017Z"
      },
      {
        "duration": 222,
        "start_time": "2022-05-09T11:55:48.054Z"
      },
      {
        "duration": 27,
        "start_time": "2022-05-09T11:55:48.283Z"
      },
      {
        "duration": 370,
        "start_time": "2022-05-09T11:55:48.312Z"
      },
      {
        "duration": 94,
        "start_time": "2022-05-09T11:55:48.687Z"
      },
      {
        "duration": 4685,
        "start_time": "2022-05-09T11:55:48.787Z"
      },
      {
        "duration": 35,
        "start_time": "2022-05-09T11:55:53.474Z"
      },
      {
        "duration": 29,
        "start_time": "2022-05-09T11:55:53.511Z"
      },
      {
        "duration": 70,
        "start_time": "2022-05-09T11:55:53.542Z"
      },
      {
        "duration": 97,
        "start_time": "2022-05-09T11:55:53.614Z"
      },
      {
        "duration": 27,
        "start_time": "2022-05-09T11:55:53.713Z"
      },
      {
        "duration": 4577,
        "start_time": "2022-05-09T11:55:53.742Z"
      },
      {
        "duration": 29,
        "start_time": "2022-05-09T11:55:58.320Z"
      },
      {
        "duration": 52,
        "start_time": "2022-05-09T11:55:58.351Z"
      },
      {
        "duration": 104,
        "start_time": "2022-05-09T11:55:58.405Z"
      },
      {
        "duration": 18506,
        "start_time": "2022-05-09T11:55:58.511Z"
      },
      {
        "duration": 30,
        "start_time": "2022-05-09T11:56:17.019Z"
      },
      {
        "duration": 184,
        "start_time": "2022-05-09T11:56:17.051Z"
      },
      {
        "duration": 3,
        "start_time": "2022-05-09T11:56:17.237Z"
      },
      {
        "duration": 13,
        "start_time": "2022-05-09T11:56:17.242Z"
      },
      {
        "duration": 69,
        "start_time": "2022-05-09T11:56:17.257Z"
      },
      {
        "duration": 461,
        "start_time": "2022-05-09T11:56:17.328Z"
      },
      {
        "duration": 30,
        "start_time": "2022-05-09T11:56:17.792Z"
      },
      {
        "duration": 302,
        "start_time": "2022-05-09T11:56:17.824Z"
      },
      {
        "duration": 5,
        "start_time": "2022-05-09T11:56:18.128Z"
      },
      {
        "duration": 308,
        "start_time": "2022-05-09T11:56:18.136Z"
      },
      {
        "duration": 115,
        "start_time": "2022-05-09T11:56:18.446Z"
      },
      {
        "duration": 7958,
        "start_time": "2022-05-09T11:56:18.563Z"
      },
      {
        "duration": 55043,
        "start_time": "2022-05-09T11:56:26.523Z"
      },
      {
        "duration": 44838,
        "start_time": "2022-05-09T11:57:21.572Z"
      },
      {
        "duration": 4,
        "start_time": "2022-05-09T11:59:18.204Z"
      },
      {
        "duration": 4,
        "start_time": "2022-05-09T11:59:28.722Z"
      },
      {
        "duration": 4,
        "start_time": "2022-05-09T11:59:39.995Z"
      },
      {
        "duration": 390,
        "start_time": "2022-05-09T11:59:57.115Z"
      },
      {
        "duration": 1028,
        "start_time": "2022-05-09T12:00:26.364Z"
      },
      {
        "duration": 4,
        "start_time": "2022-05-09T12:00:34.615Z"
      },
      {
        "duration": 373,
        "start_time": "2022-05-09T12:00:41.732Z"
      },
      {
        "duration": 153,
        "start_time": "2022-05-09T12:01:14.577Z"
      },
      {
        "duration": 222,
        "start_time": "2022-05-09T12:10:52.502Z"
      },
      {
        "duration": 4125,
        "start_time": "2022-05-09T12:10:52.725Z"
      },
      {
        "duration": 108,
        "start_time": "2022-05-09T12:18:17.497Z"
      },
      {
        "duration": 33,
        "start_time": "2022-05-09T12:18:21.860Z"
      },
      {
        "duration": 124,
        "start_time": "2022-05-09T12:30:17.122Z"
      },
      {
        "duration": 351,
        "start_time": "2022-05-09T12:33:30.734Z"
      },
      {
        "duration": 7,
        "start_time": "2022-05-09T12:33:32.605Z"
      },
      {
        "duration": 4,
        "start_time": "2022-05-09T12:35:42.650Z"
      },
      {
        "duration": 850,
        "start_time": "2022-05-09T12:35:42.656Z"
      },
      {
        "duration": 5,
        "start_time": "2022-05-09T12:35:43.508Z"
      },
      {
        "duration": 9,
        "start_time": "2022-05-09T12:35:43.515Z"
      },
      {
        "duration": 137,
        "start_time": "2022-05-09T12:35:43.527Z"
      },
      {
        "duration": 140,
        "start_time": "2022-05-09T12:35:43.666Z"
      },
      {
        "duration": 453,
        "start_time": "2022-05-09T12:35:43.808Z"
      },
      {
        "duration": 463,
        "start_time": "2022-05-09T12:35:44.263Z"
      },
      {
        "duration": 498,
        "start_time": "2022-05-09T12:35:44.729Z"
      },
      {
        "duration": 86,
        "start_time": "2022-05-09T12:35:45.229Z"
      },
      {
        "duration": 102,
        "start_time": "2022-05-09T12:35:45.318Z"
      },
      {
        "duration": 34,
        "start_time": "2022-05-09T12:35:45.422Z"
      },
      {
        "duration": 466,
        "start_time": "2022-05-09T12:35:45.457Z"
      },
      {
        "duration": 40,
        "start_time": "2022-05-09T12:35:45.924Z"
      },
      {
        "duration": 158,
        "start_time": "2022-05-09T12:35:45.977Z"
      },
      {
        "duration": 4,
        "start_time": "2022-05-09T12:35:46.137Z"
      },
      {
        "duration": 10,
        "start_time": "2022-05-09T12:35:46.142Z"
      },
      {
        "duration": 24,
        "start_time": "2022-05-09T12:35:46.153Z"
      },
      {
        "duration": 208,
        "start_time": "2022-05-09T12:35:46.179Z"
      },
      {
        "duration": 9,
        "start_time": "2022-05-09T12:35:46.390Z"
      },
      {
        "duration": 157,
        "start_time": "2022-05-09T12:35:46.401Z"
      },
      {
        "duration": 48,
        "start_time": "2022-05-09T12:35:46.560Z"
      },
      {
        "duration": 156,
        "start_time": "2022-05-09T12:35:46.609Z"
      },
      {
        "duration": 11,
        "start_time": "2022-05-09T12:35:46.767Z"
      },
      {
        "duration": 28,
        "start_time": "2022-05-09T12:35:46.780Z"
      },
      {
        "duration": 7,
        "start_time": "2022-05-09T12:35:46.809Z"
      },
      {
        "duration": 37,
        "start_time": "2022-05-09T12:35:46.818Z"
      },
      {
        "duration": 756,
        "start_time": "2022-05-09T12:35:46.857Z"
      },
      {
        "duration": 22,
        "start_time": "2022-05-09T12:35:47.617Z"
      },
      {
        "duration": 150,
        "start_time": "2022-05-09T12:35:47.641Z"
      },
      {
        "duration": 37,
        "start_time": "2022-05-09T12:35:47.793Z"
      },
      {
        "duration": 451,
        "start_time": "2022-05-09T12:35:47.832Z"
      },
      {
        "duration": 35,
        "start_time": "2022-05-09T12:35:48.286Z"
      },
      {
        "duration": 17,
        "start_time": "2022-05-09T12:35:48.323Z"
      },
      {
        "duration": 87,
        "start_time": "2022-05-09T12:35:48.341Z"
      },
      {
        "duration": 8,
        "start_time": "2022-05-09T12:35:48.430Z"
      },
      {
        "duration": 59,
        "start_time": "2022-05-09T12:35:48.440Z"
      },
      {
        "duration": 1212,
        "start_time": "2022-05-09T12:35:48.501Z"
      },
      {
        "duration": 133,
        "start_time": "2022-05-09T12:35:49.715Z"
      },
      {
        "duration": 33,
        "start_time": "2022-05-09T12:35:49.849Z"
      },
      {
        "duration": 33,
        "start_time": "2022-05-09T12:35:49.884Z"
      },
      {
        "duration": 408,
        "start_time": "2022-05-09T12:35:49.919Z"
      },
      {
        "duration": 48,
        "start_time": "2022-05-09T12:35:50.329Z"
      },
      {
        "duration": 476,
        "start_time": "2022-05-09T12:35:50.379Z"
      },
      {
        "duration": 7,
        "start_time": "2022-05-09T12:35:50.857Z"
      },
      {
        "duration": 164,
        "start_time": "2022-05-09T12:35:50.865Z"
      },
      {
        "duration": 12,
        "start_time": "2022-05-09T12:35:51.031Z"
      },
      {
        "duration": 59,
        "start_time": "2022-05-09T12:35:51.045Z"
      },
      {
        "duration": 4985,
        "start_time": "2022-05-09T12:35:51.106Z"
      },
      {
        "duration": 22,
        "start_time": "2022-05-09T12:35:56.093Z"
      },
      {
        "duration": 68,
        "start_time": "2022-05-09T12:35:56.117Z"
      },
      {
        "duration": 95,
        "start_time": "2022-05-09T12:35:56.187Z"
      },
      {
        "duration": 97,
        "start_time": "2022-05-09T12:35:56.284Z"
      },
      {
        "duration": 21,
        "start_time": "2022-05-09T12:35:56.383Z"
      },
      {
        "duration": 30,
        "start_time": "2022-05-09T12:35:56.405Z"
      },
      {
        "duration": 4249,
        "start_time": "2022-05-09T12:35:56.437Z"
      },
      {
        "duration": 27,
        "start_time": "2022-05-09T12:36:00.688Z"
      },
      {
        "duration": 35,
        "start_time": "2022-05-09T12:36:00.717Z"
      },
      {
        "duration": 224,
        "start_time": "2022-05-09T12:36:00.774Z"
      },
      {
        "duration": 25,
        "start_time": "2022-05-09T12:36:01.000Z"
      },
      {
        "duration": 239,
        "start_time": "2022-05-09T12:36:01.027Z"
      },
      {
        "duration": 105,
        "start_time": "2022-05-09T12:36:01.273Z"
      },
      {
        "duration": 4909,
        "start_time": "2022-05-09T12:36:01.380Z"
      },
      {
        "duration": 31,
        "start_time": "2022-05-09T12:36:06.291Z"
      },
      {
        "duration": 54,
        "start_time": "2022-05-09T12:36:06.324Z"
      },
      {
        "duration": 47,
        "start_time": "2022-05-09T12:36:06.380Z"
      },
      {
        "duration": 107,
        "start_time": "2022-05-09T12:36:06.429Z"
      },
      {
        "duration": 40,
        "start_time": "2022-05-09T12:36:06.538Z"
      },
      {
        "duration": 4776,
        "start_time": "2022-05-09T12:36:06.583Z"
      },
      {
        "duration": 41,
        "start_time": "2022-05-09T12:36:11.361Z"
      },
      {
        "duration": 43,
        "start_time": "2022-05-09T12:36:11.404Z"
      },
      {
        "duration": 105,
        "start_time": "2022-05-09T12:36:11.449Z"
      },
      {
        "duration": 19806,
        "start_time": "2022-05-09T12:36:11.556Z"
      },
      {
        "duration": 42,
        "start_time": "2022-05-09T12:36:31.364Z"
      },
      {
        "duration": 171,
        "start_time": "2022-05-09T12:36:31.409Z"
      },
      {
        "duration": 4,
        "start_time": "2022-05-09T12:36:31.582Z"
      },
      {
        "duration": 73,
        "start_time": "2022-05-09T12:36:31.588Z"
      },
      {
        "duration": 345,
        "start_time": "2022-05-09T12:36:31.663Z"
      },
      {
        "duration": 7,
        "start_time": "2022-05-09T12:36:32.010Z"
      },
      {
        "duration": 487,
        "start_time": "2022-05-09T12:36:32.019Z"
      },
      {
        "duration": 285,
        "start_time": "2022-05-09T12:36:32.508Z"
      },
      {
        "duration": 301,
        "start_time": "2022-05-09T12:36:32.795Z"
      },
      {
        "duration": 125,
        "start_time": "2022-05-09T12:36:33.102Z"
      },
      {
        "duration": 7986,
        "start_time": "2022-05-09T12:36:33.229Z"
      },
      {
        "duration": 56292,
        "start_time": "2022-05-09T12:36:41.217Z"
      },
      {
        "duration": 49543,
        "start_time": "2022-05-09T12:37:37.511Z"
      },
      {
        "duration": 159,
        "start_time": "2022-05-09T12:38:27.056Z"
      },
      {
        "duration": 3938,
        "start_time": "2022-05-09T12:38:27.217Z"
      },
      {
        "duration": 5,
        "start_time": "2022-05-09T12:43:48.696Z"
      },
      {
        "duration": 883,
        "start_time": "2022-05-09T12:43:48.703Z"
      },
      {
        "duration": 6,
        "start_time": "2022-05-09T12:43:49.588Z"
      },
      {
        "duration": 8,
        "start_time": "2022-05-09T12:43:49.596Z"
      },
      {
        "duration": 160,
        "start_time": "2022-05-09T12:43:49.606Z"
      },
      {
        "duration": 155,
        "start_time": "2022-05-09T12:43:49.768Z"
      },
      {
        "duration": 533,
        "start_time": "2022-05-09T12:43:49.925Z"
      },
      {
        "duration": 505,
        "start_time": "2022-05-09T12:43:50.461Z"
      },
      {
        "duration": 511,
        "start_time": "2022-05-09T12:43:50.968Z"
      },
      {
        "duration": 79,
        "start_time": "2022-05-09T12:43:51.481Z"
      },
      {
        "duration": 103,
        "start_time": "2022-05-09T12:43:51.563Z"
      },
      {
        "duration": 40,
        "start_time": "2022-05-09T12:43:51.668Z"
      },
      {
        "duration": 479,
        "start_time": "2022-05-09T12:43:51.711Z"
      },
      {
        "duration": 40,
        "start_time": "2022-05-09T12:43:52.192Z"
      },
      {
        "duration": 177,
        "start_time": "2022-05-09T12:43:52.234Z"
      },
      {
        "duration": 4,
        "start_time": "2022-05-09T12:43:52.413Z"
      },
      {
        "duration": 14,
        "start_time": "2022-05-09T12:43:52.418Z"
      },
      {
        "duration": 6,
        "start_time": "2022-05-09T12:43:52.433Z"
      },
      {
        "duration": 207,
        "start_time": "2022-05-09T12:43:52.441Z"
      },
      {
        "duration": 8,
        "start_time": "2022-05-09T12:43:52.650Z"
      },
      {
        "duration": 208,
        "start_time": "2022-05-09T12:43:52.659Z"
      },
      {
        "duration": 48,
        "start_time": "2022-05-09T12:43:52.869Z"
      },
      {
        "duration": 177,
        "start_time": "2022-05-09T12:43:52.919Z"
      },
      {
        "duration": 5,
        "start_time": "2022-05-09T12:43:53.098Z"
      },
      {
        "duration": 20,
        "start_time": "2022-05-09T12:43:53.105Z"
      },
      {
        "duration": 6,
        "start_time": "2022-05-09T12:43:53.127Z"
      },
      {
        "duration": 78,
        "start_time": "2022-05-09T12:43:53.134Z"
      },
      {
        "duration": 773,
        "start_time": "2022-05-09T12:43:53.214Z"
      },
      {
        "duration": 23,
        "start_time": "2022-05-09T12:43:53.992Z"
      },
      {
        "duration": 141,
        "start_time": "2022-05-09T12:43:54.017Z"
      },
      {
        "duration": 53,
        "start_time": "2022-05-09T12:43:54.160Z"
      },
      {
        "duration": 449,
        "start_time": "2022-05-09T12:43:54.215Z"
      },
      {
        "duration": 60,
        "start_time": "2022-05-09T12:43:54.666Z"
      },
      {
        "duration": 17,
        "start_time": "2022-05-09T12:43:54.728Z"
      },
      {
        "duration": 77,
        "start_time": "2022-05-09T12:43:54.747Z"
      },
      {
        "duration": 8,
        "start_time": "2022-05-09T12:43:54.826Z"
      },
      {
        "duration": 61,
        "start_time": "2022-05-09T12:43:54.835Z"
      },
      {
        "duration": 1280,
        "start_time": "2022-05-09T12:43:54.898Z"
      },
      {
        "duration": 139,
        "start_time": "2022-05-09T12:43:56.180Z"
      },
      {
        "duration": 14,
        "start_time": "2022-05-09T12:43:56.321Z"
      },
      {
        "duration": 59,
        "start_time": "2022-05-09T12:43:56.337Z"
      },
      {
        "duration": 417,
        "start_time": "2022-05-09T12:43:56.398Z"
      },
      {
        "duration": 33,
        "start_time": "2022-05-09T12:43:56.817Z"
      },
      {
        "duration": 497,
        "start_time": "2022-05-09T12:43:56.852Z"
      },
      {
        "duration": 9,
        "start_time": "2022-05-09T12:43:57.351Z"
      },
      {
        "duration": 201,
        "start_time": "2022-05-09T12:43:57.376Z"
      },
      {
        "duration": 18,
        "start_time": "2022-05-09T12:43:57.580Z"
      },
      {
        "duration": 37,
        "start_time": "2022-05-09T12:43:57.601Z"
      },
      {
        "duration": 5046,
        "start_time": "2022-05-09T12:43:57.640Z"
      },
      {
        "duration": 22,
        "start_time": "2022-05-09T12:44:02.689Z"
      },
      {
        "duration": 64,
        "start_time": "2022-05-09T12:44:02.713Z"
      },
      {
        "duration": 110,
        "start_time": "2022-05-09T12:44:02.781Z"
      },
      {
        "duration": 162,
        "start_time": "2022-05-09T12:44:02.896Z"
      },
      {
        "duration": 17,
        "start_time": "2022-05-09T12:44:03.060Z"
      },
      {
        "duration": 42,
        "start_time": "2022-05-09T12:44:03.079Z"
      },
      {
        "duration": 4167,
        "start_time": "2022-05-09T12:44:03.123Z"
      },
      {
        "duration": 27,
        "start_time": "2022-05-09T12:44:07.292Z"
      },
      {
        "duration": 54,
        "start_time": "2022-05-09T12:44:07.321Z"
      },
      {
        "duration": 219,
        "start_time": "2022-05-09T12:44:07.378Z"
      },
      {
        "duration": 26,
        "start_time": "2022-05-09T12:44:07.598Z"
      },
      {
        "duration": 232,
        "start_time": "2022-05-09T12:44:07.626Z"
      },
      {
        "duration": 100,
        "start_time": "2022-05-09T12:44:07.860Z"
      },
      {
        "duration": 4619,
        "start_time": "2022-05-09T12:44:07.962Z"
      },
      {
        "duration": 30,
        "start_time": "2022-05-09T12:44:12.582Z"
      },
      {
        "duration": 33,
        "start_time": "2022-05-09T12:44:12.613Z"
      },
      {
        "duration": 65,
        "start_time": "2022-05-09T12:44:12.647Z"
      },
      {
        "duration": 95,
        "start_time": "2022-05-09T12:44:12.714Z"
      },
      {
        "duration": 25,
        "start_time": "2022-05-09T12:44:12.811Z"
      },
      {
        "duration": 4392,
        "start_time": "2022-05-09T12:44:12.838Z"
      },
      {
        "duration": 42,
        "start_time": "2022-05-09T12:44:17.232Z"
      },
      {
        "duration": 45,
        "start_time": "2022-05-09T12:44:17.275Z"
      },
      {
        "duration": 94,
        "start_time": "2022-05-09T12:44:17.322Z"
      },
      {
        "duration": 18864,
        "start_time": "2022-05-09T12:44:17.418Z"
      },
      {
        "duration": 32,
        "start_time": "2022-05-09T12:44:36.284Z"
      },
      {
        "duration": 177,
        "start_time": "2022-05-09T12:44:36.318Z"
      },
      {
        "duration": 2,
        "start_time": "2022-05-09T12:44:36.497Z"
      },
      {
        "duration": 63,
        "start_time": "2022-05-09T12:44:36.501Z"
      },
      {
        "duration": 358,
        "start_time": "2022-05-09T12:44:36.566Z"
      },
      {
        "duration": 7,
        "start_time": "2022-05-09T12:44:36.925Z"
      },
      {
        "duration": 481,
        "start_time": "2022-05-09T12:44:36.933Z"
      },
      {
        "duration": 302,
        "start_time": "2022-05-09T12:44:37.416Z"
      },
      {
        "duration": 310,
        "start_time": "2022-05-09T12:44:37.720Z"
      },
      {
        "duration": 119,
        "start_time": "2022-05-09T12:44:38.036Z"
      },
      {
        "duration": 7859,
        "start_time": "2022-05-09T12:44:38.156Z"
      },
      {
        "duration": 55478,
        "start_time": "2022-05-09T12:44:46.017Z"
      },
      {
        "duration": 49594,
        "start_time": "2022-05-09T12:45:41.497Z"
      },
      {
        "duration": 12,
        "start_time": "2022-05-09T12:46:31.093Z"
      },
      {
        "duration": 1635,
        "start_time": "2022-05-09T16:37:22.656Z"
      },
      {
        "duration": 757,
        "start_time": "2022-05-09T16:37:24.293Z"
      },
      {
        "duration": 7,
        "start_time": "2022-05-09T16:37:25.052Z"
      },
      {
        "duration": 16,
        "start_time": "2022-05-09T16:37:25.061Z"
      },
      {
        "duration": 159,
        "start_time": "2022-05-09T16:37:25.080Z"
      },
      {
        "duration": 117,
        "start_time": "2022-05-09T16:37:25.240Z"
      },
      {
        "duration": 459,
        "start_time": "2022-05-09T16:37:25.358Z"
      },
      {
        "duration": 498,
        "start_time": "2022-05-09T16:37:25.818Z"
      },
      {
        "duration": 547,
        "start_time": "2022-05-09T16:37:26.318Z"
      },
      {
        "duration": 78,
        "start_time": "2022-05-09T16:37:26.867Z"
      },
      {
        "duration": 109,
        "start_time": "2022-05-09T16:37:26.946Z"
      },
      {
        "duration": 46,
        "start_time": "2022-05-09T16:37:27.057Z"
      },
      {
        "duration": 459,
        "start_time": "2022-05-09T16:37:27.105Z"
      },
      {
        "duration": 50,
        "start_time": "2022-05-09T16:37:27.567Z"
      },
      {
        "duration": 156,
        "start_time": "2022-05-09T16:37:27.619Z"
      },
      {
        "duration": 4,
        "start_time": "2022-05-09T16:37:27.777Z"
      },
      {
        "duration": 13,
        "start_time": "2022-05-09T16:37:27.782Z"
      },
      {
        "duration": 6,
        "start_time": "2022-05-09T16:37:27.797Z"
      },
      {
        "duration": 261,
        "start_time": "2022-05-09T16:37:27.804Z"
      },
      {
        "duration": 11,
        "start_time": "2022-05-09T16:37:28.067Z"
      },
      {
        "duration": 158,
        "start_time": "2022-05-09T16:37:28.080Z"
      },
      {
        "duration": 52,
        "start_time": "2022-05-09T16:37:28.239Z"
      },
      {
        "duration": 155,
        "start_time": "2022-05-09T16:37:28.292Z"
      },
      {
        "duration": 6,
        "start_time": "2022-05-09T16:37:28.449Z"
      },
      {
        "duration": 12,
        "start_time": "2022-05-09T16:37:28.473Z"
      },
      {
        "duration": 8,
        "start_time": "2022-05-09T16:37:28.487Z"
      },
      {
        "duration": 45,
        "start_time": "2022-05-09T16:37:28.497Z"
      },
      {
        "duration": 766,
        "start_time": "2022-05-09T16:37:28.544Z"
      },
      {
        "duration": 23,
        "start_time": "2022-05-09T16:37:29.313Z"
      },
      {
        "duration": 147,
        "start_time": "2022-05-09T16:37:29.339Z"
      },
      {
        "duration": 38,
        "start_time": "2022-05-09T16:37:29.488Z"
      },
      {
        "duration": 542,
        "start_time": "2022-05-09T16:37:29.528Z"
      },
      {
        "duration": 36,
        "start_time": "2022-05-09T16:37:30.073Z"
      },
      {
        "duration": 16,
        "start_time": "2022-05-09T16:37:30.111Z"
      },
      {
        "duration": 71,
        "start_time": "2022-05-09T16:37:30.129Z"
      },
      {
        "duration": 10,
        "start_time": "2022-05-09T16:37:30.202Z"
      },
      {
        "duration": 40,
        "start_time": "2022-05-09T16:37:30.214Z"
      },
      {
        "duration": 1125,
        "start_time": "2022-05-09T16:37:30.255Z"
      },
      {
        "duration": 270,
        "start_time": "2022-05-09T16:37:31.382Z"
      },
      {
        "duration": 22,
        "start_time": "2022-05-09T16:37:31.654Z"
      },
      {
        "duration": 36,
        "start_time": "2022-05-09T16:37:31.682Z"
      },
      {
        "duration": 379,
        "start_time": "2022-05-09T16:37:31.719Z"
      },
      {
        "duration": 38,
        "start_time": "2022-05-09T16:37:32.100Z"
      },
      {
        "duration": 429,
        "start_time": "2022-05-09T16:37:32.139Z"
      },
      {
        "duration": 8,
        "start_time": "2022-05-09T16:37:32.570Z"
      },
      {
        "duration": 158,
        "start_time": "2022-05-09T16:37:32.580Z"
      },
      {
        "duration": 12,
        "start_time": "2022-05-09T16:37:32.740Z"
      },
      {
        "duration": 40,
        "start_time": "2022-05-09T16:37:32.753Z"
      },
      {
        "duration": 4501,
        "start_time": "2022-05-09T16:37:32.795Z"
      },
      {
        "duration": 22,
        "start_time": "2022-05-09T16:37:37.298Z"
      },
      {
        "duration": 61,
        "start_time": "2022-05-09T16:37:37.322Z"
      },
      {
        "duration": 92,
        "start_time": "2022-05-09T16:37:37.385Z"
      },
      {
        "duration": 98,
        "start_time": "2022-05-09T16:37:37.479Z"
      },
      {
        "duration": 10,
        "start_time": "2022-05-09T16:37:37.578Z"
      },
      {
        "duration": 27,
        "start_time": "2022-05-09T16:37:37.590Z"
      },
      {
        "duration": 3858,
        "start_time": "2022-05-09T16:37:37.618Z"
      },
      {
        "duration": 23,
        "start_time": "2022-05-09T16:37:41.478Z"
      },
      {
        "duration": 32,
        "start_time": "2022-05-09T16:37:41.503Z"
      },
      {
        "duration": 203,
        "start_time": "2022-05-09T16:37:41.537Z"
      },
      {
        "duration": 33,
        "start_time": "2022-05-09T16:37:41.741Z"
      },
      {
        "duration": 186,
        "start_time": "2022-05-09T16:37:41.775Z"
      },
      {
        "duration": 90,
        "start_time": "2022-05-09T16:37:41.962Z"
      },
      {
        "duration": 4345,
        "start_time": "2022-05-09T16:37:42.054Z"
      },
      {
        "duration": 24,
        "start_time": "2022-05-09T16:37:46.401Z"
      },
      {
        "duration": 25,
        "start_time": "2022-05-09T16:37:46.426Z"
      },
      {
        "duration": 39,
        "start_time": "2022-05-09T16:37:46.474Z"
      },
      {
        "duration": 92,
        "start_time": "2022-05-09T16:37:46.514Z"
      },
      {
        "duration": 25,
        "start_time": "2022-05-09T16:37:46.607Z"
      },
      {
        "duration": 4237,
        "start_time": "2022-05-09T16:37:46.633Z"
      },
      {
        "duration": 27,
        "start_time": "2022-05-09T16:37:50.873Z"
      },
      {
        "duration": 40,
        "start_time": "2022-05-09T16:37:50.902Z"
      },
      {
        "duration": 103,
        "start_time": "2022-05-09T16:37:50.944Z"
      },
      {
        "duration": 17680,
        "start_time": "2022-05-09T16:37:51.049Z"
      },
      {
        "duration": 25,
        "start_time": "2022-05-09T16:38:08.731Z"
      },
      {
        "duration": 158,
        "start_time": "2022-05-09T16:38:08.757Z"
      },
      {
        "duration": 3,
        "start_time": "2022-05-09T16:38:08.916Z"
      },
      {
        "duration": 57,
        "start_time": "2022-05-09T16:38:08.920Z"
      },
      {
        "duration": 319,
        "start_time": "2022-05-09T16:38:08.978Z"
      },
      {
        "duration": 7,
        "start_time": "2022-05-09T16:38:09.299Z"
      },
      {
        "duration": 439,
        "start_time": "2022-05-09T16:38:09.307Z"
      },
      {
        "duration": 280,
        "start_time": "2022-05-09T16:38:09.747Z"
      },
      {
        "duration": 1002,
        "start_time": "2022-05-09T16:38:10.029Z"
      },
      {
        "duration": 415,
        "start_time": "2022-05-09T16:38:11.033Z"
      },
      {
        "duration": 3,
        "start_time": "2022-05-09T16:38:11.449Z"
      },
      {
        "duration": 155,
        "start_time": "2022-05-09T16:38:11.453Z"
      },
      {
        "duration": 6030,
        "start_time": "2022-05-09T16:38:26.107Z"
      },
      {
        "duration": 819,
        "start_time": "2022-05-09T16:39:02.011Z"
      },
      {
        "duration": 8165,
        "start_time": "2022-05-09T16:42:57.453Z"
      },
      {
        "duration": 7861,
        "start_time": "2022-05-09T16:43:16.190Z"
      },
      {
        "duration": 684,
        "start_time": "2022-05-09T16:44:59.148Z"
      },
      {
        "duration": 10,
        "start_time": "2022-05-09T17:21:37.872Z"
      },
      {
        "duration": 5,
        "start_time": "2022-05-09T17:21:56.406Z"
      },
      {
        "duration": 5,
        "start_time": "2022-05-09T17:22:04.640Z"
      },
      {
        "duration": 520946,
        "start_time": "2022-05-09T17:27:00.689Z"
      },
      {
        "duration": 67764,
        "start_time": "2022-05-09T17:41:48.008Z"
      },
      {
        "duration": 64395,
        "start_time": "2022-05-09T17:47:58.445Z"
      },
      {
        "duration": 6187,
        "start_time": "2022-05-09T17:56:52.873Z"
      },
      {
        "duration": 1073,
        "start_time": "2022-05-09T17:57:12.845Z"
      },
      {
        "duration": 624,
        "start_time": "2022-05-09T17:58:18.628Z"
      },
      {
        "duration": 65393,
        "start_time": "2022-05-09T17:59:00.342Z"
      },
      {
        "duration": 51384,
        "start_time": "2022-05-09T18:04:40.671Z"
      },
      {
        "duration": 10809,
        "start_time": "2022-05-09T18:06:19.742Z"
      },
      {
        "duration": 6449371,
        "start_time": "2022-05-09T18:08:39.094Z"
      },
      {
        "duration": 142,
        "start_time": "2022-05-09T20:03:38.929Z"
      },
      {
        "duration": 62910,
        "start_time": "2022-05-09T20:04:18.249Z"
      },
      {
        "duration": 41815,
        "start_time": "2022-05-09T20:08:50.573Z"
      },
      {
        "duration": 3428,
        "start_time": "2022-05-09T20:11:11.864Z"
      },
      {
        "duration": 43406,
        "start_time": "2022-05-09T20:12:13.892Z"
      },
      {
        "duration": 49851,
        "start_time": "2022-05-09T20:14:43.124Z"
      },
      {
        "duration": 61054,
        "start_time": "2022-05-09T20:17:34.828Z"
      },
      {
        "duration": 950,
        "start_time": "2022-05-09T20:21:28.826Z"
      },
      {
        "duration": 7,
        "start_time": "2022-05-09T20:24:43.298Z"
      },
      {
        "duration": 7,
        "start_time": "2022-05-09T20:24:53.651Z"
      },
      {
        "duration": 89,
        "start_time": "2022-05-09T20:29:06.626Z"
      },
      {
        "duration": 16,
        "start_time": "2022-05-09T20:29:14.699Z"
      },
      {
        "duration": 58,
        "start_time": "2022-05-09T20:42:09.005Z"
      },
      {
        "duration": 130683,
        "start_time": "2022-05-09T20:42:19.096Z"
      },
      {
        "duration": 444513,
        "start_time": "2022-05-09T20:50:42.362Z"
      },
      {
        "duration": 5,
        "start_time": "2022-05-09T21:19:19.164Z"
      },
      {
        "duration": 766,
        "start_time": "2022-05-09T21:19:19.171Z"
      },
      {
        "duration": 5,
        "start_time": "2022-05-09T21:19:19.938Z"
      },
      {
        "duration": 7,
        "start_time": "2022-05-09T21:19:19.944Z"
      },
      {
        "duration": 135,
        "start_time": "2022-05-09T21:19:19.953Z"
      },
      {
        "duration": 120,
        "start_time": "2022-05-09T21:19:20.090Z"
      },
      {
        "duration": 414,
        "start_time": "2022-05-09T21:19:20.211Z"
      },
      {
        "duration": 418,
        "start_time": "2022-05-09T21:19:20.627Z"
      },
      {
        "duration": 426,
        "start_time": "2022-05-09T21:19:21.047Z"
      },
      {
        "duration": 64,
        "start_time": "2022-05-09T21:19:21.475Z"
      },
      {
        "duration": 103,
        "start_time": "2022-05-09T21:19:21.540Z"
      },
      {
        "duration": 38,
        "start_time": "2022-05-09T21:19:21.645Z"
      },
      {
        "duration": 401,
        "start_time": "2022-05-09T21:19:21.686Z"
      },
      {
        "duration": 36,
        "start_time": "2022-05-09T21:19:22.089Z"
      },
      {
        "duration": 151,
        "start_time": "2022-05-09T21:19:22.127Z"
      },
      {
        "duration": 4,
        "start_time": "2022-05-09T21:19:22.279Z"
      },
      {
        "duration": 10,
        "start_time": "2022-05-09T21:19:22.284Z"
      },
      {
        "duration": 6,
        "start_time": "2022-05-09T21:19:22.295Z"
      },
      {
        "duration": 172,
        "start_time": "2022-05-09T21:19:22.303Z"
      },
      {
        "duration": 8,
        "start_time": "2022-05-09T21:19:22.476Z"
      },
      {
        "duration": 140,
        "start_time": "2022-05-09T21:19:22.486Z"
      },
      {
        "duration": 50,
        "start_time": "2022-05-09T21:19:22.628Z"
      },
      {
        "duration": 141,
        "start_time": "2022-05-09T21:19:22.680Z"
      },
      {
        "duration": 5,
        "start_time": "2022-05-09T21:19:22.822Z"
      },
      {
        "duration": 11,
        "start_time": "2022-05-09T21:19:22.829Z"
      },
      {
        "duration": 6,
        "start_time": "2022-05-09T21:19:22.841Z"
      },
      {
        "duration": 60,
        "start_time": "2022-05-09T21:19:22.848Z"
      },
      {
        "duration": 786,
        "start_time": "2022-05-09T21:19:22.910Z"
      },
      {
        "duration": 20,
        "start_time": "2022-05-09T21:19:23.698Z"
      },
      {
        "duration": 144,
        "start_time": "2022-05-09T21:19:23.719Z"
      },
      {
        "duration": 41,
        "start_time": "2022-05-09T21:19:23.865Z"
      },
      {
        "duration": 397,
        "start_time": "2022-05-09T21:19:23.908Z"
      },
      {
        "duration": 34,
        "start_time": "2022-05-09T21:19:24.306Z"
      },
      {
        "duration": 15,
        "start_time": "2022-05-09T21:19:24.342Z"
      },
      {
        "duration": 53,
        "start_time": "2022-05-09T21:19:24.358Z"
      },
      {
        "duration": 6,
        "start_time": "2022-05-09T21:19:24.413Z"
      },
      {
        "duration": 52,
        "start_time": "2022-05-09T21:19:24.424Z"
      },
      {
        "duration": 1188,
        "start_time": "2022-05-09T21:19:24.478Z"
      },
      {
        "duration": 125,
        "start_time": "2022-05-09T21:19:25.667Z"
      },
      {
        "duration": 12,
        "start_time": "2022-05-09T21:19:25.793Z"
      },
      {
        "duration": 32,
        "start_time": "2022-05-09T21:19:25.806Z"
      },
      {
        "duration": 412,
        "start_time": "2022-05-09T21:19:25.840Z"
      },
      {
        "duration": 41,
        "start_time": "2022-05-09T21:19:26.254Z"
      },
      {
        "duration": 580,
        "start_time": "2022-05-09T21:19:26.297Z"
      },
      {
        "duration": 7,
        "start_time": "2022-05-09T21:19:26.878Z"
      },
      {
        "duration": 158,
        "start_time": "2022-05-09T21:19:26.887Z"
      },
      {
        "duration": 11,
        "start_time": "2022-05-09T21:19:27.047Z"
      },
      {
        "duration": 32,
        "start_time": "2022-05-09T21:19:27.059Z"
      },
      {
        "duration": 4553,
        "start_time": "2022-05-09T21:19:27.093Z"
      },
      {
        "duration": 30,
        "start_time": "2022-05-09T21:19:31.648Z"
      },
      {
        "duration": 46,
        "start_time": "2022-05-09T21:19:31.680Z"
      },
      {
        "duration": 103,
        "start_time": "2022-05-09T21:19:31.727Z"
      },
      {
        "duration": 100,
        "start_time": "2022-05-09T21:19:31.831Z"
      },
      {
        "duration": 11,
        "start_time": "2022-05-09T21:19:31.933Z"
      },
      {
        "duration": 43,
        "start_time": "2022-05-09T21:19:31.946Z"
      },
      {
        "duration": 3797,
        "start_time": "2022-05-09T21:19:31.990Z"
      },
      {
        "duration": 25,
        "start_time": "2022-05-09T21:19:35.789Z"
      },
      {
        "duration": 34,
        "start_time": "2022-05-09T21:19:35.815Z"
      },
      {
        "duration": 202,
        "start_time": "2022-05-09T21:19:35.851Z"
      },
      {
        "duration": 26,
        "start_time": "2022-05-09T21:19:36.055Z"
      },
      {
        "duration": 192,
        "start_time": "2022-05-09T21:19:36.082Z"
      },
      {
        "duration": 87,
        "start_time": "2022-05-09T21:19:36.276Z"
      },
      {
        "duration": 4304,
        "start_time": "2022-05-09T21:19:36.372Z"
      },
      {
        "duration": 26,
        "start_time": "2022-05-09T21:19:40.677Z"
      },
      {
        "duration": 27,
        "start_time": "2022-05-09T21:19:40.705Z"
      },
      {
        "duration": 63,
        "start_time": "2022-05-09T21:19:40.734Z"
      },
      {
        "duration": 91,
        "start_time": "2022-05-09T21:19:40.799Z"
      },
      {
        "duration": 26,
        "start_time": "2022-05-09T21:19:40.891Z"
      },
      {
        "duration": 4251,
        "start_time": "2022-05-09T21:19:40.918Z"
      },
      {
        "duration": 27,
        "start_time": "2022-05-09T21:19:45.170Z"
      },
      {
        "duration": 41,
        "start_time": "2022-05-09T21:19:45.198Z"
      },
      {
        "duration": 100,
        "start_time": "2022-05-09T21:19:45.241Z"
      },
      {
        "duration": 17473,
        "start_time": "2022-05-09T21:19:45.342Z"
      },
      {
        "duration": 26,
        "start_time": "2022-05-09T21:20:02.816Z"
      },
      {
        "duration": 155,
        "start_time": "2022-05-09T21:20:02.844Z"
      },
      {
        "duration": 2,
        "start_time": "2022-05-09T21:20:03.000Z"
      },
      {
        "duration": 66,
        "start_time": "2022-05-09T21:20:03.004Z"
      },
      {
        "duration": 305,
        "start_time": "2022-05-09T21:20:03.072Z"
      },
      {
        "duration": 6,
        "start_time": "2022-05-09T21:20:03.379Z"
      },
      {
        "duration": 442,
        "start_time": "2022-05-09T21:20:03.386Z"
      },
      {
        "duration": 289,
        "start_time": "2022-05-09T21:20:03.830Z"
      },
      {
        "duration": 1075,
        "start_time": "2022-05-09T21:20:04.120Z"
      },
      {
        "duration": 308,
        "start_time": "2022-05-09T21:20:05.197Z"
      },
      {
        "duration": 3,
        "start_time": "2022-05-09T21:20:05.507Z"
      },
      {
        "duration": 156,
        "start_time": "2022-05-09T21:20:05.511Z"
      },
      {
        "duration": 5920,
        "start_time": "2022-05-09T21:20:05.672Z"
      },
      {
        "duration": 825,
        "start_time": "2022-05-09T21:20:11.593Z"
      },
      {
        "duration": 611,
        "start_time": "2022-05-09T21:20:12.420Z"
      },
      {
        "duration": 61401,
        "start_time": "2022-05-09T21:20:13.033Z"
      },
      {
        "duration": 10333,
        "start_time": "2022-05-09T21:21:14.435Z"
      },
      {
        "duration": 39502,
        "start_time": "2022-05-09T21:21:24.769Z"
      },
      {
        "duration": 49405,
        "start_time": "2022-05-09T21:22:04.273Z"
      },
      {
        "duration": 12715,
        "start_time": "2022-05-09T21:22:53.680Z"
      },
      {
        "duration": 131104,
        "start_time": "2022-05-09T21:23:06.473Z"
      },
      {
        "duration": 105,
        "start_time": "2022-05-09T21:25:17.578Z"
      },
      {
        "duration": 10,
        "start_time": "2022-05-09T21:28:42.144Z"
      },
      {
        "duration": 39,
        "start_time": "2022-05-09T21:28:49.129Z"
      },
      {
        "duration": 11,
        "start_time": "2022-05-09T21:28:53.237Z"
      },
      {
        "duration": 47,
        "start_time": "2022-05-09T21:29:03.984Z"
      },
      {
        "duration": 1901,
        "start_time": "2022-05-09T21:31:34.317Z"
      },
      {
        "duration": 1974,
        "start_time": "2022-05-09T21:31:56.240Z"
      },
      {
        "duration": 12,
        "start_time": "2022-05-09T21:32:27.108Z"
      },
      {
        "duration": 4,
        "start_time": "2022-05-09T21:33:32.978Z"
      },
      {
        "duration": 4,
        "start_time": "2022-05-09T21:33:36.874Z"
      },
      {
        "duration": 3,
        "start_time": "2022-05-09T21:33:47.710Z"
      },
      {
        "duration": 4,
        "start_time": "2022-05-09T21:33:51.782Z"
      },
      {
        "duration": 5,
        "start_time": "2022-05-09T21:34:16.579Z"
      },
      {
        "duration": 4,
        "start_time": "2022-05-09T21:34:22.621Z"
      },
      {
        "duration": 4,
        "start_time": "2022-05-09T21:34:30.039Z"
      },
      {
        "duration": 757,
        "start_time": "2022-05-09T21:35:01.302Z"
      },
      {
        "duration": 2485,
        "start_time": "2022-05-10T14:47:39.634Z"
      },
      {
        "duration": 1295,
        "start_time": "2022-05-10T14:47:42.122Z"
      },
      {
        "duration": 7,
        "start_time": "2022-05-10T14:47:43.425Z"
      },
      {
        "duration": 20,
        "start_time": "2022-05-10T14:47:43.434Z"
      },
      {
        "duration": 191,
        "start_time": "2022-05-10T14:47:43.459Z"
      },
      {
        "duration": 185,
        "start_time": "2022-05-10T14:47:43.652Z"
      },
      {
        "duration": 822,
        "start_time": "2022-05-10T14:47:43.839Z"
      },
      {
        "duration": 802,
        "start_time": "2022-05-10T14:47:44.663Z"
      },
      {
        "duration": 870,
        "start_time": "2022-05-10T14:47:45.468Z"
      },
      {
        "duration": 116,
        "start_time": "2022-05-10T14:47:46.341Z"
      },
      {
        "duration": 137,
        "start_time": "2022-05-10T14:47:46.459Z"
      },
      {
        "duration": 73,
        "start_time": "2022-05-10T14:47:46.599Z"
      },
      {
        "duration": 1040,
        "start_time": "2022-05-10T14:47:46.674Z"
      },
      {
        "duration": 86,
        "start_time": "2022-05-10T14:47:47.718Z"
      },
      {
        "duration": 263,
        "start_time": "2022-05-10T14:47:47.807Z"
      },
      {
        "duration": 5,
        "start_time": "2022-05-10T14:47:48.072Z"
      },
      {
        "duration": 15,
        "start_time": "2022-05-10T14:47:48.080Z"
      },
      {
        "duration": 6,
        "start_time": "2022-05-10T14:47:48.098Z"
      },
      {
        "duration": 441,
        "start_time": "2022-05-10T14:47:48.125Z"
      },
      {
        "duration": 10,
        "start_time": "2022-05-10T14:47:48.568Z"
      },
      {
        "duration": 312,
        "start_time": "2022-05-10T14:47:48.580Z"
      },
      {
        "duration": 90,
        "start_time": "2022-05-10T14:47:48.895Z"
      },
      {
        "duration": 266,
        "start_time": "2022-05-10T14:47:48.987Z"
      },
      {
        "duration": 6,
        "start_time": "2022-05-10T14:47:49.256Z"
      },
      {
        "duration": 15,
        "start_time": "2022-05-10T14:47:49.264Z"
      },
      {
        "duration": 8,
        "start_time": "2022-05-10T14:47:49.281Z"
      },
      {
        "duration": 120,
        "start_time": "2022-05-10T14:47:49.291Z"
      },
      {
        "duration": 1362,
        "start_time": "2022-05-10T14:47:49.413Z"
      },
      {
        "duration": 57,
        "start_time": "2022-05-10T14:47:50.778Z"
      },
      {
        "duration": 242,
        "start_time": "2022-05-10T14:47:50.837Z"
      },
      {
        "duration": 84,
        "start_time": "2022-05-10T14:47:51.081Z"
      },
      {
        "duration": 986,
        "start_time": "2022-05-10T14:47:51.168Z"
      },
      {
        "duration": 78,
        "start_time": "2022-05-10T14:47:52.156Z"
      },
      {
        "duration": 24,
        "start_time": "2022-05-10T14:47:52.238Z"
      },
      {
        "duration": 131,
        "start_time": "2022-05-10T14:47:52.265Z"
      },
      {
        "duration": 31,
        "start_time": "2022-05-10T14:47:52.399Z"
      },
      {
        "duration": 59,
        "start_time": "2022-05-10T14:47:52.432Z"
      },
      {
        "duration": 2134,
        "start_time": "2022-05-10T14:47:52.493Z"
      },
      {
        "duration": 424,
        "start_time": "2022-05-10T14:47:54.630Z"
      },
      {
        "duration": 18,
        "start_time": "2022-05-10T14:47:55.056Z"
      },
      {
        "duration": 90,
        "start_time": "2022-05-10T14:47:55.086Z"
      },
      {
        "duration": 857,
        "start_time": "2022-05-10T14:47:55.179Z"
      },
      {
        "duration": 56,
        "start_time": "2022-05-10T14:47:56.039Z"
      },
      {
        "duration": 794,
        "start_time": "2022-05-10T14:47:56.097Z"
      },
      {
        "duration": 11,
        "start_time": "2022-05-10T14:47:56.893Z"
      },
      {
        "duration": 278,
        "start_time": "2022-05-10T14:47:56.906Z"
      },
      {
        "duration": 27,
        "start_time": "2022-05-10T14:47:57.186Z"
      },
      {
        "duration": 64,
        "start_time": "2022-05-10T14:47:57.215Z"
      },
      {
        "duration": 13306,
        "start_time": "2022-05-10T14:47:57.282Z"
      },
      {
        "duration": 54,
        "start_time": "2022-05-10T14:48:10.590Z"
      },
      {
        "duration": 82,
        "start_time": "2022-05-10T14:48:10.647Z"
      },
      {
        "duration": 145,
        "start_time": "2022-05-10T14:48:10.732Z"
      },
      {
        "duration": 151,
        "start_time": "2022-05-10T14:48:10.880Z"
      },
      {
        "duration": 22,
        "start_time": "2022-05-10T14:48:11.034Z"
      },
      {
        "duration": 36,
        "start_time": "2022-05-10T14:48:11.058Z"
      },
      {
        "duration": 9214,
        "start_time": "2022-05-10T14:48:11.097Z"
      },
      {
        "duration": 69,
        "start_time": "2022-05-10T14:48:20.313Z"
      },
      {
        "duration": 96,
        "start_time": "2022-05-10T14:48:20.385Z"
      },
      {
        "duration": 543,
        "start_time": "2022-05-10T14:48:20.484Z"
      },
      {
        "duration": 46,
        "start_time": "2022-05-10T14:48:21.030Z"
      },
      {
        "duration": 364,
        "start_time": "2022-05-10T14:48:21.078Z"
      },
      {
        "duration": 125,
        "start_time": "2022-05-10T14:48:21.445Z"
      },
      {
        "duration": 12550,
        "start_time": "2022-05-10T14:48:21.573Z"
      },
      {
        "duration": 44,
        "start_time": "2022-05-10T14:48:34.126Z"
      },
      {
        "duration": 72,
        "start_time": "2022-05-10T14:48:34.172Z"
      },
      {
        "duration": 81,
        "start_time": "2022-05-10T14:48:34.246Z"
      },
      {
        "duration": 128,
        "start_time": "2022-05-10T14:48:34.329Z"
      },
      {
        "duration": 34,
        "start_time": "2022-05-10T14:48:34.459Z"
      },
      {
        "duration": 10128,
        "start_time": "2022-05-10T14:48:34.496Z"
      },
      {
        "duration": 49,
        "start_time": "2022-05-10T14:48:44.626Z"
      },
      {
        "duration": 91,
        "start_time": "2022-05-10T14:48:44.678Z"
      },
      {
        "duration": 130,
        "start_time": "2022-05-10T14:48:44.771Z"
      },
      {
        "duration": 44191,
        "start_time": "2022-05-10T14:48:44.903Z"
      },
      {
        "duration": 59,
        "start_time": "2022-05-10T14:49:29.097Z"
      },
      {
        "duration": 288,
        "start_time": "2022-05-10T14:49:29.159Z"
      },
      {
        "duration": 4,
        "start_time": "2022-05-10T14:49:29.449Z"
      },
      {
        "duration": 90,
        "start_time": "2022-05-10T14:49:29.456Z"
      },
      {
        "duration": 487,
        "start_time": "2022-05-10T14:49:29.548Z"
      },
      {
        "duration": 12,
        "start_time": "2022-05-10T14:49:30.037Z"
      },
      {
        "duration": 953,
        "start_time": "2022-05-10T14:49:30.052Z"
      },
      {
        "duration": 388,
        "start_time": "2022-05-10T14:49:31.008Z"
      },
      {
        "duration": 1820,
        "start_time": "2022-05-10T14:49:31.399Z"
      },
      {
        "duration": 716,
        "start_time": "2022-05-10T14:49:33.225Z"
      },
      {
        "duration": 5,
        "start_time": "2022-05-10T14:49:33.944Z"
      },
      {
        "duration": 254,
        "start_time": "2022-05-10T14:49:33.952Z"
      },
      {
        "duration": 51337,
        "start_time": "2022-05-10T14:49:34.209Z"
      },
      {
        "duration": 16094,
        "start_time": "2022-05-10T14:50:25.548Z"
      },
      {
        "duration": 141284,
        "start_time": "2022-05-10T14:50:41.645Z"
      },
      {
        "duration": 10321,
        "start_time": "2022-05-10T14:53:02.949Z"
      },
      {
        "duration": 2029,
        "start_time": "2022-05-10T14:53:13.273Z"
      },
      {
        "duration": 1491,
        "start_time": "2022-05-10T14:53:15.304Z"
      },
      {
        "duration": 158787,
        "start_time": "2022-05-10T14:53:16.798Z"
      },
      {
        "duration": 22839,
        "start_time": "2022-05-10T14:55:55.587Z"
      },
      {
        "duration": 90830,
        "start_time": "2022-05-10T14:56:18.428Z"
      },
      {
        "duration": 4256,
        "start_time": "2022-05-10T14:57:49.260Z"
      },
      {
        "duration": 1488,
        "start_time": "2022-05-10T14:57:53.518Z"
      },
      {
        "duration": 398,
        "start_time": "2022-05-10T15:01:41.488Z"
      },
      {
        "duration": 1168,
        "start_time": "2022-05-10T15:01:53.200Z"
      },
      {
        "duration": 192,
        "start_time": "2022-05-10T15:03:09.003Z"
      },
      {
        "duration": 1839,
        "start_time": "2022-05-10T15:21:20.182Z"
      },
      {
        "duration": 28,
        "start_time": "2022-05-10T15:30:47.137Z"
      },
      {
        "duration": 23,
        "start_time": "2022-05-10T15:31:12.878Z"
      },
      {
        "duration": 13,
        "start_time": "2022-05-10T15:32:54.513Z"
      },
      {
        "duration": 15,
        "start_time": "2022-05-10T15:33:02.440Z"
      },
      {
        "duration": 11580,
        "start_time": "2022-05-10T15:33:33.751Z"
      },
      {
        "duration": 6643,
        "start_time": "2022-05-10T15:35:50.298Z"
      },
      {
        "duration": 34588,
        "start_time": "2022-05-10T15:36:45.442Z"
      },
      {
        "duration": 38833,
        "start_time": "2022-05-10T15:37:42.993Z"
      },
      {
        "duration": 9625,
        "start_time": "2022-05-10T15:39:06.904Z"
      },
      {
        "duration": 13,
        "start_time": "2022-05-10T15:40:06.908Z"
      },
      {
        "duration": 1175,
        "start_time": "2022-05-10T15:43:40.736Z"
      },
      {
        "duration": 13,
        "start_time": "2022-05-10T15:44:28.535Z"
      },
      {
        "duration": 1844,
        "start_time": "2022-05-10T16:00:02.756Z"
      },
      {
        "duration": 56,
        "start_time": "2022-05-10T16:06:44.021Z"
      },
      {
        "duration": 9,
        "start_time": "2022-05-10T16:07:02.572Z"
      },
      {
        "duration": 316,
        "start_time": "2022-05-10T16:07:10.293Z"
      },
      {
        "duration": 850,
        "start_time": "2022-05-10T16:07:13.329Z"
      },
      {
        "duration": 1122,
        "start_time": "2022-05-10T16:07:48.905Z"
      },
      {
        "duration": 1093,
        "start_time": "2022-05-10T16:08:29.925Z"
      },
      {
        "duration": 1792,
        "start_time": "2022-05-10T16:09:44.320Z"
      },
      {
        "duration": 3363,
        "start_time": "2022-05-10T16:10:27.035Z"
      },
      {
        "duration": 3334,
        "start_time": "2022-05-10T16:23:43.437Z"
      },
      {
        "duration": 4904,
        "start_time": "2022-05-10T16:28:55.760Z"
      },
      {
        "duration": 24,
        "start_time": "2022-05-10T16:36:19.901Z"
      },
      {
        "duration": 12208,
        "start_time": "2022-05-10T16:42:05.021Z"
      },
      {
        "duration": 9689,
        "start_time": "2022-05-10T16:42:33.138Z"
      },
      {
        "duration": 15,
        "start_time": "2022-05-10T16:44:24.015Z"
      },
      {
        "duration": 10940,
        "start_time": "2022-05-10T16:44:35.769Z"
      },
      {
        "duration": 9724,
        "start_time": "2022-05-10T16:45:12.429Z"
      },
      {
        "duration": 6583,
        "start_time": "2022-05-10T16:45:50.745Z"
      },
      {
        "duration": 6790,
        "start_time": "2022-05-10T16:47:29.648Z"
      },
      {
        "duration": 1539,
        "start_time": "2022-05-10T16:49:33.510Z"
      },
      {
        "duration": 8,
        "start_time": "2022-05-10T16:51:02.830Z"
      },
      {
        "duration": 1355,
        "start_time": "2022-05-10T17:16:16.102Z"
      },
      {
        "duration": 1167,
        "start_time": "2022-05-10T17:16:22.526Z"
      },
      {
        "duration": 137,
        "start_time": "2022-05-10T17:17:26.106Z"
      },
      {
        "duration": 15385,
        "start_time": "2022-05-10T17:19:22.267Z"
      },
      {
        "duration": 16550,
        "start_time": "2022-05-10T17:19:48.505Z"
      },
      {
        "duration": 19253,
        "start_time": "2022-05-10T17:20:18.248Z"
      },
      {
        "duration": 6,
        "start_time": "2022-05-10T17:21:44.943Z"
      },
      {
        "duration": 4,
        "start_time": "2022-05-10T17:21:51.195Z"
      },
      {
        "duration": 20275,
        "start_time": "2022-05-10T17:21:53.107Z"
      },
      {
        "duration": 12642,
        "start_time": "2022-05-10T17:22:56.800Z"
      },
      {
        "duration": 9,
        "start_time": "2022-05-10T17:31:26.889Z"
      },
      {
        "duration": 133464,
        "start_time": "2022-05-10T17:32:25.567Z"
      },
      {
        "duration": 6,
        "start_time": "2022-05-10T17:36:07.181Z"
      },
      {
        "duration": 578841,
        "start_time": "2022-05-10T17:37:19.641Z"
      },
      {
        "duration": 7,
        "start_time": "2022-05-10T17:53:21.498Z"
      },
      {
        "duration": 204,
        "start_time": "2022-05-10T18:04:36.114Z"
      },
      {
        "duration": 39,
        "start_time": "2022-05-10T18:05:29.249Z"
      },
      {
        "duration": 198,
        "start_time": "2022-05-10T18:05:39.450Z"
      },
      {
        "duration": 230,
        "start_time": "2022-05-10T18:06:27.547Z"
      },
      {
        "duration": 230,
        "start_time": "2022-05-10T18:07:13.886Z"
      },
      {
        "duration": 315,
        "start_time": "2022-05-10T18:08:10.716Z"
      },
      {
        "duration": 3,
        "start_time": "2022-05-10T18:08:44.422Z"
      },
      {
        "duration": 6,
        "start_time": "2022-05-10T18:08:50.575Z"
      },
      {
        "duration": 14,
        "start_time": "2022-05-10T18:08:56.685Z"
      },
      {
        "duration": 10,
        "start_time": "2022-05-10T18:08:59.234Z"
      },
      {
        "duration": 6,
        "start_time": "2022-05-10T18:09:28.780Z"
      },
      {
        "duration": 122,
        "start_time": "2022-05-10T18:10:00.122Z"
      },
      {
        "duration": 17,
        "start_time": "2022-05-10T18:20:41.312Z"
      },
      {
        "duration": 247,
        "start_time": "2022-05-10T18:21:00.911Z"
      },
      {
        "duration": 192,
        "start_time": "2022-05-10T18:22:24.523Z"
      },
      {
        "duration": 14754,
        "start_time": "2022-05-10T18:42:34.745Z"
      },
      {
        "duration": 169,
        "start_time": "2022-05-10T19:27:13.705Z"
      },
      {
        "duration": 20,
        "start_time": "2022-05-10T19:27:15.242Z"
      },
      {
        "duration": 44,
        "start_time": "2022-05-10T19:27:21.023Z"
      },
      {
        "duration": 59,
        "start_time": "2022-05-10T19:42:37.332Z"
      },
      {
        "duration": 292,
        "start_time": "2022-05-10T19:43:06.485Z"
      },
      {
        "duration": 1242,
        "start_time": "2022-05-10T19:43:06.780Z"
      },
      {
        "duration": 9,
        "start_time": "2022-05-10T19:43:08.024Z"
      },
      {
        "duration": 30,
        "start_time": "2022-05-10T19:43:08.037Z"
      },
      {
        "duration": 216,
        "start_time": "2022-05-10T19:43:08.069Z"
      },
      {
        "duration": 207,
        "start_time": "2022-05-10T19:43:08.287Z"
      },
      {
        "duration": 786,
        "start_time": "2022-05-10T19:43:08.496Z"
      },
      {
        "duration": 810,
        "start_time": "2022-05-10T19:43:09.284Z"
      },
      {
        "duration": 851,
        "start_time": "2022-05-10T19:43:10.097Z"
      },
      {
        "duration": 106,
        "start_time": "2022-05-10T19:43:10.953Z"
      },
      {
        "duration": 138,
        "start_time": "2022-05-10T19:43:11.062Z"
      },
      {
        "duration": 61,
        "start_time": "2022-05-10T19:43:11.202Z"
      },
      {
        "duration": 790,
        "start_time": "2022-05-10T19:43:11.265Z"
      },
      {
        "duration": 81,
        "start_time": "2022-05-10T19:43:12.057Z"
      },
      {
        "duration": 276,
        "start_time": "2022-05-10T19:43:12.141Z"
      },
      {
        "duration": 4,
        "start_time": "2022-05-10T19:43:12.426Z"
      },
      {
        "duration": 25,
        "start_time": "2022-05-10T19:43:12.433Z"
      },
      {
        "duration": 6,
        "start_time": "2022-05-10T19:43:12.460Z"
      },
      {
        "duration": 322,
        "start_time": "2022-05-10T19:43:12.468Z"
      },
      {
        "duration": 9,
        "start_time": "2022-05-10T19:43:12.792Z"
      },
      {
        "duration": 271,
        "start_time": "2022-05-10T19:43:12.804Z"
      },
      {
        "duration": 78,
        "start_time": "2022-05-10T19:43:13.077Z"
      },
      {
        "duration": 277,
        "start_time": "2022-05-10T19:43:13.157Z"
      },
      {
        "duration": 8,
        "start_time": "2022-05-10T19:43:13.440Z"
      },
      {
        "duration": 36,
        "start_time": "2022-05-10T19:43:13.452Z"
      },
      {
        "duration": 14,
        "start_time": "2022-05-10T19:43:13.491Z"
      },
      {
        "duration": 79,
        "start_time": "2022-05-10T19:43:13.507Z"
      },
      {
        "duration": 1562,
        "start_time": "2022-05-10T19:43:13.593Z"
      },
      {
        "duration": 37,
        "start_time": "2022-05-10T19:43:15.158Z"
      },
      {
        "duration": 264,
        "start_time": "2022-05-10T19:43:15.198Z"
      },
      {
        "duration": 86,
        "start_time": "2022-05-10T19:43:15.464Z"
      },
      {
        "duration": 798,
        "start_time": "2022-05-10T19:43:15.555Z"
      },
      {
        "duration": 81,
        "start_time": "2022-05-10T19:43:16.355Z"
      },
      {
        "duration": 30,
        "start_time": "2022-05-10T19:43:16.439Z"
      },
      {
        "duration": 100,
        "start_time": "2022-05-10T19:43:16.471Z"
      },
      {
        "duration": 10,
        "start_time": "2022-05-10T19:43:16.573Z"
      },
      {
        "duration": 87,
        "start_time": "2022-05-10T19:43:16.585Z"
      },
      {
        "duration": 2374,
        "start_time": "2022-05-10T19:43:16.675Z"
      },
      {
        "duration": 254,
        "start_time": "2022-05-10T19:43:19.057Z"
      },
      {
        "duration": 32,
        "start_time": "2022-05-10T19:43:19.313Z"
      },
      {
        "duration": 78,
        "start_time": "2022-05-10T19:43:19.352Z"
      },
      {
        "duration": 687,
        "start_time": "2022-05-10T19:43:19.432Z"
      },
      {
        "duration": 67,
        "start_time": "2022-05-10T19:43:20.122Z"
      },
      {
        "duration": 824,
        "start_time": "2022-05-10T19:43:20.191Z"
      },
      {
        "duration": 18,
        "start_time": "2022-05-10T19:43:21.018Z"
      },
      {
        "duration": 282,
        "start_time": "2022-05-10T19:43:21.039Z"
      },
      {
        "duration": 30,
        "start_time": "2022-05-10T19:43:21.324Z"
      },
      {
        "duration": 37,
        "start_time": "2022-05-10T19:43:21.357Z"
      },
      {
        "duration": 11617,
        "start_time": "2022-05-10T19:43:21.397Z"
      },
      {
        "duration": 46,
        "start_time": "2022-05-10T19:43:33.016Z"
      },
      {
        "duration": 101,
        "start_time": "2022-05-10T19:43:33.064Z"
      },
      {
        "duration": 159,
        "start_time": "2022-05-10T19:43:33.167Z"
      },
      {
        "duration": 177,
        "start_time": "2022-05-10T19:43:33.329Z"
      },
      {
        "duration": 37,
        "start_time": "2022-05-10T19:43:33.508Z"
      },
      {
        "duration": 56,
        "start_time": "2022-05-10T19:43:33.548Z"
      },
      {
        "duration": 9550,
        "start_time": "2022-05-10T19:43:33.606Z"
      },
      {
        "duration": 41,
        "start_time": "2022-05-10T19:43:43.158Z"
      },
      {
        "duration": 83,
        "start_time": "2022-05-10T19:43:43.201Z"
      },
      {
        "duration": 332,
        "start_time": "2022-05-10T19:43:43.286Z"
      },
      {
        "duration": 35,
        "start_time": "2022-05-10T19:43:43.630Z"
      },
      {
        "duration": 605,
        "start_time": "2022-05-10T19:43:43.667Z"
      },
      {
        "duration": 132,
        "start_time": "2022-05-10T19:43:44.275Z"
      },
      {
        "duration": 10989,
        "start_time": "2022-05-10T19:43:44.409Z"
      },
      {
        "duration": 58,
        "start_time": "2022-05-10T19:43:55.400Z"
      },
      {
        "duration": 67,
        "start_time": "2022-05-10T19:43:55.461Z"
      },
      {
        "duration": 71,
        "start_time": "2022-05-10T19:43:55.530Z"
      },
      {
        "duration": 135,
        "start_time": "2022-05-10T19:43:55.603Z"
      },
      {
        "duration": 35,
        "start_time": "2022-05-10T19:43:55.741Z"
      },
      {
        "duration": 10076,
        "start_time": "2022-05-10T19:43:55.778Z"
      },
      {
        "duration": 43,
        "start_time": "2022-05-10T19:44:05.857Z"
      },
      {
        "duration": 92,
        "start_time": "2022-05-10T19:44:05.903Z"
      },
      {
        "duration": 132,
        "start_time": "2022-05-10T19:44:05.998Z"
      },
      {
        "duration": 44554,
        "start_time": "2022-05-10T19:44:06.132Z"
      },
      {
        "duration": 55,
        "start_time": "2022-05-10T19:44:50.688Z"
      },
      {
        "duration": 311,
        "start_time": "2022-05-10T19:44:50.745Z"
      },
      {
        "duration": 4,
        "start_time": "2022-05-10T19:44:51.059Z"
      },
      {
        "duration": 113,
        "start_time": "2022-05-10T19:44:51.066Z"
      },
      {
        "duration": 514,
        "start_time": "2022-05-10T19:44:51.181Z"
      },
      {
        "duration": 10,
        "start_time": "2022-05-10T19:44:51.697Z"
      },
      {
        "duration": 1207,
        "start_time": "2022-05-10T19:44:51.724Z"
      },
      {
        "duration": 349,
        "start_time": "2022-05-10T19:44:52.941Z"
      },
      {
        "duration": 1960,
        "start_time": "2022-05-10T19:44:53.301Z"
      },
      {
        "duration": 474,
        "start_time": "2022-05-10T19:44:55.263Z"
      },
      {
        "duration": 7,
        "start_time": "2022-05-10T19:44:55.739Z"
      },
      {
        "duration": 363,
        "start_time": "2022-05-10T19:44:55.749Z"
      },
      {
        "duration": 50520,
        "start_time": "2022-05-10T19:44:56.115Z"
      },
      {
        "duration": 15125,
        "start_time": "2022-05-10T19:45:46.639Z"
      },
      {
        "duration": 132958,
        "start_time": "2022-05-10T19:46:01.766Z"
      },
      {
        "duration": 13399,
        "start_time": "2022-05-10T19:48:14.753Z"
      },
      {
        "duration": 1385,
        "start_time": "2022-05-10T19:48:28.154Z"
      },
      {
        "duration": 9987,
        "start_time": "2022-05-10T19:48:29.542Z"
      },
      {
        "duration": 2058,
        "start_time": "2022-05-10T19:48:39.533Z"
      },
      {
        "duration": 140318,
        "start_time": "2022-05-10T19:48:41.594Z"
      },
      {
        "duration": 24362,
        "start_time": "2022-05-10T19:51:01.914Z"
      },
      {
        "duration": 92396,
        "start_time": "2022-05-10T19:51:26.278Z"
      },
      {
        "duration": 4453,
        "start_time": "2022-05-10T19:52:58.676Z"
      },
      {
        "duration": 1569,
        "start_time": "2022-05-10T19:53:03.132Z"
      },
      {
        "duration": 35656,
        "start_time": "2022-05-10T19:53:04.704Z"
      },
      {
        "duration": 9230,
        "start_time": "2022-05-10T19:53:40.429Z"
      },
      {
        "duration": 8115,
        "start_time": "2022-05-10T19:53:49.734Z"
      },
      {
        "duration": 1445,
        "start_time": "2022-05-10T19:53:57.852Z"
      },
      {
        "duration": 4,
        "start_time": "2022-05-10T19:53:59.299Z"
      },
      {
        "duration": 17257,
        "start_time": "2022-05-10T19:53:59.305Z"
      },
      {
        "duration": 12533,
        "start_time": "2022-05-10T19:54:16.564Z"
      },
      {
        "duration": 133543,
        "start_time": "2022-05-10T19:54:29.099Z"
      },
      {
        "duration": 90,
        "start_time": "2022-05-10T19:56:42.646Z"
      },
      {
        "duration": 573580,
        "start_time": "2022-05-10T19:56:42.739Z"
      },
      {
        "duration": 6,
        "start_time": "2022-05-10T20:06:16.331Z"
      },
      {
        "duration": 3586,
        "start_time": "2022-05-10T20:06:16.340Z"
      },
      {
        "duration": 3562,
        "start_time": "2022-05-10T20:06:19.930Z"
      },
      {
        "duration": 4152,
        "start_time": "2022-05-10T20:06:23.494Z"
      },
      {
        "duration": 4,
        "start_time": "2022-05-10T20:06:27.648Z"
      },
      {
        "duration": 75,
        "start_time": "2022-05-10T20:06:27.654Z"
      },
      {
        "duration": 152,
        "start_time": "2022-05-10T20:06:27.733Z"
      },
      {
        "duration": 18,
        "start_time": "2022-05-10T20:06:27.887Z"
      },
      {
        "duration": 49,
        "start_time": "2022-05-10T20:06:27.908Z"
      },
      {
        "duration": 6,
        "start_time": "2022-05-10T20:11:52.407Z"
      },
      {
        "duration": 695,
        "start_time": "2022-05-10T20:12:10.703Z"
      },
      {
        "duration": 62,
        "start_time": "2022-05-10T20:12:48.453Z"
      },
      {
        "duration": 3,
        "start_time": "2022-05-10T20:13:45.908Z"
      },
      {
        "duration": 21,
        "start_time": "2022-05-10T20:13:58.727Z"
      },
      {
        "duration": 107,
        "start_time": "2022-05-10T20:14:42.571Z"
      },
      {
        "duration": 4,
        "start_time": "2022-05-10T20:14:47.336Z"
      },
      {
        "duration": 68,
        "start_time": "2022-05-10T20:14:48.705Z"
      },
      {
        "duration": 4020,
        "start_time": "2022-05-11T15:44:40.435Z"
      },
      {
        "duration": 6922,
        "start_time": "2022-05-11T15:44:44.458Z"
      },
      {
        "duration": 6,
        "start_time": "2022-05-11T15:44:51.382Z"
      },
      {
        "duration": 8,
        "start_time": "2022-05-11T15:44:51.393Z"
      },
      {
        "duration": 188,
        "start_time": "2022-05-11T15:44:51.404Z"
      },
      {
        "duration": 280,
        "start_time": "2022-05-11T15:44:51.595Z"
      },
      {
        "duration": 1029,
        "start_time": "2022-05-11T15:44:51.878Z"
      },
      {
        "duration": 695,
        "start_time": "2022-05-11T15:44:52.910Z"
      },
      {
        "duration": 803,
        "start_time": "2022-05-11T15:44:53.607Z"
      },
      {
        "duration": 95,
        "start_time": "2022-05-11T15:44:54.412Z"
      },
      {
        "duration": 129,
        "start_time": "2022-05-11T15:44:54.509Z"
      },
      {
        "duration": 67,
        "start_time": "2022-05-11T15:44:54.640Z"
      },
      {
        "duration": 732,
        "start_time": "2022-05-11T15:44:54.710Z"
      },
      {
        "duration": 85,
        "start_time": "2022-05-11T15:44:55.446Z"
      },
      {
        "duration": 229,
        "start_time": "2022-05-11T15:44:55.533Z"
      },
      {
        "duration": 5,
        "start_time": "2022-05-11T15:44:55.764Z"
      },
      {
        "duration": 23,
        "start_time": "2022-05-11T15:44:55.771Z"
      },
      {
        "duration": 5,
        "start_time": "2022-05-11T15:44:55.796Z"
      },
      {
        "duration": 306,
        "start_time": "2022-05-11T15:44:55.803Z"
      },
      {
        "duration": 9,
        "start_time": "2022-05-11T15:44:56.111Z"
      },
      {
        "duration": 247,
        "start_time": "2022-05-11T15:44:56.122Z"
      },
      {
        "duration": 83,
        "start_time": "2022-05-11T15:44:56.371Z"
      },
      {
        "duration": 329,
        "start_time": "2022-05-11T15:44:56.457Z"
      },
      {
        "duration": 8,
        "start_time": "2022-05-11T15:44:56.788Z"
      },
      {
        "duration": 17,
        "start_time": "2022-05-11T15:44:56.798Z"
      },
      {
        "duration": 8,
        "start_time": "2022-05-11T15:44:56.817Z"
      },
      {
        "duration": 111,
        "start_time": "2022-05-11T15:44:56.828Z"
      },
      {
        "duration": 1300,
        "start_time": "2022-05-11T15:44:56.941Z"
      },
      {
        "duration": 49,
        "start_time": "2022-05-11T15:44:58.244Z"
      },
      {
        "duration": 213,
        "start_time": "2022-05-11T15:44:58.295Z"
      },
      {
        "duration": 62,
        "start_time": "2022-05-11T15:44:58.510Z"
      },
      {
        "duration": 809,
        "start_time": "2022-05-11T15:44:58.574Z"
      },
      {
        "duration": 61,
        "start_time": "2022-05-11T15:44:59.392Z"
      },
      {
        "duration": 47,
        "start_time": "2022-05-11T15:44:59.455Z"
      },
      {
        "duration": 70,
        "start_time": "2022-05-11T15:44:59.504Z"
      },
      {
        "duration": 23,
        "start_time": "2022-05-11T15:44:59.576Z"
      },
      {
        "duration": 54,
        "start_time": "2022-05-11T15:44:59.601Z"
      },
      {
        "duration": 2093,
        "start_time": "2022-05-11T15:44:59.657Z"
      },
      {
        "duration": 241,
        "start_time": "2022-05-11T15:45:01.752Z"
      },
      {
        "duration": 24,
        "start_time": "2022-05-11T15:45:01.998Z"
      },
      {
        "duration": 70,
        "start_time": "2022-05-11T15:45:02.030Z"
      },
      {
        "duration": 650,
        "start_time": "2022-05-11T15:45:02.102Z"
      },
      {
        "duration": 65,
        "start_time": "2022-05-11T15:45:02.755Z"
      },
      {
        "duration": 748,
        "start_time": "2022-05-11T15:45:02.823Z"
      },
      {
        "duration": 21,
        "start_time": "2022-05-11T15:45:03.573Z"
      },
      {
        "duration": 239,
        "start_time": "2022-05-11T15:45:03.596Z"
      },
      {
        "duration": 18,
        "start_time": "2022-05-11T15:45:03.838Z"
      },
      {
        "duration": 54,
        "start_time": "2022-05-11T15:45:03.859Z"
      },
      {
        "duration": 9978,
        "start_time": "2022-05-11T15:45:03.916Z"
      },
      {
        "duration": 31,
        "start_time": "2022-05-11T15:45:13.897Z"
      },
      {
        "duration": 96,
        "start_time": "2022-05-11T15:45:13.930Z"
      },
      {
        "duration": 194,
        "start_time": "2022-05-11T15:45:14.028Z"
      },
      {
        "duration": 210,
        "start_time": "2022-05-11T15:45:14.224Z"
      },
      {
        "duration": 24,
        "start_time": "2022-05-11T15:45:14.436Z"
      },
      {
        "duration": 60,
        "start_time": "2022-05-11T15:45:14.463Z"
      },
      {
        "duration": 8275,
        "start_time": "2022-05-11T15:45:14.525Z"
      },
      {
        "duration": 42,
        "start_time": "2022-05-11T15:45:22.803Z"
      },
      {
        "duration": 81,
        "start_time": "2022-05-11T15:45:22.848Z"
      },
      {
        "duration": 475,
        "start_time": "2022-05-11T15:45:22.932Z"
      },
      {
        "duration": 36,
        "start_time": "2022-05-11T15:45:23.410Z"
      },
      {
        "duration": 338,
        "start_time": "2022-05-11T15:45:23.449Z"
      },
      {
        "duration": 117,
        "start_time": "2022-05-11T15:45:23.794Z"
      },
      {
        "duration": 9765,
        "start_time": "2022-05-11T15:45:23.914Z"
      },
      {
        "duration": 48,
        "start_time": "2022-05-11T15:45:33.681Z"
      },
      {
        "duration": 70,
        "start_time": "2022-05-11T15:45:33.731Z"
      },
      {
        "duration": 89,
        "start_time": "2022-05-11T15:45:33.804Z"
      },
      {
        "duration": 114,
        "start_time": "2022-05-11T15:45:33.895Z"
      },
      {
        "duration": 35,
        "start_time": "2022-05-11T15:45:34.011Z"
      },
      {
        "duration": 9206,
        "start_time": "2022-05-11T15:45:34.048Z"
      },
      {
        "duration": 64,
        "start_time": "2022-05-11T15:45:43.256Z"
      },
      {
        "duration": 60,
        "start_time": "2022-05-11T15:45:43.322Z"
      },
      {
        "duration": 121,
        "start_time": "2022-05-11T15:45:43.393Z"
      },
      {
        "duration": 39749,
        "start_time": "2022-05-11T15:45:43.517Z"
      },
      {
        "duration": 52,
        "start_time": "2022-05-11T15:46:23.268Z"
      },
      {
        "duration": 276,
        "start_time": "2022-05-11T15:46:23.322Z"
      },
      {
        "duration": 3,
        "start_time": "2022-05-11T15:46:23.601Z"
      },
      {
        "duration": 72,
        "start_time": "2022-05-11T15:46:23.606Z"
      },
      {
        "duration": 475,
        "start_time": "2022-05-11T15:46:23.693Z"
      },
      {
        "duration": 10,
        "start_time": "2022-05-11T15:46:24.170Z"
      },
      {
        "duration": 463,
        "start_time": "2022-05-11T15:46:24.192Z"
      },
      {
        "duration": 330,
        "start_time": "2022-05-11T15:46:24.657Z"
      },
      {
        "duration": 1480,
        "start_time": "2022-05-11T15:46:24.989Z"
      },
      {
        "duration": 388,
        "start_time": "2022-05-11T15:46:26.471Z"
      },
      {
        "duration": 3,
        "start_time": "2022-05-11T15:46:26.861Z"
      },
      {
        "duration": 208,
        "start_time": "2022-05-11T15:46:26.866Z"
      },
      {
        "duration": 47628,
        "start_time": "2022-05-11T15:46:27.076Z"
      },
      {
        "duration": 13404,
        "start_time": "2022-05-11T15:47:14.707Z"
      },
      {
        "duration": 139889,
        "start_time": "2022-05-11T15:47:28.113Z"
      },
      {
        "duration": 9750,
        "start_time": "2022-05-11T15:49:48.093Z"
      },
      {
        "duration": 1164,
        "start_time": "2022-05-11T15:49:57.846Z"
      },
      {
        "duration": 8468,
        "start_time": "2022-05-11T15:49:59.013Z"
      },
      {
        "duration": 1684,
        "start_time": "2022-05-11T15:50:07.483Z"
      },
      {
        "duration": 117137,
        "start_time": "2022-05-11T15:50:09.170Z"
      },
      {
        "duration": 19429,
        "start_time": "2022-05-11T15:52:06.310Z"
      },
      {
        "duration": 85658,
        "start_time": "2022-05-11T15:52:25.742Z"
      },
      {
        "duration": 3871,
        "start_time": "2022-05-11T15:53:51.403Z"
      },
      {
        "duration": 1356,
        "start_time": "2022-05-11T15:53:55.276Z"
      },
      {
        "duration": 33760,
        "start_time": "2022-05-11T15:53:56.635Z"
      },
      {
        "duration": 8998,
        "start_time": "2022-05-11T15:54:30.398Z"
      },
      {
        "duration": 6788,
        "start_time": "2022-05-11T15:54:39.399Z"
      },
      {
        "duration": 1401,
        "start_time": "2022-05-11T15:54:46.192Z"
      },
      {
        "duration": 4,
        "start_time": "2022-05-11T15:54:47.595Z"
      },
      {
        "duration": 16221,
        "start_time": "2022-05-11T15:54:47.601Z"
      },
      {
        "duration": 11753,
        "start_time": "2022-05-11T15:55:03.824Z"
      },
      {
        "duration": 125817,
        "start_time": "2022-05-11T15:55:15.579Z"
      },
      {
        "duration": 6,
        "start_time": "2022-05-11T15:57:21.398Z"
      },
      {
        "duration": 536427,
        "start_time": "2022-05-11T15:57:21.406Z"
      },
      {
        "duration": 5,
        "start_time": "2022-05-11T16:06:17.835Z"
      },
      {
        "duration": 3110,
        "start_time": "2022-05-11T16:06:17.842Z"
      },
      {
        "duration": 3247,
        "start_time": "2022-05-11T16:06:20.955Z"
      },
      {
        "duration": 3019,
        "start_time": "2022-05-11T16:06:24.205Z"
      },
      {
        "duration": 4,
        "start_time": "2022-05-11T16:06:27.226Z"
      },
      {
        "duration": 82,
        "start_time": "2022-05-11T16:06:27.232Z"
      },
      {
        "duration": 137,
        "start_time": "2022-05-11T16:06:27.317Z"
      },
      {
        "duration": 18,
        "start_time": "2022-05-11T16:06:27.457Z"
      },
      {
        "duration": 54,
        "start_time": "2022-05-11T16:06:27.477Z"
      },
      {
        "duration": 665,
        "start_time": "2022-05-11T16:06:27.534Z"
      },
      {
        "duration": 56,
        "start_time": "2022-05-11T16:06:28.201Z"
      },
      {
        "duration": 3,
        "start_time": "2022-05-11T16:06:28.260Z"
      },
      {
        "duration": 66,
        "start_time": "2022-05-11T16:06:28.293Z"
      },
      {
        "duration": 273,
        "start_time": "2022-05-11T16:14:27.408Z"
      },
      {
        "duration": 954,
        "start_time": "2022-05-11T16:14:34.842Z"
      },
      {
        "duration": 1064,
        "start_time": "2022-05-11T16:14:51.635Z"
      },
      {
        "duration": 13,
        "start_time": "2022-05-11T16:16:18.256Z"
      },
      {
        "duration": 11,
        "start_time": "2022-05-11T16:17:14.698Z"
      },
      {
        "duration": 10,
        "start_time": "2022-05-11T16:17:45.150Z"
      },
      {
        "duration": 3669,
        "start_time": "2022-05-11T16:17:53.401Z"
      },
      {
        "duration": 1147,
        "start_time": "2022-05-11T16:18:04.254Z"
      },
      {
        "duration": 5232,
        "start_time": "2022-05-11T16:18:07.573Z"
      },
      {
        "duration": 284102,
        "start_time": "2022-05-11T16:18:51.745Z"
      },
      {
        "duration": 3488,
        "start_time": "2022-05-11T16:35:26.041Z"
      },
      {
        "duration": 236710,
        "start_time": "2022-05-11T16:35:34.260Z"
      },
      {
        "duration": 143,
        "start_time": "2022-05-11T17:02:37.903Z"
      },
      {
        "duration": 95529,
        "start_time": "2022-05-11T17:20:58.372Z"
      },
      {
        "duration": 306,
        "start_time": "2022-05-11T17:26:32.971Z"
      },
      {
        "duration": 285,
        "start_time": "2022-05-11T17:26:39.271Z"
      },
      {
        "duration": 2188,
        "start_time": "2022-05-11T17:38:35.924Z"
      },
      {
        "duration": 29,
        "start_time": "2022-05-11T17:39:05.292Z"
      },
      {
        "duration": 305,
        "start_time": "2022-05-11T18:48:22.485Z"
      },
      {
        "duration": 4507,
        "start_time": "2022-05-11T18:49:16.873Z"
      },
      {
        "duration": 12,
        "start_time": "2022-05-11T18:49:30.593Z"
      },
      {
        "duration": 1739,
        "start_time": "2022-05-11T18:49:30.609Z"
      },
      {
        "duration": 8,
        "start_time": "2022-05-11T18:49:32.351Z"
      },
      {
        "duration": 11,
        "start_time": "2022-05-11T18:49:32.362Z"
      },
      {
        "duration": 303,
        "start_time": "2022-05-11T18:49:32.395Z"
      },
      {
        "duration": 291,
        "start_time": "2022-05-11T18:49:32.701Z"
      },
      {
        "duration": 990,
        "start_time": "2022-05-11T18:49:32.995Z"
      },
      {
        "duration": 730,
        "start_time": "2022-05-11T18:49:33.987Z"
      },
      {
        "duration": 807,
        "start_time": "2022-05-11T18:49:34.719Z"
      },
      {
        "duration": 109,
        "start_time": "2022-05-11T18:49:35.531Z"
      },
      {
        "duration": 134,
        "start_time": "2022-05-11T18:49:35.642Z"
      },
      {
        "duration": 69,
        "start_time": "2022-05-11T18:49:35.779Z"
      },
      {
        "duration": 1155,
        "start_time": "2022-05-11T18:49:35.850Z"
      },
      {
        "duration": 116,
        "start_time": "2022-05-11T18:49:37.008Z"
      },
      {
        "duration": 370,
        "start_time": "2022-05-11T18:49:37.127Z"
      },
      {
        "duration": 4,
        "start_time": "2022-05-11T18:49:37.500Z"
      },
      {
        "duration": 16,
        "start_time": "2022-05-11T18:49:37.507Z"
      },
      {
        "duration": 8,
        "start_time": "2022-05-11T18:49:37.526Z"
      },
      {
        "duration": 305,
        "start_time": "2022-05-11T18:49:37.537Z"
      },
      {
        "duration": 10,
        "start_time": "2022-05-11T18:49:37.844Z"
      },
      {
        "duration": 337,
        "start_time": "2022-05-11T18:49:37.858Z"
      },
      {
        "duration": 95,
        "start_time": "2022-05-11T18:49:38.198Z"
      },
      {
        "duration": 303,
        "start_time": "2022-05-11T18:49:38.295Z"
      },
      {
        "duration": 8,
        "start_time": "2022-05-11T18:49:38.602Z"
      },
      {
        "duration": 21,
        "start_time": "2022-05-11T18:49:38.613Z"
      },
      {
        "duration": 9,
        "start_time": "2022-05-11T18:49:38.636Z"
      },
      {
        "duration": 112,
        "start_time": "2022-05-11T18:49:38.647Z"
      },
      {
        "duration": 1627,
        "start_time": "2022-05-11T18:49:38.766Z"
      },
      {
        "duration": 48,
        "start_time": "2022-05-11T18:49:40.395Z"
      },
      {
        "duration": 231,
        "start_time": "2022-05-11T18:49:40.445Z"
      },
      {
        "duration": 77,
        "start_time": "2022-05-11T18:49:40.678Z"
      },
      {
        "duration": 687,
        "start_time": "2022-05-11T18:49:40.757Z"
      },
      {
        "duration": 76,
        "start_time": "2022-05-11T18:49:41.446Z"
      },
      {
        "duration": 22,
        "start_time": "2022-05-11T18:49:41.524Z"
      },
      {
        "duration": 131,
        "start_time": "2022-05-11T18:49:41.548Z"
      },
      {
        "duration": 22,
        "start_time": "2022-05-11T18:49:41.682Z"
      },
      {
        "duration": 97,
        "start_time": "2022-05-11T18:49:41.706Z"
      },
      {
        "duration": 2718,
        "start_time": "2022-05-11T18:49:41.806Z"
      },
      {
        "duration": 225,
        "start_time": "2022-05-11T18:49:44.526Z"
      },
      {
        "duration": 39,
        "start_time": "2022-05-11T18:49:44.754Z"
      },
      {
        "duration": 64,
        "start_time": "2022-05-11T18:49:44.796Z"
      },
      {
        "duration": 942,
        "start_time": "2022-05-11T18:49:44.863Z"
      },
      {
        "duration": 54,
        "start_time": "2022-05-11T18:49:45.807Z"
      },
      {
        "duration": 1208,
        "start_time": "2022-05-11T18:49:45.863Z"
      },
      {
        "duration": 23,
        "start_time": "2022-05-11T18:49:47.073Z"
      },
      {
        "duration": 232,
        "start_time": "2022-05-11T18:49:47.098Z"
      },
      {
        "duration": 19,
        "start_time": "2022-05-11T18:49:47.332Z"
      },
      {
        "duration": 62,
        "start_time": "2022-05-11T18:49:47.354Z"
      },
      {
        "duration": 15601,
        "start_time": "2022-05-11T18:49:47.418Z"
      },
      {
        "duration": 41,
        "start_time": "2022-05-11T18:50:03.025Z"
      },
      {
        "duration": 105,
        "start_time": "2022-05-11T18:50:03.069Z"
      },
      {
        "duration": 158,
        "start_time": "2022-05-11T18:50:03.176Z"
      },
      {
        "duration": 148,
        "start_time": "2022-05-11T18:50:03.337Z"
      },
      {
        "duration": 23,
        "start_time": "2022-05-11T18:50:03.487Z"
      },
      {
        "duration": 54,
        "start_time": "2022-05-11T18:50:03.513Z"
      },
      {
        "duration": 12095,
        "start_time": "2022-05-11T18:50:03.594Z"
      },
      {
        "duration": 57,
        "start_time": "2022-05-11T18:50:15.694Z"
      },
      {
        "duration": 91,
        "start_time": "2022-05-11T18:50:15.755Z"
      },
      {
        "duration": 696,
        "start_time": "2022-05-11T18:50:15.849Z"
      },
      {
        "duration": 55,
        "start_time": "2022-05-11T18:50:16.548Z"
      },
      {
        "duration": 347,
        "start_time": "2022-05-11T18:50:16.606Z"
      },
      {
        "duration": 137,
        "start_time": "2022-05-11T18:50:16.957Z"
      },
      {
        "duration": 12084,
        "start_time": "2022-05-11T18:50:17.097Z"
      },
      {
        "duration": 46,
        "start_time": "2022-05-11T18:50:29.184Z"
      },
      {
        "duration": 68,
        "start_time": "2022-05-11T18:50:29.233Z"
      },
      {
        "duration": 107,
        "start_time": "2022-05-11T18:50:29.304Z"
      },
      {
        "duration": 126,
        "start_time": "2022-05-11T18:50:29.414Z"
      },
      {
        "duration": 77,
        "start_time": "2022-05-11T18:50:29.545Z"
      },
      {
        "duration": 13720,
        "start_time": "2022-05-11T18:50:29.625Z"
      },
      {
        "duration": 54,
        "start_time": "2022-05-11T18:50:43.348Z"
      },
      {
        "duration": 67,
        "start_time": "2022-05-11T18:50:43.404Z"
      },
      {
        "duration": 151,
        "start_time": "2022-05-11T18:50:43.473Z"
      },
      {
        "duration": 45619,
        "start_time": "2022-05-11T18:50:43.627Z"
      },
      {
        "duration": 73,
        "start_time": "2022-05-11T18:51:29.249Z"
      },
      {
        "duration": 392,
        "start_time": "2022-05-11T18:51:29.325Z"
      },
      {
        "duration": 5,
        "start_time": "2022-05-11T18:51:29.720Z"
      },
      {
        "duration": 102,
        "start_time": "2022-05-11T18:51:29.728Z"
      },
      {
        "duration": 651,
        "start_time": "2022-05-11T18:51:29.832Z"
      },
      {
        "duration": 12,
        "start_time": "2022-05-11T18:51:30.486Z"
      },
      {
        "duration": 582,
        "start_time": "2022-05-11T18:51:30.502Z"
      },
      {
        "duration": 348,
        "start_time": "2022-05-11T18:51:31.092Z"
      },
      {
        "duration": 1788,
        "start_time": "2022-05-11T18:51:31.452Z"
      },
      {
        "duration": 604,
        "start_time": "2022-05-11T18:51:33.244Z"
      },
      {
        "duration": 7,
        "start_time": "2022-05-11T18:51:33.851Z"
      },
      {
        "duration": 370,
        "start_time": "2022-05-11T18:51:33.861Z"
      },
      {
        "duration": 44020,
        "start_time": "2022-05-11T18:51:34.234Z"
      },
      {
        "duration": 14010,
        "start_time": "2022-05-11T18:52:18.258Z"
      },
      {
        "duration": 131225,
        "start_time": "2022-05-11T18:52:32.270Z"
      },
      {
        "duration": 13385,
        "start_time": "2022-05-11T18:54:43.513Z"
      },
      {
        "duration": 1849,
        "start_time": "2022-05-11T18:54:56.901Z"
      },
      {
        "duration": 10423,
        "start_time": "2022-05-11T18:54:58.753Z"
      },
      {
        "duration": 1844,
        "start_time": "2022-05-11T18:55:09.179Z"
      },
      {
        "duration": 137188,
        "start_time": "2022-05-11T18:55:11.026Z"
      },
      {
        "duration": 23232,
        "start_time": "2022-05-11T18:57:28.217Z"
      },
      {
        "duration": 104532,
        "start_time": "2022-05-11T18:57:51.452Z"
      },
      {
        "duration": 3992,
        "start_time": "2022-05-11T18:59:35.993Z"
      },
      {
        "duration": 1788,
        "start_time": "2022-05-11T18:59:39.992Z"
      },
      {
        "duration": 24125,
        "start_time": "2022-05-11T18:59:41.782Z"
      },
      {
        "duration": 11281,
        "start_time": "2022-05-11T19:00:05.911Z"
      },
      {
        "duration": 8470,
        "start_time": "2022-05-11T19:00:17.196Z"
      },
      {
        "duration": 1757,
        "start_time": "2022-05-11T19:00:25.669Z"
      },
      {
        "duration": 3,
        "start_time": "2022-05-11T19:00:27.429Z"
      },
      {
        "duration": 19466,
        "start_time": "2022-05-11T19:00:27.435Z"
      },
      {
        "duration": 15324,
        "start_time": "2022-05-11T19:00:46.910Z"
      },
      {
        "duration": 125769,
        "start_time": "2022-05-11T19:01:02.238Z"
      },
      {
        "duration": 6,
        "start_time": "2022-05-11T19:03:08.009Z"
      },
      {
        "duration": 605093,
        "start_time": "2022-05-11T19:03:08.018Z"
      },
      {
        "duration": 7,
        "start_time": "2022-05-11T19:13:13.114Z"
      },
      {
        "duration": 3650,
        "start_time": "2022-05-11T19:13:13.125Z"
      },
      {
        "duration": 4608,
        "start_time": "2022-05-11T19:13:16.778Z"
      },
      {
        "duration": 4637,
        "start_time": "2022-05-11T19:13:21.392Z"
      },
      {
        "duration": 4,
        "start_time": "2022-05-11T19:13:26.032Z"
      },
      {
        "duration": 98,
        "start_time": "2022-05-11T19:13:26.038Z"
      },
      {
        "duration": 143,
        "start_time": "2022-05-11T19:13:26.139Z"
      },
      {
        "duration": 32,
        "start_time": "2022-05-11T19:13:26.284Z"
      },
      {
        "duration": 47,
        "start_time": "2022-05-11T19:13:26.321Z"
      },
      {
        "duration": 835,
        "start_time": "2022-05-11T19:13:26.370Z"
      },
      {
        "duration": 58,
        "start_time": "2022-05-11T19:13:27.208Z"
      },
      {
        "duration": 4,
        "start_time": "2022-05-11T19:13:27.269Z"
      },
      {
        "duration": 93,
        "start_time": "2022-05-11T19:13:27.276Z"
      },
      {
        "duration": 212,
        "start_time": "2022-05-11T19:13:27.372Z"
      },
      {
        "duration": 0,
        "start_time": "2022-05-11T19:13:27.598Z"
      },
      {
        "duration": 0,
        "start_time": "2022-05-11T19:13:27.601Z"
      },
      {
        "duration": 0,
        "start_time": "2022-05-11T19:13:27.603Z"
      },
      {
        "duration": 0,
        "start_time": "2022-05-11T19:13:27.605Z"
      },
      {
        "duration": 0,
        "start_time": "2022-05-11T19:13:27.607Z"
      },
      {
        "duration": 1,
        "start_time": "2022-05-11T19:13:27.609Z"
      },
      {
        "duration": 1132,
        "start_time": "2022-05-11T19:20:53.763Z"
      },
      {
        "duration": 4748,
        "start_time": "2022-05-11T19:20:54.904Z"
      },
      {
        "duration": 266765,
        "start_time": "2022-05-11T19:20:59.655Z"
      },
      {
        "duration": 94497,
        "start_time": "2022-05-11T19:25:26.424Z"
      },
      {
        "duration": 370,
        "start_time": "2022-05-11T19:27:00.925Z"
      },
      {
        "duration": 3459501,
        "start_time": "2022-05-11T19:27:01.297Z"
      },
      {
        "duration": 6,
        "start_time": "2022-05-11T20:28:44.223Z"
      },
      {
        "duration": 333160,
        "start_time": "2022-05-11T20:30:20.582Z"
      },
      {
        "duration": 0,
        "start_time": "2022-05-11T20:35:53.745Z"
      },
      {
        "duration": 26,
        "start_time": "2022-05-11T20:36:22.028Z"
      },
      {
        "duration": 24,
        "start_time": "2022-05-11T20:37:39.365Z"
      },
      {
        "duration": 25,
        "start_time": "2022-05-11T20:38:01.527Z"
      },
      {
        "duration": 39060020,
        "start_time": "2022-05-11T20:38:38.191Z"
      },
      {
        "duration": 1014551,
        "start_time": "2022-05-12T18:14:18.386Z"
      },
      {
        "duration": 214,
        "start_time": "2022-05-12T19:38:23.555Z"
      },
      {
        "duration": 444,
        "start_time": "2022-05-12T19:39:20.114Z"
      },
      {
        "duration": 219,
        "start_time": "2022-05-12T19:39:26.171Z"
      },
      {
        "duration": 896766,
        "start_time": "2022-05-12T19:40:05.535Z"
      },
      {
        "duration": 110,
        "start_time": "2022-05-12T20:11:11.161Z"
      },
      {
        "duration": 356724,
        "start_time": "2022-05-12T20:11:24.875Z"
      },
      {
        "duration": 69,
        "start_time": "2022-05-12T20:27:28.691Z"
      },
      {
        "duration": 124649,
        "start_time": "2022-05-12T20:40:16.864Z"
      },
      {
        "duration": 120834,
        "start_time": "2022-05-12T20:49:06.407Z"
      },
      {
        "duration": 6,
        "start_time": "2022-05-12T21:15:12.953Z"
      },
      {
        "duration": 21,
        "start_time": "2022-05-12T21:16:00.814Z"
      },
      {
        "duration": 12,
        "start_time": "2022-05-12T21:16:22.906Z"
      },
      {
        "duration": 82,
        "start_time": "2022-05-12T21:16:26.048Z"
      },
      {
        "duration": 216,
        "start_time": "2022-05-12T21:17:02.018Z"
      },
      {
        "duration": 241,
        "start_time": "2022-05-12T21:17:31.023Z"
      },
      {
        "duration": 10,
        "start_time": "2022-05-12T21:17:44.514Z"
      },
      {
        "duration": 20191,
        "start_time": "2022-05-12T21:17:52.255Z"
      },
      {
        "duration": 132745,
        "start_time": "2022-05-12T21:18:38.074Z"
      },
      {
        "duration": 12,
        "start_time": "2022-05-12T21:45:38.729Z"
      },
      {
        "duration": 132348,
        "start_time": "2022-05-12T21:46:03.208Z"
      },
      {
        "duration": 15,
        "start_time": "2022-05-12T21:51:11.083Z"
      },
      {
        "duration": 5,
        "start_time": "2022-05-12T21:51:36.088Z"
      },
      {
        "duration": 12,
        "start_time": "2022-05-12T21:51:49.176Z"
      },
      {
        "duration": 75,
        "start_time": "2022-05-14T20:26:42.030Z"
      },
      {
        "duration": 3620,
        "start_time": "2022-05-14T20:28:07.782Z"
      },
      {
        "duration": 1135,
        "start_time": "2022-05-14T20:28:11.405Z"
      },
      {
        "duration": 15,
        "start_time": "2022-05-14T20:28:12.542Z"
      },
      {
        "duration": 11,
        "start_time": "2022-05-14T20:28:12.561Z"
      },
      {
        "duration": 202,
        "start_time": "2022-05-14T20:28:12.573Z"
      },
      {
        "duration": 176,
        "start_time": "2022-05-14T20:28:12.778Z"
      },
      {
        "duration": 856,
        "start_time": "2022-05-14T20:28:12.956Z"
      },
      {
        "duration": 844,
        "start_time": "2022-05-14T20:28:13.814Z"
      },
      {
        "duration": 1486,
        "start_time": "2022-05-14T20:28:14.660Z"
      },
      {
        "duration": 169,
        "start_time": "2022-05-14T20:28:16.155Z"
      },
      {
        "duration": 177,
        "start_time": "2022-05-14T20:28:16.327Z"
      },
      {
        "duration": 96,
        "start_time": "2022-05-14T20:28:16.507Z"
      },
      {
        "duration": 1373,
        "start_time": "2022-05-14T20:28:16.606Z"
      },
      {
        "duration": 113,
        "start_time": "2022-05-14T20:28:17.982Z"
      },
      {
        "duration": 408,
        "start_time": "2022-05-14T20:28:18.098Z"
      },
      {
        "duration": 5,
        "start_time": "2022-05-14T20:28:18.509Z"
      },
      {
        "duration": 11,
        "start_time": "2022-05-14T20:28:18.516Z"
      },
      {
        "duration": 23,
        "start_time": "2022-05-14T20:28:18.529Z"
      },
      {
        "duration": 304,
        "start_time": "2022-05-14T20:28:18.554Z"
      },
      {
        "duration": 10,
        "start_time": "2022-05-14T20:28:18.860Z"
      },
      {
        "duration": 261,
        "start_time": "2022-05-14T20:28:18.872Z"
      },
      {
        "duration": 87,
        "start_time": "2022-05-14T20:28:19.135Z"
      },
      {
        "duration": 257,
        "start_time": "2022-05-14T20:28:19.225Z"
      },
      {
        "duration": 7,
        "start_time": "2022-05-14T20:28:19.485Z"
      },
      {
        "duration": 23,
        "start_time": "2022-05-14T20:28:19.495Z"
      },
      {
        "duration": 31,
        "start_time": "2022-05-14T20:28:19.521Z"
      },
      {
        "duration": 80,
        "start_time": "2022-05-14T20:28:19.555Z"
      },
      {
        "duration": 1322,
        "start_time": "2022-05-14T20:28:19.655Z"
      },
      {
        "duration": 34,
        "start_time": "2022-05-14T20:28:20.980Z"
      },
      {
        "duration": 226,
        "start_time": "2022-05-14T20:28:21.016Z"
      },
      {
        "duration": 61,
        "start_time": "2022-05-14T20:28:21.251Z"
      },
      {
        "duration": 715,
        "start_time": "2022-05-14T20:28:21.314Z"
      },
      {
        "duration": 73,
        "start_time": "2022-05-14T20:28:22.032Z"
      },
      {
        "duration": 19,
        "start_time": "2022-05-14T20:28:22.108Z"
      },
      {
        "duration": 87,
        "start_time": "2022-05-14T20:28:22.130Z"
      },
      {
        "duration": 9,
        "start_time": "2022-05-14T20:28:22.220Z"
      },
      {
        "duration": 56,
        "start_time": "2022-05-14T20:28:22.252Z"
      },
      {
        "duration": 2288,
        "start_time": "2022-05-14T20:28:22.310Z"
      },
      {
        "duration": 225,
        "start_time": "2022-05-14T20:28:24.601Z"
      },
      {
        "duration": 36,
        "start_time": "2022-05-14T20:28:24.829Z"
      },
      {
        "duration": 53,
        "start_time": "2022-05-14T20:28:24.867Z"
      },
      {
        "duration": 663,
        "start_time": "2022-05-14T20:28:24.922Z"
      },
      {
        "duration": 72,
        "start_time": "2022-05-14T20:28:25.587Z"
      },
      {
        "duration": 895,
        "start_time": "2022-05-14T20:28:25.662Z"
      },
      {
        "duration": 11,
        "start_time": "2022-05-14T20:28:26.559Z"
      },
      {
        "duration": 246,
        "start_time": "2022-05-14T20:28:26.572Z"
      },
      {
        "duration": 20,
        "start_time": "2022-05-14T20:28:26.821Z"
      },
      {
        "duration": 35,
        "start_time": "2022-05-14T20:28:26.853Z"
      },
      {
        "duration": 11471,
        "start_time": "2022-05-14T20:28:26.891Z"
      },
      {
        "duration": 33,
        "start_time": "2022-05-14T20:28:38.364Z"
      },
      {
        "duration": 98,
        "start_time": "2022-05-14T20:28:38.399Z"
      },
      {
        "duration": 120,
        "start_time": "2022-05-14T20:28:38.499Z"
      },
      {
        "duration": 134,
        "start_time": "2022-05-14T20:28:38.622Z"
      },
      {
        "duration": 19,
        "start_time": "2022-05-14T20:28:38.758Z"
      },
      {
        "duration": 36,
        "start_time": "2022-05-14T20:28:38.780Z"
      },
      {
        "duration": 9318,
        "start_time": "2022-05-14T20:28:38.818Z"
      },
      {
        "duration": 51,
        "start_time": "2022-05-14T20:28:48.138Z"
      },
      {
        "duration": 82,
        "start_time": "2022-05-14T20:28:48.192Z"
      },
      {
        "duration": 323,
        "start_time": "2022-05-14T20:28:48.276Z"
      },
      {
        "duration": 51,
        "start_time": "2022-05-14T20:28:48.601Z"
      },
      {
        "duration": 332,
        "start_time": "2022-05-14T20:28:48.655Z"
      },
      {
        "duration": 129,
        "start_time": "2022-05-14T20:28:48.989Z"
      },
      {
        "duration": 10089,
        "start_time": "2022-05-14T20:28:49.121Z"
      },
      {
        "duration": 61,
        "start_time": "2022-05-14T20:28:59.212Z"
      },
      {
        "duration": 43,
        "start_time": "2022-05-14T20:28:59.276Z"
      },
      {
        "duration": 94,
        "start_time": "2022-05-14T20:28:59.321Z"
      },
      {
        "duration": 136,
        "start_time": "2022-05-14T20:28:59.417Z"
      },
      {
        "duration": 35,
        "start_time": "2022-05-14T20:28:59.556Z"
      },
      {
        "duration": 10059,
        "start_time": "2022-05-14T20:28:59.593Z"
      },
      {
        "duration": 44,
        "start_time": "2022-05-14T20:29:09.654Z"
      },
      {
        "duration": 94,
        "start_time": "2022-05-14T20:29:09.700Z"
      },
      {
        "duration": 115,
        "start_time": "2022-05-14T20:29:09.797Z"
      },
      {
        "duration": 41343,
        "start_time": "2022-05-14T20:29:09.914Z"
      },
      {
        "duration": 43,
        "start_time": "2022-05-14T20:29:51.260Z"
      },
      {
        "duration": 294,
        "start_time": "2022-05-14T20:29:51.305Z"
      },
      {
        "duration": 4,
        "start_time": "2022-05-14T20:29:51.601Z"
      },
      {
        "duration": 143,
        "start_time": "2022-05-14T20:29:51.608Z"
      },
      {
        "duration": 812,
        "start_time": "2022-05-14T20:29:51.754Z"
      },
      {
        "duration": 14,
        "start_time": "2022-05-14T20:29:52.569Z"
      },
      {
        "duration": 681,
        "start_time": "2022-05-14T20:29:52.586Z"
      },
      {
        "duration": 404,
        "start_time": "2022-05-14T20:29:53.270Z"
      },
      {
        "duration": 2782,
        "start_time": "2022-05-14T20:29:53.693Z"
      },
      {
        "duration": 633,
        "start_time": "2022-05-14T20:29:56.478Z"
      },
      {
        "duration": 5,
        "start_time": "2022-05-14T20:29:57.114Z"
      },
      {
        "duration": 434,
        "start_time": "2022-05-14T20:29:57.122Z"
      },
      {
        "duration": 55497,
        "start_time": "2022-05-14T20:29:57.559Z"
      },
      {
        "duration": 22026,
        "start_time": "2022-05-14T20:30:53.058Z"
      },
      {
        "duration": 145773,
        "start_time": "2022-05-14T20:31:15.086Z"
      },
      {
        "duration": 11554,
        "start_time": "2022-05-14T20:33:40.863Z"
      },
      {
        "duration": 1334,
        "start_time": "2022-05-14T20:33:52.420Z"
      },
      {
        "duration": 9170,
        "start_time": "2022-05-14T20:33:53.756Z"
      },
      {
        "duration": 1656,
        "start_time": "2022-05-14T20:34:02.928Z"
      },
      {
        "duration": 131354,
        "start_time": "2022-05-14T20:34:04.587Z"
      },
      {
        "duration": 26762,
        "start_time": "2022-05-14T20:36:15.952Z"
      },
      {
        "duration": 85005,
        "start_time": "2022-05-14T20:36:42.717Z"
      },
      {
        "duration": 4430,
        "start_time": "2022-05-14T20:38:07.724Z"
      },
      {
        "duration": 1477,
        "start_time": "2022-05-14T20:38:12.157Z"
      },
      {
        "duration": 37727,
        "start_time": "2022-05-14T20:38:13.637Z"
      },
      {
        "duration": 9210,
        "start_time": "2022-05-14T20:38:51.367Z"
      },
      {
        "duration": 9499,
        "start_time": "2022-05-14T20:39:00.580Z"
      },
      {
        "duration": 1422,
        "start_time": "2022-05-14T20:39:10.082Z"
      },
      {
        "duration": 4,
        "start_time": "2022-05-14T20:39:11.506Z"
      },
      {
        "duration": 16282,
        "start_time": "2022-05-14T20:39:11.512Z"
      },
      {
        "duration": 12383,
        "start_time": "2022-05-14T20:39:27.796Z"
      },
      {
        "duration": 141473,
        "start_time": "2022-05-14T20:39:40.182Z"
      },
      {
        "duration": 16,
        "start_time": "2022-05-14T20:42:01.658Z"
      },
      {
        "duration": 39,
        "start_time": "2022-05-14T20:42:01.753Z"
      },
      {
        "duration": 3477,
        "start_time": "2022-05-14T20:42:01.795Z"
      },
      {
        "duration": 3859,
        "start_time": "2022-05-14T20:42:05.275Z"
      },
      {
        "duration": 3371,
        "start_time": "2022-05-14T20:42:09.136Z"
      },
      {
        "duration": 4,
        "start_time": "2022-05-14T20:42:12.509Z"
      },
      {
        "duration": 98,
        "start_time": "2022-05-14T20:42:12.515Z"
      },
      {
        "duration": 148,
        "start_time": "2022-05-14T20:42:12.615Z"
      },
      {
        "duration": 18,
        "start_time": "2022-05-14T20:42:12.766Z"
      },
      {
        "duration": 41,
        "start_time": "2022-05-14T20:42:12.786Z"
      },
      {
        "duration": 731,
        "start_time": "2022-05-14T20:42:12.830Z"
      },
      {
        "duration": 55,
        "start_time": "2022-05-14T20:42:13.564Z"
      },
      {
        "duration": 4,
        "start_time": "2022-05-14T20:42:13.622Z"
      },
      {
        "duration": 75,
        "start_time": "2022-05-14T20:42:13.652Z"
      },
      {
        "duration": 1022,
        "start_time": "2022-05-14T20:42:13.729Z"
      },
      {
        "duration": 4651,
        "start_time": "2022-05-14T20:42:14.759Z"
      },
      {
        "duration": 252296,
        "start_time": "2022-05-14T20:42:19.413Z"
      },
      {
        "duration": 7854,
        "start_time": "2022-05-14T20:46:31.712Z"
      },
      {
        "duration": 357,
        "start_time": "2022-05-14T20:46:39.573Z"
      },
      {
        "duration": 7,
        "start_time": "2022-05-14T20:46:39.933Z"
      },
      {
        "duration": 216812,
        "start_time": "2022-05-14T20:46:39.943Z"
      },
      {
        "duration": 85204,
        "start_time": "2022-05-14T20:50:16.758Z"
      },
      {
        "duration": 830497,
        "start_time": "2022-05-14T20:51:41.964Z"
      },
      {
        "duration": 122885,
        "start_time": "2022-05-14T21:05:32.463Z"
      },
      {
        "duration": 165,
        "start_time": "2022-05-14T22:07:22.020Z"
      },
      {
        "duration": 13,
        "start_time": "2022-05-14T22:31:06.930Z"
      },
      {
        "duration": 13,
        "start_time": "2022-05-14T22:31:16.671Z"
      },
      {
        "duration": 13,
        "start_time": "2022-05-14T22:33:27.565Z"
      },
      {
        "duration": 6,
        "start_time": "2022-05-14T22:33:33.281Z"
      },
      {
        "duration": 11,
        "start_time": "2022-05-14T22:33:57.788Z"
      },
      {
        "duration": 6,
        "start_time": "2022-05-14T22:35:58.980Z"
      },
      {
        "duration": 7,
        "start_time": "2022-05-14T22:36:07.121Z"
      },
      {
        "duration": 7,
        "start_time": "2022-05-14T22:36:53.201Z"
      },
      {
        "duration": 11,
        "start_time": "2022-05-14T22:37:14.687Z"
      },
      {
        "duration": 5,
        "start_time": "2022-05-14T22:38:39.766Z"
      },
      {
        "duration": 11,
        "start_time": "2022-05-14T22:38:45.516Z"
      },
      {
        "duration": 16,
        "start_time": "2022-05-14T22:38:59.041Z"
      },
      {
        "duration": 45051,
        "start_time": "2022-05-14T22:44:56.531Z"
      },
      {
        "duration": 4,
        "start_time": "2022-05-14T22:53:25.838Z"
      },
      {
        "duration": 100734,
        "start_time": "2022-05-14T22:53:28.604Z"
      },
      {
        "duration": 144915,
        "start_time": "2022-05-14T22:55:09.341Z"
      },
      {
        "duration": 6,
        "start_time": "2022-05-14T23:02:13.345Z"
      },
      {
        "duration": 3144,
        "start_time": "2022-05-15T19:37:03.426Z"
      },
      {
        "duration": 757,
        "start_time": "2022-05-15T19:37:06.574Z"
      },
      {
        "duration": 5,
        "start_time": "2022-05-15T19:37:07.332Z"
      },
      {
        "duration": 22,
        "start_time": "2022-05-15T19:37:07.340Z"
      },
      {
        "duration": 135,
        "start_time": "2022-05-15T19:37:07.363Z"
      },
      {
        "duration": 236,
        "start_time": "2022-05-15T19:37:07.501Z"
      },
      {
        "duration": 473,
        "start_time": "2022-05-15T19:37:07.739Z"
      },
      {
        "duration": 466,
        "start_time": "2022-05-15T19:37:08.214Z"
      },
      {
        "duration": 613,
        "start_time": "2022-05-15T19:37:08.682Z"
      },
      {
        "duration": 90,
        "start_time": "2022-05-15T19:37:09.299Z"
      },
      {
        "duration": 118,
        "start_time": "2022-05-15T19:37:09.391Z"
      },
      {
        "duration": 51,
        "start_time": "2022-05-15T19:37:09.511Z"
      },
      {
        "duration": 710,
        "start_time": "2022-05-15T19:37:09.564Z"
      },
      {
        "duration": 55,
        "start_time": "2022-05-15T19:37:10.276Z"
      },
      {
        "duration": 219,
        "start_time": "2022-05-15T19:37:10.334Z"
      },
      {
        "duration": 9,
        "start_time": "2022-05-15T19:37:10.555Z"
      },
      {
        "duration": 7,
        "start_time": "2022-05-15T19:37:10.566Z"
      },
      {
        "duration": 5,
        "start_time": "2022-05-15T19:37:10.575Z"
      },
      {
        "duration": 245,
        "start_time": "2022-05-15T19:37:10.581Z"
      },
      {
        "duration": 8,
        "start_time": "2022-05-15T19:37:10.828Z"
      },
      {
        "duration": 197,
        "start_time": "2022-05-15T19:37:10.838Z"
      },
      {
        "duration": 63,
        "start_time": "2022-05-15T19:37:11.037Z"
      },
      {
        "duration": 198,
        "start_time": "2022-05-15T19:37:11.102Z"
      },
      {
        "duration": 5,
        "start_time": "2022-05-15T19:37:11.302Z"
      },
      {
        "duration": 12,
        "start_time": "2022-05-15T19:37:11.309Z"
      },
      {
        "duration": 7,
        "start_time": "2022-05-15T19:37:11.323Z"
      },
      {
        "duration": 76,
        "start_time": "2022-05-15T19:37:11.332Z"
      },
      {
        "duration": 735,
        "start_time": "2022-05-15T19:37:11.413Z"
      },
      {
        "duration": 29,
        "start_time": "2022-05-15T19:37:12.150Z"
      },
      {
        "duration": 122,
        "start_time": "2022-05-15T19:37:12.181Z"
      },
      {
        "duration": 32,
        "start_time": "2022-05-15T19:37:12.304Z"
      },
      {
        "duration": 394,
        "start_time": "2022-05-15T19:37:12.338Z"
      },
      {
        "duration": 40,
        "start_time": "2022-05-15T19:37:12.734Z"
      },
      {
        "duration": 13,
        "start_time": "2022-05-15T19:37:12.776Z"
      },
      {
        "duration": 42,
        "start_time": "2022-05-15T19:37:12.791Z"
      },
      {
        "duration": 28,
        "start_time": "2022-05-15T19:37:12.835Z"
      },
      {
        "duration": 30,
        "start_time": "2022-05-15T19:37:12.864Z"
      },
      {
        "duration": 1124,
        "start_time": "2022-05-15T19:37:12.895Z"
      },
      {
        "duration": 128,
        "start_time": "2022-05-15T19:37:14.021Z"
      },
      {
        "duration": 18,
        "start_time": "2022-05-15T19:37:14.150Z"
      },
      {
        "duration": 29,
        "start_time": "2022-05-15T19:37:14.169Z"
      },
      {
        "duration": 382,
        "start_time": "2022-05-15T19:37:14.200Z"
      },
      {
        "duration": 29,
        "start_time": "2022-05-15T19:37:14.583Z"
      },
      {
        "duration": 536,
        "start_time": "2022-05-15T19:37:14.614Z"
      },
      {
        "duration": 14,
        "start_time": "2022-05-15T19:37:15.151Z"
      },
      {
        "duration": 141,
        "start_time": "2022-05-15T19:37:15.167Z"
      },
      {
        "duration": 12,
        "start_time": "2022-05-15T19:37:15.310Z"
      },
      {
        "duration": 39,
        "start_time": "2022-05-15T19:37:15.323Z"
      },
      {
        "duration": 5182,
        "start_time": "2022-05-15T19:37:15.364Z"
      },
      {
        "duration": 25,
        "start_time": "2022-05-15T19:37:20.548Z"
      },
      {
        "duration": 39,
        "start_time": "2022-05-15T19:37:20.575Z"
      },
      {
        "duration": 121,
        "start_time": "2022-05-15T19:37:20.615Z"
      },
      {
        "duration": 150,
        "start_time": "2022-05-15T19:37:20.738Z"
      },
      {
        "duration": 16,
        "start_time": "2022-05-15T19:37:20.890Z"
      },
      {
        "duration": 63,
        "start_time": "2022-05-15T19:37:20.908Z"
      },
      {
        "duration": 8794,
        "start_time": "2022-05-15T19:37:20.973Z"
      },
      {
        "duration": 37,
        "start_time": "2022-05-15T19:37:29.769Z"
      },
      {
        "duration": 58,
        "start_time": "2022-05-15T19:37:29.808Z"
      },
      {
        "duration": 299,
        "start_time": "2022-05-15T19:37:29.868Z"
      },
      {
        "duration": 32,
        "start_time": "2022-05-15T19:37:30.169Z"
      },
      {
        "duration": 322,
        "start_time": "2022-05-15T19:37:30.203Z"
      },
      {
        "duration": 177,
        "start_time": "2022-05-15T19:37:30.527Z"
      },
      {
        "duration": 10244,
        "start_time": "2022-05-15T19:37:30.707Z"
      },
      {
        "duration": 44,
        "start_time": "2022-05-15T19:37:40.953Z"
      },
      {
        "duration": 41,
        "start_time": "2022-05-15T19:37:40.999Z"
      },
      {
        "duration": 78,
        "start_time": "2022-05-15T19:37:41.041Z"
      },
      {
        "duration": 169,
        "start_time": "2022-05-15T19:37:41.121Z"
      },
      {
        "duration": 25,
        "start_time": "2022-05-15T19:37:41.291Z"
      },
      {
        "duration": 4917,
        "start_time": "2022-05-15T19:37:41.317Z"
      },
      {
        "duration": 45,
        "start_time": "2022-05-15T19:37:46.236Z"
      },
      {
        "duration": 39,
        "start_time": "2022-05-15T19:37:46.283Z"
      },
      {
        "duration": 97,
        "start_time": "2022-05-15T19:37:46.324Z"
      },
      {
        "duration": 22921,
        "start_time": "2022-05-15T19:37:46.423Z"
      },
      {
        "duration": 36,
        "start_time": "2022-05-15T19:38:09.346Z"
      },
      {
        "duration": 153,
        "start_time": "2022-05-15T19:38:09.384Z"
      },
      {
        "duration": 3,
        "start_time": "2022-05-15T19:38:09.538Z"
      },
      {
        "duration": 77,
        "start_time": "2022-05-15T19:38:09.543Z"
      },
      {
        "duration": 496,
        "start_time": "2022-05-15T19:38:09.622Z"
      },
      {
        "duration": 6,
        "start_time": "2022-05-15T19:38:10.120Z"
      },
      {
        "duration": 397,
        "start_time": "2022-05-15T19:38:10.128Z"
      },
      {
        "duration": 253,
        "start_time": "2022-05-15T19:38:10.527Z"
      },
      {
        "duration": 1295,
        "start_time": "2022-05-15T19:38:10.789Z"
      },
      {
        "duration": 291,
        "start_time": "2022-05-15T19:38:12.087Z"
      },
      {
        "duration": 3,
        "start_time": "2022-05-15T19:38:12.380Z"
      },
      {
        "duration": 161,
        "start_time": "2022-05-15T19:38:12.384Z"
      },
      {
        "duration": 42126,
        "start_time": "2022-05-15T19:38:12.547Z"
      },
      {
        "duration": 13032,
        "start_time": "2022-05-15T19:38:54.676Z"
      },
      {
        "duration": 105753,
        "start_time": "2022-05-15T19:39:07.710Z"
      },
      {
        "duration": 8311,
        "start_time": "2022-05-15T19:40:53.465Z"
      },
      {
        "duration": 654,
        "start_time": "2022-05-15T19:41:01.778Z"
      },
      {
        "duration": 5895,
        "start_time": "2022-05-15T19:41:02.434Z"
      },
      {
        "duration": 895,
        "start_time": "2022-05-15T19:41:08.331Z"
      },
      {
        "duration": 64135,
        "start_time": "2022-05-15T19:41:09.228Z"
      },
      {
        "duration": 11136,
        "start_time": "2022-05-15T19:42:13.366Z"
      },
      {
        "duration": 40789,
        "start_time": "2022-05-15T19:42:24.504Z"
      },
      {
        "duration": 2209,
        "start_time": "2022-05-15T19:43:05.295Z"
      },
      {
        "duration": 844,
        "start_time": "2022-05-15T19:43:07.505Z"
      },
      {
        "duration": 25512,
        "start_time": "2022-05-15T19:43:08.351Z"
      },
      {
        "duration": 5503,
        "start_time": "2022-05-15T19:43:33.865Z"
      },
      {
        "duration": 7672,
        "start_time": "2022-05-15T19:43:39.370Z"
      },
      {
        "duration": 729,
        "start_time": "2022-05-15T19:43:47.043Z"
      },
      {
        "duration": 4,
        "start_time": "2022-05-15T19:43:47.774Z"
      },
      {
        "duration": 13219,
        "start_time": "2022-05-15T19:43:47.780Z"
      },
      {
        "duration": 11687,
        "start_time": "2022-05-15T19:44:01.002Z"
      },
      {
        "duration": 72787,
        "start_time": "2022-05-15T19:44:12.691Z"
      },
      {
        "duration": 84,
        "start_time": "2022-05-15T19:45:25.480Z"
      },
      {
        "duration": 14,
        "start_time": "2022-05-15T19:45:25.566Z"
      },
      {
        "duration": 3164,
        "start_time": "2022-05-15T19:45:25.582Z"
      },
      {
        "duration": 3092,
        "start_time": "2022-05-15T19:45:28.748Z"
      },
      {
        "duration": 2974,
        "start_time": "2022-05-15T19:45:31.842Z"
      },
      {
        "duration": 4,
        "start_time": "2022-05-15T19:45:34.818Z"
      },
      {
        "duration": 77,
        "start_time": "2022-05-15T19:45:34.824Z"
      },
      {
        "duration": 138,
        "start_time": "2022-05-15T19:45:34.903Z"
      },
      {
        "duration": 25,
        "start_time": "2022-05-15T19:45:35.046Z"
      },
      {
        "duration": 35,
        "start_time": "2022-05-15T19:45:35.075Z"
      },
      {
        "duration": 775,
        "start_time": "2022-05-15T19:45:35.113Z"
      },
      {
        "duration": 37,
        "start_time": "2022-05-15T19:45:35.891Z"
      },
      {
        "duration": 11,
        "start_time": "2022-05-15T19:45:35.930Z"
      },
      {
        "duration": 61,
        "start_time": "2022-05-15T19:45:35.946Z"
      },
      {
        "duration": 1366,
        "start_time": "2022-05-15T19:45:36.010Z"
      },
      {
        "duration": 2976,
        "start_time": "2022-05-15T19:45:37.380Z"
      },
      {
        "duration": 255186,
        "start_time": "2022-05-15T19:45:40.358Z"
      },
      {
        "duration": 104621,
        "start_time": "2022-05-15T19:49:55.545Z"
      },
      {
        "duration": 209,
        "start_time": "2022-05-15T19:51:40.168Z"
      },
      {
        "duration": 3,
        "start_time": "2022-05-15T19:51:40.379Z"
      },
      {
        "duration": 2321988,
        "start_time": "2022-05-15T19:51:40.384Z"
      },
      {
        "duration": 88002,
        "start_time": "2022-05-15T20:30:22.375Z"
      },
      {
        "duration": 668390,
        "start_time": "2022-05-15T20:31:50.379Z"
      },
      {
        "duration": 70423,
        "start_time": "2022-05-15T20:42:58.771Z"
      },
      {
        "duration": 3,
        "start_time": "2022-05-15T20:44:09.195Z"
      },
      {
        "duration": 8,
        "start_time": "2022-05-15T20:44:09.200Z"
      },
      {
        "duration": 145,
        "start_time": "2022-05-15T20:44:09.210Z"
      },
      {
        "duration": 0,
        "start_time": "2022-05-15T20:44:09.356Z"
      },
      {
        "duration": 0,
        "start_time": "2022-05-15T20:44:09.361Z"
      },
      {
        "duration": 0,
        "start_time": "2022-05-15T20:44:09.363Z"
      },
      {
        "duration": 0,
        "start_time": "2022-05-15T20:44:09.364Z"
      },
      {
        "duration": 0,
        "start_time": "2022-05-15T20:44:09.366Z"
      },
      {
        "duration": 0,
        "start_time": "2022-05-15T20:44:09.367Z"
      },
      {
        "duration": 0,
        "start_time": "2022-05-15T20:44:09.368Z"
      },
      {
        "duration": 68629,
        "start_time": "2022-05-15T20:46:16.450Z"
      },
      {
        "duration": 4,
        "start_time": "2022-05-15T20:50:56.221Z"
      },
      {
        "duration": 5135,
        "start_time": "2022-05-15T20:50:58.038Z"
      },
      {
        "duration": 8271,
        "start_time": "2022-05-15T20:52:07.309Z"
      },
      {
        "duration": 4,
        "start_time": "2022-05-15T20:54:19.823Z"
      },
      {
        "duration": 3,
        "start_time": "2022-05-15T20:54:28.847Z"
      },
      {
        "duration": 2,
        "start_time": "2022-05-15T20:55:33.895Z"
      },
      {
        "duration": 4,
        "start_time": "2022-05-15T20:55:35.353Z"
      },
      {
        "duration": 3982,
        "start_time": "2022-05-15T20:55:37.506Z"
      },
      {
        "duration": 34326,
        "start_time": "2022-05-15T20:55:44.149Z"
      },
      {
        "duration": 23663,
        "start_time": "2022-05-15T20:56:41.445Z"
      },
      {
        "duration": 4,
        "start_time": "2022-05-15T20:58:53.756Z"
      },
      {
        "duration": 3,
        "start_time": "2022-05-15T20:59:16.974Z"
      },
      {
        "duration": 12,
        "start_time": "2022-05-15T20:59:26.339Z"
      },
      {
        "duration": 5,
        "start_time": "2022-05-15T20:59:37.464Z"
      },
      {
        "duration": 4,
        "start_time": "2022-05-15T20:59:55.210Z"
      },
      {
        "duration": 12,
        "start_time": "2022-05-15T21:01:19.100Z"
      },
      {
        "duration": 11,
        "start_time": "2022-05-15T21:02:38.966Z"
      },
      {
        "duration": 10,
        "start_time": "2022-05-15T21:02:47.254Z"
      },
      {
        "duration": 18,
        "start_time": "2022-05-15T21:06:25.593Z"
      },
      {
        "duration": 3,
        "start_time": "2022-05-15T21:06:39.906Z"
      },
      {
        "duration": 7,
        "start_time": "2022-05-15T21:07:26.550Z"
      },
      {
        "duration": 3,
        "start_time": "2022-05-15T21:07:45.493Z"
      },
      {
        "duration": 8,
        "start_time": "2022-05-15T21:07:47.638Z"
      },
      {
        "duration": 3,
        "start_time": "2022-05-15T21:10:05.392Z"
      },
      {
        "duration": 4,
        "start_time": "2022-05-15T21:10:16.057Z"
      },
      {
        "duration": 2,
        "start_time": "2022-05-15T21:12:59.389Z"
      },
      {
        "duration": 7,
        "start_time": "2022-05-15T21:12:59.395Z"
      },
      {
        "duration": 7265,
        "start_time": "2022-05-15T21:12:59.404Z"
      },
      {
        "duration": 120598,
        "start_time": "2022-05-15T21:13:06.670Z"
      },
      {
        "duration": 25740,
        "start_time": "2022-05-15T21:15:07.271Z"
      },
      {
        "duration": 5,
        "start_time": "2022-05-15T21:15:33.013Z"
      },
      {
        "duration": 8,
        "start_time": "2022-05-15T21:16:30.077Z"
      },
      {
        "duration": 138,
        "start_time": "2022-05-15T21:18:52.490Z"
      },
      {
        "duration": 196,
        "start_time": "2022-05-15T21:18:58.238Z"
      },
      {
        "duration": 147,
        "start_time": "2022-05-15T21:20:06.358Z"
      },
      {
        "duration": 162,
        "start_time": "2022-05-15T21:20:29.280Z"
      },
      {
        "duration": 13,
        "start_time": "2022-05-15T21:20:40.011Z"
      },
      {
        "duration": 11,
        "start_time": "2022-05-15T21:21:05.784Z"
      },
      {
        "duration": 11,
        "start_time": "2022-05-15T21:21:20.917Z"
      },
      {
        "duration": 11,
        "start_time": "2022-05-15T21:22:39.444Z"
      },
      {
        "duration": 11,
        "start_time": "2022-05-15T21:22:45.853Z"
      },
      {
        "duration": 10,
        "start_time": "2022-05-15T21:24:20.435Z"
      },
      {
        "duration": 17,
        "start_time": "2022-05-15T21:26:50.697Z"
      },
      {
        "duration": 8,
        "start_time": "2022-05-15T21:30:10.562Z"
      },
      {
        "duration": 670,
        "start_time": "2022-05-15T21:33:12.398Z"
      },
      {
        "duration": 2,
        "start_time": "2022-05-15T21:33:31.714Z"
      },
      {
        "duration": 3,
        "start_time": "2022-05-15T21:33:33.437Z"
      },
      {
        "duration": 693,
        "start_time": "2022-05-15T21:33:36.249Z"
      },
      {
        "duration": 3,
        "start_time": "2022-05-15T21:33:42.422Z"
      },
      {
        "duration": 58,
        "start_time": "2022-05-15T21:35:13.314Z"
      },
      {
        "duration": 4,
        "start_time": "2022-05-15T21:35:23.648Z"
      },
      {
        "duration": 7,
        "start_time": "2022-05-16T11:47:11.614Z"
      },
      {
        "duration": 846,
        "start_time": "2022-05-16T11:47:11.622Z"
      },
      {
        "duration": 6,
        "start_time": "2022-05-16T11:47:12.472Z"
      },
      {
        "duration": 9,
        "start_time": "2022-05-16T11:47:12.480Z"
      },
      {
        "duration": 150,
        "start_time": "2022-05-16T11:47:12.492Z"
      },
      {
        "duration": 143,
        "start_time": "2022-05-16T11:47:12.644Z"
      },
      {
        "duration": 664,
        "start_time": "2022-05-16T11:47:12.789Z"
      },
      {
        "duration": 426,
        "start_time": "2022-05-16T11:47:13.455Z"
      },
      {
        "duration": 436,
        "start_time": "2022-05-16T11:47:13.883Z"
      },
      {
        "duration": 86,
        "start_time": "2022-05-16T11:47:14.321Z"
      },
      {
        "duration": 95,
        "start_time": "2022-05-16T11:47:14.408Z"
      },
      {
        "duration": 30,
        "start_time": "2022-05-16T11:47:14.505Z"
      },
      {
        "duration": 426,
        "start_time": "2022-05-16T11:47:14.536Z"
      },
      {
        "duration": 39,
        "start_time": "2022-05-16T11:47:14.966Z"
      },
      {
        "duration": 267,
        "start_time": "2022-05-16T11:47:15.007Z"
      },
      {
        "duration": 5,
        "start_time": "2022-05-16T11:47:15.276Z"
      },
      {
        "duration": 12,
        "start_time": "2022-05-16T11:47:15.283Z"
      },
      {
        "duration": 13,
        "start_time": "2022-05-16T11:47:15.297Z"
      },
      {
        "duration": 170,
        "start_time": "2022-05-16T11:47:15.312Z"
      },
      {
        "duration": 7,
        "start_time": "2022-05-16T11:47:15.484Z"
      },
      {
        "duration": 152,
        "start_time": "2022-05-16T11:47:15.493Z"
      },
      {
        "duration": 43,
        "start_time": "2022-05-16T11:47:15.647Z"
      },
      {
        "duration": 150,
        "start_time": "2022-05-16T11:47:15.692Z"
      },
      {
        "duration": 5,
        "start_time": "2022-05-16T11:47:15.843Z"
      },
      {
        "duration": 26,
        "start_time": "2022-05-16T11:47:15.849Z"
      },
      {
        "duration": 7,
        "start_time": "2022-05-16T11:47:15.877Z"
      },
      {
        "duration": 32,
        "start_time": "2022-05-16T11:47:15.886Z"
      },
      {
        "duration": 700,
        "start_time": "2022-05-16T11:47:15.920Z"
      },
      {
        "duration": 21,
        "start_time": "2022-05-16T11:47:16.621Z"
      },
      {
        "duration": 138,
        "start_time": "2022-05-16T11:47:16.643Z"
      },
      {
        "duration": 32,
        "start_time": "2022-05-16T11:47:16.784Z"
      },
      {
        "duration": 513,
        "start_time": "2022-05-16T11:47:16.818Z"
      },
      {
        "duration": 49,
        "start_time": "2022-05-16T11:47:17.333Z"
      },
      {
        "duration": 15,
        "start_time": "2022-05-16T11:47:17.384Z"
      },
      {
        "duration": 79,
        "start_time": "2022-05-16T11:47:17.400Z"
      },
      {
        "duration": 9,
        "start_time": "2022-05-16T11:47:17.481Z"
      },
      {
        "duration": 42,
        "start_time": "2022-05-16T11:47:17.492Z"
      },
      {
        "duration": 1213,
        "start_time": "2022-05-16T11:47:17.535Z"
      },
      {
        "duration": 135,
        "start_time": "2022-05-16T11:47:18.750Z"
      },
      {
        "duration": 11,
        "start_time": "2022-05-16T11:47:18.887Z"
      },
      {
        "duration": 28,
        "start_time": "2022-05-16T11:47:18.903Z"
      },
      {
        "duration": 388,
        "start_time": "2022-05-16T11:47:18.933Z"
      },
      {
        "duration": 40,
        "start_time": "2022-05-16T11:47:19.322Z"
      },
      {
        "duration": 429,
        "start_time": "2022-05-16T11:47:19.365Z"
      },
      {
        "duration": 7,
        "start_time": "2022-05-16T11:47:19.795Z"
      },
      {
        "duration": 160,
        "start_time": "2022-05-16T11:47:19.803Z"
      },
      {
        "duration": 15,
        "start_time": "2022-05-16T11:47:19.964Z"
      },
      {
        "duration": 27,
        "start_time": "2022-05-16T11:47:19.981Z"
      },
      {
        "duration": 5170,
        "start_time": "2022-05-16T11:47:20.010Z"
      },
      {
        "duration": 20,
        "start_time": "2022-05-16T11:47:25.181Z"
      },
      {
        "duration": 37,
        "start_time": "2022-05-16T11:47:25.203Z"
      },
      {
        "duration": 121,
        "start_time": "2022-05-16T11:47:25.242Z"
      },
      {
        "duration": 171,
        "start_time": "2022-05-16T11:47:25.365Z"
      },
      {
        "duration": 32,
        "start_time": "2022-05-16T11:47:25.538Z"
      },
      {
        "duration": 31,
        "start_time": "2022-05-16T11:47:25.571Z"
      },
      {
        "duration": 4277,
        "start_time": "2022-05-16T11:47:25.603Z"
      },
      {
        "duration": 25,
        "start_time": "2022-05-16T11:47:29.882Z"
      },
      {
        "duration": 32,
        "start_time": "2022-05-16T11:47:29.908Z"
      },
      {
        "duration": 197,
        "start_time": "2022-05-16T11:47:29.941Z"
      },
      {
        "duration": 37,
        "start_time": "2022-05-16T11:47:30.140Z"
      },
      {
        "duration": 193,
        "start_time": "2022-05-16T11:47:30.178Z"
      },
      {
        "duration": 98,
        "start_time": "2022-05-16T11:47:30.373Z"
      },
      {
        "duration": 5012,
        "start_time": "2022-05-16T11:47:30.476Z"
      },
      {
        "duration": 26,
        "start_time": "2022-05-16T11:47:35.490Z"
      },
      {
        "duration": 48,
        "start_time": "2022-05-16T11:47:35.518Z"
      },
      {
        "duration": 45,
        "start_time": "2022-05-16T11:47:35.569Z"
      },
      {
        "duration": 100,
        "start_time": "2022-05-16T11:47:35.615Z"
      },
      {
        "duration": 27,
        "start_time": "2022-05-16T11:47:35.717Z"
      },
      {
        "duration": 4870,
        "start_time": "2022-05-16T11:47:35.762Z"
      },
      {
        "duration": 36,
        "start_time": "2022-05-16T11:47:40.634Z"
      },
      {
        "duration": 43,
        "start_time": "2022-05-16T11:47:40.671Z"
      },
      {
        "duration": 107,
        "start_time": "2022-05-16T11:47:40.716Z"
      },
      {
        "duration": 21208,
        "start_time": "2022-05-16T11:47:40.825Z"
      },
      {
        "duration": 36,
        "start_time": "2022-05-16T11:48:02.034Z"
      },
      {
        "duration": 181,
        "start_time": "2022-05-16T11:48:02.073Z"
      },
      {
        "duration": 4,
        "start_time": "2022-05-16T11:48:02.261Z"
      },
      {
        "duration": 93,
        "start_time": "2022-05-16T11:48:02.269Z"
      },
      {
        "duration": 479,
        "start_time": "2022-05-16T11:48:02.364Z"
      },
      {
        "duration": 6,
        "start_time": "2022-05-16T11:48:02.845Z"
      },
      {
        "duration": 385,
        "start_time": "2022-05-16T11:48:02.862Z"
      },
      {
        "duration": 228,
        "start_time": "2022-05-16T11:48:03.249Z"
      },
      {
        "duration": 1078,
        "start_time": "2022-05-16T11:48:03.479Z"
      },
      {
        "duration": 284,
        "start_time": "2022-05-16T11:48:04.562Z"
      },
      {
        "duration": 14,
        "start_time": "2022-05-16T11:48:04.848Z"
      },
      {
        "duration": 146,
        "start_time": "2022-05-16T11:48:04.863Z"
      },
      {
        "duration": 40777,
        "start_time": "2022-05-16T11:48:05.010Z"
      },
      {
        "duration": 14595,
        "start_time": "2022-05-16T11:48:45.789Z"
      },
      {
        "duration": 112778,
        "start_time": "2022-05-16T11:49:00.387Z"
      },
      {
        "duration": 7484,
        "start_time": "2022-05-16T11:50:53.167Z"
      },
      {
        "duration": 640,
        "start_time": "2022-05-16T11:51:00.653Z"
      },
      {
        "duration": 5551,
        "start_time": "2022-05-16T11:51:01.295Z"
      },
      {
        "duration": 823,
        "start_time": "2022-05-16T11:51:06.848Z"
      },
      {
        "duration": 63959,
        "start_time": "2022-05-16T11:51:07.673Z"
      },
      {
        "duration": 12940,
        "start_time": "2022-05-16T11:52:11.633Z"
      },
      {
        "duration": 41365,
        "start_time": "2022-05-16T11:52:24.575Z"
      },
      {
        "duration": 2280,
        "start_time": "2022-05-16T11:53:05.942Z"
      },
      {
        "duration": 855,
        "start_time": "2022-05-16T11:53:08.223Z"
      },
      {
        "duration": 29605,
        "start_time": "2022-05-16T11:53:09.080Z"
      },
      {
        "duration": 6482,
        "start_time": "2022-05-16T11:53:38.687Z"
      },
      {
        "duration": 5030,
        "start_time": "2022-05-16T11:53:45.170Z"
      },
      {
        "duration": 737,
        "start_time": "2022-05-16T11:53:50.202Z"
      },
      {
        "duration": 3,
        "start_time": "2022-05-16T11:53:50.941Z"
      },
      {
        "duration": 15020,
        "start_time": "2022-05-16T11:53:50.945Z"
      },
      {
        "duration": 8023,
        "start_time": "2022-05-16T11:54:05.967Z"
      },
      {
        "duration": 100172,
        "start_time": "2022-05-16T11:54:13.992Z"
      },
      {
        "duration": 6,
        "start_time": "2022-05-16T11:55:54.166Z"
      },
      {
        "duration": 108,
        "start_time": "2022-05-16T11:55:54.174Z"
      },
      {
        "duration": 2152,
        "start_time": "2022-05-16T11:55:54.285Z"
      },
      {
        "duration": 2158,
        "start_time": "2022-05-16T11:55:56.439Z"
      },
      {
        "duration": 2186,
        "start_time": "2022-05-16T11:55:58.598Z"
      },
      {
        "duration": 2,
        "start_time": "2022-05-16T11:56:00.786Z"
      },
      {
        "duration": 48,
        "start_time": "2022-05-16T11:56:00.789Z"
      },
      {
        "duration": 101,
        "start_time": "2022-05-16T11:56:00.839Z"
      },
      {
        "duration": 26,
        "start_time": "2022-05-16T11:56:00.942Z"
      },
      {
        "duration": 51,
        "start_time": "2022-05-16T11:56:00.970Z"
      },
      {
        "duration": 486,
        "start_time": "2022-05-16T11:56:01.022Z"
      },
      {
        "duration": 33,
        "start_time": "2022-05-16T11:56:01.510Z"
      },
      {
        "duration": 18,
        "start_time": "2022-05-16T11:56:01.545Z"
      },
      {
        "duration": 92,
        "start_time": "2022-05-16T11:56:01.565Z"
      },
      {
        "duration": 1130,
        "start_time": "2022-05-16T11:56:01.659Z"
      },
      {
        "duration": 2893,
        "start_time": "2022-05-16T11:56:02.862Z"
      },
      {
        "duration": 199307,
        "start_time": "2022-05-16T11:56:05.768Z"
      },
      {
        "duration": 85111,
        "start_time": "2022-05-16T11:59:25.077Z"
      },
      {
        "duration": 230,
        "start_time": "2022-05-16T12:00:50.190Z"
      },
      {
        "duration": 4,
        "start_time": "2022-05-16T12:00:50.421Z"
      },
      {
        "duration": 511037,
        "start_time": "2022-05-16T12:00:50.427Z"
      },
      {
        "duration": 108313,
        "start_time": "2022-05-16T12:09:21.466Z"
      },
      {
        "duration": 1472799,
        "start_time": "2022-05-16T12:11:09.781Z"
      },
      {
        "duration": 68634,
        "start_time": "2022-05-16T12:35:42.582Z"
      },
      {
        "duration": 3,
        "start_time": "2022-05-16T12:36:51.218Z"
      },
      {
        "duration": 5,
        "start_time": "2022-05-16T12:36:51.222Z"
      },
      {
        "duration": 656,
        "start_time": "2022-05-16T12:36:51.228Z"
      },
      {
        "duration": 85,
        "start_time": "2022-05-16T12:36:51.886Z"
      },
      {
        "duration": 4,
        "start_time": "2022-05-16T12:36:52.063Z"
      },
      {
        "duration": 3997,
        "start_time": "2022-05-16T12:36:52.070Z"
      },
      {
        "duration": 37098,
        "start_time": "2022-05-16T12:36:56.069Z"
      },
      {
        "duration": 23806,
        "start_time": "2022-05-16T12:37:33.168Z"
      },
      {
        "duration": 4,
        "start_time": "2022-05-16T12:37:56.975Z"
      },
      {
        "duration": 12,
        "start_time": "2022-05-16T12:37:56.981Z"
      },
      {
        "duration": 4,
        "start_time": "2022-05-16T19:24:02.697Z"
      },
      {
        "duration": 8,
        "start_time": "2022-05-16T19:24:02.703Z"
      },
      {
        "duration": 148,
        "start_time": "2022-05-16T19:24:02.714Z"
      },
      {
        "duration": 1144,
        "start_time": "2022-05-16T19:24:02.867Z"
      },
      {
        "duration": 65013,
        "start_time": "2022-05-16T19:24:04.014Z"
      },
      {
        "duration": 323004,
        "start_time": "2022-05-16T19:25:09.028Z"
      },
      {
        "duration": 128379,
        "start_time": "2022-05-16T19:30:32.034Z"
      },
      {
        "duration": 29991,
        "start_time": "2022-05-16T19:32:40.414Z"
      },
      {
        "duration": 7,
        "start_time": "2022-05-16T19:33:10.406Z"
      },
      {
        "duration": 12,
        "start_time": "2022-05-16T19:33:10.415Z"
      },
      {
        "duration": 16,
        "start_time": "2022-05-16T19:33:46.071Z"
      },
      {
        "duration": 10,
        "start_time": "2022-05-16T19:33:50.129Z"
      },
      {
        "duration": 13,
        "start_time": "2022-05-16T19:33:55.700Z"
      },
      {
        "duration": 14,
        "start_time": "2022-05-16T19:34:05.659Z"
      },
      {
        "duration": 11,
        "start_time": "2022-05-16T19:35:19.782Z"
      },
      {
        "duration": 8,
        "start_time": "2022-05-29T18:48:58.671Z"
      },
      {
        "duration": 3641,
        "start_time": "2022-05-29T18:48:58.681Z"
      },
      {
        "duration": 3080,
        "start_time": "2022-05-29T18:49:02.325Z"
      },
      {
        "duration": 3,
        "start_time": "2022-05-29T18:49:05.408Z"
      },
      {
        "duration": 44,
        "start_time": "2022-05-29T18:49:05.413Z"
      },
      {
        "duration": 33,
        "start_time": "2022-05-29T18:49:05.458Z"
      },
      {
        "duration": 71,
        "start_time": "2022-05-29T18:49:05.493Z"
      },
      {
        "duration": 184,
        "start_time": "2022-05-29T18:49:05.566Z"
      },
      {
        "duration": 137,
        "start_time": "2022-05-29T18:49:05.752Z"
      },
      {
        "duration": 566,
        "start_time": "2022-05-29T18:49:05.891Z"
      },
      {
        "duration": 511,
        "start_time": "2022-05-29T18:49:06.460Z"
      },
      {
        "duration": 587,
        "start_time": "2022-05-29T18:49:06.972Z"
      },
      {
        "duration": 98,
        "start_time": "2022-05-29T18:49:07.562Z"
      },
      {
        "duration": 115,
        "start_time": "2022-05-29T18:49:07.662Z"
      },
      {
        "duration": 50,
        "start_time": "2022-05-29T18:49:07.783Z"
      },
      {
        "duration": 675,
        "start_time": "2022-05-29T18:49:07.835Z"
      },
      {
        "duration": 44,
        "start_time": "2022-05-29T18:49:08.512Z"
      },
      {
        "duration": 188,
        "start_time": "2022-05-29T18:49:08.558Z"
      },
      {
        "duration": 4,
        "start_time": "2022-05-29T18:49:08.748Z"
      },
      {
        "duration": 6,
        "start_time": "2022-05-29T18:49:08.754Z"
      },
      {
        "duration": 218,
        "start_time": "2022-05-29T18:49:08.761Z"
      },
      {
        "duration": 12,
        "start_time": "2022-05-29T18:49:08.980Z"
      },
      {
        "duration": 211,
        "start_time": "2022-05-29T18:49:08.994Z"
      },
      {
        "duration": 44,
        "start_time": "2022-05-29T18:49:09.207Z"
      },
      {
        "duration": 201,
        "start_time": "2022-05-29T18:49:09.253Z"
      },
      {
        "duration": 5,
        "start_time": "2022-05-29T18:49:09.455Z"
      },
      {
        "duration": 28,
        "start_time": "2022-05-29T18:49:09.462Z"
      },
      {
        "duration": 12,
        "start_time": "2022-05-29T18:49:09.492Z"
      },
      {
        "duration": 9,
        "start_time": "2022-05-29T18:49:09.508Z"
      },
      {
        "duration": 40,
        "start_time": "2022-05-29T18:49:09.519Z"
      },
      {
        "duration": 809,
        "start_time": "2022-05-29T18:49:09.561Z"
      },
      {
        "duration": 33,
        "start_time": "2022-05-29T18:49:10.372Z"
      },
      {
        "duration": 290,
        "start_time": "2022-05-29T18:49:10.407Z"
      },
      {
        "duration": 37,
        "start_time": "2022-05-29T18:49:10.700Z"
      },
      {
        "duration": 489,
        "start_time": "2022-05-29T18:49:10.739Z"
      },
      {
        "duration": 36,
        "start_time": "2022-05-29T18:49:11.230Z"
      },
      {
        "duration": 28,
        "start_time": "2022-05-29T18:49:11.268Z"
      },
      {
        "duration": 62,
        "start_time": "2022-05-29T18:49:11.300Z"
      },
      {
        "duration": 24,
        "start_time": "2022-05-29T18:49:11.364Z"
      },
      {
        "duration": 44,
        "start_time": "2022-05-29T18:49:11.391Z"
      },
      {
        "duration": 1435,
        "start_time": "2022-05-29T18:49:11.437Z"
      },
      {
        "duration": 140,
        "start_time": "2022-05-29T18:49:12.873Z"
      },
      {
        "duration": 13,
        "start_time": "2022-05-29T18:49:13.015Z"
      },
      {
        "duration": 36,
        "start_time": "2022-05-29T18:49:13.029Z"
      },
      {
        "duration": 427,
        "start_time": "2022-05-29T18:49:13.085Z"
      },
      {
        "duration": 33,
        "start_time": "2022-05-29T18:49:13.514Z"
      },
      {
        "duration": 485,
        "start_time": "2022-05-29T18:49:13.549Z"
      },
      {
        "duration": 7,
        "start_time": "2022-05-29T18:49:14.036Z"
      },
      {
        "duration": 172,
        "start_time": "2022-05-29T18:49:14.045Z"
      },
      {
        "duration": 15,
        "start_time": "2022-05-29T18:49:14.219Z"
      },
      {
        "duration": 28,
        "start_time": "2022-05-29T18:49:14.236Z"
      },
      {
        "duration": 5780,
        "start_time": "2022-05-29T18:49:14.266Z"
      },
      {
        "duration": 23,
        "start_time": "2022-05-29T18:49:20.048Z"
      },
      {
        "duration": 46,
        "start_time": "2022-05-29T18:49:20.084Z"
      },
      {
        "duration": 112,
        "start_time": "2022-05-29T18:49:20.131Z"
      },
      {
        "duration": 125,
        "start_time": "2022-05-29T18:49:20.244Z"
      },
      {
        "duration": 16,
        "start_time": "2022-05-29T18:49:20.371Z"
      },
      {
        "duration": 36,
        "start_time": "2022-05-29T18:49:20.389Z"
      },
      {
        "duration": 4983,
        "start_time": "2022-05-29T18:49:20.426Z"
      },
      {
        "duration": 29,
        "start_time": "2022-05-29T18:49:25.411Z"
      },
      {
        "duration": 55,
        "start_time": "2022-05-29T18:49:25.442Z"
      },
      {
        "duration": 219,
        "start_time": "2022-05-29T18:49:25.499Z"
      },
      {
        "duration": 26,
        "start_time": "2022-05-29T18:49:25.720Z"
      },
      {
        "duration": 241,
        "start_time": "2022-05-29T18:49:25.748Z"
      },
      {
        "duration": 98,
        "start_time": "2022-05-29T18:49:25.991Z"
      },
      {
        "duration": 5736,
        "start_time": "2022-05-29T18:49:26.091Z"
      },
      {
        "duration": 34,
        "start_time": "2022-05-29T18:49:31.829Z"
      },
      {
        "duration": 55,
        "start_time": "2022-05-29T18:49:31.865Z"
      },
      {
        "duration": 62,
        "start_time": "2022-05-29T18:49:31.922Z"
      },
      {
        "duration": 105,
        "start_time": "2022-05-29T18:49:31.987Z"
      },
      {
        "duration": 29,
        "start_time": "2022-05-29T18:49:32.094Z"
      },
      {
        "duration": 5405,
        "start_time": "2022-05-29T18:49:32.124Z"
      },
      {
        "duration": 34,
        "start_time": "2022-05-29T18:49:37.532Z"
      },
      {
        "duration": 58,
        "start_time": "2022-05-29T18:49:37.568Z"
      },
      {
        "duration": 98,
        "start_time": "2022-05-29T18:49:37.628Z"
      },
      {
        "duration": 22624,
        "start_time": "2022-05-29T18:49:37.728Z"
      },
      {
        "duration": 56,
        "start_time": "2022-05-29T18:50:00.353Z"
      },
      {
        "duration": 204,
        "start_time": "2022-05-29T18:50:00.411Z"
      },
      {
        "duration": 3,
        "start_time": "2022-05-29T18:50:00.617Z"
      },
      {
        "duration": 69,
        "start_time": "2022-05-29T18:50:00.622Z"
      },
      {
        "duration": 372,
        "start_time": "2022-05-29T18:50:00.693Z"
      },
      {
        "duration": 6,
        "start_time": "2022-05-29T18:50:01.067Z"
      },
      {
        "duration": 486,
        "start_time": "2022-05-29T18:50:01.087Z"
      },
      {
        "duration": 317,
        "start_time": "2022-05-29T18:50:01.575Z"
      },
      {
        "duration": 1250,
        "start_time": "2022-05-29T18:50:01.895Z"
      },
      {
        "duration": 371,
        "start_time": "2022-05-29T18:50:03.147Z"
      },
      {
        "duration": 2,
        "start_time": "2022-05-29T18:50:03.521Z"
      },
      {
        "duration": 183,
        "start_time": "2022-05-29T18:50:03.525Z"
      },
      {
        "duration": 44880,
        "start_time": "2022-05-29T18:50:03.710Z"
      },
      {
        "duration": 13309,
        "start_time": "2022-05-29T18:50:48.592Z"
      },
      {
        "duration": 131294,
        "start_time": "2022-05-29T18:51:01.903Z"
      },
      {
        "duration": 8531,
        "start_time": "2022-05-29T18:53:13.199Z"
      },
      {
        "duration": 774,
        "start_time": "2022-05-29T18:53:21.732Z"
      },
      {
        "duration": 6235,
        "start_time": "2022-05-29T18:53:22.508Z"
      },
      {
        "duration": 928,
        "start_time": "2022-05-29T18:53:28.744Z"
      },
      {
        "duration": 77845,
        "start_time": "2022-05-29T18:53:29.673Z"
      },
      {
        "duration": 13063,
        "start_time": "2022-05-29T18:54:47.521Z"
      },
      {
        "duration": 49972,
        "start_time": "2022-05-29T18:55:00.586Z"
      },
      {
        "duration": 2453,
        "start_time": "2022-05-29T18:55:50.559Z"
      },
      {
        "duration": 905,
        "start_time": "2022-05-29T18:55:53.014Z"
      },
      {
        "duration": 44498,
        "start_time": "2022-05-29T18:55:53.921Z"
      },
      {
        "duration": 7716,
        "start_time": "2022-05-29T18:56:38.485Z"
      },
      {
        "duration": 8825,
        "start_time": "2022-05-29T18:56:46.204Z"
      },
      {
        "duration": 882,
        "start_time": "2022-05-29T18:56:55.031Z"
      },
      {
        "duration": 2,
        "start_time": "2022-05-29T18:56:55.915Z"
      },
      {
        "duration": 18292,
        "start_time": "2022-05-29T18:56:55.920Z"
      },
      {
        "duration": 9322,
        "start_time": "2022-05-29T18:57:14.214Z"
      },
      {
        "duration": 144761,
        "start_time": "2022-05-29T18:57:23.538Z"
      },
      {
        "duration": 7,
        "start_time": "2022-05-29T18:59:48.384Z"
      },
      {
        "duration": 2417,
        "start_time": "2022-05-29T18:59:48.393Z"
      },
      {
        "duration": 2440,
        "start_time": "2022-05-29T18:59:50.812Z"
      },
      {
        "duration": 2562,
        "start_time": "2022-05-29T18:59:53.254Z"
      },
      {
        "duration": 2,
        "start_time": "2022-05-29T18:59:55.818Z"
      },
      {
        "duration": 67,
        "start_time": "2022-05-29T18:59:55.822Z"
      },
      {
        "duration": 108,
        "start_time": "2022-05-29T18:59:55.892Z"
      },
      {
        "duration": 15,
        "start_time": "2022-05-29T18:59:56.003Z"
      },
      {
        "duration": 37,
        "start_time": "2022-05-29T18:59:56.020Z"
      },
      {
        "duration": 587,
        "start_time": "2022-05-29T18:59:56.059Z"
      },
      {
        "duration": 55,
        "start_time": "2022-05-29T18:59:56.649Z"
      },
      {
        "duration": 4,
        "start_time": "2022-05-29T18:59:56.706Z"
      },
      {
        "duration": 61,
        "start_time": "2022-05-29T18:59:56.712Z"
      },
      {
        "duration": 1215,
        "start_time": "2022-05-29T18:59:56.784Z"
      },
      {
        "duration": 290,
        "start_time": "2022-05-29T18:59:58.002Z"
      },
      {
        "duration": 3397,
        "start_time": "2022-05-29T18:59:58.294Z"
      },
      {
        "duration": 874,
        "start_time": "2022-05-29T19:00:01.693Z"
      },
      {
        "duration": 215780,
        "start_time": "2022-05-29T19:00:02.568Z"
      },
      {
        "duration": 53707,
        "start_time": "2022-05-29T19:25:58.970Z"
      },
      {
        "duration": 30,
        "start_time": "2022-05-29T20:05:13.739Z"
      },
      {
        "duration": 47,
        "start_time": "2022-05-29T20:05:26.089Z"
      },
      {
        "duration": 103789,
        "start_time": "2022-05-29T20:05:53.107Z"
      },
      {
        "duration": 299,
        "start_time": "2022-05-29T20:07:36.899Z"
      },
      {
        "duration": 9,
        "start_time": "2022-05-29T20:07:37.200Z"
      },
      {
        "duration": 2056182,
        "start_time": "2022-05-29T20:07:37.211Z"
      },
      {
        "duration": 210403,
        "start_time": "2022-05-29T20:41:53.395Z"
      },
      {
        "duration": 7,
        "start_time": "2022-05-30T04:54:59.701Z"
      },
      {
        "duration": 2891,
        "start_time": "2022-05-30T04:54:59.710Z"
      },
      {
        "duration": 2944,
        "start_time": "2022-05-30T04:55:02.603Z"
      },
      {
        "duration": 3,
        "start_time": "2022-05-30T04:55:05.548Z"
      },
      {
        "duration": 9,
        "start_time": "2022-05-30T04:55:05.553Z"
      },
      {
        "duration": 9,
        "start_time": "2022-05-30T04:55:05.564Z"
      },
      {
        "duration": 16,
        "start_time": "2022-05-30T04:55:05.574Z"
      },
      {
        "duration": 123,
        "start_time": "2022-05-30T04:55:05.591Z"
      },
      {
        "duration": 127,
        "start_time": "2022-05-30T04:55:05.716Z"
      },
      {
        "duration": 419,
        "start_time": "2022-05-30T04:55:05.845Z"
      },
      {
        "duration": 462,
        "start_time": "2022-05-30T04:55:06.266Z"
      },
      {
        "duration": 485,
        "start_time": "2022-05-30T04:55:06.730Z"
      },
      {
        "duration": 78,
        "start_time": "2022-05-30T04:55:07.217Z"
      },
      {
        "duration": 89,
        "start_time": "2022-05-30T04:55:07.298Z"
      },
      {
        "duration": 37,
        "start_time": "2022-05-30T04:55:07.389Z"
      },
      {
        "duration": 590,
        "start_time": "2022-05-30T04:55:07.428Z"
      },
      {
        "duration": 50,
        "start_time": "2022-05-30T04:55:08.019Z"
      },
      {
        "duration": 140,
        "start_time": "2022-05-30T04:55:08.070Z"
      },
      {
        "duration": 4,
        "start_time": "2022-05-30T04:55:08.211Z"
      },
      {
        "duration": 7,
        "start_time": "2022-05-30T04:55:08.216Z"
      },
      {
        "duration": 184,
        "start_time": "2022-05-30T04:55:08.224Z"
      },
      {
        "duration": 8,
        "start_time": "2022-05-30T04:55:08.409Z"
      },
      {
        "duration": 147,
        "start_time": "2022-05-30T04:55:08.418Z"
      },
      {
        "duration": 40,
        "start_time": "2022-05-30T04:55:08.567Z"
      },
      {
        "duration": 189,
        "start_time": "2022-05-30T04:55:08.608Z"
      },
      {
        "duration": 5,
        "start_time": "2022-05-30T04:55:08.798Z"
      },
      {
        "duration": 17,
        "start_time": "2022-05-30T04:55:08.805Z"
      },
      {
        "duration": 10,
        "start_time": "2022-05-30T04:55:08.823Z"
      },
      {
        "duration": 28,
        "start_time": "2022-05-30T04:55:08.834Z"
      },
      {
        "duration": 43,
        "start_time": "2022-05-30T04:55:08.864Z"
      },
      {
        "duration": 742,
        "start_time": "2022-05-30T04:55:08.909Z"
      },
      {
        "duration": 26,
        "start_time": "2022-05-30T04:55:09.652Z"
      },
      {
        "duration": 242,
        "start_time": "2022-05-30T04:55:09.680Z"
      },
      {
        "duration": 38,
        "start_time": "2022-05-30T04:55:09.923Z"
      },
      {
        "duration": 441,
        "start_time": "2022-05-30T04:55:09.963Z"
      },
      {
        "duration": 32,
        "start_time": "2022-05-30T04:55:10.406Z"
      },
      {
        "duration": 30,
        "start_time": "2022-05-30T04:55:10.439Z"
      },
      {
        "duration": 47,
        "start_time": "2022-05-30T04:55:10.472Z"
      },
      {
        "duration": 8,
        "start_time": "2022-05-30T04:55:10.521Z"
      },
      {
        "duration": 50,
        "start_time": "2022-05-30T04:55:10.530Z"
      },
      {
        "duration": 1282,
        "start_time": "2022-05-30T04:55:10.585Z"
      },
      {
        "duration": 125,
        "start_time": "2022-05-30T04:55:11.871Z"
      },
      {
        "duration": 12,
        "start_time": "2022-05-30T04:55:11.997Z"
      },
      {
        "duration": 27,
        "start_time": "2022-05-30T04:55:12.010Z"
      },
      {
        "duration": 381,
        "start_time": "2022-05-30T04:55:12.038Z"
      },
      {
        "duration": 38,
        "start_time": "2022-05-30T04:55:12.421Z"
      },
      {
        "duration": 439,
        "start_time": "2022-05-30T04:55:12.461Z"
      },
      {
        "duration": 8,
        "start_time": "2022-05-30T04:55:12.901Z"
      },
      {
        "duration": 194,
        "start_time": "2022-05-30T04:55:12.910Z"
      },
      {
        "duration": 11,
        "start_time": "2022-05-30T04:55:13.105Z"
      },
      {
        "duration": 26,
        "start_time": "2022-05-30T04:55:13.117Z"
      },
      {
        "duration": 4982,
        "start_time": "2022-05-30T04:55:13.144Z"
      },
      {
        "duration": 21,
        "start_time": "2022-05-30T04:55:18.127Z"
      },
      {
        "duration": 43,
        "start_time": "2022-05-30T04:55:18.150Z"
      },
      {
        "duration": 87,
        "start_time": "2022-05-30T04:55:18.195Z"
      },
      {
        "duration": 91,
        "start_time": "2022-05-30T04:55:18.283Z"
      },
      {
        "duration": 10,
        "start_time": "2022-05-30T04:55:18.376Z"
      },
      {
        "duration": 24,
        "start_time": "2022-05-30T04:55:18.388Z"
      },
      {
        "duration": 4005,
        "start_time": "2022-05-30T04:55:18.414Z"
      },
      {
        "duration": 25,
        "start_time": "2022-05-30T04:55:22.420Z"
      },
      {
        "duration": 42,
        "start_time": "2022-05-30T04:55:22.447Z"
      },
      {
        "duration": 185,
        "start_time": "2022-05-30T04:55:22.490Z"
      },
      {
        "duration": 22,
        "start_time": "2022-05-30T04:55:22.677Z"
      },
      {
        "duration": 210,
        "start_time": "2022-05-30T04:55:22.701Z"
      },
      {
        "duration": 116,
        "start_time": "2022-05-30T04:55:22.913Z"
      },
      {
        "duration": 4997,
        "start_time": "2022-05-30T04:55:23.030Z"
      },
      {
        "duration": 32,
        "start_time": "2022-05-30T04:55:28.028Z"
      },
      {
        "duration": 33,
        "start_time": "2022-05-30T04:55:28.061Z"
      },
      {
        "duration": 54,
        "start_time": "2022-05-30T04:55:28.096Z"
      },
      {
        "duration": 93,
        "start_time": "2022-05-30T04:55:28.152Z"
      },
      {
        "duration": 34,
        "start_time": "2022-05-30T04:55:28.247Z"
      },
      {
        "duration": 4561,
        "start_time": "2022-05-30T04:55:28.282Z"
      },
      {
        "duration": 37,
        "start_time": "2022-05-30T04:55:32.844Z"
      },
      {
        "duration": 36,
        "start_time": "2022-05-30T04:55:32.883Z"
      },
      {
        "duration": 100,
        "start_time": "2022-05-30T04:55:32.921Z"
      },
      {
        "duration": 18996,
        "start_time": "2022-05-30T04:55:33.022Z"
      },
      {
        "duration": 23,
        "start_time": "2022-05-30T04:55:52.020Z"
      },
      {
        "duration": 147,
        "start_time": "2022-05-30T04:55:52.045Z"
      },
      {
        "duration": 2,
        "start_time": "2022-05-30T04:55:52.194Z"
      },
      {
        "duration": 46,
        "start_time": "2022-05-30T04:55:52.198Z"
      },
      {
        "duration": 304,
        "start_time": "2022-05-30T04:55:52.245Z"
      },
      {
        "duration": 9,
        "start_time": "2022-05-30T04:55:52.551Z"
      },
      {
        "duration": 361,
        "start_time": "2022-05-30T04:55:52.562Z"
      },
      {
        "duration": 269,
        "start_time": "2022-05-30T04:55:52.925Z"
      },
      {
        "duration": 989,
        "start_time": "2022-05-30T04:55:53.196Z"
      },
      {
        "duration": 324,
        "start_time": "2022-05-30T04:55:54.187Z"
      },
      {
        "duration": 2,
        "start_time": "2022-05-30T04:55:54.513Z"
      },
      {
        "duration": 177,
        "start_time": "2022-05-30T04:55:54.517Z"
      },
      {
        "duration": 41973,
        "start_time": "2022-05-30T04:55:54.696Z"
      },
      {
        "duration": 15594,
        "start_time": "2022-05-30T04:56:36.671Z"
      },
      {
        "duration": 143597,
        "start_time": "2022-05-30T04:56:52.266Z"
      },
      {
        "duration": 7008,
        "start_time": "2022-05-30T04:59:15.865Z"
      },
      {
        "duration": 631,
        "start_time": "2022-05-30T04:59:22.875Z"
      },
      {
        "duration": 5775,
        "start_time": "2022-05-30T04:59:23.507Z"
      },
      {
        "duration": 846,
        "start_time": "2022-05-30T04:59:29.283Z"
      },
      {
        "duration": 62736,
        "start_time": "2022-05-30T04:59:30.131Z"
      },
      {
        "duration": 10377,
        "start_time": "2022-05-30T05:00:32.869Z"
      },
      {
        "duration": 40545,
        "start_time": "2022-05-30T05:00:43.248Z"
      },
      {
        "duration": 2075,
        "start_time": "2022-05-30T05:01:23.794Z"
      },
      {
        "duration": 799,
        "start_time": "2022-05-30T05:01:25.870Z"
      },
      {
        "duration": 40090,
        "start_time": "2022-05-30T05:01:26.670Z"
      },
      {
        "duration": 6697,
        "start_time": "2022-05-30T05:02:06.764Z"
      },
      {
        "duration": 10298,
        "start_time": "2022-05-30T05:02:13.463Z"
      },
      {
        "duration": 709,
        "start_time": "2022-05-30T05:02:23.763Z"
      },
      {
        "duration": 3,
        "start_time": "2022-05-30T05:02:24.474Z"
      },
      {
        "duration": 17393,
        "start_time": "2022-05-30T05:02:24.478Z"
      },
      {
        "duration": 7787,
        "start_time": "2022-05-30T05:02:41.873Z"
      },
      {
        "duration": 129002,
        "start_time": "2022-05-30T05:02:49.662Z"
      },
      {
        "duration": 94,
        "start_time": "2022-05-30T05:04:58.666Z"
      },
      {
        "duration": 2009,
        "start_time": "2022-05-30T05:04:58.762Z"
      },
      {
        "duration": 2225,
        "start_time": "2022-05-30T05:05:00.772Z"
      },
      {
        "duration": 2060,
        "start_time": "2022-05-30T05:05:02.999Z"
      },
      {
        "duration": 3,
        "start_time": "2022-05-30T05:05:05.061Z"
      },
      {
        "duration": 48,
        "start_time": "2022-05-30T05:05:05.065Z"
      },
      {
        "duration": 95,
        "start_time": "2022-05-30T05:05:05.115Z"
      },
      {
        "duration": 11,
        "start_time": "2022-05-30T05:05:05.212Z"
      },
      {
        "duration": 38,
        "start_time": "2022-05-30T05:05:05.225Z"
      },
      {
        "duration": 443,
        "start_time": "2022-05-30T05:05:05.265Z"
      },
      {
        "duration": 138,
        "start_time": "2022-05-30T05:05:05.709Z"
      },
      {
        "duration": 11,
        "start_time": "2022-05-30T05:05:05.849Z"
      },
      {
        "duration": 55,
        "start_time": "2022-05-30T05:05:05.862Z"
      },
      {
        "duration": 1141,
        "start_time": "2022-05-30T05:05:05.923Z"
      },
      {
        "duration": 199,
        "start_time": "2022-05-30T05:05:07.067Z"
      },
      {
        "duration": 2913,
        "start_time": "2022-05-30T05:05:07.268Z"
      },
      {
        "duration": 693,
        "start_time": "2022-05-30T05:05:10.183Z"
      },
      {
        "duration": 34,
        "start_time": "2022-05-30T07:38:55.653Z"
      },
      {
        "duration": 13,
        "start_time": "2022-05-30T07:38:55.690Z"
      },
      {
        "duration": 3488,
        "start_time": "2022-05-30T07:38:55.705Z"
      },
      {
        "duration": 4,
        "start_time": "2022-05-30T07:38:59.195Z"
      },
      {
        "duration": 10,
        "start_time": "2022-05-30T07:38:59.200Z"
      },
      {
        "duration": 9,
        "start_time": "2022-05-30T07:38:59.212Z"
      },
      {
        "duration": 10,
        "start_time": "2022-05-30T07:38:59.222Z"
      },
      {
        "duration": 158,
        "start_time": "2022-05-30T07:38:59.233Z"
      },
      {
        "duration": 129,
        "start_time": "2022-05-30T07:38:59.393Z"
      },
      {
        "duration": 443,
        "start_time": "2022-05-30T07:38:59.524Z"
      },
      {
        "duration": 459,
        "start_time": "2022-05-30T07:38:59.969Z"
      },
      {
        "duration": 499,
        "start_time": "2022-05-30T07:39:00.430Z"
      },
      {
        "duration": 95,
        "start_time": "2022-05-30T07:39:00.931Z"
      },
      {
        "duration": 105,
        "start_time": "2022-05-30T07:39:01.028Z"
      },
      {
        "duration": 52,
        "start_time": "2022-05-30T07:39:01.135Z"
      },
      {
        "duration": 549,
        "start_time": "2022-05-30T07:39:01.195Z"
      },
      {
        "duration": 55,
        "start_time": "2022-05-30T07:39:01.745Z"
      },
      {
        "duration": 179,
        "start_time": "2022-05-30T07:39:01.802Z"
      },
      {
        "duration": 8,
        "start_time": "2022-05-30T07:39:01.983Z"
      },
      {
        "duration": 4,
        "start_time": "2022-05-30T07:39:02.000Z"
      },
      {
        "duration": 205,
        "start_time": "2022-05-30T07:39:02.006Z"
      },
      {
        "duration": 8,
        "start_time": "2022-05-30T07:39:02.213Z"
      },
      {
        "duration": 162,
        "start_time": "2022-05-30T07:39:02.222Z"
      },
      {
        "duration": 43,
        "start_time": "2022-05-30T07:39:02.386Z"
      },
      {
        "duration": 193,
        "start_time": "2022-05-30T07:39:02.431Z"
      },
      {
        "duration": 4,
        "start_time": "2022-05-30T07:39:02.625Z"
      },
      {
        "duration": 30,
        "start_time": "2022-05-30T07:39:02.630Z"
      },
      {
        "duration": 21,
        "start_time": "2022-05-30T07:39:02.676Z"
      },
      {
        "duration": 19,
        "start_time": "2022-05-30T07:39:02.700Z"
      },
      {
        "duration": 54,
        "start_time": "2022-05-30T07:39:02.720Z"
      },
      {
        "duration": 1067,
        "start_time": "2022-05-30T07:39:02.777Z"
      },
      {
        "duration": 39,
        "start_time": "2022-05-30T07:39:03.846Z"
      },
      {
        "duration": 122,
        "start_time": "2022-05-30T07:39:03.887Z"
      },
      {
        "duration": 31,
        "start_time": "2022-05-30T07:39:04.010Z"
      },
      {
        "duration": 480,
        "start_time": "2022-05-30T07:39:04.043Z"
      },
      {
        "duration": 44,
        "start_time": "2022-05-30T07:39:04.526Z"
      },
      {
        "duration": 24,
        "start_time": "2022-05-30T07:39:04.572Z"
      },
      {
        "duration": 74,
        "start_time": "2022-05-30T07:39:04.601Z"
      },
      {
        "duration": 17,
        "start_time": "2022-05-30T07:39:04.684Z"
      },
      {
        "duration": 42,
        "start_time": "2022-05-30T07:39:04.708Z"
      },
      {
        "duration": 1447,
        "start_time": "2022-05-30T07:39:04.752Z"
      },
      {
        "duration": 148,
        "start_time": "2022-05-30T07:39:06.200Z"
      },
      {
        "duration": 20,
        "start_time": "2022-05-30T07:39:06.350Z"
      },
      {
        "duration": 45,
        "start_time": "2022-05-30T07:39:06.376Z"
      },
      {
        "duration": 395,
        "start_time": "2022-05-30T07:39:06.423Z"
      },
      {
        "duration": 28,
        "start_time": "2022-05-30T07:39:06.819Z"
      },
      {
        "duration": 487,
        "start_time": "2022-05-30T07:39:06.849Z"
      },
      {
        "duration": 6,
        "start_time": "2022-05-30T07:39:07.338Z"
      },
      {
        "duration": 189,
        "start_time": "2022-05-30T07:39:07.346Z"
      },
      {
        "duration": 11,
        "start_time": "2022-05-30T07:39:07.536Z"
      },
      {
        "duration": 55,
        "start_time": "2022-05-30T07:39:07.549Z"
      },
      {
        "duration": 5852,
        "start_time": "2022-05-30T07:39:07.606Z"
      },
      {
        "duration": 42,
        "start_time": "2022-05-30T07:39:13.460Z"
      },
      {
        "duration": 36,
        "start_time": "2022-05-30T07:39:13.504Z"
      },
      {
        "duration": 111,
        "start_time": "2022-05-30T07:39:13.542Z"
      },
      {
        "duration": 120,
        "start_time": "2022-05-30T07:39:13.660Z"
      },
      {
        "duration": 31,
        "start_time": "2022-05-30T07:39:13.782Z"
      },
      {
        "duration": 30,
        "start_time": "2022-05-30T07:39:13.814Z"
      },
      {
        "duration": 4870,
        "start_time": "2022-05-30T07:39:13.846Z"
      },
      {
        "duration": 30,
        "start_time": "2022-05-30T07:39:18.718Z"
      },
      {
        "duration": 53,
        "start_time": "2022-05-30T07:39:18.749Z"
      },
      {
        "duration": 415,
        "start_time": "2022-05-30T07:39:18.804Z"
      },
      {
        "duration": 23,
        "start_time": "2022-05-30T07:39:19.221Z"
      },
      {
        "duration": 226,
        "start_time": "2022-05-30T07:39:19.245Z"
      },
      {
        "duration": 99,
        "start_time": "2022-05-30T07:39:19.485Z"
      },
      {
        "duration": 5607,
        "start_time": "2022-05-30T07:39:19.586Z"
      },
      {
        "duration": 25,
        "start_time": "2022-05-30T07:39:25.195Z"
      },
      {
        "duration": 49,
        "start_time": "2022-05-30T07:39:25.221Z"
      },
      {
        "duration": 70,
        "start_time": "2022-05-30T07:39:25.273Z"
      },
      {
        "duration": 123,
        "start_time": "2022-05-30T07:39:25.345Z"
      },
      {
        "duration": 61,
        "start_time": "2022-05-30T07:39:25.471Z"
      },
      {
        "duration": 5461,
        "start_time": "2022-05-30T07:39:25.533Z"
      },
      {
        "duration": 25,
        "start_time": "2022-05-30T07:39:30.996Z"
      },
      {
        "duration": 69,
        "start_time": "2022-05-30T07:39:31.023Z"
      },
      {
        "duration": 101,
        "start_time": "2022-05-30T07:39:31.093Z"
      },
      {
        "duration": 23119,
        "start_time": "2022-05-30T07:39:31.196Z"
      },
      {
        "duration": 31,
        "start_time": "2022-05-30T07:39:54.316Z"
      },
      {
        "duration": 189,
        "start_time": "2022-05-30T07:39:54.348Z"
      },
      {
        "duration": 2,
        "start_time": "2022-05-30T07:39:54.538Z"
      },
      {
        "duration": 78,
        "start_time": "2022-05-30T07:39:54.542Z"
      },
      {
        "duration": 393,
        "start_time": "2022-05-30T07:39:54.622Z"
      },
      {
        "duration": 6,
        "start_time": "2022-05-30T07:39:55.017Z"
      },
      {
        "duration": 611,
        "start_time": "2022-05-30T07:39:55.024Z"
      },
      {
        "duration": 1016,
        "start_time": "2022-05-30T07:39:55.637Z"
      },
      {
        "duration": 1241,
        "start_time": "2022-05-30T07:39:56.655Z"
      },
      {
        "duration": 385,
        "start_time": "2022-05-30T07:39:57.898Z"
      },
      {
        "duration": 11,
        "start_time": "2022-05-30T07:39:58.285Z"
      },
      {
        "duration": 179,
        "start_time": "2022-05-30T07:39:58.297Z"
      },
      {
        "duration": 7,
        "start_time": "2022-05-30T18:16:16.099Z"
      },
      {
        "duration": 2746,
        "start_time": "2022-05-30T18:16:16.108Z"
      },
      {
        "duration": 1133,
        "start_time": "2022-05-30T18:16:18.856Z"
      },
      {
        "duration": 3,
        "start_time": "2022-05-30T18:16:19.991Z"
      },
      {
        "duration": 12,
        "start_time": "2022-05-30T18:16:19.996Z"
      },
      {
        "duration": 21,
        "start_time": "2022-05-30T18:16:20.009Z"
      },
      {
        "duration": 7,
        "start_time": "2022-05-30T18:16:20.031Z"
      },
      {
        "duration": 125,
        "start_time": "2022-05-30T18:16:20.039Z"
      },
      {
        "duration": 121,
        "start_time": "2022-05-30T18:16:20.166Z"
      },
      {
        "duration": 439,
        "start_time": "2022-05-30T18:16:20.289Z"
      },
      {
        "duration": 448,
        "start_time": "2022-05-30T18:16:20.731Z"
      },
      {
        "duration": 466,
        "start_time": "2022-05-30T18:16:21.181Z"
      },
      {
        "duration": 81,
        "start_time": "2022-05-30T18:16:21.649Z"
      },
      {
        "duration": 107,
        "start_time": "2022-05-30T18:16:21.731Z"
      },
      {
        "duration": 46,
        "start_time": "2022-05-30T18:16:21.840Z"
      },
      {
        "duration": 522,
        "start_time": "2022-05-30T18:16:21.888Z"
      },
      {
        "duration": 53,
        "start_time": "2022-05-30T18:16:22.412Z"
      },
      {
        "duration": 150,
        "start_time": "2022-05-30T18:16:22.467Z"
      },
      {
        "duration": 5,
        "start_time": "2022-05-30T18:16:22.619Z"
      },
      {
        "duration": 11,
        "start_time": "2022-05-30T18:16:22.626Z"
      },
      {
        "duration": 196,
        "start_time": "2022-05-30T18:16:22.638Z"
      },
      {
        "duration": 8,
        "start_time": "2022-05-30T18:16:22.835Z"
      },
      {
        "duration": 168,
        "start_time": "2022-05-30T18:16:22.844Z"
      },
      {
        "duration": 56,
        "start_time": "2022-05-30T18:16:23.014Z"
      },
      {
        "duration": 160,
        "start_time": "2022-05-30T18:16:23.072Z"
      },
      {
        "duration": 4,
        "start_time": "2022-05-30T18:16:23.234Z"
      },
      {
        "duration": 30,
        "start_time": "2022-05-30T18:16:23.240Z"
      },
      {
        "duration": 10,
        "start_time": "2022-05-30T18:16:23.272Z"
      },
      {
        "duration": 6,
        "start_time": "2022-05-30T18:16:23.285Z"
      },
      {
        "duration": 45,
        "start_time": "2022-05-30T18:16:23.292Z"
      },
      {
        "duration": 892,
        "start_time": "2022-05-30T18:16:23.338Z"
      },
      {
        "duration": 40,
        "start_time": "2022-05-30T18:16:24.232Z"
      },
      {
        "duration": 135,
        "start_time": "2022-05-30T18:16:24.274Z"
      },
      {
        "duration": 33,
        "start_time": "2022-05-30T18:16:24.411Z"
      },
      {
        "duration": 418,
        "start_time": "2022-05-30T18:16:24.458Z"
      },
      {
        "duration": 35,
        "start_time": "2022-05-30T18:16:24.878Z"
      },
      {
        "duration": 15,
        "start_time": "2022-05-30T18:16:24.915Z"
      },
      {
        "duration": 72,
        "start_time": "2022-05-30T18:16:24.932Z"
      },
      {
        "duration": 8,
        "start_time": "2022-05-30T18:16:25.006Z"
      },
      {
        "duration": 54,
        "start_time": "2022-05-30T18:16:25.016Z"
      },
      {
        "duration": 1405,
        "start_time": "2022-05-30T18:16:25.072Z"
      },
      {
        "duration": 139,
        "start_time": "2022-05-30T18:16:26.479Z"
      },
      {
        "duration": 15,
        "start_time": "2022-05-30T18:16:26.621Z"
      },
      {
        "duration": 47,
        "start_time": "2022-05-30T18:16:26.638Z"
      },
      {
        "duration": 397,
        "start_time": "2022-05-30T18:16:26.687Z"
      },
      {
        "duration": 30,
        "start_time": "2022-05-30T18:16:27.085Z"
      },
      {
        "duration": 499,
        "start_time": "2022-05-30T18:16:27.116Z"
      },
      {
        "duration": 8,
        "start_time": "2022-05-30T18:16:27.616Z"
      },
      {
        "duration": 171,
        "start_time": "2022-05-30T18:16:27.625Z"
      },
      {
        "duration": 15,
        "start_time": "2022-05-30T18:16:27.798Z"
      },
      {
        "duration": 41,
        "start_time": "2022-05-30T18:16:27.815Z"
      },
      {
        "duration": 5279,
        "start_time": "2022-05-30T18:16:27.858Z"
      },
      {
        "duration": 35,
        "start_time": "2022-05-30T18:16:33.139Z"
      },
      {
        "duration": 41,
        "start_time": "2022-05-30T18:16:33.177Z"
      },
      {
        "duration": 99,
        "start_time": "2022-05-30T18:16:33.220Z"
      },
      {
        "duration": 108,
        "start_time": "2022-05-30T18:16:33.321Z"
      },
      {
        "duration": 12,
        "start_time": "2022-05-30T18:16:33.431Z"
      },
      {
        "duration": 25,
        "start_time": "2022-05-30T18:16:33.459Z"
      },
      {
        "duration": 4386,
        "start_time": "2022-05-30T18:16:33.486Z"
      },
      {
        "duration": 27,
        "start_time": "2022-05-30T18:16:37.874Z"
      },
      {
        "duration": 33,
        "start_time": "2022-05-30T18:16:37.903Z"
      },
      {
        "duration": 229,
        "start_time": "2022-05-30T18:16:37.938Z"
      },
      {
        "duration": 23,
        "start_time": "2022-05-30T18:16:38.170Z"
      },
      {
        "duration": 374,
        "start_time": "2022-05-30T18:16:38.194Z"
      },
      {
        "duration": 94,
        "start_time": "2022-05-30T18:16:38.570Z"
      },
      {
        "duration": 5036,
        "start_time": "2022-05-30T18:16:38.665Z"
      },
      {
        "duration": 32,
        "start_time": "2022-05-30T18:16:43.703Z"
      },
      {
        "duration": 43,
        "start_time": "2022-05-30T18:16:43.737Z"
      },
      {
        "duration": 39,
        "start_time": "2022-05-30T18:16:43.781Z"
      },
      {
        "duration": 98,
        "start_time": "2022-05-30T18:16:43.822Z"
      },
      {
        "duration": 25,
        "start_time": "2022-05-30T18:16:43.921Z"
      },
      {
        "duration": 4824,
        "start_time": "2022-05-30T18:16:43.958Z"
      },
      {
        "duration": 31,
        "start_time": "2022-05-30T18:16:48.783Z"
      },
      {
        "duration": 53,
        "start_time": "2022-05-30T18:16:48.816Z"
      },
      {
        "duration": 90,
        "start_time": "2022-05-30T18:16:48.871Z"
      },
      {
        "duration": 20257,
        "start_time": "2022-05-30T18:16:48.962Z"
      },
      {
        "duration": 39,
        "start_time": "2022-05-30T18:17:09.221Z"
      },
      {
        "duration": 159,
        "start_time": "2022-05-30T18:17:09.261Z"
      },
      {
        "duration": 2,
        "start_time": "2022-05-30T18:17:09.422Z"
      },
      {
        "duration": 58,
        "start_time": "2022-05-30T18:17:09.426Z"
      },
      {
        "duration": 314,
        "start_time": "2022-05-30T18:17:09.486Z"
      },
      {
        "duration": 7,
        "start_time": "2022-05-30T18:17:09.802Z"
      },
      {
        "duration": 423,
        "start_time": "2022-05-30T18:17:09.820Z"
      },
      {
        "duration": 282,
        "start_time": "2022-05-30T18:17:10.245Z"
      },
      {
        "duration": 1046,
        "start_time": "2022-05-30T18:17:10.529Z"
      },
      {
        "duration": 332,
        "start_time": "2022-05-30T18:17:11.577Z"
      },
      {
        "duration": 3,
        "start_time": "2022-05-30T18:17:11.911Z"
      },
      {
        "duration": 173,
        "start_time": "2022-05-30T18:17:11.916Z"
      },
      {
        "duration": 44170,
        "start_time": "2022-05-30T18:17:12.092Z"
      },
      {
        "duration": 13610,
        "start_time": "2022-05-30T18:17:56.263Z"
      },
      {
        "duration": 139685,
        "start_time": "2022-05-30T18:18:09.875Z"
      },
      {
        "duration": 8202,
        "start_time": "2022-05-30T18:20:29.567Z"
      },
      {
        "duration": 648,
        "start_time": "2022-05-30T18:20:37.771Z"
      },
      {
        "duration": 6068,
        "start_time": "2022-05-30T18:20:38.421Z"
      },
      {
        "duration": 858,
        "start_time": "2022-05-30T18:20:44.490Z"
      },
      {
        "duration": 69335,
        "start_time": "2022-05-30T18:20:45.358Z"
      },
      {
        "duration": 11274,
        "start_time": "2022-05-30T18:21:54.695Z"
      },
      {
        "duration": 43645,
        "start_time": "2022-05-30T18:22:05.971Z"
      },
      {
        "duration": 2206,
        "start_time": "2022-05-30T18:22:49.618Z"
      },
      {
        "duration": 808,
        "start_time": "2022-05-30T18:22:51.826Z"
      },
      {
        "duration": 31322,
        "start_time": "2022-05-30T18:22:52.636Z"
      },
      {
        "duration": 6321,
        "start_time": "2022-05-30T18:23:23.963Z"
      },
      {
        "duration": 8431,
        "start_time": "2022-05-30T18:23:30.359Z"
      },
      {
        "duration": 785,
        "start_time": "2022-05-30T18:23:38.791Z"
      },
      {
        "duration": 2,
        "start_time": "2022-05-30T18:23:39.578Z"
      },
      {
        "duration": 17305,
        "start_time": "2022-05-30T18:23:39.582Z"
      },
      {
        "duration": 8996,
        "start_time": "2022-05-30T18:23:56.888Z"
      },
      {
        "duration": 125891,
        "start_time": "2022-05-30T18:24:05.886Z"
      },
      {
        "duration": 6,
        "start_time": "2022-05-30T18:26:11.779Z"
      },
      {
        "duration": 2366,
        "start_time": "2022-05-30T18:26:11.787Z"
      },
      {
        "duration": 2281,
        "start_time": "2022-05-30T18:26:14.158Z"
      },
      {
        "duration": 2436,
        "start_time": "2022-05-30T18:26:16.440Z"
      },
      {
        "duration": 3,
        "start_time": "2022-05-30T18:26:18.877Z"
      },
      {
        "duration": 45,
        "start_time": "2022-05-30T18:26:18.882Z"
      },
      {
        "duration": 94,
        "start_time": "2022-05-30T18:26:18.929Z"
      },
      {
        "duration": 12,
        "start_time": "2022-05-30T18:26:19.024Z"
      },
      {
        "duration": 37,
        "start_time": "2022-05-30T18:26:19.038Z"
      },
      {
        "duration": 495,
        "start_time": "2022-05-30T18:26:19.077Z"
      },
      {
        "duration": 43,
        "start_time": "2022-05-30T18:26:19.573Z"
      },
      {
        "duration": 2,
        "start_time": "2022-05-30T18:26:19.618Z"
      },
      {
        "duration": 73,
        "start_time": "2022-05-30T18:26:19.622Z"
      },
      {
        "duration": 1084,
        "start_time": "2022-05-30T18:26:19.697Z"
      },
      {
        "duration": 292,
        "start_time": "2022-05-30T18:26:20.785Z"
      },
      {
        "duration": 3113,
        "start_time": "2022-05-30T18:26:21.159Z"
      },
      {
        "duration": 827,
        "start_time": "2022-05-30T18:26:24.278Z"
      },
      {
        "duration": 213816,
        "start_time": "2022-05-30T18:26:25.107Z"
      },
      {
        "duration": 60397,
        "start_time": "2022-05-30T18:29:58.925Z"
      },
      {
        "duration": 78348,
        "start_time": "2022-05-30T18:30:59.324Z"
      },
      {
        "duration": 258,
        "start_time": "2022-05-30T18:32:17.677Z"
      },
      {
        "duration": 6,
        "start_time": "2022-05-30T18:32:17.937Z"
      },
      {
        "duration": 3137225,
        "start_time": "2022-05-30T18:32:17.945Z"
      },
      {
        "duration": 145598,
        "start_time": "2022-05-30T19:24:35.172Z"
      },
      {
        "duration": 61784,
        "start_time": "2022-05-30T20:02:32.976Z"
      },
      {
        "duration": 3,
        "start_time": "2022-05-30T20:03:34.763Z"
      },
      {
        "duration": 44,
        "start_time": "2022-05-30T20:03:34.768Z"
      },
      {
        "duration": 244,
        "start_time": "2022-05-30T20:03:34.814Z"
      },
      {
        "duration": 769,
        "start_time": "2022-05-30T20:03:35.060Z"
      },
      {
        "duration": 43845,
        "start_time": "2022-05-30T20:03:35.831Z"
      },
      {
        "duration": 0,
        "start_time": "2022-05-30T20:04:19.678Z"
      },
      {
        "duration": 0,
        "start_time": "2022-05-30T20:04:19.679Z"
      },
      {
        "duration": 0,
        "start_time": "2022-05-30T20:04:19.680Z"
      },
      {
        "duration": 0,
        "start_time": "2022-05-30T20:04:19.680Z"
      },
      {
        "duration": 0,
        "start_time": "2022-05-30T20:04:19.681Z"
      },
      {
        "duration": 0,
        "start_time": "2022-05-30T20:04:19.682Z"
      },
      {
        "duration": 2781559,
        "start_time": "2022-05-30T20:04:43.615Z"
      },
      {
        "duration": 58271,
        "start_time": "2022-05-30T20:51:05.178Z"
      },
      {
        "duration": 2,
        "start_time": "2022-05-30T20:52:03.451Z"
      },
      {
        "duration": 11,
        "start_time": "2022-05-30T20:52:03.455Z"
      },
      {
        "duration": 93,
        "start_time": "2022-05-30T20:52:03.468Z"
      },
      {
        "duration": 815,
        "start_time": "2022-05-30T20:52:03.567Z"
      },
      {
        "duration": 56,
        "start_time": "2022-05-30T21:36:46.278Z"
      },
      {
        "duration": 28,
        "start_time": "2022-06-06T21:54:34.386Z"
      }
    ],
    "colab": {
      "provenance": []
    },
    "kernelspec": {
      "display_name": "Python 3 (ipykernel)",
      "language": "python",
      "name": "python3"
    },
    "language_info": {
      "codemirror_mode": {
        "name": "ipython",
        "version": 3
      },
      "file_extension": ".py",
      "mimetype": "text/x-python",
      "name": "python",
      "nbconvert_exporter": "python",
      "pygments_lexer": "ipython3",
      "version": "3.9.5"
    },
    "toc": {
      "base_numbering": 1,
      "nav_menu": {},
      "number_sections": true,
      "sideBar": true,
      "skip_h1_title": true,
      "title_cell": "Table of Contents",
      "title_sidebar": "Contents",
      "toc_cell": false,
      "toc_position": {
        "height": "calc(100% - 180px)",
        "left": "10px",
        "top": "150px",
        "width": "238.396px"
      },
      "toc_section_display": true,
      "toc_window_display": true
    }
  },
  "nbformat": 4,
  "nbformat_minor": 0
}
