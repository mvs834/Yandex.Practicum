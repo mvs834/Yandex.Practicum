{
  "cells": [
    {
      "attachments": {},
      "cell_type": "markdown",
      "metadata": {
        "id": "URy5iOQ6oVhe"
      },
      "source": [
        "# Project Description"
      ]
    },
    {
      "attachments": {},
      "cell_type": "markdown",
      "metadata": {
        "id": "X3U8eZvsoVhe"
      },
      "source": [
        "The task is to forecast the gold recovery coefficient from ore containing gold, utilizing data on both mining and refining parameters."
      ]
    },
    {
      "attachments": {},
      "cell_type": "markdown",
      "metadata": {
        "id": "qsnyNrKvoVhf"
      },
      "source": [
        "## Data Upload and Overview"
      ]
    },
    {
      "cell_type": "code",
      "execution_count": null,
      "metadata": {
        "id": "V_uoo90foVhf"
      },
      "outputs": [],
      "source": [
        "import pandas as pd\n",
        "import numpy as np\n",
        "import matplotlib.pyplot as plt\n",
        "import seaborn as sns\n",
        "\n",
        "from sklearn.preprocessing import StandardScaler\n",
        "from sklearn.linear_model import LinearRegression\n",
        "from sklearn.tree import DecisionTreeRegressor\n",
        "from sklearn.ensemble import RandomForestRegressor\n",
        "\n",
        "from sklearn.model_selection import cross_val_score\n",
        "from sklearn.model_selection import GridSearchCV\n",
        "\n",
        "from sklearn.metrics import mean_squared_error\n",
        "from sklearn.metrics import r2_score\n",
        "from sklearn.metrics import mean_absolute_error\n",
        "from sklearn.metrics import make_scorer"
      ]
    },
    {
      "cell_type": "code",
      "execution_count": null,
      "metadata": {
        "id": "W57FrLyPoVhg"
      },
      "outputs": [],
      "source": [
        "from warnings import simplefilter\n",
        "simplefilter(action='ignore', category=FutureWarning)"
      ]
    },
    {
      "cell_type": "code",
      "execution_count": null,
      "metadata": {
        "id": "fgITpkIJoVhg"
      },
      "outputs": [],
      "source": [
        "df_full = pd.read_csv('/datasets/gold_recovery_full_new.csv')\n",
        "df_train = pd.read_csv('/datasets/gold_recovery_train_new.csv')\n",
        "df_test = pd.read_csv('/datasets/gold_recovery_test_new.csv')"
      ]
    },
    {
      "cell_type": "code",
      "execution_count": null,
      "metadata": {
        "id": "XJKeGjCJoVhh",
        "outputId": "a086bdbb-82f5-4e2a-f3c9-f241eb3ca99c"
      },
      "outputs": [
        {
          "name": "stdout",
          "output_type": "stream",
          "text": [
            "<class 'pandas.core.frame.DataFrame'>\n",
            "RangeIndex: 19439 entries, 0 to 19438\n",
            "Data columns (total 87 columns):\n",
            " #   Column                                              Non-Null Count  Dtype  \n",
            "---  ------                                              --------------  -----  \n",
            " 0   date                                                19439 non-null  object \n",
            " 1   final.output.concentrate_ag                         19438 non-null  float64\n",
            " 2   final.output.concentrate_pb                         19438 non-null  float64\n",
            " 3   final.output.concentrate_sol                        19228 non-null  float64\n",
            " 4   final.output.concentrate_au                         19439 non-null  float64\n",
            " 5   final.output.recovery                               19439 non-null  float64\n",
            " 6   final.output.tail_ag                                19438 non-null  float64\n",
            " 7   final.output.tail_pb                                19338 non-null  float64\n",
            " 8   final.output.tail_sol                               19433 non-null  float64\n",
            " 9   final.output.tail_au                                19439 non-null  float64\n",
            " 10  primary_cleaner.input.sulfate                       19415 non-null  float64\n",
            " 11  primary_cleaner.input.depressant                    19402 non-null  float64\n",
            " 12  primary_cleaner.input.feed_size                     19439 non-null  float64\n",
            " 13  primary_cleaner.input.xanthate                      19335 non-null  float64\n",
            " 14  primary_cleaner.output.concentrate_ag               19439 non-null  float64\n",
            " 15  primary_cleaner.output.concentrate_pb               19323 non-null  float64\n",
            " 16  primary_cleaner.output.concentrate_sol              19069 non-null  float64\n",
            " 17  primary_cleaner.output.concentrate_au               19439 non-null  float64\n",
            " 18  primary_cleaner.output.tail_ag                      19435 non-null  float64\n",
            " 19  primary_cleaner.output.tail_pb                      19418 non-null  float64\n",
            " 20  primary_cleaner.output.tail_sol                     19377 non-null  float64\n",
            " 21  primary_cleaner.output.tail_au                      19439 non-null  float64\n",
            " 22  primary_cleaner.state.floatbank8_a_air              19435 non-null  float64\n",
            " 23  primary_cleaner.state.floatbank8_a_level            19438 non-null  float64\n",
            " 24  primary_cleaner.state.floatbank8_b_air              19435 non-null  float64\n",
            " 25  primary_cleaner.state.floatbank8_b_level            19438 non-null  float64\n",
            " 26  primary_cleaner.state.floatbank8_c_air              19437 non-null  float64\n",
            " 27  primary_cleaner.state.floatbank8_c_level            19438 non-null  float64\n",
            " 28  primary_cleaner.state.floatbank8_d_air              19436 non-null  float64\n",
            " 29  primary_cleaner.state.floatbank8_d_level            19438 non-null  float64\n",
            " 30  rougher.calculation.sulfate_to_au_concentrate       19437 non-null  float64\n",
            " 31  rougher.calculation.floatbank10_sulfate_to_au_feed  19437 non-null  float64\n",
            " 32  rougher.calculation.floatbank11_sulfate_to_au_feed  19437 non-null  float64\n",
            " 33  rougher.calculation.au_pb_ratio                     19439 non-null  float64\n",
            " 34  rougher.input.feed_ag                               19439 non-null  float64\n",
            " 35  rougher.input.feed_pb                               19339 non-null  float64\n",
            " 36  rougher.input.feed_rate                             19428 non-null  float64\n",
            " 37  rougher.input.feed_size                             19294 non-null  float64\n",
            " 38  rougher.input.feed_sol                              19340 non-null  float64\n",
            " 39  rougher.input.feed_au                               19439 non-null  float64\n",
            " 40  rougher.input.floatbank10_sulfate                   19405 non-null  float64\n",
            " 41  rougher.input.floatbank10_xanthate                  19431 non-null  float64\n",
            " 42  rougher.input.floatbank11_sulfate                   19395 non-null  float64\n",
            " 43  rougher.input.floatbank11_xanthate                  18986 non-null  float64\n",
            " 44  rougher.output.concentrate_ag                       19439 non-null  float64\n",
            " 45  rougher.output.concentrate_pb                       19439 non-null  float64\n",
            " 46  rougher.output.concentrate_sol                      19416 non-null  float64\n",
            " 47  rougher.output.concentrate_au                       19439 non-null  float64\n",
            " 48  rougher.output.recovery                             19439 non-null  float64\n",
            " 49  rougher.output.tail_ag                              19438 non-null  float64\n",
            " 50  rougher.output.tail_pb                              19439 non-null  float64\n",
            " 51  rougher.output.tail_sol                             19439 non-null  float64\n",
            " 52  rougher.output.tail_au                              19439 non-null  float64\n",
            " 53  rougher.state.floatbank10_a_air                     19438 non-null  float64\n",
            " 54  rougher.state.floatbank10_a_level                   19438 non-null  float64\n",
            " 55  rougher.state.floatbank10_b_air                     19438 non-null  float64\n",
            " 56  rougher.state.floatbank10_b_level                   19438 non-null  float64\n",
            " 57  rougher.state.floatbank10_c_air                     19438 non-null  float64\n",
            " 58  rougher.state.floatbank10_c_level                   19438 non-null  float64\n",
            " 59  rougher.state.floatbank10_d_air                     19439 non-null  float64\n",
            " 60  rougher.state.floatbank10_d_level                   19439 non-null  float64\n",
            " 61  rougher.state.floatbank10_e_air                     19003 non-null  float64\n",
            " 62  rougher.state.floatbank10_e_level                   19439 non-null  float64\n",
            " 63  rougher.state.floatbank10_f_air                     19439 non-null  float64\n",
            " 64  rougher.state.floatbank10_f_level                   19439 non-null  float64\n",
            " 65  secondary_cleaner.output.tail_ag                    19437 non-null  float64\n",
            " 66  secondary_cleaner.output.tail_pb                    19427 non-null  float64\n",
            " 67  secondary_cleaner.output.tail_sol                   17691 non-null  float64\n",
            " 68  secondary_cleaner.output.tail_au                    19439 non-null  float64\n",
            " 69  secondary_cleaner.state.floatbank2_a_air            19219 non-null  float64\n",
            " 70  secondary_cleaner.state.floatbank2_a_level          19438 non-null  float64\n",
            " 71  secondary_cleaner.state.floatbank2_b_air            19416 non-null  float64\n",
            " 72  secondary_cleaner.state.floatbank2_b_level          19438 non-null  float64\n",
            " 73  secondary_cleaner.state.floatbank3_a_air            19426 non-null  float64\n",
            " 74  secondary_cleaner.state.floatbank3_a_level          19438 non-null  float64\n",
            " 75  secondary_cleaner.state.floatbank3_b_air            19438 non-null  float64\n",
            " 76  secondary_cleaner.state.floatbank3_b_level          19438 non-null  float64\n",
            " 77  secondary_cleaner.state.floatbank4_a_air            19433 non-null  float64\n",
            " 78  secondary_cleaner.state.floatbank4_a_level          19438 non-null  float64\n",
            " 79  secondary_cleaner.state.floatbank4_b_air            19438 non-null  float64\n",
            " 80  secondary_cleaner.state.floatbank4_b_level          19438 non-null  float64\n",
            " 81  secondary_cleaner.state.floatbank5_a_air            19438 non-null  float64\n",
            " 82  secondary_cleaner.state.floatbank5_a_level          19438 non-null  float64\n",
            " 83  secondary_cleaner.state.floatbank5_b_air            19438 non-null  float64\n",
            " 84  secondary_cleaner.state.floatbank5_b_level          19438 non-null  float64\n",
            " 85  secondary_cleaner.state.floatbank6_a_air            19437 non-null  float64\n",
            " 86  secondary_cleaner.state.floatbank6_a_level          19438 non-null  float64\n",
            "dtypes: float64(86), object(1)\n",
            "memory usage: 12.9+ MB\n"
          ]
        }
      ],
      "source": [
        "df_full.info()"
      ]
    },
    {
      "cell_type": "code",
      "execution_count": null,
      "metadata": {
        "id": "o8L7iyOsoVhi",
        "outputId": "63b661ca-fcfc-4152-aecc-2eb1f74c5d78"
      },
      "outputs": [
        {
          "name": "stdout",
          "output_type": "stream",
          "text": [
            "<class 'pandas.core.frame.DataFrame'>\n",
            "RangeIndex: 14149 entries, 0 to 14148\n",
            "Data columns (total 87 columns):\n",
            " #   Column                                              Non-Null Count  Dtype  \n",
            "---  ------                                              --------------  -----  \n",
            " 0   date                                                14149 non-null  object \n",
            " 1   final.output.concentrate_ag                         14148 non-null  float64\n",
            " 2   final.output.concentrate_pb                         14148 non-null  float64\n",
            " 3   final.output.concentrate_sol                        13938 non-null  float64\n",
            " 4   final.output.concentrate_au                         14149 non-null  float64\n",
            " 5   final.output.recovery                               14149 non-null  float64\n",
            " 6   final.output.tail_ag                                14149 non-null  float64\n",
            " 7   final.output.tail_pb                                14049 non-null  float64\n",
            " 8   final.output.tail_sol                               14144 non-null  float64\n",
            " 9   final.output.tail_au                                14149 non-null  float64\n",
            " 10  primary_cleaner.input.sulfate                       14129 non-null  float64\n",
            " 11  primary_cleaner.input.depressant                    14117 non-null  float64\n",
            " 12  primary_cleaner.input.feed_size                     14149 non-null  float64\n",
            " 13  primary_cleaner.input.xanthate                      14049 non-null  float64\n",
            " 14  primary_cleaner.output.concentrate_ag               14149 non-null  float64\n",
            " 15  primary_cleaner.output.concentrate_pb               14063 non-null  float64\n",
            " 16  primary_cleaner.output.concentrate_sol              13863 non-null  float64\n",
            " 17  primary_cleaner.output.concentrate_au               14149 non-null  float64\n",
            " 18  primary_cleaner.output.tail_ag                      14148 non-null  float64\n",
            " 19  primary_cleaner.output.tail_pb                      14134 non-null  float64\n",
            " 20  primary_cleaner.output.tail_sol                     14103 non-null  float64\n",
            " 21  primary_cleaner.output.tail_au                      14149 non-null  float64\n",
            " 22  primary_cleaner.state.floatbank8_a_air              14145 non-null  float64\n",
            " 23  primary_cleaner.state.floatbank8_a_level            14148 non-null  float64\n",
            " 24  primary_cleaner.state.floatbank8_b_air              14145 non-null  float64\n",
            " 25  primary_cleaner.state.floatbank8_b_level            14148 non-null  float64\n",
            " 26  primary_cleaner.state.floatbank8_c_air              14147 non-null  float64\n",
            " 27  primary_cleaner.state.floatbank8_c_level            14148 non-null  float64\n",
            " 28  primary_cleaner.state.floatbank8_d_air              14146 non-null  float64\n",
            " 29  primary_cleaner.state.floatbank8_d_level            14148 non-null  float64\n",
            " 30  rougher.calculation.sulfate_to_au_concentrate       14148 non-null  float64\n",
            " 31  rougher.calculation.floatbank10_sulfate_to_au_feed  14148 non-null  float64\n",
            " 32  rougher.calculation.floatbank11_sulfate_to_au_feed  14148 non-null  float64\n",
            " 33  rougher.calculation.au_pb_ratio                     14149 non-null  float64\n",
            " 34  rougher.input.feed_ag                               14149 non-null  float64\n",
            " 35  rougher.input.feed_pb                               14049 non-null  float64\n",
            " 36  rougher.input.feed_rate                             14141 non-null  float64\n",
            " 37  rougher.input.feed_size                             14005 non-null  float64\n",
            " 38  rougher.input.feed_sol                              14071 non-null  float64\n",
            " 39  rougher.input.feed_au                               14149 non-null  float64\n",
            " 40  rougher.input.floatbank10_sulfate                   14120 non-null  float64\n",
            " 41  rougher.input.floatbank10_xanthate                  14141 non-null  float64\n",
            " 42  rougher.input.floatbank11_sulfate                   14113 non-null  float64\n",
            " 43  rougher.input.floatbank11_xanthate                  13721 non-null  float64\n",
            " 44  rougher.output.concentrate_ag                       14149 non-null  float64\n",
            " 45  rougher.output.concentrate_pb                       14149 non-null  float64\n",
            " 46  rougher.output.concentrate_sol                      14127 non-null  float64\n",
            " 47  rougher.output.concentrate_au                       14149 non-null  float64\n",
            " 48  rougher.output.recovery                             14149 non-null  float64\n",
            " 49  rougher.output.tail_ag                              14148 non-null  float64\n",
            " 50  rougher.output.tail_pb                              14149 non-null  float64\n",
            " 51  rougher.output.tail_sol                             14149 non-null  float64\n",
            " 52  rougher.output.tail_au                              14149 non-null  float64\n",
            " 53  rougher.state.floatbank10_a_air                     14148 non-null  float64\n",
            " 54  rougher.state.floatbank10_a_level                   14148 non-null  float64\n",
            " 55  rougher.state.floatbank10_b_air                     14148 non-null  float64\n",
            " 56  rougher.state.floatbank10_b_level                   14148 non-null  float64\n",
            " 57  rougher.state.floatbank10_c_air                     14148 non-null  float64\n",
            " 58  rougher.state.floatbank10_c_level                   14148 non-null  float64\n",
            " 59  rougher.state.floatbank10_d_air                     14149 non-null  float64\n",
            " 60  rougher.state.floatbank10_d_level                   14149 non-null  float64\n",
            " 61  rougher.state.floatbank10_e_air                     13713 non-null  float64\n",
            " 62  rougher.state.floatbank10_e_level                   14149 non-null  float64\n",
            " 63  rougher.state.floatbank10_f_air                     14149 non-null  float64\n",
            " 64  rougher.state.floatbank10_f_level                   14149 non-null  float64\n",
            " 65  secondary_cleaner.output.tail_ag                    14147 non-null  float64\n",
            " 66  secondary_cleaner.output.tail_pb                    14139 non-null  float64\n",
            " 67  secondary_cleaner.output.tail_sol                   12544 non-null  float64\n",
            " 68  secondary_cleaner.output.tail_au                    14149 non-null  float64\n",
            " 69  secondary_cleaner.state.floatbank2_a_air            13932 non-null  float64\n",
            " 70  secondary_cleaner.state.floatbank2_a_level          14148 non-null  float64\n",
            " 71  secondary_cleaner.state.floatbank2_b_air            14128 non-null  float64\n",
            " 72  secondary_cleaner.state.floatbank2_b_level          14148 non-null  float64\n",
            " 73  secondary_cleaner.state.floatbank3_a_air            14145 non-null  float64\n",
            " 74  secondary_cleaner.state.floatbank3_a_level          14148 non-null  float64\n",
            " 75  secondary_cleaner.state.floatbank3_b_air            14148 non-null  float64\n",
            " 76  secondary_cleaner.state.floatbank3_b_level          14148 non-null  float64\n",
            " 77  secondary_cleaner.state.floatbank4_a_air            14143 non-null  float64\n",
            " 78  secondary_cleaner.state.floatbank4_a_level          14148 non-null  float64\n",
            " 79  secondary_cleaner.state.floatbank4_b_air            14148 non-null  float64\n",
            " 80  secondary_cleaner.state.floatbank4_b_level          14148 non-null  float64\n",
            " 81  secondary_cleaner.state.floatbank5_a_air            14148 non-null  float64\n",
            " 82  secondary_cleaner.state.floatbank5_a_level          14148 non-null  float64\n",
            " 83  secondary_cleaner.state.floatbank5_b_air            14148 non-null  float64\n",
            " 84  secondary_cleaner.state.floatbank5_b_level          14148 non-null  float64\n",
            " 85  secondary_cleaner.state.floatbank6_a_air            14147 non-null  float64\n",
            " 86  secondary_cleaner.state.floatbank6_a_level          14148 non-null  float64\n",
            "dtypes: float64(86), object(1)\n",
            "memory usage: 9.4+ MB\n"
          ]
        }
      ],
      "source": [
        "df_train.info()"
      ]
    },
    {
      "cell_type": "code",
      "execution_count": null,
      "metadata": {
        "id": "iUvlfScooVhi",
        "outputId": "4340427c-6727-4d79-f2eb-2596be179069"
      },
      "outputs": [
        {
          "name": "stdout",
          "output_type": "stream",
          "text": [
            "<class 'pandas.core.frame.DataFrame'>\n",
            "RangeIndex: 5290 entries, 0 to 5289\n",
            "Data columns (total 53 columns):\n",
            " #   Column                                      Non-Null Count  Dtype  \n",
            "---  ------                                      --------------  -----  \n",
            " 0   date                                        5290 non-null   object \n",
            " 1   primary_cleaner.input.sulfate               5286 non-null   float64\n",
            " 2   primary_cleaner.input.depressant            5285 non-null   float64\n",
            " 3   primary_cleaner.input.feed_size             5290 non-null   float64\n",
            " 4   primary_cleaner.input.xanthate              5286 non-null   float64\n",
            " 5   primary_cleaner.state.floatbank8_a_air      5290 non-null   float64\n",
            " 6   primary_cleaner.state.floatbank8_a_level    5290 non-null   float64\n",
            " 7   primary_cleaner.state.floatbank8_b_air      5290 non-null   float64\n",
            " 8   primary_cleaner.state.floatbank8_b_level    5290 non-null   float64\n",
            " 9   primary_cleaner.state.floatbank8_c_air      5290 non-null   float64\n",
            " 10  primary_cleaner.state.floatbank8_c_level    5290 non-null   float64\n",
            " 11  primary_cleaner.state.floatbank8_d_air      5290 non-null   float64\n",
            " 12  primary_cleaner.state.floatbank8_d_level    5290 non-null   float64\n",
            " 13  rougher.input.feed_ag                       5290 non-null   float64\n",
            " 14  rougher.input.feed_pb                       5290 non-null   float64\n",
            " 15  rougher.input.feed_rate                     5287 non-null   float64\n",
            " 16  rougher.input.feed_size                     5289 non-null   float64\n",
            " 17  rougher.input.feed_sol                      5269 non-null   float64\n",
            " 18  rougher.input.feed_au                       5290 non-null   float64\n",
            " 19  rougher.input.floatbank10_sulfate           5285 non-null   float64\n",
            " 20  rougher.input.floatbank10_xanthate          5290 non-null   float64\n",
            " 21  rougher.input.floatbank11_sulfate           5282 non-null   float64\n",
            " 22  rougher.input.floatbank11_xanthate          5265 non-null   float64\n",
            " 23  rougher.state.floatbank10_a_air             5290 non-null   float64\n",
            " 24  rougher.state.floatbank10_a_level           5290 non-null   float64\n",
            " 25  rougher.state.floatbank10_b_air             5290 non-null   float64\n",
            " 26  rougher.state.floatbank10_b_level           5290 non-null   float64\n",
            " 27  rougher.state.floatbank10_c_air             5290 non-null   float64\n",
            " 28  rougher.state.floatbank10_c_level           5290 non-null   float64\n",
            " 29  rougher.state.floatbank10_d_air             5290 non-null   float64\n",
            " 30  rougher.state.floatbank10_d_level           5290 non-null   float64\n",
            " 31  rougher.state.floatbank10_e_air             5290 non-null   float64\n",
            " 32  rougher.state.floatbank10_e_level           5290 non-null   float64\n",
            " 33  rougher.state.floatbank10_f_air             5290 non-null   float64\n",
            " 34  rougher.state.floatbank10_f_level           5290 non-null   float64\n",
            " 35  secondary_cleaner.state.floatbank2_a_air    5287 non-null   float64\n",
            " 36  secondary_cleaner.state.floatbank2_a_level  5290 non-null   float64\n",
            " 37  secondary_cleaner.state.floatbank2_b_air    5288 non-null   float64\n",
            " 38  secondary_cleaner.state.floatbank2_b_level  5290 non-null   float64\n",
            " 39  secondary_cleaner.state.floatbank3_a_air    5281 non-null   float64\n",
            " 40  secondary_cleaner.state.floatbank3_a_level  5290 non-null   float64\n",
            " 41  secondary_cleaner.state.floatbank3_b_air    5290 non-null   float64\n",
            " 42  secondary_cleaner.state.floatbank3_b_level  5290 non-null   float64\n",
            " 43  secondary_cleaner.state.floatbank4_a_air    5290 non-null   float64\n",
            " 44  secondary_cleaner.state.floatbank4_a_level  5290 non-null   float64\n",
            " 45  secondary_cleaner.state.floatbank4_b_air    5290 non-null   float64\n",
            " 46  secondary_cleaner.state.floatbank4_b_level  5290 non-null   float64\n",
            " 47  secondary_cleaner.state.floatbank5_a_air    5290 non-null   float64\n",
            " 48  secondary_cleaner.state.floatbank5_a_level  5290 non-null   float64\n",
            " 49  secondary_cleaner.state.floatbank5_b_air    5290 non-null   float64\n",
            " 50  secondary_cleaner.state.floatbank5_b_level  5290 non-null   float64\n",
            " 51  secondary_cleaner.state.floatbank6_a_air    5290 non-null   float64\n",
            " 52  secondary_cleaner.state.floatbank6_a_level  5290 non-null   float64\n",
            "dtypes: float64(52), object(1)\n",
            "memory usage: 2.1+ MB\n"
          ]
        }
      ],
      "source": [
        "df_test.info()"
      ]
    },
    {
      "cell_type": "code",
      "execution_count": null,
      "metadata": {
        "id": "CqoPR3oioVhi",
        "outputId": "dd041540-7c3e-4faa-ac4e-2cd6066c9b0d"
      },
      "outputs": [
        {
          "name": "stdout",
          "output_type": "stream",
          "text": [
            "df_full (19439, 87)\n",
            "df_train (14149, 87)\n",
            "df_test (5290, 53)\n"
          ]
        }
      ],
      "source": [
        "print('df_full', df_full.shape)\n",
        "print('df_train', df_train.shape)\n",
        "print('df_test', df_test.shape)"
      ]
    },
    {
      "attachments": {},
      "cell_type": "markdown",
      "metadata": {
        "id": "6E5cxuxVoVhi"
      },
      "source": [
        "Conclusion: 34 features are missing in the test dataset."
      ]
    },
    {
      "attachments": {},
      "cell_type": "markdown",
      "metadata": {
        "id": "-xCJ2jKboVhj"
      },
      "source": [
        "### Checking the accuracy of the enrichment efficiency calculation"
      ]
    },
    {
      "attachments": {},
      "cell_type": "markdown",
      "metadata": {
        "id": "hmIR3lHooVhj"
      },
      "source": [
        "- C: The percentage of gold in the concentrate after flotation/cleaning; referred to as \"final.output.concentrate_au\".\n",
        "- F: The percentage of gold in the raw material/concentrate before flotation/cleaning; referred to as \"rougher.input.feed_au\".\n",
        "- T: The percentage of gold in the tailings after flotation/cleaning; referred to as \"final.output.tail_au\".\n",
        "\n",
        "The formula for calculating recovery is: Recovery = 100 * C * (F-T) / (F * (C-T))."
      ]
    },
    {
      "cell_type": "code",
      "execution_count": null,
      "metadata": {
        "id": "67L0ZYAvoVhj"
      },
      "outputs": [],
      "source": [
        "C = df_train['rougher.output.concentrate_au']\n",
        "F = df_train['rougher.input.feed_au']\n",
        "T = df_train['rougher.output.tail_au']"
      ]
    },
    {
      "cell_type": "code",
      "execution_count": null,
      "metadata": {
        "id": "5qWMSwOxoVhj"
      },
      "outputs": [],
      "source": [
        "recovery = 100*(C*(F - T))/(F*(C - T))"
      ]
    },
    {
      "cell_type": "code",
      "execution_count": null,
      "metadata": {
        "id": "QH1SPHaOoVhj"
      },
      "outputs": [],
      "source": [
        "mae = mean_absolute_error(df_train['rougher.output.recovery'], recovery)"
      ]
    },
    {
      "cell_type": "code",
      "execution_count": null,
      "metadata": {
        "id": "i1ckHncPoVhj",
        "outputId": "d94c4ba0-307a-4da3-b403-d7ade0aca208"
      },
      "outputs": [
        {
          "data": {
            "text/plain": [
              "1.1131451184435918e-14"
            ]
          },
          "execution_count": 342,
          "metadata": {},
          "output_type": "execute_result"
        }
      ],
      "source": [
        "mae"
      ]
    },
    {
      "attachments": {},
      "cell_type": "markdown",
      "metadata": {
        "id": "6d30lPxNoVhk"
      },
      "source": [
        "Conclusion: While there was a minor error, the calculation of the enrichment efficiency is accurate."
      ]
    },
    {
      "attachments": {},
      "cell_type": "markdown",
      "metadata": {
        "id": "PxBDcpBboVhk"
      },
      "source": [
        "### Features that are not present in the test dataset"
      ]
    },
    {
      "cell_type": "code",
      "execution_count": null,
      "metadata": {
        "id": "C_BFW_8roVhk"
      },
      "outputs": [],
      "source": [
        "absent_columns = list(set(df_full.columns) - set(df_test.columns))"
      ]
    },
    {
      "cell_type": "code",
      "execution_count": null,
      "metadata": {
        "id": "EqL6kOVQoVhl",
        "outputId": "782e40a9-f9c7-4118-a8c0-dccd18518672"
      },
      "outputs": [
        {
          "data": {
            "text/plain": [
              "['final.output.concentrate_ag',\n",
              " 'final.output.concentrate_au',\n",
              " 'final.output.concentrate_pb',\n",
              " 'final.output.concentrate_sol',\n",
              " 'final.output.recovery',\n",
              " 'final.output.tail_ag',\n",
              " 'final.output.tail_au',\n",
              " 'final.output.tail_pb',\n",
              " 'final.output.tail_sol',\n",
              " 'primary_cleaner.output.concentrate_ag',\n",
              " 'primary_cleaner.output.concentrate_au',\n",
              " 'primary_cleaner.output.concentrate_pb',\n",
              " 'primary_cleaner.output.concentrate_sol',\n",
              " 'primary_cleaner.output.tail_ag',\n",
              " 'primary_cleaner.output.tail_au',\n",
              " 'primary_cleaner.output.tail_pb',\n",
              " 'primary_cleaner.output.tail_sol',\n",
              " 'rougher.calculation.au_pb_ratio',\n",
              " 'rougher.calculation.floatbank10_sulfate_to_au_feed',\n",
              " 'rougher.calculation.floatbank11_sulfate_to_au_feed',\n",
              " 'rougher.calculation.sulfate_to_au_concentrate',\n",
              " 'rougher.output.concentrate_ag',\n",
              " 'rougher.output.concentrate_au',\n",
              " 'rougher.output.concentrate_pb',\n",
              " 'rougher.output.concentrate_sol',\n",
              " 'rougher.output.recovery',\n",
              " 'rougher.output.tail_ag',\n",
              " 'rougher.output.tail_au',\n",
              " 'rougher.output.tail_pb',\n",
              " 'rougher.output.tail_sol',\n",
              " 'secondary_cleaner.output.tail_ag',\n",
              " 'secondary_cleaner.output.tail_au',\n",
              " 'secondary_cleaner.output.tail_pb',\n",
              " 'secondary_cleaner.output.tail_sol']"
            ]
          },
          "execution_count": 344,
          "metadata": {},
          "output_type": "execute_result"
        }
      ],
      "source": [
        "absent_columns.sort()\n",
        "absent_columns"
      ]
    },
    {
      "cell_type": "code",
      "execution_count": null,
      "metadata": {
        "id": "OuXSjOSioVhl",
        "outputId": "c1972ee5-589a-45bd-e34f-f15011fb9f4c"
      },
      "outputs": [
        {
          "name": "stdout",
          "output_type": "stream",
          "text": [
            "<class 'pandas.core.frame.DataFrame'>\n",
            "RangeIndex: 19439 entries, 0 to 19438\n",
            "Data columns (total 34 columns):\n",
            " #   Column                                              Non-Null Count  Dtype  \n",
            "---  ------                                              --------------  -----  \n",
            " 0   final.output.concentrate_ag                         19438 non-null  float64\n",
            " 1   final.output.concentrate_pb                         19438 non-null  float64\n",
            " 2   final.output.concentrate_sol                        19228 non-null  float64\n",
            " 3   final.output.concentrate_au                         19439 non-null  float64\n",
            " 4   final.output.recovery                               19439 non-null  float64\n",
            " 5   final.output.tail_ag                                19438 non-null  float64\n",
            " 6   final.output.tail_pb                                19338 non-null  float64\n",
            " 7   final.output.tail_sol                               19433 non-null  float64\n",
            " 8   final.output.tail_au                                19439 non-null  float64\n",
            " 9   primary_cleaner.output.concentrate_ag               19439 non-null  float64\n",
            " 10  primary_cleaner.output.concentrate_pb               19323 non-null  float64\n",
            " 11  primary_cleaner.output.concentrate_sol              19069 non-null  float64\n",
            " 12  primary_cleaner.output.concentrate_au               19439 non-null  float64\n",
            " 13  primary_cleaner.output.tail_ag                      19435 non-null  float64\n",
            " 14  primary_cleaner.output.tail_pb                      19418 non-null  float64\n",
            " 15  primary_cleaner.output.tail_sol                     19377 non-null  float64\n",
            " 16  primary_cleaner.output.tail_au                      19439 non-null  float64\n",
            " 17  rougher.calculation.sulfate_to_au_concentrate       19437 non-null  float64\n",
            " 18  rougher.calculation.floatbank10_sulfate_to_au_feed  19437 non-null  float64\n",
            " 19  rougher.calculation.floatbank11_sulfate_to_au_feed  19437 non-null  float64\n",
            " 20  rougher.calculation.au_pb_ratio                     19439 non-null  float64\n",
            " 21  rougher.output.concentrate_ag                       19439 non-null  float64\n",
            " 22  rougher.output.concentrate_pb                       19439 non-null  float64\n",
            " 23  rougher.output.concentrate_sol                      19416 non-null  float64\n",
            " 24  rougher.output.concentrate_au                       19439 non-null  float64\n",
            " 25  rougher.output.recovery                             19439 non-null  float64\n",
            " 26  rougher.output.tail_ag                              19438 non-null  float64\n",
            " 27  rougher.output.tail_pb                              19439 non-null  float64\n",
            " 28  rougher.output.tail_sol                             19439 non-null  float64\n",
            " 29  rougher.output.tail_au                              19439 non-null  float64\n",
            " 30  secondary_cleaner.output.tail_ag                    19437 non-null  float64\n",
            " 31  secondary_cleaner.output.tail_pb                    19427 non-null  float64\n",
            " 32  secondary_cleaner.output.tail_sol                   17691 non-null  float64\n",
            " 33  secondary_cleaner.output.tail_au                    19439 non-null  float64\n",
            "dtypes: float64(34)\n",
            "memory usage: 5.0 MB\n"
          ]
        }
      ],
      "source": [
        "df_full[df_full.columns.intersection(absent_columns)].info()"
      ]
    },
    {
      "attachments": {},
      "cell_type": "markdown",
      "metadata": {
        "id": "ICxpe_GvoVhl"
      },
      "source": [
        "Based on the available information, it can be inferred that the test dataset does not contain the target variables final.output.recovery and rougher.output.recovery."
      ]
    },
    {
      "attachments": {},
      "cell_type": "markdown",
      "metadata": {
        "id": "phwnlX5CoVhl"
      },
      "source": [
        "### Data Preprocessing"
      ]
    },
    {
      "cell_type": "code",
      "execution_count": null,
      "metadata": {
        "id": "RKM9OgJToVhl"
      },
      "outputs": [],
      "source": [
        "# The practice of filling in missing values with previous data points\n",
        "# is justifiable since features change insignificantly over time.\n",
        "\n",
        "df_train = df_train.ffill()\n",
        "df_test = df_test.ffill()\n",
        "df_full = df_full.ffill()"
      ]
    },
    {
      "cell_type": "code",
      "execution_count": null,
      "metadata": {
        "id": "HGxjNgWwoVhm"
      },
      "outputs": [],
      "source": [
        "# Adding target features to the test dataset\n",
        "\n",
        "df_test = df_test.merge(df_full[['date', 'final.output.recovery', 'rougher.output.recovery']], on = 'date')"
      ]
    },
    {
      "cell_type": "code",
      "execution_count": null,
      "metadata": {
        "id": "1_d2jKsaoVhm",
        "outputId": "34ef8f2f-ca2f-4351-adf7-3220a1eb4f91"
      },
      "outputs": [
        {
          "data": {
            "text/plain": [
              "(5290, 55)"
            ]
          },
          "execution_count": 348,
          "metadata": {},
          "output_type": "execute_result"
        }
      ],
      "source": [
        "df_test.shape"
      ]
    },
    {
      "cell_type": "code",
      "execution_count": null,
      "metadata": {
        "id": "U3FZ7tyeoVhm",
        "outputId": "fd835c42-7009-4d42-fd31-ce458d3e0a52"
      },
      "outputs": [
        {
          "name": "stdout",
          "output_type": "stream",
          "text": [
            "<class 'pandas.core.frame.DataFrame'>\n",
            "Int64Index: 5290 entries, 0 to 5289\n",
            "Data columns (total 55 columns):\n",
            " #   Column                                      Non-Null Count  Dtype  \n",
            "---  ------                                      --------------  -----  \n",
            " 0   date                                        5290 non-null   object \n",
            " 1   primary_cleaner.input.sulfate               5290 non-null   float64\n",
            " 2   primary_cleaner.input.depressant            5290 non-null   float64\n",
            " 3   primary_cleaner.input.feed_size             5290 non-null   float64\n",
            " 4   primary_cleaner.input.xanthate              5290 non-null   float64\n",
            " 5   primary_cleaner.state.floatbank8_a_air      5290 non-null   float64\n",
            " 6   primary_cleaner.state.floatbank8_a_level    5290 non-null   float64\n",
            " 7   primary_cleaner.state.floatbank8_b_air      5290 non-null   float64\n",
            " 8   primary_cleaner.state.floatbank8_b_level    5290 non-null   float64\n",
            " 9   primary_cleaner.state.floatbank8_c_air      5290 non-null   float64\n",
            " 10  primary_cleaner.state.floatbank8_c_level    5290 non-null   float64\n",
            " 11  primary_cleaner.state.floatbank8_d_air      5290 non-null   float64\n",
            " 12  primary_cleaner.state.floatbank8_d_level    5290 non-null   float64\n",
            " 13  rougher.input.feed_ag                       5290 non-null   float64\n",
            " 14  rougher.input.feed_pb                       5290 non-null   float64\n",
            " 15  rougher.input.feed_rate                     5290 non-null   float64\n",
            " 16  rougher.input.feed_size                     5290 non-null   float64\n",
            " 17  rougher.input.feed_sol                      5290 non-null   float64\n",
            " 18  rougher.input.feed_au                       5290 non-null   float64\n",
            " 19  rougher.input.floatbank10_sulfate           5290 non-null   float64\n",
            " 20  rougher.input.floatbank10_xanthate          5290 non-null   float64\n",
            " 21  rougher.input.floatbank11_sulfate           5290 non-null   float64\n",
            " 22  rougher.input.floatbank11_xanthate          5290 non-null   float64\n",
            " 23  rougher.state.floatbank10_a_air             5290 non-null   float64\n",
            " 24  rougher.state.floatbank10_a_level           5290 non-null   float64\n",
            " 25  rougher.state.floatbank10_b_air             5290 non-null   float64\n",
            " 26  rougher.state.floatbank10_b_level           5290 non-null   float64\n",
            " 27  rougher.state.floatbank10_c_air             5290 non-null   float64\n",
            " 28  rougher.state.floatbank10_c_level           5290 non-null   float64\n",
            " 29  rougher.state.floatbank10_d_air             5290 non-null   float64\n",
            " 30  rougher.state.floatbank10_d_level           5290 non-null   float64\n",
            " 31  rougher.state.floatbank10_e_air             5290 non-null   float64\n",
            " 32  rougher.state.floatbank10_e_level           5290 non-null   float64\n",
            " 33  rougher.state.floatbank10_f_air             5290 non-null   float64\n",
            " 34  rougher.state.floatbank10_f_level           5290 non-null   float64\n",
            " 35  secondary_cleaner.state.floatbank2_a_air    5290 non-null   float64\n",
            " 36  secondary_cleaner.state.floatbank2_a_level  5290 non-null   float64\n",
            " 37  secondary_cleaner.state.floatbank2_b_air    5290 non-null   float64\n",
            " 38  secondary_cleaner.state.floatbank2_b_level  5290 non-null   float64\n",
            " 39  secondary_cleaner.state.floatbank3_a_air    5290 non-null   float64\n",
            " 40  secondary_cleaner.state.floatbank3_a_level  5290 non-null   float64\n",
            " 41  secondary_cleaner.state.floatbank3_b_air    5290 non-null   float64\n",
            " 42  secondary_cleaner.state.floatbank3_b_level  5290 non-null   float64\n",
            " 43  secondary_cleaner.state.floatbank4_a_air    5290 non-null   float64\n",
            " 44  secondary_cleaner.state.floatbank4_a_level  5290 non-null   float64\n",
            " 45  secondary_cleaner.state.floatbank4_b_air    5290 non-null   float64\n",
            " 46  secondary_cleaner.state.floatbank4_b_level  5290 non-null   float64\n",
            " 47  secondary_cleaner.state.floatbank5_a_air    5290 non-null   float64\n",
            " 48  secondary_cleaner.state.floatbank5_a_level  5290 non-null   float64\n",
            " 49  secondary_cleaner.state.floatbank5_b_air    5290 non-null   float64\n",
            " 50  secondary_cleaner.state.floatbank5_b_level  5290 non-null   float64\n",
            " 51  secondary_cleaner.state.floatbank6_a_air    5290 non-null   float64\n",
            " 52  secondary_cleaner.state.floatbank6_a_level  5290 non-null   float64\n",
            " 53  final.output.recovery                       5290 non-null   float64\n",
            " 54  rougher.output.recovery                     5290 non-null   float64\n",
            "dtypes: float64(54), object(1)\n",
            "memory usage: 2.3+ MB\n"
          ]
        }
      ],
      "source": [
        "df_test.info()"
      ]
    },
    {
      "attachments": {},
      "cell_type": "markdown",
      "metadata": {
        "id": "zTvDjfeqoVhn"
      },
      "source": [
        "The target features have been incorporated into the test dataset and the datasets are now ready for model development."
      ]
    },
    {
      "attachments": {},
      "cell_type": "markdown",
      "metadata": {
        "id": "ZiHgdeZ1oVhn"
      },
      "source": [
        "## Data Analysis\n",
        "### Analysis of changes in the concentration of metals (Au, Ag, Pb) at different stages"
      ]
    },
    {
      "cell_type": "code",
      "execution_count": null,
      "metadata": {
        "id": "uchnre--oVhn"
      },
      "outputs": [],
      "source": [
        "metal_au = df_full[[\"rougher.input.feed_au\", \"rougher.output.concentrate_au\", \"primary_cleaner.output.concentrate_au\", \"final.output.concentrate_au\"]]\n",
        "metal_ag = df_full[[\"rougher.input.feed_ag\", \"rougher.output.concentrate_ag\", \"primary_cleaner.output.concentrate_ag\", \"final.output.concentrate_ag\"]]\n",
        "metal_pb = df_full[[\"rougher.input.feed_pb\", \"rougher.output.concentrate_pb\", \"primary_cleaner.output.concentrate_pb\", \"final.output.concentrate_pb\"]]"
      ]
    },
    {
      "cell_type": "code",
      "execution_count": null,
      "metadata": {
        "id": "n9BIzUHBoVhn",
        "outputId": "3e73db19-0708-408d-a623-514c624b54b0"
      },
      "outputs": [
        {
          "data": {
            "image/png": "[encoded data removed]",
            "text/plain": [
              "<Figure size 936x1080 with 3 Axes>"
            ]
          },
          "metadata": {
            "needs_background": "light"
          },
          "output_type": "display_data"
        }
      ],
      "source": [
        "fig, axes = plt.subplots(3, 1, figsize=(13, 15));\n",
        "\n",
        "for column in list(metal_au):\n",
        "    sns.distplot(metal_au[column], ax=axes[0], kde=False)\n",
        "axes[0].set(title=\"Au\", xlabel=\"концентрация металла, %\", ylabel=\"частота\")\n",
        "for column in list(metal_ag):\n",
        "    sns.distplot(metal_ag[column], ax=axes[1], kde=False)\n",
        "axes[1].set(title=\"Ag\", xlabel=\"концентрация металла, %\", ylabel=\"частота\")\n",
        "for column in list(metal_pb):\n",
        "    sns.distplot(metal_pb[column], ax=axes[2], kde=False)\n",
        "axes[2].set(title=\"Pb\", xlabel=\"концентрация металла, %\", ylabel=\"частота\")\n",
        "\n",
        "fig.legend([\"rougher.input.feed\", \"rougher.output.concentrate\", \"primary.cleaner.output concentrate\", \"final.output.concentrate\",])\n",
        "fig.show()"
      ]
    },
    {
      "attachments": {},
      "cell_type": "markdown",
      "metadata": {
        "id": "4lstlq8MoVhn"
      },
      "source": [
        "Conclusions:\n",
        "\n",
        "- The concentration of Au increases after each stage, which is logical since the process is focused on gold;\n",
        "- The concentration of Ag increases after enrichment, but then decreases to values lower than the initial ones;\n",
        "- The concentration of Pb increases during enrichment and purification, and after the second purification stage, the distribution narrows with an unchanged mode."
      ]
    },
    {
      "attachments": {},
      "cell_type": "markdown",
      "metadata": {
        "id": "UmNJjksdoVho"
      },
      "source": [
        "### Comparison of the size of raw material particles in the training and testing datasets"
      ]
    },
    {
      "cell_type": "code",
      "execution_count": null,
      "metadata": {
        "id": "-ewBBP5_oVho",
        "outputId": "7212b7e2-3f19-4049-e56f-d57407bcd8a6"
      },
      "outputs": [
        {
          "data": {
            "image/png": "[encoded data removed]",
            "text/plain": [
              "<Figure size 360x720 with 2 Axes>"
            ]
          },
          "metadata": {
            "needs_background": "light"
          },
          "output_type": "display_data"
        }
      ],
      "source": [
        "fig, axes = plt.subplots(2,1, figsize=(5, 10))\n",
        "\n",
        "axes[0].hist(df_train[\"rougher.input.feed_size\"], density=True, alpha=0.5, bins=50)\n",
        "axes[0].hist(df_test[\"rougher.input.feed_size\"], density=True, alpha=0.5, bins=50)\n",
        "axes[0].set(title=\"Размер гранул сырья на вход обогащения\", xlabel=\"частота\", ylabel=\"размер гранул сырья\")\n",
        "\n",
        "axes[1].hist(df_train[\"primary_cleaner.input.feed_size\"], density=True, alpha=0.5, bins=50)\n",
        "axes[1].hist(df_test[\"primary_cleaner.input.feed_size\"], density=True, alpha=0.5, bins=50)\n",
        "axes[1].set(title=\"Размер гранул сырья на вход первичной очистке\", xlabel=\"частота\", ylabel=\"размер гранул сырья\")\n",
        "\n",
        "fig.legend([\"обучающая выборка\", \"тестовая выборка\"])\n",
        "fig.show()"
      ]
    },
    {
      "attachments": {},
      "cell_type": "markdown",
      "metadata": {
        "id": "QV3vBZ8RoVho"
      },
      "source": [
        "Based on the granule sizes in the training and testing datasets being similar, we can conclude that these data can be utilized for model creation"
      ]
    },
    {
      "attachments": {},
      "cell_type": "markdown",
      "metadata": {
        "id": "T2oRDuVgoVhp"
      },
      "source": [
        "### Study of the overall concentration of metals at different stages"
      ]
    },
    {
      "cell_type": "code",
      "execution_count": null,
      "metadata": {
        "id": "tGhhrSeloVhp"
      },
      "outputs": [],
      "source": [
        "rougher_input = df_full[\"rougher.input.feed_au\"] + df_full[\"rougher.input.feed_ag\"] + df_full[\"rougher.input.feed_pb\"] + df_full[\"rougher.input.feed_sol\"]\n",
        "rougher_output = df_full[\"rougher.output.concentrate_au\"] + df_full[\"rougher.output.concentrate_ag\"] + df_full[\"rougher.output.concentrate_pb\"] + df_full[\"rougher.output.concentrate_sol\"]\n",
        "final_output = df_full[\"final.output.concentrate_au\"] + df_full[\"final.output.concentrate_ag\"] + df_full[\"final.output.concentrate_pb\"] + df_full[\"final.output.concentrate_sol\"]\n",
        "\n",
        "metal_concentrations = pd.DataFrame({'rougher_input':rougher_input, 'rougher_output':rougher_output, 'final_output':final_output})"
      ]
    },
    {
      "cell_type": "code",
      "execution_count": null,
      "metadata": {
        "id": "GEhvhXaXoVhp",
        "outputId": "3c8acb45-97dd-442d-e0ad-ff7290ad5634"
      },
      "outputs": [
        {
          "data": {
            "image/png": "[encoded data removed]",
            "text/plain": [
              "<Figure size 936x360 with 1 Axes>"
            ]
          },
          "metadata": {
            "needs_background": "light"
          },
          "output_type": "display_data"
        }
      ],
      "source": [
        "fig = plt.figure(figsize=(13, 5))\n",
        "\n",
        "for column in list(metal_concentrations):\n",
        "    sns.distplot(metal_concentrations[column], kde=False)\n",
        "\n",
        "plt.legend(list(metal_concentrations))\n",
        "plt.title(\"Гистограмма общей концентрации металлов на разных стадиях технологического процесса\")\n",
        "plt.xlabel(\"концентрация металлов, %\")\n",
        "plt.ylabel(\"частота\")\n",
        "fig.show()"
      ]
    },
    {
      "attachments": {},
      "cell_type": "markdown",
      "metadata": {
        "id": "zO8bYrztoVhp"
      },
      "source": [
        "In conclusion, the concentration of metals increases significantly after the enrichment process and becomes more concentrated towards the end of the technological process, resulting in a narrower distribution"
      ]
    },
    {
      "cell_type": "code",
      "execution_count": null,
      "metadata": {
        "id": "REkzX6QmoVhq"
      },
      "outputs": [],
      "source": [
        "date_rougher = df_full[rougher_input < 0.5]['date']\n",
        "df_train = df_train.query('date not in @date_rougher')\n",
        "\n",
        "date_rougher = df_full[rougher_output < 0.5]['date']\n",
        "df_train = df_train.query('date not in @date_rougher')\n",
        "\n",
        "date_rougher = df_full[df_full[\"primary_cleaner.output.concentrate_au\"] < 0.5]['date']\n",
        "df_train = df_train.query('date not in @date_rougher')\n",
        "\n",
        "date_rougher = df_full[df_full[\"primary_cleaner.output.concentrate_ag\"] < 0.5]['date']\n",
        "df_train = df_train.query('date not in @date_rougher')\n",
        "\n",
        "date_rougher = df_full[df_full[\"primary_cleaner.output.concentrate_pb\"] < 0.5]['date']\n",
        "df_train = df_train.query('date not in @date_rougher')\n",
        "\n",
        "date_rougher = df_full[final_output < 0.5]['date']\n",
        "df_train = df_train.query('date not in @date_rougher')"
      ]
    },
    {
      "cell_type": "code",
      "execution_count": null,
      "metadata": {
        "id": "5Y_aCpijoVhq"
      },
      "outputs": [],
      "source": [
        "rougher_input = df_train[\"rougher.input.feed_au\"] + df_train[\"rougher.input.feed_ag\"] + df_train[\"rougher.input.feed_pb\"] + df_train[\"rougher.input.feed_sol\"]\n",
        "rougher_output = df_train[\"rougher.output.concentrate_au\"] + df_train[\"rougher.output.concentrate_ag\"] + df_train[\"rougher.output.concentrate_pb\"] + df_train[\"rougher.output.concentrate_sol\"]\n",
        "final_output = df_train[\"final.output.concentrate_au\"] + df_train[\"final.output.concentrate_ag\"] + df_train[\"final.output.concentrate_pb\"] + df_train[\"final.output.concentrate_sol\"]\n",
        "\n",
        "metal_concentrations = pd.DataFrame({'rougher_input':rougher_input, 'rougher_output':rougher_output, 'final_output':final_output})"
      ]
    },
    {
      "cell_type": "code",
      "execution_count": null,
      "metadata": {
        "id": "oe_tdgfHoVhr",
        "outputId": "baa3a706-582e-4f9f-d7c5-dddda0ff9489",
        "scrolled": true
      },
      "outputs": [
        {
          "data": {
            "image/png": "[encoded data removed]",
            "text/plain": [
              "<Figure size 936x360 with 1 Axes>"
            ]
          },
          "metadata": {
            "needs_background": "light"
          },
          "output_type": "display_data"
        }
      ],
      "source": [
        "fig = plt.figure(figsize=(13, 5))\n",
        "\n",
        "for column in list(metal_concentrations):\n",
        "    sns.distplot(metal_concentrations[column], kde=False)\n",
        "\n",
        "plt.legend(list(metal_concentrations))\n",
        "plt.title(\"Гистограмма общей концентрации металлов на разных стадиях технологического процесса\")\n",
        "plt.xlabel(\"концентрация металлов, %\")\n",
        "plt.ylabel(\"частота\")\n",
        "fig.show()"
      ]
    },
    {
      "cell_type": "code",
      "execution_count": null,
      "metadata": {
        "id": "b5Te1tLNoVhr"
      },
      "outputs": [],
      "source": [
        "metal_au = df_train[[\"rougher.input.feed_au\", \"rougher.output.concentrate_au\", \"primary_cleaner.output.concentrate_au\", \"final.output.concentrate_au\"]]\n",
        "metal_ag = df_train[[\"rougher.input.feed_ag\", \"rougher.output.concentrate_ag\", \"primary_cleaner.output.concentrate_ag\", \"final.output.concentrate_ag\"]]\n",
        "metal_pb = df_train[[\"rougher.input.feed_pb\", \"rougher.output.concentrate_pb\", \"primary_cleaner.output.concentrate_pb\", \"final.output.concentrate_pb\"]]"
      ]
    },
    {
      "cell_type": "code",
      "execution_count": null,
      "metadata": {
        "id": "pTA34194oVhr",
        "outputId": "6d8b75cf-d0cc-44d4-f52b-fb5b92b4d3d5"
      },
      "outputs": [
        {
          "data": {
            "image/png": "[encoded data removed]",
            "text/plain": [
              "<Figure size 936x1080 with 3 Axes>"
            ]
          },
          "metadata": {
            "needs_background": "light"
          },
          "output_type": "display_data"
        }
      ],
      "source": [
        "fig, axes = plt.subplots(3, 1, figsize=(13, 15));\n",
        "\n",
        "for column in list(metal_au):\n",
        "    sns.distplot(metal_au[column], ax=axes[0], kde=False)\n",
        "axes[0].set(title=\"Au\", xlabel=\"концентрация металла, %\", ylabel=\"частота\")\n",
        "for column in list(metal_ag):\n",
        "    sns.distplot(metal_ag[column], ax=axes[1], kde=False)\n",
        "axes[1].set(title=\"Ag\", xlabel=\"концентрация металла, %\", ylabel=\"частота\")\n",
        "for column in list(metal_pb):\n",
        "    sns.distplot(metal_pb[column], ax=axes[2], kde=False)\n",
        "axes[2].set(title=\"Pb\", xlabel=\"концентрация металла, %\", ylabel=\"частота\")\n",
        "\n",
        "fig.legend([\"rougher.input.feed\", \"rougher.output.concentrate\", \"primary.cleaner.output concentrate\", \"final.output.concentrate\",])\n",
        "fig.show()"
      ]
    },
    {
      "cell_type": "code",
      "execution_count": null,
      "metadata": {
        "id": "tVZ1OzLxoVhs"
      },
      "outputs": [],
      "source": [
        "# In this case, we will remove the date as it is unlikely to have an impact on the quality of production\n",
        "\n",
        "df_train = df_train.drop(\"date\", axis=1)\n",
        "df_test = df_test.drop(\"date\", axis=1)\n",
        "df_full = df_full.drop(\"date\", axis=1)"
      ]
    },
    {
      "attachments": {},
      "cell_type": "markdown",
      "metadata": {
        "id": "vPKBxHdaoVhs"
      },
      "source": [
        "## Model\n",
        "\n",
        "There are two possible approaches to consider when building the model: creating individual models for each of the target features or building a single model that accounts for both features simultaneously. The decision was made to pursue the first approach due to time constraints, although it may be less sophisticated than the latter."
      ]
    },
    {
      "attachments": {},
      "cell_type": "markdown",
      "metadata": {
        "id": "5yEdcDN_oVhs"
      },
      "source": [
        "### Function of final sMAPE score"
      ]
    },
    {
      "cell_type": "code",
      "execution_count": null,
      "metadata": {
        "id": "CyYfBuKaoVht"
      },
      "outputs": [],
      "source": [
        "def fsmape(target_actual, target_predictions):\n",
        "    numerator = np.abs(target_actual - target_predictions)\n",
        "    denominator = (np.abs(target_actual) + np.abs(target_predictions)) / 2 \n",
        "    return abs(1 / len(target_actual) * np.sum(numerator / denominator) * 100)"
      ]
    },
    {
      "cell_type": "code",
      "execution_count": null,
      "metadata": {
        "id": "DAxxqAmooVht"
      },
      "outputs": [],
      "source": [
        "def fsmape_final(target_rougher, prediction_rougher, target_final, prediction_final):\n",
        "    smape_final = 0.25*fsmape(target_rougher, prediction_rougher) + 0.75*fsmape(target_final, prediction_final)\n",
        "    return abs(smape_final)"
      ]
    },
    {
      "cell_type": "code",
      "execution_count": null,
      "metadata": {
        "id": "lmDT68qyoVht"
      },
      "outputs": [],
      "source": [
        "# The statement pertains to creating metrics from a function. As metrics reflect errors,\n",
        "# it is crucial that they decrease over time. Therefore, it is necessary to specify\n",
        "# greater_is_better=False to indicate this.\n",
        "\n",
        "smape_scorer = make_scorer(fsmape, greater_is_better = False) \n",
        "smape_final_scorer = make_scorer(fsmape_final, greater_is_better = False)"
      ]
    },
    {
      "attachments": {},
      "cell_type": "markdown",
      "metadata": {
        "id": "RE321FAqoVhu"
      },
      "source": [
        "### Model Training"
      ]
    },
    {
      "attachments": {},
      "cell_type": "markdown",
      "metadata": {
        "id": "8fbENRGFoVhu"
      },
      "source": [
        "#### Linear Regression"
      ]
    },
    {
      "cell_type": "code",
      "execution_count": null,
      "metadata": {
        "id": "pdUMX-19oVhv",
        "outputId": "7cdde2b3-6bc0-4290-f30f-a513e1968910"
      },
      "outputs": [
        {
          "name": "stdout",
          "output_type": "stream",
          "text": [
            "target_train_rougher (13581,)\n",
            "target_train_final (13581,)\n",
            "features_train (13581, 52)\n",
            "target_test_rougher (5290,)\n",
            "target_test_final (5290,)\n",
            "features_test (5290, 52)\n"
          ]
        }
      ],
      "source": [
        "# To improve the clarity and precision of the translation, I suggest the following revision:\n",
        "\n",
        "target_train_rougher = df_train['rougher.output.recovery']\n",
        "target_train_final = df_train['final.output.recovery']\n",
        "\n",
        "features_train = df_train.drop(df_train.columns.difference(df_test.columns), axis = 1)\n",
        "features_train = features_train.drop(['rougher.output.recovery', 'final.output.recovery'], axis = 1)\n",
        "\n",
        "target_test_rougher = df_test['rougher.output.recovery']\n",
        "target_test_final = df_test['final.output.recovery']\n",
        "\n",
        "features_test = df_test.drop(['rougher.output.recovery', 'final.output.recovery'], axis = 1)\n",
        "\n",
        "print('target_train_rougher', target_train_rougher.shape)\n",
        "print('target_train_final', target_train_final.shape)\n",
        "print('features_train', features_train.shape)\n",
        "\n",
        "print('target_test_rougher', target_test_rougher.shape)\n",
        "print('target_test_final', target_test_final.shape)\n",
        "print('features_test', features_test.shape)"
      ]
    },
    {
      "cell_type": "code",
      "execution_count": null,
      "metadata": {
        "id": "CrYK5wXUoVhv",
        "outputId": "147f0430-ecdb-4eb7-b806-fb1d26c4b8fa"
      },
      "outputs": [
        {
          "name": "stdout",
          "output_type": "stream",
          "text": [
            "(13581, 52)\n",
            "(5290, 52)\n"
          ]
        }
      ],
      "source": [
        "# While scaling is not mandatory, some code reviewers may require it based on feedback\n",
        "# from fellow students. It's worth considering the potential benefits of scaling in terms\n",
        "# of performance, efficiency, and future maintenance, but ultimately it's up to the project's\n",
        "# specific requirements and constraints.\n",
        "\n",
        "scaler = StandardScaler()\n",
        "scaler.fit(features_train)\n",
        "features_train = scaler.transform(features_train)\n",
        "\n",
        "features_test = scaler.transform(features_test)\n",
        "\n",
        "print(features_train.shape)\n",
        "print(features_test.shape)"
      ]
    },
    {
      "cell_type": "code",
      "execution_count": null,
      "metadata": {
        "id": "ahw0r9ZYoVhw",
        "outputId": "5318ae2f-993b-4321-81b9-2c46804710fe"
      },
      "outputs": [
        {
          "name": "stdout",
          "output_type": "stream",
          "text": [
            "Средняя оценка качества модели линейной регрессии sMAPE для lr_model_rougher: 7.283471347429938\n"
          ]
        }
      ],
      "source": [
        "# Performing cross-validation of linear regression on the training set to predict the\n",
        "# effectiveness of rougher concentrate enrichment\n",
        "\n",
        "lr_model_rougher = LinearRegression()\n",
        "scores_rougher = cross_val_score(lr_model_rougher, features_train, target_train_rougher, cv=5, scoring = smape_scorer)\n",
        "lr_score_rougher = abs(sum(scores_rougher) / len(scores_rougher))\n",
        "print('Средняя оценка качества модели линейной регрессии sMAPE для lr_model_rougher:', lr_score_rougher)"
      ]
    },
    {
      "cell_type": "code",
      "execution_count": null,
      "metadata": {
        "id": "45NrMQGXoVhx",
        "outputId": "88dc9eb1-7b5d-4f57-ec93-0c27390a3920"
      },
      "outputs": [
        {
          "name": "stdout",
          "output_type": "stream",
          "text": [
            "Средняя оценка качества модели линейной регрессии sMAPE для lr_model_final: 11.007780402962796\n"
          ]
        }
      ],
      "source": [
        "# Cross-validation of a linear regression model on the training set to\n",
        "# predict the efficiency of final concentrate enrichment.\n",
        "\n",
        "lr_model_final = LinearRegression()\n",
        "scores_final = cross_val_score(lr_model_final, features_train, target_train_final, cv=5, scoring = smape_scorer)\n",
        "lr_score_final = abs(sum(scores_final) / len(scores_final))\n",
        "print('Средняя оценка качества модели линейной регрессии sMAPE для lr_model_final:', lr_score_final)"
      ]
    },
    {
      "cell_type": "code",
      "execution_count": null,
      "metadata": {
        "id": "wJVzxNlfoVhy",
        "outputId": "1fdc33a3-f3a7-4c0c-c97a-8e95a0ec3a86",
        "scrolled": true
      },
      "outputs": [
        {
          "name": "stdout",
          "output_type": "stream",
          "text": [
            "Средняя взвешенная оценка качества модели линейной регрессии sMAPE: 10.076703139079582\n"
          ]
        }
      ],
      "source": [
        "print(\"Средняя взвешенная оценка качества модели линейной регрессии sMAPE:\", 0.25*lr_score_rougher+0.75*lr_score_final)"
      ]
    },
    {
      "attachments": {},
      "cell_type": "markdown",
      "metadata": {
        "id": "Z-iiRtvSoVhy"
      },
      "source": [
        "#### Decision Tree Regression"
      ]
    },
    {
      "cell_type": "code",
      "execution_count": null,
      "metadata": {
        "id": "MVAVz3wHoVhy",
        "outputId": "c7846a57-332a-4e2f-cb85-53202482004c"
      },
      "outputs": [
        {
          "name": "stdout",
          "output_type": "stream",
          "text": [
            "best_score:6.736126\n",
            "best_parameters: {'max_depth': 3, 'min_samples_leaf': 3, 'min_samples_split': 2}\n",
            "CPU times: user 1min 59s, sys: 0 ns, total: 1min 59s\n",
            "Wall time: 2min 2s\n"
          ]
        }
      ],
      "source": [
        "%%time\n",
        "\n",
        "dt_model_rougher = DecisionTreeRegressor(random_state=12345)\n",
        "\n",
        "parameters = {'max_depth': range(1,6),\n",
        "             'min_samples_leaf': range(1,6),\n",
        "             'min_samples_split': range(2,10,2)}\n",
        "\n",
        "grid_rougher = GridSearchCV(dt_model_rougher, parameters, scoring=smape_scorer, cv = 5, n_jobs = -1)\n",
        "grid_rougher.fit(features_train, target_train_rougher)\n",
        "\n",
        "print('best_score:%f'%abs(grid_rougher.best_score_))\n",
        "print('best_parameters:', grid_rougher.best_params_)"
      ]
    },
    {
      "cell_type": "code",
      "execution_count": null,
      "metadata": {
        "id": "c6XmtyQSoVhy",
        "outputId": "e643def7-1059-4466-f662-bd4223cf5573"
      },
      "outputs": [
        {
          "name": "stdout",
          "output_type": "stream",
          "text": [
            "best_score:9.215108\n",
            "best_parameters: {'max_depth': 3, 'min_samples_leaf': 1, 'min_samples_split': 2}\n",
            "CPU times: user 2min 2s, sys: 0 ns, total: 2min 2s\n",
            "Wall time: 2min 2s\n"
          ]
        }
      ],
      "source": [
        "%%time\n",
        "\n",
        "dt_model_final = DecisionTreeRegressor(random_state=12345)\n",
        "\n",
        "parameters = {'max_depth': range(1,6),\n",
        "             'min_samples_leaf': range(1,6),\n",
        "             'min_samples_split': range(2,10,2)}\n",
        "\n",
        "grid_final = GridSearchCV(dt_model_final, parameters, scoring=smape_scorer, cv = 5, n_jobs = -1)\n",
        "grid_final.fit(features_train, target_train_final)\n",
        "\n",
        "print('best_score:%f'%abs(grid_final.best_score_))\n",
        "print('best_parameters:', grid_final.best_params_)"
      ]
    },
    {
      "cell_type": "code",
      "execution_count": null,
      "metadata": {
        "id": "OIo7RtUwoVhz",
        "outputId": "b5d555ec-b8e8-4e61-dc09-6ed0ae5f0e1f",
        "scrolled": true
      },
      "outputs": [
        {
          "name": "stdout",
          "output_type": "stream",
          "text": [
            "Средняя взвешенная оценка качества модели дерева решений sMAPE: 8.595362556306714\n"
          ]
        }
      ],
      "source": [
        "print(\"Средняя взвешенная оценка качества модели дерева решений sMAPE:\", 0.25*abs(grid_rougher.best_score_)+0.75*abs(grid_final.best_score_))"
      ]
    },
    {
      "attachments": {},
      "cell_type": "markdown",
      "metadata": {
        "id": "ZFZCUadHoVhz"
      },
      "source": [
        "The metric is lower, indicating superior performance compared to linear regression."
      ]
    },
    {
      "attachments": {},
      "cell_type": "markdown",
      "metadata": {
        "id": "dYk1EeCGoVhz"
      },
      "source": [
        "#### Random Forest Regression"
      ]
    },
    {
      "cell_type": "code",
      "execution_count": null,
      "metadata": {
        "id": "Hq-paU02oVhz",
        "outputId": "2338f98b-4a73-47e8-bda2-ebf2f837b89f"
      },
      "outputs": [
        {
          "name": "stdout",
          "output_type": "stream",
          "text": [
            "best_score:6.329979\n",
            "best_parameters: {'max_depth': 6, 'n_estimators': 100}\n",
            "CPU times: user 18min 21s, sys: 281 ms, total: 18min 22s\n",
            "Wall time: 18min 37s\n"
          ]
        }
      ],
      "source": [
        "%%time\n",
        "\n",
        "rf_model_rougher = RandomForestRegressor(random_state=12345)\n",
        "\n",
        "parameters = {'n_estimators': range(50,101,25),\n",
        "             'max_depth': range(4,8,1)}\n",
        "\n",
        "\n",
        "grid_rougher = GridSearchCV(rf_model_rougher, parameters, scoring=smape_scorer, cv = 5, n_jobs = -1)\n",
        "grid_rougher.fit(features_train, target_train_rougher)\n",
        "\n",
        "print('best_score:%f'%abs(grid_rougher.best_score_))\n",
        "print('best_parameters:', grid_rougher.best_params_)"
      ]
    },
    {
      "cell_type": "code",
      "execution_count": null,
      "metadata": {
        "id": "9gtJs3vboVh0",
        "outputId": "a2485bae-a676-4945-9ba4-a1c31bb7e994"
      },
      "outputs": [
        {
          "name": "stdout",
          "output_type": "stream",
          "text": [
            "best_score:8.916202\n",
            "best_parameters: {'max_depth': 4, 'n_estimators': 50}\n",
            "CPU times: user 18min 51s, sys: 344 ms, total: 18min 51s\n",
            "Wall time: 18min 54s\n"
          ]
        }
      ],
      "source": [
        "%%time\n",
        "\n",
        "rf_model_final = RandomForestRegressor(random_state=12345)\n",
        "\n",
        "parameters = {'n_estimators': range(50,101,25),\n",
        "             'max_depth': range(4,8,1)}\n",
        "\n",
        "\n",
        "grid_final = GridSearchCV(rf_model_final, parameters, scoring=smape_scorer, cv = 5, n_jobs = -1)\n",
        "grid_final.fit(features_train, target_train_final)\n",
        "\n",
        "print('best_score:%f'%abs(grid_final.best_score_))\n",
        "print('best_parameters:', grid_final.best_params_)"
      ]
    },
    {
      "cell_type": "code",
      "execution_count": null,
      "metadata": {
        "id": "vf7KdMM0oVh0",
        "outputId": "4108d5b8-da59-449a-a80b-9f4b80f7de88"
      },
      "outputs": [
        {
          "name": "stdout",
          "output_type": "stream",
          "text": [
            "Средняя взвешенная оценка качества модели случайного леса sMAPE: 8.269646268743637\n"
          ]
        }
      ],
      "source": [
        "print(\"Средняя взвешенная оценка качества модели случайного леса sMAPE:\", 0.25*abs(grid_rougher.best_score_)+0.75*abs(grid_final.best_score_))"
      ]
    },
    {
      "attachments": {},
      "cell_type": "markdown",
      "metadata": {
        "id": "pqFWOmfRoVh0"
      },
      "source": [
        "Conclusion: The random forest model has the lowest sMAPE metric, making it the best performing model."
      ]
    },
    {
      "attachments": {},
      "cell_type": "markdown",
      "metadata": {
        "id": "PafCsNhsoVh0"
      },
      "source": [
        "#### Checking on a test sample"
      ]
    },
    {
      "cell_type": "code",
      "execution_count": null,
      "metadata": {
        "id": "U-cjhgCXoVh0"
      },
      "outputs": [],
      "source": [
        "rf_model_rougher = RandomForestRegressor(n_estimators = 100, max_depth = 6, random_state=12345)\n",
        "\n",
        "rf_model_rougher.fit(features_train, target_train_rougher)\n",
        "\n",
        "predictions_test_rougher = rf_model_rougher.predict(features_test)"
      ]
    },
    {
      "cell_type": "code",
      "execution_count": null,
      "metadata": {
        "id": "ZjVU3cchoVh1",
        "outputId": "3469b04d-57ab-497d-916b-eec4ab374cf5"
      },
      "outputs": [
        {
          "name": "stdout",
          "output_type": "stream",
          "text": [
            "sMAPE: 7.970580900980516\n"
          ]
        }
      ],
      "source": [
        "score_rougher = fsmape(target_test_rougher, predictions_test_rougher)\n",
        "print('sMAPE:', score_rougher)"
      ]
    },
    {
      "cell_type": "code",
      "execution_count": null,
      "metadata": {
        "id": "iZ7NcETpoVh1"
      },
      "outputs": [],
      "source": [
        "rf_model_final = RandomForestRegressor(n_estimators = 50, max_depth = 4, random_state=12345)\n",
        "\n",
        "rf_model_final.fit(features_train, target_train_final)\n",
        "\n",
        "predictions_test_final = rf_model_final.predict(features_test)"
      ]
    },
    {
      "cell_type": "code",
      "execution_count": null,
      "metadata": {
        "id": "8ovPLrhboVh1",
        "outputId": "a0a99042-ad42-45ab-f6da-3f7233e28976"
      },
      "outputs": [
        {
          "name": "stdout",
          "output_type": "stream",
          "text": [
            "sMAPE: 9.722031623038278\n"
          ]
        }
      ],
      "source": [
        "score_final = fsmape(target_test_final, predictions_test_final)\n",
        "print('sMAPE:', score_final)"
      ]
    },
    {
      "cell_type": "code",
      "execution_count": null,
      "metadata": {
        "id": "cOOhA28IoVh1",
        "outputId": "4bc7d1eb-754e-425e-c966-ca4cafa99bdb"
      },
      "outputs": [
        {
          "name": "stdout",
          "output_type": "stream",
          "text": [
            "final sMAPE =  9.274582826585709\n"
          ]
        }
      ],
      "source": [
        "print(\"final sMAPE = \", 0.25*score_rougher+0.75*score_final)"
      ]
    },
    {
      "cell_type": "code",
      "execution_count": null,
      "metadata": {
        "id": "j-07XcrEoVh2",
        "outputId": "4bf36bb4-a2d9-4c65-9e57-04ddd18ac5e2"
      },
      "outputs": [
        {
          "name": "stdout",
          "output_type": "stream",
          "text": [
            "final dummy sMAPE =  9.827647160711791\n"
          ]
        }
      ],
      "source": [
        "# dummy-model\n",
        "\n",
        "predicted_test_rougher_mean = pd.Series(target_train_rougher.mean(), index = target_test_rougher.index)\n",
        "predicted_test_final_mean = pd.Series(target_train_final.mean(), index = target_test_final.index)\n",
        "\n",
        "score_rougher = fsmape(target_test_rougher, predicted_test_rougher_mean)\n",
        "score_final = fsmape(target_test_final, predicted_test_final_mean)\n",
        "\n",
        "print(\"final dummy sMAPE = \", 0.25*score_rougher+0.75*score_final)"
      ]
    },
    {
      "attachments": {},
      "cell_type": "markdown",
      "metadata": {
        "id": "SK6A8T_ToVh2"
      },
      "source": [
        "Conclusion: Based on the statistical analysis, the random forest model outperformed the constant dummy model and was deemed the most effective. This was confirmed by the adequacy test, which showed that the random forest model had a lower sMAPE error compared to the dummy model."
      ]
    }
  ],
  "metadata": {
    "ExecuteTimeLog": [
      {
        "duration": 1974,
        "start_time": "2022-04-16T12:59:56.714Z"
      },
      {
        "duration": 3,
        "start_time": "2022-04-16T12:59:58.691Z"
      },
      {
        "duration": 268,
        "start_time": "2022-04-16T12:59:58.696Z"
      },
      {
        "duration": 0,
        "start_time": "2022-04-16T12:59:58.967Z"
      },
      {
        "duration": 0,
        "start_time": "2022-04-16T12:59:58.969Z"
      },
      {
        "duration": 0,
        "start_time": "2022-04-16T12:59:58.971Z"
      },
      {
        "duration": 0,
        "start_time": "2022-04-16T12:59:58.973Z"
      },
      {
        "duration": 0,
        "start_time": "2022-04-16T12:59:58.974Z"
      },
      {
        "duration": 0,
        "start_time": "2022-04-16T12:59:58.975Z"
      },
      {
        "duration": 0,
        "start_time": "2022-04-16T12:59:58.977Z"
      },
      {
        "duration": 0,
        "start_time": "2022-04-16T12:59:58.978Z"
      },
      {
        "duration": 0,
        "start_time": "2022-04-16T12:59:58.980Z"
      },
      {
        "duration": 0,
        "start_time": "2022-04-16T12:59:58.981Z"
      },
      {
        "duration": 0,
        "start_time": "2022-04-16T12:59:58.983Z"
      },
      {
        "duration": 0,
        "start_time": "2022-04-16T12:59:58.984Z"
      },
      {
        "duration": 0,
        "start_time": "2022-04-16T12:59:58.985Z"
      },
      {
        "duration": 0,
        "start_time": "2022-04-16T12:59:59.027Z"
      },
      {
        "duration": 0,
        "start_time": "2022-04-16T12:59:59.028Z"
      },
      {
        "duration": 0,
        "start_time": "2022-04-16T12:59:59.029Z"
      },
      {
        "duration": 0,
        "start_time": "2022-04-16T12:59:59.031Z"
      },
      {
        "duration": 0,
        "start_time": "2022-04-16T12:59:59.033Z"
      },
      {
        "duration": 0,
        "start_time": "2022-04-16T12:59:59.034Z"
      },
      {
        "duration": 0,
        "start_time": "2022-04-16T12:59:59.036Z"
      },
      {
        "duration": 0,
        "start_time": "2022-04-16T12:59:59.038Z"
      },
      {
        "duration": 0,
        "start_time": "2022-04-16T12:59:59.039Z"
      },
      {
        "duration": 0,
        "start_time": "2022-04-16T12:59:59.041Z"
      },
      {
        "duration": 3,
        "start_time": "2022-04-16T13:00:53.743Z"
      },
      {
        "duration": 3,
        "start_time": "2022-04-16T13:00:53.748Z"
      },
      {
        "duration": 800,
        "start_time": "2022-04-16T13:00:53.753Z"
      },
      {
        "duration": 16,
        "start_time": "2022-04-16T13:00:54.555Z"
      },
      {
        "duration": 14,
        "start_time": "2022-04-16T13:00:54.573Z"
      },
      {
        "duration": 12,
        "start_time": "2022-04-16T13:00:54.588Z"
      },
      {
        "duration": 7,
        "start_time": "2022-04-16T13:00:54.622Z"
      },
      {
        "duration": 10,
        "start_time": "2022-04-16T13:00:54.631Z"
      },
      {
        "duration": 18,
        "start_time": "2022-04-16T13:00:54.643Z"
      },
      {
        "duration": 7,
        "start_time": "2022-04-16T13:00:54.663Z"
      },
      {
        "duration": 20,
        "start_time": "2022-04-16T13:00:54.672Z"
      },
      {
        "duration": 5,
        "start_time": "2022-04-16T13:00:54.694Z"
      },
      {
        "duration": 14,
        "start_time": "2022-04-16T13:00:54.701Z"
      },
      {
        "duration": 11,
        "start_time": "2022-04-16T13:00:54.716Z"
      },
      {
        "duration": 12,
        "start_time": "2022-04-16T13:00:54.729Z"
      },
      {
        "duration": 28,
        "start_time": "2022-04-16T13:00:54.743Z"
      },
      {
        "duration": 21,
        "start_time": "2022-04-16T13:00:54.773Z"
      },
      {
        "duration": 13,
        "start_time": "2022-04-16T13:00:54.796Z"
      },
      {
        "duration": 4,
        "start_time": "2022-04-16T13:00:54.810Z"
      },
      {
        "duration": 18,
        "start_time": "2022-04-16T13:00:54.815Z"
      },
      {
        "duration": 2,
        "start_time": "2022-04-16T13:00:54.835Z"
      },
      {
        "duration": 12,
        "start_time": "2022-04-16T13:00:54.838Z"
      },
      {
        "duration": 1124,
        "start_time": "2022-04-16T13:00:54.851Z"
      },
      {
        "duration": 483,
        "start_time": "2022-04-16T13:00:55.976Z"
      },
      {
        "duration": 9,
        "start_time": "2022-04-16T13:00:56.460Z"
      },
      {
        "duration": 651,
        "start_time": "2022-04-16T13:00:56.471Z"
      },
      {
        "duration": 3,
        "start_time": "2022-04-16T13:01:48.504Z"
      },
      {
        "duration": 6,
        "start_time": "2022-04-16T13:02:12.733Z"
      },
      {
        "duration": 1264,
        "start_time": "2022-04-16T13:05:03.449Z"
      },
      {
        "duration": 2380,
        "start_time": "2022-04-16T13:05:14.643Z"
      },
      {
        "duration": 1220,
        "start_time": "2022-04-16T13:05:28.902Z"
      },
      {
        "duration": 1180,
        "start_time": "2022-04-16T13:05:36.760Z"
      },
      {
        "duration": 2211,
        "start_time": "2022-04-16T13:06:16.212Z"
      },
      {
        "duration": 1242,
        "start_time": "2022-04-16T13:06:22.032Z"
      },
      {
        "duration": 412,
        "start_time": "2022-04-16T13:06:38.239Z"
      },
      {
        "duration": 438,
        "start_time": "2022-04-16T13:06:45.188Z"
      },
      {
        "duration": 340,
        "start_time": "2022-04-16T13:26:40.812Z"
      },
      {
        "duration": 30201,
        "start_time": "2022-04-16T13:26:46.210Z"
      },
      {
        "duration": 30265,
        "start_time": "2022-04-16T13:27:49.410Z"
      },
      {
        "duration": 4,
        "start_time": "2022-04-16T13:28:57.940Z"
      },
      {
        "duration": 4,
        "start_time": "2022-04-16T13:29:11.118Z"
      },
      {
        "duration": 3,
        "start_time": "2022-04-16T13:29:15.129Z"
      },
      {
        "duration": 10,
        "start_time": "2022-04-16T14:09:59.420Z"
      },
      {
        "duration": 50,
        "start_time": "2022-04-16T14:10:18.047Z"
      },
      {
        "duration": 17,
        "start_time": "2022-04-16T14:10:25.447Z"
      },
      {
        "duration": 24,
        "start_time": "2022-04-16T14:11:10.558Z"
      },
      {
        "duration": 10,
        "start_time": "2022-04-16T14:11:25.711Z"
      },
      {
        "duration": 86,
        "start_time": "2022-04-16T14:11:28.234Z"
      },
      {
        "duration": 7,
        "start_time": "2022-04-16T14:11:56.733Z"
      },
      {
        "duration": 35,
        "start_time": "2022-04-16T14:11:59.193Z"
      },
      {
        "duration": 5,
        "start_time": "2022-04-16T14:12:13.002Z"
      },
      {
        "duration": 5,
        "start_time": "2022-04-16T14:12:13.011Z"
      },
      {
        "duration": 928,
        "start_time": "2022-04-16T14:12:13.018Z"
      },
      {
        "duration": 26,
        "start_time": "2022-04-16T14:12:13.949Z"
      },
      {
        "duration": 25,
        "start_time": "2022-04-16T14:12:13.977Z"
      },
      {
        "duration": 13,
        "start_time": "2022-04-16T14:12:14.004Z"
      },
      {
        "duration": 6,
        "start_time": "2022-04-16T14:12:14.019Z"
      },
      {
        "duration": 5,
        "start_time": "2022-04-16T14:12:14.027Z"
      },
      {
        "duration": 6,
        "start_time": "2022-04-16T14:12:14.034Z"
      },
      {
        "duration": 4,
        "start_time": "2022-04-16T14:12:14.043Z"
      },
      {
        "duration": 8,
        "start_time": "2022-04-16T14:12:14.048Z"
      },
      {
        "duration": 8,
        "start_time": "2022-04-16T14:12:14.058Z"
      },
      {
        "duration": 11,
        "start_time": "2022-04-16T14:12:14.067Z"
      },
      {
        "duration": 18,
        "start_time": "2022-04-16T14:12:14.080Z"
      },
      {
        "duration": 18,
        "start_time": "2022-04-16T14:12:14.100Z"
      },
      {
        "duration": 15,
        "start_time": "2022-04-16T14:12:14.120Z"
      },
      {
        "duration": 5,
        "start_time": "2022-04-16T14:12:14.137Z"
      },
      {
        "duration": 17,
        "start_time": "2022-04-16T14:12:14.143Z"
      },
      {
        "duration": 11,
        "start_time": "2022-04-16T14:12:14.162Z"
      },
      {
        "duration": 7,
        "start_time": "2022-04-16T14:12:14.175Z"
      },
      {
        "duration": 1556,
        "start_time": "2022-04-16T14:12:14.183Z"
      },
      {
        "duration": 467,
        "start_time": "2022-04-16T14:12:15.741Z"
      },
      {
        "duration": 15,
        "start_time": "2022-04-16T14:12:16.210Z"
      },
      {
        "duration": 621,
        "start_time": "2022-04-16T14:12:16.228Z"
      },
      {
        "duration": 5,
        "start_time": "2022-04-16T14:12:16.851Z"
      },
      {
        "duration": 23,
        "start_time": "2022-04-16T14:12:16.858Z"
      },
      {
        "duration": 17,
        "start_time": "2022-04-16T14:12:16.882Z"
      },
      {
        "duration": 51,
        "start_time": "2022-04-16T14:12:16.902Z"
      },
      {
        "duration": 0,
        "start_time": "2022-04-16T14:12:16.955Z"
      },
      {
        "duration": 0,
        "start_time": "2022-04-16T14:12:16.956Z"
      },
      {
        "duration": 0,
        "start_time": "2022-04-16T14:12:16.958Z"
      },
      {
        "duration": 15,
        "start_time": "2022-04-16T14:13:12.448Z"
      },
      {
        "duration": 9,
        "start_time": "2022-04-16T14:13:26.232Z"
      },
      {
        "duration": 12,
        "start_time": "2022-04-16T14:14:02.925Z"
      },
      {
        "duration": 38,
        "start_time": "2022-04-16T14:15:57.496Z"
      },
      {
        "duration": 25,
        "start_time": "2022-04-16T14:16:06.313Z"
      },
      {
        "duration": 245,
        "start_time": "2022-04-16T14:16:22.182Z"
      },
      {
        "duration": 10,
        "start_time": "2022-04-16T15:01:10.529Z"
      },
      {
        "duration": 12,
        "start_time": "2022-04-16T15:02:08.089Z"
      },
      {
        "duration": 23,
        "start_time": "2022-04-16T15:02:14.069Z"
      },
      {
        "duration": 173,
        "start_time": "2022-04-16T15:02:16.449Z"
      },
      {
        "duration": 285,
        "start_time": "2022-04-16T15:02:59.375Z"
      },
      {
        "duration": 3,
        "start_time": "2022-04-16T15:03:16.508Z"
      },
      {
        "duration": 3,
        "start_time": "2022-04-16T15:03:18.293Z"
      },
      {
        "duration": 256,
        "start_time": "2022-04-16T15:03:22.492Z"
      },
      {
        "duration": 3,
        "start_time": "2022-04-16T15:03:44.378Z"
      },
      {
        "duration": 238,
        "start_time": "2022-04-16T15:03:48.728Z"
      },
      {
        "duration": 4,
        "start_time": "2022-04-16T15:04:02.669Z"
      },
      {
        "duration": 256,
        "start_time": "2022-04-16T15:04:07.092Z"
      },
      {
        "duration": 9,
        "start_time": "2022-04-16T15:04:28.786Z"
      },
      {
        "duration": 10,
        "start_time": "2022-04-16T15:11:41.905Z"
      },
      {
        "duration": 4,
        "start_time": "2022-04-16T15:11:47.734Z"
      },
      {
        "duration": 737,
        "start_time": "2022-04-16T15:11:53.995Z"
      },
      {
        "duration": 1217,
        "start_time": "2022-04-16T15:12:43.315Z"
      },
      {
        "duration": 909,
        "start_time": "2022-04-16T15:13:06.417Z"
      },
      {
        "duration": 3,
        "start_time": "2022-04-16T15:36:10.322Z"
      },
      {
        "duration": 2,
        "start_time": "2022-04-16T15:36:12.925Z"
      },
      {
        "duration": 427,
        "start_time": "2022-04-16T15:36:22.997Z"
      },
      {
        "duration": 3,
        "start_time": "2022-04-16T15:37:18.186Z"
      },
      {
        "duration": 4,
        "start_time": "2022-04-16T15:37:20.777Z"
      },
      {
        "duration": 218,
        "start_time": "2022-04-16T15:37:27.408Z"
      },
      {
        "duration": 355,
        "start_time": "2022-04-16T15:39:59.867Z"
      },
      {
        "duration": 11,
        "start_time": "2022-04-16T15:41:28.827Z"
      },
      {
        "duration": 1118,
        "start_time": "2022-04-16T15:44:33.110Z"
      },
      {
        "duration": 1030,
        "start_time": "2022-04-16T15:44:37.094Z"
      },
      {
        "duration": 4,
        "start_time": "2022-04-16T15:50:01.407Z"
      },
      {
        "duration": 2,
        "start_time": "2022-04-16T15:51:50.930Z"
      },
      {
        "duration": 11,
        "start_time": "2022-04-16T15:55:10.804Z"
      },
      {
        "duration": 1444,
        "start_time": "2022-04-16T15:55:26.082Z"
      },
      {
        "duration": 1410,
        "start_time": "2022-04-16T15:56:00.021Z"
      },
      {
        "duration": 2,
        "start_time": "2022-04-16T15:56:33.617Z"
      },
      {
        "duration": 2189,
        "start_time": "2022-04-16T15:56:41.235Z"
      },
      {
        "duration": 1340,
        "start_time": "2022-04-16T15:56:54.085Z"
      },
      {
        "duration": 3,
        "start_time": "2022-04-16T16:04:58.789Z"
      },
      {
        "duration": 3,
        "start_time": "2022-04-16T16:05:06.536Z"
      },
      {
        "duration": 15,
        "start_time": "2022-04-16T16:05:15.875Z"
      },
      {
        "duration": 3,
        "start_time": "2022-04-16T16:05:44.305Z"
      },
      {
        "duration": 14,
        "start_time": "2022-04-16T16:05:51.086Z"
      },
      {
        "duration": 3,
        "start_time": "2022-04-16T16:06:11.878Z"
      },
      {
        "duration": 4,
        "start_time": "2022-04-16T16:06:16.636Z"
      },
      {
        "duration": 21,
        "start_time": "2022-04-16T16:06:23.040Z"
      },
      {
        "duration": 4,
        "start_time": "2022-04-16T16:06:31.859Z"
      },
      {
        "duration": 4,
        "start_time": "2022-04-16T16:06:31.865Z"
      },
      {
        "duration": 893,
        "start_time": "2022-04-16T16:06:31.870Z"
      },
      {
        "duration": 27,
        "start_time": "2022-04-16T16:06:32.766Z"
      },
      {
        "duration": 41,
        "start_time": "2022-04-16T16:06:32.795Z"
      },
      {
        "duration": 17,
        "start_time": "2022-04-16T16:06:32.839Z"
      },
      {
        "duration": 5,
        "start_time": "2022-04-16T16:06:32.858Z"
      },
      {
        "duration": 5,
        "start_time": "2022-04-16T16:06:32.865Z"
      },
      {
        "duration": 7,
        "start_time": "2022-04-16T16:06:32.871Z"
      },
      {
        "duration": 4,
        "start_time": "2022-04-16T16:06:32.882Z"
      },
      {
        "duration": 3,
        "start_time": "2022-04-16T16:06:32.888Z"
      },
      {
        "duration": 30,
        "start_time": "2022-04-16T16:06:32.893Z"
      },
      {
        "duration": 6,
        "start_time": "2022-04-16T16:06:32.925Z"
      },
      {
        "duration": 18,
        "start_time": "2022-04-16T16:06:32.932Z"
      },
      {
        "duration": 17,
        "start_time": "2022-04-16T16:06:32.951Z"
      },
      {
        "duration": 13,
        "start_time": "2022-04-16T16:06:32.970Z"
      },
      {
        "duration": 40,
        "start_time": "2022-04-16T16:06:32.984Z"
      },
      {
        "duration": 14,
        "start_time": "2022-04-16T16:06:33.025Z"
      },
      {
        "duration": 12,
        "start_time": "2022-04-16T16:06:33.040Z"
      },
      {
        "duration": 5,
        "start_time": "2022-04-16T16:06:33.054Z"
      },
      {
        "duration": 1035,
        "start_time": "2022-04-16T16:06:33.060Z"
      },
      {
        "duration": 551,
        "start_time": "2022-04-16T16:06:34.097Z"
      },
      {
        "duration": 7,
        "start_time": "2022-04-16T16:06:34.650Z"
      },
      {
        "duration": 345,
        "start_time": "2022-04-16T16:06:34.658Z"
      },
      {
        "duration": 4,
        "start_time": "2022-04-16T16:06:35.004Z"
      },
      {
        "duration": 18,
        "start_time": "2022-04-16T16:06:35.009Z"
      },
      {
        "duration": 4,
        "start_time": "2022-04-16T16:06:35.029Z"
      },
      {
        "duration": 12,
        "start_time": "2022-04-16T16:06:35.036Z"
      },
      {
        "duration": 24,
        "start_time": "2022-04-16T16:06:35.050Z"
      },
      {
        "duration": 153,
        "start_time": "2022-04-16T16:06:35.075Z"
      },
      {
        "duration": 0,
        "start_time": "2022-04-16T16:06:35.230Z"
      },
      {
        "duration": 0,
        "start_time": "2022-04-16T16:06:35.232Z"
      },
      {
        "duration": 0,
        "start_time": "2022-04-16T16:06:35.234Z"
      },
      {
        "duration": 0,
        "start_time": "2022-04-16T16:06:35.235Z"
      },
      {
        "duration": 0,
        "start_time": "2022-04-16T16:06:35.323Z"
      },
      {
        "duration": 0,
        "start_time": "2022-04-16T16:06:35.324Z"
      },
      {
        "duration": 0,
        "start_time": "2022-04-16T16:06:35.325Z"
      },
      {
        "duration": 3,
        "start_time": "2022-04-16T16:07:20.353Z"
      },
      {
        "duration": 3,
        "start_time": "2022-04-16T16:07:21.960Z"
      },
      {
        "duration": 2,
        "start_time": "2022-04-16T16:07:23.771Z"
      },
      {
        "duration": 200,
        "start_time": "2022-04-16T16:07:29.648Z"
      },
      {
        "duration": 145,
        "start_time": "2022-04-16T16:07:35.684Z"
      },
      {
        "duration": 1345,
        "start_time": "2022-04-16T16:07:56.000Z"
      },
      {
        "duration": 254,
        "start_time": "2022-04-16T16:08:46.870Z"
      },
      {
        "duration": 193,
        "start_time": "2022-04-16T16:09:05.753Z"
      },
      {
        "duration": 200,
        "start_time": "2022-04-16T16:09:12.428Z"
      },
      {
        "duration": 1318,
        "start_time": "2022-04-16T16:09:22.206Z"
      },
      {
        "duration": 19,
        "start_time": "2022-04-16T16:09:45.793Z"
      },
      {
        "duration": 13,
        "start_time": "2022-04-16T16:09:50.862Z"
      },
      {
        "duration": 15,
        "start_time": "2022-04-16T16:09:58.987Z"
      },
      {
        "duration": 3,
        "start_time": "2022-04-16T16:10:27.955Z"
      },
      {
        "duration": 7,
        "start_time": "2022-04-16T16:10:33.821Z"
      },
      {
        "duration": 3,
        "start_time": "2022-04-16T16:22:20.053Z"
      },
      {
        "duration": 5,
        "start_time": "2022-04-16T17:00:35.312Z"
      },
      {
        "duration": 16,
        "start_time": "2022-04-16T17:03:05.374Z"
      },
      {
        "duration": 7,
        "start_time": "2022-04-16T17:05:12.763Z"
      },
      {
        "duration": 36,
        "start_time": "2022-04-16T17:05:16.752Z"
      },
      {
        "duration": 1588,
        "start_time": "2022-04-16T17:05:21.140Z"
      },
      {
        "duration": 5,
        "start_time": "2022-04-16T17:06:33.550Z"
      },
      {
        "duration": 1593,
        "start_time": "2022-04-16T17:06:37.446Z"
      },
      {
        "duration": 13,
        "start_time": "2022-04-16T17:07:30.290Z"
      },
      {
        "duration": 1875,
        "start_time": "2022-04-16T17:08:12.650Z"
      },
      {
        "duration": 5,
        "start_time": "2022-04-16T17:08:34.316Z"
      },
      {
        "duration": 5,
        "start_time": "2022-04-16T17:08:34.322Z"
      },
      {
        "duration": 633,
        "start_time": "2022-04-16T17:08:34.328Z"
      },
      {
        "duration": 18,
        "start_time": "2022-04-16T17:08:34.963Z"
      },
      {
        "duration": 15,
        "start_time": "2022-04-16T17:08:34.982Z"
      },
      {
        "duration": 29,
        "start_time": "2022-04-16T17:08:34.999Z"
      },
      {
        "duration": 4,
        "start_time": "2022-04-16T17:08:35.030Z"
      },
      {
        "duration": 13,
        "start_time": "2022-04-16T17:08:35.035Z"
      },
      {
        "duration": 14,
        "start_time": "2022-04-16T17:08:35.050Z"
      },
      {
        "duration": 12,
        "start_time": "2022-04-16T17:08:35.066Z"
      },
      {
        "duration": 6,
        "start_time": "2022-04-16T17:08:35.080Z"
      },
      {
        "duration": 10,
        "start_time": "2022-04-16T17:08:35.087Z"
      },
      {
        "duration": 7,
        "start_time": "2022-04-16T17:08:35.098Z"
      },
      {
        "duration": 21,
        "start_time": "2022-04-16T17:08:35.107Z"
      },
      {
        "duration": 25,
        "start_time": "2022-04-16T17:08:35.130Z"
      },
      {
        "duration": 14,
        "start_time": "2022-04-16T17:08:35.157Z"
      },
      {
        "duration": 6,
        "start_time": "2022-04-16T17:08:35.173Z"
      },
      {
        "duration": 17,
        "start_time": "2022-04-16T17:08:35.181Z"
      },
      {
        "duration": 38,
        "start_time": "2022-04-16T17:08:35.199Z"
      },
      {
        "duration": 7,
        "start_time": "2022-04-16T17:08:35.239Z"
      },
      {
        "duration": 1125,
        "start_time": "2022-04-16T17:08:35.247Z"
      },
      {
        "duration": 438,
        "start_time": "2022-04-16T17:08:36.374Z"
      },
      {
        "duration": 11,
        "start_time": "2022-04-16T17:08:36.813Z"
      },
      {
        "duration": 336,
        "start_time": "2022-04-16T17:08:36.827Z"
      },
      {
        "duration": 3,
        "start_time": "2022-04-16T17:08:37.164Z"
      },
      {
        "duration": 12,
        "start_time": "2022-04-16T17:08:37.169Z"
      },
      {
        "duration": 33,
        "start_time": "2022-04-16T17:08:37.182Z"
      },
      {
        "duration": 27,
        "start_time": "2022-04-16T17:08:37.216Z"
      },
      {
        "duration": 33,
        "start_time": "2022-04-16T17:08:37.245Z"
      },
      {
        "duration": 25,
        "start_time": "2022-04-16T17:08:37.280Z"
      },
      {
        "duration": 35,
        "start_time": "2022-04-16T17:08:37.307Z"
      },
      {
        "duration": 44,
        "start_time": "2022-04-16T17:08:37.344Z"
      },
      {
        "duration": 1042,
        "start_time": "2022-04-16T17:08:37.389Z"
      },
      {
        "duration": 97,
        "start_time": "2022-04-16T17:08:38.434Z"
      },
      {
        "duration": 299,
        "start_time": "2022-04-16T17:08:38.533Z"
      },
      {
        "duration": 1497,
        "start_time": "2022-04-16T17:08:38.835Z"
      },
      {
        "duration": 208,
        "start_time": "2022-04-16T17:08:40.424Z"
      },
      {
        "duration": 1592,
        "start_time": "2022-04-16T17:08:40.634Z"
      },
      {
        "duration": 8,
        "start_time": "2022-04-16T17:08:42.228Z"
      },
      {
        "duration": 91,
        "start_time": "2022-04-16T17:08:42.239Z"
      },
      {
        "duration": 0,
        "start_time": "2022-04-16T17:08:42.333Z"
      },
      {
        "duration": 0,
        "start_time": "2022-04-16T17:08:42.334Z"
      },
      {
        "duration": 1551,
        "start_time": "2022-04-16T17:10:09.327Z"
      },
      {
        "duration": 3,
        "start_time": "2022-04-16T17:10:10.880Z"
      },
      {
        "duration": 618,
        "start_time": "2022-04-16T17:10:10.885Z"
      },
      {
        "duration": 17,
        "start_time": "2022-04-16T17:10:11.505Z"
      },
      {
        "duration": 14,
        "start_time": "2022-04-16T17:10:11.523Z"
      },
      {
        "duration": 13,
        "start_time": "2022-04-16T17:10:11.538Z"
      },
      {
        "duration": 4,
        "start_time": "2022-04-16T17:10:11.552Z"
      },
      {
        "duration": 4,
        "start_time": "2022-04-16T17:10:11.558Z"
      },
      {
        "duration": 9,
        "start_time": "2022-04-16T17:10:11.564Z"
      },
      {
        "duration": 4,
        "start_time": "2022-04-16T17:10:11.576Z"
      },
      {
        "duration": 7,
        "start_time": "2022-04-16T17:10:11.581Z"
      },
      {
        "duration": 35,
        "start_time": "2022-04-16T17:10:11.589Z"
      },
      {
        "duration": 9,
        "start_time": "2022-04-16T17:10:11.625Z"
      },
      {
        "duration": 18,
        "start_time": "2022-04-16T17:10:11.635Z"
      },
      {
        "duration": 22,
        "start_time": "2022-04-16T17:10:11.655Z"
      },
      {
        "duration": 12,
        "start_time": "2022-04-16T17:10:11.679Z"
      },
      {
        "duration": 4,
        "start_time": "2022-04-16T17:10:11.693Z"
      },
      {
        "duration": 13,
        "start_time": "2022-04-16T17:10:11.723Z"
      },
      {
        "duration": 16,
        "start_time": "2022-04-16T17:10:11.738Z"
      },
      {
        "duration": 6,
        "start_time": "2022-04-16T17:10:11.755Z"
      },
      {
        "duration": 1169,
        "start_time": "2022-04-16T17:10:11.763Z"
      },
      {
        "duration": 472,
        "start_time": "2022-04-16T17:10:12.934Z"
      },
      {
        "duration": 15,
        "start_time": "2022-04-16T17:10:13.408Z"
      },
      {
        "duration": 454,
        "start_time": "2022-04-16T17:10:13.424Z"
      },
      {
        "duration": 4,
        "start_time": "2022-04-16T17:10:13.880Z"
      },
      {
        "duration": 8,
        "start_time": "2022-04-16T17:10:13.885Z"
      },
      {
        "duration": 5,
        "start_time": "2022-04-16T17:10:13.895Z"
      },
      {
        "duration": 21,
        "start_time": "2022-04-16T17:10:13.903Z"
      },
      {
        "duration": 6,
        "start_time": "2022-04-16T17:10:13.926Z"
      },
      {
        "duration": 15,
        "start_time": "2022-04-16T17:10:13.934Z"
      },
      {
        "duration": 28,
        "start_time": "2022-04-16T17:10:13.951Z"
      },
      {
        "duration": 1347,
        "start_time": "2022-04-16T17:10:13.980Z"
      },
      {
        "duration": 104,
        "start_time": "2022-04-16T17:10:15.330Z"
      },
      {
        "duration": 396,
        "start_time": "2022-04-16T17:10:15.435Z"
      },
      {
        "duration": 290,
        "start_time": "2022-04-16T17:10:15.835Z"
      },
      {
        "duration": 0,
        "start_time": "2022-04-16T17:10:16.127Z"
      },
      {
        "duration": 0,
        "start_time": "2022-04-16T17:10:16.128Z"
      },
      {
        "duration": 0,
        "start_time": "2022-04-16T17:10:16.130Z"
      },
      {
        "duration": 0,
        "start_time": "2022-04-16T17:10:16.131Z"
      },
      {
        "duration": 0,
        "start_time": "2022-04-16T17:10:16.133Z"
      },
      {
        "duration": 0,
        "start_time": "2022-04-16T17:10:16.134Z"
      },
      {
        "duration": 1563,
        "start_time": "2022-04-16T17:16:59.125Z"
      },
      {
        "duration": 3,
        "start_time": "2022-04-16T17:17:00.690Z"
      },
      {
        "duration": 623,
        "start_time": "2022-04-16T17:17:00.695Z"
      },
      {
        "duration": 17,
        "start_time": "2022-04-16T17:17:01.320Z"
      },
      {
        "duration": 14,
        "start_time": "2022-04-16T17:17:01.340Z"
      },
      {
        "duration": 12,
        "start_time": "2022-04-16T17:17:01.356Z"
      },
      {
        "duration": 4,
        "start_time": "2022-04-16T17:17:01.370Z"
      },
      {
        "duration": 17,
        "start_time": "2022-04-16T17:17:01.376Z"
      },
      {
        "duration": 8,
        "start_time": "2022-04-16T17:17:01.395Z"
      },
      {
        "duration": 20,
        "start_time": "2022-04-16T17:17:01.405Z"
      },
      {
        "duration": 8,
        "start_time": "2022-04-16T17:17:01.427Z"
      },
      {
        "duration": 4,
        "start_time": "2022-04-16T17:17:01.436Z"
      },
      {
        "duration": 10,
        "start_time": "2022-04-16T17:17:01.441Z"
      },
      {
        "duration": 18,
        "start_time": "2022-04-16T17:17:01.453Z"
      },
      {
        "duration": 22,
        "start_time": "2022-04-16T17:17:01.473Z"
      },
      {
        "duration": 39,
        "start_time": "2022-04-16T17:17:01.496Z"
      },
      {
        "duration": 4,
        "start_time": "2022-04-16T17:17:01.536Z"
      },
      {
        "duration": 16,
        "start_time": "2022-04-16T17:17:01.542Z"
      },
      {
        "duration": 16,
        "start_time": "2022-04-16T17:17:01.560Z"
      },
      {
        "duration": 5,
        "start_time": "2022-04-16T17:17:01.578Z"
      },
      {
        "duration": 1119,
        "start_time": "2022-04-16T17:17:01.585Z"
      },
      {
        "duration": 453,
        "start_time": "2022-04-16T17:17:02.706Z"
      },
      {
        "duration": 7,
        "start_time": "2022-04-16T17:17:03.161Z"
      },
      {
        "duration": 470,
        "start_time": "2022-04-16T17:17:03.170Z"
      },
      {
        "duration": 3,
        "start_time": "2022-04-16T17:17:03.642Z"
      },
      {
        "duration": 10,
        "start_time": "2022-04-16T17:17:03.647Z"
      },
      {
        "duration": 5,
        "start_time": "2022-04-16T17:17:03.659Z"
      },
      {
        "duration": 15,
        "start_time": "2022-04-16T17:17:03.666Z"
      },
      {
        "duration": 50,
        "start_time": "2022-04-16T17:17:03.683Z"
      },
      {
        "duration": 389,
        "start_time": "2022-04-16T17:17:03.734Z"
      },
      {
        "duration": 179,
        "start_time": "2022-04-16T17:17:04.126Z"
      },
      {
        "duration": 0,
        "start_time": "2022-04-16T17:17:04.307Z"
      },
      {
        "duration": 0,
        "start_time": "2022-04-16T17:17:04.308Z"
      },
      {
        "duration": 0,
        "start_time": "2022-04-16T17:17:04.309Z"
      },
      {
        "duration": 0,
        "start_time": "2022-04-16T17:17:04.310Z"
      },
      {
        "duration": 0,
        "start_time": "2022-04-16T17:17:04.322Z"
      },
      {
        "duration": 0,
        "start_time": "2022-04-16T17:17:04.324Z"
      },
      {
        "duration": 1745,
        "start_time": "2022-04-16T17:17:42.679Z"
      },
      {
        "duration": 5,
        "start_time": "2022-04-16T17:18:47.208Z"
      },
      {
        "duration": 4,
        "start_time": "2022-04-16T17:19:01.120Z"
      },
      {
        "duration": 3,
        "start_time": "2022-04-16T17:19:02.940Z"
      },
      {
        "duration": 3,
        "start_time": "2022-04-16T17:19:04.771Z"
      },
      {
        "duration": 1515,
        "start_time": "2022-04-16T17:19:17.317Z"
      },
      {
        "duration": 1504,
        "start_time": "2022-04-16T17:19:42.220Z"
      },
      {
        "duration": 174,
        "start_time": "2022-04-16T17:20:39.664Z"
      },
      {
        "duration": 1766,
        "start_time": "2022-04-16T17:20:42.066Z"
      },
      {
        "duration": 8,
        "start_time": "2022-04-16T17:20:48.105Z"
      },
      {
        "duration": 228,
        "start_time": "2022-04-16T17:23:19.697Z"
      },
      {
        "duration": 4,
        "start_time": "2022-04-16T17:25:52.789Z"
      },
      {
        "duration": 3,
        "start_time": "2022-04-16T17:25:56.004Z"
      },
      {
        "duration": 304,
        "start_time": "2022-04-16T17:26:03.348Z"
      },
      {
        "duration": 2606,
        "start_time": "2022-04-16T17:26:07.005Z"
      },
      {
        "duration": 3,
        "start_time": "2022-04-16T17:26:31.560Z"
      },
      {
        "duration": 2,
        "start_time": "2022-04-16T17:26:34.543Z"
      },
      {
        "duration": 1569,
        "start_time": "2022-04-16T17:26:41.455Z"
      },
      {
        "duration": 316,
        "start_time": "2022-04-16T17:26:46.511Z"
      },
      {
        "duration": 3,
        "start_time": "2022-04-16T17:28:55.665Z"
      },
      {
        "duration": 4,
        "start_time": "2022-04-16T17:28:57.493Z"
      },
      {
        "duration": 3,
        "start_time": "2022-04-16T17:29:00.119Z"
      },
      {
        "duration": 317,
        "start_time": "2022-04-16T17:29:06.313Z"
      },
      {
        "duration": 1782,
        "start_time": "2022-04-16T17:29:09.142Z"
      },
      {
        "duration": 219,
        "start_time": "2022-04-16T17:29:14.813Z"
      },
      {
        "duration": 1284,
        "start_time": "2022-04-16T17:29:17.638Z"
      },
      {
        "duration": 10,
        "start_time": "2022-04-16T17:29:21.756Z"
      },
      {
        "duration": 1520,
        "start_time": "2022-04-16T18:01:47.455Z"
      },
      {
        "duration": 2,
        "start_time": "2022-04-16T18:01:48.978Z"
      },
      {
        "duration": 630,
        "start_time": "2022-04-16T18:01:48.982Z"
      },
      {
        "duration": 17,
        "start_time": "2022-04-16T18:01:49.614Z"
      },
      {
        "duration": 14,
        "start_time": "2022-04-16T18:01:49.633Z"
      },
      {
        "duration": 15,
        "start_time": "2022-04-16T18:01:49.648Z"
      },
      {
        "duration": 16,
        "start_time": "2022-04-16T18:01:49.665Z"
      },
      {
        "duration": 5,
        "start_time": "2022-04-16T18:01:49.683Z"
      },
      {
        "duration": 27,
        "start_time": "2022-04-16T18:01:49.690Z"
      },
      {
        "duration": 6,
        "start_time": "2022-04-16T18:01:49.719Z"
      },
      {
        "duration": 28,
        "start_time": "2022-04-16T18:01:49.727Z"
      },
      {
        "duration": 22,
        "start_time": "2022-04-16T18:01:49.756Z"
      },
      {
        "duration": 12,
        "start_time": "2022-04-16T18:01:49.780Z"
      },
      {
        "duration": 25,
        "start_time": "2022-04-16T18:01:49.796Z"
      },
      {
        "duration": 31,
        "start_time": "2022-04-16T18:01:49.823Z"
      },
      {
        "duration": 20,
        "start_time": "2022-04-16T18:01:49.856Z"
      },
      {
        "duration": 16,
        "start_time": "2022-04-16T18:01:49.878Z"
      },
      {
        "duration": 34,
        "start_time": "2022-04-16T18:01:49.896Z"
      },
      {
        "duration": 21,
        "start_time": "2022-04-16T18:01:49.932Z"
      },
      {
        "duration": 10,
        "start_time": "2022-04-16T18:01:49.955Z"
      },
      {
        "duration": 1102,
        "start_time": "2022-04-16T18:01:49.967Z"
      },
      {
        "duration": 438,
        "start_time": "2022-04-16T18:01:51.070Z"
      },
      {
        "duration": 15,
        "start_time": "2022-04-16T18:01:51.510Z"
      },
      {
        "duration": 445,
        "start_time": "2022-04-16T18:01:51.527Z"
      },
      {
        "duration": 4,
        "start_time": "2022-04-16T18:01:51.973Z"
      },
      {
        "duration": 6,
        "start_time": "2022-04-16T18:01:51.978Z"
      },
      {
        "duration": 4,
        "start_time": "2022-04-16T18:01:51.985Z"
      },
      {
        "duration": 35,
        "start_time": "2022-04-16T18:01:51.990Z"
      },
      {
        "duration": 26,
        "start_time": "2022-04-16T18:01:52.027Z"
      },
      {
        "duration": 169,
        "start_time": "2022-04-16T18:01:52.055Z"
      },
      {
        "duration": 1497,
        "start_time": "2022-04-16T18:01:52.227Z"
      },
      {
        "duration": 427,
        "start_time": "2022-04-16T18:01:53.726Z"
      },
      {
        "duration": 1302,
        "start_time": "2022-04-16T18:01:54.224Z"
      },
      {
        "duration": 8,
        "start_time": "2022-04-16T18:01:55.528Z"
      },
      {
        "duration": 313,
        "start_time": "2022-04-16T18:01:55.538Z"
      },
      {
        "duration": 201,
        "start_time": "2022-04-16T18:01:55.853Z"
      },
      {
        "duration": 11,
        "start_time": "2022-04-16T18:01:56.056Z"
      },
      {
        "duration": 0,
        "start_time": "2022-04-16T18:01:56.068Z"
      },
      {
        "duration": 0,
        "start_time": "2022-04-16T18:01:56.069Z"
      },
      {
        "duration": 0,
        "start_time": "2022-04-16T18:01:56.070Z"
      },
      {
        "duration": 0,
        "start_time": "2022-04-16T18:01:56.071Z"
      },
      {
        "duration": 0,
        "start_time": "2022-04-16T18:01:56.072Z"
      },
      {
        "duration": 0,
        "start_time": "2022-04-16T18:01:56.073Z"
      },
      {
        "duration": 0,
        "start_time": "2022-04-16T18:01:56.074Z"
      },
      {
        "duration": 0,
        "start_time": "2022-04-16T18:01:56.075Z"
      },
      {
        "duration": 214,
        "start_time": "2022-04-16T18:02:39.439Z"
      },
      {
        "duration": 87855,
        "start_time": "2022-04-16T18:03:16.881Z"
      },
      {
        "duration": 87625,
        "start_time": "2022-04-16T18:11:13.944Z"
      },
      {
        "duration": 194,
        "start_time": "2022-04-16T18:12:41.571Z"
      },
      {
        "duration": 10,
        "start_time": "2022-04-16T18:12:41.767Z"
      },
      {
        "duration": 0,
        "start_time": "2022-04-16T18:12:41.779Z"
      },
      {
        "duration": 0,
        "start_time": "2022-04-16T18:12:41.780Z"
      },
      {
        "duration": 0,
        "start_time": "2022-04-16T18:12:41.781Z"
      },
      {
        "duration": 0,
        "start_time": "2022-04-16T18:12:41.782Z"
      },
      {
        "duration": 0,
        "start_time": "2022-04-16T18:12:41.783Z"
      },
      {
        "duration": 0,
        "start_time": "2022-04-16T18:12:41.784Z"
      },
      {
        "duration": 0,
        "start_time": "2022-04-16T18:12:41.785Z"
      },
      {
        "duration": 0,
        "start_time": "2022-04-16T18:12:41.786Z"
      },
      {
        "duration": 86853,
        "start_time": "2022-04-16T18:14:03.382Z"
      },
      {
        "duration": 4,
        "start_time": "2022-04-16T18:15:30.238Z"
      },
      {
        "duration": 874949,
        "start_time": "2022-04-16T18:15:30.244Z"
      },
      {
        "duration": 835058,
        "start_time": "2022-04-16T18:30:05.195Z"
      },
      {
        "duration": 3,
        "start_time": "2022-04-16T18:44:00.255Z"
      },
      {
        "duration": 19328,
        "start_time": "2022-04-16T18:44:00.260Z"
      },
      {
        "duration": 5,
        "start_time": "2022-04-16T18:44:19.589Z"
      },
      {
        "duration": 18516,
        "start_time": "2022-04-16T18:44:19.596Z"
      },
      {
        "duration": 10,
        "start_time": "2022-04-16T18:44:38.114Z"
      },
      {
        "duration": 9,
        "start_time": "2022-04-16T18:44:38.127Z"
      },
      {
        "duration": 3,
        "start_time": "2022-04-16T18:56:31.341Z"
      },
      {
        "duration": 1975,
        "start_time": "2022-04-17T18:04:53.240Z"
      },
      {
        "duration": 3,
        "start_time": "2022-04-17T18:04:55.218Z"
      },
      {
        "duration": 1803,
        "start_time": "2022-04-17T18:04:55.222Z"
      },
      {
        "duration": 18,
        "start_time": "2022-04-17T18:04:57.027Z"
      },
      {
        "duration": 15,
        "start_time": "2022-04-17T18:04:57.047Z"
      },
      {
        "duration": 13,
        "start_time": "2022-04-17T18:04:57.064Z"
      },
      {
        "duration": 4,
        "start_time": "2022-04-17T18:04:57.078Z"
      },
      {
        "duration": 4,
        "start_time": "2022-04-17T18:04:57.084Z"
      },
      {
        "duration": 12,
        "start_time": "2022-04-17T18:04:57.089Z"
      },
      {
        "duration": 12,
        "start_time": "2022-04-17T18:04:57.104Z"
      },
      {
        "duration": 6,
        "start_time": "2022-04-17T18:05:02.457Z"
      },
      {
        "duration": 8,
        "start_time": "2022-04-17T18:05:15.911Z"
      },
      {
        "duration": 8,
        "start_time": "2022-04-17T18:06:22.044Z"
      },
      {
        "duration": 7,
        "start_time": "2022-04-17T18:06:37.284Z"
      },
      {
        "duration": 7,
        "start_time": "2022-04-17T18:06:48.187Z"
      },
      {
        "duration": 2,
        "start_time": "2022-04-17T18:07:00.547Z"
      },
      {
        "duration": 5,
        "start_time": "2022-04-17T18:07:01.275Z"
      },
      {
        "duration": 5,
        "start_time": "2022-04-17T18:07:16.430Z"
      },
      {
        "duration": 8,
        "start_time": "2022-04-17T18:07:52.723Z"
      },
      {
        "duration": 9,
        "start_time": "2022-04-17T18:08:37.752Z"
      },
      {
        "duration": 111,
        "start_time": "2022-04-17T18:08:58.355Z"
      },
      {
        "duration": 10,
        "start_time": "2022-04-17T18:09:03.073Z"
      },
      {
        "duration": 5,
        "start_time": "2022-04-17T18:09:54.838Z"
      },
      {
        "duration": 4,
        "start_time": "2022-04-17T18:09:55.382Z"
      },
      {
        "duration": 3,
        "start_time": "2022-04-17T18:09:55.903Z"
      },
      {
        "duration": 1861,
        "start_time": "2022-04-17T18:10:03.814Z"
      },
      {
        "duration": 3,
        "start_time": "2022-04-17T18:10:05.677Z"
      },
      {
        "duration": 673,
        "start_time": "2022-04-17T18:10:05.681Z"
      },
      {
        "duration": 20,
        "start_time": "2022-04-17T18:10:06.356Z"
      },
      {
        "duration": 15,
        "start_time": "2022-04-17T18:10:06.378Z"
      },
      {
        "duration": 13,
        "start_time": "2022-04-17T18:10:06.395Z"
      },
      {
        "duration": 5,
        "start_time": "2022-04-17T18:10:06.410Z"
      },
      {
        "duration": 10,
        "start_time": "2022-04-17T18:10:06.416Z"
      },
      {
        "duration": 5,
        "start_time": "2022-04-17T18:10:06.454Z"
      },
      {
        "duration": 9,
        "start_time": "2022-04-17T18:10:06.462Z"
      },
      {
        "duration": 9,
        "start_time": "2022-04-17T18:10:06.473Z"
      },
      {
        "duration": 6,
        "start_time": "2022-04-17T18:10:31.204Z"
      },
      {
        "duration": 4,
        "start_time": "2022-04-17T18:10:32.340Z"
      },
      {
        "duration": 4,
        "start_time": "2022-04-17T18:10:33.286Z"
      },
      {
        "duration": 5,
        "start_time": "2022-04-17T18:10:37.978Z"
      },
      {
        "duration": 4,
        "start_time": "2022-04-17T18:10:39.236Z"
      },
      {
        "duration": 5,
        "start_time": "2022-04-17T18:10:40.451Z"
      },
      {
        "duration": 46,
        "start_time": "2022-04-17T19:42:57.106Z"
      },
      {
        "duration": 1650,
        "start_time": "2022-04-17T19:44:18.087Z"
      },
      {
        "duration": 3,
        "start_time": "2022-04-17T19:44:19.739Z"
      },
      {
        "duration": 656,
        "start_time": "2022-04-17T19:44:19.743Z"
      },
      {
        "duration": 19,
        "start_time": "2022-04-17T19:44:20.401Z"
      },
      {
        "duration": 16,
        "start_time": "2022-04-17T19:44:20.422Z"
      },
      {
        "duration": 13,
        "start_time": "2022-04-17T19:44:20.440Z"
      },
      {
        "duration": 4,
        "start_time": "2022-04-17T19:44:20.455Z"
      },
      {
        "duration": 6,
        "start_time": "2022-04-17T19:44:20.460Z"
      },
      {
        "duration": 7,
        "start_time": "2022-04-17T19:44:20.467Z"
      },
      {
        "duration": 31,
        "start_time": "2022-04-17T19:44:20.477Z"
      },
      {
        "duration": 8,
        "start_time": "2022-04-17T19:44:20.510Z"
      },
      {
        "duration": 7,
        "start_time": "2022-04-17T19:44:20.519Z"
      },
      {
        "duration": 10,
        "start_time": "2022-04-17T19:44:20.527Z"
      },
      {
        "duration": 26,
        "start_time": "2022-04-17T19:44:20.538Z"
      },
      {
        "duration": 25,
        "start_time": "2022-04-17T19:44:20.566Z"
      },
      {
        "duration": 26,
        "start_time": "2022-04-17T19:44:20.592Z"
      },
      {
        "duration": 4,
        "start_time": "2022-04-17T19:44:20.620Z"
      },
      {
        "duration": 13,
        "start_time": "2022-04-17T19:44:20.625Z"
      },
      {
        "duration": 18,
        "start_time": "2022-04-17T19:44:20.640Z"
      },
      {
        "duration": 6,
        "start_time": "2022-04-17T19:44:20.660Z"
      },
      {
        "duration": 1292,
        "start_time": "2022-04-17T19:44:20.668Z"
      },
      {
        "duration": 520,
        "start_time": "2022-04-17T19:44:21.962Z"
      },
      {
        "duration": 8,
        "start_time": "2022-04-17T19:44:22.484Z"
      },
      {
        "duration": 515,
        "start_time": "2022-04-17T19:44:22.494Z"
      },
      {
        "duration": 3,
        "start_time": "2022-04-17T19:44:23.011Z"
      },
      {
        "duration": 7,
        "start_time": "2022-04-17T19:44:23.015Z"
      },
      {
        "duration": 5,
        "start_time": "2022-04-17T19:44:23.023Z"
      },
      {
        "duration": 2,
        "start_time": "2022-04-17T19:44:23.031Z"
      },
      {
        "duration": 4,
        "start_time": "2022-04-17T19:44:23.035Z"
      },
      {
        "duration": 74,
        "start_time": "2022-04-17T19:44:35.560Z"
      },
      {
        "duration": 12,
        "start_time": "2022-04-17T19:44:46.292Z"
      },
      {
        "duration": 10288,
        "start_time": "2022-04-17T19:44:52.101Z"
      },
      {
        "duration": 6,
        "start_time": "2022-04-17T19:45:19.943Z"
      },
      {
        "duration": 9,
        "start_time": "2022-04-17T19:45:22.529Z"
      },
      {
        "duration": 18470,
        "start_time": "2022-04-17T19:45:45.664Z"
      },
      {
        "duration": 5,
        "start_time": "2022-04-17T19:46:06.041Z"
      },
      {
        "duration": 3,
        "start_time": "2022-04-17T19:46:11.319Z"
      },
      {
        "duration": 582,
        "start_time": "2022-04-17T19:51:55.026Z"
      },
      {
        "duration": 9,
        "start_time": "2022-04-17T19:54:12.203Z"
      },
      {
        "duration": 9,
        "start_time": "2022-04-17T19:54:25.068Z"
      },
      {
        "duration": 4,
        "start_time": "2022-04-17T20:52:09.826Z"
      },
      {
        "duration": 27,
        "start_time": "2022-04-17T20:52:09.831Z"
      },
      {
        "duration": 695,
        "start_time": "2022-04-17T20:52:09.860Z"
      },
      {
        "duration": 16,
        "start_time": "2022-04-17T20:52:10.557Z"
      },
      {
        "duration": 14,
        "start_time": "2022-04-17T20:52:10.575Z"
      },
      {
        "duration": 11,
        "start_time": "2022-04-17T20:52:10.591Z"
      },
      {
        "duration": 4,
        "start_time": "2022-04-17T20:52:10.604Z"
      },
      {
        "duration": 4,
        "start_time": "2022-04-17T20:52:10.609Z"
      },
      {
        "duration": 40,
        "start_time": "2022-04-17T20:52:10.615Z"
      },
      {
        "duration": 4,
        "start_time": "2022-04-17T20:52:10.656Z"
      },
      {
        "duration": 9,
        "start_time": "2022-04-17T20:52:10.661Z"
      },
      {
        "duration": 6,
        "start_time": "2022-04-17T20:52:10.671Z"
      },
      {
        "duration": 8,
        "start_time": "2022-04-17T20:52:10.679Z"
      },
      {
        "duration": 16,
        "start_time": "2022-04-17T20:52:10.689Z"
      },
      {
        "duration": 25,
        "start_time": "2022-04-17T20:52:10.707Z"
      },
      {
        "duration": 31,
        "start_time": "2022-04-17T20:52:10.734Z"
      },
      {
        "duration": 4,
        "start_time": "2022-04-17T20:52:10.766Z"
      },
      {
        "duration": 13,
        "start_time": "2022-04-17T20:52:10.772Z"
      },
      {
        "duration": 27,
        "start_time": "2022-04-17T20:52:10.787Z"
      },
      {
        "duration": 9,
        "start_time": "2022-04-17T20:52:10.815Z"
      },
      {
        "duration": 2019,
        "start_time": "2022-04-17T20:52:10.826Z"
      },
      {
        "duration": 465,
        "start_time": "2022-04-17T20:52:12.847Z"
      },
      {
        "duration": 8,
        "start_time": "2022-04-17T20:52:13.314Z"
      },
      {
        "duration": 352,
        "start_time": "2022-04-17T20:52:13.324Z"
      },
      {
        "duration": 6,
        "start_time": "2022-04-17T20:53:50.062Z"
      },
      {
        "duration": 6,
        "start_time": "2022-04-17T20:54:05.896Z"
      },
      {
        "duration": 5,
        "start_time": "2022-04-17T20:54:25.311Z"
      },
      {
        "duration": 5,
        "start_time": "2022-04-17T20:54:32.898Z"
      },
      {
        "duration": 105,
        "start_time": "2022-04-17T20:55:03.003Z"
      },
      {
        "duration": 16,
        "start_time": "2022-04-17T20:55:07.231Z"
      },
      {
        "duration": 15,
        "start_time": "2022-04-17T20:55:13.106Z"
      },
      {
        "duration": 15,
        "start_time": "2022-04-17T20:55:28.538Z"
      },
      {
        "duration": 5,
        "start_time": "2022-04-17T20:55:39.271Z"
      },
      {
        "duration": 20,
        "start_time": "2022-04-17T20:57:15.653Z"
      },
      {
        "duration": 14,
        "start_time": "2022-04-17T20:57:35.106Z"
      },
      {
        "duration": 14,
        "start_time": "2022-04-17T20:57:44.240Z"
      },
      {
        "duration": 5,
        "start_time": "2022-04-17T20:57:48.174Z"
      },
      {
        "duration": 6,
        "start_time": "2022-04-17T20:58:27.241Z"
      },
      {
        "duration": 152,
        "start_time": "2022-04-17T20:58:38.684Z"
      },
      {
        "duration": 2385,
        "start_time": "2022-04-17T20:59:00.273Z"
      },
      {
        "duration": 3,
        "start_time": "2022-04-17T21:00:29.579Z"
      },
      {
        "duration": 6,
        "start_time": "2022-04-17T21:00:29.584Z"
      },
      {
        "duration": 644,
        "start_time": "2022-04-17T21:00:29.591Z"
      },
      {
        "duration": 17,
        "start_time": "2022-04-17T21:00:30.237Z"
      },
      {
        "duration": 22,
        "start_time": "2022-04-17T21:00:30.256Z"
      },
      {
        "duration": 12,
        "start_time": "2022-04-17T21:00:30.279Z"
      },
      {
        "duration": 3,
        "start_time": "2022-04-17T21:00:30.293Z"
      },
      {
        "duration": 11,
        "start_time": "2022-04-17T21:00:30.298Z"
      },
      {
        "duration": 15,
        "start_time": "2022-04-17T21:00:30.311Z"
      },
      {
        "duration": 11,
        "start_time": "2022-04-17T21:00:30.327Z"
      },
      {
        "duration": 17,
        "start_time": "2022-04-17T21:00:30.341Z"
      },
      {
        "duration": 13,
        "start_time": "2022-04-17T21:00:30.360Z"
      },
      {
        "duration": 12,
        "start_time": "2022-04-17T21:00:30.375Z"
      },
      {
        "duration": 16,
        "start_time": "2022-04-17T21:00:30.388Z"
      },
      {
        "duration": 18,
        "start_time": "2022-04-17T21:00:30.405Z"
      },
      {
        "duration": 12,
        "start_time": "2022-04-17T21:00:30.425Z"
      },
      {
        "duration": 15,
        "start_time": "2022-04-17T21:00:30.439Z"
      },
      {
        "duration": 12,
        "start_time": "2022-04-17T21:00:30.456Z"
      },
      {
        "duration": 9,
        "start_time": "2022-04-17T21:00:30.469Z"
      },
      {
        "duration": 11,
        "start_time": "2022-04-17T21:00:30.479Z"
      },
      {
        "duration": 1032,
        "start_time": "2022-04-17T21:00:30.492Z"
      },
      {
        "duration": 586,
        "start_time": "2022-04-17T21:00:31.526Z"
      },
      {
        "duration": 8,
        "start_time": "2022-04-17T21:00:32.114Z"
      },
      {
        "duration": 376,
        "start_time": "2022-04-17T21:00:32.124Z"
      },
      {
        "duration": 6,
        "start_time": "2022-04-17T21:00:48.079Z"
      },
      {
        "duration": 30,
        "start_time": "2022-04-17T21:00:53.355Z"
      },
      {
        "duration": 4,
        "start_time": "2022-04-17T21:01:38.050Z"
      },
      {
        "duration": 18,
        "start_time": "2022-04-17T21:01:39.347Z"
      },
      {
        "duration": 32,
        "start_time": "2022-04-17T21:01:48.748Z"
      },
      {
        "duration": 4,
        "start_time": "2022-04-17T21:02:06.112Z"
      },
      {
        "duration": 9,
        "start_time": "2022-04-17T21:02:06.117Z"
      },
      {
        "duration": 624,
        "start_time": "2022-04-17T21:02:06.127Z"
      },
      {
        "duration": 17,
        "start_time": "2022-04-17T21:02:06.753Z"
      },
      {
        "duration": 14,
        "start_time": "2022-04-17T21:02:06.771Z"
      },
      {
        "duration": 12,
        "start_time": "2022-04-17T21:02:06.786Z"
      },
      {
        "duration": 3,
        "start_time": "2022-04-17T21:02:06.799Z"
      },
      {
        "duration": 4,
        "start_time": "2022-04-17T21:02:06.804Z"
      },
      {
        "duration": 7,
        "start_time": "2022-04-17T21:02:06.809Z"
      },
      {
        "duration": 36,
        "start_time": "2022-04-17T21:02:06.818Z"
      },
      {
        "duration": 4,
        "start_time": "2022-04-17T21:02:06.856Z"
      },
      {
        "duration": 4,
        "start_time": "2022-04-17T21:02:06.861Z"
      },
      {
        "duration": 7,
        "start_time": "2022-04-17T21:02:06.866Z"
      },
      {
        "duration": 16,
        "start_time": "2022-04-17T21:02:06.874Z"
      },
      {
        "duration": 19,
        "start_time": "2022-04-17T21:02:06.892Z"
      },
      {
        "duration": 14,
        "start_time": "2022-04-17T21:02:06.912Z"
      },
      {
        "duration": 27,
        "start_time": "2022-04-17T21:02:06.928Z"
      },
      {
        "duration": 12,
        "start_time": "2022-04-17T21:02:06.957Z"
      },
      {
        "duration": 3,
        "start_time": "2022-04-17T21:02:06.970Z"
      },
      {
        "duration": 12,
        "start_time": "2022-04-17T21:02:06.974Z"
      },
      {
        "duration": 1125,
        "start_time": "2022-04-17T21:02:06.988Z"
      },
      {
        "duration": 458,
        "start_time": "2022-04-17T21:02:08.115Z"
      },
      {
        "duration": 7,
        "start_time": "2022-04-17T21:02:08.575Z"
      },
      {
        "duration": 337,
        "start_time": "2022-04-17T21:02:08.583Z"
      },
      {
        "duration": 32,
        "start_time": "2022-04-17T21:02:10.466Z"
      },
      {
        "duration": 53,
        "start_time": "2022-04-17T21:02:58.589Z"
      },
      {
        "duration": 55,
        "start_time": "2022-04-17T21:03:10.376Z"
      },
      {
        "duration": 367,
        "start_time": "2022-04-17T21:04:45.606Z"
      },
      {
        "duration": 365,
        "start_time": "2022-04-17T21:04:53.024Z"
      },
      {
        "duration": 41,
        "start_time": "2022-04-17T21:05:04.768Z"
      },
      {
        "duration": 26,
        "start_time": "2022-04-17T21:05:38.405Z"
      },
      {
        "duration": 1592,
        "start_time": "2022-04-17T21:08:08.274Z"
      },
      {
        "duration": 2,
        "start_time": "2022-04-17T21:08:09.868Z"
      },
      {
        "duration": 635,
        "start_time": "2022-04-17T21:08:09.872Z"
      },
      {
        "duration": 17,
        "start_time": "2022-04-17T21:08:10.509Z"
      },
      {
        "duration": 32,
        "start_time": "2022-04-17T21:08:10.527Z"
      },
      {
        "duration": 13,
        "start_time": "2022-04-17T21:08:10.562Z"
      },
      {
        "duration": 4,
        "start_time": "2022-04-17T21:08:10.577Z"
      },
      {
        "duration": 5,
        "start_time": "2022-04-17T21:08:10.582Z"
      },
      {
        "duration": 9,
        "start_time": "2022-04-17T21:08:10.589Z"
      },
      {
        "duration": 3,
        "start_time": "2022-04-17T21:08:10.601Z"
      },
      {
        "duration": 7,
        "start_time": "2022-04-17T21:08:10.605Z"
      },
      {
        "duration": 4,
        "start_time": "2022-04-17T21:08:10.613Z"
      },
      {
        "duration": 36,
        "start_time": "2022-04-17T21:08:10.619Z"
      },
      {
        "duration": 17,
        "start_time": "2022-04-17T21:08:10.657Z"
      },
      {
        "duration": 22,
        "start_time": "2022-04-17T21:08:10.675Z"
      },
      {
        "duration": 12,
        "start_time": "2022-04-17T21:08:10.698Z"
      },
      {
        "duration": 3,
        "start_time": "2022-04-17T21:08:10.712Z"
      },
      {
        "duration": 42,
        "start_time": "2022-04-17T21:08:10.717Z"
      },
      {
        "duration": 3,
        "start_time": "2022-04-17T21:08:10.760Z"
      },
      {
        "duration": 10,
        "start_time": "2022-04-17T21:08:10.764Z"
      },
      {
        "duration": 1080,
        "start_time": "2022-04-17T21:08:10.775Z"
      },
      {
        "duration": 428,
        "start_time": "2022-04-17T21:08:11.857Z"
      },
      {
        "duration": 8,
        "start_time": "2022-04-17T21:08:12.287Z"
      },
      {
        "duration": 449,
        "start_time": "2022-04-17T21:08:12.296Z"
      },
      {
        "duration": 31,
        "start_time": "2022-04-17T21:08:12.754Z"
      },
      {
        "duration": 2358,
        "start_time": "2022-04-19T16:17:39.581Z"
      },
      {
        "duration": 4,
        "start_time": "2022-04-19T16:17:41.943Z"
      },
      {
        "duration": 917,
        "start_time": "2022-04-19T16:17:41.949Z"
      },
      {
        "duration": 28,
        "start_time": "2022-04-19T16:17:42.868Z"
      },
      {
        "duration": 44,
        "start_time": "2022-04-19T16:17:42.900Z"
      },
      {
        "duration": 77,
        "start_time": "2022-04-19T16:17:42.947Z"
      },
      {
        "duration": 7,
        "start_time": "2022-04-19T16:17:43.028Z"
      },
      {
        "duration": 18,
        "start_time": "2022-04-19T16:17:43.037Z"
      },
      {
        "duration": 10,
        "start_time": "2022-04-19T16:17:43.058Z"
      },
      {
        "duration": 6,
        "start_time": "2022-04-19T16:17:43.070Z"
      },
      {
        "duration": 8,
        "start_time": "2022-04-19T16:17:43.125Z"
      },
      {
        "duration": 20,
        "start_time": "2022-04-19T16:17:43.135Z"
      },
      {
        "duration": 14,
        "start_time": "2022-04-19T16:17:43.158Z"
      },
      {
        "duration": 26,
        "start_time": "2022-04-19T16:17:43.177Z"
      },
      {
        "duration": 53,
        "start_time": "2022-04-19T16:17:43.206Z"
      },
      {
        "duration": 26,
        "start_time": "2022-04-19T16:17:43.262Z"
      },
      {
        "duration": 41,
        "start_time": "2022-04-19T16:17:43.290Z"
      },
      {
        "duration": 36,
        "start_time": "2022-04-19T16:17:43.335Z"
      },
      {
        "duration": 4,
        "start_time": "2022-04-19T16:17:43.374Z"
      },
      {
        "duration": 14,
        "start_time": "2022-04-19T16:17:43.381Z"
      },
      {
        "duration": 2195,
        "start_time": "2022-04-19T16:17:43.397Z"
      },
      {
        "duration": 855,
        "start_time": "2022-04-19T16:17:45.594Z"
      },
      {
        "duration": 13,
        "start_time": "2022-04-19T16:17:46.452Z"
      },
      {
        "duration": 817,
        "start_time": "2022-04-19T16:17:46.467Z"
      },
      {
        "duration": 203,
        "start_time": "2022-04-19T16:21:11.510Z"
      },
      {
        "duration": 33,
        "start_time": "2022-04-19T16:21:21.521Z"
      },
      {
        "duration": 33,
        "start_time": "2022-04-19T16:24:16.547Z"
      },
      {
        "duration": 89,
        "start_time": "2022-04-19T16:28:25.483Z"
      },
      {
        "duration": 12,
        "start_time": "2022-04-19T16:28:43.769Z"
      },
      {
        "duration": 662,
        "start_time": "2022-04-19T16:28:46.943Z"
      },
      {
        "duration": 8,
        "start_time": "2022-04-19T16:30:52.340Z"
      },
      {
        "duration": 2060,
        "start_time": "2022-04-19T16:30:56.612Z"
      },
      {
        "duration": 20,
        "start_time": "2022-04-19T16:31:45.172Z"
      },
      {
        "duration": 6,
        "start_time": "2022-04-19T16:31:53.511Z"
      },
      {
        "duration": 28,
        "start_time": "2022-04-19T16:31:53.521Z"
      },
      {
        "duration": 1191,
        "start_time": "2022-04-19T16:31:53.552Z"
      },
      {
        "duration": 28,
        "start_time": "2022-04-19T16:31:54.749Z"
      },
      {
        "duration": 47,
        "start_time": "2022-04-19T16:31:54.780Z"
      },
      {
        "duration": 30,
        "start_time": "2022-04-19T16:31:54.830Z"
      },
      {
        "duration": 6,
        "start_time": "2022-04-19T16:31:54.863Z"
      },
      {
        "duration": 6,
        "start_time": "2022-04-19T16:31:54.872Z"
      },
      {
        "duration": 7,
        "start_time": "2022-04-19T16:31:54.883Z"
      },
      {
        "duration": 7,
        "start_time": "2022-04-19T16:31:54.926Z"
      },
      {
        "duration": 22,
        "start_time": "2022-04-19T16:31:54.936Z"
      },
      {
        "duration": 4,
        "start_time": "2022-04-19T16:31:54.961Z"
      },
      {
        "duration": 10,
        "start_time": "2022-04-19T16:31:54.968Z"
      },
      {
        "duration": 51,
        "start_time": "2022-04-19T16:31:54.980Z"
      },
      {
        "duration": 25,
        "start_time": "2022-04-19T16:31:55.033Z"
      },
      {
        "duration": 21,
        "start_time": "2022-04-19T16:31:55.061Z"
      },
      {
        "duration": 5,
        "start_time": "2022-04-19T16:31:55.085Z"
      },
      {
        "duration": 30,
        "start_time": "2022-04-19T16:31:55.124Z"
      },
      {
        "duration": 6,
        "start_time": "2022-04-19T16:31:55.156Z"
      },
      {
        "duration": 61,
        "start_time": "2022-04-19T16:31:55.164Z"
      },
      {
        "duration": 1986,
        "start_time": "2022-04-19T16:31:55.227Z"
      },
      {
        "duration": 1153,
        "start_time": "2022-04-19T16:31:57.216Z"
      },
      {
        "duration": 11,
        "start_time": "2022-04-19T16:31:58.372Z"
      },
      {
        "duration": 1039,
        "start_time": "2022-04-19T16:31:58.388Z"
      },
      {
        "duration": 86,
        "start_time": "2022-04-19T16:32:01.415Z"
      },
      {
        "duration": 10,
        "start_time": "2022-04-19T16:32:03.957Z"
      },
      {
        "duration": 655,
        "start_time": "2022-04-19T16:32:07.252Z"
      },
      {
        "duration": 7,
        "start_time": "2022-04-19T16:32:11.671Z"
      },
      {
        "duration": 2233,
        "start_time": "2022-04-19T16:32:14.238Z"
      },
      {
        "duration": 23,
        "start_time": "2022-04-19T16:33:39.049Z"
      },
      {
        "duration": 6,
        "start_time": "2022-04-19T16:33:45.880Z"
      },
      {
        "duration": 43,
        "start_time": "2022-04-19T16:33:45.888Z"
      },
      {
        "duration": 846,
        "start_time": "2022-04-19T16:33:45.933Z"
      },
      {
        "duration": 29,
        "start_time": "2022-04-19T16:33:46.781Z"
      },
      {
        "duration": 44,
        "start_time": "2022-04-19T16:33:46.812Z"
      },
      {
        "duration": 22,
        "start_time": "2022-04-19T16:33:46.859Z"
      },
      {
        "duration": 40,
        "start_time": "2022-04-19T16:33:46.884Z"
      },
      {
        "duration": 6,
        "start_time": "2022-04-19T16:33:46.926Z"
      },
      {
        "duration": 19,
        "start_time": "2022-04-19T16:33:46.937Z"
      },
      {
        "duration": 9,
        "start_time": "2022-04-19T16:33:46.958Z"
      },
      {
        "duration": 9,
        "start_time": "2022-04-19T16:33:46.970Z"
      },
      {
        "duration": 11,
        "start_time": "2022-04-19T16:33:46.981Z"
      },
      {
        "duration": 41,
        "start_time": "2022-04-19T16:33:46.995Z"
      },
      {
        "duration": 32,
        "start_time": "2022-04-19T16:33:47.044Z"
      },
      {
        "duration": 54,
        "start_time": "2022-04-19T16:33:47.079Z"
      },
      {
        "duration": 23,
        "start_time": "2022-04-19T16:33:47.135Z"
      },
      {
        "duration": 5,
        "start_time": "2022-04-19T16:33:47.160Z"
      },
      {
        "duration": 24,
        "start_time": "2022-04-19T16:33:47.167Z"
      },
      {
        "duration": 33,
        "start_time": "2022-04-19T16:33:47.194Z"
      },
      {
        "duration": 14,
        "start_time": "2022-04-19T16:33:47.229Z"
      },
      {
        "duration": 2247,
        "start_time": "2022-04-19T16:33:47.246Z"
      },
      {
        "duration": 876,
        "start_time": "2022-04-19T16:33:49.496Z"
      },
      {
        "duration": 11,
        "start_time": "2022-04-19T16:33:50.374Z"
      },
      {
        "duration": 886,
        "start_time": "2022-04-19T16:33:50.390Z"
      },
      {
        "duration": 62,
        "start_time": "2022-04-19T16:33:53.854Z"
      },
      {
        "duration": 66,
        "start_time": "2022-04-19T16:34:18.108Z"
      },
      {
        "duration": 61,
        "start_time": "2022-04-19T16:36:58.549Z"
      },
      {
        "duration": 64,
        "start_time": "2022-04-19T16:37:08.549Z"
      },
      {
        "duration": 7,
        "start_time": "2022-04-19T16:37:24.815Z"
      },
      {
        "duration": 13,
        "start_time": "2022-04-19T16:37:24.825Z"
      },
      {
        "duration": 1368,
        "start_time": "2022-04-19T16:37:24.842Z"
      },
      {
        "duration": 41,
        "start_time": "2022-04-19T16:37:26.214Z"
      },
      {
        "duration": 41,
        "start_time": "2022-04-19T16:37:26.258Z"
      },
      {
        "duration": 250,
        "start_time": "2022-04-19T16:37:26.302Z"
      },
      {
        "duration": 7,
        "start_time": "2022-04-19T16:37:26.556Z"
      },
      {
        "duration": 14,
        "start_time": "2022-04-19T16:37:26.567Z"
      },
      {
        "duration": 11,
        "start_time": "2022-04-19T16:37:26.587Z"
      },
      {
        "duration": 6,
        "start_time": "2022-04-19T16:37:26.630Z"
      },
      {
        "duration": 11,
        "start_time": "2022-04-19T16:37:26.640Z"
      },
      {
        "duration": 10,
        "start_time": "2022-04-19T16:37:26.653Z"
      },
      {
        "duration": 10,
        "start_time": "2022-04-19T16:37:26.665Z"
      },
      {
        "duration": 70,
        "start_time": "2022-04-19T16:37:26.678Z"
      },
      {
        "duration": 25,
        "start_time": "2022-04-19T16:37:26.751Z"
      },
      {
        "duration": 28,
        "start_time": "2022-04-19T16:37:26.779Z"
      },
      {
        "duration": 28,
        "start_time": "2022-04-19T16:37:26.809Z"
      },
      {
        "duration": 27,
        "start_time": "2022-04-19T16:37:26.840Z"
      },
      {
        "duration": 3,
        "start_time": "2022-04-19T16:37:26.870Z"
      },
      {
        "duration": 16,
        "start_time": "2022-04-19T16:37:26.876Z"
      },
      {
        "duration": 2013,
        "start_time": "2022-04-19T16:37:26.894Z"
      },
      {
        "duration": 880,
        "start_time": "2022-04-19T16:37:28.910Z"
      },
      {
        "duration": 11,
        "start_time": "2022-04-19T16:37:29.792Z"
      },
      {
        "duration": 962,
        "start_time": "2022-04-19T16:37:29.827Z"
      },
      {
        "duration": 79,
        "start_time": "2022-04-19T16:42:38.773Z"
      },
      {
        "duration": 10,
        "start_time": "2022-04-19T16:42:42.578Z"
      },
      {
        "duration": 669,
        "start_time": "2022-04-19T16:42:44.880Z"
      },
      {
        "duration": 10,
        "start_time": "2022-04-19T16:42:54.823Z"
      },
      {
        "duration": 2168,
        "start_time": "2022-04-19T16:42:56.801Z"
      },
      {
        "duration": 30,
        "start_time": "2022-04-19T16:43:19.171Z"
      },
      {
        "duration": 6,
        "start_time": "2022-04-19T16:43:24.641Z"
      },
      {
        "duration": 10,
        "start_time": "2022-04-19T16:43:24.650Z"
      },
      {
        "duration": 833,
        "start_time": "2022-04-19T16:43:24.663Z"
      },
      {
        "duration": 33,
        "start_time": "2022-04-19T16:43:25.499Z"
      },
      {
        "duration": 40,
        "start_time": "2022-04-19T16:43:25.535Z"
      },
      {
        "duration": 50,
        "start_time": "2022-04-19T16:43:25.578Z"
      },
      {
        "duration": 6,
        "start_time": "2022-04-19T16:43:25.632Z"
      },
      {
        "duration": 10,
        "start_time": "2022-04-19T16:43:25.640Z"
      },
      {
        "duration": 8,
        "start_time": "2022-04-19T16:43:25.652Z"
      },
      {
        "duration": 5,
        "start_time": "2022-04-19T16:43:25.664Z"
      },
      {
        "duration": 7,
        "start_time": "2022-04-19T16:43:25.671Z"
      },
      {
        "duration": 5,
        "start_time": "2022-04-19T16:43:25.680Z"
      },
      {
        "duration": 43,
        "start_time": "2022-04-19T16:43:25.687Z"
      },
      {
        "duration": 31,
        "start_time": "2022-04-19T16:43:25.733Z"
      },
      {
        "duration": 33,
        "start_time": "2022-04-19T16:43:25.767Z"
      },
      {
        "duration": 46,
        "start_time": "2022-04-19T16:43:25.803Z"
      },
      {
        "duration": 6,
        "start_time": "2022-04-19T16:43:25.852Z"
      },
      {
        "duration": 22,
        "start_time": "2022-04-19T16:43:25.860Z"
      },
      {
        "duration": 4,
        "start_time": "2022-04-19T16:43:25.884Z"
      },
      {
        "duration": 50,
        "start_time": "2022-04-19T16:43:25.890Z"
      },
      {
        "duration": 3343,
        "start_time": "2022-04-19T16:43:25.943Z"
      },
      {
        "duration": 1466,
        "start_time": "2022-04-19T16:43:29.289Z"
      },
      {
        "duration": 13,
        "start_time": "2022-04-19T16:43:30.759Z"
      },
      {
        "duration": 988,
        "start_time": "2022-04-19T16:43:30.775Z"
      },
      {
        "duration": 61,
        "start_time": "2022-04-19T16:43:34.042Z"
      },
      {
        "duration": 29758,
        "start_time": "2022-04-19T16:45:24.614Z"
      },
      {
        "duration": 14,
        "start_time": "2022-04-19T16:45:58.584Z"
      },
      {
        "duration": 673,
        "start_time": "2022-04-19T16:46:00.693Z"
      },
      {
        "duration": 8,
        "start_time": "2022-04-19T16:46:05.244Z"
      },
      {
        "duration": 2040,
        "start_time": "2022-04-19T16:46:07.445Z"
      },
      {
        "duration": 6,
        "start_time": "2022-04-19T16:47:09.539Z"
      },
      {
        "duration": 11,
        "start_time": "2022-04-19T16:47:09.547Z"
      },
      {
        "duration": 825,
        "start_time": "2022-04-19T16:47:09.561Z"
      },
      {
        "duration": 27,
        "start_time": "2022-04-19T16:47:10.388Z"
      },
      {
        "duration": 31,
        "start_time": "2022-04-19T16:47:10.426Z"
      },
      {
        "duration": 21,
        "start_time": "2022-04-19T16:47:10.459Z"
      },
      {
        "duration": 6,
        "start_time": "2022-04-19T16:47:10.483Z"
      },
      {
        "duration": 11,
        "start_time": "2022-04-19T16:47:10.531Z"
      },
      {
        "duration": 14,
        "start_time": "2022-04-19T16:47:10.545Z"
      },
      {
        "duration": 30,
        "start_time": "2022-04-19T16:47:10.561Z"
      },
      {
        "duration": 11,
        "start_time": "2022-04-19T16:47:10.593Z"
      },
      {
        "duration": 10,
        "start_time": "2022-04-19T16:47:10.607Z"
      },
      {
        "duration": 18,
        "start_time": "2022-04-19T16:47:10.619Z"
      },
      {
        "duration": 28,
        "start_time": "2022-04-19T16:47:10.642Z"
      },
      {
        "duration": 22,
        "start_time": "2022-04-19T16:47:10.673Z"
      },
      {
        "duration": 44,
        "start_time": "2022-04-19T16:47:10.698Z"
      },
      {
        "duration": 6,
        "start_time": "2022-04-19T16:47:10.745Z"
      },
      {
        "duration": 30,
        "start_time": "2022-04-19T16:47:10.753Z"
      },
      {
        "duration": 3,
        "start_time": "2022-04-19T16:47:10.786Z"
      },
      {
        "duration": 53,
        "start_time": "2022-04-19T16:47:10.791Z"
      },
      {
        "duration": 2188,
        "start_time": "2022-04-19T16:47:10.846Z"
      },
      {
        "duration": 864,
        "start_time": "2022-04-19T16:47:13.039Z"
      },
      {
        "duration": 21,
        "start_time": "2022-04-19T16:47:13.905Z"
      },
      {
        "duration": 811,
        "start_time": "2022-04-19T16:47:13.928Z"
      },
      {
        "duration": 26337,
        "start_time": "2022-04-19T16:47:17.636Z"
      },
      {
        "duration": 13,
        "start_time": "2022-04-19T16:47:47.422Z"
      },
      {
        "duration": 667,
        "start_time": "2022-04-19T16:47:50.085Z"
      },
      {
        "duration": 15,
        "start_time": "2022-04-19T16:47:52.931Z"
      },
      {
        "duration": 2160,
        "start_time": "2022-04-19T16:47:55.290Z"
      },
      {
        "duration": 7,
        "start_time": "2022-04-19T16:49:54.746Z"
      },
      {
        "duration": 12,
        "start_time": "2022-04-19T16:49:54.757Z"
      },
      {
        "duration": 923,
        "start_time": "2022-04-19T16:49:54.771Z"
      },
      {
        "duration": 51,
        "start_time": "2022-04-19T16:49:55.697Z"
      },
      {
        "duration": 28,
        "start_time": "2022-04-19T16:49:55.752Z"
      },
      {
        "duration": 57,
        "start_time": "2022-04-19T16:49:55.782Z"
      },
      {
        "duration": 8,
        "start_time": "2022-04-19T16:49:55.848Z"
      },
      {
        "duration": 7,
        "start_time": "2022-04-19T16:49:55.859Z"
      },
      {
        "duration": 11,
        "start_time": "2022-04-19T16:49:55.868Z"
      },
      {
        "duration": 9,
        "start_time": "2022-04-19T16:49:55.882Z"
      },
      {
        "duration": 9,
        "start_time": "2022-04-19T16:49:55.893Z"
      },
      {
        "duration": 23,
        "start_time": "2022-04-19T16:49:55.905Z"
      },
      {
        "duration": 29,
        "start_time": "2022-04-19T16:49:55.937Z"
      },
      {
        "duration": 22,
        "start_time": "2022-04-19T16:49:55.972Z"
      },
      {
        "duration": 47,
        "start_time": "2022-04-19T16:49:55.997Z"
      },
      {
        "duration": 24,
        "start_time": "2022-04-19T16:49:56.047Z"
      },
      {
        "duration": 6,
        "start_time": "2022-04-19T16:49:56.073Z"
      },
      {
        "duration": 31,
        "start_time": "2022-04-19T16:49:56.081Z"
      },
      {
        "duration": 30,
        "start_time": "2022-04-19T16:49:56.114Z"
      },
      {
        "duration": 24,
        "start_time": "2022-04-19T16:49:56.147Z"
      },
      {
        "duration": 2109,
        "start_time": "2022-04-19T16:49:56.173Z"
      },
      {
        "duration": 1155,
        "start_time": "2022-04-19T16:49:58.284Z"
      },
      {
        "duration": 22,
        "start_time": "2022-04-19T16:49:59.442Z"
      },
      {
        "duration": 724,
        "start_time": "2022-04-19T16:49:59.467Z"
      },
      {
        "duration": 63,
        "start_time": "2022-04-19T16:50:03.447Z"
      },
      {
        "duration": 231,
        "start_time": "2022-04-19T16:50:46.208Z"
      },
      {
        "duration": 11,
        "start_time": "2022-04-19T16:50:49.004Z"
      },
      {
        "duration": 713,
        "start_time": "2022-04-19T16:50:51.124Z"
      },
      {
        "duration": 11,
        "start_time": "2022-04-19T16:50:57.620Z"
      },
      {
        "duration": 2499,
        "start_time": "2022-04-19T16:50:59.810Z"
      },
      {
        "duration": 6,
        "start_time": "2022-04-19T16:51:26.638Z"
      },
      {
        "duration": 14,
        "start_time": "2022-04-19T16:51:26.648Z"
      },
      {
        "duration": 901,
        "start_time": "2022-04-19T16:51:26.665Z"
      },
      {
        "duration": 26,
        "start_time": "2022-04-19T16:51:27.569Z"
      },
      {
        "duration": 49,
        "start_time": "2022-04-19T16:51:27.597Z"
      },
      {
        "duration": 19,
        "start_time": "2022-04-19T16:51:27.648Z"
      },
      {
        "duration": 6,
        "start_time": "2022-04-19T16:51:27.669Z"
      },
      {
        "duration": 8,
        "start_time": "2022-04-19T16:51:27.678Z"
      },
      {
        "duration": 49,
        "start_time": "2022-04-19T16:51:27.690Z"
      },
      {
        "duration": 16,
        "start_time": "2022-04-19T16:51:27.741Z"
      },
      {
        "duration": 14,
        "start_time": "2022-04-19T16:51:27.760Z"
      },
      {
        "duration": 7,
        "start_time": "2022-04-19T16:51:27.777Z"
      },
      {
        "duration": 10,
        "start_time": "2022-04-19T16:51:27.786Z"
      },
      {
        "duration": 38,
        "start_time": "2022-04-19T16:51:27.799Z"
      },
      {
        "duration": 41,
        "start_time": "2022-04-19T16:51:27.841Z"
      },
      {
        "duration": 45,
        "start_time": "2022-04-19T16:51:27.885Z"
      },
      {
        "duration": 10,
        "start_time": "2022-04-19T16:51:27.933Z"
      },
      {
        "duration": 27,
        "start_time": "2022-04-19T16:51:27.946Z"
      },
      {
        "duration": 3,
        "start_time": "2022-04-19T16:51:27.976Z"
      },
      {
        "duration": 12,
        "start_time": "2022-04-19T16:51:27.981Z"
      },
      {
        "duration": 2155,
        "start_time": "2022-04-19T16:51:27.996Z"
      },
      {
        "duration": 876,
        "start_time": "2022-04-19T16:51:30.155Z"
      },
      {
        "duration": 11,
        "start_time": "2022-04-19T16:51:31.036Z"
      },
      {
        "duration": 676,
        "start_time": "2022-04-19T16:51:31.051Z"
      },
      {
        "duration": 152,
        "start_time": "2022-04-19T16:51:34.827Z"
      },
      {
        "duration": 11,
        "start_time": "2022-04-19T16:51:37.670Z"
      },
      {
        "duration": 831,
        "start_time": "2022-04-19T16:51:39.852Z"
      },
      {
        "duration": 9,
        "start_time": "2022-04-19T16:51:51.437Z"
      },
      {
        "duration": 2012,
        "start_time": "2022-04-19T16:51:53.501Z"
      },
      {
        "duration": 5,
        "start_time": "2022-04-19T17:01:00.812Z"
      },
      {
        "duration": 11,
        "start_time": "2022-04-19T17:01:00.820Z"
      },
      {
        "duration": 831,
        "start_time": "2022-04-19T17:01:00.834Z"
      },
      {
        "duration": 28,
        "start_time": "2022-04-19T17:01:01.667Z"
      },
      {
        "duration": 48,
        "start_time": "2022-04-19T17:01:01.698Z"
      },
      {
        "duration": 21,
        "start_time": "2022-04-19T17:01:01.749Z"
      },
      {
        "duration": 6,
        "start_time": "2022-04-19T17:01:01.773Z"
      },
      {
        "duration": 23,
        "start_time": "2022-04-19T17:01:01.781Z"
      },
      {
        "duration": 7,
        "start_time": "2022-04-19T17:01:01.826Z"
      },
      {
        "duration": 17,
        "start_time": "2022-04-19T17:01:01.838Z"
      },
      {
        "duration": 17,
        "start_time": "2022-04-19T17:01:01.857Z"
      },
      {
        "duration": 18,
        "start_time": "2022-04-19T17:01:01.876Z"
      },
      {
        "duration": 26,
        "start_time": "2022-04-19T17:01:01.899Z"
      },
      {
        "duration": 55,
        "start_time": "2022-04-19T17:01:01.930Z"
      },
      {
        "duration": 32,
        "start_time": "2022-04-19T17:01:01.988Z"
      },
      {
        "duration": 32,
        "start_time": "2022-04-19T17:01:02.023Z"
      },
      {
        "duration": 7,
        "start_time": "2022-04-19T17:01:02.058Z"
      },
      {
        "duration": 27,
        "start_time": "2022-04-19T17:01:02.068Z"
      },
      {
        "duration": 33,
        "start_time": "2022-04-19T17:01:02.098Z"
      },
      {
        "duration": 15,
        "start_time": "2022-04-19T17:01:02.133Z"
      },
      {
        "duration": 2112,
        "start_time": "2022-04-19T17:01:02.151Z"
      },
      {
        "duration": 849,
        "start_time": "2022-04-19T17:01:04.266Z"
      },
      {
        "duration": 15,
        "start_time": "2022-04-19T17:01:05.127Z"
      },
      {
        "duration": 1148,
        "start_time": "2022-04-19T17:01:05.144Z"
      },
      {
        "duration": 162,
        "start_time": "2022-04-19T17:01:06.294Z"
      },
      {
        "duration": 12,
        "start_time": "2022-04-19T17:01:06.458Z"
      },
      {
        "duration": 1023,
        "start_time": "2022-04-19T17:01:06.474Z"
      },
      {
        "duration": 28,
        "start_time": "2022-04-19T17:01:07.501Z"
      },
      {
        "duration": 2486,
        "start_time": "2022-04-19T17:01:07.531Z"
      },
      {
        "duration": 11,
        "start_time": "2022-04-19T17:01:10.023Z"
      },
      {
        "duration": 26,
        "start_time": "2022-04-19T17:01:10.044Z"
      },
      {
        "duration": 11,
        "start_time": "2022-04-19T17:01:10.072Z"
      },
      {
        "duration": 8,
        "start_time": "2022-04-19T17:01:10.086Z"
      },
      {
        "duration": 15,
        "start_time": "2022-04-19T17:01:10.097Z"
      },
      {
        "duration": 32,
        "start_time": "2022-04-19T17:01:10.114Z"
      },
      {
        "duration": 12,
        "start_time": "2022-04-19T17:01:10.150Z"
      },
      {
        "duration": 23,
        "start_time": "2022-04-19T17:01:10.170Z"
      },
      {
        "duration": 98,
        "start_time": "2022-04-19T17:01:10.196Z"
      },
      {
        "duration": 0,
        "start_time": "2022-04-19T17:01:10.297Z"
      },
      {
        "duration": 0,
        "start_time": "2022-04-19T17:01:10.300Z"
      },
      {
        "duration": 0,
        "start_time": "2022-04-19T17:01:10.301Z"
      },
      {
        "duration": 0,
        "start_time": "2022-04-19T17:01:10.303Z"
      },
      {
        "duration": 0,
        "start_time": "2022-04-19T17:01:10.305Z"
      },
      {
        "duration": 6,
        "start_time": "2022-04-19T17:18:49.363Z"
      },
      {
        "duration": 7,
        "start_time": "2022-04-19T17:18:49.372Z"
      },
      {
        "duration": 836,
        "start_time": "2022-04-19T17:18:49.381Z"
      },
      {
        "duration": 33,
        "start_time": "2022-04-19T17:18:50.220Z"
      },
      {
        "duration": 27,
        "start_time": "2022-04-19T17:18:50.256Z"
      },
      {
        "duration": 54,
        "start_time": "2022-04-19T17:18:50.286Z"
      },
      {
        "duration": 9,
        "start_time": "2022-04-19T17:18:50.343Z"
      },
      {
        "duration": 9,
        "start_time": "2022-04-19T17:18:50.355Z"
      },
      {
        "duration": 10,
        "start_time": "2022-04-19T17:18:50.367Z"
      },
      {
        "duration": 43,
        "start_time": "2022-04-19T17:18:50.384Z"
      },
      {
        "duration": 16,
        "start_time": "2022-04-19T17:18:50.430Z"
      },
      {
        "duration": 14,
        "start_time": "2022-04-19T17:18:50.448Z"
      },
      {
        "duration": 15,
        "start_time": "2022-04-19T17:18:50.465Z"
      },
      {
        "duration": 53,
        "start_time": "2022-04-19T17:18:50.485Z"
      },
      {
        "duration": 27,
        "start_time": "2022-04-19T17:18:50.541Z"
      },
      {
        "duration": 19,
        "start_time": "2022-04-19T17:18:50.571Z"
      },
      {
        "duration": 32,
        "start_time": "2022-04-19T17:18:50.593Z"
      },
      {
        "duration": 30,
        "start_time": "2022-04-19T17:18:50.627Z"
      },
      {
        "duration": 8,
        "start_time": "2022-04-19T17:18:50.659Z"
      },
      {
        "duration": 2238,
        "start_time": "2022-04-19T17:18:50.670Z"
      },
      {
        "duration": 852,
        "start_time": "2022-04-19T17:18:52.910Z"
      },
      {
        "duration": 11,
        "start_time": "2022-04-19T17:18:53.764Z"
      },
      {
        "duration": 687,
        "start_time": "2022-04-19T17:18:53.777Z"
      },
      {
        "duration": 161,
        "start_time": "2022-04-19T17:18:54.466Z"
      },
      {
        "duration": 18,
        "start_time": "2022-04-19T17:18:54.630Z"
      },
      {
        "duration": 682,
        "start_time": "2022-04-19T17:18:54.650Z"
      },
      {
        "duration": 10,
        "start_time": "2022-04-19T17:18:55.334Z"
      },
      {
        "duration": 3063,
        "start_time": "2022-04-19T17:18:55.351Z"
      },
      {
        "duration": 16,
        "start_time": "2022-04-19T17:19:02.342Z"
      },
      {
        "duration": 5,
        "start_time": "2022-04-19T17:19:06.640Z"
      },
      {
        "duration": 5,
        "start_time": "2022-04-19T17:19:08.996Z"
      },
      {
        "duration": 5,
        "start_time": "2022-04-19T17:19:12.964Z"
      },
      {
        "duration": 4,
        "start_time": "2022-04-19T17:19:15.079Z"
      },
      {
        "duration": 5,
        "start_time": "2022-04-19T17:19:15.816Z"
      },
      {
        "duration": 5,
        "start_time": "2022-04-19T17:19:18.077Z"
      },
      {
        "duration": 4,
        "start_time": "2022-04-19T17:19:19.216Z"
      },
      {
        "duration": 16,
        "start_time": "2022-04-19T17:19:21.046Z"
      },
      {
        "duration": 38,
        "start_time": "2022-04-19T17:19:23.438Z"
      },
      {
        "duration": 2278,
        "start_time": "2022-04-19T17:19:28.652Z"
      },
      {
        "duration": 2460,
        "start_time": "2022-04-19T17:21:36.599Z"
      },
      {
        "duration": 15,
        "start_time": "2022-04-19T17:22:15.198Z"
      },
      {
        "duration": 4,
        "start_time": "2022-04-19T17:22:32.019Z"
      },
      {
        "duration": 2364,
        "start_time": "2022-04-19T17:22:45.075Z"
      },
      {
        "duration": 2220,
        "start_time": "2022-04-19T17:23:05.418Z"
      },
      {
        "duration": 2232,
        "start_time": "2022-04-19T17:23:17.006Z"
      },
      {
        "duration": 13,
        "start_time": "2022-04-19T17:23:25.136Z"
      },
      {
        "duration": 16,
        "start_time": "2022-04-19T17:26:48.018Z"
      },
      {
        "duration": 2827,
        "start_time": "2022-04-19T17:26:53.705Z"
      },
      {
        "duration": 2469,
        "start_time": "2022-04-19T17:27:00.067Z"
      },
      {
        "duration": 35,
        "start_time": "2022-04-19T17:27:05.338Z"
      },
      {
        "duration": 6,
        "start_time": "2022-04-19T17:40:30.511Z"
      },
      {
        "duration": 12,
        "start_time": "2022-04-19T17:41:53.588Z"
      },
      {
        "duration": 7,
        "start_time": "2022-04-19T17:42:08.826Z"
      },
      {
        "duration": 13,
        "start_time": "2022-04-19T17:43:17.509Z"
      },
      {
        "duration": 6,
        "start_time": "2022-04-19T17:43:20.592Z"
      },
      {
        "duration": 14,
        "start_time": "2022-04-19T17:43:20.602Z"
      },
      {
        "duration": 934,
        "start_time": "2022-04-19T17:43:20.618Z"
      },
      {
        "duration": 27,
        "start_time": "2022-04-19T17:43:21.554Z"
      },
      {
        "duration": 51,
        "start_time": "2022-04-19T17:43:21.584Z"
      },
      {
        "duration": 25,
        "start_time": "2022-04-19T17:43:21.637Z"
      },
      {
        "duration": 6,
        "start_time": "2022-04-19T17:43:21.665Z"
      },
      {
        "duration": 4,
        "start_time": "2022-04-19T17:43:21.674Z"
      },
      {
        "duration": 7,
        "start_time": "2022-04-19T17:43:21.681Z"
      },
      {
        "duration": 36,
        "start_time": "2022-04-19T17:43:21.690Z"
      },
      {
        "duration": 11,
        "start_time": "2022-04-19T17:43:21.732Z"
      },
      {
        "duration": 15,
        "start_time": "2022-04-19T17:43:21.744Z"
      },
      {
        "duration": 7,
        "start_time": "2022-04-19T17:43:21.766Z"
      },
      {
        "duration": 23,
        "start_time": "2022-04-19T17:43:21.774Z"
      },
      {
        "duration": 52,
        "start_time": "2022-04-19T17:43:21.799Z"
      },
      {
        "duration": 22,
        "start_time": "2022-04-19T17:43:21.853Z"
      },
      {
        "duration": 7,
        "start_time": "2022-04-19T17:43:21.877Z"
      },
      {
        "duration": 60,
        "start_time": "2022-04-19T17:43:21.886Z"
      },
      {
        "duration": 8,
        "start_time": "2022-04-19T17:43:21.951Z"
      },
      {
        "duration": 2213,
        "start_time": "2022-04-19T17:43:21.962Z"
      },
      {
        "duration": 890,
        "start_time": "2022-04-19T17:43:24.178Z"
      },
      {
        "duration": 11,
        "start_time": "2022-04-19T17:43:25.071Z"
      },
      {
        "duration": 920,
        "start_time": "2022-04-19T17:43:25.084Z"
      },
      {
        "duration": 169,
        "start_time": "2022-04-19T17:43:26.006Z"
      },
      {
        "duration": 12,
        "start_time": "2022-04-19T17:43:26.178Z"
      },
      {
        "duration": 1101,
        "start_time": "2022-04-19T17:43:26.193Z"
      },
      {
        "duration": 12,
        "start_time": "2022-04-19T17:43:27.296Z"
      },
      {
        "duration": 2154,
        "start_time": "2022-04-19T17:43:27.310Z"
      },
      {
        "duration": 16,
        "start_time": "2022-04-19T17:43:29.466Z"
      },
      {
        "duration": 5,
        "start_time": "2022-04-19T17:43:29.484Z"
      },
      {
        "duration": 7,
        "start_time": "2022-04-19T17:43:29.491Z"
      },
      {
        "duration": 31,
        "start_time": "2022-04-19T17:43:29.500Z"
      },
      {
        "duration": 27,
        "start_time": "2022-04-19T17:43:29.538Z"
      },
      {
        "duration": 9,
        "start_time": "2022-04-19T17:43:29.567Z"
      },
      {
        "duration": 11,
        "start_time": "2022-04-19T17:43:29.578Z"
      },
      {
        "duration": 7,
        "start_time": "2022-04-19T17:43:29.592Z"
      },
      {
        "duration": 18,
        "start_time": "2022-04-19T17:43:29.604Z"
      },
      {
        "duration": 59,
        "start_time": "2022-04-19T17:43:29.624Z"
      },
      {
        "duration": 4167,
        "start_time": "2022-04-19T17:43:29.685Z"
      },
      {
        "duration": 2981,
        "start_time": "2022-04-19T17:43:33.858Z"
      },
      {
        "duration": 5,
        "start_time": "2022-04-19T17:44:16.002Z"
      },
      {
        "duration": 116286,
        "start_time": "2022-04-19T17:44:32.011Z"
      },
      {
        "duration": 149,
        "start_time": "2022-04-19T17:47:41.301Z"
      },
      {
        "duration": 122485,
        "start_time": "2022-04-19T17:48:11.484Z"
      },
      {
        "duration": 122977,
        "start_time": "2022-04-19T17:50:17.780Z"
      },
      {
        "duration": 5,
        "start_time": "2022-04-19T17:56:32.284Z"
      },
      {
        "duration": 5,
        "start_time": "2022-04-19T17:57:04.214Z"
      },
      {
        "duration": 1117798,
        "start_time": "2022-04-19T17:57:57.115Z"
      },
      {
        "duration": 1134034,
        "start_time": "2022-04-19T18:16:34.916Z"
      },
      {
        "duration": 6,
        "start_time": "2022-04-19T18:35:28.957Z"
      },
      {
        "duration": 26901,
        "start_time": "2022-04-19T18:35:28.966Z"
      },
      {
        "duration": 6,
        "start_time": "2022-04-19T18:35:55.870Z"
      },
      {
        "duration": 14851,
        "start_time": "2022-04-19T18:35:55.878Z"
      },
      {
        "duration": 13,
        "start_time": "2022-04-19T18:36:10.733Z"
      },
      {
        "duration": 14,
        "start_time": "2022-04-19T18:36:10.751Z"
      },
      {
        "duration": 11,
        "start_time": "2022-04-19T18:36:10.767Z"
      },
      {
        "duration": 33028,
        "start_time": "2022-04-19T18:50:41.959Z"
      },
      {
        "duration": 7,
        "start_time": "2022-04-19T18:53:01.255Z"
      }
    ],
    "colab": {
      "provenance": []
    },
    "kernelspec": {
      "display_name": "Python 3 (ipykernel)",
      "language": "python",
      "name": "python3"
    },
    "language_info": {
      "codemirror_mode": {
        "name": "ipython",
        "version": 3
      },
      "file_extension": ".py",
      "mimetype": "text/x-python",
      "name": "python",
      "nbconvert_exporter": "python",
      "pygments_lexer": "ipython3",
      "version": "3.9.5"
    },
    "toc": {
      "base_numbering": 1,
      "nav_menu": {},
      "number_sections": true,
      "sideBar": true,
      "skip_h1_title": true,
      "title_cell": "Содержание",
      "title_sidebar": "Contents",
      "toc_cell": true,
      "toc_position": {
        "height": "calc(100% - 180px)",
        "left": "10px",
        "top": "150px",
        "width": "238.396px"
      },
      "toc_section_display": true,
      "toc_window_display": true
    }
  },
  "nbformat": 4,
  "nbformat_minor": 0
}
