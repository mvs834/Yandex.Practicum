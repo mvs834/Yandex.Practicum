{
  "cells": [
    {
      "attachments": {},
      "cell_type": "markdown",
      "metadata": {
        "id": "E0vqbgi9ay0H"
      },
      "source": [
        "# Project Description"
      ]
    },
    {
      "attachments": {},
      "cell_type": "markdown",
      "metadata": {
        "id": "VUC88oWjTJw2"
      },
      "source": [
        "It is necessary to test three hypotheses:\n",
        "\n",
        "1. User activity depends on the day of the week. Moreover, it manifests differently in Moscow and St. Petersburg.\n",
        "2. In Moscow, on Monday mornings, one genre predominates, while in St. Petersburg, another dominates. Similarly, different genres predominate on Friday evenings, depending on the city.\n",
        "3. Moscow and St. Petersburg prefer different genres of music. In Moscow, pop music is more often listened to, while in St. Petersburg, it is Russian rap."
      ]
    },
    {
      "attachments": {},
      "cell_type": "markdown",
      "metadata": {
        "id": "Ml1hmfXC_Zcs"
      },
      "source": [
        "# Data Upload and Overview"
      ]
    },
    {
      "cell_type": "code",
      "execution_count": null,
      "metadata": {
        "id": "AXN7PHPN_Zcs"
      },
      "outputs": [],
      "source": [
        "import pandas as pd"
      ]
    },
    {
      "cell_type": "code",
      "execution_count": null,
      "metadata": {
        "id": "fFVu7vqh_Zct"
      },
      "outputs": [],
      "source": [
        "df = pd.read_csv('/datasets/yandex_music_project.csv') # data upload to dataframe"
      ]
    },
    {
      "cell_type": "code",
      "execution_count": null,
      "metadata": {
        "id": "oWTVX3gW_Zct",
        "outputId": "8a17c962-be49-4931-9762-0ff9bf976d8f"
      },
      "outputs": [
        {
          "data": {
            "text/html": [
              "<div>\n",
              "<style scoped>\n",
              "    .dataframe tbody tr th:only-of-type {\n",
              "        vertical-align: middle;\n",
              "    }\n",
              "\n",
              "    .dataframe tbody tr th {\n",
              "        vertical-align: top;\n",
              "    }\n",
              "\n",
              "    .dataframe thead th {\n",
              "        text-align: right;\n",
              "    }\n",
              "</style>\n",
              "<table border=\"1\" class=\"dataframe\">\n",
              "  <thead>\n",
              "    <tr style=\"text-align: right;\">\n",
              "      <th></th>\n",
              "      <th>userID</th>\n",
              "      <th>Track</th>\n",
              "      <th>artist</th>\n",
              "      <th>genre</th>\n",
              "      <th>City</th>\n",
              "      <th>time</th>\n",
              "      <th>Day</th>\n",
              "    </tr>\n",
              "  </thead>\n",
              "  <tbody>\n",
              "    <tr>\n",
              "      <td>0</td>\n",
              "      <td>FFB692EC</td>\n",
              "      <td>Kamigata To Boots</td>\n",
              "      <td>The Mass Missile</td>\n",
              "      <td>rock</td>\n",
              "      <td>Saint-Petersburg</td>\n",
              "      <td>20:28:33</td>\n",
              "      <td>Wednesday</td>\n",
              "    </tr>\n",
              "    <tr>\n",
              "      <td>1</td>\n",
              "      <td>55204538</td>\n",
              "      <td>Delayed Because of Accident</td>\n",
              "      <td>Andreas Rönnberg</td>\n",
              "      <td>rock</td>\n",
              "      <td>Moscow</td>\n",
              "      <td>14:07:09</td>\n",
              "      <td>Friday</td>\n",
              "    </tr>\n",
              "    <tr>\n",
              "      <td>2</td>\n",
              "      <td>20EC38</td>\n",
              "      <td>Funiculì funiculà</td>\n",
              "      <td>Mario Lanza</td>\n",
              "      <td>pop</td>\n",
              "      <td>Saint-Petersburg</td>\n",
              "      <td>20:58:07</td>\n",
              "      <td>Wednesday</td>\n",
              "    </tr>\n",
              "    <tr>\n",
              "      <td>3</td>\n",
              "      <td>A3DD03C9</td>\n",
              "      <td>Dragons in the Sunset</td>\n",
              "      <td>Fire + Ice</td>\n",
              "      <td>folk</td>\n",
              "      <td>Saint-Petersburg</td>\n",
              "      <td>08:37:09</td>\n",
              "      <td>Monday</td>\n",
              "    </tr>\n",
              "    <tr>\n",
              "      <td>4</td>\n",
              "      <td>E2DC1FAE</td>\n",
              "      <td>Soul People</td>\n",
              "      <td>Space Echo</td>\n",
              "      <td>dance</td>\n",
              "      <td>Moscow</td>\n",
              "      <td>08:34:34</td>\n",
              "      <td>Monday</td>\n",
              "    </tr>\n",
              "    <tr>\n",
              "      <td>5</td>\n",
              "      <td>842029A1</td>\n",
              "      <td>Преданная</td>\n",
              "      <td>IMPERVTOR</td>\n",
              "      <td>rusrap</td>\n",
              "      <td>Saint-Petersburg</td>\n",
              "      <td>13:09:41</td>\n",
              "      <td>Friday</td>\n",
              "    </tr>\n",
              "    <tr>\n",
              "      <td>6</td>\n",
              "      <td>4CB90AA5</td>\n",
              "      <td>True</td>\n",
              "      <td>Roman Messer</td>\n",
              "      <td>dance</td>\n",
              "      <td>Moscow</td>\n",
              "      <td>13:00:07</td>\n",
              "      <td>Wednesday</td>\n",
              "    </tr>\n",
              "    <tr>\n",
              "      <td>7</td>\n",
              "      <td>F03E1C1F</td>\n",
              "      <td>Feeling This Way</td>\n",
              "      <td>Polina Griffith</td>\n",
              "      <td>dance</td>\n",
              "      <td>Moscow</td>\n",
              "      <td>20:47:49</td>\n",
              "      <td>Wednesday</td>\n",
              "    </tr>\n",
              "    <tr>\n",
              "      <td>8</td>\n",
              "      <td>8FA1D3BE</td>\n",
              "      <td>И вновь продолжается бой</td>\n",
              "      <td>NaN</td>\n",
              "      <td>ruspop</td>\n",
              "      <td>Moscow</td>\n",
              "      <td>09:17:40</td>\n",
              "      <td>Friday</td>\n",
              "    </tr>\n",
              "    <tr>\n",
              "      <td>9</td>\n",
              "      <td>E772D5C0</td>\n",
              "      <td>Pessimist</td>\n",
              "      <td>NaN</td>\n",
              "      <td>dance</td>\n",
              "      <td>Saint-Petersburg</td>\n",
              "      <td>21:20:49</td>\n",
              "      <td>Wednesday</td>\n",
              "    </tr>\n",
              "  </tbody>\n",
              "</table>\n",
              "</div>"
            ],
            "text/plain": [
              "     userID                        Track            artist   genre  \\\n",
              "0  FFB692EC            Kamigata To Boots  The Mass Missile    rock   \n",
              "1  55204538  Delayed Because of Accident  Andreas Rönnberg    rock   \n",
              "2    20EC38            Funiculì funiculà       Mario Lanza     pop   \n",
              "3  A3DD03C9        Dragons in the Sunset        Fire + Ice    folk   \n",
              "4  E2DC1FAE                  Soul People        Space Echo   dance   \n",
              "5  842029A1                    Преданная         IMPERVTOR  rusrap   \n",
              "6  4CB90AA5                         True      Roman Messer   dance   \n",
              "7  F03E1C1F             Feeling This Way   Polina Griffith   dance   \n",
              "8  8FA1D3BE     И вновь продолжается бой               NaN  ruspop   \n",
              "9  E772D5C0                    Pessimist               NaN   dance   \n",
              "\n",
              "             City        time        Day  \n",
              "0  Saint-Petersburg  20:28:33  Wednesday  \n",
              "1            Moscow  14:07:09     Friday  \n",
              "2  Saint-Petersburg  20:58:07  Wednesday  \n",
              "3  Saint-Petersburg  08:37:09     Monday  \n",
              "4            Moscow  08:34:34     Monday  \n",
              "5  Saint-Petersburg  13:09:41     Friday  \n",
              "6            Moscow  13:00:07  Wednesday  \n",
              "7            Moscow  20:47:49  Wednesday  \n",
              "8            Moscow  09:17:40     Friday  \n",
              "9  Saint-Petersburg  21:20:49  Wednesday  "
            ]
          },
          "metadata": {},
          "output_type": "display_data"
        }
      ],
      "source": [
        "display(df.head(10)) # read first 10 rows in dataframe"
      ]
    },
    {
      "cell_type": "code",
      "execution_count": null,
      "metadata": {
        "id": "DSf2kIb-_Zct",
        "outputId": "caaf81e0-cf15-4eda-dcaa-9d15094bd813"
      },
      "outputs": [
        {
          "name": "stdout",
          "output_type": "stream",
          "text": [
            "<class 'pandas.core.frame.DataFrame'>\n",
            "RangeIndex: 65079 entries, 0 to 65078\n",
            "Data columns (total 7 columns):\n",
            "  userID    65079 non-null object\n",
            "Track       63848 non-null object\n",
            "artist      57876 non-null object\n",
            "genre       63881 non-null object\n",
            "  City      65079 non-null object\n",
            "time        65079 non-null object\n",
            "Day         65079 non-null object\n",
            "dtypes: object(7)\n",
            "memory usage: 3.5+ MB\n"
          ]
        }
      ],
      "source": [
        "df.info() # general information about the data"
      ]
    },
    {
      "attachments": {},
      "cell_type": "markdown",
      "metadata": {
        "id": "TaQ2Iwbr_Zct"
      },
      "source": [
        "So, there are seven columns in the table. The data type in all columns is \"object\".\n",
        "\n",
        "According to the data documentation:\n",
        "\n",
        "* userID - user identifier;\n",
        "* Track - track name;\n",
        "* artist - artist name;\n",
        "* genre - genre name;\n",
        "* City - user's city;\n",
        "* time - start time of listening;\n",
        "* Day - day of the week.\n",
        "\n",
        "There are three style violations in the column names:\n",
        "\n",
        "- Lowercase letters are mixed with uppercase ones.\n",
        "- Spaces are present.\n",
        "- Two words are written together instead of using snake_case.\n",
        "- The number of values in the columns varies, indicating that there are missing values in the data."
      ]
    },
    {
      "attachments": {},
      "cell_type": "markdown",
      "metadata": {
        "id": "MCB6-dXG_Zct"
      },
      "source": [
        "**Conclusions**\n",
        "\n",
        "In each row of the table, there is information about the listened track. Some columns describe the composition itself: the title, artist, and genre. Other data tells about the user: where they are from and when they listened to the music.\n",
        "\n",
        "It can be preliminarily asserted that there is enough data to test hypotheses. However, there are missing values in the data, and there are discrepancies in column names that do not conform to good style.\n",
        "\n",
        "To move forward, it is necessary to resolve the issues with the data."
      ]
    },
    {
      "attachments": {},
      "cell_type": "markdown",
      "metadata": {
        "id": "SjYF6Ub9_Zct"
      },
      "source": [
        "# Data Preprocessing"
      ]
    },
    {
      "attachments": {},
      "cell_type": "markdown",
      "metadata": {
        "id": "dIaKXr29_Zct"
      },
      "source": [
        "## Headers Style"
      ]
    },
    {
      "cell_type": "code",
      "execution_count": null,
      "metadata": {
        "id": "oKOTdF_Q_Zct",
        "outputId": "f455c264-f9b1-4ecc-b97e-f00663064e7c"
      },
      "outputs": [
        {
          "data": {
            "text/plain": [
              "Index(['  userID', 'Track', 'artist', 'genre', '  City  ', 'time', 'Day'], dtype='object')"
            ]
          },
          "execution_count": 66,
          "metadata": {},
          "output_type": "execute_result"
        }
      ],
      "source": [
        "df.columns # list of columns name"
      ]
    },
    {
      "cell_type": "code",
      "execution_count": null,
      "metadata": {
        "id": "ISlFqs5y_Zct"
      },
      "outputs": [],
      "source": [
        "df = df.rename(columns = {'  userID' : 'user_id', 'Track' : 'track', '  City  ' : 'city', 'Day' : 'day'}) # columns rename"
      ]
    },
    {
      "cell_type": "code",
      "execution_count": null,
      "metadata": {
        "id": "d4NOAmTW_Zct",
        "outputId": "64799493-b5d3-46a8-e50a-64f50cd1a8e2"
      },
      "outputs": [
        {
          "data": {
            "text/plain": [
              "Index(['user_id', 'track', 'artist', 'genre', 'city', 'time', 'day'], dtype='object')"
            ]
          },
          "metadata": {},
          "output_type": "display_data"
        }
      ],
      "source": [
        "display(df.columns) # renamed columns"
      ]
    },
    {
      "attachments": {},
      "cell_type": "markdown",
      "metadata": {
        "id": "5ISfbcfY_Zct"
      },
      "source": [
        "## Missing Values"
      ]
    },
    {
      "cell_type": "code",
      "execution_count": null,
      "metadata": {
        "id": "RskX29qr_Zct",
        "outputId": "a7731b9d-0e05-4278-ab20-bb1871eff2be"
      },
      "outputs": [
        {
          "data": {
            "text/plain": [
              "user_id       0\n",
              "track      1231\n",
              "artist     7203\n",
              "genre      1198\n",
              "city          0\n",
              "time          0\n",
              "day           0\n",
              "dtype: int64"
            ]
          },
          "metadata": {},
          "output_type": "display_data"
        }
      ],
      "source": [
        "display(df.isna().sum()) # missing values structure"
      ]
    },
    {
      "cell_type": "code",
      "execution_count": null,
      "metadata": {
        "id": "KplB5qWs_Zct"
      },
      "outputs": [],
      "source": [
        "columns_to_replace = ['track', 'artist', 'genre']\n",
        "\n",
        "for column in columns_to_replace:\n",
        "    df[column] = df[column].fillna('unknown')\n",
        "    \n",
        "# Looping through column names and replacing missing values with 'unknown'"
      ]
    },
    {
      "cell_type": "code",
      "execution_count": null,
      "metadata": {
        "id": "Tq4nYRX4_Zct",
        "outputId": "a4d43c1c-df8c-4138-9a13-cdef26f53f8d"
      },
      "outputs": [
        {
          "data": {
            "text/plain": [
              "user_id    0\n",
              "track      0\n",
              "artist     0\n",
              "genre      0\n",
              "city       0\n",
              "time       0\n",
              "day        0\n",
              "dtype: int64"
            ]
          },
          "metadata": {},
          "output_type": "display_data"
        }
      ],
      "source": [
        "display(df.isna().sum()) # missing values count"
      ]
    },
    {
      "attachments": {},
      "cell_type": "markdown",
      "metadata": {
        "id": "BWKRtBJ3_Zct"
      },
      "source": [
        "## Duplicates"
      ]
    },
    {
      "cell_type": "code",
      "execution_count": null,
      "metadata": {
        "id": "36eES_S0_Zct",
        "outputId": "44456910-c073-481d-ae00-8734e378e298"
      },
      "outputs": [
        {
          "data": {
            "text/plain": [
              "3826"
            ]
          },
          "metadata": {},
          "output_type": "display_data"
        }
      ],
      "source": [
        "display(df.duplicated().sum()) # counting explicit duplicates"
      ]
    },
    {
      "cell_type": "code",
      "execution_count": null,
      "metadata": {
        "id": "exFHq6tt_Zct"
      },
      "outputs": [],
      "source": [
        "df = df.drop_duplicates().reset_index(drop = True) # removing explicit duplicates (including deletion of old indexes and generation of new ones)"
      ]
    },
    {
      "cell_type": "code",
      "execution_count": null,
      "metadata": {
        "id": "-8PuNWQ0_Zct",
        "outputId": "8d531781-a774-4f46-d897-c9694fbe11c1"
      },
      "outputs": [
        {
          "data": {
            "text/plain": [
              "0"
            ]
          },
          "metadata": {},
          "output_type": "display_data"
        }
      ],
      "source": [
        "display(df.duplicated().sum()) # check for absence of duplicates"
      ]
    },
    {
      "cell_type": "code",
      "execution_count": null,
      "metadata": {
        "id": "JIUcqzZN_Zct",
        "outputId": "b01406df-441b-4d46-dff8-daa2dde8d24b"
      },
      "outputs": [
        {
          "data": {
            "text/plain": [
              "array(['acid', 'acoustic', 'action', 'adult', 'africa', 'afrikaans',\n",
              "       'alternative', 'alternativepunk', 'ambient', 'americana',\n",
              "       'animated', 'anime', 'arabesk', 'arabic', 'arena',\n",
              "       'argentinetango', 'art', 'audiobook', 'author', 'avantgarde',\n",
              "       'axé', 'baile', 'balkan', 'beats', 'bigroom', 'black', 'bluegrass',\n",
              "       'blues', 'bollywood', 'bossa', 'brazilian', 'breakbeat', 'breaks',\n",
              "       'broadway', 'cantautori', 'cantopop', 'canzone', 'caribbean',\n",
              "       'caucasian', 'celtic', 'chamber', 'chanson', 'children', 'chill',\n",
              "       'chinese', 'choral', 'christian', 'christmas', 'classical',\n",
              "       'classicmetal', 'club', 'colombian', 'comedy', 'conjazz',\n",
              "       'contemporary', 'country', 'cuban', 'dance', 'dancehall',\n",
              "       'dancepop', 'dark', 'death', 'deep', 'deutschrock', 'deutschspr',\n",
              "       'dirty', 'disco', 'dnb', 'documentary', 'downbeat', 'downtempo',\n",
              "       'drum', 'dub', 'dubstep', 'eastern', 'easy', 'electronic',\n",
              "       'electropop', 'emo', 'entehno', 'epicmetal', 'estrada', 'ethnic',\n",
              "       'eurofolk', 'european', 'experimental', 'extrememetal', 'fado',\n",
              "       'fairytail', 'film', 'fitness', 'flamenco', 'folk', 'folklore',\n",
              "       'folkmetal', 'folkrock', 'folktronica', 'forró', 'frankreich',\n",
              "       'französisch', 'french', 'funk', 'future', 'gangsta', 'garage',\n",
              "       'german', 'ghazal', 'gitarre', 'glitch', 'gospel', 'gothic',\n",
              "       'grime', 'grunge', 'gypsy', 'handsup', \"hard'n'heavy\", 'hardcore',\n",
              "       'hardstyle', 'hardtechno', 'hip', 'hip-hop', 'hiphop',\n",
              "       'historisch', 'holiday', 'hop', 'horror', 'house', 'hymn', 'idm',\n",
              "       'independent', 'indian', 'indie', 'indipop', 'industrial',\n",
              "       'inspirational', 'instrumental', 'international', 'irish', 'jam',\n",
              "       'japanese', 'jazz', 'jewish', 'jpop', 'jungle', 'k-pop',\n",
              "       'karadeniz', 'karaoke', 'kayokyoku', 'korean', 'laiko', 'latin',\n",
              "       'latino', 'leftfield', 'local', 'lounge', 'loungeelectronic',\n",
              "       'lovers', 'malaysian', 'mandopop', 'marschmusik', 'meditative',\n",
              "       'mediterranean', 'melodic', 'metal', 'metalcore', 'mexican',\n",
              "       'middle', 'minimal', 'miscellaneous', 'modern', 'mood', 'mpb',\n",
              "       'muslim', 'native', 'neoklassik', 'neue', 'new', 'newage',\n",
              "       'newwave', 'nu', 'nujazz', 'numetal', 'oceania', 'old', 'opera',\n",
              "       'orchestral', 'other', 'piano', 'podcasts', 'pop', 'popdance',\n",
              "       'popelectronic', 'popeurodance', 'poprussian', 'post',\n",
              "       'posthardcore', 'postrock', 'power', 'progmetal', 'progressive',\n",
              "       'psychedelic', 'punjabi', 'punk', 'quebecois', 'ragga', 'ram',\n",
              "       'rancheras', 'rap', 'rave', 'reggae', 'reggaeton', 'regional',\n",
              "       'relax', 'religious', 'retro', 'rhythm', 'rnb', 'rnr', 'rock',\n",
              "       'rockabilly', 'rockalternative', 'rockindie', 'rockother',\n",
              "       'romance', 'roots', 'ruspop', 'rusrap', 'rusrock', 'russian',\n",
              "       'salsa', 'samba', 'scenic', 'schlager', 'self', 'sertanejo',\n",
              "       'shanson', 'shoegazing', 'showtunes', 'singer', 'ska', 'skarock',\n",
              "       'slow', 'smooth', 'soft', 'soul', 'soulful', 'sound', 'soundtrack',\n",
              "       'southern', 'specialty', 'speech', 'spiritual', 'sport',\n",
              "       'stonerrock', 'surf', 'swing', 'synthpop', 'synthrock',\n",
              "       'sängerportrait', 'tango', 'tanzorchester', 'taraftar', 'tatar',\n",
              "       'tech', 'techno', 'teen', 'thrash', 'top', 'traditional',\n",
              "       'tradjazz', 'trance', 'tribal', 'trip', 'triphop', 'tropical',\n",
              "       'türk', 'türkçe', 'ukrrock', 'unknown', 'urban', 'uzbek',\n",
              "       'variété', 'vi', 'videogame', 'vocal', 'western', 'world',\n",
              "       'worldbeat', 'ïîï', 'электроника'], dtype=object)"
            ]
          },
          "metadata": {},
          "output_type": "display_data"
        }
      ],
      "source": [
        "df = df.sort_values('genre')\n",
        "display(df['genre'].unique())\n",
        "\n",
        "# unique genre names"
      ]
    },
    {
      "cell_type": "code",
      "execution_count": null,
      "metadata": {
        "id": "ErNDkmns_Zct"
      },
      "outputs": [],
      "source": [
        "def replace_wrong_genres(wrong_genres, correct_genre):\n",
        "    for genre in wrong_genres:\n",
        "        df['genre'] = df['genre'].replace(genre, correct_genre)\n",
        "    \n",
        "    # function for replacing implicit duplicates"
      ]
    },
    {
      "cell_type": "code",
      "execution_count": null,
      "metadata": {
        "id": "YN5i2hpmSo09"
      },
      "outputs": [],
      "source": [
        "replace_wrong_genres(['hip', 'hop', 'hip-hop'], 'hiphop') # elimination of implicit duplicates"
      ]
    },
    {
      "cell_type": "code",
      "execution_count": null,
      "metadata": {
        "id": "wvixALnFG15m",
        "outputId": "760b2c58-69bf-4f98-9410-e80c9c814b86"
      },
      "outputs": [
        {
          "data": {
            "text/plain": [
              "array(['acid', 'acoustic', 'action', 'adult', 'africa', 'afrikaans',\n",
              "       'alternative', 'alternativepunk', 'ambient', 'americana',\n",
              "       'animated', 'anime', 'arabesk', 'arabic', 'arena',\n",
              "       'argentinetango', 'art', 'audiobook', 'author', 'avantgarde',\n",
              "       'axé', 'baile', 'balkan', 'beats', 'bigroom', 'black', 'bluegrass',\n",
              "       'blues', 'bollywood', 'bossa', 'brazilian', 'breakbeat', 'breaks',\n",
              "       'broadway', 'cantautori', 'cantopop', 'canzone', 'caribbean',\n",
              "       'caucasian', 'celtic', 'chamber', 'chanson', 'children', 'chill',\n",
              "       'chinese', 'choral', 'christian', 'christmas', 'classical',\n",
              "       'classicmetal', 'club', 'colombian', 'comedy', 'conjazz',\n",
              "       'contemporary', 'country', 'cuban', 'dance', 'dancehall',\n",
              "       'dancepop', 'dark', 'death', 'deep', 'deutschrock', 'deutschspr',\n",
              "       'dirty', 'disco', 'dnb', 'documentary', 'downbeat', 'downtempo',\n",
              "       'drum', 'dub', 'dubstep', 'eastern', 'easy', 'electronic',\n",
              "       'electropop', 'emo', 'entehno', 'epicmetal', 'estrada', 'ethnic',\n",
              "       'eurofolk', 'european', 'experimental', 'extrememetal', 'fado',\n",
              "       'fairytail', 'film', 'fitness', 'flamenco', 'folk', 'folklore',\n",
              "       'folkmetal', 'folkrock', 'folktronica', 'forró', 'frankreich',\n",
              "       'französisch', 'french', 'funk', 'future', 'gangsta', 'garage',\n",
              "       'german', 'ghazal', 'gitarre', 'glitch', 'gospel', 'gothic',\n",
              "       'grime', 'grunge', 'gypsy', 'handsup', \"hard'n'heavy\", 'hardcore',\n",
              "       'hardstyle', 'hardtechno', 'hiphop', 'historisch', 'holiday',\n",
              "       'horror', 'house', 'hymn', 'idm', 'independent', 'indian', 'indie',\n",
              "       'indipop', 'industrial', 'inspirational', 'instrumental',\n",
              "       'international', 'irish', 'jam', 'japanese', 'jazz', 'jewish',\n",
              "       'jpop', 'jungle', 'k-pop', 'karadeniz', 'karaoke', 'kayokyoku',\n",
              "       'korean', 'laiko', 'latin', 'latino', 'leftfield', 'local',\n",
              "       'lounge', 'loungeelectronic', 'lovers', 'malaysian', 'mandopop',\n",
              "       'marschmusik', 'meditative', 'mediterranean', 'melodic', 'metal',\n",
              "       'metalcore', 'mexican', 'middle', 'minimal', 'miscellaneous',\n",
              "       'modern', 'mood', 'mpb', 'muslim', 'native', 'neoklassik', 'neue',\n",
              "       'new', 'newage', 'newwave', 'nu', 'nujazz', 'numetal', 'oceania',\n",
              "       'old', 'opera', 'orchestral', 'other', 'piano', 'podcasts', 'pop',\n",
              "       'popdance', 'popelectronic', 'popeurodance', 'poprussian', 'post',\n",
              "       'posthardcore', 'postrock', 'power', 'progmetal', 'progressive',\n",
              "       'psychedelic', 'punjabi', 'punk', 'quebecois', 'ragga', 'ram',\n",
              "       'rancheras', 'rap', 'rave', 'reggae', 'reggaeton', 'regional',\n",
              "       'relax', 'religious', 'retro', 'rhythm', 'rnb', 'rnr', 'rock',\n",
              "       'rockabilly', 'rockalternative', 'rockindie', 'rockother',\n",
              "       'romance', 'roots', 'ruspop', 'rusrap', 'rusrock', 'russian',\n",
              "       'salsa', 'samba', 'scenic', 'schlager', 'self', 'sertanejo',\n",
              "       'shanson', 'shoegazing', 'showtunes', 'singer', 'ska', 'skarock',\n",
              "       'slow', 'smooth', 'soft', 'soul', 'soulful', 'sound', 'soundtrack',\n",
              "       'southern', 'specialty', 'speech', 'spiritual', 'sport',\n",
              "       'stonerrock', 'surf', 'swing', 'synthpop', 'synthrock',\n",
              "       'sängerportrait', 'tango', 'tanzorchester', 'taraftar', 'tatar',\n",
              "       'tech', 'techno', 'teen', 'thrash', 'top', 'traditional',\n",
              "       'tradjazz', 'trance', 'tribal', 'trip', 'triphop', 'tropical',\n",
              "       'türk', 'türkçe', 'ukrrock', 'unknown', 'urban', 'uzbek',\n",
              "       'variété', 'vi', 'videogame', 'vocal', 'western', 'world',\n",
              "       'worldbeat', 'ïîï', 'электроника'], dtype=object)"
            ]
          },
          "metadata": {},
          "output_type": "display_data"
        }
      ],
      "source": [
        "df = df.sort_values('genre')\n",
        "display(df['genre'].unique())\n",
        "# checking for implicit duplicates"
      ]
    },
    {
      "attachments": {},
      "cell_type": "markdown",
      "metadata": {
        "id": "jz6a9-7HQUDd"
      },
      "source": [
        "**Conclusions**\n",
        "\n",
        "Preprocessing found three problems in the data:\n",
        "\n",
        "- violations in the style of headlines,\n",
        "- missing values,\n",
        "- duplicates — explicit and implicit."
      ]
    },
    {
      "attachments": {},
      "cell_type": "markdown",
      "metadata": {
        "id": "WttZHXH0SqKk"
      },
      "source": [
        "# Hypothesis Testing"
      ]
    },
    {
      "attachments": {},
      "cell_type": "markdown",
      "metadata": {
        "id": "Im936VVi_Zcu"
      },
      "source": [
        "## Comparison of user behavior of two cities"
      ]
    },
    {
      "attachments": {},
      "cell_type": "markdown",
      "metadata": {
        "id": "nwt_MuaL_Zcu"
      },
      "source": [
        "Testing the first hypothesis: users listen to music differently in Moscow and St. Petersburg.\n",
        "\n",
        "Let's check this assumption based on data on three days of the week — Monday, Wednesday and Friday"
      ]
    },
    {
      "cell_type": "code",
      "execution_count": null,
      "metadata": {
        "id": "0_Qs96oh_Zcu",
        "outputId": "024c6dcd-ef74-4cb8-bf22-5fa6049a8f14"
      },
      "outputs": [
        {
          "data": {
            "text/plain": [
              "city\n",
              "Moscow              42741\n",
              "Saint-Petersburg    18512\n",
              "Name: time, dtype: int64"
            ]
          },
          "execution_count": 79,
          "metadata": {},
          "output_type": "execute_result"
        }
      ],
      "source": [
        "df.groupby('city')['time'].count() # Counting auditions in each city"
      ]
    },
    {
      "cell_type": "code",
      "execution_count": null,
      "metadata": {
        "id": "uZMKjiJz_Zcu",
        "outputId": "4f19ccca-763a-471c-d3d3-9f37e57da37a"
      },
      "outputs": [
        {
          "data": {
            "text/plain": [
              "day\n",
              "Friday       21840\n",
              "Monday       21354\n",
              "Wednesday    18059\n",
              "Name: city, dtype: int64"
            ]
          },
          "execution_count": 80,
          "metadata": {},
          "output_type": "execute_result"
        }
      ],
      "source": [
        "df.groupby('day')['city'].count() # Counting auditions on each of the three days"
      ]
    },
    {
      "cell_type": "code",
      "execution_count": null,
      "metadata": {
        "id": "Nz3GdQB1_Zcu"
      },
      "outputs": [],
      "source": [
        "def number_tracks(day, city):\n",
        "    track_list = df[(df['day'] == day)&(df['city'] == city)]\n",
        "    track_list_count = track_list['user_id'].count()\n",
        "    return track_list_count\n",
        "    \n",
        "# A function for counting auditions for a specific city and day"
      ]
    },
    {
      "cell_type": "code",
      "execution_count": null,
      "metadata": {
        "id": "rJcRATNQ_Zcu",
        "outputId": "0f348acc-aba3-45a1-cff7-680f285e97af"
      },
      "outputs": [
        {
          "data": {
            "text/plain": [
              "15740"
            ]
          },
          "execution_count": 82,
          "metadata": {},
          "output_type": "execute_result"
        }
      ],
      "source": [
        "number_tracks('Monday', 'Moscow') # the number of auditions in Moscow on Mondays"
      ]
    },
    {
      "cell_type": "code",
      "execution_count": null,
      "metadata": {
        "id": "hq_ncZ5T_Zcu",
        "outputId": "2d51754e-bb09-4bc9-e7fa-d73ce63895b9"
      },
      "outputs": [
        {
          "data": {
            "text/plain": [
              "5614"
            ]
          },
          "execution_count": 83,
          "metadata": {},
          "output_type": "execute_result"
        }
      ],
      "source": [
        "number_tracks('Monday', 'Saint-Petersburg') # the number of auditions in St. Petersburg on Mondays"
      ]
    },
    {
      "cell_type": "code",
      "execution_count": null,
      "metadata": {
        "id": "_NTy2VPU_Zcu",
        "outputId": "84de1a7c-94ba-495a-80dd-d8de253d205c"
      },
      "outputs": [
        {
          "data": {
            "text/plain": [
              "11056"
            ]
          },
          "execution_count": 84,
          "metadata": {},
          "output_type": "execute_result"
        }
      ],
      "source": [
        "number_tracks('Wednesday', 'Moscow') # number of auditions in Moscow on Wednesdays"
      ]
    },
    {
      "cell_type": "code",
      "execution_count": null,
      "metadata": {
        "id": "j2y3TAwo_Zcu",
        "outputId": "560f19d2-3295-4843-b58a-4e98d977a083"
      },
      "outputs": [
        {
          "data": {
            "text/plain": [
              "7003"
            ]
          },
          "execution_count": 85,
          "metadata": {},
          "output_type": "execute_result"
        }
      ],
      "source": [
        "number_tracks('Wednesday', 'Saint-Petersburg') # number of auditions in St. Petersburg on Wednesdays"
      ]
    },
    {
      "cell_type": "code",
      "execution_count": null,
      "metadata": {
        "id": "vYDw5u_K_Zcu",
        "outputId": "cbbf7a15-3717-4584-ef91-f47770ea42c7"
      },
      "outputs": [
        {
          "data": {
            "text/plain": [
              "15945"
            ]
          },
          "execution_count": 86,
          "metadata": {},
          "output_type": "execute_result"
        }
      ],
      "source": [
        "number_tracks('Friday', 'Moscow') # number of auditions in Moscow on Fridays"
      ]
    },
    {
      "cell_type": "code",
      "execution_count": null,
      "metadata": {
        "id": "8_yzFtW3_Zcu",
        "outputId": "23b260f8-ff27-465c-f18d-db78ddd55eee"
      },
      "outputs": [
        {
          "data": {
            "text/plain": [
              "5895"
            ]
          },
          "execution_count": 87,
          "metadata": {},
          "output_type": "execute_result"
        }
      ],
      "source": [
        "number_tracks('Friday', 'Saint-Petersburg') # number of auditions in St. Petersburg on Fridays"
      ]
    },
    {
      "cell_type": "code",
      "execution_count": null,
      "metadata": {
        "id": "APAcLpOr_Zcu",
        "outputId": "cd1c120b-4cc3-4c5f-da5e-bfc30c839aaf"
      },
      "outputs": [
        {
          "data": {
            "text/html": [
              "<div>\n",
              "<style scoped>\n",
              "    .dataframe tbody tr th:only-of-type {\n",
              "        vertical-align: middle;\n",
              "    }\n",
              "\n",
              "    .dataframe tbody tr th {\n",
              "        vertical-align: top;\n",
              "    }\n",
              "\n",
              "    .dataframe thead th {\n",
              "        text-align: right;\n",
              "    }\n",
              "</style>\n",
              "<table border=\"1\" class=\"dataframe\">\n",
              "  <thead>\n",
              "    <tr style=\"text-align: right;\">\n",
              "      <th></th>\n",
              "      <th>city</th>\n",
              "      <th>monday</th>\n",
              "      <th>wednesday</th>\n",
              "      <th>friday</th>\n",
              "    </tr>\n",
              "  </thead>\n",
              "  <tbody>\n",
              "    <tr>\n",
              "      <td>0</td>\n",
              "      <td>Moscow</td>\n",
              "      <td>15740</td>\n",
              "      <td>11056</td>\n",
              "      <td>15945</td>\n",
              "    </tr>\n",
              "    <tr>\n",
              "      <td>1</td>\n",
              "      <td>Saint-Petersburg</td>\n",
              "      <td>5614</td>\n",
              "      <td>7003</td>\n",
              "      <td>5895</td>\n",
              "    </tr>\n",
              "  </tbody>\n",
              "</table>\n",
              "</div>"
            ],
            "text/plain": [
              "               city  monday  wednesday  friday\n",
              "0            Moscow   15740      11056   15945\n",
              "1  Saint-Petersburg    5614       7003    5895"
            ]
          },
          "execution_count": 89,
          "metadata": {},
          "output_type": "execute_result"
        }
      ],
      "source": [
        "pd.DataFrame(data = [\n",
        "    [\n",
        "        'Moscow', \n",
        "        number_tracks('Monday', 'Moscow'), \n",
        "        number_tracks('Wednesday', 'Moscow'), \n",
        "        number_tracks('Friday', 'Moscow')], \n",
        "    [\n",
        "        'Saint-Petersburg', \n",
        "        number_tracks('Monday', 'Saint-Petersburg'), \n",
        "        number_tracks('Wednesday', 'Saint-Petersburg'), \n",
        "        number_tracks('Friday', 'Saint-Petersburg')]\n",
        "], columns = [\n",
        "    'city',\n",
        "    'monday', \n",
        "    'wednesday', \n",
        "    'friday']) # Results table"
      ]
    },
    {
      "attachments": {},
      "cell_type": "markdown",
      "metadata": {
        "id": "-EgPIHYu_Zcu"
      },
      "source": [
        "**Conclusions**\n",
        "\n",
        "The data shows the difference in user behavior:\n",
        "\n",
        "- In Moscow, the peak of auditions falls on Monday and Friday, and on Wednesday there is a noticeable decline.\n",
        "- In St. Petersburg, on the contrary, they listen to music more on Wednesdays. Activity on Monday and Friday is almost equally inferior to Wednesday here.\n",
        "\n",
        "So, the data speak in favor of the first hypothesis."
      ]
    },
    {
      "attachments": {},
      "cell_type": "markdown",
      "metadata": {
        "id": "atZAxtq4_Zcu"
      },
      "source": [
        "## Music at the beginning and end of the week"
      ]
    },
    {
      "attachments": {},
      "cell_type": "markdown",
      "metadata": {
        "id": "eXrQqXFH_Zcu"
      },
      "source": [
        "Let's check the second hypothesis: on Monday morning, some genres prevail in Moscow, and others in St. Petersburg. Similarly, on Friday evenings, different genres prevail — depending on the city."
      ]
    },
    {
      "cell_type": "code",
      "execution_count": null,
      "metadata": {
        "id": "qeaFfM_P_Zcu"
      },
      "outputs": [],
      "source": [
        "moscow_general = df[df['city'] == 'Moscow'] # getting the moscow_general table from those rows of the df table,\n",
        "# for which the value in the 'city' column is 'Moscow'"
      ]
    },
    {
      "cell_type": "code",
      "execution_count": null,
      "metadata": {
        "id": "ORaVRKto_Zcu"
      },
      "outputs": [],
      "source": [
        "spb_general = df[df['city'] == 'Saint-Petersburg'] # getting the spb_general table from those rows of the df table,\n",
        "# for which the value in the 'city' column is 'Saint-Petersburg'"
      ]
    },
    {
      "cell_type": "code",
      "execution_count": null,
      "metadata": {
        "id": "laJT9BYl_Zcu"
      },
      "outputs": [],
      "source": [
        "def genre_weekday(table, day, time1, time2): # Declaration of the genre_weekday() function with the parameters table, day, time1, time2,\n",
        "    genre_df = table[(table['day'] == day) & (table['time'] > time1) & (table['time'] < time2)]\n",
        "    genre_df_count = genre_df.groupby('genre')['genre'].count()\n",
        "    genre_df_sorted = genre_df_count.sort_values(ascending = False)\n",
        "    return genre_df_sorted.head(10)\n",
        "\n",
        "# the function returns information about the most popular genres on the specified day at the specified time"
      ]
    },
    {
      "cell_type": "code",
      "execution_count": null,
      "metadata": {
        "id": "yz7itPUQ_Zcu",
        "outputId": "a8de1852-66bd-4c13-89a4-ef66a4e3d19f"
      },
      "outputs": [
        {
          "data": {
            "text/plain": [
              "genre\n",
              "pop            781\n",
              "dance          549\n",
              "electronic     480\n",
              "rock           474\n",
              "hip            281\n",
              "ruspop         186\n",
              "world          181\n",
              "rusrap         175\n",
              "alternative    164\n",
              "unknown        161\n",
              "Name: genre, dtype: int64"
            ]
          },
          "execution_count": 65,
          "metadata": {},
          "output_type": "execute_result"
        }
      ],
      "source": [
        "genre_weekday(moscow_general, 'Monday', '07:00', '11:00') # function call for Monday morning in Moscow (instead of df — moscow_general table)"
      ]
    },
    {
      "cell_type": "code",
      "execution_count": null,
      "metadata": {
        "id": "kwUcHPdy_Zcu",
        "outputId": "2197cbc6-6827-4ac5-f622-9bd62d4e97b7"
      },
      "outputs": [
        {
          "data": {
            "text/plain": [
              "genre\n",
              "pop            218\n",
              "dance          182\n",
              "rock           162\n",
              "electronic     147\n",
              "hip             79\n",
              "ruspop          64\n",
              "alternative     58\n",
              "rusrap          55\n",
              "jazz            44\n",
              "classical       40\n",
              "Name: genre, dtype: int64"
            ]
          },
          "execution_count": 66,
          "metadata": {},
          "output_type": "execute_result"
        }
      ],
      "source": [
        "genre_weekday(spb_general, 'Monday', '07:00', '11:00') # function call for Monday morning in St. Petersburg (spb_general table instead of df)"
      ]
    },
    {
      "cell_type": "code",
      "execution_count": null,
      "metadata": {
        "id": "EzXVRE1o_Zcu",
        "outputId": "c8d17643-e470-443d-c50c-59ed9720f22e"
      },
      "outputs": [
        {
          "data": {
            "text/plain": [
              "genre\n",
              "pop            713\n",
              "rock           517\n",
              "dance          495\n",
              "electronic     482\n",
              "hip            267\n",
              "world          208\n",
              "ruspop         170\n",
              "alternative    163\n",
              "classical      163\n",
              "rusrap         142\n",
              "Name: genre, dtype: int64"
            ]
          },
          "execution_count": 67,
          "metadata": {},
          "output_type": "execute_result"
        }
      ],
      "source": [
        "genre_weekday(moscow_general, 'Friday', '17:00', '23:00') # function call for Friday evening in Moscow"
      ]
    },
    {
      "cell_type": "code",
      "execution_count": null,
      "metadata": {
        "id": "JZaEKu5v_Zcu",
        "outputId": "54c8709f-e6b0-4330-ab42-a6fd4ea00b20"
      },
      "outputs": [
        {
          "data": {
            "text/plain": [
              "genre\n",
              "pop            256\n",
              "electronic     216\n",
              "rock           216\n",
              "dance          210\n",
              "hip             94\n",
              "alternative     63\n",
              "jazz            61\n",
              "classical       60\n",
              "rusrap          59\n",
              "world           54\n",
              "Name: genre, dtype: int64"
            ]
          },
          "execution_count": 68,
          "metadata": {},
          "output_type": "execute_result"
        }
      ],
      "source": [
        "genre_weekday(spb_general, 'Friday', '17:00', '23:00') # function call for Friday evening in St. Petersburg"
      ]
    },
    {
      "attachments": {},
      "cell_type": "markdown",
      "metadata": {
        "id": "wrCe4MNX_Zcu"
      },
      "source": [
        "**Conclusions**\n",
        "\n",
        "If we compare the top 10 genres on Monday morning, we can draw the following conclusions:\n",
        "\n",
        "1. In Moscow and St. Petersburg, they listen to similar music. The only difference is that the “world” genre entered the Moscow rating, and jazz and classical music entered the St. Petersburg rating.\n",
        "\n",
        "2. In Moscow, there were so many missing values that the value `unknown\" took the tenth place among the most popular genres. This means that the missing values occupy a significant share in the data and threaten the reliability of the study.\n",
        "\n",
        "Friday night doesn't change that picture. Some genres rise a little higher, others go down, but overall the top 10 remains the same.\n",
        "\n",
        "Thus, the second hypothesis was only partially confirmed:\n",
        "* Users listen to similar music at the beginning of the week and at the end.\n",
        "* The difference between Moscow and St. Petersburg is not too pronounced. In Moscow, they listen to Russian popular music more often, in St. Petersburg — jazz.\n",
        "\n",
        "However, omissions in the data cast doubt on this result. There are so many of them in Moscow that the top-10 rating could look different if not for the lost data on genres."
      ]
    },
    {
      "attachments": {},
      "cell_type": "markdown",
      "metadata": {
        "id": "JolODAqr_Zcu"
      },
      "source": [
        "## Genre preferences in Moscow and St. Petersburg\n",
        "\n",
        "Let's check the third hypothesis: St. Petersburg is the capital of rap, music of this genre is listened to there more often than in Moscow, and pop music prevails in Moscow."
      ]
    },
    {
      "cell_type": "code",
      "execution_count": null,
      "metadata": {
        "id": "r19lIPke_Zcu"
      },
      "outputs": [],
      "source": [
        "moscow_genres = moscow_general.groupby('genre')['genre'].count().sort_values(ascending = False)"
      ]
    },
    {
      "cell_type": "code",
      "execution_count": null,
      "metadata": {
        "id": "WhCSooF8_Zcv",
        "outputId": "249d9938-bfb9-4a34-eeae-248dd1137492"
      },
      "outputs": [
        {
          "data": {
            "text/plain": [
              "genre\n",
              "pop            5892\n",
              "dance          4435\n",
              "rock           3965\n",
              "electronic     3786\n",
              "hip            2041\n",
              "classical      1616\n",
              "world          1432\n",
              "alternative    1379\n",
              "ruspop         1372\n",
              "rusrap         1161\n",
              "Name: genre, dtype: int64"
            ]
          },
          "metadata": {},
          "output_type": "display_data"
        }
      ],
      "source": [
        "display(moscow_genres.head(10)) # viewing the first 10 rows of moscow_genres"
      ]
    },
    {
      "cell_type": "code",
      "execution_count": null,
      "metadata": {
        "id": "gluLIpE7_Zcv"
      },
      "outputs": [],
      "source": [
        "spb_genres = spb_general.groupby('genre')['genre'].count().sort_values(ascending = False)"
      ]
    },
    {
      "cell_type": "code",
      "execution_count": null,
      "metadata": {
        "id": "uaGJHjVU_Zcv",
        "outputId": "c47181ad-19e9-4dec-fa44-d2e462eb8431"
      },
      "outputs": [
        {
          "data": {
            "text/plain": [
              "genre\n",
              "pop            2431\n",
              "dance          1932\n",
              "rock           1879\n",
              "electronic     1736\n",
              "hip             934\n",
              "alternative     649\n",
              "classical       646\n",
              "rusrap          564\n",
              "ruspop          538\n",
              "world           515\n",
              "Name: genre, dtype: int64"
            ]
          },
          "metadata": {},
          "output_type": "display_data"
        }
      ],
      "source": [
        "display(spb_genres.head(10)) # viewing the first 10 rows of spb_genres"
      ]
    },
    {
      "attachments": {},
      "cell_type": "markdown",
      "metadata": {
        "id": "RY51YJYu_Zcv"
      },
      "source": [
        "**Conclusions**"
      ]
    },
    {
      "attachments": {},
      "cell_type": "markdown",
      "metadata": {
        "id": "nVhnJEm__Zcv"
      },
      "source": [
        "The hypothesis was partially confirmed:\n",
        "* Pop music is the most popular genre in Moscow, as the hypothesis suggested. Moreover, in the top 10 genres there is a similar genre - Russian popular music.\n",
        "* Contrary to expectations, rap is equally popular in Moscow and St. Petersburg.\n"
      ]
    },
    {
      "attachments": {},
      "cell_type": "markdown",
      "metadata": {
        "id": "ykKQ0N65_Zcv"
      },
      "source": [
        "# Final Conclusion"
      ]
    },
    {
      "attachments": {},
      "cell_type": "markdown",
      "metadata": {
        "id": "tjUwbHb3_Zcv"
      },
      "source": [
        "Hypotheses have been tested and the following has been established:\n",
        "\n",
        "1. The day of the week has different effects on user activity in Moscow and St. Petersburg. \n",
        "\n",
        "The first hypothesis was fully confirmed.\n",
        "\n",
        "2. Musical preferences do not change much during the week — be it Moscow or St. Petersburg. Small differences are noticeable at the beginning of the week, on Mondays:\n",
        "* in Moscow, they listen to music of the “world” genre,\n",
        "* in St. Petersburg — jazz and classics.\n",
        "\n",
        "Thus, the second hypothesis was only partially confirmed. This result could have turned out to be different if not for the omissions in the data.\n",
        "\n",
        "3. There are more similarities than differences in the tastes of users in Moscow and St. Petersburg. Contrary to expectations, genre preferences in St. Petersburg resemble those in Moscow.\n",
        "\n",
        "The third hypothesis was not confirmed. If there are differences in preferences, they are invisible to the majority of users."
      ]
    }
  ],
  "metadata": {
    "ExecuteTimeLog": [
      {
        "duration": 300,
        "start_time": "2021-12-14T21:05:34.886Z"
      },
      {
        "duration": 557,
        "start_time": "2021-12-14T21:05:49.006Z"
      },
      {
        "duration": 144,
        "start_time": "2021-12-14T21:05:49.565Z"
      },
      {
        "duration": 3,
        "start_time": "2021-12-14T21:05:59.173Z"
      },
      {
        "duration": 156,
        "start_time": "2021-12-14T21:06:01.527Z"
      },
      {
        "duration": 16,
        "start_time": "2021-12-14T21:06:03.601Z"
      },
      {
        "duration": 11,
        "start_time": "2021-12-14T21:06:11.827Z"
      },
      {
        "duration": 24,
        "start_time": "2021-12-14T21:06:50.997Z"
      },
      {
        "duration": 4,
        "start_time": "2021-12-14T21:10:25.573Z"
      },
      {
        "duration": 84,
        "start_time": "2021-12-14T21:12:18.412Z"
      },
      {
        "duration": 279,
        "start_time": "2021-12-14T21:12:38.198Z"
      },
      {
        "duration": 329,
        "start_time": "2021-12-14T21:13:20.188Z"
      },
      {
        "duration": 31,
        "start_time": "2021-12-14T21:14:35.859Z"
      },
      {
        "duration": 4,
        "start_time": "2021-12-14T21:15:02.203Z"
      },
      {
        "duration": 21,
        "start_time": "2021-12-14T21:15:27.761Z"
      },
      {
        "duration": 20,
        "start_time": "2021-12-14T21:15:31.212Z"
      },
      {
        "duration": 4,
        "start_time": "2021-12-14T21:15:36.649Z"
      },
      {
        "duration": 256,
        "start_time": "2021-12-14T21:17:08.135Z"
      },
      {
        "duration": 247,
        "start_time": "2021-12-14T21:17:28.745Z"
      },
      {
        "duration": 28,
        "start_time": "2021-12-14T21:17:50.716Z"
      },
      {
        "duration": 23,
        "start_time": "2021-12-14T21:18:01.053Z"
      },
      {
        "duration": 24,
        "start_time": "2021-12-14T21:19:18.356Z"
      },
      {
        "duration": 234,
        "start_time": "2021-12-14T21:24:54.630Z"
      },
      {
        "duration": 18,
        "start_time": "2021-12-14T21:25:19.581Z"
      },
      {
        "duration": 25,
        "start_time": "2021-12-14T21:25:35.168Z"
      },
      {
        "duration": 77,
        "start_time": "2021-12-14T21:26:04.972Z"
      },
      {
        "duration": 50,
        "start_time": "2021-12-14T21:26:12.134Z"
      },
      {
        "duration": 318,
        "start_time": "2021-12-14T21:28:08.463Z"
      },
      {
        "duration": 239,
        "start_time": "2021-12-14T21:28:37.750Z"
      },
      {
        "duration": 245,
        "start_time": "2021-12-14T21:30:51.591Z"
      },
      {
        "duration": 70,
        "start_time": "2021-12-14T21:36:58.078Z"
      },
      {
        "duration": 52,
        "start_time": "2021-12-14T21:37:10.944Z"
      },
      {
        "duration": 64,
        "start_time": "2021-12-14T21:37:18.403Z"
      },
      {
        "duration": 50,
        "start_time": "2021-12-14T21:37:23.302Z"
      },
      {
        "duration": 6,
        "start_time": "2021-12-14T21:37:56.928Z"
      },
      {
        "duration": 235,
        "start_time": "2021-12-14T21:39:12.256Z"
      },
      {
        "duration": 248,
        "start_time": "2021-12-14T21:39:24.546Z"
      },
      {
        "duration": 5,
        "start_time": "2021-12-14T21:40:47.873Z"
      },
      {
        "duration": 236,
        "start_time": "2021-12-14T21:41:03.362Z"
      },
      {
        "duration": 98,
        "start_time": "2021-12-14T21:41:06.492Z"
      },
      {
        "duration": 252,
        "start_time": "2021-12-14T21:41:08.824Z"
      },
      {
        "duration": 5,
        "start_time": "2021-12-14T21:41:40.795Z"
      },
      {
        "duration": 249,
        "start_time": "2021-12-14T21:41:48.284Z"
      },
      {
        "duration": 238,
        "start_time": "2021-12-14T21:41:51.958Z"
      },
      {
        "duration": 6,
        "start_time": "2021-12-14T21:42:18.106Z"
      },
      {
        "duration": 253,
        "start_time": "2021-12-14T21:43:57.685Z"
      },
      {
        "duration": 236,
        "start_time": "2021-12-14T21:45:46.387Z"
      },
      {
        "duration": 242,
        "start_time": "2021-12-14T21:45:54.402Z"
      },
      {
        "duration": 247,
        "start_time": "2021-12-14T21:47:41.822Z"
      },
      {
        "duration": 7,
        "start_time": "2021-12-14T21:47:50.536Z"
      },
      {
        "duration": 255,
        "start_time": "2021-12-14T21:49:01.191Z"
      },
      {
        "duration": 248,
        "start_time": "2021-12-14T21:49:15.554Z"
      },
      {
        "duration": 243,
        "start_time": "2021-12-14T21:49:29.645Z"
      },
      {
        "duration": 248,
        "start_time": "2021-12-14T21:49:38.458Z"
      },
      {
        "duration": 7,
        "start_time": "2021-12-14T21:51:09.506Z"
      },
      {
        "duration": 7,
        "start_time": "2021-12-14T21:51:24.712Z"
      },
      {
        "duration": 7,
        "start_time": "2021-12-14T21:51:29.663Z"
      },
      {
        "duration": 5,
        "start_time": "2021-12-14T21:51:37.790Z"
      },
      {
        "duration": 239,
        "start_time": "2021-12-14T21:52:25.846Z"
      },
      {
        "duration": 243,
        "start_time": "2021-12-14T21:52:28.897Z"
      },
      {
        "duration": 245,
        "start_time": "2021-12-14T21:53:02.582Z"
      },
      {
        "duration": 289,
        "start_time": "2021-12-14T21:53:08.323Z"
      },
      {
        "duration": 294,
        "start_time": "2021-12-14T21:53:18.826Z"
      },
      {
        "duration": 51,
        "start_time": "2021-12-14T21:53:29.792Z"
      },
      {
        "duration": 53,
        "start_time": "2021-12-14T21:53:46.684Z"
      },
      {
        "duration": 322,
        "start_time": "2021-12-14T21:54:05.908Z"
      },
      {
        "duration": 47,
        "start_time": "2021-12-14T21:54:29.746Z"
      },
      {
        "duration": 287,
        "start_time": "2021-12-14T21:54:44.225Z"
      },
      {
        "duration": 273,
        "start_time": "2021-12-14T21:55:06.453Z"
      },
      {
        "duration": 268,
        "start_time": "2021-12-14T21:55:09.001Z"
      },
      {
        "duration": 272,
        "start_time": "2021-12-14T21:55:21.351Z"
      },
      {
        "duration": 41,
        "start_time": "2021-12-14T21:55:30.915Z"
      },
      {
        "duration": 46,
        "start_time": "2021-12-14T21:56:02.338Z"
      },
      {
        "duration": 3,
        "start_time": "2021-12-14T21:58:25.440Z"
      },
      {
        "duration": 72,
        "start_time": "2021-12-14T21:59:07.763Z"
      },
      {
        "duration": 237,
        "start_time": "2021-12-14T21:59:52.895Z"
      },
      {
        "duration": 43,
        "start_time": "2021-12-14T22:00:00.735Z"
      },
      {
        "duration": 259,
        "start_time": "2021-12-14T22:02:00.698Z"
      },
      {
        "duration": 269,
        "start_time": "2021-12-14T22:02:09.427Z"
      },
      {
        "duration": 260,
        "start_time": "2021-12-14T22:02:38.636Z"
      },
      {
        "duration": 230,
        "start_time": "2021-12-14T22:02:52.925Z"
      },
      {
        "duration": 310,
        "start_time": "2021-12-14T22:03:04.341Z"
      },
      {
        "duration": 337,
        "start_time": "2021-12-14T22:03:10.250Z"
      },
      {
        "duration": 37,
        "start_time": "2021-12-14T22:03:19.465Z"
      },
      {
        "duration": 67,
        "start_time": "2021-12-14T22:08:08.818Z"
      },
      {
        "duration": 63,
        "start_time": "2021-12-14T22:09:38.113Z"
      },
      {
        "duration": 12,
        "start_time": "2021-12-14T22:11:44.701Z"
      },
      {
        "duration": 43,
        "start_time": "2021-12-14T22:11:59.706Z"
      },
      {
        "duration": 12,
        "start_time": "2021-12-14T22:12:46.805Z"
      },
      {
        "duration": 11,
        "start_time": "2021-12-14T22:13:18.517Z"
      },
      {
        "duration": 316,
        "start_time": "2021-12-14T22:18:45.329Z"
      },
      {
        "duration": 3,
        "start_time": "2021-12-14T22:18:55.727Z"
      },
      {
        "duration": 18,
        "start_time": "2021-12-14T22:18:59.965Z"
      },
      {
        "duration": 13,
        "start_time": "2021-12-14T22:19:28.010Z"
      },
      {
        "duration": 12,
        "start_time": "2021-12-14T22:19:33.361Z"
      },
      {
        "duration": 16,
        "start_time": "2021-12-14T22:19:37.047Z"
      },
      {
        "duration": 20,
        "start_time": "2021-12-14T22:19:48.670Z"
      },
      {
        "duration": 17,
        "start_time": "2021-12-14T22:19:51.503Z"
      },
      {
        "duration": 15,
        "start_time": "2021-12-14T22:20:12.183Z"
      },
      {
        "duration": 15,
        "start_time": "2021-12-14T22:20:34.522Z"
      },
      {
        "duration": 18,
        "start_time": "2021-12-14T22:20:36.523Z"
      },
      {
        "duration": 81,
        "start_time": "2021-12-14T22:22:17.706Z"
      },
      {
        "duration": 254,
        "start_time": "2021-12-14T22:22:20.963Z"
      },
      {
        "duration": 8,
        "start_time": "2021-12-14T22:26:42.950Z"
      },
      {
        "duration": 318,
        "start_time": "2021-12-15T16:40:20.135Z"
      },
      {
        "duration": 634,
        "start_time": "2021-12-15T16:43:16.616Z"
      },
      {
        "duration": 140,
        "start_time": "2021-12-15T16:43:17.252Z"
      },
      {
        "duration": 18,
        "start_time": "2021-12-15T16:43:17.395Z"
      },
      {
        "duration": 39,
        "start_time": "2021-12-15T16:43:17.416Z"
      },
      {
        "duration": 8,
        "start_time": "2021-12-15T16:43:17.457Z"
      },
      {
        "duration": 32,
        "start_time": "2021-12-15T16:43:17.466Z"
      },
      {
        "duration": 11,
        "start_time": "2021-12-15T16:43:17.500Z"
      },
      {
        "duration": 37,
        "start_time": "2021-12-15T16:43:17.513Z"
      },
      {
        "duration": 31,
        "start_time": "2021-12-15T16:43:17.553Z"
      },
      {
        "duration": 23,
        "start_time": "2021-12-15T16:43:17.586Z"
      },
      {
        "duration": 74,
        "start_time": "2021-12-15T16:43:17.611Z"
      },
      {
        "duration": 69,
        "start_time": "2021-12-15T16:43:17.686Z"
      },
      {
        "duration": 50,
        "start_time": "2021-12-15T16:43:17.757Z"
      },
      {
        "duration": 61,
        "start_time": "2021-12-15T16:43:17.808Z"
      },
      {
        "duration": 3,
        "start_time": "2021-12-15T16:43:17.870Z"
      },
      {
        "duration": 91,
        "start_time": "2021-12-15T16:43:17.874Z"
      },
      {
        "duration": 42,
        "start_time": "2021-12-15T16:43:17.967Z"
      },
      {
        "duration": 14,
        "start_time": "2021-12-15T16:43:18.010Z"
      },
      {
        "duration": 32,
        "start_time": "2021-12-15T16:43:18.026Z"
      },
      {
        "duration": 9,
        "start_time": "2021-12-15T16:43:18.060Z"
      },
      {
        "duration": 40,
        "start_time": "2021-12-15T16:43:18.070Z"
      },
      {
        "duration": 25,
        "start_time": "2021-12-15T16:43:18.111Z"
      },
      {
        "duration": 30,
        "start_time": "2021-12-15T16:43:18.138Z"
      },
      {
        "duration": 35,
        "start_time": "2021-12-15T16:43:18.170Z"
      },
      {
        "duration": 18,
        "start_time": "2021-12-15T16:43:18.206Z"
      },
      {
        "duration": 15,
        "start_time": "2021-12-15T16:43:18.225Z"
      },
      {
        "duration": 8,
        "start_time": "2021-12-15T16:43:18.243Z"
      },
      {
        "duration": 22,
        "start_time": "2021-12-15T16:43:21.643Z"
      },
      {
        "duration": 21,
        "start_time": "2021-12-15T16:43:35.268Z"
      },
      {
        "duration": 19,
        "start_time": "2021-12-15T16:44:38.578Z"
      },
      {
        "duration": 10,
        "start_time": "2021-12-15T16:44:46.016Z"
      },
      {
        "duration": 700,
        "start_time": "2021-12-15T17:03:37.712Z"
      },
      {
        "duration": 10,
        "start_time": "2021-12-15T17:03:51.178Z"
      },
      {
        "duration": 14,
        "start_time": "2021-12-15T17:03:53.989Z"
      },
      {
        "duration": 299,
        "start_time": "2021-12-15T17:03:59.245Z"
      },
      {
        "duration": 4,
        "start_time": "2021-12-15T17:04:26.954Z"
      },
      {
        "duration": 560,
        "start_time": "2021-12-15T17:05:23.863Z"
      },
      {
        "duration": 350,
        "start_time": "2021-12-15T17:06:11.893Z"
      },
      {
        "duration": 388,
        "start_time": "2021-12-15T17:06:35.298Z"
      },
      {
        "duration": 284,
        "start_time": "2021-12-15T17:06:52.549Z"
      },
      {
        "duration": 9,
        "start_time": "2021-12-15T17:09:32.431Z"
      },
      {
        "duration": 3,
        "start_time": "2021-12-15T17:09:41.693Z"
      },
      {
        "duration": 10,
        "start_time": "2021-12-15T17:09:44.249Z"
      },
      {
        "duration": 278,
        "start_time": "2021-12-15T17:12:03.777Z"
      },
      {
        "duration": 1036,
        "start_time": "2021-12-15T17:12:18.719Z"
      },
      {
        "duration": 325,
        "start_time": "2021-12-15T17:20:12.009Z"
      },
      {
        "duration": 273,
        "start_time": "2021-12-15T17:21:40.756Z"
      },
      {
        "duration": 13,
        "start_time": "2021-12-15T17:21:47.182Z"
      },
      {
        "duration": 20,
        "start_time": "2021-12-15T17:22:18.300Z"
      },
      {
        "duration": 17,
        "start_time": "2021-12-15T17:22:42.132Z"
      },
      {
        "duration": 29,
        "start_time": "2021-12-15T17:23:09.421Z"
      },
      {
        "duration": 16,
        "start_time": "2021-12-15T17:23:43.067Z"
      },
      {
        "duration": 18,
        "start_time": "2021-12-15T17:24:06.758Z"
      },
      {
        "duration": 13,
        "start_time": "2021-12-15T17:24:47.732Z"
      },
      {
        "duration": 23,
        "start_time": "2021-12-15T17:25:07.746Z"
      },
      {
        "duration": 21,
        "start_time": "2021-12-15T17:25:40.343Z"
      },
      {
        "duration": 20,
        "start_time": "2021-12-15T17:26:37.401Z"
      },
      {
        "duration": 19,
        "start_time": "2021-12-15T17:29:20.848Z"
      },
      {
        "duration": 3,
        "start_time": "2021-12-15T17:30:24.759Z"
      },
      {
        "duration": 556,
        "start_time": "2021-12-15T17:30:52.396Z"
      },
      {
        "duration": 4,
        "start_time": "2021-12-15T17:31:12.068Z"
      },
      {
        "duration": 20,
        "start_time": "2021-12-15T17:31:14.319Z"
      },
      {
        "duration": 4,
        "start_time": "2021-12-15T17:31:33.413Z"
      },
      {
        "duration": 19,
        "start_time": "2021-12-15T17:31:35.557Z"
      },
      {
        "duration": 14,
        "start_time": "2021-12-15T17:32:10.708Z"
      },
      {
        "duration": 20,
        "start_time": "2021-12-15T17:33:09.249Z"
      },
      {
        "duration": 15,
        "start_time": "2021-12-15T17:33:52.118Z"
      },
      {
        "duration": 297,
        "start_time": "2021-12-15T17:37:26.489Z"
      },
      {
        "duration": 270,
        "start_time": "2021-12-15T17:37:51.547Z"
      },
      {
        "duration": 9,
        "start_time": "2021-12-15T17:38:00.810Z"
      },
      {
        "duration": 4,
        "start_time": "2021-12-15T17:38:24.628Z"
      },
      {
        "duration": 5,
        "start_time": "2021-12-15T17:38:31.519Z"
      },
      {
        "duration": 6,
        "start_time": "2021-12-15T17:39:30.437Z"
      },
      {
        "duration": 5,
        "start_time": "2021-12-15T17:39:45.178Z"
      },
      {
        "duration": 488,
        "start_time": "2021-12-16T16:08:12.240Z"
      },
      {
        "duration": 723,
        "start_time": "2021-12-16T16:08:20.838Z"
      },
      {
        "duration": 163,
        "start_time": "2021-12-16T16:08:21.564Z"
      },
      {
        "duration": 25,
        "start_time": "2021-12-16T16:08:21.730Z"
      },
      {
        "duration": 31,
        "start_time": "2021-12-16T16:08:21.757Z"
      },
      {
        "duration": 6,
        "start_time": "2021-12-16T16:08:25.602Z"
      },
      {
        "duration": 3,
        "start_time": "2021-12-16T16:23:20.264Z"
      },
      {
        "duration": 180,
        "start_time": "2021-12-16T16:23:20.273Z"
      },
      {
        "duration": 14,
        "start_time": "2021-12-16T16:23:20.456Z"
      },
      {
        "duration": 50,
        "start_time": "2021-12-16T16:23:20.473Z"
      },
      {
        "duration": 9,
        "start_time": "2021-12-16T16:23:20.526Z"
      },
      {
        "duration": 36,
        "start_time": "2021-12-16T16:23:20.538Z"
      },
      {
        "duration": 13,
        "start_time": "2021-12-16T16:23:20.576Z"
      },
      {
        "duration": 37,
        "start_time": "2021-12-16T16:23:20.592Z"
      },
      {
        "duration": 39,
        "start_time": "2021-12-16T16:23:20.632Z"
      },
      {
        "duration": 29,
        "start_time": "2021-12-16T16:23:20.673Z"
      },
      {
        "duration": 92,
        "start_time": "2021-12-16T16:23:20.704Z"
      },
      {
        "duration": 102,
        "start_time": "2021-12-16T16:23:20.799Z"
      },
      {
        "duration": 78,
        "start_time": "2021-12-16T16:23:20.903Z"
      },
      {
        "duration": 86,
        "start_time": "2021-12-16T16:23:20.983Z"
      },
      {
        "duration": 298,
        "start_time": "2021-12-16T16:23:28.591Z"
      },
      {
        "duration": 4,
        "start_time": "2021-12-16T16:23:54.754Z"
      },
      {
        "duration": 195,
        "start_time": "2021-12-16T16:23:56.911Z"
      },
      {
        "duration": 59,
        "start_time": "2021-12-16T16:24:01.021Z"
      },
      {
        "duration": 3,
        "start_time": "2021-12-16T16:25:36.470Z"
      },
      {
        "duration": 93,
        "start_time": "2021-12-16T16:25:38.855Z"
      },
      {
        "duration": 65,
        "start_time": "2021-12-16T16:25:41.125Z"
      },
      {
        "duration": 4,
        "start_time": "2021-12-16T16:27:46.213Z"
      },
      {
        "duration": 59,
        "start_time": "2021-12-16T16:27:49.143Z"
      },
      {
        "duration": 54,
        "start_time": "2021-12-16T16:28:02.302Z"
      },
      {
        "duration": 101,
        "start_time": "2021-12-16T16:32:27.044Z"
      },
      {
        "duration": 72,
        "start_time": "2021-12-16T16:32:34.565Z"
      },
      {
        "duration": 109,
        "start_time": "2021-12-16T16:32:48.835Z"
      },
      {
        "duration": 165,
        "start_time": "2021-12-16T16:35:31.788Z"
      },
      {
        "duration": 690,
        "start_time": "2021-12-16T16:38:08.364Z"
      },
      {
        "duration": 106,
        "start_time": "2021-12-16T16:38:39.443Z"
      },
      {
        "duration": 5,
        "start_time": "2021-12-16T16:39:02.653Z"
      },
      {
        "duration": 541,
        "start_time": "2021-12-16T16:39:07.551Z"
      },
      {
        "duration": 4,
        "start_time": "2021-12-16T16:39:23.988Z"
      },
      {
        "duration": 574,
        "start_time": "2021-12-16T16:39:30.860Z"
      },
      {
        "duration": 4,
        "start_time": "2021-12-16T16:40:15.844Z"
      },
      {
        "duration": 180,
        "start_time": "2021-12-16T16:40:15.853Z"
      },
      {
        "duration": 15,
        "start_time": "2021-12-16T16:40:16.036Z"
      },
      {
        "duration": 34,
        "start_time": "2021-12-16T16:40:16.054Z"
      },
      {
        "duration": 5,
        "start_time": "2021-12-16T16:40:16.091Z"
      },
      {
        "duration": 40,
        "start_time": "2021-12-16T16:40:16.098Z"
      },
      {
        "duration": 5,
        "start_time": "2021-12-16T16:40:16.140Z"
      },
      {
        "duration": 27,
        "start_time": "2021-12-16T16:40:16.148Z"
      },
      {
        "duration": 52,
        "start_time": "2021-12-16T16:40:16.179Z"
      },
      {
        "duration": 28,
        "start_time": "2021-12-16T16:40:16.234Z"
      },
      {
        "duration": 100,
        "start_time": "2021-12-16T16:40:16.265Z"
      },
      {
        "duration": 94,
        "start_time": "2021-12-16T16:40:16.367Z"
      },
      {
        "duration": 77,
        "start_time": "2021-12-16T16:40:16.464Z"
      },
      {
        "duration": 66,
        "start_time": "2021-12-16T16:40:16.543Z"
      },
      {
        "duration": 4,
        "start_time": "2021-12-16T16:40:16.623Z"
      },
      {
        "duration": 67,
        "start_time": "2021-12-16T16:40:22.002Z"
      },
      {
        "duration": 179,
        "start_time": "2021-12-16T16:42:33.946Z"
      },
      {
        "duration": 4,
        "start_time": "2021-12-16T16:42:45.147Z"
      },
      {
        "duration": 13,
        "start_time": "2021-12-16T16:42:47.615Z"
      },
      {
        "duration": 55,
        "start_time": "2021-12-16T16:42:51.556Z"
      },
      {
        "duration": 282,
        "start_time": "2021-12-16T16:48:12.636Z"
      },
      {
        "duration": 4,
        "start_time": "2021-12-16T16:48:22.937Z"
      },
      {
        "duration": 205,
        "start_time": "2021-12-16T16:48:22.947Z"
      },
      {
        "duration": 15,
        "start_time": "2021-12-16T16:48:23.155Z"
      },
      {
        "duration": 49,
        "start_time": "2021-12-16T16:48:23.174Z"
      },
      {
        "duration": 9,
        "start_time": "2021-12-16T16:48:23.226Z"
      },
      {
        "duration": 29,
        "start_time": "2021-12-16T16:48:23.238Z"
      },
      {
        "duration": 15,
        "start_time": "2021-12-16T16:48:23.269Z"
      },
      {
        "duration": 42,
        "start_time": "2021-12-16T16:48:23.286Z"
      },
      {
        "duration": 25,
        "start_time": "2021-12-16T16:48:23.331Z"
      },
      {
        "duration": 29,
        "start_time": "2021-12-16T16:48:23.359Z"
      },
      {
        "duration": 108,
        "start_time": "2021-12-16T16:48:23.391Z"
      },
      {
        "duration": 103,
        "start_time": "2021-12-16T16:48:23.502Z"
      },
      {
        "duration": 78,
        "start_time": "2021-12-16T16:48:23.608Z"
      },
      {
        "duration": 89,
        "start_time": "2021-12-16T16:48:23.689Z"
      },
      {
        "duration": 4,
        "start_time": "2021-12-16T16:48:23.780Z"
      },
      {
        "duration": 15,
        "start_time": "2021-12-16T16:48:23.787Z"
      },
      {
        "duration": 71,
        "start_time": "2021-12-16T16:48:23.804Z"
      },
      {
        "duration": 45,
        "start_time": "2021-12-16T16:48:23.878Z"
      },
      {
        "duration": 19,
        "start_time": "2021-12-16T16:48:23.926Z"
      },
      {
        "duration": 6,
        "start_time": "2021-12-16T16:48:23.947Z"
      },
      {
        "duration": 24,
        "start_time": "2021-12-16T16:48:23.955Z"
      },
      {
        "duration": 52,
        "start_time": "2021-12-16T16:48:23.982Z"
      },
      {
        "duration": 19,
        "start_time": "2021-12-16T16:48:24.037Z"
      },
      {
        "duration": 18,
        "start_time": "2021-12-16T16:48:24.060Z"
      },
      {
        "duration": 53,
        "start_time": "2021-12-16T16:48:24.081Z"
      },
      {
        "duration": 27,
        "start_time": "2021-12-16T16:48:24.137Z"
      },
      {
        "duration": 91,
        "start_time": "2021-12-16T16:48:27.594Z"
      },
      {
        "duration": 87,
        "start_time": "2021-12-16T16:51:45.227Z"
      }
    ],
    "colab": {
      "collapsed_sections": [
        "E0vqbgi9ay0H",
        "VUC88oWjTJw2"
      ],
      "provenance": []
    },
    "kernelspec": {
      "display_name": "Python 3 (ipykernel)",
      "language": "python",
      "name": "python3"
    },
    "language_info": {
      "codemirror_mode": {
        "name": "ipython",
        "version": 3
      },
      "file_extension": ".py",
      "mimetype": "text/x-python",
      "name": "python",
      "nbconvert_exporter": "python",
      "pygments_lexer": "ipython3",
      "version": "3.9.5"
    },
    "toc": {
      "base_numbering": 1,
      "nav_menu": {},
      "number_sections": true,
      "sideBar": true,
      "skip_h1_title": true,
      "title_cell": "Table of Contents",
      "title_sidebar": "Contents",
      "toc_cell": false,
      "toc_position": {},
      "toc_section_display": true,
      "toc_window_display": true
    }
  },
  "nbformat": 4,
  "nbformat_minor": 0
}
