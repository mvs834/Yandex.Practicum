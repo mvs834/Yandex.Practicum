{
  "cells": [
    {
      "attachments": {},
      "cell_type": "markdown",
      "metadata": {
        "id": "sXf1ovwa_WsN"
      },
      "source": [
        "# Project Description\n",
        "\n",
        "The goal is to identify patterns that determine the success of a game based on historical data about games. This will enable betting on a potentially popular product and planning advertising campaigns."
      ]
    },
    {
      "attachments": {},
      "cell_type": "markdown",
      "metadata": {
        "id": "uQIocRtnnDup"
      },
      "source": [
        "# Data Upload and Overview"
      ]
    },
    {
      "cell_type": "code",
      "execution_count": null,
      "metadata": {
        "id": "6JptsEt5rAhN"
      },
      "outputs": [],
      "source": [
        "import pandas as pd\n",
        "import numpy as np\n",
        "import seaborn as sns\n",
        "import matplotlib.pyplot as plt\n",
        "import warnings\n",
        "\n",
        "warnings.filterwarnings(\"ignore\", category=DeprecationWarning)\n",
        "pd.options.mode.chained_assignment = None"
      ]
    },
    {
      "cell_type": "code",
      "execution_count": null,
      "metadata": {
        "id": "k_4ERZ5jfDGr"
      },
      "outputs": [],
      "source": [
        "df=pd.read_csv('/datasets/games.csv')"
      ]
    },
    {
      "cell_type": "code",
      "execution_count": null,
      "metadata": {
        "colab": {
          "base_uri": "https://localhost:8080/",
          "height": 467
        },
        "id": "OfFrCgwyh1yz",
        "outputId": "e74f245e-c248-4f68-d141-8aaa9cda9162"
      },
      "outputs": [
        {
          "data": {
            "text/html": [
              "<div>\n",
              "<style scoped>\n",
              "    .dataframe tbody tr th:only-of-type {\n",
              "        vertical-align: middle;\n",
              "    }\n",
              "\n",
              "    .dataframe tbody tr th {\n",
              "        vertical-align: top;\n",
              "    }\n",
              "\n",
              "    .dataframe thead th {\n",
              "        text-align: right;\n",
              "    }\n",
              "</style>\n",
              "<table border=\"1\" class=\"dataframe\">\n",
              "  <thead>\n",
              "    <tr style=\"text-align: right;\">\n",
              "      <th></th>\n",
              "      <th>Name</th>\n",
              "      <th>Platform</th>\n",
              "      <th>Year_of_Release</th>\n",
              "      <th>Genre</th>\n",
              "      <th>NA_sales</th>\n",
              "      <th>EU_sales</th>\n",
              "      <th>JP_sales</th>\n",
              "      <th>Other_sales</th>\n",
              "      <th>Critic_Score</th>\n",
              "      <th>User_Score</th>\n",
              "      <th>Rating</th>\n",
              "    </tr>\n",
              "  </thead>\n",
              "  <tbody>\n",
              "    <tr>\n",
              "      <th>0</th>\n",
              "      <td>Wii Sports</td>\n",
              "      <td>Wii</td>\n",
              "      <td>2006.0</td>\n",
              "      <td>Sports</td>\n",
              "      <td>41.36</td>\n",
              "      <td>28.96</td>\n",
              "      <td>3.77</td>\n",
              "      <td>8.45</td>\n",
              "      <td>76.0</td>\n",
              "      <td>8</td>\n",
              "      <td>E</td>\n",
              "    </tr>\n",
              "    <tr>\n",
              "      <th>1</th>\n",
              "      <td>Super Mario Bros.</td>\n",
              "      <td>NES</td>\n",
              "      <td>1985.0</td>\n",
              "      <td>Platform</td>\n",
              "      <td>29.08</td>\n",
              "      <td>3.58</td>\n",
              "      <td>6.81</td>\n",
              "      <td>0.77</td>\n",
              "      <td>NaN</td>\n",
              "      <td>NaN</td>\n",
              "      <td>NaN</td>\n",
              "    </tr>\n",
              "    <tr>\n",
              "      <th>2</th>\n",
              "      <td>Mario Kart Wii</td>\n",
              "      <td>Wii</td>\n",
              "      <td>2008.0</td>\n",
              "      <td>Racing</td>\n",
              "      <td>15.68</td>\n",
              "      <td>12.76</td>\n",
              "      <td>3.79</td>\n",
              "      <td>3.29</td>\n",
              "      <td>82.0</td>\n",
              "      <td>8.3</td>\n",
              "      <td>E</td>\n",
              "    </tr>\n",
              "    <tr>\n",
              "      <th>3</th>\n",
              "      <td>Wii Sports Resort</td>\n",
              "      <td>Wii</td>\n",
              "      <td>2009.0</td>\n",
              "      <td>Sports</td>\n",
              "      <td>15.61</td>\n",
              "      <td>10.93</td>\n",
              "      <td>3.28</td>\n",
              "      <td>2.95</td>\n",
              "      <td>80.0</td>\n",
              "      <td>8</td>\n",
              "      <td>E</td>\n",
              "    </tr>\n",
              "    <tr>\n",
              "      <th>4</th>\n",
              "      <td>Pokemon Red/Pokemon Blue</td>\n",
              "      <td>GB</td>\n",
              "      <td>1996.0</td>\n",
              "      <td>Role-Playing</td>\n",
              "      <td>11.27</td>\n",
              "      <td>8.89</td>\n",
              "      <td>10.22</td>\n",
              "      <td>1.00</td>\n",
              "      <td>NaN</td>\n",
              "      <td>NaN</td>\n",
              "      <td>NaN</td>\n",
              "    </tr>\n",
              "    <tr>\n",
              "      <th>...</th>\n",
              "      <td>...</td>\n",
              "      <td>...</td>\n",
              "      <td>...</td>\n",
              "      <td>...</td>\n",
              "      <td>...</td>\n",
              "      <td>...</td>\n",
              "      <td>...</td>\n",
              "      <td>...</td>\n",
              "      <td>...</td>\n",
              "      <td>...</td>\n",
              "      <td>...</td>\n",
              "    </tr>\n",
              "    <tr>\n",
              "      <th>16710</th>\n",
              "      <td>Samurai Warriors: Sanada Maru</td>\n",
              "      <td>PS3</td>\n",
              "      <td>2016.0</td>\n",
              "      <td>Action</td>\n",
              "      <td>0.00</td>\n",
              "      <td>0.00</td>\n",
              "      <td>0.01</td>\n",
              "      <td>0.00</td>\n",
              "      <td>NaN</td>\n",
              "      <td>NaN</td>\n",
              "      <td>NaN</td>\n",
              "    </tr>\n",
              "    <tr>\n",
              "      <th>16711</th>\n",
              "      <td>LMA Manager 2007</td>\n",
              "      <td>X360</td>\n",
              "      <td>2006.0</td>\n",
              "      <td>Sports</td>\n",
              "      <td>0.00</td>\n",
              "      <td>0.01</td>\n",
              "      <td>0.00</td>\n",
              "      <td>0.00</td>\n",
              "      <td>NaN</td>\n",
              "      <td>NaN</td>\n",
              "      <td>NaN</td>\n",
              "    </tr>\n",
              "    <tr>\n",
              "      <th>16712</th>\n",
              "      <td>Haitaka no Psychedelica</td>\n",
              "      <td>PSV</td>\n",
              "      <td>2016.0</td>\n",
              "      <td>Adventure</td>\n",
              "      <td>0.00</td>\n",
              "      <td>0.00</td>\n",
              "      <td>0.01</td>\n",
              "      <td>0.00</td>\n",
              "      <td>NaN</td>\n",
              "      <td>NaN</td>\n",
              "      <td>NaN</td>\n",
              "    </tr>\n",
              "    <tr>\n",
              "      <th>16713</th>\n",
              "      <td>Spirits &amp; Spells</td>\n",
              "      <td>GBA</td>\n",
              "      <td>2003.0</td>\n",
              "      <td>Platform</td>\n",
              "      <td>0.01</td>\n",
              "      <td>0.00</td>\n",
              "      <td>0.00</td>\n",
              "      <td>0.00</td>\n",
              "      <td>NaN</td>\n",
              "      <td>NaN</td>\n",
              "      <td>NaN</td>\n",
              "    </tr>\n",
              "    <tr>\n",
              "      <th>16714</th>\n",
              "      <td>Winning Post 8 2016</td>\n",
              "      <td>PSV</td>\n",
              "      <td>2016.0</td>\n",
              "      <td>Simulation</td>\n",
              "      <td>0.00</td>\n",
              "      <td>0.00</td>\n",
              "      <td>0.01</td>\n",
              "      <td>0.00</td>\n",
              "      <td>NaN</td>\n",
              "      <td>NaN</td>\n",
              "      <td>NaN</td>\n",
              "    </tr>\n",
              "  </tbody>\n",
              "</table>\n",
              "<p>16715 rows × 11 columns</p>\n",
              "</div>"
            ],
            "text/plain": [
              "                                Name Platform  Year_of_Release         Genre  \\\n",
              "0                         Wii Sports      Wii           2006.0        Sports   \n",
              "1                  Super Mario Bros.      NES           1985.0      Platform   \n",
              "2                     Mario Kart Wii      Wii           2008.0        Racing   \n",
              "3                  Wii Sports Resort      Wii           2009.0        Sports   \n",
              "4           Pokemon Red/Pokemon Blue       GB           1996.0  Role-Playing   \n",
              "...                              ...      ...              ...           ...   \n",
              "16710  Samurai Warriors: Sanada Maru      PS3           2016.0        Action   \n",
              "16711               LMA Manager 2007     X360           2006.0        Sports   \n",
              "16712        Haitaka no Psychedelica      PSV           2016.0     Adventure   \n",
              "16713               Spirits & Spells      GBA           2003.0      Platform   \n",
              "16714            Winning Post 8 2016      PSV           2016.0    Simulation   \n",
              "\n",
              "       NA_sales  EU_sales  JP_sales  Other_sales  Critic_Score User_Score  \\\n",
              "0         41.36     28.96      3.77         8.45          76.0          8   \n",
              "1         29.08      3.58      6.81         0.77           NaN        NaN   \n",
              "2         15.68     12.76      3.79         3.29          82.0        8.3   \n",
              "3         15.61     10.93      3.28         2.95          80.0          8   \n",
              "4         11.27      8.89     10.22         1.00           NaN        NaN   \n",
              "...         ...       ...       ...          ...           ...        ...   \n",
              "16710      0.00      0.00      0.01         0.00           NaN        NaN   \n",
              "16711      0.00      0.01      0.00         0.00           NaN        NaN   \n",
              "16712      0.00      0.00      0.01         0.00           NaN        NaN   \n",
              "16713      0.01      0.00      0.00         0.00           NaN        NaN   \n",
              "16714      0.00      0.00      0.01         0.00           NaN        NaN   \n",
              "\n",
              "      Rating  \n",
              "0          E  \n",
              "1        NaN  \n",
              "2          E  \n",
              "3          E  \n",
              "4        NaN  \n",
              "...      ...  \n",
              "16710    NaN  \n",
              "16711    NaN  \n",
              "16712    NaN  \n",
              "16713    NaN  \n",
              "16714    NaN  \n",
              "\n",
              "[16715 rows x 11 columns]"
            ]
          },
          "execution_count": 37,
          "metadata": {},
          "output_type": "execute_result"
        }
      ],
      "source": [
        "df"
      ]
    },
    {
      "attachments": {},
      "cell_type": "markdown",
      "metadata": {
        "id": "oVbC9igGk9g2"
      },
      "source": [
        "It is recommended to convert the column names to the snake_case format for consistency and readability.\n",
        "\n",
        "Also, the Year_of_Release column currently contains values in a string format, and it's recommended to convert them to integers for easier manipulation and analysis."
      ]
    },
    {
      "cell_type": "code",
      "execution_count": null,
      "metadata": {
        "colab": {
          "base_uri": "https://localhost:8080/"
        },
        "id": "KYSxFykMjIW0",
        "outputId": "001df6b4-3f58-46b2-b6f3-2cfb6bd3e409"
      },
      "outputs": [
        {
          "name": "stdout",
          "output_type": "stream",
          "text": [
            "<class 'pandas.core.frame.DataFrame'>\n",
            "RangeIndex: 16715 entries, 0 to 16714\n",
            "Data columns (total 11 columns):\n",
            " #   Column           Non-Null Count  Dtype  \n",
            "---  ------           --------------  -----  \n",
            " 0   Name             16713 non-null  object \n",
            " 1   Platform         16715 non-null  object \n",
            " 2   Year_of_Release  16446 non-null  float64\n",
            " 3   Genre            16713 non-null  object \n",
            " 4   NA_sales         16715 non-null  float64\n",
            " 5   EU_sales         16715 non-null  float64\n",
            " 6   JP_sales         16715 non-null  float64\n",
            " 7   Other_sales      16715 non-null  float64\n",
            " 8   Critic_Score     8137 non-null   float64\n",
            " 9   User_Score       10014 non-null  object \n",
            " 10  Rating           9949 non-null   object \n",
            "dtypes: float64(6), object(5)\n",
            "memory usage: 1.4+ MB\n"
          ]
        }
      ],
      "source": [
        "df.info()"
      ]
    },
    {
      "attachments": {},
      "cell_type": "markdown",
      "metadata": {
        "id": "Iaol2uQKld3l"
      },
      "source": [
        "The values in the User_Score column should be converted to float format"
      ]
    },
    {
      "cell_type": "code",
      "execution_count": null,
      "metadata": {
        "colab": {
          "base_uri": "https://localhost:8080/"
        },
        "id": "MrT-iQkwl0gV",
        "outputId": "4cf56a6a-17bf-424c-c984-318c0e4d1ccd"
      },
      "outputs": [
        {
          "data": {
            "text/plain": [
              "Critic_Score       8578\n",
              "Rating             6766\n",
              "User_Score         6701\n",
              "Year_of_Release     269\n",
              "Name                  2\n",
              "Genre                 2\n",
              "Platform              0\n",
              "NA_sales              0\n",
              "EU_sales              0\n",
              "JP_sales              0\n",
              "Other_sales           0\n",
              "dtype: int64"
            ]
          },
          "execution_count": 39,
          "metadata": {},
          "output_type": "execute_result"
        }
      ],
      "source": [
        "df.isna().sum().sort_values(ascending = False)"
      ]
    },
    {
      "attachments": {},
      "cell_type": "markdown",
      "metadata": {
        "id": "QfvY5rAgnV_j"
      },
      "source": [
        "# Data Preparation"
      ]
    },
    {
      "attachments": {},
      "cell_type": "markdown",
      "metadata": {
        "id": "cMX7et23nc4-"
      },
      "source": [
        "## Bringing columns to lowercase"
      ]
    },
    {
      "cell_type": "code",
      "execution_count": null,
      "metadata": {
        "id": "cZQtKqKGnZ1O"
      },
      "outputs": [],
      "source": [
        "df.columns = df.columns.str.lower()"
      ]
    },
    {
      "attachments": {},
      "cell_type": "markdown",
      "metadata": {
        "id": "kps7prewoiqf"
      },
      "source": [
        "## Missing values handling"
      ]
    },
    {
      "cell_type": "markdown",
      "metadata": {
        "id": "f9Ymb4WQ-MOb"
      },
      "source": [
        "### Name and Genre"
      ]
    },
    {
      "cell_type": "code",
      "execution_count": null,
      "metadata": {
        "id": "SaKFjaoVomrL"
      },
      "outputs": [],
      "source": [
        "df['name'] = df['name'].fillna('-')\n",
        "df['genre'] = df['genre'].fillna('-')"
      ]
    },
    {
      "attachments": {},
      "cell_type": "markdown",
      "metadata": {
        "id": "VaMXqEbz-MOb"
      },
      "source": [
        "<div class=\"alert alert-block alert-info\">\n",
        "It is best to replace string variables with undefined values for name and genre with a placeholder of the same string type, such as \"-\". Filling in the placeholders allows for the use of values from other columns. Another option is to delete the rows. Since there are only a few missing values, deleting or replacing them will not significantly affect the results.\n",
        "</div>"
      ]
    },
    {
      "cell_type": "markdown",
      "metadata": {
        "id": "scjtnkbT-MOb"
      },
      "source": [
        "### User Score"
      ]
    },
    {
      "cell_type": "code",
      "execution_count": null,
      "metadata": {
        "id": "vnf1IgLJ-MOc",
        "outputId": "00c28ef5-887a-4a5c-8896-96860bdb775d"
      },
      "outputs": [
        {
          "data": {
            "text/plain": [
              "critic_score       8578\n",
              "rating             6766\n",
              "user_score         6701\n",
              "year_of_release     269\n",
              "name                  0\n",
              "platform              0\n",
              "genre                 0\n",
              "na_sales              0\n",
              "eu_sales              0\n",
              "jp_sales              0\n",
              "other_sales           0\n",
              "dtype: int64"
            ]
          },
          "execution_count": 42,
          "metadata": {},
          "output_type": "execute_result"
        }
      ],
      "source": [
        "df.isna().sum().sort_values(ascending = False)"
      ]
    },
    {
      "cell_type": "code",
      "execution_count": null,
      "metadata": {
        "colab": {
          "base_uri": "https://localhost:8080/"
        },
        "id": "lTw_xfPWroRD",
        "outputId": "c613161c-9891-4e87-8974-fb1967494174"
      },
      "outputs": [
        {
          "data": {
            "text/plain": [
              "count     10014\n",
              "unique       96\n",
              "top         tbd\n",
              "freq       2424\n",
              "Name: user_score, dtype: object"
            ]
          },
          "execution_count": 43,
          "metadata": {},
          "output_type": "execute_result"
        }
      ],
      "source": [
        "df['user_score'].describe()"
      ]
    },
    {
      "attachments": {},
      "cell_type": "markdown",
      "metadata": {
        "id": "UQ5zh6BysDqN"
      },
      "source": [
        "The most common meaning of \"tbd\" is \"to be declared\" or \"to be decided\". This indicates that the rating has not yet been assigned.\n",
        "\n",
        "Let's take a look at the distribution without this value."
      ]
    },
    {
      "cell_type": "code",
      "execution_count": null,
      "metadata": {
        "id": "EsM1g33jvAWo"
      },
      "outputs": [],
      "source": [
        "user_score = df[df['user_score'] != 'tbd']['user_score']\n",
        "user_score = user_score.astype(float)"
      ]
    },
    {
      "cell_type": "code",
      "execution_count": null,
      "metadata": {
        "colab": {
          "base_uri": "https://localhost:8080/",
          "height": 214
        },
        "id": "_aW5PCsKqUEm",
        "outputId": "f7564b5a-7a55-4823-ba46-13af02f7d4de"
      },
      "outputs": [
        {
          "data": {
            "image/png": "[encoded data removed]",
            "text/plain": [
              "<Figure size 1440x216 with 1 Axes>"
            ]
          },
          "metadata": {
            "needs_background": "light"
          },
          "output_type": "display_data"
        }
      ],
      "source": [
        "plt.figure(figsize=(20,3));\n",
        "plt.xticks(rotation='vertical')\n",
        "user_score.hist(bins = 95);"
      ]
    },
    {
      "attachments": {},
      "cell_type": "markdown",
      "metadata": {
        "id": "4vnAe2Sdu9Fx"
      },
      "source": [
        "To replace missing data, let's use \"nan\" instead of \"tbd\". This will allow us to randomly fill in the gaps using values drawn from a distribution later on."
      ]
    },
    {
      "cell_type": "code",
      "execution_count": null,
      "metadata": {
        "id": "QbJQWWCMuEK0"
      },
      "outputs": [],
      "source": [
        "def tbd_to_nan(cell):\n",
        "    if cell == \"tbd\":\n",
        "        return float(\"NaN\")\n",
        "    else:\n",
        "        return cell\n",
        "\n",
        "df['user_score'] = df['user_score'].apply(tbd_to_nan)"
      ]
    },
    {
      "cell_type": "code",
      "execution_count": null,
      "metadata": {
        "id": "5DUAqO4QufJr"
      },
      "outputs": [],
      "source": [
        "# Changing data type from object to float\n",
        "df['user_score'] = df['user_score'].astype(float)"
      ]
    },
    {
      "cell_type": "code",
      "execution_count": null,
      "metadata": {
        "colab": {
          "base_uri": "https://localhost:8080/",
          "height": 214
        },
        "id": "6AfKTOW-tefX",
        "outputId": "b13acb3c-f988-4261-d536-a265e3b09324",
        "scrolled": false
      },
      "outputs": [
        {
          "data": {
            "image/png": "[encoded data removed]",
            "text/plain": [
              "<Figure size 1440x216 with 1 Axes>"
            ]
          },
          "metadata": {
            "needs_background": "light"
          },
          "output_type": "display_data"
        }
      ],
      "source": [
        "plt.figure(figsize=(20,3));\n",
        "plt.xticks(rotation='vertical')\n",
        "df['user_score'].hist(bins = 95);"
      ]
    },
    {
      "cell_type": "code",
      "execution_count": null,
      "metadata": {
        "id": "cyzDp1KP-MOf",
        "outputId": "f3814998-ef30-4235-e1fd-c33d3ecb3535",
        "scrolled": true
      },
      "outputs": [
        {
          "name": "stderr",
          "output_type": "stream",
          "text": [
            "/tmp/ipykernel_37/3817901470.py:3: FutureWarning: inplace is deprecated and will be removed in a future version.\n",
            "  user_score_table.columns.set_levels(['count','sum','nan_count'],level=0,inplace=True)\n"
          ]
        },
        {
          "data": {
            "text/html": [
              "<div>\n",
              "<style scoped>\n",
              "    .dataframe tbody tr th:only-of-type {\n",
              "        vertical-align: middle;\n",
              "    }\n",
              "\n",
              "    .dataframe tbody tr th {\n",
              "        vertical-align: top;\n",
              "    }\n",
              "\n",
              "    .dataframe thead tr th {\n",
              "        text-align: left;\n",
              "    }\n",
              "\n",
              "    .dataframe thead tr:last-of-type th {\n",
              "        text-align: right;\n",
              "    }\n",
              "</style>\n",
              "<table border=\"1\" class=\"dataframe\">\n",
              "  <thead>\n",
              "    <tr>\n",
              "      <th></th>\n",
              "      <th>count</th>\n",
              "      <th>sum</th>\n",
              "      <th>nan_count</th>\n",
              "    </tr>\n",
              "    <tr>\n",
              "      <th></th>\n",
              "      <th>user_score</th>\n",
              "      <th>user_score</th>\n",
              "      <th>user_score</th>\n",
              "    </tr>\n",
              "    <tr>\n",
              "      <th>name</th>\n",
              "      <th></th>\n",
              "      <th></th>\n",
              "      <th></th>\n",
              "    </tr>\n",
              "  </thead>\n",
              "  <tbody>\n",
              "    <tr>\n",
              "      <th>Need for Speed: Most Wanted</th>\n",
              "      <td>9</td>\n",
              "      <td>75.4</td>\n",
              "      <td>3.0</td>\n",
              "    </tr>\n",
              "    <tr>\n",
              "      <th>LEGO Marvel Super Heroes</th>\n",
              "      <td>8</td>\n",
              "      <td>56.1</td>\n",
              "      <td>1.0</td>\n",
              "    </tr>\n",
              "    <tr>\n",
              "      <th>FIFA 14</th>\n",
              "      <td>8</td>\n",
              "      <td>34.7</td>\n",
              "      <td>1.0</td>\n",
              "    </tr>\n",
              "    <tr>\n",
              "      <th>Madden NFL 08</th>\n",
              "      <td>7</td>\n",
              "      <td>46.1</td>\n",
              "      <td>1.0</td>\n",
              "    </tr>\n",
              "    <tr>\n",
              "      <th>Ratatouille</th>\n",
              "      <td>6</td>\n",
              "      <td>40.1</td>\n",
              "      <td>3.0</td>\n",
              "    </tr>\n",
              "    <tr>\n",
              "      <th>...</th>\n",
              "      <td>...</td>\n",
              "      <td>...</td>\n",
              "      <td>...</td>\n",
              "    </tr>\n",
              "    <tr>\n",
              "      <th>Karate</th>\n",
              "      <td>0</td>\n",
              "      <td>0.0</td>\n",
              "      <td>1.0</td>\n",
              "    </tr>\n",
              "    <tr>\n",
              "      <th>Karaoke Revolution Glee 2: Road to Regionals</th>\n",
              "      <td>0</td>\n",
              "      <td>0.0</td>\n",
              "      <td>1.0</td>\n",
              "    </tr>\n",
              "    <tr>\n",
              "      <th>Karaoke Revolution Glee</th>\n",
              "      <td>0</td>\n",
              "      <td>0.0</td>\n",
              "      <td>1.0</td>\n",
              "    </tr>\n",
              "    <tr>\n",
              "      <th>Karaoke Joysound Wii Super DX: Hitori de Minna de Utai Houdai!</th>\n",
              "      <td>0</td>\n",
              "      <td>0.0</td>\n",
              "      <td>1.0</td>\n",
              "    </tr>\n",
              "    <tr>\n",
              "      <th>¡Shin Chan Flipa en colores!</th>\n",
              "      <td>0</td>\n",
              "      <td>0.0</td>\n",
              "      <td>1.0</td>\n",
              "    </tr>\n",
              "  </tbody>\n",
              "</table>\n",
              "<p>7633 rows × 3 columns</p>\n",
              "</div>"
            ],
            "text/plain": [
              "                                                        count        sum  \\\n",
              "                                                   user_score user_score   \n",
              "name                                                                       \n",
              "Need for Speed: Most Wanted                                 9       75.4   \n",
              "LEGO Marvel Super Heroes                                    8       56.1   \n",
              "FIFA 14                                                     8       34.7   \n",
              "Madden NFL 08                                               7       46.1   \n",
              "Ratatouille                                                 6       40.1   \n",
              "...                                                       ...        ...   \n",
              "Karate                                                      0        0.0   \n",
              "Karaoke Revolution Glee 2: Road to Regionals                0        0.0   \n",
              "Karaoke Revolution Glee                                     0        0.0   \n",
              "Karaoke Joysound Wii Super DX: Hitori de Minna ...          0        0.0   \n",
              "¡Shin Chan Flipa en colores!                                0        0.0   \n",
              "\n",
              "                                                    nan_count  \n",
              "                                                   user_score  \n",
              "name                                                           \n",
              "Need for Speed: Most Wanted                               3.0  \n",
              "LEGO Marvel Super Heroes                                  1.0  \n",
              "FIFA 14                                                   1.0  \n",
              "Madden NFL 08                                             1.0  \n",
              "Ratatouille                                               3.0  \n",
              "...                                                       ...  \n",
              "Karate                                                    1.0  \n",
              "Karaoke Revolution Glee 2: Road to Regionals              1.0  \n",
              "Karaoke Revolution Glee                                   1.0  \n",
              "Karaoke Joysound Wii Super DX: Hitori de Minna ...        1.0  \n",
              "¡Shin Chan Flipa en colores!                              1.0  \n",
              "\n",
              "[7633 rows x 3 columns]"
            ]
          },
          "execution_count": 50,
          "metadata": {},
          "output_type": "execute_result"
        }
      ],
      "source": [
        "user_score_table = df.sort_values(by = 'year_of_release').pivot_table(index = 'name', values = 'user_score', aggfunc = ['count', 'sum', lambda x : x.isna().sum()]).sort_values(by = ('count', 'user_score'), ascending = False)\n",
        "\n",
        "user_score_table.columns.set_levels(['count','sum','nan_count'],level=0,inplace=True)\n",
        "user_score_table[user_score_table[('nan_count','user_score')] > 0].sort_values(by = [('count', 'user_score'),('nan_count', 'user_score')], ascending = False)"
      ]
    },
    {
      "cell_type": "code",
      "execution_count": null,
      "metadata": {
        "id": "PqKmcJn1-MOf",
        "outputId": "6d908b73-75d7-4ba4-d3f0-3679a7d414e6"
      },
      "outputs": [
        {
          "data": {
            "text/html": [
              "<div>\n",
              "<style scoped>\n",
              "    .dataframe tbody tr th:only-of-type {\n",
              "        vertical-align: middle;\n",
              "    }\n",
              "\n",
              "    .dataframe tbody tr th {\n",
              "        vertical-align: top;\n",
              "    }\n",
              "\n",
              "    .dataframe thead th {\n",
              "        text-align: right;\n",
              "    }\n",
              "</style>\n",
              "<table border=\"1\" class=\"dataframe\">\n",
              "  <thead>\n",
              "    <tr style=\"text-align: right;\">\n",
              "      <th></th>\n",
              "      <th>user_score</th>\n",
              "      <th>year_of_release</th>\n",
              "      <th>platform</th>\n",
              "    </tr>\n",
              "  </thead>\n",
              "  <tbody>\n",
              "    <tr>\n",
              "      <th>253</th>\n",
              "      <td>9.1</td>\n",
              "      <td>2005.0</td>\n",
              "      <td>PS2</td>\n",
              "    </tr>\n",
              "    <tr>\n",
              "      <th>1591</th>\n",
              "      <td>8.5</td>\n",
              "      <td>2005.0</td>\n",
              "      <td>X360</td>\n",
              "    </tr>\n",
              "    <tr>\n",
              "      <th>1998</th>\n",
              "      <td>8.8</td>\n",
              "      <td>2005.0</td>\n",
              "      <td>XB</td>\n",
              "    </tr>\n",
              "    <tr>\n",
              "      <th>3581</th>\n",
              "      <td>9.1</td>\n",
              "      <td>2005.0</td>\n",
              "      <td>GC</td>\n",
              "    </tr>\n",
              "    <tr>\n",
              "      <th>5972</th>\n",
              "      <td>8.5</td>\n",
              "      <td>2005.0</td>\n",
              "      <td>PC</td>\n",
              "    </tr>\n",
              "    <tr>\n",
              "      <th>6410</th>\n",
              "      <td>6.1</td>\n",
              "      <td>2005.0</td>\n",
              "      <td>DS</td>\n",
              "    </tr>\n",
              "    <tr>\n",
              "      <th>6473</th>\n",
              "      <td>8.3</td>\n",
              "      <td>2005.0</td>\n",
              "      <td>GBA</td>\n",
              "    </tr>\n",
              "    <tr>\n",
              "      <th>523</th>\n",
              "      <td>NaN</td>\n",
              "      <td>2012.0</td>\n",
              "      <td>PS3</td>\n",
              "    </tr>\n",
              "    <tr>\n",
              "      <th>1190</th>\n",
              "      <td>8.5</td>\n",
              "      <td>2012.0</td>\n",
              "      <td>X360</td>\n",
              "    </tr>\n",
              "    <tr>\n",
              "      <th>2048</th>\n",
              "      <td>NaN</td>\n",
              "      <td>2012.0</td>\n",
              "      <td>PSV</td>\n",
              "    </tr>\n",
              "    <tr>\n",
              "      <th>11715</th>\n",
              "      <td>8.5</td>\n",
              "      <td>2012.0</td>\n",
              "      <td>PC</td>\n",
              "    </tr>\n",
              "    <tr>\n",
              "      <th>6273</th>\n",
              "      <td>NaN</td>\n",
              "      <td>2013.0</td>\n",
              "      <td>WiiU</td>\n",
              "    </tr>\n",
              "  </tbody>\n",
              "</table>\n",
              "</div>"
            ],
            "text/plain": [
              "       user_score  year_of_release platform\n",
              "253           9.1           2005.0      PS2\n",
              "1591          8.5           2005.0     X360\n",
              "1998          8.8           2005.0       XB\n",
              "3581          9.1           2005.0       GC\n",
              "5972          8.5           2005.0       PC\n",
              "6410          6.1           2005.0       DS\n",
              "6473          8.3           2005.0      GBA\n",
              "523           NaN           2012.0      PS3\n",
              "1190          8.5           2012.0     X360\n",
              "2048          NaN           2012.0      PSV\n",
              "11715         8.5           2012.0       PC\n",
              "6273          NaN           2013.0     WiiU"
            ]
          },
          "execution_count": 51,
          "metadata": {},
          "output_type": "execute_result"
        }
      ],
      "source": [
        "# As an example, let's take \"Need for Speed\"\n",
        "df[df['name'] == 'Need for Speed: Most Wanted'][['user_score', 'year_of_release', 'platform']].sort_values(by = 'year_of_release')"
      ]
    },
    {
      "attachments": {},
      "cell_type": "markdown",
      "metadata": {
        "id": "6h-qtlB5-MOf"
      },
      "source": [
        "Depending on the platform, the ratings may vary significantly. As such, it is recommended to avoid filling in any gaps in the information provided, to ensure accuracy and avoid potential misinterpretations."
      ]
    },
    {
      "attachments": {},
      "cell_type": "markdown",
      "metadata": {
        "id": "M1OqLJfL-MOf"
      },
      "source": [
        "### Rating\n",
        "\n",
        "To fill in the gaps in the ranking, you can use the game titles, which may be listed on some platforms but not on others. Let's collect information from the platforms where the game names are available."
      ]
    },
    {
      "cell_type": "code",
      "execution_count": null,
      "metadata": {
        "id": "Kre0kSFq-MOg",
        "outputId": "e3b64002-9a75-4c04-9eec-6c5336bca647",
        "scrolled": true
      },
      "outputs": [
        {
          "name": "stderr",
          "output_type": "stream",
          "text": [
            "/tmp/ipykernel_37/2030946044.py:3: FutureWarning: inplace is deprecated and will be removed in a future version.\n",
            "  rating_table.columns.set_levels(['count','sum','nan_count'],level=0,inplace=True)\n"
          ]
        },
        {
          "data": {
            "text/html": [
              "<div>\n",
              "<style scoped>\n",
              "    .dataframe tbody tr th:only-of-type {\n",
              "        vertical-align: middle;\n",
              "    }\n",
              "\n",
              "    .dataframe tbody tr th {\n",
              "        vertical-align: top;\n",
              "    }\n",
              "\n",
              "    .dataframe thead tr th {\n",
              "        text-align: left;\n",
              "    }\n",
              "\n",
              "    .dataframe thead tr:last-of-type th {\n",
              "        text-align: right;\n",
              "    }\n",
              "</style>\n",
              "<table border=\"1\" class=\"dataframe\">\n",
              "  <thead>\n",
              "    <tr>\n",
              "      <th></th>\n",
              "      <th>count</th>\n",
              "      <th>sum</th>\n",
              "      <th>nan_count</th>\n",
              "    </tr>\n",
              "    <tr>\n",
              "      <th></th>\n",
              "      <th>rating</th>\n",
              "      <th>rating</th>\n",
              "      <th>rating</th>\n",
              "    </tr>\n",
              "    <tr>\n",
              "      <th>name</th>\n",
              "      <th></th>\n",
              "      <th></th>\n",
              "      <th></th>\n",
              "    </tr>\n",
              "  </thead>\n",
              "  <tbody>\n",
              "    <tr>\n",
              "      <th>Need for Speed: Most Wanted</th>\n",
              "      <td>9</td>\n",
              "      <td>NaN</td>\n",
              "      <td>3</td>\n",
              "    </tr>\n",
              "    <tr>\n",
              "      <th>Ratatouille</th>\n",
              "      <td>8</td>\n",
              "      <td>NaN</td>\n",
              "      <td>1</td>\n",
              "    </tr>\n",
              "    <tr>\n",
              "      <th>FIFA 14</th>\n",
              "      <td>8</td>\n",
              "      <td>NaN</td>\n",
              "      <td>1</td>\n",
              "    </tr>\n",
              "    <tr>\n",
              "      <th>LEGO Marvel Super Heroes</th>\n",
              "      <td>8</td>\n",
              "      <td>NaN</td>\n",
              "      <td>1</td>\n",
              "    </tr>\n",
              "    <tr>\n",
              "      <th>LEGO The Hobbit</th>\n",
              "      <td>7</td>\n",
              "      <td>NaN</td>\n",
              "      <td>1</td>\n",
              "    </tr>\n",
              "    <tr>\n",
              "      <th>...</th>\n",
              "      <td>...</td>\n",
              "      <td>...</td>\n",
              "      <td>...</td>\n",
              "    </tr>\n",
              "    <tr>\n",
              "      <th>Excitebike</th>\n",
              "      <td>0</td>\n",
              "      <td>0</td>\n",
              "      <td>1</td>\n",
              "    </tr>\n",
              "    <tr>\n",
              "      <th>Excitebike 64</th>\n",
              "      <td>0</td>\n",
              "      <td>0</td>\n",
              "      <td>1</td>\n",
              "    </tr>\n",
              "    <tr>\n",
              "      <th>Exhibition</th>\n",
              "      <td>0</td>\n",
              "      <td>0</td>\n",
              "      <td>1</td>\n",
              "    </tr>\n",
              "    <tr>\n",
              "      <th>Exhibition Volume 02</th>\n",
              "      <td>0</td>\n",
              "      <td>0</td>\n",
              "      <td>1</td>\n",
              "    </tr>\n",
              "    <tr>\n",
              "      <th>¡Shin Chan Flipa en colores!</th>\n",
              "      <td>0</td>\n",
              "      <td>0</td>\n",
              "      <td>1</td>\n",
              "    </tr>\n",
              "  </tbody>\n",
              "</table>\n",
              "<p>5853 rows × 3 columns</p>\n",
              "</div>"
            ],
            "text/plain": [
              "                              count    sum nan_count\n",
              "                             rating rating    rating\n",
              "name                                                \n",
              "Need for Speed: Most Wanted       9    NaN         3\n",
              "Ratatouille                       8    NaN         1\n",
              "FIFA 14                           8    NaN         1\n",
              "LEGO Marvel Super Heroes          8    NaN         1\n",
              "LEGO The Hobbit                   7    NaN         1\n",
              "...                             ...    ...       ...\n",
              "Excitebike                        0      0         1\n",
              "Excitebike 64                     0      0         1\n",
              "Exhibition                        0      0         1\n",
              "Exhibition Volume 02              0      0         1\n",
              "¡Shin Chan Flipa en colores!      0      0         1\n",
              "\n",
              "[5853 rows x 3 columns]"
            ]
          },
          "execution_count": 52,
          "metadata": {},
          "output_type": "execute_result"
        }
      ],
      "source": [
        "rating_table = df.sort_values(by = 'year_of_release').pivot_table(index = 'name', values = 'rating', aggfunc = ['count', 'sum', lambda x : x.isna().sum()]).sort_values(by = ('count', 'rating'), ascending = False)\n",
        "\n",
        "rating_table.columns.set_levels(['count','sum','nan_count'],level=0,inplace=True)\n",
        "rating_table[rating_table[('nan_count','rating')] > 0].sort_values(by = ('count', 'rating'), ascending = False)"
      ]
    },
    {
      "cell_type": "code",
      "execution_count": null,
      "metadata": {
        "id": "vbPU98lb-MOg",
        "outputId": "079ebac2-666d-492f-b85a-26b58913c36e",
        "scrolled": true
      },
      "outputs": [
        {
          "data": {
            "text/html": [
              "<div>\n",
              "<style scoped>\n",
              "    .dataframe tbody tr th:only-of-type {\n",
              "        vertical-align: middle;\n",
              "    }\n",
              "\n",
              "    .dataframe tbody tr th {\n",
              "        vertical-align: top;\n",
              "    }\n",
              "\n",
              "    .dataframe thead th {\n",
              "        text-align: right;\n",
              "    }\n",
              "</style>\n",
              "<table border=\"1\" class=\"dataframe\">\n",
              "  <thead>\n",
              "    <tr style=\"text-align: right;\">\n",
              "      <th></th>\n",
              "      <th>rating</th>\n",
              "      <th>year_of_release</th>\n",
              "    </tr>\n",
              "  </thead>\n",
              "  <tbody>\n",
              "    <tr>\n",
              "      <th>253</th>\n",
              "      <td>T</td>\n",
              "      <td>2005.0</td>\n",
              "    </tr>\n",
              "    <tr>\n",
              "      <th>1591</th>\n",
              "      <td>T</td>\n",
              "      <td>2005.0</td>\n",
              "    </tr>\n",
              "    <tr>\n",
              "      <th>1998</th>\n",
              "      <td>T</td>\n",
              "      <td>2005.0</td>\n",
              "    </tr>\n",
              "    <tr>\n",
              "      <th>3581</th>\n",
              "      <td>T</td>\n",
              "      <td>2005.0</td>\n",
              "    </tr>\n",
              "    <tr>\n",
              "      <th>5972</th>\n",
              "      <td>T</td>\n",
              "      <td>2005.0</td>\n",
              "    </tr>\n",
              "    <tr>\n",
              "      <th>6410</th>\n",
              "      <td>E</td>\n",
              "      <td>2005.0</td>\n",
              "    </tr>\n",
              "    <tr>\n",
              "      <th>6473</th>\n",
              "      <td>E</td>\n",
              "      <td>2005.0</td>\n",
              "    </tr>\n",
              "    <tr>\n",
              "      <th>523</th>\n",
              "      <td>NaN</td>\n",
              "      <td>2012.0</td>\n",
              "    </tr>\n",
              "    <tr>\n",
              "      <th>1190</th>\n",
              "      <td>T</td>\n",
              "      <td>2012.0</td>\n",
              "    </tr>\n",
              "    <tr>\n",
              "      <th>2048</th>\n",
              "      <td>NaN</td>\n",
              "      <td>2012.0</td>\n",
              "    </tr>\n",
              "    <tr>\n",
              "      <th>11715</th>\n",
              "      <td>T</td>\n",
              "      <td>2012.0</td>\n",
              "    </tr>\n",
              "    <tr>\n",
              "      <th>6273</th>\n",
              "      <td>NaN</td>\n",
              "      <td>2013.0</td>\n",
              "    </tr>\n",
              "  </tbody>\n",
              "</table>\n",
              "</div>"
            ],
            "text/plain": [
              "      rating  year_of_release\n",
              "253        T           2005.0\n",
              "1591       T           2005.0\n",
              "1998       T           2005.0\n",
              "3581       T           2005.0\n",
              "5972       T           2005.0\n",
              "6410       E           2005.0\n",
              "6473       E           2005.0\n",
              "523      NaN           2012.0\n",
              "1190       T           2012.0\n",
              "2048     NaN           2012.0\n",
              "11715      T           2012.0\n",
              "6273     NaN           2013.0"
            ]
          },
          "execution_count": 53,
          "metadata": {},
          "output_type": "execute_result"
        }
      ],
      "source": [
        "# As an example, let's take \"Need for Speed\"\n",
        "df[df['name'] == 'Need for Speed: Most Wanted'][['rating', 'year_of_release']].sort_values(by = 'year_of_release')"
      ]
    },
    {
      "cell_type": "code",
      "execution_count": null,
      "metadata": {
        "id": "tXLsRf0f-MOg"
      },
      "outputs": [],
      "source": [
        "# Find all missing values in the 'rating' column\n",
        "missing_ratings = df[df['rating'].isna()][['name', 'rating']]\n",
        "missing_ratings['index1'] = missing_ratings.index\n",
        "\n",
        "# Sort the data by game title and year of release, and create a pivot table that shows the last available rating for each game\n",
        "last_ratings = df.sort_values(by=['name', 'year_of_release'], ascending=False).pivot_table(index='name', values='rating', aggfunc='first')\n",
        "\n",
        "# Select only the ratings for games that have missing values in the 'rating' column\n",
        "ratings_to_fill = last_ratings.loc[missing_ratings['name'].values]\n",
        "\n",
        "# Merge the selected ratings with the rows that have missing values\n",
        "merged = pd.merge(missing_ratings, ratings_to_fill, on='name', how='inner').drop(columns='rating_x').rename(columns={'rating_y': 'rating'})\n",
        "\n",
        "# Merge the filled missing values back to the original dataframe\n",
        "merged_df = pd.merge(df, merged[['index1', 'rating']], left_index=True, right_on='index1', how='left').set_index('index1')\n"
      ]
    },
    {
      "cell_type": "code",
      "execution_count": null,
      "metadata": {
        "id": "VWszFen--MOg",
        "outputId": "57043ce0-9aaa-43b8-b8cb-0fbce57e8be3"
      },
      "outputs": [
        {
          "data": {
            "text/plain": [
              "6766"
            ]
          },
          "execution_count": 55,
          "metadata": {},
          "output_type": "execute_result"
        }
      ],
      "source": [
        "df['rating'].isna().sum()"
      ]
    },
    {
      "cell_type": "code",
      "execution_count": null,
      "metadata": {
        "id": "zEtdBgBB-MOh"
      },
      "outputs": [],
      "source": [
        "# filling the missing values\n",
        "df['rating'] = gross_merged['rating_x'].fillna(gross_merged['rating_y'])"
      ]
    },
    {
      "cell_type": "code",
      "execution_count": null,
      "metadata": {
        "id": "2yoc2Kn7-MOh",
        "outputId": "d05b5cb7-0238-4575-8df2-ec0078fa6d2d",
        "scrolled": true
      },
      "outputs": [
        {
          "data": {
            "text/plain": [
              "6329"
            ]
          },
          "execution_count": 57,
          "metadata": {},
          "output_type": "execute_result"
        }
      ],
      "source": [
        "df['rating'].isna().sum()"
      ]
    },
    {
      "attachments": {},
      "cell_type": "markdown",
      "metadata": {
        "id": "n1YbVAa2-MOh"
      },
      "source": [
        "Although there has been a reduction in the number of absences, it hasn't been a substantial one."
      ]
    },
    {
      "cell_type": "markdown",
      "metadata": {
        "id": "xk-xt0Gy-MOh"
      },
      "source": [
        "### Critic Score"
      ]
    },
    {
      "cell_type": "code",
      "execution_count": null,
      "metadata": {
        "id": "4YlzvTXW-MOh",
        "outputId": "24b5c46a-848a-4f8c-9329-cd87c98affca"
      },
      "outputs": [
        {
          "name": "stderr",
          "output_type": "stream",
          "text": [
            "/tmp/ipykernel_37/3546339396.py:3: FutureWarning: inplace is deprecated and will be removed in a future version.\n",
            "  critic_score_table.columns.set_levels(['count','sum','nan_count'],level=0,inplace=True)\n",
            "/tmp/ipykernel_37/3546339396.py:4: UserWarning: Boolean Series key will be reindexed to match DataFrame index.\n",
            "  critic_score_table[user_score_table[('nan_count','user_score')] > 0].sort_values(by = [('count', 'critic_score'),('nan_count', 'critic_score')], ascending = False)\n"
          ]
        },
        {
          "data": {
            "text/html": [
              "<div>\n",
              "<style scoped>\n",
              "    .dataframe tbody tr th:only-of-type {\n",
              "        vertical-align: middle;\n",
              "    }\n",
              "\n",
              "    .dataframe tbody tr th {\n",
              "        vertical-align: top;\n",
              "    }\n",
              "\n",
              "    .dataframe thead tr th {\n",
              "        text-align: left;\n",
              "    }\n",
              "\n",
              "    .dataframe thead tr:last-of-type th {\n",
              "        text-align: right;\n",
              "    }\n",
              "</style>\n",
              "<table border=\"1\" class=\"dataframe\">\n",
              "  <thead>\n",
              "    <tr>\n",
              "      <th></th>\n",
              "      <th>count</th>\n",
              "      <th>sum</th>\n",
              "      <th>nan_count</th>\n",
              "    </tr>\n",
              "    <tr>\n",
              "      <th></th>\n",
              "      <th>critic_score</th>\n",
              "      <th>critic_score</th>\n",
              "      <th>critic_score</th>\n",
              "    </tr>\n",
              "    <tr>\n",
              "      <th>name</th>\n",
              "      <th></th>\n",
              "      <th></th>\n",
              "      <th></th>\n",
              "    </tr>\n",
              "  </thead>\n",
              "  <tbody>\n",
              "    <tr>\n",
              "      <th>Need for Speed: Most Wanted</th>\n",
              "      <td>8</td>\n",
              "      <td>620.0</td>\n",
              "      <td>4.0</td>\n",
              "    </tr>\n",
              "    <tr>\n",
              "      <th>Madden NFL 08</th>\n",
              "      <td>8</td>\n",
              "      <td>617.0</td>\n",
              "      <td>0.0</td>\n",
              "    </tr>\n",
              "    <tr>\n",
              "      <th>Cars</th>\n",
              "      <td>8</td>\n",
              "      <td>516.0</td>\n",
              "      <td>0.0</td>\n",
              "    </tr>\n",
              "    <tr>\n",
              "      <th>Ratatouille</th>\n",
              "      <td>7</td>\n",
              "      <td>427.0</td>\n",
              "      <td>2.0</td>\n",
              "    </tr>\n",
              "    <tr>\n",
              "      <th>LEGO Harry Potter: Years 5-7</th>\n",
              "      <td>7</td>\n",
              "      <td>513.0</td>\n",
              "      <td>1.0</td>\n",
              "    </tr>\n",
              "    <tr>\n",
              "      <th>...</th>\n",
              "      <td>...</td>\n",
              "      <td>...</td>\n",
              "      <td>...</td>\n",
              "    </tr>\n",
              "    <tr>\n",
              "      <th>Ken to Mahou to Gakuen Mono. Final: Shinnyusei wa Ohimesama</th>\n",
              "      <td>0</td>\n",
              "      <td>0.0</td>\n",
              "      <td>1.0</td>\n",
              "    </tr>\n",
              "    <tr>\n",
              "      <th>Ken to Mahou to Gakuen Mono. 3D</th>\n",
              "      <td>0</td>\n",
              "      <td>0.0</td>\n",
              "      <td>1.0</td>\n",
              "    </tr>\n",
              "    <tr>\n",
              "      <th>Ken to Mahou to Gakuen Mono. 2G</th>\n",
              "      <td>0</td>\n",
              "      <td>0.0</td>\n",
              "      <td>1.0</td>\n",
              "    </tr>\n",
              "    <tr>\n",
              "      <th>Ken to Mahou to Gakuen Mono. 2</th>\n",
              "      <td>0</td>\n",
              "      <td>0.0</td>\n",
              "      <td>1.0</td>\n",
              "    </tr>\n",
              "    <tr>\n",
              "      <th>¡Shin Chan Flipa en colores!</th>\n",
              "      <td>0</td>\n",
              "      <td>0.0</td>\n",
              "      <td>1.0</td>\n",
              "    </tr>\n",
              "  </tbody>\n",
              "</table>\n",
              "<p>7633 rows × 3 columns</p>\n",
              "</div>"
            ],
            "text/plain": [
              "                                                          count          sum  \\\n",
              "                                                   critic_score critic_score   \n",
              "name                                                                           \n",
              "Need for Speed: Most Wanted                                   8        620.0   \n",
              "Madden NFL 08                                                 8        617.0   \n",
              "Cars                                                          8        516.0   \n",
              "Ratatouille                                                   7        427.0   \n",
              "LEGO Harry Potter: Years 5-7                                  7        513.0   \n",
              "...                                                         ...          ...   \n",
              "Ken to Mahou to Gakuen Mono. Final: Shinnyusei ...            0          0.0   \n",
              "Ken to Mahou to Gakuen Mono. 3D                               0          0.0   \n",
              "Ken to Mahou to Gakuen Mono. 2G                               0          0.0   \n",
              "Ken to Mahou to Gakuen Mono. 2                                0          0.0   \n",
              "¡Shin Chan Flipa en colores!                                  0          0.0   \n",
              "\n",
              "                                                      nan_count  \n",
              "                                                   critic_score  \n",
              "name                                                             \n",
              "Need for Speed: Most Wanted                                 4.0  \n",
              "Madden NFL 08                                               0.0  \n",
              "Cars                                                        0.0  \n",
              "Ratatouille                                                 2.0  \n",
              "LEGO Harry Potter: Years 5-7                                1.0  \n",
              "...                                                         ...  \n",
              "Ken to Mahou to Gakuen Mono. Final: Shinnyusei ...          1.0  \n",
              "Ken to Mahou to Gakuen Mono. 3D                             1.0  \n",
              "Ken to Mahou to Gakuen Mono. 2G                             1.0  \n",
              "Ken to Mahou to Gakuen Mono. 2                              1.0  \n",
              "¡Shin Chan Flipa en colores!                                1.0  \n",
              "\n",
              "[7633 rows x 3 columns]"
            ]
          },
          "execution_count": 58,
          "metadata": {},
          "output_type": "execute_result"
        }
      ],
      "source": [
        "critic_score_table = df.sort_values(by = 'year_of_release').pivot_table(index = 'name', values = 'critic_score', aggfunc = ['count', 'sum', lambda x : x.isna().sum()]).sort_values(by = ('count', 'critic_score'), ascending = False)\n",
        "\n",
        "critic_score_table.columns.set_levels(['count','sum','nan_count'],level=0,inplace=True)\n",
        "critic_score_table[user_score_table[('nan_count','user_score')] > 0].sort_values(by = [('count', 'critic_score'),('nan_count', 'critic_score')], ascending = False)"
      ]
    },
    {
      "cell_type": "code",
      "execution_count": null,
      "metadata": {
        "id": "Puong7nP-MOi",
        "outputId": "fb6c7bb7-dd0e-4838-eeac-16bfc49fdf5e",
        "scrolled": false
      },
      "outputs": [
        {
          "data": {
            "text/html": [
              "<div>\n",
              "<style scoped>\n",
              "    .dataframe tbody tr th:only-of-type {\n",
              "        vertical-align: middle;\n",
              "    }\n",
              "\n",
              "    .dataframe tbody tr th {\n",
              "        vertical-align: top;\n",
              "    }\n",
              "\n",
              "    .dataframe thead th {\n",
              "        text-align: right;\n",
              "    }\n",
              "</style>\n",
              "<table border=\"1\" class=\"dataframe\">\n",
              "  <thead>\n",
              "    <tr style=\"text-align: right;\">\n",
              "      <th></th>\n",
              "      <th>critic_score</th>\n",
              "      <th>year_of_release</th>\n",
              "      <th>platform</th>\n",
              "    </tr>\n",
              "  </thead>\n",
              "  <tbody>\n",
              "    <tr>\n",
              "      <th>253</th>\n",
              "      <td>82.0</td>\n",
              "      <td>2005.0</td>\n",
              "      <td>PS2</td>\n",
              "    </tr>\n",
              "    <tr>\n",
              "      <th>1591</th>\n",
              "      <td>83.0</td>\n",
              "      <td>2005.0</td>\n",
              "      <td>X360</td>\n",
              "    </tr>\n",
              "    <tr>\n",
              "      <th>1998</th>\n",
              "      <td>83.0</td>\n",
              "      <td>2005.0</td>\n",
              "      <td>XB</td>\n",
              "    </tr>\n",
              "    <tr>\n",
              "      <th>3581</th>\n",
              "      <td>80.0</td>\n",
              "      <td>2005.0</td>\n",
              "      <td>GC</td>\n",
              "    </tr>\n",
              "    <tr>\n",
              "      <th>5972</th>\n",
              "      <td>82.0</td>\n",
              "      <td>2005.0</td>\n",
              "      <td>PC</td>\n",
              "    </tr>\n",
              "    <tr>\n",
              "      <th>6410</th>\n",
              "      <td>45.0</td>\n",
              "      <td>2005.0</td>\n",
              "      <td>DS</td>\n",
              "    </tr>\n",
              "    <tr>\n",
              "      <th>6473</th>\n",
              "      <td>NaN</td>\n",
              "      <td>2005.0</td>\n",
              "      <td>GBA</td>\n",
              "    </tr>\n",
              "    <tr>\n",
              "      <th>523</th>\n",
              "      <td>NaN</td>\n",
              "      <td>2012.0</td>\n",
              "      <td>PS3</td>\n",
              "    </tr>\n",
              "    <tr>\n",
              "      <th>1190</th>\n",
              "      <td>83.0</td>\n",
              "      <td>2012.0</td>\n",
              "      <td>X360</td>\n",
              "    </tr>\n",
              "    <tr>\n",
              "      <th>2048</th>\n",
              "      <td>NaN</td>\n",
              "      <td>2012.0</td>\n",
              "      <td>PSV</td>\n",
              "    </tr>\n",
              "    <tr>\n",
              "      <th>11715</th>\n",
              "      <td>82.0</td>\n",
              "      <td>2012.0</td>\n",
              "      <td>PC</td>\n",
              "    </tr>\n",
              "    <tr>\n",
              "      <th>6273</th>\n",
              "      <td>NaN</td>\n",
              "      <td>2013.0</td>\n",
              "      <td>WiiU</td>\n",
              "    </tr>\n",
              "  </tbody>\n",
              "</table>\n",
              "</div>"
            ],
            "text/plain": [
              "       critic_score  year_of_release platform\n",
              "253            82.0           2005.0      PS2\n",
              "1591           83.0           2005.0     X360\n",
              "1998           83.0           2005.0       XB\n",
              "3581           80.0           2005.0       GC\n",
              "5972           82.0           2005.0       PC\n",
              "6410           45.0           2005.0       DS\n",
              "6473            NaN           2005.0      GBA\n",
              "523             NaN           2012.0      PS3\n",
              "1190           83.0           2012.0     X360\n",
              "2048            NaN           2012.0      PSV\n",
              "11715          82.0           2012.0       PC\n",
              "6273            NaN           2013.0     WiiU"
            ]
          },
          "execution_count": 59,
          "metadata": {},
          "output_type": "execute_result"
        }
      ],
      "source": [
        "# As an example, let's take \"Need for Speed\"\n",
        "df[df['name'] == 'Need for Speed: Most Wanted'][['critic_score', 'year_of_release', 'platform']].sort_values(by = 'year_of_release')"
      ]
    },
    {
      "attachments": {},
      "cell_type": "markdown",
      "metadata": {
        "id": "2JgqaEZw-MOi"
      },
      "source": [
        "Grading systems differ across platforms, so it's advisable to refrain from filling in any missing information."
      ]
    },
    {
      "cell_type": "code",
      "execution_count": null,
      "metadata": {
        "id": "LtanLWlW-MOi",
        "outputId": "e7a31de2-7c2e-4974-ad8b-4b8da97c07dc"
      },
      "outputs": [
        {
          "data": {
            "image/png": "[encoded data removed]",
            "text/plain": [
              "<Figure size 1440x216 with 1 Axes>"
            ]
          },
          "metadata": {
            "needs_background": "light"
          },
          "output_type": "display_data"
        }
      ],
      "source": [
        "plt.figure(figsize=(20,3));\n",
        "plt.xticks(rotation='vertical')\n",
        "df['critic_score'].hist(bins = 98);"
      ]
    },
    {
      "attachments": {},
      "cell_type": "markdown",
      "metadata": {
        "id": "7x74RxUc-MOj"
      },
      "source": [
        "Conclusion: User and critic ratings have a significant number of gaps, and it's better not to fill them in to avoid drawing incorrect conclusions during analysis. Some of the missing ratings were partially restored using game titles.\n",
        "\n",
        "It's probable that the presence of gaps is related to the fact that ratings for different platforms have not yet been assigned (the most recent platforms don't have ratings), or the sample size is insufficient (the platform is not popular)."
      ]
    },
    {
      "attachments": {},
      "cell_type": "markdown",
      "metadata": {
        "id": "ITlOhkqqvpX6"
      },
      "source": [
        "# Exploratory Data Analysis"
      ]
    },
    {
      "attachments": {},
      "cell_type": "markdown",
      "metadata": {
        "id": "svEzSblKvzIY"
      },
      "source": [
        "## Games by years"
      ]
    },
    {
      "cell_type": "code",
      "execution_count": null,
      "metadata": {
        "colab": {
          "base_uri": "https://localhost:8080/",
          "height": 265
        },
        "id": "CJtZWjH3v1_z",
        "outputId": "959afcbb-53fc-42bb-de71-b5f108c8d5d3"
      },
      "outputs": [
        {
          "data": {
            "image/png": "[encoded data removed]",
            "text/plain": [
              "<Figure size 432x288 with 1 Axes>"
            ]
          },
          "metadata": {
            "needs_background": "light"
          },
          "output_type": "display_data"
        }
      ],
      "source": [
        "df['year_of_release'].hist(bins = 35);"
      ]
    },
    {
      "cell_type": "code",
      "execution_count": null,
      "metadata": {
        "colab": {
          "base_uri": "https://localhost:8080/",
          "height": 280
        },
        "id": "emyvYH7_wH8f",
        "outputId": "969dba16-321f-4228-9ff0-cadfa1dd6c17"
      },
      "outputs": [
        {
          "data": {
            "image/png": "[encoded data removed]",
            "text/plain": [
              "<Figure size 432x288 with 1 Axes>"
            ]
          },
          "metadata": {
            "needs_background": "light"
          },
          "output_type": "display_data"
        }
      ],
      "source": [
        "ax = sns.boxplot(x=df['year_of_release'])"
      ]
    },
    {
      "attachments": {},
      "cell_type": "markdown",
      "metadata": {
        "id": "wSWHYp8DxCW0"
      },
      "source": [
        "To conduct a thorough analysis, data from 1993 onwards is crucial."
      ]
    },
    {
      "cell_type": "code",
      "execution_count": null,
      "metadata": {
        "colab": {
          "base_uri": "https://localhost:8080/"
        },
        "id": "85sTPAsBxgov",
        "outputId": "4812a9ca-33a1-4d34-ff98-725ecc1bdf21"
      },
      "outputs": [
        {
          "name": "stdout",
          "output_type": "stream",
          "text": [
            "<class 'pandas.core.frame.DataFrame'>\n",
            "Int64Index: 16141 entries, 0 to 16714\n",
            "Data columns (total 11 columns):\n",
            " #   Column           Non-Null Count  Dtype  \n",
            "---  ------           --------------  -----  \n",
            " 0   name             16141 non-null  object \n",
            " 1   platform         16141 non-null  object \n",
            " 2   year_of_release  16141 non-null  float64\n",
            " 3   genre            16141 non-null  object \n",
            " 4   na_sales         16141 non-null  float64\n",
            " 5   eu_sales         16141 non-null  float64\n",
            " 6   jp_sales         16141 non-null  float64\n",
            " 7   other_sales      16141 non-null  float64\n",
            " 8   critic_score     7980 non-null   float64\n",
            " 9   user_score       7460 non-null   float64\n",
            " 10  rating           10171 non-null  object \n",
            "dtypes: float64(7), object(4)\n",
            "memory usage: 1.5+ MB\n"
          ]
        }
      ],
      "source": [
        "df = df[df['year_of_release'] >= 1993]\n",
        "df.info()"
      ]
    },
    {
      "attachments": {},
      "cell_type": "markdown",
      "metadata": {
        "id": "WADNHKSRx4jT"
      },
      "source": [
        "Amount of missing values decreased"
      ]
    },
    {
      "attachments": {},
      "cell_type": "markdown",
      "metadata": {
        "id": "Oq3yG4InyM0r"
      },
      "source": [
        "## Sales per platform"
      ]
    },
    {
      "cell_type": "code",
      "execution_count": null,
      "metadata": {
        "colab": {
          "base_uri": "https://localhost:8080/",
          "height": 280
        },
        "id": "rM881qJ4B61j",
        "outputId": "4061c40b-ecba-4b99-cae4-dc0a11678323"
      },
      "outputs": [
        {
          "data": {
            "image/png": "[encoded data removed]",
            "text/plain": [
              "<Figure size 432x288 with 1 Axes>"
            ]
          },
          "metadata": {
            "needs_background": "light"
          },
          "output_type": "display_data"
        }
      ],
      "source": [
        "df.pivot_table(index = 'year_of_release', values = ('na_sales', 'eu_sales', 'jp_sales'), aggfunc= 'sum').plot();"
      ]
    },
    {
      "cell_type": "code",
      "execution_count": null,
      "metadata": {
        "colab": {
          "base_uri": "https://localhost:8080/"
        },
        "id": "P7M_o_quEwfZ",
        "outputId": "5f4e678f-373d-4665-e783-811eeee6722a"
      },
      "outputs": [
        {
          "data": {
            "text/plain": [
              "0         Wii\n",
              "2         Wii\n",
              "3         Wii\n",
              "4          GB\n",
              "6          DS\n",
              "         ... \n",
              "16710     PS3\n",
              "16711    X360\n",
              "16712     PSV\n",
              "16713     GBA\n",
              "16714     PSV\n",
              "Name: platform, Length: 16141, dtype: object"
            ]
          },
          "execution_count": 65,
          "metadata": {},
          "output_type": "execute_result"
        }
      ],
      "source": [
        "df['platform']"
      ]
    },
    {
      "cell_type": "code",
      "execution_count": null,
      "metadata": {
        "id": "DIQ5eEmlD_8J"
      },
      "outputs": [],
      "source": [
        "df['sales'] = df['eu_sales'] + df['jp_sales'] + df['na_sales'] + df['other_sales']"
      ]
    },
    {
      "cell_type": "code",
      "execution_count": null,
      "metadata": {
        "colab": {
          "base_uri": "https://localhost:8080/",
          "height": 521
        },
        "id": "v-nrzl5UG5PT",
        "outputId": "d502ff50-15e5-45cb-9362-f7f90afa311f"
      },
      "outputs": [
        {
          "data": {
            "image/png": "[encoded data removed]",
            "text/plain": [
              "<Figure size 936x648 with 1 Axes>"
            ]
          },
          "metadata": {
            "needs_background": "light"
          },
          "output_type": "display_data"
        }
      ],
      "source": [
        "df.pivot_table(index = 'year_of_release', columns = 'platform', values = 'sales', aggfunc = 'sum').plot(figsize=(13,9));"
      ]
    },
    {
      "cell_type": "code",
      "execution_count": null,
      "metadata": {
        "id": "8IW76NFzHa7e"
      },
      "outputs": [],
      "source": [
        "sales_per_platform = df.pivot_table(index = 'platform', values = 'sales', aggfunc = 'sum').sort_values(by = 'sales', ascending = False)"
      ]
    },
    {
      "cell_type": "code",
      "execution_count": null,
      "metadata": {
        "id": "T3ETTRgHJQsy"
      },
      "outputs": [],
      "source": [
        "platforms_filtered = sales_per_platform.query('sales > 300').reset_index()['platform']"
      ]
    },
    {
      "cell_type": "code",
      "execution_count": null,
      "metadata": {
        "colab": {
          "base_uri": "https://localhost:8080/",
          "height": 280
        },
        "id": "c2RNvh-CIrPi",
        "outputId": "189f6835-4344-4dc7-ee38-fcf68f249e69"
      },
      "outputs": [
        {
          "data": {
            "image/png": "[encoded data removed]",
            "text/plain": [
              "<Figure size 936x504 with 1 Axes>"
            ]
          },
          "metadata": {
            "needs_background": "light"
          },
          "output_type": "display_data"
        }
      ],
      "source": [
        "df.query('platform in @platforms_filtered.tolist()').pivot_table(index = 'year_of_release', columns = 'platform', values = 'sales', aggfunc = 'sum').plot(figsize = (13,7));"
      ]
    },
    {
      "attachments": {},
      "cell_type": "markdown",
      "metadata": {
        "id": "X6Na3sE_b-oD"
      },
      "source": [
        "Typically, the dominant platform changes approximately every 5 years. However, between 2007 and 2012, competition significantly intensified, resulting in leaders changing every 2-3 years. To make an accurate forecast for 2017, it is advisable to use data starting from 2014."
      ]
    },
    {
      "cell_type": "code",
      "execution_count": null,
      "metadata": {
        "colab": {
          "base_uri": "https://localhost:8080/",
          "height": 280
        },
        "id": "F-B1cKopfW3x",
        "outputId": "fa5fec12-974d-4306-e5be-1030fc4268fe",
        "scrolled": true
      },
      "outputs": [
        {
          "data": {
            "image/png": "[encoded data removed]",
            "text/plain": [
              "<Figure size 936x360 with 1 Axes>"
            ]
          },
          "metadata": {
            "needs_background": "light"
          },
          "output_type": "display_data"
        }
      ],
      "source": [
        "df_newest = df.query('year_of_release >= 2014')\n",
        "df_newest.pivot_table(index = 'year_of_release', columns = 'platform', values = 'sales', aggfunc = 'sum').plot(figsize = (13, 5));"
      ]
    },
    {
      "cell_type": "code",
      "execution_count": null,
      "metadata": {
        "colab": {
          "base_uri": "https://localhost:8080/",
          "height": 394
        },
        "id": "mq2ei9o_gAAq",
        "outputId": "f8181e77-027c-44b9-f221-476e63f78106"
      },
      "outputs": [
        {
          "data": {
            "text/html": [
              "<div>\n",
              "<style scoped>\n",
              "    .dataframe tbody tr th:only-of-type {\n",
              "        vertical-align: middle;\n",
              "    }\n",
              "\n",
              "    .dataframe tbody tr th {\n",
              "        vertical-align: top;\n",
              "    }\n",
              "\n",
              "    .dataframe thead th {\n",
              "        text-align: right;\n",
              "    }\n",
              "</style>\n",
              "<table border=\"1\" class=\"dataframe\">\n",
              "  <thead>\n",
              "    <tr style=\"text-align: right;\">\n",
              "      <th></th>\n",
              "      <th>sales</th>\n",
              "    </tr>\n",
              "    <tr>\n",
              "      <th>platform</th>\n",
              "      <th></th>\n",
              "    </tr>\n",
              "  </thead>\n",
              "  <tbody>\n",
              "    <tr>\n",
              "      <th>PS4</th>\n",
              "      <td>288.15</td>\n",
              "    </tr>\n",
              "    <tr>\n",
              "      <th>XOne</th>\n",
              "      <td>140.36</td>\n",
              "    </tr>\n",
              "    <tr>\n",
              "      <th>3DS</th>\n",
              "      <td>86.68</td>\n",
              "    </tr>\n",
              "    <tr>\n",
              "      <th>PS3</th>\n",
              "      <td>68.18</td>\n",
              "    </tr>\n",
              "    <tr>\n",
              "      <th>X360</th>\n",
              "      <td>48.22</td>\n",
              "    </tr>\n",
              "    <tr>\n",
              "      <th>WiiU</th>\n",
              "      <td>42.98</td>\n",
              "    </tr>\n",
              "    <tr>\n",
              "      <th>PC</th>\n",
              "      <td>27.05</td>\n",
              "    </tr>\n",
              "    <tr>\n",
              "      <th>PSV</th>\n",
              "      <td>22.40</td>\n",
              "    </tr>\n",
              "    <tr>\n",
              "      <th>Wii</th>\n",
              "      <td>5.07</td>\n",
              "    </tr>\n",
              "    <tr>\n",
              "      <th>PSP</th>\n",
              "      <td>0.36</td>\n",
              "    </tr>\n",
              "  </tbody>\n",
              "</table>\n",
              "</div>"
            ],
            "text/plain": [
              "           sales\n",
              "platform        \n",
              "PS4       288.15\n",
              "XOne      140.36\n",
              "3DS        86.68\n",
              "PS3        68.18\n",
              "X360       48.22\n",
              "WiiU       42.98\n",
              "PC         27.05\n",
              "PSV        22.40\n",
              "Wii         5.07\n",
              "PSP         0.36"
            ]
          },
          "execution_count": 73,
          "metadata": {},
          "output_type": "execute_result"
        }
      ],
      "source": [
        "df_newest.pivot_table(index = 'platform', values = 'sales', aggfunc = 'sum').sort_values(by = 'sales', ascending = False)"
      ]
    },
    {
      "attachments": {},
      "cell_type": "markdown",
      "metadata": {
        "id": "gSSAVY8ggZU7"
      },
      "source": [
        "During the period from 2014 to 2016, the PS4 and Xbox One dominated the gaming market, experiencing their peak sales in 2015, followed by a decline in 2016. In contrast, other gaming platforms had already reached their peak sales prior to this time and have since continued to experience a decline in sales."
      ]
    },
    {
      "cell_type": "code",
      "execution_count": null,
      "metadata": {
        "colab": {
          "base_uri": "https://localhost:8080/",
          "height": 517
        },
        "id": "jW6p38o8yKTr",
        "outputId": "c0b819bf-6a71-4c77-f801-8c991c8075bf",
        "scrolled": true
      },
      "outputs": [
        {
          "data": {
            "image/png": "[encoded data removed]",
            "text/plain": [
              "<Figure size 842.4x595.44 with 1 Axes>"
            ]
          },
          "metadata": {},
          "output_type": "display_data"
        }
      ],
      "source": [
        "sns.set(rc={'figure.figsize':(11.7,8.27)})\n",
        "ax = sns.boxplot(y=df_newest.query('sales < 2')['platform'], x = df['sales']);"
      ]
    },
    {
      "attachments": {},
      "cell_type": "markdown",
      "metadata": {
        "id": "1K1eWu6Dlsrr"
      },
      "source": [
        "All platforms exhibit a right-skewed distribution, with the PS4 platform having the longest tail of reliable sales data. The median value does not exceed 0.25 million, and the X360 platform has the highest maximum sales value."
      ]
    },
    {
      "attachments": {},
      "cell_type": "markdown",
      "metadata": {
        "id": "lJYRTKA4nL_U"
      },
      "source": [
        "## Dependence of sales on reviews"
      ]
    },
    {
      "cell_type": "code",
      "execution_count": null,
      "metadata": {
        "colab": {
          "base_uri": "https://localhost:8080/",
          "height": 517
        },
        "id": "86X0Z2T3nTXF",
        "outputId": "3320c22a-f6cb-444e-b823-b88038d84fab"
      },
      "outputs": [
        {
          "data": {
            "image/png": "[encoded data removed]",
            "text/plain": [
              "<Figure size 842.4x595.44 with 1 Axes>"
            ]
          },
          "metadata": {},
          "output_type": "display_data"
        }
      ],
      "source": [
        "sns.scatterplot(data=df[df['platform'] == \"PS4\"], x=\"user_score\", y=\"sales\");"
      ]
    },
    {
      "cell_type": "code",
      "execution_count": null,
      "metadata": {
        "colab": {
          "base_uri": "https://localhost:8080/"
        },
        "id": "6YaKUWGA2Ely",
        "outputId": "2d8f5da2-2679-45ea-dd77-b882bfcdf0e4"
      },
      "outputs": [
        {
          "name": "stdout",
          "output_type": "stream",
          "text": [
            "-0.031957110204556376\n"
          ]
        }
      ],
      "source": [
        "print(df[df['platform'] == \"PS4\"]['sales'].corr(df[df['platform'] == \"PS4\"]['user_score']))"
      ]
    },
    {
      "cell_type": "code",
      "execution_count": null,
      "metadata": {
        "colab": {
          "base_uri": "https://localhost:8080/",
          "height": 517
        },
        "id": "Ek9zGKoZwaNI",
        "outputId": "6f6b964f-32d6-44d0-c790-8763304bc03e"
      },
      "outputs": [
        {
          "data": {
            "image/png": "[encoded data removed]",
            "text/plain": [
              "<Figure size 842.4x595.44 with 1 Axes>"
            ]
          },
          "metadata": {},
          "output_type": "display_data"
        }
      ],
      "source": [
        "sns.scatterplot(data=df[df['platform'] == \"PS4\"], x=\"critic_score\", y=\"sales\");"
      ]
    },
    {
      "cell_type": "code",
      "execution_count": null,
      "metadata": {
        "colab": {
          "base_uri": "https://localhost:8080/"
        },
        "id": "4ifsIuin1eMG",
        "outputId": "40793ddf-14a2-40dc-c035-b4f190a532c3"
      },
      "outputs": [
        {
          "name": "stdout",
          "output_type": "stream",
          "text": [
            "0.406567902061781\n"
          ]
        }
      ],
      "source": [
        "print(df[df['platform'] == \"PS4\"]['sales'].corr(df[df['platform'] == \"PS4\"]['critic_score']))"
      ]
    },
    {
      "cell_type": "code",
      "execution_count": null,
      "metadata": {
        "colab": {
          "base_uri": "https://localhost:8080/",
          "height": 621
        },
        "id": "k3pHeqxuw1ps",
        "outputId": "0b579730-02b9-40a8-e9fa-603d1d926719"
      },
      "outputs": [
        {
          "data": {
            "image/png": "[encoded data removed]",
            "text/plain": [
              "<Figure size 842.4x595.44 with 1 Axes>"
            ]
          },
          "metadata": {},
          "output_type": "display_data"
        }
      ],
      "source": [
        "#объединение оценок пользователей и критиков\n",
        "sales_vs_user_score = df[['platform', 'sales', 'user_score']]\n",
        "sales_vs_critic_score = df[['platform', 'sales', 'critic_score']]\n",
        "\n",
        "sales_vs_critic_score['critic_score'] = sales_vs_critic_score['critic_score']/10 # нормализация\n",
        "\n",
        "sales_vs_user_score = sales_vs_user_score.rename(columns = {'user_score':'score'})\n",
        "sales_vs_critic_score = sales_vs_critic_score.rename(columns = {'critic_score':'score'})\n",
        "\n",
        "frames = [sales_vs_user_score, sales_vs_critic_score]\n",
        "\n",
        "sales_vs_score = pd.concat(frames)\n",
        "\n",
        "sns.scatterplot(data=sales_vs_score.query('platform == \"PS4\"'), x=\"score\", y=\"sales\");"
      ]
    },
    {
      "cell_type": "code",
      "execution_count": null,
      "metadata": {
        "colab": {
          "base_uri": "https://localhost:8080/"
        },
        "id": "iU9MYI8L1IKp",
        "outputId": "0e8aa6b6-e6b9-4a17-f326-82191d3f3064"
      },
      "outputs": [
        {
          "name": "stdout",
          "output_type": "stream",
          "text": [
            "0.16679436274987083\n"
          ]
        }
      ],
      "source": [
        "print(sales_vs_score.query('platform == \"PS4\"')['sales'].corr(sales_vs_score.query('platform == \"PS4\"')['score']))"
      ]
    },
    {
      "attachments": {},
      "cell_type": "markdown",
      "metadata": {
        "id": "2eVp8rAP1WwV"
      },
      "source": [
        "the correlation coefficient is very low, i.e. there is no dependence of sales on reviews"
      ]
    },
    {
      "cell_type": "code",
      "execution_count": null,
      "metadata": {
        "colab": {
          "base_uri": "https://localhost:8080/",
          "height": 1000
        },
        "id": "sIE2kSlt2nCk",
        "outputId": "cb77ac77-85ff-4171-a168-0ef2ca3b8cb0",
        "scrolled": true
      },
      "outputs": [
        {
          "data": {
            "text/html": [
              "<div>\n",
              "<style scoped>\n",
              "    .dataframe tbody tr th:only-of-type {\n",
              "        vertical-align: middle;\n",
              "    }\n",
              "\n",
              "    .dataframe tbody tr th {\n",
              "        vertical-align: top;\n",
              "    }\n",
              "\n",
              "    .dataframe thead th {\n",
              "        text-align: right;\n",
              "    }\n",
              "</style>\n",
              "<table border=\"1\" class=\"dataframe\">\n",
              "  <thead>\n",
              "    <tr style=\"text-align: right;\">\n",
              "      <th></th>\n",
              "      <th>platform</th>\n",
              "      <th>corr</th>\n",
              "    </tr>\n",
              "  </thead>\n",
              "  <tbody>\n",
              "    <tr>\n",
              "      <th>10</th>\n",
              "      <td>PS</td>\n",
              "      <td>0.38</td>\n",
              "    </tr>\n",
              "    <tr>\n",
              "      <th>16</th>\n",
              "      <td>WiiU</td>\n",
              "      <td>0.38</td>\n",
              "    </tr>\n",
              "    <tr>\n",
              "      <th>12</th>\n",
              "      <td>XB</td>\n",
              "      <td>0.29</td>\n",
              "    </tr>\n",
              "    <tr>\n",
              "      <th>5</th>\n",
              "      <td>PS2</td>\n",
              "      <td>0.28</td>\n",
              "    </tr>\n",
              "    <tr>\n",
              "      <th>8</th>\n",
              "      <td>3DS</td>\n",
              "      <td>0.28</td>\n",
              "    </tr>\n",
              "    <tr>\n",
              "      <th>17</th>\n",
              "      <td>GC</td>\n",
              "      <td>0.28</td>\n",
              "    </tr>\n",
              "    <tr>\n",
              "      <th>4</th>\n",
              "      <td>PS3</td>\n",
              "      <td>0.27</td>\n",
              "    </tr>\n",
              "    <tr>\n",
              "      <th>14</th>\n",
              "      <td>PSP</td>\n",
              "      <td>0.27</td>\n",
              "    </tr>\n",
              "    <tr>\n",
              "      <th>3</th>\n",
              "      <td>X360</td>\n",
              "      <td>0.25</td>\n",
              "    </tr>\n",
              "    <tr>\n",
              "      <th>6</th>\n",
              "      <td>GBA</td>\n",
              "      <td>0.20</td>\n",
              "    </tr>\n",
              "    <tr>\n",
              "      <th>2</th>\n",
              "      <td>DS</td>\n",
              "      <td>0.19</td>\n",
              "    </tr>\n",
              "    <tr>\n",
              "      <th>7</th>\n",
              "      <td>PS4</td>\n",
              "      <td>0.17</td>\n",
              "    </tr>\n",
              "    <tr>\n",
              "      <th>15</th>\n",
              "      <td>XOne</td>\n",
              "      <td>0.16</td>\n",
              "    </tr>\n",
              "    <tr>\n",
              "      <th>0</th>\n",
              "      <td>Wii</td>\n",
              "      <td>0.14</td>\n",
              "    </tr>\n",
              "    <tr>\n",
              "      <th>13</th>\n",
              "      <td>PC</td>\n",
              "      <td>0.11</td>\n",
              "    </tr>\n",
              "    <tr>\n",
              "      <th>20</th>\n",
              "      <td>PSV</td>\n",
              "      <td>0.06</td>\n",
              "    </tr>\n",
              "    <tr>\n",
              "      <th>18</th>\n",
              "      <td>DC</td>\n",
              "      <td>-0.05</td>\n",
              "    </tr>\n",
              "    <tr>\n",
              "      <th>1</th>\n",
              "      <td>GB</td>\n",
              "      <td>NaN</td>\n",
              "    </tr>\n",
              "    <tr>\n",
              "      <th>9</th>\n",
              "      <td>N64</td>\n",
              "      <td>NaN</td>\n",
              "    </tr>\n",
              "    <tr>\n",
              "      <th>11</th>\n",
              "      <td>SNES</td>\n",
              "      <td>NaN</td>\n",
              "    </tr>\n",
              "    <tr>\n",
              "      <th>19</th>\n",
              "      <td>GEN</td>\n",
              "      <td>NaN</td>\n",
              "    </tr>\n",
              "    <tr>\n",
              "      <th>21</th>\n",
              "      <td>SAT</td>\n",
              "      <td>NaN</td>\n",
              "    </tr>\n",
              "    <tr>\n",
              "      <th>22</th>\n",
              "      <td>NES</td>\n",
              "      <td>NaN</td>\n",
              "    </tr>\n",
              "    <tr>\n",
              "      <th>23</th>\n",
              "      <td>SCD</td>\n",
              "      <td>NaN</td>\n",
              "    </tr>\n",
              "    <tr>\n",
              "      <th>24</th>\n",
              "      <td>WS</td>\n",
              "      <td>NaN</td>\n",
              "    </tr>\n",
              "    <tr>\n",
              "      <th>25</th>\n",
              "      <td>NG</td>\n",
              "      <td>NaN</td>\n",
              "    </tr>\n",
              "    <tr>\n",
              "      <th>26</th>\n",
              "      <td>TG16</td>\n",
              "      <td>NaN</td>\n",
              "    </tr>\n",
              "    <tr>\n",
              "      <th>27</th>\n",
              "      <td>3DO</td>\n",
              "      <td>NaN</td>\n",
              "    </tr>\n",
              "    <tr>\n",
              "      <th>28</th>\n",
              "      <td>PCFX</td>\n",
              "      <td>NaN</td>\n",
              "    </tr>\n",
              "  </tbody>\n",
              "</table>\n",
              "</div>"
            ],
            "text/plain": [
              "   platform  corr\n",
              "10       PS  0.38\n",
              "16     WiiU  0.38\n",
              "12       XB  0.29\n",
              "5       PS2  0.28\n",
              "8       3DS  0.28\n",
              "17       GC  0.28\n",
              "4       PS3  0.27\n",
              "14      PSP  0.27\n",
              "3      X360  0.25\n",
              "6       GBA  0.20\n",
              "2        DS  0.19\n",
              "7       PS4  0.17\n",
              "15     XOne  0.16\n",
              "0       Wii  0.14\n",
              "13       PC  0.11\n",
              "20      PSV  0.06\n",
              "18       DC -0.05\n",
              "1        GB   NaN\n",
              "9       N64   NaN\n",
              "11     SNES   NaN\n",
              "19      GEN   NaN\n",
              "21      SAT   NaN\n",
              "22      NES   NaN\n",
              "23      SCD   NaN\n",
              "24       WS   NaN\n",
              "25       NG   NaN\n",
              "26     TG16   NaN\n",
              "27      3DO   NaN\n",
              "28     PCFX   NaN"
            ]
          },
          "execution_count": 81,
          "metadata": {},
          "output_type": "execute_result"
        }
      ],
      "source": [
        "platforms_list = sales_vs_score['platform'].unique()\n",
        "corr_dict = {\"platform\":[], \"corr\":[]}\n",
        "i = 0\n",
        "for i in range(len(platforms_list)):\n",
        "  corr_dict[\"platform\"].append(platforms_list[i])\n",
        "  corr_dict[\"corr\"].append(round(sales_vs_score.query('platform == @platforms_list[@i]')['sales'].corr(sales_vs_score.query('platform == @platforms_list[@i]')['score']),2))\n",
        "  i+=1\n",
        "\n",
        "pd.DataFrame.from_dict(corr_dict).sort_values(by = \"corr\", ascending = False)\n"
      ]
    },
    {
      "attachments": {},
      "cell_type": "markdown",
      "metadata": {
        "id": "paOnYh_n8nyP"
      },
      "source": [
        "the conclusions are the same - there is no correlation of sales with reviews"
      ]
    },
    {
      "attachments": {},
      "cell_type": "markdown",
      "metadata": {
        "id": "5DE4LL7kr0Nz"
      },
      "source": [
        "## Games by genres"
      ]
    },
    {
      "cell_type": "code",
      "execution_count": null,
      "metadata": {
        "colab": {
          "base_uri": "https://localhost:8080/",
          "height": 575
        },
        "id": "NCcdX53Ir4Yo",
        "outputId": "6fcd70df-46a3-4549-f0da-9f11634f2f8e"
      },
      "outputs": [
        {
          "data": {
            "image/png": "[encoded data removed]",
            "text/plain": [
              "<Figure size 842.4x595.44 with 1 Axes>"
            ]
          },
          "metadata": {},
          "output_type": "display_data"
        }
      ],
      "source": [
        "df_newest.pivot_table(index = 'genre', values = 'sales', aggfunc = 'sum').sort_values(by = 'sales', ascending = False).plot(kind = 'bar');"
      ]
    },
    {
      "cell_type": "code",
      "execution_count": null,
      "metadata": {
        "colab": {
          "base_uri": "https://localhost:8080/",
          "height": 517
        },
        "id": "lQVJQ1_htNFd",
        "outputId": "e14ebbb8-943f-4525-9d8e-2ae009074c56"
      },
      "outputs": [
        {
          "data": {
            "image/png": "[encoded data removed]",
            "text/plain": [
              "<Figure size 842.4x595.44 with 1 Axes>"
            ]
          },
          "metadata": {},
          "output_type": "display_data"
        }
      ],
      "source": [
        "sns.set(rc={'figure.figsize':(11.7,8.27)})\n",
        "ax = sns.boxplot(y=df_newest.query('sales < 3').sort_values(by = 'sales', ascending = False)['genre'], x = df['sales']);"
      ]
    },
    {
      "attachments": {},
      "cell_type": "markdown",
      "metadata": {
        "id": "dSsz-D0Vt28s"
      },
      "source": [
        "The most profitable genres are action and shooter. Sales distribution for action games is narrow, while shooter games have a broad distribution.\n",
        "\n",
        "The median of the sales distribution for shooter games is significantly higher than for other genres. This suggests that the profitability of shooter games is due to a few successful titles.\n",
        "\n",
        "Among other profitable genres, sports and role-playing stand out, with combined sales just falling short of 100 million copies within the 2014-2016 period.\n",
        "\n",
        "The median of the sales distribution for sports games is second only to shooter games, and the distribution is also broad. The median for role-playing games is also relatively high, but comparable to other genres such as action, simulation, misc, fighting, racing, and platform. The distribution width for role-playing games is third after shooter and sports games.\n",
        "\n",
        "The least profitable genres are puzzle and strategy. The median of the sales distribution for these genres is low, and the distributions are narrow.\n",
        "\n",
        "In summary, it should be noted that during the 2014-2016 period, high sales for shooter, sports, and role-playing games were mainly driven by individual games that sold in large quantities. This suggests that the quality of the games plays a significant role. For action games, high total sales are achieved by numerous different games, indicating that the quantity of games played a significant role.\n",
        "\n",
        "Genres with low sales (less than 50 million copies during the 2014-2016 period), such as misc, fighting, racing, platform, adventure, simulation, strategy, and puzzle, can be divided into two categories. The first category consists of puzzle, strategy, and adventure, which have low median and narrow distribution (genres that rely on quantity). The second category consists of misc, fighting, racing, platform, and simulation, which have high median and broad distribution (genres that rely on quality)."
      ]
    },
    {
      "attachments": {},
      "cell_type": "markdown",
      "metadata": {
        "id": "20hKNYed1hW6"
      },
      "source": [
        "# Portrait of a user from each region"
      ]
    },
    {
      "attachments": {},
      "cell_type": "markdown",
      "metadata": {
        "id": "mwZZ-grH1pH3"
      },
      "source": [
        "## Most popular platforms"
      ]
    },
    {
      "cell_type": "code",
      "execution_count": null,
      "metadata": {
        "colab": {
          "base_uri": "https://localhost:8080/",
          "height": 536
        },
        "id": "mZ0LAXTp13Au",
        "outputId": "30077516-4ce0-4eae-bdfc-61f8acdfac4f"
      },
      "outputs": [
        {
          "data": {
            "image/png": "[encoded data removed]",
            "text/plain": [
              "<Figure size 842.4x595.44 with 1 Axes>"
            ]
          },
          "metadata": {},
          "output_type": "display_data"
        }
      ],
      "source": [
        "df_newest.pivot_table(index = 'platform', values = ('eu_sales', 'na_sales', 'jp_sales'), aggfunc = 'sum').sort_values(by = 'jp_sales').plot(kind = 'bar');"
      ]
    },
    {
      "cell_type": "code",
      "execution_count": null,
      "metadata": {
        "colab": {
          "base_uri": "https://localhost:8080/",
          "height": 394
        },
        "id": "qWSZr-CUI9sU",
        "outputId": "8d433833-bbaf-41b6-fe6f-62822edfc800"
      },
      "outputs": [
        {
          "data": {
            "text/html": [
              "<div>\n",
              "<style scoped>\n",
              "    .dataframe tbody tr th:only-of-type {\n",
              "        vertical-align: middle;\n",
              "    }\n",
              "\n",
              "    .dataframe tbody tr th {\n",
              "        vertical-align: top;\n",
              "    }\n",
              "\n",
              "    .dataframe thead th {\n",
              "        text-align: right;\n",
              "    }\n",
              "</style>\n",
              "<table border=\"1\" class=\"dataframe\">\n",
              "  <thead>\n",
              "    <tr style=\"text-align: right;\">\n",
              "      <th></th>\n",
              "      <th>eu_sales</th>\n",
              "      <th>jp_sales</th>\n",
              "      <th>na_sales</th>\n",
              "    </tr>\n",
              "    <tr>\n",
              "      <th>platform</th>\n",
              "      <th></th>\n",
              "      <th></th>\n",
              "      <th></th>\n",
              "    </tr>\n",
              "  </thead>\n",
              "  <tbody>\n",
              "    <tr>\n",
              "      <th>PS4</th>\n",
              "      <td>48.04</td>\n",
              "      <td>16.13</td>\n",
              "      <td>34.71</td>\n",
              "    </tr>\n",
              "    <tr>\n",
              "      <th>XOne</th>\n",
              "      <td>17.09</td>\n",
              "      <td>0.34</td>\n",
              "      <td>28.61</td>\n",
              "    </tr>\n",
              "    <tr>\n",
              "      <th>PS3</th>\n",
              "      <td>9.44</td>\n",
              "      <td>12.05</td>\n",
              "      <td>7.76</td>\n",
              "    </tr>\n",
              "    <tr>\n",
              "      <th>PC</th>\n",
              "      <td>6.64</td>\n",
              "      <td>0.00</td>\n",
              "      <td>2.55</td>\n",
              "    </tr>\n",
              "    <tr>\n",
              "      <th>3DS</th>\n",
              "      <td>5.96</td>\n",
              "      <td>47.52</td>\n",
              "      <td>7.97</td>\n",
              "    </tr>\n",
              "    <tr>\n",
              "      <th>X360</th>\n",
              "      <td>5.72</td>\n",
              "      <td>0.09</td>\n",
              "      <td>9.96</td>\n",
              "    </tr>\n",
              "    <tr>\n",
              "      <th>WiiU</th>\n",
              "      <td>4.86</td>\n",
              "      <td>7.85</td>\n",
              "      <td>6.82</td>\n",
              "    </tr>\n",
              "    <tr>\n",
              "      <th>PSV</th>\n",
              "      <td>1.30</td>\n",
              "      <td>15.62</td>\n",
              "      <td>0.89</td>\n",
              "    </tr>\n",
              "    <tr>\n",
              "      <th>Wii</th>\n",
              "      <td>0.96</td>\n",
              "      <td>0.00</td>\n",
              "      <td>0.73</td>\n",
              "    </tr>\n",
              "    <tr>\n",
              "      <th>PSP</th>\n",
              "      <td>0.00</td>\n",
              "      <td>0.39</td>\n",
              "      <td>0.00</td>\n",
              "    </tr>\n",
              "  </tbody>\n",
              "</table>\n",
              "</div>"
            ],
            "text/plain": [
              "          eu_sales  jp_sales  na_sales\n",
              "platform                              \n",
              "PS4          48.04     16.13     34.71\n",
              "XOne         17.09      0.34     28.61\n",
              "PS3           9.44     12.05      7.76\n",
              "PC            6.64      0.00      2.55\n",
              "3DS           5.96     47.52      7.97\n",
              "X360          5.72      0.09      9.96\n",
              "WiiU          4.86      7.85      6.82\n",
              "PSV           1.30     15.62      0.89\n",
              "Wii           0.96      0.00      0.73\n",
              "PSP           0.00      0.39      0.00"
            ]
          },
          "execution_count": 85,
          "metadata": {},
          "output_type": "execute_result"
        }
      ],
      "source": [
        "# percentage of sales made across all available platforms\n",
        "df_newest.pivot_table(index = 'platform', values = ('eu_sales', 'na_sales', 'jp_sales'), aggfunc = 'sum').apply(lambda x:100 * x / float(x.sum())).round(2).sort_values(by = 'eu_sales', ascending = False)"
      ]
    },
    {
      "attachments": {},
      "cell_type": "markdown",
      "metadata": {
        "id": "HReDFoDH4MVg"
      },
      "source": [
        "The most popular platforms are:\n",
        "\n",
        "- Europeans prefer PS4, XOne, PS3, PC, and 3DS.\n",
        "- Americans favor PS4, XOne, X360, 3DS, and PS3.\n",
        "- The Japanese prefer 3DS, PS4, PSV, PS3, and WiiU.\n",
        "\n",
        "The third and fourth PS are in the top 5 in all regions. The 3DS platform, which is not well understood in Europe and North America, is the most popular in Japan."
      ]
    },
    {
      "attachments": {},
      "cell_type": "markdown",
      "metadata": {
        "id": "a4Ymf6ErOVqB"
      },
      "source": [
        "## Most Popular Genres\n"
      ]
    },
    {
      "cell_type": "code",
      "execution_count": null,
      "metadata": {
        "colab": {
          "base_uri": "https://localhost:8080/",
          "height": 457
        },
        "id": "9viaebTkOU13",
        "outputId": "dcd3bdba-ee4a-4750-c8c5-165406e0c688"
      },
      "outputs": [
        {
          "data": {
            "text/html": [
              "<div>\n",
              "<style scoped>\n",
              "    .dataframe tbody tr th:only-of-type {\n",
              "        vertical-align: middle;\n",
              "    }\n",
              "\n",
              "    .dataframe tbody tr th {\n",
              "        vertical-align: top;\n",
              "    }\n",
              "\n",
              "    .dataframe thead th {\n",
              "        text-align: right;\n",
              "    }\n",
              "</style>\n",
              "<table border=\"1\" class=\"dataframe\">\n",
              "  <thead>\n",
              "    <tr style=\"text-align: right;\">\n",
              "      <th></th>\n",
              "      <th>eu_sales</th>\n",
              "      <th>jp_sales</th>\n",
              "      <th>na_sales</th>\n",
              "    </tr>\n",
              "    <tr>\n",
              "      <th>genre</th>\n",
              "      <th></th>\n",
              "      <th></th>\n",
              "      <th></th>\n",
              "    </tr>\n",
              "  </thead>\n",
              "  <tbody>\n",
              "    <tr>\n",
              "      <th>Role-Playing</th>\n",
              "      <td>10.41</td>\n",
              "      <td>33.47</td>\n",
              "      <td>11.78</td>\n",
              "    </tr>\n",
              "    <tr>\n",
              "      <th>Action</th>\n",
              "      <td>27.59</td>\n",
              "      <td>31.78</td>\n",
              "      <td>25.53</td>\n",
              "    </tr>\n",
              "    <tr>\n",
              "      <th>Fighting</th>\n",
              "      <td>2.47</td>\n",
              "      <td>6.84</td>\n",
              "      <td>4.38</td>\n",
              "    </tr>\n",
              "    <tr>\n",
              "      <th>Misc</th>\n",
              "      <td>4.75</td>\n",
              "      <td>6.03</td>\n",
              "      <td>5.30</td>\n",
              "    </tr>\n",
              "    <tr>\n",
              "      <th>Shooter</th>\n",
              "      <td>24.21</td>\n",
              "      <td>5.23</td>\n",
              "      <td>27.82</td>\n",
              "    </tr>\n",
              "    <tr>\n",
              "      <th>Adventure</th>\n",
              "      <td>2.40</td>\n",
              "      <td>3.87</td>\n",
              "      <td>1.99</td>\n",
              "    </tr>\n",
              "    <tr>\n",
              "      <th>Sports</th>\n",
              "      <td>16.89</td>\n",
              "      <td>3.50</td>\n",
              "      <td>16.24</td>\n",
              "    </tr>\n",
              "    <tr>\n",
              "      <th>Platform</th>\n",
              "      <td>2.51</td>\n",
              "      <td>2.89</td>\n",
              "      <td>2.39</td>\n",
              "    </tr>\n",
              "    <tr>\n",
              "      <th>Simulation</th>\n",
              "      <td>2.70</td>\n",
              "      <td>2.48</td>\n",
              "      <td>0.93</td>\n",
              "    </tr>\n",
              "    <tr>\n",
              "      <th>Racing</th>\n",
              "      <td>5.22</td>\n",
              "      <td>1.89</td>\n",
              "      <td>3.08</td>\n",
              "    </tr>\n",
              "    <tr>\n",
              "      <th>Strategy</th>\n",
              "      <td>0.66</td>\n",
              "      <td>1.02</td>\n",
              "      <td>0.34</td>\n",
              "    </tr>\n",
              "    <tr>\n",
              "      <th>Puzzle</th>\n",
              "      <td>0.19</td>\n",
              "      <td>1.00</td>\n",
              "      <td>0.23</td>\n",
              "    </tr>\n",
              "  </tbody>\n",
              "</table>\n",
              "</div>"
            ],
            "text/plain": [
              "              eu_sales  jp_sales  na_sales\n",
              "genre                                     \n",
              "Role-Playing     10.41     33.47     11.78\n",
              "Action           27.59     31.78     25.53\n",
              "Fighting          2.47      6.84      4.38\n",
              "Misc              4.75      6.03      5.30\n",
              "Shooter          24.21      5.23     27.82\n",
              "Adventure         2.40      3.87      1.99\n",
              "Sports           16.89      3.50     16.24\n",
              "Platform          2.51      2.89      2.39\n",
              "Simulation        2.70      2.48      0.93\n",
              "Racing            5.22      1.89      3.08\n",
              "Strategy          0.66      1.02      0.34\n",
              "Puzzle            0.19      1.00      0.23"
            ]
          },
          "execution_count": 86,
          "metadata": {},
          "output_type": "execute_result"
        }
      ],
      "source": [
        "# The percentage of sales across all platforms\n",
        "df_newest.pivot_table(index = 'genre', values = ('eu_sales', 'na_sales', 'jp_sales'), aggfunc = 'sum').apply(lambda x:100 * x / float(x.sum())).round(2).sort_values(by = 'jp_sales', ascending = False)"
      ]
    },
    {
      "attachments": {},
      "cell_type": "markdown",
      "metadata": {
        "id": "lYJUmqXnOkDP"
      },
      "source": [
        "The most popular genres are:\n",
        "\n",
        "Among Europeans: action, shooter, sports, role-playing, and racing\n",
        "Among Americans: shooter, action, sports, role-playing, and miscellaneous\n",
        "Among Japanese: role-playing, action, fighting, miscellaneous, and shooter\n",
        "Action, shooter, and role-playing are in the top 5 in all regions. However, only action is equally liked by everyone. Japanese gamers clearly do not prefer shooters as their first choice. Role-playing is more important to them than it is to Europeans and Americans. The Japanese love for martial arts is reflected in the presence of the fighting genre in their top 5. Europeans seem to lack the streets to race on, so they satisfy their need for speed with racing games. In contrast, Americans prefer destruction in the vastness of their prairies. Speed does not seem to be significant in Japanese culture, so the racing genre falls far outside their top 5."
      ]
    },
    {
      "attachments": {},
      "cell_type": "markdown",
      "metadata": {
        "id": "8_Mr7MQcQ3EM"
      },
      "source": [
        "## The impact of the ESBR rating on sales in the regions"
      ]
    },
    {
      "cell_type": "code",
      "execution_count": null,
      "metadata": {
        "colab": {
          "base_uri": "https://localhost:8080/",
          "height": 206
        },
        "id": "QGd6_FYFQ2Dd",
        "outputId": "1a16bc6b-d88c-4dcf-ad20-77f26f1f2d9a"
      },
      "outputs": [
        {
          "data": {
            "text/html": [
              "<div>\n",
              "<style scoped>\n",
              "    .dataframe tbody tr th:only-of-type {\n",
              "        vertical-align: middle;\n",
              "    }\n",
              "\n",
              "    .dataframe tbody tr th {\n",
              "        vertical-align: top;\n",
              "    }\n",
              "\n",
              "    .dataframe thead th {\n",
              "        text-align: right;\n",
              "    }\n",
              "</style>\n",
              "<table border=\"1\" class=\"dataframe\">\n",
              "  <thead>\n",
              "    <tr style=\"text-align: right;\">\n",
              "      <th></th>\n",
              "      <th>eu_sales</th>\n",
              "      <th>jp_sales</th>\n",
              "      <th>na_sales</th>\n",
              "    </tr>\n",
              "    <tr>\n",
              "      <th>rating</th>\n",
              "      <th></th>\n",
              "      <th></th>\n",
              "      <th></th>\n",
              "    </tr>\n",
              "  </thead>\n",
              "  <tbody>\n",
              "    <tr>\n",
              "      <th>T</th>\n",
              "      <td>15.84</td>\n",
              "      <td>42.13</td>\n",
              "      <td>17.52</td>\n",
              "    </tr>\n",
              "    <tr>\n",
              "      <th>E</th>\n",
              "      <td>26.15</td>\n",
              "      <td>23.24</td>\n",
              "      <td>22.10</td>\n",
              "    </tr>\n",
              "    <tr>\n",
              "      <th>M</th>\n",
              "      <td>45.67</td>\n",
              "      <td>22.28</td>\n",
              "      <td>45.35</td>\n",
              "    </tr>\n",
              "    <tr>\n",
              "      <th>E10+</th>\n",
              "      <td>12.34</td>\n",
              "      <td>12.34</td>\n",
              "      <td>15.03</td>\n",
              "    </tr>\n",
              "  </tbody>\n",
              "</table>\n",
              "</div>"
            ],
            "text/plain": [
              "        eu_sales  jp_sales  na_sales\n",
              "rating                              \n",
              "T          15.84     42.13     17.52\n",
              "E          26.15     23.24     22.10\n",
              "M          45.67     22.28     45.35\n",
              "E10+       12.34     12.34     15.03"
            ]
          },
          "execution_count": 87,
          "metadata": {},
          "output_type": "execute_result"
        }
      ],
      "source": [
        "# expression as a percentage of sales across all platforms\n",
        "df_newest.pivot_table(index = 'rating', values = ('eu_sales', 'na_sales', 'jp_sales'), aggfunc = 'sum').apply(lambda x:100 * x / float(x.sum())).round(2).sort_values(by = 'jp_sales', ascending = False)"
      ]
    },
    {
      "cell_type": "code",
      "execution_count": null,
      "metadata": {
        "colab": {
          "base_uri": "https://localhost:8080/",
          "height": 517
        },
        "id": "PuuvxznjRJtg",
        "outputId": "dff2afec-fcd4-4724-b2b6-617c4b4b3bcf"
      },
      "outputs": [
        {
          "data": {
            "image/png": "[encoded data removed]",
            "text/plain": [
              "<Figure size 842.4x595.44 with 1 Axes>"
            ]
          },
          "metadata": {},
          "output_type": "display_data"
        }
      ],
      "source": [
        "# combining sales data by region\n",
        "eu_sales_vs_rating = df_newest[['eu_sales', 'rating']]\n",
        "na_sales_vs_rating = df_newest[['na_sales', 'rating']]\n",
        "jp_sales_vs_rating = df_newest[['jp_sales', 'rating']]\n",
        "\n",
        "eu_sales_vs_rating = eu_sales_vs_rating.rename(columns = {'eu_sales':'sales'})\n",
        "na_sales_vs_rating = na_sales_vs_rating.rename(columns = {'na_sales':'sales'})\n",
        "jp_sales_vs_rating = jp_sales_vs_rating.rename(columns = {'jp_sales':'sales'})\n",
        "\n",
        "eu_sales_vs_rating['region'] = \"eu\"\n",
        "na_sales_vs_rating['region'] = \"na\"\n",
        "jp_sales_vs_rating['region'] = \"jp\"\n",
        "\n",
        "frames = [eu_sales_vs_rating, na_sales_vs_rating, jp_sales_vs_rating]\n",
        "\n",
        "sales_vs_rating = pd.concat(frames)\n",
        "\n",
        "sns.set(rc={'figure.figsize':(11.7,8.27)})\n",
        "ax = sns.boxplot(y= sales_vs_rating['sales'], x = sales_vs_rating['region'], hue = sales_vs_rating['rating']);"
      ]
    },
    {
      "cell_type": "code",
      "execution_count": null,
      "metadata": {
        "colab": {
          "base_uri": "https://localhost:8080/",
          "height": 537
        },
        "id": "dPC8ilM3UfTz",
        "outputId": "ebfa119b-6281-45b4-a7b2-e1f7a5fb6d8a"
      },
      "outputs": [
        {
          "data": {
            "image/png": "[encoded data removed]",
            "text/plain": [
              "<Figure size 842.4x595.44 with 1 Axes>"
            ]
          },
          "metadata": {},
          "output_type": "display_data"
        }
      ],
      "source": [
        "df_newest.pivot_table(index = 'rating', values = ('eu_sales', 'na_sales', 'jp_sales'), aggfunc = 'sum').sort_values(by = 'eu_sales').plot(kind = 'bar');"
      ]
    },
    {
      "attachments": {},
      "cell_type": "markdown",
      "metadata": {
        "id": "5Dc6lDLsUKrB"
      },
      "source": [
        "The rating system has a similar impact on sales in Europe and America. The highest selling rating is M, followed by E, T, and E10+. However, in Japan, it's a different story. The highest selling rating is T, followed by E, M, and E10+.\n",
        "\n",
        "This suggests that the rating system has a regional impact on sales."
      ]
    },
    {
      "attachments": {},
      "cell_type": "markdown",
      "metadata": {
        "id": "FRgEbaclVp_T"
      },
      "source": [
        "# Hypothesis Testing"
      ]
    },
    {
      "attachments": {},
      "cell_type": "markdown",
      "metadata": {
        "id": "Hc7cTcdLV2a3"
      },
      "source": [
        "Null hypothesis: The average user ratings for Xbox One and PC platforms are equal.\n",
        "\n",
        "Alternative hypothesis: The average user ratings for Xbox One and PC platforms differ."
      ]
    },
    {
      "cell_type": "code",
      "execution_count": null,
      "metadata": {
        "colab": {
          "base_uri": "https://localhost:8080/"
        },
        "id": "ed18oyCtWC4K",
        "outputId": "f7cf13c4-39df-485f-a961-b733c026ab95"
      },
      "outputs": [
        {
          "name": "stdout",
          "output_type": "stream",
          "text": [
            "p-значение:  0.10450507919348415\n",
            "Не получилось отвергнуть нулевую гипотезу\n"
          ]
        }
      ],
      "source": [
        "sample_PC = df_newest.query('platform == \"PC\"')['user_score'].dropna()\n",
        "sample_XOne = df_newest.query('platform == \"XOne\"')['user_score'].dropna()\n",
        "\n",
        "alpha = .05 # The critical level of statistical significance\n",
        "# is the threshold below which we will reject the null hypothesis if the p-value falls. \n",
        "\n",
        "results = st.ttest_ind(\n",
        "    sample_PC, \n",
        "    sample_XOne)\n",
        "\n",
        "print('p-значение: ', results.pvalue)\n",
        "\n",
        "if results.pvalue < alpha:\n",
        "    print(\"Отвергаем нулевую гипотезу\")\n",
        "else:\n",
        "    print(\"Не получилось отвергнуть нулевую гипотезу\") "
      ]
    },
    {
      "attachments": {},
      "cell_type": "markdown",
      "metadata": {
        "id": "EtUIbUqc-MO7"
      },
      "source": [
        "The statistical hypothesis of equal mean user ratings for two platforms cannot be rejected, indicating that users rate games rather than platforms, and in most cases, these ratings are similar. However, as discovered during the missing data filling process, some platforms have significantly different ratings, which may be attributed to technical peculiarities when transferring games from one platform to another."
      ]
    },
    {
      "attachments": {},
      "cell_type": "markdown",
      "metadata": {
        "id": "RbZIHrepXNy_"
      },
      "source": [
        "Null Hypothesis: The average user ratings for the Action and Sports genres are the same.\n",
        "\n",
        "Alternative Hypothesis: The average user ratings for the Action and Sports genres are different."
      ]
    },
    {
      "cell_type": "code",
      "execution_count": null,
      "metadata": {
        "colab": {
          "base_uri": "https://localhost:8080/"
        },
        "id": "cFx9ajjLXZLq",
        "outputId": "b0d1065f-391f-4125-af36-c33628e1716c",
        "scrolled": true
      },
      "outputs": [
        {
          "name": "stdout",
          "output_type": "stream",
          "text": [
            "p-значение:  2.8711147985105864e-19\n",
            "Отвергаем нулевую гипотезу\n"
          ]
        }
      ],
      "source": [
        "sample_Action = df_newest.query('genre == \"Action\"')['user_score'].dropna()\n",
        "sample_Sports = df_newest.query('genre == \"Sports\"')['user_score'].dropna()\n",
        "\n",
        "alpha = .05 # The critical level of statistical significance\n",
        "# is the threshold below which we will reject the null hypothesis if the p-value falls. \n",
        "\n",
        "results = st.ttest_ind(\n",
        "    sample_Action, \n",
        "    sample_Sports)\n",
        "\n",
        "print('p-значение: ', results.pvalue)\n",
        "\n",
        "if results.pvalue < alpha:\n",
        "    print(\"Отвергаем нулевую гипотезу\")\n",
        "else:\n",
        "    print(\"Не получилось отвергнуть нулевую гипотезу\") "
      ]
    },
    {
      "attachments": {},
      "cell_type": "markdown",
      "metadata": {
        "id": "MEqtJY1u-MO8"
      },
      "source": [
        "The statistical hypothesis claiming that the average user ratings for two genres are equal has been rejected. This is consistent with the study's findings, which demonstrate that user profiles, including genre preferences, differ across the world."
      ]
    },
    {
      "attachments": {},
      "cell_type": "markdown",
      "metadata": {
        "id": "wa3WeS8j-MO9"
      },
      "source": [
        "Conclusion: Statistical hypotheses were formulated according to the usual algorithm for formulating statistical hypotheses. The null hypothesis always assumes similarity between two samples, while the alternative hypothesis assumes difference. Everything is standard, with no room for creativity, at least at this level of knowledge. The data on user ratings of games were used as a basis. The critical level of statistical significance was set at 5%. The test results did not come as a surprise.\n",
        "\n",
        "The null hypothesis of equal average user ratings for two platforms is not rejected; however, it is unlikely to be true based on the research results.\n",
        "\n",
        "The null hypothesis of equal average user ratings for two genres is confidently rejected, as confirmed by the research results."
      ]
    },
    {
      "attachments": {},
      "cell_type": "markdown",
      "metadata": {
        "id": "FJgrhIO_YYDm"
      },
      "source": [
        "# Final Conclusion\n",
        "\n",
        "To identify the patterns that determine a game's success, a period from 2014 to 2016 was chosen. It's not advisable to take a longer period since the market landscape changes over time, and competition among platforms increases. The speed of changing gaming trends has also increased; before 2007, leaders among gaming platforms changed every five years, but after that, they changed every two to three years. Since the forecast is for 2017, the interval chosen should not exceed three years, i.e., 2014-2016.\n",
        "\n",
        "Currently, the most popular platforms are PS4 and XOne, but their popularity began to decline in 2015. This means that a new gaming platform will soon appear on the market, and betting on it could lead to profits in the following years.\n",
        "\n",
        "Reviews by both users and critics are not influential in sales.\n",
        "\n",
        "The most profitable game genres are action and shooter. To maximize profits in the shooter genre, a small number of high-quality games should be developed, whereas in the action genre, a large number of games should be developed.\n",
        "\n",
        "The market to focus on when choosing the PS4 platform is not significant, while for games on XOne, the European or North American market is preferred. When choosing the action genre, the market is also not essential, whereas shooter games may be less in demand in Japan. Ratings affect sales differently in the western and eastern worlds. In Europe and North America, games with an M rating have high sales, while in Japan, games with a T rating have higher sales."
      ]
    }
  ],
  "metadata": {
    "ExecuteTimeLog": [
      {
        "duration": 1065,
        "start_time": "2022-03-16T17:05:57.101Z"
      },
      {
        "duration": 33,
        "start_time": "2022-03-16T17:05:58.168Z"
      },
      {
        "duration": 22,
        "start_time": "2022-03-16T17:05:58.204Z"
      },
      {
        "duration": 20,
        "start_time": "2022-03-16T17:05:58.227Z"
      },
      {
        "duration": 13,
        "start_time": "2022-03-16T17:05:58.249Z"
      },
      {
        "duration": 14,
        "start_time": "2022-03-16T17:05:58.264Z"
      },
      {
        "duration": 13,
        "start_time": "2022-03-16T17:05:58.280Z"
      },
      {
        "duration": 11,
        "start_time": "2022-03-16T17:05:58.296Z"
      },
      {
        "duration": 10,
        "start_time": "2022-03-16T17:05:58.309Z"
      },
      {
        "duration": 389,
        "start_time": "2022-03-16T17:05:58.321Z"
      },
      {
        "duration": 7,
        "start_time": "2022-03-16T17:05:58.712Z"
      },
      {
        "duration": 5,
        "start_time": "2022-03-16T17:05:58.721Z"
      },
      {
        "duration": 4,
        "start_time": "2022-03-16T17:05:58.738Z"
      },
      {
        "duration": 363,
        "start_time": "2022-03-16T17:05:58.744Z"
      },
      {
        "duration": 242,
        "start_time": "2022-03-16T17:05:59.109Z"
      },
      {
        "duration": 146,
        "start_time": "2022-03-16T17:05:59.352Z"
      },
      {
        "duration": 14,
        "start_time": "2022-03-16T17:05:59.499Z"
      },
      {
        "duration": 213,
        "start_time": "2022-03-16T17:05:59.514Z"
      },
      {
        "duration": 12,
        "start_time": "2022-03-16T17:05:59.729Z"
      },
      {
        "duration": 8,
        "start_time": "2022-03-16T17:05:59.743Z"
      },
      {
        "duration": 663,
        "start_time": "2022-03-16T17:06:10.906Z"
      },
      {
        "duration": 433,
        "start_time": "2022-03-16T17:06:17.941Z"
      },
      {
        "duration": 485,
        "start_time": "2022-03-16T17:06:25.230Z"
      },
      {
        "duration": 480,
        "start_time": "2022-03-16T17:06:37.216Z"
      },
      {
        "duration": 523,
        "start_time": "2022-03-16T17:06:43.024Z"
      },
      {
        "duration": 597,
        "start_time": "2022-03-16T17:06:48.202Z"
      },
      {
        "duration": 375,
        "start_time": "2022-03-16T17:08:30.501Z"
      },
      {
        "duration": 484,
        "start_time": "2022-03-16T17:08:38.693Z"
      },
      {
        "duration": 11,
        "start_time": "2022-03-16T17:08:44.155Z"
      },
      {
        "duration": 6,
        "start_time": "2022-03-16T17:08:45.844Z"
      },
      {
        "duration": 364,
        "start_time": "2022-03-16T17:08:47.522Z"
      },
      {
        "duration": 354,
        "start_time": "2022-03-16T17:09:12.543Z"
      },
      {
        "duration": 3,
        "start_time": "2022-03-16T17:21:47.121Z"
      },
      {
        "duration": 54,
        "start_time": "2022-03-16T17:21:47.126Z"
      },
      {
        "duration": 26,
        "start_time": "2022-03-16T17:21:47.182Z"
      },
      {
        "duration": 11,
        "start_time": "2022-03-16T17:21:47.210Z"
      },
      {
        "duration": 13,
        "start_time": "2022-03-16T17:21:47.237Z"
      },
      {
        "duration": 4,
        "start_time": "2022-03-16T17:21:47.252Z"
      },
      {
        "duration": 13,
        "start_time": "2022-03-16T17:21:47.258Z"
      },
      {
        "duration": 15,
        "start_time": "2022-03-16T17:21:47.273Z"
      },
      {
        "duration": 9,
        "start_time": "2022-03-16T17:21:47.290Z"
      },
      {
        "duration": 403,
        "start_time": "2022-03-16T17:21:47.301Z"
      },
      {
        "duration": 8,
        "start_time": "2022-03-16T17:21:47.705Z"
      },
      {
        "duration": 10,
        "start_time": "2022-03-16T17:21:47.715Z"
      },
      {
        "duration": 6,
        "start_time": "2022-03-16T17:21:54.050Z"
      },
      {
        "duration": 360,
        "start_time": "2022-03-16T17:21:56.644Z"
      },
      {
        "duration": 9,
        "start_time": "2022-03-16T17:23:44.341Z"
      },
      {
        "duration": 7,
        "start_time": "2022-03-16T17:24:38.559Z"
      },
      {
        "duration": 1203,
        "start_time": "2022-03-16T17:29:24.081Z"
      },
      {
        "duration": 34,
        "start_time": "2022-03-16T17:29:25.286Z"
      },
      {
        "duration": 26,
        "start_time": "2022-03-16T17:29:25.322Z"
      },
      {
        "duration": 9,
        "start_time": "2022-03-16T17:29:25.350Z"
      },
      {
        "duration": 12,
        "start_time": "2022-03-16T17:29:25.361Z"
      },
      {
        "duration": 3,
        "start_time": "2022-03-16T17:29:25.375Z"
      },
      {
        "duration": 8,
        "start_time": "2022-03-16T17:29:25.380Z"
      },
      {
        "duration": 10,
        "start_time": "2022-03-16T17:29:25.390Z"
      },
      {
        "duration": 36,
        "start_time": "2022-03-16T17:29:25.402Z"
      },
      {
        "duration": 379,
        "start_time": "2022-03-16T17:29:25.439Z"
      },
      {
        "duration": 7,
        "start_time": "2022-03-16T17:29:25.820Z"
      },
      {
        "duration": 10,
        "start_time": "2022-03-16T17:29:25.828Z"
      },
      {
        "duration": 12,
        "start_time": "2022-03-16T17:29:25.840Z"
      },
      {
        "duration": 398,
        "start_time": "2022-03-16T17:29:25.854Z"
      },
      {
        "duration": 8,
        "start_time": "2022-03-16T17:29:26.254Z"
      },
      {
        "duration": 7,
        "start_time": "2022-03-16T17:29:29.699Z"
      },
      {
        "duration": 10,
        "start_time": "2022-03-16T17:30:04.782Z"
      },
      {
        "duration": 7,
        "start_time": "2022-03-16T17:30:08.498Z"
      },
      {
        "duration": 5,
        "start_time": "2022-03-16T17:31:23.414Z"
      },
      {
        "duration": 10,
        "start_time": "2022-03-16T17:31:25.276Z"
      },
      {
        "duration": 9,
        "start_time": "2022-03-16T17:36:41.872Z"
      },
      {
        "duration": 9,
        "start_time": "2022-03-16T17:36:54.263Z"
      },
      {
        "duration": 303,
        "start_time": "2022-03-16T17:48:00.715Z"
      },
      {
        "duration": 8,
        "start_time": "2022-03-16T17:49:10.887Z"
      },
      {
        "duration": 186,
        "start_time": "2022-03-16T17:49:25.202Z"
      },
      {
        "duration": 13,
        "start_time": "2022-03-16T17:49:29.718Z"
      },
      {
        "duration": 10,
        "start_time": "2022-03-16T17:51:36.175Z"
      },
      {
        "duration": 3,
        "start_time": "2022-03-16T17:51:40.736Z"
      },
      {
        "duration": 49,
        "start_time": "2022-03-16T17:51:40.742Z"
      },
      {
        "duration": 18,
        "start_time": "2022-03-16T17:51:40.793Z"
      },
      {
        "duration": 25,
        "start_time": "2022-03-16T17:51:40.813Z"
      },
      {
        "duration": 15,
        "start_time": "2022-03-16T17:51:40.840Z"
      },
      {
        "duration": 5,
        "start_time": "2022-03-16T17:51:40.857Z"
      },
      {
        "duration": 11,
        "start_time": "2022-03-16T17:51:40.863Z"
      },
      {
        "duration": 12,
        "start_time": "2022-03-16T17:51:40.877Z"
      },
      {
        "duration": 10,
        "start_time": "2022-03-16T17:51:40.890Z"
      },
      {
        "duration": 411,
        "start_time": "2022-03-16T17:51:40.902Z"
      },
      {
        "duration": 7,
        "start_time": "2022-03-16T17:51:41.315Z"
      },
      {
        "duration": 6,
        "start_time": "2022-03-16T17:51:41.324Z"
      },
      {
        "duration": 6,
        "start_time": "2022-03-16T17:51:41.338Z"
      },
      {
        "duration": 493,
        "start_time": "2022-03-16T17:51:41.346Z"
      },
      {
        "duration": 9,
        "start_time": "2022-03-16T17:52:07.956Z"
      },
      {
        "duration": 174,
        "start_time": "2022-03-16T17:52:46.461Z"
      },
      {
        "duration": 181,
        "start_time": "2022-03-16T17:53:57.533Z"
      },
      {
        "duration": 176,
        "start_time": "2022-03-16T17:57:55.962Z"
      },
      {
        "duration": 174,
        "start_time": "2022-03-16T17:58:09.094Z"
      },
      {
        "duration": 163,
        "start_time": "2022-03-16T17:58:13.825Z"
      },
      {
        "duration": 19393,
        "start_time": "2022-03-16T17:58:23.295Z"
      },
      {
        "duration": 7,
        "start_time": "2022-03-16T18:10:33.890Z"
      },
      {
        "duration": 29,
        "start_time": "2022-03-16T18:12:49.509Z"
      },
      {
        "duration": 182,
        "start_time": "2022-03-16T18:13:09.836Z"
      },
      {
        "duration": 198,
        "start_time": "2022-03-16T18:13:14.884Z"
      },
      {
        "duration": 33,
        "start_time": "2022-03-16T18:13:28.530Z"
      },
      {
        "duration": 9,
        "start_time": "2022-03-16T18:14:04.477Z"
      },
      {
        "duration": 10,
        "start_time": "2022-03-16T18:14:20.505Z"
      },
      {
        "duration": 10,
        "start_time": "2022-03-16T18:14:27.937Z"
      },
      {
        "duration": 9,
        "start_time": "2022-03-16T18:14:38.757Z"
      },
      {
        "duration": 8,
        "start_time": "2022-03-16T18:14:57.617Z"
      },
      {
        "duration": 9,
        "start_time": "2022-03-16T18:15:05.118Z"
      },
      {
        "duration": 12,
        "start_time": "2022-03-16T18:15:12.077Z"
      },
      {
        "duration": 13,
        "start_time": "2022-03-16T18:16:10.037Z"
      },
      {
        "duration": 181,
        "start_time": "2022-03-16T18:18:30.841Z"
      },
      {
        "duration": 171,
        "start_time": "2022-03-16T18:18:42.994Z"
      },
      {
        "duration": 1973,
        "start_time": "2022-03-16T18:18:54.331Z"
      },
      {
        "duration": 2547,
        "start_time": "2022-03-16T18:19:25.361Z"
      },
      {
        "duration": 2403,
        "start_time": "2022-03-16T18:19:35.872Z"
      },
      {
        "duration": 24,
        "start_time": "2022-03-16T18:20:01.983Z"
      },
      {
        "duration": 42,
        "start_time": "2022-03-16T18:20:23.055Z"
      },
      {
        "duration": 41,
        "start_time": "2022-03-16T18:30:12.702Z"
      },
      {
        "duration": 45,
        "start_time": "2022-03-16T18:30:27.117Z"
      },
      {
        "duration": 181,
        "start_time": "2022-03-16T18:31:41.046Z"
      },
      {
        "duration": 11,
        "start_time": "2022-03-16T18:33:10.578Z"
      },
      {
        "duration": 4698,
        "start_time": "2022-03-16T18:34:49.189Z"
      },
      {
        "duration": 11,
        "start_time": "2022-03-16T18:34:55.095Z"
      },
      {
        "duration": 11,
        "start_time": "2022-03-16T18:35:44.423Z"
      },
      {
        "duration": 11,
        "start_time": "2022-03-16T18:36:29.892Z"
      },
      {
        "duration": 13,
        "start_time": "2022-03-16T18:36:48.146Z"
      },
      {
        "duration": 10,
        "start_time": "2022-03-16T18:37:00.218Z"
      },
      {
        "duration": 14,
        "start_time": "2022-03-16T18:37:10.604Z"
      },
      {
        "duration": 9,
        "start_time": "2022-03-16T18:37:18.706Z"
      },
      {
        "duration": 9,
        "start_time": "2022-03-16T18:37:30.645Z"
      },
      {
        "duration": 14,
        "start_time": "2022-03-16T18:37:52.777Z"
      },
      {
        "duration": 13,
        "start_time": "2022-03-16T18:38:08.555Z"
      },
      {
        "duration": 9,
        "start_time": "2022-03-16T18:39:34.123Z"
      },
      {
        "duration": 10,
        "start_time": "2022-03-16T18:39:38.596Z"
      },
      {
        "duration": 10,
        "start_time": "2022-03-16T18:40:20.704Z"
      },
      {
        "duration": 7,
        "start_time": "2022-03-16T18:44:55.517Z"
      },
      {
        "duration": 9,
        "start_time": "2022-03-16T18:45:10.627Z"
      },
      {
        "duration": 9,
        "start_time": "2022-03-16T18:45:24.573Z"
      },
      {
        "duration": 8,
        "start_time": "2022-03-16T18:45:34.027Z"
      },
      {
        "duration": 7,
        "start_time": "2022-03-16T18:45:46.935Z"
      },
      {
        "duration": 9,
        "start_time": "2022-03-16T18:45:50.573Z"
      },
      {
        "duration": 213,
        "start_time": "2022-03-16T18:46:07.670Z"
      },
      {
        "duration": 171,
        "start_time": "2022-03-16T18:46:11.502Z"
      },
      {
        "duration": 172,
        "start_time": "2022-03-16T18:46:13.983Z"
      },
      {
        "duration": 9,
        "start_time": "2022-03-16T18:46:22.834Z"
      },
      {
        "duration": 11,
        "start_time": "2022-03-16T18:46:39.193Z"
      },
      {
        "duration": 10,
        "start_time": "2022-03-16T18:46:49.822Z"
      },
      {
        "duration": 13,
        "start_time": "2022-03-16T18:47:04.118Z"
      },
      {
        "duration": 235,
        "start_time": "2022-03-16T18:48:53.287Z"
      },
      {
        "duration": 192,
        "start_time": "2022-03-16T18:49:04.903Z"
      },
      {
        "duration": 192,
        "start_time": "2022-03-16T18:49:07.990Z"
      },
      {
        "duration": 8,
        "start_time": "2022-03-16T18:49:52.764Z"
      },
      {
        "duration": 10,
        "start_time": "2022-03-16T18:50:07.532Z"
      },
      {
        "duration": 10,
        "start_time": "2022-03-16T18:50:27.421Z"
      },
      {
        "duration": 12,
        "start_time": "2022-03-16T18:50:45.938Z"
      },
      {
        "duration": 14,
        "start_time": "2022-03-16T18:51:17.170Z"
      },
      {
        "duration": 189,
        "start_time": "2022-03-16T18:51:49.729Z"
      },
      {
        "duration": 191,
        "start_time": "2022-03-16T18:51:59.214Z"
      },
      {
        "duration": 200,
        "start_time": "2022-03-16T18:52:02.780Z"
      },
      {
        "duration": 2902,
        "start_time": "2022-03-16T18:52:06.999Z"
      },
      {
        "duration": 184,
        "start_time": "2022-03-16T18:53:04.320Z"
      },
      {
        "duration": 187,
        "start_time": "2022-03-16T18:55:09.027Z"
      },
      {
        "duration": 1110,
        "start_time": "2022-03-16T18:55:50.092Z"
      },
      {
        "duration": 1119,
        "start_time": "2022-03-16T18:56:15.788Z"
      },
      {
        "duration": 1047,
        "start_time": "2022-03-16T18:56:38.043Z"
      },
      {
        "duration": 1064,
        "start_time": "2022-03-16T18:57:02.421Z"
      },
      {
        "duration": 1097,
        "start_time": "2022-03-16T18:57:07.256Z"
      },
      {
        "duration": 1029,
        "start_time": "2022-03-16T18:57:16.685Z"
      },
      {
        "duration": 1057,
        "start_time": "2022-03-16T18:57:19.860Z"
      },
      {
        "duration": 642,
        "start_time": "2022-03-16T18:57:50.107Z"
      },
      {
        "duration": 559,
        "start_time": "2022-03-16T18:57:54.320Z"
      },
      {
        "duration": 1086,
        "start_time": "2022-03-16T18:58:11.118Z"
      },
      {
        "duration": 1057,
        "start_time": "2022-03-16T18:58:40.711Z"
      },
      {
        "duration": 1041,
        "start_time": "2022-03-16T18:59:24.742Z"
      },
      {
        "duration": 1233,
        "start_time": "2022-03-16T19:01:51.445Z"
      },
      {
        "duration": 1072,
        "start_time": "2022-03-16T19:01:56.813Z"
      },
      {
        "duration": 1108,
        "start_time": "2022-03-16T19:02:24.830Z"
      },
      {
        "duration": 1096,
        "start_time": "2022-03-16T19:02:40.641Z"
      },
      {
        "duration": 1065,
        "start_time": "2022-03-16T19:02:52.340Z"
      },
      {
        "duration": 1203,
        "start_time": "2022-03-16T19:03:13.974Z"
      },
      {
        "duration": 4986,
        "start_time": "2022-03-16T19:04:40.742Z"
      },
      {
        "duration": 22,
        "start_time": "2022-03-16T19:05:21.826Z"
      },
      {
        "duration": 5015,
        "start_time": "2022-03-16T19:05:29.045Z"
      },
      {
        "duration": 5811,
        "start_time": "2022-03-16T19:05:36.559Z"
      },
      {
        "duration": 5942,
        "start_time": "2022-03-16T19:05:49.915Z"
      },
      {
        "duration": 5016,
        "start_time": "2022-03-16T19:06:05.461Z"
      },
      {
        "duration": 4931,
        "start_time": "2022-03-16T19:06:15.486Z"
      },
      {
        "duration": 4900,
        "start_time": "2022-03-16T19:06:39.082Z"
      },
      {
        "duration": 5202,
        "start_time": "2022-03-16T19:06:50.744Z"
      },
      {
        "duration": 5274,
        "start_time": "2022-03-16T19:07:36.448Z"
      },
      {
        "duration": 4874,
        "start_time": "2022-03-16T19:08:24.910Z"
      },
      {
        "duration": 4888,
        "start_time": "2022-03-16T19:09:48.862Z"
      },
      {
        "duration": 5008,
        "start_time": "2022-03-16T19:09:58.222Z"
      },
      {
        "duration": 1356,
        "start_time": "2022-03-17T18:00:18.614Z"
      },
      {
        "duration": 56,
        "start_time": "2022-03-17T18:00:19.972Z"
      },
      {
        "duration": 21,
        "start_time": "2022-03-17T18:00:20.030Z"
      },
      {
        "duration": 13,
        "start_time": "2022-03-17T18:00:20.052Z"
      },
      {
        "duration": 18,
        "start_time": "2022-03-17T18:00:20.068Z"
      },
      {
        "duration": 12,
        "start_time": "2022-03-17T18:00:20.089Z"
      },
      {
        "duration": 7,
        "start_time": "2022-03-17T18:00:20.103Z"
      },
      {
        "duration": 11,
        "start_time": "2022-03-17T18:00:20.111Z"
      },
      {
        "duration": 6,
        "start_time": "2022-03-17T18:00:20.123Z"
      },
      {
        "duration": 353,
        "start_time": "2022-03-17T18:00:20.131Z"
      },
      {
        "duration": 10,
        "start_time": "2022-03-17T18:00:20.487Z"
      },
      {
        "duration": 5,
        "start_time": "2022-03-17T18:00:20.499Z"
      },
      {
        "duration": 8,
        "start_time": "2022-03-17T18:00:20.506Z"
      },
      {
        "duration": 259,
        "start_time": "2022-03-17T18:00:20.516Z"
      },
      {
        "duration": 78,
        "start_time": "2022-03-17T18:00:25.505Z"
      },
      {
        "duration": 100,
        "start_time": "2022-03-17T18:01:20.026Z"
      },
      {
        "duration": 7,
        "start_time": "2022-03-17T18:01:46.061Z"
      },
      {
        "duration": 4,
        "start_time": "2022-03-17T18:01:52.351Z"
      },
      {
        "duration": 40,
        "start_time": "2022-03-17T18:02:28.343Z"
      },
      {
        "duration": 86,
        "start_time": "2022-03-17T18:04:20.478Z"
      },
      {
        "duration": 75,
        "start_time": "2022-03-17T18:04:27.416Z"
      },
      {
        "duration": 17,
        "start_time": "2022-03-17T18:04:43.479Z"
      },
      {
        "duration": 3,
        "start_time": "2022-03-17T18:05:20.668Z"
      },
      {
        "duration": 12,
        "start_time": "2022-03-17T18:05:27.147Z"
      },
      {
        "duration": 18,
        "start_time": "2022-03-17T18:05:58.926Z"
      },
      {
        "duration": 22,
        "start_time": "2022-03-17T18:07:42.177Z"
      },
      {
        "duration": 8,
        "start_time": "2022-03-17T18:11:12.935Z"
      },
      {
        "duration": 8,
        "start_time": "2022-03-17T18:11:31.073Z"
      },
      {
        "duration": 8,
        "start_time": "2022-03-17T18:11:42.197Z"
      },
      {
        "duration": 191,
        "start_time": "2022-03-17T18:12:12.336Z"
      },
      {
        "duration": 13,
        "start_time": "2022-03-17T18:12:18.865Z"
      },
      {
        "duration": 8,
        "start_time": "2022-03-17T18:12:23.558Z"
      },
      {
        "duration": 9,
        "start_time": "2022-03-17T18:12:40.443Z"
      },
      {
        "duration": 3508,
        "start_time": "2022-03-17T18:17:30.098Z"
      },
      {
        "duration": 23,
        "start_time": "2022-03-17T18:17:44.906Z"
      },
      {
        "duration": 3363,
        "start_time": "2022-03-17T18:18:33.225Z"
      },
      {
        "duration": 12,
        "start_time": "2022-03-17T18:18:37.745Z"
      },
      {
        "duration": 16,
        "start_time": "2022-03-17T18:21:19.183Z"
      },
      {
        "duration": 13,
        "start_time": "2022-03-17T18:21:58.737Z"
      },
      {
        "duration": 21,
        "start_time": "2022-03-17T18:23:09.317Z"
      },
      {
        "duration": 3526,
        "start_time": "2022-03-17T18:26:00.615Z"
      },
      {
        "duration": 16,
        "start_time": "2022-03-17T18:26:12.209Z"
      },
      {
        "duration": 3580,
        "start_time": "2022-03-17T18:26:19.767Z"
      },
      {
        "duration": 14,
        "start_time": "2022-03-17T18:26:34.509Z"
      },
      {
        "duration": 17,
        "start_time": "2022-03-17T18:27:18.250Z"
      },
      {
        "duration": 161,
        "start_time": "2022-03-17T18:27:37.121Z"
      },
      {
        "duration": 163,
        "start_time": "2022-03-17T18:28:01.338Z"
      },
      {
        "duration": 169,
        "start_time": "2022-03-17T18:28:23.497Z"
      },
      {
        "duration": 8,
        "start_time": "2022-03-17T18:29:16.252Z"
      },
      {
        "duration": 11,
        "start_time": "2022-03-17T18:29:24.287Z"
      },
      {
        "duration": 212,
        "start_time": "2022-03-17T18:30:01.471Z"
      },
      {
        "duration": 14,
        "start_time": "2022-03-17T18:30:11.045Z"
      },
      {
        "duration": 12,
        "start_time": "2022-03-17T18:30:25.268Z"
      },
      {
        "duration": 15,
        "start_time": "2022-03-17T18:30:41.632Z"
      },
      {
        "duration": 3604,
        "start_time": "2022-03-17T18:34:17.253Z"
      },
      {
        "duration": 9,
        "start_time": "2022-03-17T18:34:31.063Z"
      },
      {
        "duration": 8,
        "start_time": "2022-03-17T18:34:41.752Z"
      },
      {
        "duration": 6,
        "start_time": "2022-03-17T18:34:45.017Z"
      },
      {
        "duration": 12,
        "start_time": "2022-03-17T18:36:18.216Z"
      },
      {
        "duration": 10,
        "start_time": "2022-03-17T18:36:26.054Z"
      },
      {
        "duration": 9,
        "start_time": "2022-03-17T18:36:32.066Z"
      },
      {
        "duration": 12,
        "start_time": "2022-03-17T18:36:38.590Z"
      },
      {
        "duration": 11,
        "start_time": "2022-03-17T18:36:43.900Z"
      },
      {
        "duration": 32,
        "start_time": "2022-03-17T18:36:51.104Z"
      },
      {
        "duration": 11,
        "start_time": "2022-03-17T18:37:36.094Z"
      },
      {
        "duration": 4,
        "start_time": "2022-03-17T18:39:08.160Z"
      },
      {
        "duration": 27,
        "start_time": "2022-03-17T18:39:26.690Z"
      },
      {
        "duration": 18,
        "start_time": "2022-03-17T18:41:19.061Z"
      },
      {
        "duration": 18,
        "start_time": "2022-03-17T18:42:26.851Z"
      },
      {
        "duration": 10,
        "start_time": "2022-03-17T18:42:35.087Z"
      },
      {
        "duration": 26,
        "start_time": "2022-03-17T19:06:45.973Z"
      },
      {
        "duration": 27,
        "start_time": "2022-03-17T19:06:59.797Z"
      },
      {
        "duration": 35,
        "start_time": "2022-03-17T19:07:10.418Z"
      },
      {
        "duration": 26,
        "start_time": "2022-03-17T19:07:25.571Z"
      },
      {
        "duration": 30,
        "start_time": "2022-03-17T19:07:35.742Z"
      },
      {
        "duration": 40,
        "start_time": "2022-03-17T19:08:38.442Z"
      },
      {
        "duration": 33,
        "start_time": "2022-03-17T19:09:12.394Z"
      },
      {
        "duration": 210,
        "start_time": "2022-03-17T19:11:20.115Z"
      },
      {
        "duration": 3566,
        "start_time": "2022-03-17T19:11:23.866Z"
      },
      {
        "duration": 15,
        "start_time": "2022-03-17T19:11:40.603Z"
      },
      {
        "duration": 7,
        "start_time": "2022-03-17T19:12:06.126Z"
      },
      {
        "duration": 20,
        "start_time": "2022-03-17T19:12:56.953Z"
      },
      {
        "duration": 3684,
        "start_time": "2022-03-17T19:13:39.720Z"
      },
      {
        "duration": 52,
        "start_time": "2022-03-17T19:14:20.539Z"
      },
      {
        "duration": 19,
        "start_time": "2022-03-17T19:14:48.696Z"
      },
      {
        "duration": 3715,
        "start_time": "2022-03-17T19:15:00.848Z"
      },
      {
        "duration": 5,
        "start_time": "2022-03-17T19:15:13.126Z"
      },
      {
        "duration": 18,
        "start_time": "2022-03-17T19:16:08.190Z"
      },
      {
        "duration": 6,
        "start_time": "2022-03-17T19:16:24.723Z"
      },
      {
        "duration": 5,
        "start_time": "2022-03-17T19:18:05.598Z"
      },
      {
        "duration": 3851,
        "start_time": "2022-03-17T19:24:01.227Z"
      },
      {
        "duration": 9,
        "start_time": "2022-03-17T19:37:53.382Z"
      },
      {
        "duration": 10,
        "start_time": "2022-03-17T19:38:25.440Z"
      },
      {
        "duration": 14,
        "start_time": "2022-03-17T20:10:08.462Z"
      },
      {
        "duration": 9,
        "start_time": "2022-03-17T20:10:32.190Z"
      },
      {
        "duration": 8,
        "start_time": "2022-03-17T20:10:45.728Z"
      },
      {
        "duration": 10,
        "start_time": "2022-03-17T20:11:33.800Z"
      },
      {
        "duration": 13,
        "start_time": "2022-03-17T20:11:51.834Z"
      },
      {
        "duration": 228,
        "start_time": "2022-03-17T20:16:28.009Z"
      },
      {
        "duration": 11,
        "start_time": "2022-03-17T20:16:32.657Z"
      },
      {
        "duration": 7,
        "start_time": "2022-03-17T20:21:46.407Z"
      },
      {
        "duration": 8,
        "start_time": "2022-03-17T20:21:56.071Z"
      },
      {
        "duration": 13,
        "start_time": "2022-03-17T20:22:15.290Z"
      },
      {
        "duration": 19,
        "start_time": "2022-03-17T20:22:38.699Z"
      },
      {
        "duration": 16,
        "start_time": "2022-03-17T20:22:51.980Z"
      },
      {
        "duration": 5162,
        "start_time": "2022-03-17T20:23:08.982Z"
      },
      {
        "duration": 17,
        "start_time": "2022-03-17T20:23:21.938Z"
      },
      {
        "duration": 14,
        "start_time": "2022-03-17T20:24:20.879Z"
      },
      {
        "duration": 10,
        "start_time": "2022-03-17T20:24:25.120Z"
      },
      {
        "duration": 7,
        "start_time": "2022-03-17T20:24:38.782Z"
      },
      {
        "duration": 13,
        "start_time": "2022-03-17T20:24:49.275Z"
      },
      {
        "duration": 8,
        "start_time": "2022-03-17T20:27:29.739Z"
      },
      {
        "duration": 8,
        "start_time": "2022-03-17T20:27:41.192Z"
      },
      {
        "duration": 24,
        "start_time": "2022-03-17T20:27:51.516Z"
      },
      {
        "duration": 19,
        "start_time": "2022-03-17T20:28:09.132Z"
      },
      {
        "duration": 19,
        "start_time": "2022-03-17T20:28:16.896Z"
      },
      {
        "duration": 16,
        "start_time": "2022-03-17T20:28:30.542Z"
      },
      {
        "duration": 17,
        "start_time": "2022-03-17T20:28:50.199Z"
      },
      {
        "duration": 23,
        "start_time": "2022-03-17T20:29:02.186Z"
      },
      {
        "duration": 16,
        "start_time": "2022-03-17T20:29:15.595Z"
      },
      {
        "duration": 14,
        "start_time": "2022-03-17T20:29:45.384Z"
      },
      {
        "duration": 23,
        "start_time": "2022-03-17T20:29:54.653Z"
      },
      {
        "duration": 13,
        "start_time": "2022-03-17T20:33:00.537Z"
      },
      {
        "duration": 15,
        "start_time": "2022-03-17T20:33:55.066Z"
      },
      {
        "duration": 12,
        "start_time": "2022-03-17T20:34:04.638Z"
      },
      {
        "duration": 11,
        "start_time": "2022-03-17T20:34:09.134Z"
      },
      {
        "duration": 13,
        "start_time": "2022-03-17T20:34:13.381Z"
      },
      {
        "duration": 12,
        "start_time": "2022-03-17T20:34:37.905Z"
      },
      {
        "duration": 19,
        "start_time": "2022-03-17T20:35:04.877Z"
      },
      {
        "duration": 16,
        "start_time": "2022-03-17T20:35:12.593Z"
      },
      {
        "duration": 20,
        "start_time": "2022-03-17T20:35:46.066Z"
      },
      {
        "duration": 12,
        "start_time": "2022-03-17T20:36:02.842Z"
      },
      {
        "duration": 8,
        "start_time": "2022-03-17T20:38:07.368Z"
      },
      {
        "duration": 16,
        "start_time": "2022-03-17T20:38:31.713Z"
      },
      {
        "duration": 10,
        "start_time": "2022-03-17T20:40:59.943Z"
      },
      {
        "duration": 7,
        "start_time": "2022-03-17T20:45:07.296Z"
      },
      {
        "duration": 15,
        "start_time": "2022-03-17T20:45:14.862Z"
      },
      {
        "duration": 8,
        "start_time": "2022-03-17T20:45:42.955Z"
      },
      {
        "duration": 34,
        "start_time": "2022-03-17T20:47:05.821Z"
      },
      {
        "duration": 30,
        "start_time": "2022-03-17T20:48:00.008Z"
      },
      {
        "duration": 12,
        "start_time": "2022-03-17T20:48:35.099Z"
      },
      {
        "duration": 29,
        "start_time": "2022-03-17T20:48:53.201Z"
      },
      {
        "duration": 24,
        "start_time": "2022-03-17T20:49:37.319Z"
      },
      {
        "duration": 13,
        "start_time": "2022-03-17T20:50:14.509Z"
      },
      {
        "duration": 15,
        "start_time": "2022-03-17T20:51:54.330Z"
      },
      {
        "duration": 16,
        "start_time": "2022-03-17T20:52:17.152Z"
      },
      {
        "duration": 19,
        "start_time": "2022-03-17T20:52:45.069Z"
      },
      {
        "duration": 22,
        "start_time": "2022-03-17T20:53:16.385Z"
      },
      {
        "duration": 22,
        "start_time": "2022-03-17T20:53:27.659Z"
      },
      {
        "duration": 28,
        "start_time": "2022-03-17T20:53:51.035Z"
      },
      {
        "duration": 37,
        "start_time": "2022-03-17T20:54:14.816Z"
      },
      {
        "duration": 32,
        "start_time": "2022-03-17T20:54:23.833Z"
      },
      {
        "duration": 29,
        "start_time": "2022-03-17T20:55:50.182Z"
      },
      {
        "duration": 15,
        "start_time": "2022-03-17T20:57:02.852Z"
      },
      {
        "duration": 31,
        "start_time": "2022-03-17T20:58:03.191Z"
      },
      {
        "duration": 5,
        "start_time": "2022-03-17T20:58:29.484Z"
      },
      {
        "duration": 18,
        "start_time": "2022-03-17T20:58:37.265Z"
      },
      {
        "duration": 13,
        "start_time": "2022-03-17T20:58:54.082Z"
      },
      {
        "duration": 13,
        "start_time": "2022-03-17T20:59:17.402Z"
      },
      {
        "duration": 10,
        "start_time": "2022-03-17T21:08:01.537Z"
      },
      {
        "duration": 289,
        "start_time": "2022-03-17T21:17:17.478Z"
      },
      {
        "duration": 20,
        "start_time": "2022-03-17T21:20:05.799Z"
      },
      {
        "duration": 1819,
        "start_time": "2022-03-17T21:20:13.250Z"
      },
      {
        "duration": 17,
        "start_time": "2022-03-17T21:20:45.808Z"
      },
      {
        "duration": 16,
        "start_time": "2022-03-17T22:59:47.339Z"
      },
      {
        "duration": 104,
        "start_time": "2022-03-17T23:06:19.508Z"
      },
      {
        "duration": 112,
        "start_time": "2022-03-17T23:06:23.729Z"
      },
      {
        "duration": 118,
        "start_time": "2022-03-17T23:07:14.926Z"
      },
      {
        "duration": 112,
        "start_time": "2022-03-17T23:07:35.507Z"
      },
      {
        "duration": 119,
        "start_time": "2022-03-17T23:07:46.960Z"
      },
      {
        "duration": 259,
        "start_time": "2022-03-17T23:09:39.886Z"
      },
      {
        "duration": 147,
        "start_time": "2022-03-17T23:10:05.092Z"
      },
      {
        "duration": 196,
        "start_time": "2022-03-17T23:11:06.740Z"
      },
      {
        "duration": 199,
        "start_time": "2022-03-17T23:11:38.558Z"
      },
      {
        "duration": 6,
        "start_time": "2022-03-17T23:12:12.617Z"
      },
      {
        "duration": 7,
        "start_time": "2022-03-17T23:13:49.016Z"
      },
      {
        "duration": 205,
        "start_time": "2022-03-17T23:14:00.246Z"
      },
      {
        "duration": 7,
        "start_time": "2022-03-17T23:14:56.186Z"
      },
      {
        "duration": 6,
        "start_time": "2022-03-17T23:15:20.749Z"
      },
      {
        "duration": 4,
        "start_time": "2022-03-17T23:15:56.449Z"
      },
      {
        "duration": 6,
        "start_time": "2022-03-17T23:16:06.229Z"
      },
      {
        "duration": 8,
        "start_time": "2022-03-17T23:16:19.546Z"
      },
      {
        "duration": 6,
        "start_time": "2022-03-17T23:16:25.014Z"
      },
      {
        "duration": 3,
        "start_time": "2022-03-17T23:17:20.524Z"
      },
      {
        "duration": 5,
        "start_time": "2022-03-17T23:17:23.505Z"
      },
      {
        "duration": 6,
        "start_time": "2022-03-17T23:17:32.069Z"
      },
      {
        "duration": 4,
        "start_time": "2022-03-17T23:18:42.442Z"
      },
      {
        "duration": 42,
        "start_time": "2022-03-17T23:18:42.450Z"
      },
      {
        "duration": 18,
        "start_time": "2022-03-17T23:18:42.494Z"
      },
      {
        "duration": 16,
        "start_time": "2022-03-17T23:18:42.514Z"
      },
      {
        "duration": 9,
        "start_time": "2022-03-17T23:18:42.532Z"
      },
      {
        "duration": 5,
        "start_time": "2022-03-17T23:18:42.542Z"
      },
      {
        "duration": 32,
        "start_time": "2022-03-17T23:18:42.549Z"
      },
      {
        "duration": 11,
        "start_time": "2022-03-17T23:18:42.582Z"
      },
      {
        "duration": 10,
        "start_time": "2022-03-17T23:18:42.595Z"
      },
      {
        "duration": 324,
        "start_time": "2022-03-17T23:18:42.607Z"
      },
      {
        "duration": 8,
        "start_time": "2022-03-17T23:18:42.933Z"
      },
      {
        "duration": 5,
        "start_time": "2022-03-17T23:18:42.943Z"
      },
      {
        "duration": 6,
        "start_time": "2022-03-17T23:18:42.950Z"
      },
      {
        "duration": 441,
        "start_time": "2022-03-17T23:18:42.958Z"
      },
      {
        "duration": 112,
        "start_time": "2022-03-17T23:18:43.401Z"
      },
      {
        "duration": 9,
        "start_time": "2022-03-17T23:18:43.514Z"
      },
      {
        "duration": 51,
        "start_time": "2022-03-17T23:18:43.524Z"
      },
      {
        "duration": 17,
        "start_time": "2022-03-17T23:18:43.581Z"
      },
      {
        "duration": 9,
        "start_time": "2022-03-17T23:18:43.599Z"
      },
      {
        "duration": 23,
        "start_time": "2022-03-17T23:18:43.610Z"
      },
      {
        "duration": 5,
        "start_time": "2022-03-17T23:18:43.635Z"
      },
      {
        "duration": 15,
        "start_time": "2022-03-17T23:18:43.642Z"
      },
      {
        "duration": 7,
        "start_time": "2022-03-17T23:18:43.658Z"
      },
      {
        "duration": 193,
        "start_time": "2022-03-17T23:18:43.667Z"
      },
      {
        "duration": 6,
        "start_time": "2022-03-17T23:18:43.861Z"
      },
      {
        "duration": 6,
        "start_time": "2022-03-17T23:18:49.969Z"
      },
      {
        "duration": 6,
        "start_time": "2022-03-17T23:18:52.522Z"
      },
      {
        "duration": 10,
        "start_time": "2022-03-17T23:19:01.415Z"
      },
      {
        "duration": 196,
        "start_time": "2022-03-17T23:19:03.371Z"
      },
      {
        "duration": 6,
        "start_time": "2022-03-17T23:19:14.605Z"
      },
      {
        "duration": 3,
        "start_time": "2022-03-17T23:19:32.484Z"
      },
      {
        "duration": 45,
        "start_time": "2022-03-17T23:19:32.491Z"
      },
      {
        "duration": 16,
        "start_time": "2022-03-17T23:19:32.538Z"
      },
      {
        "duration": 14,
        "start_time": "2022-03-17T23:19:32.556Z"
      },
      {
        "duration": 17,
        "start_time": "2022-03-17T23:19:32.571Z"
      },
      {
        "duration": 3,
        "start_time": "2022-03-17T23:19:32.590Z"
      },
      {
        "duration": 8,
        "start_time": "2022-03-17T23:19:32.594Z"
      },
      {
        "duration": 10,
        "start_time": "2022-03-17T23:19:32.603Z"
      },
      {
        "duration": 7,
        "start_time": "2022-03-17T23:19:32.614Z"
      },
      {
        "duration": 242,
        "start_time": "2022-03-17T23:19:32.622Z"
      },
      {
        "duration": 15,
        "start_time": "2022-03-17T23:19:32.866Z"
      },
      {
        "duration": 3,
        "start_time": "2022-03-17T23:19:32.883Z"
      },
      {
        "duration": 7,
        "start_time": "2022-03-17T23:19:32.887Z"
      },
      {
        "duration": 315,
        "start_time": "2022-03-17T23:19:32.896Z"
      },
      {
        "duration": 84,
        "start_time": "2022-03-17T23:19:33.213Z"
      },
      {
        "duration": 8,
        "start_time": "2022-03-17T23:19:33.299Z"
      },
      {
        "duration": 52,
        "start_time": "2022-03-17T23:19:33.309Z"
      },
      {
        "duration": 27,
        "start_time": "2022-03-17T23:19:33.362Z"
      },
      {
        "duration": 7,
        "start_time": "2022-03-17T23:19:33.391Z"
      },
      {
        "duration": 18,
        "start_time": "2022-03-17T23:19:33.400Z"
      },
      {
        "duration": 5,
        "start_time": "2022-03-17T23:19:33.420Z"
      },
      {
        "duration": 18,
        "start_time": "2022-03-17T23:19:33.427Z"
      },
      {
        "duration": 37,
        "start_time": "2022-03-17T23:19:33.447Z"
      },
      {
        "duration": 407,
        "start_time": "2022-03-17T23:19:33.486Z"
      },
      {
        "duration": 7,
        "start_time": "2022-03-17T23:19:33.895Z"
      },
      {
        "duration": 7,
        "start_time": "2022-03-17T23:19:40.337Z"
      },
      {
        "duration": 7,
        "start_time": "2022-03-17T23:19:43.420Z"
      },
      {
        "duration": 2,
        "start_time": "2022-03-17T23:25:20.171Z"
      },
      {
        "duration": 59,
        "start_time": "2022-03-17T23:25:20.175Z"
      },
      {
        "duration": 18,
        "start_time": "2022-03-17T23:25:20.237Z"
      },
      {
        "duration": 19,
        "start_time": "2022-03-17T23:25:20.256Z"
      },
      {
        "duration": 12,
        "start_time": "2022-03-17T23:25:20.277Z"
      },
      {
        "duration": 16,
        "start_time": "2022-03-17T23:25:20.291Z"
      },
      {
        "duration": 9,
        "start_time": "2022-03-17T23:25:20.308Z"
      },
      {
        "duration": 18,
        "start_time": "2022-03-17T23:25:20.318Z"
      },
      {
        "duration": 10,
        "start_time": "2022-03-17T23:25:20.337Z"
      },
      {
        "duration": 215,
        "start_time": "2022-03-17T23:25:20.348Z"
      },
      {
        "duration": 6,
        "start_time": "2022-03-17T23:25:20.565Z"
      },
      {
        "duration": 2,
        "start_time": "2022-03-17T23:25:20.580Z"
      },
      {
        "duration": 14,
        "start_time": "2022-03-17T23:25:20.589Z"
      },
      {
        "duration": 209,
        "start_time": "2022-03-17T23:25:20.605Z"
      },
      {
        "duration": 90,
        "start_time": "2022-03-17T23:25:20.816Z"
      },
      {
        "duration": 7,
        "start_time": "2022-03-17T23:25:20.907Z"
      },
      {
        "duration": 39,
        "start_time": "2022-03-17T23:25:20.915Z"
      },
      {
        "duration": 33,
        "start_time": "2022-03-17T23:25:20.955Z"
      },
      {
        "duration": 11,
        "start_time": "2022-03-17T23:25:20.989Z"
      },
      {
        "duration": 18,
        "start_time": "2022-03-17T23:25:21.001Z"
      },
      {
        "duration": 4,
        "start_time": "2022-03-17T23:25:21.021Z"
      },
      {
        "duration": 15,
        "start_time": "2022-03-17T23:25:21.026Z"
      },
      {
        "duration": 7,
        "start_time": "2022-03-17T23:25:21.042Z"
      },
      {
        "duration": 216,
        "start_time": "2022-03-17T23:25:21.051Z"
      },
      {
        "duration": 14,
        "start_time": "2022-03-17T23:25:21.269Z"
      },
      {
        "duration": 10,
        "start_time": "2022-03-17T23:25:21.287Z"
      },
      {
        "duration": 220,
        "start_time": "2022-03-17T23:25:21.299Z"
      },
      {
        "duration": 122,
        "start_time": "2022-03-17T23:25:21.521Z"
      },
      {
        "duration": 18,
        "start_time": "2022-03-17T23:25:21.647Z"
      },
      {
        "duration": 154,
        "start_time": "2022-03-17T23:25:21.666Z"
      },
      {
        "duration": 8,
        "start_time": "2022-03-17T23:25:21.822Z"
      },
      {
        "duration": 5,
        "start_time": "2022-03-17T23:25:24.767Z"
      },
      {
        "duration": 4,
        "start_time": "2022-03-17T23:25:27.002Z"
      },
      {
        "duration": 3,
        "start_time": "2022-03-17T23:25:50.235Z"
      },
      {
        "duration": 4,
        "start_time": "2022-03-17T23:25:52.500Z"
      },
      {
        "duration": 1567,
        "start_time": "2022-03-18T20:16:35.870Z"
      },
      {
        "duration": 45,
        "start_time": "2022-03-18T20:16:37.440Z"
      },
      {
        "duration": 32,
        "start_time": "2022-03-18T20:16:37.487Z"
      },
      {
        "duration": 24,
        "start_time": "2022-03-18T20:16:37.522Z"
      },
      {
        "duration": 16,
        "start_time": "2022-03-18T20:16:37.550Z"
      },
      {
        "duration": 33,
        "start_time": "2022-03-18T20:16:37.568Z"
      },
      {
        "duration": 9,
        "start_time": "2022-03-18T20:16:37.603Z"
      },
      {
        "duration": 17,
        "start_time": "2022-03-18T20:16:37.613Z"
      },
      {
        "duration": 9,
        "start_time": "2022-03-18T20:16:37.632Z"
      },
      {
        "duration": 296,
        "start_time": "2022-03-18T20:16:37.643Z"
      },
      {
        "duration": 11,
        "start_time": "2022-03-18T20:16:37.942Z"
      },
      {
        "duration": 7,
        "start_time": "2022-03-18T20:16:37.957Z"
      },
      {
        "duration": 9,
        "start_time": "2022-03-18T20:16:37.967Z"
      },
      {
        "duration": 268,
        "start_time": "2022-03-18T20:16:37.980Z"
      },
      {
        "duration": 101,
        "start_time": "2022-03-18T20:16:38.250Z"
      },
      {
        "duration": 9,
        "start_time": "2022-03-18T20:16:38.353Z"
      },
      {
        "duration": 54,
        "start_time": "2022-03-18T20:16:38.365Z"
      },
      {
        "duration": 116,
        "start_time": "2022-03-18T20:16:38.421Z"
      },
      {
        "duration": 12,
        "start_time": "2022-03-18T20:16:38.539Z"
      },
      {
        "duration": 18,
        "start_time": "2022-03-18T20:16:38.553Z"
      },
      {
        "duration": 6,
        "start_time": "2022-03-18T20:16:38.573Z"
      },
      {
        "duration": 17,
        "start_time": "2022-03-18T20:16:38.601Z"
      },
      {
        "duration": 13,
        "start_time": "2022-03-18T20:16:38.620Z"
      },
      {
        "duration": 257,
        "start_time": "2022-03-18T20:16:38.635Z"
      },
      {
        "duration": 12,
        "start_time": "2022-03-18T20:16:38.894Z"
      },
      {
        "duration": 7,
        "start_time": "2022-03-18T20:16:38.908Z"
      },
      {
        "duration": 196,
        "start_time": "2022-03-18T20:16:38.917Z"
      },
      {
        "duration": 115,
        "start_time": "2022-03-18T20:16:39.115Z"
      },
      {
        "duration": 17,
        "start_time": "2022-03-18T20:16:39.232Z"
      },
      {
        "duration": 178,
        "start_time": "2022-03-18T20:16:39.251Z"
      },
      {
        "duration": 6,
        "start_time": "2022-03-18T20:16:39.431Z"
      },
      {
        "duration": 6,
        "start_time": "2022-03-18T20:16:39.439Z"
      },
      {
        "duration": 3,
        "start_time": "2022-03-18T20:16:45.623Z"
      },
      {
        "duration": 5,
        "start_time": "2022-03-18T20:16:47.569Z"
      },
      {
        "duration": 697,
        "start_time": "2022-03-18T20:17:36.601Z"
      },
      {
        "duration": 13,
        "start_time": "2022-03-18T20:18:03.307Z"
      },
      {
        "duration": 7,
        "start_time": "2022-03-18T20:18:05.325Z"
      },
      {
        "duration": 242,
        "start_time": "2022-03-18T20:18:07.729Z"
      },
      {
        "duration": 278,
        "start_time": "2022-03-18T20:18:20.515Z"
      },
      {
        "duration": 270,
        "start_time": "2022-03-18T20:18:31.542Z"
      },
      {
        "duration": 288,
        "start_time": "2022-03-18T20:18:46.097Z"
      },
      {
        "duration": 18,
        "start_time": "2022-03-18T20:18:53.798Z"
      },
      {
        "duration": 430,
        "start_time": "2022-03-18T20:21:24.437Z"
      },
      {
        "duration": 442,
        "start_time": "2022-03-18T20:22:37.196Z"
      },
      {
        "duration": 375,
        "start_time": "2022-03-18T20:22:52.961Z"
      },
      {
        "duration": 287,
        "start_time": "2022-03-18T20:23:07.462Z"
      },
      {
        "duration": 327,
        "start_time": "2022-03-18T20:23:45.613Z"
      },
      {
        "duration": 277,
        "start_time": "2022-03-18T20:24:06.882Z"
      },
      {
        "duration": 291,
        "start_time": "2022-03-18T20:24:10.545Z"
      },
      {
        "duration": 280,
        "start_time": "2022-03-18T20:25:14.458Z"
      },
      {
        "duration": 535,
        "start_time": "2022-03-18T20:25:22.341Z"
      },
      {
        "duration": 326,
        "start_time": "2022-03-18T20:25:43.145Z"
      },
      {
        "duration": 12,
        "start_time": "2022-03-18T20:25:50.090Z"
      },
      {
        "duration": 12,
        "start_time": "2022-03-18T20:26:32.749Z"
      },
      {
        "duration": 16,
        "start_time": "2022-03-18T20:31:30.583Z"
      },
      {
        "duration": 27,
        "start_time": "2022-03-18T20:32:32.692Z"
      },
      {
        "duration": 15,
        "start_time": "2022-03-18T20:33:09.211Z"
      },
      {
        "duration": 29,
        "start_time": "2022-03-18T20:33:25.175Z"
      },
      {
        "duration": 32,
        "start_time": "2022-03-18T20:33:52.345Z"
      },
      {
        "duration": 30,
        "start_time": "2022-03-18T20:34:17.857Z"
      },
      {
        "duration": 30,
        "start_time": "2022-03-18T20:34:58.256Z"
      },
      {
        "duration": 64,
        "start_time": "2022-03-18T20:40:12.444Z"
      },
      {
        "duration": 84,
        "start_time": "2022-03-18T20:40:39.554Z"
      },
      {
        "duration": 4,
        "start_time": "2022-03-18T20:41:36.414Z"
      },
      {
        "duration": 49,
        "start_time": "2022-03-18T20:41:36.420Z"
      },
      {
        "duration": 35,
        "start_time": "2022-03-18T20:41:36.472Z"
      },
      {
        "duration": 18,
        "start_time": "2022-03-18T20:41:36.509Z"
      },
      {
        "duration": 12,
        "start_time": "2022-03-18T20:41:36.530Z"
      },
      {
        "duration": 7,
        "start_time": "2022-03-18T20:41:36.544Z"
      },
      {
        "duration": 15,
        "start_time": "2022-03-18T20:41:36.553Z"
      },
      {
        "duration": 34,
        "start_time": "2022-03-18T20:41:36.570Z"
      },
      {
        "duration": 10,
        "start_time": "2022-03-18T20:41:36.606Z"
      },
      {
        "duration": 273,
        "start_time": "2022-03-18T20:41:36.618Z"
      },
      {
        "duration": 11,
        "start_time": "2022-03-18T20:41:36.894Z"
      },
      {
        "duration": 15,
        "start_time": "2022-03-18T20:41:36.907Z"
      },
      {
        "duration": 25,
        "start_time": "2022-03-18T20:41:36.924Z"
      },
      {
        "duration": 284,
        "start_time": "2022-03-18T20:41:36.951Z"
      },
      {
        "duration": 101,
        "start_time": "2022-03-18T20:41:37.237Z"
      },
      {
        "duration": 9,
        "start_time": "2022-03-18T20:41:37.340Z"
      },
      {
        "duration": 58,
        "start_time": "2022-03-18T20:41:37.351Z"
      },
      {
        "duration": 22,
        "start_time": "2022-03-18T20:41:37.411Z"
      },
      {
        "duration": 10,
        "start_time": "2022-03-18T20:41:37.435Z"
      },
      {
        "duration": 26,
        "start_time": "2022-03-18T20:41:37.447Z"
      },
      {
        "duration": 6,
        "start_time": "2022-03-18T20:41:37.475Z"
      },
      {
        "duration": 34,
        "start_time": "2022-03-18T20:41:37.482Z"
      },
      {
        "duration": 53,
        "start_time": "2022-03-18T20:41:37.519Z"
      },
      {
        "duration": 119,
        "start_time": "2022-03-18T20:41:37.574Z"
      },
      {
        "duration": 7,
        "start_time": "2022-03-18T20:41:37.696Z"
      },
      {
        "duration": 20,
        "start_time": "2022-03-18T20:41:51.237Z"
      },
      {
        "duration": 3,
        "start_time": "2022-03-18T20:45:22.673Z"
      },
      {
        "duration": 50,
        "start_time": "2022-03-18T20:45:22.679Z"
      },
      {
        "duration": 23,
        "start_time": "2022-03-18T20:45:22.731Z"
      },
      {
        "duration": 23,
        "start_time": "2022-03-18T20:45:22.755Z"
      },
      {
        "duration": 31,
        "start_time": "2022-03-18T20:45:22.780Z"
      },
      {
        "duration": 4,
        "start_time": "2022-03-18T20:45:22.812Z"
      },
      {
        "duration": 10,
        "start_time": "2022-03-18T20:45:22.818Z"
      },
      {
        "duration": 15,
        "start_time": "2022-03-18T20:45:22.831Z"
      },
      {
        "duration": 14,
        "start_time": "2022-03-18T20:45:22.849Z"
      },
      {
        "duration": 435,
        "start_time": "2022-03-18T20:45:22.866Z"
      },
      {
        "duration": 11,
        "start_time": "2022-03-18T20:45:23.305Z"
      },
      {
        "duration": 6,
        "start_time": "2022-03-18T20:45:23.318Z"
      },
      {
        "duration": 15,
        "start_time": "2022-03-18T20:45:23.326Z"
      },
      {
        "duration": 425,
        "start_time": "2022-03-18T20:45:23.343Z"
      },
      {
        "duration": 240,
        "start_time": "2022-03-18T20:45:23.770Z"
      },
      {
        "duration": 4,
        "start_time": "2022-03-18T20:45:24.013Z"
      },
      {
        "duration": 15,
        "start_time": "2022-03-18T20:45:26.306Z"
      },
      {
        "duration": 4,
        "start_time": "2022-03-18T20:46:51.101Z"
      },
      {
        "duration": 42,
        "start_time": "2022-03-18T20:46:51.107Z"
      },
      {
        "duration": 23,
        "start_time": "2022-03-18T20:46:51.151Z"
      },
      {
        "duration": 15,
        "start_time": "2022-03-18T20:46:51.201Z"
      },
      {
        "duration": 13,
        "start_time": "2022-03-18T20:46:51.218Z"
      },
      {
        "duration": 4,
        "start_time": "2022-03-18T20:46:51.232Z"
      },
      {
        "duration": 12,
        "start_time": "2022-03-18T20:46:51.238Z"
      },
      {
        "duration": 17,
        "start_time": "2022-03-18T20:46:51.252Z"
      },
      {
        "duration": 34,
        "start_time": "2022-03-18T20:46:51.272Z"
      },
      {
        "duration": 15,
        "start_time": "2022-03-18T20:46:51.308Z"
      },
      {
        "duration": 293,
        "start_time": "2022-03-18T20:46:51.325Z"
      },
      {
        "duration": 8,
        "start_time": "2022-03-18T20:46:51.620Z"
      },
      {
        "duration": 8,
        "start_time": "2022-03-18T20:46:51.629Z"
      },
      {
        "duration": 9,
        "start_time": "2022-03-18T20:46:51.639Z"
      },
      {
        "duration": 297,
        "start_time": "2022-03-18T20:46:51.650Z"
      },
      {
        "duration": 83,
        "start_time": "2022-03-18T20:46:51.949Z"
      },
      {
        "duration": 4,
        "start_time": "2022-03-18T20:46:52.034Z"
      },
      {
        "duration": 10,
        "start_time": "2022-03-18T20:46:55.383Z"
      },
      {
        "duration": 4,
        "start_time": "2022-03-18T20:48:03.579Z"
      },
      {
        "duration": 52,
        "start_time": "2022-03-18T20:48:03.585Z"
      },
      {
        "duration": 23,
        "start_time": "2022-03-18T20:48:03.640Z"
      },
      {
        "duration": 28,
        "start_time": "2022-03-18T20:48:03.665Z"
      },
      {
        "duration": 16,
        "start_time": "2022-03-18T20:48:03.695Z"
      },
      {
        "duration": 7,
        "start_time": "2022-03-18T20:48:03.713Z"
      },
      {
        "duration": 33,
        "start_time": "2022-03-18T20:48:03.722Z"
      },
      {
        "duration": 40,
        "start_time": "2022-03-18T20:48:03.757Z"
      },
      {
        "duration": 16,
        "start_time": "2022-03-18T20:48:03.799Z"
      },
      {
        "duration": 27,
        "start_time": "2022-03-18T20:48:03.817Z"
      },
      {
        "duration": 281,
        "start_time": "2022-03-18T20:48:03.847Z"
      },
      {
        "duration": 7,
        "start_time": "2022-03-18T20:48:04.130Z"
      },
      {
        "duration": 18,
        "start_time": "2022-03-18T20:48:04.139Z"
      },
      {
        "duration": 45,
        "start_time": "2022-03-18T20:48:04.159Z"
      },
      {
        "duration": 345,
        "start_time": "2022-03-18T20:48:04.206Z"
      },
      {
        "duration": 84,
        "start_time": "2022-03-18T20:48:04.553Z"
      },
      {
        "duration": 5,
        "start_time": "2022-03-18T20:48:04.639Z"
      },
      {
        "duration": 1331,
        "start_time": "2022-03-18T20:48:15.879Z"
      },
      {
        "duration": 42,
        "start_time": "2022-03-18T20:48:17.212Z"
      },
      {
        "duration": 30,
        "start_time": "2022-03-18T20:48:17.256Z"
      },
      {
        "duration": 20,
        "start_time": "2022-03-18T20:48:17.302Z"
      },
      {
        "duration": 12,
        "start_time": "2022-03-18T20:48:17.325Z"
      },
      {
        "duration": 18,
        "start_time": "2022-03-18T20:48:17.339Z"
      },
      {
        "duration": 28,
        "start_time": "2022-03-18T20:48:17.359Z"
      },
      {
        "duration": 18,
        "start_time": "2022-03-18T20:48:17.390Z"
      },
      {
        "duration": 17,
        "start_time": "2022-03-18T20:48:17.410Z"
      },
      {
        "duration": 8,
        "start_time": "2022-03-18T20:48:17.430Z"
      },
      {
        "duration": 298,
        "start_time": "2022-03-18T20:48:17.440Z"
      },
      {
        "duration": 8,
        "start_time": "2022-03-18T20:48:17.740Z"
      },
      {
        "duration": 8,
        "start_time": "2022-03-18T20:48:17.750Z"
      },
      {
        "duration": 8,
        "start_time": "2022-03-18T20:48:17.761Z"
      },
      {
        "duration": 295,
        "start_time": "2022-03-18T20:48:17.771Z"
      },
      {
        "duration": 176,
        "start_time": "2022-03-18T20:48:18.069Z"
      },
      {
        "duration": 5,
        "start_time": "2022-03-18T20:48:23.761Z"
      },
      {
        "duration": 14,
        "start_time": "2022-03-18T20:48:25.549Z"
      },
      {
        "duration": 135,
        "start_time": "2022-03-18T20:48:55.979Z"
      },
      {
        "duration": 10,
        "start_time": "2022-03-18T20:48:59.361Z"
      },
      {
        "duration": 66,
        "start_time": "2022-03-18T20:49:01.063Z"
      },
      {
        "duration": 24,
        "start_time": "2022-03-18T20:49:02.582Z"
      },
      {
        "duration": 11,
        "start_time": "2022-03-18T20:49:05.225Z"
      },
      {
        "duration": 20,
        "start_time": "2022-03-18T20:49:06.936Z"
      },
      {
        "duration": 7,
        "start_time": "2022-03-18T20:49:08.641Z"
      },
      {
        "duration": 17,
        "start_time": "2022-03-18T20:49:10.580Z"
      },
      {
        "duration": 12,
        "start_time": "2022-03-18T20:49:32.209Z"
      },
      {
        "duration": 31,
        "start_time": "2022-03-18T20:50:05.974Z"
      },
      {
        "duration": 71,
        "start_time": "2022-03-18T20:50:09.141Z"
      },
      {
        "duration": 5,
        "start_time": "2022-03-18T20:50:11.573Z"
      },
      {
        "duration": 17,
        "start_time": "2022-03-18T20:50:13.900Z"
      },
      {
        "duration": 10,
        "start_time": "2022-03-18T20:50:21.075Z"
      },
      {
        "duration": 10,
        "start_time": "2022-03-18T20:51:24.768Z"
      },
      {
        "duration": 11,
        "start_time": "2022-03-18T20:51:47.056Z"
      },
      {
        "duration": 15,
        "start_time": "2022-03-18T20:52:17.007Z"
      },
      {
        "duration": 5,
        "start_time": "2022-03-18T20:52:28.082Z"
      },
      {
        "duration": 6,
        "start_time": "2022-03-18T20:52:37.464Z"
      },
      {
        "duration": 6,
        "start_time": "2022-03-18T20:52:55.685Z"
      },
      {
        "duration": 5,
        "start_time": "2022-03-18T20:53:09.182Z"
      },
      {
        "duration": 239,
        "start_time": "2022-03-18T20:53:26.184Z"
      },
      {
        "duration": 5,
        "start_time": "2022-03-18T20:54:08.005Z"
      },
      {
        "duration": 46,
        "start_time": "2022-03-18T20:54:08.013Z"
      },
      {
        "duration": 48,
        "start_time": "2022-03-18T20:54:08.061Z"
      },
      {
        "duration": 18,
        "start_time": "2022-03-18T20:54:08.112Z"
      },
      {
        "duration": 11,
        "start_time": "2022-03-18T20:54:08.133Z"
      },
      {
        "duration": 9,
        "start_time": "2022-03-18T20:54:08.146Z"
      },
      {
        "duration": 11,
        "start_time": "2022-03-18T20:54:08.157Z"
      },
      {
        "duration": 39,
        "start_time": "2022-03-18T20:54:08.170Z"
      },
      {
        "duration": 12,
        "start_time": "2022-03-18T20:54:08.212Z"
      },
      {
        "duration": 14,
        "start_time": "2022-03-18T20:54:08.226Z"
      },
      {
        "duration": 279,
        "start_time": "2022-03-18T20:54:08.243Z"
      },
      {
        "duration": 9,
        "start_time": "2022-03-18T20:54:08.524Z"
      },
      {
        "duration": 7,
        "start_time": "2022-03-18T20:54:08.536Z"
      },
      {
        "duration": 19,
        "start_time": "2022-03-18T20:54:08.545Z"
      },
      {
        "duration": 352,
        "start_time": "2022-03-18T20:54:08.567Z"
      },
      {
        "duration": 86,
        "start_time": "2022-03-18T20:54:08.920Z"
      },
      {
        "duration": 4,
        "start_time": "2022-03-18T20:54:09.009Z"
      },
      {
        "duration": 13,
        "start_time": "2022-03-18T20:54:09.014Z"
      },
      {
        "duration": 110,
        "start_time": "2022-03-18T20:54:09.029Z"
      },
      {
        "duration": 10,
        "start_time": "2022-03-18T20:54:09.141Z"
      },
      {
        "duration": 86,
        "start_time": "2022-03-18T20:54:09.153Z"
      },
      {
        "duration": 21,
        "start_time": "2022-03-18T20:54:09.241Z"
      },
      {
        "duration": 11,
        "start_time": "2022-03-18T20:54:09.264Z"
      },
      {
        "duration": 36,
        "start_time": "2022-03-18T20:54:09.280Z"
      },
      {
        "duration": 7,
        "start_time": "2022-03-18T20:54:09.318Z"
      },
      {
        "duration": 8,
        "start_time": "2022-03-18T20:54:09.327Z"
      },
      {
        "duration": 10,
        "start_time": "2022-03-18T20:54:09.337Z"
      },
      {
        "duration": 32,
        "start_time": "2022-03-18T20:54:09.349Z"
      },
      {
        "duration": 74,
        "start_time": "2022-03-18T20:54:09.402Z"
      },
      {
        "duration": 5,
        "start_time": "2022-03-18T20:54:09.478Z"
      },
      {
        "duration": 5,
        "start_time": "2022-03-18T20:54:09.500Z"
      },
      {
        "duration": 6,
        "start_time": "2022-03-18T20:54:15.979Z"
      },
      {
        "duration": 182,
        "start_time": "2022-03-18T20:55:06.078Z"
      },
      {
        "duration": 6,
        "start_time": "2022-03-18T20:56:15.838Z"
      },
      {
        "duration": 4,
        "start_time": "2022-03-18T20:56:59.527Z"
      },
      {
        "duration": 55,
        "start_time": "2022-03-18T20:56:59.533Z"
      },
      {
        "duration": 23,
        "start_time": "2022-03-18T20:56:59.590Z"
      },
      {
        "duration": 18,
        "start_time": "2022-03-18T20:56:59.615Z"
      },
      {
        "duration": 11,
        "start_time": "2022-03-18T20:56:59.635Z"
      },
      {
        "duration": 3,
        "start_time": "2022-03-18T20:56:59.648Z"
      },
      {
        "duration": 9,
        "start_time": "2022-03-18T20:56:59.653Z"
      },
      {
        "duration": 43,
        "start_time": "2022-03-18T20:56:59.664Z"
      },
      {
        "duration": 22,
        "start_time": "2022-03-18T20:56:59.709Z"
      },
      {
        "duration": 9,
        "start_time": "2022-03-18T20:56:59.734Z"
      },
      {
        "duration": 251,
        "start_time": "2022-03-18T20:56:59.745Z"
      },
      {
        "duration": 12,
        "start_time": "2022-03-18T20:57:00.002Z"
      },
      {
        "duration": 11,
        "start_time": "2022-03-18T20:57:00.016Z"
      },
      {
        "duration": 20,
        "start_time": "2022-03-18T20:57:00.030Z"
      },
      {
        "duration": 251,
        "start_time": "2022-03-18T20:57:00.052Z"
      },
      {
        "duration": 75,
        "start_time": "2022-03-18T20:57:00.305Z"
      },
      {
        "duration": 5,
        "start_time": "2022-03-18T20:57:00.381Z"
      },
      {
        "duration": 4,
        "start_time": "2022-03-18T20:57:00.402Z"
      },
      {
        "duration": 17,
        "start_time": "2022-03-18T20:57:00.408Z"
      },
      {
        "duration": 1317,
        "start_time": "2022-03-18T20:59:35.725Z"
      },
      {
        "duration": 54,
        "start_time": "2022-03-18T20:59:37.045Z"
      },
      {
        "duration": 34,
        "start_time": "2022-03-18T20:59:37.101Z"
      },
      {
        "duration": 23,
        "start_time": "2022-03-18T20:59:37.137Z"
      },
      {
        "duration": 38,
        "start_time": "2022-03-18T20:59:37.164Z"
      },
      {
        "duration": 4,
        "start_time": "2022-03-18T20:59:37.204Z"
      },
      {
        "duration": 15,
        "start_time": "2022-03-18T20:59:37.210Z"
      },
      {
        "duration": 25,
        "start_time": "2022-03-18T20:59:37.227Z"
      },
      {
        "duration": 12,
        "start_time": "2022-03-18T20:59:37.254Z"
      },
      {
        "duration": 14,
        "start_time": "2022-03-18T20:59:37.268Z"
      },
      {
        "duration": 281,
        "start_time": "2022-03-18T20:59:37.283Z"
      },
      {
        "duration": 8,
        "start_time": "2022-03-18T20:59:37.566Z"
      },
      {
        "duration": 8,
        "start_time": "2022-03-18T20:59:37.576Z"
      },
      {
        "duration": 6,
        "start_time": "2022-03-18T20:59:37.601Z"
      },
      {
        "duration": 246,
        "start_time": "2022-03-18T20:59:37.609Z"
      },
      {
        "duration": 181,
        "start_time": "2022-03-18T20:59:37.858Z"
      },
      {
        "duration": 5,
        "start_time": "2022-03-18T20:59:38.041Z"
      },
      {
        "duration": 27,
        "start_time": "2022-03-18T20:59:38.047Z"
      },
      {
        "duration": 21,
        "start_time": "2022-03-18T20:59:38.076Z"
      },
      {
        "duration": 111,
        "start_time": "2022-03-18T20:59:38.099Z"
      },
      {
        "duration": 10,
        "start_time": "2022-03-18T20:59:38.212Z"
      },
      {
        "duration": 66,
        "start_time": "2022-03-18T20:59:38.224Z"
      },
      {
        "duration": 24,
        "start_time": "2022-03-18T20:59:38.292Z"
      },
      {
        "duration": 11,
        "start_time": "2022-03-18T20:59:38.318Z"
      },
      {
        "duration": 17,
        "start_time": "2022-03-18T20:59:38.331Z"
      },
      {
        "duration": 7,
        "start_time": "2022-03-18T20:59:38.350Z"
      },
      {
        "duration": 12,
        "start_time": "2022-03-18T20:59:38.359Z"
      },
      {
        "duration": 6,
        "start_time": "2022-03-18T20:59:38.402Z"
      },
      {
        "duration": 33,
        "start_time": "2022-03-18T20:59:38.410Z"
      },
      {
        "duration": 93,
        "start_time": "2022-03-18T20:59:38.445Z"
      },
      {
        "duration": 6,
        "start_time": "2022-03-18T20:59:38.540Z"
      },
      {
        "duration": 6,
        "start_time": "2022-03-18T20:59:38.548Z"
      },
      {
        "duration": 15,
        "start_time": "2022-03-18T20:59:38.556Z"
      },
      {
        "duration": 262,
        "start_time": "2022-03-18T20:59:38.573Z"
      },
      {
        "duration": 194,
        "start_time": "2022-03-18T20:59:38.836Z"
      },
      {
        "duration": 115,
        "start_time": "2022-03-18T20:59:39.033Z"
      },
      {
        "duration": 18,
        "start_time": "2022-03-18T20:59:39.150Z"
      },
      {
        "duration": 181,
        "start_time": "2022-03-18T20:59:39.170Z"
      },
      {
        "duration": 6,
        "start_time": "2022-03-18T20:59:39.353Z"
      },
      {
        "duration": 11,
        "start_time": "2022-03-18T20:59:39.361Z"
      },
      {
        "duration": 8,
        "start_time": "2022-03-18T20:59:39.376Z"
      },
      {
        "duration": 605,
        "start_time": "2022-03-18T20:59:39.401Z"
      },
      {
        "duration": 13,
        "start_time": "2022-03-18T20:59:40.008Z"
      },
      {
        "duration": 7,
        "start_time": "2022-03-18T20:59:40.023Z"
      },
      {
        "duration": 277,
        "start_time": "2022-03-18T20:59:40.032Z"
      },
      {
        "duration": 299,
        "start_time": "2022-03-18T20:59:40.310Z"
      },
      {
        "duration": 18,
        "start_time": "2022-03-18T20:59:40.611Z"
      },
      {
        "duration": 328,
        "start_time": "2022-03-18T20:59:40.631Z"
      },
      {
        "duration": 225,
        "start_time": "2022-03-18T20:59:40.961Z"
      },
      {
        "duration": 17,
        "start_time": "2022-03-18T20:59:41.189Z"
      },
      {
        "duration": 227,
        "start_time": "2022-03-18T20:59:41.208Z"
      },
      {
        "duration": 10,
        "start_time": "2022-03-18T20:59:41.437Z"
      },
      {
        "duration": 224,
        "start_time": "2022-03-18T20:59:41.450Z"
      },
      {
        "duration": 26,
        "start_time": "2022-03-18T20:59:41.676Z"
      },
      {
        "duration": 597,
        "start_time": "2022-03-18T20:59:41.704Z"
      },
      {
        "duration": 12,
        "start_time": "2022-03-18T20:59:42.303Z"
      },
      {
        "duration": 256,
        "start_time": "2022-03-18T20:59:42.317Z"
      },
      {
        "duration": 423,
        "start_time": "2022-03-18T20:59:42.575Z"
      },
      {
        "duration": 274,
        "start_time": "2022-03-18T20:59:42.999Z"
      },
      {
        "duration": 37,
        "start_time": "2022-03-18T20:59:43.274Z"
      },
      {
        "duration": 24,
        "start_time": "2022-03-18T20:59:43.313Z"
      },
      {
        "duration": 22,
        "start_time": "2022-03-18T20:59:43.339Z"
      },
      {
        "duration": 349,
        "start_time": "2022-03-18T20:59:43.363Z"
      },
      {
        "duration": 208,
        "start_time": "2022-03-18T20:59:43.714Z"
      },
      {
        "duration": 14,
        "start_time": "2022-03-18T20:59:43.925Z"
      },
      {
        "duration": 13,
        "start_time": "2022-03-18T20:59:43.941Z"
      },
      {
        "duration": 10,
        "start_time": "2022-03-18T21:00:47.811Z"
      },
      {
        "duration": 25,
        "start_time": "2022-03-18T21:02:19.108Z"
      },
      {
        "duration": 30,
        "start_time": "2022-03-18T21:03:57.898Z"
      },
      {
        "duration": 18,
        "start_time": "2022-03-18T21:05:28.374Z"
      },
      {
        "duration": 13,
        "start_time": "2022-03-18T21:06:03.480Z"
      },
      {
        "duration": 3,
        "start_time": "2022-03-18T21:06:12.271Z"
      },
      {
        "duration": 45,
        "start_time": "2022-03-18T21:06:12.277Z"
      },
      {
        "duration": 26,
        "start_time": "2022-03-18T21:06:12.325Z"
      },
      {
        "duration": 48,
        "start_time": "2022-03-18T21:06:12.353Z"
      },
      {
        "duration": 11,
        "start_time": "2022-03-18T21:06:12.404Z"
      },
      {
        "duration": 8,
        "start_time": "2022-03-18T21:06:12.417Z"
      },
      {
        "duration": 10,
        "start_time": "2022-03-18T21:06:12.427Z"
      },
      {
        "duration": 20,
        "start_time": "2022-03-18T21:06:12.439Z"
      },
      {
        "duration": 11,
        "start_time": "2022-03-18T21:06:12.461Z"
      },
      {
        "duration": 31,
        "start_time": "2022-03-18T21:06:12.474Z"
      },
      {
        "duration": 410,
        "start_time": "2022-03-18T21:06:12.509Z"
      },
      {
        "duration": 9,
        "start_time": "2022-03-18T21:06:12.921Z"
      },
      {
        "duration": 17,
        "start_time": "2022-03-18T21:06:12.932Z"
      },
      {
        "duration": 30,
        "start_time": "2022-03-18T21:06:12.951Z"
      },
      {
        "duration": 276,
        "start_time": "2022-03-18T21:06:12.983Z"
      },
      {
        "duration": 86,
        "start_time": "2022-03-18T21:06:13.261Z"
      },
      {
        "duration": 5,
        "start_time": "2022-03-18T21:06:13.349Z"
      },
      {
        "duration": 8,
        "start_time": "2022-03-18T21:06:13.355Z"
      },
      {
        "duration": 6,
        "start_time": "2022-03-18T21:06:13.365Z"
      },
      {
        "duration": 106,
        "start_time": "2022-03-18T21:06:13.373Z"
      },
      {
        "duration": 9,
        "start_time": "2022-03-18T21:06:13.480Z"
      },
      {
        "duration": 41,
        "start_time": "2022-03-18T21:06:13.501Z"
      },
      {
        "duration": 17,
        "start_time": "2022-03-18T21:06:13.543Z"
      },
      {
        "duration": 8,
        "start_time": "2022-03-18T21:06:13.562Z"
      },
      {
        "duration": 42,
        "start_time": "2022-03-18T21:06:13.572Z"
      },
      {
        "duration": 6,
        "start_time": "2022-03-18T21:06:13.617Z"
      },
      {
        "duration": 8,
        "start_time": "2022-03-18T21:06:13.625Z"
      },
      {
        "duration": 8,
        "start_time": "2022-03-18T21:06:13.635Z"
      },
      {
        "duration": 61,
        "start_time": "2022-03-18T21:06:13.647Z"
      },
      {
        "duration": 74,
        "start_time": "2022-03-18T21:06:13.710Z"
      },
      {
        "duration": 18,
        "start_time": "2022-03-18T21:06:13.786Z"
      },
      {
        "duration": 5,
        "start_time": "2022-03-18T21:06:13.807Z"
      },
      {
        "duration": 8,
        "start_time": "2022-03-18T21:06:13.814Z"
      },
      {
        "duration": 12,
        "start_time": "2022-03-18T21:06:17.055Z"
      },
      {
        "duration": 11,
        "start_time": "2022-03-18T21:06:51.305Z"
      },
      {
        "duration": 16,
        "start_time": "2022-03-18T21:07:19.311Z"
      },
      {
        "duration": 7,
        "start_time": "2022-03-18T21:08:05.206Z"
      },
      {
        "duration": 15,
        "start_time": "2022-03-18T21:08:17.519Z"
      },
      {
        "duration": 31,
        "start_time": "2022-03-18T21:08:44.547Z"
      },
      {
        "duration": 1852,
        "start_time": "2022-03-19T09:44:44.267Z"
      },
      {
        "duration": 58,
        "start_time": "2022-03-19T09:44:46.122Z"
      },
      {
        "duration": 36,
        "start_time": "2022-03-19T09:44:46.183Z"
      },
      {
        "duration": 26,
        "start_time": "2022-03-19T09:44:46.221Z"
      },
      {
        "duration": 13,
        "start_time": "2022-03-19T09:44:46.251Z"
      },
      {
        "duration": 4,
        "start_time": "2022-03-19T09:44:46.266Z"
      },
      {
        "duration": 8,
        "start_time": "2022-03-19T09:44:46.273Z"
      },
      {
        "duration": 14,
        "start_time": "2022-03-19T09:44:46.283Z"
      },
      {
        "duration": 13,
        "start_time": "2022-03-19T09:44:46.299Z"
      },
      {
        "duration": 10,
        "start_time": "2022-03-19T09:44:46.315Z"
      },
      {
        "duration": 640,
        "start_time": "2022-03-19T09:44:46.327Z"
      },
      {
        "duration": 10,
        "start_time": "2022-03-19T09:44:46.969Z"
      },
      {
        "duration": 7,
        "start_time": "2022-03-19T09:44:46.981Z"
      },
      {
        "duration": 49,
        "start_time": "2022-03-19T09:44:46.993Z"
      },
      {
        "duration": 508,
        "start_time": "2022-03-19T09:44:47.045Z"
      },
      {
        "duration": 255,
        "start_time": "2022-03-19T09:44:47.555Z"
      },
      {
        "duration": 6,
        "start_time": "2022-03-19T09:44:47.812Z"
      },
      {
        "duration": 6,
        "start_time": "2022-03-19T09:44:47.820Z"
      },
      {
        "duration": 7,
        "start_time": "2022-03-19T09:44:47.844Z"
      },
      {
        "duration": 153,
        "start_time": "2022-03-19T09:44:47.853Z"
      },
      {
        "duration": 101,
        "start_time": "2022-03-19T09:44:48.009Z"
      },
      {
        "duration": 7,
        "start_time": "2022-03-19T09:44:48.112Z"
      },
      {
        "duration": 22,
        "start_time": "2022-03-19T09:44:48.121Z"
      },
      {
        "duration": 8,
        "start_time": "2022-03-19T09:44:48.145Z"
      },
      {
        "duration": 39,
        "start_time": "2022-03-19T09:44:48.155Z"
      },
      {
        "duration": 122,
        "start_time": "2022-03-19T09:44:48.197Z"
      },
      {
        "duration": 6,
        "start_time": "2022-03-19T09:44:48.322Z"
      },
      {
        "duration": 20,
        "start_time": "2022-03-19T09:44:48.330Z"
      },
      {
        "duration": 6,
        "start_time": "2022-03-19T09:44:48.353Z"
      },
      {
        "duration": 45,
        "start_time": "2022-03-19T09:44:48.361Z"
      },
      {
        "duration": 426,
        "start_time": "2022-03-19T09:44:48.409Z"
      },
      {
        "duration": 272,
        "start_time": "2022-03-19T09:44:48.842Z"
      },
      {
        "duration": 175,
        "start_time": "2022-03-19T09:44:49.117Z"
      },
      {
        "duration": 20,
        "start_time": "2022-03-19T09:44:49.294Z"
      },
      {
        "duration": 270,
        "start_time": "2022-03-19T09:44:49.316Z"
      },
      {
        "duration": 7,
        "start_time": "2022-03-19T09:44:49.589Z"
      },
      {
        "duration": 6,
        "start_time": "2022-03-19T09:44:49.599Z"
      },
      {
        "duration": 36,
        "start_time": "2022-03-19T09:44:49.607Z"
      },
      {
        "duration": 1102,
        "start_time": "2022-03-19T09:44:49.645Z"
      },
      {
        "duration": 21,
        "start_time": "2022-03-19T09:44:50.750Z"
      },
      {
        "duration": 9,
        "start_time": "2022-03-19T09:44:50.782Z"
      },
      {
        "duration": 593,
        "start_time": "2022-03-19T09:44:50.794Z"
      },
      {
        "duration": 445,
        "start_time": "2022-03-19T09:44:51.390Z"
      },
      {
        "duration": 23,
        "start_time": "2022-03-19T09:44:51.838Z"
      },
      {
        "duration": 685,
        "start_time": "2022-03-19T09:44:51.863Z"
      },
      {
        "duration": 377,
        "start_time": "2022-03-19T09:44:52.550Z"
      },
      {
        "duration": 16,
        "start_time": "2022-03-19T09:44:52.930Z"
      },
      {
        "duration": 361,
        "start_time": "2022-03-19T09:44:52.948Z"
      },
      {
        "duration": 14,
        "start_time": "2022-03-19T09:44:53.311Z"
      },
      {
        "duration": 349,
        "start_time": "2022-03-19T09:44:53.344Z"
      },
      {
        "duration": 13,
        "start_time": "2022-03-19T09:44:53.695Z"
      },
      {
        "duration": 928,
        "start_time": "2022-03-19T09:44:53.710Z"
      },
      {
        "duration": 13,
        "start_time": "2022-03-19T09:44:54.643Z"
      },
      {
        "duration": 419,
        "start_time": "2022-03-19T09:44:54.658Z"
      },
      {
        "duration": 639,
        "start_time": "2022-03-19T09:44:55.080Z"
      },
      {
        "duration": 434,
        "start_time": "2022-03-19T09:44:55.722Z"
      },
      {
        "duration": 33,
        "start_time": "2022-03-19T09:44:56.159Z"
      },
      {
        "duration": 64,
        "start_time": "2022-03-19T09:44:56.195Z"
      },
      {
        "duration": 31,
        "start_time": "2022-03-19T09:44:56.262Z"
      },
      {
        "duration": 811,
        "start_time": "2022-03-19T09:44:56.296Z"
      },
      {
        "duration": 472,
        "start_time": "2022-03-19T09:44:57.110Z"
      },
      {
        "duration": 18,
        "start_time": "2022-03-19T09:44:57.585Z"
      },
      {
        "duration": 40,
        "start_time": "2022-03-19T09:44:57.605Z"
      },
      {
        "duration": 36,
        "start_time": "2022-03-19T09:49:31.796Z"
      },
      {
        "duration": 48,
        "start_time": "2022-03-19T09:49:53.961Z"
      },
      {
        "duration": 15,
        "start_time": "2022-03-19T09:50:10.252Z"
      },
      {
        "duration": 45,
        "start_time": "2022-03-19T09:50:21.023Z"
      },
      {
        "duration": 12,
        "start_time": "2022-03-19T09:56:04.893Z"
      },
      {
        "duration": 79,
        "start_time": "2022-03-19T09:56:11.400Z"
      },
      {
        "duration": 217,
        "start_time": "2022-03-19T09:56:44.389Z"
      },
      {
        "duration": 66,
        "start_time": "2022-03-19T09:56:48.777Z"
      },
      {
        "duration": 25,
        "start_time": "2022-03-19T09:57:00.690Z"
      },
      {
        "duration": 41,
        "start_time": "2022-03-19T09:57:05.528Z"
      },
      {
        "duration": 36,
        "start_time": "2022-03-19T09:57:15.248Z"
      },
      {
        "duration": 1906,
        "start_time": "2022-03-19T09:57:43.028Z"
      },
      {
        "duration": 2028,
        "start_time": "2022-03-19T09:58:31.167Z"
      },
      {
        "duration": 1857,
        "start_time": "2022-03-19T09:58:49.750Z"
      },
      {
        "duration": 2035,
        "start_time": "2022-03-19T09:59:32.077Z"
      },
      {
        "duration": 3737,
        "start_time": "2022-03-19T10:00:35.191Z"
      },
      {
        "duration": 196,
        "start_time": "2022-03-19T10:00:54.964Z"
      },
      {
        "duration": 17,
        "start_time": "2022-03-19T10:00:59.614Z"
      },
      {
        "duration": 17,
        "start_time": "2022-03-19T10:01:26.546Z"
      },
      {
        "duration": 2136,
        "start_time": "2022-03-19T10:02:11.268Z"
      },
      {
        "duration": 1920,
        "start_time": "2022-03-19T10:02:30.154Z"
      },
      {
        "duration": 2058,
        "start_time": "2022-03-19T10:03:11.664Z"
      },
      {
        "duration": 2017,
        "start_time": "2022-03-19T10:04:06.162Z"
      },
      {
        "duration": 3695,
        "start_time": "2022-03-19T10:06:33.321Z"
      },
      {
        "duration": 4906,
        "start_time": "2022-03-19T10:06:55.092Z"
      },
      {
        "duration": 4754,
        "start_time": "2022-03-19T10:09:40.389Z"
      },
      {
        "duration": 4718,
        "start_time": "2022-03-19T10:09:55.604Z"
      },
      {
        "duration": 4874,
        "start_time": "2022-03-19T10:10:11.876Z"
      },
      {
        "duration": 5152,
        "start_time": "2022-03-19T10:10:32.748Z"
      },
      {
        "duration": 5599,
        "start_time": "2022-03-19T10:10:44.867Z"
      },
      {
        "duration": 5328,
        "start_time": "2022-03-19T10:10:56.431Z"
      },
      {
        "duration": 4889,
        "start_time": "2022-03-19T10:11:07.371Z"
      },
      {
        "duration": 4943,
        "start_time": "2022-03-19T10:11:15.468Z"
      },
      {
        "duration": 5546,
        "start_time": "2022-03-19T10:12:45.153Z"
      },
      {
        "duration": 271,
        "start_time": "2022-03-19T10:13:01.472Z"
      },
      {
        "duration": 219,
        "start_time": "2022-03-19T10:13:23.186Z"
      },
      {
        "duration": 5002,
        "start_time": "2022-03-19T10:13:39.605Z"
      },
      {
        "duration": 4804,
        "start_time": "2022-03-19T10:14:03.436Z"
      },
      {
        "duration": 4865,
        "start_time": "2022-03-19T10:14:12.182Z"
      },
      {
        "duration": 4829,
        "start_time": "2022-03-19T10:14:34.389Z"
      },
      {
        "duration": 4838,
        "start_time": "2022-03-19T10:15:20.488Z"
      },
      {
        "duration": 4839,
        "start_time": "2022-03-19T10:16:20.712Z"
      },
      {
        "duration": 4992,
        "start_time": "2022-03-19T10:16:55.086Z"
      },
      {
        "duration": 4700,
        "start_time": "2022-03-19T10:17:19.098Z"
      },
      {
        "duration": 4834,
        "start_time": "2022-03-19T10:17:50.620Z"
      },
      {
        "duration": 5360,
        "start_time": "2022-03-19T10:19:16.761Z"
      },
      {
        "duration": 4819,
        "start_time": "2022-03-19T10:19:29.987Z"
      },
      {
        "duration": 4792,
        "start_time": "2022-03-19T10:21:13.933Z"
      },
      {
        "duration": 4673,
        "start_time": "2022-03-19T10:23:40.610Z"
      },
      {
        "duration": 4873,
        "start_time": "2022-03-19T10:24:04.736Z"
      },
      {
        "duration": 4724,
        "start_time": "2022-03-19T10:24:24.435Z"
      },
      {
        "duration": 4823,
        "start_time": "2022-03-19T10:24:35.148Z"
      },
      {
        "duration": 4,
        "start_time": "2022-03-19T10:24:49.713Z"
      },
      {
        "duration": 4,
        "start_time": "2022-03-19T10:24:58.762Z"
      },
      {
        "duration": 4828,
        "start_time": "2022-03-19T10:25:28.901Z"
      },
      {
        "duration": 4899,
        "start_time": "2022-03-19T10:25:40.274Z"
      },
      {
        "duration": 4767,
        "start_time": "2022-03-19T10:25:59.369Z"
      },
      {
        "duration": 4762,
        "start_time": "2022-03-19T10:26:33.681Z"
      },
      {
        "duration": 5051,
        "start_time": "2022-03-19T10:26:45.125Z"
      },
      {
        "duration": 4857,
        "start_time": "2022-03-19T10:27:34.964Z"
      },
      {
        "duration": 4832,
        "start_time": "2022-03-19T10:27:59.712Z"
      },
      {
        "duration": 4863,
        "start_time": "2022-03-19T10:28:12.286Z"
      },
      {
        "duration": 5105,
        "start_time": "2022-03-19T10:28:33.383Z"
      },
      {
        "duration": 4834,
        "start_time": "2022-03-19T10:28:54.140Z"
      },
      {
        "duration": 4862,
        "start_time": "2022-03-19T10:30:02.828Z"
      },
      {
        "duration": 4806,
        "start_time": "2022-03-19T10:30:53.420Z"
      },
      {
        "duration": 1460,
        "start_time": "2022-03-19T10:31:20.894Z"
      },
      {
        "duration": 53,
        "start_time": "2022-03-19T10:31:22.358Z"
      },
      {
        "duration": 41,
        "start_time": "2022-03-19T10:31:22.414Z"
      },
      {
        "duration": 20,
        "start_time": "2022-03-19T10:31:22.457Z"
      },
      {
        "duration": 13,
        "start_time": "2022-03-19T10:31:22.480Z"
      },
      {
        "duration": 14,
        "start_time": "2022-03-19T10:31:22.496Z"
      },
      {
        "duration": 37,
        "start_time": "2022-03-19T10:31:22.513Z"
      },
      {
        "duration": 14,
        "start_time": "2022-03-19T10:31:22.552Z"
      },
      {
        "duration": 13,
        "start_time": "2022-03-19T10:31:22.569Z"
      },
      {
        "duration": 9,
        "start_time": "2022-03-19T10:31:22.585Z"
      },
      {
        "duration": 468,
        "start_time": "2022-03-19T10:31:22.596Z"
      },
      {
        "duration": 10,
        "start_time": "2022-03-19T10:31:23.066Z"
      },
      {
        "duration": 5,
        "start_time": "2022-03-19T10:31:23.078Z"
      },
      {
        "duration": 8,
        "start_time": "2022-03-19T10:31:23.087Z"
      },
      {
        "duration": 426,
        "start_time": "2022-03-19T10:31:23.097Z"
      },
      {
        "duration": 240,
        "start_time": "2022-03-19T10:31:23.525Z"
      },
      {
        "duration": 7,
        "start_time": "2022-03-19T10:31:23.767Z"
      },
      {
        "duration": 6,
        "start_time": "2022-03-19T10:31:23.776Z"
      },
      {
        "duration": 6,
        "start_time": "2022-03-19T10:31:23.784Z"
      },
      {
        "duration": 19834,
        "start_time": "2022-03-19T10:31:25.638Z"
      },
      {
        "duration": 21525,
        "start_time": "2022-03-19T10:46:35.470Z"
      },
      {
        "duration": 16,
        "start_time": "2022-03-19T10:47:02.464Z"
      },
      {
        "duration": 2541,
        "start_time": "2022-03-19T10:49:21.324Z"
      },
      {
        "duration": 4,
        "start_time": "2022-03-19T10:49:30.445Z"
      },
      {
        "duration": 58,
        "start_time": "2022-03-19T10:49:30.453Z"
      },
      {
        "duration": 50,
        "start_time": "2022-03-19T10:49:30.514Z"
      },
      {
        "duration": 27,
        "start_time": "2022-03-19T10:49:30.567Z"
      },
      {
        "duration": 16,
        "start_time": "2022-03-19T10:49:30.597Z"
      },
      {
        "duration": 5,
        "start_time": "2022-03-19T10:49:30.642Z"
      },
      {
        "duration": 23,
        "start_time": "2022-03-19T10:49:30.649Z"
      },
      {
        "duration": 23,
        "start_time": "2022-03-19T10:49:30.674Z"
      },
      {
        "duration": 19,
        "start_time": "2022-03-19T10:49:30.699Z"
      },
      {
        "duration": 29,
        "start_time": "2022-03-19T10:49:30.720Z"
      },
      {
        "duration": 440,
        "start_time": "2022-03-19T10:49:30.753Z"
      },
      {
        "duration": 15,
        "start_time": "2022-03-19T10:49:31.195Z"
      },
      {
        "duration": 6,
        "start_time": "2022-03-19T10:49:31.213Z"
      },
      {
        "duration": 28,
        "start_time": "2022-03-19T10:49:31.222Z"
      },
      {
        "duration": 477,
        "start_time": "2022-03-19T10:49:31.254Z"
      },
      {
        "duration": 3112,
        "start_time": "2022-03-19T10:49:36.785Z"
      },
      {
        "duration": 18,
        "start_time": "2022-03-19T10:50:43.805Z"
      },
      {
        "duration": 17,
        "start_time": "2022-03-19T10:51:11.523Z"
      },
      {
        "duration": 2594,
        "start_time": "2022-03-19T10:52:42.225Z"
      },
      {
        "duration": 2522,
        "start_time": "2022-03-19T10:53:17.962Z"
      },
      {
        "duration": 2597,
        "start_time": "2022-03-19T10:53:37.293Z"
      },
      {
        "duration": 2894,
        "start_time": "2022-03-19T10:53:59.077Z"
      },
      {
        "duration": 2676,
        "start_time": "2022-03-19T10:54:11.930Z"
      },
      {
        "duration": 81,
        "start_time": "2022-03-20T19:48:32.413Z"
      },
      {
        "duration": 1789,
        "start_time": "2022-03-20T19:48:48.441Z"
      },
      {
        "duration": 50,
        "start_time": "2022-03-20T19:48:50.233Z"
      },
      {
        "duration": 38,
        "start_time": "2022-03-20T19:48:50.285Z"
      },
      {
        "duration": 21,
        "start_time": "2022-03-20T19:48:50.325Z"
      },
      {
        "duration": 42,
        "start_time": "2022-03-20T19:48:50.349Z"
      },
      {
        "duration": 10,
        "start_time": "2022-03-20T19:48:50.394Z"
      },
      {
        "duration": 18,
        "start_time": "2022-03-20T19:48:50.406Z"
      },
      {
        "duration": 37,
        "start_time": "2022-03-20T19:48:50.427Z"
      },
      {
        "duration": 42,
        "start_time": "2022-03-20T19:48:50.466Z"
      },
      {
        "duration": 31,
        "start_time": "2022-03-20T19:48:50.511Z"
      },
      {
        "duration": 435,
        "start_time": "2022-03-20T19:48:50.544Z"
      },
      {
        "duration": 10,
        "start_time": "2022-03-20T19:48:50.981Z"
      },
      {
        "duration": 11,
        "start_time": "2022-03-20T19:48:50.993Z"
      },
      {
        "duration": 22,
        "start_time": "2022-03-20T19:48:51.008Z"
      },
      {
        "duration": 443,
        "start_time": "2022-03-20T19:48:51.032Z"
      },
      {
        "duration": 2507,
        "start_time": "2022-03-20T19:48:51.483Z"
      },
      {
        "duration": 19,
        "start_time": "2022-03-20T19:48:53.992Z"
      },
      {
        "duration": 19,
        "start_time": "2022-03-20T19:48:54.013Z"
      },
      {
        "duration": 268,
        "start_time": "2022-03-20T19:48:54.035Z"
      },
      {
        "duration": 7,
        "start_time": "2022-03-20T19:48:54.305Z"
      },
      {
        "duration": 15,
        "start_time": "2022-03-20T19:48:54.314Z"
      },
      {
        "duration": 27,
        "start_time": "2022-03-20T19:48:54.332Z"
      },
      {
        "duration": 20051,
        "start_time": "2022-03-20T19:48:54.362Z"
      },
      {
        "duration": 16,
        "start_time": "2022-03-20T19:49:14.415Z"
      },
      {
        "duration": 123,
        "start_time": "2022-03-20T19:49:14.433Z"
      },
      {
        "duration": 7,
        "start_time": "2022-03-20T19:49:14.558Z"
      },
      {
        "duration": 18,
        "start_time": "2022-03-20T19:49:14.567Z"
      },
      {
        "duration": 7,
        "start_time": "2022-03-20T19:49:14.588Z"
      },
      {
        "duration": 2549,
        "start_time": "2022-03-20T19:49:19.573Z"
      },
      {
        "duration": 19,
        "start_time": "2022-03-20T19:50:12.979Z"
      },
      {
        "duration": 19,
        "start_time": "2022-03-20T19:58:00.569Z"
      },
      {
        "duration": 1484,
        "start_time": "2022-03-20T19:58:16.520Z"
      },
      {
        "duration": 50,
        "start_time": "2022-03-20T19:58:18.007Z"
      },
      {
        "duration": 45,
        "start_time": "2022-03-20T19:58:18.059Z"
      },
      {
        "duration": 23,
        "start_time": "2022-03-20T19:58:18.108Z"
      },
      {
        "duration": 16,
        "start_time": "2022-03-20T19:58:18.133Z"
      },
      {
        "duration": 4,
        "start_time": "2022-03-20T19:58:18.184Z"
      },
      {
        "duration": 10,
        "start_time": "2022-03-20T19:58:18.191Z"
      },
      {
        "duration": 13,
        "start_time": "2022-03-20T19:58:18.203Z"
      },
      {
        "duration": 16,
        "start_time": "2022-03-20T19:58:18.218Z"
      },
      {
        "duration": 46,
        "start_time": "2022-03-20T19:58:18.238Z"
      },
      {
        "duration": 456,
        "start_time": "2022-03-20T19:58:18.286Z"
      },
      {
        "duration": 9,
        "start_time": "2022-03-20T19:58:18.744Z"
      },
      {
        "duration": 13,
        "start_time": "2022-03-20T19:58:18.756Z"
      },
      {
        "duration": 11,
        "start_time": "2022-03-20T19:58:18.785Z"
      },
      {
        "duration": 402,
        "start_time": "2022-03-20T19:58:18.798Z"
      },
      {
        "duration": 2559,
        "start_time": "2022-03-20T19:58:19.203Z"
      },
      {
        "duration": 19,
        "start_time": "2022-03-20T19:58:24.555Z"
      },
      {
        "duration": 5,
        "start_time": "2022-03-20T19:59:00.874Z"
      },
      {
        "duration": 52,
        "start_time": "2022-03-20T19:59:00.882Z"
      },
      {
        "duration": 49,
        "start_time": "2022-03-20T19:59:00.936Z"
      },
      {
        "duration": 21,
        "start_time": "2022-03-20T19:59:00.988Z"
      },
      {
        "duration": 14,
        "start_time": "2022-03-20T19:59:01.012Z"
      },
      {
        "duration": 10,
        "start_time": "2022-03-20T19:59:01.028Z"
      },
      {
        "duration": 50,
        "start_time": "2022-03-20T19:59:01.040Z"
      },
      {
        "duration": 15,
        "start_time": "2022-03-20T19:59:01.092Z"
      },
      {
        "duration": 18,
        "start_time": "2022-03-20T19:59:01.109Z"
      },
      {
        "duration": 14,
        "start_time": "2022-03-20T19:59:01.129Z"
      },
      {
        "duration": 437,
        "start_time": "2022-03-20T19:59:01.147Z"
      },
      {
        "duration": 9,
        "start_time": "2022-03-20T19:59:01.587Z"
      },
      {
        "duration": 18,
        "start_time": "2022-03-20T19:59:01.599Z"
      },
      {
        "duration": 15,
        "start_time": "2022-03-20T19:59:01.620Z"
      },
      {
        "duration": 427,
        "start_time": "2022-03-20T19:59:01.638Z"
      },
      {
        "duration": 2881,
        "start_time": "2022-03-20T19:59:02.068Z"
      },
      {
        "duration": 20,
        "start_time": "2022-03-20T19:59:04.951Z"
      },
      {
        "duration": 20501,
        "start_time": "2022-03-20T19:59:04.985Z"
      },
      {
        "duration": 18,
        "start_time": "2022-03-20T19:59:25.488Z"
      },
      {
        "duration": 275,
        "start_time": "2022-03-20T19:59:25.509Z"
      },
      {
        "duration": 7,
        "start_time": "2022-03-20T19:59:25.786Z"
      },
      {
        "duration": 9,
        "start_time": "2022-03-20T19:59:25.795Z"
      },
      {
        "duration": 10,
        "start_time": "2022-03-20T19:59:25.807Z"
      },
      {
        "duration": 2530,
        "start_time": "2022-03-20T19:59:25.819Z"
      },
      {
        "duration": 34,
        "start_time": "2022-03-20T19:59:28.352Z"
      },
      {
        "duration": 412,
        "start_time": "2022-03-20T19:59:28.388Z"
      },
      {
        "duration": 294,
        "start_time": "2022-03-20T19:59:28.802Z"
      },
      {
        "duration": 176,
        "start_time": "2022-03-20T19:59:29.098Z"
      },
      {
        "duration": 23,
        "start_time": "2022-03-20T19:59:29.283Z"
      },
      {
        "duration": 277,
        "start_time": "2022-03-20T19:59:29.308Z"
      },
      {
        "duration": 8,
        "start_time": "2022-03-20T19:59:29.587Z"
      },
      {
        "duration": 4,
        "start_time": "2022-03-20T19:59:29.598Z"
      },
      {
        "duration": 9,
        "start_time": "2022-03-20T19:59:29.604Z"
      },
      {
        "duration": 797,
        "start_time": "2022-03-20T19:59:29.615Z"
      },
      {
        "duration": 15,
        "start_time": "2022-03-20T19:59:30.415Z"
      },
      {
        "duration": 9,
        "start_time": "2022-03-20T19:59:30.433Z"
      },
      {
        "duration": 390,
        "start_time": "2022-03-20T19:59:30.444Z"
      },
      {
        "duration": 432,
        "start_time": "2022-03-20T20:01:05.901Z"
      },
      {
        "duration": 23,
        "start_time": "2022-03-20T20:01:11.126Z"
      },
      {
        "duration": 489,
        "start_time": "2022-03-20T20:01:32.114Z"
      },
      {
        "duration": 459,
        "start_time": "2022-03-20T20:01:48.531Z"
      },
      {
        "duration": 13,
        "start_time": "2022-03-20T20:01:53.675Z"
      },
      {
        "duration": 356,
        "start_time": "2022-03-20T20:02:00.743Z"
      },
      {
        "duration": 13,
        "start_time": "2022-03-20T20:02:04.814Z"
      },
      {
        "duration": 336,
        "start_time": "2022-03-20T20:02:15.587Z"
      },
      {
        "duration": 14,
        "start_time": "2022-03-20T20:02:21.819Z"
      },
      {
        "duration": 782,
        "start_time": "2022-03-20T20:02:46.505Z"
      },
      {
        "duration": 20,
        "start_time": "2022-03-20T20:03:44.117Z"
      },
      {
        "duration": 398,
        "start_time": "2022-03-20T20:04:11.968Z"
      },
      {
        "duration": 529,
        "start_time": "2022-03-20T20:04:19.557Z"
      },
      {
        "duration": 443,
        "start_time": "2022-03-20T20:04:39.523Z"
      },
      {
        "duration": 33,
        "start_time": "2022-03-20T20:05:07.825Z"
      },
      {
        "duration": 4,
        "start_time": "2022-03-20T20:10:57.049Z"
      },
      {
        "duration": 58,
        "start_time": "2022-03-20T20:10:57.056Z"
      },
      {
        "duration": 33,
        "start_time": "2022-03-20T20:10:57.116Z"
      },
      {
        "duration": 53,
        "start_time": "2022-03-20T20:10:57.153Z"
      },
      {
        "duration": 16,
        "start_time": "2022-03-20T20:10:57.210Z"
      },
      {
        "duration": 6,
        "start_time": "2022-03-20T20:10:57.229Z"
      },
      {
        "duration": 12,
        "start_time": "2022-03-20T20:10:57.286Z"
      },
      {
        "duration": 15,
        "start_time": "2022-03-20T20:10:57.300Z"
      },
      {
        "duration": 12,
        "start_time": "2022-03-20T20:10:57.317Z"
      },
      {
        "duration": 61,
        "start_time": "2022-03-20T20:10:57.331Z"
      },
      {
        "duration": 578,
        "start_time": "2022-03-20T20:10:57.396Z"
      },
      {
        "duration": 10,
        "start_time": "2022-03-20T20:10:57.976Z"
      },
      {
        "duration": 11,
        "start_time": "2022-03-20T20:10:57.988Z"
      },
      {
        "duration": 9,
        "start_time": "2022-03-20T20:10:58.002Z"
      },
      {
        "duration": 475,
        "start_time": "2022-03-20T20:10:58.014Z"
      },
      {
        "duration": 2593,
        "start_time": "2022-03-20T20:10:58.492Z"
      },
      {
        "duration": 19,
        "start_time": "2022-03-20T20:11:01.088Z"
      },
      {
        "duration": 20500,
        "start_time": "2022-03-20T20:11:01.109Z"
      },
      {
        "duration": 16,
        "start_time": "2022-03-20T20:11:21.612Z"
      },
      {
        "duration": 125,
        "start_time": "2022-03-20T20:11:21.630Z"
      },
      {
        "duration": 7,
        "start_time": "2022-03-20T20:11:21.757Z"
      },
      {
        "duration": 23,
        "start_time": "2022-03-20T20:11:21.767Z"
      },
      {
        "duration": 12,
        "start_time": "2022-03-20T20:11:21.792Z"
      },
      {
        "duration": 2749,
        "start_time": "2022-03-20T20:11:21.806Z"
      },
      {
        "duration": 29,
        "start_time": "2022-03-20T20:11:24.557Z"
      },
      {
        "duration": 468,
        "start_time": "2022-03-20T20:11:24.588Z"
      },
      {
        "duration": 393,
        "start_time": "2022-03-20T20:11:25.058Z"
      },
      {
        "duration": 290,
        "start_time": "2022-03-20T20:11:25.453Z"
      },
      {
        "duration": 37,
        "start_time": "2022-03-20T20:11:25.748Z"
      },
      {
        "duration": 371,
        "start_time": "2022-03-20T20:11:25.787Z"
      },
      {
        "duration": 8,
        "start_time": "2022-03-20T20:11:26.161Z"
      },
      {
        "duration": 4,
        "start_time": "2022-03-20T20:11:26.185Z"
      },
      {
        "duration": 9,
        "start_time": "2022-03-20T20:11:26.192Z"
      },
      {
        "duration": 917,
        "start_time": "2022-03-20T20:11:26.203Z"
      },
      {
        "duration": 15,
        "start_time": "2022-03-20T20:11:27.122Z"
      },
      {
        "duration": 12,
        "start_time": "2022-03-20T20:11:27.140Z"
      },
      {
        "duration": 458,
        "start_time": "2022-03-20T20:11:27.155Z"
      },
      {
        "duration": 538,
        "start_time": "2022-03-20T20:11:27.616Z"
      },
      {
        "duration": 38,
        "start_time": "2022-03-20T20:11:28.157Z"
      },
      {
        "duration": 494,
        "start_time": "2022-03-20T20:11:28.198Z"
      },
      {
        "duration": 352,
        "start_time": "2022-03-20T20:11:28.695Z"
      },
      {
        "duration": 14,
        "start_time": "2022-03-20T20:11:29.050Z"
      },
      {
        "duration": 367,
        "start_time": "2022-03-20T20:11:29.085Z"
      },
      {
        "duration": 12,
        "start_time": "2022-03-20T20:11:29.455Z"
      },
      {
        "duration": 331,
        "start_time": "2022-03-20T20:11:29.484Z"
      },
      {
        "duration": 14,
        "start_time": "2022-03-20T20:11:29.818Z"
      },
      {
        "duration": 840,
        "start_time": "2022-03-20T20:11:29.834Z"
      },
      {
        "duration": 574,
        "start_time": "2022-03-20T20:11:30.676Z"
      },
      {
        "duration": 756,
        "start_time": "2022-03-20T20:11:31.253Z"
      },
      {
        "duration": 492,
        "start_time": "2022-03-20T20:11:32.012Z"
      },
      {
        "duration": 33,
        "start_time": "2022-03-20T20:11:32.506Z"
      },
      {
        "duration": 58,
        "start_time": "2022-03-20T20:11:32.542Z"
      },
      {
        "duration": 32,
        "start_time": "2022-03-20T20:11:32.603Z"
      },
      {
        "duration": 593,
        "start_time": "2022-03-20T20:11:32.637Z"
      },
      {
        "duration": 329,
        "start_time": "2022-03-20T20:11:39.410Z"
      },
      {
        "duration": 140,
        "start_time": "2022-03-20T20:25:09.835Z"
      },
      {
        "duration": 1606,
        "start_time": "2022-03-20T20:43:31.862Z"
      },
      {
        "duration": 79,
        "start_time": "2022-03-20T20:43:33.473Z"
      },
      {
        "duration": 77,
        "start_time": "2022-03-20T20:43:33.555Z"
      },
      {
        "duration": 22,
        "start_time": "2022-03-20T20:43:33.636Z"
      },
      {
        "duration": 43,
        "start_time": "2022-03-20T20:43:33.662Z"
      },
      {
        "duration": 5,
        "start_time": "2022-03-20T20:43:33.708Z"
      },
      {
        "duration": 20,
        "start_time": "2022-03-20T20:43:33.716Z"
      },
      {
        "duration": 46,
        "start_time": "2022-03-20T20:43:33.739Z"
      },
      {
        "duration": 14,
        "start_time": "2022-03-20T20:43:33.787Z"
      },
      {
        "duration": 16,
        "start_time": "2022-03-20T20:43:33.803Z"
      },
      {
        "duration": 464,
        "start_time": "2022-03-20T20:43:33.821Z"
      },
      {
        "duration": 10,
        "start_time": "2022-03-20T20:43:34.287Z"
      },
      {
        "duration": 11,
        "start_time": "2022-03-20T20:43:34.299Z"
      },
      {
        "duration": 7,
        "start_time": "2022-03-20T20:43:34.315Z"
      },
      {
        "duration": 450,
        "start_time": "2022-03-20T20:43:34.324Z"
      },
      {
        "duration": 2978,
        "start_time": "2022-03-20T20:43:34.777Z"
      },
      {
        "duration": 27,
        "start_time": "2022-03-20T20:43:37.758Z"
      },
      {
        "duration": 20397,
        "start_time": "2022-03-20T20:43:37.788Z"
      },
      {
        "duration": 16,
        "start_time": "2022-03-20T20:43:58.188Z"
      },
      {
        "duration": 254,
        "start_time": "2022-03-20T20:43:58.206Z"
      },
      {
        "duration": 6,
        "start_time": "2022-03-20T20:43:58.463Z"
      },
      {
        "duration": 7,
        "start_time": "2022-03-20T20:43:58.483Z"
      },
      {
        "duration": 13,
        "start_time": "2022-03-20T20:43:58.492Z"
      },
      {
        "duration": 3521,
        "start_time": "2022-03-20T20:43:58.507Z"
      },
      {
        "duration": 18,
        "start_time": "2022-03-20T20:44:02.030Z"
      },
      {
        "duration": 507,
        "start_time": "2022-03-20T20:44:02.052Z"
      },
      {
        "duration": 291,
        "start_time": "2022-03-20T20:44:02.562Z"
      },
      {
        "duration": 360,
        "start_time": "2022-03-20T20:44:02.856Z"
      },
      {
        "duration": 22,
        "start_time": "2022-03-20T20:44:03.218Z"
      },
      {
        "duration": 281,
        "start_time": "2022-03-20T20:44:03.242Z"
      },
      {
        "duration": 8,
        "start_time": "2022-03-20T20:44:03.526Z"
      },
      {
        "duration": 35,
        "start_time": "2022-03-20T20:44:03.537Z"
      },
      {
        "duration": 34,
        "start_time": "2022-03-20T20:44:03.575Z"
      },
      {
        "duration": 1244,
        "start_time": "2022-03-20T20:44:03.612Z"
      },
      {
        "duration": 17,
        "start_time": "2022-03-20T20:44:04.859Z"
      },
      {
        "duration": 8,
        "start_time": "2022-03-20T20:44:04.884Z"
      },
      {
        "duration": 398,
        "start_time": "2022-03-20T20:44:04.894Z"
      },
      {
        "duration": 456,
        "start_time": "2022-03-20T20:44:05.295Z"
      },
      {
        "duration": 40,
        "start_time": "2022-03-20T20:44:05.754Z"
      },
      {
        "duration": 504,
        "start_time": "2022-03-20T20:44:05.796Z"
      },
      {
        "duration": 363,
        "start_time": "2022-03-20T20:44:06.306Z"
      },
      {
        "duration": 21,
        "start_time": "2022-03-20T20:44:06.672Z"
      },
      {
        "duration": 480,
        "start_time": "2022-03-20T20:44:06.695Z"
      },
      {
        "duration": 15,
        "start_time": "2022-03-20T20:44:07.178Z"
      },
      {
        "duration": 340,
        "start_time": "2022-03-20T20:44:07.196Z"
      },
      {
        "duration": 14,
        "start_time": "2022-03-20T20:44:07.538Z"
      },
      {
        "duration": 788,
        "start_time": "2022-03-20T20:44:07.554Z"
      },
      {
        "duration": 432,
        "start_time": "2022-03-20T20:44:08.344Z"
      },
      {
        "duration": 622,
        "start_time": "2022-03-20T20:44:08.778Z"
      },
      {
        "duration": 436,
        "start_time": "2022-03-20T20:44:09.402Z"
      },
      {
        "duration": 46,
        "start_time": "2022-03-20T20:44:09.841Z"
      },
      {
        "duration": 30,
        "start_time": "2022-03-20T20:44:09.889Z"
      },
      {
        "duration": 28,
        "start_time": "2022-03-20T20:44:09.922Z"
      },
      {
        "duration": 572,
        "start_time": "2022-03-20T20:44:09.952Z"
      },
      {
        "duration": 340,
        "start_time": "2022-03-20T20:44:10.526Z"
      },
      {
        "duration": 27,
        "start_time": "2022-03-20T20:44:10.868Z"
      },
      {
        "duration": 17,
        "start_time": "2022-03-20T20:44:10.897Z"
      },
      {
        "duration": 14,
        "start_time": "2022-03-20T20:44:57.429Z"
      },
      {
        "duration": 15,
        "start_time": "2022-03-20T20:45:36.604Z"
      },
      {
        "duration": 15,
        "start_time": "2022-03-20T20:46:13.480Z"
      },
      {
        "duration": 16,
        "start_time": "2022-03-20T20:46:27.644Z"
      },
      {
        "duration": 553,
        "start_time": "2022-03-20T21:00:15.556Z"
      },
      {
        "duration": 1236,
        "start_time": "2022-03-21T08:28:37.264Z"
      },
      {
        "duration": 40,
        "start_time": "2022-03-21T08:28:38.502Z"
      },
      {
        "duration": 28,
        "start_time": "2022-03-21T08:28:38.544Z"
      },
      {
        "duration": 38,
        "start_time": "2022-03-21T08:28:38.574Z"
      },
      {
        "duration": 14,
        "start_time": "2022-03-21T08:28:38.614Z"
      },
      {
        "duration": 4,
        "start_time": "2022-03-21T08:28:38.630Z"
      },
      {
        "duration": 9,
        "start_time": "2022-03-21T08:28:38.635Z"
      },
      {
        "duration": 10,
        "start_time": "2022-03-21T08:28:38.646Z"
      },
      {
        "duration": 11,
        "start_time": "2022-03-21T08:28:38.658Z"
      },
      {
        "duration": 8,
        "start_time": "2022-03-21T08:28:38.709Z"
      },
      {
        "duration": 274,
        "start_time": "2022-03-21T08:28:38.719Z"
      },
      {
        "duration": 17,
        "start_time": "2022-03-21T08:28:38.995Z"
      },
      {
        "duration": 3,
        "start_time": "2022-03-21T08:28:39.014Z"
      },
      {
        "duration": 6,
        "start_time": "2022-03-21T08:28:39.019Z"
      },
      {
        "duration": 253,
        "start_time": "2022-03-21T08:28:39.026Z"
      },
      {
        "duration": 1235,
        "start_time": "2022-03-21T08:28:39.281Z"
      },
      {
        "duration": 13,
        "start_time": "2022-03-21T08:28:40.518Z"
      },
      {
        "duration": 11287,
        "start_time": "2022-03-21T08:28:40.533Z"
      },
      {
        "duration": 11,
        "start_time": "2022-03-21T08:28:51.822Z"
      },
      {
        "duration": 169,
        "start_time": "2022-03-21T08:28:51.834Z"
      },
      {
        "duration": 5,
        "start_time": "2022-03-21T08:28:52.005Z"
      },
      {
        "duration": 8,
        "start_time": "2022-03-21T08:28:52.012Z"
      },
      {
        "duration": 6,
        "start_time": "2022-03-21T08:28:52.022Z"
      },
      {
        "duration": 1236,
        "start_time": "2022-03-21T08:28:52.030Z"
      },
      {
        "duration": 11,
        "start_time": "2022-03-21T08:28:53.268Z"
      },
      {
        "duration": 306,
        "start_time": "2022-03-21T08:28:53.280Z"
      },
      {
        "duration": 180,
        "start_time": "2022-03-21T08:28:53.588Z"
      },
      {
        "duration": 106,
        "start_time": "2022-03-21T08:28:53.771Z"
      },
      {
        "duration": 15,
        "start_time": "2022-03-21T08:28:53.879Z"
      },
      {
        "duration": 160,
        "start_time": "2022-03-21T08:28:53.909Z"
      },
      {
        "duration": 5,
        "start_time": "2022-03-21T08:28:54.071Z"
      },
      {
        "duration": 9,
        "start_time": "2022-03-21T08:28:54.078Z"
      },
      {
        "duration": 3,
        "start_time": "2022-03-21T08:29:01.814Z"
      },
      {
        "duration": 5,
        "start_time": "2022-03-21T08:29:02.518Z"
      },
      {
        "duration": 4,
        "start_time": "2022-03-21T08:44:03.013Z"
      },
      {
        "duration": 51,
        "start_time": "2022-03-21T08:44:03.020Z"
      },
      {
        "duration": 47,
        "start_time": "2022-03-21T08:44:03.073Z"
      },
      {
        "duration": 19,
        "start_time": "2022-03-21T08:44:03.123Z"
      },
      {
        "duration": 12,
        "start_time": "2022-03-21T08:44:03.144Z"
      },
      {
        "duration": 4,
        "start_time": "2022-03-21T08:44:03.158Z"
      },
      {
        "duration": 50,
        "start_time": "2022-03-21T08:44:03.164Z"
      },
      {
        "duration": 15,
        "start_time": "2022-03-21T08:44:03.218Z"
      },
      {
        "duration": 9,
        "start_time": "2022-03-21T08:44:03.236Z"
      },
      {
        "duration": 9,
        "start_time": "2022-03-21T08:44:03.246Z"
      },
      {
        "duration": 291,
        "start_time": "2022-03-21T08:44:03.257Z"
      },
      {
        "duration": 9,
        "start_time": "2022-03-21T08:44:03.550Z"
      },
      {
        "duration": 5,
        "start_time": "2022-03-21T08:44:03.561Z"
      },
      {
        "duration": 11,
        "start_time": "2022-03-21T08:44:03.568Z"
      },
      {
        "duration": 280,
        "start_time": "2022-03-21T08:44:03.581Z"
      },
      {
        "duration": 1343,
        "start_time": "2022-03-21T08:44:03.863Z"
      },
      {
        "duration": 12,
        "start_time": "2022-03-21T08:44:05.208Z"
      },
      {
        "duration": 12188,
        "start_time": "2022-03-21T08:44:05.222Z"
      },
      {
        "duration": 11,
        "start_time": "2022-03-21T08:44:17.412Z"
      },
      {
        "duration": 68,
        "start_time": "2022-03-21T08:44:17.425Z"
      },
      {
        "duration": 19,
        "start_time": "2022-03-21T08:44:17.495Z"
      },
      {
        "duration": 7,
        "start_time": "2022-03-21T08:44:17.516Z"
      },
      {
        "duration": 6,
        "start_time": "2022-03-21T08:44:17.525Z"
      },
      {
        "duration": 1294,
        "start_time": "2022-03-21T08:44:17.535Z"
      },
      {
        "duration": 13,
        "start_time": "2022-03-21T08:44:18.832Z"
      },
      {
        "duration": 269,
        "start_time": "2022-03-21T08:44:18.847Z"
      },
      {
        "duration": 179,
        "start_time": "2022-03-21T08:44:19.119Z"
      },
      {
        "duration": 111,
        "start_time": "2022-03-21T08:44:19.300Z"
      },
      {
        "duration": 16,
        "start_time": "2022-03-21T08:44:19.412Z"
      },
      {
        "duration": 181,
        "start_time": "2022-03-21T08:44:19.429Z"
      },
      {
        "duration": 36,
        "start_time": "2022-03-21T08:44:19.612Z"
      },
      {
        "duration": 5,
        "start_time": "2022-03-21T08:44:19.650Z"
      },
      {
        "duration": 5,
        "start_time": "2022-03-21T08:44:19.657Z"
      },
      {
        "duration": 517,
        "start_time": "2022-03-21T08:44:19.664Z"
      },
      {
        "duration": 11,
        "start_time": "2022-03-21T08:44:20.182Z"
      },
      {
        "duration": 6,
        "start_time": "2022-03-21T08:44:20.194Z"
      },
      {
        "duration": 228,
        "start_time": "2022-03-21T08:44:20.201Z"
      },
      {
        "duration": 280,
        "start_time": "2022-03-21T08:44:20.431Z"
      },
      {
        "duration": 14,
        "start_time": "2022-03-21T08:44:20.713Z"
      },
      {
        "duration": 326,
        "start_time": "2022-03-21T08:44:20.729Z"
      },
      {
        "duration": 223,
        "start_time": "2022-03-21T08:44:21.057Z"
      },
      {
        "duration": 8,
        "start_time": "2022-03-21T08:44:21.282Z"
      },
      {
        "duration": 235,
        "start_time": "2022-03-21T08:44:21.292Z"
      },
      {
        "duration": 8,
        "start_time": "2022-03-21T08:44:21.529Z"
      },
      {
        "duration": 215,
        "start_time": "2022-03-21T08:44:21.539Z"
      },
      {
        "duration": 10,
        "start_time": "2022-03-21T08:44:21.757Z"
      },
      {
        "duration": 517,
        "start_time": "2022-03-21T08:44:21.769Z"
      },
      {
        "duration": 258,
        "start_time": "2022-03-21T08:44:22.288Z"
      },
      {
        "duration": 336,
        "start_time": "2022-03-21T08:44:22.548Z"
      },
      {
        "duration": 275,
        "start_time": "2022-03-21T08:44:22.886Z"
      },
      {
        "duration": 21,
        "start_time": "2022-03-21T08:44:23.163Z"
      },
      {
        "duration": 39,
        "start_time": "2022-03-21T08:44:23.185Z"
      },
      {
        "duration": 20,
        "start_time": "2022-03-21T08:44:23.225Z"
      },
      {
        "duration": 361,
        "start_time": "2022-03-21T08:44:23.246Z"
      },
      {
        "duration": 213,
        "start_time": "2022-03-21T08:44:23.610Z"
      },
      {
        "duration": 11,
        "start_time": "2022-03-21T08:44:23.825Z"
      },
      {
        "duration": 12,
        "start_time": "2022-03-21T08:44:23.838Z"
      }
    ],
    "colab": {
      "collapsed_sections": [
        "cMX7et23nc4-"
      ],
      "provenance": []
    },
    "kernelspec": {
      "display_name": "Python 3 (ipykernel)",
      "language": "python",
      "name": "python3"
    },
    "language_info": {
      "codemirror_mode": {
        "name": "ipython",
        "version": 3
      },
      "file_extension": ".py",
      "mimetype": "text/x-python",
      "name": "python",
      "nbconvert_exporter": "python",
      "pygments_lexer": "ipython3",
      "version": "3.9.5"
    },
    "toc": {
      "base_numbering": 1,
      "nav_menu": {
        "height": "443px",
        "width": "348px"
      },
      "number_sections": true,
      "sideBar": true,
      "skip_h1_title": true,
      "title_cell": "Table of Contents",
      "title_sidebar": "Contents",
      "toc_cell": false,
      "toc_position": {
        "height": "calc(100% - 180px)",
        "left": "10px",
        "top": "150px",
        "width": "255.396px"
      },
      "toc_section_display": true,
      "toc_window_display": true
    }
  },
  "nbformat": 4,
  "nbformat_minor": 0
}
