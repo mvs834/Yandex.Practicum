{
  "cells": [
    {
      "cell_type": "markdown",
      "metadata": {
        "id": "rHcMci7pgU9X"
      },
      "source": [
        "# Описание проекта"
      ]
    },
    {
      "cell_type": "markdown",
      "metadata": {
        "id": "KABduzZigU9Y"
      },
      "source": [
        "Необходимо спрогнозировать уйдёт ли клиент из банка на основе исторических данные о поведении клиентов и расторжении договоров с банком."
      ]
    },
    {
      "cell_type": "markdown",
      "metadata": {
        "id": "MjYIavv1gU9Z"
      },
      "source": [
        "## Подготовка данных"
      ]
    },
    {
      "cell_type": "code",
      "execution_count": null,
      "metadata": {
        "id": "e4POuY7tgU9a"
      },
      "outputs": [],
      "source": [
        "# загрузка библиотек\n",
        "\n",
        "import pandas as pd\n",
        "import seaborn as sns\n",
        "import matplotlib.pyplot as plt\n",
        "import numpy as np\n",
        "from sklearn.metrics import precision_recall_curve\n",
        "\n",
        "from sklearn.model_selection import train_test_split\n",
        "from sklearn.metrics import confusion_matrix\n",
        "from sklearn.preprocessing import StandardScaler\n",
        "from sklearn.linear_model import LogisticRegression\n",
        "from sklearn.tree import DecisionTreeClassifier\n",
        "from sklearn.ensemble import RandomForestClassifier\n",
        "\n",
        "from sklearn.metrics import accuracy_score\n",
        "from sklearn.metrics import recall_score\n",
        "from sklearn.metrics import precision_score\n",
        "from sklearn.metrics import f1_score\n",
        "from sklearn.metrics import roc_auc_score\n",
        "from sklearn.metrics import roc_curve\n",
        "\n",
        "from sklearn.utils import shuffle"
      ]
    },
    {
      "cell_type": "code",
      "execution_count": null,
      "metadata": {
        "scrolled": true,
        "id": "_-hqvn2YgU9d",
        "outputId": "3b9f16da-06bf-4bf2-d2b5-491668ebcc08"
      },
      "outputs": [
        {
          "name": "stdout",
          "output_type": "stream",
          "text": [
            "<class 'pandas.core.frame.DataFrame'>\n",
            "RangeIndex: 10000 entries, 0 to 9999\n",
            "Data columns (total 14 columns):\n",
            " #   Column           Non-Null Count  Dtype  \n",
            "---  ------           --------------  -----  \n",
            " 0   RowNumber        10000 non-null  int64  \n",
            " 1   CustomerId       10000 non-null  int64  \n",
            " 2   Surname          10000 non-null  object \n",
            " 3   CreditScore      10000 non-null  int64  \n",
            " 4   Geography        10000 non-null  object \n",
            " 5   Gender           10000 non-null  object \n",
            " 6   Age              10000 non-null  int64  \n",
            " 7   Tenure           9091 non-null   float64\n",
            " 8   Balance          10000 non-null  float64\n",
            " 9   NumOfProducts    10000 non-null  int64  \n",
            " 10  HasCrCard        10000 non-null  int64  \n",
            " 11  IsActiveMember   10000 non-null  int64  \n",
            " 12  EstimatedSalary  10000 non-null  float64\n",
            " 13  Exited           10000 non-null  int64  \n",
            "dtypes: float64(3), int64(8), object(3)\n",
            "memory usage: 1.1+ MB\n"
          ]
        }
      ],
      "source": [
        "#загрузка данных\n",
        "\n",
        "data = pd.read_csv('/datasets/Churn.csv')\n",
        "\n",
        "data.info()"
      ]
    },
    {
      "cell_type": "markdown",
      "metadata": {
        "id": "LF3Ky5wBgU9f"
      },
      "source": [
        "Признаки\n",
        "\n",
        "\n",
        "* RowNumber — индекс строки в данных\n",
        "* CustomerId — уникальный идентификатор клиента\n",
        "* Surname — фамилия\n",
        "* CreditScore — кредитный рейтинг\n",
        "* Geography — страна проживания\n",
        "* Gender — пол\n",
        "* Age — возраст\n",
        "* Tenure — сколько лет человек является клиентом банка\n",
        "* Balance — баланс на счёте\n",
        "* NumOfProducts — количество продуктов банка, используемых клиентом\n",
        "* HasCrCard — наличие кредитной карты\n",
        "* IsActiveMember — активность клиента\n",
        "* EstimatedSalary — предполагаемая зарплата\n",
        "\n",
        "\n",
        "Целевой признак\n",
        "* Exited — факт ухода клиента\n",
        "\n",
        "Предобработка должна включать приведение названий колонок к \"змеиному_формату\" и обработку пропусков. Пропуски имеются только в колонке Tenure"
      ]
    },
    {
      "cell_type": "code",
      "execution_count": null,
      "metadata": {
        "id": "ISHnScncgU9f"
      },
      "outputs": [],
      "source": [
        "data.columns = [x.lower() for x in data.columns]"
      ]
    },
    {
      "cell_type": "code",
      "execution_count": null,
      "metadata": {
        "id": "xgGSAfgDgU9g"
      },
      "outputs": [],
      "source": [
        "data = data.rename(columns = {\n",
        "    'rownumber':'row_number',\n",
        "    'customerid':'customer_id',\n",
        "    'creditscore':'credit_score',\n",
        "    'numofproducts':'num_of_products',\n",
        "    'hascrcard':'has_cr_card',\n",
        "    'isactivemember':'is_active_member',\n",
        "    'estimatedsalary':'estimated_salary',\n",
        "    })"
      ]
    },
    {
      "cell_type": "code",
      "execution_count": null,
      "metadata": {
        "scrolled": false,
        "id": "RUFBttn8gU9h",
        "outputId": "c63e4554-0887-4c1b-c9f7-8ed1b4480986"
      },
      "outputs": [
        {
          "data": {
            "text/html": [
              "<div>\n",
              "<style scoped>\n",
              "    .dataframe tbody tr th:only-of-type {\n",
              "        vertical-align: middle;\n",
              "    }\n",
              "\n",
              "    .dataframe tbody tr th {\n",
              "        vertical-align: top;\n",
              "    }\n",
              "\n",
              "    .dataframe thead th {\n",
              "        text-align: right;\n",
              "    }\n",
              "</style>\n",
              "<table border=\"1\" class=\"dataframe\">\n",
              "  <thead>\n",
              "    <tr style=\"text-align: right;\">\n",
              "      <th></th>\n",
              "      <th>row_number</th>\n",
              "      <th>customer_id</th>\n",
              "      <th>surname</th>\n",
              "      <th>credit_score</th>\n",
              "      <th>geography</th>\n",
              "      <th>gender</th>\n",
              "      <th>age</th>\n",
              "      <th>tenure</th>\n",
              "      <th>balance</th>\n",
              "      <th>num_of_products</th>\n",
              "      <th>has_cr_card</th>\n",
              "      <th>is_active_member</th>\n",
              "      <th>estimated_salary</th>\n",
              "      <th>exited</th>\n",
              "    </tr>\n",
              "  </thead>\n",
              "  <tbody>\n",
              "    <tr>\n",
              "      <th>0</th>\n",
              "      <td>1</td>\n",
              "      <td>15634602</td>\n",
              "      <td>Hargrave</td>\n",
              "      <td>619</td>\n",
              "      <td>France</td>\n",
              "      <td>Female</td>\n",
              "      <td>42</td>\n",
              "      <td>2.0</td>\n",
              "      <td>0.00</td>\n",
              "      <td>1</td>\n",
              "      <td>1</td>\n",
              "      <td>1</td>\n",
              "      <td>101348.88</td>\n",
              "      <td>1</td>\n",
              "    </tr>\n",
              "    <tr>\n",
              "      <th>1</th>\n",
              "      <td>2</td>\n",
              "      <td>15647311</td>\n",
              "      <td>Hill</td>\n",
              "      <td>608</td>\n",
              "      <td>Spain</td>\n",
              "      <td>Female</td>\n",
              "      <td>41</td>\n",
              "      <td>1.0</td>\n",
              "      <td>83807.86</td>\n",
              "      <td>1</td>\n",
              "      <td>0</td>\n",
              "      <td>1</td>\n",
              "      <td>112542.58</td>\n",
              "      <td>0</td>\n",
              "    </tr>\n",
              "    <tr>\n",
              "      <th>2</th>\n",
              "      <td>3</td>\n",
              "      <td>15619304</td>\n",
              "      <td>Onio</td>\n",
              "      <td>502</td>\n",
              "      <td>France</td>\n",
              "      <td>Female</td>\n",
              "      <td>42</td>\n",
              "      <td>8.0</td>\n",
              "      <td>159660.80</td>\n",
              "      <td>3</td>\n",
              "      <td>1</td>\n",
              "      <td>0</td>\n",
              "      <td>113931.57</td>\n",
              "      <td>1</td>\n",
              "    </tr>\n",
              "    <tr>\n",
              "      <th>3</th>\n",
              "      <td>4</td>\n",
              "      <td>15701354</td>\n",
              "      <td>Boni</td>\n",
              "      <td>699</td>\n",
              "      <td>France</td>\n",
              "      <td>Female</td>\n",
              "      <td>39</td>\n",
              "      <td>1.0</td>\n",
              "      <td>0.00</td>\n",
              "      <td>2</td>\n",
              "      <td>0</td>\n",
              "      <td>0</td>\n",
              "      <td>93826.63</td>\n",
              "      <td>0</td>\n",
              "    </tr>\n",
              "    <tr>\n",
              "      <th>4</th>\n",
              "      <td>5</td>\n",
              "      <td>15737888</td>\n",
              "      <td>Mitchell</td>\n",
              "      <td>850</td>\n",
              "      <td>Spain</td>\n",
              "      <td>Female</td>\n",
              "      <td>43</td>\n",
              "      <td>2.0</td>\n",
              "      <td>125510.82</td>\n",
              "      <td>1</td>\n",
              "      <td>1</td>\n",
              "      <td>1</td>\n",
              "      <td>79084.10</td>\n",
              "      <td>0</td>\n",
              "    </tr>\n",
              "  </tbody>\n",
              "</table>\n",
              "</div>"
            ],
            "text/plain": [
              "   row_number  customer_id   surname  credit_score geography  gender  age  \\\n",
              "0           1     15634602  Hargrave           619    France  Female   42   \n",
              "1           2     15647311      Hill           608     Spain  Female   41   \n",
              "2           3     15619304      Onio           502    France  Female   42   \n",
              "3           4     15701354      Boni           699    France  Female   39   \n",
              "4           5     15737888  Mitchell           850     Spain  Female   43   \n",
              "\n",
              "   tenure    balance  num_of_products  has_cr_card  is_active_member  \\\n",
              "0     2.0       0.00                1            1                 1   \n",
              "1     1.0   83807.86                1            0                 1   \n",
              "2     8.0  159660.80                3            1                 0   \n",
              "3     1.0       0.00                2            0                 0   \n",
              "4     2.0  125510.82                1            1                 1   \n",
              "\n",
              "   estimated_salary  exited  \n",
              "0         101348.88       1  \n",
              "1         112542.58       0  \n",
              "2         113931.57       1  \n",
              "3          93826.63       0  \n",
              "4          79084.10       0  "
            ]
          },
          "execution_count": 5,
          "metadata": {},
          "output_type": "execute_result"
        }
      ],
      "source": [
        "data.head(5)"
      ]
    },
    {
      "cell_type": "code",
      "execution_count": null,
      "metadata": {
        "scrolled": true,
        "id": "GtjJr1VygU9h",
        "outputId": "38b779d6-e856-47b4-976d-724af6127364"
      },
      "outputs": [
        {
          "data": {
            "text/html": [
              "<div>\n",
              "<style scoped>\n",
              "    .dataframe tbody tr th:only-of-type {\n",
              "        vertical-align: middle;\n",
              "    }\n",
              "\n",
              "    .dataframe tbody tr th {\n",
              "        vertical-align: top;\n",
              "    }\n",
              "\n",
              "    .dataframe thead th {\n",
              "        text-align: right;\n",
              "    }\n",
              "</style>\n",
              "<table border=\"1\" class=\"dataframe\">\n",
              "  <thead>\n",
              "    <tr style=\"text-align: right;\">\n",
              "      <th></th>\n",
              "      <th>row_number</th>\n",
              "      <th>customer_id</th>\n",
              "      <th>credit_score</th>\n",
              "      <th>age</th>\n",
              "      <th>tenure</th>\n",
              "      <th>balance</th>\n",
              "      <th>num_of_products</th>\n",
              "      <th>has_cr_card</th>\n",
              "      <th>is_active_member</th>\n",
              "      <th>estimated_salary</th>\n",
              "      <th>exited</th>\n",
              "    </tr>\n",
              "  </thead>\n",
              "  <tbody>\n",
              "    <tr>\n",
              "      <th>count</th>\n",
              "      <td>10000.00000</td>\n",
              "      <td>1.000000e+04</td>\n",
              "      <td>10000.000000</td>\n",
              "      <td>10000.000000</td>\n",
              "      <td>9091.000000</td>\n",
              "      <td>10000.000000</td>\n",
              "      <td>10000.000000</td>\n",
              "      <td>10000.00000</td>\n",
              "      <td>10000.000000</td>\n",
              "      <td>10000.000000</td>\n",
              "      <td>10000.000000</td>\n",
              "    </tr>\n",
              "    <tr>\n",
              "      <th>mean</th>\n",
              "      <td>5000.50000</td>\n",
              "      <td>1.569094e+07</td>\n",
              "      <td>650.528800</td>\n",
              "      <td>38.921800</td>\n",
              "      <td>4.997690</td>\n",
              "      <td>76485.889288</td>\n",
              "      <td>1.530200</td>\n",
              "      <td>0.70550</td>\n",
              "      <td>0.515100</td>\n",
              "      <td>100090.239881</td>\n",
              "      <td>0.203700</td>\n",
              "    </tr>\n",
              "    <tr>\n",
              "      <th>std</th>\n",
              "      <td>2886.89568</td>\n",
              "      <td>7.193619e+04</td>\n",
              "      <td>96.653299</td>\n",
              "      <td>10.487806</td>\n",
              "      <td>2.894723</td>\n",
              "      <td>62397.405202</td>\n",
              "      <td>0.581654</td>\n",
              "      <td>0.45584</td>\n",
              "      <td>0.499797</td>\n",
              "      <td>57510.492818</td>\n",
              "      <td>0.402769</td>\n",
              "    </tr>\n",
              "    <tr>\n",
              "      <th>min</th>\n",
              "      <td>1.00000</td>\n",
              "      <td>1.556570e+07</td>\n",
              "      <td>350.000000</td>\n",
              "      <td>18.000000</td>\n",
              "      <td>0.000000</td>\n",
              "      <td>0.000000</td>\n",
              "      <td>1.000000</td>\n",
              "      <td>0.00000</td>\n",
              "      <td>0.000000</td>\n",
              "      <td>11.580000</td>\n",
              "      <td>0.000000</td>\n",
              "    </tr>\n",
              "    <tr>\n",
              "      <th>25%</th>\n",
              "      <td>2500.75000</td>\n",
              "      <td>1.562853e+07</td>\n",
              "      <td>584.000000</td>\n",
              "      <td>32.000000</td>\n",
              "      <td>2.000000</td>\n",
              "      <td>0.000000</td>\n",
              "      <td>1.000000</td>\n",
              "      <td>0.00000</td>\n",
              "      <td>0.000000</td>\n",
              "      <td>51002.110000</td>\n",
              "      <td>0.000000</td>\n",
              "    </tr>\n",
              "    <tr>\n",
              "      <th>50%</th>\n",
              "      <td>5000.50000</td>\n",
              "      <td>1.569074e+07</td>\n",
              "      <td>652.000000</td>\n",
              "      <td>37.000000</td>\n",
              "      <td>5.000000</td>\n",
              "      <td>97198.540000</td>\n",
              "      <td>1.000000</td>\n",
              "      <td>1.00000</td>\n",
              "      <td>1.000000</td>\n",
              "      <td>100193.915000</td>\n",
              "      <td>0.000000</td>\n",
              "    </tr>\n",
              "    <tr>\n",
              "      <th>75%</th>\n",
              "      <td>7500.25000</td>\n",
              "      <td>1.575323e+07</td>\n",
              "      <td>718.000000</td>\n",
              "      <td>44.000000</td>\n",
              "      <td>7.000000</td>\n",
              "      <td>127644.240000</td>\n",
              "      <td>2.000000</td>\n",
              "      <td>1.00000</td>\n",
              "      <td>1.000000</td>\n",
              "      <td>149388.247500</td>\n",
              "      <td>0.000000</td>\n",
              "    </tr>\n",
              "    <tr>\n",
              "      <th>max</th>\n",
              "      <td>10000.00000</td>\n",
              "      <td>1.581569e+07</td>\n",
              "      <td>850.000000</td>\n",
              "      <td>92.000000</td>\n",
              "      <td>10.000000</td>\n",
              "      <td>250898.090000</td>\n",
              "      <td>4.000000</td>\n",
              "      <td>1.00000</td>\n",
              "      <td>1.000000</td>\n",
              "      <td>199992.480000</td>\n",
              "      <td>1.000000</td>\n",
              "    </tr>\n",
              "  </tbody>\n",
              "</table>\n",
              "</div>"
            ],
            "text/plain": [
              "        row_number   customer_id  credit_score           age       tenure  \\\n",
              "count  10000.00000  1.000000e+04  10000.000000  10000.000000  9091.000000   \n",
              "mean    5000.50000  1.569094e+07    650.528800     38.921800     4.997690   \n",
              "std     2886.89568  7.193619e+04     96.653299     10.487806     2.894723   \n",
              "min        1.00000  1.556570e+07    350.000000     18.000000     0.000000   \n",
              "25%     2500.75000  1.562853e+07    584.000000     32.000000     2.000000   \n",
              "50%     5000.50000  1.569074e+07    652.000000     37.000000     5.000000   \n",
              "75%     7500.25000  1.575323e+07    718.000000     44.000000     7.000000   \n",
              "max    10000.00000  1.581569e+07    850.000000     92.000000    10.000000   \n",
              "\n",
              "             balance  num_of_products  has_cr_card  is_active_member  \\\n",
              "count   10000.000000     10000.000000  10000.00000      10000.000000   \n",
              "mean    76485.889288         1.530200      0.70550          0.515100   \n",
              "std     62397.405202         0.581654      0.45584          0.499797   \n",
              "min         0.000000         1.000000      0.00000          0.000000   \n",
              "25%         0.000000         1.000000      0.00000          0.000000   \n",
              "50%     97198.540000         1.000000      1.00000          1.000000   \n",
              "75%    127644.240000         2.000000      1.00000          1.000000   \n",
              "max    250898.090000         4.000000      1.00000          1.000000   \n",
              "\n",
              "       estimated_salary        exited  \n",
              "count      10000.000000  10000.000000  \n",
              "mean      100090.239881      0.203700  \n",
              "std        57510.492818      0.402769  \n",
              "min           11.580000      0.000000  \n",
              "25%        51002.110000      0.000000  \n",
              "50%       100193.915000      0.000000  \n",
              "75%       149388.247500      0.000000  \n",
              "max       199992.480000      1.000000  "
            ]
          },
          "execution_count": 6,
          "metadata": {},
          "output_type": "execute_result"
        }
      ],
      "source": [
        "data.describe()"
      ]
    },
    {
      "cell_type": "markdown",
      "metadata": {
        "id": "U_TCBZO8gU9i"
      },
      "source": [
        "Tenure можно перевести в формат int\n",
        "\n",
        "Большее количество пользователей имеют кредитную карту 70%\n",
        "\n",
        "Половина пользователей активна 51%\n",
        "\n",
        "Предполагаемая зарплата имеет подозрительные низкие значения, следует обратить внимание\n",
        "\n",
        "20% клиентов ушли"
      ]
    },
    {
      "cell_type": "code",
      "execution_count": null,
      "metadata": {
        "scrolled": true,
        "id": "tp5rR6uhgU9i",
        "outputId": "1b99373f-9c66-4af5-e214-94408c853387"
      },
      "outputs": [
        {
          "data": {
            "image/png": "[encoded data removed]",
            "text/plain": [
              "<Figure size 432x288 with 1 Axes>"
            ]
          },
          "metadata": {
            "needs_background": "light"
          },
          "output_type": "display_data"
        }
      ],
      "source": [
        "data['estimated_salary'].hist(bins = 100);"
      ]
    },
    {
      "cell_type": "code",
      "execution_count": null,
      "metadata": {
        "scrolled": true,
        "id": "HsrWBtCRgU9j",
        "outputId": "33f044bd-3bc4-4193-d0be-c18914f3bae3"
      },
      "outputs": [
        {
          "data": {
            "text/plain": [
              "2362     11.58\n",
              "9647     90.07\n",
              "9010     91.75\n",
              "5548     96.27\n",
              "4989    106.67\n",
              "7565    123.07\n",
              "2498    142.81\n",
              "8722    143.34\n",
              "4774    178.19\n",
              "1451    216.27\n",
              "Name: estimated_salary, dtype: float64"
            ]
          },
          "execution_count": 8,
          "metadata": {},
          "output_type": "execute_result"
        }
      ],
      "source": [
        "data['estimated_salary'].sort_values().head(10)"
      ]
    },
    {
      "cell_type": "markdown",
      "metadata": {
        "id": "8svC6OPEgU9j"
      },
      "source": [
        "вероятно, проблем со значениями предполагаемой зарплаты нет"
      ]
    },
    {
      "cell_type": "code",
      "execution_count": null,
      "metadata": {
        "scrolled": false,
        "id": "SEWvaPkbgU9j",
        "outputId": "655f9e20-7607-42a0-f0ba-30a92020b96f"
      },
      "outputs": [
        {
          "data": {
            "text/plain": [
              "row_number          0\n",
              "customer_id         0\n",
              "surname             0\n",
              "credit_score        0\n",
              "geography           0\n",
              "gender              0\n",
              "age                 0\n",
              "tenure              0\n",
              "balance             0\n",
              "num_of_products     0\n",
              "has_cr_card         0\n",
              "is_active_member    0\n",
              "estimated_salary    0\n",
              "exited              0\n",
              "dtype: int64"
            ]
          },
          "execution_count": 9,
          "metadata": {},
          "output_type": "execute_result"
        }
      ],
      "source": [
        "#проверка дубликатов\n",
        "\n",
        "data[data['customer_id'].duplicated() == True].count()"
      ]
    },
    {
      "cell_type": "code",
      "execution_count": null,
      "metadata": {
        "id": "TreAfOoagU9k"
      },
      "outputs": [],
      "source": [
        "# имя, номер строки и уникальный номер клиента не влияют на уход клиента\n",
        "\n",
        "data = data.drop(columns = ['surname', 'row_number', 'customer_id'])"
      ]
    },
    {
      "cell_type": "code",
      "execution_count": null,
      "metadata": {
        "id": "k3_i-k_YgU9k"
      },
      "outputs": [],
      "source": [
        "# пропуски проще убрать из рассмотрения\n",
        "\n",
        "data = data.dropna()"
      ]
    },
    {
      "cell_type": "code",
      "execution_count": null,
      "metadata": {
        "id": "m-lSHN6egU9k"
      },
      "outputs": [],
      "source": [
        "# перевод в тип целочисленных значений\n",
        "\n",
        "data['tenure'] = data['tenure'].astype(int)"
      ]
    },
    {
      "cell_type": "markdown",
      "metadata": {
        "id": "97eVqPASgU9l"
      },
      "source": [
        "## Исследование задачи"
      ]
    },
    {
      "cell_type": "markdown",
      "metadata": {
        "id": "oP-Sib5GgU9m"
      },
      "source": [
        "### Логистическая регрессия"
      ]
    },
    {
      "cell_type": "markdown",
      "metadata": {
        "id": "uRMgTt5egU9m"
      },
      "source": [
        "One Hot Encoder подходит для преобразования категориальных признаков в численные"
      ]
    },
    {
      "cell_type": "code",
      "execution_count": null,
      "metadata": {
        "scrolled": true,
        "id": "LWHl9C3dgU9m"
      },
      "outputs": [],
      "source": [
        "one_hot = pd.get_dummies(data[['geography', 'gender']], drop_first=True)\n",
        "data_ohe = data.join(one_hot).drop(['geography', 'gender'], axis = 1)"
      ]
    },
    {
      "cell_type": "code",
      "execution_count": null,
      "metadata": {
        "id": "m-_aCdQHgU9n",
        "outputId": "685c6c07-940f-4ca2-f43d-5f5261ad9400"
      },
      "outputs": [
        {
          "data": {
            "text/html": [
              "<div>\n",
              "<style scoped>\n",
              "    .dataframe tbody tr th:only-of-type {\n",
              "        vertical-align: middle;\n",
              "    }\n",
              "\n",
              "    .dataframe tbody tr th {\n",
              "        vertical-align: top;\n",
              "    }\n",
              "\n",
              "    .dataframe thead th {\n",
              "        text-align: right;\n",
              "    }\n",
              "</style>\n",
              "<table border=\"1\" class=\"dataframe\">\n",
              "  <thead>\n",
              "    <tr style=\"text-align: right;\">\n",
              "      <th></th>\n",
              "      <th>credit_score</th>\n",
              "      <th>age</th>\n",
              "      <th>tenure</th>\n",
              "      <th>balance</th>\n",
              "      <th>num_of_products</th>\n",
              "      <th>has_cr_card</th>\n",
              "      <th>is_active_member</th>\n",
              "      <th>estimated_salary</th>\n",
              "      <th>exited</th>\n",
              "      <th>geography_Germany</th>\n",
              "      <th>geography_Spain</th>\n",
              "      <th>gender_Male</th>\n",
              "    </tr>\n",
              "  </thead>\n",
              "  <tbody>\n",
              "    <tr>\n",
              "      <th>0</th>\n",
              "      <td>619</td>\n",
              "      <td>42</td>\n",
              "      <td>2</td>\n",
              "      <td>0.00</td>\n",
              "      <td>1</td>\n",
              "      <td>1</td>\n",
              "      <td>1</td>\n",
              "      <td>101348.88</td>\n",
              "      <td>1</td>\n",
              "      <td>0</td>\n",
              "      <td>0</td>\n",
              "      <td>0</td>\n",
              "    </tr>\n",
              "    <tr>\n",
              "      <th>1</th>\n",
              "      <td>608</td>\n",
              "      <td>41</td>\n",
              "      <td>1</td>\n",
              "      <td>83807.86</td>\n",
              "      <td>1</td>\n",
              "      <td>0</td>\n",
              "      <td>1</td>\n",
              "      <td>112542.58</td>\n",
              "      <td>0</td>\n",
              "      <td>0</td>\n",
              "      <td>1</td>\n",
              "      <td>0</td>\n",
              "    </tr>\n",
              "    <tr>\n",
              "      <th>2</th>\n",
              "      <td>502</td>\n",
              "      <td>42</td>\n",
              "      <td>8</td>\n",
              "      <td>159660.80</td>\n",
              "      <td>3</td>\n",
              "      <td>1</td>\n",
              "      <td>0</td>\n",
              "      <td>113931.57</td>\n",
              "      <td>1</td>\n",
              "      <td>0</td>\n",
              "      <td>0</td>\n",
              "      <td>0</td>\n",
              "    </tr>\n",
              "    <tr>\n",
              "      <th>3</th>\n",
              "      <td>699</td>\n",
              "      <td>39</td>\n",
              "      <td>1</td>\n",
              "      <td>0.00</td>\n",
              "      <td>2</td>\n",
              "      <td>0</td>\n",
              "      <td>0</td>\n",
              "      <td>93826.63</td>\n",
              "      <td>0</td>\n",
              "      <td>0</td>\n",
              "      <td>0</td>\n",
              "      <td>0</td>\n",
              "    </tr>\n",
              "    <tr>\n",
              "      <th>4</th>\n",
              "      <td>850</td>\n",
              "      <td>43</td>\n",
              "      <td>2</td>\n",
              "      <td>125510.82</td>\n",
              "      <td>1</td>\n",
              "      <td>1</td>\n",
              "      <td>1</td>\n",
              "      <td>79084.10</td>\n",
              "      <td>0</td>\n",
              "      <td>0</td>\n",
              "      <td>1</td>\n",
              "      <td>0</td>\n",
              "    </tr>\n",
              "  </tbody>\n",
              "</table>\n",
              "</div>"
            ],
            "text/plain": [
              "   credit_score  age  tenure    balance  num_of_products  has_cr_card  \\\n",
              "0           619   42       2       0.00                1            1   \n",
              "1           608   41       1   83807.86                1            0   \n",
              "2           502   42       8  159660.80                3            1   \n",
              "3           699   39       1       0.00                2            0   \n",
              "4           850   43       2  125510.82                1            1   \n",
              "\n",
              "   is_active_member  estimated_salary  exited  geography_Germany  \\\n",
              "0                 1         101348.88       1                  0   \n",
              "1                 1         112542.58       0                  0   \n",
              "2                 0         113931.57       1                  0   \n",
              "3                 0          93826.63       0                  0   \n",
              "4                 1          79084.10       0                  0   \n",
              "\n",
              "   geography_Spain  gender_Male  \n",
              "0                0            0  \n",
              "1                1            0  \n",
              "2                0            0  \n",
              "3                0            0  \n",
              "4                1            0  "
            ]
          },
          "execution_count": 14,
          "metadata": {},
          "output_type": "execute_result"
        }
      ],
      "source": [
        "data_ohe.head()"
      ]
    },
    {
      "cell_type": "code",
      "execution_count": null,
      "metadata": {
        "id": "Z1gqKn-wgU9n"
      },
      "outputs": [],
      "source": [
        "data_ohe.columns = [x.lower() for x in data_ohe.columns]"
      ]
    },
    {
      "cell_type": "code",
      "execution_count": null,
      "metadata": {
        "scrolled": true,
        "id": "MwTgJMBQgU9o",
        "outputId": "8ba72135-98dc-49cb-e32b-af5d832e7ce3"
      },
      "outputs": [
        {
          "data": {
            "image/png": "[encoded data removed]",
            "text/plain": [
              "<Figure size 720x720 with 2 Axes>"
            ]
          },
          "metadata": {
            "needs_background": "light"
          },
          "output_type": "display_data"
        }
      ],
      "source": [
        "# анализ взаимосвязи признаков:\n",
        "\n",
        "corr = data_ohe.corr()\n",
        "\n",
        "fig, ax = plt.subplots(figsize=(10,10)) \n",
        "\n",
        "sns.heatmap(corr, \n",
        "        xticklabels=corr.columns,\n",
        "        yticklabels=corr.columns,\n",
        "        annot= True,\n",
        "        ax=ax);"
      ]
    },
    {
      "cell_type": "markdown",
      "metadata": {
        "id": "ylBrhzgJgU9o"
      },
      "source": [
        "Вывод: признаки независимы и могут быть использованы для построения моделей машинного обучения"
      ]
    },
    {
      "cell_type": "markdown",
      "metadata": {
        "id": "WaF-OrtPgU9p"
      },
      "source": [
        "Выше было отмечено, что целевой параметр несбалансирован - 20% клиентов ушли, 80% осталось. Для начала следует обучить модель на несбалансированной выборке. При этом в качестве метрики accuracy score не подходит"
      ]
    },
    {
      "cell_type": "code",
      "execution_count": null,
      "metadata": {
        "scrolled": true,
        "id": "eTvWUx34gU9q",
        "outputId": "545c899c-3724-4461-ff13-4c385ab60382"
      },
      "outputs": [
        {
          "name": "stdout",
          "output_type": "stream",
          "text": [
            "features_train (5454, 11)\n",
            "target_train (5454,)\n",
            "features_valid (1818, 11)\n",
            "target_valid (1818,)\n",
            "features_test (1819, 11)\n",
            "target_test (1819,)\n"
          ]
        }
      ],
      "source": [
        "#разделение признаков и выборок\n",
        "\n",
        "features = data_ohe.drop('exited', axis = 1)\n",
        "target = data_ohe['exited']\n",
        "\n",
        "features_train, features_valid_and_test, target_train, target_valid_and_test = train_test_split(\n",
        "    features, target, test_size = 0.4, random_state = 12345)\n",
        "\n",
        "features_valid, features_test, target_valid, target_test = train_test_split(\n",
        "    features_valid_and_test, target_valid_and_test, test_size = 0.5, random_state = 12345)\n",
        "\n",
        "print(\"features_train\", features_train.shape)\n",
        "print('target_train', target_train.shape)\n",
        "print(\"features_valid\", features_valid.shape)\n",
        "print('target_valid', target_valid.shape)\n",
        "print(\"features_test\", features_test.shape)\n",
        "print('target_test', target_test.shape)"
      ]
    },
    {
      "cell_type": "code",
      "execution_count": null,
      "metadata": {
        "scrolled": true,
        "id": "PWMHZ3yJgU9r",
        "outputId": "97e14ce6-2c05-45b0-e88d-a4c64b0b7019"
      },
      "outputs": [
        {
          "name": "stderr",
          "output_type": "stream",
          "text": [
            "/tmp/ipykernel_36/3784793748.py:7: SettingWithCopyWarning: \n",
            "A value is trying to be set on a copy of a slice from a DataFrame.\n",
            "Try using .loc[row_indexer,col_indexer] = value instead\n",
            "\n",
            "See the caveats in the documentation: https://pandas.pydata.org/pandas-docs/stable/user_guide/indexing.html#returning-a-view-versus-a-copy\n",
            "  features_train[numeric] = scaler.transform(features_train[numeric])\n",
            "/opt/conda/lib/python3.9/site-packages/pandas/core/indexing.py:1738: SettingWithCopyWarning: \n",
            "A value is trying to be set on a copy of a slice from a DataFrame.\n",
            "Try using .loc[row_indexer,col_indexer] = value instead\n",
            "\n",
            "See the caveats in the documentation: https://pandas.pydata.org/pandas-docs/stable/user_guide/indexing.html#returning-a-view-versus-a-copy\n",
            "  self._setitem_single_column(loc, value[:, i].tolist(), pi)\n",
            "/tmp/ipykernel_36/3784793748.py:8: SettingWithCopyWarning: \n",
            "A value is trying to be set on a copy of a slice from a DataFrame.\n",
            "Try using .loc[row_indexer,col_indexer] = value instead\n",
            "\n",
            "See the caveats in the documentation: https://pandas.pydata.org/pandas-docs/stable/user_guide/indexing.html#returning-a-view-versus-a-copy\n",
            "  features_valid[numeric] = scaler.transform(features_valid[numeric])\n",
            "/opt/conda/lib/python3.9/site-packages/pandas/core/indexing.py:1738: SettingWithCopyWarning: \n",
            "A value is trying to be set on a copy of a slice from a DataFrame.\n",
            "Try using .loc[row_indexer,col_indexer] = value instead\n",
            "\n",
            "See the caveats in the documentation: https://pandas.pydata.org/pandas-docs/stable/user_guide/indexing.html#returning-a-view-versus-a-copy\n",
            "  self._setitem_single_column(loc, value[:, i].tolist(), pi)\n",
            "/tmp/ipykernel_36/3784793748.py:9: SettingWithCopyWarning: \n",
            "A value is trying to be set on a copy of a slice from a DataFrame.\n",
            "Try using .loc[row_indexer,col_indexer] = value instead\n",
            "\n",
            "See the caveats in the documentation: https://pandas.pydata.org/pandas-docs/stable/user_guide/indexing.html#returning-a-view-versus-a-copy\n",
            "  features_test[numeric] = scaler.transform(features_test[numeric])\n",
            "/opt/conda/lib/python3.9/site-packages/pandas/core/indexing.py:1738: SettingWithCopyWarning: \n",
            "A value is trying to be set on a copy of a slice from a DataFrame.\n",
            "Try using .loc[row_indexer,col_indexer] = value instead\n",
            "\n",
            "See the caveats in the documentation: https://pandas.pydata.org/pandas-docs/stable/user_guide/indexing.html#returning-a-view-versus-a-copy\n",
            "  self._setitem_single_column(loc, value[:, i].tolist(), pi)\n"
          ]
        }
      ],
      "source": [
        "#масштабирование количественных признаков\n",
        "\n",
        "numeric = ['age', 'tenure', 'balance', 'estimated_salary']\n",
        "\n",
        "scaler = StandardScaler()\n",
        "scaler.fit(features_train[numeric])\n",
        "features_train[numeric] = scaler.transform(features_train[numeric])\n",
        "features_valid[numeric] = scaler.transform(features_valid[numeric])\n",
        "features_test[numeric] = scaler.transform(features_test[numeric])"
      ]
    },
    {
      "cell_type": "code",
      "execution_count": null,
      "metadata": {
        "id": "p7JdXlVLgU9t",
        "outputId": "6abd013a-82e8-4329-f030-a1482304298a"
      },
      "outputs": [
        {
          "name": "stdout",
          "output_type": "stream",
          "text": [
            "confusion_matrix\n",
            "[[1393   48]\n",
            " [ 301   76]]\n",
            "recall_score 0.20159151193633953\n",
            "precision_score 0.6129032258064516\n",
            "f1_score 0.3033932135728543\n"
          ]
        }
      ],
      "source": [
        "# LogisticRegression\n",
        "\n",
        "model = LogisticRegression(solver='liblinear', random_state = 12345)\n",
        "model.fit(features_train, target_train)\n",
        "predicted_valid = model.predict(features_valid)\n",
        "\n",
        "print('confusion_matrix')\n",
        "print(confusion_matrix(target_valid, predicted_valid))\n",
        "print('recall_score',recall_score(target_valid, predicted_valid)) #Полнота выявляет, какую долю положительных среди всех ответов выделила модель\n",
        "print('precision_score', precision_score(target_valid, predicted_valid)) #Точность определяет, как много отрицательных ответов нашла модель, пока искала положительные\n",
        "print('f1_score',f1_score(target_valid, predicted_valid)) #среднее гармоническое полноты и точности "
      ]
    },
    {
      "cell_type": "code",
      "execution_count": null,
      "metadata": {
        "id": "AguXeeI_gU9t",
        "outputId": "e9fcbf6e-9c67-4cd1-cbb8-a710f31b6ad0"
      },
      "outputs": [
        {
          "name": "stdout",
          "output_type": "stream",
          "text": [
            "accuracy_score 0.7960620393796062\n"
          ]
        }
      ],
      "source": [
        "# accuracy_score константной модели для сравнения\n",
        "\n",
        "target_pred_constant = pd.Series(0, index = target.index)\n",
        "\n",
        "print('accuracy_score', accuracy_score(target, target_pred_constant)) #accuracy_score() принимает на вход верные ответы и предсказания, а возвращает долю правильных ответов"
      ]
    },
    {
      "cell_type": "markdown",
      "metadata": {
        "id": "gXpnjKuPgU9u"
      },
      "source": [
        "### Дерево решений"
      ]
    },
    {
      "cell_type": "code",
      "execution_count": null,
      "metadata": {
        "id": "ihhanEIXgU9w",
        "outputId": "8d1c5e1a-1e59-48dd-b270-adab55612e98"
      },
      "outputs": [
        {
          "name": "stdout",
          "output_type": "stream",
          "text": [
            "confusion_matrix\n",
            "[[1220  221]\n",
            " [ 194  183]]\n",
            "recall_score 0.4854111405835544\n",
            "precision_score 0.452970297029703\n",
            "f1_score 0.4686299615877081\n"
          ]
        }
      ],
      "source": [
        "#DecisionTreeClassifier\n",
        "\n",
        "model = DecisionTreeClassifier(random_state=12345)\n",
        "model.fit(features_train, target_train)\n",
        "predicted_valid = model.predict(features_valid)\n",
        "\n",
        "print('confusion_matrix')\n",
        "print(confusion_matrix(target_valid, predicted_valid))\n",
        "print('recall_score',recall_score(target_valid, predicted_valid)) #Полнота выявляет, какую долю положительных среди всех ответов выделила модель\n",
        "print('precision_score', precision_score(target_valid, predicted_valid)) #Точность определяет, как много отрицательных ответов нашла модель, пока искала положительные\n",
        "print('f1_score',f1_score(target_valid, predicted_valid)) #среднее гармоническое полноты и точности "
      ]
    },
    {
      "cell_type": "markdown",
      "metadata": {
        "id": "sTfoH4GNgU9w"
      },
      "source": [
        "### Случайный лес"
      ]
    },
    {
      "cell_type": "code",
      "execution_count": null,
      "metadata": {
        "scrolled": false,
        "id": "8ABjZT9DgU9w",
        "outputId": "490fd834-f2cd-41ed-c0a9-10e86e5b1c9b"
      },
      "outputs": [
        {
          "name": "stdout",
          "output_type": "stream",
          "text": [
            "F1_best 0.5944170771756978\n",
            "est_best 93\n",
            "depth_best 21\n"
          ]
        }
      ],
      "source": [
        "#RandomForestClassifier\n",
        "\n",
        "f_one = 0\n",
        "est_list = []\n",
        "depth_list = []\n",
        "f_one_list = []\n",
        "for est in np.arange(90, 110, 1):\n",
        "    for depth in np.arange(1, 30, 1):\n",
        "        model = RandomForestClassifier(n_estimators = est, max_depth = depth, random_state=12345)\n",
        "        model.fit(features_train, target_train)\n",
        "        predicted_valid = model.predict(features_valid)\n",
        "        est_list.append(est)\n",
        "        depth_list.append(depth)\n",
        "        f_one_list.append(f1_score(target_valid, predicted_valid))\n",
        "        if f1_score(target_valid, predicted_valid) > f_one:\n",
        "            f_one = f1_score(target_valid, predicted_valid)\n",
        "            est_best = est\n",
        "            depth_best = depth\n",
        "    \n",
        "print(\"F1_best\", f_one)\n",
        "print(\"est_best\", est_best)\n",
        "print(\"depth_best\", depth_best)"
      ]
    },
    {
      "cell_type": "markdown",
      "metadata": {
        "id": "xmpqJfQfgU9w"
      },
      "source": [
        "Вывод: наивысшее значение метрики F1 получилось при обучении модели случайного леса по сравнению с логистической регрессией и деревом решений. Следовательно, далее следует использовать случайный лес"
      ]
    },
    {
      "cell_type": "markdown",
      "metadata": {
        "id": "zNVIQ3oMgU9x"
      },
      "source": [
        "## Борьба с дисбалансом"
      ]
    },
    {
      "cell_type": "markdown",
      "metadata": {
        "id": "FI7398RbgU9x"
      },
      "source": [
        "### Увеличение и уменьшение выборки\n",
        "\n",
        "В целевом показателе единиц меньше чем нулей, поэтому чтобы сбалансировать выборку следует либо увеличить количество единиц, либо уменьшить количество нулей"
      ]
    },
    {
      "cell_type": "code",
      "execution_count": null,
      "metadata": {
        "id": "VorGBWGVgU9x",
        "outputId": "96382b62-cdea-40bf-9628-821c765d19ec"
      },
      "outputs": [
        {
          "name": "stdout",
          "output_type": "stream",
          "text": [
            "f1_score: 0.6124260355029586\n"
          ]
        }
      ],
      "source": [
        "# увеличение количества единиц\n",
        "\n",
        "def upsample(features, target, repeat):\n",
        "    features_zeros = features[target == 0]\n",
        "    features_ones = features[target == 1]\n",
        "    target_zeros = target[target == 0]\n",
        "    target_ones = target[target == 1]\n",
        "\n",
        "    features_upsampled = pd.concat([features_zeros] + [features_ones] * repeat)\n",
        "    target_upsampled = pd.concat([target_zeros] + [target_ones] * repeat)\n",
        "    \n",
        "    features_upsampled, target_upsampled = shuffle(\n",
        "        features_upsampled, target_upsampled, random_state=12345)\n",
        "    \n",
        "    return features_upsampled, target_upsampled\n",
        "\n",
        "features_upsampled, target_upsampled = upsample(features_train, target_train, 3)\n",
        "\n",
        "model_upsampled = RandomForestClassifier(n_estimators = est_best, max_depth = depth_best, random_state=12345)\n",
        "model_upsampled.fit(features_upsampled, target_upsampled)\n",
        "predicted_valid = model_upsampled.predict(features_valid)\n",
        "\n",
        "print(\"f1_score:\", f1_score(target_valid, predicted_valid))"
      ]
    },
    {
      "cell_type": "code",
      "execution_count": null,
      "metadata": {
        "scrolled": true,
        "id": "9F7HMLAJgU9x",
        "outputId": "61689c80-ff31-4651-dd07-468e8fd04ae0"
      },
      "outputs": [
        {
          "name": "stdout",
          "output_type": "stream",
          "text": [
            "f1_score: 0.5782178217821783\n"
          ]
        }
      ],
      "source": [
        "# уменьшение количества нулей\n",
        "\n",
        "def downsample(features, target, fraction):\n",
        "    features_zeros = features[target == 0]\n",
        "    features_ones = features[target == 1]\n",
        "    target_zeros = target[target == 0]\n",
        "    target_ones = target[target == 1]\n",
        "\n",
        "    features_downsampled = pd.concat(\n",
        "        [features_zeros.sample(frac=fraction, random_state=12345)] + [features_ones])\n",
        "    target_downsampled = pd.concat(\n",
        "        [target_zeros.sample(frac=fraction, random_state=12345)] + [target_ones])\n",
        "    \n",
        "    features_downsampled, target_downsampled = shuffle(\n",
        "        features_downsampled, target_downsampled, random_state=12345)\n",
        "    \n",
        "    return features_downsampled, target_downsampled\n",
        "\n",
        "features_downsampled, target_downsampled = downsample(features_train, target_train, 0.26)\n",
        "\n",
        "model_downsampled = RandomForestClassifier(n_estimators = est_best, max_depth = depth_best, random_state=12345)\n",
        "model_downsampled.fit(features_downsampled, target_downsampled)\n",
        "predicted_valid = model_downsampled.predict(features_valid)\n",
        "\n",
        "print(\"f1_score:\", f1_score(target_valid, predicted_valid))"
      ]
    },
    {
      "cell_type": "markdown",
      "metadata": {
        "id": "YFa0U41zgU9x"
      },
      "source": [
        "Вывод: увеличение выборки влечёт увеличение метрики F1, следовательно, далее следует использовать увеличенную выборку"
      ]
    },
    {
      "cell_type": "code",
      "execution_count": null,
      "metadata": {
        "id": "OMt2F6lngU9y",
        "outputId": "a21b6246-5a92-42a3-920d-5158adeffee5"
      },
      "outputs": [
        {
          "name": "stdout",
          "output_type": "stream",
          "text": [
            "F1_best 0.6437086092715233\n",
            "est_best 103\n",
            "depth_best 10\n"
          ]
        }
      ],
      "source": [
        "f_one = 0\n",
        "est_list = []\n",
        "depth_list = []\n",
        "f_one_list = []\n",
        "for est in np.arange(90, 110, 1):\n",
        "    for depth in np.arange(1, 30, 1):\n",
        "        model = RandomForestClassifier(n_estimators = est, max_depth = depth, random_state=12345)\n",
        "        model.fit(features_upsampled, target_upsampled)\n",
        "        predicted_valid = model.predict(features_valid)\n",
        "        est_list.append(est)\n",
        "        depth_list.append(depth)\n",
        "        f_one_list.append(f1_score(target_valid, predicted_valid))\n",
        "        if f1_score(target_valid, predicted_valid) > f_one:\n",
        "            f_one = f1_score(target_valid, predicted_valid)\n",
        "            est_best = est\n",
        "            depth_best = depth\n",
        "    \n",
        "print(\"F1_best\", f_one)\n",
        "print(\"est_best\", est_best)\n",
        "print(\"depth_best\", depth_best)"
      ]
    },
    {
      "cell_type": "code",
      "execution_count": null,
      "metadata": {
        "id": "riXOXVmxgU9y",
        "outputId": "7a36abc0-72ed-4a4b-aaef-04d60eafb11e"
      },
      "outputs": [
        {
          "name": "stdout",
          "output_type": "stream",
          "text": [
            "f1_score: 0.6437086092715233\n"
          ]
        }
      ],
      "source": [
        "model_upsampled = RandomForestClassifier(n_estimators = est_best, max_depth = depth_best, random_state=12345)\n",
        "model_upsampled.fit(features_upsampled, target_upsampled)\n",
        "predicted_valid = model_upsampled.predict(features_valid)\n",
        "\n",
        "print(\"f1_score:\", f1_score(target_valid, predicted_valid))"
      ]
    },
    {
      "cell_type": "markdown",
      "metadata": {
        "id": "VPyI1mVJgU9z"
      },
      "source": [
        "### Изменение порога"
      ]
    },
    {
      "cell_type": "code",
      "execution_count": null,
      "metadata": {
        "scrolled": true,
        "id": "2Qy5PvkygU9z",
        "outputId": "08acd216-0211-4a02-8b7f-078fe2358629"
      },
      "outputs": [
        {
          "name": "stdout",
          "output_type": "stream",
          "text": [
            "Порог = 0.00 | Точность = 0.207, Полнота = 1.000, f1 score = 0.344\n",
            "Порог = 0.10 | Точность = 0.252, Полнота = 0.979, f1 score = 0.400\n",
            "Порог = 0.20 | Точность = 0.329, Полнота = 0.931, f1 score = 0.486\n",
            "Порог = 0.30 | Точность = 0.417, Полнота = 0.870, f1 score = 0.564\n",
            "Порог = 0.40 | Точность = 0.502, Полнота = 0.745, f1 score = 0.600\n",
            "Порог = 0.50 | Точность = 0.643, Полнота = 0.645, f1 score = 0.644\n",
            "Порог = 0.60 | Точность = 0.730, Полнота = 0.517, f1 score = 0.606\n",
            "Порог = 0.70 | Точность = 0.817, Полнота = 0.403, f1 score = 0.540\n",
            "Порог = 0.80 | Точность = 0.908, Полнота = 0.289, f1 score = 0.439\n",
            "Порог = 0.90 | Точность = 0.907, Полнота = 0.103, f1 score = 0.186\n"
          ]
        }
      ],
      "source": [
        "# изменение порога\n",
        "\n",
        "probabilities_valid = model_upsampled.predict_proba(features_valid)\n",
        "probabilities_one_valid = probabilities_valid[:, 1]\n",
        "\n",
        "for threshold in np.arange(0, 1, 0.1):\n",
        "    predicted_valid = probabilities_one_valid > threshold\n",
        "    precision = precision_score(target_valid, predicted_valid)\n",
        "    recall = recall_score(target_valid, predicted_valid)\n",
        "    \n",
        "    print(\"Порог = {:.2f} | Точность = {:.3f}, Полнота = {:.3f}, f1 score = {:.3f}\".format(\n",
        "        threshold, precision, recall, f1_score(target_valid, predicted_valid)))"
      ]
    },
    {
      "cell_type": "markdown",
      "metadata": {
        "id": "5eh3mveqgU9z"
      },
      "source": [
        "Максимальная точность, полнота и f1 достигается при пороге 0.4"
      ]
    },
    {
      "cell_type": "markdown",
      "metadata": {
        "id": "z9jmfat5gU9z"
      },
      "source": [
        "### Исследование метрики AUC ROC"
      ]
    },
    {
      "cell_type": "code",
      "execution_count": null,
      "metadata": {
        "scrolled": true,
        "id": "pUm9m97ogU9z",
        "outputId": "60ba962b-0345-48e2-b59e-d7abaece74fe"
      },
      "outputs": [
        {
          "data": {
            "image/png": "[encoded data removed]",
            "text/plain": [
              "<Figure size 432x432 with 1 Axes>"
            ]
          },
          "metadata": {
            "needs_background": "light"
          },
          "output_type": "display_data"
        }
      ],
      "source": [
        "precision, recall, thresholds = precision_recall_curve(target_valid, probabilities_valid[:, 1])\n",
        "\n",
        "plt.figure(figsize=(6, 6))\n",
        "plt.step(recall, precision, where='post')\n",
        "plt.xlabel('Recall')\n",
        "plt.ylabel('Precision')\n",
        "plt.ylim([0.0, 1.05])\n",
        "plt.xlim([0.0, 1.0])\n",
        "plt.title('Кривая Precision-Recall')\n",
        "plt.show() "
      ]
    },
    {
      "cell_type": "markdown",
      "metadata": {
        "id": "Io-TtrJ-gU90"
      },
      "source": [
        "кривая PR на графике достаточно высокая, что отражает хорошее качество модели"
      ]
    },
    {
      "cell_type": "code",
      "execution_count": null,
      "metadata": {
        "scrolled": true,
        "id": "5cEerTINgU90",
        "outputId": "e7784051-34b3-4c3c-d15a-974a3daf2a0d"
      },
      "outputs": [
        {
          "name": "stdout",
          "output_type": "stream",
          "text": [
            "AUC ROC score: 0.8672451528466268\n"
          ]
        }
      ],
      "source": [
        "auc_roc = roc_auc_score(target_valid, probabilities_one_valid)\n",
        "\n",
        "print(\"AUC ROC score:\", auc_roc)"
      ]
    },
    {
      "cell_type": "markdown",
      "metadata": {
        "id": "Md9BATz1gU90"
      },
      "source": [
        "Значение метрики AUC ROC выше F1 и 0,5 (AUC ROC случайой модели)"
      ]
    },
    {
      "cell_type": "code",
      "execution_count": null,
      "metadata": {
        "scrolled": true,
        "id": "Paa06l4igU90",
        "outputId": "53c343ae-ab43-4db5-80dd-7bc8d52693c5"
      },
      "outputs": [
        {
          "data": {
            "image/png": "[encoded data removed]",
            "text/plain": [
              "<Figure size 432x432 with 1 Axes>"
            ]
          },
          "metadata": {
            "needs_background": "light"
          },
          "output_type": "display_data"
        }
      ],
      "source": [
        "# построение графика AUC ROC\n",
        "\n",
        "fpr, tpr, thresholds = roc_curve(target_valid, probabilities_one_valid)\n",
        "\n",
        "plt.figure(figsize=(6, 6))\n",
        "plt.step(fpr, tpr, where='post')\n",
        "plt.xlabel('FPR')\n",
        "plt.ylabel('TPR')\n",
        "plt.ylim([0.0, 1.05])\n",
        "plt.xlim([0.0, 1.0])\n",
        "plt.title('Кривая ROC')\n",
        "plt.show() "
      ]
    },
    {
      "cell_type": "markdown",
      "metadata": {
        "id": "O5W1nAwjgU90"
      },
      "source": [
        "График достаточно крутой, что отражает хорошее качество модели"
      ]
    },
    {
      "cell_type": "markdown",
      "metadata": {
        "id": "L_jHJ81ZgU91"
      },
      "source": [
        "## Тестирование модели"
      ]
    },
    {
      "cell_type": "code",
      "execution_count": null,
      "metadata": {
        "id": "n0MTjAGcgU91",
        "outputId": "3ff0cddd-49d0-411a-9129-99b58ac4489d"
      },
      "outputs": [
        {
          "name": "stdout",
          "output_type": "stream",
          "text": [
            "f1_score: 0.6\n"
          ]
        }
      ],
      "source": [
        "predicted_test = model_upsampled.predict(features_test)\n",
        "\n",
        "print(\"f1_score:\", f1_score(target_test, predicted_test))"
      ]
    },
    {
      "cell_type": "code",
      "execution_count": null,
      "metadata": {
        "id": "MhlDIsoLgU91",
        "outputId": "08fc226c-0a99-4781-fc8e-2e778cdd11ce"
      },
      "outputs": [
        {
          "name": "stdout",
          "output_type": "stream",
          "text": [
            "AUC ROC score: 0.8566493552869575\n"
          ]
        }
      ],
      "source": [
        "probabilities_test = model_upsampled.predict_proba(features_test)\n",
        "probabilities_one_test = probabilities_test[:, 1]\n",
        "\n",
        "auc_roc = roc_auc_score(target_test, probabilities_one_test)\n",
        "\n",
        "print(\"AUC ROC score:\", auc_roc)"
      ]
    },
    {
      "cell_type": "code",
      "execution_count": null,
      "metadata": {
        "id": "_FpPcShTgU91",
        "outputId": "1281e179-c550-4c08-80e5-c2ed776f8a0d"
      },
      "outputs": [
        {
          "data": {
            "image/png": "[encoded data removed]",
            "text/plain": [
              "<Figure size 432x432 with 1 Axes>"
            ]
          },
          "metadata": {
            "needs_background": "light"
          },
          "output_type": "display_data"
        }
      ],
      "source": [
        "fpr, tpr, thresholds = roc_curve(target_test, probabilities_one_test)\n",
        "\n",
        "plt.figure(figsize=(6, 6))\n",
        "plt.step(fpr, tpr, where='post')\n",
        "plt.xlabel('FPR')\n",
        "plt.ylabel('TPR')\n",
        "plt.ylim([0.0, 1.05])\n",
        "plt.xlim([0.0, 1.0])\n",
        "plt.title('Кривая ROC')\n",
        "plt.show() "
      ]
    },
    {
      "cell_type": "markdown",
      "metadata": {
        "id": "ee4L5LqIgU92"
      },
      "source": [
        "Общий вывод: входные данные подготовлены: оставлены только необходимые параметры, пропуски удалены. Исследование задачи на несбалансированной выборке показало, что модель случайного леса выполняет задачу наилучшим образом. Были подобраны наилучшие гиперпараметры для модели случайного леса методом перебора. Балансировка методом увеличения изначально малочисленной выборки целевого параметра является предпочтительной в связи с высоким значением метрики F1. В итоге построена модель, прогнозирующая уход клиента из банка на основе исторических данных. Модель характеризуется метрикой F1 0.6"
      ]
    }
  ],
  "metadata": {
    "ExecuteTimeLog": [
      {
        "duration": 75,
        "start_time": "2022-04-02T17:14:14.848Z"
      },
      {
        "duration": 506,
        "start_time": "2022-04-02T17:14:16.644Z"
      },
      {
        "duration": 49,
        "start_time": "2022-04-02T17:14:19.188Z"
      },
      {
        "duration": 31,
        "start_time": "2022-04-02T17:22:07.936Z"
      },
      {
        "duration": 61,
        "start_time": "2022-04-02T17:23:25.839Z"
      },
      {
        "duration": 45,
        "start_time": "2022-04-02T17:33:02.483Z"
      },
      {
        "duration": 11,
        "start_time": "2022-04-02T17:33:31.252Z"
      },
      {
        "duration": 10,
        "start_time": "2022-04-02T17:33:37.936Z"
      },
      {
        "duration": 43,
        "start_time": "2022-04-02T17:33:49.787Z"
      },
      {
        "duration": 11,
        "start_time": "2022-04-02T17:35:14.550Z"
      },
      {
        "duration": 108,
        "start_time": "2022-04-02T17:35:31.305Z"
      },
      {
        "duration": 13,
        "start_time": "2022-04-02T17:35:34.728Z"
      },
      {
        "duration": 22,
        "start_time": "2022-04-02T17:35:44.965Z"
      },
      {
        "duration": 10,
        "start_time": "2022-04-02T17:35:52.237Z"
      },
      {
        "duration": 4,
        "start_time": "2022-04-02T17:39:33.472Z"
      },
      {
        "duration": 20,
        "start_time": "2022-04-02T17:39:35.896Z"
      },
      {
        "duration": 33,
        "start_time": "2022-04-02T17:43:38.314Z"
      },
      {
        "duration": 20,
        "start_time": "2022-04-02T17:43:47.352Z"
      },
      {
        "duration": 7,
        "start_time": "2022-04-02T17:43:53.947Z"
      },
      {
        "duration": 18,
        "start_time": "2022-04-02T17:43:56.637Z"
      },
      {
        "duration": 64,
        "start_time": "2022-04-02T17:44:03.862Z"
      },
      {
        "duration": 8,
        "start_time": "2022-04-02T17:44:14.649Z"
      },
      {
        "duration": 9,
        "start_time": "2022-04-02T17:49:40.056Z"
      },
      {
        "duration": 12,
        "start_time": "2022-04-02T17:50:26.798Z"
      },
      {
        "duration": 11,
        "start_time": "2022-04-02T17:51:05.133Z"
      },
      {
        "duration": 17,
        "start_time": "2022-04-02T17:52:20.498Z"
      },
      {
        "duration": 35,
        "start_time": "2022-04-02T17:53:11.025Z"
      },
      {
        "duration": 12,
        "start_time": "2022-04-02T17:53:25.548Z"
      },
      {
        "duration": 5,
        "start_time": "2022-04-02T17:53:27.167Z"
      },
      {
        "duration": 33,
        "start_time": "2022-04-02T17:53:49.060Z"
      },
      {
        "duration": 1273,
        "start_time": "2022-04-02T17:55:23.325Z"
      },
      {
        "duration": 462,
        "start_time": "2022-04-02T17:55:31.369Z"
      },
      {
        "duration": 1307,
        "start_time": "2022-04-02T17:57:37.031Z"
      },
      {
        "duration": 4,
        "start_time": "2022-04-02T17:59:12.003Z"
      },
      {
        "duration": 1429,
        "start_time": "2022-04-02T17:59:24.401Z"
      },
      {
        "duration": 504,
        "start_time": "2022-04-02T18:02:59.093Z"
      },
      {
        "duration": 32,
        "start_time": "2022-04-02T18:07:18.891Z"
      },
      {
        "duration": 96,
        "start_time": "2022-04-02T18:08:41.854Z"
      },
      {
        "duration": 23,
        "start_time": "2022-04-02T18:09:05.064Z"
      },
      {
        "duration": 21,
        "start_time": "2022-04-02T18:09:15.839Z"
      },
      {
        "duration": 21,
        "start_time": "2022-04-02T18:14:33.443Z"
      },
      {
        "duration": 24,
        "start_time": "2022-04-02T18:14:46.561Z"
      },
      {
        "duration": 5,
        "start_time": "2022-04-02T18:15:37.193Z"
      },
      {
        "duration": 13,
        "start_time": "2022-04-02T18:16:02.579Z"
      },
      {
        "duration": 11,
        "start_time": "2022-04-02T18:17:26.965Z"
      },
      {
        "duration": 10,
        "start_time": "2022-04-02T18:18:11.798Z"
      },
      {
        "duration": 11,
        "start_time": "2022-04-02T18:18:19.688Z"
      },
      {
        "duration": 12,
        "start_time": "2022-04-02T18:18:31.650Z"
      },
      {
        "duration": 11,
        "start_time": "2022-04-02T18:18:46.399Z"
      },
      {
        "duration": 5,
        "start_time": "2022-04-02T18:18:53.248Z"
      },
      {
        "duration": 77,
        "start_time": "2022-04-02T18:18:53.255Z"
      },
      {
        "duration": 5,
        "start_time": "2022-04-02T18:18:53.335Z"
      },
      {
        "duration": 8,
        "start_time": "2022-04-02T18:18:53.342Z"
      },
      {
        "duration": 35,
        "start_time": "2022-04-02T18:18:53.352Z"
      },
      {
        "duration": 15,
        "start_time": "2022-04-02T18:18:56.250Z"
      },
      {
        "duration": 15,
        "start_time": "2022-04-02T18:19:05.201Z"
      },
      {
        "duration": 6,
        "start_time": "2022-04-02T18:19:58.401Z"
      },
      {
        "duration": 22,
        "start_time": "2022-04-02T18:20:17.870Z"
      },
      {
        "duration": 4,
        "start_time": "2022-04-02T18:20:25.388Z"
      },
      {
        "duration": 52,
        "start_time": "2022-04-02T18:20:25.395Z"
      },
      {
        "duration": 4,
        "start_time": "2022-04-02T18:20:25.450Z"
      },
      {
        "duration": 9,
        "start_time": "2022-04-02T18:20:25.457Z"
      },
      {
        "duration": 24,
        "start_time": "2022-04-02T18:20:25.473Z"
      },
      {
        "duration": 6,
        "start_time": "2022-04-02T18:20:27.187Z"
      },
      {
        "duration": 62,
        "start_time": "2022-04-02T18:20:28.766Z"
      },
      {
        "duration": 15,
        "start_time": "2022-04-02T18:20:33.945Z"
      },
      {
        "duration": 8,
        "start_time": "2022-04-02T18:20:37.607Z"
      },
      {
        "duration": 5,
        "start_time": "2022-04-02T18:20:39.418Z"
      },
      {
        "duration": 13,
        "start_time": "2022-04-02T18:20:49.635Z"
      },
      {
        "duration": 12,
        "start_time": "2022-04-02T18:21:26.751Z"
      },
      {
        "duration": 6,
        "start_time": "2022-04-02T18:21:40.065Z"
      },
      {
        "duration": 1637,
        "start_time": "2022-04-02T18:21:46.436Z"
      },
      {
        "duration": 1478,
        "start_time": "2022-04-02T18:22:01.383Z"
      },
      {
        "duration": 5,
        "start_time": "2022-04-02T18:22:05.736Z"
      },
      {
        "duration": 58,
        "start_time": "2022-04-02T18:22:05.743Z"
      },
      {
        "duration": 4,
        "start_time": "2022-04-02T18:22:05.804Z"
      },
      {
        "duration": 19,
        "start_time": "2022-04-02T18:22:05.810Z"
      },
      {
        "duration": 19,
        "start_time": "2022-04-02T18:22:05.832Z"
      },
      {
        "duration": 40,
        "start_time": "2022-04-02T18:22:05.853Z"
      },
      {
        "duration": 62,
        "start_time": "2022-04-02T18:22:05.895Z"
      },
      {
        "duration": 8,
        "start_time": "2022-04-02T18:22:05.959Z"
      },
      {
        "duration": 27,
        "start_time": "2022-04-02T18:22:05.969Z"
      },
      {
        "duration": 6,
        "start_time": "2022-04-02T18:22:05.998Z"
      },
      {
        "duration": 19,
        "start_time": "2022-04-02T18:22:09.470Z"
      },
      {
        "duration": 14,
        "start_time": "2022-04-02T18:22:11.907Z"
      },
      {
        "duration": 1493,
        "start_time": "2022-04-02T18:22:16.646Z"
      },
      {
        "duration": 12,
        "start_time": "2022-04-02T18:25:56.531Z"
      },
      {
        "duration": 12,
        "start_time": "2022-04-02T18:26:18.363Z"
      },
      {
        "duration": 1951,
        "start_time": "2022-04-02T18:26:23.731Z"
      },
      {
        "duration": 5,
        "start_time": "2022-04-02T18:27:02.284Z"
      },
      {
        "duration": 1927,
        "start_time": "2022-04-02T18:27:04.357Z"
      },
      {
        "duration": 231,
        "start_time": "2022-04-02T18:28:04.457Z"
      },
      {
        "duration": 40,
        "start_time": "2022-04-02T18:28:26.354Z"
      },
      {
        "duration": 5,
        "start_time": "2022-04-02T18:28:54.359Z"
      },
      {
        "duration": 50,
        "start_time": "2022-04-02T18:28:54.366Z"
      },
      {
        "duration": 4,
        "start_time": "2022-04-02T18:28:54.419Z"
      },
      {
        "duration": 10,
        "start_time": "2022-04-02T18:28:54.425Z"
      },
      {
        "duration": 50,
        "start_time": "2022-04-02T18:28:54.437Z"
      },
      {
        "duration": 6,
        "start_time": "2022-04-02T18:28:54.489Z"
      },
      {
        "duration": 57,
        "start_time": "2022-04-02T18:28:54.497Z"
      },
      {
        "duration": 19,
        "start_time": "2022-04-02T18:28:54.556Z"
      },
      {
        "duration": 11,
        "start_time": "2022-04-02T18:28:54.577Z"
      },
      {
        "duration": 7,
        "start_time": "2022-04-02T18:28:54.591Z"
      },
      {
        "duration": 12,
        "start_time": "2022-04-02T18:28:54.601Z"
      },
      {
        "duration": 12,
        "start_time": "2022-04-02T18:28:54.615Z"
      },
      {
        "duration": 47,
        "start_time": "2022-04-02T18:28:54.629Z"
      },
      {
        "duration": 1946,
        "start_time": "2022-04-02T18:28:54.679Z"
      },
      {
        "duration": 101,
        "start_time": "2022-04-02T18:28:58.891Z"
      },
      {
        "duration": 19,
        "start_time": "2022-04-02T18:29:17.491Z"
      },
      {
        "duration": 6,
        "start_time": "2022-04-02T18:29:52.553Z"
      },
      {
        "duration": 5,
        "start_time": "2022-04-02T18:30:04.419Z"
      },
      {
        "duration": 147,
        "start_time": "2022-04-02T18:30:17.527Z"
      },
      {
        "duration": 4,
        "start_time": "2022-04-02T18:30:20.723Z"
      },
      {
        "duration": 5,
        "start_time": "2022-04-02T18:30:43.639Z"
      },
      {
        "duration": 176,
        "start_time": "2022-04-02T18:30:49.611Z"
      },
      {
        "duration": 239,
        "start_time": "2022-04-02T18:31:04.555Z"
      },
      {
        "duration": 5,
        "start_time": "2022-04-02T18:33:30.721Z"
      },
      {
        "duration": 661,
        "start_time": "2022-04-02T18:33:36.331Z"
      },
      {
        "duration": 1295,
        "start_time": "2022-04-02T18:33:50.790Z"
      },
      {
        "duration": 4,
        "start_time": "2022-04-02T18:41:12.760Z"
      },
      {
        "duration": 49,
        "start_time": "2022-04-02T18:41:12.767Z"
      },
      {
        "duration": 4,
        "start_time": "2022-04-02T18:41:12.818Z"
      },
      {
        "duration": 7,
        "start_time": "2022-04-02T18:41:12.824Z"
      },
      {
        "duration": 46,
        "start_time": "2022-04-02T18:41:12.834Z"
      },
      {
        "duration": 8,
        "start_time": "2022-04-02T18:41:12.882Z"
      },
      {
        "duration": 66,
        "start_time": "2022-04-02T18:41:12.894Z"
      },
      {
        "duration": 11,
        "start_time": "2022-04-02T18:41:12.980Z"
      },
      {
        "duration": 9,
        "start_time": "2022-04-02T18:41:12.993Z"
      },
      {
        "duration": 5,
        "start_time": "2022-04-02T18:41:13.005Z"
      },
      {
        "duration": 13,
        "start_time": "2022-04-02T18:41:13.012Z"
      },
      {
        "duration": 48,
        "start_time": "2022-04-02T18:41:13.028Z"
      },
      {
        "duration": 7,
        "start_time": "2022-04-02T18:41:13.086Z"
      },
      {
        "duration": 2185,
        "start_time": "2022-04-02T18:41:13.095Z"
      },
      {
        "duration": 134,
        "start_time": "2022-04-02T18:41:17.554Z"
      },
      {
        "duration": 5,
        "start_time": "2022-04-02T18:47:26.942Z"
      },
      {
        "duration": 51,
        "start_time": "2022-04-02T18:47:26.950Z"
      },
      {
        "duration": 5,
        "start_time": "2022-04-02T18:47:27.003Z"
      },
      {
        "duration": 13,
        "start_time": "2022-04-02T18:47:27.010Z"
      },
      {
        "duration": 26,
        "start_time": "2022-04-02T18:47:27.025Z"
      },
      {
        "duration": 6,
        "start_time": "2022-04-02T18:47:29.247Z"
      },
      {
        "duration": 55,
        "start_time": "2022-04-02T18:47:31.400Z"
      },
      {
        "duration": 221,
        "start_time": "2022-04-02T18:50:53.136Z"
      },
      {
        "duration": 210,
        "start_time": "2022-04-02T18:50:57.916Z"
      },
      {
        "duration": 385,
        "start_time": "2022-04-02T18:51:11.003Z"
      },
      {
        "duration": 10,
        "start_time": "2022-04-02T18:52:48.974Z"
      },
      {
        "duration": 10,
        "start_time": "2022-04-02T18:53:08.794Z"
      },
      {
        "duration": 17,
        "start_time": "2022-04-02T18:53:46.436Z"
      },
      {
        "duration": 135,
        "start_time": "2022-04-02T18:53:59.389Z"
      },
      {
        "duration": 13,
        "start_time": "2022-04-02T18:54:05.078Z"
      },
      {
        "duration": 11,
        "start_time": "2022-04-02T18:54:13.823Z"
      },
      {
        "duration": 13,
        "start_time": "2022-04-02T18:54:26.975Z"
      },
      {
        "duration": 10,
        "start_time": "2022-04-02T18:54:45.252Z"
      },
      {
        "duration": 8,
        "start_time": "2022-04-02T18:55:02.955Z"
      },
      {
        "duration": 9,
        "start_time": "2022-04-02T18:55:10.308Z"
      },
      {
        "duration": 5,
        "start_time": "2022-04-02T18:55:56.351Z"
      },
      {
        "duration": 71,
        "start_time": "2022-04-02T18:55:56.359Z"
      },
      {
        "duration": 5,
        "start_time": "2022-04-02T18:55:56.432Z"
      },
      {
        "duration": 30,
        "start_time": "2022-04-02T18:55:56.440Z"
      },
      {
        "duration": 39,
        "start_time": "2022-04-02T18:55:56.472Z"
      },
      {
        "duration": 78,
        "start_time": "2022-04-02T18:55:56.513Z"
      },
      {
        "duration": 411,
        "start_time": "2022-04-02T18:55:56.593Z"
      },
      {
        "duration": 9,
        "start_time": "2022-04-02T18:55:57.006Z"
      },
      {
        "duration": 30,
        "start_time": "2022-04-02T18:55:57.018Z"
      },
      {
        "duration": 28,
        "start_time": "2022-04-02T18:55:57.050Z"
      },
      {
        "duration": 36,
        "start_time": "2022-04-02T18:55:57.082Z"
      },
      {
        "duration": 21,
        "start_time": "2022-04-02T18:55:57.120Z"
      },
      {
        "duration": 26,
        "start_time": "2022-04-02T18:55:57.143Z"
      },
      {
        "duration": 53,
        "start_time": "2022-04-02T18:55:57.172Z"
      },
      {
        "duration": 17,
        "start_time": "2022-04-02T18:55:57.227Z"
      },
      {
        "duration": 1545,
        "start_time": "2022-04-02T18:55:57.246Z"
      },
      {
        "duration": 192,
        "start_time": "2022-04-02T18:56:01.987Z"
      },
      {
        "duration": 81,
        "start_time": "2022-04-02T18:56:56.351Z"
      },
      {
        "duration": 214,
        "start_time": "2022-04-02T18:57:20.563Z"
      },
      {
        "duration": 139,
        "start_time": "2022-04-02T18:57:52.844Z"
      },
      {
        "duration": 83,
        "start_time": "2022-04-02T18:59:52.623Z"
      },
      {
        "duration": 5,
        "start_time": "2022-04-02T19:00:16.310Z"
      },
      {
        "duration": 226,
        "start_time": "2022-04-02T19:00:23.262Z"
      },
      {
        "duration": 196,
        "start_time": "2022-04-02T19:11:25.999Z"
      },
      {
        "duration": 157,
        "start_time": "2022-04-02T19:11:38.725Z"
      },
      {
        "duration": 126,
        "start_time": "2022-04-02T19:12:13.160Z"
      },
      {
        "duration": 140,
        "start_time": "2022-04-02T19:12:24.634Z"
      },
      {
        "duration": 238,
        "start_time": "2022-04-02T19:13:02.438Z"
      },
      {
        "duration": 283,
        "start_time": "2022-04-02T19:13:42.009Z"
      },
      {
        "duration": 184,
        "start_time": "2022-04-02T19:14:08.991Z"
      },
      {
        "duration": 167,
        "start_time": "2022-04-02T19:14:34.921Z"
      },
      {
        "duration": 202,
        "start_time": "2022-04-02T19:14:53.087Z"
      },
      {
        "duration": 141,
        "start_time": "2022-04-02T19:15:07.651Z"
      },
      {
        "duration": 104,
        "start_time": "2022-04-02T19:15:27.488Z"
      },
      {
        "duration": 215,
        "start_time": "2022-04-02T19:21:00.975Z"
      },
      {
        "duration": 146,
        "start_time": "2022-04-02T19:24:42.441Z"
      },
      {
        "duration": 152,
        "start_time": "2022-04-02T19:25:04.436Z"
      },
      {
        "duration": 73,
        "start_time": "2022-04-02T19:25:07.850Z"
      },
      {
        "duration": 98,
        "start_time": "2022-04-02T19:25:13.587Z"
      },
      {
        "duration": 91,
        "start_time": "2022-04-02T19:26:02.688Z"
      },
      {
        "duration": 111,
        "start_time": "2022-04-02T19:26:07.982Z"
      },
      {
        "duration": 184,
        "start_time": "2022-04-02T19:26:39.000Z"
      },
      {
        "duration": 153,
        "start_time": "2022-04-02T19:27:37.025Z"
      },
      {
        "duration": 76,
        "start_time": "2022-04-02T19:33:50.908Z"
      },
      {
        "duration": 5,
        "start_time": "2022-04-02T19:33:57.713Z"
      },
      {
        "duration": 58,
        "start_time": "2022-04-02T19:33:57.720Z"
      },
      {
        "duration": 5,
        "start_time": "2022-04-02T19:33:57.781Z"
      },
      {
        "duration": 11,
        "start_time": "2022-04-02T19:33:57.788Z"
      },
      {
        "duration": 19,
        "start_time": "2022-04-02T19:33:57.802Z"
      },
      {
        "duration": 86,
        "start_time": "2022-04-02T19:33:57.823Z"
      },
      {
        "duration": 541,
        "start_time": "2022-04-02T19:33:57.911Z"
      },
      {
        "duration": 23,
        "start_time": "2022-04-02T19:33:58.455Z"
      },
      {
        "duration": 14,
        "start_time": "2022-04-02T19:33:58.480Z"
      },
      {
        "duration": 11,
        "start_time": "2022-04-02T19:33:58.497Z"
      },
      {
        "duration": 11,
        "start_time": "2022-04-02T19:33:58.511Z"
      },
      {
        "duration": 5,
        "start_time": "2022-04-02T19:33:58.524Z"
      },
      {
        "duration": 52,
        "start_time": "2022-04-02T19:33:58.531Z"
      },
      {
        "duration": 23,
        "start_time": "2022-04-02T19:33:58.586Z"
      },
      {
        "duration": 4,
        "start_time": "2022-04-02T19:33:58.613Z"
      },
      {
        "duration": 1707,
        "start_time": "2022-04-02T19:33:58.620Z"
      },
      {
        "duration": 148,
        "start_time": "2022-04-02T19:34:02.226Z"
      },
      {
        "duration": 1706,
        "start_time": "2022-04-03T08:54:51.182Z"
      },
      {
        "duration": 52,
        "start_time": "2022-04-03T08:54:52.890Z"
      },
      {
        "duration": 3,
        "start_time": "2022-04-03T08:54:52.944Z"
      },
      {
        "duration": 16,
        "start_time": "2022-04-03T08:54:52.949Z"
      },
      {
        "duration": 18,
        "start_time": "2022-04-03T08:54:52.968Z"
      },
      {
        "duration": 55,
        "start_time": "2022-04-03T08:54:52.988Z"
      },
      {
        "duration": 278,
        "start_time": "2022-04-03T08:54:53.045Z"
      },
      {
        "duration": 11,
        "start_time": "2022-04-03T08:54:53.325Z"
      },
      {
        "duration": 10,
        "start_time": "2022-04-03T08:54:53.338Z"
      },
      {
        "duration": 4,
        "start_time": "2022-04-03T08:54:53.350Z"
      },
      {
        "duration": 17,
        "start_time": "2022-04-03T08:54:53.356Z"
      },
      {
        "duration": 6,
        "start_time": "2022-04-03T08:54:53.375Z"
      },
      {
        "duration": 16,
        "start_time": "2022-04-03T08:54:53.382Z"
      },
      {
        "duration": 11,
        "start_time": "2022-04-03T08:54:53.401Z"
      },
      {
        "duration": 19,
        "start_time": "2022-04-03T08:54:53.413Z"
      },
      {
        "duration": 1103,
        "start_time": "2022-04-03T08:54:53.433Z"
      },
      {
        "duration": 282,
        "start_time": "2022-04-03T08:54:57.656Z"
      },
      {
        "duration": 40,
        "start_time": "2022-04-03T08:55:08.311Z"
      },
      {
        "duration": 4,
        "start_time": "2022-04-03T09:10:21.745Z"
      },
      {
        "duration": 126,
        "start_time": "2022-04-03T09:10:21.751Z"
      },
      {
        "duration": 3,
        "start_time": "2022-04-03T09:10:21.878Z"
      },
      {
        "duration": 10,
        "start_time": "2022-04-03T09:10:21.883Z"
      },
      {
        "duration": 15,
        "start_time": "2022-04-03T09:10:21.896Z"
      },
      {
        "duration": 51,
        "start_time": "2022-04-03T09:10:21.913Z"
      },
      {
        "duration": 257,
        "start_time": "2022-04-03T09:10:21.966Z"
      },
      {
        "duration": 7,
        "start_time": "2022-04-03T09:10:22.231Z"
      },
      {
        "duration": 6,
        "start_time": "2022-04-03T09:10:22.239Z"
      },
      {
        "duration": 9,
        "start_time": "2022-04-03T09:10:22.246Z"
      },
      {
        "duration": 10,
        "start_time": "2022-04-03T09:10:22.257Z"
      },
      {
        "duration": 8,
        "start_time": "2022-04-03T09:10:22.268Z"
      },
      {
        "duration": 14,
        "start_time": "2022-04-03T09:10:22.278Z"
      },
      {
        "duration": 10,
        "start_time": "2022-04-03T09:10:22.295Z"
      },
      {
        "duration": 2,
        "start_time": "2022-04-03T09:10:22.307Z"
      },
      {
        "duration": 1054,
        "start_time": "2022-04-03T09:10:22.331Z"
      },
      {
        "duration": 53,
        "start_time": "2022-04-03T09:10:23.387Z"
      },
      {
        "duration": 222,
        "start_time": "2022-04-03T09:10:23.443Z"
      },
      {
        "duration": 6,
        "start_time": "2022-04-03T09:10:25.953Z"
      },
      {
        "duration": 6,
        "start_time": "2022-04-03T09:10:42.603Z"
      },
      {
        "duration": 4,
        "start_time": "2022-04-03T09:50:34.923Z"
      },
      {
        "duration": 72,
        "start_time": "2022-04-03T09:50:34.929Z"
      },
      {
        "duration": 3,
        "start_time": "2022-04-03T09:50:35.003Z"
      },
      {
        "duration": 19,
        "start_time": "2022-04-03T09:50:35.008Z"
      },
      {
        "duration": 41,
        "start_time": "2022-04-03T09:50:35.030Z"
      },
      {
        "duration": 58,
        "start_time": "2022-04-03T09:50:35.073Z"
      },
      {
        "duration": 268,
        "start_time": "2022-04-03T09:50:35.132Z"
      },
      {
        "duration": 8,
        "start_time": "2022-04-03T09:50:35.401Z"
      },
      {
        "duration": 25,
        "start_time": "2022-04-03T09:50:35.411Z"
      },
      {
        "duration": 15,
        "start_time": "2022-04-03T09:50:35.438Z"
      },
      {
        "duration": 32,
        "start_time": "2022-04-03T09:50:35.455Z"
      },
      {
        "duration": 13,
        "start_time": "2022-04-03T09:50:35.490Z"
      },
      {
        "duration": 16,
        "start_time": "2022-04-03T09:50:35.505Z"
      },
      {
        "duration": 25,
        "start_time": "2022-04-03T09:50:35.524Z"
      },
      {
        "duration": 15,
        "start_time": "2022-04-03T09:50:35.551Z"
      },
      {
        "duration": 1137,
        "start_time": "2022-04-03T09:50:35.568Z"
      },
      {
        "duration": 8,
        "start_time": "2022-04-03T09:50:36.707Z"
      },
      {
        "duration": 35,
        "start_time": "2022-04-03T09:50:36.716Z"
      },
      {
        "duration": 88,
        "start_time": "2022-04-03T09:50:36.753Z"
      },
      {
        "duration": 136,
        "start_time": "2022-04-03T09:50:36.843Z"
      },
      {
        "duration": 199,
        "start_time": "2022-04-03T09:51:16.434Z"
      },
      {
        "duration": 179,
        "start_time": "2022-04-03T09:51:20.253Z"
      },
      {
        "duration": 174,
        "start_time": "2022-04-03T09:51:30.230Z"
      },
      {
        "duration": 73,
        "start_time": "2022-04-03T09:51:55.066Z"
      },
      {
        "duration": 50,
        "start_time": "2022-04-03T09:52:41.855Z"
      },
      {
        "duration": 2,
        "start_time": "2022-04-03T09:54:16.371Z"
      },
      {
        "duration": 21,
        "start_time": "2022-04-03T10:26:47.750Z"
      },
      {
        "duration": 23,
        "start_time": "2022-04-03T10:26:58.675Z"
      },
      {
        "duration": 5,
        "start_time": "2022-04-03T10:34:57.037Z"
      },
      {
        "duration": 45,
        "start_time": "2022-04-03T10:34:57.044Z"
      },
      {
        "duration": 3,
        "start_time": "2022-04-03T10:34:57.091Z"
      },
      {
        "duration": 7,
        "start_time": "2022-04-03T10:34:57.096Z"
      },
      {
        "duration": 16,
        "start_time": "2022-04-03T10:34:57.105Z"
      },
      {
        "duration": 41,
        "start_time": "2022-04-03T10:34:57.132Z"
      },
      {
        "duration": 268,
        "start_time": "2022-04-03T10:34:57.175Z"
      },
      {
        "duration": 7,
        "start_time": "2022-04-03T10:34:57.445Z"
      },
      {
        "duration": 8,
        "start_time": "2022-04-03T10:34:57.453Z"
      },
      {
        "duration": 6,
        "start_time": "2022-04-03T10:34:57.462Z"
      },
      {
        "duration": 10,
        "start_time": "2022-04-03T10:34:57.469Z"
      },
      {
        "duration": 4,
        "start_time": "2022-04-03T10:34:57.481Z"
      },
      {
        "duration": 9,
        "start_time": "2022-04-03T10:34:57.487Z"
      },
      {
        "duration": 37,
        "start_time": "2022-04-03T10:34:57.499Z"
      },
      {
        "duration": 704,
        "start_time": "2022-04-03T10:34:57.538Z"
      },
      {
        "duration": 0,
        "start_time": "2022-04-03T10:34:58.244Z"
      },
      {
        "duration": 0,
        "start_time": "2022-04-03T10:34:58.245Z"
      },
      {
        "duration": 0,
        "start_time": "2022-04-03T10:34:58.246Z"
      },
      {
        "duration": 0,
        "start_time": "2022-04-03T10:34:58.247Z"
      },
      {
        "duration": 0,
        "start_time": "2022-04-03T10:34:58.249Z"
      },
      {
        "duration": 0,
        "start_time": "2022-04-03T10:34:58.250Z"
      },
      {
        "duration": 0,
        "start_time": "2022-04-03T10:34:58.251Z"
      },
      {
        "duration": 0,
        "start_time": "2022-04-03T10:34:58.252Z"
      },
      {
        "duration": 44,
        "start_time": "2022-04-03T10:35:07.487Z"
      },
      {
        "duration": 28,
        "start_time": "2022-04-03T10:35:19.364Z"
      },
      {
        "duration": 1515,
        "start_time": "2022-04-03T10:38:46.192Z"
      },
      {
        "duration": 42,
        "start_time": "2022-04-03T10:38:47.709Z"
      },
      {
        "duration": 3,
        "start_time": "2022-04-03T10:38:47.754Z"
      },
      {
        "duration": 7,
        "start_time": "2022-04-03T10:38:47.760Z"
      },
      {
        "duration": 25,
        "start_time": "2022-04-03T10:38:47.768Z"
      },
      {
        "duration": 56,
        "start_time": "2022-04-03T10:38:47.795Z"
      },
      {
        "duration": 298,
        "start_time": "2022-04-03T10:38:47.853Z"
      },
      {
        "duration": 8,
        "start_time": "2022-04-03T10:38:48.152Z"
      },
      {
        "duration": 10,
        "start_time": "2022-04-03T10:38:48.162Z"
      },
      {
        "duration": 5,
        "start_time": "2022-04-03T10:38:48.175Z"
      },
      {
        "duration": 12,
        "start_time": "2022-04-03T10:38:48.182Z"
      },
      {
        "duration": 5,
        "start_time": "2022-04-03T10:38:48.196Z"
      },
      {
        "duration": 38,
        "start_time": "2022-04-03T10:38:48.203Z"
      },
      {
        "duration": 8,
        "start_time": "2022-04-03T10:38:48.243Z"
      },
      {
        "duration": 790,
        "start_time": "2022-04-03T10:38:48.253Z"
      },
      {
        "duration": 0,
        "start_time": "2022-04-03T10:38:49.045Z"
      },
      {
        "duration": 0,
        "start_time": "2022-04-03T10:38:49.046Z"
      },
      {
        "duration": 0,
        "start_time": "2022-04-03T10:38:49.047Z"
      },
      {
        "duration": 0,
        "start_time": "2022-04-03T10:38:49.048Z"
      },
      {
        "duration": 0,
        "start_time": "2022-04-03T10:38:49.049Z"
      },
      {
        "duration": 0,
        "start_time": "2022-04-03T10:38:49.050Z"
      },
      {
        "duration": 0,
        "start_time": "2022-04-03T10:38:49.051Z"
      },
      {
        "duration": 0,
        "start_time": "2022-04-03T10:38:49.052Z"
      },
      {
        "duration": 0,
        "start_time": "2022-04-03T10:38:49.053Z"
      },
      {
        "duration": 3,
        "start_time": "2022-04-03T10:39:08.425Z"
      },
      {
        "duration": 1599,
        "start_time": "2022-04-03T10:39:17.415Z"
      },
      {
        "duration": 53,
        "start_time": "2022-04-03T10:39:19.016Z"
      },
      {
        "duration": 4,
        "start_time": "2022-04-03T10:39:19.070Z"
      },
      {
        "duration": 9,
        "start_time": "2022-04-03T10:39:19.075Z"
      },
      {
        "duration": 21,
        "start_time": "2022-04-03T10:39:19.086Z"
      },
      {
        "duration": 55,
        "start_time": "2022-04-03T10:39:19.110Z"
      },
      {
        "duration": 283,
        "start_time": "2022-04-03T10:39:19.166Z"
      },
      {
        "duration": 7,
        "start_time": "2022-04-03T10:39:19.450Z"
      },
      {
        "duration": 10,
        "start_time": "2022-04-03T10:39:19.459Z"
      },
      {
        "duration": 4,
        "start_time": "2022-04-03T10:39:19.471Z"
      },
      {
        "duration": 11,
        "start_time": "2022-04-03T10:39:19.477Z"
      },
      {
        "duration": 5,
        "start_time": "2022-04-03T10:39:19.489Z"
      },
      {
        "duration": 37,
        "start_time": "2022-04-03T10:39:19.495Z"
      },
      {
        "duration": 8,
        "start_time": "2022-04-03T10:39:19.535Z"
      },
      {
        "duration": 3,
        "start_time": "2022-04-03T10:39:19.545Z"
      },
      {
        "duration": 906,
        "start_time": "2022-04-03T10:39:19.550Z"
      },
      {
        "duration": 9,
        "start_time": "2022-04-03T10:39:20.458Z"
      },
      {
        "duration": 23,
        "start_time": "2022-04-03T10:39:20.469Z"
      },
      {
        "duration": 126,
        "start_time": "2022-04-03T10:39:20.494Z"
      },
      {
        "duration": 0,
        "start_time": "2022-04-03T10:39:20.622Z"
      },
      {
        "duration": 0,
        "start_time": "2022-04-03T10:39:20.623Z"
      },
      {
        "duration": 0,
        "start_time": "2022-04-03T10:39:20.624Z"
      },
      {
        "duration": 0,
        "start_time": "2022-04-03T10:39:20.625Z"
      },
      {
        "duration": 0,
        "start_time": "2022-04-03T10:39:20.631Z"
      },
      {
        "duration": 13,
        "start_time": "2022-04-03T10:42:40.627Z"
      },
      {
        "duration": 1192,
        "start_time": "2022-04-03T10:42:44.334Z"
      },
      {
        "duration": 1608,
        "start_time": "2022-04-03T10:43:09.200Z"
      },
      {
        "duration": 43,
        "start_time": "2022-04-03T10:43:10.810Z"
      },
      {
        "duration": 4,
        "start_time": "2022-04-03T10:43:10.854Z"
      },
      {
        "duration": 8,
        "start_time": "2022-04-03T10:43:10.860Z"
      },
      {
        "duration": 19,
        "start_time": "2022-04-03T10:43:10.871Z"
      },
      {
        "duration": 70,
        "start_time": "2022-04-03T10:43:10.892Z"
      },
      {
        "duration": 289,
        "start_time": "2022-04-03T10:43:10.964Z"
      },
      {
        "duration": 8,
        "start_time": "2022-04-03T10:43:11.255Z"
      },
      {
        "duration": 8,
        "start_time": "2022-04-03T10:43:11.265Z"
      },
      {
        "duration": 4,
        "start_time": "2022-04-03T10:43:11.275Z"
      },
      {
        "duration": 10,
        "start_time": "2022-04-03T10:43:11.281Z"
      },
      {
        "duration": 4,
        "start_time": "2022-04-03T10:43:11.293Z"
      },
      {
        "duration": 14,
        "start_time": "2022-04-03T10:43:11.331Z"
      },
      {
        "duration": 2,
        "start_time": "2022-04-03T10:43:11.348Z"
      },
      {
        "duration": 12,
        "start_time": "2022-04-03T10:43:11.352Z"
      },
      {
        "duration": 1134,
        "start_time": "2022-04-03T10:43:11.366Z"
      },
      {
        "duration": 8,
        "start_time": "2022-04-03T10:43:12.502Z"
      },
      {
        "duration": 59,
        "start_time": "2022-04-03T10:43:12.512Z"
      },
      {
        "duration": 210,
        "start_time": "2022-04-03T10:43:12.573Z"
      },
      {
        "duration": 0,
        "start_time": "2022-04-03T10:43:12.785Z"
      },
      {
        "duration": 0,
        "start_time": "2022-04-03T10:43:12.786Z"
      },
      {
        "duration": 0,
        "start_time": "2022-04-03T10:43:12.787Z"
      },
      {
        "duration": 0,
        "start_time": "2022-04-03T10:43:12.788Z"
      },
      {
        "duration": 0,
        "start_time": "2022-04-03T10:43:12.789Z"
      },
      {
        "duration": 13,
        "start_time": "2022-04-03T10:45:31.861Z"
      },
      {
        "duration": 13,
        "start_time": "2022-04-03T10:47:16.559Z"
      },
      {
        "duration": 23,
        "start_time": "2022-04-03T10:47:31.995Z"
      },
      {
        "duration": 13,
        "start_time": "2022-04-03T10:48:14.918Z"
      },
      {
        "duration": 12,
        "start_time": "2022-04-03T10:48:16.936Z"
      },
      {
        "duration": 12,
        "start_time": "2022-04-03T10:48:40.757Z"
      },
      {
        "duration": 12,
        "start_time": "2022-04-03T10:48:42.160Z"
      },
      {
        "duration": 14,
        "start_time": "2022-04-03T10:49:01.020Z"
      },
      {
        "duration": 10,
        "start_time": "2022-04-03T10:49:02.676Z"
      },
      {
        "duration": 12,
        "start_time": "2022-04-03T10:49:30.932Z"
      },
      {
        "duration": 14,
        "start_time": "2022-04-03T10:49:38.646Z"
      },
      {
        "duration": 11,
        "start_time": "2022-04-03T10:49:40.225Z"
      },
      {
        "duration": 1556,
        "start_time": "2022-04-03T10:49:56.537Z"
      },
      {
        "duration": 41,
        "start_time": "2022-04-03T10:49:58.095Z"
      },
      {
        "duration": 3,
        "start_time": "2022-04-03T10:49:58.138Z"
      },
      {
        "duration": 9,
        "start_time": "2022-04-03T10:49:58.143Z"
      },
      {
        "duration": 17,
        "start_time": "2022-04-03T10:49:58.154Z"
      },
      {
        "duration": 59,
        "start_time": "2022-04-03T10:49:58.173Z"
      },
      {
        "duration": 279,
        "start_time": "2022-04-03T10:49:58.234Z"
      },
      {
        "duration": 7,
        "start_time": "2022-04-03T10:49:58.515Z"
      },
      {
        "duration": 20,
        "start_time": "2022-04-03T10:49:58.523Z"
      },
      {
        "duration": 5,
        "start_time": "2022-04-03T10:49:58.545Z"
      },
      {
        "duration": 13,
        "start_time": "2022-04-03T10:49:58.551Z"
      },
      {
        "duration": 4,
        "start_time": "2022-04-03T10:49:58.566Z"
      },
      {
        "duration": 18,
        "start_time": "2022-04-03T10:49:58.572Z"
      },
      {
        "duration": 12,
        "start_time": "2022-04-03T10:49:58.593Z"
      },
      {
        "duration": 25,
        "start_time": "2022-04-03T10:49:58.606Z"
      },
      {
        "duration": 5,
        "start_time": "2022-04-03T10:49:58.633Z"
      },
      {
        "duration": 1136,
        "start_time": "2022-04-03T10:49:58.640Z"
      },
      {
        "duration": 8,
        "start_time": "2022-04-03T10:49:59.777Z"
      },
      {
        "duration": 24,
        "start_time": "2022-04-03T10:49:59.787Z"
      },
      {
        "duration": 10,
        "start_time": "2022-04-03T10:49:59.812Z"
      },
      {
        "duration": 216,
        "start_time": "2022-04-03T10:49:59.823Z"
      },
      {
        "duration": 95,
        "start_time": "2022-04-03T10:50:00.042Z"
      },
      {
        "duration": 34,
        "start_time": "2022-04-03T10:50:00.139Z"
      },
      {
        "duration": 69,
        "start_time": "2022-04-03T10:50:00.175Z"
      },
      {
        "duration": 7,
        "start_time": "2022-04-03T10:50:00.246Z"
      },
      {
        "duration": 78,
        "start_time": "2022-04-03T10:50:00.255Z"
      },
      {
        "duration": 1924,
        "start_time": "2022-04-05T20:41:53.635Z"
      },
      {
        "duration": 49,
        "start_time": "2022-04-05T20:41:55.561Z"
      },
      {
        "duration": 3,
        "start_time": "2022-04-05T20:41:55.612Z"
      },
      {
        "duration": 5,
        "start_time": "2022-04-05T20:41:55.618Z"
      },
      {
        "duration": 21,
        "start_time": "2022-04-05T20:41:55.625Z"
      },
      {
        "duration": 38,
        "start_time": "2022-04-05T20:41:55.647Z"
      },
      {
        "duration": 385,
        "start_time": "2022-04-05T20:41:55.686Z"
      },
      {
        "duration": 7,
        "start_time": "2022-04-05T20:41:56.072Z"
      },
      {
        "duration": 7,
        "start_time": "2022-04-05T20:41:56.081Z"
      },
      {
        "duration": 4,
        "start_time": "2022-04-05T20:41:56.091Z"
      },
      {
        "duration": 13,
        "start_time": "2022-04-05T20:41:56.097Z"
      },
      {
        "duration": 3,
        "start_time": "2022-04-05T20:41:56.112Z"
      },
      {
        "duration": 48,
        "start_time": "2022-04-05T20:41:56.117Z"
      },
      {
        "duration": 11,
        "start_time": "2022-04-05T20:41:56.166Z"
      },
      {
        "duration": 7,
        "start_time": "2022-04-05T20:41:56.179Z"
      },
      {
        "duration": 9,
        "start_time": "2022-04-05T20:41:56.187Z"
      },
      {
        "duration": 1015,
        "start_time": "2022-04-05T20:41:56.197Z"
      },
      {
        "duration": 11,
        "start_time": "2022-04-05T20:41:57.215Z"
      },
      {
        "duration": 34,
        "start_time": "2022-04-05T20:41:57.228Z"
      },
      {
        "duration": 212,
        "start_time": "2022-04-05T20:41:57.265Z"
      },
      {
        "duration": 7,
        "start_time": "2022-04-05T20:41:57.564Z"
      },
      {
        "duration": 108,
        "start_time": "2022-04-05T20:41:57.573Z"
      },
      {
        "duration": 62,
        "start_time": "2022-04-05T20:41:57.683Z"
      },
      {
        "duration": 7,
        "start_time": "2022-04-05T20:41:57.762Z"
      },
      {
        "duration": 104,
        "start_time": "2022-04-05T20:41:57.771Z"
      },
      {
        "duration": 205,
        "start_time": "2022-04-05T20:41:57.964Z"
      },
      {
        "duration": 36,
        "start_time": "2022-04-05T20:48:15.682Z"
      },
      {
        "duration": 48,
        "start_time": "2022-04-05T20:48:23.299Z"
      },
      {
        "duration": 47,
        "start_time": "2022-04-05T20:48:43.894Z"
      },
      {
        "duration": 70,
        "start_time": "2022-04-05T20:48:47.595Z"
      },
      {
        "duration": 58,
        "start_time": "2022-04-05T20:48:52.035Z"
      },
      {
        "duration": 79,
        "start_time": "2022-04-05T20:49:00.426Z"
      },
      {
        "duration": 51,
        "start_time": "2022-04-05T20:49:05.702Z"
      },
      {
        "duration": 67,
        "start_time": "2022-04-05T20:49:09.639Z"
      },
      {
        "duration": 62,
        "start_time": "2022-04-05T20:49:16.886Z"
      },
      {
        "duration": 77,
        "start_time": "2022-04-05T20:49:24.365Z"
      },
      {
        "duration": 92,
        "start_time": "2022-04-05T20:49:28.020Z"
      },
      {
        "duration": 90,
        "start_time": "2022-04-05T20:49:32.244Z"
      },
      {
        "duration": 56,
        "start_time": "2022-04-05T20:49:37.612Z"
      },
      {
        "duration": 265,
        "start_time": "2022-04-05T20:52:41.123Z"
      },
      {
        "duration": 4718,
        "start_time": "2022-04-05T20:52:50.374Z"
      },
      {
        "duration": 137,
        "start_time": "2022-04-05T20:52:58.886Z"
      },
      {
        "duration": 197,
        "start_time": "2022-04-05T20:53:03.467Z"
      },
      {
        "duration": 163,
        "start_time": "2022-04-05T20:53:07.300Z"
      },
      {
        "duration": 50,
        "start_time": "2022-04-05T20:53:10.599Z"
      },
      {
        "duration": 85,
        "start_time": "2022-04-05T20:58:28.383Z"
      },
      {
        "duration": 32,
        "start_time": "2022-04-05T20:58:35.532Z"
      },
      {
        "duration": 31,
        "start_time": "2022-04-05T20:58:39.116Z"
      },
      {
        "duration": 32,
        "start_time": "2022-04-05T20:58:42.307Z"
      },
      {
        "duration": 35,
        "start_time": "2022-04-05T20:58:48.219Z"
      },
      {
        "duration": 35,
        "start_time": "2022-04-05T20:58:51.548Z"
      },
      {
        "duration": 29,
        "start_time": "2022-04-05T20:58:56.174Z"
      },
      {
        "duration": 41,
        "start_time": "2022-04-05T20:59:42.829Z"
      },
      {
        "duration": 33,
        "start_time": "2022-04-05T21:00:24.046Z"
      },
      {
        "duration": 103,
        "start_time": "2022-04-05T21:00:31.361Z"
      },
      {
        "duration": 39,
        "start_time": "2022-04-05T21:00:41.243Z"
      },
      {
        "duration": 68,
        "start_time": "2022-04-05T21:00:47.495Z"
      },
      {
        "duration": 2360,
        "start_time": "2022-04-06T04:46:29.793Z"
      },
      {
        "duration": 55,
        "start_time": "2022-04-06T04:46:32.156Z"
      },
      {
        "duration": 5,
        "start_time": "2022-04-06T04:46:32.213Z"
      },
      {
        "duration": 10,
        "start_time": "2022-04-06T04:46:32.221Z"
      },
      {
        "duration": 57,
        "start_time": "2022-04-06T04:46:32.234Z"
      },
      {
        "duration": 58,
        "start_time": "2022-04-06T04:46:32.293Z"
      },
      {
        "duration": 454,
        "start_time": "2022-04-06T04:46:32.353Z"
      },
      {
        "duration": 11,
        "start_time": "2022-04-06T04:46:32.809Z"
      },
      {
        "duration": 11,
        "start_time": "2022-04-06T04:46:32.823Z"
      },
      {
        "duration": 37,
        "start_time": "2022-04-06T04:46:32.837Z"
      },
      {
        "duration": 14,
        "start_time": "2022-04-06T04:46:32.877Z"
      },
      {
        "duration": 5,
        "start_time": "2022-04-06T04:46:32.894Z"
      },
      {
        "duration": 20,
        "start_time": "2022-04-06T04:46:32.901Z"
      },
      {
        "duration": 51,
        "start_time": "2022-04-06T04:46:32.925Z"
      },
      {
        "duration": 3,
        "start_time": "2022-04-06T04:46:32.980Z"
      },
      {
        "duration": 13,
        "start_time": "2022-04-06T04:46:32.987Z"
      },
      {
        "duration": 1707,
        "start_time": "2022-04-06T04:46:33.003Z"
      },
      {
        "duration": 10,
        "start_time": "2022-04-06T04:46:34.713Z"
      },
      {
        "duration": 38,
        "start_time": "2022-04-06T04:46:34.726Z"
      },
      {
        "duration": 218,
        "start_time": "2022-04-06T04:46:34.767Z"
      },
      {
        "duration": 88,
        "start_time": "2022-04-06T04:46:34.988Z"
      },
      {
        "duration": 44,
        "start_time": "2022-04-06T04:46:35.079Z"
      },
      {
        "duration": 86,
        "start_time": "2022-04-06T04:46:35.125Z"
      },
      {
        "duration": 9,
        "start_time": "2022-04-06T04:46:35.214Z"
      },
      {
        "duration": 154,
        "start_time": "2022-04-06T04:46:35.225Z"
      },
      {
        "duration": 194,
        "start_time": "2022-04-06T04:46:35.383Z"
      },
      {
        "duration": 217,
        "start_time": "2022-04-06T04:46:35.580Z"
      },
      {
        "duration": 279,
        "start_time": "2022-04-06T04:46:37.949Z"
      },
      {
        "duration": 475,
        "start_time": "2022-04-06T04:47:12.706Z"
      },
      {
        "duration": 299,
        "start_time": "2022-04-06T04:47:28.960Z"
      },
      {
        "duration": 527,
        "start_time": "2022-04-06T04:49:59.819Z"
      },
      {
        "duration": 9,
        "start_time": "2022-04-06T04:51:09.073Z"
      },
      {
        "duration": 54,
        "start_time": "2022-04-06T04:51:09.085Z"
      },
      {
        "duration": 4,
        "start_time": "2022-04-06T04:51:09.142Z"
      },
      {
        "duration": 9,
        "start_time": "2022-04-06T04:51:09.148Z"
      },
      {
        "duration": 23,
        "start_time": "2022-04-06T04:51:09.176Z"
      },
      {
        "duration": 75,
        "start_time": "2022-04-06T04:51:09.201Z"
      },
      {
        "duration": 420,
        "start_time": "2022-04-06T04:51:09.279Z"
      },
      {
        "duration": 9,
        "start_time": "2022-04-06T04:51:09.701Z"
      },
      {
        "duration": 9,
        "start_time": "2022-04-06T04:51:09.712Z"
      },
      {
        "duration": 9,
        "start_time": "2022-04-06T04:51:09.724Z"
      },
      {
        "duration": 39,
        "start_time": "2022-04-06T04:51:09.735Z"
      },
      {
        "duration": 8,
        "start_time": "2022-04-06T04:51:09.777Z"
      },
      {
        "duration": 20,
        "start_time": "2022-04-06T04:51:09.788Z"
      },
      {
        "duration": 16,
        "start_time": "2022-04-06T04:51:09.812Z"
      },
      {
        "duration": 4,
        "start_time": "2022-04-06T04:51:09.830Z"
      },
      {
        "duration": 37,
        "start_time": "2022-04-06T04:51:09.837Z"
      },
      {
        "duration": 1597,
        "start_time": "2022-04-06T04:51:09.877Z"
      },
      {
        "duration": 12,
        "start_time": "2022-04-06T04:51:11.477Z"
      },
      {
        "duration": 31,
        "start_time": "2022-04-06T04:51:11.491Z"
      },
      {
        "duration": 254,
        "start_time": "2022-04-06T04:51:11.524Z"
      },
      {
        "duration": 9,
        "start_time": "2022-04-06T04:51:11.781Z"
      },
      {
        "duration": 41,
        "start_time": "2022-04-06T04:51:11.793Z"
      },
      {
        "duration": 97,
        "start_time": "2022-04-06T04:51:11.836Z"
      },
      {
        "duration": 9,
        "start_time": "2022-04-06T04:51:11.935Z"
      },
      {
        "duration": 140,
        "start_time": "2022-04-06T04:51:11.946Z"
      },
      {
        "duration": 201,
        "start_time": "2022-04-06T04:51:12.174Z"
      },
      {
        "duration": 196,
        "start_time": "2022-04-06T04:51:12.378Z"
      },
      {
        "duration": 492,
        "start_time": "2022-04-06T04:51:15.386Z"
      },
      {
        "duration": 6,
        "start_time": "2022-04-06T04:57:01.410Z"
      },
      {
        "duration": 94,
        "start_time": "2022-04-06T04:57:01.419Z"
      },
      {
        "duration": 5,
        "start_time": "2022-04-06T04:57:01.516Z"
      },
      {
        "duration": 24,
        "start_time": "2022-04-06T04:57:01.524Z"
      },
      {
        "duration": 51,
        "start_time": "2022-04-06T04:57:01.552Z"
      },
      {
        "duration": 71,
        "start_time": "2022-04-06T04:57:01.606Z"
      },
      {
        "duration": 431,
        "start_time": "2022-04-06T04:57:01.681Z"
      },
      {
        "duration": 9,
        "start_time": "2022-04-06T04:57:02.115Z"
      },
      {
        "duration": 18,
        "start_time": "2022-04-06T04:57:02.127Z"
      },
      {
        "duration": 28,
        "start_time": "2022-04-06T04:57:02.148Z"
      },
      {
        "duration": 45,
        "start_time": "2022-04-06T04:57:02.179Z"
      },
      {
        "duration": 13,
        "start_time": "2022-04-06T04:57:02.227Z"
      },
      {
        "duration": 39,
        "start_time": "2022-04-06T04:57:02.242Z"
      },
      {
        "duration": 18,
        "start_time": "2022-04-06T04:57:02.286Z"
      },
      {
        "duration": 15,
        "start_time": "2022-04-06T04:57:02.306Z"
      },
      {
        "duration": 27,
        "start_time": "2022-04-06T04:57:02.324Z"
      },
      {
        "duration": 1620,
        "start_time": "2022-04-06T04:57:02.354Z"
      },
      {
        "duration": 13,
        "start_time": "2022-04-06T04:57:03.977Z"
      },
      {
        "duration": 55,
        "start_time": "2022-04-06T04:57:03.992Z"
      },
      {
        "duration": 139,
        "start_time": "2022-04-06T04:57:04.049Z"
      },
      {
        "duration": 88,
        "start_time": "2022-04-06T04:57:04.191Z"
      },
      {
        "duration": 43,
        "start_time": "2022-04-06T04:57:04.282Z"
      },
      {
        "duration": 96,
        "start_time": "2022-04-06T04:57:04.327Z"
      },
      {
        "duration": 9,
        "start_time": "2022-04-06T04:57:04.426Z"
      },
      {
        "duration": 141,
        "start_time": "2022-04-06T04:57:04.437Z"
      },
      {
        "duration": 194,
        "start_time": "2022-04-06T04:57:04.581Z"
      },
      {
        "duration": 223,
        "start_time": "2022-04-06T04:57:04.778Z"
      },
      {
        "duration": 409,
        "start_time": "2022-04-06T04:57:05.076Z"
      },
      {
        "duration": 204,
        "start_time": "2022-04-06T04:57:05.488Z"
      },
      {
        "duration": 9,
        "start_time": "2022-04-06T04:57:09.739Z"
      },
      {
        "duration": 7,
        "start_time": "2022-04-06T05:00:14.403Z"
      },
      {
        "duration": 52,
        "start_time": "2022-04-06T05:00:14.413Z"
      },
      {
        "duration": 4,
        "start_time": "2022-04-06T05:00:14.467Z"
      },
      {
        "duration": 19,
        "start_time": "2022-04-06T05:00:14.475Z"
      },
      {
        "duration": 19,
        "start_time": "2022-04-06T05:00:14.498Z"
      },
      {
        "duration": 207,
        "start_time": "2022-04-06T05:00:14.519Z"
      },
      {
        "duration": 426,
        "start_time": "2022-04-06T05:00:14.728Z"
      },
      {
        "duration": 24,
        "start_time": "2022-04-06T05:00:15.157Z"
      },
      {
        "duration": 10,
        "start_time": "2022-04-06T05:00:15.185Z"
      },
      {
        "duration": 11,
        "start_time": "2022-04-06T05:00:15.197Z"
      },
      {
        "duration": 14,
        "start_time": "2022-04-06T05:00:15.210Z"
      },
      {
        "duration": 5,
        "start_time": "2022-04-06T05:00:15.226Z"
      },
      {
        "duration": 52,
        "start_time": "2022-04-06T05:00:15.233Z"
      },
      {
        "duration": 15,
        "start_time": "2022-04-06T05:00:15.290Z"
      },
      {
        "duration": 5,
        "start_time": "2022-04-06T05:00:15.307Z"
      },
      {
        "duration": 5,
        "start_time": "2022-04-06T05:00:15.314Z"
      },
      {
        "duration": 1747,
        "start_time": "2022-04-06T05:00:15.321Z"
      },
      {
        "duration": 14,
        "start_time": "2022-04-06T05:00:17.074Z"
      },
      {
        "duration": 32,
        "start_time": "2022-04-06T05:00:17.091Z"
      },
      {
        "duration": 153,
        "start_time": "2022-04-06T05:00:17.126Z"
      },
      {
        "duration": 10,
        "start_time": "2022-04-06T05:00:17.282Z"
      },
      {
        "duration": 50,
        "start_time": "2022-04-06T05:00:17.374Z"
      },
      {
        "duration": 95,
        "start_time": "2022-04-06T05:00:17.427Z"
      },
      {
        "duration": 9,
        "start_time": "2022-04-06T05:00:17.524Z"
      },
      {
        "duration": 146,
        "start_time": "2022-04-06T05:00:17.535Z"
      },
      {
        "duration": 212,
        "start_time": "2022-04-06T05:00:17.684Z"
      },
      {
        "duration": 216,
        "start_time": "2022-04-06T05:00:17.899Z"
      },
      {
        "duration": 408,
        "start_time": "2022-04-06T05:00:18.176Z"
      },
      {
        "duration": 219,
        "start_time": "2022-04-06T05:00:18.587Z"
      },
      {
        "duration": 9,
        "start_time": "2022-04-06T05:00:18.808Z"
      },
      {
        "duration": 19,
        "start_time": "2022-04-06T05:00:21.963Z"
      },
      {
        "duration": 201,
        "start_time": "2022-04-06T05:00:41.970Z"
      },
      {
        "duration": 8,
        "start_time": "2022-04-06T05:01:55.205Z"
      },
      {
        "duration": 57,
        "start_time": "2022-04-06T18:08:26.353Z"
      },
      {
        "duration": 1593,
        "start_time": "2022-04-06T18:08:33.001Z"
      },
      {
        "duration": 33,
        "start_time": "2022-04-06T18:08:34.595Z"
      },
      {
        "duration": 4,
        "start_time": "2022-04-06T18:08:34.629Z"
      },
      {
        "duration": 16,
        "start_time": "2022-04-06T18:08:34.637Z"
      },
      {
        "duration": 20,
        "start_time": "2022-04-06T18:08:34.655Z"
      },
      {
        "duration": 37,
        "start_time": "2022-04-06T18:08:34.677Z"
      },
      {
        "duration": 258,
        "start_time": "2022-04-06T18:08:34.716Z"
      },
      {
        "duration": 6,
        "start_time": "2022-04-06T18:08:34.976Z"
      },
      {
        "duration": 6,
        "start_time": "2022-04-06T18:08:34.984Z"
      },
      {
        "duration": 3,
        "start_time": "2022-04-06T18:08:34.993Z"
      },
      {
        "duration": 9,
        "start_time": "2022-04-06T18:08:34.998Z"
      },
      {
        "duration": 28,
        "start_time": "2022-04-06T18:08:35.009Z"
      },
      {
        "duration": 18,
        "start_time": "2022-04-06T18:08:35.039Z"
      },
      {
        "duration": 13,
        "start_time": "2022-04-06T18:08:35.059Z"
      },
      {
        "duration": 6,
        "start_time": "2022-04-06T18:08:35.073Z"
      },
      {
        "duration": 1110,
        "start_time": "2022-04-06T18:08:35.080Z"
      },
      {
        "duration": 7,
        "start_time": "2022-04-06T18:08:36.191Z"
      },
      {
        "duration": 22,
        "start_time": "2022-04-06T18:08:36.200Z"
      },
      {
        "duration": 117,
        "start_time": "2022-04-06T18:08:36.224Z"
      },
      {
        "duration": 5,
        "start_time": "2022-04-06T18:08:36.343Z"
      },
      {
        "duration": 117,
        "start_time": "2022-04-06T18:08:36.350Z"
      },
      {
        "duration": 45,
        "start_time": "2022-04-06T18:08:36.468Z"
      },
      {
        "duration": 810,
        "start_time": "2022-04-06T18:08:38.665Z"
      },
      {
        "duration": 47,
        "start_time": "2022-04-06T18:21:14.094Z"
      },
      {
        "duration": 77,
        "start_time": "2022-04-06T18:21:28.108Z"
      },
      {
        "duration": 23,
        "start_time": "2022-04-06T18:21:38.731Z"
      },
      {
        "duration": 1280,
        "start_time": "2022-04-06T18:21:41.494Z"
      },
      {
        "duration": 21811,
        "start_time": "2022-04-06T18:21:51.239Z"
      },
      {
        "duration": 201386,
        "start_time": "2022-04-06T18:23:51.758Z"
      },
      {
        "duration": 4,
        "start_time": "2022-04-06T18:31:57.329Z"
      },
      {
        "duration": 43,
        "start_time": "2022-04-06T18:31:57.335Z"
      },
      {
        "duration": 3,
        "start_time": "2022-04-06T18:31:57.379Z"
      },
      {
        "duration": 8,
        "start_time": "2022-04-06T18:31:57.383Z"
      },
      {
        "duration": 14,
        "start_time": "2022-04-06T18:31:57.393Z"
      },
      {
        "duration": 40,
        "start_time": "2022-04-06T18:31:57.409Z"
      },
      {
        "duration": 228,
        "start_time": "2022-04-06T18:31:57.450Z"
      },
      {
        "duration": 6,
        "start_time": "2022-04-06T18:31:57.680Z"
      },
      {
        "duration": 5,
        "start_time": "2022-04-06T18:31:57.688Z"
      },
      {
        "duration": 7,
        "start_time": "2022-04-06T18:31:57.694Z"
      },
      {
        "duration": 18,
        "start_time": "2022-04-06T18:31:57.702Z"
      },
      {
        "duration": 4,
        "start_time": "2022-04-06T18:31:58.095Z"
      },
      {
        "duration": 16,
        "start_time": "2022-04-06T18:31:58.101Z"
      },
      {
        "duration": 11,
        "start_time": "2022-04-06T18:31:58.118Z"
      },
      {
        "duration": 8,
        "start_time": "2022-04-06T18:31:58.130Z"
      },
      {
        "duration": 963,
        "start_time": "2022-04-06T18:31:58.140Z"
      },
      {
        "duration": 8,
        "start_time": "2022-04-06T18:31:59.104Z"
      },
      {
        "duration": 31,
        "start_time": "2022-04-06T18:31:59.113Z"
      },
      {
        "duration": 98,
        "start_time": "2022-04-06T18:31:59.146Z"
      },
      {
        "duration": 95,
        "start_time": "2022-04-06T18:31:59.246Z"
      },
      {
        "duration": 32,
        "start_time": "2022-04-06T18:31:59.342Z"
      },
      {
        "duration": 45,
        "start_time": "2022-04-06T18:31:59.376Z"
      },
      {
        "duration": 46927,
        "start_time": "2022-04-06T18:31:59.437Z"
      },
      {
        "duration": 2,
        "start_time": "2022-04-06T18:32:46.366Z"
      },
      {
        "duration": 591,
        "start_time": "2022-04-06T18:32:46.369Z"
      },
      {
        "duration": 816,
        "start_time": "2022-04-06T18:32:46.962Z"
      },
      {
        "duration": 323,
        "start_time": "2022-04-06T18:32:47.780Z"
      },
      {
        "duration": 664,
        "start_time": "2022-04-06T18:32:48.105Z"
      },
      {
        "duration": 122,
        "start_time": "2022-04-06T18:32:48.771Z"
      },
      {
        "duration": 7,
        "start_time": "2022-04-06T18:32:48.895Z"
      },
      {
        "duration": 226,
        "start_time": "2022-04-06T18:32:48.904Z"
      },
      {
        "duration": 2035,
        "start_time": "2022-04-06T18:56:08.274Z"
      },
      {
        "duration": 50,
        "start_time": "2022-04-06T18:56:10.312Z"
      },
      {
        "duration": 6,
        "start_time": "2022-04-06T18:56:10.368Z"
      },
      {
        "duration": 7,
        "start_time": "2022-04-06T18:56:10.378Z"
      },
      {
        "duration": 27,
        "start_time": "2022-04-06T18:56:10.387Z"
      },
      {
        "duration": 95,
        "start_time": "2022-04-06T18:56:10.417Z"
      },
      {
        "duration": 393,
        "start_time": "2022-04-06T18:56:10.515Z"
      },
      {
        "duration": 11,
        "start_time": "2022-04-06T18:56:10.911Z"
      },
      {
        "duration": 11,
        "start_time": "2022-04-06T18:56:10.925Z"
      },
      {
        "duration": 6,
        "start_time": "2022-04-06T18:56:10.967Z"
      },
      {
        "duration": 11,
        "start_time": "2022-04-06T18:56:10.976Z"
      },
      {
        "duration": 6,
        "start_time": "2022-04-06T18:56:10.989Z"
      },
      {
        "duration": 19,
        "start_time": "2022-04-06T18:56:10.998Z"
      },
      {
        "duration": 60,
        "start_time": "2022-04-06T18:56:11.020Z"
      },
      {
        "duration": 6,
        "start_time": "2022-04-06T18:56:11.083Z"
      },
      {
        "duration": 1821,
        "start_time": "2022-04-06T18:56:11.091Z"
      },
      {
        "duration": 8,
        "start_time": "2022-04-06T18:56:12.915Z"
      },
      {
        "duration": 28,
        "start_time": "2022-04-06T18:56:12.925Z"
      },
      {
        "duration": 213,
        "start_time": "2022-04-06T18:56:12.955Z"
      },
      {
        "duration": 7,
        "start_time": "2022-04-06T18:56:13.170Z"
      },
      {
        "duration": 45,
        "start_time": "2022-04-06T18:56:13.179Z"
      },
      {
        "duration": 85,
        "start_time": "2022-04-06T18:56:13.226Z"
      },
      {
        "duration": 72409,
        "start_time": "2022-04-06T18:56:13.314Z"
      },
      {
        "duration": 3,
        "start_time": "2022-04-06T18:57:25.726Z"
      },
      {
        "duration": 890,
        "start_time": "2022-04-06T18:57:25.732Z"
      },
      {
        "duration": 1424,
        "start_time": "2022-04-06T18:57:26.625Z"
      },
      {
        "duration": 470,
        "start_time": "2022-04-06T18:57:28.052Z"
      },
      {
        "duration": 1084,
        "start_time": "2022-04-06T18:57:28.526Z"
      },
      {
        "duration": 204,
        "start_time": "2022-04-06T18:57:29.613Z"
      },
      {
        "duration": 8,
        "start_time": "2022-04-06T18:57:29.820Z"
      },
      {
        "duration": 6,
        "start_time": "2022-04-06T19:08:26.108Z"
      },
      {
        "duration": 48,
        "start_time": "2022-04-06T19:08:26.119Z"
      },
      {
        "duration": 5,
        "start_time": "2022-04-06T19:08:26.170Z"
      },
      {
        "duration": 6,
        "start_time": "2022-04-06T19:08:26.177Z"
      },
      {
        "duration": 18,
        "start_time": "2022-04-06T19:08:26.186Z"
      },
      {
        "duration": 83,
        "start_time": "2022-04-06T19:08:26.206Z"
      },
      {
        "duration": 375,
        "start_time": "2022-04-06T19:08:26.291Z"
      },
      {
        "duration": 9,
        "start_time": "2022-04-06T19:08:26.668Z"
      },
      {
        "duration": 8,
        "start_time": "2022-04-06T19:08:26.679Z"
      },
      {
        "duration": 9,
        "start_time": "2022-04-06T19:08:26.689Z"
      },
      {
        "duration": 12,
        "start_time": "2022-04-06T19:08:26.701Z"
      },
      {
        "duration": 5,
        "start_time": "2022-04-06T19:08:26.716Z"
      },
      {
        "duration": 62,
        "start_time": "2022-04-06T19:08:26.723Z"
      },
      {
        "duration": 15,
        "start_time": "2022-04-06T19:08:26.791Z"
      },
      {
        "duration": 5,
        "start_time": "2022-04-06T19:08:26.809Z"
      },
      {
        "duration": 1447,
        "start_time": "2022-04-06T19:08:26.816Z"
      },
      {
        "duration": 11,
        "start_time": "2022-04-06T19:08:28.268Z"
      },
      {
        "duration": 30,
        "start_time": "2022-04-06T19:08:28.282Z"
      },
      {
        "duration": 168,
        "start_time": "2022-04-06T19:08:28.314Z"
      },
      {
        "duration": 7,
        "start_time": "2022-04-06T19:08:28.569Z"
      },
      {
        "duration": 35,
        "start_time": "2022-04-06T19:08:28.578Z"
      },
      {
        "duration": 21,
        "start_time": "2022-04-06T19:08:28.615Z"
      },
      {
        "duration": 67,
        "start_time": "2022-04-06T19:08:28.668Z"
      },
      {
        "duration": 74035,
        "start_time": "2022-04-06T19:08:28.737Z"
      },
      {
        "duration": 4,
        "start_time": "2022-04-06T19:09:42.774Z"
      },
      {
        "duration": 791,
        "start_time": "2022-04-06T19:09:42.780Z"
      },
      {
        "duration": 1100,
        "start_time": "2022-04-06T19:09:43.573Z"
      },
      {
        "duration": 404,
        "start_time": "2022-04-06T19:09:44.675Z"
      },
      {
        "duration": 892,
        "start_time": "2022-04-06T19:09:45.081Z"
      },
      {
        "duration": 189,
        "start_time": "2022-04-06T19:09:45.975Z"
      },
      {
        "duration": 8,
        "start_time": "2022-04-06T19:09:46.166Z"
      },
      {
        "duration": 199,
        "start_time": "2022-04-06T19:09:46.176Z"
      },
      {
        "duration": 7,
        "start_time": "2022-04-06T19:13:57.904Z"
      },
      {
        "duration": 46,
        "start_time": "2022-04-06T19:13:57.914Z"
      },
      {
        "duration": 5,
        "start_time": "2022-04-06T19:13:57.963Z"
      },
      {
        "duration": 8,
        "start_time": "2022-04-06T19:13:57.971Z"
      },
      {
        "duration": 19,
        "start_time": "2022-04-06T19:13:57.983Z"
      },
      {
        "duration": 99,
        "start_time": "2022-04-06T19:13:58.005Z"
      },
      {
        "duration": 466,
        "start_time": "2022-04-06T19:13:58.106Z"
      },
      {
        "duration": 8,
        "start_time": "2022-04-06T19:13:58.574Z"
      },
      {
        "duration": 7,
        "start_time": "2022-04-06T19:13:58.585Z"
      },
      {
        "duration": 9,
        "start_time": "2022-04-06T19:13:58.594Z"
      },
      {
        "duration": 9,
        "start_time": "2022-04-06T19:13:58.606Z"
      },
      {
        "duration": 6,
        "start_time": "2022-04-06T19:13:58.617Z"
      },
      {
        "duration": 57,
        "start_time": "2022-04-06T19:13:58.625Z"
      },
      {
        "duration": 16,
        "start_time": "2022-04-06T19:13:58.684Z"
      },
      {
        "duration": 5,
        "start_time": "2022-04-06T19:13:58.703Z"
      },
      {
        "duration": 1579,
        "start_time": "2022-04-06T19:13:58.711Z"
      },
      {
        "duration": 10,
        "start_time": "2022-04-06T19:14:00.293Z"
      },
      {
        "duration": 42,
        "start_time": "2022-04-06T19:14:00.306Z"
      },
      {
        "duration": 217,
        "start_time": "2022-04-06T19:14:00.350Z"
      },
      {
        "duration": 7,
        "start_time": "2022-04-06T19:14:00.569Z"
      },
      {
        "duration": 63,
        "start_time": "2022-04-06T19:14:00.578Z"
      },
      {
        "duration": 25,
        "start_time": "2022-04-06T19:14:00.643Z"
      },
      {
        "duration": 67,
        "start_time": "2022-04-06T19:14:00.670Z"
      },
      {
        "duration": 74102,
        "start_time": "2022-04-06T19:14:00.739Z"
      },
      {
        "duration": 169,
        "start_time": "2022-04-06T19:15:14.844Z"
      },
      {
        "duration": 0,
        "start_time": "2022-04-06T19:15:15.016Z"
      },
      {
        "duration": 0,
        "start_time": "2022-04-06T19:15:15.019Z"
      },
      {
        "duration": 0,
        "start_time": "2022-04-06T19:15:15.021Z"
      },
      {
        "duration": 0,
        "start_time": "2022-04-06T19:15:15.023Z"
      },
      {
        "duration": 0,
        "start_time": "2022-04-06T19:15:15.025Z"
      },
      {
        "duration": 0,
        "start_time": "2022-04-06T19:15:15.027Z"
      },
      {
        "duration": 0,
        "start_time": "2022-04-06T19:15:15.029Z"
      },
      {
        "duration": 7,
        "start_time": "2022-04-06T19:16:06.082Z"
      },
      {
        "duration": 48,
        "start_time": "2022-04-06T19:16:06.091Z"
      },
      {
        "duration": 5,
        "start_time": "2022-04-06T19:16:06.141Z"
      },
      {
        "duration": 6,
        "start_time": "2022-04-06T19:16:06.149Z"
      },
      {
        "duration": 18,
        "start_time": "2022-04-06T19:16:06.167Z"
      },
      {
        "duration": 97,
        "start_time": "2022-04-06T19:16:06.188Z"
      },
      {
        "duration": 392,
        "start_time": "2022-04-06T19:16:06.287Z"
      },
      {
        "duration": 9,
        "start_time": "2022-04-06T19:16:06.681Z"
      },
      {
        "duration": 8,
        "start_time": "2022-04-06T19:16:06.693Z"
      },
      {
        "duration": 7,
        "start_time": "2022-04-06T19:16:06.703Z"
      },
      {
        "duration": 11,
        "start_time": "2022-04-06T19:16:06.712Z"
      },
      {
        "duration": 45,
        "start_time": "2022-04-06T19:16:06.725Z"
      },
      {
        "duration": 18,
        "start_time": "2022-04-06T19:16:06.772Z"
      },
      {
        "duration": 16,
        "start_time": "2022-04-06T19:16:06.792Z"
      },
      {
        "duration": 10,
        "start_time": "2022-04-06T19:16:06.810Z"
      },
      {
        "duration": 1452,
        "start_time": "2022-04-06T19:16:06.823Z"
      },
      {
        "duration": 9,
        "start_time": "2022-04-06T19:16:08.277Z"
      },
      {
        "duration": 30,
        "start_time": "2022-04-06T19:16:08.288Z"
      },
      {
        "duration": 247,
        "start_time": "2022-04-06T19:16:08.321Z"
      },
      {
        "duration": 7,
        "start_time": "2022-04-06T19:16:08.570Z"
      },
      {
        "duration": 31,
        "start_time": "2022-04-06T19:16:08.579Z"
      },
      {
        "duration": 20,
        "start_time": "2022-04-06T19:16:08.612Z"
      },
      {
        "duration": 92,
        "start_time": "2022-04-06T19:16:08.635Z"
      },
      {
        "duration": 72427,
        "start_time": "2022-04-06T19:16:08.731Z"
      },
      {
        "duration": 10,
        "start_time": "2022-04-06T19:17:21.168Z"
      },
      {
        "duration": 739,
        "start_time": "2022-04-06T19:17:21.181Z"
      },
      {
        "duration": 1150,
        "start_time": "2022-04-06T19:17:21.922Z"
      },
      {
        "duration": 406,
        "start_time": "2022-04-06T19:17:23.075Z"
      },
      {
        "duration": 835,
        "start_time": "2022-04-06T19:17:23.484Z"
      },
      {
        "duration": 200,
        "start_time": "2022-04-06T19:17:24.322Z"
      },
      {
        "duration": 7,
        "start_time": "2022-04-06T19:17:24.525Z"
      },
      {
        "duration": 197,
        "start_time": "2022-04-06T19:17:24.534Z"
      },
      {
        "duration": 1023,
        "start_time": "2022-04-06T19:18:54.055Z"
      },
      {
        "duration": 1137,
        "start_time": "2022-04-06T19:18:58.564Z"
      },
      {
        "duration": 1244,
        "start_time": "2022-04-06T19:19:06.446Z"
      },
      {
        "duration": 1358,
        "start_time": "2022-04-06T19:19:14.141Z"
      },
      {
        "duration": 1237,
        "start_time": "2022-04-06T19:19:19.957Z"
      },
      {
        "duration": 402,
        "start_time": "2022-04-06T19:20:35.583Z"
      },
      {
        "duration": 421,
        "start_time": "2022-04-06T19:20:39.847Z"
      },
      {
        "duration": 525,
        "start_time": "2022-04-06T19:20:43.812Z"
      },
      {
        "duration": 406,
        "start_time": "2022-04-06T19:20:47.313Z"
      },
      {
        "duration": 176,
        "start_time": "2022-04-06T19:21:00.873Z"
      },
      {
        "duration": 1220,
        "start_time": "2022-04-06T19:21:10.176Z"
      },
      {
        "duration": 6,
        "start_time": "2022-04-06T19:21:44.195Z"
      },
      {
        "duration": 41,
        "start_time": "2022-04-06T19:21:44.232Z"
      },
      {
        "duration": 4,
        "start_time": "2022-04-06T19:21:44.276Z"
      },
      {
        "duration": 8,
        "start_time": "2022-04-06T19:21:44.282Z"
      },
      {
        "duration": 21,
        "start_time": "2022-04-06T19:21:44.292Z"
      },
      {
        "duration": 87,
        "start_time": "2022-04-06T19:21:44.316Z"
      },
      {
        "duration": 421,
        "start_time": "2022-04-06T19:21:44.405Z"
      },
      {
        "duration": 9,
        "start_time": "2022-04-06T19:21:44.828Z"
      },
      {
        "duration": 28,
        "start_time": "2022-04-06T19:21:44.840Z"
      },
      {
        "duration": 5,
        "start_time": "2022-04-06T19:21:44.870Z"
      },
      {
        "duration": 13,
        "start_time": "2022-04-06T19:21:44.876Z"
      },
      {
        "duration": 5,
        "start_time": "2022-04-06T19:21:44.891Z"
      },
      {
        "duration": 19,
        "start_time": "2022-04-06T19:21:44.898Z"
      },
      {
        "duration": 50,
        "start_time": "2022-04-06T19:21:44.919Z"
      },
      {
        "duration": 4,
        "start_time": "2022-04-06T19:21:44.973Z"
      },
      {
        "duration": 1460,
        "start_time": "2022-04-06T19:21:44.979Z"
      },
      {
        "duration": 25,
        "start_time": "2022-04-06T19:21:46.442Z"
      },
      {
        "duration": 32,
        "start_time": "2022-04-06T19:21:46.469Z"
      },
      {
        "duration": 271,
        "start_time": "2022-04-06T19:21:46.503Z"
      },
      {
        "duration": 7,
        "start_time": "2022-04-06T19:21:46.776Z"
      },
      {
        "duration": 34,
        "start_time": "2022-04-06T19:21:46.785Z"
      },
      {
        "duration": 47,
        "start_time": "2022-04-06T19:21:46.821Z"
      },
      {
        "duration": 67,
        "start_time": "2022-04-06T19:21:46.870Z"
      },
      {
        "duration": 70760,
        "start_time": "2022-04-06T19:21:46.939Z"
      },
      {
        "duration": 3,
        "start_time": "2022-04-06T19:22:57.701Z"
      },
      {
        "duration": 857,
        "start_time": "2022-04-06T19:22:57.706Z"
      },
      {
        "duration": 1199,
        "start_time": "2022-04-06T19:22:58.568Z"
      },
      {
        "duration": 411,
        "start_time": "2022-04-06T19:22:59.769Z"
      },
      {
        "duration": 920,
        "start_time": "2022-04-06T19:23:00.182Z"
      },
      {
        "duration": 196,
        "start_time": "2022-04-06T19:23:01.105Z"
      },
      {
        "duration": 9,
        "start_time": "2022-04-06T19:23:01.304Z"
      },
      {
        "duration": 201,
        "start_time": "2022-04-06T19:23:01.316Z"
      },
      {
        "duration": 15,
        "start_time": "2022-04-06T19:33:37.760Z"
      },
      {
        "duration": 10,
        "start_time": "2022-04-06T19:33:46.952Z"
      },
      {
        "duration": 57,
        "start_time": "2022-04-06T19:33:46.964Z"
      },
      {
        "duration": 4,
        "start_time": "2022-04-06T19:33:47.025Z"
      },
      {
        "duration": 12,
        "start_time": "2022-04-06T19:33:47.031Z"
      },
      {
        "duration": 36,
        "start_time": "2022-04-06T19:33:47.046Z"
      },
      {
        "duration": 57,
        "start_time": "2022-04-06T19:33:47.085Z"
      },
      {
        "duration": 481,
        "start_time": "2022-04-06T19:33:47.168Z"
      },
      {
        "duration": 16,
        "start_time": "2022-04-06T19:33:47.652Z"
      },
      {
        "duration": 9,
        "start_time": "2022-04-06T19:33:47.670Z"
      },
      {
        "duration": 6,
        "start_time": "2022-04-06T19:33:47.681Z"
      },
      {
        "duration": 9,
        "start_time": "2022-04-06T19:33:47.691Z"
      },
      {
        "duration": 5,
        "start_time": "2022-04-06T19:33:47.702Z"
      },
      {
        "duration": 65,
        "start_time": "2022-04-06T19:33:47.710Z"
      },
      {
        "duration": 15,
        "start_time": "2022-04-06T19:33:47.778Z"
      },
      {
        "duration": 6,
        "start_time": "2022-04-06T19:33:47.795Z"
      },
      {
        "duration": 1582,
        "start_time": "2022-04-06T19:33:47.803Z"
      },
      {
        "duration": 14,
        "start_time": "2022-04-06T19:33:49.387Z"
      },
      {
        "duration": 31,
        "start_time": "2022-04-06T19:33:49.403Z"
      },
      {
        "duration": 241,
        "start_time": "2022-04-06T19:33:49.437Z"
      },
      {
        "duration": 8,
        "start_time": "2022-04-06T19:33:49.681Z"
      },
      {
        "duration": 34,
        "start_time": "2022-04-06T19:33:49.692Z"
      },
      {
        "duration": 55,
        "start_time": "2022-04-06T19:33:49.728Z"
      },
      {
        "duration": 88,
        "start_time": "2022-04-06T19:33:49.785Z"
      },
      {
        "duration": 73755,
        "start_time": "2022-04-06T19:33:49.876Z"
      },
      {
        "duration": 4,
        "start_time": "2022-04-06T19:35:03.633Z"
      },
      {
        "duration": 804,
        "start_time": "2022-04-06T19:35:03.639Z"
      },
      {
        "duration": 1251,
        "start_time": "2022-04-06T19:35:04.446Z"
      },
      {
        "duration": 432,
        "start_time": "2022-04-06T19:35:05.699Z"
      },
      {
        "duration": 915,
        "start_time": "2022-04-06T19:35:06.135Z"
      },
      {
        "duration": 195,
        "start_time": "2022-04-06T19:35:07.052Z"
      },
      {
        "duration": 22,
        "start_time": "2022-04-06T19:35:07.249Z"
      },
      {
        "duration": 193,
        "start_time": "2022-04-06T19:35:07.273Z"
      },
      {
        "duration": 24,
        "start_time": "2022-04-06T19:35:07.468Z"
      },
      {
        "duration": 8,
        "start_time": "2022-04-06T19:40:32.182Z"
      },
      {
        "duration": 51,
        "start_time": "2022-04-06T19:40:32.193Z"
      },
      {
        "duration": 5,
        "start_time": "2022-04-06T19:40:32.246Z"
      },
      {
        "duration": 8,
        "start_time": "2022-04-06T19:40:32.269Z"
      },
      {
        "duration": 24,
        "start_time": "2022-04-06T19:40:32.279Z"
      },
      {
        "duration": 90,
        "start_time": "2022-04-06T19:40:32.305Z"
      },
      {
        "duration": 399,
        "start_time": "2022-04-06T19:40:32.397Z"
      },
      {
        "duration": 9,
        "start_time": "2022-04-06T19:40:32.799Z"
      },
      {
        "duration": 8,
        "start_time": "2022-04-06T19:40:32.812Z"
      },
      {
        "duration": 8,
        "start_time": "2022-04-06T19:40:32.822Z"
      },
      {
        "duration": 42,
        "start_time": "2022-04-06T19:40:32.832Z"
      },
      {
        "duration": 11,
        "start_time": "2022-04-06T19:40:32.876Z"
      },
      {
        "duration": 19,
        "start_time": "2022-04-06T19:40:32.890Z"
      },
      {
        "duration": 16,
        "start_time": "2022-04-06T19:40:32.912Z"
      },
      {
        "duration": 5,
        "start_time": "2022-04-06T19:40:32.931Z"
      },
      {
        "duration": 1716,
        "start_time": "2022-04-06T19:40:32.968Z"
      },
      {
        "duration": 16,
        "start_time": "2022-04-06T19:40:34.686Z"
      },
      {
        "duration": 32,
        "start_time": "2022-04-06T19:40:34.704Z"
      },
      {
        "duration": 239,
        "start_time": "2022-04-06T19:40:34.738Z"
      },
      {
        "duration": 7,
        "start_time": "2022-04-06T19:40:34.979Z"
      },
      {
        "duration": 37,
        "start_time": "2022-04-06T19:40:34.989Z"
      },
      {
        "duration": 59,
        "start_time": "2022-04-06T19:40:35.028Z"
      },
      {
        "duration": 80,
        "start_time": "2022-04-06T19:40:35.091Z"
      },
      {
        "duration": 66781,
        "start_time": "2022-04-06T19:40:35.175Z"
      },
      {
        "duration": 9,
        "start_time": "2022-04-06T19:41:41.959Z"
      },
      {
        "duration": 672,
        "start_time": "2022-04-06T19:41:41.971Z"
      },
      {
        "duration": 932,
        "start_time": "2022-04-06T19:41:42.645Z"
      },
      {
        "duration": 440,
        "start_time": "2022-04-06T19:41:43.580Z"
      },
      {
        "duration": 768,
        "start_time": "2022-04-06T19:41:44.023Z"
      },
      {
        "duration": 199,
        "start_time": "2022-04-06T19:41:44.794Z"
      },
      {
        "duration": 9,
        "start_time": "2022-04-06T19:41:44.996Z"
      },
      {
        "duration": 264,
        "start_time": "2022-04-06T19:41:45.007Z"
      },
      {
        "duration": 62,
        "start_time": "2022-04-06T19:41:45.274Z"
      },
      {
        "duration": 1846,
        "start_time": "2022-04-06T19:49:14.612Z"
      },
      {
        "duration": 42,
        "start_time": "2022-04-06T19:49:16.461Z"
      },
      {
        "duration": 4,
        "start_time": "2022-04-06T19:49:16.506Z"
      },
      {
        "duration": 7,
        "start_time": "2022-04-06T19:49:16.513Z"
      },
      {
        "duration": 52,
        "start_time": "2022-04-06T19:49:16.522Z"
      },
      {
        "duration": 57,
        "start_time": "2022-04-06T19:49:16.576Z"
      },
      {
        "duration": 394,
        "start_time": "2022-04-06T19:49:16.635Z"
      },
      {
        "duration": 9,
        "start_time": "2022-04-06T19:49:17.032Z"
      },
      {
        "duration": 26,
        "start_time": "2022-04-06T19:49:17.044Z"
      },
      {
        "duration": 5,
        "start_time": "2022-04-06T19:49:17.074Z"
      },
      {
        "duration": 11,
        "start_time": "2022-04-06T19:49:17.081Z"
      },
      {
        "duration": 5,
        "start_time": "2022-04-06T19:49:17.094Z"
      },
      {
        "duration": 19,
        "start_time": "2022-04-06T19:49:17.102Z"
      },
      {
        "duration": 51,
        "start_time": "2022-04-06T19:49:17.123Z"
      },
      {
        "duration": 5,
        "start_time": "2022-04-06T19:49:17.176Z"
      },
      {
        "duration": 1541,
        "start_time": "2022-04-06T19:49:17.183Z"
      },
      {
        "duration": 14,
        "start_time": "2022-04-06T19:49:18.727Z"
      },
      {
        "duration": 33,
        "start_time": "2022-04-06T19:49:18.743Z"
      },
      {
        "duration": 195,
        "start_time": "2022-04-06T19:49:18.778Z"
      },
      {
        "duration": 8,
        "start_time": "2022-04-06T19:49:18.975Z"
      },
      {
        "duration": 35,
        "start_time": "2022-04-06T19:49:18.985Z"
      },
      {
        "duration": 56,
        "start_time": "2022-04-06T19:49:19.022Z"
      },
      {
        "duration": 60,
        "start_time": "2022-04-06T19:49:19.080Z"
      },
      {
        "duration": 62473,
        "start_time": "2022-04-06T19:49:19.142Z"
      },
      {
        "duration": 4,
        "start_time": "2022-04-06T19:50:21.617Z"
      },
      {
        "duration": 602,
        "start_time": "2022-04-06T19:50:21.624Z"
      },
      {
        "duration": 905,
        "start_time": "2022-04-06T19:50:22.228Z"
      },
      {
        "duration": 343,
        "start_time": "2022-04-06T19:50:23.138Z"
      },
      {
        "duration": 986,
        "start_time": "2022-04-06T19:50:23.484Z"
      },
      {
        "duration": 236,
        "start_time": "2022-04-06T19:50:24.472Z"
      },
      {
        "duration": 8,
        "start_time": "2022-04-06T19:50:24.711Z"
      },
      {
        "duration": 184,
        "start_time": "2022-04-06T19:50:24.722Z"
      },
      {
        "duration": 59,
        "start_time": "2022-04-06T19:50:24.908Z"
      },
      {
        "duration": 246,
        "start_time": "2022-04-06T19:52:56.166Z"
      },
      {
        "duration": 5,
        "start_time": "2022-04-06T19:53:01.653Z"
      },
      {
        "duration": 5,
        "start_time": "2022-04-06T19:53:12.471Z"
      },
      {
        "duration": 5,
        "start_time": "2022-04-06T19:53:18.813Z"
      },
      {
        "duration": 1995,
        "start_time": "2022-04-06T19:54:07.755Z"
      },
      {
        "duration": 48,
        "start_time": "2022-04-06T19:54:09.753Z"
      },
      {
        "duration": 5,
        "start_time": "2022-04-06T19:54:09.803Z"
      },
      {
        "duration": 8,
        "start_time": "2022-04-06T19:54:09.810Z"
      },
      {
        "duration": 53,
        "start_time": "2022-04-06T19:54:09.822Z"
      },
      {
        "duration": 76,
        "start_time": "2022-04-06T19:54:09.877Z"
      },
      {
        "duration": 582,
        "start_time": "2022-04-06T19:54:09.968Z"
      },
      {
        "duration": 17,
        "start_time": "2022-04-06T19:54:10.553Z"
      },
      {
        "duration": 10,
        "start_time": "2022-04-06T19:54:10.573Z"
      },
      {
        "duration": 5,
        "start_time": "2022-04-06T19:54:10.585Z"
      },
      {
        "duration": 12,
        "start_time": "2022-04-06T19:54:10.592Z"
      },
      {
        "duration": 5,
        "start_time": "2022-04-06T19:54:10.606Z"
      },
      {
        "duration": 69,
        "start_time": "2022-04-06T19:54:10.614Z"
      },
      {
        "duration": 16,
        "start_time": "2022-04-06T19:54:10.687Z"
      },
      {
        "duration": 10,
        "start_time": "2022-04-06T19:54:10.706Z"
      },
      {
        "duration": 1954,
        "start_time": "2022-04-06T19:54:10.718Z"
      },
      {
        "duration": 15,
        "start_time": "2022-04-06T19:54:12.674Z"
      },
      {
        "duration": 28,
        "start_time": "2022-04-06T19:54:12.692Z"
      },
      {
        "duration": 154,
        "start_time": "2022-04-06T19:54:12.722Z"
      },
      {
        "duration": 7,
        "start_time": "2022-04-06T19:54:12.968Z"
      },
      {
        "duration": 35,
        "start_time": "2022-04-06T19:54:12.977Z"
      },
      {
        "duration": 4,
        "start_time": "2022-04-06T19:54:13.015Z"
      },
      {
        "duration": 62,
        "start_time": "2022-04-06T19:54:13.022Z"
      },
      {
        "duration": 56,
        "start_time": "2022-04-06T19:54:13.086Z"
      },
      {
        "duration": 62424,
        "start_time": "2022-04-06T19:54:13.144Z"
      },
      {
        "duration": 3,
        "start_time": "2022-04-06T19:55:15.570Z"
      },
      {
        "duration": 210,
        "start_time": "2022-04-06T19:55:15.576Z"
      },
      {
        "duration": 318,
        "start_time": "2022-04-06T19:55:15.789Z"
      },
      {
        "duration": 129,
        "start_time": "2022-04-06T19:55:16.109Z"
      },
      {
        "duration": 312,
        "start_time": "2022-04-06T19:55:16.240Z"
      },
      {
        "duration": 207,
        "start_time": "2022-04-06T19:55:16.554Z"
      },
      {
        "duration": 10,
        "start_time": "2022-04-06T19:55:16.763Z"
      },
      {
        "duration": 193,
        "start_time": "2022-04-06T19:55:16.775Z"
      },
      {
        "duration": 18,
        "start_time": "2022-04-06T19:55:16.971Z"
      },
      {
        "duration": 5,
        "start_time": "2022-04-06T20:01:48.364Z"
      },
      {
        "duration": 5,
        "start_time": "2022-04-06T20:01:54.603Z"
      },
      {
        "duration": 5,
        "start_time": "2022-04-06T20:01:59.059Z"
      },
      {
        "duration": 4,
        "start_time": "2022-04-06T20:02:03.144Z"
      },
      {
        "duration": 24,
        "start_time": "2022-04-06T20:02:39.252Z"
      },
      {
        "duration": 23,
        "start_time": "2022-04-06T20:02:48.169Z"
      },
      {
        "duration": 23,
        "start_time": "2022-04-06T20:02:57.901Z"
      },
      {
        "duration": 164,
        "start_time": "2022-04-06T20:04:55.207Z"
      },
      {
        "duration": 142,
        "start_time": "2022-04-06T20:05:06.256Z"
      },
      {
        "duration": 178,
        "start_time": "2022-04-06T20:05:10.531Z"
      },
      {
        "duration": 8,
        "start_time": "2022-04-06T20:05:14.333Z"
      },
      {
        "duration": 172,
        "start_time": "2022-04-06T20:05:18.800Z"
      },
      {
        "duration": 19,
        "start_time": "2022-04-06T20:05:23.578Z"
      },
      {
        "duration": 69,
        "start_time": "2022-04-06T20:28:07.010Z"
      },
      {
        "duration": 2293,
        "start_time": "2022-04-06T20:28:16.236Z"
      },
      {
        "duration": 50,
        "start_time": "2022-04-06T20:28:18.532Z"
      },
      {
        "duration": 4,
        "start_time": "2022-04-06T20:28:18.584Z"
      },
      {
        "duration": 7,
        "start_time": "2022-04-06T20:28:18.591Z"
      },
      {
        "duration": 44,
        "start_time": "2022-04-06T20:28:18.600Z"
      },
      {
        "duration": 55,
        "start_time": "2022-04-06T20:28:18.646Z"
      },
      {
        "duration": 402,
        "start_time": "2022-04-06T20:28:18.703Z"
      },
      {
        "duration": 9,
        "start_time": "2022-04-06T20:28:19.107Z"
      },
      {
        "duration": 25,
        "start_time": "2022-04-06T20:28:19.119Z"
      },
      {
        "duration": 6,
        "start_time": "2022-04-06T20:28:19.148Z"
      },
      {
        "duration": 13,
        "start_time": "2022-04-06T20:28:19.156Z"
      },
      {
        "duration": 4,
        "start_time": "2022-04-06T20:28:19.172Z"
      },
      {
        "duration": 19,
        "start_time": "2022-04-06T20:28:19.179Z"
      },
      {
        "duration": 49,
        "start_time": "2022-04-06T20:28:19.200Z"
      },
      {
        "duration": 6,
        "start_time": "2022-04-06T20:28:19.251Z"
      },
      {
        "duration": 1581,
        "start_time": "2022-04-06T20:28:19.259Z"
      },
      {
        "duration": 13,
        "start_time": "2022-04-06T20:28:20.842Z"
      },
      {
        "duration": 28,
        "start_time": "2022-04-06T20:28:20.858Z"
      },
      {
        "duration": 164,
        "start_time": "2022-04-06T20:28:20.888Z"
      },
      {
        "duration": 7,
        "start_time": "2022-04-06T20:28:21.144Z"
      },
      {
        "duration": 32,
        "start_time": "2022-04-06T20:28:21.154Z"
      },
      {
        "duration": 20,
        "start_time": "2022-04-06T20:28:21.188Z"
      },
      {
        "duration": 55,
        "start_time": "2022-04-06T20:28:21.243Z"
      },
      {
        "duration": 61059,
        "start_time": "2022-04-06T20:28:21.300Z"
      },
      {
        "duration": 4,
        "start_time": "2022-04-06T20:29:22.362Z"
      },
      {
        "duration": 215,
        "start_time": "2022-04-06T20:29:22.369Z"
      },
      {
        "duration": 315,
        "start_time": "2022-04-06T20:29:22.587Z"
      },
      {
        "duration": 133,
        "start_time": "2022-04-06T20:29:22.908Z"
      },
      {
        "duration": 65,
        "start_time": "2022-04-06T20:29:23.043Z"
      },
      {
        "duration": 213,
        "start_time": "2022-04-06T20:29:23.111Z"
      },
      {
        "duration": 18,
        "start_time": "2022-04-06T20:29:23.326Z"
      },
      {
        "duration": 191,
        "start_time": "2022-04-06T20:29:23.346Z"
      },
      {
        "duration": 19,
        "start_time": "2022-04-06T20:29:23.544Z"
      },
      {
        "duration": 7,
        "start_time": "2022-04-06T20:40:34.425Z"
      },
      {
        "duration": 57,
        "start_time": "2022-04-06T20:40:34.435Z"
      },
      {
        "duration": 5,
        "start_time": "2022-04-06T20:40:34.494Z"
      },
      {
        "duration": 13,
        "start_time": "2022-04-06T20:40:34.502Z"
      },
      {
        "duration": 32,
        "start_time": "2022-04-06T20:40:34.517Z"
      },
      {
        "duration": 58,
        "start_time": "2022-04-06T20:40:34.551Z"
      },
      {
        "duration": 377,
        "start_time": "2022-04-06T20:40:34.611Z"
      },
      {
        "duration": 9,
        "start_time": "2022-04-06T20:40:34.990Z"
      },
      {
        "duration": 9,
        "start_time": "2022-04-06T20:40:35.002Z"
      },
      {
        "duration": 7,
        "start_time": "2022-04-06T20:40:35.012Z"
      },
      {
        "duration": 13,
        "start_time": "2022-04-06T20:40:35.021Z"
      },
      {
        "duration": 9,
        "start_time": "2022-04-06T20:40:35.036Z"
      },
      {
        "duration": 22,
        "start_time": "2022-04-06T20:40:35.047Z"
      },
      {
        "duration": 14,
        "start_time": "2022-04-06T20:40:35.071Z"
      },
      {
        "duration": 6,
        "start_time": "2022-04-06T20:40:35.087Z"
      },
      {
        "duration": 1551,
        "start_time": "2022-04-06T20:40:35.095Z"
      },
      {
        "duration": 16,
        "start_time": "2022-04-06T20:40:36.649Z"
      },
      {
        "duration": 28,
        "start_time": "2022-04-06T20:40:36.667Z"
      },
      {
        "duration": 150,
        "start_time": "2022-04-06T20:40:36.699Z"
      },
      {
        "duration": 94,
        "start_time": "2022-04-06T20:40:36.852Z"
      },
      {
        "duration": 37,
        "start_time": "2022-04-06T20:40:36.949Z"
      },
      {
        "duration": 25,
        "start_time": "2022-04-06T20:40:36.989Z"
      },
      {
        "duration": 69,
        "start_time": "2022-04-06T20:40:37.016Z"
      },
      {
        "duration": 59444,
        "start_time": "2022-04-06T20:40:37.087Z"
      },
      {
        "duration": 10,
        "start_time": "2022-04-06T20:41:36.533Z"
      },
      {
        "duration": 202,
        "start_time": "2022-04-06T20:41:36.545Z"
      },
      {
        "duration": 311,
        "start_time": "2022-04-06T20:41:36.749Z"
      },
      {
        "duration": 129,
        "start_time": "2022-04-06T20:41:37.062Z"
      },
      {
        "duration": 80,
        "start_time": "2022-04-06T20:41:37.193Z"
      },
      {
        "duration": 198,
        "start_time": "2022-04-06T20:41:37.275Z"
      },
      {
        "duration": 11,
        "start_time": "2022-04-06T20:41:37.476Z"
      },
      {
        "duration": 308,
        "start_time": "2022-04-06T20:41:37.489Z"
      },
      {
        "duration": 22,
        "start_time": "2022-04-06T20:41:37.799Z"
      },
      {
        "duration": 1465,
        "start_time": "2022-04-07T04:52:18.179Z"
      },
      {
        "duration": 35,
        "start_time": "2022-04-07T04:52:19.645Z"
      },
      {
        "duration": 3,
        "start_time": "2022-04-07T04:52:19.682Z"
      },
      {
        "duration": 7,
        "start_time": "2022-04-07T04:52:19.686Z"
      },
      {
        "duration": 15,
        "start_time": "2022-04-07T04:52:19.695Z"
      },
      {
        "duration": 44,
        "start_time": "2022-04-07T04:52:19.712Z"
      },
      {
        "duration": 218,
        "start_time": "2022-04-07T04:52:19.758Z"
      },
      {
        "duration": 7,
        "start_time": "2022-04-07T04:52:19.978Z"
      },
      {
        "duration": 7,
        "start_time": "2022-04-07T04:52:19.986Z"
      },
      {
        "duration": 3,
        "start_time": "2022-04-07T04:52:19.996Z"
      },
      {
        "duration": 28,
        "start_time": "2022-04-07T04:52:20.001Z"
      },
      {
        "duration": 4,
        "start_time": "2022-04-07T04:52:20.031Z"
      },
      {
        "duration": 17,
        "start_time": "2022-04-07T04:52:20.037Z"
      },
      {
        "duration": 10,
        "start_time": "2022-04-07T04:52:20.055Z"
      },
      {
        "duration": 8,
        "start_time": "2022-04-07T04:52:20.067Z"
      },
      {
        "duration": 945,
        "start_time": "2022-04-07T04:52:20.077Z"
      },
      {
        "duration": 9,
        "start_time": "2022-04-07T04:52:21.024Z"
      },
      {
        "duration": 20,
        "start_time": "2022-04-07T04:52:21.035Z"
      },
      {
        "duration": 74,
        "start_time": "2022-04-07T04:52:21.056Z"
      },
      {
        "duration": 5,
        "start_time": "2022-04-07T04:52:21.132Z"
      },
      {
        "duration": 114,
        "start_time": "2022-04-07T04:52:21.139Z"
      },
      {
        "duration": 15,
        "start_time": "2022-04-07T04:52:21.254Z"
      },
      {
        "duration": 34,
        "start_time": "2022-04-07T04:52:21.270Z"
      },
      {
        "duration": 36007,
        "start_time": "2022-04-07T04:52:21.305Z"
      },
      {
        "duration": 2,
        "start_time": "2022-04-07T04:52:57.314Z"
      },
      {
        "duration": 121,
        "start_time": "2022-04-07T04:52:57.329Z"
      },
      {
        "duration": 190,
        "start_time": "2022-04-07T04:52:57.452Z"
      },
      {
        "duration": 73,
        "start_time": "2022-04-07T04:52:57.646Z"
      },
      {
        "duration": 40,
        "start_time": "2022-04-07T04:52:57.730Z"
      },
      {
        "duration": 118,
        "start_time": "2022-04-07T04:52:57.772Z"
      },
      {
        "duration": 6,
        "start_time": "2022-04-07T04:52:57.892Z"
      },
      {
        "duration": 110,
        "start_time": "2022-04-07T04:52:57.900Z"
      },
      {
        "duration": 24,
        "start_time": "2022-04-07T04:52:58.012Z"
      },
      {
        "duration": 2890,
        "start_time": "2022-04-07T18:12:06.449Z"
      },
      {
        "duration": 49,
        "start_time": "2022-04-07T18:12:09.343Z"
      },
      {
        "duration": 4,
        "start_time": "2022-04-07T18:12:09.395Z"
      },
      {
        "duration": 20,
        "start_time": "2022-04-07T18:12:09.402Z"
      },
      {
        "duration": 27,
        "start_time": "2022-04-07T18:12:09.425Z"
      },
      {
        "duration": 70,
        "start_time": "2022-04-07T18:12:09.454Z"
      },
      {
        "duration": 512,
        "start_time": "2022-04-07T18:12:09.526Z"
      },
      {
        "duration": 9,
        "start_time": "2022-04-07T18:12:10.040Z"
      },
      {
        "duration": 33,
        "start_time": "2022-04-07T18:12:10.051Z"
      },
      {
        "duration": 7,
        "start_time": "2022-04-07T18:12:10.088Z"
      },
      {
        "duration": 11,
        "start_time": "2022-04-07T18:12:10.097Z"
      },
      {
        "duration": 5,
        "start_time": "2022-04-07T18:12:10.110Z"
      },
      {
        "duration": 20,
        "start_time": "2022-04-07T18:12:10.117Z"
      },
      {
        "duration": 49,
        "start_time": "2022-04-07T18:12:10.139Z"
      },
      {
        "duration": 4,
        "start_time": "2022-04-07T18:12:10.191Z"
      },
      {
        "duration": 1713,
        "start_time": "2022-04-07T18:12:10.197Z"
      },
      {
        "duration": 13,
        "start_time": "2022-04-07T18:12:11.913Z"
      },
      {
        "duration": 28,
        "start_time": "2022-04-07T18:12:11.928Z"
      },
      {
        "duration": 220,
        "start_time": "2022-04-07T18:12:11.959Z"
      },
      {
        "duration": 7,
        "start_time": "2022-04-07T18:12:12.181Z"
      },
      {
        "duration": 34,
        "start_time": "2022-04-07T18:12:12.190Z"
      },
      {
        "duration": 60,
        "start_time": "2022-04-07T18:12:12.226Z"
      },
      {
        "duration": 54,
        "start_time": "2022-04-07T18:12:12.288Z"
      },
      {
        "duration": 65030,
        "start_time": "2022-04-07T18:12:17.951Z"
      },
      {
        "duration": 237,
        "start_time": "2022-04-07T18:16:48.273Z"
      },
      {
        "duration": 85,
        "start_time": "2022-04-07T18:17:31.890Z"
      },
      {
        "duration": 97,
        "start_time": "2022-04-07T18:20:06.233Z"
      },
      {
        "duration": 1653,
        "start_time": "2022-04-07T18:20:17.644Z"
      },
      {
        "duration": 1473,
        "start_time": "2022-04-07T18:20:37.639Z"
      },
      {
        "duration": 62034,
        "start_time": "2022-04-07T18:22:03.042Z"
      },
      {
        "duration": 11,
        "start_time": "2022-04-07T18:25:41.728Z"
      },
      {
        "duration": 15,
        "start_time": "2022-04-07T18:26:10.630Z"
      },
      {
        "duration": 15,
        "start_time": "2022-04-07T18:26:19.725Z"
      },
      {
        "duration": 263,
        "start_time": "2022-04-07T18:27:03.631Z"
      },
      {
        "duration": 221,
        "start_time": "2022-04-07T18:27:14.759Z"
      },
      {
        "duration": 206,
        "start_time": "2022-04-07T18:27:36.787Z"
      },
      {
        "duration": 190,
        "start_time": "2022-04-07T18:27:55.750Z"
      },
      {
        "duration": 284,
        "start_time": "2022-04-07T18:28:55.747Z"
      },
      {
        "duration": 303,
        "start_time": "2022-04-07T18:34:44.292Z"
      },
      {
        "duration": 454,
        "start_time": "2022-04-07T18:36:29.649Z"
      },
      {
        "duration": 306,
        "start_time": "2022-04-07T18:36:54.210Z"
      },
      {
        "duration": 1937269,
        "start_time": "2022-04-07T18:37:41.995Z"
      },
      {
        "duration": 18,
        "start_time": "2022-04-07T19:11:37.021Z"
      },
      {
        "duration": 488549,
        "start_time": "2022-04-07T19:12:43.027Z"
      },
      {
        "duration": 22,
        "start_time": "2022-04-07T19:21:21.464Z"
      },
      {
        "duration": 1364,
        "start_time": "2022-04-07T19:22:35.670Z"
      },
      {
        "duration": 2010,
        "start_time": "2022-04-07T19:22:41.496Z"
      },
      {
        "duration": 748,
        "start_time": "2022-04-07T19:22:57.541Z"
      },
      {
        "duration": 109,
        "start_time": "2022-04-07T19:23:03.533Z"
      },
      {
        "duration": 227,
        "start_time": "2022-04-07T19:23:07.668Z"
      },
      {
        "duration": 9,
        "start_time": "2022-04-07T19:23:47.391Z"
      },
      {
        "duration": 206,
        "start_time": "2022-04-07T19:23:50.443Z"
      },
      {
        "duration": 68,
        "start_time": "2022-04-07T19:23:54.753Z"
      },
      {
        "duration": 23,
        "start_time": "2022-04-07T20:46:34.591Z"
      },
      {
        "duration": 33,
        "start_time": "2022-04-07T20:46:58.598Z"
      },
      {
        "duration": 1387,
        "start_time": "2022-04-07T20:50:35.870Z"
      },
      {
        "duration": 77,
        "start_time": "2022-04-07T20:50:50.819Z"
      },
      {
        "duration": 1456,
        "start_time": "2022-04-07T20:51:35.107Z"
      },
      {
        "duration": 1985,
        "start_time": "2022-04-07T20:51:39.981Z"
      },
      {
        "duration": 1715,
        "start_time": "2022-04-07T20:51:45.147Z"
      },
      {
        "duration": 1221,
        "start_time": "2022-04-07T20:51:50.508Z"
      },
      {
        "duration": 995,
        "start_time": "2022-04-07T20:51:56.632Z"
      },
      {
        "duration": 1902,
        "start_time": "2022-04-07T20:52:02.473Z"
      },
      {
        "duration": 1034,
        "start_time": "2022-04-07T20:52:10.245Z"
      },
      {
        "duration": 64,
        "start_time": "2022-04-07T20:52:17.588Z"
      },
      {
        "duration": 1380,
        "start_time": "2022-04-07T20:52:40.732Z"
      },
      {
        "duration": 63,
        "start_time": "2022-04-07T20:52:46.593Z"
      },
      {
        "duration": 4303,
        "start_time": "2022-04-08T18:04:15.542Z"
      },
      {
        "duration": 40,
        "start_time": "2022-04-08T18:04:19.847Z"
      },
      {
        "duration": 3,
        "start_time": "2022-04-08T18:04:19.889Z"
      },
      {
        "duration": 6,
        "start_time": "2022-04-08T18:04:19.893Z"
      },
      {
        "duration": 22,
        "start_time": "2022-04-08T18:04:19.901Z"
      },
      {
        "duration": 45,
        "start_time": "2022-04-08T18:04:19.925Z"
      },
      {
        "duration": 294,
        "start_time": "2022-04-08T18:04:19.972Z"
      },
      {
        "duration": 7,
        "start_time": "2022-04-08T18:04:20.267Z"
      },
      {
        "duration": 12,
        "start_time": "2022-04-08T18:04:20.275Z"
      },
      {
        "duration": 20,
        "start_time": "2022-04-08T18:04:20.289Z"
      },
      {
        "duration": 21,
        "start_time": "2022-04-08T18:04:20.311Z"
      },
      {
        "duration": 10,
        "start_time": "2022-04-08T18:04:20.334Z"
      },
      {
        "duration": 18,
        "start_time": "2022-04-08T18:04:20.346Z"
      },
      {
        "duration": 10,
        "start_time": "2022-04-08T18:04:20.367Z"
      },
      {
        "duration": 9,
        "start_time": "2022-04-08T18:04:20.380Z"
      },
      {
        "duration": 1238,
        "start_time": "2022-04-08T18:04:20.391Z"
      },
      {
        "duration": 12,
        "start_time": "2022-04-08T18:04:21.631Z"
      },
      {
        "duration": 30,
        "start_time": "2022-04-08T18:04:21.645Z"
      },
      {
        "duration": 140,
        "start_time": "2022-04-08T18:04:21.677Z"
      },
      {
        "duration": 92,
        "start_time": "2022-04-08T18:04:21.819Z"
      },
      {
        "duration": 35,
        "start_time": "2022-04-08T18:04:21.913Z"
      },
      {
        "duration": 20,
        "start_time": "2022-04-08T18:04:21.949Z"
      },
      {
        "duration": 73,
        "start_time": "2022-04-08T18:04:21.971Z"
      },
      {
        "duration": 336702,
        "start_time": "2022-04-08T18:04:22.046Z"
      },
      {
        "duration": 3,
        "start_time": "2022-04-08T18:09:58.749Z"
      },
      {
        "duration": 649,
        "start_time": "2022-04-08T18:09:58.753Z"
      },
      {
        "duration": 858,
        "start_time": "2022-04-08T18:09:59.404Z"
      },
      {
        "duration": 373,
        "start_time": "2022-04-08T18:10:00.263Z"
      },
      {
        "duration": 88,
        "start_time": "2022-04-08T18:10:00.638Z"
      },
      {
        "duration": 138,
        "start_time": "2022-04-08T18:10:00.728Z"
      },
      {
        "duration": 7,
        "start_time": "2022-04-08T18:10:00.867Z"
      },
      {
        "duration": 139,
        "start_time": "2022-04-08T18:10:00.876Z"
      },
      {
        "duration": 54,
        "start_time": "2022-04-08T18:10:01.017Z"
      },
      {
        "duration": 69,
        "start_time": "2022-04-08T18:10:01.073Z"
      },
      {
        "duration": 6,
        "start_time": "2022-04-08T18:20:26.692Z"
      },
      {
        "duration": 35,
        "start_time": "2022-04-08T18:20:26.700Z"
      },
      {
        "duration": 3,
        "start_time": "2022-04-08T18:20:26.737Z"
      },
      {
        "duration": 6,
        "start_time": "2022-04-08T18:20:26.742Z"
      },
      {
        "duration": 19,
        "start_time": "2022-04-08T18:20:26.749Z"
      },
      {
        "duration": 75,
        "start_time": "2022-04-08T18:20:26.770Z"
      },
      {
        "duration": 270,
        "start_time": "2022-04-08T18:20:26.846Z"
      },
      {
        "duration": 7,
        "start_time": "2022-04-08T18:20:27.117Z"
      },
      {
        "duration": 6,
        "start_time": "2022-04-08T18:20:27.126Z"
      },
      {
        "duration": 4,
        "start_time": "2022-04-08T18:20:27.134Z"
      },
      {
        "duration": 8,
        "start_time": "2022-04-08T18:20:27.140Z"
      },
      {
        "duration": 3,
        "start_time": "2022-04-08T18:20:27.150Z"
      },
      {
        "duration": 15,
        "start_time": "2022-04-08T18:20:27.154Z"
      },
      {
        "duration": 44,
        "start_time": "2022-04-08T18:20:27.170Z"
      },
      {
        "duration": 4,
        "start_time": "2022-04-08T18:20:27.216Z"
      },
      {
        "duration": 1061,
        "start_time": "2022-04-08T18:20:27.222Z"
      },
      {
        "duration": 9,
        "start_time": "2022-04-08T18:20:28.285Z"
      },
      {
        "duration": 36,
        "start_time": "2022-04-08T18:20:28.295Z"
      },
      {
        "duration": 175,
        "start_time": "2022-04-08T18:20:28.333Z"
      },
      {
        "duration": 115,
        "start_time": "2022-04-08T18:20:30.303Z"
      },
      {
        "duration": 17,
        "start_time": "2022-04-08T18:20:42.829Z"
      },
      {
        "duration": 16,
        "start_time": "2022-04-08T18:20:57.080Z"
      },
      {
        "duration": 17,
        "start_time": "2022-04-08T18:21:02.998Z"
      },
      {
        "duration": 3,
        "start_time": "2022-04-08T18:21:05.533Z"
      },
      {
        "duration": 14,
        "start_time": "2022-04-08T18:21:09.794Z"
      },
      {
        "duration": 6,
        "start_time": "2022-04-08T18:21:29.207Z"
      },
      {
        "duration": 4,
        "start_time": "2022-04-08T18:36:13.875Z"
      },
      {
        "duration": 48,
        "start_time": "2022-04-08T18:36:13.882Z"
      },
      {
        "duration": 3,
        "start_time": "2022-04-08T18:36:13.932Z"
      },
      {
        "duration": 5,
        "start_time": "2022-04-08T18:36:13.938Z"
      },
      {
        "duration": 16,
        "start_time": "2022-04-08T18:36:13.944Z"
      },
      {
        "duration": 148,
        "start_time": "2022-04-08T18:36:13.961Z"
      },
      {
        "duration": 257,
        "start_time": "2022-04-08T18:36:14.111Z"
      },
      {
        "duration": 6,
        "start_time": "2022-04-08T18:36:14.370Z"
      },
      {
        "duration": 6,
        "start_time": "2022-04-08T18:36:14.378Z"
      },
      {
        "duration": 24,
        "start_time": "2022-04-08T18:36:14.386Z"
      },
      {
        "duration": 13,
        "start_time": "2022-04-08T18:36:14.411Z"
      },
      {
        "duration": 5,
        "start_time": "2022-04-08T18:36:14.425Z"
      },
      {
        "duration": 17,
        "start_time": "2022-04-08T18:36:14.431Z"
      },
      {
        "duration": 10,
        "start_time": "2022-04-08T18:36:14.450Z"
      },
      {
        "duration": 4,
        "start_time": "2022-04-08T18:36:14.462Z"
      },
      {
        "duration": 1068,
        "start_time": "2022-04-08T18:36:14.467Z"
      },
      {
        "duration": 9,
        "start_time": "2022-04-08T18:36:15.537Z"
      },
      {
        "duration": 24,
        "start_time": "2022-04-08T18:36:15.548Z"
      },
      {
        "duration": 136,
        "start_time": "2022-04-08T18:36:15.574Z"
      },
      {
        "duration": 97,
        "start_time": "2022-04-08T18:36:15.712Z"
      },
      {
        "duration": 26,
        "start_time": "2022-04-08T18:36:15.811Z"
      },
      {
        "duration": 17,
        "start_time": "2022-04-08T18:36:15.838Z"
      },
      {
        "duration": 67,
        "start_time": "2022-04-08T18:36:15.857Z"
      },
      {
        "duration": 320614,
        "start_time": "2022-04-08T18:36:15.927Z"
      },
      {
        "duration": 604,
        "start_time": "2022-04-08T18:44:50.691Z"
      },
      {
        "duration": 612,
        "start_time": "2022-04-08T18:45:01.499Z"
      },
      {
        "duration": 786,
        "start_time": "2022-04-08T18:52:29.607Z"
      },
      {
        "duration": 324,
        "start_time": "2022-04-08T18:52:32.472Z"
      },
      {
        "duration": 66,
        "start_time": "2022-04-08T18:52:36.774Z"
      },
      {
        "duration": 86,
        "start_time": "2022-04-08T19:00:42.016Z"
      },
      {
        "duration": 2341,
        "start_time": "2022-04-08T21:18:03.689Z"
      },
      {
        "duration": 62,
        "start_time": "2022-04-08T21:18:06.033Z"
      },
      {
        "duration": 5,
        "start_time": "2022-04-08T21:18:06.097Z"
      },
      {
        "duration": 16,
        "start_time": "2022-04-08T21:18:06.104Z"
      },
      {
        "duration": 32,
        "start_time": "2022-04-08T21:18:06.124Z"
      },
      {
        "duration": 56,
        "start_time": "2022-04-08T21:18:06.158Z"
      },
      {
        "duration": 405,
        "start_time": "2022-04-08T21:18:06.216Z"
      },
      {
        "duration": 20,
        "start_time": "2022-04-08T21:18:06.623Z"
      },
      {
        "duration": 10,
        "start_time": "2022-04-08T21:18:06.645Z"
      },
      {
        "duration": 8,
        "start_time": "2022-04-08T21:18:06.657Z"
      },
      {
        "duration": 30,
        "start_time": "2022-04-08T21:18:06.668Z"
      },
      {
        "duration": 16,
        "start_time": "2022-04-08T21:18:06.700Z"
      },
      {
        "duration": 27,
        "start_time": "2022-04-08T21:18:06.718Z"
      },
      {
        "duration": 16,
        "start_time": "2022-04-08T21:18:06.749Z"
      },
      {
        "duration": 9,
        "start_time": "2022-04-08T21:18:06.766Z"
      },
      {
        "duration": 1530,
        "start_time": "2022-04-08T21:18:06.777Z"
      },
      {
        "duration": 12,
        "start_time": "2022-04-08T21:18:08.310Z"
      },
      {
        "duration": 39,
        "start_time": "2022-04-08T21:18:08.324Z"
      },
      {
        "duration": 179,
        "start_time": "2022-04-08T21:18:08.365Z"
      },
      {
        "duration": 6,
        "start_time": "2022-04-08T21:18:08.547Z"
      },
      {
        "duration": 35,
        "start_time": "2022-04-08T21:18:08.555Z"
      },
      {
        "duration": 52,
        "start_time": "2022-04-08T21:18:08.592Z"
      },
      {
        "duration": 54,
        "start_time": "2022-04-08T21:18:08.646Z"
      },
      {
        "duration": 448546,
        "start_time": "2022-04-08T21:18:08.702Z"
      },
      {
        "duration": 1104,
        "start_time": "2022-04-08T21:25:37.250Z"
      },
      {
        "duration": 467,
        "start_time": "2022-04-08T21:25:38.356Z"
      },
      {
        "duration": 106,
        "start_time": "2022-04-08T21:25:38.825Z"
      },
      {
        "duration": 193,
        "start_time": "2022-04-08T21:25:38.933Z"
      },
      {
        "duration": 16,
        "start_time": "2022-04-08T21:25:39.128Z"
      },
      {
        "duration": 184,
        "start_time": "2022-04-08T21:25:39.146Z"
      },
      {
        "duration": 62,
        "start_time": "2022-04-08T21:25:39.332Z"
      },
      {
        "duration": 73,
        "start_time": "2022-04-08T21:25:39.396Z"
      },
      {
        "duration": 72,
        "start_time": "2022-04-10T20:49:58.679Z"
      },
      {
        "duration": 2287,
        "start_time": "2022-04-10T20:50:05.968Z"
      },
      {
        "duration": 52,
        "start_time": "2022-04-10T20:50:08.258Z"
      },
      {
        "duration": 5,
        "start_time": "2022-04-10T20:50:08.312Z"
      },
      {
        "duration": 11,
        "start_time": "2022-04-10T20:50:08.320Z"
      },
      {
        "duration": 30,
        "start_time": "2022-04-10T20:50:08.333Z"
      },
      {
        "duration": 57,
        "start_time": "2022-04-10T20:50:08.365Z"
      },
      {
        "duration": 420,
        "start_time": "2022-04-10T20:50:08.442Z"
      },
      {
        "duration": 9,
        "start_time": "2022-04-10T20:50:08.864Z"
      },
      {
        "duration": 14,
        "start_time": "2022-04-10T20:50:08.875Z"
      },
      {
        "duration": 11,
        "start_time": "2022-04-10T20:50:08.893Z"
      },
      {
        "duration": 37,
        "start_time": "2022-04-10T20:50:08.906Z"
      },
      {
        "duration": 17,
        "start_time": "2022-04-10T20:50:08.946Z"
      },
      {
        "duration": 24,
        "start_time": "2022-04-10T20:50:08.965Z"
      },
      {
        "duration": 15,
        "start_time": "2022-04-10T20:50:08.991Z"
      },
      {
        "duration": 6,
        "start_time": "2022-04-10T20:50:09.008Z"
      },
      {
        "duration": 1675,
        "start_time": "2022-04-10T20:50:09.016Z"
      },
      {
        "duration": 123,
        "start_time": "2022-04-10T20:50:10.694Z"
      },
      {
        "duration": 14,
        "start_time": "2022-04-10T20:50:16.769Z"
      },
      {
        "duration": 16,
        "start_time": "2022-04-10T20:51:20.450Z"
      },
      {
        "duration": 1848,
        "start_time": "2022-04-11T17:44:44.346Z"
      },
      {
        "duration": 51,
        "start_time": "2022-04-11T17:44:46.197Z"
      },
      {
        "duration": 4,
        "start_time": "2022-04-11T17:44:46.250Z"
      },
      {
        "duration": 12,
        "start_time": "2022-04-11T17:44:46.256Z"
      },
      {
        "duration": 25,
        "start_time": "2022-04-11T17:44:46.271Z"
      },
      {
        "duration": 54,
        "start_time": "2022-04-11T17:44:46.298Z"
      },
      {
        "duration": 267,
        "start_time": "2022-04-11T17:44:46.354Z"
      },
      {
        "duration": 9,
        "start_time": "2022-04-11T17:44:46.623Z"
      },
      {
        "duration": 9,
        "start_time": "2022-04-11T17:44:46.634Z"
      },
      {
        "duration": 10,
        "start_time": "2022-04-11T17:44:46.645Z"
      },
      {
        "duration": 14,
        "start_time": "2022-04-11T17:44:46.657Z"
      },
      {
        "duration": 8,
        "start_time": "2022-04-11T17:44:46.673Z"
      },
      {
        "duration": 42,
        "start_time": "2022-04-11T17:44:46.684Z"
      },
      {
        "duration": 11,
        "start_time": "2022-04-11T17:44:46.731Z"
      },
      {
        "duration": 8,
        "start_time": "2022-04-11T17:44:46.744Z"
      },
      {
        "duration": 1081,
        "start_time": "2022-04-11T17:44:46.754Z"
      },
      {
        "duration": 13,
        "start_time": "2022-04-11T17:44:47.836Z"
      },
      {
        "duration": 28,
        "start_time": "2022-04-11T17:44:47.851Z"
      },
      {
        "duration": 139,
        "start_time": "2022-04-11T17:44:47.881Z"
      },
      {
        "duration": 97,
        "start_time": "2022-04-11T17:44:48.022Z"
      },
      {
        "duration": 29,
        "start_time": "2022-04-11T17:44:48.121Z"
      },
      {
        "duration": 19,
        "start_time": "2022-04-11T17:44:48.152Z"
      },
      {
        "duration": 67,
        "start_time": "2022-04-11T17:44:48.173Z"
      },
      {
        "duration": 356846,
        "start_time": "2022-04-11T17:44:48.242Z"
      },
      {
        "duration": 935,
        "start_time": "2022-04-11T17:50:45.090Z"
      },
      {
        "duration": 418,
        "start_time": "2022-04-11T17:50:46.027Z"
      },
      {
        "duration": 446996,
        "start_time": "2022-04-11T17:50:46.447Z"
      },
      {
        "duration": 769,
        "start_time": "2022-04-11T17:58:13.445Z"
      },
      {
        "duration": 171,
        "start_time": "2022-04-11T17:58:14.219Z"
      },
      {
        "duration": 0,
        "start_time": "2022-04-11T17:58:14.392Z"
      },
      {
        "duration": 0,
        "start_time": "2022-04-11T17:58:14.394Z"
      },
      {
        "duration": 0,
        "start_time": "2022-04-11T17:58:14.395Z"
      },
      {
        "duration": 0,
        "start_time": "2022-04-11T17:58:14.396Z"
      },
      {
        "duration": 0,
        "start_time": "2022-04-11T17:58:14.397Z"
      },
      {
        "duration": 0,
        "start_time": "2022-04-11T17:58:14.398Z"
      },
      {
        "duration": 53,
        "start_time": "2022-04-11T18:10:32.095Z"
      },
      {
        "duration": 53,
        "start_time": "2022-04-11T18:10:51.896Z"
      },
      {
        "duration": 83,
        "start_time": "2022-04-11T18:11:40.531Z"
      },
      {
        "duration": 54,
        "start_time": "2022-04-11T18:13:09.558Z"
      },
      {
        "duration": 54,
        "start_time": "2022-04-11T18:13:26.475Z"
      },
      {
        "duration": 59,
        "start_time": "2022-04-11T18:13:39.587Z"
      },
      {
        "duration": 77,
        "start_time": "2022-04-11T18:13:51.290Z"
      },
      {
        "duration": 59,
        "start_time": "2022-04-11T18:14:15.022Z"
      },
      {
        "duration": 76,
        "start_time": "2022-04-11T18:14:47.397Z"
      },
      {
        "duration": 125,
        "start_time": "2022-04-11T18:15:01.597Z"
      },
      {
        "duration": 7,
        "start_time": "2022-04-11T18:15:05.034Z"
      },
      {
        "duration": 115,
        "start_time": "2022-04-11T18:15:07.036Z"
      },
      {
        "duration": 49,
        "start_time": "2022-04-11T18:15:11.911Z"
      },
      {
        "duration": 5,
        "start_time": "2022-04-11T18:15:28.818Z"
      },
      {
        "duration": 45,
        "start_time": "2022-04-11T18:15:33.436Z"
      },
      {
        "duration": 115,
        "start_time": "2022-04-11T18:15:40.729Z"
      },
      {
        "duration": 62,
        "start_time": "2022-04-11T18:16:20.256Z"
      },
      {
        "duration": 5,
        "start_time": "2022-04-11T18:16:31.868Z"
      },
      {
        "duration": 59,
        "start_time": "2022-04-11T18:16:42.285Z"
      },
      {
        "duration": 51,
        "start_time": "2022-04-11T18:16:57.154Z"
      },
      {
        "duration": 5,
        "start_time": "2022-04-11T18:17:06.835Z"
      },
      {
        "duration": 91,
        "start_time": "2022-04-11T18:17:13.482Z"
      },
      {
        "duration": 116,
        "start_time": "2022-04-11T18:18:26.460Z"
      },
      {
        "duration": 44,
        "start_time": "2022-04-11T18:19:07.050Z"
      },
      {
        "duration": 120,
        "start_time": "2022-04-11T18:19:09.059Z"
      }
    ],
    "kernelspec": {
      "display_name": "Python 3 (ipykernel)",
      "language": "python",
      "name": "python3"
    },
    "language_info": {
      "codemirror_mode": {
        "name": "ipython",
        "version": 3
      },
      "file_extension": ".py",
      "mimetype": "text/x-python",
      "name": "python",
      "nbconvert_exporter": "python",
      "pygments_lexer": "ipython3",
      "version": "3.9.5"
    },
    "toc": {
      "base_numbering": 1,
      "nav_menu": {},
      "number_sections": true,
      "sideBar": true,
      "skip_h1_title": true,
      "title_cell": "Содержание",
      "title_sidebar": "Contents",
      "toc_cell": true,
      "toc_position": {},
      "toc_section_display": true,
      "toc_window_display": false
    },
    "colab": {
      "provenance": []
    }
  },
  "nbformat": 4,
  "nbformat_minor": 0
}