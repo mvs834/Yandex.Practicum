{
  "cells": [
    {
      "cell_type": "markdown",
      "metadata": {
        "id": "Zyl45pikO-p0"
      },
      "source": [
        "# Описание проекта\n",
        "\n",
        "Необходимо оценить влияние семейного положения и наличия и количества детей клиента на погашение кредита в срок на основе статистики о платёжеспособности клиентов."
      ]
    },
    {
      "cell_type": "markdown",
      "metadata": {
        "id": "DDeS0YhPO-p1"
      },
      "source": [
        "# Загрузка данных"
      ]
    },
    {
      "cell_type": "code",
      "source": [
        "import pandas as pd\n",
        "import seaborn as sns\n",
        "import random\n",
        "from nltk.stem import SnowballStemmer\n",
        "from collections import Counter\n",
        "from pymystem3 import Mystem"
      ],
      "metadata": {
        "id": "ajWXztrPSLZM"
      },
      "execution_count": 1,
      "outputs": []
    },
    {
      "cell_type": "code",
      "execution_count": 2,
      "metadata": {
        "colab": {
          "base_uri": "https://localhost:8080/"
        },
        "id": "5cO0LRXFO-p1",
        "outputId": "69f5cc75-a2d8-464b-cd60-e94723db5b62"
      },
      "outputs": [
        {
          "output_type": "stream",
          "name": "stdout",
          "text": [
            "<class 'pandas.core.frame.DataFrame'>\n",
            "RangeIndex: 21525 entries, 0 to 21524\n",
            "Data columns (total 12 columns):\n",
            " #   Column            Non-Null Count  Dtype  \n",
            "---  ------            --------------  -----  \n",
            " 0   children          21525 non-null  int64  \n",
            " 1   days_employed     19351 non-null  float64\n",
            " 2   dob_years         21525 non-null  int64  \n",
            " 3   education         21525 non-null  object \n",
            " 4   education_id      21525 non-null  int64  \n",
            " 5   family_status     21525 non-null  object \n",
            " 6   family_status_id  21525 non-null  int64  \n",
            " 7   gender            21525 non-null  object \n",
            " 8   income_type       21525 non-null  object \n",
            " 9   debt              21525 non-null  int64  \n",
            " 10  total_income      19351 non-null  float64\n",
            " 11  purpose           21525 non-null  object \n",
            "dtypes: float64(2), int64(5), object(5)\n",
            "memory usage: 2.0+ MB\n"
          ]
        }
      ],
      "source": [
        "data = pd.read_csv('data.csv')\n",
        "\n",
        "data.info()"
      ]
    },
    {
      "cell_type": "markdown",
      "metadata": {
        "id": "UlXewHA9O-p4"
      },
      "source": [
        "В датасете 21525 строк, выборка достаточна для проведения анализа.\n",
        "\n",
        "## Пропуски\n",
        "\n",
        "Пропуски есть в колонках:\n",
        "* days_employed и\n",
        "* total_income\n",
        "\n",
        "Пропуски могут быть связано с тем, что не все клиенты готовы раскрывать информацию о стаже и доходах.\n",
        "\n",
        "Количество пропусков одинаковое, составляет около "
      ]
    },
    {
      "cell_type": "code",
      "execution_count": 3,
      "metadata": {
        "scrolled": true,
        "colab": {
          "base_uri": "https://localhost:8080/"
        },
        "id": "ThTn3G9ZO-p5",
        "outputId": "df47060f-b498-4ef2-bfac-96caa2a65a23"
      },
      "outputs": [
        {
          "output_type": "stream",
          "name": "stdout",
          "text": [
            "10.1 % от выборки\n"
          ]
        }
      ],
      "source": [
        "print(round(data['days_employed'].isna().mean() * 100, 2), \"% от выборки\")"
      ]
    },
    {
      "cell_type": "markdown",
      "metadata": {
        "id": "6BZ13zT6O-p6"
      },
      "source": [
        "## Названия колонок\n",
        "dob_years (возраст клиента) - неявно названный столбец. Его следует переименовать в **client_age**:"
      ]
    },
    {
      "cell_type": "code",
      "execution_count": 4,
      "metadata": {
        "scrolled": true,
        "colab": {
          "base_uri": "https://localhost:8080/"
        },
        "id": "EaSXd0GIO-p7",
        "outputId": "9dff11ed-ba03-4abb-afde-451e5b4ffe0f"
      },
      "outputs": [
        {
          "output_type": "execute_result",
          "data": {
            "text/plain": [
              "Index(['children', 'days_employed', 'dob_years', 'education', 'education_id',\n",
              "       'family_status', 'family_status_id', 'gender', 'income_type', 'debt',\n",
              "       'total_income', 'purpose'],\n",
              "      dtype='object')"
            ]
          },
          "metadata": {},
          "execution_count": 4
        }
      ],
      "source": [
        "data.columns"
      ]
    },
    {
      "cell_type": "code",
      "execution_count": 5,
      "metadata": {
        "colab": {
          "base_uri": "https://localhost:8080/"
        },
        "id": "WJUNzfM9O-p7",
        "outputId": "079c7424-c4fc-4594-a4b0-cff16cebe768"
      },
      "outputs": [
        {
          "output_type": "execute_result",
          "data": {
            "text/plain": [
              "Index(['children', 'days_employed', 'client_age', 'education', 'education_id',\n",
              "       'family_status', 'family_status_id', 'gender', 'income_type', 'debt',\n",
              "       'total_income', 'purpose'],\n",
              "      dtype='object')"
            ]
          },
          "metadata": {},
          "execution_count": 5
        }
      ],
      "source": [
        "data.set_axis(['children', 'days_employed', 'client_age', 'education', 'education_id', 'family_status', 'family_status_id', 'gender', 'income_type', 'debt', 'total_income', 'purpose'], axis = 1, inplace = True)\n",
        "\n",
        "data.columns"
      ]
    },
    {
      "cell_type": "markdown",
      "metadata": {
        "id": "z449UKw-O-p8"
      },
      "source": [
        "## Тип данных\n",
        "\n",
        "Колонки имеют три типа данных:\n",
        "\n",
        "* целые числа,\n",
        "* строки,\n",
        "* вещественные числа. \n",
        "\n",
        "Возможно, есть необходимость смены типа данных в колонках: days_employed - количество дней должно быть целочисленным, а не вещественным.\n",
        "\n",
        "### Некорректные значения\n",
        "\n",
        "Рассмотрим начало и конец датафрейма:"
      ]
    },
    {
      "cell_type": "code",
      "execution_count": 6,
      "metadata": {
        "colab": {
          "base_uri": "https://localhost:8080/"
        },
        "id": "zIOYhjTuO-p8",
        "outputId": "c45930ff-af5b-4df5-9167-b0d2308ad378"
      },
      "outputs": [
        {
          "output_type": "stream",
          "name": "stdout",
          "text": [
            "   children  days_employed  client_age education  education_id  \\\n",
            "0         1   -8437.673028          42    высшее             0   \n",
            "1         1   -4024.803754          36   среднее             1   \n",
            "2         0   -5623.422610          33   Среднее             1   \n",
            "3         3   -4124.747207          32   среднее             1   \n",
            "4         0  340266.072047          53   среднее             1   \n",
            "5         0    -926.185831          27    высшее             0   \n",
            "6         0   -2879.202052          43    высшее             0   \n",
            "7         0    -152.779569          50   СРЕДНЕЕ             1   \n",
            "8         2   -6929.865299          35    ВЫСШЕЕ             0   \n",
            "9         0   -2188.756445          41   среднее             1   \n",
            "\n",
            "      family_status  family_status_id gender income_type  debt   total_income  \\\n",
            "0   женат / замужем                 0      F   сотрудник     0  253875.639453   \n",
            "1   женат / замужем                 0      F   сотрудник     0  112080.014102   \n",
            "2   женат / замужем                 0      M   сотрудник     0  145885.952297   \n",
            "3   женат / замужем                 0      M   сотрудник     0  267628.550329   \n",
            "4  гражданский брак                 1      F   пенсионер     0  158616.077870   \n",
            "5  гражданский брак                 1      M   компаньон     0  255763.565419   \n",
            "6   женат / замужем                 0      F   компаньон     0  240525.971920   \n",
            "7   женат / замужем                 0      M   сотрудник     0  135823.934197   \n",
            "8  гражданский брак                 1      F   сотрудник     0   95856.832424   \n",
            "9   женат / замужем                 0      M   сотрудник     0  144425.938277   \n",
            "\n",
            "                      purpose  \n",
            "0               покупка жилья  \n",
            "1     приобретение автомобиля  \n",
            "2               покупка жилья  \n",
            "3  дополнительное образование  \n",
            "4             сыграть свадьбу  \n",
            "5               покупка жилья  \n",
            "6           операции с жильем  \n",
            "7                 образование  \n",
            "8       на проведение свадьбы  \n",
            "9     покупка жилья для семьи  \n",
            "\n",
            "       children  days_employed  client_age       education  education_id  \\\n",
            "21515         1    -467.685130          28         среднее             1   \n",
            "21516         0    -914.391429          42          высшее             0   \n",
            "21517         0    -404.679034          42          высшее             0   \n",
            "21518         0  373995.710838          59         СРЕДНЕЕ             1   \n",
            "21519         1   -2351.431934          37  ученая степень             4   \n",
            "21520         1   -4529.316663          43         среднее             1   \n",
            "21521         0  343937.404131          67         среднее             1   \n",
            "21522         1   -2113.346888          38         среднее             1   \n",
            "21523         3   -3112.481705          38         среднее             1   \n",
            "21524         2   -1984.507589          40         среднее             1   \n",
            "\n",
            "          family_status  family_status_id gender income_type  debt  \\\n",
            "21515   женат / замужем                 0      F   сотрудник     1   \n",
            "21516   женат / замужем                 0      F   компаньон     0   \n",
            "21517  гражданский брак                 1      F   компаньон     0   \n",
            "21518   женат / замужем                 0      F   пенсионер     0   \n",
            "21519         в разводе                 3      M   сотрудник     0   \n",
            "21520  гражданский брак                 1      F   компаньон     0   \n",
            "21521   женат / замужем                 0      F   пенсионер     0   \n",
            "21522  гражданский брак                 1      M   сотрудник     1   \n",
            "21523   женат / замужем                 0      M   сотрудник     1   \n",
            "21524   женат / замужем                 0      F   сотрудник     0   \n",
            "\n",
            "        total_income                            purpose  \n",
            "21515  109486.327999              заняться образованием  \n",
            "21516  322807.776603               покупка своего жилья  \n",
            "21517  178059.553491       на покупку своего автомобиля  \n",
            "21518  153864.650328               сделка с автомобилем  \n",
            "21519  115949.039788  покупка коммерческой недвижимости  \n",
            "21520  224791.862382                  операции с жильем  \n",
            "21521  155999.806512               сделка с автомобилем  \n",
            "21522   89672.561153                       недвижимость  \n",
            "21523  244093.050500       на покупку своего автомобиля  \n",
            "21524   82047.418899              на покупку автомобиля  \n"
          ]
        }
      ],
      "source": [
        "print(data.head(10))\n",
        "print('')\n",
        "print(data.tail(10))"
      ]
    },
    {
      "cell_type": "markdown",
      "metadata": {
        "id": "4TEFV7oFO-p8"
      },
      "source": [
        "выявленные некорректные значения:\n",
        "\n",
        "* days_employed - наличие отрицательных значений, наличие сверхвысоких значений (ошибка разряда)\n",
        "* education - различное написание одних и тех же категорий - строчные и прописные буквы\n",
        "* purpose - различная формулировка целей - сделка с автомобилем, покупка автомобиля, покупка своего автомобиля, покупка жилья, операции с жильём, образование, дополнительное образование и пр."
      ]
    },
    {
      "cell_type": "markdown",
      "metadata": {
        "id": "CXkoGjv4O-p9"
      },
      "source": [
        "## Необходимые колонки\n",
        "\n",
        "Для ответа на изначально поставленные вопросы нужны следующие колонки:\n",
        "* children,\n",
        "* family_status и\n",
        "* debt\n",
        "    \n",
        "Для ответа на дополнительные вопросы нужны ещё следующие колонки:\n",
        "* total_income и\n",
        "* purpose\n"
      ]
    },
    {
      "cell_type": "code",
      "execution_count": 7,
      "metadata": {
        "colab": {
          "base_uri": "https://localhost:8080/"
        },
        "id": "C64nnIW6O-p9",
        "outputId": "7b84c9e5-3d1e-4b1f-b951-4ffdd6d8e677"
      },
      "outputs": [
        {
          "output_type": "stream",
          "name": "stdout",
          "text": [
            " 0     14149\n",
            " 1      4818\n",
            " 2      2055\n",
            " 3       330\n",
            " 20       76\n",
            "-1        47\n",
            " 4        41\n",
            " 5         9\n",
            "Name: children, dtype: int64\n"
          ]
        }
      ],
      "source": [
        "print(data['children'].value_counts())"
      ]
    },
    {
      "cell_type": "markdown",
      "metadata": {
        "id": "U3BcmOudO-p9"
      },
      "source": [
        "в колонке children возможно некорректное значение 20, которое м.б. на самом деле 2, а также точно некорректное значение -1, которое, скорее всего, должно быть 1"
      ]
    },
    {
      "cell_type": "code",
      "execution_count": 8,
      "metadata": {
        "colab": {
          "base_uri": "https://localhost:8080/"
        },
        "id": "3rFbs98oO-p9",
        "outputId": "b916017a-7c62-42ed-c6a5-60b7bae27be6"
      },
      "outputs": [
        {
          "output_type": "stream",
          "name": "stdout",
          "text": [
            "женат / замужем          12380\n",
            "гражданский брак          4177\n",
            "Не женат / не замужем     2813\n",
            "в разводе                 1195\n",
            "вдовец / вдова             960\n",
            "Name: family_status, dtype: int64\n"
          ]
        }
      ],
      "source": [
        "print(data['family_status'].value_counts())"
      ]
    },
    {
      "cell_type": "markdown",
      "metadata": {
        "id": "RwbCZsuMO-p-"
      },
      "source": [
        "в колонке family_status пропусков и дубликатов нет, есть только категория, начинающаяся с заглавной буквы, что можно скорректировать:"
      ]
    },
    {
      "cell_type": "code",
      "execution_count": 9,
      "metadata": {
        "colab": {
          "base_uri": "https://localhost:8080/"
        },
        "id": "VGaEPbWWO-p-",
        "outputId": "d99f87c9-cdde-4fec-e07a-9b07cc4acbf7"
      },
      "outputs": [
        {
          "output_type": "stream",
          "name": "stdout",
          "text": [
            "женат / замужем          12380\n",
            "гражданский брак          4177\n",
            "не женат / не замужем     2813\n",
            "в разводе                 1195\n",
            "вдовец / вдова             960\n",
            "Name: family_status, dtype: int64\n"
          ]
        }
      ],
      "source": [
        "data['family_status'] = data['family_status'].str.lower()\n",
        "print(data['family_status'].value_counts())"
      ]
    },
    {
      "cell_type": "code",
      "execution_count": 10,
      "metadata": {
        "scrolled": true,
        "colab": {
          "base_uri": "https://localhost:8080/"
        },
        "id": "Qap-4GOSO-p_",
        "outputId": "016f6fe0-8a26-4f43-83ce-15b285c3932f"
      },
      "outputs": [
        {
          "output_type": "stream",
          "name": "stdout",
          "text": [
            "0    19784\n",
            "1     1741\n",
            "Name: debt, dtype: int64\n"
          ]
        }
      ],
      "source": [
        "print(data['debt'].value_counts())"
      ]
    },
    {
      "cell_type": "markdown",
      "metadata": {
        "id": "_hcO2QqeO-p_"
      },
      "source": [
        "количество должников невелико и составляет"
      ]
    },
    {
      "cell_type": "code",
      "execution_count": 11,
      "metadata": {
        "colab": {
          "base_uri": "https://localhost:8080/"
        },
        "id": "2_wN3zdTO-qA",
        "outputId": "ae366fdf-718b-472a-ad82-32bdb1d3a9f4"
      },
      "outputs": [
        {
          "output_type": "stream",
          "name": "stdout",
          "text": [
            "8.1 % от выборки\n"
          ]
        }
      ],
      "source": [
        "print(round(data[data['debt'] == 1]['debt'].count() / len(data) * 100, 1), \"% от выборки\")"
      ]
    },
    {
      "cell_type": "code",
      "execution_count": 12,
      "metadata": {
        "colab": {
          "base_uri": "https://localhost:8080/",
          "height": 344
        },
        "id": "2iFQXdeGO-qC",
        "outputId": "7120b03a-958d-4c84-f3b9-e6ed33a8fd8e"
      },
      "outputs": [
        {
          "output_type": "execute_result",
          "data": {
            "text/plain": [
              "           children  days_employed    client_age  education_id  \\\n",
              "count  21525.000000   19351.000000  21525.000000  21525.000000   \n",
              "mean       0.538908   63046.497661     43.293380      0.817236   \n",
              "std        1.381587  140827.311974     12.574584      0.548138   \n",
              "min       -1.000000  -18388.949901      0.000000      0.000000   \n",
              "25%        0.000000   -2747.423625     33.000000      1.000000   \n",
              "50%        0.000000   -1203.369529     42.000000      1.000000   \n",
              "75%        1.000000    -291.095954     53.000000      1.000000   \n",
              "max       20.000000  401755.400475     75.000000      4.000000   \n",
              "\n",
              "       family_status_id          debt  total_income  \n",
              "count      21525.000000  21525.000000  1.935100e+04  \n",
              "mean           0.972544      0.080883  1.674223e+05  \n",
              "std            1.420324      0.272661  1.029716e+05  \n",
              "min            0.000000      0.000000  2.066726e+04  \n",
              "25%            0.000000      0.000000  1.030532e+05  \n",
              "50%            0.000000      0.000000  1.450179e+05  \n",
              "75%            1.000000      0.000000  2.034351e+05  \n",
              "max            4.000000      1.000000  2.265604e+06  "
            ],
            "text/html": [
              "\n",
              "  <div id=\"df-0b17d81b-b5fa-48a0-a271-efd012731596\">\n",
              "    <div class=\"colab-df-container\">\n",
              "      <div>\n",
              "<style scoped>\n",
              "    .dataframe tbody tr th:only-of-type {\n",
              "        vertical-align: middle;\n",
              "    }\n",
              "\n",
              "    .dataframe tbody tr th {\n",
              "        vertical-align: top;\n",
              "    }\n",
              "\n",
              "    .dataframe thead th {\n",
              "        text-align: right;\n",
              "    }\n",
              "</style>\n",
              "<table border=\"1\" class=\"dataframe\">\n",
              "  <thead>\n",
              "    <tr style=\"text-align: right;\">\n",
              "      <th></th>\n",
              "      <th>children</th>\n",
              "      <th>days_employed</th>\n",
              "      <th>client_age</th>\n",
              "      <th>education_id</th>\n",
              "      <th>family_status_id</th>\n",
              "      <th>debt</th>\n",
              "      <th>total_income</th>\n",
              "    </tr>\n",
              "  </thead>\n",
              "  <tbody>\n",
              "    <tr>\n",
              "      <th>count</th>\n",
              "      <td>21525.000000</td>\n",
              "      <td>19351.000000</td>\n",
              "      <td>21525.000000</td>\n",
              "      <td>21525.000000</td>\n",
              "      <td>21525.000000</td>\n",
              "      <td>21525.000000</td>\n",
              "      <td>1.935100e+04</td>\n",
              "    </tr>\n",
              "    <tr>\n",
              "      <th>mean</th>\n",
              "      <td>0.538908</td>\n",
              "      <td>63046.497661</td>\n",
              "      <td>43.293380</td>\n",
              "      <td>0.817236</td>\n",
              "      <td>0.972544</td>\n",
              "      <td>0.080883</td>\n",
              "      <td>1.674223e+05</td>\n",
              "    </tr>\n",
              "    <tr>\n",
              "      <th>std</th>\n",
              "      <td>1.381587</td>\n",
              "      <td>140827.311974</td>\n",
              "      <td>12.574584</td>\n",
              "      <td>0.548138</td>\n",
              "      <td>1.420324</td>\n",
              "      <td>0.272661</td>\n",
              "      <td>1.029716e+05</td>\n",
              "    </tr>\n",
              "    <tr>\n",
              "      <th>min</th>\n",
              "      <td>-1.000000</td>\n",
              "      <td>-18388.949901</td>\n",
              "      <td>0.000000</td>\n",
              "      <td>0.000000</td>\n",
              "      <td>0.000000</td>\n",
              "      <td>0.000000</td>\n",
              "      <td>2.066726e+04</td>\n",
              "    </tr>\n",
              "    <tr>\n",
              "      <th>25%</th>\n",
              "      <td>0.000000</td>\n",
              "      <td>-2747.423625</td>\n",
              "      <td>33.000000</td>\n",
              "      <td>1.000000</td>\n",
              "      <td>0.000000</td>\n",
              "      <td>0.000000</td>\n",
              "      <td>1.030532e+05</td>\n",
              "    </tr>\n",
              "    <tr>\n",
              "      <th>50%</th>\n",
              "      <td>0.000000</td>\n",
              "      <td>-1203.369529</td>\n",
              "      <td>42.000000</td>\n",
              "      <td>1.000000</td>\n",
              "      <td>0.000000</td>\n",
              "      <td>0.000000</td>\n",
              "      <td>1.450179e+05</td>\n",
              "    </tr>\n",
              "    <tr>\n",
              "      <th>75%</th>\n",
              "      <td>1.000000</td>\n",
              "      <td>-291.095954</td>\n",
              "      <td>53.000000</td>\n",
              "      <td>1.000000</td>\n",
              "      <td>1.000000</td>\n",
              "      <td>0.000000</td>\n",
              "      <td>2.034351e+05</td>\n",
              "    </tr>\n",
              "    <tr>\n",
              "      <th>max</th>\n",
              "      <td>20.000000</td>\n",
              "      <td>401755.400475</td>\n",
              "      <td>75.000000</td>\n",
              "      <td>4.000000</td>\n",
              "      <td>4.000000</td>\n",
              "      <td>1.000000</td>\n",
              "      <td>2.265604e+06</td>\n",
              "    </tr>\n",
              "  </tbody>\n",
              "</table>\n",
              "</div>\n",
              "      <button class=\"colab-df-convert\" onclick=\"convertToInteractive('df-0b17d81b-b5fa-48a0-a271-efd012731596')\"\n",
              "              title=\"Convert this dataframe to an interactive table.\"\n",
              "              style=\"display:none;\">\n",
              "        \n",
              "  <svg xmlns=\"http://www.w3.org/2000/svg\" height=\"24px\"viewBox=\"0 0 24 24\"\n",
              "       width=\"24px\">\n",
              "    <path d=\"M0 0h24v24H0V0z\" fill=\"none\"/>\n",
              "    <path d=\"M18.56 5.44l.94 2.06.94-2.06 2.06-.94-2.06-.94-.94-2.06-.94 2.06-2.06.94zm-11 1L8.5 8.5l.94-2.06 2.06-.94-2.06-.94L8.5 2.5l-.94 2.06-2.06.94zm10 10l.94 2.06.94-2.06 2.06-.94-2.06-.94-.94-2.06-.94 2.06-2.06.94z\"/><path d=\"M17.41 7.96l-1.37-1.37c-.4-.4-.92-.59-1.43-.59-.52 0-1.04.2-1.43.59L10.3 9.45l-7.72 7.72c-.78.78-.78 2.05 0 2.83L4 21.41c.39.39.9.59 1.41.59.51 0 1.02-.2 1.41-.59l7.78-7.78 2.81-2.81c.8-.78.8-2.07 0-2.86zM5.41 20L4 18.59l7.72-7.72 1.47 1.35L5.41 20z\"/>\n",
              "  </svg>\n",
              "      </button>\n",
              "      \n",
              "  <style>\n",
              "    .colab-df-container {\n",
              "      display:flex;\n",
              "      flex-wrap:wrap;\n",
              "      gap: 12px;\n",
              "    }\n",
              "\n",
              "    .colab-df-convert {\n",
              "      background-color: #E8F0FE;\n",
              "      border: none;\n",
              "      border-radius: 50%;\n",
              "      cursor: pointer;\n",
              "      display: none;\n",
              "      fill: #1967D2;\n",
              "      height: 32px;\n",
              "      padding: 0 0 0 0;\n",
              "      width: 32px;\n",
              "    }\n",
              "\n",
              "    .colab-df-convert:hover {\n",
              "      background-color: #E2EBFA;\n",
              "      box-shadow: 0px 1px 2px rgba(60, 64, 67, 0.3), 0px 1px 3px 1px rgba(60, 64, 67, 0.15);\n",
              "      fill: #174EA6;\n",
              "    }\n",
              "\n",
              "    [theme=dark] .colab-df-convert {\n",
              "      background-color: #3B4455;\n",
              "      fill: #D2E3FC;\n",
              "    }\n",
              "\n",
              "    [theme=dark] .colab-df-convert:hover {\n",
              "      background-color: #434B5C;\n",
              "      box-shadow: 0px 1px 3px 1px rgba(0, 0, 0, 0.15);\n",
              "      filter: drop-shadow(0px 1px 2px rgba(0, 0, 0, 0.3));\n",
              "      fill: #FFFFFF;\n",
              "    }\n",
              "  </style>\n",
              "\n",
              "      <script>\n",
              "        const buttonEl =\n",
              "          document.querySelector('#df-0b17d81b-b5fa-48a0-a271-efd012731596 button.colab-df-convert');\n",
              "        buttonEl.style.display =\n",
              "          google.colab.kernel.accessAllowed ? 'block' : 'none';\n",
              "\n",
              "        async function convertToInteractive(key) {\n",
              "          const element = document.querySelector('#df-0b17d81b-b5fa-48a0-a271-efd012731596');\n",
              "          const dataTable =\n",
              "            await google.colab.kernel.invokeFunction('convertToInteractive',\n",
              "                                                     [key], {});\n",
              "          if (!dataTable) return;\n",
              "\n",
              "          const docLinkHtml = 'Like what you see? Visit the ' +\n",
              "            '<a target=\"_blank\" href=https://colab.research.google.com/notebooks/data_table.ipynb>data table notebook</a>'\n",
              "            + ' to learn more about interactive tables.';\n",
              "          element.innerHTML = '';\n",
              "          dataTable['output_type'] = 'display_data';\n",
              "          await google.colab.output.renderOutput(dataTable, element);\n",
              "          const docLink = document.createElement('div');\n",
              "          docLink.innerHTML = docLinkHtml;\n",
              "          element.appendChild(docLink);\n",
              "        }\n",
              "      </script>\n",
              "    </div>\n",
              "  </div>\n",
              "  "
            ]
          },
          "metadata": {},
          "execution_count": 12
        }
      ],
      "source": [
        "data.describe()"
      ]
    },
    {
      "cell_type": "markdown",
      "metadata": {
        "id": "FzXQxnFqO-qA"
      },
      "source": [
        "**Вывод**"
      ]
    },
    {
      "cell_type": "markdown",
      "metadata": {
        "id": "1NjUbNp1O-qA"
      },
      "source": [
        "Для ответа на основные вопросы необходимо:   \n",
        "* обработка дубликатов колонки children\n",
        "* категоризация данных children, поскольку в одной из версий вопроса нет связи с количеством детей и достаточно иметь переменную типа boolean, отражающую наличие детей. В этом случае выявленные некорректные значения 20 и -1 будут отнесены в одну группу. Их количество составляет:"
      ]
    },
    {
      "cell_type": "code",
      "execution_count": 13,
      "metadata": {
        "scrolled": true,
        "colab": {
          "base_uri": "https://localhost:8080/"
        },
        "id": "SV1uSZ_zO-qB",
        "outputId": "8f2af122-5b05-49f9-ae20-f2ef7b54ce78"
      },
      "outputs": [
        {
          "output_type": "stream",
          "name": "stdout",
          "text": [
            "0.35 %\n",
            "0.22 %\n"
          ]
        }
      ],
      "source": [
        "print(round(data[data['children'] == 20]['children'].count() / 21515 * 100, 2), \"%\")\n",
        "print(round(data[data['children'] == -1]['children'].count() / 21515 * 100, 2), '%')"
      ]
    },
    {
      "cell_type": "markdown",
      "metadata": {
        "id": "nTFkmSZqO-qB"
      },
      "source": [
        "что не является критичным в случае неверного предположения о том, что 20 д.б. 2, а -1 д.б. 1.\n",
        "\n",
        "Для ответа на дополнительные вопросы необходимо:\n",
        "* заполнение пропусков total_income и\n",
        "* лемматизация purpose.\n",
        "\n",
        "Не нужно для ответа на вопросы, но сделано в рамках обучения:\n",
        "* заполнение пропусков days_employed,\n",
        "* смены типа данных days_employed на целочисленный,\n",
        "* замена отрицательных значений days_employed на положительные,\n",
        "* приведение сверхвысоких значений days_employed к реальным,\n",
        "* обработка дубликатов education - приедение к единому написанию значений строчными буквами"
      ]
    },
    {
      "cell_type": "markdown",
      "metadata": {
        "id": "QWJSX2IuO-qC"
      },
      "source": [
        "# Предобработка данных"
      ]
    },
    {
      "cell_type": "markdown",
      "metadata": {
        "id": "FUntZa2lO-qD"
      },
      "source": [
        "## Обработка пропусков"
      ]
    },
    {
      "cell_type": "markdown",
      "metadata": {
        "id": "D1gxThMAO-qD"
      },
      "source": [
        "Строки с пропущенными значениями total_income и days_employed составляют около 10%. Потеря 10% строк  может оказать влияние на выводы, сделанные по другим колонкам. Следовательно, предпочтительнее заполнить пропуски.\n",
        "\n",
        "Значения в колонках total_income и days_employed имеют тип вещественных чисел и отражают общий доход клиента и трудовой стаж в днях. Данные являются количественными и пропуски могут быть заменены характерными значениями в выборке."
      ]
    },
    {
      "cell_type": "markdown",
      "metadata": {
        "id": "-B_uOSr0O-qE"
      },
      "source": [
        "### Обработка пропусков колонки total_income.\n",
        "\n",
        "Исследуем выборку вычислив минимальное, максимальное, среднее и медианное значения: "
      ]
    },
    {
      "cell_type": "code",
      "execution_count": 14,
      "metadata": {
        "scrolled": true,
        "colab": {
          "base_uri": "https://localhost:8080/"
        },
        "id": "L6gu7PJ7O-qE",
        "outputId": "b40b7093-d2d0-4439-bd9c-4637a80155e1"
      },
      "outputs": [
        {
          "output_type": "stream",
          "name": "stdout",
          "text": [
            "Количество строк до обработки пропусков 19351\n",
            "\n",
            "минимальное значение 20667\n",
            "максимальное значение 2265604\n",
            "среднее значение 167422\n",
            "медианное значение 145018\n"
          ]
        }
      ],
      "source": [
        "print(f\"Количество строк до обработки пропусков {data['total_income'].count()}\\n\")\n",
        "print(f\"минимальное значение {round(data['total_income'].min())}\\\n",
        "\\nмаксимальное значение {round(data['total_income'].max())}\\\n",
        "\\nсреднее значение {round((data['total_income'].mean()))}\\\n",
        "\\nмедианное значение {round((data['total_income'].median()))}\")"
      ]
    },
    {
      "cell_type": "code",
      "execution_count": 15,
      "metadata": {
        "scrolled": true,
        "colab": {
          "base_uri": "https://localhost:8080/",
          "height": 331
        },
        "id": "xAENc-OKO-qG",
        "outputId": "3aa76203-2e5a-4950-bdbb-96df810ddaf3"
      },
      "outputs": [
        {
          "output_type": "execute_result",
          "data": {
            "text/plain": [
              "                  total_income\n",
              "income_type                   \n",
              "в декрете         53829.130729\n",
              "студент           98201.625314\n",
              "пенсионер        118514.486412\n",
              "безработный      131339.751676\n",
              "сотрудник        142594.396847\n",
              "госслужащий      150447.935283\n",
              "компаньон        172357.950966\n",
              "предприниматель  499163.144947"
            ],
            "text/html": [
              "\n",
              "  <div id=\"df-36b91ab1-2420-4299-87b2-216cb90cdbd2\">\n",
              "    <div class=\"colab-df-container\">\n",
              "      <div>\n",
              "<style scoped>\n",
              "    .dataframe tbody tr th:only-of-type {\n",
              "        vertical-align: middle;\n",
              "    }\n",
              "\n",
              "    .dataframe tbody tr th {\n",
              "        vertical-align: top;\n",
              "    }\n",
              "\n",
              "    .dataframe thead th {\n",
              "        text-align: right;\n",
              "    }\n",
              "</style>\n",
              "<table border=\"1\" class=\"dataframe\">\n",
              "  <thead>\n",
              "    <tr style=\"text-align: right;\">\n",
              "      <th></th>\n",
              "      <th>total_income</th>\n",
              "    </tr>\n",
              "    <tr>\n",
              "      <th>income_type</th>\n",
              "      <th></th>\n",
              "    </tr>\n",
              "  </thead>\n",
              "  <tbody>\n",
              "    <tr>\n",
              "      <th>в декрете</th>\n",
              "      <td>53829.130729</td>\n",
              "    </tr>\n",
              "    <tr>\n",
              "      <th>студент</th>\n",
              "      <td>98201.625314</td>\n",
              "    </tr>\n",
              "    <tr>\n",
              "      <th>пенсионер</th>\n",
              "      <td>118514.486412</td>\n",
              "    </tr>\n",
              "    <tr>\n",
              "      <th>безработный</th>\n",
              "      <td>131339.751676</td>\n",
              "    </tr>\n",
              "    <tr>\n",
              "      <th>сотрудник</th>\n",
              "      <td>142594.396847</td>\n",
              "    </tr>\n",
              "    <tr>\n",
              "      <th>госслужащий</th>\n",
              "      <td>150447.935283</td>\n",
              "    </tr>\n",
              "    <tr>\n",
              "      <th>компаньон</th>\n",
              "      <td>172357.950966</td>\n",
              "    </tr>\n",
              "    <tr>\n",
              "      <th>предприниматель</th>\n",
              "      <td>499163.144947</td>\n",
              "    </tr>\n",
              "  </tbody>\n",
              "</table>\n",
              "</div>\n",
              "      <button class=\"colab-df-convert\" onclick=\"convertToInteractive('df-36b91ab1-2420-4299-87b2-216cb90cdbd2')\"\n",
              "              title=\"Convert this dataframe to an interactive table.\"\n",
              "              style=\"display:none;\">\n",
              "        \n",
              "  <svg xmlns=\"http://www.w3.org/2000/svg\" height=\"24px\"viewBox=\"0 0 24 24\"\n",
              "       width=\"24px\">\n",
              "    <path d=\"M0 0h24v24H0V0z\" fill=\"none\"/>\n",
              "    <path d=\"M18.56 5.44l.94 2.06.94-2.06 2.06-.94-2.06-.94-.94-2.06-.94 2.06-2.06.94zm-11 1L8.5 8.5l.94-2.06 2.06-.94-2.06-.94L8.5 2.5l-.94 2.06-2.06.94zm10 10l.94 2.06.94-2.06 2.06-.94-2.06-.94-.94-2.06-.94 2.06-2.06.94z\"/><path d=\"M17.41 7.96l-1.37-1.37c-.4-.4-.92-.59-1.43-.59-.52 0-1.04.2-1.43.59L10.3 9.45l-7.72 7.72c-.78.78-.78 2.05 0 2.83L4 21.41c.39.39.9.59 1.41.59.51 0 1.02-.2 1.41-.59l7.78-7.78 2.81-2.81c.8-.78.8-2.07 0-2.86zM5.41 20L4 18.59l7.72-7.72 1.47 1.35L5.41 20z\"/>\n",
              "  </svg>\n",
              "      </button>\n",
              "      \n",
              "  <style>\n",
              "    .colab-df-container {\n",
              "      display:flex;\n",
              "      flex-wrap:wrap;\n",
              "      gap: 12px;\n",
              "    }\n",
              "\n",
              "    .colab-df-convert {\n",
              "      background-color: #E8F0FE;\n",
              "      border: none;\n",
              "      border-radius: 50%;\n",
              "      cursor: pointer;\n",
              "      display: none;\n",
              "      fill: #1967D2;\n",
              "      height: 32px;\n",
              "      padding: 0 0 0 0;\n",
              "      width: 32px;\n",
              "    }\n",
              "\n",
              "    .colab-df-convert:hover {\n",
              "      background-color: #E2EBFA;\n",
              "      box-shadow: 0px 1px 2px rgba(60, 64, 67, 0.3), 0px 1px 3px 1px rgba(60, 64, 67, 0.15);\n",
              "      fill: #174EA6;\n",
              "    }\n",
              "\n",
              "    [theme=dark] .colab-df-convert {\n",
              "      background-color: #3B4455;\n",
              "      fill: #D2E3FC;\n",
              "    }\n",
              "\n",
              "    [theme=dark] .colab-df-convert:hover {\n",
              "      background-color: #434B5C;\n",
              "      box-shadow: 0px 1px 3px 1px rgba(0, 0, 0, 0.15);\n",
              "      filter: drop-shadow(0px 1px 2px rgba(0, 0, 0, 0.3));\n",
              "      fill: #FFFFFF;\n",
              "    }\n",
              "  </style>\n",
              "\n",
              "      <script>\n",
              "        const buttonEl =\n",
              "          document.querySelector('#df-36b91ab1-2420-4299-87b2-216cb90cdbd2 button.colab-df-convert');\n",
              "        buttonEl.style.display =\n",
              "          google.colab.kernel.accessAllowed ? 'block' : 'none';\n",
              "\n",
              "        async function convertToInteractive(key) {\n",
              "          const element = document.querySelector('#df-36b91ab1-2420-4299-87b2-216cb90cdbd2');\n",
              "          const dataTable =\n",
              "            await google.colab.kernel.invokeFunction('convertToInteractive',\n",
              "                                                     [key], {});\n",
              "          if (!dataTable) return;\n",
              "\n",
              "          const docLinkHtml = 'Like what you see? Visit the ' +\n",
              "            '<a target=\"_blank\" href=https://colab.research.google.com/notebooks/data_table.ipynb>data table notebook</a>'\n",
              "            + ' to learn more about interactive tables.';\n",
              "          element.innerHTML = '';\n",
              "          dataTable['output_type'] = 'display_data';\n",
              "          await google.colab.output.renderOutput(dataTable, element);\n",
              "          const docLink = document.createElement('div');\n",
              "          docLink.innerHTML = docLinkHtml;\n",
              "          element.appendChild(docLink);\n",
              "        }\n",
              "      </script>\n",
              "    </div>\n",
              "  </div>\n",
              "  "
            ]
          },
          "metadata": {},
          "execution_count": 15
        }
      ],
      "source": [
        "data.pivot_table(index = 'income_type', values = 'total_income', aggfunc = 'median').sort_values('total_income')"
      ]
    },
    {
      "cell_type": "code",
      "execution_count": 16,
      "metadata": {
        "scrolled": true,
        "colab": {
          "base_uri": "https://localhost:8080/"
        },
        "id": "DkWJBorXO-qH",
        "outputId": "dadcf0be-b35d-4296-d710-38d5cdf94029"
      },
      "outputs": [
        {
          "output_type": "stream",
          "name": "stdout",
          "text": [
            "53829.13072905995\n"
          ]
        }
      ],
      "source": [
        "print(data[data['income_type'] == 'в декрете']['total_income'].median())"
      ]
    },
    {
      "cell_type": "code",
      "execution_count": 17,
      "metadata": {
        "scrolled": true,
        "colab": {
          "base_uri": "https://localhost:8080/"
        },
        "id": "je09I25MO-qI",
        "outputId": "685b3942-b863-41e0-8a7a-8c93eeddffe2"
      },
      "outputs": [
        {
          "output_type": "stream",
          "name": "stdout",
          "text": [
            "\n",
            "Количество строк после обработки пропусков 21525\n"
          ]
        }
      ],
      "source": [
        "income_types = data['income_type'].unique()\n",
        "\n",
        "def income_fillna(row):\n",
        "    if pd.isna(row['total_income']):\n",
        "        for i in income_types:\n",
        "            if row['income_type'] == i:\n",
        "                row['total_income'] = data[data['income_type'] == i]['total_income'].median() #присвоение медианы исходя из группы занятости\n",
        "                return row\n",
        "    else:\n",
        "        return row\n",
        "    \n",
        "data = data.apply(income_fillna, axis = 1)\n",
        "\n",
        "print(f\"\\nКоличество строк после обработки пропусков {data['total_income'].count()}\")"
      ]
    },
    {
      "cell_type": "markdown",
      "metadata": {
        "id": "B_Rlw018O-qK"
      },
      "source": [
        "### Обработка некорректных значений колонки days_employed.\n",
        "\n",
        "Количество проработанных дней логичнее всего анализировать вместе с возрастом клиента:"
      ]
    },
    {
      "cell_type": "code",
      "execution_count": 18,
      "metadata": {
        "scrolled": true,
        "colab": {
          "base_uri": "https://localhost:8080/",
          "height": 280
        },
        "id": "CzrUuMPLO-qK",
        "outputId": "ac8dc013-9b52-4ca5-ab6a-31cf22b9bb14"
      },
      "outputs": [
        {
          "output_type": "display_data",
          "data": {
            "text/plain": [
              "<Figure size 432x288 with 1 Axes>"
            ],
            "image/png": "[encoded data removed]"
          },
          "metadata": {
            "needs_background": "light"
          }
        }
      ],
      "source": [
        "age_vs_days = data[['days_employed', 'client_age']] #для анализа выделим только нужные данные в отдельный датафрейм\n",
        "\n",
        "plot = sns.scatterplot(data = age_vs_days, x = 'client_age', y = 'days_employed') #зависимости двух количественных переменных удобно смотреть на графике"
      ]
    },
    {
      "cell_type": "markdown",
      "metadata": {
        "id": "3E7qF_CFO-qL"
      },
      "source": [
        "на графике выделяются две области - с нормальными значениями и сверхвысокими. Также обнаруживаются нулевые значения в колонке client_age. Разделим облака точек с нормальными некорректными значениями days_employed"
      ]
    },
    {
      "cell_type": "code",
      "execution_count": 19,
      "metadata": {
        "scrolled": false,
        "colab": {
          "base_uri": "https://localhost:8080/",
          "height": 280
        },
        "id": "4MlnT3x9O-qL",
        "outputId": "37c89f49-db03-48c3-9bdb-479d98b2823f"
      },
      "outputs": [
        {
          "output_type": "display_data",
          "data": {
            "text/plain": [
              "<Figure size 432x288 with 1 Axes>"
            ],
            "image/png": "[encoded data removed]"
          },
          "metadata": {
            "needs_background": "light"
          }
        }
      ],
      "source": [
        "age_vs_days_filtered = age_vs_days[(age_vs_days['days_employed'] < 100000) & (age_vs_days['client_age'] > 10)]\n",
        "age_vs_days_incorrect = age_vs_days[age_vs_days['days_employed'] > 100000]\n",
        "\n",
        "plot = sns.scatterplot(data = age_vs_days_filtered, x = 'client_age', y = 'days_employed')"
      ]
    },
    {
      "cell_type": "markdown",
      "metadata": {
        "id": "r7dAn2n2O-qM"
      },
      "source": [
        "Отрицательные значения следует обратить в положительные:"
      ]
    },
    {
      "cell_type": "code",
      "execution_count": 20,
      "metadata": {
        "scrolled": false,
        "colab": {
          "base_uri": "https://localhost:8080/",
          "height": 404
        },
        "id": "XhNDEbHOO-qN",
        "outputId": "b227f36b-cc50-4675-cb25-0b1c6c63d056"
      },
      "outputs": [
        {
          "output_type": "stream",
          "name": "stderr",
          "text": [
            "/usr/local/lib/python3.8/dist-packages/pandas/core/indexing.py:1773: SettingWithCopyWarning: \n",
            "A value is trying to be set on a copy of a slice from a DataFrame.\n",
            "Try using .loc[row_indexer,col_indexer] = value instead\n",
            "\n",
            "See the caveats in the documentation: https://pandas.pydata.org/pandas-docs/stable/user_guide/indexing.html#returning-a-view-versus-a-copy\n",
            "  self._setitem_single_column(ilocs[0], value, pi)\n"
          ]
        },
        {
          "output_type": "display_data",
          "data": {
            "text/plain": [
              "<Figure size 432x288 with 1 Axes>"
            ],
            "image/png": "[encoded data removed]"
          },
          "metadata": {
            "needs_background": "light"
          }
        }
      ],
      "source": [
        "age_vs_days_filtered.loc[:,'days_employed'] = age_vs_days_filtered.loc[:,'days_employed'] * -1\n",
        "plot_one = sns.scatterplot(data = age_vs_days_filtered, x = 'client_age', y = 'days_employed')"
      ]
    },
    {
      "cell_type": "markdown",
      "metadata": {
        "id": "W2eVQVnLO-qO"
      },
      "source": [
        "В остальном наблюдаем относительно адекватные значения - при трудовом стаже в 40 лет и пятидневной рабочей неделе человек работает 40 х 365 х 5/7 = 10428.57 дней.\n",
        "\n",
        "Рассмотрим выборку значений, отобранных как некорректные и сравним значения с корректной выборкой:"
      ]
    },
    {
      "cell_type": "code",
      "execution_count": 21,
      "metadata": {
        "scrolled": false,
        "colab": {
          "base_uri": "https://localhost:8080/",
          "height": 714
        },
        "id": "TqY4OzIMO-qR",
        "outputId": "1b1392e5-6831-4f23-b693-4df0e99890c1"
      },
      "outputs": [
        {
          "output_type": "stream",
          "name": "stdout",
          "text": [
            "20444    328728.720605\n",
            "9328     328734.923996\n",
            "17782    328771.341387\n",
            "14783    328795.726728\n",
            "7229     328827.345667\n",
            "             ...      \n",
            "7794     401663.850046\n",
            "2156     401674.466633\n",
            "7664     401675.093434\n",
            "10006    401715.811749\n",
            "6954     401755.400475\n",
            "Name: days_employed, Length: 3445, dtype: float64\n",
            "\n",
            "17437       24.141633\n",
            "8336        24.240695\n",
            "6157        30.195337\n",
            "9683        33.520665\n",
            "2127        34.701045\n",
            "             ...     \n",
            "16825    16119.687737\n",
            "17838    16264.699501\n",
            "7329     16593.472817\n",
            "4299     17615.563266\n",
            "16335    18388.949901\n",
            "Name: days_employed, Length: 15832, dtype: float64\n"
          ]
        },
        {
          "output_type": "display_data",
          "data": {
            "text/plain": [
              "<Figure size 432x288 with 1 Axes>"
            ],
            "image/png": "[encoded data removed]"
          },
          "metadata": {
            "needs_background": "light"
          }
        }
      ],
      "source": [
        "print(age_vs_days_incorrect['days_employed'].sort_values())\n",
        "print()\n",
        "print(age_vs_days_filtered['days_employed'].sort_values())\n",
        "\n",
        "plot = sns.scatterplot(data = age_vs_days_incorrect, x = 'client_age', y = 'days_employed')"
      ]
    },
    {
      "cell_type": "markdown",
      "metadata": {
        "id": "tSUq-Q0YO-qR"
      },
      "source": [
        "Из представленного следует, что некорректные значения days_employed изменяются от 328728 до 401755, тогда как корректные значения не превышают 18388. Из графика видно, что большинство некорректных значений сгруппировано в возрастной категории клиентов от 50 до 70 лет. Предположим что некорректные значения были введены из-за ошибки разряда и всё должно быть разделено на 100. Посмотрим где в таком случае на графике будут исправленные значения:"
      ]
    },
    {
      "cell_type": "code",
      "execution_count": 22,
      "metadata": {
        "scrolled": true,
        "colab": {
          "base_uri": "https://localhost:8080/",
          "height": 404
        },
        "id": "sQ91xGNSO-qS",
        "outputId": "0be6ef01-de44-4c13-965f-52e989c5eb35"
      },
      "outputs": [
        {
          "output_type": "stream",
          "name": "stderr",
          "text": [
            "/usr/local/lib/python3.8/dist-packages/pandas/core/indexing.py:1773: SettingWithCopyWarning: \n",
            "A value is trying to be set on a copy of a slice from a DataFrame.\n",
            "Try using .loc[row_indexer,col_indexer] = value instead\n",
            "\n",
            "See the caveats in the documentation: https://pandas.pydata.org/pandas-docs/stable/user_guide/indexing.html#returning-a-view-versus-a-copy\n",
            "  self._setitem_single_column(ilocs[0], value, pi)\n"
          ]
        },
        {
          "output_type": "display_data",
          "data": {
            "text/plain": [
              "<Figure size 432x288 with 1 Axes>"
            ],
            "image/png": "[encoded data removed]"
          },
          "metadata": {
            "needs_background": "light"
          }
        }
      ],
      "source": [
        "age_vs_days_incorrect.loc[:,'days_employed'] = age_vs_days_incorrect.loc[:,'days_employed'] / 24\n",
        "\n",
        "plot_one = sns.scatterplot(data = age_vs_days_filtered, x = 'client_age', y = 'days_employed')\n",
        "plot_two = sns.scatterplot(data = age_vs_days_incorrect, x = 'client_age', y = 'days_employed')"
      ]
    },
    {
      "cell_type": "markdown",
      "metadata": {
        "id": "m48sO4bSO-qS"
      },
      "source": [
        "Исправленные значения ложатся в облако точек предполагаемых верных значений, следовательно, допускаем что обработка неверных значений колонки days_employed выполнена верно."
      ]
    },
    {
      "cell_type": "markdown",
      "metadata": {
        "id": "Suh2d7qKO-qU"
      },
      "source": [
        "### Обработка пропусков колонки days_employed\n",
        "\n",
        "Рассмотрим какие значения возраста (client_age) у пропущенных значений days_employed:"
      ]
    },
    {
      "cell_type": "code",
      "execution_count": 23,
      "metadata": {
        "scrolled": true,
        "colab": {
          "base_uri": "https://localhost:8080/"
        },
        "id": "FFeDzKBgO-qU",
        "outputId": "c0736419-7bc4-4c4d-e886-bdc664d3085a"
      },
      "outputs": [
        {
          "output_type": "stream",
          "name": "stdout",
          "text": [
            "        client_age\n",
            "min       0.000000\n",
            "mean     43.632015\n",
            "median   43.000000\n",
            "max      73.000000\n"
          ]
        }
      ],
      "source": [
        "nan_days = age_vs_days[age_vs_days['days_employed'].isna() == True]\n",
        "\n",
        "print(nan_days.agg({'client_age': ['min','mean','median','max']}))"
      ]
    },
    {
      "cell_type": "markdown",
      "metadata": {
        "id": "g7zlWlBnO-qV"
      },
      "source": [
        "Разброс возрастов (client_age) для значений NaN в колонке days_employed достаточно велик; медианное и среднее значения близки. Пустые значения можно заполнить либо константой, либо случайными значениями с зависимостью от возраста:"
      ]
    },
    {
      "cell_type": "code",
      "execution_count": 24,
      "metadata": {
        "scrolled": true,
        "colab": {
          "base_uri": "https://localhost:8080/",
          "height": 610
        },
        "id": "eqD7g3wFO-qV",
        "outputId": "bd901684-c3ca-4e19-f7f6-76f842b3b944"
      },
      "outputs": [
        {
          "output_type": "stream",
          "name": "stdout",
          "text": [
            "<class 'pandas.core.frame.DataFrame'>\n",
            "RangeIndex: 21525 entries, 0 to 21524\n",
            "Data columns (total 12 columns):\n",
            " #   Column            Non-Null Count  Dtype  \n",
            "---  ------            --------------  -----  \n",
            " 0   children          21525 non-null  int64  \n",
            " 1   days_employed     21525 non-null  float64\n",
            " 2   client_age        21525 non-null  int64  \n",
            " 3   education         21525 non-null  object \n",
            " 4   education_id      21525 non-null  int64  \n",
            " 5   family_status     21525 non-null  object \n",
            " 6   family_status_id  21525 non-null  int64  \n",
            " 7   gender            21525 non-null  object \n",
            " 8   income_type       21525 non-null  object \n",
            " 9   debt              21525 non-null  int64  \n",
            " 10  total_income      21525 non-null  float64\n",
            " 11  purpose           21525 non-null  object \n",
            "dtypes: float64(2), int64(5), object(5)\n",
            "memory usage: 2.0+ MB\n"
          ]
        },
        {
          "output_type": "display_data",
          "data": {
            "text/plain": [
              "<Figure size 432x288 with 1 Axes>"
            ],
            "image/png": "[encoded data removed]"
          },
          "metadata": {
            "needs_background": "light"
          }
        }
      ],
      "source": [
        "#Способ 1: функция заполняет пустые значения days_employed константой\n",
        "def days_employed_corr(row):\n",
        "    if row < 0:\n",
        "        row = row * -1\n",
        "        return row\n",
        "    elif row > 100000:\n",
        "        row = row / 100\n",
        "        return row\n",
        "    elif pd.isna(row):\n",
        "        row = 20000\n",
        "        return row\n",
        "\n",
        "#выявлен недостаток - на графике все значения выстраиваются в линию параллельную оси 0X - нереалистично\n",
        "\n",
        "\n",
        "#Способ 2: функция заполняет пустые значения days_employed случайными значениями с зависимостью от возраста\n",
        "def days_employed_corrected(row):\n",
        "    if row['days_employed'] < 0:\n",
        "        row['days_employed'] = row['days_employed'] * -1\n",
        "        return row\n",
        "    elif row['days_employed'] > 100000:\n",
        "        row['days_employed'] = row['days_employed'] / 100\n",
        "        return row\n",
        "    elif pd.isna(row['days_employed']):\n",
        "        row['days_employed'] = row['client_age'] * random.randint(10, 240) #задание случайного количества рабочих дней в году (обычно около 240)\n",
        "        return row    \n",
        "    \n",
        "data = data.apply(days_employed_corrected, axis = 1)\n",
        "\n",
        "\n",
        "plot = sns.scatterplot(data = data, x = 'client_age', y = 'days_employed', s = 10)\n",
        "data.info()"
      ]
    },
    {
      "cell_type": "markdown",
      "metadata": {
        "id": "C-tIPgwXO-qW"
      },
      "source": [
        "Заполнение пустых значений days_employed способом 2 предпочтительнее, поскольку не возникает значительных отклонений от зависимости с возрастом."
      ]
    },
    {
      "cell_type": "markdown",
      "metadata": {
        "id": "oLsTEos2O-qW"
      },
      "source": [
        "### Обработка нулевых значений колонки client_age\n",
        "\n",
        "В ходе исследования выявились нулевые значения возраста клиента. Оценим их количество:"
      ]
    },
    {
      "cell_type": "code",
      "execution_count": 25,
      "metadata": {
        "colab": {
          "base_uri": "https://localhost:8080/"
        },
        "id": "YuIorgxRO-qW",
        "outputId": "1a75aea1-6901-4ab4-a69c-4849b0d353d4"
      },
      "outputs": [
        {
          "output_type": "stream",
          "name": "stdout",
          "text": [
            "101\n"
          ]
        }
      ],
      "source": [
        "print(data[data['client_age']==0]['client_age'].count())"
      ]
    },
    {
      "cell_type": "markdown",
      "metadata": {
        "id": "lKr8R9yNO-qX"
      },
      "source": [
        "Количество строк не велико и в данном случае можно их удалить из выборки, поскольку это не повлияет на выводы, сделанные по другим колонкам. Поскольку значения равны, то этот процесс относится к удалению дубликатов"
      ]
    },
    {
      "cell_type": "markdown",
      "metadata": {
        "id": "gfr7YtK_O-qX"
      },
      "source": [
        "**Вывод**"
      ]
    },
    {
      "cell_type": "markdown",
      "metadata": {
        "id": "xS8rDdlzO-qY"
      },
      "source": [
        "Пустые значения total_income заменены на медианные во всей выборке; пустые значения days_employed заменены в зависимости от возраста клиента. Некорректные значения days_employed изменены: отрицательные переведены в положительные, а сверхвысокие разделены на 100.\n",
        "\n",
        "Пустые значения могут быть связаны с предпочтением клиента конфиденциальности информации. Некорректные значения могут быть связаны с особенностями ввода информации. Возможно, с источниками данных, например, для категории 50-70 лет информация была некорректно снята с бумажных носителей."
      ]
    },
    {
      "cell_type": "markdown",
      "metadata": {
        "id": "NhRmxDcQO-qY"
      },
      "source": [
        "## Замена типа данных"
      ]
    },
    {
      "cell_type": "code",
      "execution_count": 26,
      "metadata": {
        "colab": {
          "base_uri": "https://localhost:8080/"
        },
        "id": "BXn1bvJPO-qY",
        "outputId": "428a3544-65e6-4c2d-e3d3-aee5372bbdbb"
      },
      "outputs": [
        {
          "output_type": "stream",
          "name": "stdout",
          "text": [
            "<class 'pandas.core.frame.DataFrame'>\n",
            "RangeIndex: 21525 entries, 0 to 21524\n",
            "Data columns (total 12 columns):\n",
            " #   Column            Non-Null Count  Dtype \n",
            "---  ------            --------------  ----- \n",
            " 0   children          21525 non-null  int64 \n",
            " 1   days_employed     21525 non-null  int64 \n",
            " 2   client_age        21525 non-null  int64 \n",
            " 3   education         21525 non-null  object\n",
            " 4   education_id      21525 non-null  int64 \n",
            " 5   family_status     21525 non-null  object\n",
            " 6   family_status_id  21525 non-null  int64 \n",
            " 7   gender            21525 non-null  object\n",
            " 8   income_type       21525 non-null  object\n",
            " 9   debt              21525 non-null  int64 \n",
            " 10  total_income      21525 non-null  int64 \n",
            " 11  purpose           21525 non-null  object\n",
            "dtypes: int64(7), object(5)\n",
            "memory usage: 2.0+ MB\n"
          ]
        }
      ],
      "source": [
        "data['days_employed'] = data['days_employed'].astype('int')\n",
        "data['total_income'] = data['total_income'].astype('int')\n",
        "data.info()"
      ]
    },
    {
      "cell_type": "markdown",
      "metadata": {
        "id": "mukr82ngO-qa"
      },
      "source": [
        "**Вывод**"
      ]
    },
    {
      "cell_type": "markdown",
      "metadata": {
        "id": "uW21WMu_O-qa"
      },
      "source": [
        "Значения с плавающей запятой в колонках days_employed и total_income заменены на целочисленный тип данных. Метод - замена значений в существующих колонках, поскольку оставлять вещественные данные отдельно не требуется и лучше не загружать им память"
      ]
    },
    {
      "cell_type": "markdown",
      "metadata": {
        "id": "Kasv_yNXO-qb"
      },
      "source": [
        "## Обработка дубликатов"
      ]
    },
    {
      "cell_type": "markdown",
      "metadata": {
        "id": "U7ivZCnZO-qc"
      },
      "source": [
        "Поиск дубликатов производится командой value_counts, которая подсчитывает унакальные значения и выстраивает их в порядке уменьшения частоты встречаемости. Если среди уникальных значений есть повторяющиеся по смыслу, то следует их объединить."
      ]
    },
    {
      "cell_type": "markdown",
      "metadata": {
        "id": "TymgTMORO-qc"
      },
      "source": [
        "### Замена дубликатов в колонке children\n",
        "\n",
        "В колонке children имеются дубликаты - нереалистичные значения 20 скорее всего должны быть 2, а некорректные значения -1 должны соответствовать 1. Выполним замену:"
      ]
    },
    {
      "cell_type": "code",
      "execution_count": 27,
      "metadata": {
        "scrolled": false,
        "colab": {
          "base_uri": "https://localhost:8080/"
        },
        "id": "Zz7DdlkUO-qc",
        "outputId": "a52e6402-225d-4045-f7a0-8031ef3ca79d"
      },
      "outputs": [
        {
          "output_type": "stream",
          "name": "stdout",
          "text": [
            "0    14149\n",
            "1     4865\n",
            "2     2131\n",
            "3      330\n",
            "4       41\n",
            "5        9\n",
            "Name: children, dtype: int64\n"
          ]
        }
      ],
      "source": [
        "data['children'] = data['children'].replace(20, 2)\n",
        "data['children'] = data['children'].replace(-1, 1)\n",
        "\n",
        "print(data['children'].value_counts())"
      ]
    },
    {
      "cell_type": "markdown",
      "metadata": {
        "id": "knrt9mOJO-qd"
      },
      "source": [
        "### Удаление строк с нулевыми значениями client_age"
      ]
    },
    {
      "cell_type": "code",
      "execution_count": 28,
      "metadata": {
        "scrolled": true,
        "colab": {
          "base_uri": "https://localhost:8080/"
        },
        "id": "CvNbiZszO-qd",
        "outputId": "cfafcc3b-ea72-41a5-ac3f-94437689691e"
      },
      "outputs": [
        {
          "output_type": "stream",
          "name": "stdout",
          "text": [
            "<class 'pandas.core.frame.DataFrame'>\n",
            "Int64Index: 21424 entries, 0 to 21524\n",
            "Data columns (total 12 columns):\n",
            " #   Column            Non-Null Count  Dtype \n",
            "---  ------            --------------  ----- \n",
            " 0   children          21424 non-null  int64 \n",
            " 1   days_employed     21424 non-null  int64 \n",
            " 2   client_age        21424 non-null  int64 \n",
            " 3   education         21424 non-null  object\n",
            " 4   education_id      21424 non-null  int64 \n",
            " 5   family_status     21424 non-null  object\n",
            " 6   family_status_id  21424 non-null  int64 \n",
            " 7   gender            21424 non-null  object\n",
            " 8   income_type       21424 non-null  object\n",
            " 9   debt              21424 non-null  int64 \n",
            " 10  total_income      21424 non-null  int64 \n",
            " 11  purpose           21424 non-null  object\n",
            "dtypes: int64(7), object(5)\n",
            "memory usage: 2.1+ MB\n"
          ]
        }
      ],
      "source": [
        "data.drop(data[data['client_age'] == 0].index, inplace = True)\n",
        "data.info()"
      ]
    },
    {
      "cell_type": "markdown",
      "metadata": {
        "id": "YFLDIRESO-qe"
      },
      "source": [
        "### Обработка дубликатов колонки education\n",
        "\n",
        "Обработка дубликатов колонки education заключается в приведении всех категориальные значения к единому написанию строчными буквами:"
      ]
    },
    {
      "cell_type": "code",
      "execution_count": 29,
      "metadata": {
        "colab": {
          "base_uri": "https://localhost:8080/"
        },
        "id": "Gi2T8IRpO-qe",
        "outputId": "660d8d59-a0b2-4586-d388-4bdf7c965bf1"
      },
      "outputs": [
        {
          "output_type": "execute_result",
          "data": {
            "text/plain": [
              "среднее                15169\n",
              "высшее                  5225\n",
              "неоконченное высшее      742\n",
              "начальное                282\n",
              "ученая степень             6\n",
              "Name: education, dtype: int64"
            ]
          },
          "metadata": {},
          "execution_count": 29
        }
      ],
      "source": [
        "data['education'] = data['education'].str.lower()\n",
        "\n",
        "data['education'].value_counts()"
      ]
    },
    {
      "cell_type": "code",
      "execution_count": 30,
      "metadata": {
        "colab": {
          "base_uri": "https://localhost:8080/"
        },
        "id": "73Aaj1rvO-qf",
        "outputId": "234e8d35-e58e-47b9-8d62-2679c68eb4b9"
      },
      "outputs": [
        {
          "output_type": "execute_result",
          "data": {
            "text/plain": [
              "21424"
            ]
          },
          "metadata": {},
          "execution_count": 30
        }
      ],
      "source": [
        "data['education'].duplicated().count()"
      ]
    },
    {
      "cell_type": "markdown",
      "metadata": {
        "id": "0Gb2WxHgO-qg"
      },
      "source": [
        "**Вывод**"
      ]
    },
    {
      "cell_type": "markdown",
      "metadata": {
        "id": "c2TpXJokO-qg"
      },
      "source": [
        "Дубликаты в колонке children были заменены исходя из предположений о некорректном введении значений 20 (ноль на нампаде мог быть расположен под двойкой) и -1 (минус мог быть прописан как тире).\n",
        "\n",
        "В колонке client_age проблемными дубликатами являются только нулевые значения, которые были удалены исходя из их незначительного количества. Первое предположение о том, что они связаны с тем, что клиент посчитал нужным не разглашать свой возраст, вряд ли корректное, поскольку у банка должна быть эта информация. Скорее всего, её нужно просто запросить и не удалять эти строки.\n",
        "\n",
        "В колонке education дубликаты связаны с различным написанием категорий, что может быть связано с различным подходом к изначальному внесению информации. Все значения были приведены к написанию строчными буквами."
      ]
    },
    {
      "cell_type": "code",
      "execution_count": 31,
      "metadata": {
        "scrolled": true,
        "colab": {
          "base_uri": "https://localhost:8080/",
          "height": 130
        },
        "id": "IF9b03twO-qh",
        "outputId": "78b626b3-63cc-475f-eb7d-e91e5120b547"
      },
      "outputs": [
        {
          "output_type": "stream",
          "name": "stdout",
          "text": [
            "0\n"
          ]
        },
        {
          "output_type": "execute_result",
          "data": {
            "text/plain": [
              "Empty DataFrame\n",
              "Columns: [children, days_employed, client_age, education, education_id, family_status, family_status_id, gender, income_type, debt, total_income, purpose]\n",
              "Index: []"
            ],
            "text/html": [
              "\n",
              "  <div id=\"df-46eadf15-eb5c-4b08-b073-d46d8fdb2c50\">\n",
              "    <div class=\"colab-df-container\">\n",
              "      <div>\n",
              "<style scoped>\n",
              "    .dataframe tbody tr th:only-of-type {\n",
              "        vertical-align: middle;\n",
              "    }\n",
              "\n",
              "    .dataframe tbody tr th {\n",
              "        vertical-align: top;\n",
              "    }\n",
              "\n",
              "    .dataframe thead th {\n",
              "        text-align: right;\n",
              "    }\n",
              "</style>\n",
              "<table border=\"1\" class=\"dataframe\">\n",
              "  <thead>\n",
              "    <tr style=\"text-align: right;\">\n",
              "      <th></th>\n",
              "      <th>children</th>\n",
              "      <th>days_employed</th>\n",
              "      <th>client_age</th>\n",
              "      <th>education</th>\n",
              "      <th>education_id</th>\n",
              "      <th>family_status</th>\n",
              "      <th>family_status_id</th>\n",
              "      <th>gender</th>\n",
              "      <th>income_type</th>\n",
              "      <th>debt</th>\n",
              "      <th>total_income</th>\n",
              "      <th>purpose</th>\n",
              "    </tr>\n",
              "  </thead>\n",
              "  <tbody>\n",
              "  </tbody>\n",
              "</table>\n",
              "</div>\n",
              "      <button class=\"colab-df-convert\" onclick=\"convertToInteractive('df-46eadf15-eb5c-4b08-b073-d46d8fdb2c50')\"\n",
              "              title=\"Convert this dataframe to an interactive table.\"\n",
              "              style=\"display:none;\">\n",
              "        \n",
              "  <svg xmlns=\"http://www.w3.org/2000/svg\" height=\"24px\"viewBox=\"0 0 24 24\"\n",
              "       width=\"24px\">\n",
              "    <path d=\"M0 0h24v24H0V0z\" fill=\"none\"/>\n",
              "    <path d=\"M18.56 5.44l.94 2.06.94-2.06 2.06-.94-2.06-.94-.94-2.06-.94 2.06-2.06.94zm-11 1L8.5 8.5l.94-2.06 2.06-.94-2.06-.94L8.5 2.5l-.94 2.06-2.06.94zm10 10l.94 2.06.94-2.06 2.06-.94-2.06-.94-.94-2.06-.94 2.06-2.06.94z\"/><path d=\"M17.41 7.96l-1.37-1.37c-.4-.4-.92-.59-1.43-.59-.52 0-1.04.2-1.43.59L10.3 9.45l-7.72 7.72c-.78.78-.78 2.05 0 2.83L4 21.41c.39.39.9.59 1.41.59.51 0 1.02-.2 1.41-.59l7.78-7.78 2.81-2.81c.8-.78.8-2.07 0-2.86zM5.41 20L4 18.59l7.72-7.72 1.47 1.35L5.41 20z\"/>\n",
              "  </svg>\n",
              "      </button>\n",
              "      \n",
              "  <style>\n",
              "    .colab-df-container {\n",
              "      display:flex;\n",
              "      flex-wrap:wrap;\n",
              "      gap: 12px;\n",
              "    }\n",
              "\n",
              "    .colab-df-convert {\n",
              "      background-color: #E8F0FE;\n",
              "      border: none;\n",
              "      border-radius: 50%;\n",
              "      cursor: pointer;\n",
              "      display: none;\n",
              "      fill: #1967D2;\n",
              "      height: 32px;\n",
              "      padding: 0 0 0 0;\n",
              "      width: 32px;\n",
              "    }\n",
              "\n",
              "    .colab-df-convert:hover {\n",
              "      background-color: #E2EBFA;\n",
              "      box-shadow: 0px 1px 2px rgba(60, 64, 67, 0.3), 0px 1px 3px 1px rgba(60, 64, 67, 0.15);\n",
              "      fill: #174EA6;\n",
              "    }\n",
              "\n",
              "    [theme=dark] .colab-df-convert {\n",
              "      background-color: #3B4455;\n",
              "      fill: #D2E3FC;\n",
              "    }\n",
              "\n",
              "    [theme=dark] .colab-df-convert:hover {\n",
              "      background-color: #434B5C;\n",
              "      box-shadow: 0px 1px 3px 1px rgba(0, 0, 0, 0.15);\n",
              "      filter: drop-shadow(0px 1px 2px rgba(0, 0, 0, 0.3));\n",
              "      fill: #FFFFFF;\n",
              "    }\n",
              "  </style>\n",
              "\n",
              "      <script>\n",
              "        const buttonEl =\n",
              "          document.querySelector('#df-46eadf15-eb5c-4b08-b073-d46d8fdb2c50 button.colab-df-convert');\n",
              "        buttonEl.style.display =\n",
              "          google.colab.kernel.accessAllowed ? 'block' : 'none';\n",
              "\n",
              "        async function convertToInteractive(key) {\n",
              "          const element = document.querySelector('#df-46eadf15-eb5c-4b08-b073-d46d8fdb2c50');\n",
              "          const dataTable =\n",
              "            await google.colab.kernel.invokeFunction('convertToInteractive',\n",
              "                                                     [key], {});\n",
              "          if (!dataTable) return;\n",
              "\n",
              "          const docLinkHtml = 'Like what you see? Visit the ' +\n",
              "            '<a target=\"_blank\" href=https://colab.research.google.com/notebooks/data_table.ipynb>data table notebook</a>'\n",
              "            + ' to learn more about interactive tables.';\n",
              "          element.innerHTML = '';\n",
              "          dataTable['output_type'] = 'display_data';\n",
              "          await google.colab.output.renderOutput(dataTable, element);\n",
              "          const docLink = document.createElement('div');\n",
              "          docLink.innerHTML = docLinkHtml;\n",
              "          element.appendChild(docLink);\n",
              "        }\n",
              "      </script>\n",
              "    </div>\n",
              "  </div>\n",
              "  "
            ]
          },
          "metadata": {},
          "execution_count": 31
        }
      ],
      "source": [
        "print(data.duplicated().sum())\n",
        "\n",
        "data[data.duplicated() == True]\n"
      ]
    },
    {
      "cell_type": "markdown",
      "metadata": {
        "id": "mXVqy1PYO-qh"
      },
      "source": [
        "Похоже, что эта строка повторилась в данных по ошибке и её удаление не повредит анализу, а пойдёт на пользу"
      ]
    },
    {
      "cell_type": "code",
      "execution_count": 32,
      "metadata": {
        "id": "yb0vT8imO-qh"
      },
      "outputs": [],
      "source": [
        "data = data.drop_duplicates().reset_index(drop = True)"
      ]
    },
    {
      "cell_type": "code",
      "execution_count": 33,
      "metadata": {
        "scrolled": true,
        "colab": {
          "base_uri": "https://localhost:8080/"
        },
        "id": "-t4tetyNO-qi",
        "outputId": "a88b67b3-cd1e-4a76-e780-1c9c66515487"
      },
      "outputs": [
        {
          "output_type": "execute_result",
          "data": {
            "text/plain": [
              "0"
            ]
          },
          "metadata": {},
          "execution_count": 33
        }
      ],
      "source": [
        "data.duplicated().sum()"
      ]
    },
    {
      "cell_type": "markdown",
      "metadata": {
        "id": "daYMU5yxO-qj"
      },
      "source": [
        "## Лемматизация"
      ]
    },
    {
      "cell_type": "markdown",
      "metadata": {
        "id": "9w_6-DSpO-qk"
      },
      "source": [
        "Колонка purpose нуждается в лемматизации, поскольку среди уникальных значений присутствуют явные дубликаты:"
      ]
    },
    {
      "cell_type": "code",
      "execution_count": 34,
      "metadata": {
        "scrolled": true,
        "colab": {
          "base_uri": "https://localhost:8080/"
        },
        "id": "-5N9oAW3O-qk",
        "outputId": "b7e90586-35f4-4052-9b2f-fd03bec327fe"
      },
      "outputs": [
        {
          "output_type": "stream",
          "name": "stdout",
          "text": [
            "свадьба                                   792\n",
            "на проведение свадьбы                     773\n",
            "сыграть свадьбу                           769\n",
            "операции с недвижимостью                  673\n",
            "покупка коммерческой недвижимости         661\n",
            "покупка жилья для сдачи                   651\n",
            "операции с коммерческой недвижимостью     649\n",
            "операции с жильем                         647\n",
            "покупка жилья                             641\n",
            "жилье                                     641\n",
            "покупка жилья для семьи                   640\n",
            "строительство собственной недвижимости    633\n",
            "операции со своей недвижимостью           630\n",
            "недвижимость                              630\n",
            "строительство жилой недвижимости          623\n",
            "покупка недвижимости                      621\n",
            "строительство недвижимости                620\n",
            "покупка своего жилья                      619\n",
            "ремонт жилью                              610\n",
            "покупка жилой недвижимости                604\n",
            "на покупку своего автомобиля              502\n",
            "заняться высшим образованием              493\n",
            "автомобиль                                491\n",
            "сделка с подержанным автомобилем          487\n",
            "на покупку подержанного автомобиля        479\n",
            "свой автомобиль                           477\n",
            "автомобили                                476\n",
            "на покупку автомобиля                     467\n",
            "приобретение автомобиля                   460\n",
            "дополнительное образование                460\n",
            "сделка с автомобилем                      454\n",
            "высшее образование                        450\n",
            "получение дополнительного образования     445\n",
            "образование                               444\n",
            "получение образования                     442\n",
            "профильное образование                    435\n",
            "получение высшего образования             424\n",
            "заняться образованием                     411\n",
            "Name: purpose, dtype: int64\n"
          ]
        }
      ],
      "source": [
        "print(data['purpose'].value_counts())"
      ]
    },
    {
      "cell_type": "markdown",
      "metadata": {
        "id": "ayAOShc9O-qk"
      },
      "source": [
        "### Выделение стемов в словарь\n",
        "\n",
        "Для выявления дубликатов можно выделить стемы:"
      ]
    },
    {
      "cell_type": "code",
      "execution_count": 35,
      "metadata": {
        "scrolled": true,
        "id": "pLlVmpQMO-ql"
      },
      "outputs": [],
      "source": [
        "lst=[]\n",
        "for i in data['purpose'].unique():\n",
        "    lst.append(i.split())"
      ]
    },
    {
      "cell_type": "code",
      "execution_count": 36,
      "metadata": {
        "colab": {
          "base_uri": "https://localhost:8080/"
        },
        "id": "IRmEQsfzO-ql",
        "outputId": "8a03f7da-ec68-4107-889d-3012ff6b7ec3"
      },
      "outputs": [
        {
          "output_type": "stream",
          "name": "stdout",
          "text": [
            "покупк: 10\n",
            "недвижим: 10\n",
            "жил: 9\n",
            "образован: 9\n",
            "автомобил: 8\n",
            "с: 5\n",
            "операц: 4\n",
            "на: 4\n",
            "сво: 4\n",
            "свадьб: 3\n",
            "строительств: 3\n",
            "получен: 3\n",
            "высш: 3\n",
            "дополнительн: 2\n",
            "для: 2\n",
            "коммерческ: 2\n",
            "подержа: 2\n",
            "заня: 2\n",
            "сделк: 2\n",
            "приобретен: 1\n",
            "сыгра: 1\n",
            "проведен: 1\n",
            "сем: 1\n",
            "собствен: 1\n",
            "со: 1\n",
            "автомоб: 1\n",
            "профильн: 1\n",
            "сдач: 1\n",
            "ремонт: 1\n"
          ]
        }
      ],
      "source": [
        "russian_stemmer = SnowballStemmer('russian')\n",
        "stemmas = []\n",
        "for i in lst:\n",
        "    for word in i:\n",
        "        stemmas.append(russian_stemmer.stem(word))\n",
        "\n",
        "counts = Counter(stemmas)\n",
        "\n",
        "for key, count in counts.most_common():\n",
        "    print ('{}: {}'.format(key, count))    "
      ]
    },
    {
      "cell_type": "markdown",
      "metadata": {
        "id": "6Okyl3yDO-qm"
      },
      "source": [
        "Среди выделенных стем для лемматизации нужны будут следующие:\n",
        "\n",
        "'свадьб', 'недвижим', 'жил', 'автомобил', 'образован'\n",
        "\n",
        "Однако, есть проблема со стемом \"автомоб\", а также стемы 'недвижим' и 'жил' являются одной категорией\n",
        "\n",
        "### Выполнение лемматизации\n",
        "\n",
        "Далее можно использовать пользовательскую функцию для лемматизации и категоризации:"
      ]
    },
    {
      "cell_type": "code",
      "execution_count": 37,
      "metadata": {
        "scrolled": true,
        "colab": {
          "base_uri": "https://localhost:8080/"
        },
        "id": "qQ0e1OxLO-qm",
        "outputId": "f406891f-dd93-4e6e-cfea-661cd06c9ddb"
      },
      "outputs": [
        {
          "output_type": "stream",
          "name": "stderr",
          "text": [
            "Installing mystem to /root/.local/bin/mystem from http://download.cdn.yandex.net/mystem/mystem-3.1-linux-64bit.tar.gz\n"
          ]
        },
        {
          "output_type": "stream",
          "name": "stdout",
          "text": [
            "жилье          10793\n",
            "автомобиль      4293\n",
            "образование     4004\n",
            "свадьба         2334\n",
            "Name: purpose_lemmatized, dtype: int64\n"
          ]
        }
      ],
      "source": [
        "m = Mystem()\n",
        "\n",
        "def purpose_lemma (row):\n",
        "    lemmas = m.lemmatize(row)\n",
        "    j=0\n",
        "    for j in range(len(lemmas)):\n",
        "        if lemmas[j] == 'автомобиль':\n",
        "            return 'автомобиль'\n",
        "        elif lemmas[j] == 'жилье':\n",
        "            return 'жилье'\n",
        "        elif lemmas[j] == 'образование':\n",
        "            return 'образование'\n",
        "        elif lemmas[j] == 'свадьба':\n",
        "            return 'свадьба'\n",
        "        elif lemmas[j] == 'недвижимость':\n",
        "            return 'жилье'\n",
        "        j+=1   \n",
        "\n",
        "data['purpose_lemmatized'] = data['purpose'].apply(purpose_lemma)\n",
        "\n",
        "print(data['purpose_lemmatized'].value_counts())"
      ]
    },
    {
      "cell_type": "markdown",
      "metadata": {
        "id": "oEX_0H6aO-qn"
      },
      "source": [
        "**Вывод**"
      ]
    },
    {
      "cell_type": "markdown",
      "metadata": {
        "id": "MvZdPEhSO-qo"
      },
      "source": [
        "Одни и те же цели кредита в колонке purpose изначально были введены по-разному, скорее всего, из-за ручного ввода. Лемматизация проведена следующим образом:\n",
        "\n",
        "1) выделены стемы,\n",
        "2) отсортированы по частоте встречаемости,\n",
        "3) из них выбраны необходимые для целей кредита и\n",
        "4) с помощью функции в каждой строке колонки проведена лемматизация"
      ]
    },
    {
      "cell_type": "markdown",
      "metadata": {
        "id": "i0dOphCTO-qo"
      },
      "source": [
        "## Категоризация данных"
      ]
    },
    {
      "cell_type": "markdown",
      "metadata": {
        "id": "T4tgtlUNO-qo"
      },
      "source": [
        "Категоризация столбца children выполняется в новом столбце с помощью пользовательской функции, результатом которой является разделение всех клиентов на клиентов с детьми и без."
      ]
    },
    {
      "cell_type": "code",
      "execution_count": 38,
      "metadata": {
        "scrolled": true,
        "colab": {
          "base_uri": "https://localhost:8080/"
        },
        "id": "Xs86RP13O-qp",
        "outputId": "ae0792bd-d726-455e-be95-0b16bc40159b"
      },
      "outputs": [
        {
          "output_type": "stream",
          "name": "stdout",
          "text": [
            "True     14080\n",
            "False     7344\n",
            "Name: childfree, dtype: int64\n"
          ]
        }
      ],
      "source": [
        "def childfree(dataset):\n",
        "    if dataset == 0:\n",
        "        return True\n",
        "    else:\n",
        "        return False\n",
        "    \n",
        "data['childfree'] = data['children'].apply(childfree)\n",
        "    \n",
        "print(data['childfree'].value_counts())"
      ]
    },
    {
      "cell_type": "markdown",
      "metadata": {
        "id": "KlZZFY_YO-qp"
      },
      "source": [
        "Доля клиентов без детей составляет"
      ]
    },
    {
      "cell_type": "code",
      "execution_count": 39,
      "metadata": {
        "colab": {
          "base_uri": "https://localhost:8080/"
        },
        "id": "0_IUm8pKO-qq",
        "outputId": "ed32bbaf-d58e-4b60-d657-43d4473a6525"
      },
      "outputs": [
        {
          "output_type": "stream",
          "name": "stdout",
          "text": [
            "65.72 % от выборки\n"
          ]
        }
      ],
      "source": [
        "print(round(data[data['childfree'] == True]['childfree'].count() / len(data) * 100, 2), '% от выборки')"
      ]
    },
    {
      "cell_type": "markdown",
      "metadata": {
        "id": "iDogxnmCO-qq"
      },
      "source": [
        "**Вывод**"
      ]
    },
    {
      "cell_type": "markdown",
      "metadata": {
        "id": "ZDGkYehbO-qq"
      },
      "source": [
        "Для ответа на вопрос\n",
        "\n",
        "* Есть ли зависимость между наличием детей и возвратом кредита в срок?\n",
        "\n",
        "была добавлена колонка childfree для заёмщиков без детей (True) и с детьми (False).\n",
        "\n",
        "Заёмщиков без детей примерно в 2 раза больше, чем заёмщиков с детьми"
      ]
    },
    {
      "cell_type": "markdown",
      "metadata": {
        "id": "T4gQ600nO-qr"
      },
      "source": [
        "# Ответы на вопросы"
      ]
    },
    {
      "cell_type": "markdown",
      "metadata": {
        "id": "C5pROVeuO-qr"
      },
      "source": [
        "- Есть ли зависимость между наличием детей и возвратом кредита в срок?"
      ]
    },
    {
      "cell_type": "code",
      "execution_count": 40,
      "metadata": {
        "colab": {
          "base_uri": "https://localhost:8080/"
        },
        "id": "vPxj06x7O-qr",
        "outputId": "1506e476-5456-4084-ac3d-2fd31b7e7a16"
      },
      "outputs": [
        {
          "output_type": "stream",
          "name": "stdout",
          "text": [
            "debt           0      1\n",
            "childfree              \n",
            "False      33.87  38.95\n",
            "True       66.13  61.05\n"
          ]
        }
      ],
      "source": [
        "#Способ 1: вывод с помощью сводной таблицы\n",
        "data_pivot = data.pivot_table(index = 'childfree', columns = 'debt' , values = 'purpose', aggfunc = 'count').apply(lambda x:100 * x / float(x.sum())).round(2)\n",
        "\n",
        "print(data_pivot)"
      ]
    },
    {
      "cell_type": "code",
      "execution_count": 41,
      "metadata": {
        "colab": {
          "base_uri": "https://localhost:8080/"
        },
        "id": "KDuhkvwrO-qs",
        "outputId": "80971f05-6270-49af-e060-d0629f943fe0"
      },
      "outputs": [
        {
          "output_type": "stream",
          "name": "stdout",
          "text": [
            "childfree  False   True\n",
            "debt                   \n",
            "0          90.81  92.49\n",
            "1           9.19   7.51\n"
          ]
        }
      ],
      "source": [
        "data_pivot = data.pivot_table(index = 'debt', columns = 'childfree', values = 'purpose', aggfunc = 'count').apply(lambda x:100 * x / float(x.sum())).round(2)\n",
        "\n",
        "print(data_pivot)"
      ]
    },
    {
      "cell_type": "code",
      "execution_count": 42,
      "metadata": {
        "scrolled": true,
        "colab": {
          "base_uri": "https://localhost:8080/"
        },
        "id": "nchemgydO-qs",
        "outputId": "a9f33065-930a-4b40-88c5-a9041ac09ba6"
      },
      "outputs": [
        {
          "output_type": "stream",
          "name": "stdout",
          "text": [
            "Должников всего 1733, что составляет 8.05 % от общего числа заёмщиков в выборке\n",
            "Заёмщиков без долгов всего 19691, что составляет 91.48 % от общего числа заёмщиков в выборке\n",
            "\n",
            "Должников без детей 1058 что составляет 61.05 % от общего кол-ва должников\n",
            "Должников c детьми 675 что составляет 38.95 % от общего кол-ва должников\n",
            "Заёмщиков без долга и без детей 13022 что составляет 66.13 % от общего кол-ва заёмщиков без долгов\n",
            "Заёмщиков без долга c детьми 6669 что составляет 0.34 % от общего кол-ва заёмщиков без долгов\n"
          ]
        }
      ],
      "source": [
        "#Способ 2:\n",
        "\n",
        "debtor_total = data[data['debt'] == 1]['debt'].count()\n",
        "debtor_total_percent = round(debtor_total / 21525 *100, 2)\n",
        "borrower_total = data[data['debt'] == 0]['debt'].count()\n",
        "borrower_total_percent = round(data[data['debt'] == 0]['debt'].count() / 21525*100, 2)\n",
        "\n",
        "debtor_childfree = data[(data['debt'] == 1) & (data['childfree'] == True)]['debt'].count()\n",
        "debtor_childfree_percent = round(debtor_childfree / debtor_total*100, 2)\n",
        "debtor_parent = data[(data['debt'] == 1) & (data['childfree'] == False)]['debt'].count()\n",
        "debtor_parent_percent = round(debtor_parent / debtor_total*100, 2)\n",
        "\n",
        "borrower_childfree = data[(data['debt'] == 0) & (data['childfree'] == True)]['debt'].count()\n",
        "borrower_childfree_percent = round(borrower_childfree / borrower_total * 100, 2)\n",
        "borrower_parent = data[(data['debt'] == 0) & (data['childfree'] == False)]['debt'].count()\n",
        "borrower_parent_percent = round(borrower_parent / borrower_total, 2)\n",
        "\n",
        "print(f'Должников всего {debtor_total}, что составляет {debtor_total_percent} % от общего числа заёмщиков в выборке')\n",
        "print(f'Заёмщиков без долгов всего {borrower_total}, что составляет {borrower_total_percent} % от общего числа заёмщиков в выборке')\n",
        "\n",
        "print()\n",
        "\n",
        "print(f\"Должников без детей {debtor_childfree} что составляет {debtor_childfree_percent} % от общего кол-ва должников\")\n",
        "print(f\"Должников c детьми {debtor_parent} что составляет {debtor_parent_percent} % от общего кол-ва должников\")\n",
        "\n",
        "print(f\"Заёмщиков без долга и без детей {borrower_childfree} что составляет {borrower_childfree_percent} % от общего кол-ва заёмщиков без долгов\")\n",
        "print(f\"Заёмщиков без долга c детьми {borrower_parent} что составляет {borrower_parent_percent} % от общего кол-ва заёмщиков без долгов\")"
      ]
    },
    {
      "cell_type": "markdown",
      "metadata": {
        "id": "KS49u9u2O-qt"
      },
      "source": [
        "Должников в выборке всего лишь 8%, среди них в основном без детей (61%). Должников не много, делать однозначный вывод нельзя.\n",
        "\n",
        "Заёмщиков без долгов 92%, среди них в основном без детей (66%). Заёмщиков без долгов много, без учёта предыдущего абзаца можно было бы сделать вывод о том, что заёмщики с детьми чаще имеют задолженности.\n",
        "\n",
        "Однозначного вывода о наличии зависимости между наличием детей и возвратом кредита в срок сделать нельзя.\n",
        "\n",
        "Пробуем ответить на иначе сформулированный вопрос:\n",
        "\n",
        "* влияет ли ... количество детей клиента на факт погашения кредита в срок?"
      ]
    },
    {
      "cell_type": "code",
      "execution_count": 43,
      "metadata": {
        "colab": {
          "base_uri": "https://localhost:8080/"
        },
        "id": "ImEpM8rKO-qu",
        "outputId": "8480a76f-2d39-43d8-b2cb-8a5abfeebd51"
      },
      "outputs": [
        {
          "output_type": "stream",
          "name": "stdout",
          "text": [
            "children      0      1      2      3      4      5\n",
            "debt                                              \n",
            "0         92.49  90.88  90.46  91.77  90.24  100.0\n",
            "1          7.51   9.12   9.54   8.23   9.76    NaN\n"
          ]
        }
      ],
      "source": [
        "#Способ 1: вывод с помощью сводной таблицы\n",
        "\n",
        "data_pivot = data.pivot_table(index = 'debt', columns = 'children', values = 'total_income', aggfunc = 'count').apply(lambda x:100 * x / float(x.sum())).round(2)\n",
        "\n",
        "print(data_pivot)"
      ]
    },
    {
      "cell_type": "code",
      "execution_count": 44,
      "metadata": {
        "scrolled": true,
        "colab": {
          "base_uri": "https://localhost:8080/"
        },
        "id": "nPn7Or-9O-qv",
        "outputId": "091214d3-af41-4e70-cab3-56f0c5334e88"
      },
      "outputs": [
        {
          "output_type": "stream",
          "name": "stdout",
          "text": [
            "[[0, 1, 2, 3, 4, 5], [92.49, 90.88, 90.46, 91.77, 90.24, 100.0], [7.51, 9.12, 9.54, 8.23, 9.76, 0.0]]\n"
          ]
        }
      ],
      "source": [
        "#Способ 2: вывод с помощью цикла\n",
        "\n",
        "borrowers = []\n",
        "debtors = []\n",
        "total_income = []\n",
        "i=0\n",
        "\n",
        "table_columns = []\n",
        "table_values =[]\n",
        "\n",
        "for i in range(6):\n",
        "    borrowers.append(round(data[(data['children'] == i) & (data['debt'] == 0)]['debt'].count() / data[(data['children'] == i)]['debt'].count() *100, 2))\n",
        "    debtors.append(round(data[(data['children'] == i) & (data['debt'] == 1)]['debt'].count() / data[(data['children'] == i)]['debt'].count() *100, 2))\n",
        "    table_columns.append(i)\n",
        "    i+=1\n",
        "    \n",
        "table_values.append(table_columns)\n",
        "table_values.append(borrowers)\n",
        "table_values.append(debtors)\n",
        "\n",
        "print(table_values)"
      ]
    },
    {
      "cell_type": "markdown",
      "metadata": {
        "id": "HBU-VdW_O-qv"
      },
      "source": [
        "**Вывод**"
      ]
    },
    {
      "cell_type": "markdown",
      "metadata": {
        "id": "rAK7G6_XO-qv"
      },
      "source": [
        "Наибольшее количество должников в категории заёмщиков с 4-я детьми, а наименьшее у заёмщиков без детей. Это и может говорить о зависимости - чем больше детей у заёмщика, тем менее вероятен возврат кредита в срок - все деньги проедают дети.\n",
        "\n",
        "Здесь примечательно то, что среди заёмщиков с 5-ю детьми должников нет. Выведем все данные с такими заёмщиками "
      ]
    },
    {
      "cell_type": "code",
      "execution_count": 45,
      "metadata": {
        "scrolled": true,
        "colab": {
          "base_uri": "https://localhost:8080/",
          "height": 621
        },
        "id": "J3asoC6OO-qw",
        "outputId": "43fcd74e-1fe7-4c18-ae76-0d941b154944"
      },
      "outputs": [
        {
          "output_type": "execute_result",
          "data": {
            "text/plain": [
              "       children  days_employed  client_age  education  education_id  \\\n",
              "3960          5           2394          42    среднее             1   \n",
              "4376          5           3248          36    среднее             1   \n",
              "7829          5            773          36    среднее             1   \n",
              "15741         5            418          31    среднее             1   \n",
              "15833         5           2286          37    среднее             1   \n",
              "16127         5            387          35    среднее             1   \n",
              "20355         5            268          38  начальное             3   \n",
              "20738         5           2386          35    среднее             1   \n",
              "21057         5           1690          59    среднее             1   \n",
              "\n",
              "          family_status  family_status_id gender  income_type  debt  \\\n",
              "3960   гражданский брак                 1      M    сотрудник     0   \n",
              "4376    женат / замужем                 0      F    компаньон     0   \n",
              "7829    женат / замужем                 0      F    сотрудник     0   \n",
              "15741   женат / замужем                 0      F    сотрудник     0   \n",
              "15833   женат / замужем                 0      F    сотрудник     0   \n",
              "16127  гражданский брак                 1      F  госслужащий     0   \n",
              "20355   женат / замужем                 0      F    сотрудник     0   \n",
              "20738   женат / замужем                 0      F    компаньон     0   \n",
              "21057   женат / замужем                 0      M    сотрудник     0   \n",
              "\n",
              "       total_income                           purpose purpose_lemmatized  \\\n",
              "3960         142594      на покупку своего автомобиля         автомобиль   \n",
              "4376         168460          операции с недвижимостью              жилье   \n",
              "7829          48772                 операции с жильем              жилье   \n",
              "15741         77552  сделка с подержанным автомобилем         автомобиль   \n",
              "15833        256698              покупка недвижимости              жилье   \n",
              "16127        126102             на проведение свадьбы            свадьба   \n",
              "20355        212545      заняться высшим образованием        образование   \n",
              "20738        204241                             жилье              жилье   \n",
              "21057        269068   операции со своей недвижимостью              жилье   \n",
              "\n",
              "       childfree  \n",
              "3960       False  \n",
              "4376       False  \n",
              "7829       False  \n",
              "15741      False  \n",
              "15833      False  \n",
              "16127      False  \n",
              "20355      False  \n",
              "20738      False  \n",
              "21057      False  "
            ],
            "text/html": [
              "\n",
              "  <div id=\"df-33d4dfa0-2a30-431d-a9e9-44b4705eb8ce\">\n",
              "    <div class=\"colab-df-container\">\n",
              "      <div>\n",
              "<style scoped>\n",
              "    .dataframe tbody tr th:only-of-type {\n",
              "        vertical-align: middle;\n",
              "    }\n",
              "\n",
              "    .dataframe tbody tr th {\n",
              "        vertical-align: top;\n",
              "    }\n",
              "\n",
              "    .dataframe thead th {\n",
              "        text-align: right;\n",
              "    }\n",
              "</style>\n",
              "<table border=\"1\" class=\"dataframe\">\n",
              "  <thead>\n",
              "    <tr style=\"text-align: right;\">\n",
              "      <th></th>\n",
              "      <th>children</th>\n",
              "      <th>days_employed</th>\n",
              "      <th>client_age</th>\n",
              "      <th>education</th>\n",
              "      <th>education_id</th>\n",
              "      <th>family_status</th>\n",
              "      <th>family_status_id</th>\n",
              "      <th>gender</th>\n",
              "      <th>income_type</th>\n",
              "      <th>debt</th>\n",
              "      <th>total_income</th>\n",
              "      <th>purpose</th>\n",
              "      <th>purpose_lemmatized</th>\n",
              "      <th>childfree</th>\n",
              "    </tr>\n",
              "  </thead>\n",
              "  <tbody>\n",
              "    <tr>\n",
              "      <th>3960</th>\n",
              "      <td>5</td>\n",
              "      <td>2394</td>\n",
              "      <td>42</td>\n",
              "      <td>среднее</td>\n",
              "      <td>1</td>\n",
              "      <td>гражданский брак</td>\n",
              "      <td>1</td>\n",
              "      <td>M</td>\n",
              "      <td>сотрудник</td>\n",
              "      <td>0</td>\n",
              "      <td>142594</td>\n",
              "      <td>на покупку своего автомобиля</td>\n",
              "      <td>автомобиль</td>\n",
              "      <td>False</td>\n",
              "    </tr>\n",
              "    <tr>\n",
              "      <th>4376</th>\n",
              "      <td>5</td>\n",
              "      <td>3248</td>\n",
              "      <td>36</td>\n",
              "      <td>среднее</td>\n",
              "      <td>1</td>\n",
              "      <td>женат / замужем</td>\n",
              "      <td>0</td>\n",
              "      <td>F</td>\n",
              "      <td>компаньон</td>\n",
              "      <td>0</td>\n",
              "      <td>168460</td>\n",
              "      <td>операции с недвижимостью</td>\n",
              "      <td>жилье</td>\n",
              "      <td>False</td>\n",
              "    </tr>\n",
              "    <tr>\n",
              "      <th>7829</th>\n",
              "      <td>5</td>\n",
              "      <td>773</td>\n",
              "      <td>36</td>\n",
              "      <td>среднее</td>\n",
              "      <td>1</td>\n",
              "      <td>женат / замужем</td>\n",
              "      <td>0</td>\n",
              "      <td>F</td>\n",
              "      <td>сотрудник</td>\n",
              "      <td>0</td>\n",
              "      <td>48772</td>\n",
              "      <td>операции с жильем</td>\n",
              "      <td>жилье</td>\n",
              "      <td>False</td>\n",
              "    </tr>\n",
              "    <tr>\n",
              "      <th>15741</th>\n",
              "      <td>5</td>\n",
              "      <td>418</td>\n",
              "      <td>31</td>\n",
              "      <td>среднее</td>\n",
              "      <td>1</td>\n",
              "      <td>женат / замужем</td>\n",
              "      <td>0</td>\n",
              "      <td>F</td>\n",
              "      <td>сотрудник</td>\n",
              "      <td>0</td>\n",
              "      <td>77552</td>\n",
              "      <td>сделка с подержанным автомобилем</td>\n",
              "      <td>автомобиль</td>\n",
              "      <td>False</td>\n",
              "    </tr>\n",
              "    <tr>\n",
              "      <th>15833</th>\n",
              "      <td>5</td>\n",
              "      <td>2286</td>\n",
              "      <td>37</td>\n",
              "      <td>среднее</td>\n",
              "      <td>1</td>\n",
              "      <td>женат / замужем</td>\n",
              "      <td>0</td>\n",
              "      <td>F</td>\n",
              "      <td>сотрудник</td>\n",
              "      <td>0</td>\n",
              "      <td>256698</td>\n",
              "      <td>покупка недвижимости</td>\n",
              "      <td>жилье</td>\n",
              "      <td>False</td>\n",
              "    </tr>\n",
              "    <tr>\n",
              "      <th>16127</th>\n",
              "      <td>5</td>\n",
              "      <td>387</td>\n",
              "      <td>35</td>\n",
              "      <td>среднее</td>\n",
              "      <td>1</td>\n",
              "      <td>гражданский брак</td>\n",
              "      <td>1</td>\n",
              "      <td>F</td>\n",
              "      <td>госслужащий</td>\n",
              "      <td>0</td>\n",
              "      <td>126102</td>\n",
              "      <td>на проведение свадьбы</td>\n",
              "      <td>свадьба</td>\n",
              "      <td>False</td>\n",
              "    </tr>\n",
              "    <tr>\n",
              "      <th>20355</th>\n",
              "      <td>5</td>\n",
              "      <td>268</td>\n",
              "      <td>38</td>\n",
              "      <td>начальное</td>\n",
              "      <td>3</td>\n",
              "      <td>женат / замужем</td>\n",
              "      <td>0</td>\n",
              "      <td>F</td>\n",
              "      <td>сотрудник</td>\n",
              "      <td>0</td>\n",
              "      <td>212545</td>\n",
              "      <td>заняться высшим образованием</td>\n",
              "      <td>образование</td>\n",
              "      <td>False</td>\n",
              "    </tr>\n",
              "    <tr>\n",
              "      <th>20738</th>\n",
              "      <td>5</td>\n",
              "      <td>2386</td>\n",
              "      <td>35</td>\n",
              "      <td>среднее</td>\n",
              "      <td>1</td>\n",
              "      <td>женат / замужем</td>\n",
              "      <td>0</td>\n",
              "      <td>F</td>\n",
              "      <td>компаньон</td>\n",
              "      <td>0</td>\n",
              "      <td>204241</td>\n",
              "      <td>жилье</td>\n",
              "      <td>жилье</td>\n",
              "      <td>False</td>\n",
              "    </tr>\n",
              "    <tr>\n",
              "      <th>21057</th>\n",
              "      <td>5</td>\n",
              "      <td>1690</td>\n",
              "      <td>59</td>\n",
              "      <td>среднее</td>\n",
              "      <td>1</td>\n",
              "      <td>женат / замужем</td>\n",
              "      <td>0</td>\n",
              "      <td>M</td>\n",
              "      <td>сотрудник</td>\n",
              "      <td>0</td>\n",
              "      <td>269068</td>\n",
              "      <td>операции со своей недвижимостью</td>\n",
              "      <td>жилье</td>\n",
              "      <td>False</td>\n",
              "    </tr>\n",
              "  </tbody>\n",
              "</table>\n",
              "</div>\n",
              "      <button class=\"colab-df-convert\" onclick=\"convertToInteractive('df-33d4dfa0-2a30-431d-a9e9-44b4705eb8ce')\"\n",
              "              title=\"Convert this dataframe to an interactive table.\"\n",
              "              style=\"display:none;\">\n",
              "        \n",
              "  <svg xmlns=\"http://www.w3.org/2000/svg\" height=\"24px\"viewBox=\"0 0 24 24\"\n",
              "       width=\"24px\">\n",
              "    <path d=\"M0 0h24v24H0V0z\" fill=\"none\"/>\n",
              "    <path d=\"M18.56 5.44l.94 2.06.94-2.06 2.06-.94-2.06-.94-.94-2.06-.94 2.06-2.06.94zm-11 1L8.5 8.5l.94-2.06 2.06-.94-2.06-.94L8.5 2.5l-.94 2.06-2.06.94zm10 10l.94 2.06.94-2.06 2.06-.94-2.06-.94-.94-2.06-.94 2.06-2.06.94z\"/><path d=\"M17.41 7.96l-1.37-1.37c-.4-.4-.92-.59-1.43-.59-.52 0-1.04.2-1.43.59L10.3 9.45l-7.72 7.72c-.78.78-.78 2.05 0 2.83L4 21.41c.39.39.9.59 1.41.59.51 0 1.02-.2 1.41-.59l7.78-7.78 2.81-2.81c.8-.78.8-2.07 0-2.86zM5.41 20L4 18.59l7.72-7.72 1.47 1.35L5.41 20z\"/>\n",
              "  </svg>\n",
              "      </button>\n",
              "      \n",
              "  <style>\n",
              "    .colab-df-container {\n",
              "      display:flex;\n",
              "      flex-wrap:wrap;\n",
              "      gap: 12px;\n",
              "    }\n",
              "\n",
              "    .colab-df-convert {\n",
              "      background-color: #E8F0FE;\n",
              "      border: none;\n",
              "      border-radius: 50%;\n",
              "      cursor: pointer;\n",
              "      display: none;\n",
              "      fill: #1967D2;\n",
              "      height: 32px;\n",
              "      padding: 0 0 0 0;\n",
              "      width: 32px;\n",
              "    }\n",
              "\n",
              "    .colab-df-convert:hover {\n",
              "      background-color: #E2EBFA;\n",
              "      box-shadow: 0px 1px 2px rgba(60, 64, 67, 0.3), 0px 1px 3px 1px rgba(60, 64, 67, 0.15);\n",
              "      fill: #174EA6;\n",
              "    }\n",
              "\n",
              "    [theme=dark] .colab-df-convert {\n",
              "      background-color: #3B4455;\n",
              "      fill: #D2E3FC;\n",
              "    }\n",
              "\n",
              "    [theme=dark] .colab-df-convert:hover {\n",
              "      background-color: #434B5C;\n",
              "      box-shadow: 0px 1px 3px 1px rgba(0, 0, 0, 0.15);\n",
              "      filter: drop-shadow(0px 1px 2px rgba(0, 0, 0, 0.3));\n",
              "      fill: #FFFFFF;\n",
              "    }\n",
              "  </style>\n",
              "\n",
              "      <script>\n",
              "        const buttonEl =\n",
              "          document.querySelector('#df-33d4dfa0-2a30-431d-a9e9-44b4705eb8ce button.colab-df-convert');\n",
              "        buttonEl.style.display =\n",
              "          google.colab.kernel.accessAllowed ? 'block' : 'none';\n",
              "\n",
              "        async function convertToInteractive(key) {\n",
              "          const element = document.querySelector('#df-33d4dfa0-2a30-431d-a9e9-44b4705eb8ce');\n",
              "          const dataTable =\n",
              "            await google.colab.kernel.invokeFunction('convertToInteractive',\n",
              "                                                     [key], {});\n",
              "          if (!dataTable) return;\n",
              "\n",
              "          const docLinkHtml = 'Like what you see? Visit the ' +\n",
              "            '<a target=\"_blank\" href=https://colab.research.google.com/notebooks/data_table.ipynb>data table notebook</a>'\n",
              "            + ' to learn more about interactive tables.';\n",
              "          element.innerHTML = '';\n",
              "          dataTable['output_type'] = 'display_data';\n",
              "          await google.colab.output.renderOutput(dataTable, element);\n",
              "          const docLink = document.createElement('div');\n",
              "          docLink.innerHTML = docLinkHtml;\n",
              "          element.appendChild(docLink);\n",
              "        }\n",
              "      </script>\n",
              "    </div>\n",
              "  </div>\n",
              "  "
            ]
          },
          "metadata": {},
          "execution_count": 45
        }
      ],
      "source": [
        "data[data['children'] == 5]"
      ]
    },
    {
      "cell_type": "markdown",
      "metadata": {
        "id": "k6iQR66-O-qw"
      },
      "source": [
        "На первый взгляд сложно сказать с чем это может быть связано"
      ]
    },
    {
      "cell_type": "markdown",
      "metadata": {
        "id": "tmcJ1tlFO-qx"
      },
      "source": [
        "- Есть ли зависимость между семейным положением и возвратом кредита в срок?"
      ]
    },
    {
      "cell_type": "code",
      "execution_count": 46,
      "metadata": {
        "scrolled": false,
        "colab": {
          "base_uri": "https://localhost:8080/"
        },
        "id": "SRtjm4OGO-qx",
        "outputId": "11137bf2-6bcd-476f-e1d1-750c92cc307f"
      },
      "outputs": [
        {
          "output_type": "stream",
          "name": "stdout",
          "text": [
            "женат / замужем          12331\n",
            "гражданский брак          4156\n",
            "не женат / не замужем     2797\n",
            "в разводе                 1185\n",
            "вдовец / вдова             955\n",
            "Name: family_status, dtype: int64\n"
          ]
        }
      ],
      "source": [
        "print(data['family_status'].value_counts())"
      ]
    },
    {
      "cell_type": "code",
      "execution_count": 47,
      "metadata": {
        "colab": {
          "base_uri": "https://localhost:8080/"
        },
        "id": "xXCks78gO-qx",
        "outputId": "4fb54224-0a82-4fe5-c420-ab18b4ae93c7"
      },
      "outputs": [
        {
          "output_type": "stream",
          "name": "stdout",
          "text": [
            "family_status  в разводе  вдовец / вдова  гражданский брак  женат / замужем  \\\n",
            "debt                                                                          \n",
            "0                  92.83           93.51             90.71            92.48   \n",
            "1                   7.17            6.49              9.29             7.52   \n",
            "\n",
            "family_status  не женат / не замужем  \n",
            "debt                                  \n",
            "0                              90.24  \n",
            "1                               9.76  \n"
          ]
        }
      ],
      "source": [
        "#Способ 1: вывод с помощью сводной таблицы\n",
        "\n",
        "data_pivot = data.pivot_table(index = 'debt', columns = 'family_status', values = 'total_income', aggfunc = 'count').apply(lambda x:100 * x / float(x.sum())).round(2)\n",
        "\n",
        "print(data_pivot)"
      ]
    },
    {
      "cell_type": "code",
      "execution_count": 48,
      "metadata": {
        "colab": {
          "base_uri": "https://localhost:8080/"
        },
        "id": "h8yC8Sc7O-qy",
        "outputId": "9ed8479e-9cbb-4dd3-9509-e41aa1b3dc16"
      },
      "outputs": [
        {
          "output_type": "stream",
          "name": "stdout",
          "text": [
            "['женат / замужем' 'гражданский брак' 'вдовец / вдова' 'в разводе'\n",
            " 'не женат / не замужем']\n",
            "[7.52, 9.29, 6.49, 7.17, 9.76]\n",
            "[92.48, 90.71, 93.51, 92.83, 90.24]\n"
          ]
        }
      ],
      "source": [
        "#Способ 2: вывод с помощью цикла\n",
        "\n",
        "i=0\n",
        "borrowers = []\n",
        "debtors = []\n",
        "family_status = data['family_status'].unique()\n",
        "\n",
        "for i in family_status:\n",
        "    debtors.append(round(data[(data['family_status'] == i) & (data['debt'] == 1)]['debt'].count() / data[(data['family_status'] == i)]['debt'].count() * 100, 2))\n",
        "    borrowers.append(round(data[(data['family_status'] == i) & (data['debt'] == 0)]['debt'].count() / data[(data['family_status'] == i)]['debt'].count() * 100, 2))\n",
        "\n",
        "print(family_status)\n",
        "print(debtors)\n",
        "print(borrowers)"
      ]
    },
    {
      "cell_type": "markdown",
      "metadata": {
        "id": "I5W2Iw_VO-qy"
      },
      "source": [
        "**Вывод**"
      ]
    },
    {
      "cell_type": "markdown",
      "metadata": {
        "id": "O95uvT96O-qz"
      },
      "source": [
        "Наибольшее кол-во должников в категории \"не женат / не замужем\", что может объясняться отсутствием обязательств перед супругом.\n",
        "\n",
        "Наименьшее кол-во должников в категории \"вдовец / вдова\", что может объясняться погашением задолженности за счёт наследства."
      ]
    },
    {
      "cell_type": "markdown",
      "metadata": {
        "id": "M6ILs0bEO-qz"
      },
      "source": [
        "- Есть ли зависимость между уровнем дохода и возвратом кредита в срок?"
      ]
    },
    {
      "cell_type": "code",
      "execution_count": 49,
      "metadata": {
        "colab": {
          "base_uri": "https://localhost:8080/",
          "height": 604
        },
        "id": "WM495GF8O-qz",
        "outputId": "562f8168-3eef-4711-85f3-9ee181d3a39e"
      },
      "outputs": [
        {
          "output_type": "stream",
          "name": "stdout",
          "text": [
            "     total_income                        \n",
            "              min           mean      max\n",
            "debt                                     \n",
            "0           21205  165623.013813  2265604\n",
            "1           20667  161199.923254  2200852\n"
          ]
        },
        {
          "output_type": "display_data",
          "data": {
            "text/plain": [
              "<Figure size 842.4x595.44 with 1 Axes>"
            ],
            "image/png": "[encoded data removed]"
          },
          "metadata": {}
        }
      ],
      "source": [
        "print(data.groupby('debt').agg({'total_income': ['min','mean','max']})) #простейший статистический анализ\n",
        "\n",
        "#ВИЗУАЛИЗАЦИЯ\n",
        "#создание списка с категориями - интервалами значений столбца data['total_income']\n",
        "income_cat = [] #объявление этого списка\n",
        "counter = round(data['total_income'].min() / 100)*100 #начальное значение счётчика - минимальное значение в колонке\n",
        "cat_num = 70\n",
        "for i in range(cat_num+1): #запускаем цикл с любым определённым нами числом категорий + 1 \n",
        "    income_cat.append(counter) #добавляем в список значение в счётчике\n",
        "    counter += round(((data['total_income'].max() - data['total_income'].min()) / cat_num) / 100)*100 #делим все значения на определённое количество интервалов и прибавляем этот интервал каждый раз к счётчику\n",
        "#функция\n",
        "def income_categories (row_value):\n",
        "    for k in range(len(income_cat)): #цикл по выделенным категориям\n",
        "        if round(row_value) > income_cat[k] and round(row_value) <= income_cat[k+1]: #сравнение значения колонки data['total_income'] со значениями категорий \n",
        "            return str(income_cat[k+1])\n",
        "\n",
        "data['income_cat'] = data['total_income'].apply(income_categories)\n",
        "\n",
        "df_plot = data[['total_income', 'income_cat', 'debt']]\n",
        "\n",
        "sns.set(rc={'figure.figsize':(11.7,8.27)})\n",
        "ax = sns.countplot(y = 'income_cat', hue = 'debt', data = df_plot.sort_values(by = 'total_income'))"
      ]
    },
    {
      "cell_type": "markdown",
      "metadata": {
        "id": "sFx55qkBO-q1"
      },
      "source": [
        "**Вывод**"
      ]
    },
    {
      "cell_type": "markdown",
      "metadata": {
        "id": "7fWO3nFGO-q1"
      },
      "source": [
        "Зависимость между уровнем дохода и возвратом кредита в срок имеется - чем выше доход, тем больше возвратов кредита в срок. Это абсолютно логично - человек с достатком удовлетворяет свои базовые поребности и имеет возможность делать дополнительные траты."
      ]
    },
    {
      "cell_type": "markdown",
      "metadata": {
        "id": "rp7mpAqoO-q2"
      },
      "source": [
        "- Как разные цели кредита влияют на его возврат в срок?"
      ]
    },
    {
      "cell_type": "code",
      "execution_count": 50,
      "metadata": {
        "colab": {
          "base_uri": "https://localhost:8080/"
        },
        "id": "dfzDD7-9O-q2",
        "outputId": "e7c78367-5d38-4f69-8c6f-ca24f93ebe60"
      },
      "outputs": [
        {
          "output_type": "stream",
          "name": "stdout",
          "text": [
            "purpose_lemmatized  автомобиль  жилье  образование  свадьба\n",
            "debt                                                       \n",
            "0                        90.68  92.78        90.76    92.12\n",
            "1                         9.32   7.22         9.24     7.88\n"
          ]
        }
      ],
      "source": [
        "#Способ 1: вывод с помощью сводной таблицы\n",
        "\n",
        "data_pivot = data.pivot_table(index = 'debt', columns = 'purpose_lemmatized', values = 'total_income', aggfunc = 'count').apply(lambda x:100 * x / float(x.sum())).round(2)\n",
        "\n",
        "print(data_pivot)"
      ]
    },
    {
      "cell_type": "code",
      "execution_count": 51,
      "metadata": {
        "colab": {
          "base_uri": "https://localhost:8080/"
        },
        "id": "1fgzi_svO-q3",
        "outputId": "b95fcb9c-4e53-4765-bc5f-6fd51ae35efd"
      },
      "outputs": [
        {
          "output_type": "stream",
          "name": "stdout",
          "text": [
            "['жилье' 'автомобиль' 'образование' 'свадьба']\n",
            "[7.22, 9.32, 9.24, 7.88]\n",
            "[92.78, 90.68, 90.76, 92.12]\n"
          ]
        }
      ],
      "source": [
        "#Способ 2: вывод с помощью цикла\n",
        "\n",
        "i=0\n",
        "borrowers = []\n",
        "debtors = []\n",
        "purpose = data['purpose_lemmatized'].unique()\n",
        "\n",
        "for i in purpose:\n",
        "    debtors.append(round(data[(data['purpose_lemmatized'] == i) & (data['debt'] == 1)]['debt'].count() / data[(data['purpose_lemmatized'] == i)]['debt'].count() * 100, 2))\n",
        "    borrowers.append(round(data[(data['purpose_lemmatized'] == i) & (data['debt'] == 0)]['debt'].count() / data[(data['purpose_lemmatized'] == i)]['debt'].count() * 100, 2))\n",
        "\n",
        "print(purpose)\n",
        "print(debtors)\n",
        "print(borrowers)"
      ]
    },
    {
      "cell_type": "markdown",
      "metadata": {
        "id": "BA3heyR6O-q3"
      },
      "source": [
        "**Вывод**"
      ]
    },
    {
      "cell_type": "markdown",
      "metadata": {
        "id": "D6eL6V4LO-q4"
      },
      "source": [
        "Наибольший процент должников наблюдается в категории целей кредита \"автомобиль\", наименьший - в категории \"жильё\" (даже если объединять категории \"недвижимость\" и \"жилье\"). Это можно интерпретировать так - автомобиль не является предметом первой необходимости и если на нём не зарабатывают, то кредит является серьёзным обременением. Кредит на образование сложен тем, что нет гарантии трудоустройства, которое сможет обеспечить его погашение. Кредиты на свадьбы могут значительно проще гаситься сразу после свадьбы - многие гости дарят подарки деньгами. Ставки по ипотеке ниже кредитов, что также может объяснять наблюдения. Также срок использования автомобиля меньше срока использования жилья, автомобиль дешевеет и изнашивается со временем, а жильё дорожает."
      ]
    },
    {
      "cell_type": "markdown",
      "metadata": {
        "id": "N1f3YwP3O-q4"
      },
      "source": [
        "# Общий вывод"
      ]
    },
    {
      "cell_type": "markdown",
      "metadata": {
        "id": "-w-P3VMmO-q4"
      },
      "source": [
        "Начальные данные состояли из 21525 строк, после обработки их осталось 21424. Выборка является достаточной для проведения исследования.\n",
        "\n",
        "Обработка данных состояла в заполнении пропусков, корректировке неверных значений, обработке дубликатов, категоризации и лемматизации.\n",
        "\n",
        "Выявлены следующие зависимости:\n",
        "* с возрастанием количества детей от 0 до 4 возрастает количество должников\n",
        "* с возрастанием дохода уменьшается количество должников\n",
        "* цели кредита влияют на своевременный возврат кредита: наибольшее количество должников берут кредит на автомобиль, далее - на образование, на свадьбу и наименьшее количество должников берут кредит на жильё."
      ]
    }
  ],
  "metadata": {
    "ExecuteTimeLog": [
      {
        "duration": 839,
        "start_time": "2021-12-25T09:38:33.120Z"
      },
      {
        "duration": 79,
        "start_time": "2021-12-25T09:39:06.467Z"
      },
      {
        "duration": 84,
        "start_time": "2021-12-25T09:43:31.472Z"
      },
      {
        "duration": 86,
        "start_time": "2021-12-25T09:44:20.828Z"
      },
      {
        "duration": 89,
        "start_time": "2021-12-25T09:47:51.149Z"
      },
      {
        "duration": 90,
        "start_time": "2021-12-25T09:57:41.471Z"
      },
      {
        "duration": 90,
        "start_time": "2021-12-25T10:02:18.667Z"
      },
      {
        "duration": 8913,
        "start_time": "2021-12-25T10:31:02.411Z"
      },
      {
        "duration": 2571,
        "start_time": "2021-12-25T10:31:38.345Z"
      },
      {
        "duration": 1288,
        "start_time": "2021-12-25T10:42:05.054Z"
      },
      {
        "duration": 15,
        "start_time": "2021-12-25T10:42:41.330Z"
      },
      {
        "duration": 19,
        "start_time": "2021-12-25T10:43:09.403Z"
      },
      {
        "duration": 13,
        "start_time": "2021-12-25T10:45:12.959Z"
      },
      {
        "duration": 14,
        "start_time": "2021-12-25T10:45:45.424Z"
      },
      {
        "duration": 12,
        "start_time": "2021-12-25T10:45:59.861Z"
      },
      {
        "duration": 13,
        "start_time": "2021-12-25T10:46:07.764Z"
      },
      {
        "duration": 14,
        "start_time": "2021-12-25T10:47:10.643Z"
      },
      {
        "duration": 12,
        "start_time": "2021-12-25T10:47:18.475Z"
      },
      {
        "duration": 35,
        "start_time": "2021-12-25T10:47:33.352Z"
      },
      {
        "duration": 290,
        "start_time": "2022-01-03T09:25:20.218Z"
      },
      {
        "duration": 256,
        "start_time": "2022-01-03T09:25:25.952Z"
      },
      {
        "duration": 275,
        "start_time": "2022-01-03T09:25:34.114Z"
      },
      {
        "duration": 660,
        "start_time": "2022-01-03T09:25:50.820Z"
      },
      {
        "duration": 9,
        "start_time": "2022-01-03T09:25:53.391Z"
      },
      {
        "duration": 275,
        "start_time": "2022-01-03T09:25:59.097Z"
      },
      {
        "duration": 351,
        "start_time": "2022-01-03T09:26:23.625Z"
      },
      {
        "duration": 10,
        "start_time": "2022-01-03T09:28:29.333Z"
      },
      {
        "duration": 6,
        "start_time": "2022-01-03T09:30:14.971Z"
      },
      {
        "duration": 57,
        "start_time": "2022-01-03T09:30:33.586Z"
      },
      {
        "duration": 13,
        "start_time": "2022-01-03T09:30:46.980Z"
      },
      {
        "duration": 4,
        "start_time": "2022-01-03T09:40:11.588Z"
      },
      {
        "duration": 3,
        "start_time": "2022-01-03T09:40:16.575Z"
      },
      {
        "duration": 4,
        "start_time": "2022-01-03T09:40:36.771Z"
      },
      {
        "duration": 81,
        "start_time": "2022-01-03T09:41:03.182Z"
      },
      {
        "duration": 4,
        "start_time": "2022-01-03T09:46:22.445Z"
      },
      {
        "duration": 239,
        "start_time": "2022-01-03T09:46:28.997Z"
      },
      {
        "duration": 4,
        "start_time": "2022-01-03T09:46:34.019Z"
      },
      {
        "duration": 4,
        "start_time": "2022-01-03T09:46:56.877Z"
      },
      {
        "duration": 11,
        "start_time": "2022-01-03T09:49:18.855Z"
      },
      {
        "duration": 6,
        "start_time": "2022-01-03T10:53:45.531Z"
      },
      {
        "duration": 15,
        "start_time": "2022-01-03T10:55:56.912Z"
      },
      {
        "duration": 7,
        "start_time": "2022-01-03T11:01:57.592Z"
      },
      {
        "duration": 6,
        "start_time": "2022-01-03T11:02:59.562Z"
      },
      {
        "duration": 6,
        "start_time": "2022-01-03T11:03:08.337Z"
      },
      {
        "duration": 15,
        "start_time": "2022-01-03T11:03:53.989Z"
      },
      {
        "duration": 9,
        "start_time": "2022-01-03T11:04:18.285Z"
      },
      {
        "duration": 7,
        "start_time": "2022-01-03T11:04:58.016Z"
      },
      {
        "duration": 9,
        "start_time": "2022-01-03T11:05:32.141Z"
      },
      {
        "duration": 16,
        "start_time": "2022-01-03T11:06:33.187Z"
      },
      {
        "duration": 20,
        "start_time": "2022-01-03T11:08:50.441Z"
      },
      {
        "duration": 18,
        "start_time": "2022-01-03T11:08:58.602Z"
      },
      {
        "duration": 23,
        "start_time": "2022-01-03T11:09:21.588Z"
      },
      {
        "duration": 20,
        "start_time": "2022-01-03T11:09:36.145Z"
      },
      {
        "duration": 23,
        "start_time": "2022-01-03T11:10:34.549Z"
      },
      {
        "duration": 24,
        "start_time": "2022-01-03T11:11:51.967Z"
      },
      {
        "duration": 26,
        "start_time": "2022-01-03T11:12:22.831Z"
      },
      {
        "duration": 29,
        "start_time": "2022-01-03T11:34:04.416Z"
      },
      {
        "duration": 34,
        "start_time": "2022-01-03T11:40:19.387Z"
      },
      {
        "duration": 37,
        "start_time": "2022-01-03T11:41:31.180Z"
      },
      {
        "duration": 38,
        "start_time": "2022-01-03T11:42:18.531Z"
      },
      {
        "duration": 122,
        "start_time": "2022-01-03T11:44:58.178Z"
      },
      {
        "duration": 36,
        "start_time": "2022-01-03T11:45:13.126Z"
      },
      {
        "duration": 4,
        "start_time": "2022-01-03T11:45:51.957Z"
      },
      {
        "duration": 41,
        "start_time": "2022-01-03T11:46:07.116Z"
      },
      {
        "duration": 41,
        "start_time": "2022-01-03T11:46:47.545Z"
      },
      {
        "duration": 221,
        "start_time": "2022-01-03T17:44:05.708Z"
      },
      {
        "duration": 587,
        "start_time": "2022-01-03T17:44:23.821Z"
      },
      {
        "duration": 13,
        "start_time": "2022-01-03T17:44:24.410Z"
      },
      {
        "duration": 20,
        "start_time": "2022-01-03T17:44:24.425Z"
      },
      {
        "duration": 25,
        "start_time": "2022-01-03T17:44:24.447Z"
      },
      {
        "duration": 21,
        "start_time": "2022-01-03T17:44:24.473Z"
      },
      {
        "duration": 31,
        "start_time": "2022-01-03T17:44:24.495Z"
      },
      {
        "duration": 27,
        "start_time": "2022-01-03T17:44:24.528Z"
      },
      {
        "duration": 50,
        "start_time": "2022-01-03T17:44:24.556Z"
      },
      {
        "duration": 40,
        "start_time": "2022-01-03T17:47:14.470Z"
      },
      {
        "duration": 204,
        "start_time": "2022-01-03T18:01:14.628Z"
      },
      {
        "duration": 712,
        "start_time": "2022-01-03T18:01:32.959Z"
      },
      {
        "duration": 25,
        "start_time": "2022-01-03T18:02:01.503Z"
      },
      {
        "duration": 23,
        "start_time": "2022-01-03T18:02:49.134Z"
      },
      {
        "duration": 79,
        "start_time": "2022-01-03T18:09:36.693Z"
      },
      {
        "duration": 56,
        "start_time": "2022-01-03T18:09:56.167Z"
      },
      {
        "duration": 74,
        "start_time": "2022-01-03T18:10:14.911Z"
      },
      {
        "duration": 58,
        "start_time": "2022-01-03T18:11:07.025Z"
      },
      {
        "duration": 778,
        "start_time": "2022-01-03T18:11:15.857Z"
      },
      {
        "duration": 56,
        "start_time": "2022-01-03T18:11:20.700Z"
      },
      {
        "duration": 56,
        "start_time": "2022-01-03T18:11:26.500Z"
      },
      {
        "duration": 56,
        "start_time": "2022-01-03T18:11:43.718Z"
      },
      {
        "duration": 27,
        "start_time": "2022-01-03T18:11:55.806Z"
      },
      {
        "duration": 21,
        "start_time": "2022-01-03T18:12:16.286Z"
      },
      {
        "duration": 178,
        "start_time": "2022-01-03T18:12:35.309Z"
      },
      {
        "duration": 229,
        "start_time": "2022-01-03T18:13:10.442Z"
      },
      {
        "duration": 224,
        "start_time": "2022-01-03T18:13:55.260Z"
      },
      {
        "duration": 177,
        "start_time": "2022-01-03T18:14:06.966Z"
      },
      {
        "duration": 23,
        "start_time": "2022-01-03T18:14:45.825Z"
      },
      {
        "duration": 23,
        "start_time": "2022-01-03T18:15:56.177Z"
      },
      {
        "duration": 25,
        "start_time": "2022-01-03T18:16:01.967Z"
      },
      {
        "duration": 25,
        "start_time": "2022-01-03T18:17:27.340Z"
      },
      {
        "duration": 26,
        "start_time": "2022-01-03T18:25:56.318Z"
      },
      {
        "duration": 177,
        "start_time": "2022-01-03T18:27:53.911Z"
      },
      {
        "duration": 25,
        "start_time": "2022-01-03T18:28:02.494Z"
      },
      {
        "duration": 24,
        "start_time": "2022-01-03T18:28:11.864Z"
      },
      {
        "duration": 6,
        "start_time": "2022-01-03T19:02:17.561Z"
      },
      {
        "duration": 5,
        "start_time": "2022-01-03T19:04:37.379Z"
      },
      {
        "duration": 4,
        "start_time": "2022-01-03T19:04:48.490Z"
      },
      {
        "duration": 4,
        "start_time": "2022-01-03T19:11:01.602Z"
      },
      {
        "duration": 6,
        "start_time": "2022-01-03T19:11:23.030Z"
      },
      {
        "duration": 218,
        "start_time": "2022-01-03T19:22:00.182Z"
      },
      {
        "duration": 266,
        "start_time": "2022-01-03T19:22:21.235Z"
      },
      {
        "duration": 19,
        "start_time": "2022-01-03T19:22:30.532Z"
      },
      {
        "duration": 18,
        "start_time": "2022-01-03T19:23:43.342Z"
      },
      {
        "duration": 183,
        "start_time": "2022-01-03T19:25:01.024Z"
      },
      {
        "duration": 180,
        "start_time": "2022-01-03T19:25:13.096Z"
      },
      {
        "duration": 20,
        "start_time": "2022-01-03T19:25:59.701Z"
      },
      {
        "duration": 203,
        "start_time": "2022-01-03T19:26:21.335Z"
      },
      {
        "duration": 19,
        "start_time": "2022-01-03T19:26:34.743Z"
      },
      {
        "duration": 17,
        "start_time": "2022-01-03T19:26:41.166Z"
      },
      {
        "duration": 171,
        "start_time": "2022-01-03T19:33:15.562Z"
      },
      {
        "duration": 168,
        "start_time": "2022-01-03T19:33:55.229Z"
      },
      {
        "duration": 174,
        "start_time": "2022-01-03T19:34:07.723Z"
      },
      {
        "duration": 55,
        "start_time": "2022-01-03T19:34:26.028Z"
      },
      {
        "duration": 20,
        "start_time": "2022-01-03T19:35:43.280Z"
      },
      {
        "duration": 19,
        "start_time": "2022-01-03T19:36:17.641Z"
      },
      {
        "duration": 19,
        "start_time": "2022-01-03T19:36:27.689Z"
      },
      {
        "duration": 19,
        "start_time": "2022-01-03T19:36:36.737Z"
      },
      {
        "duration": 21,
        "start_time": "2022-01-03T19:36:58.672Z"
      },
      {
        "duration": 32,
        "start_time": "2022-01-03T19:38:48.876Z"
      },
      {
        "duration": 32,
        "start_time": "2022-01-03T19:38:57.377Z"
      },
      {
        "duration": 33,
        "start_time": "2022-01-03T19:39:46.326Z"
      },
      {
        "duration": 31,
        "start_time": "2022-01-03T19:40:06.857Z"
      },
      {
        "duration": 33,
        "start_time": "2022-01-03T19:40:55.252Z"
      },
      {
        "duration": 55,
        "start_time": "2022-01-03T19:43:00.466Z"
      },
      {
        "duration": 43,
        "start_time": "2022-01-03T19:43:15.004Z"
      },
      {
        "duration": 52,
        "start_time": "2022-01-03T19:43:44.273Z"
      },
      {
        "duration": 38,
        "start_time": "2022-01-03T19:45:56.920Z"
      },
      {
        "duration": 38,
        "start_time": "2022-01-03T19:59:10.904Z"
      },
      {
        "duration": 39,
        "start_time": "2022-01-03T19:59:19.895Z"
      },
      {
        "duration": 38,
        "start_time": "2022-01-03T19:59:27.911Z"
      },
      {
        "duration": 204,
        "start_time": "2022-01-03T20:01:48.283Z"
      },
      {
        "duration": 170,
        "start_time": "2022-01-03T20:02:06.552Z"
      },
      {
        "duration": 7,
        "start_time": "2022-01-03T20:02:30.294Z"
      },
      {
        "duration": 14,
        "start_time": "2022-01-03T20:03:58.588Z"
      },
      {
        "duration": 5,
        "start_time": "2022-01-03T20:04:27.166Z"
      },
      {
        "duration": 182,
        "start_time": "2022-01-03T20:04:41.526Z"
      },
      {
        "duration": 48,
        "start_time": "2022-01-03T20:07:03.072Z"
      },
      {
        "duration": 192,
        "start_time": "2022-01-03T20:07:17.737Z"
      },
      {
        "duration": 61,
        "start_time": "2022-01-03T20:07:21.412Z"
      },
      {
        "duration": 47,
        "start_time": "2022-01-03T20:07:35.808Z"
      },
      {
        "duration": 227,
        "start_time": "2022-01-03T20:07:40.063Z"
      },
      {
        "duration": 67,
        "start_time": "2022-01-03T20:07:43.520Z"
      },
      {
        "duration": 218,
        "start_time": "2022-01-03T20:07:47.470Z"
      },
      {
        "duration": 219,
        "start_time": "2022-01-03T20:07:55.825Z"
      },
      {
        "duration": 47,
        "start_time": "2022-01-03T20:08:01.316Z"
      },
      {
        "duration": 37,
        "start_time": "2022-01-03T20:08:45.859Z"
      },
      {
        "duration": 5,
        "start_time": "2022-01-03T20:10:45.039Z"
      },
      {
        "duration": 9,
        "start_time": "2022-01-03T20:10:54.860Z"
      },
      {
        "duration": 216,
        "start_time": "2022-01-03T21:41:49.668Z"
      },
      {
        "duration": 599,
        "start_time": "2022-01-03T21:42:05.560Z"
      },
      {
        "duration": 11,
        "start_time": "2022-01-03T21:42:06.161Z"
      },
      {
        "duration": 6,
        "start_time": "2022-01-03T21:42:06.174Z"
      },
      {
        "duration": 6,
        "start_time": "2022-01-03T21:42:06.182Z"
      },
      {
        "duration": 4,
        "start_time": "2022-01-03T21:42:06.191Z"
      },
      {
        "duration": 6,
        "start_time": "2022-01-03T21:42:06.196Z"
      },
      {
        "duration": 14,
        "start_time": "2022-01-03T21:42:06.203Z"
      },
      {
        "duration": 10,
        "start_time": "2022-01-03T21:42:06.219Z"
      },
      {
        "duration": 24,
        "start_time": "2022-01-03T21:42:06.232Z"
      },
      {
        "duration": 41,
        "start_time": "2022-01-03T21:42:06.291Z"
      },
      {
        "duration": 10,
        "start_time": "2022-01-03T21:42:06.334Z"
      },
      {
        "duration": 10,
        "start_time": "2022-01-03T21:42:06.345Z"
      },
      {
        "duration": 74,
        "start_time": "2022-01-03T21:42:06.356Z"
      },
      {
        "duration": 4,
        "start_time": "2022-01-03T21:45:29.259Z"
      },
      {
        "duration": 5,
        "start_time": "2022-01-03T21:45:48.920Z"
      },
      {
        "duration": 6,
        "start_time": "2022-01-03T21:45:52.518Z"
      },
      {
        "duration": 4,
        "start_time": "2022-01-03T21:48:49.457Z"
      },
      {
        "duration": 4,
        "start_time": "2022-01-03T21:49:00.357Z"
      },
      {
        "duration": 5,
        "start_time": "2022-01-03T21:49:11.698Z"
      },
      {
        "duration": 6,
        "start_time": "2022-01-03T21:49:42.725Z"
      },
      {
        "duration": 520,
        "start_time": "2022-01-03T21:53:54.000Z"
      },
      {
        "duration": 526,
        "start_time": "2022-01-03T21:54:59.262Z"
      },
      {
        "duration": -585,
        "start_time": "2022-01-03T21:57:11.981Z"
      },
      {
        "duration": 503,
        "start_time": "2022-01-03T21:57:40.167Z"
      },
      {
        "duration": 179,
        "start_time": "2022-01-03T21:57:57.408Z"
      },
      {
        "duration": 2722,
        "start_time": "2022-01-03T21:58:36.584Z"
      },
      {
        "duration": 476,
        "start_time": "2022-01-03T22:05:08.256Z"
      },
      {
        "duration": 6,
        "start_time": "2022-01-03T22:06:27.038Z"
      },
      {
        "duration": 13,
        "start_time": "2022-01-03T22:10:16.702Z"
      },
      {
        "duration": 67,
        "start_time": "2022-01-03T22:11:32.646Z"
      },
      {
        "duration": 13,
        "start_time": "2022-01-03T22:11:47.553Z"
      },
      {
        "duration": 16,
        "start_time": "2022-01-03T22:11:54.431Z"
      },
      {
        "duration": 17,
        "start_time": "2022-01-03T22:12:16.382Z"
      },
      {
        "duration": 6,
        "start_time": "2022-01-03T22:14:02.646Z"
      },
      {
        "duration": 8,
        "start_time": "2022-01-03T22:16:36.141Z"
      },
      {
        "duration": 8,
        "start_time": "2022-01-03T22:16:52.394Z"
      },
      {
        "duration": 8,
        "start_time": "2022-01-03T22:17:02.045Z"
      },
      {
        "duration": 52,
        "start_time": "2022-01-03T22:17:23.412Z"
      },
      {
        "duration": 13,
        "start_time": "2022-01-03T22:17:23.466Z"
      },
      {
        "duration": 6,
        "start_time": "2022-01-03T22:17:23.481Z"
      },
      {
        "duration": 5,
        "start_time": "2022-01-03T22:17:23.489Z"
      },
      {
        "duration": 7,
        "start_time": "2022-01-03T22:17:23.495Z"
      },
      {
        "duration": 9,
        "start_time": "2022-01-03T22:17:26.989Z"
      },
      {
        "duration": 92,
        "start_time": "2022-01-03T22:19:17.993Z"
      },
      {
        "duration": 8,
        "start_time": "2022-01-03T22:19:32.766Z"
      },
      {
        "duration": 8,
        "start_time": "2022-01-03T22:19:41.753Z"
      },
      {
        "duration": 9,
        "start_time": "2022-01-03T22:20:10.101Z"
      },
      {
        "duration": 7,
        "start_time": "2022-01-03T22:20:15.635Z"
      },
      {
        "duration": 64,
        "start_time": "2022-01-03T22:20:19.698Z"
      },
      {
        "duration": 57,
        "start_time": "2022-01-03T22:20:26.192Z"
      },
      {
        "duration": 82,
        "start_time": "2022-01-03T22:20:31.298Z"
      },
      {
        "duration": 57,
        "start_time": "2022-01-03T22:20:36.325Z"
      },
      {
        "duration": 81,
        "start_time": "2022-01-03T22:20:44.806Z"
      },
      {
        "duration": 8,
        "start_time": "2022-01-03T22:20:50.443Z"
      },
      {
        "duration": 7,
        "start_time": "2022-01-03T22:21:07.586Z"
      },
      {
        "duration": 8,
        "start_time": "2022-01-03T22:21:47.236Z"
      },
      {
        "duration": 8,
        "start_time": "2022-01-03T22:21:56.653Z"
      },
      {
        "duration": 8,
        "start_time": "2022-01-03T22:22:27.323Z"
      },
      {
        "duration": 8,
        "start_time": "2022-01-03T22:22:54.946Z"
      },
      {
        "duration": 54,
        "start_time": "2022-01-03T22:22:58.890Z"
      },
      {
        "duration": 12,
        "start_time": "2022-01-03T22:22:58.946Z"
      },
      {
        "duration": 5,
        "start_time": "2022-01-03T22:22:58.961Z"
      },
      {
        "duration": 5,
        "start_time": "2022-01-03T22:22:58.967Z"
      },
      {
        "duration": 3,
        "start_time": "2022-01-03T22:22:58.991Z"
      },
      {
        "duration": 7,
        "start_time": "2022-01-03T22:23:01.304Z"
      },
      {
        "duration": 61,
        "start_time": "2022-01-03T22:23:23.344Z"
      },
      {
        "duration": 54,
        "start_time": "2022-01-03T22:23:32.107Z"
      },
      {
        "duration": 101,
        "start_time": "2022-01-03T22:23:40.225Z"
      },
      {
        "duration": 8,
        "start_time": "2022-01-03T22:23:46.269Z"
      },
      {
        "duration": 9,
        "start_time": "2022-01-03T22:25:11.563Z"
      },
      {
        "duration": 9,
        "start_time": "2022-01-03T22:25:17.935Z"
      },
      {
        "duration": 450,
        "start_time": "2022-01-03T22:25:38.476Z"
      },
      {
        "duration": 62,
        "start_time": "2022-01-03T22:25:59.672Z"
      },
      {
        "duration": 8,
        "start_time": "2022-01-03T22:26:10.786Z"
      },
      {
        "duration": 59,
        "start_time": "2022-01-03T22:28:12.604Z"
      },
      {
        "duration": 180,
        "start_time": "2022-01-03T22:28:18.543Z"
      },
      {
        "duration": 10,
        "start_time": "2022-01-03T22:28:39.498Z"
      },
      {
        "duration": 179,
        "start_time": "2022-01-03T22:29:07.846Z"
      },
      {
        "duration": 9,
        "start_time": "2022-01-03T22:29:15.555Z"
      },
      {
        "duration": 11,
        "start_time": "2022-01-03T22:30:52.046Z"
      },
      {
        "duration": 60,
        "start_time": "2022-01-03T22:32:04.017Z"
      },
      {
        "duration": 9,
        "start_time": "2022-01-03T22:32:15.191Z"
      },
      {
        "duration": 13,
        "start_time": "2022-01-03T22:32:28.237Z"
      },
      {
        "duration": 11,
        "start_time": "2022-01-03T22:32:47.430Z"
      },
      {
        "duration": 12,
        "start_time": "2022-01-03T22:33:10.377Z"
      },
      {
        "duration": 17,
        "start_time": "2022-01-03T22:39:47.816Z"
      },
      {
        "duration": 15,
        "start_time": "2022-01-03T22:40:18.336Z"
      },
      {
        "duration": 25,
        "start_time": "2022-01-03T22:40:39.894Z"
      },
      {
        "duration": 227,
        "start_time": "2022-01-03T22:42:27.131Z"
      },
      {
        "duration": 34,
        "start_time": "2022-01-03T22:42:46.812Z"
      },
      {
        "duration": 26,
        "start_time": "2022-01-03T22:43:24.033Z"
      },
      {
        "duration": 192,
        "start_time": "2022-01-03T22:44:14.269Z"
      },
      {
        "duration": 85020,
        "start_time": "2022-01-03T22:44:26.216Z"
      },
      {
        "duration": 25,
        "start_time": "2022-01-03T22:57:52.362Z"
      },
      {
        "duration": 6,
        "start_time": "2022-01-03T23:38:12.780Z"
      },
      {
        "duration": 59,
        "start_time": "2022-01-03T23:38:28.717Z"
      },
      {
        "duration": 7,
        "start_time": "2022-01-03T23:38:30.805Z"
      },
      {
        "duration": 3,
        "start_time": "2022-01-03T23:39:47.583Z"
      },
      {
        "duration": 183,
        "start_time": "2022-01-03T23:41:41.633Z"
      },
      {
        "duration": 692,
        "start_time": "2022-01-03T23:44:04.906Z"
      },
      {
        "duration": 708,
        "start_time": "2022-01-03T23:44:17.766Z"
      },
      {
        "duration": 3219,
        "start_time": "2022-01-03T23:44:22.448Z"
      },
      {
        "duration": 866,
        "start_time": "2022-01-03T23:46:12.142Z"
      },
      {
        "duration": 29,
        "start_time": "2022-01-03T23:46:16.949Z"
      },
      {
        "duration": 4,
        "start_time": "2022-01-03T23:46:20.825Z"
      },
      {
        "duration": 3,
        "start_time": "2022-01-03T23:46:27.461Z"
      },
      {
        "duration": 5,
        "start_time": "2022-01-03T23:47:00.122Z"
      },
      {
        "duration": 4,
        "start_time": "2022-01-03T23:47:28.361Z"
      },
      {
        "duration": 5,
        "start_time": "2022-01-03T23:47:43.810Z"
      },
      {
        "duration": 689,
        "start_time": "2022-01-03T23:47:57.602Z"
      },
      {
        "duration": 719,
        "start_time": "2022-01-03T23:48:32.908Z"
      },
      {
        "duration": 692,
        "start_time": "2022-01-03T23:50:33.307Z"
      },
      {
        "duration": 5513,
        "start_time": "2022-01-03T23:56:37.601Z"
      },
      {
        "duration": 10430,
        "start_time": "2022-01-03T23:57:36.329Z"
      },
      {
        "duration": 10209,
        "start_time": "2022-01-03T23:58:07.728Z"
      },
      {
        "duration": 902,
        "start_time": "2022-01-04T00:02:47.833Z"
      },
      {
        "duration": 871,
        "start_time": "2022-01-04T00:03:52.363Z"
      },
      {
        "duration": 69,
        "start_time": "2022-01-04T00:05:22.629Z"
      },
      {
        "duration": 870,
        "start_time": "2022-01-04T00:06:23.299Z"
      },
      {
        "duration": 1034,
        "start_time": "2022-01-04T00:06:57.825Z"
      },
      {
        "duration": 884,
        "start_time": "2022-01-04T00:07:45.830Z"
      },
      {
        "duration": 885,
        "start_time": "2022-01-04T00:08:56.115Z"
      },
      {
        "duration": 9910,
        "start_time": "2022-01-04T00:09:15.688Z"
      },
      {
        "duration": 8181,
        "start_time": "2022-01-04T00:10:11.353Z"
      },
      {
        "duration": 8482,
        "start_time": "2022-01-04T00:10:22.280Z"
      },
      {
        "duration": 10553,
        "start_time": "2022-01-04T00:10:45.768Z"
      },
      {
        "duration": 875,
        "start_time": "2022-01-04T00:12:04.808Z"
      },
      {
        "duration": 992,
        "start_time": "2022-01-04T00:14:16.405Z"
      },
      {
        "duration": 129,
        "start_time": "2022-01-04T12:24:08.024Z"
      },
      {
        "duration": 1762,
        "start_time": "2022-01-04T12:24:20.130Z"
      },
      {
        "duration": 405,
        "start_time": "2022-01-04T12:24:37.153Z"
      },
      {
        "duration": 395,
        "start_time": "2022-01-04T12:24:40.448Z"
      },
      {
        "duration": 645,
        "start_time": "2022-01-04T12:24:50.417Z"
      },
      {
        "duration": 30,
        "start_time": "2022-01-04T12:24:51.065Z"
      },
      {
        "duration": 10,
        "start_time": "2022-01-04T12:24:51.099Z"
      },
      {
        "duration": 15,
        "start_time": "2022-01-04T12:24:51.112Z"
      },
      {
        "duration": 33,
        "start_time": "2022-01-04T12:24:51.130Z"
      },
      {
        "duration": 13,
        "start_time": "2022-01-04T12:24:51.166Z"
      },
      {
        "duration": 29,
        "start_time": "2022-01-04T12:24:51.182Z"
      },
      {
        "duration": 1424,
        "start_time": "2022-01-04T12:24:51.215Z"
      },
      {
        "duration": -954,
        "start_time": "2022-01-04T12:24:53.597Z"
      },
      {
        "duration": -965,
        "start_time": "2022-01-04T12:24:53.609Z"
      },
      {
        "duration": -980,
        "start_time": "2022-01-04T12:24:53.626Z"
      },
      {
        "duration": -998,
        "start_time": "2022-01-04T12:24:53.645Z"
      },
      {
        "duration": -1007,
        "start_time": "2022-01-04T12:24:53.656Z"
      },
      {
        "duration": -1016,
        "start_time": "2022-01-04T12:24:53.666Z"
      },
      {
        "duration": -1020,
        "start_time": "2022-01-04T12:24:53.672Z"
      },
      {
        "duration": 18510,
        "start_time": "2022-01-04T12:25:14.220Z"
      },
      {
        "duration": 8036,
        "start_time": "2022-01-04T12:26:23.888Z"
      },
      {
        "duration": 6992,
        "start_time": "2022-01-04T12:30:31.773Z"
      },
      {
        "duration": 6985,
        "start_time": "2022-01-04T12:31:02.772Z"
      },
      {
        "duration": 6450,
        "start_time": "2022-01-04T12:31:18.383Z"
      },
      {
        "duration": 6433,
        "start_time": "2022-01-04T12:32:05.193Z"
      },
      {
        "duration": 6466,
        "start_time": "2022-01-04T12:34:16.322Z"
      },
      {
        "duration": 7294,
        "start_time": "2022-01-04T12:35:54.583Z"
      },
      {
        "duration": 6348,
        "start_time": "2022-01-04T12:36:18.793Z"
      },
      {
        "duration": 236,
        "start_time": "2022-01-04T12:41:32.979Z"
      },
      {
        "duration": 16,
        "start_time": "2022-01-04T12:42:38.372Z"
      },
      {
        "duration": 19,
        "start_time": "2022-01-04T12:42:51.656Z"
      },
      {
        "duration": 124,
        "start_time": "2022-01-04T12:43:30.804Z"
      },
      {
        "duration": 462,
        "start_time": "2022-01-04T12:43:34.144Z"
      },
      {
        "duration": 16,
        "start_time": "2022-01-04T12:43:39.754Z"
      },
      {
        "duration": 91,
        "start_time": "2022-01-04T13:16:15.213Z"
      },
      {
        "duration": 19,
        "start_time": "2022-01-04T13:19:29.595Z"
      },
      {
        "duration": 10,
        "start_time": "2022-01-04T13:19:34.149Z"
      },
      {
        "duration": 397,
        "start_time": "2022-01-04T13:19:48.568Z"
      },
      {
        "duration": 17,
        "start_time": "2022-01-04T13:19:53.489Z"
      },
      {
        "duration": 10,
        "start_time": "2022-01-04T13:20:02.963Z"
      },
      {
        "duration": 13,
        "start_time": "2022-01-04T13:22:10.495Z"
      },
      {
        "duration": 21,
        "start_time": "2022-01-04T13:22:32.477Z"
      },
      {
        "duration": 443,
        "start_time": "2022-01-04T13:22:50.256Z"
      },
      {
        "duration": 74,
        "start_time": "2022-01-04T13:22:55.484Z"
      },
      {
        "duration": 22,
        "start_time": "2022-01-04T13:22:55.564Z"
      },
      {
        "duration": 9,
        "start_time": "2022-01-04T13:22:55.590Z"
      },
      {
        "duration": 7,
        "start_time": "2022-01-04T13:22:55.603Z"
      },
      {
        "duration": 48,
        "start_time": "2022-01-04T13:22:55.613Z"
      },
      {
        "duration": 14,
        "start_time": "2022-01-04T13:22:55.663Z"
      },
      {
        "duration": 20,
        "start_time": "2022-01-04T13:22:55.680Z"
      },
      {
        "duration": 6795,
        "start_time": "2022-01-04T13:22:55.704Z"
      },
      {
        "duration": 14,
        "start_time": "2022-01-04T13:23:02.503Z"
      },
      {
        "duration": 65,
        "start_time": "2022-01-04T13:23:02.520Z"
      },
      {
        "duration": 79,
        "start_time": "2022-01-04T13:23:02.588Z"
      },
      {
        "duration": 14,
        "start_time": "2022-01-04T13:23:02.670Z"
      },
      {
        "duration": 11,
        "start_time": "2022-01-04T13:23:02.688Z"
      },
      {
        "duration": 118,
        "start_time": "2022-01-04T13:23:02.702Z"
      },
      {
        "duration": 58,
        "start_time": "2022-01-04T13:23:02.823Z"
      },
      {
        "duration": -854,
        "start_time": "2022-01-04T13:23:04.134Z"
      },
      {
        "duration": 503,
        "start_time": "2022-01-04T13:23:07.003Z"
      },
      {
        "duration": 10,
        "start_time": "2022-01-04T13:23:44.098Z"
      },
      {
        "duration": 11,
        "start_time": "2022-01-04T13:23:49.723Z"
      },
      {
        "duration": 90,
        "start_time": "2022-01-04T13:43:25.188Z"
      },
      {
        "duration": 6647,
        "start_time": "2022-01-04T13:55:31.080Z"
      },
      {
        "duration": 79,
        "start_time": "2022-01-04T13:55:52.839Z"
      },
      {
        "duration": 416,
        "start_time": "2022-01-04T14:48:32.115Z"
      },
      {
        "duration": 1867,
        "start_time": "2022-01-04T14:57:58.098Z"
      },
      {
        "duration": 400,
        "start_time": "2022-01-04T14:58:16.427Z"
      },
      {
        "duration": 398,
        "start_time": "2022-01-04T14:58:28.992Z"
      },
      {
        "duration": 399,
        "start_time": "2022-01-04T14:58:38.008Z"
      },
      {
        "duration": 1024,
        "start_time": "2022-01-04T14:58:47.238Z"
      },
      {
        "duration": 903,
        "start_time": "2022-01-04T14:59:02.874Z"
      },
      {
        "duration": 673,
        "start_time": "2022-01-04T15:00:57.960Z"
      },
      {
        "duration": 662,
        "start_time": "2022-01-04T15:02:19.663Z"
      },
      {
        "duration": 718,
        "start_time": "2022-01-04T15:03:03.968Z"
      },
      {
        "duration": 854,
        "start_time": "2022-01-04T15:03:09.087Z"
      },
      {
        "duration": 685,
        "start_time": "2022-01-04T15:04:24.571Z"
      },
      {
        "duration": 393,
        "start_time": "2022-01-04T15:06:17.303Z"
      },
      {
        "duration": 1753,
        "start_time": "2022-01-04T15:07:11.476Z"
      },
      {
        "duration": 1797,
        "start_time": "2022-01-04T15:07:33.089Z"
      },
      {
        "duration": 1883,
        "start_time": "2022-01-04T15:09:09.663Z"
      },
      {
        "duration": 1995,
        "start_time": "2022-01-04T15:11:25.239Z"
      },
      {
        "duration": 2026,
        "start_time": "2022-01-04T15:11:40.068Z"
      },
      {
        "duration": 1892,
        "start_time": "2022-01-04T15:12:14.184Z"
      },
      {
        "duration": 2367,
        "start_time": "2022-01-04T15:13:13.921Z"
      },
      {
        "duration": 138,
        "start_time": "2022-01-04T15:14:18.184Z"
      },
      {
        "duration": 2190,
        "start_time": "2022-01-04T15:14:38.897Z"
      },
      {
        "duration": 2455,
        "start_time": "2022-01-04T15:15:02.555Z"
      },
      {
        "duration": 44683,
        "start_time": "2022-01-04T15:15:19.883Z"
      },
      {
        "duration": 45992,
        "start_time": "2022-01-04T15:16:22.284Z"
      },
      {
        "duration": 125,
        "start_time": "2022-01-04T15:17:53.390Z"
      },
      {
        "duration": -813,
        "start_time": "2022-01-04T15:21:38.814Z"
      },
      {
        "duration": -824,
        "start_time": "2022-01-04T15:21:38.827Z"
      },
      {
        "duration": -830,
        "start_time": "2022-01-04T15:21:38.835Z"
      },
      {
        "duration": -833,
        "start_time": "2022-01-04T15:21:38.840Z"
      },
      {
        "duration": -834,
        "start_time": "2022-01-04T15:21:38.843Z"
      },
      {
        "duration": -835,
        "start_time": "2022-01-04T15:21:38.846Z"
      },
      {
        "duration": -835,
        "start_time": "2022-01-04T15:21:38.849Z"
      },
      {
        "duration": -835,
        "start_time": "2022-01-04T15:21:38.851Z"
      },
      {
        "duration": -839,
        "start_time": "2022-01-04T15:21:38.857Z"
      },
      {
        "duration": -841,
        "start_time": "2022-01-04T15:21:38.861Z"
      },
      {
        "duration": -843,
        "start_time": "2022-01-04T15:21:38.865Z"
      },
      {
        "duration": -844,
        "start_time": "2022-01-04T15:21:38.868Z"
      },
      {
        "duration": -846,
        "start_time": "2022-01-04T15:21:38.872Z"
      },
      {
        "duration": -849,
        "start_time": "2022-01-04T15:21:38.877Z"
      },
      {
        "duration": -821,
        "start_time": "2022-01-04T15:21:38.883Z"
      },
      {
        "duration": -821,
        "start_time": "2022-01-04T15:21:38.885Z"
      },
      {
        "duration": 76,
        "start_time": "2022-01-04T15:21:48.666Z"
      },
      {
        "duration": 2173,
        "start_time": "2022-01-04T15:21:56.101Z"
      },
      {
        "duration": 1767,
        "start_time": "2022-01-04T15:22:18.637Z"
      },
      {
        "duration": 46975,
        "start_time": "2022-01-04T15:23:09.719Z"
      },
      {
        "duration": 1923,
        "start_time": "2022-01-04T15:24:27.535Z"
      },
      {
        "duration": 138,
        "start_time": "2022-01-04T15:25:25.772Z"
      },
      {
        "duration": 200,
        "start_time": "2022-01-04T15:25:46.961Z"
      },
      {
        "duration": 134,
        "start_time": "2022-01-04T15:26:10.337Z"
      },
      {
        "duration": 143,
        "start_time": "2022-01-04T15:26:49.083Z"
      },
      {
        "duration": 786,
        "start_time": "2022-01-04T15:27:39.882Z"
      },
      {
        "duration": 329,
        "start_time": "2022-01-04T15:28:21.378Z"
      },
      {
        "duration": 144,
        "start_time": "2022-01-04T15:28:46.000Z"
      },
      {
        "duration": 6476,
        "start_time": "2022-01-04T15:31:01.446Z"
      },
      {
        "duration": 9723,
        "start_time": "2022-01-04T15:32:05.044Z"
      },
      {
        "duration": 199,
        "start_time": "2022-01-04T15:32:47.088Z"
      },
      {
        "duration": 131,
        "start_time": "2022-01-04T15:33:25.117Z"
      },
      {
        "duration": 137,
        "start_time": "2022-01-04T15:33:31.326Z"
      },
      {
        "duration": 731,
        "start_time": "2022-01-04T15:34:04.370Z"
      },
      {
        "duration": 1469,
        "start_time": "2022-01-04T15:34:36.460Z"
      },
      {
        "duration": 1397,
        "start_time": "2022-01-04T15:35:05.536Z"
      },
      {
        "duration": 200,
        "start_time": "2022-01-04T15:35:29.682Z"
      },
      {
        "duration": 122,
        "start_time": "2022-01-04T15:35:48.112Z"
      },
      {
        "duration": 3428,
        "start_time": "2022-01-04T15:35:57.798Z"
      },
      {
        "duration": 135,
        "start_time": "2022-01-04T15:36:31.033Z"
      },
      {
        "duration": 133,
        "start_time": "2022-01-04T15:37:11.685Z"
      },
      {
        "duration": 203,
        "start_time": "2022-01-04T15:37:16.600Z"
      },
      {
        "duration": 130,
        "start_time": "2022-01-04T15:37:45.235Z"
      },
      {
        "duration": 2820,
        "start_time": "2022-01-04T15:41:25.376Z"
      },
      {
        "duration": 3347,
        "start_time": "2022-01-04T15:41:42.862Z"
      },
      {
        "duration": 214,
        "start_time": "2022-01-04T15:41:55.174Z"
      },
      {
        "duration": 2738,
        "start_time": "2022-01-04T15:42:53.091Z"
      },
      {
        "duration": 2835,
        "start_time": "2022-01-04T15:44:36.999Z"
      },
      {
        "duration": 152,
        "start_time": "2022-01-04T15:46:06.593Z"
      },
      {
        "duration": 215,
        "start_time": "2022-01-04T15:46:28.151Z"
      },
      {
        "duration": 1961,
        "start_time": "2022-01-04T15:46:41.696Z"
      },
      {
        "duration": 149,
        "start_time": "2022-01-04T15:55:44.367Z"
      },
      {
        "duration": 2886,
        "start_time": "2022-01-04T15:55:59.594Z"
      },
      {
        "duration": 2923,
        "start_time": "2022-01-04T15:57:35.288Z"
      },
      {
        "duration": 3364,
        "start_time": "2022-01-04T15:58:29.656Z"
      },
      {
        "duration": 2800,
        "start_time": "2022-01-04T15:58:47.759Z"
      },
      {
        "duration": 3214,
        "start_time": "2022-01-04T15:59:05.564Z"
      },
      {
        "duration": 526,
        "start_time": "2022-01-04T15:59:29.297Z"
      },
      {
        "duration": 502,
        "start_time": "2022-01-04T15:59:52.766Z"
      },
      {
        "duration": 1325,
        "start_time": "2022-01-04T16:00:05.578Z"
      },
      {
        "duration": 520,
        "start_time": "2022-01-04T16:00:38.229Z"
      },
      {
        "duration": 2634,
        "start_time": "2022-01-04T16:00:50.293Z"
      },
      {
        "duration": 2565,
        "start_time": "2022-01-04T16:02:25.050Z"
      },
      {
        "duration": 6756,
        "start_time": "2022-01-04T16:03:00.362Z"
      },
      {
        "duration": 1710,
        "start_time": "2022-01-04T16:03:32.656Z"
      },
      {
        "duration": 504,
        "start_time": "2022-01-04T16:05:02.416Z"
      },
      {
        "duration": 3574,
        "start_time": "2022-01-04T16:05:45.577Z"
      },
      {
        "duration": 511,
        "start_time": "2022-01-04T16:06:01.409Z"
      },
      {
        "duration": 826,
        "start_time": "2022-01-04T16:06:13.703Z"
      },
      {
        "duration": 151,
        "start_time": "2022-01-04T16:08:44.666Z"
      },
      {
        "duration": 635,
        "start_time": "2022-01-04T16:10:40.846Z"
      },
      {
        "duration": 436,
        "start_time": "2022-01-04T16:11:05.751Z"
      },
      {
        "duration": 497,
        "start_time": "2022-01-04T16:11:40.292Z"
      },
      {
        "duration": 808,
        "start_time": "2022-01-04T16:12:33.586Z"
      },
      {
        "duration": 1074,
        "start_time": "2022-01-04T16:18:26.255Z"
      },
      {
        "duration": 622,
        "start_time": "2022-01-04T16:19:26.354Z"
      },
      {
        "duration": 496,
        "start_time": "2022-01-04T16:19:36.134Z"
      },
      {
        "duration": 1080,
        "start_time": "2022-01-04T16:21:26.765Z"
      },
      {
        "duration": 1070,
        "start_time": "2022-01-04T16:22:32.506Z"
      },
      {
        "duration": 1109,
        "start_time": "2022-01-04T16:23:29.803Z"
      },
      {
        "duration": 1066,
        "start_time": "2022-01-04T16:29:18.230Z"
      },
      {
        "duration": 1037,
        "start_time": "2022-01-04T16:31:17.732Z"
      },
      {
        "duration": 1848,
        "start_time": "2022-01-04T16:31:55.833Z"
      },
      {
        "duration": 1438,
        "start_time": "2022-01-04T16:32:06.966Z"
      },
      {
        "duration": 79,
        "start_time": "2022-01-04T17:23:10.297Z"
      },
      {
        "duration": 21,
        "start_time": "2022-01-04T17:23:10.379Z"
      },
      {
        "duration": 9,
        "start_time": "2022-01-04T17:23:10.403Z"
      },
      {
        "duration": 12,
        "start_time": "2022-01-04T17:23:10.415Z"
      },
      {
        "duration": 31,
        "start_time": "2022-01-04T17:23:10.429Z"
      },
      {
        "duration": 13,
        "start_time": "2022-01-04T17:23:10.463Z"
      },
      {
        "duration": 22,
        "start_time": "2022-01-04T17:23:10.479Z"
      },
      {
        "duration": 6318,
        "start_time": "2022-01-04T17:23:10.506Z"
      },
      {
        "duration": 15,
        "start_time": "2022-01-04T17:23:16.827Z"
      },
      {
        "duration": 42,
        "start_time": "2022-01-04T17:23:16.860Z"
      },
      {
        "duration": 83,
        "start_time": "2022-01-04T17:23:16.905Z"
      },
      {
        "duration": 14,
        "start_time": "2022-01-04T17:23:16.990Z"
      },
      {
        "duration": 9,
        "start_time": "2022-01-04T17:23:17.007Z"
      },
      {
        "duration": 109,
        "start_time": "2022-01-04T17:23:17.019Z"
      },
      {
        "duration": 1357,
        "start_time": "2022-01-04T17:23:17.130Z"
      },
      {
        "duration": 86,
        "start_time": "2022-01-04T17:23:18.489Z"
      },
      {
        "duration": 892,
        "start_time": "2022-01-05T19:11:18.119Z"
      },
      {
        "duration": 19,
        "start_time": "2022-01-05T19:11:19.014Z"
      },
      {
        "duration": 25,
        "start_time": "2022-01-05T19:11:19.037Z"
      },
      {
        "duration": 6,
        "start_time": "2022-01-05T19:11:19.066Z"
      },
      {
        "duration": 6,
        "start_time": "2022-01-05T19:11:19.075Z"
      },
      {
        "duration": 14,
        "start_time": "2022-01-05T19:11:19.084Z"
      },
      {
        "duration": 70,
        "start_time": "2022-01-05T19:11:19.100Z"
      },
      {
        "duration": 6400,
        "start_time": "2022-01-05T19:11:19.173Z"
      },
      {
        "duration": 15,
        "start_time": "2022-01-05T19:11:25.576Z"
      },
      {
        "duration": 42,
        "start_time": "2022-01-05T19:11:25.593Z"
      },
      {
        "duration": 63,
        "start_time": "2022-01-05T19:11:25.660Z"
      },
      {
        "duration": 35,
        "start_time": "2022-01-05T19:11:25.725Z"
      },
      {
        "duration": 8,
        "start_time": "2022-01-05T19:11:25.763Z"
      },
      {
        "duration": 101,
        "start_time": "2022-01-05T19:11:25.773Z"
      },
      {
        "duration": 2121,
        "start_time": "2022-01-05T19:11:25.877Z"
      },
      {
        "duration": 86,
        "start_time": "2022-01-05T19:11:28.000Z"
      },
      {
        "duration": 273,
        "start_time": "2022-01-08T19:39:05.073Z"
      },
      {
        "duration": 680,
        "start_time": "2022-01-08T19:39:10.805Z"
      },
      {
        "duration": 13,
        "start_time": "2022-01-08T19:39:11.488Z"
      },
      {
        "duration": 6,
        "start_time": "2022-01-08T19:39:11.504Z"
      },
      {
        "duration": 28,
        "start_time": "2022-01-08T19:39:11.513Z"
      },
      {
        "duration": 4,
        "start_time": "2022-01-08T19:39:11.543Z"
      },
      {
        "duration": 8,
        "start_time": "2022-01-08T19:39:11.549Z"
      },
      {
        "duration": 6,
        "start_time": "2022-01-08T19:39:11.559Z"
      },
      {
        "duration": 20,
        "start_time": "2022-01-08T19:39:11.567Z"
      },
      {
        "duration": 4710,
        "start_time": "2022-01-08T19:39:11.590Z"
      },
      {
        "duration": 10,
        "start_time": "2022-01-08T19:39:16.302Z"
      },
      {
        "duration": 49,
        "start_time": "2022-01-08T19:39:16.313Z"
      },
      {
        "duration": 49,
        "start_time": "2022-01-08T19:39:16.364Z"
      },
      {
        "duration": 9,
        "start_time": "2022-01-08T19:39:16.415Z"
      },
      {
        "duration": 29,
        "start_time": "2022-01-08T19:39:16.426Z"
      },
      {
        "duration": 72,
        "start_time": "2022-01-08T19:39:16.457Z"
      },
      {
        "duration": 1350,
        "start_time": "2022-01-08T19:39:16.530Z"
      },
      {
        "duration": 60,
        "start_time": "2022-01-08T19:39:17.881Z"
      },
      {
        "duration": 6,
        "start_time": "2022-01-08T19:42:20.950Z"
      },
      {
        "duration": 724,
        "start_time": "2022-01-08T19:42:51.283Z"
      },
      {
        "duration": 55,
        "start_time": "2022-01-08T19:42:59.826Z"
      },
      {
        "duration": 11,
        "start_time": "2022-01-08T19:42:59.882Z"
      },
      {
        "duration": 6,
        "start_time": "2022-01-08T19:42:59.895Z"
      },
      {
        "duration": 5,
        "start_time": "2022-01-08T19:42:59.903Z"
      },
      {
        "duration": 5,
        "start_time": "2022-01-08T19:42:59.909Z"
      },
      {
        "duration": 26,
        "start_time": "2022-01-08T19:42:59.916Z"
      },
      {
        "duration": 6,
        "start_time": "2022-01-08T19:42:59.962Z"
      },
      {
        "duration": 13,
        "start_time": "2022-01-08T19:42:59.979Z"
      },
      {
        "duration": 4121,
        "start_time": "2022-01-08T19:42:59.994Z"
      },
      {
        "duration": 24,
        "start_time": "2022-01-08T19:43:04.117Z"
      },
      {
        "duration": 27,
        "start_time": "2022-01-08T19:43:04.143Z"
      },
      {
        "duration": 39,
        "start_time": "2022-01-08T19:43:04.172Z"
      },
      {
        "duration": 29,
        "start_time": "2022-01-08T19:43:04.213Z"
      },
      {
        "duration": 12,
        "start_time": "2022-01-08T19:43:04.244Z"
      },
      {
        "duration": 56,
        "start_time": "2022-01-08T19:43:04.258Z"
      },
      {
        "duration": 833,
        "start_time": "2022-01-08T19:43:04.316Z"
      },
      {
        "duration": 5,
        "start_time": "2022-01-08T19:44:06.574Z"
      },
      {
        "duration": 7,
        "start_time": "2022-01-08T19:45:33.662Z"
      },
      {
        "duration": 292,
        "start_time": "2022-01-08T19:45:56.293Z"
      },
      {
        "duration": 9,
        "start_time": "2022-01-08T19:46:00.285Z"
      },
      {
        "duration": 4,
        "start_time": "2022-01-08T19:54:27.788Z"
      },
      {
        "duration": 4,
        "start_time": "2022-01-08T19:55:20.933Z"
      },
      {
        "duration": 4,
        "start_time": "2022-01-08T19:55:35.170Z"
      },
      {
        "duration": 2,
        "start_time": "2022-01-08T19:55:39.018Z"
      },
      {
        "duration": 3,
        "start_time": "2022-01-08T19:55:42.280Z"
      },
      {
        "duration": 4,
        "start_time": "2022-01-08T19:55:45.693Z"
      },
      {
        "duration": 6,
        "start_time": "2022-01-08T19:55:51.937Z"
      },
      {
        "duration": 4,
        "start_time": "2022-01-08T19:57:08.086Z"
      },
      {
        "duration": 4,
        "start_time": "2022-01-08T19:57:14.328Z"
      },
      {
        "duration": 236,
        "start_time": "2022-01-08T19:57:38.662Z"
      },
      {
        "duration": 248,
        "start_time": "2022-01-08T19:57:47.634Z"
      },
      {
        "duration": 466,
        "start_time": "2022-01-08T19:57:54.478Z"
      },
      {
        "duration": 253,
        "start_time": "2022-01-08T19:58:00.569Z"
      },
      {
        "duration": 249,
        "start_time": "2022-01-08T19:59:10.527Z"
      },
      {
        "duration": 133,
        "start_time": "2022-01-08T19:59:50.252Z"
      },
      {
        "duration": 11,
        "start_time": "2022-01-08T19:59:50.387Z"
      },
      {
        "duration": 5,
        "start_time": "2022-01-08T19:59:50.400Z"
      },
      {
        "duration": 5,
        "start_time": "2022-01-08T19:59:50.407Z"
      },
      {
        "duration": 7,
        "start_time": "2022-01-08T19:59:50.413Z"
      },
      {
        "duration": 3,
        "start_time": "2022-01-08T19:59:50.441Z"
      },
      {
        "duration": 1511,
        "start_time": "2022-01-08T19:59:53.681Z"
      },
      {
        "duration": 4,
        "start_time": "2022-01-08T20:01:03.138Z"
      },
      {
        "duration": 5,
        "start_time": "2022-01-08T20:01:07.566Z"
      },
      {
        "duration": 59,
        "start_time": "2022-01-08T20:01:14.466Z"
      },
      {
        "duration": 11,
        "start_time": "2022-01-08T20:01:14.526Z"
      },
      {
        "duration": 9,
        "start_time": "2022-01-08T20:01:14.539Z"
      },
      {
        "duration": 6,
        "start_time": "2022-01-08T20:01:14.550Z"
      },
      {
        "duration": 5,
        "start_time": "2022-01-08T20:01:14.558Z"
      },
      {
        "duration": 9,
        "start_time": "2022-01-08T20:01:14.565Z"
      },
      {
        "duration": 6,
        "start_time": "2022-01-08T20:01:14.575Z"
      },
      {
        "duration": 8,
        "start_time": "2022-01-08T20:01:14.583Z"
      },
      {
        "duration": 8,
        "start_time": "2022-01-08T20:01:14.593Z"
      },
      {
        "duration": 244,
        "start_time": "2022-01-08T20:01:14.602Z"
      },
      {
        "duration": -1675,
        "start_time": "2022-01-08T20:01:16.523Z"
      },
      {
        "duration": -1683,
        "start_time": "2022-01-08T20:01:16.532Z"
      },
      {
        "duration": -1690,
        "start_time": "2022-01-08T20:01:16.540Z"
      },
      {
        "duration": -1700,
        "start_time": "2022-01-08T20:01:16.551Z"
      },
      {
        "duration": -1710,
        "start_time": "2022-01-08T20:01:16.562Z"
      },
      {
        "duration": -1720,
        "start_time": "2022-01-08T20:01:16.573Z"
      },
      {
        "duration": -1728,
        "start_time": "2022-01-08T20:01:16.582Z"
      },
      {
        "duration": -1741,
        "start_time": "2022-01-08T20:01:16.595Z"
      },
      {
        "duration": -1781,
        "start_time": "2022-01-08T20:01:16.636Z"
      },
      {
        "duration": -1798,
        "start_time": "2022-01-08T20:01:16.654Z"
      },
      {
        "duration": 703,
        "start_time": "2022-01-08T20:02:12.062Z"
      },
      {
        "duration": 597,
        "start_time": "2022-01-08T20:08:48.035Z"
      },
      {
        "duration": 6459,
        "start_time": "2022-01-08T20:10:50.982Z"
      },
      {
        "duration": 7116,
        "start_time": "2022-01-08T20:11:17.006Z"
      },
      {
        "duration": 673,
        "start_time": "2022-01-08T20:14:19.220Z"
      },
      {
        "duration": 629,
        "start_time": "2022-01-08T20:14:53.625Z"
      },
      {
        "duration": 648,
        "start_time": "2022-01-08T20:16:24.374Z"
      },
      {
        "duration": 265,
        "start_time": "2022-01-08T20:16:49.779Z"
      },
      {
        "duration": 598,
        "start_time": "2022-01-08T20:17:05.834Z"
      },
      {
        "duration": 594,
        "start_time": "2022-01-08T20:17:20.315Z"
      },
      {
        "duration": 2084,
        "start_time": "2022-01-08T20:18:33.351Z"
      },
      {
        "duration": 546,
        "start_time": "2022-01-08T20:19:12.557Z"
      },
      {
        "duration": 6274,
        "start_time": "2022-01-08T20:27:05.326Z"
      },
      {
        "duration": 6209,
        "start_time": "2022-01-08T20:27:29.229Z"
      },
      {
        "duration": 316,
        "start_time": "2022-01-08T20:28:22.836Z"
      },
      {
        "duration": 279,
        "start_time": "2022-01-08T20:28:44.892Z"
      },
      {
        "duration": 647,
        "start_time": "2022-01-08T20:29:08.027Z"
      },
      {
        "duration": 632,
        "start_time": "2022-01-08T20:29:12.036Z"
      },
      {
        "duration": 652,
        "start_time": "2022-01-08T20:29:24.567Z"
      },
      {
        "duration": 610,
        "start_time": "2022-01-08T20:29:57.460Z"
      },
      {
        "duration": 707,
        "start_time": "2022-01-08T20:30:08.312Z"
      },
      {
        "duration": 729,
        "start_time": "2022-01-08T20:38:44.150Z"
      },
      {
        "duration": 288,
        "start_time": "2022-01-08T20:40:30.125Z"
      },
      {
        "duration": 597,
        "start_time": "2022-01-08T20:40:37.979Z"
      },
      {
        "duration": 657,
        "start_time": "2022-01-08T20:42:35.199Z"
      },
      {
        "duration": 710,
        "start_time": "2022-01-08T20:44:29.240Z"
      },
      {
        "duration": 473,
        "start_time": "2022-01-08T20:44:48.082Z"
      },
      {
        "duration": 540,
        "start_time": "2022-01-08T20:45:48.820Z"
      },
      {
        "duration": 662,
        "start_time": "2022-01-08T20:45:57.255Z"
      },
      {
        "duration": 702,
        "start_time": "2022-01-08T20:46:14.839Z"
      },
      {
        "duration": 674,
        "start_time": "2022-01-08T20:46:45.270Z"
      },
      {
        "duration": 714,
        "start_time": "2022-01-08T20:48:08.127Z"
      },
      {
        "duration": 242,
        "start_time": "2022-01-08T20:49:09.659Z"
      },
      {
        "duration": 653,
        "start_time": "2022-01-08T20:49:17.778Z"
      },
      {
        "duration": 682,
        "start_time": "2022-01-08T20:49:35.633Z"
      },
      {
        "duration": 744,
        "start_time": "2022-01-08T20:49:43.917Z"
      },
      {
        "duration": 492,
        "start_time": "2022-01-08T20:51:42.786Z"
      },
      {
        "duration": 608,
        "start_time": "2022-01-08T20:57:34.525Z"
      },
      {
        "duration": 492,
        "start_time": "2022-01-08T21:01:07.472Z"
      },
      {
        "duration": 6,
        "start_time": "2022-01-08T21:02:30.042Z"
      },
      {
        "duration": 606,
        "start_time": "2022-01-08T21:02:42.686Z"
      },
      {
        "duration": 535,
        "start_time": "2022-01-08T21:10:29.933Z"
      },
      {
        "duration": 674,
        "start_time": "2022-01-08T21:11:44.972Z"
      },
      {
        "duration": 466,
        "start_time": "2022-01-08T21:11:57.363Z"
      },
      {
        "duration": 603,
        "start_time": "2022-01-08T21:12:07.580Z"
      },
      {
        "duration": 621,
        "start_time": "2022-01-08T21:12:11.957Z"
      },
      {
        "duration": 613,
        "start_time": "2022-01-08T21:12:24.582Z"
      },
      {
        "duration": 61,
        "start_time": "2022-01-08T21:12:48.712Z"
      },
      {
        "duration": 12,
        "start_time": "2022-01-08T21:12:48.775Z"
      },
      {
        "duration": 7,
        "start_time": "2022-01-08T21:12:48.789Z"
      },
      {
        "duration": 6,
        "start_time": "2022-01-08T21:12:48.797Z"
      },
      {
        "duration": 3,
        "start_time": "2022-01-08T21:12:48.805Z"
      },
      {
        "duration": 32,
        "start_time": "2022-01-08T21:12:48.810Z"
      },
      {
        "duration": 4,
        "start_time": "2022-01-08T21:12:48.844Z"
      },
      {
        "duration": 7,
        "start_time": "2022-01-08T21:12:48.850Z"
      },
      {
        "duration": 7,
        "start_time": "2022-01-08T21:12:48.859Z"
      },
      {
        "duration": 790,
        "start_time": "2022-01-08T21:12:48.867Z"
      },
      {
        "duration": 629,
        "start_time": "2022-01-08T21:12:49.659Z"
      },
      {
        "duration": 602,
        "start_time": "2022-01-08T21:13:19.628Z"
      },
      {
        "duration": 561,
        "start_time": "2022-01-08T21:13:28.053Z"
      },
      {
        "duration": 813,
        "start_time": "2022-01-08T21:14:01.590Z"
      },
      {
        "duration": 700,
        "start_time": "2022-01-08T21:14:08.009Z"
      },
      {
        "duration": 670,
        "start_time": "2022-01-08T21:14:17.153Z"
      },
      {
        "duration": 716,
        "start_time": "2022-01-08T21:14:22.722Z"
      },
      {
        "duration": 503,
        "start_time": "2022-01-08T21:15:36.120Z"
      },
      {
        "duration": 556,
        "start_time": "2022-01-08T21:15:41.458Z"
      },
      {
        "duration": 55,
        "start_time": "2022-01-08T21:15:51.627Z"
      },
      {
        "duration": 10,
        "start_time": "2022-01-08T21:15:51.684Z"
      },
      {
        "duration": 31,
        "start_time": "2022-01-08T21:15:51.696Z"
      },
      {
        "duration": 24,
        "start_time": "2022-01-08T21:15:51.729Z"
      },
      {
        "duration": 26,
        "start_time": "2022-01-08T21:15:51.754Z"
      },
      {
        "duration": 23,
        "start_time": "2022-01-08T21:15:51.782Z"
      },
      {
        "duration": 34,
        "start_time": "2022-01-08T21:15:51.806Z"
      },
      {
        "duration": 37,
        "start_time": "2022-01-08T21:15:51.842Z"
      },
      {
        "duration": 36,
        "start_time": "2022-01-08T21:15:51.880Z"
      },
      {
        "duration": 596,
        "start_time": "2022-01-08T21:15:51.918Z"
      },
      {
        "duration": 669,
        "start_time": "2022-01-08T21:15:52.516Z"
      },
      {
        "duration": 575,
        "start_time": "2022-01-08T21:15:59.316Z"
      },
      {
        "duration": 555,
        "start_time": "2022-01-08T21:16:59.901Z"
      },
      {
        "duration": 692,
        "start_time": "2022-01-08T22:52:18.397Z"
      },
      {
        "duration": 15,
        "start_time": "2022-01-08T23:28:15.093Z"
      },
      {
        "duration": 11,
        "start_time": "2022-01-08T23:28:26.882Z"
      },
      {
        "duration": 14,
        "start_time": "2022-01-08T23:29:08.972Z"
      },
      {
        "duration": 9,
        "start_time": "2022-01-08T23:30:26.986Z"
      },
      {
        "duration": 9,
        "start_time": "2022-01-08T23:33:52.435Z"
      },
      {
        "duration": 3,
        "start_time": "2022-01-08T23:34:16.541Z"
      },
      {
        "duration": 1106,
        "start_time": "2022-01-08T23:34:34.297Z"
      },
      {
        "duration": 5,
        "start_time": "2022-01-08T23:35:23.978Z"
      },
      {
        "duration": 5,
        "start_time": "2022-01-08T23:35:36.743Z"
      },
      {
        "duration": 5,
        "start_time": "2022-01-08T23:35:42.922Z"
      },
      {
        "duration": 5,
        "start_time": "2022-01-08T23:35:46.884Z"
      },
      {
        "duration": 6,
        "start_time": "2022-01-08T23:35:55.982Z"
      },
      {
        "duration": 248,
        "start_time": "2022-01-08T23:37:19.563Z"
      },
      {
        "duration": 248,
        "start_time": "2022-01-08T23:37:46.313Z"
      },
      {
        "duration": 6,
        "start_time": "2022-01-08T23:37:59.744Z"
      },
      {
        "duration": 574,
        "start_time": "2022-01-08T23:38:18.146Z"
      },
      {
        "duration": 6,
        "start_time": "2022-01-08T23:38:26.954Z"
      },
      {
        "duration": 5,
        "start_time": "2022-01-08T23:40:29.896Z"
      },
      {
        "duration": 6,
        "start_time": "2022-01-08T23:41:09.148Z"
      },
      {
        "duration": 7,
        "start_time": "2022-01-08T23:41:19.210Z"
      },
      {
        "duration": 6,
        "start_time": "2022-01-08T23:45:09.485Z"
      },
      {
        "duration": 5,
        "start_time": "2022-01-08T23:47:23.014Z"
      },
      {
        "duration": 249,
        "start_time": "2022-01-08T23:47:47.537Z"
      },
      {
        "duration": 939,
        "start_time": "2022-01-08T23:48:11.271Z"
      },
      {
        "duration": 234,
        "start_time": "2022-01-08T23:48:22.376Z"
      },
      {
        "duration": 7,
        "start_time": "2022-01-08T23:48:33.100Z"
      },
      {
        "duration": 218,
        "start_time": "2022-01-08T23:54:20.297Z"
      },
      {
        "duration": 83,
        "start_time": "2022-01-08T23:54:32.885Z"
      },
      {
        "duration": 6,
        "start_time": "2022-01-08T23:54:36.312Z"
      },
      {
        "duration": 5,
        "start_time": "2022-01-08T23:54:54.855Z"
      },
      {
        "duration": 8,
        "start_time": "2022-01-08T23:55:10.945Z"
      },
      {
        "duration": 7,
        "start_time": "2022-01-08T23:55:23.574Z"
      },
      {
        "duration": 6,
        "start_time": "2022-01-08T23:55:42.124Z"
      },
      {
        "duration": 9,
        "start_time": "2022-01-08T23:55:53.134Z"
      },
      {
        "duration": 9,
        "start_time": "2022-01-08T23:56:50.330Z"
      },
      {
        "duration": 7,
        "start_time": "2022-01-08T23:57:33.545Z"
      },
      {
        "duration": 6,
        "start_time": "2022-01-08T23:58:11.742Z"
      },
      {
        "duration": 6,
        "start_time": "2022-01-08T23:58:20.225Z"
      },
      {
        "duration": 7,
        "start_time": "2022-01-08T23:58:28.857Z"
      },
      {
        "duration": 8,
        "start_time": "2022-01-08T23:59:04.737Z"
      },
      {
        "duration": 6,
        "start_time": "2022-01-08T23:59:13.297Z"
      },
      {
        "duration": 6,
        "start_time": "2022-01-09T00:00:41.955Z"
      },
      {
        "duration": 5,
        "start_time": "2022-01-09T00:00:56.371Z"
      },
      {
        "duration": 61,
        "start_time": "2022-01-09T00:01:05.346Z"
      },
      {
        "duration": 12,
        "start_time": "2022-01-09T00:01:05.409Z"
      },
      {
        "duration": 8,
        "start_time": "2022-01-09T00:01:05.422Z"
      },
      {
        "duration": 11,
        "start_time": "2022-01-09T00:01:05.432Z"
      },
      {
        "duration": 4,
        "start_time": "2022-01-09T00:01:05.444Z"
      },
      {
        "duration": 8,
        "start_time": "2022-01-09T00:01:05.450Z"
      },
      {
        "duration": 6,
        "start_time": "2022-01-09T00:01:05.459Z"
      },
      {
        "duration": 6,
        "start_time": "2022-01-09T00:01:05.468Z"
      },
      {
        "duration": 12,
        "start_time": "2022-01-09T00:01:05.476Z"
      },
      {
        "duration": 616,
        "start_time": "2022-01-09T00:01:05.490Z"
      },
      {
        "duration": 589,
        "start_time": "2022-01-09T00:01:06.108Z"
      },
      {
        "duration": 632,
        "start_time": "2022-01-09T00:01:06.699Z"
      },
      {
        "duration": 498,
        "start_time": "2022-01-09T00:01:07.333Z"
      },
      {
        "duration": 664,
        "start_time": "2022-01-09T00:01:07.841Z"
      },
      {
        "duration": 6,
        "start_time": "2022-01-09T00:01:08.508Z"
      },
      {
        "duration": 6,
        "start_time": "2022-01-09T00:01:19.403Z"
      },
      {
        "duration": 8,
        "start_time": "2022-01-09T00:06:38.193Z"
      },
      {
        "duration": 352,
        "start_time": "2022-01-09T00:06:50.813Z"
      },
      {
        "duration": 8,
        "start_time": "2022-01-09T00:06:55.745Z"
      },
      {
        "duration": 8,
        "start_time": "2022-01-09T00:08:21.129Z"
      },
      {
        "duration": 329,
        "start_time": "2022-01-09T00:09:13.499Z"
      },
      {
        "duration": 1175,
        "start_time": "2022-01-09T00:10:22.680Z"
      },
      {
        "duration": 57,
        "start_time": "2022-01-09T00:10:47.119Z"
      },
      {
        "duration": 11,
        "start_time": "2022-01-09T00:10:47.178Z"
      },
      {
        "duration": 9,
        "start_time": "2022-01-09T00:10:47.191Z"
      },
      {
        "duration": 9,
        "start_time": "2022-01-09T00:10:47.202Z"
      },
      {
        "duration": 10,
        "start_time": "2022-01-09T00:10:47.212Z"
      },
      {
        "duration": 22,
        "start_time": "2022-01-09T00:10:47.223Z"
      },
      {
        "duration": 31,
        "start_time": "2022-01-09T00:10:47.246Z"
      },
      {
        "duration": 29,
        "start_time": "2022-01-09T00:10:47.280Z"
      },
      {
        "duration": 16,
        "start_time": "2022-01-09T00:10:47.311Z"
      },
      {
        "duration": 572,
        "start_time": "2022-01-09T00:10:47.329Z"
      },
      {
        "duration": 581,
        "start_time": "2022-01-09T00:10:47.903Z"
      },
      {
        "duration": 625,
        "start_time": "2022-01-09T00:10:48.486Z"
      },
      {
        "duration": 520,
        "start_time": "2022-01-09T00:10:49.113Z"
      },
      {
        "duration": 736,
        "start_time": "2022-01-09T00:10:49.635Z"
      },
      {
        "duration": 3,
        "start_time": "2022-01-09T00:10:54.163Z"
      },
      {
        "duration": 58,
        "start_time": "2022-01-09T00:11:51.087Z"
      },
      {
        "duration": 11,
        "start_time": "2022-01-09T00:11:51.146Z"
      },
      {
        "duration": 6,
        "start_time": "2022-01-09T00:11:51.160Z"
      },
      {
        "duration": 6,
        "start_time": "2022-01-09T00:11:51.168Z"
      },
      {
        "duration": 4,
        "start_time": "2022-01-09T00:11:51.176Z"
      },
      {
        "duration": 7,
        "start_time": "2022-01-09T00:11:51.182Z"
      },
      {
        "duration": 6,
        "start_time": "2022-01-09T00:11:51.191Z"
      },
      {
        "duration": 13,
        "start_time": "2022-01-09T00:11:51.198Z"
      },
      {
        "duration": 9,
        "start_time": "2022-01-09T00:11:51.213Z"
      },
      {
        "duration": 565,
        "start_time": "2022-01-09T00:11:51.241Z"
      },
      {
        "duration": 576,
        "start_time": "2022-01-09T00:11:51.808Z"
      },
      {
        "duration": 568,
        "start_time": "2022-01-09T00:11:52.386Z"
      },
      {
        "duration": 478,
        "start_time": "2022-01-09T00:11:52.956Z"
      },
      {
        "duration": 676,
        "start_time": "2022-01-09T00:11:53.436Z"
      },
      {
        "duration": 2,
        "start_time": "2022-01-09T00:11:54.113Z"
      },
      {
        "duration": 11,
        "start_time": "2022-01-09T00:11:54.116Z"
      },
      {
        "duration": 283,
        "start_time": "2022-01-09T00:11:58.391Z"
      },
      {
        "duration": 276,
        "start_time": "2022-01-09T00:15:51.919Z"
      },
      {
        "duration": 11,
        "start_time": "2022-01-09T00:16:13.254Z"
      },
      {
        "duration": 294,
        "start_time": "2022-01-09T00:16:47.210Z"
      },
      {
        "duration": 256,
        "start_time": "2022-01-09T00:17:09.062Z"
      },
      {
        "duration": 8,
        "start_time": "2022-01-09T00:17:20.127Z"
      },
      {
        "duration": 8,
        "start_time": "2022-01-09T00:17:52.053Z"
      },
      {
        "duration": 8,
        "start_time": "2022-01-09T00:18:23.739Z"
      },
      {
        "duration": 280,
        "start_time": "2022-01-09T00:18:27.490Z"
      },
      {
        "duration": 18,
        "start_time": "2022-01-09T00:18:44.147Z"
      },
      {
        "duration": 58,
        "start_time": "2022-01-09T00:19:04.212Z"
      },
      {
        "duration": 11,
        "start_time": "2022-01-09T00:19:04.272Z"
      },
      {
        "duration": 7,
        "start_time": "2022-01-09T00:19:04.285Z"
      },
      {
        "duration": 6,
        "start_time": "2022-01-09T00:19:04.294Z"
      },
      {
        "duration": 4,
        "start_time": "2022-01-09T00:19:04.302Z"
      },
      {
        "duration": 34,
        "start_time": "2022-01-09T00:19:04.308Z"
      },
      {
        "duration": 11,
        "start_time": "2022-01-09T00:19:04.344Z"
      },
      {
        "duration": 6,
        "start_time": "2022-01-09T00:19:04.358Z"
      },
      {
        "duration": 5,
        "start_time": "2022-01-09T00:19:04.366Z"
      },
      {
        "duration": 635,
        "start_time": "2022-01-09T00:19:04.373Z"
      },
      {
        "duration": 587,
        "start_time": "2022-01-09T00:19:05.009Z"
      },
      {
        "duration": 660,
        "start_time": "2022-01-09T00:19:05.597Z"
      },
      {
        "duration": 483,
        "start_time": "2022-01-09T00:19:06.259Z"
      },
      {
        "duration": 702,
        "start_time": "2022-01-09T00:19:06.744Z"
      },
      {
        "duration": 2,
        "start_time": "2022-01-09T00:19:07.448Z"
      },
      {
        "duration": 15,
        "start_time": "2022-01-09T00:19:10.122Z"
      },
      {
        "duration": 60,
        "start_time": "2022-01-09T00:19:36.198Z"
      },
      {
        "duration": 11,
        "start_time": "2022-01-09T00:19:36.259Z"
      },
      {
        "duration": 20,
        "start_time": "2022-01-09T00:19:36.272Z"
      },
      {
        "duration": 32,
        "start_time": "2022-01-09T00:19:36.293Z"
      },
      {
        "duration": 10,
        "start_time": "2022-01-09T00:19:36.327Z"
      },
      {
        "duration": 23,
        "start_time": "2022-01-09T00:19:36.339Z"
      },
      {
        "duration": 12,
        "start_time": "2022-01-09T00:19:36.364Z"
      },
      {
        "duration": 20,
        "start_time": "2022-01-09T00:19:36.378Z"
      },
      {
        "duration": 17,
        "start_time": "2022-01-09T00:19:36.400Z"
      },
      {
        "duration": 585,
        "start_time": "2022-01-09T00:19:36.418Z"
      },
      {
        "duration": 602,
        "start_time": "2022-01-09T00:19:37.004Z"
      },
      {
        "duration": 573,
        "start_time": "2022-01-09T00:19:37.607Z"
      },
      {
        "duration": 472,
        "start_time": "2022-01-09T00:19:38.181Z"
      },
      {
        "duration": 658,
        "start_time": "2022-01-09T00:19:38.655Z"
      },
      {
        "duration": 2,
        "start_time": "2022-01-09T00:19:39.315Z"
      },
      {
        "duration": 14,
        "start_time": "2022-01-09T00:19:44.455Z"
      },
      {
        "duration": 21,
        "start_time": "2022-01-09T00:20:30.207Z"
      },
      {
        "duration": 18,
        "start_time": "2022-01-09T00:20:34.695Z"
      },
      {
        "duration": 290,
        "start_time": "2022-01-09T00:21:38.114Z"
      },
      {
        "duration": 1186,
        "start_time": "2022-01-09T00:22:35.741Z"
      },
      {
        "duration": 1505,
        "start_time": "2022-01-09T00:22:47.777Z"
      },
      {
        "duration": 12,
        "start_time": "2022-01-09T00:22:51.522Z"
      },
      {
        "duration": 58,
        "start_time": "2022-01-09T00:23:57.203Z"
      },
      {
        "duration": 11,
        "start_time": "2022-01-09T00:23:57.263Z"
      },
      {
        "duration": 9,
        "start_time": "2022-01-09T00:23:57.275Z"
      },
      {
        "duration": 5,
        "start_time": "2022-01-09T00:23:57.285Z"
      },
      {
        "duration": 4,
        "start_time": "2022-01-09T00:23:57.292Z"
      },
      {
        "duration": 5,
        "start_time": "2022-01-09T00:23:57.297Z"
      },
      {
        "duration": 7,
        "start_time": "2022-01-09T00:23:57.304Z"
      },
      {
        "duration": 28,
        "start_time": "2022-01-09T00:23:57.313Z"
      },
      {
        "duration": 5,
        "start_time": "2022-01-09T00:23:57.343Z"
      },
      {
        "duration": 606,
        "start_time": "2022-01-09T00:23:57.349Z"
      },
      {
        "duration": 587,
        "start_time": "2022-01-09T00:23:57.957Z"
      },
      {
        "duration": 550,
        "start_time": "2022-01-09T00:23:58.545Z"
      },
      {
        "duration": 478,
        "start_time": "2022-01-09T00:23:59.097Z"
      },
      {
        "duration": 760,
        "start_time": "2022-01-09T00:23:59.577Z"
      },
      {
        "duration": 2,
        "start_time": "2022-01-09T00:24:00.341Z"
      },
      {
        "duration": 20,
        "start_time": "2022-01-09T00:24:00.345Z"
      },
      {
        "duration": 629,
        "start_time": "2022-01-09T00:24:05.877Z"
      },
      {
        "duration": 625,
        "start_time": "2022-01-09T00:24:13.932Z"
      },
      {
        "duration": 60,
        "start_time": "2022-01-09T00:24:25.692Z"
      },
      {
        "duration": 10,
        "start_time": "2022-01-09T00:24:25.754Z"
      },
      {
        "duration": 6,
        "start_time": "2022-01-09T00:24:25.766Z"
      },
      {
        "duration": 5,
        "start_time": "2022-01-09T00:24:25.774Z"
      },
      {
        "duration": 9,
        "start_time": "2022-01-09T00:24:25.780Z"
      },
      {
        "duration": 5,
        "start_time": "2022-01-09T00:24:25.790Z"
      },
      {
        "duration": 10,
        "start_time": "2022-01-09T00:24:25.796Z"
      },
      {
        "duration": 8,
        "start_time": "2022-01-09T00:24:25.808Z"
      },
      {
        "duration": 5,
        "start_time": "2022-01-09T00:24:25.842Z"
      },
      {
        "duration": 567,
        "start_time": "2022-01-09T00:24:25.849Z"
      },
      {
        "duration": 578,
        "start_time": "2022-01-09T00:24:26.417Z"
      },
      {
        "duration": 588,
        "start_time": "2022-01-09T00:24:26.997Z"
      },
      {
        "duration": 477,
        "start_time": "2022-01-09T00:24:27.586Z"
      },
      {
        "duration": 646,
        "start_time": "2022-01-09T00:24:28.064Z"
      },
      {
        "duration": 2,
        "start_time": "2022-01-09T00:24:28.712Z"
      },
      {
        "duration": 26,
        "start_time": "2022-01-09T00:24:28.715Z"
      },
      {
        "duration": 612,
        "start_time": "2022-01-09T00:24:31.343Z"
      },
      {
        "duration": 8,
        "start_time": "2022-01-09T00:26:17.991Z"
      },
      {
        "duration": 56,
        "start_time": "2022-01-09T00:26:29.674Z"
      },
      {
        "duration": 11,
        "start_time": "2022-01-09T00:26:29.732Z"
      },
      {
        "duration": 13,
        "start_time": "2022-01-09T00:26:29.745Z"
      },
      {
        "duration": 11,
        "start_time": "2022-01-09T00:26:29.760Z"
      },
      {
        "duration": 5,
        "start_time": "2022-01-09T00:26:29.772Z"
      },
      {
        "duration": 5,
        "start_time": "2022-01-09T00:26:29.779Z"
      },
      {
        "duration": 11,
        "start_time": "2022-01-09T00:26:29.785Z"
      },
      {
        "duration": 8,
        "start_time": "2022-01-09T00:26:29.798Z"
      },
      {
        "duration": 7,
        "start_time": "2022-01-09T00:26:29.808Z"
      },
      {
        "duration": 600,
        "start_time": "2022-01-09T00:26:29.816Z"
      },
      {
        "duration": 583,
        "start_time": "2022-01-09T00:26:30.417Z"
      },
      {
        "duration": 590,
        "start_time": "2022-01-09T00:26:31.001Z"
      },
      {
        "duration": 484,
        "start_time": "2022-01-09T00:26:31.592Z"
      },
      {
        "duration": 736,
        "start_time": "2022-01-09T00:26:32.078Z"
      },
      {
        "duration": 2,
        "start_time": "2022-01-09T00:26:32.815Z"
      },
      {
        "duration": 10,
        "start_time": "2022-01-09T00:26:32.819Z"
      },
      {
        "duration": 633,
        "start_time": "2022-01-09T00:26:35.613Z"
      },
      {
        "duration": 615,
        "start_time": "2022-01-09T00:33:15.960Z"
      },
      {
        "duration": 60,
        "start_time": "2022-01-09T00:33:44.490Z"
      },
      {
        "duration": 12,
        "start_time": "2022-01-09T00:33:44.551Z"
      },
      {
        "duration": 7,
        "start_time": "2022-01-09T00:33:44.564Z"
      },
      {
        "duration": 7,
        "start_time": "2022-01-09T00:33:44.573Z"
      },
      {
        "duration": 5,
        "start_time": "2022-01-09T00:33:44.581Z"
      },
      {
        "duration": 5,
        "start_time": "2022-01-09T00:33:44.588Z"
      },
      {
        "duration": 7,
        "start_time": "2022-01-09T00:33:44.594Z"
      },
      {
        "duration": 11,
        "start_time": "2022-01-09T00:33:44.603Z"
      },
      {
        "duration": 28,
        "start_time": "2022-01-09T00:33:44.616Z"
      },
      {
        "duration": 599,
        "start_time": "2022-01-09T00:33:44.645Z"
      },
      {
        "duration": 592,
        "start_time": "2022-01-09T00:33:45.246Z"
      },
      {
        "duration": 584,
        "start_time": "2022-01-09T00:33:45.840Z"
      },
      {
        "duration": 533,
        "start_time": "2022-01-09T00:33:46.426Z"
      },
      {
        "duration": 697,
        "start_time": "2022-01-09T00:33:46.960Z"
      },
      {
        "duration": 2,
        "start_time": "2022-01-09T00:33:47.659Z"
      },
      {
        "duration": 11,
        "start_time": "2022-01-09T00:33:47.662Z"
      },
      {
        "duration": 650,
        "start_time": "2022-01-09T00:33:49.529Z"
      },
      {
        "duration": 245,
        "start_time": "2022-01-09T00:38:47.665Z"
      },
      {
        "duration": 276,
        "start_time": "2022-01-09T00:38:59.082Z"
      },
      {
        "duration": 7,
        "start_time": "2022-01-09T00:39:26.637Z"
      },
      {
        "duration": 8,
        "start_time": "2022-01-09T00:39:30.452Z"
      },
      {
        "duration": 8,
        "start_time": "2022-01-09T00:39:31.316Z"
      },
      {
        "duration": 7,
        "start_time": "2022-01-09T00:39:32.034Z"
      },
      {
        "duration": 621,
        "start_time": "2022-01-09T00:41:51.737Z"
      },
      {
        "duration": 627,
        "start_time": "2022-01-09T00:46:31.144Z"
      },
      {
        "duration": 57,
        "start_time": "2022-01-09T00:46:53.469Z"
      },
      {
        "duration": 11,
        "start_time": "2022-01-09T00:46:53.528Z"
      },
      {
        "duration": 5,
        "start_time": "2022-01-09T00:46:53.541Z"
      },
      {
        "duration": 7,
        "start_time": "2022-01-09T00:46:53.548Z"
      },
      {
        "duration": 7,
        "start_time": "2022-01-09T00:46:53.556Z"
      },
      {
        "duration": 6,
        "start_time": "2022-01-09T00:46:53.564Z"
      },
      {
        "duration": 6,
        "start_time": "2022-01-09T00:46:53.572Z"
      },
      {
        "duration": 10,
        "start_time": "2022-01-09T00:46:53.580Z"
      },
      {
        "duration": 7,
        "start_time": "2022-01-09T00:46:53.591Z"
      },
      {
        "duration": 620,
        "start_time": "2022-01-09T00:46:53.600Z"
      },
      {
        "duration": 683,
        "start_time": "2022-01-09T00:46:54.221Z"
      },
      {
        "duration": 603,
        "start_time": "2022-01-09T00:46:54.905Z"
      },
      {
        "duration": 542,
        "start_time": "2022-01-09T00:46:55.509Z"
      },
      {
        "duration": 702,
        "start_time": "2022-01-09T00:46:56.053Z"
      },
      {
        "duration": 2,
        "start_time": "2022-01-09T00:46:56.757Z"
      },
      {
        "duration": 16,
        "start_time": "2022-01-09T00:46:56.761Z"
      },
      {
        "duration": 9,
        "start_time": "2022-01-09T00:46:56.778Z"
      },
      {
        "duration": 663,
        "start_time": "2022-01-09T00:47:02.378Z"
      },
      {
        "duration": 3177,
        "start_time": "2022-01-09T00:49:37.546Z"
      },
      {
        "duration": 626,
        "start_time": "2022-01-09T00:50:15.230Z"
      },
      {
        "duration": 64,
        "start_time": "2022-01-09T00:50:31.938Z"
      },
      {
        "duration": 13,
        "start_time": "2022-01-09T00:50:32.004Z"
      },
      {
        "duration": 22,
        "start_time": "2022-01-09T00:50:32.020Z"
      },
      {
        "duration": 9,
        "start_time": "2022-01-09T00:50:32.043Z"
      },
      {
        "duration": 11,
        "start_time": "2022-01-09T00:50:32.053Z"
      },
      {
        "duration": 19,
        "start_time": "2022-01-09T00:50:32.066Z"
      },
      {
        "duration": 20,
        "start_time": "2022-01-09T00:50:32.086Z"
      },
      {
        "duration": 9,
        "start_time": "2022-01-09T00:50:32.108Z"
      },
      {
        "duration": 13,
        "start_time": "2022-01-09T00:50:32.119Z"
      },
      {
        "duration": 608,
        "start_time": "2022-01-09T00:50:32.133Z"
      },
      {
        "duration": 569,
        "start_time": "2022-01-09T00:50:32.743Z"
      },
      {
        "duration": 599,
        "start_time": "2022-01-09T00:50:33.314Z"
      },
      {
        "duration": 534,
        "start_time": "2022-01-09T00:50:33.915Z"
      },
      {
        "duration": 678,
        "start_time": "2022-01-09T00:50:34.451Z"
      },
      {
        "duration": 2,
        "start_time": "2022-01-09T00:50:35.131Z"
      },
      {
        "duration": 29,
        "start_time": "2022-01-09T00:50:35.134Z"
      },
      {
        "duration": 30,
        "start_time": "2022-01-09T00:50:35.165Z"
      },
      {
        "duration": 639,
        "start_time": "2022-01-09T00:50:35.196Z"
      },
      {
        "duration": 13,
        "start_time": "2022-01-09T00:50:35.837Z"
      },
      {
        "duration": 4110,
        "start_time": "2022-01-09T00:50:35.852Z"
      },
      {
        "duration": 10,
        "start_time": "2022-01-09T00:50:39.965Z"
      },
      {
        "duration": 26,
        "start_time": "2022-01-09T00:50:39.977Z"
      },
      {
        "duration": 62,
        "start_time": "2022-01-09T00:50:40.007Z"
      },
      {
        "duration": 8,
        "start_time": "2022-01-09T00:50:40.072Z"
      },
      {
        "duration": 7,
        "start_time": "2022-01-09T00:50:40.082Z"
      },
      {
        "duration": 66,
        "start_time": "2022-01-09T00:50:40.091Z"
      },
      {
        "duration": 745,
        "start_time": "2022-01-09T00:50:40.159Z"
      },
      {
        "duration": 57,
        "start_time": "2022-01-09T00:50:40.905Z"
      },
      {
        "duration": 684,
        "start_time": "2022-01-09T00:50:46.807Z"
      },
      {
        "duration": 1078,
        "start_time": "2022-01-09T01:01:26.873Z"
      },
      {
        "duration": 1086,
        "start_time": "2022-01-09T01:01:51.062Z"
      },
      {
        "duration": 5193,
        "start_time": "2022-01-09T01:02:53.046Z"
      },
      {
        "duration": 624,
        "start_time": "2022-01-09T01:04:28.332Z"
      },
      {
        "duration": 63,
        "start_time": "2022-01-09T01:06:15.801Z"
      },
      {
        "duration": 11,
        "start_time": "2022-01-09T01:06:15.866Z"
      },
      {
        "duration": 9,
        "start_time": "2022-01-09T01:06:15.879Z"
      },
      {
        "duration": 9,
        "start_time": "2022-01-09T01:06:15.890Z"
      },
      {
        "duration": 4,
        "start_time": "2022-01-09T01:06:15.901Z"
      },
      {
        "duration": 6,
        "start_time": "2022-01-09T01:06:15.907Z"
      },
      {
        "duration": 29,
        "start_time": "2022-01-09T01:06:15.914Z"
      },
      {
        "duration": 9,
        "start_time": "2022-01-09T01:06:15.945Z"
      },
      {
        "duration": 7,
        "start_time": "2022-01-09T01:06:15.956Z"
      },
      {
        "duration": 598,
        "start_time": "2022-01-09T01:06:15.964Z"
      },
      {
        "duration": 562,
        "start_time": "2022-01-09T01:06:16.564Z"
      },
      {
        "duration": 589,
        "start_time": "2022-01-09T01:06:17.128Z"
      },
      {
        "duration": 534,
        "start_time": "2022-01-09T01:06:17.718Z"
      },
      {
        "duration": 693,
        "start_time": "2022-01-09T01:06:18.253Z"
      },
      {
        "duration": 2,
        "start_time": "2022-01-09T01:06:18.948Z"
      },
      {
        "duration": 10,
        "start_time": "2022-01-09T01:06:18.951Z"
      },
      {
        "duration": 6,
        "start_time": "2022-01-09T01:06:18.963Z"
      },
      {
        "duration": 640,
        "start_time": "2022-01-09T01:06:21.485Z"
      },
      {
        "duration": 58,
        "start_time": "2022-01-09T01:06:49.710Z"
      },
      {
        "duration": 12,
        "start_time": "2022-01-09T01:06:49.770Z"
      },
      {
        "duration": 10,
        "start_time": "2022-01-09T01:06:49.784Z"
      },
      {
        "duration": 10,
        "start_time": "2022-01-09T01:06:49.796Z"
      },
      {
        "duration": 7,
        "start_time": "2022-01-09T01:06:49.808Z"
      },
      {
        "duration": 28,
        "start_time": "2022-01-09T01:06:49.817Z"
      },
      {
        "duration": 9,
        "start_time": "2022-01-09T01:06:49.847Z"
      },
      {
        "duration": 10,
        "start_time": "2022-01-09T01:06:49.859Z"
      },
      {
        "duration": 8,
        "start_time": "2022-01-09T01:06:49.871Z"
      },
      {
        "duration": 694,
        "start_time": "2022-01-09T01:06:49.881Z"
      },
      {
        "duration": 684,
        "start_time": "2022-01-09T01:06:50.577Z"
      },
      {
        "duration": 579,
        "start_time": "2022-01-09T01:06:51.263Z"
      },
      {
        "duration": 515,
        "start_time": "2022-01-09T01:06:51.844Z"
      },
      {
        "duration": 858,
        "start_time": "2022-01-09T01:06:52.361Z"
      },
      {
        "duration": 2,
        "start_time": "2022-01-09T01:06:53.221Z"
      },
      {
        "duration": 16,
        "start_time": "2022-01-09T01:06:53.225Z"
      },
      {
        "duration": 6,
        "start_time": "2022-01-09T01:06:53.242Z"
      },
      {
        "duration": 658,
        "start_time": "2022-01-09T01:07:10.987Z"
      },
      {
        "duration": 59,
        "start_time": "2022-01-09T01:09:04.925Z"
      },
      {
        "duration": 10,
        "start_time": "2022-01-09T01:09:04.986Z"
      },
      {
        "duration": 10,
        "start_time": "2022-01-09T01:09:04.998Z"
      },
      {
        "duration": 9,
        "start_time": "2022-01-09T01:09:05.009Z"
      },
      {
        "duration": 22,
        "start_time": "2022-01-09T01:09:05.020Z"
      },
      {
        "duration": 6,
        "start_time": "2022-01-09T01:09:05.044Z"
      },
      {
        "duration": 8,
        "start_time": "2022-01-09T01:09:05.051Z"
      },
      {
        "duration": 7,
        "start_time": "2022-01-09T01:09:05.060Z"
      },
      {
        "duration": 5,
        "start_time": "2022-01-09T01:09:05.069Z"
      },
      {
        "duration": 613,
        "start_time": "2022-01-09T01:09:05.076Z"
      },
      {
        "duration": 590,
        "start_time": "2022-01-09T01:09:05.691Z"
      },
      {
        "duration": 565,
        "start_time": "2022-01-09T01:09:06.282Z"
      },
      {
        "duration": 488,
        "start_time": "2022-01-09T01:09:06.848Z"
      },
      {
        "duration": 664,
        "start_time": "2022-01-09T01:09:07.340Z"
      },
      {
        "duration": 2,
        "start_time": "2022-01-09T01:09:08.006Z"
      },
      {
        "duration": 10,
        "start_time": "2022-01-09T01:09:08.009Z"
      },
      {
        "duration": 22,
        "start_time": "2022-01-09T01:09:08.021Z"
      },
      {
        "duration": 4146,
        "start_time": "2022-01-09T01:09:11.701Z"
      },
      {
        "duration": 3312,
        "start_time": "2022-01-09T01:10:04.337Z"
      },
      {
        "duration": 2984,
        "start_time": "2022-01-09T01:11:26.650Z"
      },
      {
        "duration": 2995,
        "start_time": "2022-01-09T01:12:13.997Z"
      },
      {
        "duration": 2998,
        "start_time": "2022-01-09T01:12:33.633Z"
      },
      {
        "duration": 57,
        "start_time": "2022-01-09T01:12:43.520Z"
      },
      {
        "duration": 11,
        "start_time": "2022-01-09T01:12:43.578Z"
      },
      {
        "duration": 7,
        "start_time": "2022-01-09T01:12:43.591Z"
      },
      {
        "duration": 5,
        "start_time": "2022-01-09T01:12:43.600Z"
      },
      {
        "duration": 6,
        "start_time": "2022-01-09T01:12:43.606Z"
      },
      {
        "duration": 5,
        "start_time": "2022-01-09T01:12:43.613Z"
      },
      {
        "duration": 26,
        "start_time": "2022-01-09T01:12:43.619Z"
      },
      {
        "duration": 9,
        "start_time": "2022-01-09T01:12:43.646Z"
      },
      {
        "duration": 7,
        "start_time": "2022-01-09T01:12:43.657Z"
      },
      {
        "duration": 604,
        "start_time": "2022-01-09T01:12:43.666Z"
      },
      {
        "duration": 547,
        "start_time": "2022-01-09T01:12:44.271Z"
      },
      {
        "duration": 594,
        "start_time": "2022-01-09T01:12:44.819Z"
      },
      {
        "duration": 518,
        "start_time": "2022-01-09T01:12:45.415Z"
      },
      {
        "duration": 684,
        "start_time": "2022-01-09T01:12:45.934Z"
      },
      {
        "duration": 2,
        "start_time": "2022-01-09T01:12:46.620Z"
      },
      {
        "duration": 21,
        "start_time": "2022-01-09T01:12:46.623Z"
      },
      {
        "duration": 7,
        "start_time": "2022-01-09T01:12:46.646Z"
      },
      {
        "duration": 3173,
        "start_time": "2022-01-09T01:12:50.562Z"
      },
      {
        "duration": 2965,
        "start_time": "2022-01-09T01:14:13.038Z"
      },
      {
        "duration": 62,
        "start_time": "2022-01-09T01:14:23.638Z"
      },
      {
        "duration": 13,
        "start_time": "2022-01-09T01:14:23.702Z"
      },
      {
        "duration": 11,
        "start_time": "2022-01-09T01:14:23.717Z"
      },
      {
        "duration": 14,
        "start_time": "2022-01-09T01:14:23.730Z"
      },
      {
        "duration": 8,
        "start_time": "2022-01-09T01:14:23.745Z"
      },
      {
        "duration": 8,
        "start_time": "2022-01-09T01:14:23.755Z"
      },
      {
        "duration": 6,
        "start_time": "2022-01-09T01:14:23.764Z"
      },
      {
        "duration": 9,
        "start_time": "2022-01-09T01:14:23.772Z"
      },
      {
        "duration": 8,
        "start_time": "2022-01-09T01:14:23.783Z"
      },
      {
        "duration": 651,
        "start_time": "2022-01-09T01:14:23.793Z"
      },
      {
        "duration": 563,
        "start_time": "2022-01-09T01:14:24.446Z"
      },
      {
        "duration": 598,
        "start_time": "2022-01-09T01:14:25.010Z"
      },
      {
        "duration": 531,
        "start_time": "2022-01-09T01:14:25.610Z"
      },
      {
        "duration": 702,
        "start_time": "2022-01-09T01:14:26.143Z"
      },
      {
        "duration": 2,
        "start_time": "2022-01-09T01:14:26.846Z"
      },
      {
        "duration": 10,
        "start_time": "2022-01-09T01:14:26.850Z"
      },
      {
        "duration": 6,
        "start_time": "2022-01-09T01:14:26.861Z"
      },
      {
        "duration": 3224,
        "start_time": "2022-01-09T01:14:30.321Z"
      },
      {
        "duration": 62,
        "start_time": "2022-01-09T01:15:14.732Z"
      },
      {
        "duration": 11,
        "start_time": "2022-01-09T01:15:14.796Z"
      },
      {
        "duration": 6,
        "start_time": "2022-01-09T01:15:14.809Z"
      },
      {
        "duration": 24,
        "start_time": "2022-01-09T01:15:14.817Z"
      },
      {
        "duration": 7,
        "start_time": "2022-01-09T01:15:14.843Z"
      },
      {
        "duration": 8,
        "start_time": "2022-01-09T01:15:14.851Z"
      },
      {
        "duration": 6,
        "start_time": "2022-01-09T01:15:14.860Z"
      },
      {
        "duration": 7,
        "start_time": "2022-01-09T01:15:14.867Z"
      },
      {
        "duration": 9,
        "start_time": "2022-01-09T01:15:14.875Z"
      },
      {
        "duration": 623,
        "start_time": "2022-01-09T01:15:14.886Z"
      },
      {
        "duration": 583,
        "start_time": "2022-01-09T01:15:15.511Z"
      },
      {
        "duration": 613,
        "start_time": "2022-01-09T01:15:16.096Z"
      },
      {
        "duration": 541,
        "start_time": "2022-01-09T01:15:16.711Z"
      },
      {
        "duration": 690,
        "start_time": "2022-01-09T01:15:17.254Z"
      },
      {
        "duration": 2,
        "start_time": "2022-01-09T01:15:17.945Z"
      },
      {
        "duration": 9,
        "start_time": "2022-01-09T01:15:17.949Z"
      },
      {
        "duration": 6,
        "start_time": "2022-01-09T01:15:17.959Z"
      },
      {
        "duration": 3045,
        "start_time": "2022-01-09T01:15:25.142Z"
      },
      {
        "duration": 59,
        "start_time": "2022-01-09T01:16:43.232Z"
      },
      {
        "duration": 11,
        "start_time": "2022-01-09T01:16:43.292Z"
      },
      {
        "duration": 9,
        "start_time": "2022-01-09T01:16:43.304Z"
      },
      {
        "duration": 5,
        "start_time": "2022-01-09T01:16:43.314Z"
      },
      {
        "duration": 20,
        "start_time": "2022-01-09T01:16:43.321Z"
      },
      {
        "duration": 4,
        "start_time": "2022-01-09T01:16:43.343Z"
      },
      {
        "duration": 7,
        "start_time": "2022-01-09T01:16:43.349Z"
      },
      {
        "duration": 10,
        "start_time": "2022-01-09T01:16:43.357Z"
      },
      {
        "duration": 10,
        "start_time": "2022-01-09T01:16:43.368Z"
      },
      {
        "duration": 639,
        "start_time": "2022-01-09T01:16:43.380Z"
      },
      {
        "duration": 599,
        "start_time": "2022-01-09T01:16:44.021Z"
      },
      {
        "duration": 586,
        "start_time": "2022-01-09T01:16:44.622Z"
      },
      {
        "duration": 520,
        "start_time": "2022-01-09T01:16:45.210Z"
      },
      {
        "duration": 681,
        "start_time": "2022-01-09T01:16:45.731Z"
      },
      {
        "duration": 2,
        "start_time": "2022-01-09T01:16:46.414Z"
      },
      {
        "duration": 11,
        "start_time": "2022-01-09T01:16:46.417Z"
      },
      {
        "duration": 7,
        "start_time": "2022-01-09T01:16:46.440Z"
      },
      {
        "duration": 3012,
        "start_time": "2022-01-09T01:16:52.339Z"
      },
      {
        "duration": 2984,
        "start_time": "2022-01-09T01:20:15.339Z"
      },
      {
        "duration": 57,
        "start_time": "2022-01-09T01:20:29.285Z"
      },
      {
        "duration": 12,
        "start_time": "2022-01-09T01:20:29.344Z"
      },
      {
        "duration": 5,
        "start_time": "2022-01-09T01:20:29.359Z"
      },
      {
        "duration": 7,
        "start_time": "2022-01-09T01:20:29.366Z"
      },
      {
        "duration": 10,
        "start_time": "2022-01-09T01:20:29.374Z"
      },
      {
        "duration": 11,
        "start_time": "2022-01-09T01:20:29.385Z"
      },
      {
        "duration": 8,
        "start_time": "2022-01-09T01:20:29.397Z"
      },
      {
        "duration": 6,
        "start_time": "2022-01-09T01:20:29.407Z"
      },
      {
        "duration": 6,
        "start_time": "2022-01-09T01:20:29.415Z"
      },
      {
        "duration": 578,
        "start_time": "2022-01-09T01:20:29.422Z"
      },
      {
        "duration": 609,
        "start_time": "2022-01-09T01:20:30.002Z"
      },
      {
        "duration": 632,
        "start_time": "2022-01-09T01:20:30.613Z"
      },
      {
        "duration": 539,
        "start_time": "2022-01-09T01:20:31.247Z"
      },
      {
        "duration": 752,
        "start_time": "2022-01-09T01:20:31.788Z"
      },
      {
        "duration": 2,
        "start_time": "2022-01-09T01:20:32.541Z"
      },
      {
        "duration": 30,
        "start_time": "2022-01-09T01:20:32.545Z"
      },
      {
        "duration": 18,
        "start_time": "2022-01-09T01:20:32.577Z"
      },
      {
        "duration": 467,
        "start_time": "2022-01-09T01:20:35.250Z"
      },
      {
        "duration": 55,
        "start_time": "2022-01-09T01:24:31.905Z"
      },
      {
        "duration": 11,
        "start_time": "2022-01-09T01:24:31.962Z"
      },
      {
        "duration": 11,
        "start_time": "2022-01-09T01:24:31.975Z"
      },
      {
        "duration": 14,
        "start_time": "2022-01-09T01:24:31.987Z"
      },
      {
        "duration": 9,
        "start_time": "2022-01-09T01:24:32.003Z"
      },
      {
        "duration": 18,
        "start_time": "2022-01-09T01:24:32.014Z"
      },
      {
        "duration": 9,
        "start_time": "2022-01-09T01:24:32.033Z"
      },
      {
        "duration": 7,
        "start_time": "2022-01-09T01:24:32.044Z"
      },
      {
        "duration": 51,
        "start_time": "2022-01-09T01:24:32.053Z"
      },
      {
        "duration": 604,
        "start_time": "2022-01-09T01:24:32.106Z"
      },
      {
        "duration": 606,
        "start_time": "2022-01-09T01:24:32.712Z"
      },
      {
        "duration": 606,
        "start_time": "2022-01-09T01:24:33.319Z"
      },
      {
        "duration": 528,
        "start_time": "2022-01-09T01:24:33.926Z"
      },
      {
        "duration": 699,
        "start_time": "2022-01-09T01:24:34.455Z"
      },
      {
        "duration": 2,
        "start_time": "2022-01-09T01:24:35.156Z"
      },
      {
        "duration": 13,
        "start_time": "2022-01-09T01:24:35.159Z"
      },
      {
        "duration": 6,
        "start_time": "2022-01-09T01:24:35.173Z"
      },
      {
        "duration": 429,
        "start_time": "2022-01-09T01:24:39.483Z"
      },
      {
        "duration": 56,
        "start_time": "2022-01-09T01:26:33.769Z"
      },
      {
        "duration": 10,
        "start_time": "2022-01-09T01:26:33.827Z"
      },
      {
        "duration": 8,
        "start_time": "2022-01-09T01:26:33.839Z"
      },
      {
        "duration": 6,
        "start_time": "2022-01-09T01:26:33.848Z"
      },
      {
        "duration": 5,
        "start_time": "2022-01-09T01:26:33.855Z"
      },
      {
        "duration": 4,
        "start_time": "2022-01-09T01:26:33.862Z"
      },
      {
        "duration": 6,
        "start_time": "2022-01-09T01:26:33.868Z"
      },
      {
        "duration": 9,
        "start_time": "2022-01-09T01:26:33.876Z"
      },
      {
        "duration": 8,
        "start_time": "2022-01-09T01:26:33.887Z"
      },
      {
        "duration": 645,
        "start_time": "2022-01-09T01:26:33.896Z"
      },
      {
        "duration": 591,
        "start_time": "2022-01-09T01:26:34.542Z"
      },
      {
        "duration": 578,
        "start_time": "2022-01-09T01:26:35.134Z"
      },
      {
        "duration": 604,
        "start_time": "2022-01-09T01:26:35.714Z"
      },
      {
        "duration": 659,
        "start_time": "2022-01-09T01:26:36.320Z"
      },
      {
        "duration": 2,
        "start_time": "2022-01-09T01:26:36.981Z"
      },
      {
        "duration": 10,
        "start_time": "2022-01-09T01:26:36.985Z"
      },
      {
        "duration": 7,
        "start_time": "2022-01-09T01:26:36.997Z"
      },
      {
        "duration": 2987,
        "start_time": "2022-01-09T01:26:51.354Z"
      },
      {
        "duration": 60,
        "start_time": "2022-01-09T01:28:11.880Z"
      },
      {
        "duration": 11,
        "start_time": "2022-01-09T01:28:11.942Z"
      },
      {
        "duration": 11,
        "start_time": "2022-01-09T01:28:11.955Z"
      },
      {
        "duration": 8,
        "start_time": "2022-01-09T01:28:11.968Z"
      },
      {
        "duration": 6,
        "start_time": "2022-01-09T01:28:11.977Z"
      },
      {
        "duration": 5,
        "start_time": "2022-01-09T01:28:11.984Z"
      },
      {
        "duration": 6,
        "start_time": "2022-01-09T01:28:11.991Z"
      },
      {
        "duration": 8,
        "start_time": "2022-01-09T01:28:11.999Z"
      },
      {
        "duration": 8,
        "start_time": "2022-01-09T01:28:12.008Z"
      },
      {
        "duration": 604,
        "start_time": "2022-01-09T01:28:12.017Z"
      },
      {
        "duration": 569,
        "start_time": "2022-01-09T01:28:12.623Z"
      },
      {
        "duration": 693,
        "start_time": "2022-01-09T01:28:13.194Z"
      },
      {
        "duration": 544,
        "start_time": "2022-01-09T01:28:13.889Z"
      },
      {
        "duration": 674,
        "start_time": "2022-01-09T01:28:14.434Z"
      },
      {
        "duration": 3,
        "start_time": "2022-01-09T01:28:15.109Z"
      },
      {
        "duration": 10,
        "start_time": "2022-01-09T01:28:15.113Z"
      },
      {
        "duration": 21,
        "start_time": "2022-01-09T01:28:15.124Z"
      },
      {
        "duration": 7,
        "start_time": "2022-01-09T01:28:17.473Z"
      },
      {
        "duration": 3144,
        "start_time": "2022-01-09T01:28:24.194Z"
      },
      {
        "duration": 58,
        "start_time": "2022-01-09T01:28:41.751Z"
      },
      {
        "duration": 11,
        "start_time": "2022-01-09T01:28:41.811Z"
      },
      {
        "duration": 7,
        "start_time": "2022-01-09T01:28:41.824Z"
      },
      {
        "duration": 10,
        "start_time": "2022-01-09T01:28:41.832Z"
      },
      {
        "duration": 3,
        "start_time": "2022-01-09T01:28:41.844Z"
      },
      {
        "duration": 6,
        "start_time": "2022-01-09T01:28:41.848Z"
      },
      {
        "duration": 5,
        "start_time": "2022-01-09T01:28:41.855Z"
      },
      {
        "duration": 7,
        "start_time": "2022-01-09T01:28:41.862Z"
      },
      {
        "duration": 11,
        "start_time": "2022-01-09T01:28:41.871Z"
      },
      {
        "duration": 645,
        "start_time": "2022-01-09T01:28:41.884Z"
      },
      {
        "duration": 589,
        "start_time": "2022-01-09T01:28:42.530Z"
      },
      {
        "duration": 574,
        "start_time": "2022-01-09T01:28:43.121Z"
      },
      {
        "duration": 567,
        "start_time": "2022-01-09T01:28:43.696Z"
      },
      {
        "duration": 657,
        "start_time": "2022-01-09T01:28:44.265Z"
      },
      {
        "duration": 2,
        "start_time": "2022-01-09T01:28:44.923Z"
      },
      {
        "duration": 17,
        "start_time": "2022-01-09T01:28:44.927Z"
      },
      {
        "duration": 6,
        "start_time": "2022-01-09T01:28:44.945Z"
      },
      {
        "duration": 3055,
        "start_time": "2022-01-09T01:28:47.781Z"
      },
      {
        "duration": 63,
        "start_time": "2022-01-09T01:29:24.222Z"
      },
      {
        "duration": 13,
        "start_time": "2022-01-09T01:29:24.286Z"
      },
      {
        "duration": 7,
        "start_time": "2022-01-09T01:29:24.301Z"
      },
      {
        "duration": 5,
        "start_time": "2022-01-09T01:29:24.310Z"
      },
      {
        "duration": 4,
        "start_time": "2022-01-09T01:29:24.316Z"
      },
      {
        "duration": 22,
        "start_time": "2022-01-09T01:29:24.321Z"
      },
      {
        "duration": 13,
        "start_time": "2022-01-09T01:29:24.344Z"
      },
      {
        "duration": 7,
        "start_time": "2022-01-09T01:29:24.359Z"
      },
      {
        "duration": 11,
        "start_time": "2022-01-09T01:29:24.368Z"
      },
      {
        "duration": 653,
        "start_time": "2022-01-09T01:29:24.380Z"
      },
      {
        "duration": 615,
        "start_time": "2022-01-09T01:29:25.035Z"
      },
      {
        "duration": 556,
        "start_time": "2022-01-09T01:29:25.652Z"
      },
      {
        "duration": 593,
        "start_time": "2022-01-09T01:29:26.209Z"
      },
      {
        "duration": 643,
        "start_time": "2022-01-09T01:29:26.804Z"
      },
      {
        "duration": 2,
        "start_time": "2022-01-09T01:29:27.449Z"
      },
      {
        "duration": 26,
        "start_time": "2022-01-09T01:29:27.453Z"
      },
      {
        "duration": 14,
        "start_time": "2022-01-09T01:29:27.481Z"
      },
      {
        "duration": 3149,
        "start_time": "2022-01-09T01:29:30.344Z"
      },
      {
        "duration": 81,
        "start_time": "2022-01-09T01:30:56.925Z"
      },
      {
        "duration": 11,
        "start_time": "2022-01-09T01:30:57.008Z"
      },
      {
        "duration": 6,
        "start_time": "2022-01-09T01:30:57.021Z"
      },
      {
        "duration": 4,
        "start_time": "2022-01-09T01:30:57.029Z"
      },
      {
        "duration": 3,
        "start_time": "2022-01-09T01:30:57.041Z"
      },
      {
        "duration": 9,
        "start_time": "2022-01-09T01:30:57.046Z"
      },
      {
        "duration": 11,
        "start_time": "2022-01-09T01:30:57.056Z"
      },
      {
        "duration": 9,
        "start_time": "2022-01-09T01:30:57.069Z"
      },
      {
        "duration": 12,
        "start_time": "2022-01-09T01:30:57.080Z"
      },
      {
        "duration": 764,
        "start_time": "2022-01-09T01:30:57.094Z"
      },
      {
        "duration": 551,
        "start_time": "2022-01-09T01:30:57.859Z"
      },
      {
        "duration": 747,
        "start_time": "2022-01-09T01:30:58.412Z"
      },
      {
        "duration": 629,
        "start_time": "2022-01-09T01:30:59.161Z"
      },
      {
        "duration": 713,
        "start_time": "2022-01-09T01:30:59.791Z"
      },
      {
        "duration": 2,
        "start_time": "2022-01-09T01:31:00.506Z"
      },
      {
        "duration": 36,
        "start_time": "2022-01-09T01:31:00.510Z"
      },
      {
        "duration": 21,
        "start_time": "2022-01-09T01:31:00.548Z"
      },
      {
        "duration": 3106,
        "start_time": "2022-01-09T01:31:02.858Z"
      },
      {
        "duration": 352,
        "start_time": "2022-01-09T13:28:33.033Z"
      },
      {
        "duration": 831,
        "start_time": "2022-01-09T13:28:38.506Z"
      },
      {
        "duration": 31,
        "start_time": "2022-01-09T13:28:39.340Z"
      },
      {
        "duration": 11,
        "start_time": "2022-01-09T13:28:39.375Z"
      },
      {
        "duration": 12,
        "start_time": "2022-01-09T13:28:39.390Z"
      },
      {
        "duration": 5,
        "start_time": "2022-01-09T13:28:39.405Z"
      },
      {
        "duration": 66,
        "start_time": "2022-01-09T13:28:39.413Z"
      },
      {
        "duration": 8,
        "start_time": "2022-01-09T13:28:39.481Z"
      },
      {
        "duration": 9,
        "start_time": "2022-01-09T13:28:39.491Z"
      },
      {
        "duration": 13,
        "start_time": "2022-01-09T13:28:39.505Z"
      },
      {
        "duration": 2024,
        "start_time": "2022-01-09T13:28:39.522Z"
      },
      {
        "duration": 718,
        "start_time": "2022-01-09T13:28:41.549Z"
      },
      {
        "duration": 911,
        "start_time": "2022-01-09T13:28:42.270Z"
      },
      {
        "duration": 535,
        "start_time": "2022-01-09T13:28:43.184Z"
      },
      {
        "duration": 1216,
        "start_time": "2022-01-09T13:28:43.721Z"
      },
      {
        "duration": 4,
        "start_time": "2022-01-09T13:28:44.940Z"
      },
      {
        "duration": 32,
        "start_time": "2022-01-09T13:28:44.948Z"
      },
      {
        "duration": 583,
        "start_time": "2022-01-09T13:28:44.983Z"
      },
      {
        "duration": 7321,
        "start_time": "2022-01-09T13:28:48.262Z"
      },
      {
        "duration": 75,
        "start_time": "2022-01-09T13:29:40.466Z"
      },
      {
        "duration": 41,
        "start_time": "2022-01-09T13:29:40.544Z"
      },
      {
        "duration": 8,
        "start_time": "2022-01-09T13:29:40.588Z"
      },
      {
        "duration": 6,
        "start_time": "2022-01-09T13:29:40.599Z"
      },
      {
        "duration": 8,
        "start_time": "2022-01-09T13:29:40.607Z"
      },
      {
        "duration": 54,
        "start_time": "2022-01-09T13:29:40.617Z"
      },
      {
        "duration": 9,
        "start_time": "2022-01-09T13:29:40.674Z"
      },
      {
        "duration": 9,
        "start_time": "2022-01-09T13:29:40.687Z"
      },
      {
        "duration": 7,
        "start_time": "2022-01-09T13:29:40.699Z"
      },
      {
        "duration": 745,
        "start_time": "2022-01-09T13:29:40.708Z"
      },
      {
        "duration": 634,
        "start_time": "2022-01-09T13:29:41.456Z"
      },
      {
        "duration": 750,
        "start_time": "2022-01-09T13:29:42.093Z"
      },
      {
        "duration": 502,
        "start_time": "2022-01-09T13:29:42.845Z"
      },
      {
        "duration": 836,
        "start_time": "2022-01-09T13:29:43.350Z"
      },
      {
        "duration": 3,
        "start_time": "2022-01-09T13:29:44.188Z"
      },
      {
        "duration": 12,
        "start_time": "2022-01-09T13:29:44.194Z"
      },
      {
        "duration": 516,
        "start_time": "2022-01-09T13:29:44.209Z"
      },
      {
        "duration": -454,
        "start_time": "2022-01-09T13:29:45.182Z"
      },
      {
        "duration": -455,
        "start_time": "2022-01-09T13:29:45.185Z"
      },
      {
        "duration": -469,
        "start_time": "2022-01-09T13:29:45.200Z"
      },
      {
        "duration": -470,
        "start_time": "2022-01-09T13:29:45.203Z"
      },
      {
        "duration": -472,
        "start_time": "2022-01-09T13:29:45.206Z"
      },
      {
        "duration": -473,
        "start_time": "2022-01-09T13:29:45.209Z"
      },
      {
        "duration": -479,
        "start_time": "2022-01-09T13:29:45.216Z"
      },
      {
        "duration": -480,
        "start_time": "2022-01-09T13:29:45.219Z"
      },
      {
        "duration": -481,
        "start_time": "2022-01-09T13:29:45.222Z"
      },
      {
        "duration": -482,
        "start_time": "2022-01-09T13:29:45.224Z"
      },
      {
        "duration": -485,
        "start_time": "2022-01-09T13:29:45.228Z"
      },
      {
        "duration": 6231,
        "start_time": "2022-01-09T13:30:28.449Z"
      },
      {
        "duration": 1707,
        "start_time": "2022-01-09T13:30:59.284Z"
      },
      {
        "duration": 7182,
        "start_time": "2022-01-09T13:31:18.762Z"
      },
      {
        "duration": 80,
        "start_time": "2022-01-09T13:31:32.511Z"
      },
      {
        "duration": 30,
        "start_time": "2022-01-09T13:31:32.594Z"
      },
      {
        "duration": 9,
        "start_time": "2022-01-09T13:31:32.628Z"
      },
      {
        "duration": 28,
        "start_time": "2022-01-09T13:31:32.640Z"
      },
      {
        "duration": 5,
        "start_time": "2022-01-09T13:31:32.670Z"
      },
      {
        "duration": 8,
        "start_time": "2022-01-09T13:31:32.678Z"
      },
      {
        "duration": 7,
        "start_time": "2022-01-09T13:31:32.688Z"
      },
      {
        "duration": 10,
        "start_time": "2022-01-09T13:31:32.699Z"
      },
      {
        "duration": 11,
        "start_time": "2022-01-09T13:31:32.766Z"
      },
      {
        "duration": 1014,
        "start_time": "2022-01-09T13:31:32.780Z"
      },
      {
        "duration": 997,
        "start_time": "2022-01-09T13:31:33.797Z"
      },
      {
        "duration": 991,
        "start_time": "2022-01-09T13:31:34.797Z"
      },
      {
        "duration": 1185,
        "start_time": "2022-01-09T13:31:35.791Z"
      },
      {
        "duration": 1691,
        "start_time": "2022-01-09T13:31:36.979Z"
      },
      {
        "duration": 4,
        "start_time": "2022-01-09T13:31:38.674Z"
      },
      {
        "duration": 19,
        "start_time": "2022-01-09T13:31:38.681Z"
      },
      {
        "duration": 9840,
        "start_time": "2022-01-09T13:31:42.940Z"
      },
      {
        "duration": 8851,
        "start_time": "2022-01-09T13:34:28.256Z"
      },
      {
        "duration": 22,
        "start_time": "2022-01-09T13:34:52.666Z"
      },
      {
        "duration": 9,
        "start_time": "2022-01-09T13:35:16.348Z"
      },
      {
        "duration": 8,
        "start_time": "2022-01-09T13:35:29.645Z"
      },
      {
        "duration": 12,
        "start_time": "2022-01-09T13:42:42.384Z"
      },
      {
        "duration": 11,
        "start_time": "2022-01-09T13:43:43.937Z"
      },
      {
        "duration": 25,
        "start_time": "2022-01-09T13:44:01.621Z"
      },
      {
        "duration": 20,
        "start_time": "2022-01-09T13:45:22.270Z"
      },
      {
        "duration": 18,
        "start_time": "2022-01-09T13:50:25.921Z"
      },
      {
        "duration": 10,
        "start_time": "2022-01-09T13:51:13.882Z"
      },
      {
        "duration": 25,
        "start_time": "2022-01-09T13:54:11.420Z"
      },
      {
        "duration": 11,
        "start_time": "2022-01-09T13:54:29.226Z"
      },
      {
        "duration": 11,
        "start_time": "2022-01-09T13:54:38.305Z"
      },
      {
        "duration": 8,
        "start_time": "2022-01-09T13:54:49.851Z"
      },
      {
        "duration": 12,
        "start_time": "2022-01-09T13:55:04.119Z"
      },
      {
        "duration": 39,
        "start_time": "2022-01-09T14:33:42.686Z"
      },
      {
        "duration": 17,
        "start_time": "2022-01-09T14:45:04.906Z"
      },
      {
        "duration": 20,
        "start_time": "2022-01-09T14:46:26.386Z"
      },
      {
        "duration": 39,
        "start_time": "2022-01-09T14:46:52.075Z"
      },
      {
        "duration": 13,
        "start_time": "2022-01-09T14:54:22.465Z"
      },
      {
        "duration": 265,
        "start_time": "2022-01-09T14:55:18.990Z"
      },
      {
        "duration": 14,
        "start_time": "2022-01-09T14:55:52.154Z"
      },
      {
        "duration": 23,
        "start_time": "2022-01-09T14:56:15.290Z"
      },
      {
        "duration": 21,
        "start_time": "2022-01-09T15:00:31.116Z"
      },
      {
        "duration": 15,
        "start_time": "2022-01-09T15:00:39.319Z"
      },
      {
        "duration": 24,
        "start_time": "2022-01-09T15:00:54.222Z"
      },
      {
        "duration": 31,
        "start_time": "2022-01-09T15:02:41.230Z"
      },
      {
        "duration": 22,
        "start_time": "2022-01-09T15:02:45.137Z"
      },
      {
        "duration": 25,
        "start_time": "2022-01-09T15:02:56.682Z"
      },
      {
        "duration": 12,
        "start_time": "2022-01-09T15:03:05.223Z"
      },
      {
        "duration": 79,
        "start_time": "2022-01-09T15:03:12.756Z"
      },
      {
        "duration": 41,
        "start_time": "2022-01-09T15:03:12.838Z"
      },
      {
        "duration": 9,
        "start_time": "2022-01-09T15:03:12.882Z"
      },
      {
        "duration": 9,
        "start_time": "2022-01-09T15:03:12.894Z"
      },
      {
        "duration": 10,
        "start_time": "2022-01-09T15:03:12.906Z"
      },
      {
        "duration": 50,
        "start_time": "2022-01-09T15:03:12.919Z"
      },
      {
        "duration": 9,
        "start_time": "2022-01-09T15:03:12.971Z"
      },
      {
        "duration": 9,
        "start_time": "2022-01-09T15:03:12.984Z"
      },
      {
        "duration": 6,
        "start_time": "2022-01-09T15:03:12.996Z"
      },
      {
        "duration": 1047,
        "start_time": "2022-01-09T15:03:13.005Z"
      },
      {
        "duration": 1043,
        "start_time": "2022-01-09T15:03:14.054Z"
      },
      {
        "duration": 988,
        "start_time": "2022-01-09T15:03:15.100Z"
      },
      {
        "duration": 916,
        "start_time": "2022-01-09T15:03:16.091Z"
      },
      {
        "duration": 1102,
        "start_time": "2022-01-09T15:03:17.010Z"
      },
      {
        "duration": 3,
        "start_time": "2022-01-09T15:03:18.114Z"
      },
      {
        "duration": 15,
        "start_time": "2022-01-09T15:03:18.119Z"
      },
      {
        "duration": 6124,
        "start_time": "2022-01-09T15:03:18.136Z"
      },
      {
        "duration": 8,
        "start_time": "2022-01-09T15:03:24.267Z"
      },
      {
        "duration": 20,
        "start_time": "2022-01-09T15:03:24.279Z"
      },
      {
        "duration": 10,
        "start_time": "2022-01-09T15:03:24.302Z"
      },
      {
        "duration": 65,
        "start_time": "2022-01-09T15:03:24.315Z"
      },
      {
        "duration": 10,
        "start_time": "2022-01-09T15:03:24.385Z"
      },
      {
        "duration": 26,
        "start_time": "2022-01-09T15:04:10.290Z"
      },
      {
        "duration": 9,
        "start_time": "2022-01-09T15:55:32.370Z"
      },
      {
        "duration": 265,
        "start_time": "2022-01-09T16:00:48.216Z"
      },
      {
        "duration": 346,
        "start_time": "2022-01-09T16:01:03.882Z"
      },
      {
        "duration": 272,
        "start_time": "2022-01-09T16:03:04.800Z"
      },
      {
        "duration": 7,
        "start_time": "2022-01-09T16:03:47.354Z"
      },
      {
        "duration": 293,
        "start_time": "2022-01-09T16:04:04.915Z"
      },
      {
        "duration": 275,
        "start_time": "2022-01-09T16:04:44.496Z"
      },
      {
        "duration": 11,
        "start_time": "2022-01-09T16:04:56.857Z"
      },
      {
        "duration": 73,
        "start_time": "2022-01-09T16:05:38.808Z"
      },
      {
        "duration": 12,
        "start_time": "2022-01-09T16:05:59.356Z"
      },
      {
        "duration": 10,
        "start_time": "2022-01-09T16:06:56.295Z"
      },
      {
        "duration": 7,
        "start_time": "2022-01-09T16:07:26.835Z"
      },
      {
        "duration": 295,
        "start_time": "2022-01-09T16:09:46.841Z"
      },
      {
        "duration": 12,
        "start_time": "2022-01-09T16:10:32.043Z"
      },
      {
        "duration": 1451,
        "start_time": "2022-01-09T16:11:18.614Z"
      },
      {
        "duration": 14,
        "start_time": "2022-01-09T16:11:48.947Z"
      },
      {
        "duration": 7,
        "start_time": "2022-01-09T16:11:59.683Z"
      },
      {
        "duration": 7,
        "start_time": "2022-01-09T16:14:20.966Z"
      },
      {
        "duration": 3,
        "start_time": "2022-01-09T16:16:51.814Z"
      },
      {
        "duration": 6,
        "start_time": "2022-01-09T16:16:59.035Z"
      },
      {
        "duration": 101,
        "start_time": "2022-01-09T16:17:33.071Z"
      },
      {
        "duration": 11,
        "start_time": "2022-01-09T16:17:41.739Z"
      },
      {
        "duration": 6594,
        "start_time": "2022-01-09T16:19:24.564Z"
      },
      {
        "duration": 88,
        "start_time": "2022-01-09T16:19:41.321Z"
      },
      {
        "duration": 19,
        "start_time": "2022-01-09T16:19:41.412Z"
      },
      {
        "duration": 10,
        "start_time": "2022-01-09T16:19:41.435Z"
      },
      {
        "duration": 7,
        "start_time": "2022-01-09T16:19:41.468Z"
      },
      {
        "duration": 7,
        "start_time": "2022-01-09T16:19:41.477Z"
      },
      {
        "duration": 9,
        "start_time": "2022-01-09T16:19:41.487Z"
      },
      {
        "duration": 8,
        "start_time": "2022-01-09T16:19:41.499Z"
      },
      {
        "duration": 27,
        "start_time": "2022-01-09T16:19:41.511Z"
      },
      {
        "duration": 8,
        "start_time": "2022-01-09T16:19:41.569Z"
      },
      {
        "duration": 1058,
        "start_time": "2022-01-09T16:19:41.579Z"
      },
      {
        "duration": 940,
        "start_time": "2022-01-09T16:19:42.639Z"
      },
      {
        "duration": 990,
        "start_time": "2022-01-09T16:19:43.582Z"
      },
      {
        "duration": 803,
        "start_time": "2022-01-09T16:19:44.575Z"
      },
      {
        "duration": 1133,
        "start_time": "2022-01-09T16:19:45.380Z"
      },
      {
        "duration": 3,
        "start_time": "2022-01-09T16:19:46.516Z"
      },
      {
        "duration": 18,
        "start_time": "2022-01-09T16:19:46.522Z"
      },
      {
        "duration": 6319,
        "start_time": "2022-01-09T16:19:46.542Z"
      },
      {
        "duration": 7,
        "start_time": "2022-01-09T16:19:52.867Z"
      },
      {
        "duration": 24,
        "start_time": "2022-01-09T16:19:52.878Z"
      },
      {
        "duration": 12,
        "start_time": "2022-01-09T16:19:52.905Z"
      },
      {
        "duration": 62,
        "start_time": "2022-01-09T16:19:52.919Z"
      },
      {
        "duration": 21,
        "start_time": "2022-01-09T16:19:52.984Z"
      },
      {
        "duration": 15,
        "start_time": "2022-01-09T16:19:53.010Z"
      },
      {
        "duration": 19,
        "start_time": "2022-01-09T16:19:53.027Z"
      },
      {
        "duration": 14,
        "start_time": "2022-01-09T16:19:53.067Z"
      },
      {
        "duration": 15,
        "start_time": "2022-01-09T16:19:53.084Z"
      },
      {
        "duration": 5738,
        "start_time": "2022-01-09T16:19:53.354Z"
      },
      {
        "duration": 89,
        "start_time": "2022-01-09T16:21:39.242Z"
      },
      {
        "duration": 51,
        "start_time": "2022-01-09T16:21:39.335Z"
      },
      {
        "duration": 7,
        "start_time": "2022-01-09T16:21:39.390Z"
      },
      {
        "duration": 7,
        "start_time": "2022-01-09T16:21:39.400Z"
      },
      {
        "duration": 6,
        "start_time": "2022-01-09T16:21:39.410Z"
      },
      {
        "duration": 50,
        "start_time": "2022-01-09T16:21:39.419Z"
      },
      {
        "duration": 7,
        "start_time": "2022-01-09T16:21:39.471Z"
      },
      {
        "duration": 10,
        "start_time": "2022-01-09T16:21:39.482Z"
      },
      {
        "duration": 10,
        "start_time": "2022-01-09T16:21:39.495Z"
      },
      {
        "duration": 1172,
        "start_time": "2022-01-09T16:21:39.508Z"
      },
      {
        "duration": 1024,
        "start_time": "2022-01-09T16:21:40.683Z"
      },
      {
        "duration": 1014,
        "start_time": "2022-01-09T16:21:41.710Z"
      },
      {
        "duration": 906,
        "start_time": "2022-01-09T16:21:42.727Z"
      },
      {
        "duration": 1106,
        "start_time": "2022-01-09T16:21:43.636Z"
      },
      {
        "duration": 4,
        "start_time": "2022-01-09T16:21:44.744Z"
      },
      {
        "duration": 29,
        "start_time": "2022-01-09T16:21:44.750Z"
      },
      {
        "duration": 6254,
        "start_time": "2022-01-09T16:21:44.782Z"
      },
      {
        "duration": 7,
        "start_time": "2022-01-09T16:21:51.038Z"
      },
      {
        "duration": 36,
        "start_time": "2022-01-09T16:21:51.047Z"
      },
      {
        "duration": 9,
        "start_time": "2022-01-09T16:21:51.086Z"
      },
      {
        "duration": 21,
        "start_time": "2022-01-09T16:21:51.098Z"
      },
      {
        "duration": 61,
        "start_time": "2022-01-09T16:21:51.123Z"
      },
      {
        "duration": 9,
        "start_time": "2022-01-09T16:21:51.190Z"
      },
      {
        "duration": 9,
        "start_time": "2022-01-09T16:21:51.202Z"
      },
      {
        "duration": 20,
        "start_time": "2022-01-09T16:21:51.213Z"
      },
      {
        "duration": 10,
        "start_time": "2022-01-09T16:21:51.268Z"
      },
      {
        "duration": -459,
        "start_time": "2022-01-09T16:21:57.279Z"
      },
      {
        "duration": -462,
        "start_time": "2022-01-09T16:21:57.284Z"
      },
      {
        "duration": -466,
        "start_time": "2022-01-09T16:21:57.289Z"
      },
      {
        "duration": -468,
        "start_time": "2022-01-09T16:21:57.293Z"
      },
      {
        "duration": -470,
        "start_time": "2022-01-09T16:21:57.297Z"
      },
      {
        "duration": -473,
        "start_time": "2022-01-09T16:21:57.301Z"
      },
      {
        "duration": -476,
        "start_time": "2022-01-09T16:21:57.306Z"
      },
      {
        "duration": -478,
        "start_time": "2022-01-09T16:21:57.310Z"
      },
      {
        "duration": -480,
        "start_time": "2022-01-09T16:21:57.313Z"
      },
      {
        "duration": 7053,
        "start_time": "2022-01-09T16:22:23.622Z"
      },
      {
        "duration": 81,
        "start_time": "2022-01-09T16:24:16.589Z"
      },
      {
        "duration": 19,
        "start_time": "2022-01-09T16:24:16.672Z"
      },
      {
        "duration": 9,
        "start_time": "2022-01-09T16:24:16.694Z"
      },
      {
        "duration": 7,
        "start_time": "2022-01-09T16:24:16.706Z"
      },
      {
        "duration": 50,
        "start_time": "2022-01-09T16:24:16.716Z"
      },
      {
        "duration": 6,
        "start_time": "2022-01-09T16:24:16.770Z"
      },
      {
        "duration": 9,
        "start_time": "2022-01-09T16:24:16.778Z"
      },
      {
        "duration": 9,
        "start_time": "2022-01-09T16:24:16.792Z"
      },
      {
        "duration": 8,
        "start_time": "2022-01-09T16:24:16.804Z"
      },
      {
        "duration": 1096,
        "start_time": "2022-01-09T16:24:16.815Z"
      },
      {
        "duration": 978,
        "start_time": "2022-01-09T16:24:17.914Z"
      },
      {
        "duration": 1023,
        "start_time": "2022-01-09T16:24:18.895Z"
      },
      {
        "duration": 850,
        "start_time": "2022-01-09T16:24:19.921Z"
      },
      {
        "duration": 1251,
        "start_time": "2022-01-09T16:24:20.773Z"
      },
      {
        "duration": 3,
        "start_time": "2022-01-09T16:24:22.027Z"
      },
      {
        "duration": 15,
        "start_time": "2022-01-09T16:24:22.032Z"
      },
      {
        "duration": 6565,
        "start_time": "2022-01-09T16:24:22.068Z"
      },
      {
        "duration": 7,
        "start_time": "2022-01-09T16:24:28.636Z"
      },
      {
        "duration": 35,
        "start_time": "2022-01-09T16:24:28.645Z"
      },
      {
        "duration": 10,
        "start_time": "2022-01-09T16:24:28.683Z"
      },
      {
        "duration": 19,
        "start_time": "2022-01-09T16:24:28.696Z"
      },
      {
        "duration": 61,
        "start_time": "2022-01-09T16:24:28.718Z"
      },
      {
        "duration": 10,
        "start_time": "2022-01-09T16:24:28.785Z"
      },
      {
        "duration": 13,
        "start_time": "2022-01-09T16:24:28.797Z"
      },
      {
        "duration": 13,
        "start_time": "2022-01-09T16:24:28.813Z"
      },
      {
        "duration": 44,
        "start_time": "2022-01-09T16:24:28.829Z"
      },
      {
        "duration": -456,
        "start_time": "2022-01-09T16:24:35.262Z"
      },
      {
        "duration": -458,
        "start_time": "2022-01-09T16:24:35.265Z"
      },
      {
        "duration": -459,
        "start_time": "2022-01-09T16:24:35.268Z"
      },
      {
        "duration": -460,
        "start_time": "2022-01-09T16:24:35.270Z"
      },
      {
        "duration": -461,
        "start_time": "2022-01-09T16:24:35.273Z"
      },
      {
        "duration": -462,
        "start_time": "2022-01-09T16:24:35.275Z"
      },
      {
        "duration": -462,
        "start_time": "2022-01-09T16:24:35.277Z"
      },
      {
        "duration": -463,
        "start_time": "2022-01-09T16:24:35.279Z"
      },
      {
        "duration": -470,
        "start_time": "2022-01-09T16:24:35.287Z"
      },
      {
        "duration": -462,
        "start_time": "2022-01-09T16:25:08.787Z"
      },
      {
        "duration": -443,
        "start_time": "2022-01-09T16:25:54.306Z"
      },
      {
        "duration": 9,
        "start_time": "2022-01-09T16:25:56.378Z"
      },
      {
        "duration": 11,
        "start_time": "2022-01-09T16:26:04.176Z"
      },
      {
        "duration": 13924,
        "start_time": "2022-01-09T16:26:10.340Z"
      },
      {
        "duration": -478,
        "start_time": "2022-01-09T16:26:24.745Z"
      },
      {
        "duration": 17,
        "start_time": "2022-01-09T16:26:31.599Z"
      },
      {
        "duration": 9501,
        "start_time": "2022-01-09T16:26:38.761Z"
      },
      {
        "duration": 17,
        "start_time": "2022-01-09T16:27:04.004Z"
      },
      {
        "duration": 5534,
        "start_time": "2022-01-09T16:27:50.504Z"
      },
      {
        "duration": 8813,
        "start_time": "2022-01-09T16:36:14.259Z"
      },
      {
        "duration": 9026,
        "start_time": "2022-01-09T16:44:35.421Z"
      },
      {
        "duration": 4896,
        "start_time": "2022-01-09T16:45:27.647Z"
      },
      {
        "duration": 4790,
        "start_time": "2022-01-09T16:46:04.966Z"
      },
      {
        "duration": 21,
        "start_time": "2022-01-09T16:48:22.818Z"
      },
      {
        "duration": 6,
        "start_time": "2022-01-09T16:51:47.261Z"
      },
      {
        "duration": 6769,
        "start_time": "2022-01-09T16:52:09.421Z"
      },
      {
        "duration": 5578,
        "start_time": "2022-01-09T16:58:56.232Z"
      },
      {
        "duration": 105,
        "start_time": "2022-01-09T17:01:02.319Z"
      },
      {
        "duration": 314,
        "start_time": "2022-01-09T17:01:12.393Z"
      },
      {
        "duration": 7681,
        "start_time": "2022-01-09T17:01:22.057Z"
      },
      {
        "duration": 6,
        "start_time": "2022-01-09T17:05:25.202Z"
      },
      {
        "duration": 6,
        "start_time": "2022-01-09T17:08:10.227Z"
      },
      {
        "duration": 5160,
        "start_time": "2022-01-09T17:08:27.552Z"
      },
      {
        "duration": 52,
        "start_time": "2022-01-09T17:09:29.523Z"
      },
      {
        "duration": 4802,
        "start_time": "2022-01-09T17:11:06.722Z"
      },
      {
        "duration": 6768,
        "start_time": "2022-01-09T17:13:02.517Z"
      },
      {
        "duration": 101,
        "start_time": "2022-01-09T17:13:47.202Z"
      },
      {
        "duration": -466,
        "start_time": "2022-01-09T17:16:21.547Z"
      },
      {
        "duration": 4776,
        "start_time": "2022-01-09T17:17:37.356Z"
      },
      {
        "duration": 4787,
        "start_time": "2022-01-09T17:18:48.737Z"
      },
      {
        "duration": 24,
        "start_time": "2022-01-09T17:21:54.309Z"
      },
      {
        "duration": 6663,
        "start_time": "2022-01-09T17:22:21.838Z"
      },
      {
        "duration": 5798,
        "start_time": "2022-01-09T17:23:30.801Z"
      },
      {
        "duration": 7740,
        "start_time": "2022-01-09T17:26:06.477Z"
      },
      {
        "duration": 4909,
        "start_time": "2022-01-09T17:26:59.692Z"
      },
      {
        "duration": 4735,
        "start_time": "2022-01-09T17:27:09.021Z"
      },
      {
        "duration": 5181,
        "start_time": "2022-01-09T17:27:48.663Z"
      },
      {
        "duration": 16,
        "start_time": "2022-01-09T18:34:30.412Z"
      },
      {
        "duration": 43,
        "start_time": "2022-01-09T18:40:22.726Z"
      },
      {
        "duration": 61,
        "start_time": "2022-01-09T18:41:20.628Z"
      },
      {
        "duration": 14,
        "start_time": "2022-01-09T19:00:34.558Z"
      },
      {
        "duration": 10,
        "start_time": "2022-01-09T19:01:59.129Z"
      },
      {
        "duration": 79,
        "start_time": "2022-01-09T19:02:02.882Z"
      },
      {
        "duration": 1507,
        "start_time": "2022-01-09T19:06:10.013Z"
      },
      {
        "duration": 70,
        "start_time": "2022-01-09T19:09:40.805Z"
      },
      {
        "duration": 3,
        "start_time": "2022-01-09T20:43:43.167Z"
      },
      {
        "duration": 9,
        "start_time": "2022-01-09T20:49:06.626Z"
      },
      {
        "duration": 93,
        "start_time": "2022-01-09T20:56:44.901Z"
      },
      {
        "duration": 5,
        "start_time": "2022-01-09T20:57:31.867Z"
      },
      {
        "duration": 5,
        "start_time": "2022-01-09T20:57:40.808Z"
      },
      {
        "duration": 9,
        "start_time": "2022-01-09T20:58:57.811Z"
      },
      {
        "duration": 11,
        "start_time": "2022-01-09T20:59:25.673Z"
      },
      {
        "duration": 75,
        "start_time": "2022-01-09T20:59:37.364Z"
      },
      {
        "duration": 20,
        "start_time": "2022-01-09T20:59:37.441Z"
      },
      {
        "duration": 8,
        "start_time": "2022-01-09T20:59:37.464Z"
      },
      {
        "duration": 8,
        "start_time": "2022-01-09T20:59:37.475Z"
      },
      {
        "duration": 8,
        "start_time": "2022-01-09T20:59:37.486Z"
      },
      {
        "duration": 12,
        "start_time": "2022-01-09T20:59:43.757Z"
      },
      {
        "duration": 8,
        "start_time": "2022-01-09T20:59:57.201Z"
      },
      {
        "duration": 10,
        "start_time": "2022-01-09T21:00:13.677Z"
      },
      {
        "duration": 11,
        "start_time": "2022-01-09T21:00:27.131Z"
      },
      {
        "duration": 10,
        "start_time": "2022-01-09T21:00:34.702Z"
      },
      {
        "duration": 10,
        "start_time": "2022-01-09T21:00:56.360Z"
      },
      {
        "duration": 15,
        "start_time": "2022-01-09T21:04:09.072Z"
      },
      {
        "duration": 6,
        "start_time": "2022-01-09T21:05:10.299Z"
      },
      {
        "duration": 6,
        "start_time": "2022-01-09T21:05:15.708Z"
      },
      {
        "duration": 7,
        "start_time": "2022-01-09T21:05:55.298Z"
      },
      {
        "duration": 6,
        "start_time": "2022-01-09T21:06:04.321Z"
      },
      {
        "duration": 5,
        "start_time": "2022-01-09T21:06:20.587Z"
      },
      {
        "duration": 73,
        "start_time": "2022-01-09T21:06:37.872Z"
      },
      {
        "duration": 5,
        "start_time": "2022-01-09T21:06:40.819Z"
      },
      {
        "duration": 5,
        "start_time": "2022-01-09T21:06:46.496Z"
      },
      {
        "duration": 280,
        "start_time": "2022-01-09T21:07:13.314Z"
      },
      {
        "duration": 5,
        "start_time": "2022-01-09T21:07:21.623Z"
      },
      {
        "duration": 6,
        "start_time": "2022-01-09T21:07:31.749Z"
      },
      {
        "duration": 6,
        "start_time": "2022-01-09T21:07:36.031Z"
      },
      {
        "duration": 6,
        "start_time": "2022-01-09T21:07:42.174Z"
      },
      {
        "duration": 5,
        "start_time": "2022-01-09T21:07:56.151Z"
      },
      {
        "duration": 6,
        "start_time": "2022-01-09T21:08:05.678Z"
      },
      {
        "duration": 6,
        "start_time": "2022-01-09T21:12:33.088Z"
      },
      {
        "duration": 21,
        "start_time": "2022-01-09T21:18:09.319Z"
      },
      {
        "duration": 21,
        "start_time": "2022-01-09T21:18:16.582Z"
      },
      {
        "duration": 297,
        "start_time": "2022-01-09T21:19:19.206Z"
      },
      {
        "duration": 11,
        "start_time": "2022-01-09T21:19:23.522Z"
      },
      {
        "duration": 9,
        "start_time": "2022-01-09T21:19:30.183Z"
      },
      {
        "duration": 9,
        "start_time": "2022-01-09T21:19:42.171Z"
      },
      {
        "duration": 13,
        "start_time": "2022-01-09T21:19:46.940Z"
      },
      {
        "duration": 8,
        "start_time": "2022-01-09T21:20:18.141Z"
      },
      {
        "duration": 9,
        "start_time": "2022-01-09T21:20:32.584Z"
      },
      {
        "duration": 8,
        "start_time": "2022-01-09T21:20:38.258Z"
      },
      {
        "duration": 9,
        "start_time": "2022-01-09T21:20:54.459Z"
      },
      {
        "duration": 15,
        "start_time": "2022-01-09T21:26:14.068Z"
      },
      {
        "duration": 14,
        "start_time": "2022-01-09T21:26:29.912Z"
      },
      {
        "duration": 15,
        "start_time": "2022-01-09T21:27:02.684Z"
      },
      {
        "duration": 15,
        "start_time": "2022-01-09T21:27:08.825Z"
      },
      {
        "duration": 9,
        "start_time": "2022-01-09T21:27:49.352Z"
      },
      {
        "duration": 9,
        "start_time": "2022-01-09T21:28:15.850Z"
      },
      {
        "duration": 8,
        "start_time": "2022-01-09T21:29:31.650Z"
      },
      {
        "duration": 8,
        "start_time": "2022-01-09T21:29:39.553Z"
      },
      {
        "duration": 9,
        "start_time": "2022-01-09T21:29:43.442Z"
      },
      {
        "duration": 77,
        "start_time": "2022-01-09T21:29:54.572Z"
      },
      {
        "duration": 16,
        "start_time": "2022-01-09T21:29:54.653Z"
      },
      {
        "duration": 8,
        "start_time": "2022-01-09T21:29:54.673Z"
      },
      {
        "duration": 8,
        "start_time": "2022-01-09T21:29:54.684Z"
      },
      {
        "duration": 26,
        "start_time": "2022-01-09T21:29:54.694Z"
      },
      {
        "duration": 9,
        "start_time": "2022-01-09T21:29:54.766Z"
      },
      {
        "duration": 12,
        "start_time": "2022-01-09T21:29:54.779Z"
      },
      {
        "duration": 24,
        "start_time": "2022-01-09T21:29:54.796Z"
      },
      {
        "duration": 48,
        "start_time": "2022-01-09T21:29:54.823Z"
      },
      {
        "duration": 11,
        "start_time": "2022-01-09T21:29:54.874Z"
      },
      {
        "duration": 13,
        "start_time": "2022-01-09T21:29:54.888Z"
      },
      {
        "duration": 10,
        "start_time": "2022-01-09T21:29:59.238Z"
      },
      {
        "duration": 7,
        "start_time": "2022-01-09T21:39:48.201Z"
      },
      {
        "duration": 20,
        "start_time": "2022-01-09T21:39:58.084Z"
      },
      {
        "duration": 19,
        "start_time": "2022-01-09T21:40:43.074Z"
      },
      {
        "duration": 18,
        "start_time": "2022-01-09T21:40:58.385Z"
      },
      {
        "duration": -805,
        "start_time": "2022-01-09T21:51:43.844Z"
      },
      {
        "duration": 7332,
        "start_time": "2022-01-09T21:51:52.278Z"
      },
      {
        "duration": -798,
        "start_time": "2022-01-09T21:52:00.414Z"
      },
      {
        "duration": -799,
        "start_time": "2022-01-09T21:52:00.417Z"
      },
      {
        "duration": -801,
        "start_time": "2022-01-09T21:52:00.420Z"
      },
      {
        "duration": -801,
        "start_time": "2022-01-09T21:52:00.422Z"
      },
      {
        "duration": -802,
        "start_time": "2022-01-09T21:52:00.425Z"
      },
      {
        "duration": -803,
        "start_time": "2022-01-09T21:52:00.427Z"
      },
      {
        "duration": -803,
        "start_time": "2022-01-09T21:52:00.429Z"
      },
      {
        "duration": -806,
        "start_time": "2022-01-09T21:52:00.433Z"
      },
      {
        "duration": -811,
        "start_time": "2022-01-09T21:52:00.440Z"
      },
      {
        "duration": -813,
        "start_time": "2022-01-09T21:52:00.444Z"
      },
      {
        "duration": -813,
        "start_time": "2022-01-09T21:52:00.446Z"
      },
      {
        "duration": -815,
        "start_time": "2022-01-09T21:52:00.449Z"
      },
      {
        "duration": -816,
        "start_time": "2022-01-09T21:52:00.452Z"
      },
      {
        "duration": -816,
        "start_time": "2022-01-09T21:52:00.454Z"
      },
      {
        "duration": -822,
        "start_time": "2022-01-09T21:52:00.461Z"
      },
      {
        "duration": -823,
        "start_time": "2022-01-09T21:52:00.464Z"
      },
      {
        "duration": -825,
        "start_time": "2022-01-09T21:52:00.468Z"
      },
      {
        "duration": -826,
        "start_time": "2022-01-09T21:52:00.470Z"
      },
      {
        "duration": -827,
        "start_time": "2022-01-09T21:52:00.473Z"
      },
      {
        "duration": -828,
        "start_time": "2022-01-09T21:52:00.475Z"
      },
      {
        "duration": -829,
        "start_time": "2022-01-09T21:52:00.478Z"
      },
      {
        "duration": -830,
        "start_time": "2022-01-09T21:52:00.480Z"
      },
      {
        "duration": -821,
        "start_time": "2022-01-09T21:52:00.488Z"
      },
      {
        "duration": -823,
        "start_time": "2022-01-09T21:52:00.491Z"
      },
      {
        "duration": -824,
        "start_time": "2022-01-09T21:52:00.494Z"
      },
      {
        "duration": -825,
        "start_time": "2022-01-09T21:52:00.496Z"
      },
      {
        "duration": -828,
        "start_time": "2022-01-09T21:52:00.500Z"
      },
      {
        "duration": -828,
        "start_time": "2022-01-09T21:52:00.502Z"
      },
      {
        "duration": -829,
        "start_time": "2022-01-09T21:52:00.505Z"
      },
      {
        "duration": -830,
        "start_time": "2022-01-09T21:52:00.507Z"
      },
      {
        "duration": -832,
        "start_time": "2022-01-09T21:52:00.510Z"
      },
      {
        "duration": 7530,
        "start_time": "2022-01-09T21:52:09.688Z"
      },
      {
        "duration": -792,
        "start_time": "2022-01-09T21:52:18.012Z"
      },
      {
        "duration": 6263,
        "start_time": "2022-01-09T21:52:20.023Z"
      },
      {
        "duration": 75,
        "start_time": "2022-01-09T21:52:30.059Z"
      },
      {
        "duration": 7,
        "start_time": "2022-01-09T21:52:30.169Z"
      },
      {
        "duration": 22,
        "start_time": "2022-01-09T21:52:30.180Z"
      },
      {
        "duration": 13,
        "start_time": "2022-01-09T21:52:30.205Z"
      },
      {
        "duration": 49,
        "start_time": "2022-01-09T21:52:30.221Z"
      },
      {
        "duration": 9,
        "start_time": "2022-01-09T21:52:30.273Z"
      },
      {
        "duration": 16,
        "start_time": "2022-01-09T21:52:30.285Z"
      },
      {
        "duration": 47,
        "start_time": "2022-01-09T21:52:30.306Z"
      },
      {
        "duration": 17,
        "start_time": "2022-01-09T21:52:30.356Z"
      },
      {
        "duration": 12,
        "start_time": "2022-01-09T21:52:30.376Z"
      },
      {
        "duration": 17,
        "start_time": "2022-01-09T21:52:30.391Z"
      },
      {
        "duration": 18,
        "start_time": "2022-01-09T21:52:30.410Z"
      },
      {
        "duration": 36,
        "start_time": "2022-01-09T21:52:30.431Z"
      },
      {
        "duration": 1037,
        "start_time": "2022-01-09T21:52:30.470Z"
      },
      {
        "duration": 978,
        "start_time": "2022-01-09T21:52:31.509Z"
      },
      {
        "duration": 1201,
        "start_time": "2022-01-09T21:52:32.490Z"
      },
      {
        "duration": 808,
        "start_time": "2022-01-09T21:52:33.694Z"
      },
      {
        "duration": 1228,
        "start_time": "2022-01-09T21:52:34.505Z"
      },
      {
        "duration": 32,
        "start_time": "2022-01-09T21:52:35.736Z"
      },
      {
        "duration": 6442,
        "start_time": "2022-01-09T21:52:35.771Z"
      },
      {
        "duration": 9,
        "start_time": "2022-01-09T21:52:42.216Z"
      },
      {
        "duration": 50,
        "start_time": "2022-01-09T21:52:42.228Z"
      },
      {
        "duration": 11,
        "start_time": "2022-01-09T21:52:42.285Z"
      },
      {
        "duration": 22,
        "start_time": "2022-01-09T21:52:42.300Z"
      },
      {
        "duration": 61,
        "start_time": "2022-01-09T21:52:42.325Z"
      },
      {
        "duration": 10,
        "start_time": "2022-01-09T21:52:42.389Z"
      },
      {
        "duration": 10,
        "start_time": "2022-01-09T21:52:42.402Z"
      },
      {
        "duration": 58,
        "start_time": "2022-01-09T21:52:42.414Z"
      },
      {
        "duration": 4760,
        "start_time": "2022-01-09T21:52:42.474Z"
      },
      {
        "duration": 4,
        "start_time": "2022-01-09T21:52:47.236Z"
      },
      {
        "duration": 33,
        "start_time": "2022-01-09T21:52:47.243Z"
      },
      {
        "duration": 75,
        "start_time": "2022-01-09T21:52:47.299Z"
      },
      {
        "duration": 66,
        "start_time": "2022-01-09T21:52:47.377Z"
      },
      {
        "duration": 27,
        "start_time": "2022-01-09T21:52:47.446Z"
      },
      {
        "duration": 11,
        "start_time": "2022-01-09T21:52:47.476Z"
      },
      {
        "duration": 119,
        "start_time": "2022-01-09T21:52:47.490Z"
      },
      {
        "duration": 1413,
        "start_time": "2022-01-09T21:52:47.611Z"
      },
      {
        "duration": 87,
        "start_time": "2022-01-09T21:52:49.027Z"
      },
      {
        "duration": 10,
        "start_time": "2022-01-09T21:52:49.117Z"
      },
      {
        "duration": 13,
        "start_time": "2022-01-09T21:53:29.468Z"
      },
      {
        "duration": 32,
        "start_time": "2022-01-09T22:20:57.560Z"
      },
      {
        "duration": 103,
        "start_time": "2022-01-09T22:21:10.380Z"
      },
      {
        "duration": 6,
        "start_time": "2022-01-09T22:21:10.487Z"
      },
      {
        "duration": 12,
        "start_time": "2022-01-09T22:21:10.497Z"
      },
      {
        "duration": 10,
        "start_time": "2022-01-09T22:21:10.512Z"
      },
      {
        "duration": 59,
        "start_time": "2022-01-09T22:21:10.525Z"
      },
      {
        "duration": 11,
        "start_time": "2022-01-09T22:21:10.587Z"
      },
      {
        "duration": 11,
        "start_time": "2022-01-09T22:21:10.601Z"
      },
      {
        "duration": 58,
        "start_time": "2022-01-09T22:21:10.618Z"
      },
      {
        "duration": 9,
        "start_time": "2022-01-09T22:21:10.680Z"
      },
      {
        "duration": 10,
        "start_time": "2022-01-09T22:21:10.692Z"
      },
      {
        "duration": 10,
        "start_time": "2022-01-09T22:21:10.704Z"
      },
      {
        "duration": 9,
        "start_time": "2022-01-09T22:21:10.717Z"
      },
      {
        "duration": 8,
        "start_time": "2022-01-09T22:21:10.767Z"
      },
      {
        "duration": 1044,
        "start_time": "2022-01-09T22:21:10.778Z"
      },
      {
        "duration": 1033,
        "start_time": "2022-01-09T22:21:11.825Z"
      },
      {
        "duration": 919,
        "start_time": "2022-01-09T22:21:12.861Z"
      },
      {
        "duration": 763,
        "start_time": "2022-01-09T22:21:13.783Z"
      },
      {
        "duration": 1129,
        "start_time": "2022-01-09T22:21:14.549Z"
      },
      {
        "duration": 12,
        "start_time": "2022-01-09T22:21:15.680Z"
      },
      {
        "duration": 6351,
        "start_time": "2022-01-09T22:21:15.694Z"
      },
      {
        "duration": 7,
        "start_time": "2022-01-09T22:21:22.047Z"
      },
      {
        "duration": 19,
        "start_time": "2022-01-09T22:21:22.068Z"
      },
      {
        "duration": 10,
        "start_time": "2022-01-09T22:21:22.093Z"
      },
      {
        "duration": 22,
        "start_time": "2022-01-09T22:21:22.106Z"
      },
      {
        "duration": 58,
        "start_time": "2022-01-09T22:21:22.130Z"
      },
      {
        "duration": 10,
        "start_time": "2022-01-09T22:21:22.191Z"
      },
      {
        "duration": 8,
        "start_time": "2022-01-09T22:21:22.203Z"
      },
      {
        "duration": 58,
        "start_time": "2022-01-09T22:21:22.214Z"
      },
      {
        "duration": 4657,
        "start_time": "2022-01-09T22:21:22.275Z"
      },
      {
        "duration": 5,
        "start_time": "2022-01-09T22:21:26.936Z"
      },
      {
        "duration": 37,
        "start_time": "2022-01-09T22:21:26.943Z"
      },
      {
        "duration": 18,
        "start_time": "2022-01-09T22:21:26.982Z"
      },
      {
        "duration": 73,
        "start_time": "2022-01-09T22:21:27.002Z"
      },
      {
        "duration": 64,
        "start_time": "2022-01-09T22:21:27.078Z"
      },
      {
        "duration": 35,
        "start_time": "2022-01-09T22:21:27.145Z"
      },
      {
        "duration": 11,
        "start_time": "2022-01-09T22:21:27.182Z"
      },
      {
        "duration": 124,
        "start_time": "2022-01-09T22:21:27.196Z"
      },
      {
        "duration": 1408,
        "start_time": "2022-01-09T22:21:27.323Z"
      },
      {
        "duration": 44,
        "start_time": "2022-01-09T22:21:28.734Z"
      },
      {
        "duration": 24,
        "start_time": "2022-01-09T22:21:57.280Z"
      },
      {
        "duration": 26,
        "start_time": "2022-01-09T22:22:15.308Z"
      },
      {
        "duration": 47,
        "start_time": "2022-01-09T22:22:31.045Z"
      },
      {
        "duration": 45,
        "start_time": "2022-01-09T22:23:35.404Z"
      },
      {
        "duration": 25,
        "start_time": "2022-01-09T22:23:58.674Z"
      },
      {
        "duration": 29,
        "start_time": "2022-01-09T22:28:00.987Z"
      },
      {
        "duration": 329,
        "start_time": "2022-01-09T22:28:16.444Z"
      },
      {
        "duration": 353,
        "start_time": "2022-01-09T22:28:22.870Z"
      },
      {
        "duration": 29,
        "start_time": "2022-01-09T22:28:29.095Z"
      },
      {
        "duration": 4362,
        "start_time": "2022-01-09T22:34:38.152Z"
      },
      {
        "duration": 103,
        "start_time": "2022-01-09T22:35:23.634Z"
      },
      {
        "duration": 86,
        "start_time": "2022-01-09T22:35:41.920Z"
      },
      {
        "duration": 101,
        "start_time": "2022-01-09T22:36:40.138Z"
      },
      {
        "duration": 38,
        "start_time": "2022-01-09T22:36:57.292Z"
      },
      {
        "duration": 40,
        "start_time": "2022-01-09T22:41:03.064Z"
      },
      {
        "duration": 37,
        "start_time": "2022-01-09T22:41:54.256Z"
      },
      {
        "duration": 31,
        "start_time": "2022-01-09T22:42:44.677Z"
      },
      {
        "duration": 2896,
        "start_time": "2022-01-09T22:43:45.435Z"
      },
      {
        "duration": 276,
        "start_time": "2022-01-09T22:44:14.195Z"
      },
      {
        "duration": 298,
        "start_time": "2022-01-09T22:44:23.701Z"
      },
      {
        "duration": 11,
        "start_time": "2022-01-09T22:44:45.210Z"
      },
      {
        "duration": 34,
        "start_time": "2022-01-09T22:44:52.418Z"
      },
      {
        "duration": 70,
        "start_time": "2022-01-09T22:45:44.011Z"
      },
      {
        "duration": 63,
        "start_time": "2022-01-09T22:46:09.760Z"
      },
      {
        "duration": 2760,
        "start_time": "2022-01-09T22:46:19.718Z"
      },
      {
        "duration": 2596,
        "start_time": "2022-01-09T22:46:56.596Z"
      },
      {
        "duration": 137,
        "start_time": "2022-01-09T22:53:18.744Z"
      },
      {
        "duration": 336,
        "start_time": "2022-01-09T22:53:24.141Z"
      },
      {
        "duration": 34,
        "start_time": "2022-01-09T22:58:07.588Z"
      },
      {
        "duration": 2839,
        "start_time": "2022-01-09T22:58:19.157Z"
      },
      {
        "duration": 2308,
        "start_time": "2022-01-09T22:58:33.495Z"
      },
      {
        "duration": 36,
        "start_time": "2022-01-09T22:58:37.967Z"
      },
      {
        "duration": 39,
        "start_time": "2022-01-09T22:59:21.732Z"
      },
      {
        "duration": 38,
        "start_time": "2022-01-09T22:59:27.282Z"
      },
      {
        "duration": 40,
        "start_time": "2022-01-09T23:06:18.601Z"
      },
      {
        "duration": 310,
        "start_time": "2022-01-09T23:06:49.473Z"
      },
      {
        "duration": 38,
        "start_time": "2022-01-09T23:07:01.379Z"
      },
      {
        "duration": 37,
        "start_time": "2022-01-09T23:08:11.387Z"
      },
      {
        "duration": 37,
        "start_time": "2022-01-09T23:08:18.787Z"
      },
      {
        "duration": 38,
        "start_time": "2022-01-09T23:10:50.599Z"
      },
      {
        "duration": 34,
        "start_time": "2022-01-09T23:11:37.229Z"
      },
      {
        "duration": 38,
        "start_time": "2022-01-09T23:13:06.087Z"
      },
      {
        "duration": 35,
        "start_time": "2022-01-09T23:14:26.520Z"
      },
      {
        "duration": 30,
        "start_time": "2022-01-09T23:15:17.479Z"
      },
      {
        "duration": 48,
        "start_time": "2022-01-09T23:15:40.023Z"
      },
      {
        "duration": 28,
        "start_time": "2022-01-09T23:17:22.623Z"
      },
      {
        "duration": 27,
        "start_time": "2022-01-09T23:19:06.457Z"
      },
      {
        "duration": 77,
        "start_time": "2022-01-09T23:19:42.551Z"
      },
      {
        "duration": 39,
        "start_time": "2022-01-09T23:19:42.631Z"
      },
      {
        "duration": 6,
        "start_time": "2022-01-09T23:19:42.673Z"
      },
      {
        "duration": 8,
        "start_time": "2022-01-09T23:19:42.681Z"
      },
      {
        "duration": 23,
        "start_time": "2022-01-09T23:19:42.691Z"
      },
      {
        "duration": 51,
        "start_time": "2022-01-09T23:19:42.716Z"
      },
      {
        "duration": 8,
        "start_time": "2022-01-09T23:19:42.770Z"
      },
      {
        "duration": 24,
        "start_time": "2022-01-09T23:19:42.782Z"
      },
      {
        "duration": 8,
        "start_time": "2022-01-09T23:19:42.809Z"
      },
      {
        "duration": 7,
        "start_time": "2022-01-09T23:19:42.819Z"
      },
      {
        "duration": 46,
        "start_time": "2022-01-09T23:19:42.828Z"
      },
      {
        "duration": 10,
        "start_time": "2022-01-09T23:19:42.876Z"
      },
      {
        "duration": 8,
        "start_time": "2022-01-09T23:19:42.888Z"
      },
      {
        "duration": 1013,
        "start_time": "2022-01-09T23:19:42.899Z"
      },
      {
        "duration": 1119,
        "start_time": "2022-01-09T23:19:43.915Z"
      },
      {
        "duration": 941,
        "start_time": "2022-01-09T23:19:45.037Z"
      },
      {
        "duration": 837,
        "start_time": "2022-01-09T23:19:45.980Z"
      },
      {
        "duration": 1083,
        "start_time": "2022-01-09T23:19:46.819Z"
      },
      {
        "duration": 12,
        "start_time": "2022-01-09T23:19:47.904Z"
      },
      {
        "duration": 6118,
        "start_time": "2022-01-09T23:19:47.918Z"
      },
      {
        "duration": 8,
        "start_time": "2022-01-09T23:19:54.040Z"
      },
      {
        "duration": 34,
        "start_time": "2022-01-09T23:19:54.050Z"
      },
      {
        "duration": 10,
        "start_time": "2022-01-09T23:19:54.088Z"
      },
      {
        "duration": 19,
        "start_time": "2022-01-09T23:19:54.101Z"
      },
      {
        "duration": 63,
        "start_time": "2022-01-09T23:19:54.123Z"
      },
      {
        "duration": 12,
        "start_time": "2022-01-09T23:19:54.189Z"
      },
      {
        "duration": 10,
        "start_time": "2022-01-09T23:19:54.204Z"
      },
      {
        "duration": 54,
        "start_time": "2022-01-09T23:19:54.217Z"
      },
      {
        "duration": 4798,
        "start_time": "2022-01-09T23:19:54.275Z"
      },
      {
        "duration": 3,
        "start_time": "2022-01-09T23:19:59.076Z"
      },
      {
        "duration": 27,
        "start_time": "2022-01-09T23:19:59.081Z"
      },
      {
        "duration": 16,
        "start_time": "2022-01-09T23:19:59.111Z"
      },
      {
        "duration": 54,
        "start_time": "2022-01-09T23:19:59.130Z"
      },
      {
        "duration": 31,
        "start_time": "2022-01-09T23:19:59.187Z"
      },
      {
        "duration": 74,
        "start_time": "2022-01-09T23:19:59.221Z"
      },
      {
        "duration": 32,
        "start_time": "2022-01-09T23:20:34.513Z"
      },
      {
        "duration": 30,
        "start_time": "2022-01-09T23:20:38.297Z"
      },
      {
        "duration": 1094,
        "start_time": "2022-01-11T10:42:52.378Z"
      },
      {
        "duration": 7,
        "start_time": "2022-01-11T10:42:53.475Z"
      },
      {
        "duration": 19,
        "start_time": "2022-01-11T10:42:53.485Z"
      },
      {
        "duration": 7,
        "start_time": "2022-01-11T10:42:53.524Z"
      },
      {
        "duration": 19,
        "start_time": "2022-01-11T10:42:53.534Z"
      },
      {
        "duration": 9,
        "start_time": "2022-01-11T10:42:53.555Z"
      },
      {
        "duration": 8,
        "start_time": "2022-01-11T10:42:53.566Z"
      },
      {
        "duration": 65,
        "start_time": "2022-01-11T10:42:53.578Z"
      },
      {
        "duration": 7,
        "start_time": "2022-01-11T10:42:53.645Z"
      },
      {
        "duration": 10,
        "start_time": "2022-01-11T10:42:53.655Z"
      },
      {
        "duration": 12,
        "start_time": "2022-01-11T10:42:53.668Z"
      },
      {
        "duration": 46,
        "start_time": "2022-01-11T10:42:53.682Z"
      },
      {
        "duration": 8,
        "start_time": "2022-01-11T10:42:53.731Z"
      },
      {
        "duration": 1509,
        "start_time": "2022-01-11T10:42:53.742Z"
      },
      {
        "duration": 660,
        "start_time": "2022-01-11T10:42:55.254Z"
      },
      {
        "duration": 652,
        "start_time": "2022-01-11T10:42:55.923Z"
      },
      {
        "duration": 521,
        "start_time": "2022-01-11T10:42:56.578Z"
      },
      {
        "duration": 805,
        "start_time": "2022-01-11T10:42:57.103Z"
      },
      {
        "duration": 21,
        "start_time": "2022-01-11T10:42:57.910Z"
      },
      {
        "duration": 5643,
        "start_time": "2022-01-11T10:42:57.934Z"
      },
      {
        "duration": 6,
        "start_time": "2022-01-11T10:43:03.580Z"
      },
      {
        "duration": 39,
        "start_time": "2022-01-11T10:43:03.588Z"
      },
      {
        "duration": 10,
        "start_time": "2022-01-11T10:43:03.635Z"
      },
      {
        "duration": 20,
        "start_time": "2022-01-11T10:43:03.648Z"
      },
      {
        "duration": 54,
        "start_time": "2022-01-11T10:43:03.671Z"
      },
      {
        "duration": 10,
        "start_time": "2022-01-11T10:43:03.727Z"
      },
      {
        "duration": 6,
        "start_time": "2022-01-11T10:43:03.739Z"
      },
      {
        "duration": 304,
        "start_time": "2022-01-11T10:43:03.748Z"
      },
      {
        "duration": 5492,
        "start_time": "2022-01-11T10:43:04.054Z"
      },
      {
        "duration": 5,
        "start_time": "2022-01-11T10:43:09.549Z"
      },
      {
        "duration": 23,
        "start_time": "2022-01-11T10:43:09.557Z"
      },
      {
        "duration": 46,
        "start_time": "2022-01-11T10:43:09.583Z"
      },
      {
        "duration": 32,
        "start_time": "2022-01-11T10:43:09.631Z"
      },
      {
        "duration": 29,
        "start_time": "2022-01-11T10:43:09.666Z"
      },
      {
        "duration": 61,
        "start_time": "2022-01-11T10:43:09.697Z"
      },
      {
        "duration": 33,
        "start_time": "2022-01-11T10:43:09.760Z"
      },
      {
        "duration": 89,
        "start_time": "2022-01-11T10:43:09.796Z"
      },
      {
        "duration": 13,
        "start_time": "2022-01-11T10:43:09.888Z"
      },
      {
        "duration": 9,
        "start_time": "2022-01-11T10:43:09.924Z"
      },
      {
        "duration": 38,
        "start_time": "2022-01-11T10:43:09.936Z"
      },
      {
        "duration": 109,
        "start_time": "2022-01-11T10:43:09.976Z"
      },
      {
        "duration": 1399,
        "start_time": "2022-01-11T10:43:10.088Z"
      },
      {
        "duration": 62,
        "start_time": "2022-01-11T10:43:11.490Z"
      },
      {
        "duration": 109,
        "start_time": "2022-01-11T10:43:11.555Z"
      },
      {
        "duration": 420,
        "start_time": "2022-01-11T22:03:33.237Z"
      },
      {
        "duration": 887,
        "start_time": "2022-01-11T22:03:39.818Z"
      },
      {
        "duration": 5,
        "start_time": "2022-01-11T22:03:40.708Z"
      },
      {
        "duration": 13,
        "start_time": "2022-01-11T22:03:40.716Z"
      },
      {
        "duration": 7,
        "start_time": "2022-01-11T22:03:40.732Z"
      },
      {
        "duration": 44,
        "start_time": "2022-01-11T22:03:40.741Z"
      },
      {
        "duration": 7,
        "start_time": "2022-01-11T22:03:40.787Z"
      },
      {
        "duration": 8,
        "start_time": "2022-01-11T22:03:40.797Z"
      },
      {
        "duration": 69,
        "start_time": "2022-01-11T22:03:40.807Z"
      },
      {
        "duration": 6,
        "start_time": "2022-01-11T22:03:40.881Z"
      },
      {
        "duration": 8,
        "start_time": "2022-01-11T22:03:40.890Z"
      },
      {
        "duration": 9,
        "start_time": "2022-01-11T22:03:40.900Z"
      },
      {
        "duration": 10,
        "start_time": "2022-01-11T22:03:40.912Z"
      },
      {
        "duration": 46,
        "start_time": "2022-01-11T22:03:40.925Z"
      },
      {
        "duration": 1400,
        "start_time": "2022-01-11T22:03:40.977Z"
      },
      {
        "duration": 691,
        "start_time": "2022-01-11T22:03:42.380Z"
      },
      {
        "duration": 718,
        "start_time": "2022-01-11T22:03:43.074Z"
      },
      {
        "duration": 500,
        "start_time": "2022-01-11T22:03:43.794Z"
      },
      {
        "duration": 842,
        "start_time": "2022-01-11T22:03:44.296Z"
      },
      {
        "duration": 29,
        "start_time": "2022-01-11T22:03:45.141Z"
      },
      {
        "duration": 6057,
        "start_time": "2022-01-11T22:03:45.174Z"
      },
      {
        "duration": 6,
        "start_time": "2022-01-11T22:03:51.234Z"
      },
      {
        "duration": 38,
        "start_time": "2022-01-11T22:03:51.243Z"
      },
      {
        "duration": 9,
        "start_time": "2022-01-11T22:03:51.284Z"
      },
      {
        "duration": 21,
        "start_time": "2022-01-11T22:03:51.295Z"
      },
      {
        "duration": 62,
        "start_time": "2022-01-11T22:03:51.318Z"
      },
      {
        "duration": 9,
        "start_time": "2022-01-11T22:03:51.384Z"
      },
      {
        "duration": 8,
        "start_time": "2022-01-11T22:03:58.680Z"
      },
      {
        "duration": 207,
        "start_time": "2022-01-16T16:23:04.503Z"
      },
      {
        "duration": 665,
        "start_time": "2022-01-16T16:23:10.067Z"
      },
      {
        "duration": 4,
        "start_time": "2022-01-16T16:23:10.734Z"
      },
      {
        "duration": 15,
        "start_time": "2022-01-16T16:23:10.740Z"
      },
      {
        "duration": 3,
        "start_time": "2022-01-16T16:23:10.757Z"
      },
      {
        "duration": 6,
        "start_time": "2022-01-16T16:23:10.762Z"
      },
      {
        "duration": 12,
        "start_time": "2022-01-16T16:23:10.792Z"
      },
      {
        "duration": 7,
        "start_time": "2022-01-16T16:23:10.806Z"
      },
      {
        "duration": 8,
        "start_time": "2022-01-16T16:23:10.815Z"
      },
      {
        "duration": 25,
        "start_time": "2022-01-16T16:23:10.826Z"
      },
      {
        "duration": 4,
        "start_time": "2022-01-16T16:23:10.853Z"
      },
      {
        "duration": 7,
        "start_time": "2022-01-16T16:23:10.891Z"
      },
      {
        "duration": 7,
        "start_time": "2022-01-16T16:23:10.899Z"
      },
      {
        "duration": 9,
        "start_time": "2022-01-16T16:23:10.907Z"
      },
      {
        "duration": 8,
        "start_time": "2022-01-16T16:23:10.917Z"
      },
      {
        "duration": 1082,
        "start_time": "2022-01-16T16:23:10.927Z"
      },
      {
        "duration": 432,
        "start_time": "2022-01-16T16:23:12.011Z"
      },
      {
        "duration": 504,
        "start_time": "2022-01-16T16:23:12.444Z"
      },
      {
        "duration": 404,
        "start_time": "2022-01-16T16:23:12.949Z"
      },
      {
        "duration": 588,
        "start_time": "2022-01-16T16:23:13.355Z"
      },
      {
        "duration": 8,
        "start_time": "2022-01-16T16:23:13.945Z"
      },
      {
        "duration": 3038,
        "start_time": "2022-01-16T16:23:13.955Z"
      },
      {
        "duration": 6,
        "start_time": "2022-01-16T16:23:16.995Z"
      },
      {
        "duration": 34,
        "start_time": "2022-01-16T16:23:17.003Z"
      },
      {
        "duration": 15,
        "start_time": "2022-01-16T16:23:17.039Z"
      },
      {
        "duration": 25,
        "start_time": "2022-01-16T16:23:17.056Z"
      },
      {
        "duration": 17,
        "start_time": "2022-01-16T16:23:17.083Z"
      },
      {
        "duration": 9,
        "start_time": "2022-01-16T16:23:17.103Z"
      },
      {
        "duration": 22,
        "start_time": "2022-01-16T16:23:17.114Z"
      },
      {
        "duration": 17,
        "start_time": "2022-01-16T16:23:17.138Z"
      },
      {
        "duration": 197,
        "start_time": "2022-01-16T16:23:17.157Z"
      },
      {
        "duration": 3675,
        "start_time": "2022-01-16T16:23:17.355Z"
      },
      {
        "duration": 3,
        "start_time": "2022-01-16T16:23:21.032Z"
      },
      {
        "duration": 28,
        "start_time": "2022-01-16T16:23:21.037Z"
      },
      {
        "duration": 27,
        "start_time": "2022-01-16T16:23:21.067Z"
      },
      {
        "duration": 23,
        "start_time": "2022-01-16T16:23:21.096Z"
      },
      {
        "duration": 19,
        "start_time": "2022-01-16T16:23:21.121Z"
      },
      {
        "duration": 33,
        "start_time": "2022-01-16T16:23:21.142Z"
      },
      {
        "duration": 33,
        "start_time": "2022-01-16T16:23:21.191Z"
      },
      {
        "duration": 44,
        "start_time": "2022-01-16T16:23:21.226Z"
      },
      {
        "duration": 10,
        "start_time": "2022-01-16T16:23:21.291Z"
      },
      {
        "duration": 8,
        "start_time": "2022-01-16T16:23:21.303Z"
      },
      {
        "duration": 24,
        "start_time": "2022-01-16T16:23:21.312Z"
      },
      {
        "duration": 85,
        "start_time": "2022-01-16T16:23:21.338Z"
      },
      {
        "duration": 853,
        "start_time": "2022-01-16T16:23:21.424Z"
      },
      {
        "duration": 31,
        "start_time": "2022-01-16T16:23:22.278Z"
      },
      {
        "duration": 49,
        "start_time": "2022-01-16T16:23:22.310Z"
      },
      {
        "duration": 5,
        "start_time": "2022-01-16T16:24:00.695Z"
      },
      {
        "duration": 21,
        "start_time": "2022-01-16T16:24:12.657Z"
      },
      {
        "duration": 79,
        "start_time": "2022-01-16T16:24:30.438Z"
      },
      {
        "duration": 4,
        "start_time": "2022-01-16T16:24:30.519Z"
      },
      {
        "duration": 6,
        "start_time": "2022-01-16T16:24:35.885Z"
      },
      {
        "duration": 5,
        "start_time": "2022-01-16T16:24:48.625Z"
      },
      {
        "duration": 5,
        "start_time": "2022-01-16T16:24:58.199Z"
      },
      {
        "duration": 61,
        "start_time": "2022-01-16T16:25:14.247Z"
      },
      {
        "duration": 5,
        "start_time": "2022-01-16T16:25:20.062Z"
      },
      {
        "duration": 35,
        "start_time": "2022-01-16T16:27:57.847Z"
      },
      {
        "duration": 17,
        "start_time": "2022-01-16T16:30:42.729Z"
      },
      {
        "duration": 58,
        "start_time": "2022-01-16T16:30:52.353Z"
      },
      {
        "duration": 3,
        "start_time": "2022-01-16T16:30:52.413Z"
      },
      {
        "duration": 8,
        "start_time": "2022-01-16T16:30:52.418Z"
      },
      {
        "duration": 6,
        "start_time": "2022-01-16T16:30:52.427Z"
      },
      {
        "duration": 5,
        "start_time": "2022-01-16T16:30:52.435Z"
      },
      {
        "duration": 13,
        "start_time": "2022-01-16T16:30:52.442Z"
      },
      {
        "duration": 39,
        "start_time": "2022-01-16T16:30:52.456Z"
      },
      {
        "duration": 9,
        "start_time": "2022-01-16T16:30:52.497Z"
      },
      {
        "duration": 19,
        "start_time": "2022-01-16T16:30:52.508Z"
      },
      {
        "duration": 5,
        "start_time": "2022-01-16T16:30:52.529Z"
      },
      {
        "duration": 6,
        "start_time": "2022-01-16T16:30:52.536Z"
      },
      {
        "duration": 8,
        "start_time": "2022-01-16T16:30:52.543Z"
      },
      {
        "duration": 73,
        "start_time": "2022-01-16T16:30:52.552Z"
      },
      {
        "duration": 6,
        "start_time": "2022-01-16T16:30:52.627Z"
      },
      {
        "duration": 6,
        "start_time": "2022-01-16T16:30:52.634Z"
      },
      {
        "duration": 723,
        "start_time": "2022-01-16T16:30:52.641Z"
      },
      {
        "duration": 656,
        "start_time": "2022-01-16T16:30:53.366Z"
      },
      {
        "duration": 642,
        "start_time": "2022-01-16T16:30:54.024Z"
      },
      {
        "duration": 691,
        "start_time": "2022-01-16T16:30:54.668Z"
      },
      {
        "duration": 773,
        "start_time": "2022-01-16T16:30:55.361Z"
      },
      {
        "duration": 8,
        "start_time": "2022-01-16T16:30:56.136Z"
      },
      {
        "duration": 3334,
        "start_time": "2022-01-16T16:30:56.146Z"
      },
      {
        "duration": 8,
        "start_time": "2022-01-16T16:30:59.483Z"
      },
      {
        "duration": 20,
        "start_time": "2022-01-16T16:30:59.493Z"
      },
      {
        "duration": 9,
        "start_time": "2022-01-16T16:30:59.515Z"
      },
      {
        "duration": 16,
        "start_time": "2022-01-16T16:30:59.526Z"
      },
      {
        "duration": 53,
        "start_time": "2022-01-16T16:30:59.543Z"
      },
      {
        "duration": 8,
        "start_time": "2022-01-16T16:30:59.598Z"
      },
      {
        "duration": 21,
        "start_time": "2022-01-16T16:30:59.607Z"
      },
      {
        "duration": 7,
        "start_time": "2022-01-16T16:31:15.743Z"
      },
      {
        "duration": 6,
        "start_time": "2022-01-16T16:31:25.418Z"
      },
      {
        "duration": 8,
        "start_time": "2022-01-16T16:32:07.745Z"
      },
      {
        "duration": 26,
        "start_time": "2022-01-16T16:32:27.613Z"
      },
      {
        "duration": 24,
        "start_time": "2022-01-16T16:32:54.987Z"
      },
      {
        "duration": 264,
        "start_time": "2022-01-16T16:33:02.148Z"
      },
      {
        "duration": 16,
        "start_time": "2022-01-16T16:33:27.712Z"
      },
      {
        "duration": 17,
        "start_time": "2022-01-16T16:33:40.377Z"
      },
      {
        "duration": 17,
        "start_time": "2022-01-16T16:33:44.481Z"
      },
      {
        "duration": 19,
        "start_time": "2022-01-16T16:34:02.168Z"
      },
      {
        "duration": 18,
        "start_time": "2022-01-16T16:35:40.710Z"
      },
      {
        "duration": 39,
        "start_time": "2022-01-16T16:39:02.234Z"
      },
      {
        "duration": 33,
        "start_time": "2022-01-16T16:39:18.420Z"
      },
      {
        "duration": 40,
        "start_time": "2022-01-16T16:43:35.217Z"
      },
      {
        "duration": 16,
        "start_time": "2022-01-16T16:43:54.622Z"
      },
      {
        "duration": 22,
        "start_time": "2022-01-16T16:44:01.114Z"
      },
      {
        "duration": 17,
        "start_time": "2022-01-16T16:44:04.209Z"
      },
      {
        "duration": 14,
        "start_time": "2022-01-16T16:50:32.228Z"
      },
      {
        "duration": 16,
        "start_time": "2022-01-16T16:50:58.980Z"
      },
      {
        "duration": 4,
        "start_time": "2022-01-16T16:52:30.835Z"
      },
      {
        "duration": 52,
        "start_time": "2022-01-16T16:59:45.915Z"
      },
      {
        "duration": 6,
        "start_time": "2022-01-16T17:00:06.046Z"
      },
      {
        "duration": 58,
        "start_time": "2022-01-16T17:07:50.015Z"
      },
      {
        "duration": 61,
        "start_time": "2022-01-16T17:07:56.523Z"
      },
      {
        "duration": 70,
        "start_time": "2022-01-16T17:08:08.168Z"
      },
      {
        "duration": 62,
        "start_time": "2022-01-16T17:08:37.676Z"
      },
      {
        "duration": 62,
        "start_time": "2022-01-16T17:08:50.759Z"
      },
      {
        "duration": 55,
        "start_time": "2022-01-16T17:09:47.713Z"
      },
      {
        "duration": 2441,
        "start_time": "2022-01-16T17:25:35.831Z"
      },
      {
        "duration": 2455,
        "start_time": "2022-01-16T17:26:11.251Z"
      },
      {
        "duration": 55,
        "start_time": "2022-01-16T17:26:35.680Z"
      },
      {
        "duration": 3,
        "start_time": "2022-01-16T17:26:35.737Z"
      },
      {
        "duration": 5,
        "start_time": "2022-01-16T17:26:35.742Z"
      },
      {
        "duration": 5,
        "start_time": "2022-01-16T17:26:35.749Z"
      },
      {
        "duration": 5,
        "start_time": "2022-01-16T17:26:35.755Z"
      },
      {
        "duration": 40,
        "start_time": "2022-01-16T17:26:35.762Z"
      },
      {
        "duration": 6,
        "start_time": "2022-01-16T17:26:35.804Z"
      },
      {
        "duration": 7,
        "start_time": "2022-01-16T17:26:35.813Z"
      },
      {
        "duration": 20,
        "start_time": "2022-01-16T17:26:35.822Z"
      },
      {
        "duration": 5,
        "start_time": "2022-01-16T17:26:35.844Z"
      },
      {
        "duration": 6,
        "start_time": "2022-01-16T17:26:35.851Z"
      },
      {
        "duration": 38,
        "start_time": "2022-01-16T17:26:35.859Z"
      },
      {
        "duration": 33,
        "start_time": "2022-01-16T17:26:35.899Z"
      },
      {
        "duration": 5,
        "start_time": "2022-01-16T17:26:35.934Z"
      },
      {
        "duration": 7,
        "start_time": "2022-01-16T17:26:35.941Z"
      },
      {
        "duration": 17,
        "start_time": "2022-01-16T17:26:35.949Z"
      },
      {
        "duration": 27,
        "start_time": "2022-01-16T17:26:35.967Z"
      },
      {
        "duration": 5809,
        "start_time": "2022-01-16T17:26:45.828Z"
      },
      {
        "duration": 2298,
        "start_time": "2022-01-16T17:26:55.961Z"
      },
      {
        "duration": 2240,
        "start_time": "2022-01-16T17:28:21.722Z"
      },
      {
        "duration": 55,
        "start_time": "2022-01-16T17:28:33.444Z"
      },
      {
        "duration": 4,
        "start_time": "2022-01-16T17:28:33.501Z"
      },
      {
        "duration": 5,
        "start_time": "2022-01-16T17:28:33.507Z"
      },
      {
        "duration": 4,
        "start_time": "2022-01-16T17:28:33.514Z"
      },
      {
        "duration": 6,
        "start_time": "2022-01-16T17:28:33.519Z"
      },
      {
        "duration": 14,
        "start_time": "2022-01-16T17:28:33.526Z"
      },
      {
        "duration": 7,
        "start_time": "2022-01-16T17:28:33.542Z"
      },
      {
        "duration": 40,
        "start_time": "2022-01-16T17:28:33.551Z"
      },
      {
        "duration": 16,
        "start_time": "2022-01-16T17:28:33.593Z"
      },
      {
        "duration": 6,
        "start_time": "2022-01-16T17:28:33.610Z"
      },
      {
        "duration": 7,
        "start_time": "2022-01-16T17:28:33.617Z"
      },
      {
        "duration": 7,
        "start_time": "2022-01-16T17:28:33.625Z"
      },
      {
        "duration": 59,
        "start_time": "2022-01-16T17:28:33.634Z"
      },
      {
        "duration": 6,
        "start_time": "2022-01-16T17:28:33.695Z"
      },
      {
        "duration": 2,
        "start_time": "2022-01-16T17:28:33.703Z"
      },
      {
        "duration": 16,
        "start_time": "2022-01-16T17:28:33.707Z"
      },
      {
        "duration": 6,
        "start_time": "2022-01-16T17:28:37.071Z"
      },
      {
        "duration": 6012,
        "start_time": "2022-01-16T17:31:36.361Z"
      },
      {
        "duration": 2373,
        "start_time": "2022-01-16T17:31:57.099Z"
      },
      {
        "duration": 55,
        "start_time": "2022-01-16T17:32:14.857Z"
      },
      {
        "duration": 4,
        "start_time": "2022-01-16T17:32:14.914Z"
      },
      {
        "duration": 7,
        "start_time": "2022-01-16T17:32:14.919Z"
      },
      {
        "duration": 7,
        "start_time": "2022-01-16T17:32:14.928Z"
      },
      {
        "duration": 6,
        "start_time": "2022-01-16T17:32:14.936Z"
      },
      {
        "duration": 13,
        "start_time": "2022-01-16T17:32:14.944Z"
      },
      {
        "duration": 6,
        "start_time": "2022-01-16T17:32:14.958Z"
      },
      {
        "duration": 6,
        "start_time": "2022-01-16T17:32:14.992Z"
      },
      {
        "duration": 24,
        "start_time": "2022-01-16T17:32:15.000Z"
      },
      {
        "duration": 7,
        "start_time": "2022-01-16T17:32:15.026Z"
      },
      {
        "duration": 7,
        "start_time": "2022-01-16T17:32:15.035Z"
      },
      {
        "duration": 9,
        "start_time": "2022-01-16T17:32:15.043Z"
      },
      {
        "duration": 56,
        "start_time": "2022-01-16T17:32:15.053Z"
      },
      {
        "duration": 6,
        "start_time": "2022-01-16T17:32:15.110Z"
      },
      {
        "duration": 5,
        "start_time": "2022-01-16T17:32:15.117Z"
      },
      {
        "duration": 14,
        "start_time": "2022-01-16T17:32:15.124Z"
      },
      {
        "duration": 5,
        "start_time": "2022-01-16T17:32:15.140Z"
      },
      {
        "duration": 5839,
        "start_time": "2022-01-16T17:32:18.800Z"
      },
      {
        "duration": 2199,
        "start_time": "2022-01-16T17:34:51.941Z"
      },
      {
        "duration": 68,
        "start_time": "2022-01-16T17:35:00.381Z"
      },
      {
        "duration": 5,
        "start_time": "2022-01-16T17:35:00.451Z"
      },
      {
        "duration": 23,
        "start_time": "2022-01-16T17:35:00.458Z"
      },
      {
        "duration": 24,
        "start_time": "2022-01-16T17:35:00.483Z"
      },
      {
        "duration": 24,
        "start_time": "2022-01-16T17:35:00.509Z"
      },
      {
        "duration": 22,
        "start_time": "2022-01-16T17:35:00.535Z"
      },
      {
        "duration": 11,
        "start_time": "2022-01-16T17:35:00.559Z"
      },
      {
        "duration": 33,
        "start_time": "2022-01-16T17:35:00.573Z"
      },
      {
        "duration": 47,
        "start_time": "2022-01-16T17:35:00.608Z"
      },
      {
        "duration": 22,
        "start_time": "2022-01-16T17:35:00.656Z"
      },
      {
        "duration": 26,
        "start_time": "2022-01-16T17:35:00.680Z"
      },
      {
        "duration": 15,
        "start_time": "2022-01-16T17:35:00.708Z"
      },
      {
        "duration": 61,
        "start_time": "2022-01-16T17:35:00.725Z"
      },
      {
        "duration": 6,
        "start_time": "2022-01-16T17:35:00.788Z"
      },
      {
        "duration": 7,
        "start_time": "2022-01-16T17:35:00.796Z"
      },
      {
        "duration": 19,
        "start_time": "2022-01-16T17:35:00.805Z"
      },
      {
        "duration": 6,
        "start_time": "2022-01-16T17:35:00.826Z"
      },
      {
        "duration": 193,
        "start_time": "2022-01-16T17:35:03.436Z"
      },
      {
        "duration": 26,
        "start_time": "2022-01-16T17:35:50.695Z"
      },
      {
        "duration": 189,
        "start_time": "2022-01-16T17:37:09.815Z"
      },
      {
        "duration": 57,
        "start_time": "2022-01-16T17:39:39.051Z"
      },
      {
        "duration": 4,
        "start_time": "2022-01-16T17:39:39.110Z"
      },
      {
        "duration": 18,
        "start_time": "2022-01-16T17:39:39.116Z"
      },
      {
        "duration": 6,
        "start_time": "2022-01-16T17:39:39.136Z"
      },
      {
        "duration": 18,
        "start_time": "2022-01-16T17:39:39.144Z"
      },
      {
        "duration": 18,
        "start_time": "2022-01-16T17:39:39.163Z"
      },
      {
        "duration": 18,
        "start_time": "2022-01-16T17:39:39.182Z"
      },
      {
        "duration": 6,
        "start_time": "2022-01-16T17:39:39.203Z"
      },
      {
        "duration": 17,
        "start_time": "2022-01-16T17:39:39.211Z"
      },
      {
        "duration": 11,
        "start_time": "2022-01-16T17:39:39.229Z"
      },
      {
        "duration": 9,
        "start_time": "2022-01-16T17:39:39.241Z"
      },
      {
        "duration": 7,
        "start_time": "2022-01-16T17:39:39.252Z"
      },
      {
        "duration": 46,
        "start_time": "2022-01-16T17:39:39.260Z"
      },
      {
        "duration": 5,
        "start_time": "2022-01-16T17:39:39.308Z"
      },
      {
        "duration": 5,
        "start_time": "2022-01-16T17:39:39.315Z"
      },
      {
        "duration": 17,
        "start_time": "2022-01-16T17:39:39.321Z"
      },
      {
        "duration": 5,
        "start_time": "2022-01-16T17:39:39.339Z"
      },
      {
        "duration": 291,
        "start_time": "2022-01-16T17:39:41.242Z"
      },
      {
        "duration": 2184,
        "start_time": "2022-01-16T17:39:48.038Z"
      },
      {
        "duration": 57,
        "start_time": "2022-01-16T17:42:16.487Z"
      },
      {
        "duration": 4,
        "start_time": "2022-01-16T17:42:16.546Z"
      },
      {
        "duration": 5,
        "start_time": "2022-01-16T17:42:16.552Z"
      },
      {
        "duration": 4,
        "start_time": "2022-01-16T17:42:16.559Z"
      },
      {
        "duration": 27,
        "start_time": "2022-01-16T17:42:16.565Z"
      },
      {
        "duration": 12,
        "start_time": "2022-01-16T17:42:16.594Z"
      },
      {
        "duration": 6,
        "start_time": "2022-01-16T17:42:16.607Z"
      },
      {
        "duration": 7,
        "start_time": "2022-01-16T17:42:16.615Z"
      },
      {
        "duration": 17,
        "start_time": "2022-01-16T17:42:16.624Z"
      },
      {
        "duration": 49,
        "start_time": "2022-01-16T17:42:16.643Z"
      },
      {
        "duration": 7,
        "start_time": "2022-01-16T17:42:16.694Z"
      },
      {
        "duration": 9,
        "start_time": "2022-01-16T17:42:16.702Z"
      },
      {
        "duration": 33,
        "start_time": "2022-01-16T17:42:16.713Z"
      },
      {
        "duration": 7,
        "start_time": "2022-01-16T17:42:16.748Z"
      },
      {
        "duration": 2,
        "start_time": "2022-01-16T17:42:16.792Z"
      },
      {
        "duration": 18,
        "start_time": "2022-01-16T17:42:16.796Z"
      },
      {
        "duration": 7,
        "start_time": "2022-01-16T17:42:16.816Z"
      },
      {
        "duration": 58,
        "start_time": "2022-01-16T17:42:19.233Z"
      },
      {
        "duration": 2230,
        "start_time": "2022-01-16T17:42:27.792Z"
      },
      {
        "duration": 6,
        "start_time": "2022-01-16T17:43:08.412Z"
      },
      {
        "duration": 54,
        "start_time": "2022-01-16T17:44:22.376Z"
      },
      {
        "duration": 3,
        "start_time": "2022-01-16T17:44:22.432Z"
      },
      {
        "duration": 6,
        "start_time": "2022-01-16T17:44:22.437Z"
      },
      {
        "duration": 5,
        "start_time": "2022-01-16T17:44:22.445Z"
      },
      {
        "duration": 40,
        "start_time": "2022-01-16T17:44:22.452Z"
      },
      {
        "duration": 13,
        "start_time": "2022-01-16T17:44:22.494Z"
      },
      {
        "duration": 6,
        "start_time": "2022-01-16T17:44:22.509Z"
      },
      {
        "duration": 7,
        "start_time": "2022-01-16T17:44:22.517Z"
      },
      {
        "duration": 16,
        "start_time": "2022-01-16T17:44:22.526Z"
      },
      {
        "duration": 4,
        "start_time": "2022-01-16T17:44:22.543Z"
      },
      {
        "duration": 5,
        "start_time": "2022-01-16T17:44:22.549Z"
      },
      {
        "duration": 6,
        "start_time": "2022-01-16T17:44:22.591Z"
      },
      {
        "duration": 33,
        "start_time": "2022-01-16T17:44:22.599Z"
      },
      {
        "duration": 5,
        "start_time": "2022-01-16T17:44:22.634Z"
      },
      {
        "duration": 3,
        "start_time": "2022-01-16T17:44:22.641Z"
      },
      {
        "duration": 17,
        "start_time": "2022-01-16T17:44:22.645Z"
      },
      {
        "duration": 29,
        "start_time": "2022-01-16T17:44:22.664Z"
      },
      {
        "duration": 7976,
        "start_time": "2022-01-16T17:44:24.786Z"
      },
      {
        "duration": 5,
        "start_time": "2022-01-16T17:44:36.802Z"
      },
      {
        "duration": 179,
        "start_time": "2022-01-16T17:48:37.819Z"
      },
      {
        "duration": 5,
        "start_time": "2022-01-16T17:48:44.882Z"
      },
      {
        "duration": 7,
        "start_time": "2022-01-16T17:49:01.725Z"
      },
      {
        "duration": 56,
        "start_time": "2022-01-16T17:49:08.583Z"
      },
      {
        "duration": 4,
        "start_time": "2022-01-16T17:49:08.641Z"
      },
      {
        "duration": 21,
        "start_time": "2022-01-16T17:49:08.647Z"
      },
      {
        "duration": 11,
        "start_time": "2022-01-16T17:49:08.670Z"
      },
      {
        "duration": 19,
        "start_time": "2022-01-16T17:49:08.683Z"
      },
      {
        "duration": 15,
        "start_time": "2022-01-16T17:49:08.703Z"
      },
      {
        "duration": 33,
        "start_time": "2022-01-16T17:49:08.719Z"
      },
      {
        "duration": 17,
        "start_time": "2022-01-16T17:49:08.754Z"
      },
      {
        "duration": 28,
        "start_time": "2022-01-16T17:49:08.772Z"
      },
      {
        "duration": 21,
        "start_time": "2022-01-16T17:49:08.801Z"
      },
      {
        "duration": 10,
        "start_time": "2022-01-16T17:49:08.824Z"
      },
      {
        "duration": 14,
        "start_time": "2022-01-16T17:49:08.836Z"
      },
      {
        "duration": 56,
        "start_time": "2022-01-16T17:49:08.851Z"
      },
      {
        "duration": 5,
        "start_time": "2022-01-16T17:49:08.909Z"
      },
      {
        "duration": 10,
        "start_time": "2022-01-16T17:49:08.916Z"
      },
      {
        "duration": 27,
        "start_time": "2022-01-16T17:49:08.927Z"
      },
      {
        "duration": 7,
        "start_time": "2022-01-16T17:49:08.955Z"
      },
      {
        "duration": 6,
        "start_time": "2022-01-16T17:49:11.554Z"
      },
      {
        "duration": 56,
        "start_time": "2022-01-16T17:53:39.174Z"
      },
      {
        "duration": 4,
        "start_time": "2022-01-16T17:53:39.232Z"
      },
      {
        "duration": 5,
        "start_time": "2022-01-16T17:53:39.238Z"
      },
      {
        "duration": 4,
        "start_time": "2022-01-16T17:53:39.245Z"
      },
      {
        "duration": 5,
        "start_time": "2022-01-16T17:53:39.251Z"
      },
      {
        "duration": 13,
        "start_time": "2022-01-16T17:53:39.291Z"
      },
      {
        "duration": 7,
        "start_time": "2022-01-16T17:53:39.305Z"
      },
      {
        "duration": 5,
        "start_time": "2022-01-16T17:53:39.315Z"
      },
      {
        "duration": 21,
        "start_time": "2022-01-16T17:53:39.322Z"
      },
      {
        "duration": 5,
        "start_time": "2022-01-16T17:53:39.344Z"
      },
      {
        "duration": 7,
        "start_time": "2022-01-16T17:53:39.350Z"
      },
      {
        "duration": 36,
        "start_time": "2022-01-16T17:53:39.359Z"
      },
      {
        "duration": 34,
        "start_time": "2022-01-16T17:53:39.396Z"
      },
      {
        "duration": 6,
        "start_time": "2022-01-16T17:53:39.431Z"
      },
      {
        "duration": 6,
        "start_time": "2022-01-16T17:53:39.438Z"
      },
      {
        "duration": 16,
        "start_time": "2022-01-16T17:53:39.445Z"
      },
      {
        "duration": 7,
        "start_time": "2022-01-16T17:53:39.490Z"
      },
      {
        "duration": 8479,
        "start_time": "2022-01-16T17:53:39.499Z"
      },
      {
        "duration": 650,
        "start_time": "2022-01-16T17:53:47.980Z"
      },
      {
        "duration": 681,
        "start_time": "2022-01-16T17:53:48.632Z"
      },
      {
        "duration": 628,
        "start_time": "2022-01-16T17:53:49.314Z"
      },
      {
        "duration": 574,
        "start_time": "2022-01-16T17:53:49.943Z"
      },
      {
        "duration": 726,
        "start_time": "2022-01-16T17:53:50.520Z"
      },
      {
        "duration": 61,
        "start_time": "2022-01-16T17:56:53.989Z"
      },
      {
        "duration": 61,
        "start_time": "2022-01-16T17:56:58.138Z"
      },
      {
        "duration": 54,
        "start_time": "2022-01-16T17:57:01.908Z"
      },
      {
        "duration": 739,
        "start_time": "2022-01-16T18:06:06.279Z"
      },
      {
        "duration": 749,
        "start_time": "2022-01-16T18:06:19.693Z"
      },
      {
        "duration": 57,
        "start_time": "2022-01-16T18:06:27.897Z"
      },
      {
        "duration": 4,
        "start_time": "2022-01-16T18:06:27.956Z"
      },
      {
        "duration": 7,
        "start_time": "2022-01-16T18:06:27.962Z"
      },
      {
        "duration": 21,
        "start_time": "2022-01-16T18:06:27.971Z"
      },
      {
        "duration": 6,
        "start_time": "2022-01-16T18:06:27.994Z"
      },
      {
        "duration": 13,
        "start_time": "2022-01-16T18:06:28.002Z"
      },
      {
        "duration": 5,
        "start_time": "2022-01-16T18:06:28.017Z"
      },
      {
        "duration": 7,
        "start_time": "2022-01-16T18:06:28.025Z"
      },
      {
        "duration": 16,
        "start_time": "2022-01-16T18:06:28.034Z"
      },
      {
        "duration": 42,
        "start_time": "2022-01-16T18:06:28.052Z"
      },
      {
        "duration": 7,
        "start_time": "2022-01-16T18:06:28.095Z"
      },
      {
        "duration": 8,
        "start_time": "2022-01-16T18:06:28.104Z"
      },
      {
        "duration": 34,
        "start_time": "2022-01-16T18:06:28.113Z"
      },
      {
        "duration": 6,
        "start_time": "2022-01-16T18:06:28.149Z"
      },
      {
        "duration": 3,
        "start_time": "2022-01-16T18:06:28.157Z"
      },
      {
        "duration": 15,
        "start_time": "2022-01-16T18:06:28.192Z"
      },
      {
        "duration": 5,
        "start_time": "2022-01-16T18:06:28.209Z"
      },
      {
        "duration": 8414,
        "start_time": "2022-01-16T18:06:28.216Z"
      },
      {
        "duration": 675,
        "start_time": "2022-01-16T18:06:36.631Z"
      },
      {
        "duration": 613,
        "start_time": "2022-01-16T18:06:37.307Z"
      },
      {
        "duration": 619,
        "start_time": "2022-01-16T18:06:37.922Z"
      },
      {
        "duration": 557,
        "start_time": "2022-01-16T18:06:38.543Z"
      },
      {
        "duration": 753,
        "start_time": "2022-01-16T18:06:54.269Z"
      },
      {
        "duration": 876,
        "start_time": "2022-01-17T14:37:49.504Z"
      },
      {
        "duration": 6,
        "start_time": "2022-01-17T14:37:50.383Z"
      },
      {
        "duration": 12,
        "start_time": "2022-01-17T14:37:50.392Z"
      },
      {
        "duration": 25,
        "start_time": "2022-01-17T14:37:50.408Z"
      },
      {
        "duration": 35,
        "start_time": "2022-01-17T14:37:50.436Z"
      },
      {
        "duration": 29,
        "start_time": "2022-01-17T14:37:50.475Z"
      },
      {
        "duration": 34,
        "start_time": "2022-01-17T14:37:50.507Z"
      },
      {
        "duration": 9,
        "start_time": "2022-01-17T14:37:50.544Z"
      },
      {
        "duration": 37,
        "start_time": "2022-01-17T14:37:50.557Z"
      },
      {
        "duration": 8,
        "start_time": "2022-01-17T14:37:50.597Z"
      },
      {
        "duration": 13,
        "start_time": "2022-01-17T14:37:50.608Z"
      },
      {
        "duration": 46,
        "start_time": "2022-01-17T14:37:50.624Z"
      },
      {
        "duration": 51,
        "start_time": "2022-01-17T14:37:50.673Z"
      },
      {
        "duration": 10,
        "start_time": "2022-01-17T14:37:50.727Z"
      },
      {
        "duration": 31,
        "start_time": "2022-01-17T14:37:50.740Z"
      },
      {
        "duration": 25,
        "start_time": "2022-01-17T14:37:50.774Z"
      },
      {
        "duration": 9,
        "start_time": "2022-01-17T14:37:50.802Z"
      },
      {
        "duration": 775,
        "start_time": "2022-01-17T14:37:50.813Z"
      },
      {
        "duration": -1684,
        "start_time": "2022-01-17T14:37:53.276Z"
      },
      {
        "duration": -1686,
        "start_time": "2022-01-17T14:37:53.279Z"
      },
      {
        "duration": -1700,
        "start_time": "2022-01-17T14:37:53.295Z"
      },
      {
        "duration": -1702,
        "start_time": "2022-01-17T14:37:53.298Z"
      },
      {
        "duration": -1702,
        "start_time": "2022-01-17T14:37:53.300Z"
      },
      {
        "duration": -1704,
        "start_time": "2022-01-17T14:37:53.303Z"
      },
      {
        "duration": -1709,
        "start_time": "2022-01-17T14:37:53.309Z"
      },
      {
        "duration": -1709,
        "start_time": "2022-01-17T14:37:53.311Z"
      },
      {
        "duration": -1710,
        "start_time": "2022-01-17T14:37:53.314Z"
      },
      {
        "duration": -1710,
        "start_time": "2022-01-17T14:37:53.316Z"
      },
      {
        "duration": -1712,
        "start_time": "2022-01-17T14:37:53.319Z"
      },
      {
        "duration": -1712,
        "start_time": "2022-01-17T14:37:53.321Z"
      },
      {
        "duration": -1713,
        "start_time": "2022-01-17T14:37:53.324Z"
      },
      {
        "duration": -1728,
        "start_time": "2022-01-17T14:37:53.341Z"
      },
      {
        "duration": -1729,
        "start_time": "2022-01-17T14:37:53.344Z"
      },
      {
        "duration": -1735,
        "start_time": "2022-01-17T14:37:53.352Z"
      },
      {
        "duration": -1736,
        "start_time": "2022-01-17T14:37:53.354Z"
      },
      {
        "duration": -1737,
        "start_time": "2022-01-17T14:37:53.357Z"
      },
      {
        "duration": -1739,
        "start_time": "2022-01-17T14:37:53.360Z"
      },
      {
        "duration": -1740,
        "start_time": "2022-01-17T14:37:53.362Z"
      },
      {
        "duration": -1740,
        "start_time": "2022-01-17T14:37:53.364Z"
      },
      {
        "duration": -1745,
        "start_time": "2022-01-17T14:37:53.370Z"
      },
      {
        "duration": -1747,
        "start_time": "2022-01-17T14:37:53.373Z"
      },
      {
        "duration": -1748,
        "start_time": "2022-01-17T14:37:53.375Z"
      },
      {
        "duration": -1763,
        "start_time": "2022-01-17T14:37:53.392Z"
      },
      {
        "duration": -1733,
        "start_time": "2022-01-17T14:37:53.402Z"
      },
      {
        "duration": -1733,
        "start_time": "2022-01-17T14:37:53.405Z"
      },
      {
        "duration": -1734,
        "start_time": "2022-01-17T14:37:53.407Z"
      },
      {
        "duration": -1735,
        "start_time": "2022-01-17T14:37:53.410Z"
      },
      {
        "duration": -1736,
        "start_time": "2022-01-17T14:37:53.412Z"
      },
      {
        "duration": -1737,
        "start_time": "2022-01-17T14:37:53.414Z"
      },
      {
        "duration": -1738,
        "start_time": "2022-01-17T14:37:53.416Z"
      },
      {
        "duration": -1739,
        "start_time": "2022-01-17T14:37:53.419Z"
      },
      {
        "duration": -1740,
        "start_time": "2022-01-17T14:37:53.421Z"
      },
      {
        "duration": -1741,
        "start_time": "2022-01-17T14:37:53.424Z"
      },
      {
        "duration": 1423,
        "start_time": "2022-01-17T14:38:27.800Z"
      },
      {
        "duration": 634,
        "start_time": "2022-01-17T14:38:29.226Z"
      },
      {
        "duration": 658,
        "start_time": "2022-01-17T14:38:42.570Z"
      },
      {
        "duration": 511,
        "start_time": "2022-01-17T14:38:46.743Z"
      },
      {
        "duration": 828,
        "start_time": "2022-01-17T14:38:53.862Z"
      },
      {
        "duration": 10,
        "start_time": "2022-01-17T14:40:07.834Z"
      },
      {
        "duration": 5943,
        "start_time": "2022-01-17T14:40:08.169Z"
      },
      {
        "duration": 8,
        "start_time": "2022-01-17T14:40:14.115Z"
      },
      {
        "duration": 442,
        "start_time": "2022-01-17T14:40:14.126Z"
      },
      {
        "duration": -1702,
        "start_time": "2022-01-17T14:40:16.273Z"
      },
      {
        "duration": -1705,
        "start_time": "2022-01-17T14:40:16.278Z"
      },
      {
        "duration": 9,
        "start_time": "2022-01-17T14:40:29.919Z"
      },
      {
        "duration": 22,
        "start_time": "2022-01-17T14:40:30.877Z"
      },
      {
        "duration": 23,
        "start_time": "2022-01-17T14:40:31.234Z"
      },
      {
        "duration": 7,
        "start_time": "2022-01-17T14:40:31.707Z"
      },
      {
        "duration": 58,
        "start_time": "2022-01-17T14:40:32.403Z"
      },
      {
        "duration": 28,
        "start_time": "2022-01-17T14:40:36.406Z"
      },
      {
        "duration": 25,
        "start_time": "2022-01-17T14:40:36.666Z"
      },
      {
        "duration": 9,
        "start_time": "2022-01-17T14:40:47.597Z"
      },
      {
        "duration": 6,
        "start_time": "2022-01-17T14:40:47.936Z"
      },
      {
        "duration": 301,
        "start_time": "2022-01-17T14:40:48.123Z"
      },
      {
        "duration": 5969,
        "start_time": "2022-01-17T14:40:48.460Z"
      },
      {
        "duration": 4,
        "start_time": "2022-01-17T14:40:54.433Z"
      },
      {
        "duration": 40,
        "start_time": "2022-01-17T14:40:54.441Z"
      },
      {
        "duration": 23,
        "start_time": "2022-01-17T14:40:54.485Z"
      },
      {
        "duration": 73,
        "start_time": "2022-01-17T14:40:54.511Z"
      },
      {
        "duration": 28,
        "start_time": "2022-01-17T14:40:54.587Z"
      },
      {
        "duration": 75,
        "start_time": "2022-01-17T14:40:54.618Z"
      },
      {
        "duration": 34,
        "start_time": "2022-01-17T14:40:54.696Z"
      },
      {
        "duration": 87,
        "start_time": "2022-01-17T14:40:54.733Z"
      },
      {
        "duration": 14,
        "start_time": "2022-01-17T14:40:54.823Z"
      },
      {
        "duration": 40,
        "start_time": "2022-01-17T14:40:54.841Z"
      },
      {
        "duration": 56,
        "start_time": "2022-01-17T14:40:54.884Z"
      },
      {
        "duration": 117,
        "start_time": "2022-01-17T14:40:54.942Z"
      },
      {
        "duration": 2076,
        "start_time": "2022-01-17T14:40:55.074Z"
      },
      {
        "duration": -1696,
        "start_time": "2022-01-17T14:40:58.850Z"
      },
      {
        "duration": -1698,
        "start_time": "2022-01-17T14:40:58.853Z"
      },
      {
        "duration": 34,
        "start_time": "2022-01-17T14:42:38.140Z"
      },
      {
        "duration": 72,
        "start_time": "2022-01-17T14:42:38.305Z"
      },
      {
        "duration": 843,
        "start_time": "2022-01-17T15:27:55.838Z"
      },
      {
        "duration": 6,
        "start_time": "2022-01-17T15:27:56.684Z"
      },
      {
        "duration": 6,
        "start_time": "2022-01-17T15:27:56.693Z"
      },
      {
        "duration": 14,
        "start_time": "2022-01-17T15:27:56.702Z"
      },
      {
        "duration": 9,
        "start_time": "2022-01-17T15:27:56.718Z"
      },
      {
        "duration": 23,
        "start_time": "2022-01-17T15:27:56.730Z"
      },
      {
        "duration": 8,
        "start_time": "2022-01-17T15:27:56.755Z"
      },
      {
        "duration": 13,
        "start_time": "2022-01-17T15:27:56.766Z"
      },
      {
        "duration": 29,
        "start_time": "2022-01-17T15:27:56.781Z"
      },
      {
        "duration": 8,
        "start_time": "2022-01-17T15:27:56.813Z"
      },
      {
        "duration": 11,
        "start_time": "2022-01-17T15:27:56.823Z"
      },
      {
        "duration": 10,
        "start_time": "2022-01-17T15:27:56.837Z"
      },
      {
        "duration": 52,
        "start_time": "2022-01-17T15:27:56.850Z"
      },
      {
        "duration": 8,
        "start_time": "2022-01-17T15:27:56.905Z"
      },
      {
        "duration": 3,
        "start_time": "2022-01-17T15:27:56.916Z"
      },
      {
        "duration": 31,
        "start_time": "2022-01-17T15:27:56.921Z"
      },
      {
        "duration": 8,
        "start_time": "2022-01-17T15:27:56.954Z"
      },
      {
        "duration": 531,
        "start_time": "2022-01-17T15:28:04.272Z"
      },
      {
        "duration": 12673,
        "start_time": "2022-01-17T15:34:27.623Z"
      },
      {
        "duration": 76,
        "start_time": "2022-01-17T15:34:40.639Z"
      },
      {
        "duration": 14,
        "start_time": "2022-01-17T15:34:40.718Z"
      },
      {
        "duration": 5,
        "start_time": "2022-01-17T15:34:40.735Z"
      },
      {
        "duration": 8,
        "start_time": "2022-01-17T15:34:40.743Z"
      },
      {
        "duration": 10,
        "start_time": "2022-01-17T15:34:40.753Z"
      },
      {
        "duration": 29,
        "start_time": "2022-01-17T15:34:40.766Z"
      },
      {
        "duration": 40,
        "start_time": "2022-01-17T15:34:40.797Z"
      },
      {
        "duration": 8,
        "start_time": "2022-01-17T15:34:40.841Z"
      },
      {
        "duration": 27,
        "start_time": "2022-01-17T15:34:40.851Z"
      },
      {
        "duration": 12,
        "start_time": "2022-01-17T15:34:40.880Z"
      },
      {
        "duration": 38,
        "start_time": "2022-01-17T15:34:40.894Z"
      },
      {
        "duration": 10,
        "start_time": "2022-01-17T15:34:40.935Z"
      },
      {
        "duration": 46,
        "start_time": "2022-01-17T15:34:40.947Z"
      },
      {
        "duration": 7,
        "start_time": "2022-01-17T15:34:40.995Z"
      },
      {
        "duration": 29,
        "start_time": "2022-01-17T15:34:41.004Z"
      },
      {
        "duration": 27,
        "start_time": "2022-01-17T15:34:41.036Z"
      },
      {
        "duration": 8,
        "start_time": "2022-01-17T15:34:41.065Z"
      },
      {
        "duration": 12603,
        "start_time": "2022-01-17T15:34:49.149Z"
      },
      {
        "duration": 75,
        "start_time": "2022-01-17T15:38:46.654Z"
      },
      {
        "duration": 4,
        "start_time": "2022-01-17T15:38:46.732Z"
      },
      {
        "duration": 33,
        "start_time": "2022-01-17T15:38:46.740Z"
      },
      {
        "duration": 18,
        "start_time": "2022-01-17T15:38:46.776Z"
      },
      {
        "duration": 12,
        "start_time": "2022-01-17T15:38:46.797Z"
      },
      {
        "duration": 34,
        "start_time": "2022-01-17T15:38:46.812Z"
      },
      {
        "duration": 14,
        "start_time": "2022-01-17T15:38:46.849Z"
      },
      {
        "duration": 7,
        "start_time": "2022-01-17T15:38:46.867Z"
      },
      {
        "duration": 56,
        "start_time": "2022-01-17T15:38:46.877Z"
      },
      {
        "duration": 7,
        "start_time": "2022-01-17T15:38:46.935Z"
      },
      {
        "duration": 10,
        "start_time": "2022-01-17T15:38:46.945Z"
      },
      {
        "duration": 11,
        "start_time": "2022-01-17T15:38:46.958Z"
      },
      {
        "duration": 89,
        "start_time": "2022-01-17T15:38:46.971Z"
      },
      {
        "duration": 7,
        "start_time": "2022-01-17T15:38:47.063Z"
      },
      {
        "duration": 16,
        "start_time": "2022-01-17T15:38:47.072Z"
      },
      {
        "duration": 26,
        "start_time": "2022-01-17T15:38:47.090Z"
      },
      {
        "duration": 21,
        "start_time": "2022-01-17T15:38:47.119Z"
      },
      {
        "duration": 12998,
        "start_time": "2022-01-17T15:38:47.143Z"
      },
      {
        "duration": 1336,
        "start_time": "2022-01-17T15:39:00.143Z"
      },
      {
        "duration": 660,
        "start_time": "2022-01-17T15:39:01.482Z"
      },
      {
        "duration": 693,
        "start_time": "2022-01-17T15:39:02.144Z"
      },
      {
        "duration": 472,
        "start_time": "2022-01-17T15:39:02.840Z"
      },
      {
        "duration": 792,
        "start_time": "2022-01-17T15:39:03.316Z"
      },
      {
        "duration": 23,
        "start_time": "2022-01-17T15:39:04.111Z"
      },
      {
        "duration": 5654,
        "start_time": "2022-01-17T15:39:04.137Z"
      },
      {
        "duration": 8,
        "start_time": "2022-01-17T15:39:09.793Z"
      },
      {
        "duration": 43,
        "start_time": "2022-01-17T15:39:09.803Z"
      },
      {
        "duration": 74,
        "start_time": "2022-01-17T15:42:05.061Z"
      },
      {
        "duration": 4,
        "start_time": "2022-01-17T15:42:05.138Z"
      },
      {
        "duration": 10,
        "start_time": "2022-01-17T15:42:05.145Z"
      },
      {
        "duration": 8,
        "start_time": "2022-01-17T15:42:05.157Z"
      },
      {
        "duration": 9,
        "start_time": "2022-01-17T15:42:05.167Z"
      },
      {
        "duration": 55,
        "start_time": "2022-01-17T15:42:05.178Z"
      },
      {
        "duration": 6,
        "start_time": "2022-01-17T15:42:05.235Z"
      },
      {
        "duration": 8,
        "start_time": "2022-01-17T15:42:05.245Z"
      },
      {
        "duration": 23,
        "start_time": "2022-01-17T15:42:05.256Z"
      },
      {
        "duration": 53,
        "start_time": "2022-01-17T15:42:05.282Z"
      },
      {
        "duration": 13,
        "start_time": "2022-01-17T15:42:05.337Z"
      },
      {
        "duration": 13,
        "start_time": "2022-01-17T15:42:05.353Z"
      },
      {
        "duration": 94,
        "start_time": "2022-01-17T15:42:05.369Z"
      },
      {
        "duration": 8,
        "start_time": "2022-01-17T15:42:05.466Z"
      },
      {
        "duration": 5,
        "start_time": "2022-01-17T15:42:05.477Z"
      },
      {
        "duration": 49,
        "start_time": "2022-01-17T15:42:05.485Z"
      },
      {
        "duration": 8,
        "start_time": "2022-01-17T15:42:05.536Z"
      },
      {
        "duration": 12715,
        "start_time": "2022-01-17T15:42:05.547Z"
      },
      {
        "duration": 679,
        "start_time": "2022-01-17T15:42:18.265Z"
      },
      {
        "duration": 668,
        "start_time": "2022-01-17T15:42:18.947Z"
      },
      {
        "duration": 610,
        "start_time": "2022-01-17T15:42:19.617Z"
      },
      {
        "duration": 468,
        "start_time": "2022-01-17T15:42:20.232Z"
      },
      {
        "duration": 849,
        "start_time": "2022-01-17T15:42:20.705Z"
      },
      {
        "duration": 10,
        "start_time": "2022-01-17T15:42:21.557Z"
      },
      {
        "duration": 5689,
        "start_time": "2022-01-17T15:42:21.569Z"
      },
      {
        "duration": 6,
        "start_time": "2022-01-17T15:42:27.260Z"
      },
      {
        "duration": 19,
        "start_time": "2022-01-17T15:42:27.269Z"
      },
      {
        "duration": 8,
        "start_time": "2022-01-17T15:42:27.291Z"
      },
      {
        "duration": 22,
        "start_time": "2022-01-17T15:42:27.331Z"
      },
      {
        "duration": 22,
        "start_time": "2022-01-17T15:42:27.355Z"
      },
      {
        "duration": 8,
        "start_time": "2022-01-17T15:42:27.379Z"
      },
      {
        "duration": 82,
        "start_time": "2022-01-17T15:42:27.389Z"
      },
      {
        "duration": 27,
        "start_time": "2022-01-17T15:42:27.473Z"
      },
      {
        "duration": 46,
        "start_time": "2022-01-17T15:42:27.502Z"
      },
      {
        "duration": 9,
        "start_time": "2022-01-17T15:42:27.551Z"
      },
      {
        "duration": 9,
        "start_time": "2022-01-17T15:42:27.563Z"
      },
      {
        "duration": 336,
        "start_time": "2022-01-17T15:42:27.574Z"
      },
      {
        "duration": 4783,
        "start_time": "2022-01-17T15:42:27.913Z"
      },
      {
        "duration": 3,
        "start_time": "2022-01-17T15:42:32.699Z"
      },
      {
        "duration": 37,
        "start_time": "2022-01-17T15:42:32.705Z"
      },
      {
        "duration": 16,
        "start_time": "2022-01-17T15:42:32.745Z"
      },
      {
        "duration": 32,
        "start_time": "2022-01-17T15:42:32.763Z"
      },
      {
        "duration": 55,
        "start_time": "2022-01-17T15:42:32.798Z"
      },
      {
        "duration": 38,
        "start_time": "2022-01-17T15:42:32.855Z"
      },
      {
        "duration": 58,
        "start_time": "2022-01-17T15:42:32.895Z"
      },
      {
        "duration": 77,
        "start_time": "2022-01-17T15:42:32.956Z"
      },
      {
        "duration": 14,
        "start_time": "2022-01-17T15:42:33.036Z"
      },
      {
        "duration": 18,
        "start_time": "2022-01-17T15:42:33.052Z"
      },
      {
        "duration": 38,
        "start_time": "2022-01-17T15:42:33.072Z"
      },
      {
        "duration": 83,
        "start_time": "2022-01-17T15:42:33.132Z"
      },
      {
        "duration": 1524,
        "start_time": "2022-01-17T15:43:53.963Z"
      },
      {
        "duration": 831,
        "start_time": "2022-01-17T15:46:17.800Z"
      },
      {
        "duration": 6,
        "start_time": "2022-01-17T15:46:18.634Z"
      },
      {
        "duration": 7,
        "start_time": "2022-01-17T15:46:18.643Z"
      },
      {
        "duration": 13,
        "start_time": "2022-01-17T15:46:18.653Z"
      },
      {
        "duration": 10,
        "start_time": "2022-01-17T15:46:18.668Z"
      },
      {
        "duration": 61,
        "start_time": "2022-01-17T15:46:18.680Z"
      },
      {
        "duration": 11,
        "start_time": "2022-01-17T15:46:18.743Z"
      },
      {
        "duration": 10,
        "start_time": "2022-01-17T15:46:18.760Z"
      },
      {
        "duration": 26,
        "start_time": "2022-01-17T15:46:18.774Z"
      },
      {
        "duration": 9,
        "start_time": "2022-01-17T15:46:18.833Z"
      },
      {
        "duration": 10,
        "start_time": "2022-01-17T15:46:18.845Z"
      },
      {
        "duration": 10,
        "start_time": "2022-01-17T15:46:18.857Z"
      },
      {
        "duration": 89,
        "start_time": "2022-01-17T15:46:18.869Z"
      },
      {
        "duration": 10,
        "start_time": "2022-01-17T15:46:18.961Z"
      },
      {
        "duration": 4,
        "start_time": "2022-01-17T15:46:18.973Z"
      },
      {
        "duration": 54,
        "start_time": "2022-01-17T15:46:18.980Z"
      },
      {
        "duration": 9,
        "start_time": "2022-01-17T15:46:19.036Z"
      },
      {
        "duration": 12547,
        "start_time": "2022-01-17T15:46:19.048Z"
      },
      {
        "duration": 1298,
        "start_time": "2022-01-17T15:46:31.597Z"
      },
      {
        "duration": 621,
        "start_time": "2022-01-17T15:46:32.898Z"
      },
      {
        "duration": 639,
        "start_time": "2022-01-17T15:46:33.522Z"
      },
      {
        "duration": 534,
        "start_time": "2022-01-17T15:46:34.163Z"
      },
      {
        "duration": 762,
        "start_time": "2022-01-17T15:46:34.702Z"
      },
      {
        "duration": 12,
        "start_time": "2022-01-17T15:46:35.467Z"
      },
      {
        "duration": 5751,
        "start_time": "2022-01-17T15:46:35.481Z"
      },
      {
        "duration": 7,
        "start_time": "2022-01-17T15:46:41.234Z"
      },
      {
        "duration": 22,
        "start_time": "2022-01-17T15:46:41.244Z"
      },
      {
        "duration": 10,
        "start_time": "2022-01-17T15:46:41.269Z"
      },
      {
        "duration": 62,
        "start_time": "2022-01-17T15:46:41.282Z"
      },
      {
        "duration": 24,
        "start_time": "2022-01-17T15:46:41.347Z"
      },
      {
        "duration": 10,
        "start_time": "2022-01-17T15:46:41.374Z"
      },
      {
        "duration": 81,
        "start_time": "2022-01-17T15:46:41.386Z"
      },
      {
        "duration": 29,
        "start_time": "2022-01-17T15:46:41.470Z"
      },
      {
        "duration": 40,
        "start_time": "2022-01-17T15:46:41.501Z"
      },
      {
        "duration": 9,
        "start_time": "2022-01-17T15:46:41.544Z"
      },
      {
        "duration": 8,
        "start_time": "2022-01-17T15:46:41.555Z"
      },
      {
        "duration": 278,
        "start_time": "2022-01-17T15:46:41.565Z"
      },
      {
        "duration": 4934,
        "start_time": "2022-01-17T15:46:41.845Z"
      },
      {
        "duration": 4,
        "start_time": "2022-01-17T15:46:46.782Z"
      },
      {
        "duration": 32,
        "start_time": "2022-01-17T15:46:46.788Z"
      },
      {
        "duration": 25,
        "start_time": "2022-01-17T15:46:46.823Z"
      },
      {
        "duration": 33,
        "start_time": "2022-01-17T15:46:46.850Z"
      },
      {
        "duration": 64,
        "start_time": "2022-01-17T15:46:46.886Z"
      },
      {
        "duration": 39,
        "start_time": "2022-01-17T15:46:46.953Z"
      },
      {
        "duration": 60,
        "start_time": "2022-01-17T15:46:46.995Z"
      },
      {
        "duration": 77,
        "start_time": "2022-01-17T15:46:47.058Z"
      },
      {
        "duration": 13,
        "start_time": "2022-01-17T15:46:47.137Z"
      },
      {
        "duration": 14,
        "start_time": "2022-01-17T15:46:47.152Z"
      },
      {
        "duration": 38,
        "start_time": "2022-01-17T15:46:47.168Z"
      },
      {
        "duration": 100,
        "start_time": "2022-01-17T15:46:47.209Z"
      },
      {
        "duration": 1386,
        "start_time": "2022-01-17T15:46:47.311Z"
      },
      {
        "duration": 52,
        "start_time": "2022-01-17T15:46:48.699Z"
      },
      {
        "duration": 79,
        "start_time": "2022-01-17T15:46:48.754Z"
      },
      {
        "duration": 851,
        "start_time": "2022-01-18T17:46:38.798Z"
      },
      {
        "duration": 5,
        "start_time": "2022-01-18T17:46:39.653Z"
      },
      {
        "duration": 18,
        "start_time": "2022-01-18T17:46:39.660Z"
      },
      {
        "duration": 30,
        "start_time": "2022-01-18T17:46:39.681Z"
      },
      {
        "duration": 12,
        "start_time": "2022-01-18T17:46:39.714Z"
      },
      {
        "duration": 22,
        "start_time": "2022-01-18T17:46:39.732Z"
      },
      {
        "duration": 16,
        "start_time": "2022-01-18T17:46:39.756Z"
      },
      {
        "duration": 14,
        "start_time": "2022-01-18T17:46:39.776Z"
      },
      {
        "duration": 44,
        "start_time": "2022-01-18T17:46:39.793Z"
      },
      {
        "duration": 8,
        "start_time": "2022-01-18T17:46:39.840Z"
      },
      {
        "duration": 21,
        "start_time": "2022-01-18T17:46:39.850Z"
      },
      {
        "duration": 11,
        "start_time": "2022-01-18T17:46:39.874Z"
      },
      {
        "duration": 68,
        "start_time": "2022-01-18T17:46:39.887Z"
      },
      {
        "duration": 8,
        "start_time": "2022-01-18T17:46:39.957Z"
      },
      {
        "duration": 8,
        "start_time": "2022-01-18T17:46:39.967Z"
      },
      {
        "duration": 27,
        "start_time": "2022-01-18T17:46:39.977Z"
      },
      {
        "duration": 28,
        "start_time": "2022-01-18T17:46:40.007Z"
      },
      {
        "duration": 13061,
        "start_time": "2022-01-18T17:46:40.038Z"
      },
      {
        "duration": 1272,
        "start_time": "2022-01-18T17:46:53.102Z"
      },
      {
        "duration": 627,
        "start_time": "2022-01-18T17:46:54.377Z"
      },
      {
        "duration": 605,
        "start_time": "2022-01-18T17:46:55.007Z"
      },
      {
        "duration": 481,
        "start_time": "2022-01-18T17:46:55.614Z"
      },
      {
        "duration": 758,
        "start_time": "2022-01-18T17:46:56.100Z"
      },
      {
        "duration": 11,
        "start_time": "2022-01-18T17:46:56.861Z"
      },
      {
        "duration": 5665,
        "start_time": "2022-01-18T17:46:56.875Z"
      },
      {
        "duration": 7,
        "start_time": "2022-01-18T17:47:02.543Z"
      },
      {
        "duration": 20,
        "start_time": "2022-01-18T17:47:02.552Z"
      },
      {
        "duration": 9,
        "start_time": "2022-01-18T17:47:02.575Z"
      },
      {
        "duration": 52,
        "start_time": "2022-01-18T17:47:02.587Z"
      },
      {
        "duration": 22,
        "start_time": "2022-01-18T17:47:02.641Z"
      },
      {
        "duration": 10,
        "start_time": "2022-01-18T17:47:02.666Z"
      },
      {
        "duration": 85,
        "start_time": "2022-01-18T17:47:02.678Z"
      },
      {
        "duration": 48,
        "start_time": "2022-01-18T17:47:21.462Z"
      },
      {
        "duration": 19,
        "start_time": "2022-01-18T17:58:11.480Z"
      }
    ],
    "kernelspec": {
      "display_name": "Python 3 (ipykernel)",
      "language": "python",
      "name": "python3"
    },
    "language_info": {
      "codemirror_mode": {
        "name": "ipython",
        "version": 3
      },
      "file_extension": ".py",
      "mimetype": "text/x-python",
      "name": "python",
      "nbconvert_exporter": "python",
      "pygments_lexer": "ipython3",
      "version": "3.9.5"
    },
    "toc": {
      "base_numbering": 1,
      "nav_menu": {
        "height": "284px",
        "width": "456px"
      },
      "number_sections": true,
      "sideBar": true,
      "skip_h1_title": true,
      "title_cell": "Table of Contents",
      "title_sidebar": "Contents",
      "toc_cell": false,
      "toc_position": {},
      "toc_section_display": true,
      "toc_window_display": false
    },
    "colab": {
      "provenance": []
    }
  },
  "nbformat": 4,
  "nbformat_minor": 0
}